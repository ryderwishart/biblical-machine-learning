{
  "nbformat": 4,
  "nbformat_minor": 0,
  "metadata": {
    "colab": {
      "provenance": [],
      "include_colab_link": true
    },
    "kernelspec": {
      "name": "python3",
      "display_name": "Python 3"
    },
    "language_info": {
      "name": "python"
    },
    "widgets": {
      "application/vnd.jupyter.widget-state+json": {
        "01187493cb9a4213bfcc40cc5c146d3a": {
          "model_module": "@jupyter-widgets/controls",
          "model_name": "HBoxModel",
          "model_module_version": "1.5.0",
          "state": {
            "_dom_classes": [],
            "_model_module": "@jupyter-widgets/controls",
            "_model_module_version": "1.5.0",
            "_model_name": "HBoxModel",
            "_view_count": null,
            "_view_module": "@jupyter-widgets/controls",
            "_view_module_version": "1.5.0",
            "_view_name": "HBoxView",
            "box_style": "",
            "children": [
              "IPY_MODEL_8fa0478fda9949ae81d0fe4dd53def8a",
              "IPY_MODEL_5b626c1887cd4c4fbb6c5d8da8b945c6",
              "IPY_MODEL_4a9e1ecf0aa94e689575175e79c3aa96"
            ],
            "layout": "IPY_MODEL_d8a6e86ea4c24346af3a6dc9be4002cc"
          }
        },
        "8fa0478fda9949ae81d0fe4dd53def8a": {
          "model_module": "@jupyter-widgets/controls",
          "model_name": "HTMLModel",
          "model_module_version": "1.5.0",
          "state": {
            "_dom_classes": [],
            "_model_module": "@jupyter-widgets/controls",
            "_model_module_version": "1.5.0",
            "_model_name": "HTMLModel",
            "_view_count": null,
            "_view_module": "@jupyter-widgets/controls",
            "_view_module_version": "1.5.0",
            "_view_name": "HTMLView",
            "description": "",
            "description_tooltip": null,
            "layout": "IPY_MODEL_4f5ea18837f74b1dbe0201abd948a37e",
            "placeholder": "​",
            "style": "IPY_MODEL_648424ac15914aa3a3174df06cf3ce34",
            "value": "100%"
          }
        },
        "5b626c1887cd4c4fbb6c5d8da8b945c6": {
          "model_module": "@jupyter-widgets/controls",
          "model_name": "FloatProgressModel",
          "model_module_version": "1.5.0",
          "state": {
            "_dom_classes": [],
            "_model_module": "@jupyter-widgets/controls",
            "_model_module_version": "1.5.0",
            "_model_name": "FloatProgressModel",
            "_view_count": null,
            "_view_module": "@jupyter-widgets/controls",
            "_view_module_version": "1.5.0",
            "_view_name": "ProgressView",
            "bar_style": "success",
            "description": "",
            "description_tooltip": null,
            "layout": "IPY_MODEL_4789a0c141b64b3d8e46d5066ebb7ebc",
            "max": 3,
            "min": 0,
            "orientation": "horizontal",
            "style": "IPY_MODEL_9670b22e67bf4c1cb200de918179df22",
            "value": 3
          }
        },
        "4a9e1ecf0aa94e689575175e79c3aa96": {
          "model_module": "@jupyter-widgets/controls",
          "model_name": "HTMLModel",
          "model_module_version": "1.5.0",
          "state": {
            "_dom_classes": [],
            "_model_module": "@jupyter-widgets/controls",
            "_model_module_version": "1.5.0",
            "_model_name": "HTMLModel",
            "_view_count": null,
            "_view_module": "@jupyter-widgets/controls",
            "_view_module_version": "1.5.0",
            "_view_name": "HTMLView",
            "description": "",
            "description_tooltip": null,
            "layout": "IPY_MODEL_5c15766882a749a2b38b6f2204444308",
            "placeholder": "​",
            "style": "IPY_MODEL_41eda36bf0c04d2fb1f1f3811febdb78",
            "value": " 3/3 [00:00&lt;00:00, 96.24it/s]"
          }
        },
        "d8a6e86ea4c24346af3a6dc9be4002cc": {
          "model_module": "@jupyter-widgets/base",
          "model_name": "LayoutModel",
          "model_module_version": "1.2.0",
          "state": {
            "_model_module": "@jupyter-widgets/base",
            "_model_module_version": "1.2.0",
            "_model_name": "LayoutModel",
            "_view_count": null,
            "_view_module": "@jupyter-widgets/base",
            "_view_module_version": "1.2.0",
            "_view_name": "LayoutView",
            "align_content": null,
            "align_items": null,
            "align_self": null,
            "border": null,
            "bottom": null,
            "display": null,
            "flex": null,
            "flex_flow": null,
            "grid_area": null,
            "grid_auto_columns": null,
            "grid_auto_flow": null,
            "grid_auto_rows": null,
            "grid_column": null,
            "grid_gap": null,
            "grid_row": null,
            "grid_template_areas": null,
            "grid_template_columns": null,
            "grid_template_rows": null,
            "height": null,
            "justify_content": null,
            "justify_items": null,
            "left": null,
            "margin": null,
            "max_height": null,
            "max_width": null,
            "min_height": null,
            "min_width": null,
            "object_fit": null,
            "object_position": null,
            "order": null,
            "overflow": null,
            "overflow_x": null,
            "overflow_y": null,
            "padding": null,
            "right": null,
            "top": null,
            "visibility": null,
            "width": null
          }
        },
        "4f5ea18837f74b1dbe0201abd948a37e": {
          "model_module": "@jupyter-widgets/base",
          "model_name": "LayoutModel",
          "model_module_version": "1.2.0",
          "state": {
            "_model_module": "@jupyter-widgets/base",
            "_model_module_version": "1.2.0",
            "_model_name": "LayoutModel",
            "_view_count": null,
            "_view_module": "@jupyter-widgets/base",
            "_view_module_version": "1.2.0",
            "_view_name": "LayoutView",
            "align_content": null,
            "align_items": null,
            "align_self": null,
            "border": null,
            "bottom": null,
            "display": null,
            "flex": null,
            "flex_flow": null,
            "grid_area": null,
            "grid_auto_columns": null,
            "grid_auto_flow": null,
            "grid_auto_rows": null,
            "grid_column": null,
            "grid_gap": null,
            "grid_row": null,
            "grid_template_areas": null,
            "grid_template_columns": null,
            "grid_template_rows": null,
            "height": null,
            "justify_content": null,
            "justify_items": null,
            "left": null,
            "margin": null,
            "max_height": null,
            "max_width": null,
            "min_height": null,
            "min_width": null,
            "object_fit": null,
            "object_position": null,
            "order": null,
            "overflow": null,
            "overflow_x": null,
            "overflow_y": null,
            "padding": null,
            "right": null,
            "top": null,
            "visibility": null,
            "width": null
          }
        },
        "648424ac15914aa3a3174df06cf3ce34": {
          "model_module": "@jupyter-widgets/controls",
          "model_name": "DescriptionStyleModel",
          "model_module_version": "1.5.0",
          "state": {
            "_model_module": "@jupyter-widgets/controls",
            "_model_module_version": "1.5.0",
            "_model_name": "DescriptionStyleModel",
            "_view_count": null,
            "_view_module": "@jupyter-widgets/base",
            "_view_module_version": "1.2.0",
            "_view_name": "StyleView",
            "description_width": ""
          }
        },
        "4789a0c141b64b3d8e46d5066ebb7ebc": {
          "model_module": "@jupyter-widgets/base",
          "model_name": "LayoutModel",
          "model_module_version": "1.2.0",
          "state": {
            "_model_module": "@jupyter-widgets/base",
            "_model_module_version": "1.2.0",
            "_model_name": "LayoutModel",
            "_view_count": null,
            "_view_module": "@jupyter-widgets/base",
            "_view_module_version": "1.2.0",
            "_view_name": "LayoutView",
            "align_content": null,
            "align_items": null,
            "align_self": null,
            "border": null,
            "bottom": null,
            "display": null,
            "flex": null,
            "flex_flow": null,
            "grid_area": null,
            "grid_auto_columns": null,
            "grid_auto_flow": null,
            "grid_auto_rows": null,
            "grid_column": null,
            "grid_gap": null,
            "grid_row": null,
            "grid_template_areas": null,
            "grid_template_columns": null,
            "grid_template_rows": null,
            "height": null,
            "justify_content": null,
            "justify_items": null,
            "left": null,
            "margin": null,
            "max_height": null,
            "max_width": null,
            "min_height": null,
            "min_width": null,
            "object_fit": null,
            "object_position": null,
            "order": null,
            "overflow": null,
            "overflow_x": null,
            "overflow_y": null,
            "padding": null,
            "right": null,
            "top": null,
            "visibility": null,
            "width": null
          }
        },
        "9670b22e67bf4c1cb200de918179df22": {
          "model_module": "@jupyter-widgets/controls",
          "model_name": "ProgressStyleModel",
          "model_module_version": "1.5.0",
          "state": {
            "_model_module": "@jupyter-widgets/controls",
            "_model_module_version": "1.5.0",
            "_model_name": "ProgressStyleModel",
            "_view_count": null,
            "_view_module": "@jupyter-widgets/base",
            "_view_module_version": "1.2.0",
            "_view_name": "StyleView",
            "bar_color": null,
            "description_width": ""
          }
        },
        "5c15766882a749a2b38b6f2204444308": {
          "model_module": "@jupyter-widgets/base",
          "model_name": "LayoutModel",
          "model_module_version": "1.2.0",
          "state": {
            "_model_module": "@jupyter-widgets/base",
            "_model_module_version": "1.2.0",
            "_model_name": "LayoutModel",
            "_view_count": null,
            "_view_module": "@jupyter-widgets/base",
            "_view_module_version": "1.2.0",
            "_view_name": "LayoutView",
            "align_content": null,
            "align_items": null,
            "align_self": null,
            "border": null,
            "bottom": null,
            "display": null,
            "flex": null,
            "flex_flow": null,
            "grid_area": null,
            "grid_auto_columns": null,
            "grid_auto_flow": null,
            "grid_auto_rows": null,
            "grid_column": null,
            "grid_gap": null,
            "grid_row": null,
            "grid_template_areas": null,
            "grid_template_columns": null,
            "grid_template_rows": null,
            "height": null,
            "justify_content": null,
            "justify_items": null,
            "left": null,
            "margin": null,
            "max_height": null,
            "max_width": null,
            "min_height": null,
            "min_width": null,
            "object_fit": null,
            "object_position": null,
            "order": null,
            "overflow": null,
            "overflow_x": null,
            "overflow_y": null,
            "padding": null,
            "right": null,
            "top": null,
            "visibility": null,
            "width": null
          }
        },
        "41eda36bf0c04d2fb1f1f3811febdb78": {
          "model_module": "@jupyter-widgets/controls",
          "model_name": "DescriptionStyleModel",
          "model_module_version": "1.5.0",
          "state": {
            "_model_module": "@jupyter-widgets/controls",
            "_model_module_version": "1.5.0",
            "_model_name": "DescriptionStyleModel",
            "_view_count": null,
            "_view_module": "@jupyter-widgets/base",
            "_view_module_version": "1.2.0",
            "_view_name": "StyleView",
            "description_width": ""
          }
        },
        "fe1e4fe2cd8b4639960ae0fb9a3de599": {
          "model_module": "@jupyter-widgets/controls",
          "model_name": "HBoxModel",
          "model_module_version": "1.5.0",
          "state": {
            "_dom_classes": [],
            "_model_module": "@jupyter-widgets/controls",
            "_model_module_version": "1.5.0",
            "_model_name": "HBoxModel",
            "_view_count": null,
            "_view_module": "@jupyter-widgets/controls",
            "_view_module_version": "1.5.0",
            "_view_name": "HBoxView",
            "box_style": "",
            "children": [
              "IPY_MODEL_2b2c408efa394fdb9f1886d40306d4b9",
              "IPY_MODEL_8bde7c88ff8f44d4bc94af8369938cb5",
              "IPY_MODEL_8de3fb7528844f1fb8ba0bc8ce53059e"
            ],
            "layout": "IPY_MODEL_ff0bd5fdef7e4e91aa2c0529b3a8fe1f"
          }
        },
        "2b2c408efa394fdb9f1886d40306d4b9": {
          "model_module": "@jupyter-widgets/controls",
          "model_name": "HTMLModel",
          "model_module_version": "1.5.0",
          "state": {
            "_dom_classes": [],
            "_model_module": "@jupyter-widgets/controls",
            "_model_module_version": "1.5.0",
            "_model_name": "HTMLModel",
            "_view_count": null,
            "_view_module": "@jupyter-widgets/controls",
            "_view_module_version": "1.5.0",
            "_view_name": "HTMLView",
            "description": "",
            "description_tooltip": null,
            "layout": "IPY_MODEL_098eae46c62d483e8a21ee11ae374e8b",
            "placeholder": "​",
            "style": "IPY_MODEL_b15057c05b9d41d985c97d40f952abf7",
            "value": "Map: 100%"
          }
        },
        "8bde7c88ff8f44d4bc94af8369938cb5": {
          "model_module": "@jupyter-widgets/controls",
          "model_name": "FloatProgressModel",
          "model_module_version": "1.5.0",
          "state": {
            "_dom_classes": [],
            "_model_module": "@jupyter-widgets/controls",
            "_model_module_version": "1.5.0",
            "_model_name": "FloatProgressModel",
            "_view_count": null,
            "_view_module": "@jupyter-widgets/controls",
            "_view_module_version": "1.5.0",
            "_view_name": "ProgressView",
            "bar_style": "",
            "description": "",
            "description_tooltip": null,
            "layout": "IPY_MODEL_da13822a5bd541e491ceb7f74dfe7ac2",
            "max": 993,
            "min": 0,
            "orientation": "horizontal",
            "style": "IPY_MODEL_6736191829ee4b939bdcee6e2e190398",
            "value": 993
          }
        },
        "8de3fb7528844f1fb8ba0bc8ce53059e": {
          "model_module": "@jupyter-widgets/controls",
          "model_name": "HTMLModel",
          "model_module_version": "1.5.0",
          "state": {
            "_dom_classes": [],
            "_model_module": "@jupyter-widgets/controls",
            "_model_module_version": "1.5.0",
            "_model_name": "HTMLModel",
            "_view_count": null,
            "_view_module": "@jupyter-widgets/controls",
            "_view_module_version": "1.5.0",
            "_view_name": "HTMLView",
            "description": "",
            "description_tooltip": null,
            "layout": "IPY_MODEL_cbb6c2b5de1647a08d6d0d3bc13bbb3b",
            "placeholder": "​",
            "style": "IPY_MODEL_b47f05d42ab544459cf3075c1b3ccc09",
            "value": " 993/993 [00:00&lt;00:00, 6753.58 examples/s]"
          }
        },
        "ff0bd5fdef7e4e91aa2c0529b3a8fe1f": {
          "model_module": "@jupyter-widgets/base",
          "model_name": "LayoutModel",
          "model_module_version": "1.2.0",
          "state": {
            "_model_module": "@jupyter-widgets/base",
            "_model_module_version": "1.2.0",
            "_model_name": "LayoutModel",
            "_view_count": null,
            "_view_module": "@jupyter-widgets/base",
            "_view_module_version": "1.2.0",
            "_view_name": "LayoutView",
            "align_content": null,
            "align_items": null,
            "align_self": null,
            "border": null,
            "bottom": null,
            "display": null,
            "flex": null,
            "flex_flow": null,
            "grid_area": null,
            "grid_auto_columns": null,
            "grid_auto_flow": null,
            "grid_auto_rows": null,
            "grid_column": null,
            "grid_gap": null,
            "grid_row": null,
            "grid_template_areas": null,
            "grid_template_columns": null,
            "grid_template_rows": null,
            "height": null,
            "justify_content": null,
            "justify_items": null,
            "left": null,
            "margin": null,
            "max_height": null,
            "max_width": null,
            "min_height": null,
            "min_width": null,
            "object_fit": null,
            "object_position": null,
            "order": null,
            "overflow": null,
            "overflow_x": null,
            "overflow_y": null,
            "padding": null,
            "right": null,
            "top": null,
            "visibility": "hidden",
            "width": null
          }
        },
        "098eae46c62d483e8a21ee11ae374e8b": {
          "model_module": "@jupyter-widgets/base",
          "model_name": "LayoutModel",
          "model_module_version": "1.2.0",
          "state": {
            "_model_module": "@jupyter-widgets/base",
            "_model_module_version": "1.2.0",
            "_model_name": "LayoutModel",
            "_view_count": null,
            "_view_module": "@jupyter-widgets/base",
            "_view_module_version": "1.2.0",
            "_view_name": "LayoutView",
            "align_content": null,
            "align_items": null,
            "align_self": null,
            "border": null,
            "bottom": null,
            "display": null,
            "flex": null,
            "flex_flow": null,
            "grid_area": null,
            "grid_auto_columns": null,
            "grid_auto_flow": null,
            "grid_auto_rows": null,
            "grid_column": null,
            "grid_gap": null,
            "grid_row": null,
            "grid_template_areas": null,
            "grid_template_columns": null,
            "grid_template_rows": null,
            "height": null,
            "justify_content": null,
            "justify_items": null,
            "left": null,
            "margin": null,
            "max_height": null,
            "max_width": null,
            "min_height": null,
            "min_width": null,
            "object_fit": null,
            "object_position": null,
            "order": null,
            "overflow": null,
            "overflow_x": null,
            "overflow_y": null,
            "padding": null,
            "right": null,
            "top": null,
            "visibility": null,
            "width": null
          }
        },
        "b15057c05b9d41d985c97d40f952abf7": {
          "model_module": "@jupyter-widgets/controls",
          "model_name": "DescriptionStyleModel",
          "model_module_version": "1.5.0",
          "state": {
            "_model_module": "@jupyter-widgets/controls",
            "_model_module_version": "1.5.0",
            "_model_name": "DescriptionStyleModel",
            "_view_count": null,
            "_view_module": "@jupyter-widgets/base",
            "_view_module_version": "1.2.0",
            "_view_name": "StyleView",
            "description_width": ""
          }
        },
        "da13822a5bd541e491ceb7f74dfe7ac2": {
          "model_module": "@jupyter-widgets/base",
          "model_name": "LayoutModel",
          "model_module_version": "1.2.0",
          "state": {
            "_model_module": "@jupyter-widgets/base",
            "_model_module_version": "1.2.0",
            "_model_name": "LayoutModel",
            "_view_count": null,
            "_view_module": "@jupyter-widgets/base",
            "_view_module_version": "1.2.0",
            "_view_name": "LayoutView",
            "align_content": null,
            "align_items": null,
            "align_self": null,
            "border": null,
            "bottom": null,
            "display": null,
            "flex": null,
            "flex_flow": null,
            "grid_area": null,
            "grid_auto_columns": null,
            "grid_auto_flow": null,
            "grid_auto_rows": null,
            "grid_column": null,
            "grid_gap": null,
            "grid_row": null,
            "grid_template_areas": null,
            "grid_template_columns": null,
            "grid_template_rows": null,
            "height": null,
            "justify_content": null,
            "justify_items": null,
            "left": null,
            "margin": null,
            "max_height": null,
            "max_width": null,
            "min_height": null,
            "min_width": null,
            "object_fit": null,
            "object_position": null,
            "order": null,
            "overflow": null,
            "overflow_x": null,
            "overflow_y": null,
            "padding": null,
            "right": null,
            "top": null,
            "visibility": null,
            "width": null
          }
        },
        "6736191829ee4b939bdcee6e2e190398": {
          "model_module": "@jupyter-widgets/controls",
          "model_name": "ProgressStyleModel",
          "model_module_version": "1.5.0",
          "state": {
            "_model_module": "@jupyter-widgets/controls",
            "_model_module_version": "1.5.0",
            "_model_name": "ProgressStyleModel",
            "_view_count": null,
            "_view_module": "@jupyter-widgets/base",
            "_view_module_version": "1.2.0",
            "_view_name": "StyleView",
            "bar_color": null,
            "description_width": ""
          }
        },
        "cbb6c2b5de1647a08d6d0d3bc13bbb3b": {
          "model_module": "@jupyter-widgets/base",
          "model_name": "LayoutModel",
          "model_module_version": "1.2.0",
          "state": {
            "_model_module": "@jupyter-widgets/base",
            "_model_module_version": "1.2.0",
            "_model_name": "LayoutModel",
            "_view_count": null,
            "_view_module": "@jupyter-widgets/base",
            "_view_module_version": "1.2.0",
            "_view_name": "LayoutView",
            "align_content": null,
            "align_items": null,
            "align_self": null,
            "border": null,
            "bottom": null,
            "display": null,
            "flex": null,
            "flex_flow": null,
            "grid_area": null,
            "grid_auto_columns": null,
            "grid_auto_flow": null,
            "grid_auto_rows": null,
            "grid_column": null,
            "grid_gap": null,
            "grid_row": null,
            "grid_template_areas": null,
            "grid_template_columns": null,
            "grid_template_rows": null,
            "height": null,
            "justify_content": null,
            "justify_items": null,
            "left": null,
            "margin": null,
            "max_height": null,
            "max_width": null,
            "min_height": null,
            "min_width": null,
            "object_fit": null,
            "object_position": null,
            "order": null,
            "overflow": null,
            "overflow_x": null,
            "overflow_y": null,
            "padding": null,
            "right": null,
            "top": null,
            "visibility": null,
            "width": null
          }
        },
        "b47f05d42ab544459cf3075c1b3ccc09": {
          "model_module": "@jupyter-widgets/controls",
          "model_name": "DescriptionStyleModel",
          "model_module_version": "1.5.0",
          "state": {
            "_model_module": "@jupyter-widgets/controls",
            "_model_module_version": "1.5.0",
            "_model_name": "DescriptionStyleModel",
            "_view_count": null,
            "_view_module": "@jupyter-widgets/base",
            "_view_module_version": "1.2.0",
            "_view_name": "StyleView",
            "description_width": ""
          }
        },
        "bc54b5a87d624da499c26c76b74fc820": {
          "model_module": "@jupyter-widgets/controls",
          "model_name": "HBoxModel",
          "model_module_version": "1.5.0",
          "state": {
            "_dom_classes": [],
            "_model_module": "@jupyter-widgets/controls",
            "_model_module_version": "1.5.0",
            "_model_name": "HBoxModel",
            "_view_count": null,
            "_view_module": "@jupyter-widgets/controls",
            "_view_module_version": "1.5.0",
            "_view_name": "HBoxView",
            "box_style": "",
            "children": [
              "IPY_MODEL_77dcd0867b1a4b668066a5b4ea9d363c",
              "IPY_MODEL_14d0dd5ab9e9439e8d87db74f069c82d",
              "IPY_MODEL_d3862e288fbe4568a4cf2355e353addc"
            ],
            "layout": "IPY_MODEL_cf338a7602b7494c9d4ea98231dc65aa"
          }
        },
        "77dcd0867b1a4b668066a5b4ea9d363c": {
          "model_module": "@jupyter-widgets/controls",
          "model_name": "HTMLModel",
          "model_module_version": "1.5.0",
          "state": {
            "_dom_classes": [],
            "_model_module": "@jupyter-widgets/controls",
            "_model_module_version": "1.5.0",
            "_model_name": "HTMLModel",
            "_view_count": null,
            "_view_module": "@jupyter-widgets/controls",
            "_view_module_version": "1.5.0",
            "_view_name": "HTMLView",
            "description": "",
            "description_tooltip": null,
            "layout": "IPY_MODEL_a04855c0bb9943e69ab4942f3cf6fd16",
            "placeholder": "​",
            "style": "IPY_MODEL_920e984e333e4116b8b09d8cc751a36e",
            "value": "Map: 100%"
          }
        },
        "14d0dd5ab9e9439e8d87db74f069c82d": {
          "model_module": "@jupyter-widgets/controls",
          "model_name": "FloatProgressModel",
          "model_module_version": "1.5.0",
          "state": {
            "_dom_classes": [],
            "_model_module": "@jupyter-widgets/controls",
            "_model_module_version": "1.5.0",
            "_model_name": "FloatProgressModel",
            "_view_count": null,
            "_view_module": "@jupyter-widgets/controls",
            "_view_module_version": "1.5.0",
            "_view_name": "ProgressView",
            "bar_style": "",
            "description": "",
            "description_tooltip": null,
            "layout": "IPY_MODEL_965dbb09866b4dc780c45530b92bf6f2",
            "max": 993,
            "min": 0,
            "orientation": "horizontal",
            "style": "IPY_MODEL_30ce88f15dfd4ee9a8686032852e0dbc",
            "value": 993
          }
        },
        "d3862e288fbe4568a4cf2355e353addc": {
          "model_module": "@jupyter-widgets/controls",
          "model_name": "HTMLModel",
          "model_module_version": "1.5.0",
          "state": {
            "_dom_classes": [],
            "_model_module": "@jupyter-widgets/controls",
            "_model_module_version": "1.5.0",
            "_model_name": "HTMLModel",
            "_view_count": null,
            "_view_module": "@jupyter-widgets/controls",
            "_view_module_version": "1.5.0",
            "_view_name": "HTMLView",
            "description": "",
            "description_tooltip": null,
            "layout": "IPY_MODEL_fa6d87a7e6fe4d89a275f8ec6ab5e973",
            "placeholder": "​",
            "style": "IPY_MODEL_d7a58e4f5dbf447799652b87c075cedb",
            "value": " 993/993 [00:04&lt;00:00, 229.77 examples/s]"
          }
        },
        "cf338a7602b7494c9d4ea98231dc65aa": {
          "model_module": "@jupyter-widgets/base",
          "model_name": "LayoutModel",
          "model_module_version": "1.2.0",
          "state": {
            "_model_module": "@jupyter-widgets/base",
            "_model_module_version": "1.2.0",
            "_model_name": "LayoutModel",
            "_view_count": null,
            "_view_module": "@jupyter-widgets/base",
            "_view_module_version": "1.2.0",
            "_view_name": "LayoutView",
            "align_content": null,
            "align_items": null,
            "align_self": null,
            "border": null,
            "bottom": null,
            "display": null,
            "flex": null,
            "flex_flow": null,
            "grid_area": null,
            "grid_auto_columns": null,
            "grid_auto_flow": null,
            "grid_auto_rows": null,
            "grid_column": null,
            "grid_gap": null,
            "grid_row": null,
            "grid_template_areas": null,
            "grid_template_columns": null,
            "grid_template_rows": null,
            "height": null,
            "justify_content": null,
            "justify_items": null,
            "left": null,
            "margin": null,
            "max_height": null,
            "max_width": null,
            "min_height": null,
            "min_width": null,
            "object_fit": null,
            "object_position": null,
            "order": null,
            "overflow": null,
            "overflow_x": null,
            "overflow_y": null,
            "padding": null,
            "right": null,
            "top": null,
            "visibility": "hidden",
            "width": null
          }
        },
        "a04855c0bb9943e69ab4942f3cf6fd16": {
          "model_module": "@jupyter-widgets/base",
          "model_name": "LayoutModel",
          "model_module_version": "1.2.0",
          "state": {
            "_model_module": "@jupyter-widgets/base",
            "_model_module_version": "1.2.0",
            "_model_name": "LayoutModel",
            "_view_count": null,
            "_view_module": "@jupyter-widgets/base",
            "_view_module_version": "1.2.0",
            "_view_name": "LayoutView",
            "align_content": null,
            "align_items": null,
            "align_self": null,
            "border": null,
            "bottom": null,
            "display": null,
            "flex": null,
            "flex_flow": null,
            "grid_area": null,
            "grid_auto_columns": null,
            "grid_auto_flow": null,
            "grid_auto_rows": null,
            "grid_column": null,
            "grid_gap": null,
            "grid_row": null,
            "grid_template_areas": null,
            "grid_template_columns": null,
            "grid_template_rows": null,
            "height": null,
            "justify_content": null,
            "justify_items": null,
            "left": null,
            "margin": null,
            "max_height": null,
            "max_width": null,
            "min_height": null,
            "min_width": null,
            "object_fit": null,
            "object_position": null,
            "order": null,
            "overflow": null,
            "overflow_x": null,
            "overflow_y": null,
            "padding": null,
            "right": null,
            "top": null,
            "visibility": null,
            "width": null
          }
        },
        "920e984e333e4116b8b09d8cc751a36e": {
          "model_module": "@jupyter-widgets/controls",
          "model_name": "DescriptionStyleModel",
          "model_module_version": "1.5.0",
          "state": {
            "_model_module": "@jupyter-widgets/controls",
            "_model_module_version": "1.5.0",
            "_model_name": "DescriptionStyleModel",
            "_view_count": null,
            "_view_module": "@jupyter-widgets/base",
            "_view_module_version": "1.2.0",
            "_view_name": "StyleView",
            "description_width": ""
          }
        },
        "965dbb09866b4dc780c45530b92bf6f2": {
          "model_module": "@jupyter-widgets/base",
          "model_name": "LayoutModel",
          "model_module_version": "1.2.0",
          "state": {
            "_model_module": "@jupyter-widgets/base",
            "_model_module_version": "1.2.0",
            "_model_name": "LayoutModel",
            "_view_count": null,
            "_view_module": "@jupyter-widgets/base",
            "_view_module_version": "1.2.0",
            "_view_name": "LayoutView",
            "align_content": null,
            "align_items": null,
            "align_self": null,
            "border": null,
            "bottom": null,
            "display": null,
            "flex": null,
            "flex_flow": null,
            "grid_area": null,
            "grid_auto_columns": null,
            "grid_auto_flow": null,
            "grid_auto_rows": null,
            "grid_column": null,
            "grid_gap": null,
            "grid_row": null,
            "grid_template_areas": null,
            "grid_template_columns": null,
            "grid_template_rows": null,
            "height": null,
            "justify_content": null,
            "justify_items": null,
            "left": null,
            "margin": null,
            "max_height": null,
            "max_width": null,
            "min_height": null,
            "min_width": null,
            "object_fit": null,
            "object_position": null,
            "order": null,
            "overflow": null,
            "overflow_x": null,
            "overflow_y": null,
            "padding": null,
            "right": null,
            "top": null,
            "visibility": null,
            "width": null
          }
        },
        "30ce88f15dfd4ee9a8686032852e0dbc": {
          "model_module": "@jupyter-widgets/controls",
          "model_name": "ProgressStyleModel",
          "model_module_version": "1.5.0",
          "state": {
            "_model_module": "@jupyter-widgets/controls",
            "_model_module_version": "1.5.0",
            "_model_name": "ProgressStyleModel",
            "_view_count": null,
            "_view_module": "@jupyter-widgets/base",
            "_view_module_version": "1.2.0",
            "_view_name": "StyleView",
            "bar_color": null,
            "description_width": ""
          }
        },
        "fa6d87a7e6fe4d89a275f8ec6ab5e973": {
          "model_module": "@jupyter-widgets/base",
          "model_name": "LayoutModel",
          "model_module_version": "1.2.0",
          "state": {
            "_model_module": "@jupyter-widgets/base",
            "_model_module_version": "1.2.0",
            "_model_name": "LayoutModel",
            "_view_count": null,
            "_view_module": "@jupyter-widgets/base",
            "_view_module_version": "1.2.0",
            "_view_name": "LayoutView",
            "align_content": null,
            "align_items": null,
            "align_self": null,
            "border": null,
            "bottom": null,
            "display": null,
            "flex": null,
            "flex_flow": null,
            "grid_area": null,
            "grid_auto_columns": null,
            "grid_auto_flow": null,
            "grid_auto_rows": null,
            "grid_column": null,
            "grid_gap": null,
            "grid_row": null,
            "grid_template_areas": null,
            "grid_template_columns": null,
            "grid_template_rows": null,
            "height": null,
            "justify_content": null,
            "justify_items": null,
            "left": null,
            "margin": null,
            "max_height": null,
            "max_width": null,
            "min_height": null,
            "min_width": null,
            "object_fit": null,
            "object_position": null,
            "order": null,
            "overflow": null,
            "overflow_x": null,
            "overflow_y": null,
            "padding": null,
            "right": null,
            "top": null,
            "visibility": null,
            "width": null
          }
        },
        "d7a58e4f5dbf447799652b87c075cedb": {
          "model_module": "@jupyter-widgets/controls",
          "model_name": "DescriptionStyleModel",
          "model_module_version": "1.5.0",
          "state": {
            "_model_module": "@jupyter-widgets/controls",
            "_model_module_version": "1.5.0",
            "_model_name": "DescriptionStyleModel",
            "_view_count": null,
            "_view_module": "@jupyter-widgets/base",
            "_view_module_version": "1.2.0",
            "_view_name": "StyleView",
            "description_width": ""
          }
        }
      }
    },
    "accelerator": "GPU",
    "gpuClass": "standard"
  },
  "cells": [
    {
      "cell_type": "markdown",
      "metadata": {
        "id": "view-in-github",
        "colab_type": "text"
      },
      "source": [
        "<a href=\"https://colab.research.google.com/github/ryderwishart/biblical-machine-learning/blob/main/ancient_greek_text_classification.ipynb\" target=\"_parent\"><img src=\"https://colab.research.google.com/assets/colab-badge.svg\" alt=\"Open In Colab\"/></a>"
      ]
    },
    {
      "cell_type": "markdown",
      "source": [
        "Adapted from: https://huggingface.co/docs/transformers/tasks/sequence_classification"
      ],
      "metadata": {
        "id": "uM7YfzAZFWOw"
      }
    },
    {
      "cell_type": "code",
      "source": [
        "# uncomment if you want to quickly delete unwanted files from previous model training\n",
        "# import shutil\n",
        "# shutil.rmtree('ag_text_classification')"
      ],
      "metadata": {
        "id": "p2Vm2jtGT9ZT"
      },
      "execution_count": 1,
      "outputs": []
    },
    {
      "cell_type": "code",
      "execution_count": 2,
      "metadata": {
        "colab": {
          "base_uri": "https://localhost:8080/"
        },
        "id": "sEzhLel1EhG4",
        "outputId": "e108444d-0b6f-41a3-ef30-8045475a1c1c"
      },
      "outputs": [
        {
          "output_type": "stream",
          "name": "stdout",
          "text": [
            "Looking in indexes: https://pypi.org/simple, https://us-python.pkg.dev/colab-wheels/public/simple/\n",
            "Requirement already satisfied: transformers in /usr/local/lib/python3.9/dist-packages (4.27.4)\n",
            "Requirement already satisfied: evaluate in /usr/local/lib/python3.9/dist-packages (0.4.0)\n",
            "Requirement already satisfied: tqdm>=4.27 in /usr/local/lib/python3.9/dist-packages (from transformers) (4.65.0)\n",
            "Requirement already satisfied: packaging>=20.0 in /usr/local/lib/python3.9/dist-packages (from transformers) (23.0)\n",
            "Requirement already satisfied: huggingface-hub<1.0,>=0.11.0 in /usr/local/lib/python3.9/dist-packages (from transformers) (0.13.4)\n",
            "Requirement already satisfied: numpy>=1.17 in /usr/local/lib/python3.9/dist-packages (from transformers) (1.22.4)\n",
            "Requirement already satisfied: regex!=2019.12.17 in /usr/local/lib/python3.9/dist-packages (from transformers) (2022.10.31)\n",
            "Requirement already satisfied: filelock in /usr/local/lib/python3.9/dist-packages (from transformers) (3.10.7)\n",
            "Requirement already satisfied: tokenizers!=0.11.3,<0.14,>=0.11.1 in /usr/local/lib/python3.9/dist-packages (from transformers) (0.13.3)\n",
            "Requirement already satisfied: requests in /usr/local/lib/python3.9/dist-packages (from transformers) (2.27.1)\n",
            "Requirement already satisfied: pyyaml>=5.1 in /usr/local/lib/python3.9/dist-packages (from transformers) (6.0)\n",
            "Requirement already satisfied: dill in /usr/local/lib/python3.9/dist-packages (from evaluate) (0.3.6)\n",
            "Requirement already satisfied: multiprocess in /usr/local/lib/python3.9/dist-packages (from evaluate) (0.70.14)\n",
            "Requirement already satisfied: xxhash in /usr/local/lib/python3.9/dist-packages (from evaluate) (3.2.0)\n",
            "Requirement already satisfied: responses<0.19 in /usr/local/lib/python3.9/dist-packages (from evaluate) (0.18.0)\n",
            "Requirement already satisfied: pandas in /usr/local/lib/python3.9/dist-packages (from evaluate) (1.4.4)\n",
            "Requirement already satisfied: datasets>=2.0.0 in /usr/local/lib/python3.9/dist-packages (from evaluate) (2.11.0)\n",
            "Requirement already satisfied: fsspec[http]>=2021.05.0 in /usr/local/lib/python3.9/dist-packages (from evaluate) (2023.3.0)\n",
            "Requirement already satisfied: aiohttp in /usr/local/lib/python3.9/dist-packages (from datasets>=2.0.0->evaluate) (3.8.4)\n",
            "Requirement already satisfied: pyarrow>=8.0.0 in /usr/local/lib/python3.9/dist-packages (from datasets>=2.0.0->evaluate) (9.0.0)\n",
            "Requirement already satisfied: typing-extensions>=3.7.4.3 in /usr/local/lib/python3.9/dist-packages (from huggingface-hub<1.0,>=0.11.0->transformers) (4.5.0)\n",
            "Requirement already satisfied: idna<4,>=2.5 in /usr/local/lib/python3.9/dist-packages (from requests->transformers) (3.4)\n",
            "Requirement already satisfied: certifi>=2017.4.17 in /usr/local/lib/python3.9/dist-packages (from requests->transformers) (2022.12.7)\n",
            "Requirement already satisfied: urllib3<1.27,>=1.21.1 in /usr/local/lib/python3.9/dist-packages (from requests->transformers) (1.26.15)\n",
            "Requirement already satisfied: charset-normalizer~=2.0.0 in /usr/local/lib/python3.9/dist-packages (from requests->transformers) (2.0.12)\n",
            "Requirement already satisfied: pytz>=2020.1 in /usr/local/lib/python3.9/dist-packages (from pandas->evaluate) (2022.7.1)\n",
            "Requirement already satisfied: python-dateutil>=2.8.1 in /usr/local/lib/python3.9/dist-packages (from pandas->evaluate) (2.8.2)\n",
            "Requirement already satisfied: async-timeout<5.0,>=4.0.0a3 in /usr/local/lib/python3.9/dist-packages (from aiohttp->datasets>=2.0.0->evaluate) (4.0.2)\n",
            "Requirement already satisfied: frozenlist>=1.1.1 in /usr/local/lib/python3.9/dist-packages (from aiohttp->datasets>=2.0.0->evaluate) (1.3.3)\n",
            "Requirement already satisfied: yarl<2.0,>=1.0 in /usr/local/lib/python3.9/dist-packages (from aiohttp->datasets>=2.0.0->evaluate) (1.8.2)\n",
            "Requirement already satisfied: multidict<7.0,>=4.5 in /usr/local/lib/python3.9/dist-packages (from aiohttp->datasets>=2.0.0->evaluate) (6.0.4)\n",
            "Requirement already satisfied: aiosignal>=1.1.2 in /usr/local/lib/python3.9/dist-packages (from aiohttp->datasets>=2.0.0->evaluate) (1.3.1)\n",
            "Requirement already satisfied: attrs>=17.3.0 in /usr/local/lib/python3.9/dist-packages (from aiohttp->datasets>=2.0.0->evaluate) (22.2.0)\n",
            "Requirement already satisfied: six>=1.5 in /usr/local/lib/python3.9/dist-packages (from python-dateutil>=2.8.1->pandas->evaluate) (1.16.0)\n"
          ]
        }
      ],
      "source": [
        "pip install transformers evaluate"
      ]
    },
    {
      "cell_type": "code",
      "source": [
        "from huggingface_hub import notebook_login\n",
        "from transformers import AutoTokenizer\n",
        "from transformers import DataCollatorWithPadding\n",
        "import evaluate\n",
        "import numpy as np\n",
        "from transformers import AutoModelForSequenceClassification, TrainingArguments, Trainer, AutoTokenizer, pipeline\n",
        "from datasets import load_dataset"
      ],
      "metadata": {
        "id": "UBs_-Y30EwH_"
      },
      "execution_count": 3,
      "outputs": []
    },
    {
      "cell_type": "code",
      "source": [
        "data = load_dataset('ryderwishart/nt-move-features')\n",
        "data"
      ],
      "metadata": {
        "id": "cjgxWHkxtXbC",
        "colab": {
          "base_uri": "https://localhost:8080/",
          "height": 324,
          "referenced_widgets": [
            "01187493cb9a4213bfcc40cc5c146d3a",
            "8fa0478fda9949ae81d0fe4dd53def8a",
            "5b626c1887cd4c4fbb6c5d8da8b945c6",
            "4a9e1ecf0aa94e689575175e79c3aa96",
            "d8a6e86ea4c24346af3a6dc9be4002cc",
            "4f5ea18837f74b1dbe0201abd948a37e",
            "648424ac15914aa3a3174df06cf3ce34",
            "4789a0c141b64b3d8e46d5066ebb7ebc",
            "9670b22e67bf4c1cb200de918179df22",
            "5c15766882a749a2b38b6f2204444308",
            "41eda36bf0c04d2fb1f1f3811febdb78"
          ]
        },
        "outputId": "4b75f5a9-1aed-4285-a64f-9c3cf279fb09"
      },
      "execution_count": 4,
      "outputs": [
        {
          "output_type": "stream",
          "name": "stderr",
          "text": [
            "WARNING:datasets.builder:Found cached dataset parquet (/root/.cache/huggingface/datasets/ryderwishart___parquet/ryderwishart--nt-move-features-c579c908d6e8fa0b/0.0.0/2a3b91fbd88a2c90d1dbbb32b460cf621d31bd5b05b934492fdef7d8d6f236ec)\n"
          ]
        },
        {
          "output_type": "display_data",
          "data": {
            "text/plain": [
              "  0%|          | 0/3 [00:00<?, ?it/s]"
            ],
            "application/vnd.jupyter.widget-view+json": {
              "version_major": 2,
              "version_minor": 0,
              "model_id": "01187493cb9a4213bfcc40cc5c146d3a"
            }
          },
          "metadata": {}
        },
        {
          "output_type": "execute_result",
          "data": {
            "text/plain": [
              "DatasetDict({\n",
              "    train: Dataset({\n",
              "        features: ['text', 'label'],\n",
              "        num_rows: 7943\n",
              "    })\n",
              "    eval: Dataset({\n",
              "        features: ['text', 'label'],\n",
              "        num_rows: 993\n",
              "    })\n",
              "    test: Dataset({\n",
              "        features: ['text', 'label'],\n",
              "        num_rows: 993\n",
              "    })\n",
              "})"
            ]
          },
          "metadata": {},
          "execution_count": 4
        }
      ]
    },
    {
      "cell_type": "code",
      "source": [
        "data['eval'][0]"
      ],
      "metadata": {
        "colab": {
          "base_uri": "https://localhost:8080/"
        },
        "id": "nksI-m-py0mN",
        "outputId": "a057169c-ff0a-4b9f-eee2-36db26263458"
      },
      "execution_count": 5,
      "outputs": [
        {
          "output_type": "execute_result",
          "data": {
            "text/plain": [
              "{'text': 'καρδίᾳ γὰρ πιστεύεται εἰς δικαιοσύνην ',\n",
              " 'label': ['speech_act',\n",
              "  '#predicating',\n",
              "  'circumstance',\n",
              "  'subjective_participation_type_tbd',\n",
              "  '$process',\n",
              "  'circumstance',\n",
              "  'alertness',\n",
              "  'objectifying',\n",
              "  '#externalization',\n",
              "  'centrality_tbd',\n",
              "  'development_marker',\n",
              "  'supporting']}"
            ]
          },
          "metadata": {},
          "execution_count": 5
        }
      ]
    },
    {
      "cell_type": "code",
      "source": [
        "# notebook_login()"
      ],
      "metadata": {
        "id": "ngpYUMnjJqmK"
      },
      "execution_count": 6,
      "outputs": []
    },
    {
      "cell_type": "code",
      "source": [
        "pretrained = 'pranaydeeps/Ancient-Greek-BERT'\n",
        "tokenizer = AutoTokenizer.from_pretrained(pretrained)"
      ],
      "metadata": {
        "id": "G28nsEPJFGvJ"
      },
      "execution_count": 7,
      "outputs": []
    },
    {
      "cell_type": "code",
      "source": [
        "def preprocess_function(examples):\n",
        "    return tokenizer(examples['text'], truncation=True)"
      ],
      "metadata": {
        "id": "FJp1NpgzFQLc"
      },
      "execution_count": 8,
      "outputs": []
    },
    {
      "cell_type": "code",
      "source": [
        "tokenized_greek = data.map(preprocess_function, batched=True)"
      ],
      "metadata": {
        "colab": {
          "base_uri": "https://localhost:8080/",
          "height": 71,
          "referenced_widgets": [
            "fe1e4fe2cd8b4639960ae0fb9a3de599",
            "2b2c408efa394fdb9f1886d40306d4b9",
            "8bde7c88ff8f44d4bc94af8369938cb5",
            "8de3fb7528844f1fb8ba0bc8ce53059e",
            "ff0bd5fdef7e4e91aa2c0529b3a8fe1f",
            "098eae46c62d483e8a21ee11ae374e8b",
            "b15057c05b9d41d985c97d40f952abf7",
            "da13822a5bd541e491ceb7f74dfe7ac2",
            "6736191829ee4b939bdcee6e2e190398",
            "cbb6c2b5de1647a08d6d0d3bc13bbb3b",
            "b47f05d42ab544459cf3075c1b3ccc09"
          ]
        },
        "id": "oze0moa2Fd6v",
        "outputId": "3c25f46c-dd58-4aeb-ae63-11a468d99ecc"
      },
      "execution_count": 9,
      "outputs": [
        {
          "output_type": "stream",
          "name": "stderr",
          "text": [
            "WARNING:datasets.arrow_dataset:Loading cached processed dataset at /root/.cache/huggingface/datasets/ryderwishart___parquet/ryderwishart--nt-move-features-c579c908d6e8fa0b/0.0.0/2a3b91fbd88a2c90d1dbbb32b460cf621d31bd5b05b934492fdef7d8d6f236ec/cache-f22092a76147c8f4.arrow\n"
          ]
        },
        {
          "output_type": "display_data",
          "data": {
            "text/plain": [
              "Map:   0%|          | 0/993 [00:00<?, ? examples/s]"
            ],
            "application/vnd.jupyter.widget-view+json": {
              "version_major": 2,
              "version_minor": 0,
              "model_id": "fe1e4fe2cd8b4639960ae0fb9a3de599"
            }
          },
          "metadata": {}
        },
        {
          "output_type": "stream",
          "name": "stderr",
          "text": [
            "WARNING:datasets.arrow_dataset:Loading cached processed dataset at /root/.cache/huggingface/datasets/ryderwishart___parquet/ryderwishart--nt-move-features-c579c908d6e8fa0b/0.0.0/2a3b91fbd88a2c90d1dbbb32b460cf621d31bd5b05b934492fdef7d8d6f236ec/cache-7b4b0202c74e798b.arrow\n"
          ]
        }
      ]
    },
    {
      "cell_type": "code",
      "source": [
        "tokenized_greek['train'][0]"
      ],
      "metadata": {
        "colab": {
          "base_uri": "https://localhost:8080/"
        },
        "id": "WqOsWJ0Kyccy",
        "outputId": "ae9d5058-1403-4831-e190-d11ee87eab5f"
      },
      "execution_count": 10,
      "outputs": [
        {
          "output_type": "execute_result",
          "data": {
            "text/plain": [
              "{'text': 'Βίβλος γενέσεως Ἰησοῦ χριστοῦ υἱοῦ Δαυὶδ υἱοῦ Ἀβραάμ ',\n",
              " 'label': ['speech_act',\n",
              "  '#predicating',\n",
              "  'synchronic',\n",
              "  'categorized',\n",
              "  '$category',\n",
              "  'elaborated',\n",
              "  'direction_tbd',\n",
              "  'interactant_indication_tbd'],\n",
              " 'input_ids': [101,\n",
              "  14904,\n",
              "  278,\n",
              "  2411,\n",
              "  2781,\n",
              "  2914,\n",
              "  4326,\n",
              "  2371,\n",
              "  17006,\n",
              "  27298,\n",
              "  17006,\n",
              "  19297,\n",
              "  102],\n",
              " 'token_type_ids': [0, 0, 0, 0, 0, 0, 0, 0, 0, 0, 0, 0, 0],\n",
              " 'attention_mask': [1, 1, 1, 1, 1, 1, 1, 1, 1, 1, 1, 1, 1]}"
            ]
          },
          "metadata": {},
          "execution_count": 10
        }
      ]
    },
    {
      "cell_type": "code",
      "source": [
        "data_collator = DataCollatorWithPadding(tokenizer=tokenizer)"
      ],
      "metadata": {
        "id": "BE-u46CnFkXF"
      },
      "execution_count": 11,
      "outputs": []
    },
    {
      "cell_type": "code",
      "source": [
        "accuracy = evaluate.load('accuracy')"
      ],
      "metadata": {
        "id": "fE0J-mEiFpf4"
      },
      "execution_count": 12,
      "outputs": []
    },
    {
      "cell_type": "code",
      "source": [
        "all_ls = [*data['test']['label'], *data['train']['label'], *data['eval']['label']]\n",
        "all_labels_flat = []\n",
        "for l in all_ls:\n",
        "    for i in l:\n",
        "        all_labels_flat.append(i)\n",
        "len(set(all_labels_flat))\n",
        "set(all_labels_flat)\n",
        "all_labels = all_labels_flat"
      ],
      "metadata": {
        "id": "UDOn-4992Bld"
      },
      "execution_count": 13,
      "outputs": []
    },
    {
      "cell_type": "code",
      "source": [
        "\n",
        "len(all_labels)"
      ],
      "metadata": {
        "colab": {
          "base_uri": "https://localhost:8080/"
        },
        "id": "GB_Tv_2OoKTn",
        "outputId": "ca835341-1862-40a0-df78-5f099344967f"
      },
      "execution_count": 14,
      "outputs": [
        {
          "output_type": "execute_result",
          "data": {
            "text/plain": [
              "84653"
            ]
          },
          "metadata": {},
          "execution_count": 14
        }
      ]
    },
    {
      "cell_type": "code",
      "source": [
        "set(all_labels)"
      ],
      "metadata": {
        "id": "KI8AN6-O1BWV",
        "outputId": "8687861e-1cfa-44f5-b370-db0d18740164",
        "colab": {
          "base_uri": "https://localhost:8080/"
        }
      },
      "execution_count": 15,
      "outputs": [
        {
          "output_type": "execute_result",
          "data": {
            "text/plain": [
              "{'#articulation',\n",
              " '#confirmation_request',\n",
              " '#externalization',\n",
              " '#locution',\n",
              " '#mannerism',\n",
              " '#morphological_relative',\n",
              " '#participation',\n",
              " '#positional_association',\n",
              " '#predicating',\n",
              " '#proposition',\n",
              " '#prospective_participation',\n",
              " '#quotation',\n",
              " '#reception',\n",
              " '#relative_differentiation',\n",
              " '#resemblance',\n",
              " '$category',\n",
              " '$complementizer',\n",
              " '$extrinsic_quality',\n",
              " '$inference',\n",
              " '$interjection',\n",
              " '$intrinsic_quality',\n",
              " '$name',\n",
              " '$position',\n",
              " '$process',\n",
              " '$total_quantifier',\n",
              " 'accusative_association',\n",
              " 'actual_comparator',\n",
              " 'actualization',\n",
              " 'addressing',\n",
              " 'advancing',\n",
              " 'affected',\n",
              " 'affirmative',\n",
              " 'alertness',\n",
              " 'augmented',\n",
              " 'backtracking',\n",
              " 'categorized',\n",
              " 'centrality_tbd',\n",
              " 'circumstance',\n",
              " 'clarified',\n",
              " 'compared',\n",
              " 'complementary_property',\n",
              " 'complete',\n",
              " 'contemplation_tbd',\n",
              " 'contemplative',\n",
              " 'contextualized',\n",
              " 'corrective',\n",
              " 'dative_association',\n",
              " 'described',\n",
              " 'development_marker',\n",
              " 'differentiated',\n",
              " 'differentiation_request',\n",
              " 'direction_tbd',\n",
              " 'directive',\n",
              " 'disjunctive',\n",
              " 'distance',\n",
              " 'elaborated',\n",
              " 'enclitic_addition',\n",
              " 'expected',\n",
              " 'extra_participant',\n",
              " 'extrinsic',\n",
              " 'factual',\n",
              " 'factual_reinforcement',\n",
              " 'focused',\n",
              " 'frequency_tbd',\n",
              " 'gender_tbd',\n",
              " 'genitive_association',\n",
              " 'grouped',\n",
              " 'inclusive',\n",
              " 'indicated',\n",
              " 'inferential',\n",
              " 'instantiator_construal',\n",
              " 'interactant',\n",
              " 'interactant_indication_tbd',\n",
              " 'interjecting',\n",
              " 'internal_orientation',\n",
              " 'interrogative',\n",
              " 'introducing',\n",
              " 'juxtaposed',\n",
              " 'measured',\n",
              " 'medial-final',\n",
              " 'number_tbd',\n",
              " 'objectifying',\n",
              " 'orientation_tbd',\n",
              " 'part-whole',\n",
              " 'peripheral',\n",
              " 'presumed',\n",
              " 'progressive',\n",
              " 'proposition_marker',\n",
              " 'proximity',\n",
              " 'quantified',\n",
              " 'quotation_marker',\n",
              " 'reiterated',\n",
              " 'sequentiality_tbd',\n",
              " 'speaker_excluded',\n",
              " 'speech_act',\n",
              " 'subjective_participation_type_tbd',\n",
              " 'superlative',\n",
              " 'supporting',\n",
              " 'synchronic',\n",
              " 'unlikely_inference'}"
            ]
          },
          "metadata": {},
          "execution_count": 15
        }
      ]
    },
    {
      "cell_type": "code",
      "source": [
        "assert 'inclusive' in all_labels"
      ],
      "metadata": {
        "id": "NJ9P9sYJ03Vw"
      },
      "execution_count": 16,
      "outputs": []
    },
    {
      "cell_type": "code",
      "source": [
        "label2id = {}"
      ],
      "metadata": {
        "id": "4TQZGTepFuv9"
      },
      "execution_count": 17,
      "outputs": []
    },
    {
      "cell_type": "code",
      "source": [
        "label = 0.0\n",
        "\n",
        "for i in set(all_labels):\n",
        "  label2id[i] = label\n",
        "  label += 1"
      ],
      "metadata": {
        "id": "uOAJYJSroZaY"
      },
      "execution_count": 18,
      "outputs": []
    },
    {
      "cell_type": "code",
      "source": [
        "label2id"
      ],
      "metadata": {
        "colab": {
          "base_uri": "https://localhost:8080/"
        },
        "id": "8VzVldwHuQhl",
        "outputId": "33a19f9f-91e0-492e-b09a-bb4ecc87552a"
      },
      "execution_count": 19,
      "outputs": [
        {
          "output_type": "execute_result",
          "data": {
            "text/plain": [
              "{'$complementizer': 0.0,\n",
              " 'extrinsic': 1.0,\n",
              " '#participation': 2.0,\n",
              " 'sequentiality_tbd': 3.0,\n",
              " 'actualization': 4.0,\n",
              " 'presumed': 5.0,\n",
              " '$process': 6.0,\n",
              " 'orientation_tbd': 7.0,\n",
              " 'distance': 8.0,\n",
              " 'addressing': 9.0,\n",
              " 'actual_comparator': 10.0,\n",
              " 'focused': 11.0,\n",
              " 'differentiation_request': 12.0,\n",
              " 'affected': 13.0,\n",
              " '#articulation': 14.0,\n",
              " 'compared': 15.0,\n",
              " '#morphological_relative': 16.0,\n",
              " 'superlative': 17.0,\n",
              " 'factual': 18.0,\n",
              " 'accusative_association': 19.0,\n",
              " 'interactant_indication_tbd': 20.0,\n",
              " '#locution': 21.0,\n",
              " '$category': 22.0,\n",
              " 'extra_participant': 23.0,\n",
              " 'complementary_property': 24.0,\n",
              " 'complete': 25.0,\n",
              " 'backtracking': 26.0,\n",
              " 'interjecting': 27.0,\n",
              " 'genitive_association': 28.0,\n",
              " '$extrinsic_quality': 29.0,\n",
              " '$interjection': 30.0,\n",
              " 'inclusive': 31.0,\n",
              " '$inference': 32.0,\n",
              " 'expected': 33.0,\n",
              " 'direction_tbd': 34.0,\n",
              " 'proximity': 35.0,\n",
              " 'indicated': 36.0,\n",
              " '$name': 37.0,\n",
              " 'frequency_tbd': 38.0,\n",
              " '#resemblance': 39.0,\n",
              " 'centrality_tbd': 40.0,\n",
              " '#predicating': 41.0,\n",
              " 'introducing': 42.0,\n",
              " 'contemplative': 43.0,\n",
              " '#mannerism': 44.0,\n",
              " 'measured': 45.0,\n",
              " 'unlikely_inference': 46.0,\n",
              " 'speaker_excluded': 47.0,\n",
              " 'juxtaposed': 48.0,\n",
              " 'interactant': 49.0,\n",
              " 'augmented': 50.0,\n",
              " 'affirmative': 51.0,\n",
              " '#externalization': 52.0,\n",
              " '$position': 53.0,\n",
              " 'internal_orientation': 54.0,\n",
              " 'contemplation_tbd': 55.0,\n",
              " 'quantified': 56.0,\n",
              " '#proposition': 57.0,\n",
              " 'proposition_marker': 58.0,\n",
              " 'alertness': 59.0,\n",
              " '#relative_differentiation': 60.0,\n",
              " 'quotation_marker': 61.0,\n",
              " 'interrogative': 62.0,\n",
              " 'inferential': 63.0,\n",
              " '#positional_association': 64.0,\n",
              " 'dative_association': 65.0,\n",
              " 'progressive': 66.0,\n",
              " 'factual_reinforcement': 67.0,\n",
              " 'number_tbd': 68.0,\n",
              " 'reiterated': 69.0,\n",
              " 'speech_act': 70.0,\n",
              " '$total_quantifier': 71.0,\n",
              " 'peripheral': 72.0,\n",
              " 'instantiator_construal': 73.0,\n",
              " 'medial-final': 74.0,\n",
              " 'clarified': 75.0,\n",
              " 'subjective_participation_type_tbd': 76.0,\n",
              " 'elaborated': 77.0,\n",
              " '#quotation': 78.0,\n",
              " 'advancing': 79.0,\n",
              " '#prospective_participation': 80.0,\n",
              " 'gender_tbd': 81.0,\n",
              " 'grouped': 82.0,\n",
              " 'circumstance': 83.0,\n",
              " 'corrective': 84.0,\n",
              " 'supporting': 85.0,\n",
              " 'synchronic': 86.0,\n",
              " 'directive': 87.0,\n",
              " 'part-whole': 88.0,\n",
              " 'contextualized': 89.0,\n",
              " 'development_marker': 90.0,\n",
              " 'disjunctive': 91.0,\n",
              " 'categorized': 92.0,\n",
              " '$intrinsic_quality': 93.0,\n",
              " 'enclitic_addition': 94.0,\n",
              " '#reception': 95.0,\n",
              " 'differentiated': 96.0,\n",
              " '#confirmation_request': 97.0,\n",
              " 'objectifying': 98.0,\n",
              " 'described': 99.0}"
            ]
          },
          "metadata": {},
          "execution_count": 19
        }
      ]
    },
    {
      "cell_type": "code",
      "source": [
        "id2label = {v: k for k, v in label2id.items()}"
      ],
      "metadata": {
        "id": "N8ldD1LPorFU"
      },
      "execution_count": 20,
      "outputs": []
    },
    {
      "cell_type": "code",
      "source": [
        "id2label"
      ],
      "metadata": {
        "colab": {
          "base_uri": "https://localhost:8080/"
        },
        "id": "ZjCqjB2kzzhb",
        "outputId": "61b0443c-1612-4880-9058-96c4fb28dbb2"
      },
      "execution_count": 21,
      "outputs": [
        {
          "output_type": "execute_result",
          "data": {
            "text/plain": [
              "{0.0: '$complementizer',\n",
              " 1.0: 'extrinsic',\n",
              " 2.0: '#participation',\n",
              " 3.0: 'sequentiality_tbd',\n",
              " 4.0: 'actualization',\n",
              " 5.0: 'presumed',\n",
              " 6.0: '$process',\n",
              " 7.0: 'orientation_tbd',\n",
              " 8.0: 'distance',\n",
              " 9.0: 'addressing',\n",
              " 10.0: 'actual_comparator',\n",
              " 11.0: 'focused',\n",
              " 12.0: 'differentiation_request',\n",
              " 13.0: 'affected',\n",
              " 14.0: '#articulation',\n",
              " 15.0: 'compared',\n",
              " 16.0: '#morphological_relative',\n",
              " 17.0: 'superlative',\n",
              " 18.0: 'factual',\n",
              " 19.0: 'accusative_association',\n",
              " 20.0: 'interactant_indication_tbd',\n",
              " 21.0: '#locution',\n",
              " 22.0: '$category',\n",
              " 23.0: 'extra_participant',\n",
              " 24.0: 'complementary_property',\n",
              " 25.0: 'complete',\n",
              " 26.0: 'backtracking',\n",
              " 27.0: 'interjecting',\n",
              " 28.0: 'genitive_association',\n",
              " 29.0: '$extrinsic_quality',\n",
              " 30.0: '$interjection',\n",
              " 31.0: 'inclusive',\n",
              " 32.0: '$inference',\n",
              " 33.0: 'expected',\n",
              " 34.0: 'direction_tbd',\n",
              " 35.0: 'proximity',\n",
              " 36.0: 'indicated',\n",
              " 37.0: '$name',\n",
              " 38.0: 'frequency_tbd',\n",
              " 39.0: '#resemblance',\n",
              " 40.0: 'centrality_tbd',\n",
              " 41.0: '#predicating',\n",
              " 42.0: 'introducing',\n",
              " 43.0: 'contemplative',\n",
              " 44.0: '#mannerism',\n",
              " 45.0: 'measured',\n",
              " 46.0: 'unlikely_inference',\n",
              " 47.0: 'speaker_excluded',\n",
              " 48.0: 'juxtaposed',\n",
              " 49.0: 'interactant',\n",
              " 50.0: 'augmented',\n",
              " 51.0: 'affirmative',\n",
              " 52.0: '#externalization',\n",
              " 53.0: '$position',\n",
              " 54.0: 'internal_orientation',\n",
              " 55.0: 'contemplation_tbd',\n",
              " 56.0: 'quantified',\n",
              " 57.0: '#proposition',\n",
              " 58.0: 'proposition_marker',\n",
              " 59.0: 'alertness',\n",
              " 60.0: '#relative_differentiation',\n",
              " 61.0: 'quotation_marker',\n",
              " 62.0: 'interrogative',\n",
              " 63.0: 'inferential',\n",
              " 64.0: '#positional_association',\n",
              " 65.0: 'dative_association',\n",
              " 66.0: 'progressive',\n",
              " 67.0: 'factual_reinforcement',\n",
              " 68.0: 'number_tbd',\n",
              " 69.0: 'reiterated',\n",
              " 70.0: 'speech_act',\n",
              " 71.0: '$total_quantifier',\n",
              " 72.0: 'peripheral',\n",
              " 73.0: 'instantiator_construal',\n",
              " 74.0: 'medial-final',\n",
              " 75.0: 'clarified',\n",
              " 76.0: 'subjective_participation_type_tbd',\n",
              " 77.0: 'elaborated',\n",
              " 78.0: '#quotation',\n",
              " 79.0: 'advancing',\n",
              " 80.0: '#prospective_participation',\n",
              " 81.0: 'gender_tbd',\n",
              " 82.0: 'grouped',\n",
              " 83.0: 'circumstance',\n",
              " 84.0: 'corrective',\n",
              " 85.0: 'supporting',\n",
              " 86.0: 'synchronic',\n",
              " 87.0: 'directive',\n",
              " 88.0: 'part-whole',\n",
              " 89.0: 'contextualized',\n",
              " 90.0: 'development_marker',\n",
              " 91.0: 'disjunctive',\n",
              " 92.0: 'categorized',\n",
              " 93.0: '$intrinsic_quality',\n",
              " 94.0: 'enclitic_addition',\n",
              " 95.0: '#reception',\n",
              " 96.0: 'differentiated',\n",
              " 97.0: '#confirmation_request',\n",
              " 98.0: 'objectifying',\n",
              " 99.0: 'described'}"
            ]
          },
          "metadata": {},
          "execution_count": 21
        }
      ]
    },
    {
      "cell_type": "code",
      "source": [
        "def id_mapping_function(examples):\n",
        "    for i, labelset in enumerate(examples['label']):\n",
        "        # print(i, examples['text'][i], labelset)\n",
        "        sample_labels = []\n",
        "        for label in set(all_labels):\n",
        "            if label in labelset:\n",
        "                sample_labels.append(1)\n",
        "            else:\n",
        "                sample_labels.append(0)\n",
        "        # id_for_label = [label2id[label] for label in labelset]\n",
        "        sample_labels = np.array(sample_labels)\n",
        "        examples['label'][i] = sample_labels.astype(np.float32).tolist()\n",
        "    return examples\n",
        "\n",
        "tokenized_and_id_greek = tokenized_greek.map(id_mapping_function, batched=True)"
      ],
      "metadata": {
        "colab": {
          "base_uri": "https://localhost:8080/",
          "height": 71,
          "referenced_widgets": [
            "bc54b5a87d624da499c26c76b74fc820",
            "77dcd0867b1a4b668066a5b4ea9d363c",
            "14d0dd5ab9e9439e8d87db74f069c82d",
            "d3862e288fbe4568a4cf2355e353addc",
            "cf338a7602b7494c9d4ea98231dc65aa",
            "a04855c0bb9943e69ab4942f3cf6fd16",
            "920e984e333e4116b8b09d8cc751a36e",
            "965dbb09866b4dc780c45530b92bf6f2",
            "30ce88f15dfd4ee9a8686032852e0dbc",
            "fa6d87a7e6fe4d89a275f8ec6ab5e973",
            "d7a58e4f5dbf447799652b87c075cedb"
          ]
        },
        "id": "DvLfswubyPNt",
        "outputId": "376c28f6-2b18-4784-c6a0-d86be770dfca"
      },
      "execution_count": 22,
      "outputs": [
        {
          "output_type": "stream",
          "name": "stderr",
          "text": [
            "WARNING:datasets.arrow_dataset:Loading cached processed dataset at /root/.cache/huggingface/datasets/ryderwishart___parquet/ryderwishart--nt-move-features-c579c908d6e8fa0b/0.0.0/2a3b91fbd88a2c90d1dbbb32b460cf621d31bd5b05b934492fdef7d8d6f236ec/cache-f0f23eb08c378cc9.arrow\n"
          ]
        },
        {
          "output_type": "display_data",
          "data": {
            "text/plain": [
              "Map:   0%|          | 0/993 [00:00<?, ? examples/s]"
            ],
            "application/vnd.jupyter.widget-view+json": {
              "version_major": 2,
              "version_minor": 0,
              "model_id": "bc54b5a87d624da499c26c76b74fc820"
            }
          },
          "metadata": {}
        },
        {
          "output_type": "stream",
          "name": "stderr",
          "text": [
            "WARNING:datasets.arrow_dataset:Loading cached processed dataset at /root/.cache/huggingface/datasets/ryderwishart___parquet/ryderwishart--nt-move-features-c579c908d6e8fa0b/0.0.0/2a3b91fbd88a2c90d1dbbb32b460cf621d31bd5b05b934492fdef7d8d6f236ec/cache-36852d8a55946570.arrow\n"
          ]
        }
      ]
    },
    {
      "cell_type": "code",
      "source": [
        "from sklearn.metrics import accuracy_score"
      ],
      "metadata": {
        "id": "OCBB_n53GCha"
      },
      "execution_count": 23,
      "outputs": []
    },
    {
      "cell_type": "code",
      "source": [
        "from sklearn.metrics import f1_score, precision_score, recall_score, hamming_loss\n",
        "\n",
        "def compute_metrics(eval_pred, threshold=0.1):\n",
        "    predictions, labels = eval_pred\n",
        "    # print('predictions shape', predictions.shape, 'first prediction shape', predictions[0].shape, 'labels shape', labels.shape)\n",
        "\n",
        "    # Convert probability predictions into binary predictions using the given threshold\n",
        "    binary_predictions = (predictions > threshold).astype(int)\n",
        "    # print('after threshold binary_predictions shape', binary_predictions.shape, 'first prediction shape', binary_predictions[0].shape)\n",
        "\n",
        "    # Calculate metrics\n",
        "    f1 = f1_score(labels, binary_predictions, average='samples')\n",
        "    precision = precision_score(labels, binary_predictions, average='samples')\n",
        "    recall = recall_score(labels, binary_predictions, average='samples')\n",
        "    hamming = hamming_loss(labels, binary_predictions)\n",
        "\n",
        "    return {'f1_score': f1, 'precision': precision, 'recall': recall, 'hamming_loss': hamming}\n"
      ],
      "metadata": {
        "id": "-0p5cXXuFtxG"
      },
      "execution_count": 49,
      "outputs": []
    },
    {
      "cell_type": "code",
      "source": [
        "model = AutoModelForSequenceClassification.from_pretrained(\n",
        "    pretrained, num_labels=len(id2label), id2label=id2label, label2id=label2id,\n",
        "    problem_type = 'multi_label_classification'\n",
        ")\n",
        "\n",
        "model.to('cuda')"
      ],
      "metadata": {
        "id": "hVH_6N9PF1aM",
        "colab": {
          "base_uri": "https://localhost:8080/"
        },
        "outputId": "a74a145b-29c5-4668-a5d4-c5d98aef89ad"
      },
      "execution_count": 50,
      "outputs": [
        {
          "output_type": "stream",
          "name": "stderr",
          "text": [
            "Some weights of BertForSequenceClassification were not initialized from the model checkpoint at pranaydeeps/Ancient-Greek-BERT and are newly initialized: ['classifier.bias', 'classifier.weight']\n",
            "You should probably TRAIN this model on a down-stream task to be able to use it for predictions and inference.\n"
          ]
        },
        {
          "output_type": "execute_result",
          "data": {
            "text/plain": [
              "BertForSequenceClassification(\n",
              "  (bert): BertModel(\n",
              "    (embeddings): BertEmbeddings(\n",
              "      (word_embeddings): Embedding(35000, 768, padding_idx=0)\n",
              "      (position_embeddings): Embedding(512, 768)\n",
              "      (token_type_embeddings): Embedding(2, 768)\n",
              "      (LayerNorm): LayerNorm((768,), eps=1e-12, elementwise_affine=True)\n",
              "      (dropout): Dropout(p=0.1, inplace=False)\n",
              "    )\n",
              "    (encoder): BertEncoder(\n",
              "      (layer): ModuleList(\n",
              "        (0-11): 12 x BertLayer(\n",
              "          (attention): BertAttention(\n",
              "            (self): BertSelfAttention(\n",
              "              (query): Linear(in_features=768, out_features=768, bias=True)\n",
              "              (key): Linear(in_features=768, out_features=768, bias=True)\n",
              "              (value): Linear(in_features=768, out_features=768, bias=True)\n",
              "              (dropout): Dropout(p=0.1, inplace=False)\n",
              "            )\n",
              "            (output): BertSelfOutput(\n",
              "              (dense): Linear(in_features=768, out_features=768, bias=True)\n",
              "              (LayerNorm): LayerNorm((768,), eps=1e-12, elementwise_affine=True)\n",
              "              (dropout): Dropout(p=0.1, inplace=False)\n",
              "            )\n",
              "          )\n",
              "          (intermediate): BertIntermediate(\n",
              "            (dense): Linear(in_features=768, out_features=3072, bias=True)\n",
              "            (intermediate_act_fn): GELUActivation()\n",
              "          )\n",
              "          (output): BertOutput(\n",
              "            (dense): Linear(in_features=3072, out_features=768, bias=True)\n",
              "            (LayerNorm): LayerNorm((768,), eps=1e-12, elementwise_affine=True)\n",
              "            (dropout): Dropout(p=0.1, inplace=False)\n",
              "          )\n",
              "        )\n",
              "      )\n",
              "    )\n",
              "    (pooler): BertPooler(\n",
              "      (dense): Linear(in_features=768, out_features=768, bias=True)\n",
              "      (activation): Tanh()\n",
              "    )\n",
              "  )\n",
              "  (dropout): Dropout(p=0.1, inplace=False)\n",
              "  (classifier): Linear(in_features=768, out_features=100, bias=True)\n",
              ")"
            ]
          },
          "metadata": {},
          "execution_count": 50
        }
      ]
    },
    {
      "cell_type": "code",
      "source": [
        "output = 'output'\n",
        "\n",
        "training_args = TrainingArguments(\n",
        "    output_dir=output,\n",
        "    learning_rate=2e-5,\n",
        "    per_device_train_batch_size=4,\n",
        "    per_device_eval_batch_size=4,\n",
        "    num_train_epochs=1,\n",
        "    weight_decay=0.01,\n",
        "    evaluation_strategy='epoch',\n",
        "    # evaluation_strategy='steps',\n",
        "    # eval_steps=50,\n",
        "    # save_strategy='epoch',\n",
        "    # load_best_model_at_end=True,\n",
        "    # push_to_hub=True,\n",
        ")\n",
        "\n",
        "trainer = Trainer(\n",
        "    model=model,\n",
        "    args=training_args,\n",
        "    train_dataset=tokenized_and_id_greek['train'],\n",
        "    eval_dataset=tokenized_and_id_greek['test'],\n",
        "    tokenizer=tokenizer,\n",
        "    data_collator=data_collator,\n",
        "    compute_metrics=compute_metrics, # Ryder uncommented\n",
        ")"
      ],
      "metadata": {
        "id": "Hz1zCGx6F57s"
      },
      "execution_count": 54,
      "outputs": []
    },
    {
      "cell_type": "code",
      "source": [
        "# !pip install numba\n",
        "\n",
        "# from numba import cuda \n",
        "# device = cuda.get_current_device()\n",
        "# device.reset()"
      ],
      "metadata": {
        "id": "kPBrjeKIHm57"
      },
      "execution_count": 55,
      "outputs": []
    },
    {
      "cell_type": "code",
      "source": [
        "trainer.train()"
      ],
      "metadata": {
        "id": "X9neWYzqF-wg",
        "colab": {
          "base_uri": "https://localhost:8080/",
          "height": 211
        },
        "outputId": "5a28e109-df9c-4177-c6b7-fff5172b73d3"
      },
      "execution_count": 56,
      "outputs": [
        {
          "output_type": "stream",
          "name": "stderr",
          "text": [
            "/usr/local/lib/python3.9/dist-packages/transformers/optimization.py:391: FutureWarning: This implementation of AdamW is deprecated and will be removed in a future version. Use the PyTorch implementation torch.optim.AdamW instead, or set `no_deprecation_warning=True` to disable this warning\n",
            "  warnings.warn(\n"
          ]
        },
        {
          "output_type": "display_data",
          "data": {
            "text/plain": [
              "<IPython.core.display.HTML object>"
            ],
            "text/html": [
              "\n",
              "    <div>\n",
              "      \n",
              "      <progress value='1986' max='1986' style='width:300px; height:20px; vertical-align: middle;'></progress>\n",
              "      [1986/1986 03:18, Epoch 1/1]\n",
              "    </div>\n",
              "    <table border=\"1\" class=\"dataframe\">\n",
              "  <thead>\n",
              " <tr style=\"text-align: left;\">\n",
              "      <th>Epoch</th>\n",
              "      <th>Training Loss</th>\n",
              "      <th>Validation Loss</th>\n",
              "      <th>Loss</th>\n",
              "      <th>F1 Score</th>\n",
              "      <th>Precision</th>\n",
              "      <th>Recall</th>\n",
              "      <th>Runtime</th>\n",
              "      <th>Samples Per Second</th>\n",
              "      <th>Steps Per Second</th>\n",
              "    </tr>\n",
              "  </thead>\n",
              "  <tbody>\n",
              "    <tr>\n",
              "      <td>1</td>\n",
              "      <td>0.086500</td>\n",
              "      <td>0.032890</td>\n",
              "      <td>0.098050</td>\n",
              "      <td>0.780856</td>\n",
              "      <td>0.903563</td>\n",
              "      <td>0.712482</td>\n",
              "      <td>4.799400</td>\n",
              "      <td>206.903000</td>\n",
              "      <td>51.882000</td>\n",
              "    </tr>\n",
              "  </tbody>\n",
              "</table><p>"
            ]
          },
          "metadata": {}
        },
        {
          "output_type": "execute_result",
          "data": {
            "text/plain": [
              "TrainOutput(global_step=1986, training_loss=0.09647883773450285, metrics={'train_runtime': 198.5671, 'train_samples_per_second': 40.002, 'train_steps_per_second': 10.002, 'total_flos': 208385236702800.0, 'train_loss': 0.09647883773450285, 'epoch': 1.0})"
            ]
          },
          "metadata": {},
          "execution_count": 56
        }
      ]
    },
    {
      "cell_type": "code",
      "source": [
        "# !huggingface-cli login"
      ],
      "metadata": {
        "id": "sW0ogNwmUHWy"
      },
      "execution_count": 117,
      "outputs": []
    },
    {
      "cell_type": "code",
      "source": [
        "# model.push_to_hub('ryderwishart/greek_move_features')"
      ],
      "metadata": {
        "id": "CJD_P_EoMKem"
      },
      "execution_count": 118,
      "outputs": []
    },
    {
      "cell_type": "code",
      "source": [
        "eval_data = data['eval']"
      ],
      "metadata": {
        "id": "cO7vx-OfGFz-"
      },
      "execution_count": 81,
      "outputs": []
    },
    {
      "cell_type": "code",
      "source": [
        "print(eval_model.device)\n",
        "model.to('cpu')\n",
        "print(model.device)"
      ],
      "metadata": {
        "colab": {
          "base_uri": "https://localhost:8080/"
        },
        "id": "_IAuIJZxP4T9",
        "outputId": "3dc47910-7bd7-491c-d703-552d38d73e7a"
      },
      "execution_count": 98,
      "outputs": [
        {
          "output_type": "stream",
          "name": "stdout",
          "text": [
            "cuda:0\n",
            "cpu\n"
          ]
        }
      ]
    },
    {
      "cell_type": "code",
      "source": [
        "classifier = pipeline(\"text-classification\", model=model, tokenizer=tokenizer)"
      ],
      "metadata": {
        "id": "iQNfV5D1I9Mi"
      },
      "execution_count": 110,
      "outputs": []
    },
    {
      "cell_type": "code",
      "source": [
        "classifier.device"
      ],
      "metadata": {
        "colab": {
          "base_uri": "https://localhost:8080/"
        },
        "id": "2xcnmyCkPnFl",
        "outputId": "371610ae-0e8c-43e2-8330-bee3fee7e8cd"
      },
      "execution_count": 111,
      "outputs": [
        {
          "output_type": "execute_result",
          "data": {
            "text/plain": [
              "device(type='cpu')"
            ]
          },
          "metadata": {},
          "execution_count": 111
        }
      ]
    },
    {
      "cell_type": "code",
      "source": [
        "predictions = []\n",
        "\n",
        "for i, sentence in enumerate(eval_data):\n",
        "    print(f'{i} of {len(eval_data)}')\n",
        "    sentence_text = sentence['text']\n",
        "    predictions.append(classifier(sentence_text))\n",
        "    print(predictions[-1])\n",
        "    break"
      ],
      "metadata": {
        "id": "3DXpy6pIJad2",
        "colab": {
          "base_uri": "https://localhost:8080/"
        },
        "outputId": "7a90c03b-bff2-4107-832c-8defad1a2450"
      },
      "execution_count": 112,
      "outputs": [
        {
          "output_type": "stream",
          "name": "stdout",
          "text": [
            "0 of 993\n",
            "[{'label': 'dative_association', 'score': 0.9962292313575745}]\n"
          ]
        }
      ]
    },
    {
      "cell_type": "code",
      "source": [
        "print(eval_data[0]['text'])\n",
        "print(eval_data[0]['label'])\n",
        "print(predictions[0])"
      ],
      "metadata": {
        "colab": {
          "base_uri": "https://localhost:8080/"
        },
        "id": "xpafP6zoQnvg",
        "outputId": "b4123fbb-0ee6-4e9b-82a4-0dd0857a917a"
      },
      "execution_count": 109,
      "outputs": [
        {
          "output_type": "stream",
          "name": "stdout",
          "text": [
            "καρδίᾳ γὰρ πιστεύεται εἰς δικαιοσύνην \n",
            "['speech_act', '#predicating', 'circumstance', 'subjective_participation_type_tbd', '$process', 'circumstance', 'alertness', 'objectifying', '#externalization', 'centrality_tbd', 'development_marker', 'supporting']\n",
            "[{'label': 'dative_association', 'score': 0.9962292313575745}]\n"
          ]
        }
      ]
    },
    {
      "cell_type": "code",
      "source": [
        "len(eval_data)"
      ],
      "metadata": {
        "colab": {
          "base_uri": "https://localhost:8080/"
        },
        "id": "5WjPwWBkRWqB",
        "outputId": "98aa2691-ce3d-4ed6-d657-2e7e365a9423"
      },
      "execution_count": 104,
      "outputs": [
        {
          "output_type": "execute_result",
          "data": {
            "text/plain": [
              "993"
            ]
          },
          "metadata": {},
          "execution_count": 104
        }
      ]
    },
    {
      "cell_type": "code",
      "source": [
        "\"\"\"\n",
        "TODO: \n",
        "- rather than using the pipeline class, let's just directly submit out inputs to the model\n",
        "- model(eval_sentence)\n",
        "- we will need to figure out what format the evaluation sentence needs to be in\n",
        "- does it need to be tokenized? Should we use tokenized_and_id_greek['eval'] for the sentences?\n",
        "- do we need to conver the input sentence into a torch or tensorflow tensor? \n",
        "- how can we conver the model output back into the labels we want?\n",
        "\n",
        "\"\"\""
      ],
      "metadata": {
        "id": "JlC4sE4qRYZB"
      },
      "execution_count": null,
      "outputs": []
    }
  ]
}