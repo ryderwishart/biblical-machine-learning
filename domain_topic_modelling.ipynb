{
  "cells": [
    {
      "cell_type": "markdown",
      "metadata": {
        "id": "view-in-github",
        "colab_type": "text"
      },
      "source": [
        "<a href=\"https://colab.research.google.com/github/ryderwishart/biblical-machine-learning/blob/main/domain_topic_modelling.ipynb\" target=\"_parent\"><img src=\"https://colab.research.google.com/assets/colab-badge.svg\" alt=\"Open In Colab\"/></a>"
      ]
    },
    {
      "cell_type": "code",
      "execution_count": 1,
      "metadata": {
        "colab": {
          "base_uri": "https://localhost:8080/"
        },
        "id": "BQyt8aMwcd3j",
        "outputId": "b37c248d-140d-4466-9046-35dac264cc05"
      },
      "outputs": [
        {
          "output_type": "stream",
          "name": "stdout",
          "text": [
            "Looking in indexes: https://pypi.org/simple, https://us-python.pkg.dev/colab-wheels/public/simple/\n",
            "Collecting pyLDAvis\n",
            "  Downloading pyLDAvis-3.4.0-py3-none-any.whl (2.6 MB)\n",
            "\u001b[2K     \u001b[90m━━━━━━━━━━━━━━━━━━━━━━━━━━━━━━━━━━━━━━━━\u001b[0m \u001b[32m2.6/2.6 MB\u001b[0m \u001b[31m19.2 MB/s\u001b[0m eta \u001b[36m0:00:00\u001b[0m\n",
            "\u001b[?25hRequirement already satisfied: scikit-learn>=1.0.0 in /usr/local/lib/python3.9/dist-packages (from pyLDAvis) (1.2.2)\n",
            "Requirement already satisfied: scipy in /usr/local/lib/python3.9/dist-packages (from pyLDAvis) (1.10.1)\n",
            "Requirement already satisfied: numexpr in /usr/local/lib/python3.9/dist-packages (from pyLDAvis) (2.8.4)\n",
            "Collecting funcy\n",
            "  Downloading funcy-2.0-py2.py3-none-any.whl (30 kB)\n",
            "Requirement already satisfied: numpy>=1.22.0 in /usr/local/lib/python3.9/dist-packages (from pyLDAvis) (1.22.4)\n",
            "Requirement already satisfied: gensim in /usr/local/lib/python3.9/dist-packages (from pyLDAvis) (4.3.1)\n",
            "Requirement already satisfied: jinja2 in /usr/local/lib/python3.9/dist-packages (from pyLDAvis) (3.1.2)\n",
            "Collecting joblib>=1.2.0\n",
            "  Downloading joblib-1.2.0-py3-none-any.whl (297 kB)\n",
            "\u001b[2K     \u001b[90m━━━━━━━━━━━━━━━━━━━━━━━━━━━━━━━━━━━━━━\u001b[0m \u001b[32m298.0/298.0 KB\u001b[0m \u001b[31m17.2 MB/s\u001b[0m eta \u001b[36m0:00:00\u001b[0m\n",
            "\u001b[?25hRequirement already satisfied: pandas>=1.3.4 in /usr/local/lib/python3.9/dist-packages (from pyLDAvis) (1.4.4)\n",
            "Requirement already satisfied: setuptools in /usr/local/lib/python3.9/dist-packages (from pyLDAvis) (67.6.1)\n",
            "Requirement already satisfied: pytz>=2020.1 in /usr/local/lib/python3.9/dist-packages (from pandas>=1.3.4->pyLDAvis) (2022.7.1)\n",
            "Requirement already satisfied: python-dateutil>=2.8.1 in /usr/local/lib/python3.9/dist-packages (from pandas>=1.3.4->pyLDAvis) (2.8.2)\n",
            "Requirement already satisfied: threadpoolctl>=2.0.0 in /usr/local/lib/python3.9/dist-packages (from scikit-learn>=1.0.0->pyLDAvis) (3.1.0)\n",
            "Requirement already satisfied: smart-open>=1.8.1 in /usr/local/lib/python3.9/dist-packages (from gensim->pyLDAvis) (6.3.0)\n",
            "Requirement already satisfied: MarkupSafe>=2.0 in /usr/local/lib/python3.9/dist-packages (from jinja2->pyLDAvis) (2.1.2)\n",
            "Requirement already satisfied: six>=1.5 in /usr/local/lib/python3.9/dist-packages (from python-dateutil>=2.8.1->pandas>=1.3.4->pyLDAvis) (1.16.0)\n",
            "Installing collected packages: funcy, joblib, pyLDAvis\n",
            "  Attempting uninstall: joblib\n",
            "    Found existing installation: joblib 1.1.1\n",
            "    Uninstalling joblib-1.1.1:\n",
            "      Successfully uninstalled joblib-1.1.1\n",
            "\u001b[31mERROR: pip's dependency resolver does not currently take into account all the packages that are installed. This behaviour is the source of the following dependency conflicts.\n",
            "pandas-profiling 3.2.0 requires joblib~=1.1.0, but you have joblib 1.2.0 which is incompatible.\u001b[0m\u001b[31m\n",
            "\u001b[0mSuccessfully installed funcy-2.0 joblib-1.2.0 pyLDAvis-3.4.0\n",
            "Looking in indexes: https://pypi.org/simple, https://us-python.pkg.dev/colab-wheels/public/simple/\n",
            "Collecting gensim==4.3.0\n",
            "  Downloading gensim-4.3.0-cp39-cp39-manylinux_2_12_x86_64.manylinux2010_x86_64.whl (24.0 MB)\n",
            "\u001b[2K     \u001b[90m━━━━━━━━━━━━━━━━━━━━━━━━━━━━━━━━━━━━━━━━\u001b[0m \u001b[32m24.0/24.0 MB\u001b[0m \u001b[31m13.8 MB/s\u001b[0m eta \u001b[36m0:00:00\u001b[0m\n",
            "\u001b[?25hRequirement already satisfied: scipy>=1.7.0 in /usr/local/lib/python3.9/dist-packages (from gensim==4.3.0) (1.10.1)\n",
            "Collecting FuzzyTM>=0.4.0\n",
            "  Downloading FuzzyTM-2.0.5-py3-none-any.whl (29 kB)\n",
            "Requirement already satisfied: numpy>=1.18.5 in /usr/local/lib/python3.9/dist-packages (from gensim==4.3.0) (1.22.4)\n",
            "Requirement already satisfied: smart-open>=1.8.1 in /usr/local/lib/python3.9/dist-packages (from gensim==4.3.0) (6.3.0)\n",
            "Requirement already satisfied: pandas in /usr/local/lib/python3.9/dist-packages (from FuzzyTM>=0.4.0->gensim==4.3.0) (1.4.4)\n",
            "Collecting pyfume\n",
            "  Downloading pyFUME-0.2.25-py3-none-any.whl (67 kB)\n",
            "\u001b[2K     \u001b[90m━━━━━━━━━━━━━━━━━━━━━━━━━━━━━━━━━━━━━━━━\u001b[0m \u001b[32m67.1/67.1 KB\u001b[0m \u001b[31m3.8 MB/s\u001b[0m eta \u001b[36m0:00:00\u001b[0m\n",
            "\u001b[?25hRequirement already satisfied: python-dateutil>=2.8.1 in /usr/local/lib/python3.9/dist-packages (from pandas->FuzzyTM>=0.4.0->gensim==4.3.0) (2.8.2)\n",
            "Requirement already satisfied: pytz>=2020.1 in /usr/local/lib/python3.9/dist-packages (from pandas->FuzzyTM>=0.4.0->gensim==4.3.0) (2022.7.1)\n",
            "Collecting fst-pso\n",
            "  Downloading fst-pso-1.8.1.tar.gz (18 kB)\n",
            "  Preparing metadata (setup.py) ... \u001b[?25l\u001b[?25hdone\n",
            "Collecting simpful\n",
            "  Downloading simpful-2.10.0-py3-none-any.whl (31 kB)\n",
            "Requirement already satisfied: six>=1.5 in /usr/local/lib/python3.9/dist-packages (from python-dateutil>=2.8.1->pandas->FuzzyTM>=0.4.0->gensim==4.3.0) (1.16.0)\n",
            "Collecting miniful\n",
            "  Downloading miniful-0.0.6.tar.gz (2.8 kB)\n",
            "  Preparing metadata (setup.py) ... \u001b[?25l\u001b[?25hdone\n",
            "Requirement already satisfied: requests in /usr/local/lib/python3.9/dist-packages (from simpful->pyfume->FuzzyTM>=0.4.0->gensim==4.3.0) (2.27.1)\n",
            "Requirement already satisfied: certifi>=2017.4.17 in /usr/local/lib/python3.9/dist-packages (from requests->simpful->pyfume->FuzzyTM>=0.4.0->gensim==4.3.0) (2022.12.7)\n",
            "Requirement already satisfied: urllib3<1.27,>=1.21.1 in /usr/local/lib/python3.9/dist-packages (from requests->simpful->pyfume->FuzzyTM>=0.4.0->gensim==4.3.0) (1.26.15)\n",
            "Requirement already satisfied: idna<4,>=2.5 in /usr/local/lib/python3.9/dist-packages (from requests->simpful->pyfume->FuzzyTM>=0.4.0->gensim==4.3.0) (3.4)\n",
            "Requirement already satisfied: charset-normalizer~=2.0.0 in /usr/local/lib/python3.9/dist-packages (from requests->simpful->pyfume->FuzzyTM>=0.4.0->gensim==4.3.0) (2.0.12)\n",
            "Building wheels for collected packages: fst-pso, miniful\n",
            "  Building wheel for fst-pso (setup.py) ... \u001b[?25l\u001b[?25hdone\n",
            "  Created wheel for fst-pso: filename=fst_pso-1.8.1-py3-none-any.whl size=20444 sha256=9c0e79043c16ffcd6c01cbeebe00d57223cf504d5bd0202a8e6783a62437b2ff\n",
            "  Stored in directory: /root/.cache/pip/wheels/99/66/48/d7ce0c6927f6abf167bbcdee537affc7b92c03632f78028411\n",
            "  Building wheel for miniful (setup.py) ... \u001b[?25l\u001b[?25hdone\n",
            "  Created wheel for miniful: filename=miniful-0.0.6-py3-none-any.whl size=3529 sha256=6b1c7918b8e384cf1419188690a13370134f2087e36fb9b10d77fbb9757bea3e\n",
            "  Stored in directory: /root/.cache/pip/wheels/d9/c7/71/db1d4646d963b34c530667501d3d6f34c0825eaffae2f0f2cb\n",
            "Successfully built fst-pso miniful\n",
            "Installing collected packages: simpful, miniful, fst-pso, pyfume, FuzzyTM, gensim\n",
            "  Attempting uninstall: gensim\n",
            "    Found existing installation: gensim 4.3.1\n",
            "    Uninstalling gensim-4.3.1:\n",
            "      Successfully uninstalled gensim-4.3.1\n",
            "Successfully installed FuzzyTM-2.0.5 fst-pso-1.8.1 gensim-4.3.0 miniful-0.0.6 pyfume-0.2.25 simpful-2.10.0\n",
            "Looking in indexes: https://pypi.org/simple, https://us-python.pkg.dev/colab-wheels/public/simple/\n",
            "Requirement already satisfied: pandas in /usr/local/lib/python3.9/dist-packages (1.4.4)\n",
            "Requirement already satisfied: numpy>=1.18.5 in /usr/local/lib/python3.9/dist-packages (from pandas) (1.22.4)\n",
            "Requirement already satisfied: python-dateutil>=2.8.1 in /usr/local/lib/python3.9/dist-packages (from pandas) (2.8.2)\n",
            "Requirement already satisfied: pytz>=2020.1 in /usr/local/lib/python3.9/dist-packages (from pandas) (2022.7.1)\n",
            "Requirement already satisfied: six>=1.5 in /usr/local/lib/python3.9/dist-packages (from python-dateutil>=2.8.1->pandas) (1.16.0)\n"
          ]
        }
      ],
      "source": [
        "!pip install pyLDAvis\n",
        "!pip install gensim==4.3.0\n",
        "!pip install pandas"
      ]
    },
    {
      "cell_type": "markdown",
      "metadata": {
        "id": "iAtVZHrlco6O"
      },
      "source": [
        "## Imports"
      ]
    },
    {
      "cell_type": "code",
      "execution_count": 2,
      "metadata": {
        "id": "0HMGZN75cr2M"
      },
      "outputs": [],
      "source": [
        "from gensim import corpora\n",
        "from gensim.models import CoherenceModel, LdaModel\n",
        "from gensim.models import EnsembleLda\n",
        "from gensim.corpora import Dictionary\n",
        "from collections import Counter\n",
        "import pyLDAvis.gensim_models as gensimvis\n",
        "import pyLDAvis\n",
        "import os\n",
        "import codecs\n",
        "import pandas as pd"
      ]
    },
    {
      "cell_type": "markdown",
      "metadata": {
        "id": "jf9ufdZ9eZ-k"
      },
      "source": [
        "## Build Corpus"
      ]
    },
    {
      "cell_type": "code",
      "source": [
        "if 'macula-greek.tsv' not in [path for path in os.listdir()]:\n",
        "    !wget -q 'https://raw.githubusercontent.com/Clear-Bible/macula-greek/main/Nestle1904/TSV/macula-greek.tsv'\n",
        "if 'marble-domain-label-mapping.json' not in [path for path in os.listdir()]:\n",
        "    !wget -q 'https://raw.githubusercontent.com/Clear-Bible/macula-greek/main/sources/MARBLE/SDBG/marble-domain-label-mapping.json'"
      ],
      "metadata": {
        "id": "zGHbSUYD_K8a",
        "outputId": "684743e6-992a-447a-d334-645f125b5056",
        "colab": {
          "base_uri": "https://localhost:8080/"
        }
      },
      "execution_count": 3,
      "outputs": [
        {
          "output_type": "stream",
          "name": "stderr",
          "text": [
            "/usr/local/lib/python3.9/dist-packages/ipykernel/ipkernel.py:283: DeprecationWarning: `should_run_async` will not call `transform_cell` automatically in the future. Please pass the result to `transformed_cell` argument and any exception that happen during thetransform in `preprocessing_exc_tuple` in IPython 7.17 and above.\n",
            "  and should_run_async(code)\n"
          ]
        }
      ]
    },
    {
      "cell_type": "code",
      "execution_count": 4,
      "metadata": {
        "id": "CtUz3kg5cuFe",
        "colab": {
          "base_uri": "https://localhost:8080/"
        },
        "outputId": "ccaaf05b-e5d7-4540-eb92-34617e6969b0"
      },
      "outputs": [
        {
          "output_type": "stream",
          "name": "stderr",
          "text": [
            "/usr/local/lib/python3.9/dist-packages/ipykernel/ipkernel.py:283: DeprecationWarning: `should_run_async` will not call `transform_cell` automatically in the future. Please pass the result to `transformed_cell` argument and any exception that happen during thetransform in `preprocessing_exc_tuple` in IPython 7.17 and above.\n",
            "  and should_run_async(code)\n"
          ]
        },
        {
          "output_type": "execute_result",
          "data": {
            "text/plain": [
              "['.config',\n",
              " 'macula-greek.tsv',\n",
              " 'marble-domain-label-mapping.json',\n",
              " 'sample_data']"
            ]
          },
          "metadata": {},
          "execution_count": 4
        }
      ],
      "source": [
        "os.listdir()"
      ]
    },
    {
      "cell_type": "code",
      "source": [
        "# Import Macula Greek data\n",
        "mg = pd.read_csv('macula-greek.tsv', sep='\\t', header=0, dtype='str')\n",
        "mg['domain'] = mg['domain'].astype(str).fillna('missing')\n",
        "\n",
        "# Extract book, chapter, and verse into separate columns\n",
        "mg[['book', 'chapter', 'verse']] = mg['ref'].str.extract(r'(\\d?[A-Z]+)\\s(\\d+):(\\d+)')\n",
        "\n",
        "# Add columns for book + chapter, and book + chapter + verse for easier grouping\n",
        "mg['book_chapter'] = mg['book'] + ' ' + mg['chapter'].astype(str)\n",
        "mg['book_chapter_verse'] = mg['book_chapter'] + ':' + mg['verse'].astype(str)\n",
        "\n",
        "# Display the updated data frame\n",
        "mg.head()"
      ],
      "metadata": {
        "colab": {
          "base_uri": "https://localhost:8080/",
          "height": 416
        },
        "id": "zfcFUhrl87Xy",
        "outputId": "edc18b30-0d0c-4205-878c-21c47ea40e22"
      },
      "execution_count": 5,
      "outputs": [
        {
          "output_type": "stream",
          "name": "stderr",
          "text": [
            "/usr/local/lib/python3.9/dist-packages/ipykernel/ipkernel.py:283: DeprecationWarning: `should_run_async` will not call `transform_cell` automatically in the future. Please pass the result to `transformed_cell` argument and any exception that happen during thetransform in `preprocessing_exc_tuple` in IPython 7.17 and above.\n",
            "  and should_run_async(code)\n"
          ]
        },
        {
          "output_type": "execute_result",
          "data": {
            "text/plain": [
              "         xml:id        ref role class    type               gloss      text  \\\n",
              "0  n40001001001  MAT 1:1!1  NaN  noun  common          [The] book    Βίβλος   \n",
              "1  n40001001002  MAT 1:1!2  NaN  noun  common  of [the] genealogy  γενέσεως   \n",
              "2  n40001001003  MAT 1:1!3  NaN  noun  proper            of Jesus     Ἰησοῦ   \n",
              "3  n40001001004  MAT 1:1!4  NaN  noun  proper              Christ   Χριστοῦ   \n",
              "4  n40001001005  MAT 1:1!5  NaN  noun  common                 son      υἱοῦ   \n",
              "\n",
              "  after    lemma normalized  ...         domain           ln frame subjref  \\\n",
              "0         βίβλος     Βίβλος  ...         033005        33.38   NaN     NaN   \n",
              "1        γένεσις   γενέσεως  ...  010002 033003  10.24 33.19   NaN     NaN   \n",
              "2         Ἰησοῦς      Ἰησοῦ  ...         093001      93.169a   NaN     NaN   \n",
              "3        Χριστός    Χριστοῦ  ...         093001       93.387   NaN     NaN   \n",
              "4           υἱός       υἱοῦ  ...         010002        10.30   NaN     NaN   \n",
              "\n",
              "  referent book chapter verse book_chapter book_chapter_verse  \n",
              "0      NaN  MAT       1     1        MAT 1            MAT 1:1  \n",
              "1      NaN  MAT       1     1        MAT 1            MAT 1:1  \n",
              "2      NaN  MAT       1     1        MAT 1            MAT 1:1  \n",
              "3      NaN  MAT       1     1        MAT 1            MAT 1:1  \n",
              "4      NaN  MAT       1     1        MAT 1            MAT 1:1  \n",
              "\n",
              "[5 rows x 30 columns]"
            ],
            "text/html": [
              "\n",
              "  <div id=\"df-76b05bcb-934c-45ab-ba59-14d25e127d53\">\n",
              "    <div class=\"colab-df-container\">\n",
              "      <div>\n",
              "<style scoped>\n",
              "    .dataframe tbody tr th:only-of-type {\n",
              "        vertical-align: middle;\n",
              "    }\n",
              "\n",
              "    .dataframe tbody tr th {\n",
              "        vertical-align: top;\n",
              "    }\n",
              "\n",
              "    .dataframe thead th {\n",
              "        text-align: right;\n",
              "    }\n",
              "</style>\n",
              "<table border=\"1\" class=\"dataframe\">\n",
              "  <thead>\n",
              "    <tr style=\"text-align: right;\">\n",
              "      <th></th>\n",
              "      <th>xml:id</th>\n",
              "      <th>ref</th>\n",
              "      <th>role</th>\n",
              "      <th>class</th>\n",
              "      <th>type</th>\n",
              "      <th>gloss</th>\n",
              "      <th>text</th>\n",
              "      <th>after</th>\n",
              "      <th>lemma</th>\n",
              "      <th>normalized</th>\n",
              "      <th>...</th>\n",
              "      <th>domain</th>\n",
              "      <th>ln</th>\n",
              "      <th>frame</th>\n",
              "      <th>subjref</th>\n",
              "      <th>referent</th>\n",
              "      <th>book</th>\n",
              "      <th>chapter</th>\n",
              "      <th>verse</th>\n",
              "      <th>book_chapter</th>\n",
              "      <th>book_chapter_verse</th>\n",
              "    </tr>\n",
              "  </thead>\n",
              "  <tbody>\n",
              "    <tr>\n",
              "      <th>0</th>\n",
              "      <td>n40001001001</td>\n",
              "      <td>MAT 1:1!1</td>\n",
              "      <td>NaN</td>\n",
              "      <td>noun</td>\n",
              "      <td>common</td>\n",
              "      <td>[The] book</td>\n",
              "      <td>Βίβλος</td>\n",
              "      <td></td>\n",
              "      <td>βίβλος</td>\n",
              "      <td>Βίβλος</td>\n",
              "      <td>...</td>\n",
              "      <td>033005</td>\n",
              "      <td>33.38</td>\n",
              "      <td>NaN</td>\n",
              "      <td>NaN</td>\n",
              "      <td>NaN</td>\n",
              "      <td>MAT</td>\n",
              "      <td>1</td>\n",
              "      <td>1</td>\n",
              "      <td>MAT 1</td>\n",
              "      <td>MAT 1:1</td>\n",
              "    </tr>\n",
              "    <tr>\n",
              "      <th>1</th>\n",
              "      <td>n40001001002</td>\n",
              "      <td>MAT 1:1!2</td>\n",
              "      <td>NaN</td>\n",
              "      <td>noun</td>\n",
              "      <td>common</td>\n",
              "      <td>of [the] genealogy</td>\n",
              "      <td>γενέσεως</td>\n",
              "      <td></td>\n",
              "      <td>γένεσις</td>\n",
              "      <td>γενέσεως</td>\n",
              "      <td>...</td>\n",
              "      <td>010002 033003</td>\n",
              "      <td>10.24 33.19</td>\n",
              "      <td>NaN</td>\n",
              "      <td>NaN</td>\n",
              "      <td>NaN</td>\n",
              "      <td>MAT</td>\n",
              "      <td>1</td>\n",
              "      <td>1</td>\n",
              "      <td>MAT 1</td>\n",
              "      <td>MAT 1:1</td>\n",
              "    </tr>\n",
              "    <tr>\n",
              "      <th>2</th>\n",
              "      <td>n40001001003</td>\n",
              "      <td>MAT 1:1!3</td>\n",
              "      <td>NaN</td>\n",
              "      <td>noun</td>\n",
              "      <td>proper</td>\n",
              "      <td>of Jesus</td>\n",
              "      <td>Ἰησοῦ</td>\n",
              "      <td></td>\n",
              "      <td>Ἰησοῦς</td>\n",
              "      <td>Ἰησοῦ</td>\n",
              "      <td>...</td>\n",
              "      <td>093001</td>\n",
              "      <td>93.169a</td>\n",
              "      <td>NaN</td>\n",
              "      <td>NaN</td>\n",
              "      <td>NaN</td>\n",
              "      <td>MAT</td>\n",
              "      <td>1</td>\n",
              "      <td>1</td>\n",
              "      <td>MAT 1</td>\n",
              "      <td>MAT 1:1</td>\n",
              "    </tr>\n",
              "    <tr>\n",
              "      <th>3</th>\n",
              "      <td>n40001001004</td>\n",
              "      <td>MAT 1:1!4</td>\n",
              "      <td>NaN</td>\n",
              "      <td>noun</td>\n",
              "      <td>proper</td>\n",
              "      <td>Christ</td>\n",
              "      <td>Χριστοῦ</td>\n",
              "      <td></td>\n",
              "      <td>Χριστός</td>\n",
              "      <td>Χριστοῦ</td>\n",
              "      <td>...</td>\n",
              "      <td>093001</td>\n",
              "      <td>93.387</td>\n",
              "      <td>NaN</td>\n",
              "      <td>NaN</td>\n",
              "      <td>NaN</td>\n",
              "      <td>MAT</td>\n",
              "      <td>1</td>\n",
              "      <td>1</td>\n",
              "      <td>MAT 1</td>\n",
              "      <td>MAT 1:1</td>\n",
              "    </tr>\n",
              "    <tr>\n",
              "      <th>4</th>\n",
              "      <td>n40001001005</td>\n",
              "      <td>MAT 1:1!5</td>\n",
              "      <td>NaN</td>\n",
              "      <td>noun</td>\n",
              "      <td>common</td>\n",
              "      <td>son</td>\n",
              "      <td>υἱοῦ</td>\n",
              "      <td></td>\n",
              "      <td>υἱός</td>\n",
              "      <td>υἱοῦ</td>\n",
              "      <td>...</td>\n",
              "      <td>010002</td>\n",
              "      <td>10.30</td>\n",
              "      <td>NaN</td>\n",
              "      <td>NaN</td>\n",
              "      <td>NaN</td>\n",
              "      <td>MAT</td>\n",
              "      <td>1</td>\n",
              "      <td>1</td>\n",
              "      <td>MAT 1</td>\n",
              "      <td>MAT 1:1</td>\n",
              "    </tr>\n",
              "  </tbody>\n",
              "</table>\n",
              "<p>5 rows × 30 columns</p>\n",
              "</div>\n",
              "      <button class=\"colab-df-convert\" onclick=\"convertToInteractive('df-76b05bcb-934c-45ab-ba59-14d25e127d53')\"\n",
              "              title=\"Convert this dataframe to an interactive table.\"\n",
              "              style=\"display:none;\">\n",
              "        \n",
              "  <svg xmlns=\"http://www.w3.org/2000/svg\" height=\"24px\"viewBox=\"0 0 24 24\"\n",
              "       width=\"24px\">\n",
              "    <path d=\"M0 0h24v24H0V0z\" fill=\"none\"/>\n",
              "    <path d=\"M18.56 5.44l.94 2.06.94-2.06 2.06-.94-2.06-.94-.94-2.06-.94 2.06-2.06.94zm-11 1L8.5 8.5l.94-2.06 2.06-.94-2.06-.94L8.5 2.5l-.94 2.06-2.06.94zm10 10l.94 2.06.94-2.06 2.06-.94-2.06-.94-.94-2.06-.94 2.06-2.06.94z\"/><path d=\"M17.41 7.96l-1.37-1.37c-.4-.4-.92-.59-1.43-.59-.52 0-1.04.2-1.43.59L10.3 9.45l-7.72 7.72c-.78.78-.78 2.05 0 2.83L4 21.41c.39.39.9.59 1.41.59.51 0 1.02-.2 1.41-.59l7.78-7.78 2.81-2.81c.8-.78.8-2.07 0-2.86zM5.41 20L4 18.59l7.72-7.72 1.47 1.35L5.41 20z\"/>\n",
              "  </svg>\n",
              "      </button>\n",
              "      \n",
              "  <style>\n",
              "    .colab-df-container {\n",
              "      display:flex;\n",
              "      flex-wrap:wrap;\n",
              "      gap: 12px;\n",
              "    }\n",
              "\n",
              "    .colab-df-convert {\n",
              "      background-color: #E8F0FE;\n",
              "      border: none;\n",
              "      border-radius: 50%;\n",
              "      cursor: pointer;\n",
              "      display: none;\n",
              "      fill: #1967D2;\n",
              "      height: 32px;\n",
              "      padding: 0 0 0 0;\n",
              "      width: 32px;\n",
              "    }\n",
              "\n",
              "    .colab-df-convert:hover {\n",
              "      background-color: #E2EBFA;\n",
              "      box-shadow: 0px 1px 2px rgba(60, 64, 67, 0.3), 0px 1px 3px 1px rgba(60, 64, 67, 0.15);\n",
              "      fill: #174EA6;\n",
              "    }\n",
              "\n",
              "    [theme=dark] .colab-df-convert {\n",
              "      background-color: #3B4455;\n",
              "      fill: #D2E3FC;\n",
              "    }\n",
              "\n",
              "    [theme=dark] .colab-df-convert:hover {\n",
              "      background-color: #434B5C;\n",
              "      box-shadow: 0px 1px 3px 1px rgba(0, 0, 0, 0.15);\n",
              "      filter: drop-shadow(0px 1px 2px rgba(0, 0, 0, 0.3));\n",
              "      fill: #FFFFFF;\n",
              "    }\n",
              "  </style>\n",
              "\n",
              "      <script>\n",
              "        const buttonEl =\n",
              "          document.querySelector('#df-76b05bcb-934c-45ab-ba59-14d25e127d53 button.colab-df-convert');\n",
              "        buttonEl.style.display =\n",
              "          google.colab.kernel.accessAllowed ? 'block' : 'none';\n",
              "\n",
              "        async function convertToInteractive(key) {\n",
              "          const element = document.querySelector('#df-76b05bcb-934c-45ab-ba59-14d25e127d53');\n",
              "          const dataTable =\n",
              "            await google.colab.kernel.invokeFunction('convertToInteractive',\n",
              "                                                     [key], {});\n",
              "          if (!dataTable) return;\n",
              "\n",
              "          const docLinkHtml = 'Like what you see? Visit the ' +\n",
              "            '<a target=\"_blank\" href=https://colab.research.google.com/notebooks/data_table.ipynb>data table notebook</a>'\n",
              "            + ' to learn more about interactive tables.';\n",
              "          element.innerHTML = '';\n",
              "          dataTable['output_type'] = 'display_data';\n",
              "          await google.colab.output.renderOutput(dataTable, element);\n",
              "          const docLink = document.createElement('div');\n",
              "          docLink.innerHTML = docLinkHtml;\n",
              "          element.appendChild(docLink);\n",
              "        }\n",
              "      </script>\n",
              "    </div>\n",
              "  </div>\n",
              "  "
            ]
          },
          "metadata": {},
          "execution_count": 5
        }
      ]
    },
    {
      "cell_type": "code",
      "source": [
        "# Import domain-label mapping\n",
        "import json\n",
        "\n",
        "# Open the JSON file\n",
        "with open('marble-domain-label-mapping.json', 'r') as f:\n",
        "\n",
        "    # Load the contents of the file as a dictionary\n",
        "    domain_labels = json.load(f)\n",
        "\n",
        "domain_labels['missing'] = 'no domain'\n",
        "\n",
        "# Display the resulting dictionary\n",
        "count = 0\n",
        "for d, l in domain_labels.items():\n",
        "    print(d, l)\n",
        "    if count > 5:\n",
        "        break\n",
        "    count += 1"
      ],
      "metadata": {
        "colab": {
          "base_uri": "https://localhost:8080/"
        },
        "id": "Aqu1upkw_4UA",
        "outputId": "4cb54951-8721-493d-99f7-9cbfe478fb0b"
      },
      "execution_count": 6,
      "outputs": [
        {
          "output_type": "stream",
          "name": "stdout",
          "text": [
            "001 Geographical Objects and Features\n",
            "001001 Universe, Creation\n",
            "001002 Regions Above the Earth\n",
            "001003 Regions Below the Surface of the Earth\n",
            "001004 Heavenly Bodies\n",
            "001005 Atmospheric Objects\n",
            "001006 The Earth's Surface\n"
          ]
        },
        {
          "output_type": "stream",
          "name": "stderr",
          "text": [
            "/usr/local/lib/python3.9/dist-packages/ipykernel/ipkernel.py:283: DeprecationWarning: `should_run_async` will not call `transform_cell` automatically in the future. Please pass the result to `transformed_cell` argument and any exception that happen during thetransform in `preprocessing_exc_tuple` in IPython 7.17 and above.\n",
            "  and should_run_async(code)\n"
          ]
        }
      ]
    },
    {
      "cell_type": "markdown",
      "source": [
        "Let's filter out stopwords using a list from [Perseus](https://wiki.digitalclassicist.org/Stopwords_for_Greek_and_Latin)."
      ],
      "metadata": {
        "id": "HCU3A6Nuownp"
      }
    },
    {
      "cell_type": "code",
      "source": [
        "perseus_stopwords = \"μή, ἑαυτοῦ, ἄν, ἀλλ', ἀλλά, ἄλλος, ἀπό, ἄρα, αὐτός, δ', δέ, δή, διά, δαί, δαίς, ἔτι, ἐγώ, ἐκ, ἐμός, ἐν, ἐπί, εἰ, εἰμί, εἴμι, εἰς, γάρ, γε, γα, ἡ, ἤ, καί, κατά, μέν, μετά, μή, ὁ, ὅδε, ὅς, ὅστις, ὅτι, οὕτως, οὗτος, οὔτε, οὖν, οὐδείς, οἱ, οὐ, οὐδέ, οὐκ, περί, πρός, σύ, σύν, τά, τε, τήν, τῆς, τῇ, τι, τί, τις, τίς, τό, τοί, τοιοῦτος, τόν, τούς, τοῦ, τῶν, τῷ, ὑμός, ὑπέρ, ὑπό, ὡς, ὦ, ὥστε, ἐάν, παρά, σός\".split(', ')\n",
        "perseus_stopwords += \"συ\".split(' ')\n",
        "# filter the DataFrame to exclude rows with class values in the exclude_list\n",
        "filtered_mg = mg[~mg['normalized'].isin(perseus_stopwords)] # Check normalized forms\n",
        "filtered_mg = filtered_mg[~filtered_mg['lemma'].isin(perseus_stopwords)] # Check lemmas\n",
        "difference = len(mg) - len(filtered_mg)\n",
        "print(f'{difference} rows removed using stopwords')\n",
        "# Also exclude certain parts of speech\n",
        "pos_exclude_list = ['det', 'prep', 'pron', 'conj', 'ptcl']\n",
        "cur_len = len(filtered_mg)\n",
        "filtered_mg = filtered_mg[~filtered_mg['class'].isin(pos_exclude_list)]\n",
        "print(f'{cur_len - len(filtered_mg)} more rows removed using parts of speech')"
      ],
      "metadata": {
        "colab": {
          "base_uri": "https://localhost:8080/"
        },
        "id": "PEjtcEBpQgB_",
        "outputId": "44523cbd-72c0-4e11-8c4e-f0264d00b239"
      },
      "execution_count": 7,
      "outputs": [
        {
          "output_type": "stream",
          "name": "stderr",
          "text": [
            "/usr/local/lib/python3.9/dist-packages/ipykernel/ipkernel.py:283: DeprecationWarning: `should_run_async` will not call `transform_cell` automatically in the future. Please pass the result to `transformed_cell` argument and any exception that happen during thetransform in `preprocessing_exc_tuple` in IPython 7.17 and above.\n",
            "  and should_run_async(code)\n"
          ]
        },
        {
          "output_type": "stream",
          "name": "stdout",
          "text": [
            "69098 rows removed using stopwords\n",
            "3462 more rows removed using parts of speech\n"
          ]
        }
      ]
    },
    {
      "cell_type": "code",
      "source": [
        "assert filtered_mg['lemma'].isin(perseus_stopwords).unique() == [False]"
      ],
      "metadata": {
        "id": "6Zxv9mRi7M1y",
        "outputId": "12c0a4d8-8bff-4eae-ef6c-3c4f39f110dd",
        "colab": {
          "base_uri": "https://localhost:8080/"
        }
      },
      "execution_count": 8,
      "outputs": [
        {
          "output_type": "stream",
          "name": "stderr",
          "text": [
            "/usr/local/lib/python3.9/dist-packages/ipykernel/ipkernel.py:283: DeprecationWarning: `should_run_async` will not call `transform_cell` automatically in the future. Please pass the result to `transformed_cell` argument and any exception that happen during thetransform in `preprocessing_exc_tuple` in IPython 7.17 and above.\n",
            "  and should_run_async(code)\n"
          ]
        }
      ]
    },
    {
      "cell_type": "markdown",
      "source": [
        "Create an ensemble topic model for each book of the New Testament, using lemmas and ignoring stopwords."
      ],
      "metadata": {
        "id": "rG9wANH7RLzS"
      }
    },
    {
      "cell_type": "code",
      "source": [
        "book_domains = {}  # Initialize a dictionary to hold the corpora for each book\n",
        "\n",
        "def get_label(domainstr):\n",
        "    if type(domainstr) != float: \n",
        "        first_domain = ''.join(domainstr.split()[0])\n",
        "        try:\n",
        "            return domain_labels[first_domain]\n",
        "        except KeyError:\n",
        "            return 'missing'\n",
        "    else:\n",
        "        return 'missing'\n",
        "\n",
        "def get_domains(group):\n",
        "    return group['domain'].apply(get_label).values.tolist()\n",
        "\n",
        "all_domains = []\n",
        "\n",
        "for book in filtered_mg['book'].unique():  # Loop over unique books in the dataframe\n",
        "    print(f'Processing {book}...')\n",
        "    book_df = filtered_mg[filtered_mg['book'] == book]  # Filter the dataframe for the current book\n",
        "    corpus = []  # Initialize an empty list to hold the tokens for the current book\n",
        "    grouped = book_df.groupby('book_chapter').apply(get_domains)\n",
        "    # Loop over rows in the filtered dataframe\n",
        "    for chapter in grouped:  \n",
        "        corpus += [[str(value) for value in chapter if value != 'missing']]  # Add the tokens to the corpus for the current book\n",
        "        all_domains += [[str(value) for value in chapter if value != 'missing']]\n",
        "    book_domains[book] = corpus  # Add the corpus for the current book to the dictionary"
      ],
      "metadata": {
        "colab": {
          "base_uri": "https://localhost:8080/"
        },
        "id": "m7LNsRIpRLja",
        "outputId": "b2e4936a-d0fc-41f3-89f6-7c72c0e4bf30"
      },
      "execution_count": 11,
      "outputs": [
        {
          "output_type": "stream",
          "name": "stderr",
          "text": [
            "/usr/local/lib/python3.9/dist-packages/ipykernel/ipkernel.py:283: DeprecationWarning: `should_run_async` will not call `transform_cell` automatically in the future. Please pass the result to `transformed_cell` argument and any exception that happen during thetransform in `preprocessing_exc_tuple` in IPython 7.17 and above.\n",
            "  and should_run_async(code)\n"
          ]
        },
        {
          "output_type": "stream",
          "name": "stdout",
          "text": [
            "Processing MAT...\n",
            "Processing MRK...\n",
            "Processing LUK...\n",
            "Processing JHN...\n",
            "Processing ACT...\n",
            "Processing ROM...\n",
            "Processing 1CO...\n",
            "Processing 2CO...\n",
            "Processing GAL...\n",
            "Processing EPH...\n",
            "Processing PHP...\n",
            "Processing COL...\n",
            "Processing 1TH...\n",
            "Processing 2TH...\n",
            "Processing 1TI...\n",
            "Processing 2TI...\n",
            "Processing TIT...\n",
            "Processing PHM...\n",
            "Processing HEB...\n",
            "Processing JAS...\n",
            "Processing 1PE...\n",
            "Processing 2PE...\n",
            "Processing 1JN...\n",
            "Processing 2JN...\n",
            "Processing 3JN...\n",
            "Processing JUD...\n",
            "Processing REV...\n"
          ]
        }
      ]
    },
    {
      "cell_type": "code",
      "source": [
        "# Create a dictionary for all words in each corpus\n",
        "dictionary = corpora.Dictionary(all_domains)\n",
        "dictionary\n"
      ],
      "metadata": {
        "colab": {
          "base_uri": "https://localhost:8080/"
        },
        "id": "Qm8uZJBsg41p",
        "outputId": "6621c727-e666-45fa-99f9-15c3dc99e73e"
      },
      "execution_count": 12,
      "outputs": [
        {
          "output_type": "stream",
          "name": "stderr",
          "text": [
            "/usr/local/lib/python3.9/dist-packages/ipykernel/ipkernel.py:283: DeprecationWarning: `should_run_async` will not call `transform_cell` automatically in the future. Please pass the result to `transformed_cell` argument and any exception that happen during thetransform in `preprocessing_exc_tuple` in IPython 7.17 and above.\n",
            "  and should_run_async(code)\n"
          ]
        },
        {
          "output_type": "execute_result",
          "data": {
            "text/plain": [
              "<gensim.corpora.dictionary.Dictionary at 0x7f09e84756a0>"
            ]
          },
          "metadata": {},
          "execution_count": 12
        }
      ]
    },
    {
      "cell_type": "code",
      "source": [
        "models = dict()\n",
        "\n",
        "for book, domains in book_domains.items():\n",
        "    for d in domains:\n",
        "        for e in d:\n",
        "            if type(e) != str:\n",
        "                print(d)\n",
        "    models[book] = {\n",
        "        'corpus': [dictionary.doc2bow(chapter) for chapter in domains], \n",
        "        'model': None \n",
        "    }"
      ],
      "metadata": {
        "id": "-3pY5YzyVr_E",
        "outputId": "68db9a28-8a98-4ccb-a8b0-04a837a56601",
        "colab": {
          "base_uri": "https://localhost:8080/"
        }
      },
      "execution_count": 13,
      "outputs": [
        {
          "output_type": "stream",
          "name": "stderr",
          "text": [
            "/usr/local/lib/python3.9/dist-packages/ipykernel/ipkernel.py:283: DeprecationWarning: `should_run_async` will not call `transform_cell` automatically in the future. Please pass the result to `transformed_cell` argument and any exception that happen during thetransform in `preprocessing_exc_tuple` in IPython 7.17 and above.\n",
            "  and should_run_async(code)\n"
          ]
        }
      ]
    },
    {
      "cell_type": "markdown",
      "metadata": {
        "id": "kicH2ZcghUfH"
      },
      "source": [
        "## Train LDA Model"
      ]
    },
    {
      "cell_type": "code",
      "execution_count": 15,
      "metadata": {
        "id": "j-pbQUqphUfI",
        "outputId": "5cc1642d-4f13-421d-ae1b-6b1fbf0e5a1d",
        "colab": {
          "base_uri": "https://localhost:8080/"
        }
      },
      "outputs": [
        {
          "output_type": "stream",
          "name": "stderr",
          "text": [
            "/usr/local/lib/python3.9/dist-packages/ipykernel/ipkernel.py:283: DeprecationWarning: `should_run_async` will not call `transform_cell` automatically in the future. Please pass the result to `transformed_cell` argument and any exception that happen during thetransform in `preprocessing_exc_tuple` in IPython 7.17 and above.\n",
            "  and should_run_async(code)\n"
          ]
        }
      ],
      "source": [
        "ensemble_workers = 4\n",
        "num_models = 3\n",
        "distance_workers = 4 # Note from Gensim: After training all the models, some distance computations are required which can take quite some time as well. You can speed this up by using workers for that as well.\n",
        "num_topics = 100\n",
        "passes = 20\n",
        "\n",
        "synoptics = ['MAT', 'MRK', 'LUK']\n",
        "johannine = ['JHN', '1JN', '2JN', '3JN', 'REV']\n",
        "\n",
        "subcorpora = {\n",
        "    'synoptics': ['MAT', 'MRK', 'LUK'], \n",
        "    'johannine': ['JHN', '1JN', '2JN', '3JN', 'REV']\n",
        "}\n",
        "\n",
        "for subcorp in subcorpora.keys():\n",
        "    models[subcorp] = {\n",
        "        'corpus': [dictionary.doc2bow(chapter) for chapter in domains for book in subcorpora[subcorp]],\n",
        "        'model': None\n",
        "    }"
      ]
    },
    {
      "cell_type": "code",
      "source": [
        "# Select book or subcorpus\n",
        "selected_corpus = 'johannine'\n",
        "\n",
        "# print(dictionary[0])\n",
        "# # Map domain string tokens to semantic labels\n",
        "\n",
        "# # dictionary.id2token = {k: domain_labels[''.join(v.split()[0])] for k, v in dictionary.items() if v != 'nan'}\n",
        "\n",
        "# print(domain_labels[dictionary[0]])"
      ],
      "metadata": {
        "id": "Ywl-siE_42uh",
        "outputId": "dbd520ef-91bf-4f76-be98-cd09e4bd7379",
        "colab": {
          "base_uri": "https://localhost:8080/"
        }
      },
      "execution_count": 16,
      "outputs": [
        {
          "output_type": "stream",
          "name": "stderr",
          "text": [
            "/usr/local/lib/python3.9/dist-packages/ipykernel/ipkernel.py:283: DeprecationWarning: `should_run_async` will not call `transform_cell` automatically in the future. Please pass the result to `transformed_cell` argument and any exception that happen during thetransform in `preprocessing_exc_tuple` in IPython 7.17 and above.\n",
            "  and should_run_async(code)\n"
          ]
        }
      ]
    },
    {
      "cell_type": "code",
      "source": [
        "for book, data in models.items():\n",
        "    if book == selected_corpus:\n",
        "        print(f'Generating ensemble models for {book}...')\n",
        "        ensemble = EnsembleLda(\n",
        "            corpus=data['corpus'],\n",
        "            id2word=dictionary,\n",
        "            num_topics=num_topics,\n",
        "            passes=passes,\n",
        "            num_models=num_models,\n",
        "            topic_model_class=LdaModel,\n",
        "            ensemble_workers=ensemble_workers,\n",
        "            distance_workers=distance_workers\n",
        "        )\n",
        "        data['ensemble'] = ensemble\n",
        "        data['model'] = ensemble.generate_gensim_representation()"
      ],
      "metadata": {
        "colab": {
          "base_uri": "https://localhost:8080/"
        },
        "id": "wpLLlNWXX1mM",
        "outputId": "45f6a9da-9523-433c-c17d-50c3388fcb7a"
      },
      "execution_count": 17,
      "outputs": [
        {
          "output_type": "stream",
          "name": "stdout",
          "text": [
            "Generating ensemble models for johannine...\n"
          ]
        },
        {
          "output_type": "stream",
          "name": "stderr",
          "text": [
            "/usr/local/lib/python3.9/dist-packages/ipykernel/ipkernel.py:283: DeprecationWarning: `should_run_async` will not call `transform_cell` automatically in the future. Please pass the result to `transformed_cell` argument and any exception that happen during thetransform in `preprocessing_exc_tuple` in IPython 7.17 and above.\n",
            "  and should_run_async(code)\n",
            "WARNING:gensim.models.ldamodel:too few updates, training might not converge; consider increasing the number of passes or iterations to improve accuracy\n",
            "WARNING:gensim.models.ldamodel:too few updates, training might not converge; consider increasing the number of passes or iterations to improve accuracy\n"
          ]
        }
      ]
    },
    {
      "cell_type": "code",
      "source": [
        "# Save model to disk\n",
        "models[selected_corpus]['model'].save(f'lda-model-{selected_corpus}')"
      ],
      "metadata": {
        "id": "0SBACR9RjluX",
        "outputId": "e46ca2e8-baa9-4b69-cc51-06e4e1e4c411",
        "colab": {
          "base_uri": "https://localhost:8080/"
        }
      },
      "execution_count": 19,
      "outputs": [
        {
          "output_type": "stream",
          "name": "stderr",
          "text": [
            "/usr/local/lib/python3.9/dist-packages/ipykernel/ipkernel.py:283: DeprecationWarning: `should_run_async` will not call `transform_cell` automatically in the future. Please pass the result to `transformed_cell` argument and any exception that happen during thetransform in `preprocessing_exc_tuple` in IPython 7.17 and above.\n",
            "  and should_run_async(code)\n"
          ]
        }
      ]
    },
    {
      "cell_type": "code",
      "source": [
        "vis_model = models[selected_corpus]['model']\n",
        "vis_corpus = models[selected_corpus]['corpus']"
      ],
      "metadata": {
        "id": "MbGhFM7gXRCC",
        "outputId": "a8db8dd1-e7cc-4b6b-9e22-95a4fc902fbf",
        "colab": {
          "base_uri": "https://localhost:8080/"
        }
      },
      "execution_count": 18,
      "outputs": [
        {
          "output_type": "stream",
          "name": "stderr",
          "text": [
            "/usr/local/lib/python3.9/dist-packages/ipykernel/ipkernel.py:283: DeprecationWarning: `should_run_async` will not call `transform_cell` automatically in the future. Please pass the result to `transformed_cell` argument and any exception that happen during thetransform in `preprocessing_exc_tuple` in IPython 7.17 and above.\n",
            "  and should_run_async(code)\n"
          ]
        }
      ]
    },
    {
      "cell_type": "markdown",
      "source": [
        "Since we trained an ensemble model, we need to use the `generate_gensim_representation()` method to return an `LdaModel` class as the visualization library is expecting."
      ],
      "metadata": {
        "id": "6SjaIHlD58X1"
      }
    },
    {
      "cell_type": "markdown",
      "metadata": {
        "id": "WjhI1pXjhUfI"
      },
      "source": [
        "## Evaluate Model"
      ]
    },
    {
      "cell_type": "code",
      "execution_count": 20,
      "metadata": {
        "id": "zyqK3xIRhUfJ",
        "colab": {
          "base_uri": "https://localhost:8080/"
        },
        "outputId": "b2624299-8829-4506-f438-c11ce9270bd1"
      },
      "outputs": [
        {
          "output_type": "stream",
          "name": "stdout",
          "text": [
            "Coherence Score: -0.664\n"
          ]
        },
        {
          "output_type": "stream",
          "name": "stderr",
          "text": [
            "/usr/local/lib/python3.9/dist-packages/ipykernel/ipkernel.py:283: DeprecationWarning: `should_run_async` will not call `transform_cell` automatically in the future. Please pass the result to `transformed_cell` argument and any exception that happen during thetransform in `preprocessing_exc_tuple` in IPython 7.17 and above.\n",
            "  and should_run_async(code)\n"
          ]
        }
      ],
      "source": [
        "# Compute the coherence score\n",
        "coherence_model_lda = CoherenceModel(\n",
        "    model=vis_model,\n",
        "    corpus=vis_corpus,\n",
        "    dictionary=dictionary,\n",
        "    coherence='u_mass'\n",
        ")\n",
        "coherence_lda = coherence_model_lda.get_coherence()\n",
        "print(f'Coherence Score: {coherence_lda:.3f}')"
      ]
    },
    {
      "cell_type": "markdown",
      "metadata": {
        "id": "0DU7JzgwhUfJ"
      },
      "source": [
        "## Visualize Topics"
      ]
    },
    {
      "cell_type": "code",
      "execution_count": 21,
      "metadata": {
        "id": "v43G9rvLhUfJ",
        "colab": {
          "base_uri": "https://localhost:8080/",
          "height": 949
        },
        "outputId": "1b2d360c-cc43-47c1-d004-c85645c8e0f5"
      },
      "outputs": [
        {
          "output_type": "stream",
          "name": "stderr",
          "text": [
            "/usr/local/lib/python3.9/dist-packages/ipykernel/ipkernel.py:283: DeprecationWarning: `should_run_async` will not call `transform_cell` automatically in the future. Please pass the result to `transformed_cell` argument and any exception that happen during thetransform in `preprocessing_exc_tuple` in IPython 7.17 and above.\n",
            "  and should_run_async(code)\n",
            "/usr/local/lib/python3.9/dist-packages/pyLDAvis/_prepare.py:243: FutureWarning: In a future version of pandas all arguments of DataFrame.drop except for the argument 'labels' will be keyword-only.\n",
            "  default_term_info = default_term_info.sort_values(\n"
          ]
        },
        {
          "output_type": "execute_result",
          "data": {
            "text/plain": [
              "<IPython.core.display.HTML object>"
            ],
            "text/html": [
              "\n",
              "<link rel=\"stylesheet\" type=\"text/css\" href=\"https://cdn.jsdelivr.net/gh/bmabey/pyLDAvis@3.4.0/pyLDAvis/js/ldavis.v1.0.0.css\">\n",
              "\n",
              "\n",
              "<div id=\"ldavis_el146139680528485728435754539\" style=\"background-color:white;\"></div>\n",
              "<script type=\"text/javascript\">\n",
              "\n",
              "var ldavis_el146139680528485728435754539_data = {\"mdsDat\": {\"x\": [-0.0035929107852216784, 0.021231807309708868, 0.00213958283173478, 0.05347390488431112, 0.10955737391087611, 0.1264108449252282, -0.02483757532283622, 0.10913543647119023, -0.020932444826703665, 0.021046132334695804, -0.12575788948468758, -0.041948130419193694, 0.001316853626870802, -0.03931625854890309, -0.13966600936625914, -0.054066482475186826, -0.12190514571753529, -0.11199457712178561, -0.07928174429877147, 0.3189872320724685], \"y\": [-0.00405438667426215, -0.0868228675853228, 0.027005669163780402, 0.05783329821232729, 0.17832295418981853, -0.16613124788661732, 0.0286876744644497, -0.20020185209529281, 0.06977929413882202, 0.08553264186242887, -0.05068960557513413, -0.027314173018544843, 0.028064742342946435, -0.013714024500733644, -0.03208454901907713, 0.12129485162979588, 0.017736292682436847, -0.04147104890154855, -0.028218857827745955, 0.03644519439747229], \"topics\": [1, 2, 3, 4, 5, 6, 7, 8, 9, 10, 11, 12, 13, 14, 15, 16, 17, 18, 19, 20], \"cluster\": [1, 1, 1, 1, 1, 1, 1, 1, 1, 1, 1, 1, 1, 1, 1, 1, 1, 1, 1, 1], \"Freq\": [9.425941718713903, 9.016633681854959, 8.940437116346473, 6.5214857287726815, 6.406306238893595, 5.922553695569594, 5.6461224864152175, 5.024157531142583, 5.001121802788385, 4.770765239468611, 4.563444918562575, 4.4713026097923905, 4.379160354413153, 3.91845114349127, 3.711133186301919, 3.457745759734036, 3.388640270737996, 2.897819571340192, 2.5115722520432575, 0.025204693617208215]}, \"tinfo\": {\"Term\": [\"One, Two, Three, Etc. [Cardinals]\", \"Precious and Semiprecious Stones and Substances\", \"Supernatural Beings\", \"Instruments Used in Marking and Writing\", \"Furniture\", \"Half, Third, Fourth [Fractional Part]\", \"Persons\", \"Parts of the Body\", \"Groups and Members of Groups of Persons Regarded as Related by Blood but without Special Reference to Successive Generations\", \"Reptiles and Other 'Creeping Things'\", \"First, Second, Third, Etc. [Ordinals]\", \"Animals\", \"Speak, Talk\", \"Duration of Time without Reference to Points or Units of Time: Time, Spend Time, Always, Eternal, Old, Immediately, Young\", \"Pair, Group [Numbered Collectives]\", \"Parts and Areas of Buildings\", \"Live, Die\", \"Rule, Govern\", \"Musical Instruments\", \"Females\", \"Buildings\", \"Definite Units of Time: Year, Month, Week, Day, Hour\", \"Bodies of Water\", \"Sit\", \"Agriculture\", \"Open, Closed\", \"Regions Below the Surface of the Earth\", \"Laugh, Cry, Groan\", \"Movement of Liquids or Masses\", \"Comparison\", \"Safe, Free from Danger\", \"Money and Monetary Units\", \"Specific Measures of Volume\", \"Marriage, Divorce\", \"Completely, Enough [Completive Degree]\", \"Rolled Up\", \"Favorable Circumstances or State\", \"Non-Linear Movement\", \"Invite\", \"Licentiousness, Perversion\", \"Recalling from Memory\", \"Army\", \"Soldiers, Officers\", \"Fall\", \"Real, Unreal\", \"Elevated Land Formations\", \"General\", \"Press\", \"Move, Come/Go\", \"Low Status or Rank [including persons of low status]\", \"Come/Go Behind\", \"Fruit Parts of Plants\", \"Weapons and Armor\", \"Slave, Free\", \"Color\", \"Plant Products\", \"Gather, Cause To Come Together\", \"Grasp, Hold\", \"Wind\", \"Instruments for Measuring\", \"Sit\", \"Open, Closed\", \"Kill\", \"Hear\", \"Speak, Talk\", \"Animals\", \"Instruments Used in Marking and Writing\", \"First, Second, Third, Etc. [Ordinals]\", \"Cloth, Leather, and Objects Made of Such Materials\", \"Rule, Govern\", \"The Earth's Surface\", \"Parts of the Body\", \"Supernatural Beings\", \"See\", \"All, Any, Each, Every [Totality]\", \"Anger, Be Indignant With\", \"Prompters of Attention\", \"Leave, Depart, Flee, Escape, Send\", \"One, Two, Three, Etc. [Cardinals]\", \"Regions Above the Earth\", \"Heavenly Bodies\", \"Name\", \"Furniture\", \"Worship, Reverence\", \"Impurity\", \"Kindness, Harshness\", \"Bless, Curse\", \"Agent of a Numerable Event\", \"To Cause To Experience\", \"Add, Subtract\", \"Non-Fruit Parts of Plants\", \"Have, Possess, Property, Owner\", \"Worry, Anxiety, Distress, Peace\", \"Interpret, Mean, Explain\", \"Supernatural Powers\", \"Return\", \"Prophesy\", \"Well Known, Clearly Shown, Revealed\", \"Bad, Evil, Harmful, Damaging\", \"Extension From a Source\", \"Religious Practice\", \"Genuine, Phony\", \"Transparent\", \"Sequence\", \"Reward, Recompense\", \"Pierce, Cut\", \"Funerals and Burial\", \"Kinship Relations Involving Successive Generations\", \"To Distinguish, To Evaluate, To Judge\", \"Use of Liquids\", \"Just, Righteous\", \"Cease, Stop\", \"Witness, Testify\", \"Enjoy, Take Pleasure In, Be Fond of Doing\", \"Trees\", \"Lights and Light Holders\", \"Necessary, Unnecessary\", \"Obey, Disobey\", \"Light\", \"Persons\", \"Instruments Used in Marking and Writing\", \"Supernatural Beings\", \"Slave, Free\", \"Speak, Talk\", \"Live, Die\", \"Heavenly Bodies\", \"See\", \"Places\", \"Water\", \"All, Any, Each, Every [Totality]\", \"Duration of Time without Reference to Points or Units of Time: Time, Spend Time, Always, Eternal, Old, Immediately, Young\", \"A Point of Time with Reference to Other Points of Time: Before, Long Ago, Now, At the Same Time, When, About, After\", \"Parts of the Body\", \"Written Language\", \"Socio-Religious\", \"Hear\", \"Leave, Depart, Flee, Escape, Send\", \"One, Two, Three, Etc. [Cardinals]\", \"Happen\", \"Prompters of Attention\", \"Worship, Reverence\", \"Prisoners of War\", \"Insects\", \"Ethnic-Cultural\", \"Run\", \"Depressions and Holes\", \"Health, Vigor, Strength\", \"Pierce, Cut\", \"Demonstrative or Deictic Reference\", \"Sell, Buy, Price\", \"Breathe, Breath\", \"Language Levels\", \"Number, Countless\", \"Imprison\", \"Vehicles\", \"Images and Idols\", \"Insult, Slander\", \"Harm, Wound\", \"Weapons and Armor\", \"Whole\", \"Exercise Authority\", \"Human Beings\", \"Be Poor, Be Needy, Poverty\", \"Be a Believer, Christian Faith\", \"Plants That Are Not Trees\", \"Reptiles and Other 'Creeping Things'\", \"Shapes\", \"Steal, Rob\", \"Soldiers, Officers\", \"Army\", \"Comparison\", \"Animals\", \"Non-Verbal Communication\", \"Kill\", \"Atmospheric Objects\", \"Parts of the Body\", \"To Fight\", \"Dwell, Reside\", \"Definite Units of Time: Year, Month, Week, Day, Hour\", \"Worship, Reverence\", \"Name\", \"The Earth's Surface\", \"One, Two, Three, Etc. [Cardinals]\", \"Metals\", \"Power, Force\", \"Live, Die\", \"Speak, Talk\", \"Supernatural Beings\", \"See\", \"All, Any, Each, Every [Totality]\", \"First, Second, Third, Etc. [Ordinals]\", \"Regions Above the Earth\", \"Walls and Fences\", \"High, Low, Deep\", \"Long, Short, Far\", \"Beautiful, Ugly\", \"Same or Equivalent Kind or Class\", \"Measure, To Measure\", \"North, South, East, West\", \"Parts and Areas of Buildings\", \"Narrow, Wide\", \"Specific Measures of Length\", \"Precious and Semiprecious Stones and Substances\", \"Follow, Be a Disciple\", \"Abhor\", \"Physiological Products of the Body\", \"Behavior, Conduct\", \"Dedicate, Consecrate\", \"Clean, Dirty\", \"Instruments for Measuring\", \"Transparent\", \"Genuine, Phony\", \"Kinship Relations Based upon Marriage\", \"New, Old [primarily non-temporal]\", \"Valuable, Lacking in Value\", \"Population Centers\", \"Two-Dimensional and Three-Dimensional Shapes\", \"Application and Removal of Liquids or Masses\", \"Speak Truth, Speak Falsehood\", \"Be a Believer, Christian Faith\", \"Need, Lack\", \"Magic\", \"Light\", \"First, Second, Third, Etc. [Ordinals]\", \"Carry, Bear\", \"Sequence\", \"One, Two, Three, Etc. [Cardinals]\", \"Supernatural Beings\", \"Speak, Talk\", \"All, Any, Each, Every [Totality]\", \"Buildings\", \"Well Known, Clearly Shown, Revealed\", \"Animals\", \"Regions Above the Earth\", \"Live, Die\", \"Metals\", \"Written Language\", \"Socio-Political\", \"The Earth's Surface\", \"See\", \"A Point of Time with Reference to Duration of Time: Beginning, End\", \"Earn, Gain, Do Business\", \"Extravagant Living, Intemperate Living\", \"At, Beside, Near, Far\", \"Double, Four Times As Much, Etc. [Multiples]\", \"Increase, Decrease\", \"Maritime Activities\", \"Condiments\", \"Craft, Trade\", \"Rapidity, Suddenness\", \"Associate\", \"Change an Opinion Concerning Truth\", \"Class, Kind\", \"Wood and Wood Products\", \"Glorious\", \"Laugh, Cry, Groan\", \"Funerals and Burial\", \"Sin, Wrongdoing, Guilt\", \"Vehicles\", \"Perfumes and Incense\", \"Learn the Location of Something\", \"Boats and Parts of Boats\", \"Mix\", \"Be Rich, Be Wealthy\", \"Valuable, Lacking in Value\", \"Experiencer\", \"Desire Strongly\", \"Reward, Recompense\", \"Duration of Time with Reference to Some Point of Time: Until, Delay, Still, From\", \"Kinship Relations Based upon Marriage\", \"Defile, Unclean, Common\", \"Plant Products\", \"Population Centers\", \"Destroy\", \"All, Any, Each, Every [Totality]\", \"Precious and Semiprecious Stones and Substances\", \"Trouble, Hardship, Distress\", \"Cloth, Leather, and Objects Made of Such Materials\", \"Speak, Talk\", \"The Earth's Surface\", \"Carry, Bear\", \"Pain, Suffering\", \"Judge, Condemn, Acquit\", \"Metals\", \"Supernatural Beings\", \"Definite Units of Time: Year, Month, Week, Day, Hour\", \"Hear\", \"Bodies of Water\", \"Regions Above the Earth\", \"Socio-Religious\", \"Light\", \"Throw, Hurl\", \"Places\", \"Sound\", \"Musical Instruments\", \"Roles and Functions\", \"Stand\", \"See\", \"Teach\", \"Abundance, Excess, Sparing\", \"Discouragement\", \"Break, Break Through\", \"Serve\", \"Try To Learn\", \"Patience, Endurance, Perseverance\", \"Food\", \"Know\", \"Hate, Hateful\", \"Many, Few [Countables]\", \"Work, Toil\", \"Follow, Be a Disciple\", \"Change Behavior\", \"Love, Affection, Compassion\", \"Bad, Evil, Harmful, Damaging\", \"Grasp, Hold\", \"Trust, Rely\", \"Two-Dimensional and Three-Dimensional Shapes\", \"Experiencer\", \"Accept As True\", \"Do, Perform\", \"Where, Somewhere, Everywhere\", \"Not Able To Be Known, Secret\", \"Put, Place\", \"Establish or Confirm a Relation\", \"Understand\", \"Be Poor, Be Needy, Poverty\", \"Cease, Stop\", \"Sin, Wrongdoing, Guilt\", \"Socio-Religious\", \"Learn\", \"Places\", \"Persons\", \"Conquer\", \"Written Language\", \"Sexual Misbehavior\", \"Supernatural Beings\", \"Live, Die\", \"Lights and Light Holders\", \"Speak, Talk\", \"Parts of the Body\", \"Trouble, Hardship, Distress\", \"First, Second, Third, Etc. [Ordinals]\", \"Metals\", \"Heavenly Bodies\", \"Eat, Drink\", \"One, Two, Three, Etc. [Cardinals]\", \"Earth, Mud, Sand, Rock\", \"A Point of Time with Reference to Other Points of Time: Before, Long Ago, Now, At the Same Time, When, About, After\", \"Rule, Govern\", \"Name\", \"Agriculture\", \"Instruments Used in Agriculture and Husbandry\", \"Ripen, Produce Fruit, Bear Seed\", \"Tire, Rest\", \"Pure, Unadulterated, Undiluted\", \"Males\", \"Relief from Trouble\", \"Follow, Accompany\", \"Sharp\", \"Come/Go Behind\", \"Press\", \"Work, Toil\", \"A Point of Time without Reference to Other Points of Time: Time, Occasion, Ever, Often\", \"Command, Order\", \"Sing, Lament\", \"Miscellaneous Constructions\", \"Plants That Are Not Trees\", \"Inform, Announce\", \"Control, Restrain\", \"Specific Measures of Length\", \"Be a Believer, Christian Faith\", \"Earth, Mud, Sand, Rock\", \"Learn\", \"Universe, Creation\", \"Release, Set Free\", \"Atmospheric Objects\", \"Demonstrative or Deictic Reference\", \"Fly\", \"Desire Strongly\", \"Plant Products\", \"Fruit Parts of Plants\", \"Anger, Be Indignant With\", \"Receive\", \"Speak, Talk\", \"Worship, Reverence\", \"Supernatural Beings\", \"Leave, Depart, Flee, Escape, Send\", \"Duration of Time without Reference to Points or Units of Time: Time, Spend Time, Always, Eternal, Old, Immediately, Young\", \"Animals\", \"One, Two, Three, Etc. [Cardinals]\", \"Sit\", \"Musical Instruments\", \"Parts of the Body\", \"Regions Above the Earth\", \"Human Beings\", \"Socio-Political\", \"Hear\", \"Name\", \"See\", \"First, Second, Third, Etc. [Ordinals]\", \"Places\", \"All, Any, Each, Every [Totality]\", \"Sound\", \"Live, Die\", \"Bodies of Water\", \"Whom or What Spoken or Written About\", \"Rebuke\", \"Be Eager, Be Earnest, In a Devoted Manner\", \"Lack of Capacity for Understanding\", \"Markers of Emphasis\", \"Cause and/or Reason\", \"Possible, Impossible\", \"Mercy, Merciless\", \"Guard, Watch Over\", \"Profess Allegiance\", \"Medicines\", \"Advise\", \"Hot, Lukewarm, Cold\", \"Sleep, Waking\", \"Many, Few [Countables]\", \"Should, Ought\", \"Come, Come To, Arrive\", \"Come To Understand\", \"A Point of Time without Reference to Other Points of Time: Time, Occasion, Ever, Often\", \"Processes Involving the Mouth, Other Than Eating and Drinking\", \"Shame, Disgrace, Humiliation\", \"Accept As True\", \"Try To Learn\", \"Love, Affection, Compassion\", \"Know\", \"Establish or Confirm a Relation\", \"Understand\", \"Steal, Rob\", \"Be Poor, Be Needy, Poverty\", \"Application and Removal of Liquids or Masses\", \"Obey, Disobey\", \"Be Rich, Be Wealthy\", \"Conquer\", \"Open, Closed\", \"Real, Unreal\", \"Socio-Religious\", \"Name\", \"Do, Perform\", \"Supernatural Beings\", \"Parts and Areas of Buildings\", \"Places\", \"Speak, Talk\", \"Activities Involving Clothing and Adorning\", \"A Point of Time with Reference to Other Points of Time: Before, Long Ago, Now, At the Same Time, When, About, After\", \"Written Language\", \"Parts of the Body\", \"Prompters of Attention\", \"Cloth, Leather, and Objects Made of Such Materials\", \"Color\", \"Live, Die\", \"One, Two, Three, Etc. [Cardinals]\", \"The Earth's Surface\", \"See\", \"Sit\", \"Furniture\", \"Body\", \"Opposition, Hostility\", \"Rain\", \"Discourse Types\", \"Festivals\", \"Breathe, Breath\", \"Movement of the Earth\", \"Establish or Confirm a Relation\", \"Markers of Transition\", \"To Intend, To Purpose, To Plan\", \"Thanks\", \"Complete, Finish, Succeed\", \"Fear, Terror, Alarm\", \"Measure, To Measure\", \"Hit, Strike\", \"Destroy\", \"Desire, Want, Wish\", \"Around, About, Outside\", \"Indefinite Units of Time: Age, Lifetime, Interval, Period\", \"Thoroughfares: Roads, Streets, Paths, etc.\", \"Dedicate, Consecrate\", \"Come/Go Up, Ascend\", \"Instruments for Measuring\", \"Harm, Wound\", \"Buildings\", \"Prophesy\", \"Change of State\", \"Give\", \"Come/Go Into\", \"Reward, Recompense\", \"Definite Units of Time: Year, Month, Week, Day, Hour\", \"Happen\", \"Stand\", \"One, Two, Three, Etc. [Cardinals]\", \"Half, Third, Fourth [Fractional Part]\", \"Regions Above the Earth\", \"Kill\", \"Roles and Functions\", \"Supernatural Beings\", \"The Earth's Surface\", \"Socio-Political\", \"Water\", \"Trouble, Hardship, Distress\", \"Speak, Talk\", \"Worship, Reverence\", \"Population Centers\", \"See\", \"Parts of the Body\", \"Rule, Govern\", \"First, Second, Third, Etc. [Ordinals]\", \"Furniture\", \"Live, Die\", \"Dwell, Reside\", \"Governmental Administrative Areas\", \"Good, Bad\", \"Proper, Improper\", \"Wet, Dry\", \"Pound, Talent [Specific Units of Weight]\", \"Movement of Liquids or Masses\", \"Processes Involving the Mouth, Other Than Eating and Drinking\", \"Shame, Disgrace, Humiliation\", \"Sickness, Disease, Weakness\", \"Gather, Cause To Come Together\", \"Containers\", \"To Distinguish, To Evaluate, To Judge\", \"Steal, Rob\", \"Sleep, Waking\", \"Control, Restrain\", \"Insult, Slander\", \"Much, Little [Positive-Negative Degree]\", \"Change of State\", \"Movement of the Earth\", \"Be in a Place\", \"Walk, Step\", \"Recalling and Responding with Appropriate Action\", \"Pain, Suffering\", \"Part\", \"Thoroughfares: Roads, Streets, Paths, etc.\", \"Darkness\", \"Whole\", \"Change Behavior\", \"Water\", \"Human Beings\", \"Anger, Be Indignant With\", \"Burning\", \"Happen\", \"Bodies of Water\", \"First, Second, Third, Etc. [Ordinals]\", \"Leave, Depart, Flee, Escape, Send\", \"Supernatural Beings\", \"Parts of the Body\", \"Trouble, Hardship, Distress\", \"Just, Righteous\", \"Places\", \"Speak, Talk\", \"Hear\", \"Animals\", \"Furniture\", \"Regions Above the Earth\", \"One, Two, Three, Etc. [Cardinals]\", \"Live, Die\", \"Name\", \"All, Any, Each, Every [Totality]\", \"Lead, Bring, Take\", \"Guide, Lead\", \"Groups and Members of Groups of Persons Regarded as Related by Blood but without Special Reference to Successive Generations\", \"Wind\", \"Pair, Group [Numbered Collectives]\", \"Strong, Weak\", \"Physiological Products of the Body\", \"Language Levels\", \"Religious Practice\", \"Save in a Religious Sense\", \"Use of Liquids\", \"Shapes\", \"Thanks\", \"Control, Restrain\", \"Application and Removal of Liquids or Masses\", \"General\", \"Land in Contrast With the Sea\", \"Capacity for Understanding\", \"Persons\", \"Non-Verbal Communication\", \"Extension From a Source\", \"Trees\", \"Desire Strongly\", \"Honor or Respect in Relation to Status\", \"Inform, Announce\", \"North, South, East, West\", \"Stand\", \"Harm, Wound\", \"Number, Countless\", \"High Status or Rank [including persons of high status]\", \"Furniture\", \"One, Two, Three, Etc. [Cardinals]\", \"All, Any, Each, Every [Totality]\", \"Bodies of Water\", \"Cloth, Leather, and Objects Made of Such Materials\", \"Supernatural Beings\", \"Speak, Talk\", \"Color\", \"Duration of Time without Reference to Points or Units of Time: Time, Spend Time, Always, Eternal, Old, Immediately, Young\", \"Socio-Political\", \"Parts of the Body\", \"Animals\", \"Activities Involving Clothing and Adorning\", \"See\", \"Roles and Functions\", \"Heavenly Bodies\", \"Sit\", \"The Earth's Surface\", \"Live, Die\", \"Birth, Procreation\", \"Male, Female\", \"Care For, Take Care Of\", \"Accuse, Blame\", \"Pull, Draw, Drag\", \"Help\", \"Much, Little [Masses, Collectives, Extensions]\", \"Become Safe, Free from Danger\", \"Pursue, Follow\", \"Areas Which Are Uninhabited or Only Sparsely Populated\", \"Reptiles and Other 'Creeping Things'\", \"Command, Order\", \"Females\", \"Kinship Relations Involving Successive Generations\", \"Here, There\", \"Space, Place\", \"Save in a Religious Sense\", \"Understand\", \"Enjoy, Take Pleasure In, Be Fond of Doing\", \"Throw, Hurl\", \"To Fight\", \"Be in a Place\", \"Where, Somewhere, Everywhere\", \"Fly\", \"Whole\", \"Birds\", \"Adornments\", \"Movement of Liquids or Masses\", \"Learn the Location of Something\", \"Land in Contrast With the Sea\", \"Duration of Time without Reference to Points or Units of Time: Time, Spend Time, Always, Eternal, Old, Immediately, Young\", \"Regions Above the Earth\", \"Heavenly Bodies\", \"Parts of the Body\", \"The Earth's Surface\", \"Bodies of Water\", \"Supernatural Beings\", \"One, Two, Three, Etc. [Cardinals]\", \"A Point of Time with Reference to Other Points of Time: Before, Long Ago, Now, At the Same Time, When, About, After\", \"Rule, Govern\", \"Speak, Talk\", \"See\", \"Anger, Be Indignant With\", \"Live, Die\", \"Persons\", \"Half, Third, Fourth [Fractional Part]\", \"Non-Verbal Communication\", \"Witness, Testify\", \"To Decide, To Conclude\", \"Call\", \"Remain, Stay\", \"Drunkenness\", \"Archetype, Corresponding Type [Antitype]\", \"To Choose, To Select, To Prefer\", \"Relative Reference\", \"Surprise, Astonish\", \"To Intend, To Purpose, To Plan\", \"Abhor\", \"Sexual Misbehavior\", \"Females\", \"Not Able To Be Known, Secret\", \"Duration of Time with Reference to Some Point of Time: Until, Delay, Still, From\", \"Areas Which Are Uninhabited or Only Sparsely Populated\", \"General\", \"Rule, Govern\", \"Extension To a Goal\", \"Hate, Hateful\", \"Capacity for Understanding\", \"Demonstrative or Deictic Reference\", \"Full, Empty\", \"Destroy\", \"Carry, Bear\", \"Come, Come To, Arrive\", \"Defile, Unclean, Common\", \"Necessary, Unnecessary\", \"Move, Come/Go\", \"Exercise Authority\", \"Valuable, Lacking in Value\", \"Activities Involving Clothing and Adorning\", \"Animals\", \"See\", \"One, Two, Three, Etc. [Cardinals]\", \"Parts of the Body\", \"Sit\", \"The Earth's Surface\", \"Name\", \"Speak, Talk\", \"Supernatural Beings\", \"Containers\", \"Eat, Drink\", \"Dwell, Reside\", \"Water\", \"Cloth, Leather, and Objects Made of Such Materials\", \"Written Language\", \"Precious and Semiprecious Stones and Substances\", \"Socio-Political\", \"Seize, Take into Custody\", \"Large, Small\", \"Go Around, Surround\", \"Instruments Used in Binding and Fastening\", \"Regions Below the Surface of the Earth\", \"Imprison\", \"Hold a Wrong View, Be Mistaken\", \"Shapes\", \"Narrow, Wide\", \"Enjoy, Take Pleasure In, Be Fond of Doing\", \"A Point of Time with Reference to Duration of Time: Beginning, End\", \"Low Status or Rank [including persons of low status]\", \"Universe, Creation\", \"Release, Set Free\", \"Part\", \"Judge, Condemn, Acquit\", \"Gather, Cause To Come Together\", \"Experiencer\", \"Throw, Hurl\", \"Live, Die\", \"Come/Go Down, Descend\", \"Definite Units of Time: Year, Month, Week, Day, Hour\", \"Fire\", \"Learn the Location of Something\", \"Necessary, Unnecessary\", \"Learn\", \"Much, Little [Positive-Negative Degree]\", \"Miscellaneous\", \"Space, Place\", \"Remnant\", \"Duration of Time without Reference to Points or Units of Time: Time, Spend Time, Always, Eternal, Old, Immediately, Young\", \"Roles and Functions\", \"Instruments Used in Marking and Writing\", \"Open, Closed\", \"Do, Perform\", \"First, Second, Third, Etc. [Ordinals]\", \"One, Two, Three, Etc. [Cardinals]\", \"See\", \"Supernatural Beings\", \"Persons\", \"Furniture\", \"Reptiles and Other 'Creeping Things'\", \"Earth, Mud, Sand, Rock\", \"Population Centers\", \"Parts of the Body\", \"Written Language\", \"Socio-Political\", \"Sit\", \"Bodies of Water\", \"The Earth's Surface\", \"Animals\", \"Rule, Govern\", \"Regions Above the Earth\", \"Worthy, Not Worthy\", \"Strong, Weak\", \"Honor or Respect in Relation to Status\", \"Pray\", \"Take, Obtain, Gain, Lose\", \"Among, Between, In, Inside\", \"Instruments Used in Marking and Writing\", \"Capacity for Understanding\", \"Sing, Lament\", \"Around, About, Outside\", \"Praise\", \"Prostrate as an Act of Reverence or Supplication\", \"Number, Countless\", \"State\", \"Roles and Functions\", \"Inform, Announce\", \"Perfumes and Incense\", \"Open, Closed\", \"Laugh, Cry, Groan\", \"High Status or Rank [including persons of high status]\", \"Release, Set Free\", \"Power, Force\", \"Make, Create\", \"Kinship Relations Involving Successive Generations\", \"New, Old [primarily non-temporal]\", \"Language\", \"Full, Empty\", \"Pair, Group [Numbered Collectives]\", \"Groups and Members of Groups of Persons Regarded as Related by Blood but without Special Reference to Successive Generations\", \"Kill\", \"Furniture\", \"The Earth's Surface\", \"All, Any, Each, Every [Totality]\", \"See\", \"One, Two, Three, Etc. [Cardinals]\", \"Sit\", \"Supernatural Beings\", \"Speak, Talk\", \"Animals\", \"Parts of the Body\", \"Socio-Political\", \"Persons\", \"Duration of Time without Reference to Points or Units of Time: Time, Spend Time, Always, Eternal, Old, Immediately, Young\", \"Regions Above the Earth\", \"Keep Silent\", \"Pray\", \"Half, Third, Fourth [Fractional Part]\", \"Markers of Transition\", \"Boats and Parts of Boats\", \"Musical Instruments\", \"Sweet, Bitter, Tasteless\", \"Plants That Are Not Trees\", \"Perfumes and Incense\", \"Burning\", \"Hit, Strike\", \"Fall\", \"Mix\", \"Fly\", \"Darkness\", \"Birds\", \"Throw, Hurl\", \"Ready, Prepared\", \"Water\", \"Heavenly Bodies\", \"Thunder and Lightning\", \"Change of State\", \"Movement of the Earth\", \"Remnant\", \"Bodies of Water\", \"Make, Create\", \"Elevated Land Formations\", \"Full, Empty\", \"Fire\", \"Stand\", \"Definite Units of Time: Year, Month, Week, Day, Hour\", \"Containers\", \"First, Second, Third, Etc. [Ordinals]\", \"Furniture\", \"Supernatural Beings\", \"The Earth's Surface\", \"Regions Above the Earth\", \"One, Two, Three, Etc. [Cardinals]\", \"Live, Die\", \"Speak, Talk\", \"Metals\", \"Parts of the Body\", \"Socio-Religious\", \"All, Any, Each, Every [Totality]\", \"See\", \"In Front Of, Face To Face, In Back Of, Behind\", \"Honor or Respect in Relation to Status\", \"Thanks\", \"Cease, Stop\", \"Comparison\", \"Furniture\", \"Make, Create\", \"Around, About, Outside\", \"Holy, Pure\", \"Full, Empty\", \"Fly\", \"Worthy, Not Worthy\", \"Among, Between, In, Inside\", \"Birds\", \"Adornments\", \"To Intend, To Purpose, To Plan\", \"Necessary, Unnecessary\", \"Thunder and Lightning\", \"Here, There\", \"Miscellaneous\", \"Sit\", \"High Status or Rank [including persons of high status]\", \"Be in a Place\", \"Precious and Semiprecious Stones and Substances\", \"Duration of Time without Reference to Points or Units of Time: Time, Spend Time, Always, Eternal, Old, Immediately, Young\", \"Prostrate as an Act of Reverence or Supplication\", \"Well Known, Clearly Shown, Revealed\", \"Receive\", \"State\", \"Lights and Light Holders\", \"First, Second, Third, Etc. [Ordinals]\", \"Supernatural Beings\", \"One, Two, Three, Etc. [Cardinals]\", \"Prompters of Attention\", \"Parts of the Body\", \"Speak, Talk\", \"See\", \"Roles and Functions\", \"Regions Above the Earth\", \"Live, Die\", \"Animals\", \"Parts and Areas of Buildings\", \"All, Any, Each, Every [Totality]\", \"Open, Closed\", \"Hear\", \"Swear, Put Under Oath, Vow\", \"Sweet, Bitter, Tasteless\", \"Left, Right, Straight Ahead, Opposite\", \"Should, Ought\", \"Land in Contrast With the Sea\", \"Food\", \"Take, Obtain, Gain, Lose\", \"Complete, Finish, Succeed\", \"Thunder and Lightning\", \"Duration of Time with Reference to Some Point of Time: Until, Delay, Still, From\", \"Not Able To Be Known, Secret\", \"Put, Place\", \"Inform, Announce\", \"A Point of Time with Reference to Other Points of Time: Before, Long Ago, Now, At the Same Time, When, About, After\", \"Eat, Drink\", \"Sound\", \"Indefinite Units of Time: Age, Lifetime, Interval, Period\", \"Make, Create\", \"Prophesy\", \"Atmospheric Objects\", \"Language\", \"Instruments Used in Marking and Writing\", \"Stand\", \"Come/Go Down, Descend\", \"Carry, Bear\", \"Bodies of Water\", \"Regions Above the Earth\", \"Parts of the Body\", \"Speak, Talk\", \"Written Language\", \"Duration of Time without Reference to Points or Units of Time: Time, Spend Time, Always, Eternal, Old, Immediately, Young\", \"Leave, Depart, Flee, Escape, Send\", \"Supernatural Beings\", \"Socio-Political\", \"Open, Closed\", \"Hear\", \"See\", \"One, Two, Three, Etc. [Cardinals]\", \"Activities Involving Clothing and Adorning\", \"Power, Force\", \"Musical Instruments\", \"Behavior, Conduct\", \"Sing, Lament\", \"Complete, Finish, Succeed\", \"Miscellaneous\", \"Surprise, Astonish\", \"Mix\", \"Buildings\", \"Full, Empty\", \"Come/Go Into\", \"Just, Righteous\", \"Come, Come To, Arrive\", \"Clean, Dirty\", \"Real, Unreal\", \"Anger, Be Indignant With\", \"Praise\", \"Light\", \"Trouble, Hardship, Distress\", \"A Point of Time with Reference to Duration of Time: Beginning, End\", \"Activities Involving Clothing and Adorning\", \"Images and Idols\", \"Able, Capable\", \"Holy, Pure\", \"Cloth, Leather, and Objects Made of Such Materials\", \"Sequence\", \"Number, Countless\", \"Worship, Reverence\", \"Metals\", \"Socio-Political\", \"Conquer\", \"Supernatural Beings\", \"One, Two, Three, Etc. [Cardinals]\", \"See\", \"Name\", \"Bodies of Water\", \"Duration of Time without Reference to Points or Units of Time: Time, Spend Time, Always, Eternal, Old, Immediately, Young\", \"Regions Above the Earth\", \"Animals\", \"Speak, Talk\", \"Parts of the Body\", \"All, Any, Each, Every [Totality]\", \"Live, Die\", \"Open, Closed\", \"Rule, Govern\", \"Power, Force\", \"Kinship Relations of the Same Generation\", \"Sexual Relations\", \"To Think, Thought\", \"Welcome, Receive\", \"Able To Be Known\", \"Admit, Confess, Deny\", \"Assign to a Role or Function\", \"Be Ready To Learn, Pay Attention\", \"Cause To Be Safe, Free from Danger\", \"Contrast\", \"Different Kind or Class\", \"Enough, Sufficient\", \"Exorcism\", \"Hand Over, Betray\", \"Instruments Used in Punishment and Execution\", \"More Than, Less Than [Comparative Degree]\", \"Persecution\", \"Preach, Proclaim\", \"Rebellion\", \"Strife, Struggle\", \"Suppose, Think Possible\", \"Tax, Tribute\", \"Travel, Journey\", \"Acceptable To, To Be Pleased With\", \"Attack\", \"Baptize\", \"Begin, Start\", \"Children\", \"Dance\", \"Easy, Light\", \"Supernatural Beings\", \"One, Two, Three, Etc. [Cardinals]\", \"Speak, Talk\", \"Parts of the Body\", \"Live, Die\", \"Animals\", \"See\", \"First, Second, Third, Etc. [Ordinals]\", \"The Earth's Surface\", \"Furniture\", \"All, Any, Each, Every [Totality]\", \"Regions Above the Earth\", \"Duration of Time without Reference to Points or Units of Time: Time, Spend Time, Always, Eternal, Old, Immediately, Young\", \"Persons\", \"Bodies of Water\", \"Rule, Govern\", \"Definite Units of Time: Year, Month, Week, Day, Hour\", \"Instruments Used in Marking and Writing\", \"Socio-Religious\", \"Fire\", \"Roles and Functions\", \"Heavenly Bodies\", \"Sit\", \"Human Beings\", \"Precious and Semiprecious Stones and Substances\", \"Name\", \"Metals\", \"Socio-Political\", \"Musical Instruments\", \"Hear\"], \"Freq\": [866.0, 164.0, 1254.0, 237.0, 269.0, 100.0, 266.0, 741.0, 99.0, 109.0, 328.0, 475.0, 951.0, 250.0, 94.0, 105.0, 367.0, 237.0, 118.0, 83.0, 110.0, 152.0, 200.0, 179.0, 49.0, 162.0, 75.0, 69.0, 59.0, 112.0, 13.33746908022503, 13.337135636376617, 13.337172791548298, 6.910107396753748, 6.677286422127613, 6.6772654627999986, 6.676978701090363, 6.676723854720504, 3.463932593537594, 3.4638230334159723, 3.463845898137006, 10.356205746058944, 10.123158982312598, 19.99730209862997, 17.015298519120407, 19.996273186183437, 6.9103217535134425, 3.463921161177077, 13.337015596591188, 6.910024035791644, 6.676598098754816, 19.997749866083556, 26.89004755054518, 37.22827019351083, 50.3148932773612, 16.783610300882167, 6.9105146745971675, 16.784162864973823, 6.675962173701056, 6.675761631043653, 50.54549161056348, 43.42081786083917, 40.20704413117433, 40.20899144324907, 148.39777093452477, 81.09853606492989, 46.63790697505396, 56.73707514882155, 30.567956063267463, 40.90708948428763, 46.8667142384419, 71.45790081756638, 91.66965875634858, 50.31409682291184, 40.44331291519306, 20.226065537969266, 23.441698931611548, 23.67537066439949, 40.42639683241469, 27.113780751256982, 23.44438553633305, 23.90752189323867, 20.22177268659512, 17.24931322272386, 11.78039795549884, 11.597378844327796, 5.898248731064332, 5.89799583776139, 5.897893313449386, 5.897545642115793, 5.898065554293552, 3.6426751355788594, 3.642446848110798, 3.642778343386276, 3.6426676171293124, 7.269014730778482, 28.707824402176914, 29.08832356481121, 5.897809471345348, 11.781093298166029, 5.897962118654331, 5.8987244438720285, 5.898297031406877, 30.878503766350946, 11.779866651730858, 3.6422989852697083, 3.6428143408113796, 17.510264857500978, 5.89866566326648, 5.897780764537987, 23.545283299096127, 5.898224580893061, 35.65510508330712, 5.898932682141298, 23.54411315494846, 21.446580558584696, 11.601950972979546, 16.418055590846112, 28.545227222629766, 73.55303019335008, 51.98874261131309, 141.33278059002322, 26.29250471434521, 110.50940482973202, 58.01310399242318, 34.29176685608173, 56.931847056271955, 32.65684582733134, 28.518395926683016, 44.074664047279676, 38.885366377084, 27.78619007353391, 63.00963772950778, 27.279233323501924, 30.715864665751777, 27.93243986544799, 26.673085896429107, 47.134908135302, 20.59042326788687, 20.218080483851974, 17.664807727097124, 10.608657469633599, 9.35444822124845, 4.686119855750379, 4.686087777031096, 18.691096819611538, 10.608775844625882, 4.686266694958363, 10.618960612091662, 10.60872614520164, 5.3133049026476336, 5.313209118302733, 35.204773307896424, 4.6862951591740645, 4.686134765577651, 25.869267796290877, 21.21292151016431, 29.909612309600263, 29.910071351555068, 10.609181572652865, 26.51064519149951, 57.920587334584255, 5.313264691295293, 5.3132344198278005, 9.35450605330575, 34.57795694036445, 4.686266694958363, 4.6862721167137344, 4.686520162021991, 4.686944866192776, 34.57782681823553, 143.97183675123506, 30.538311833498017, 44.551301248172685, 28.02875296084787, 152.33185100010138, 19.95583330967678, 26.50745539208915, 33.32756641501278, 31.166512555901576, 35.85603817765129, 50.488282418366175, 85.08339740723034, 28.02998008481367, 23.99197596257308, 40.51387906100866, 51.121684411423004, 47.354019855527234, 29.9370608497955, 25.24279842110269, 24.620708017003064, 19.948696472355802, 29.891365073442, 14.950760537200255, 9.97074292466974, 9.97048849733524, 4.990050684219894, 24.909730594974878, 19.930309502490278, 69.73672898456327, 9.97046015439383, 9.970580776679357, 104.6009039946219, 4.989254115738692, 9.969862316071572, 4.9893526568954485, 4.989863818548052, 9.967666726819703, 14.951774291709222, 9.96806484627576, 4.989578411719455, 4.989568854215957, 19.931476177055217, 19.931927027565056, 14.950357144638819, 49.809310462096626, 4.989931380210711, 4.990139997442238, 9.970042260792605, 4.989261036689501, 4.9899893843698715, 4.989456141588496, 24.91045037385901, 74.70557618248814, 14.949709870953638, 14.95003680348709, 94.61056291467573, 69.72740086114915, 44.81870115827572, 24.905804768020772, 14.945301554857421, 9.969170220990677, 24.899245024930227, 19.923873677376125, 19.927208916527867, 14.949642638860066, 14.95235696985352, 14.943189676153432, 14.941167440240873, 14.944676691870098, 9.970715240866504, 24.902565433236727, 14.946087795295446, 14.945708362184597, 9.967347166323256, 9.967151622296845, 9.967026655419039, 9.966702907030943, 9.966906868515442, 4.9885162115507855, 4.98836243106644, 4.988408727085938, 24.902179525158115, 14.945859876430225, 14.94573685204275, 49.79499883691956, 4.988396748395578, 9.967069390206268, 4.988312573814673, 14.94597124587573, 14.946151249979513, 4.988237140440246, 9.967526522930262, 24.90320775003871, 14.94511396014405, 9.96756602023361, 9.96691399097998, 9.96748249314948, 9.966934063380043, 14.945705772197492, 9.9666931945793, 14.945235689537974, 29.88156959339683, 19.92373350721909, 44.81782061766833, 29.8797643723848, 24.90474102240474, 24.9023349243844, 69.7192671764758, 34.85905602111353, 14.94509194525366, 14.945251229460602, 14.944554522929417, 19.925111380358835, 39.849927502187725, 19.922824421745315, 19.925567218089274, 19.926048955690764, 19.926689977499194, 14.94791114621721, 14.9471199051567, 14.946823351633203, 14.94673529207164, 14.946709392200592, 14.94668090234244, 14.946530683090364, 14.946499603245107, 14.946096860250313, 22.67446081467144, 4.542075998082795, 4.541955978172181, 4.541995485973181, 4.5419739362635445, 13.610498502022962, 19.359564757793894, 13.608202260740596, 18.144322757124158, 9.075047842447264, 4.542872439434773, 4.542091561761977, 4.542064624624931, 22.678018911173627, 10.292298156334502, 4.542026314030022, 22.677197627795262, 19.16625428470681, 5.755605395439485, 9.075165168644173, 19.36095351685935, 36.27847165688776, 13.608184302649232, 10.05435943179656, 9.89686756914037, 4.542698245948546, 4.542998146074319, 4.542938884372818, 4.542030504251341, 5.363972944568767, 50.32205347626702, 9.076333641788901, 32.59847323611407, 46.676043736414265, 18.143477529623976, 25.896001134991995, 18.14132854469079, 85.00275303952353, 37.856671825344826, 12.994954990381494, 63.40054352164177, 42.802560050464216, 18.957001815313166, 23.63921976538268, 17.217470942869408, 16.631251797218695, 13.609199533414325, 21.94728741270133, 13.608312403700959, 14.103214654767498, 15.209871260197772, 14.34813668243372, 49.77022945164832, 39.817732114202116, 9.961921276979446, 4.98579301828671, 4.985631520473466, 4.985630949809815, 4.985329068738416, 9.96161083595328, 19.913785177773, 9.961535508351343, 4.985638939100929, 4.98570513608445, 9.961832253449883, 4.985653776355857, 14.937687164253772, 14.937853798039875, 9.961631379844718, 9.961656489045364, 4.985917993626287, 4.985548203580414, 4.9855864380450345, 34.842047261166236, 9.96194067954358, 9.961536649678646, 9.961745512574925, 24.890284938502564, 4.985627525827909, 4.985367303203036, 4.985629237818862, 9.961882471851174, 9.961784317703197, 14.937751078582687, 9.961661054354572, 79.62490010289622, 19.913319516233756, 84.60379893361474, 19.914296492404333, 24.890022433223084, 34.84224356946219, 44.795265917467354, 19.913120925283195, 14.937596999396908, 29.8678164591132, 19.913988334032773, 14.938055812972342, 14.937712273454418, 14.937910864404978, 14.937535367722596, 14.938789686427576, 9.962515908503827, 9.962370959936463, 9.962272805788484, 9.962255685878953, 9.962178075622413, 9.962147259785256, 9.956135542664528, 4.983124449167085, 4.983060466298317, 4.983067067705412, 4.983125464768176, 4.983095504535975, 4.982976679208265, 4.983084332923968, 4.983084840724515, 4.983052341489585, 4.983057419495043, 4.9829431643722435, 34.82185368986398, 9.956188353921288, 4.982193142966135, 4.982935547364057, 14.928787621176108, 9.955557665643436, 9.956342725287204, 4.98308534852506, 4.983056403893951, 24.872310413884694, 9.954024107995197, 9.953684897230621, 14.926379630988047, 4.982356146941328, 4.982075333239515, 4.983117847759989, 4.982043341805131, 4.98314780799219, 14.928181307324454, 14.929794081857834, 19.900918696327725, 29.849389497554334, 9.95660881277319, 34.816101325281444, 29.84810171537025, 19.89793689152294, 89.52102756909245, 19.903981749219835, 24.870441707876243, 54.71492788336058, 19.902945836106454, 19.90158493064378, 19.89973044305061, 29.848209369085954, 14.928613953389453, 14.930536486255756, 14.929584868032974, 19.898991085455965, 9.959588586375792, 9.95827439856333, 9.958028623099175, 9.957694490340055, 9.956487956243295, 14.898167765508653, 9.936369942190332, 4.97289344541784, 4.972604820743847, 4.972391511440125, 4.973896807900987, 14.906710247103199, 4.972246946366987, 9.93742132454043, 9.941812867741223, 4.978864589505199, 4.9723167015421375, 9.943826669319488, 9.945867766401072, 4.972399598996664, 19.863291596453728, 4.973212398428855, 9.941414555581668, 9.938256364753103, 4.978131149221549, 4.9800120115892, 14.90762414099213, 4.9821208419568, 14.912081395589805, 24.84212686856647, 9.935493453250395, 14.904356768150288, 4.977225848361441, 4.975737737958226, 4.9729086095863515, 24.842355342038704, 14.925641195072366, 14.900070363184504, 69.64459399016812, 14.907798023457723, 29.823996996270555, 19.891416074318848, 19.877258806596952, 64.656274036124, 29.821714283437363, 19.881215643633762, 14.924744487241082, 14.909584362508323, 29.877906626271827, 14.931493553173055, 14.922307099889075, 19.898508861403737, 19.93042640328575, 14.920405513157792, 14.974282792932907, 10.016570196611458, 9.968499782431499, 9.962731332729904, 4.981544110654154, 4.981555201018076, 4.981533984669703, 4.981562433864112, 4.9814968560600486, 44.75577502584806, 4.981594258386672, 4.981624636340025, 14.925066519054486, 9.953374991271136, 39.783881942755166, 4.981491069783219, 4.981557129777019, 4.981629458237383, 4.9814659959169605, 14.92529700574818, 9.953276624565042, 19.896739723627874, 9.953150290854273, 9.953283375221343, 4.981621743201611, 4.98157063108962, 14.924971045486805, 4.98145008365568, 4.9814814259885045, 4.981546521602832, 4.981520483357101, 9.953403922655282, 24.86872152963215, 29.840265507356357, 14.924868821262823, 14.924959472933146, 14.924868821262823, 24.86861351913134, 34.811784411214305, 19.896774441288848, 74.5854246439819, 39.78404010098849, 14.924845676155506, 9.953437675936787, 14.925040480808754, 29.84114309267544, 14.925298934507122, 19.897156335559572, 14.924367343937632, 14.924809029735588, 19.89569819379863, 14.925051088982942, 9.953501324981906, 9.953420317106298, 4.980222156490477, 4.9800155229856475, 69.58448217090121, 14.920926051227692, 64.6100535935495, 4.975463589817876, 4.9802424508525585, 4.98042463887579, 4.9805311842767175, 4.98077840650571, 4.980318554710364, 4.980030743757209, 4.980793166041769, 4.980313481119843, 4.9802701249826695, 4.980390968684155, 14.923714681071885, 4.97476712421008, 64.63052507006367, 24.863032563126037, 4.98053671910274, 14.921325481172294, 4.980563470761847, 4.97323997346345, 4.97680993624778, 4.980003992098101, 14.918344054888328, 9.952099640281459, 9.941208947611742, 9.94842820568672, 34.790691334164386, 99.413482407333, 29.821312363086935, 19.886015532137925, 14.924003414496044, 59.65602269503165, 49.721249827612745, 14.923937919054781, 19.892341838281318, 14.917964919305804, 24.867524996914067, 19.884589391966202, 9.952664192535725, 14.920244345155956, 9.944517851102024, 9.955377179757614, 9.94641260654363, 9.946652449004592, 9.956858668189561, 39.765743064514346, 9.94891960297153, 9.948759622401338, 9.94889429531071, 4.979280007027241, 4.979266901274316, 4.979268708964375, 4.9791841994541315, 4.97917922830647, 9.948775891611866, 54.67441736226678, 4.979284074329874, 39.766390217555355, 19.887542603368807, 14.918532535487454, 14.91851084320675, 4.979249276296244, 4.979175612926352, 4.979312093525783, 29.82761446734812, 19.888025256614476, 9.948859949199594, 9.948793064667424, 4.979432304914686, 4.979282718562329, 4.979387112663218, 9.94915460267916, 9.949298314038824, 4.979318420440988, 9.94859331491594, 34.797057476998525, 34.796695938986794, 19.888605525123314, 54.67632628296875, 29.828605081500278, 19.8882692947724, 54.67809058846602, 39.76983205942709, 14.91790978626224, 14.919729226306302, 19.89062652260892, 14.920614090590027, 9.949239564111918, 9.950137986071082, 9.94959206367336, 9.949197987240568, 9.949155506524189, 9.949074160471548, 4.97903236956957, 4.97899253471161, 4.978823015260515, 4.9786720854098006, 4.978495041596647, 4.97842510929045, 4.9781976079905474, 19.883038219161595, 14.915812016272225, 9.94854686374396, 34.798315563118095, 29.819666493404004, 9.947242050841012, 9.950069440537089, 4.977810767258805, 4.978853555318284, 64.60186398777253, 4.978779196916759, 4.980051256714273, 4.975590195232316, 4.972583548675422, 9.946811834375048, 14.920459416367528, 9.951455693594086, 4.978200263647745, 4.980963474961551, 4.978120151322292, 4.975672963214966, 9.940223148868508, 4.981536211697105, 14.918419871639989, 54.64308222119011, 44.729336859797904, 69.5620863374135, 59.61713169263845, 19.88938346942505, 24.85193925652341, 14.90656147703491, 29.82857179720567, 29.830883989405464, 9.95109895031058, 9.950765222722785, 9.943934872411289, 9.948478701875896, 9.953688216077964, 9.945297224553512, 9.955258594700643, 9.948018387961694, 4.973287838456942, 4.973332987567878, 4.97325338255649, 4.973209421580052, 39.71988440501989, 4.9733959586962895, 14.900472368268513, 4.973203480907561, 4.973244669570169, 4.973387245709969, 14.900759104727442, 4.973708438069349, 9.936878123138563, 9.938918546117018, 4.973329027119551, 14.900564250669715, 4.973366651378664, 4.97315635157246, 19.864352557767724, 74.46931744467517, 9.937098324065586, 29.793033344957518, 24.828544830595163, 4.97363873417878, 4.973938936162024, 4.973692992320871, 4.973521504908279, 4.97409973036413, 4.97385853906097, 4.973617743802643, 29.795558526811288, 19.86657991390725, 24.831008229455023, 14.902831211292519, 9.937914968510768, 19.866773183785643, 34.774551787129184, 19.87265048910402, 34.77810034883085, 14.907205130425682, 14.903148047158739, 9.93925122377655, 9.937964870159696, 9.937823086109564, 14.919344696639891, 9.940020342841798, 9.939575188449759, 9.938425074255381, 9.938061505098894, 9.945345561663286, 9.945087340432316, 9.9433978131757, 9.94184769370022, 14.88894723661191, 4.975407796326222, 9.937165286884314, 4.969466357455944, 14.891478349585183, 14.894429564296757, 59.53426173308634, 4.976192111268, 9.929161598587976, 9.938120268157277, 9.936010757285658, 9.93727181268224, 14.900606560213157, 9.92900781134449, 29.785774381543696, 4.974093853121514, 4.969721794316465, 24.812591999157963, 9.929950039528968, 9.936224559063188, 4.969425472554627, 14.895770889132624, 4.969476109817726, 4.96950574199391, 4.969591637795759, 4.974956186957547, 4.969607766701783, 9.960574706069549, 9.957894306942842, 14.893005719476584, 24.832332279768128, 29.78548931250699, 24.83085892295737, 29.783265774020688, 49.65656259744042, 14.898063444333076, 49.64850264551842, 39.714440860225814, 24.82415229877804, 19.86122339953359, 9.941384308627553, 9.948228966235183, 9.938934965456914, 9.934753452797453, 4.9705003180694245, 9.931111735359593, 59.538205851637905, 14.892079273299114, 4.970555535991503, 44.65627409470247, 9.931451430424529, 9.931213783671282, 9.930906939775177, 24.814249200087247, 4.970463273134359, 9.931299056918036, 4.970490183134359, 4.970542954692801, 4.970726781446048, 4.970518840536957, 14.891405474857553, 4.970848400666828, 19.854375536173706, 24.813636910217113, 9.932114045489467, 9.93209866834661, 4.97082743183566, 4.970365768069424, 24.814959344502835, 4.970423781835658, 4.970647449368126, 4.970400017160333, 14.891348160052358, 9.931298357956996, 14.891443218753658, 9.932616598476482, 24.81458470138595, 19.853102029160713, 54.582952320191914, 19.853585710199674, 14.892719521610804, 24.814939773593743, 14.892244228104309, 19.855338704485394, 9.93131653094401, 14.896365302390038, 9.931851236138817, 9.931638751982971, 9.931452129385567, 9.92557515727606, 9.92604643164091, 4.965863191862111, 4.967371886322253, 29.757699139331066, 69.41897697895564, 9.92594779282036, 9.923977071384796, 14.88486379775182, 9.925068948328935, 4.968197643948451, 4.968407251442119, 9.927038299780879, 4.967730822030363, 9.925689550908226, 4.965842984603734, 4.967263657616372, 9.926488251357954, 4.966343713616385, 4.966923901678923, 24.804358967727893, 9.927702056844161, 4.967439358015476, 19.849650182489597, 29.760885721228266, 4.967369831346825, 4.968949079963331, 4.969916973389974, 4.96809455268114, 4.968564799558274, 24.809052531605712, 74.3965603806761, 49.598207421132784, 9.929926910241, 24.804580905074133, 24.824777203581654, 14.889819028500817, 9.926696488868004, 9.93162911488729, 9.932683317281914, 9.934350587345925, 4.9770275308671605, 4.9735433200287895, 4.972934362310258, 4.9719873611338015, 4.697115180956761, 18.761141322995847, 16.19692401448894, 4.697251080887994, 20.885907459043224, 9.385225234142649, 16.195597818608288, 4.697288570524196, 14.073219303766535, 5.770362628396724, 5.110883023739981, 5.052963878909896, 4.697227356977585, 19.41486099651547, 14.072948675455201, 10.31791056262268, 5.222281720388021, 4.697147984388438, 5.079317335833323, 10.600901081494733, 4.697334846793883, 24.29349513820746, 9.385480632289276, 4.697349784070807, 5.541542876510104, 18.761512704704476, 23.45019623216914, 58.89272725123208, 75.17947174785688, 10.448476421554643, 17.417614686458627, 10.61956154791436, 35.756438772290466, 9.910991021977578, 9.385792264890206, 9.78058215089721, 14.159892999563683, 18.504541164907856, 5.931143376780937, 5.928555420331856, 5.541962877590682, 5.23784471901626, 15.692914504087126, 5.237980782122423, 10.4655151669597, 10.465294825959418, 5.237866550037024, 26.147854318429715, 10.465512120770754, 5.237980782122423, 10.465442058425044, 5.2378706116222835, 5.237959966497972, 5.237832534260484, 10.46549790522235, 5.237936612382735, 10.465697938296335, 15.692968320091802, 5.237985859103996, 10.46539331940194, 5.237880257887272, 5.237854872979406, 5.2379091966822395, 10.465454243180819, 5.238121414512002, 5.237911735173027, 10.46580353951306, 10.465489782051833, 10.46590406374821, 5.238075213979686, 73.19765395874191, 47.06057705679592, 20.92083981650554, 10.465544613452824, 10.465500951411293, 10.465616706591163, 10.46596295673446, 10.465717230826314, 5.238876869370104, 5.238535188510223, 5.238401156196689, 5.238267123883155, 5.238238185088187, 5.238200107726388, 5.238113799039643, 0.008506331902465879, 0.008506331902465879, 0.008506331902465879, 0.008506331902465879, 0.008506331902465879, 0.008506331902465879, 0.008506331902465879, 0.008506331902465879, 0.008506331902465879, 0.008506331902465879, 0.008506331902465879, 0.008506331902465879, 0.008506331902465879, 0.008506331902465879, 0.008506331902465879, 0.008506331902465879, 0.008506331902465879, 0.008506331902465879, 0.008506331902465879, 0.008506331902465879, 0.008506331902465879, 0.008506331902465879, 0.008506331902465879, 0.008506331902465879, 0.008506331902465879, 0.008506331902465879, 0.008506331902465879, 0.008506331902465879, 0.008506331902465879, 0.008506331902465879, 0.010966152436249762, 0.010278128795942098, 0.010184159144289433, 0.00995633771690469, 0.00939775743255845, 0.00935960696022079, 0.009309280154800917, 0.009239417337178686, 0.009164225184589567, 0.009119278663801657, 0.009084069897751288, 0.009068888808171253, 0.00905383190839984, 0.009041169006016158, 0.008963337023905319, 0.008948221532019067, 0.00893471031771188, 0.008934099558601787, 0.008905684293518413, 0.008887811787880768, 0.0088656837114677, 0.008864425254740337, 0.008863572484721137, 0.0088575018321274, 0.00885543327572534, 0.008850345314796745, 0.00884785451304537, 0.008837272267609206, 0.008831568452604011, 0.00882143074299563], \"Total\": [866.0, 164.0, 1254.0, 237.0, 269.0, 100.0, 266.0, 741.0, 99.0, 109.0, 328.0, 475.0, 951.0, 250.0, 94.0, 105.0, 367.0, 237.0, 118.0, 83.0, 110.0, 152.0, 200.0, 179.0, 49.0, 162.0, 75.0, 69.0, 59.0, 112.0, 13.541169145207666, 13.54098539412881, 13.541172853353087, 7.11360806356809, 6.879958258181103, 6.880005894872841, 6.879875613975177, 6.879804205575952, 3.66619197993062, 3.6661020409689167, 3.666173561968952, 15.229252515870703, 14.99581427209516, 38.420635038886275, 37.37109940686202, 45.067421640232, 17.05758615007491, 8.642629536909162, 33.31931918289669, 17.37349868880666, 16.83316612693119, 51.87683033436274, 70.64931362894946, 104.6571071881683, 147.08422950538903, 51.82363520460139, 22.02285648975558, 54.57473365931829, 21.796678367231085, 21.8106786560055, 179.65560272863956, 162.2496078963136, 154.54227006617037, 176.69732905717208, 951.2773043665775, 475.8931693051498, 237.60966595342887, 328.5709465314766, 134.5921497660594, 237.9981136696765, 338.39414620714723, 741.767377759112, 1254.8392376391619, 406.5916894284848, 298.81457033772773, 80.60965089353861, 128.76851728414323, 159.6283365446479, 866.676431692919, 274.57210026461996, 168.8059291822129, 193.91625712490497, 269.8271964418855, 141.3288530894418, 11.98415792060781, 11.801744393133278, 6.101233475810558, 6.100989959254803, 6.100906207413999, 6.100548163669908, 6.101101106294813, 3.8468871364874593, 3.846730459499989, 3.850998645646742, 4.524373321245381, 9.777890321985126, 47.36022059900446, 49.195117969639426, 10.634364557906894, 21.49056612093385, 11.073193241263958, 11.08442599202516, 11.084000450918854, 67.60465538071054, 26.906589861820102, 8.522904461069277, 8.82602303732376, 42.55458591691909, 14.52127656976796, 14.520192928247328, 59.4722263481768, 15.595362661274537, 96.12468995993518, 16.035314840860153, 64.45441158462106, 59.49218534857776, 31.667616849054564, 46.66134410968837, 87.46572570960363, 266.1715928524163, 237.60966595342887, 1254.8392376391619, 104.6571071881683, 951.2773043665775, 367.5888718785396, 168.8059291822129, 406.5916894284848, 159.67096000643528, 131.56175981548108, 298.81457033772773, 250.72562859373804, 134.46285639040846, 741.767377759112, 149.080023395923, 204.82515777188308, 176.69732905717208, 159.6283365446479, 866.676431692919, 91.18304077322661, 128.76851728414323, 141.3288530894418, 10.81100899054844, 9.55648943953226, 4.887620330283835, 4.887618260535755, 25.554893608506944, 16.6928960356076, 8.522904461069277, 20.7612434906777, 20.764759807809856, 10.479575728091913, 10.487104161225545, 70.42740788155108, 9.851484431980849, 9.8668646699128, 54.63751286813097, 45.830328747554, 66.14730813068915, 70.64931362894946, 25.72833076461179, 67.71865205974824, 158.35945368413056, 15.022493187083297, 15.47409542974347, 29.431581151663508, 109.32550743021241, 14.823341237994647, 14.834726851407908, 14.99581427209516, 15.229252515870703, 112.92156478159733, 475.8931693051498, 102.52770375322503, 154.54227006617037, 100.85616832773923, 741.767377759112, 71.33168678315334, 102.10635006707929, 152.76652078677967, 141.3288530894418, 193.91625712490497, 338.39414620714723, 866.676431692919, 148.45406883158634, 114.08532235993917, 367.5888718785396, 951.2773043665775, 1254.8392376391619, 406.5916894284848, 298.81457033772773, 328.5709465314766, 274.57210026461996, 30.1142658784332, 15.166090562390044, 10.18382244831965, 10.18378962921317, 5.201445192476823, 35.061652003028655, 30.09420912951627, 105.40400468803686, 15.14780107407507, 15.160351201578917, 164.51265868206997, 9.735624858900175, 20.12741149492303, 10.173912908672627, 10.429550960795291, 21.03207683997887, 32.2632040618694, 21.8106786560055, 11.084000450918854, 11.08442599202516, 44.416838669176116, 44.56777477006983, 35.07622901157107, 141.37645841163695, 14.576284483416444, 15.147945477021414, 30.550585039440552, 15.47409542974347, 16.058018947457732, 16.06335716241311, 87.46572570960363, 328.5709465314766, 59.1427996127321, 67.60465538071054, 866.676431692919, 1254.8392376391619, 951.2773043665775, 298.81457033772773, 110.77199172684502, 49.195117969639426, 475.8931693051498, 274.57210026461996, 367.5888718785396, 148.45406883158634, 149.080023395923, 168.32347522766779, 338.39414620714723, 406.5916894284848, 51.576346681185385, 25.11610167759786, 15.15742816443129, 15.15716370832883, 10.177816176725347, 10.177668149738333, 10.177753278074793, 10.177544067288215, 10.177758180373244, 5.198372757370101, 5.198223146515413, 5.198283684820121, 30.09846715667785, 19.82593693848214, 20.139981200849117, 69.89776328128373, 8.82602303732376, 19.160524768579997, 9.8668646699128, 30.0391984570421, 30.06389257827622, 10.159160765901575, 20.36683894487876, 56.95632874555146, 35.07622901157107, 24.208951962481407, 24.7948743755222, 26.906589861820102, 29.5100253167526, 44.416838669176116, 30.08116167909748, 51.82363520460139, 141.37645841163695, 79.75990048563605, 298.81457033772773, 164.51265868206997, 132.85193756906241, 134.5921497660594, 951.2773043665775, 338.39414620714723, 59.1427996127321, 59.32134233831066, 63.4889293376486, 148.45406883158634, 1254.8392376391619, 152.76652078677967, 176.69732905717208, 200.28427175622852, 274.57210026461996, 204.82515777188308, 87.46572570960363, 97.63232297987025, 159.67096000643528, 75.13959947270645, 118.01526268325678, 166.561139727551, 97.78562609412509, 406.5916894284848, 22.88792087181414, 4.75266681626404, 4.752572180307151, 4.752616029790495, 4.752633787775898, 23.76838455782393, 38.44183181320339, 28.177620005998584, 38.24812024141797, 19.237078215707285, 9.726636988436926, 9.72908460595516, 9.735624858900175, 52.118708912855666, 24.076403471070048, 10.634364557906894, 54.57473365931829, 47.47747985551864, 14.576284483416444, 24.208951962481407, 53.36325232511217, 101.99944859425831, 38.660022993888795, 28.93887172997475, 29.959322985331852, 14.69065897574536, 14.696340101256197, 15.022493187083297, 15.595362661274537, 19.160524768579997, 204.82515777188308, 34.157291955420924, 159.67096000643528, 266.1715928524163, 86.94642811614018, 149.080023395923, 95.49818549749763, 1254.8392376391619, 367.5888718785396, 59.49218534857776, 951.2773043665775, 741.767377759112, 132.85193756906241, 328.5709465314766, 148.45406883158634, 168.8059291822129, 102.05023181838669, 866.676431692919, 114.25059957591947, 134.46285639040846, 237.9981136696765, 193.91625712490497, 49.98760824159277, 40.03311096866554, 10.172534973159795, 5.195539303978267, 5.1953950410696015, 5.195431597634554, 5.195218148757473, 13.619451711094849, 32.73404054402372, 16.83316612693119, 8.642629536909162, 9.72908460595516, 20.121009883520696, 10.16527048542298, 40.75387627507635, 41.81555801998326, 29.431581151663508, 29.461872759563125, 15.140636326856558, 15.160351201578917, 15.47409542974347, 114.25059957591947, 34.157291955420924, 35.34221402494131, 38.02725962443108, 100.85616832773923, 20.7612434906777, 23.533866068549706, 24.7948743755222, 51.82363520460139, 51.87683033436274, 80.60965089353861, 53.41012045178104, 951.2773043665775, 141.3288530894418, 1254.8392376391619, 159.6283365446479, 250.72562859373804, 475.8931693051498, 866.676431692919, 179.65560272863956, 118.01526268325678, 741.767377759112, 274.57210026461996, 158.35945368413056, 168.32347522766779, 176.69732905717208, 193.91625712490497, 406.5916894284848, 328.5709465314766, 159.67096000643528, 298.81457033772773, 75.13959947270645, 367.5888718785396, 200.28427175622852, 10.16762261206502, 5.1931863437353165, 5.1931357818221695, 5.19315385537218, 5.193222590608678, 5.193216303158179, 5.193101071905039, 5.193218200468241, 5.193226343800828, 5.193204973373441, 5.193226745021162, 5.19313763324938, 39.87773085669555, 15.140251201515799, 9.726636988436926, 9.881868553797926, 29.875103795224266, 19.99719541973941, 20.121009883520696, 10.165904895792844, 10.166027865005494, 53.36325232511217, 23.76838455782393, 24.076403471070048, 38.24812024141797, 14.69065897574536, 14.696340101256197, 14.834726851407908, 15.022493187083297, 15.147945477021414, 46.66134410968837, 56.95632874555146, 86.94642811614018, 162.2496078963136, 37.37109940686202, 204.82515777188308, 193.91625712490497, 101.99944859425831, 1254.8392376391619, 105.40400468803686, 159.67096000643528, 951.2773043665775, 108.78274107977873, 134.46285639040846, 149.080023395923, 741.767377759112, 128.76851728414323, 134.5921497660594, 147.08422950538903, 367.5888718785396, 866.676431692919, 338.39414620714723, 406.5916894284848, 179.65560272863956, 269.8271964418855, 15.112148096191579, 10.147927741038336, 5.183355248838269, 5.183234374668042, 5.183106764125773, 10.479575728091913, 36.68027605753766, 14.69065897574536, 30.003982202265448, 30.023958124937174, 15.116770151072398, 15.100112276061488, 34.07282647092688, 35.061652003028655, 18.56537451016094, 79.75990048563605, 20.267263169598486, 40.84409145472209, 41.85886404145834, 21.02192684736861, 21.03207683997887, 63.62813808596215, 21.8106786560055, 66.14730813068915, 110.77199172684502, 47.36022059900446, 72.73203266313615, 25.55551094892257, 26.24970925447018, 26.906589861820102, 152.76652078677967, 91.18304077322661, 97.78562609412509, 866.676431692919, 100.58277443306777, 274.57210026461996, 154.54227006617037, 166.561139727551, 1254.8392376391619, 338.39414620714723, 168.32347522766779, 131.56175981548108, 132.85193756906241, 951.2773043665775, 141.3288530894418, 141.37645841163695, 406.5916894284848, 741.767377759112, 237.9981136696765, 328.5709465314766, 269.8271964418855, 367.5888718785396, 102.10635006707929, 5.1916823771691964, 5.191737991515696, 5.191750813814924, 5.191801332654226, 5.19178444432074, 59.89171606594984, 10.165904895792844, 10.166027865005494, 31.311168794432824, 22.02285648975558, 99.47583601062632, 14.52127656976796, 14.834726851407908, 15.140251201515799, 15.140636326856558, 45.830328747554, 35.18991124634639, 72.73203266313615, 36.68027605753766, 38.64107063625683, 19.368057696990366, 19.678840704698917, 59.32134233831066, 21.0206453269858, 21.02192684736861, 25.68657877143027, 25.72833076461179, 52.118708912855666, 131.56175981548108, 158.35945368413056, 80.60965089353861, 83.18909723372587, 91.18304077322661, 200.28427175622852, 328.5709465314766, 159.6283365446479, 1254.8392376391619, 741.767377759112, 132.85193756906241, 59.4722263481768, 159.67096000643528, 951.2773043665775, 176.69732905717208, 475.8931693051498, 269.8271964418855, 274.57210026461996, 866.676431692919, 367.5888718785396, 193.91625712490497, 298.81457033772773, 5.191213915374839, 5.1912447466156495, 99.97684472561124, 21.796678367231085, 94.688121084202, 10.151453053954684, 10.173912908672627, 10.487104161225545, 11.073193241263958, 13.608191981190618, 14.520192928247328, 14.823341237994647, 15.116770151072398, 15.140636326856558, 15.147945477021414, 17.05758615007491, 61.216732019032094, 20.419875239913367, 266.1715928524163, 102.52770375322503, 21.49056612093385, 64.45441158462106, 24.7948743755222, 25.03305054114578, 29.461872759563125, 30.09420912951627, 97.78562609412509, 66.14730813068915, 70.42740788155108, 75.29304699970498, 269.8271964418855, 866.676431692919, 298.81457033772773, 200.28427175622852, 134.5921497660594, 1254.8392376391619, 951.2773043665775, 147.08422950538903, 250.72562859373804, 168.32347522766779, 741.767377759112, 475.8931693051498, 108.78274107977873, 406.5916894284848, 166.561139727551, 168.8059291822129, 179.65560272863956, 338.39414620714723, 367.5888718785396, 39.979033023063025, 10.158904179701182, 10.15877462941673, 10.158950392797253, 5.188771326643465, 5.1888023969511705, 5.188826951742251, 5.188743548519265, 5.188761506933152, 15.130717213516016, 109.32550743021241, 10.16527048542298, 83.98963731262812, 42.55458591691909, 34.57305761927489, 36.25991322541823, 13.608191981190618, 14.696340101256197, 16.035314840860153, 97.63232297987025, 71.33168678315334, 38.64107063625683, 38.660022993888795, 23.533866068549706, 25.72833076461179, 26.98382166971201, 55.08043535884329, 59.89171606594984, 30.06389257827622, 61.216732019032094, 250.72562859373804, 274.57210026461996, 168.8059291822129, 741.767377759112, 338.39414620714723, 200.28427175622852, 1254.8392376391619, 866.676431692919, 134.46285639040846, 237.9981136696765, 951.2773043665775, 406.5916894284848, 80.60965089353861, 367.5888718785396, 266.1715928524163, 100.58277443306777, 102.52770375322503, 96.12468995993518, 5.190440933061631, 5.190447317892205, 5.190464836756447, 5.190467007224972, 5.1905523013125165, 5.19051938806906, 5.19064827038692, 35.85875198762854, 30.023958124937174, 20.12741149492303, 95.49818549749763, 83.98963731262812, 28.93887172997475, 29.5100253167526, 15.130717213516016, 17.05758615007491, 237.9981136696765, 18.59467002358069, 19.237078215707285, 20.419875239913367, 20.7612434906777, 45.444981328401134, 79.75990048563605, 59.1427996127321, 29.875103795224266, 30.08116167909748, 31.667616849054564, 33.31931918289669, 67.71865205974824, 35.07622901157107, 108.78274107977873, 475.8931693051498, 406.5916894284848, 866.676431692919, 741.767377759112, 179.65560272863956, 338.39414620714723, 193.91625712490497, 951.2773043665775, 1254.8392376391619, 99.47583601062632, 102.05023181838669, 102.10635006707929, 131.56175981548108, 134.5921497660594, 149.080023395923, 164.51265868206997, 168.32347522766779, 5.182710091380854, 5.182767389199969, 5.182704494626904, 5.182676019668061, 75.93181535198826, 9.851484431980849, 33.35715055662739, 14.823341237994647, 15.14780107407507, 16.035314840860153, 51.576346681185385, 17.37349868880666, 35.34221402494131, 38.02725962443108, 21.0206453269858, 63.4889293376486, 22.02285648975558, 24.208951962481407, 97.63232297987025, 367.5888718785396, 49.992111290070866, 152.76652078677967, 137.8759936757513, 30.06389257827622, 31.667616849054564, 34.157291955420924, 35.18991124634639, 35.216275694394376, 36.25991322541823, 37.70039461834568, 250.72562859373804, 166.561139727551, 237.60966595342887, 162.2496078963136, 101.99944859425831, 328.5709465314766, 866.676431692919, 406.5916894284848, 1254.8392376391619, 266.1715928524163, 269.8271964418855, 109.32550743021241, 114.25059957591947, 141.37645841163695, 741.767377759112, 149.080023395923, 168.32347522766779, 179.65560272863956, 200.28427175622852, 338.39414620714723, 475.8931693051498, 237.9981136696765, 274.57210026461996, 25.035259698500525, 10.151453053954684, 25.03305054114578, 15.101015591819564, 49.81520043022284, 52.17717299829365, 237.60966595342887, 20.419875239913367, 40.75387627507635, 40.84409145472209, 42.16296936551619, 42.78660991541835, 70.42740788155108, 53.43298787830638, 166.561139727551, 29.461872759563125, 30.0391984570421, 162.2496078963136, 69.89776328128373, 75.29304699970498, 38.02725962443108, 114.08532235993917, 40.315471604661596, 42.55458591691909, 44.56777477006983, 44.69095496910718, 45.444981328401134, 94.688121084202, 99.97684472561124, 154.54227006617037, 269.8271964418855, 338.39414620714723, 298.81457033772773, 406.5916894284848, 866.676431692919, 179.65560272863956, 1254.8392376391619, 951.2773043665775, 475.8931693051498, 741.767377759112, 168.32347522766779, 266.1715928524163, 250.72562859373804, 274.57210026461996, 5.1798405526553, 15.101015591819564, 100.58277443306777, 30.003982202265448, 10.159160765901575, 118.01526268325678, 28.896059894049348, 29.431581151663508, 30.0391984570421, 83.18909723372587, 18.56537451016094, 38.420635038886275, 20.36683894487876, 23.533866068549706, 25.68657877143027, 26.98382166971201, 97.63232297987025, 32.89032765051468, 131.56175981548108, 168.8059291822129, 69.08829820778331, 72.73203266313615, 36.68027605753766, 37.70039461834568, 200.28427175622852, 40.315471604661596, 45.067421640232, 45.444981328401134, 137.8759936757513, 97.78562609412509, 152.76652078677967, 99.47583601062632, 328.5709465314766, 269.8271964418855, 1254.8392376391619, 338.39414620714723, 274.57210026461996, 866.676431692919, 367.5888718785396, 951.2773043665775, 148.45406883158634, 741.767377759112, 204.82515777188308, 298.81457033772773, 406.5916894284848, 10.140178740629057, 25.03305054114578, 15.116770151072398, 15.595362661274537, 112.92156478159733, 269.8271964418855, 40.315471604661596, 40.84409145472209, 63.61846465134288, 45.444981328401134, 23.533866068549706, 25.035259698500525, 52.17717299829365, 26.98382166971201, 55.08043535884329, 30.023958124937174, 31.667616849054564, 69.08829820778331, 34.57305761927489, 35.216275694394376, 179.65560272863956, 75.29304699970498, 38.64107063625683, 164.51265868206997, 250.72562859373804, 42.78660991541835, 49.195117969639426, 53.41012045178104, 53.43298787830638, 59.49218534857776, 328.5709465314766, 1254.8392376391619, 866.676431692919, 128.76851728414323, 741.767377759112, 951.2773043665775, 406.5916894284848, 166.561139727551, 274.57210026461996, 367.5888718785396, 475.8931693051498, 105.40400468803686, 298.81457033772773, 162.2496078963136, 176.69732905717208, 4.907671014387064, 28.896059894049348, 25.333142516844394, 9.881868553797926, 61.216732019032094, 28.177620005998584, 49.81520043022284, 15.100112276061488, 69.08829820778331, 29.5100253167526, 28.93887172997475, 29.959322985331852, 29.461872759563125, 134.46285639040846, 102.05023181838669, 75.13959947270645, 41.85886404145834, 40.315471604661596, 47.36022059900446, 100.85616832773923, 44.69095496910718, 237.60966595342887, 97.78562609412509, 49.992111290070866, 59.1427996127321, 200.28427175622852, 274.57210026461996, 741.767377759112, 951.2773043665775, 149.080023395923, 250.72562859373804, 159.6283365446479, 1254.8392376391619, 168.32347522766779, 162.2496078963136, 176.69732905717208, 406.5916894284848, 866.676431692919, 108.78274107977873, 114.08532235993917, 118.01526268325678, 10.429550960795291, 40.75387627507635, 15.100112276061488, 35.216275694394376, 35.85875198762854, 20.36683894487876, 110.77199172684502, 45.444981328401134, 26.24970925447018, 59.4722263481768, 29.875103795224266, 32.2632040618694, 37.37109940686202, 80.60965089353861, 42.16296936551619, 87.46572570960363, 132.85193756906241, 51.576346681185385, 108.78274107977873, 54.63751286813097, 56.75888022636559, 63.61846465134288, 134.5921497660594, 67.60465538071054, 70.42740788155108, 141.3288530894418, 148.45406883158634, 168.32347522766779, 86.94642811614018, 1254.8392376391619, 866.676431692919, 406.5916894284848, 193.91625712490497, 200.28427175622852, 250.72562859373804, 274.57210026461996, 475.8931693051498, 951.2773043665775, 741.767377759112, 298.81457033772773, 367.5888718785396, 162.2496078963136, 237.9981136696765, 114.08532235993917, 0.2189427030489826, 0.2189427030489826, 0.2189427030489826, 0.2189427030489826, 0.2189427030489826, 0.2189427030489826, 0.2189427030489826, 0.2189427030489826, 0.2189427030489826, 0.2189427030489826, 0.2189427030489826, 0.2189427030489826, 0.2189427030489826, 0.2189427030489826, 0.2189427030489826, 0.2189427030489826, 0.2189427030489826, 0.2189427030489826, 0.2189427030489826, 0.2189427030489826, 0.2189427030489826, 0.2189427030489826, 0.2189427030489826, 0.2189427030489826, 0.2189427030489826, 0.2189427030489826, 0.2189427030489826, 0.2189427030489826, 0.2189427030489826, 0.2189427030489826, 1254.8392376391619, 866.676431692919, 951.2773043665775, 741.767377759112, 367.5888718785396, 475.8931693051498, 406.5916894284848, 328.5709465314766, 338.39414620714723, 269.8271964418855, 298.81457033772773, 274.57210026461996, 250.72562859373804, 266.1715928524163, 200.28427175622852, 237.9981136696765, 152.76652078677967, 237.60966595342887, 204.82515777188308, 137.8759936757513, 166.561139727551, 168.8059291822129, 179.65560272863956, 158.35945368413056, 164.51265868206997, 193.91625712490497, 148.45406883158634, 168.32347522766779, 118.01526268325678, 176.69732905717208], \"Category\": [\"Default\", \"Default\", \"Default\", \"Default\", \"Default\", \"Default\", \"Default\", \"Default\", \"Default\", \"Default\", \"Default\", \"Default\", \"Default\", \"Default\", \"Default\", \"Default\", \"Default\", \"Default\", \"Default\", \"Default\", \"Default\", \"Default\", \"Default\", \"Default\", \"Default\", \"Default\", \"Default\", \"Default\", \"Default\", \"Default\", \"Topic1\", \"Topic1\", \"Topic1\", \"Topic1\", \"Topic1\", \"Topic1\", \"Topic1\", \"Topic1\", \"Topic1\", \"Topic1\", \"Topic1\", \"Topic1\", \"Topic1\", \"Topic1\", \"Topic1\", \"Topic1\", \"Topic1\", \"Topic1\", \"Topic1\", \"Topic1\", \"Topic1\", \"Topic1\", \"Topic1\", \"Topic1\", \"Topic1\", \"Topic1\", \"Topic1\", \"Topic1\", \"Topic1\", \"Topic1\", \"Topic1\", \"Topic1\", \"Topic1\", \"Topic1\", \"Topic1\", \"Topic1\", \"Topic1\", \"Topic1\", \"Topic1\", \"Topic1\", \"Topic1\", \"Topic1\", \"Topic1\", \"Topic1\", \"Topic1\", \"Topic1\", \"Topic1\", \"Topic1\", \"Topic1\", \"Topic1\", \"Topic1\", \"Topic1\", \"Topic1\", \"Topic1\", \"Topic2\", \"Topic2\", \"Topic2\", \"Topic2\", \"Topic2\", \"Topic2\", \"Topic2\", \"Topic2\", \"Topic2\", \"Topic2\", \"Topic2\", \"Topic2\", \"Topic2\", \"Topic2\", \"Topic2\", \"Topic2\", \"Topic2\", \"Topic2\", \"Topic2\", \"Topic2\", \"Topic2\", \"Topic2\", \"Topic2\", \"Topic2\", \"Topic2\", \"Topic2\", \"Topic2\", \"Topic2\", \"Topic2\", \"Topic2\", \"Topic2\", \"Topic2\", \"Topic2\", \"Topic2\", \"Topic2\", \"Topic2\", \"Topic2\", \"Topic2\", \"Topic2\", \"Topic2\", \"Topic2\", \"Topic2\", \"Topic2\", \"Topic2\", \"Topic2\", \"Topic2\", \"Topic2\", \"Topic2\", \"Topic2\", \"Topic2\", \"Topic2\", \"Topic2\", \"Topic2\", \"Topic2\", \"Topic2\", \"Topic2\", \"Topic2\", \"Topic3\", \"Topic3\", \"Topic3\", \"Topic3\", \"Topic3\", \"Topic3\", \"Topic3\", \"Topic3\", \"Topic3\", \"Topic3\", \"Topic3\", \"Topic3\", \"Topic3\", \"Topic3\", \"Topic3\", \"Topic3\", \"Topic3\", \"Topic3\", \"Topic3\", \"Topic3\", \"Topic3\", \"Topic3\", \"Topic3\", \"Topic3\", \"Topic3\", \"Topic3\", \"Topic3\", \"Topic3\", \"Topic3\", \"Topic3\", \"Topic3\", \"Topic3\", \"Topic3\", \"Topic3\", \"Topic3\", \"Topic3\", \"Topic3\", \"Topic3\", \"Topic3\", \"Topic3\", \"Topic3\", \"Topic3\", \"Topic3\", \"Topic3\", \"Topic3\", \"Topic3\", \"Topic3\", \"Topic3\", \"Topic3\", \"Topic3\", \"Topic3\", \"Topic4\", \"Topic4\", \"Topic4\", \"Topic4\", \"Topic4\", \"Topic4\", \"Topic4\", \"Topic4\", \"Topic4\", \"Topic4\", \"Topic4\", \"Topic4\", \"Topic4\", \"Topic4\", \"Topic4\", \"Topic4\", \"Topic4\", \"Topic4\", \"Topic4\", \"Topic4\", \"Topic4\", \"Topic4\", \"Topic4\", \"Topic4\", \"Topic4\", \"Topic4\", \"Topic4\", \"Topic4\", \"Topic4\", \"Topic4\", \"Topic4\", \"Topic4\", \"Topic4\", \"Topic4\", \"Topic4\", \"Topic4\", \"Topic4\", \"Topic4\", \"Topic4\", \"Topic4\", \"Topic4\", \"Topic4\", \"Topic4\", \"Topic4\", \"Topic4\", \"Topic4\", \"Topic4\", \"Topic4\", \"Topic4\", \"Topic5\", \"Topic5\", \"Topic5\", \"Topic5\", \"Topic5\", \"Topic5\", \"Topic5\", \"Topic5\", \"Topic5\", \"Topic5\", \"Topic5\", \"Topic5\", \"Topic5\", \"Topic5\", \"Topic5\", \"Topic5\", \"Topic5\", \"Topic5\", \"Topic5\", \"Topic5\", \"Topic5\", \"Topic5\", \"Topic5\", \"Topic5\", \"Topic5\", \"Topic5\", \"Topic5\", \"Topic5\", \"Topic5\", \"Topic5\", \"Topic5\", \"Topic5\", \"Topic5\", \"Topic5\", \"Topic5\", \"Topic5\", \"Topic5\", \"Topic5\", \"Topic5\", \"Topic5\", \"Topic5\", \"Topic5\", \"Topic5\", \"Topic5\", \"Topic5\", \"Topic5\", \"Topic5\", \"Topic5\", \"Topic5\", \"Topic5\", \"Topic5\", \"Topic5\", \"Topic5\", \"Topic5\", \"Topic5\", \"Topic5\", \"Topic5\", \"Topic6\", \"Topic6\", \"Topic6\", \"Topic6\", \"Topic6\", \"Topic6\", \"Topic6\", \"Topic6\", \"Topic6\", \"Topic6\", \"Topic6\", \"Topic6\", \"Topic6\", \"Topic6\", \"Topic6\", \"Topic6\", \"Topic6\", \"Topic6\", \"Topic6\", \"Topic6\", \"Topic6\", \"Topic6\", \"Topic6\", \"Topic6\", \"Topic6\", \"Topic6\", \"Topic6\", \"Topic6\", \"Topic6\", \"Topic6\", \"Topic6\", \"Topic6\", \"Topic6\", \"Topic6\", \"Topic6\", \"Topic6\", \"Topic6\", \"Topic6\", \"Topic6\", \"Topic6\", \"Topic6\", \"Topic6\", \"Topic6\", \"Topic6\", \"Topic6\", \"Topic6\", \"Topic6\", \"Topic6\", \"Topic6\", \"Topic6\", \"Topic6\", \"Topic6\", \"Topic7\", \"Topic7\", \"Topic7\", \"Topic7\", \"Topic7\", \"Topic7\", \"Topic7\", \"Topic7\", \"Topic7\", \"Topic7\", \"Topic7\", \"Topic7\", \"Topic7\", \"Topic7\", \"Topic7\", \"Topic7\", \"Topic7\", \"Topic7\", \"Topic7\", \"Topic7\", \"Topic7\", \"Topic7\", \"Topic7\", \"Topic7\", \"Topic7\", \"Topic7\", \"Topic7\", \"Topic7\", \"Topic7\", \"Topic7\", \"Topic7\", \"Topic7\", \"Topic7\", \"Topic7\", \"Topic7\", \"Topic7\", \"Topic7\", \"Topic7\", \"Topic7\", \"Topic7\", \"Topic7\", \"Topic7\", \"Topic7\", \"Topic7\", \"Topic7\", \"Topic7\", \"Topic7\", \"Topic7\", \"Topic7\", \"Topic7\", \"Topic7\", \"Topic7\", \"Topic7\", \"Topic7\", \"Topic7\", \"Topic8\", \"Topic8\", \"Topic8\", \"Topic8\", \"Topic8\", \"Topic8\", \"Topic8\", \"Topic8\", \"Topic8\", \"Topic8\", \"Topic8\", \"Topic8\", \"Topic8\", \"Topic8\", \"Topic8\", \"Topic8\", \"Topic8\", \"Topic8\", \"Topic8\", \"Topic8\", \"Topic8\", \"Topic8\", \"Topic8\", \"Topic8\", \"Topic8\", \"Topic8\", \"Topic8\", \"Topic8\", \"Topic8\", \"Topic8\", \"Topic8\", \"Topic8\", \"Topic8\", \"Topic8\", \"Topic8\", \"Topic8\", \"Topic8\", \"Topic8\", \"Topic8\", \"Topic8\", \"Topic8\", \"Topic8\", \"Topic8\", \"Topic8\", \"Topic8\", \"Topic8\", \"Topic8\", \"Topic8\", \"Topic8\", \"Topic8\", \"Topic8\", \"Topic8\", \"Topic8\", \"Topic8\", \"Topic8\", \"Topic9\", \"Topic9\", \"Topic9\", \"Topic9\", \"Topic9\", \"Topic9\", \"Topic9\", \"Topic9\", \"Topic9\", \"Topic9\", \"Topic9\", \"Topic9\", \"Topic9\", \"Topic9\", \"Topic9\", \"Topic9\", \"Topic9\", \"Topic9\", \"Topic9\", \"Topic9\", \"Topic9\", \"Topic9\", \"Topic9\", \"Topic9\", \"Topic9\", \"Topic9\", \"Topic9\", \"Topic9\", \"Topic9\", \"Topic9\", \"Topic9\", \"Topic9\", \"Topic9\", \"Topic9\", \"Topic9\", \"Topic9\", \"Topic9\", \"Topic9\", \"Topic9\", \"Topic9\", \"Topic9\", \"Topic9\", \"Topic9\", \"Topic9\", \"Topic9\", \"Topic9\", \"Topic9\", \"Topic9\", \"Topic9\", \"Topic9\", \"Topic9\", \"Topic9\", \"Topic9\", \"Topic10\", \"Topic10\", \"Topic10\", \"Topic10\", \"Topic10\", \"Topic10\", \"Topic10\", \"Topic10\", \"Topic10\", \"Topic10\", \"Topic10\", \"Topic10\", \"Topic10\", \"Topic10\", \"Topic10\", \"Topic10\", \"Topic10\", \"Topic10\", \"Topic10\", \"Topic10\", \"Topic10\", \"Topic10\", \"Topic10\", \"Topic10\", \"Topic10\", \"Topic10\", \"Topic10\", \"Topic10\", \"Topic10\", \"Topic10\", \"Topic10\", \"Topic10\", \"Topic10\", \"Topic10\", \"Topic10\", \"Topic10\", \"Topic10\", \"Topic10\", \"Topic10\", \"Topic10\", \"Topic10\", \"Topic10\", \"Topic10\", \"Topic10\", \"Topic10\", \"Topic10\", \"Topic10\", \"Topic10\", \"Topic10\", \"Topic10\", \"Topic11\", \"Topic11\", \"Topic11\", \"Topic11\", \"Topic11\", \"Topic11\", \"Topic11\", \"Topic11\", \"Topic11\", \"Topic11\", \"Topic11\", \"Topic11\", \"Topic11\", \"Topic11\", \"Topic11\", \"Topic11\", \"Topic11\", \"Topic11\", \"Topic11\", \"Topic11\", \"Topic11\", \"Topic11\", \"Topic11\", \"Topic11\", \"Topic11\", \"Topic11\", \"Topic11\", \"Topic11\", \"Topic11\", \"Topic11\", \"Topic11\", \"Topic11\", \"Topic11\", \"Topic11\", \"Topic11\", \"Topic11\", \"Topic11\", \"Topic11\", \"Topic11\", \"Topic11\", \"Topic11\", \"Topic11\", \"Topic11\", \"Topic11\", \"Topic11\", \"Topic11\", \"Topic11\", \"Topic11\", \"Topic11\", \"Topic12\", \"Topic12\", \"Topic12\", \"Topic12\", \"Topic12\", \"Topic12\", \"Topic12\", \"Topic12\", \"Topic12\", \"Topic12\", \"Topic12\", \"Topic12\", \"Topic12\", \"Topic12\", \"Topic12\", \"Topic12\", \"Topic12\", \"Topic12\", \"Topic12\", \"Topic12\", \"Topic12\", \"Topic12\", \"Topic12\", \"Topic12\", \"Topic12\", \"Topic12\", \"Topic12\", \"Topic12\", \"Topic12\", \"Topic12\", \"Topic12\", \"Topic12\", \"Topic12\", \"Topic12\", \"Topic12\", \"Topic12\", \"Topic12\", \"Topic12\", \"Topic12\", \"Topic12\", \"Topic12\", \"Topic12\", \"Topic12\", \"Topic12\", \"Topic12\", \"Topic12\", \"Topic12\", \"Topic12\", \"Topic13\", \"Topic13\", \"Topic13\", \"Topic13\", \"Topic13\", \"Topic13\", \"Topic13\", \"Topic13\", \"Topic13\", \"Topic13\", \"Topic13\", \"Topic13\", \"Topic13\", \"Topic13\", \"Topic13\", \"Topic13\", \"Topic13\", \"Topic13\", \"Topic13\", \"Topic13\", \"Topic13\", \"Topic13\", \"Topic13\", \"Topic13\", \"Topic13\", \"Topic13\", \"Topic13\", \"Topic13\", \"Topic13\", \"Topic13\", \"Topic13\", \"Topic13\", \"Topic13\", \"Topic13\", \"Topic13\", \"Topic13\", \"Topic13\", \"Topic13\", \"Topic13\", \"Topic13\", \"Topic13\", \"Topic13\", \"Topic13\", \"Topic13\", \"Topic13\", \"Topic13\", \"Topic13\", \"Topic13\", \"Topic14\", \"Topic14\", \"Topic14\", \"Topic14\", \"Topic14\", \"Topic14\", \"Topic14\", \"Topic14\", \"Topic14\", \"Topic14\", \"Topic14\", \"Topic14\", \"Topic14\", \"Topic14\", \"Topic14\", \"Topic14\", \"Topic14\", \"Topic14\", \"Topic14\", \"Topic14\", \"Topic14\", \"Topic14\", \"Topic14\", \"Topic14\", \"Topic14\", \"Topic14\", \"Topic14\", \"Topic14\", \"Topic14\", \"Topic14\", \"Topic14\", \"Topic14\", \"Topic14\", \"Topic14\", \"Topic14\", \"Topic14\", \"Topic14\", \"Topic14\", \"Topic14\", \"Topic14\", \"Topic14\", \"Topic14\", \"Topic14\", \"Topic14\", \"Topic14\", \"Topic14\", \"Topic14\", \"Topic14\", \"Topic14\", \"Topic14\", \"Topic14\", \"Topic14\", \"Topic14\", \"Topic15\", \"Topic15\", \"Topic15\", \"Topic15\", \"Topic15\", \"Topic15\", \"Topic15\", \"Topic15\", \"Topic15\", \"Topic15\", \"Topic15\", \"Topic15\", \"Topic15\", \"Topic15\", \"Topic15\", \"Topic15\", \"Topic15\", \"Topic15\", \"Topic15\", \"Topic15\", \"Topic15\", \"Topic15\", \"Topic15\", \"Topic15\", \"Topic15\", \"Topic15\", \"Topic15\", \"Topic15\", \"Topic15\", \"Topic15\", \"Topic15\", \"Topic15\", \"Topic15\", \"Topic15\", \"Topic15\", \"Topic15\", \"Topic15\", \"Topic15\", \"Topic15\", \"Topic15\", \"Topic15\", \"Topic15\", \"Topic15\", \"Topic15\", \"Topic16\", \"Topic16\", \"Topic16\", \"Topic16\", \"Topic16\", \"Topic16\", \"Topic16\", \"Topic16\", \"Topic16\", \"Topic16\", \"Topic16\", \"Topic16\", \"Topic16\", \"Topic16\", \"Topic16\", \"Topic16\", \"Topic16\", \"Topic16\", \"Topic16\", \"Topic16\", \"Topic16\", \"Topic16\", \"Topic16\", \"Topic16\", \"Topic16\", \"Topic16\", \"Topic16\", \"Topic16\", \"Topic16\", \"Topic16\", \"Topic16\", \"Topic16\", \"Topic16\", \"Topic16\", \"Topic16\", \"Topic16\", \"Topic16\", \"Topic16\", \"Topic16\", \"Topic16\", \"Topic16\", \"Topic16\", \"Topic16\", \"Topic16\", \"Topic16\", \"Topic17\", \"Topic17\", \"Topic17\", \"Topic17\", \"Topic17\", \"Topic17\", \"Topic17\", \"Topic17\", \"Topic17\", \"Topic17\", \"Topic17\", \"Topic17\", \"Topic17\", \"Topic17\", \"Topic17\", \"Topic17\", \"Topic17\", \"Topic17\", \"Topic17\", \"Topic17\", \"Topic17\", \"Topic17\", \"Topic17\", \"Topic17\", \"Topic17\", \"Topic17\", \"Topic17\", \"Topic17\", \"Topic17\", \"Topic17\", \"Topic17\", \"Topic17\", \"Topic17\", \"Topic17\", \"Topic17\", \"Topic17\", \"Topic17\", \"Topic17\", \"Topic17\", \"Topic17\", \"Topic17\", \"Topic17\", \"Topic17\", \"Topic17\", \"Topic17\", \"Topic18\", \"Topic18\", \"Topic18\", \"Topic18\", \"Topic18\", \"Topic18\", \"Topic18\", \"Topic18\", \"Topic18\", \"Topic18\", \"Topic18\", \"Topic18\", \"Topic18\", \"Topic18\", \"Topic18\", \"Topic18\", \"Topic18\", \"Topic18\", \"Topic18\", \"Topic18\", \"Topic18\", \"Topic18\", \"Topic18\", \"Topic18\", \"Topic18\", \"Topic18\", \"Topic18\", \"Topic18\", \"Topic18\", \"Topic18\", \"Topic18\", \"Topic18\", \"Topic18\", \"Topic18\", \"Topic18\", \"Topic18\", \"Topic18\", \"Topic18\", \"Topic18\", \"Topic18\", \"Topic18\", \"Topic19\", \"Topic19\", \"Topic19\", \"Topic19\", \"Topic19\", \"Topic19\", \"Topic19\", \"Topic19\", \"Topic19\", \"Topic19\", \"Topic19\", \"Topic19\", \"Topic19\", \"Topic19\", \"Topic19\", \"Topic19\", \"Topic19\", \"Topic19\", \"Topic19\", \"Topic19\", \"Topic19\", \"Topic19\", \"Topic19\", \"Topic19\", \"Topic19\", \"Topic19\", \"Topic19\", \"Topic19\", \"Topic19\", \"Topic19\", \"Topic19\", \"Topic19\", \"Topic19\", \"Topic19\", \"Topic19\", \"Topic19\", \"Topic19\", \"Topic19\", \"Topic19\", \"Topic19\", \"Topic19\", \"Topic19\", \"Topic19\", \"Topic19\", \"Topic20\", \"Topic20\", \"Topic20\", \"Topic20\", \"Topic20\", \"Topic20\", \"Topic20\", \"Topic20\", \"Topic20\", \"Topic20\", \"Topic20\", \"Topic20\", \"Topic20\", \"Topic20\", \"Topic20\", \"Topic20\", \"Topic20\", \"Topic20\", \"Topic20\", \"Topic20\", \"Topic20\", \"Topic20\", \"Topic20\", \"Topic20\", \"Topic20\", \"Topic20\", \"Topic20\", \"Topic20\", \"Topic20\", \"Topic20\", \"Topic20\", \"Topic20\", \"Topic20\", \"Topic20\", \"Topic20\", \"Topic20\", \"Topic20\", \"Topic20\", \"Topic20\", \"Topic20\", \"Topic20\", \"Topic20\", \"Topic20\", \"Topic20\", \"Topic20\", \"Topic20\", \"Topic20\", \"Topic20\", \"Topic20\", \"Topic20\", \"Topic20\", \"Topic20\", \"Topic20\", \"Topic20\", \"Topic20\", \"Topic20\", \"Topic20\", \"Topic20\", \"Topic20\", \"Topic20\"], \"logprob\": [30.0, 29.0, 28.0, 27.0, 26.0, 25.0, 24.0, 23.0, 22.0, 21.0, 20.0, 19.0, 18.0, 17.0, 16.0, 15.0, 14.0, 13.0, 12.0, 11.0, 10.0, 9.0, 8.0, 7.0, 6.0, 5.0, 4.0, 3.0, 2.0, 1.0, -5.033, -5.033, -5.033, -5.6906, -5.7249, -5.7249, -5.7249, -5.725, -6.3812, -6.3812, -6.3812, -5.286, -5.3088, -4.628, -4.7895, -4.628, -5.6906, -6.3812, -5.0331, -5.6906, -5.725, -4.628, -4.3318, -4.0065, -3.7053, -4.8032, -5.6905, -4.8032, -5.7251, -5.7251, -3.7007, -3.8527, -3.9296, -3.9295, -2.6237, -3.2279, -3.7812, -3.5852, -4.2036, -3.9123, -3.7763, -3.3545, -3.1054, -3.7053, -3.9237, -4.6166, -4.4691, -4.4592, -3.9241, -4.3236, -4.469, -4.4494, -4.6168, -4.7758, -5.1128, -5.1284, -5.8045, -5.8046, -5.8046, -5.8047, -5.8046, -6.2865, -6.2865, -6.2865, -6.2865, -5.5956, -4.222, -4.2089, -5.8046, -5.1127, -5.8046, -5.8045, -5.8045, -4.1491, -5.1128, -6.2866, -6.2864, -4.7164, -5.8045, -5.8046, -4.4203, -5.8045, -4.0053, -5.8044, -4.4203, -4.5136, -5.128, -4.7808, -4.2277, -3.2812, -3.6282, -2.6281, -4.3099, -2.8741, -3.5185, -4.0443, -3.5373, -4.0931, -4.2286, -3.7933, -3.9186, -4.2547, -3.4359, -4.2731, -4.1544, -4.2494, -4.2955, -3.7262, -4.5544, -4.5726, -4.7076, -5.209, -5.3349, -6.0261, -6.0261, -4.6427, -5.209, -6.0261, -5.2081, -5.209, -5.9005, -5.9005, -4.0095, -6.0261, -6.0261, -4.3177, -4.5161, -4.1725, -4.1725, -5.209, -4.2932, -3.5116, -5.9005, -5.9005, -5.3349, -4.0275, -6.0261, -6.0261, -6.026, -6.0259, -4.0275, -2.6011, -4.1517, -3.7741, -4.2375, -2.5447, -4.5772, -4.2933, -4.0643, -4.1314, -3.9912, -3.649, -3.1271, -4.2374, -4.393, -3.8691, -3.6365, -3.7131, -4.1716, -4.3422, -4.3671, -4.5775, -3.8577, -4.5505, -4.9556, -4.9556, -5.6478, -4.04, -4.263, -3.0105, -4.9556, -4.9556, -2.6051, -5.6479, -4.9557, -5.6479, -5.6478, -4.9559, -4.5504, -4.9558, -5.6479, -5.6479, -4.2629, -4.2629, -4.5505, -3.347, -5.6478, -5.6478, -4.9556, -5.6479, -5.6478, -5.6479, -4.0399, -2.9417, -4.5505, -4.5505, -2.7055, -3.0106, -3.4526, -4.0401, -4.5508, -4.9557, -4.0404, -4.2633, -4.2631, -4.5505, -4.5504, -4.551, -4.5511, -4.5509, -4.9556, -4.0224, -4.533, -4.533, -4.9381, -4.9381, -4.9381, -4.9382, -4.9381, -5.6303, -5.6303, -5.6303, -4.0225, -4.533, -4.533, -3.3295, -5.6303, -4.9381, -5.6303, -4.533, -4.533, -5.6303, -4.9381, -4.0224, -4.533, -4.9381, -4.9381, -4.9381, -4.9381, -4.533, -4.9382, -4.533, -3.8402, -4.2455, -3.4348, -3.8402, -4.0224, -4.0224, -2.9929, -3.6861, -4.533, -4.533, -4.5331, -4.2454, -3.5523, -4.2455, -4.2454, -4.2454, -4.2454, -4.5328, -4.5329, -4.5329, -4.5329, -4.5329, -4.5329, -4.5329, -4.5329, -4.533, -4.0377, -5.6455, -5.6455, -5.6455, -5.6455, -4.5481, -4.1957, -4.5482, -4.2605, -4.9534, -5.6453, -5.6455, -5.6455, -4.0375, -4.8275, -5.6455, -4.0375, -4.2057, -5.4087, -4.9534, -4.1956, -3.5677, -4.5482, -4.8509, -4.8667, -5.6454, -5.6453, -5.6453, -5.6455, -5.4792, -3.2405, -4.9532, -3.6746, -3.3157, -4.2606, -3.9048, -4.2607, -2.7162, -3.5251, -4.5943, -3.0094, -3.4023, -4.2167, -3.996, -4.313, -4.3476, -4.5481, -4.0703, -4.5482, -4.5125, -4.437, -4.4953, -3.2037, -3.4268, -4.8123, -5.5045, -5.5045, -5.5045, -5.5046, -4.8124, -4.1197, -4.8124, -5.5045, -5.5045, -4.8123, -5.5045, -4.4072, -4.4072, -4.8124, -4.8124, -5.5045, -5.5046, -5.5045, -3.5603, -4.8123, -4.8124, -4.8123, -3.8966, -5.5045, -5.5046, -5.5045, -4.8123, -4.8123, -4.4072, -4.8124, -2.7338, -4.1197, -2.6731, -4.1197, -3.8966, -3.5603, -3.309, -4.1197, -4.4072, -3.7143, -4.1197, -4.4072, -4.4072, -4.4072, -4.4072, -4.4071, -4.8123, -4.8123, -4.8123, -4.8123, -4.8123, -4.8123, -4.6962, -5.3883, -5.3883, -5.3883, -5.3883, -5.3883, -5.3884, -5.3883, -5.3883, -5.3883, -5.3883, -5.3884, -3.4441, -4.6962, -5.3885, -5.3884, -4.2911, -4.6963, -4.6962, -5.3883, -5.3883, -3.7806, -4.6964, -4.6964, -4.2913, -5.3885, -5.3885, -5.3883, -5.3885, -5.3883, -4.2911, -4.291, -4.0036, -3.5982, -4.6961, -3.4443, -3.5983, -4.0038, -2.4999, -4.0035, -3.7807, -2.9922, -4.0035, -4.0036, -4.0037, -3.5983, -4.2911, -4.291, -4.291, -4.0037, -4.6958, -4.696, -4.696, -4.696, -4.6962, -4.2886, -4.6936, -5.3858, -5.3858, -5.3859, -5.3856, -4.288, -5.3859, -4.6935, -4.693, -5.3846, -5.3859, -4.6928, -4.6926, -5.3859, -4.0009, -5.3857, -4.6931, -4.6934, -5.3847, -5.3844, -4.2879, -5.3839, -4.2876, -3.7772, -4.6937, -4.2881, -5.3849, -5.3852, -5.3858, -3.7772, -4.2867, -4.2884, -2.7464, -4.2879, -3.5945, -3.9995, -4.0002, -2.8207, -3.5946, -4.0, -4.2868, -4.2878, -3.5927, -4.2863, -4.2869, -3.9991, -3.9975, -4.2871, -4.2835, -4.6855, -4.6904, -4.6909, -5.3369, -5.3369, -5.3369, -5.3369, -5.3369, -3.1414, -5.3369, -5.3369, -4.2396, -4.6447, -3.2592, -5.3369, -5.3369, -5.3369, -5.3369, -4.2396, -4.6447, -3.9521, -4.6447, -4.6447, -5.3369, -5.3369, -4.2396, -5.3369, -5.3369, -5.3369, -5.3369, -4.6447, -3.729, -3.5468, -4.2396, -4.2396, -4.2396, -3.729, -3.3927, -3.9521, -2.6307, -3.2592, -4.2396, -4.6447, -4.2396, -3.5467, -4.2396, -3.9521, -4.2396, -4.2396, -3.9521, -4.2396, -4.6447, -4.6447, -5.2927, -5.2928, -2.6557, -4.1954, -2.7298, -5.2937, -5.2927, -5.2927, -5.2927, -5.2926, -5.2927, -5.2928, -5.2926, -5.2927, -5.2927, -5.2927, -4.1953, -5.2938, -2.7295, -3.6848, -5.2927, -4.1954, -5.2927, -5.2941, -5.2934, -5.2928, -4.1956, -4.6004, -4.6015, -4.6008, -3.3489, -2.2989, -3.503, -3.9082, -4.1952, -2.8096, -2.9918, -4.1952, -3.9079, -4.1956, -3.6846, -3.9083, -4.6004, -4.1955, -4.6012, -4.6001, -4.601, -4.601, -4.5999, -3.1948, -4.5803, -4.5804, -4.5803, -5.2725, -5.2725, -5.2725, -5.2725, -5.2725, -4.5804, -2.8764, -5.2725, -3.1948, -3.8877, -4.1752, -4.1752, -5.2725, -5.2725, -5.2725, -3.4824, -3.8877, -4.5803, -4.5804, -5.2725, -5.2725, -5.2725, -4.5803, -4.5803, -5.2725, -4.5804, -3.3283, -3.3283, -3.8877, -2.8764, -3.4823, -3.8877, -2.8763, -3.1947, -4.1752, -4.1751, -3.8876, -4.1751, -4.5803, -4.5802, -4.5803, -4.5803, -4.5803, -4.5803, -5.2517, -5.2518, -5.2518, -5.2518, -5.2519, -5.2519, -5.2519, -3.8671, -4.1546, -4.5596, -3.3074, -3.4618, -4.5597, -4.5594, -5.252, -5.2518, -2.6887, -5.2518, -5.2515, -5.2524, -5.253, -4.5597, -4.1543, -4.5593, -5.2519, -5.2514, -5.2519, -5.2524, -4.5604, -5.2512, -4.1544, -2.8562, -3.0564, -2.6148, -2.769, -3.8668, -3.644, -4.1552, -3.4615, -3.4614, -4.5593, -4.5593, -4.56, -4.5596, -4.559, -4.5599, -4.5589, -4.5596, -5.1417, -5.1417, -5.1417, -5.1418, -3.064, -5.1417, -4.0444, -5.1418, -5.1418, -5.1417, -4.0444, -5.1417, -4.4496, -4.4494, -5.1417, -4.0444, -5.1417, -5.1418, -3.7569, -2.4354, -4.4495, -3.3515, -3.5338, -5.1417, -5.1416, -5.1417, -5.1417, -5.1416, -5.1416, -5.1417, -3.3515, -3.7568, -3.5337, -4.0443, -4.4495, -3.7568, -3.1969, -3.7565, -3.1968, -4.044, -4.0443, -4.4493, -4.4495, -4.4495, -4.0432, -4.4493, -4.4493, -4.4494, -4.4495, -4.4487, -4.4487, -4.4489, -4.4491, -3.9908, -5.087, -4.3952, -5.0882, -3.9907, -3.9905, -2.6049, -5.0868, -4.396, -4.3951, -4.3953, -4.3952, -3.9901, -4.396, -3.2974, -5.0872, -5.0881, -3.4801, -4.3959, -4.3953, -5.0882, -3.9904, -5.0882, -5.0881, -5.0881, -5.087, -5.0881, -4.3928, -4.3931, -3.9906, -3.4793, -3.2974, -3.4794, -3.2975, -2.7863, -3.9902, -2.7865, -3.0098, -3.4796, -3.7027, -4.3948, -4.3941, -4.395, -4.3954, -5.0172, -4.3251, -2.5341, -3.9199, -5.0172, -2.8217, -4.325, -4.3251, -4.3251, -3.4093, -5.0172, -4.3251, -5.0172, -5.0172, -5.0172, -5.0172, -3.92, -5.0172, -3.6323, -3.4094, -4.325, -4.325, -5.0172, -5.0173, -3.4093, -5.0172, -5.0172, -5.0172, -3.92, -4.3251, -3.92, -4.3249, -3.4093, -3.6324, -2.621, -3.6324, -3.9199, -3.4093, -3.9199, -3.6323, -4.3251, -3.9196, -4.325, -4.325, -4.325, -4.3054, -4.3054, -4.998, -4.9977, -3.2075, -2.3604, -4.3054, -4.3056, -3.9002, -4.3055, -4.9975, -4.9975, -4.3053, -4.9976, -4.3054, -4.998, -4.9977, -4.3053, -4.9979, -4.9978, -3.3895, -4.3052, -4.9977, -3.6124, -3.2074, -4.9977, -4.9973, -4.9972, -4.9975, -4.9974, -3.3893, -2.2911, -2.6966, -4.305, -3.3895, -3.3887, -3.8999, -4.3053, -4.3048, -4.3047, -4.3046, -4.9957, -4.9964, -4.9965, -4.9967, -4.8971, -3.5123, -3.6593, -4.8971, -3.405, -4.2049, -3.6593, -4.8971, -3.7998, -4.6914, -4.8127, -4.8241, -4.8971, -3.478, -3.7998, -4.1102, -4.7912, -4.8971, -4.8189, -4.0831, -4.8971, -3.2539, -4.2049, -4.8971, -4.7318, -3.5123, -3.2892, -2.3684, -2.1242, -4.0976, -3.5866, -4.0814, -2.8674, -4.1504, -4.2049, -4.1637, -3.7937, -3.5261, -4.6639, -4.6643, -4.7317, -4.6451, -3.5478, -4.6451, -3.953, -3.953, -4.6451, -3.0373, -3.953, -4.6451, -3.953, -4.6451, -4.6451, -4.6451, -3.953, -4.6451, -3.9529, -3.5478, -4.6451, -3.953, -4.6451, -4.6451, -4.6451, -3.953, -4.6451, -4.6451, -3.9529, -3.953, -3.9529, -4.6451, -2.0079, -2.4496, -3.2603, -3.9529, -3.953, -3.9529, -3.9529, -3.9529, -4.6449, -4.645, -4.645, -4.645, -4.6451, -4.6451, -4.6451, -6.4663, -6.4663, -6.4663, -6.4663, -6.4663, -6.4663, -6.4663, -6.4663, -6.4663, -6.4663, -6.4663, -6.4663, -6.4663, -6.4663, -6.4663, -6.4663, -6.4663, -6.4663, -6.4663, -6.4663, -6.4663, -6.4663, -6.4663, -6.4663, -6.4663, -6.4663, -6.4663, -6.4663, -6.4663, -6.4663, -6.2123, -6.2771, -6.2863, -6.3089, -6.3667, -6.3708, -6.3761, -6.3837, -6.3919, -6.3968, -6.4006, -6.4023, -6.404, -6.4054, -6.414, -6.4157, -6.4172, -6.4173, -6.4205, -6.4225, -6.425, -6.4251, -6.4252, -6.4259, -6.4261, -6.4267, -6.427, -6.4282, -6.4288, -6.43], \"loglift\": [30.0, 29.0, 28.0, 27.0, 26.0, 25.0, 24.0, 23.0, 22.0, 21.0, 20.0, 19.0, 18.0, 17.0, 16.0, 15.0, 14.0, 13.0, 12.0, 11.0, 10.0, 9.0, 8.0, 7.0, 6.0, 5.0, 4.0, 3.0, 2.0, 1.0, 2.3465, 2.3465, 2.3465, 2.3327, 2.3318, 2.3318, 2.3318, 2.3317, 2.305, 2.3049, 2.3049, 1.9761, 1.9688, 1.7087, 1.5749, 1.5491, 1.4581, 1.4474, 1.4461, 1.4397, 1.437, 1.4085, 1.3957, 1.3281, 1.289, 1.2343, 1.2027, 1.1826, 1.1785, 1.1778, 1.0935, 1.0435, 1.0153, 0.8814, 0.5038, 0.5922, 0.7335, 0.6054, 0.8794, 0.6007, 0.3848, 0.0218, -0.2549, 0.2722, 0.3618, 0.9791, 0.6582, 0.4533, -0.7035, 0.0465, 0.3876, 0.2685, -0.2293, 0.2584, 2.389, 2.3886, 2.3723, 2.3723, 2.3723, 2.3723, 2.3723, 2.3516, 2.3515, 2.3505, 2.1893, 2.1096, 1.9055, 1.8806, 1.8166, 1.805, 1.7762, 1.7753, 1.7753, 1.6225, 1.5801, 1.556, 1.5212, 1.5181, 1.5052, 1.5051, 1.4795, 1.4338, 1.4143, 1.4061, 1.399, 1.3858, 1.402, 1.3616, 1.2863, 1.12, 0.8865, 0.2225, 1.0247, 0.2534, 0.5598, 0.8123, 0.4401, 0.819, 0.8772, 0.4922, 0.5424, 0.8294, -0.0596, 0.7077, 0.5087, 0.5614, 0.6169, -0.5056, 0.9181, 0.5547, 0.3266, 2.3957, 2.3932, 2.3725, 2.3725, 2.1018, 1.9613, 1.8165, 1.7441, 1.743, 1.7354, 1.7346, 1.7212, 1.6716, 1.67, 1.6669, 1.6443, 1.6209, 1.5551, 1.5287, 1.4768, 1.4088, 1.3752, 1.3456, 1.2684, 1.2635, 1.263, 1.2623, 1.2515, 1.2361, 1.2311, 1.219, 1.2034, 1.1708, 1.1341, 0.8316, 1.1408, 1.066, 0.8921, 0.9028, 0.7267, 0.5121, 0.0936, 0.7476, 0.8554, 0.2093, -0.509, -0.8625, -0.1941, -0.0567, -0.1766, -0.2075, 2.7226, 2.7158, 2.7089, 2.7089, 2.6886, 2.3882, 2.318, 2.317, 2.3118, 2.311, 2.2772, 2.0616, 2.0276, 2.0175, 1.9928, 1.9834, 1.961, 1.9471, 1.9319, 1.9319, 1.9287, 1.9254, 1.8773, 1.6868, 1.6581, 1.6197, 1.6103, 1.5982, 1.5613, 1.5609, 1.4741, 1.2489, 1.3548, 1.2211, 0.5152, -0.1601, -0.3251, 0.2453, 0.727, 1.1338, -0.2203, 0.1068, -0.1848, 0.4345, 0.4305, 0.3084, -0.39, -0.5734, 1.0867, 2.7393, 2.7338, 2.7338, 2.727, 2.727, 2.727, 2.727, 2.727, 2.7067, 2.7067, 2.7067, 2.5584, 2.4653, 2.4496, 2.4088, 2.1773, 2.0943, 2.0658, 2.0498, 2.049, 2.0366, 2.0333, 1.9206, 1.8947, 1.8605, 1.8365, 1.7548, 1.6624, 1.6587, 1.6432, 1.5044, 1.1937, 1.3608, 0.8507, 1.0421, 1.0737, 1.0606, 0.1346, 0.475, 1.3723, 1.3693, 1.3014, 0.7396, -0.7018, 0.7108, 0.5655, 0.4402, 0.1247, 0.1303, 0.9812, 0.8712, 0.3793, 1.133, 0.6816, 0.337, 0.8696, -0.5555, 2.817, 2.7811, 2.7811, 2.7811, 2.7811, 2.2689, 2.1404, 2.0985, 2.0807, 2.0751, 2.0651, 2.0647, 2.064, 1.9943, 1.9766, 1.9757, 1.9482, 1.9193, 1.8972, 1.8452, 1.8125, 1.7927, 1.7823, 1.7692, 1.7188, 1.6527, 1.6524, 1.6304, 1.5928, 1.5533, 1.4227, 1.5011, 1.2376, 1.0855, 1.2594, 1.076, 1.1655, 0.1343, 0.5532, 1.3051, 0.1181, -0.026, 0.8793, 0.1946, 0.6721, 0.5089, 0.8117, -0.8496, 0.6987, 0.5715, 0.0761, 0.2226, 2.8698, 2.8688, 2.8533, 2.833, 2.833, 2.833, 2.833, 2.5614, 2.3772, 2.3496, 2.3241, 2.2057, 2.1712, 2.1618, 1.8705, 1.8448, 1.7909, 1.7898, 1.7634, 1.7621, 1.7416, 1.6866, 1.642, 1.6079, 1.5347, 1.475, 1.4477, 1.3223, 1.2701, 1.2251, 1.2241, 1.1885, 1.1949, 0.3937, 0.9145, 0.1774, 0.7928, 0.5643, 0.2598, -0.0884, 0.6745, 0.8073, -0.3381, 0.2504, 0.5132, 0.4522, 0.4037, 0.3107, -0.4296, -0.6217, 0.0999, -0.5268, 0.8537, -0.734, -0.1267, 2.9699, 2.9496, 2.9496, 2.9496, 2.9496, 2.9496, 2.9496, 2.9496, 2.9496, 2.9496, 2.9496, 2.9496, 2.8553, 2.5717, 2.3219, 2.3062, 2.2972, 2.2935, 2.2874, 2.2779, 2.2779, 2.2275, 2.1205, 2.1076, 2.0499, 1.9096, 1.9092, 1.9, 1.8872, 1.8791, 1.8512, 1.652, 1.5164, 1.2979, 1.6683, 1.2188, 1.1196, 1.3566, 0.3506, 1.324, 1.1315, 0.1352, 1.2924, 1.0804, 0.9771, -0.222, 0.8362, 0.7921, 0.7033, 0.0746, -1.4752, -0.5349, -0.7185, 0.0982, -0.3086, 2.9812, 2.9744, 2.9541, 2.954, 2.954, 2.2503, 2.0951, 1.9122, 1.8905, 1.8903, 1.8849, 1.8847, 1.764, 1.7356, 1.6781, 1.6054, 1.5906, 1.5825, 1.5576, 1.555, 1.5549, 1.5443, 1.519, 1.5058, 1.5006, 1.4338, 1.4104, 1.3595, 1.3324, 1.3071, 1.1791, 1.1857, 1.1141, 0.4742, 1.0864, 0.7756, 0.9453, 0.8697, 0.0298, 0.5665, 0.8594, 0.8191, 0.8083, -0.4652, 0.7479, 0.7469, -0.0217, -0.6213, 0.226, -0.0929, -0.298, -0.612, 0.6683, 3.0013, 3.0013, 3.0013, 3.0013, 3.0013, 2.7513, 2.3294, 2.3294, 2.3017, 2.2485, 2.1262, 1.9728, 1.9514, 1.9311, 1.931, 1.9208, 1.7798, 1.7464, 1.7383, 1.6863, 1.6848, 1.6689, 1.6627, 1.6029, 1.6028, 1.4024, 1.4008, 1.3871, 1.3768, 1.3737, 1.3561, 1.3246, 1.2328, 0.9565, 0.7979, 0.9604, 0.2198, 0.1171, 0.8565, 1.2551, 0.6726, -0.4193, 0.5713, -0.132, 0.1479, 0.1305, -0.7315, -0.1613, 0.0732, -0.3592, 3.0456, 3.0456, 2.7247, 2.7081, 2.7049, 2.374, 2.3727, 2.3425, 2.2881, 2.082, 2.017, 1.9963, 1.9769, 1.9752, 1.9747, 1.856, 1.6756, 1.675, 1.6716, 1.6703, 1.625, 1.6239, 1.482, 1.471, 1.3088, 1.2882, 1.2069, 1.193, 1.1292, 1.0631, 1.0387, 0.9217, 0.7825, 0.7774, 0.8878, 0.0409, 0.1357, 0.7991, 0.5531, 0.6638, -0.3084, -0.0882, 0.6956, -0.218, 0.2688, 0.2565, 0.1933, -0.4399, -0.5216, 3.1021, 3.0866, 3.0866, 3.0866, 3.0663, 3.0663, 3.0663, 3.0663, 3.0663, 2.6882, 2.4146, 2.3938, 2.3598, 2.3468, 2.267, 2.2194, 2.1021, 2.0252, 1.938, 1.9217, 1.8303, 1.7506, 1.7501, 1.5544, 1.4652, 1.4176, 1.3962, 1.3125, 1.3095, 1.2905, 1.1327, 1.0418, 0.9689, 0.4999, 0.6787, 0.7979, -0.0258, 0.0259, 0.9088, 0.3379, -0.7601, -0.1976, 1.0154, -0.5019, -0.1791, 0.794, 0.7748, 0.8393, 3.0867, 3.0867, 3.0867, 3.0867, 3.0866, 3.0866, 3.0865, 2.5386, 2.4287, 2.4237, 2.1188, 2.0928, 2.0604, 2.0412, 2.0166, 1.8969, 1.8243, 1.8106, 1.7769, 1.7163, 1.6992, 1.6091, 1.452, 1.3461, 1.3364, 1.33, 1.2781, 1.2267, 1.2095, 1.1765, 1.1416, 0.9639, 0.9211, 0.6059, 0.6072, 0.9275, 0.517, 0.5627, -0.334, -0.6109, 0.8261, 0.8005, 0.7993, 0.5463, 0.524, 0.4209, 0.3234, 0.2998, 3.1982, 3.1982, 3.1982, 3.1982, 2.5915, 2.556, 2.4336, 2.1473, 2.1257, 2.0688, 1.9978, 1.9887, 1.9706, 1.8976, 1.7981, 1.79, 1.7515, 1.6568, 1.6472, 1.6429, 1.6239, 1.6048, 1.5251, 1.4403, 1.3884, 1.3127, 1.2828, 1.2822, 1.253, 1.214, 1.1095, 1.1132, 0.9809, 0.8519, 0.9109, 0.4338, 0.0237, 0.221, -0.3463, 0.3572, 0.3433, 0.8416, 0.7974, 0.5844, -0.6669, 0.5316, 0.4101, 0.3448, 0.2361, -0.2876, -0.6286, 0.0641, -0.079, 2.7742, 2.5807, 2.3699, 2.1824, 2.0863, 2.0402, 1.9098, 1.882, 1.8818, 1.8804, 1.8485, 1.8339, 1.7407, 1.6109, 1.5725, 1.515, 1.4947, 1.416, 1.3424, 1.2686, 1.2588, 1.258, 1.2004, 1.1464, 1.1002, 1.0985, 1.0807, 1.0419, 0.9873, 0.9543, 0.9082, 0.8636, 0.8061, 0.68, 0.4343, 0.804, 0.064, 0.1177, 0.3405, -0.3264, 0.4647, 0.0071, 0.0659, -0.0253, 3.3233, 2.9455, 2.8402, 2.6641, 2.6497, 2.3927, 2.2966, 2.2782, 2.2577, 2.1549, 2.0468, 2.0116, 1.9542, 1.8096, 1.7222, 1.6728, 1.4841, 1.475, 1.4735, 1.4472, 1.4249, 1.3735, 1.3659, 1.3384, 1.2763, 1.2713, 1.1599, 1.1516, 1.139, 1.0775, 1.0364, 1.0605, 0.7812, 0.7551, 0.2295, 0.5287, 0.4502, -0.1887, 0.1584, -0.5048, 0.66, -0.5434, 0.3381, -0.0395, -0.3475, 3.3634, 2.4597, 2.2715, 2.2407, 2.0511, 2.0271, 1.9832, 1.9699, 1.9322, 1.8633, 1.8294, 1.7676, 1.7254, 1.6925, 1.6711, 1.5853, 1.5323, 1.4446, 1.4444, 1.426, 1.4047, 1.3587, 1.3333, 1.2699, 1.2536, 1.2314, 1.0922, 1.0101, 1.0093, 0.902, 0.8012, 0.5594, 0.524, 0.8223, -0.0133, -0.2612, 0.0776, 0.5646, 0.0653, -0.2264, -0.4845, 0.3318, -0.7109, -0.1004, -0.1859, 3.4974, 3.1093, 3.0939, 2.7975, 2.4659, 2.4418, 2.4176, 2.3735, 1.9501, 1.9092, 1.8074, 1.7613, 1.7051, 1.606, 1.56, 1.5557, 1.4598, 1.3914, 1.3086, 1.2885, 1.2884, 1.2608, 1.1976, 1.1763, 1.1735, 1.1733, 1.0809, 1.0079, 1.0033, 0.8832, 0.8743, 0.8311, -0.0168, 0.709, 0.6913, 0.6472, 0.1838, -0.3054, 0.6321, 0.584, 0.4827, 2.9955, 2.7299, 2.6255, 2.4708, 2.4527, 2.3263, 2.2406, 2.2158, 2.0725, 1.9468, 1.9432, 1.8663, 1.7193, 1.6427, 1.5986, 1.5611, 1.5482, 1.3971, 1.343, 1.3395, 1.3014, 1.1873, 1.1301, 1.1265, 1.0856, 1.0813, 1.0321, 0.9065, 0.8749, 0.8427, 0.771, 0.7172, 0.7649, 0.7326, 0.508, 0.4172, -0.1328, -1.5174, -1.2687, -0.3595, -0.5667, 0.2511, -0.132, 0.6033, 5.0379, 5.0379, 5.0379, 5.0379, 5.0379, 5.0379, 5.0379, 5.0379, 5.0379, 5.0379, 5.0379, 5.0379, 5.0379, 5.0379, 5.0379, 5.0379, 5.0379, 5.0379, 5.0379, 5.0379, 5.0379, 5.0379, 5.0379, 5.0379, 5.0379, 5.0379, 5.0379, 5.0379, 5.0379, 5.0379, -3.3618, -3.0565, -3.1588, -2.9327, -2.2884, -2.5507, -2.3987, -2.1931, -2.2308, -2.0093, -2.1152, -2.0322, -1.943, -2.0042, -1.7285, -1.9027, -1.4608, -1.9026, -1.7573, -1.3635, -1.555, -1.5686, -1.631, -1.5055, -1.5438, -1.7088, -1.442, -1.5688, -1.2143, -1.6191]}, \"token.table\": {\"Topic\": [2, 4, 6, 8, 14, 19, 1, 2, 4, 6, 8, 9, 12, 13, 16, 17, 18, 7, 8, 4, 13, 1, 3, 6, 7, 8, 11, 15, 19, 6, 2, 3, 6, 8, 12, 1, 2, 5, 8, 9, 10, 11, 12, 13, 17, 18, 19, 2, 1, 3, 5, 7, 12, 13, 17, 8, 2, 7, 1, 2, 3, 4, 5, 6, 7, 9, 10, 11, 12, 14, 15, 16, 17, 19, 1, 2, 6, 11, 15, 17, 1, 7, 9, 10, 12, 19, 1, 2, 3, 4, 5, 7, 9, 10, 11, 12, 13, 14, 15, 17, 18, 19, 4, 8, 11, 13, 12, 13, 1, 3, 2, 9, 11, 15, 17, 5, 5, 1, 2, 3, 5, 7, 9, 16, 17, 18, 19, 2, 6, 8, 3, 6, 8, 1, 3, 5, 8, 15, 3, 4, 7, 2, 4, 10, 12, 14, 17, 4, 12, 4, 19, 1, 5, 12, 16, 17, 12, 2, 5, 16, 2, 3, 4, 5, 7, 10, 11, 12, 14, 15, 16, 17, 18, 19, 9, 6, 3, 9, 3, 4, 6, 7, 8, 9, 10, 11, 14, 19, 1, 4, 5, 8, 10, 11, 13, 16, 17, 13, 3, 11, 13, 15, 12, 2, 4, 5, 9, 12, 13, 18, 8, 2, 6, 17, 3, 6, 8, 10, 5, 1, 5, 6, 9, 10, 13, 16, 4, 5, 1, 4, 8, 19, 1, 2, 5, 8, 9, 10, 11, 13, 17, 19, 1, 2, 3, 5, 6, 7, 8, 11, 12, 13, 14, 16, 17, 3, 6, 8, 6, 8, 13, 19, 1, 7, 3, 4, 5, 8, 10, 12, 14, 18, 2, 4, 8, 9, 19, 1, 3, 7, 9, 11, 13, 14, 16, 17, 7, 12, 2, 3, 4, 5, 6, 7, 9, 16, 17, 9, 18, 19, 1, 5, 1, 3, 4, 6, 8, 9, 12, 13, 15, 19, 4, 5, 6, 9, 10, 13, 15, 16, 19, 7, 10, 11, 5, 2, 3, 4, 10, 16, 2, 4, 9, 4, 5, 7, 10, 13, 2, 3, 4, 5, 6, 9, 12, 13, 14, 16, 3, 7, 13, 1, 3, 3, 5, 7, 11, 2, 3, 6, 9, 5, 7, 9, 10, 13, 14, 16, 6, 9, 2, 3, 5, 6, 7, 8, 10, 14, 19, 5, 13, 2, 5, 13, 18, 1, 2, 6, 7, 9, 11, 12, 13, 14, 15, 17, 18, 19, 1, 3, 4, 5, 6, 8, 9, 11, 12, 13, 16, 5, 1, 3, 4, 5, 6, 7, 10, 14, 1, 2, 4, 5, 6, 7, 8, 10, 11, 12, 13, 18, 1, 4, 7, 10, 13, 16, 2, 12, 14, 6, 8, 9, 3, 1, 3, 5, 6, 9, 12, 13, 5, 6, 14, 2, 6, 11, 1, 4, 8, 13, 5, 1, 2, 3, 16, 1, 2, 4, 5, 6, 9, 3, 6, 7, 12, 13, 9, 1, 2, 3, 4, 5, 6, 7, 8, 9, 10, 13, 14, 16, 17, 18, 19, 1, 2, 3, 4, 6, 7, 9, 10, 13, 14, 16, 17, 18, 1, 7, 12, 16, 17, 1, 7, 4, 6, 5, 6, 18, 1, 2, 5, 7, 4, 13, 15, 16, 17, 19, 2, 5, 1, 2, 3, 4, 6, 7, 8, 9, 10, 11, 12, 14, 15, 16, 17, 1, 10, 14, 1, 11, 13, 2, 4, 2, 4, 6, 8, 9, 4, 5, 14, 10, 10, 1, 6, 8, 12, 3, 4, 7, 9, 11, 15, 8, 11, 1, 3, 9, 12, 16, 1, 2, 4, 5, 6, 9, 10, 12, 13, 17, 1, 3, 6, 9, 11, 5, 6, 13, 2, 2, 3, 1, 2, 3, 4, 5, 6, 7, 9, 10, 12, 15, 16, 17, 18, 1, 2, 3, 4, 6, 8, 10, 11, 12, 16, 18, 12, 4, 6, 9, 12, 17, 1, 2, 4, 5, 9, 11, 15, 17, 4, 1, 8, 9, 16, 1, 3, 6, 12, 14, 1, 2, 7, 8, 10, 14, 17, 19, 11, 15, 17, 2, 6, 8, 1, 2, 3, 4, 5, 7, 8, 9, 10, 16, 17, 1, 3, 7, 10, 14, 19, 3, 14, 2, 17, 5, 1, 2, 3, 6, 9, 18, 3, 7, 11, 15, 18, 3, 7, 14, 1, 2, 3, 4, 8, 11, 13, 14, 15, 16, 18, 1, 4, 9, 3, 6, 10, 13, 2, 1, 1, 5, 7, 9, 10, 13, 14, 1, 2, 5, 10, 19, 16, 1, 2, 3, 4, 5, 6, 9, 13, 14, 15, 2, 1, 2, 4, 5, 2, 12, 15, 6, 8, 11, 8, 1, 2, 10, 11, 12, 18, 3, 7, 9, 10, 11, 13, 15, 18, 3, 11, 14, 4, 5, 15, 11, 5, 6, 7, 8, 14, 5, 10, 12, 14, 1, 2, 3, 5, 7, 8, 9, 10, 12, 14, 15, 17, 18, 19, 2, 3, 18, 1, 1, 2, 4, 5, 16, 19, 2, 4, 5, 6, 9, 16, 17, 1, 2, 3, 4, 6, 7, 8, 9, 10, 11, 12, 13, 14, 15, 16, 17, 18, 19, 4, 2, 6, 8, 1, 3, 14, 2, 4, 5, 3, 13, 15, 16, 17, 18, 12, 7, 6, 8, 5, 8, 9, 10, 16, 1, 4, 9, 8, 8, 1, 2, 3, 4, 5, 6, 7, 8, 12, 13, 15, 16, 17, 19, 3, 4, 9, 14, 17, 19, 1, 2, 3, 5, 7, 9, 5, 16, 19, 1, 1, 3, 6, 7, 13, 7, 10, 12, 1, 9, 10, 16, 12, 1, 5, 8, 10, 14, 2, 3, 5, 7, 9, 15, 16, 17, 18, 19, 1, 2, 3, 4, 6, 7, 8, 9, 10, 12, 13, 16, 19, 4, 14, 2, 9, 13, 14, 17, 2, 4, 8, 4, 6, 7, 8, 15, 2, 1, 1, 3, 7, 10, 11, 12, 14, 19, 4, 10, 11, 2, 6, 13, 18, 3, 11, 14, 15, 19, 2, 6, 7, 8, 12, 1, 2, 3, 4, 6, 7, 8, 9, 10, 11, 12, 13, 14, 15, 16, 17, 18, 19, 1, 3, 4, 8, 9, 12, 14, 15, 16, 17, 18, 19, 9, 3, 4, 5, 7, 10, 11, 4, 7, 9, 11, 15, 2, 4, 10, 14, 2, 4, 8, 17, 18, 1, 2, 3, 4, 5, 6, 7, 8, 9, 10, 11, 12, 13, 14, 15, 16, 17, 18, 19, 2, 3, 6, 7, 8, 5, 15, 16, 1, 2, 3, 4, 6, 7, 8, 11, 12, 13, 14, 15, 19, 4, 11, 2, 3, 2, 3, 4, 5, 6, 7, 8, 9, 10, 13, 1, 5, 7, 10, 13, 3, 7, 16, 2, 4, 5, 7, 8, 9, 10, 13, 14, 8, 10, 1, 2, 3, 5, 8, 9, 11, 12, 13, 14, 15, 17, 18, 19, 1, 5, 7, 10, 11, 15, 19, 15, 16, 4, 5, 13, 17, 1, 7, 3, 8, 10, 8, 1, 2, 3, 4, 6, 7, 8, 9, 10, 11, 12, 15, 17, 10, 1, 2, 9, 18, 1, 2, 8, 9, 11, 15, 17, 12, 7, 12, 2, 6, 9, 18, 9, 5, 1, 3, 4, 10, 12, 16, 1, 8, 10, 19, 8, 5, 6, 8, 10, 1, 1, 2, 4, 6, 7, 8, 14, 15, 17, 1, 3, 4, 5, 6, 7, 8, 9, 10, 12, 14, 15, 16, 17, 18, 19, 1, 2, 3, 4, 9, 13, 14, 13, 2, 3, 7, 14, 15, 7, 2, 11, 13, 1, 3, 6, 8, 9, 12, 14, 16, 3, 10, 12, 14, 2, 6, 2, 5, 9, 7, 1, 2, 4, 5, 6, 7, 9, 10, 11, 12, 14, 15, 17, 18, 1, 1, 2, 3, 4, 5, 6, 9, 10, 12, 13, 14, 15, 18, 19, 3, 1, 4, 1, 11, 12, 1, 2, 3, 4, 5, 6, 7, 8, 9, 10, 11, 12, 13, 14, 15, 16, 17, 18, 19, 14, 3, 5, 8, 2, 4, 6, 7, 19, 6, 1, 2, 3, 4, 5, 6, 7, 13, 8, 10, 3, 11, 14, 1, 2, 6, 7, 8, 18, 1, 5, 6, 10, 2, 5, 6, 7, 15, 19, 1, 3, 4, 5, 7, 8, 9, 11, 13, 14, 15, 17, 1, 2, 3, 5, 6, 9, 11, 18, 19, 8, 10, 1, 2, 3, 4, 5, 6, 7, 9, 10, 11, 12, 13, 14, 15, 18, 19, 1, 2, 3, 4, 5, 6, 7, 8, 9, 10, 12, 13, 14, 15, 16, 1, 3, 1, 2, 3, 5, 7, 9, 10, 16, 17, 18, 1, 6, 10, 12, 14, 2, 4, 6, 7, 8, 1, 2, 3, 4, 5, 6, 7, 8, 9, 10, 11, 12, 13, 14, 15, 16, 17, 18, 19, 4, 7, 1, 1, 5, 7, 8, 9, 11, 12, 14, 15, 16, 18, 19, 2, 3, 6, 8, 10, 12, 15, 17, 3, 8, 10, 11, 15, 1, 2, 3, 4, 5, 6, 7, 8, 9, 10, 11, 12, 13, 14, 15, 16, 17, 18, 19, 2, 6, 3, 13, 19, 18, 16, 18, 2, 8, 9, 15, 16, 18, 6, 9, 11, 17, 1, 2, 3, 4, 5, 7, 8, 9, 10, 11, 12, 13, 14, 15, 16, 2, 4, 9, 10, 1, 5, 6, 7, 12, 14, 16, 17, 1, 7, 9, 10, 16, 17, 18, 7, 2, 13, 13, 1, 2, 10, 1, 3, 6, 9, 10, 12, 13, 14, 9, 13, 17, 2, 4, 1, 2, 3, 6, 9, 11, 16, 2, 3, 4, 5, 6, 8, 9, 10, 11, 19, 1, 2, 4, 6, 8, 13, 6, 8, 2, 4, 6, 6, 8, 12, 3, 7, 8, 13, 14, 1, 2, 11, 4, 5, 13, 3, 5, 3, 6, 8, 10, 4, 1, 2, 4, 7, 9, 10, 11, 12, 13, 16, 17, 1, 2, 3, 6, 2, 4, 13, 17, 10, 6, 9, 12, 13, 14, 3, 8, 10, 12, 8, 1, 11, 1, 2, 6, 8, 9, 12, 14, 19, 3, 5, 6, 7, 2, 1, 2, 3, 4, 7, 9, 10, 11, 14, 15, 17, 19, 8, 15, 17, 1, 2, 3, 4, 6, 7, 8, 13, 14, 15, 18], \"Freq\": [0.23266479252935335, 0.19388732710779447, 0.09694366355389723, 0.09694366355389723, 0.2908309906616917, 0.09694366355389723, 0.0966809745752755, 0.2082359452390549, 0.0371849902212598, 0.10411797261952745, 0.1487399608850392, 0.0371849902212598, 0.11155497066377941, 0.0371849902212598, 0.0371849902212598, 0.0371849902212598, 0.14130296284078725, 0.49699294706823327, 0.49699294706823327, 0.496834876284137, 0.496834876284137, 0.12332871917279942, 0.2642758267988559, 0.0880919422662853, 0.0880919422662853, 0.1761838845325706, 0.0880919422662853, 0.0880919422662853, 0.0880919422662853, 1.0520409263467754, 0.07495795000706212, 0.09369743750882766, 0.3560502625335451, 0.4684871875441383, 0.98435365991058, 0.09192634696221005, 0.06434844287354703, 0.09192634696221005, 0.1838526939244201, 0.04596317348110503, 0.04596317348110503, 0.09192634696221005, 0.04596317348110503, 0.13788952044331507, 0.04596317348110503, 0.05515580817732603, 0.09192634696221005, 0.9835181755848279, 0.18155266810894002, 0.18155266810894002, 0.09077633405447001, 0.09077633405447001, 0.18155266810894002, 0.09077633405447001, 0.18155266810894002, 0.9628090671017836, 0.9834469553417954, 1.0002478966056416, 0.13386228106210146, 0.14724850916831161, 0.08366392566381342, 0.08366392566381342, 0.15059506619486415, 0.033465570265525366, 0.033465570265525366, 0.016732785132762683, 0.033465570265525366, 0.10039671079657611, 0.016732785132762683, 0.016732785132762683, 0.08366392566381342, 0.033465570265525366, 0.016732785132762683, 0.016732785132762683, 0.13415828412606642, 0.1916546916086663, 0.09582734580433315, 0.09582734580433315, 0.28748203741299944, 0.1916546916086663, 0.24810924967798278, 0.1860819372584871, 0.12405462483899139, 0.1860819372584871, 0.12405462483899139, 0.12405462483899139, 0.17020626733993233, 0.025215743309619603, 0.3025889197154352, 0.052532798561707506, 0.031519679137024505, 0.07354591798639051, 0.0105065597123415, 0.042026238849366, 0.042026238849366, 0.0105065597123415, 0.11557215683575651, 0.021013119424683, 0.052532798561707506, 0.021013119424683, 0.0105065597123415, 0.021013119424683, 0.3300777658319883, 0.3300777658319883, 0.3300777658319883, 0.9632886270572146, 0.6609072034646954, 0.3304536017323477, 0.6566310453897066, 0.3283155226948533, 0.14690007260049665, 0.2448334543341611, 0.12241672716708055, 0.2448334543341611, 0.2448334543341611, 0.9618671340324645, 0.9896310608400654, 0.0297453299063602, 0.03966043987514693, 0.2776230791260285, 0.09915109968786734, 0.24787774921966832, 0.04957554984393367, 0.04957554984393367, 0.04957554984393367, 0.10906620965665406, 0.04957554984393367, 0.564208605726128, 0.47017383810510666, 0.9628094103569921, 0.33283423315506117, 0.33283423315506117, 0.33283423315506117, 0.1229011798016692, 0.08778655700119228, 0.43893278500596145, 0.2633596710035769, 0.08778655700119228, 0.3231206646424883, 0.3231206646424883, 0.3231206646424883, 0.10351680049586434, 0.12939600061983042, 0.25879200123966084, 0.25879200123966084, 0.12939600061983042, 0.12939600061983042, 0.98195272723565, 0.9636244214510992, 0.47940702517251343, 0.47940702517251343, 0.25941469987763627, 0.18529621419831163, 0.18529621419831163, 0.18529621419831163, 0.18529621419831163, 1.0005244493263477, 0.9834077033419691, 0.4921666380929916, 0.4921666380929916, 0.05991483951673214, 0.04992903293061012, 0.04992903293061012, 0.09985806586122024, 0.04992903293061012, 0.1248225823265253, 0.09985806586122024, 0.09985806586122024, 0.04992903293061012, 0.02496451646530506, 0.1248225823265253, 0.02496451646530506, 0.09486516256815923, 0.04992903293061012, 0.9925789440734873, 1.0520521684602426, 0.4771185522899393, 0.4771185522899393, 0.04513776381605203, 0.1354132914481561, 0.04513776381605203, 0.09027552763210406, 0.04513776381605203, 0.22568881908026017, 0.09027552763210406, 0.04513776381605203, 0.04513776381605203, 0.23471637184347058, 0.03606241803022913, 0.06010403005038188, 0.18031209015114563, 0.06010403005038188, 0.18031209015114563, 0.06010403005038188, 0.06010403005038188, 0.30052015025190937, 0.06010403005038188, 0.9633081107989082, 0.24485947838833186, 0.24485947838833186, 0.24485947838833186, 0.24485947838833186, 0.9843706908353921, 0.06763291603021936, 0.2536234351133226, 0.2536234351133226, 0.0845411450377742, 0.0845411450377742, 0.1690822900755484, 0.10144937404532904, 0.9627944819011914, 0.3847297514214811, 0.3206081261845676, 0.3206081261845676, 0.1726827119806118, 0.44130026395045235, 0.19186967997845755, 0.19186967997845755, 0.9618559322956647, 0.17873830173577676, 0.06874550066760644, 0.06874550066760644, 0.20623650200281932, 0.2749820026704258, 0.06874550066760644, 0.1374910013352129, 0.1661214165483064, 0.8306070827415319, 0.21696543178341737, 0.46492592525018006, 0.1549753084167267, 0.1549753084167267, 0.2303254688619097, 0.10401795367957212, 0.18574634585637878, 0.11144780751382727, 0.037149269171275756, 0.037149269171275756, 0.11144780751382727, 0.07429853834255151, 0.037149269171275756, 0.07429853834255151, 0.3399412715295085, 0.04759177801413119, 0.09518355602826238, 0.0679882543059017, 0.04079295258354102, 0.03399412715295085, 0.10198238145885255, 0.10198238145885255, 0.03399412715295085, 0.03399412715295085, 0.03399412715295085, 0.03399412715295085, 0.03399412715295085, 0.2500350621699909, 0.2500350621699909, 0.5000701243399818, 0.16736343526275158, 0.5020903057882546, 0.16736343526275158, 0.16736343526275158, 0.41584571477618704, 0.5940653068231243, 0.10001577990952085, 0.2000315598190417, 0.10001577990952085, 0.10001577990952085, 0.10001577990952085, 0.10001577990952085, 0.2000315598190417, 0.10001577990952085, 0.22857396026122587, 0.19047830021768825, 0.19047830021768825, 0.19047830021768825, 0.19047830021768825, 0.04714895155264444, 0.2357447577632222, 0.07858158592107407, 0.2357447577632222, 0.07858158592107407, 0.07858158592107407, 0.07858158592107407, 0.07858158592107407, 0.07858158592107407, 0.49187082696618956, 0.49187082696618956, 0.06198993091832164, 0.30994965459160817, 0.08855704416903092, 0.04427852208451546, 0.097412748585934, 0.04427852208451546, 0.04427852208451546, 0.04427852208451546, 0.26567113250709273, 0.3311233657465316, 0.3311233657465316, 0.3311233657465316, 1.017448033449353, 0.9825553133335122, 0.14951735547589173, 0.05750667518303529, 0.05750667518303529, 0.20702403065892702, 0.23002670073214115, 0.05750667518303529, 0.05750667518303529, 0.05750667518303529, 0.05750667518303529, 0.05750667518303529, 0.050263462972715146, 0.15079038891814545, 0.050263462972715146, 0.050263462972715146, 0.40210770378172117, 0.10052692594543029, 0.050263462972715146, 0.10052692594543029, 0.050263462972715146, 0.33023711104737175, 0.33023711104737175, 0.33023711104737175, 0.9825346429711769, 0.23358501937492201, 0.19465418281243502, 0.19465418281243502, 0.19465418281243502, 0.19465418281243502, 0.2852785317232622, 0.4754642195387703, 0.23773210976938516, 0.16621698501339308, 0.33243397002678615, 0.16621698501339308, 0.16621698501339308, 0.16621698501339308, 0.06545936863979031, 0.21601591651130803, 0.032729684319895154, 0.13091873727958062, 0.032729684319895154, 0.1636484215994758, 0.032729684319895154, 0.032729684319895154, 0.19637810591937094, 0.09818905295968547, 0.5298333890712889, 0.24083335866876765, 0.24083335866876765, 0.2739201386332431, 0.743497519147374, 0.2016545808732171, 0.4033091617464342, 0.2016545808732171, 0.2016545808732171, 0.2960439182040219, 0.24670326517001825, 0.24670326517001825, 0.24670326517001825, 0.25075256962741316, 0.12537628481370658, 0.25075256962741316, 0.06268814240685329, 0.18806442722055988, 0.06268814240685329, 0.06268814240685329, 1.0520618751921529, 0.9646486418666381, 0.058823847409874605, 0.04901987284156217, 0.09803974568312435, 0.35294308445924766, 0.04901987284156217, 0.1960794913662487, 0.04901987284156217, 0.09803974568312435, 0.04901987284156217, 0.9825290441841563, 0.963304456620214, 0.13554715582467605, 0.3388678895616901, 0.3388678895616901, 0.2033207337370141, 0.055837929606649135, 0.15554851818995116, 0.023930541259992485, 0.09971058858330202, 0.039884235433320814, 0.07976847086664163, 0.13959482401662285, 0.019942117716660407, 0.11965270629996243, 0.039884235433320814, 0.11965270629996243, 0.06780320023664538, 0.039884235433320814, 0.06855597125351473, 0.2644301748349854, 0.04896855089536767, 0.146905652686103, 0.0881433916116618, 0.04896855089536767, 0.09793710179073534, 0.04896855089536767, 0.04896855089536767, 0.09793710179073534, 0.04896855089536767, 0.9953774005580883, 0.14879571803650368, 0.12253765014770891, 0.04376344648132461, 0.08752689296264922, 0.12253765014770891, 0.3063441253692723, 0.08752689296264922, 0.08752689296264922, 0.1371873414742952, 0.05879457491755508, 0.04899547909796257, 0.09799095819592514, 0.1371873414742952, 0.09799095819592514, 0.04899547909796257, 0.04899547909796257, 0.04899547909796257, 0.04899547909796257, 0.09799095819592514, 0.1371873414742952, 0.44377954788844326, 0.11094488697211081, 0.11094488697211081, 0.11094488697211081, 0.11094488697211081, 0.11094488697211081, 0.3741741312562936, 0.31181177604691135, 0.31181177604691135, 0.3403523292083169, 0.3403523292083169, 0.3403523292083169, 1.0229927167255315, 0.10336886200605253, 0.3987084677376312, 0.07383490143289466, 0.07383490143289466, 0.14766980286578932, 0.07383490143289466, 0.14766980286578932, 0.413070339248796, 0.3717633053239164, 0.206535169624398, 0.5583845456872755, 0.2326602273696981, 0.2326602273696981, 0.16133655484047701, 0.2688942580674617, 0.2688942580674617, 0.2688942580674617, 0.9896137944561919, 0.5205536030249789, 0.10411072060499578, 0.13013840075624472, 0.26027680151248944, 1.0174602554995054, 0.11739560272210046, 0.14674450340262557, 0.29348900680525114, 0.14674450340262557, 0.29348900680525114, 0.059531153603972445, 0.059531153603972445, 0.059531153603972445, 0.47624922883177956, 0.3571869216238347, 0.9646723919728755, 0.0725289423735173, 0.050770259661462105, 0.10879341356027594, 0.03626447118675865, 0.03626447118675865, 0.0725289423735173, 0.0725289423735173, 0.03626447118675865, 0.03626447118675865, 0.03626447118675865, 0.03626447118675865, 0.18132235593379323, 0.10879341356027594, 0.03626447118675865, 0.03626447118675865, 0.03626447118675865, 0.1734785153760985, 0.03043482725896465, 0.07608706814741163, 0.22826120444223488, 0.07304358542151516, 0.03043482725896465, 0.04565224088844697, 0.10652189540637627, 0.015217413629482325, 0.0608696545179293, 0.07608706814741163, 0.07608706814741163, 0.015217413629482325, 0.1274758678094609, 0.21245977968243485, 0.21245977968243485, 0.21245977968243485, 0.21245977968243485, 0.22027318453327327, 0.7342439484442442, 0.5135777181707107, 0.5135777181707107, 0.1774457884993685, 0.49684820779823186, 0.31940241929886337, 0.3855285658567344, 0.23131713951404062, 0.1927642829283672, 0.1927642829283672, 0.11002315005629054, 0.22004630011258108, 0.11002315005629054, 0.11002315005629054, 0.22004630011258108, 0.22004630011258108, 0.45320525259051286, 0.5665065657381411, 0.07412151281906652, 0.059297210255253224, 0.01853037820476663, 0.03706075640953326, 0.01853037820476663, 0.03706075640953326, 0.03706075640953326, 0.03706075640953326, 0.055591134614299896, 0.1297126474333664, 0.01853037820476663, 0.055591134614299896, 0.09265189102383316, 0.07412151281906652, 0.2557192192257795, 0.3178515921972341, 0.4540737031389058, 0.2270368515694529, 0.41037459453014447, 0.29312471037867466, 0.29312471037867466, 0.5413000189921229, 0.4510833491601024, 0.23478301850399755, 0.19565251541999795, 0.19565251541999795, 0.19565251541999795, 0.19565251541999795, 0.24826239658005222, 0.7447871897401567, 0.9647472676058764, 0.9630686310000557, 0.9630789475850576, 0.311499458817741, 0.421440444282826, 0.18323497577514175, 0.09161748788757088, 0.050011580318648934, 0.050011580318648934, 0.050011580318648934, 0.050011580318648934, 0.7001621244610851, 0.10002316063729787, 0.9627926204234324, 0.9631601367397813, 0.0695944215046296, 0.08947854193452377, 0.1491309032242063, 0.09942060214947086, 0.5965236128968252, 0.1096695165592265, 0.23030598477437564, 0.05483475827961325, 0.05483475827961325, 0.0658017099355359, 0.16450427483883975, 0.16450427483883975, 0.05483475827961325, 0.05483475827961325, 0.05483475827961325, 0.10582441217668143, 0.45353319504292045, 0.07558886584048674, 0.22676659752146022, 0.15117773168097348, 0.25991473049776576, 0.4678465148959784, 0.25991473049776576, 1.03980175609008, 0.3594343358516944, 0.6589629490614397, 0.22637580439632804, 0.15846306307742963, 0.05093455598917381, 0.028296975549541005, 0.11318790219816402, 0.028296975549541005, 0.08489092664862302, 0.028296975549541005, 0.08489092664862302, 0.028296975549541005, 0.05659395109908201, 0.028296975549541005, 0.028296975549541005, 0.05659395109908201, 0.1362511382830237, 0.20141472615751332, 0.053315662806400585, 0.05923962534044509, 0.10070736307875666, 0.029619812670222546, 0.05923962534044509, 0.05923962534044509, 0.11847925068089019, 0.14809906335111275, 0.029619812670222546, 0.9636134925735259, 0.14462128444238154, 0.14462128444238154, 0.14462128444238154, 0.4338638533271446, 0.14462128444238154, 0.22578446055007723, 0.05312575542354758, 0.13281438855886896, 0.13281438855886896, 0.06640719427943448, 0.13281438855886896, 0.13281438855886896, 0.13281438855886896, 0.9890485579189453, 0.16159113829662214, 0.2693185638277036, 0.2693185638277036, 0.2693185638277036, 0.08993573941236899, 0.14989289902061498, 0.14989289902061498, 0.14989289902061498, 0.44967869706184493, 0.11003094837895057, 0.1886244829353438, 0.15718706911278651, 0.07859353455639326, 0.07859353455639326, 0.07859353455639326, 0.23578060366917977, 0.07859353455639326, 0.19973594475757994, 0.3994718895151599, 0.3994718895151599, 0.10030661008206268, 0.02507665252051567, 0.8776828382180485, 0.018944243177195518, 0.044203234080122875, 0.3662553680924467, 0.0631474772573184, 0.0631474772573184, 0.0947212158859776, 0.0315737386286592, 0.0631474772573184, 0.1894424317719552, 0.0315737386286592, 0.0315737386286592, 0.054907330925559814, 0.4758635346881851, 0.18302443641853272, 0.09151221820926636, 0.09151221820926636, 0.09151221820926636, 0.5075377253572582, 0.5075377253572582, 1.0013219184440942, 0.986175910285743, 0.9825433343743969, 0.16722861836544295, 0.2388980262363471, 0.11944901311817355, 0.11944901311817355, 0.2388980262363471, 0.11944901311817355, 0.16971086803628374, 0.3394217360725675, 0.16971086803628374, 0.16971086803628374, 0.16971086803628374, 0.9417684241631414, 0.999172910426785, 0.9647525681762062, 0.1978034008482295, 0.2188463158320837, 0.021042914983854202, 0.021042914983854202, 0.021042914983854202, 0.021042914983854202, 0.021042914983854202, 0.10521457491927101, 0.25251497980625043, 0.021042914983854202, 0.10100599192250016, 0.3209437042470282, 0.4584910060671832, 0.2292455030335916, 0.45821185607621867, 0.10909806097052825, 0.32729418291158474, 0.10909806097052825, 1.0386916143223506, 0.8182877537298995, 0.2205108850638323, 0.23626166256839173, 0.07875388752279724, 0.07875388752279724, 0.07875388752279724, 0.07875388752279724, 0.23626166256839173, 0.16814571463081882, 0.4035497151139652, 0.08407285731540941, 0.16814571463081882, 0.16814571463081882, 0.9652806778843589, 0.2588288626980385, 0.03882432940470578, 0.29118247053529334, 0.032353607837254814, 0.032353607837254814, 0.05823649410705867, 0.12941443134901925, 0.032353607837254814, 0.032353607837254814, 0.09706082351176444, 1.0167988392446523, 0.06754195232903654, 0.13508390465807307, 0.45027968219357695, 0.3377097616451827, 0.4229861391470728, 0.46998459905230305, 0.11749614976307576, 0.47061136302610324, 0.39217613585508604, 0.130725378618362, 0.9628060595253947, 0.11434782238659394, 0.0653416127923394, 0.08167701599042425, 0.24503104797127273, 0.1633540319808485, 0.3430434671597818, 0.22375892408010847, 0.11187946204005424, 0.11187946204005424, 0.11187946204005424, 0.11187946204005424, 0.11187946204005424, 0.11187946204005424, 0.11187946204005424, 0.47677604066208584, 0.47677604066208584, 0.9647355600830502, 0.14306609440072976, 0.7153304720036487, 0.14306609440072976, 0.9631658570631196, 0.1463816278680862, 0.26348693016255514, 0.2927632557361724, 0.1463816278680862, 0.1463816278680862, 0.49893738679863453, 0.1663124622662115, 0.1663124622662115, 0.1663124622662115, 0.1503492457511591, 0.16914290147005398, 0.11902648621966762, 0.03132275953149148, 0.12529103812596593, 0.03132275953149148, 0.03132275953149148, 0.12529103812596593, 0.03132275953149148, 0.03132275953149148, 0.03132275953149148, 0.03132275953149148, 0.06891007096928126, 0.03132275953149148, 0.1578959261505097, 0.19736990768813714, 0.6315837046020388, 0.8183078284441663, 0.03429914947439353, 0.33155844491913744, 0.2858262456199461, 0.17149574737196766, 0.057165249123989216, 0.11433049824797843, 0.35298753738758115, 0.08404465175894789, 0.08404465175894789, 0.2185160945732645, 0.08404465175894789, 0.08404465175894789, 0.08404465175894789, 0.04624731949343999, 0.15778497238938352, 0.11153765289594351, 0.05440861116875294, 0.10337636122063057, 0.02720430558437647, 0.05440861116875294, 0.02720430558437647, 0.0408064583765647, 0.02720430558437647, 0.02720430558437647, 0.013602152792188234, 0.20131186132438586, 0.013602152792188234, 0.0408064583765647, 0.02720430558437647, 0.013602152792188234, 0.013602152792188234, 0.9819495627253418, 0.16613777073500025, 0.41534442683750067, 0.41534442683750067, 0.40291251206125434, 0.2877946514723245, 0.2877946514723245, 0.37352092338701715, 0.3112674361558476, 0.3112674361558476, 0.2728481042679429, 0.1240218655763377, 0.1240218655763377, 0.1240218655763377, 0.2480437311526754, 0.1240218655763377, 0.9843581377587267, 0.9623839532939799, 0.514052288159209, 0.514052288159209, 0.9825351162267105, 0.9627933162429629, 0.3332890925140247, 0.16664454625701236, 0.4999336387710371, 0.984029473854495, 0.713029722553874, 0.2852118890215496, 0.9627925460396252, 0.9627941301501987, 0.020208270636242035, 0.10104135318121017, 0.18861052593825897, 0.10104135318121017, 0.13472180424161356, 0.11451353360537153, 0.03368045106040339, 0.03368045106040339, 0.03368045106040339, 0.03368045106040339, 0.03368045106040339, 0.06736090212080678, 0.03368045106040339, 0.06736090212080678, 0.14197980625179754, 0.14197980625179754, 0.14197980625179754, 0.14197980625179754, 0.14197980625179754, 0.2839596125035951, 0.07174363184550421, 0.09565817579400562, 0.11957271974250702, 0.23914543948501404, 0.3587181592275211, 0.11957271974250702, 0.49099421010124394, 0.24549710505062197, 0.24549710505062197, 0.9600482994122884, 0.3901640345242437, 0.1500630902016322, 0.1500630902016322, 0.1500630902016322, 0.1500630902016322, 0.08348399959844602, 0.7513559963860142, 0.16696799919689204, 0.19083825838768534, 0.40893912511646857, 0.27262608341097905, 0.13631304170548952, 0.9636089325201241, 0.28417235638916977, 0.14208617819458488, 0.14208617819458488, 0.28417235638916977, 0.14208617819458488, 0.03389392108320489, 0.11862872379121711, 0.12710220406201833, 0.12710220406201833, 0.04236740135400611, 0.04236740135400611, 0.381306612186055, 0.04236740135400611, 0.050840881624807335, 0.04236740135400611, 0.1237647650374211, 0.05156865209892546, 0.18564714755613165, 0.05156865209892546, 0.07219611293849565, 0.0773529781483882, 0.1547059562967764, 0.05156865209892546, 0.05156865209892546, 0.02578432604946273, 0.0773529781483882, 0.02578432604946273, 0.05156865209892546, 0.6601618248812792, 0.3300809124406396, 0.37893599815858137, 0.15788999923274222, 0.15788999923274222, 0.15788999923274222, 0.15788999923274222, 0.3736450940575024, 0.3113709117145853, 0.3113709117145853, 0.44875473597643706, 0.11218868399410926, 0.11218868399410926, 0.22437736798821853, 0.11218868399410926, 0.9834290393597146, 1.017470816150063, 0.06827422973256449, 0.30235730310135706, 0.09753461390366355, 0.09753461390366355, 0.2438365347591589, 0.09753461390366355, 0.048767306951831776, 0.048767306951831776, 0.6645796842151963, 0.16614492105379908, 0.16614492105379908, 0.13822238950168947, 0.34555597375422364, 0.34555597375422364, 0.17277798687711182, 0.496965613995975, 0.14199017542742143, 0.07099508771371071, 0.21298526314113214, 0.07099508771371071, 0.34289625181795597, 0.10715507869311124, 0.10715507869311124, 0.3214652360793337, 0.10715507869311124, 0.046153326128721604, 0.05423015820124788, 0.0980758180235334, 0.1096141495557138, 0.02538432937079688, 0.0519224918948118, 0.011538331532180401, 0.0807683207252628, 0.023076663064360802, 0.11422948216858596, 0.046153326128721604, 0.0807683207252628, 0.0403841603626314, 0.057691657660902, 0.028845828830451, 0.057691657660902, 0.02192282991114276, 0.05423015820124788, 0.26502375295402475, 0.03081671545977032, 0.03081671545977032, 0.18490029275862194, 0.06163343091954064, 0.03081671545977032, 0.09245014637931097, 0.1540835772988516, 0.03081671545977032, 0.03081671545977032, 0.05547008782758658, 0.03081671545977032, 0.9854228622026826, 0.15171605437841987, 0.08428669687689992, 0.25286009063069975, 0.16857339375379984, 0.25286009063069975, 0.08428669687689992, 0.05280493416437865, 0.1056098683287573, 0.05280493416437865, 0.6864641441369224, 0.1056098683287573, 0.28543367278536136, 0.23786139398780112, 0.23786139398780112, 0.23786139398780112, 0.05692383337576345, 0.6641113893839069, 0.18974611125254484, 0.04743652781313621, 0.04743652781313621, 0.09571733959842213, 0.08493228724930414, 0.20491599463324173, 0.0067406577181987415, 0.013481315436397483, 0.05796965637650918, 0.04044394630919245, 0.04044394630919245, 0.026962630872794966, 0.05392526174558993, 0.03370328859099371, 0.07414723490018615, 0.0808878926183849, 0.020221973154596225, 0.026962630872794966, 0.020221973154596225, 0.03370328859099371, 0.07953976107474516, 0.0067406577181987415, 0.10405331409379256, 0.1300666426172407, 0.4942532419455147, 0.1300666426172407, 0.1300666426172407, 0.4993475448904178, 0.16644918163013928, 0.33289836326027855, 0.02629882447253219, 0.2780161444239117, 0.033812774321827097, 0.018784874623237278, 0.1765778214584304, 0.018784874623237278, 0.037569749246474556, 0.2442033701020846, 0.037569749246474556, 0.018784874623237278, 0.05635462386971183, 0.037569749246474556, 0.018784874623237278, 0.4914529979648058, 0.4914529979648058, 0.46932357604982033, 0.5866544700622754, 0.20667502718509356, 0.03131439805834751, 0.06262879611669502, 0.09394319417504253, 0.20667502718509356, 0.06262879611669502, 0.15657199029173755, 0.06262879611669502, 0.09394319417504253, 0.03131439805834751, 0.328035652707176, 0.28944322297692, 0.19296214865128, 0.09648107432564, 0.09648107432564, 0.3057939685136933, 0.3397710761263259, 0.3397710761263259, 0.08487976099288294, 0.35366567080367894, 0.21219940248220737, 0.035366567080367894, 0.035366567080367894, 0.10609970124110368, 0.07073313416073579, 0.035366567080367894, 0.07073313416073579, 0.9628158456322512, 0.9630600140707821, 0.06135758619250776, 0.06135758619250776, 0.2103688669457409, 0.13148054184108804, 0.04382684728036269, 0.04382684728036269, 0.04382684728036269, 0.04382684728036269, 0.04382684728036269, 0.04382684728036269, 0.13148054184108804, 0.04382684728036269, 0.05259221673643522, 0.04382684728036269, 0.1660224624911045, 0.1185874732079318, 0.1185874732079318, 0.1185874732079318, 0.1185874732079318, 0.2371749464158636, 0.1185874732079318, 0.3311035585387099, 0.6622071170774197, 0.6382487575191308, 0.18235678786260878, 0.06078559595420293, 0.12157119190840586, 0.3471165791832472, 0.5785276319720787, 1.017481347912742, 0.491840131424921, 0.491840131424921, 0.9627965823871694, 0.17861508764015455, 0.15531746751317788, 0.03882936687829447, 0.07765873375658894, 0.08542460713224784, 0.07765873375658894, 0.1164881006348834, 0.03882936687829447, 0.03882936687829447, 0.03882936687829447, 0.03882936687829447, 0.03882936687829447, 0.07765873375658894, 0.9630662524663767, 0.06334429954203089, 0.6123282289062986, 0.21114766514010297, 0.10557383257005148, 0.16360258533774413, 0.1402307874323521, 0.11685898952696008, 0.11685898952696008, 0.11685898952696008, 0.23371797905392017, 0.11685898952696008, 0.9636192626809056, 0.9623907249545023, 0.9636210863264901, 0.3337859138170786, 0.3337859138170786, 0.1668929569085393, 0.1668929569085393, 0.9646261465718824, 0.9618394511842473, 0.09121222603427166, 0.273636678102815, 0.1520203767237861, 0.1520203767237861, 0.1520203767237861, 0.1520203767237861, 0.45489697305716636, 0.26758645473950965, 0.13379322736975482, 0.13379322736975482, 0.9628000362497366, 0.2540800078129653, 0.2540800078129653, 0.2540800078129653, 0.2540800078129653, 0.8182918646079654, 0.05616913001925201, 0.11233826003850401, 0.09361521669875335, 0.16850739005775603, 0.1872304333975067, 0.09361521669875335, 0.09361521669875335, 0.09361521669875335, 0.09361521669875335, 0.09833482707812863, 0.07284061265046565, 0.07284061265046565, 0.07284061265046565, 0.018210153162616413, 0.07284061265046565, 0.018210153162616413, 0.10926091897569848, 0.05463045948784924, 0.12747107213831488, 0.036420306325232826, 0.036420306325232826, 0.05463045948784924, 0.036420306325232826, 0.0837667045480355, 0.036420306325232826, 0.039509130475720224, 0.05267884063429363, 0.1843759422200277, 0.06584855079286704, 0.06584855079286704, 0.06584855079286704, 0.5267884063429363, 0.9632708169662382, 0.10518770059965485, 0.23667232634922342, 0.26296925149913714, 0.26296925149913714, 0.13148462574956857, 0.9624234934573127, 0.5418491187926858, 0.4515409323272382, 0.9633048594400132, 0.07957476388165302, 0.1326246064694217, 0.1326246064694217, 0.1326246064694217, 0.1326246064694217, 0.1326246064694217, 0.1326246064694217, 0.1326246064694217, 0.3201448666711393, 0.0914699619060398, 0.5030847904832189, 0.0914699619060398, 0.7159008507449536, 0.2045431002128439, 0.44598739794327313, 0.37165616495272763, 0.18582808247636382, 0.9830391368901628, 0.04202660963685832, 0.09606082202710474, 0.03001900688347023, 0.09005702065041069, 0.06003801376694046, 0.03001900688347023, 0.12007602753388091, 0.06003801376694046, 0.06003801376694046, 0.03001900688347023, 0.12007602753388091, 0.18011404130082137, 0.06003801376694046, 0.03001900688347023, 1.017440988708539, 0.17227027293546082, 0.07142913755860571, 0.0420171397403563, 0.02100856987017815, 0.06302570961053444, 0.06302570961053444, 0.06302570961053444, 0.0420171397403563, 0.06302570961053444, 0.2731114083123159, 0.0420171397403563, 0.0420171397403563, 0.02100856987017815, 0.02100856987017815, 1.0229931499298242, 0.9600352717402404, 0.9612713034507823, 0.22045544361415761, 0.36742573935692935, 0.36742573935692935, 0.12297349232661695, 0.14018978125234333, 0.07378409539597017, 0.036892047697985084, 0.036892047697985084, 0.002459469846532339, 0.036892047697985084, 0.02459469846532339, 0.04918939693064678, 0.02459469846532339, 0.036892047697985084, 0.036892047697985084, 0.11067614309395525, 0.04918939693064678, 0.07378409539597017, 0.02459469846532339, 0.036892047697985084, 0.03443257785145275, 0.05164886677717912, 0.9647462257854802, 0.5297436667609696, 0.24079257580044075, 0.24079257580044075, 0.4585483030040731, 0.22187821113100314, 0.16271068816273562, 0.07395940371033438, 0.07395940371033438, 1.0520482375183935, 0.07329982201791073, 0.0628284188724949, 0.05235701572707909, 0.05235701572707909, 0.15707104718123727, 0.18848525661748475, 0.05235701572707909, 0.36649911008955366, 0.4918341820812329, 0.4918341820812329, 0.3373058691507541, 0.3373058691507541, 0.3373058691507541, 0.0916477144324828, 0.12219695257664374, 0.1832954288649656, 0.6109847628832187, 0.505977181621014, 0.505977181621014, 0.22356239864302388, 0.1596874276021599, 0.1596874276021599, 0.4790622828064797, 0.20876254947668865, 0.5219063736917217, 0.26095318684586083, 0.3680631481225131, 0.24537543208167542, 0.39260069133068065, 0.28387647936052873, 0.027831027388287133, 0.027831027388287133, 0.027831027388287133, 0.11132410955314853, 0.055662054776574266, 0.027831027388287133, 0.055662054776574266, 0.11132410955314853, 0.055662054776574266, 0.0834930821648614, 0.13915513694143566, 0.353535474026392, 0.24843033309962684, 0.1051051409267652, 0.047775064057620546, 0.047775064057620546, 0.047775064057620546, 0.047775064057620546, 0.047775064057620546, 0.047775064057620546, 0.66049102269841, 0.330245511349205, 0.017822825936443604, 0.05940941978814535, 0.06535036176695988, 0.08911412968221802, 0.05940941978814535, 0.05940941978814535, 0.08911412968221802, 0.1188188395762907, 0.029704709894072676, 0.08911412968221802, 0.029704709894072676, 0.05940941978814535, 0.05940941978814535, 0.05940941978814535, 0.05940941978814535, 0.05940941978814535, 0.06835097871908886, 0.15134859573512535, 0.05370434042214125, 0.024411063828246024, 0.07323319148473807, 0.24411063828246024, 0.024411063828246024, 0.17087744679772215, 0.024411063828246024, 0.024411063828246024, 0.024411063828246024, 0.024411063828246024, 0.024411063828246024, 0.024411063828246024, 0.04882212765649205, 0.6668527509445366, 0.3334263754722683, 0.09315993230097887, 0.05323424702913078, 0.11977705581554425, 0.1996284263592404, 0.13308561757282694, 0.06654280878641347, 0.06654280878641347, 0.06654280878641347, 0.06654280878641347, 0.13308561757282694, 0.1930506550438459, 0.1378933250313185, 0.1378933250313185, 0.4136799750939555, 0.1378933250313185, 0.19639558431545745, 0.32732597385909573, 0.16366298692954787, 0.16366298692954787, 0.16366298692954787, 0.15558029117340086, 0.11668521838005065, 0.053612127363807056, 0.0473048182621827, 0.0735852728522842, 0.06622674556705577, 0.08409745468832479, 0.05781700009822329, 0.031536545508121794, 0.031536545508121794, 0.052560909180202994, 0.021024363672081197, 0.031536545508121794, 0.005256090918020299, 0.042048727344162394, 0.021024363672081197, 0.026280454590101497, 0.07884136377030448, 0.005256090918020299, 0.659615325993142, 0.329807662996571, 0.9600350088420088, 0.03067935564591367, 0.15339677822956838, 0.05113225940985612, 0.05113225940985612, 0.15339677822956838, 0.15339677822956838, 0.05113225940985612, 0.05113225940985612, 0.05113225940985612, 0.10226451881971224, 0.09203806693774101, 0.05113225940985612, 0.13100521378184016, 0.09357515270131439, 0.22458036648315452, 0.09357515270131439, 0.09357515270131439, 0.09357515270131439, 0.18715030540262878, 0.09357515270131439, 0.3370469877930694, 0.3370469877930694, 0.3370469877930694, 0.4925403263380269, 0.4925403263380269, 0.07331616452565477, 0.11236499128388394, 0.03745499709462798, 0.05578403822604167, 0.031876593272023815, 0.06773776070305061, 0.06773776070305061, 0.07172233486205358, 0.0517994640670387, 0.059768612385044655, 0.04781488990803572, 0.04383031574903275, 0.02390744495401786, 0.027892019113020836, 0.039845741590029765, 0.04383031574903275, 0.05897169755324406, 0.028688933944821433, 0.05817478272144346, 0.8841003418566172, 0.2210250854641543, 0.1394359737261639, 0.5577438949046556, 0.2788719474523278, 1.0188131978166974, 0.34606794271143276, 0.6575290911517223, 0.08029677619390252, 0.10037097024237816, 0.10037097024237816, 0.3011129107271345, 0.10037097024237816, 0.3211871047756101, 1.004896868038542, 0.33075848544573494, 0.33075848544573494, 0.33075848544573494, 0.13889129149187188, 0.020685937030704322, 0.14775669307645944, 0.04432700792293784, 0.10342968515352162, 0.02955133861529189, 0.02955133861529189, 0.08865401584587568, 0.02955133861529189, 0.02955133861529189, 0.08865401584587568, 0.07387834653822972, 0.02955133861529189, 0.08865401584587568, 0.05910267723058378, 0.2854162724265707, 0.2378468936888089, 0.2378468936888089, 0.2378468936888089, 0.03072752863432879, 0.15363764317164397, 0.05121254772388132, 0.05121254772388132, 0.30727528634328793, 0.20485019089552528, 0.15363764317164397, 0.05121254772388132, 0.14474231178664965, 0.07237115589332482, 0.14474231178664965, 0.14474231178664965, 0.14474231178664965, 0.14474231178664965, 0.2026392365013095, 0.962364002553394, 0.9834604558759853, 0.9632947353000958, 0.9633092957770549, 0.20659340696297598, 0.41318681392595197, 0.34432234493829333, 0.09813310627687574, 0.2803803036482164, 0.0700950759120541, 0.0700950759120541, 0.0700950759120541, 0.2803803036482164, 0.0700950759120541, 0.0700950759120541, 0.3330673443650403, 0.4996010165475605, 0.16653367218252016, 0.541320800785659, 0.45110066732138254, 0.10860389270344706, 0.37235620355467564, 0.07757420907389076, 0.07757420907389076, 0.07757420907389076, 0.23272262722167225, 0.07757420907389076, 0.07527176632107116, 0.1430163560100352, 0.03763588316053558, 0.18817941580267789, 0.1430163560100352, 0.03763588316053558, 0.11290764948160674, 0.11290764948160674, 0.03763588316053558, 0.12043482611371385, 0.0631878526225374, 0.21062617540845802, 0.10531308770422901, 0.4001897332760702, 0.10531308770422901, 0.10531308770422901, 0.5890177334492667, 0.4207269524637619, 0.2744183543173044, 0.3430229428966305, 0.4116275314759566, 0.3402207601042531, 0.3402207601042531, 0.3402207601042531, 0.14147387587182444, 0.2829477517436489, 0.14147387587182444, 0.14147387587182444, 0.2829477517436489, 0.20660882502214228, 0.41321765004428457, 0.3443480417035705, 0.42764004063982325, 0.42764004063982325, 0.1425466802132744, 0.5067465874186544, 0.5067465874186544, 0.2581570169928272, 0.2581570169928272, 0.2581570169928272, 0.2581570169928272, 0.9962055897728181, 0.022802978648260565, 0.22042879359985212, 0.03800496441376761, 0.07600992882753523, 0.11401489324130283, 0.19002482206883806, 0.03800496441376761, 0.03800496441376761, 0.07600992882753523, 0.15201985765507045, 0.03800496441376761, 0.38216931790454656, 0.056617676726599495, 0.4246325754494962, 0.14154419181649874, 0.5894893883148575, 0.20327220286719225, 0.10163610143359612, 0.10163610143359612, 0.9630568813471585, 0.3621311865803354, 0.12933256663583406, 0.2586651332716681, 0.12933256663583406, 0.12933256663583406, 0.42754425464437923, 0.19433829756562693, 0.19433829756562693, 0.19433829756562693, 0.9835140800892711, 0.32114985054437156, 0.6881782511665105, 0.14564416286632714, 0.37451356165626976, 0.07282208143316357, 0.10403154490451938, 0.10403154490451938, 0.10403154490451938, 0.05201577245225969, 0.05201577245225969, 0.25219489073906015, 0.7565846722171804, 0.5139229642364819, 0.5139229642364819, 1.0398441071225806, 0.12028683194111346, 0.12736252793764954, 0.2193465758926187, 0.035378479982680434, 0.14151391993072174, 0.1061354399480413, 0.035378479982680434, 0.035378479982680434, 0.035378479982680434, 0.035378479982680434, 0.035378479982680434, 0.07075695996536087, 0.19971831969050724, 0.5991549590715217, 0.19971831969050724, 0.06707806835690017, 0.18111078456363044, 0.03353903417845008, 0.10061710253535025, 0.17440297772794044, 0.06707806835690017, 0.13415613671380033, 0.06707806835690017, 0.06707806835690017, 0.03353903417845008, 0.06707806835690017], \"Term\": [\"A Point of Time with Reference to Duration of Time: Beginning, End\", \"A Point of Time with Reference to Duration of Time: Beginning, End\", \"A Point of Time with Reference to Duration of Time: Beginning, End\", \"A Point of Time with Reference to Duration of Time: Beginning, End\", \"A Point of Time with Reference to Duration of Time: Beginning, End\", \"A Point of Time with Reference to Duration of Time: Beginning, End\", \"A Point of Time with Reference to Other Points of Time: Before, Long Ago, Now, At the Same Time, When, About, After\", \"A Point of Time with Reference to Other Points of Time: Before, Long Ago, Now, At the Same Time, When, About, After\", \"A Point of Time with Reference to Other Points of Time: Before, Long Ago, Now, At the Same Time, When, About, After\", \"A Point of Time with Reference to Other Points of Time: Before, Long Ago, Now, At the Same Time, When, About, After\", \"A Point of Time with Reference to Other Points of Time: Before, Long Ago, Now, At the Same Time, When, About, After\", \"A Point of Time with Reference to Other Points of Time: Before, Long Ago, Now, At the Same Time, When, About, After\", \"A Point of Time with Reference to Other Points of Time: Before, Long Ago, Now, At the Same Time, When, About, After\", \"A Point of Time with Reference to Other Points of Time: Before, Long Ago, Now, At the Same Time, When, About, After\", \"A Point of Time with Reference to Other Points of Time: Before, Long Ago, Now, At the Same Time, When, About, After\", \"A Point of Time with Reference to Other Points of Time: Before, Long Ago, Now, At the Same Time, When, About, After\", \"A Point of Time with Reference to Other Points of Time: Before, Long Ago, Now, At the Same Time, When, About, After\", \"A Point of Time without Reference to Other Points of Time: Time, Occasion, Ever, Often\", \"A Point of Time without Reference to Other Points of Time: Time, Occasion, Ever, Often\", \"Abhor\", \"Abhor\", \"Able, Capable\", \"Able, Capable\", \"Able, Capable\", \"Able, Capable\", \"Able, Capable\", \"Able, Capable\", \"Able, Capable\", \"Able, Capable\", \"Abundance, Excess, Sparing\", \"Accept As True\", \"Accept As True\", \"Accept As True\", \"Accept As True\", \"Accuse, Blame\", \"Activities Involving Clothing and Adorning\", \"Activities Involving Clothing and Adorning\", \"Activities Involving Clothing and Adorning\", \"Activities Involving Clothing and Adorning\", \"Activities Involving Clothing and Adorning\", \"Activities Involving Clothing and Adorning\", \"Activities Involving Clothing and Adorning\", \"Activities Involving Clothing and Adorning\", \"Activities Involving Clothing and Adorning\", \"Activities Involving Clothing and Adorning\", \"Activities Involving Clothing and Adorning\", \"Activities Involving Clothing and Adorning\", \"Add, Subtract\", \"Adornments\", \"Adornments\", \"Adornments\", \"Adornments\", \"Adornments\", \"Adornments\", \"Adornments\", \"Advise\", \"Agent of a Numerable Event\", \"Agriculture\", \"All, Any, Each, Every [Totality]\", \"All, Any, Each, Every [Totality]\", \"All, Any, Each, Every [Totality]\", \"All, Any, Each, Every [Totality]\", \"All, Any, Each, Every [Totality]\", \"All, Any, Each, Every [Totality]\", \"All, Any, Each, Every [Totality]\", \"All, Any, Each, Every [Totality]\", \"All, Any, Each, Every [Totality]\", \"All, Any, Each, Every [Totality]\", \"All, Any, Each, Every [Totality]\", \"All, Any, Each, Every [Totality]\", \"All, Any, Each, Every [Totality]\", \"All, Any, Each, Every [Totality]\", \"All, Any, Each, Every [Totality]\", \"All, Any, Each, Every [Totality]\", \"Among, Between, In, Inside\", \"Among, Between, In, Inside\", \"Among, Between, In, Inside\", \"Among, Between, In, Inside\", \"Among, Between, In, Inside\", \"Among, Between, In, Inside\", \"Anger, Be Indignant With\", \"Anger, Be Indignant With\", \"Anger, Be Indignant With\", \"Anger, Be Indignant With\", \"Anger, Be Indignant With\", \"Anger, Be Indignant With\", \"Animals\", \"Animals\", \"Animals\", \"Animals\", \"Animals\", \"Animals\", \"Animals\", \"Animals\", \"Animals\", \"Animals\", \"Animals\", \"Animals\", \"Animals\", \"Animals\", \"Animals\", \"Animals\", \"Application and Removal of Liquids or Masses\", \"Application and Removal of Liquids or Masses\", \"Application and Removal of Liquids or Masses\", \"Archetype, Corresponding Type [Antitype]\", \"Areas Which Are Uninhabited or Only Sparsely Populated\", \"Areas Which Are Uninhabited or Only Sparsely Populated\", \"Army\", \"Army\", \"Around, About, Outside\", \"Around, About, Outside\", \"Around, About, Outside\", \"Around, About, Outside\", \"Around, About, Outside\", \"Associate\", \"At, Beside, Near, Far\", \"Atmospheric Objects\", \"Atmospheric Objects\", \"Atmospheric Objects\", \"Atmospheric Objects\", \"Atmospheric Objects\", \"Atmospheric Objects\", \"Atmospheric Objects\", \"Atmospheric Objects\", \"Atmospheric Objects\", \"Atmospheric Objects\", \"Bad, Evil, Harmful, Damaging\", \"Bad, Evil, Harmful, Damaging\", \"Be Eager, Be Earnest, In a Devoted Manner\", \"Be Poor, Be Needy, Poverty\", \"Be Poor, Be Needy, Poverty\", \"Be Poor, Be Needy, Poverty\", \"Be Rich, Be Wealthy\", \"Be Rich, Be Wealthy\", \"Be Rich, Be Wealthy\", \"Be Rich, Be Wealthy\", \"Be Rich, Be Wealthy\", \"Be a Believer, Christian Faith\", \"Be a Believer, Christian Faith\", \"Be a Believer, Christian Faith\", \"Be in a Place\", \"Be in a Place\", \"Be in a Place\", \"Be in a Place\", \"Be in a Place\", \"Be in a Place\", \"Beautiful, Ugly\", \"Become Safe, Free from Danger\", \"Behavior, Conduct\", \"Behavior, Conduct\", \"Birds\", \"Birds\", \"Birds\", \"Birds\", \"Birds\", \"Birth, Procreation\", \"Bless, Curse\", \"Boats and Parts of Boats\", \"Boats and Parts of Boats\", \"Bodies of Water\", \"Bodies of Water\", \"Bodies of Water\", \"Bodies of Water\", \"Bodies of Water\", \"Bodies of Water\", \"Bodies of Water\", \"Bodies of Water\", \"Bodies of Water\", \"Bodies of Water\", \"Bodies of Water\", \"Bodies of Water\", \"Bodies of Water\", \"Bodies of Water\", \"Body\", \"Break, Break Through\", \"Breathe, Breath\", \"Breathe, Breath\", \"Buildings\", \"Buildings\", \"Buildings\", \"Buildings\", \"Buildings\", \"Buildings\", \"Buildings\", \"Buildings\", \"Buildings\", \"Buildings\", \"Burning\", \"Burning\", \"Burning\", \"Burning\", \"Burning\", \"Burning\", \"Burning\", \"Burning\", \"Burning\", \"Call\", \"Capacity for Understanding\", \"Capacity for Understanding\", \"Capacity for Understanding\", \"Capacity for Understanding\", \"Care For, Take Care Of\", \"Carry, Bear\", \"Carry, Bear\", \"Carry, Bear\", \"Carry, Bear\", \"Carry, Bear\", \"Carry, Bear\", \"Carry, Bear\", \"Cause and/or Reason\", \"Cease, Stop\", \"Cease, Stop\", \"Cease, Stop\", \"Change Behavior\", \"Change Behavior\", \"Change Behavior\", \"Change Behavior\", \"Change an Opinion Concerning Truth\", \"Change of State\", \"Change of State\", \"Change of State\", \"Change of State\", \"Change of State\", \"Change of State\", \"Change of State\", \"Class, Kind\", \"Class, Kind\", \"Clean, Dirty\", \"Clean, Dirty\", \"Clean, Dirty\", \"Clean, Dirty\", \"Cloth, Leather, and Objects Made of Such Materials\", \"Cloth, Leather, and Objects Made of Such Materials\", \"Cloth, Leather, and Objects Made of Such Materials\", \"Cloth, Leather, and Objects Made of Such Materials\", \"Cloth, Leather, and Objects Made of Such Materials\", \"Cloth, Leather, and Objects Made of Such Materials\", \"Cloth, Leather, and Objects Made of Such Materials\", \"Cloth, Leather, and Objects Made of Such Materials\", \"Cloth, Leather, and Objects Made of Such Materials\", \"Cloth, Leather, and Objects Made of Such Materials\", \"Color\", \"Color\", \"Color\", \"Color\", \"Color\", \"Color\", \"Color\", \"Color\", \"Color\", \"Color\", \"Color\", \"Color\", \"Color\", \"Come To Understand\", \"Come To Understand\", \"Come To Understand\", \"Come, Come To, Arrive\", \"Come, Come To, Arrive\", \"Come, Come To, Arrive\", \"Come, Come To, Arrive\", \"Come/Go Behind\", \"Come/Go Behind\", \"Come/Go Down, Descend\", \"Come/Go Down, Descend\", \"Come/Go Down, Descend\", \"Come/Go Down, Descend\", \"Come/Go Down, Descend\", \"Come/Go Down, Descend\", \"Come/Go Down, Descend\", \"Come/Go Down, Descend\", \"Come/Go Into\", \"Come/Go Into\", \"Come/Go Into\", \"Come/Go Into\", \"Come/Go Into\", \"Come/Go Up, Ascend\", \"Come/Go Up, Ascend\", \"Come/Go Up, Ascend\", \"Come/Go Up, Ascend\", \"Come/Go Up, Ascend\", \"Come/Go Up, Ascend\", \"Come/Go Up, Ascend\", \"Come/Go Up, Ascend\", \"Come/Go Up, Ascend\", \"Command, Order\", \"Command, Order\", \"Comparison\", \"Comparison\", \"Comparison\", \"Comparison\", \"Comparison\", \"Comparison\", \"Comparison\", \"Comparison\", \"Comparison\", \"Complete, Finish, Succeed\", \"Complete, Finish, Succeed\", \"Complete, Finish, Succeed\", \"Completely, Enough [Completive Degree]\", \"Condiments\", \"Conquer\", \"Conquer\", \"Conquer\", \"Conquer\", \"Conquer\", \"Conquer\", \"Conquer\", \"Conquer\", \"Conquer\", \"Conquer\", \"Containers\", \"Containers\", \"Containers\", \"Containers\", \"Containers\", \"Containers\", \"Containers\", \"Containers\", \"Containers\", \"Control, Restrain\", \"Control, Restrain\", \"Control, Restrain\", \"Craft, Trade\", \"Darkness\", \"Darkness\", \"Darkness\", \"Darkness\", \"Darkness\", \"Dedicate, Consecrate\", \"Dedicate, Consecrate\", \"Dedicate, Consecrate\", \"Defile, Unclean, Common\", \"Defile, Unclean, Common\", \"Defile, Unclean, Common\", \"Defile, Unclean, Common\", \"Defile, Unclean, Common\", \"Definite Units of Time: Year, Month, Week, Day, Hour\", \"Definite Units of Time: Year, Month, Week, Day, Hour\", \"Definite Units of Time: Year, Month, Week, Day, Hour\", \"Definite Units of Time: Year, Month, Week, Day, Hour\", \"Definite Units of Time: Year, Month, Week, Day, Hour\", \"Definite Units of Time: Year, Month, Week, Day, Hour\", \"Definite Units of Time: Year, Month, Week, Day, Hour\", \"Definite Units of Time: Year, Month, Week, Day, Hour\", \"Definite Units of Time: Year, Month, Week, Day, Hour\", \"Definite Units of Time: Year, Month, Week, Day, Hour\", \"Demonstrative or Deictic Reference\", \"Demonstrative or Deictic Reference\", \"Demonstrative or Deictic Reference\", \"Depressions and Holes\", \"Depressions and Holes\", \"Desire Strongly\", \"Desire Strongly\", \"Desire Strongly\", \"Desire Strongly\", \"Desire, Want, Wish\", \"Desire, Want, Wish\", \"Desire, Want, Wish\", \"Desire, Want, Wish\", \"Destroy\", \"Destroy\", \"Destroy\", \"Destroy\", \"Destroy\", \"Destroy\", \"Destroy\", \"Discouragement\", \"Discourse Types\", \"Do, Perform\", \"Do, Perform\", \"Do, Perform\", \"Do, Perform\", \"Do, Perform\", \"Do, Perform\", \"Do, Perform\", \"Do, Perform\", \"Do, Perform\", \"Double, Four Times As Much, Etc. [Multiples]\", \"Drunkenness\", \"Duration of Time with Reference to Some Point of Time: Until, Delay, Still, From\", \"Duration of Time with Reference to Some Point of Time: Until, Delay, Still, From\", \"Duration of Time with Reference to Some Point of Time: Until, Delay, Still, From\", \"Duration of Time with Reference to Some Point of Time: Until, Delay, Still, From\", \"Duration of Time without Reference to Points or Units of Time: Time, Spend Time, Always, Eternal, Old, Immediately, Young\", \"Duration of Time without Reference to Points or Units of Time: Time, Spend Time, Always, Eternal, Old, Immediately, Young\", \"Duration of Time without Reference to Points or Units of Time: Time, Spend Time, Always, Eternal, Old, Immediately, Young\", \"Duration of Time without Reference to Points or Units of Time: Time, Spend Time, Always, Eternal, Old, Immediately, Young\", \"Duration of Time without Reference to Points or Units of Time: Time, Spend Time, Always, Eternal, Old, Immediately, Young\", \"Duration of Time without Reference to Points or Units of Time: Time, Spend Time, Always, Eternal, Old, Immediately, Young\", \"Duration of Time without Reference to Points or Units of Time: Time, Spend Time, Always, Eternal, Old, Immediately, Young\", \"Duration of Time without Reference to Points or Units of Time: Time, Spend Time, Always, Eternal, Old, Immediately, Young\", \"Duration of Time without Reference to Points or Units of Time: Time, Spend Time, Always, Eternal, Old, Immediately, Young\", \"Duration of Time without Reference to Points or Units of Time: Time, Spend Time, Always, Eternal, Old, Immediately, Young\", \"Duration of Time without Reference to Points or Units of Time: Time, Spend Time, Always, Eternal, Old, Immediately, Young\", \"Duration of Time without Reference to Points or Units of Time: Time, Spend Time, Always, Eternal, Old, Immediately, Young\", \"Duration of Time without Reference to Points or Units of Time: Time, Spend Time, Always, Eternal, Old, Immediately, Young\", \"Dwell, Reside\", \"Dwell, Reside\", \"Dwell, Reside\", \"Dwell, Reside\", \"Dwell, Reside\", \"Dwell, Reside\", \"Dwell, Reside\", \"Dwell, Reside\", \"Dwell, Reside\", \"Dwell, Reside\", \"Dwell, Reside\", \"Earn, Gain, Do Business\", \"Earth, Mud, Sand, Rock\", \"Earth, Mud, Sand, Rock\", \"Earth, Mud, Sand, Rock\", \"Earth, Mud, Sand, Rock\", \"Earth, Mud, Sand, Rock\", \"Earth, Mud, Sand, Rock\", \"Earth, Mud, Sand, Rock\", \"Earth, Mud, Sand, Rock\", \"Eat, Drink\", \"Eat, Drink\", \"Eat, Drink\", \"Eat, Drink\", \"Eat, Drink\", \"Eat, Drink\", \"Eat, Drink\", \"Eat, Drink\", \"Eat, Drink\", \"Eat, Drink\", \"Eat, Drink\", \"Eat, Drink\", \"Elevated Land Formations\", \"Elevated Land Formations\", \"Elevated Land Formations\", \"Elevated Land Formations\", \"Elevated Land Formations\", \"Elevated Land Formations\", \"Enjoy, Take Pleasure In, Be Fond of Doing\", \"Enjoy, Take Pleasure In, Be Fond of Doing\", \"Enjoy, Take Pleasure In, Be Fond of Doing\", \"Establish or Confirm a Relation\", \"Establish or Confirm a Relation\", \"Establish or Confirm a Relation\", \"Ethnic-Cultural\", \"Exercise Authority\", \"Exercise Authority\", \"Exercise Authority\", \"Exercise Authority\", \"Exercise Authority\", \"Exercise Authority\", \"Exercise Authority\", \"Experiencer\", \"Experiencer\", \"Experiencer\", \"Extension From a Source\", \"Extension From a Source\", \"Extension From a Source\", \"Extension To a Goal\", \"Extension To a Goal\", \"Extension To a Goal\", \"Extension To a Goal\", \"Extravagant Living, Intemperate Living\", \"Fall\", \"Fall\", \"Fall\", \"Fall\", \"Favorable Circumstances or State\", \"Fear, Terror, Alarm\", \"Fear, Terror, Alarm\", \"Fear, Terror, Alarm\", \"Fear, Terror, Alarm\", \"Fear, Terror, Alarm\", \"Females\", \"Females\", \"Females\", \"Females\", \"Females\", \"Festivals\", \"Fire\", \"Fire\", \"Fire\", \"Fire\", \"Fire\", \"Fire\", \"Fire\", \"Fire\", \"Fire\", \"Fire\", \"Fire\", \"Fire\", \"Fire\", \"Fire\", \"Fire\", \"Fire\", \"First, Second, Third, Etc. [Ordinals]\", \"First, Second, Third, Etc. [Ordinals]\", \"First, Second, Third, Etc. [Ordinals]\", \"First, Second, Third, Etc. [Ordinals]\", \"First, Second, Third, Etc. [Ordinals]\", \"First, Second, Third, Etc. [Ordinals]\", \"First, Second, Third, Etc. [Ordinals]\", \"First, Second, Third, Etc. [Ordinals]\", \"First, Second, Third, Etc. [Ordinals]\", \"First, Second, Third, Etc. [Ordinals]\", \"First, Second, Third, Etc. [Ordinals]\", \"First, Second, Third, Etc. [Ordinals]\", \"First, Second, Third, Etc. [Ordinals]\", \"Fly\", \"Fly\", \"Fly\", \"Fly\", \"Fly\", \"Follow, Accompany\", \"Follow, Accompany\", \"Follow, Be a Disciple\", \"Follow, Be a Disciple\", \"Food\", \"Food\", \"Food\", \"Fruit Parts of Plants\", \"Fruit Parts of Plants\", \"Fruit Parts of Plants\", \"Fruit Parts of Plants\", \"Full, Empty\", \"Full, Empty\", \"Full, Empty\", \"Full, Empty\", \"Full, Empty\", \"Full, Empty\", \"Funerals and Burial\", \"Funerals and Burial\", \"Furniture\", \"Furniture\", \"Furniture\", \"Furniture\", \"Furniture\", \"Furniture\", \"Furniture\", \"Furniture\", \"Furniture\", \"Furniture\", \"Furniture\", \"Furniture\", \"Furniture\", \"Furniture\", \"Furniture\", \"Gather, Cause To Come Together\", \"Gather, Cause To Come Together\", \"Gather, Cause To Come Together\", \"General\", \"General\", \"General\", \"Genuine, Phony\", \"Genuine, Phony\", \"Give\", \"Give\", \"Give\", \"Give\", \"Give\", \"Glorious\", \"Glorious\", \"Go Around, Surround\", \"Good, Bad\", \"Governmental Administrative Areas\", \"Grasp, Hold\", \"Grasp, Hold\", \"Grasp, Hold\", \"Grasp, Hold\", \"Groups and Members of Groups of Persons Regarded as Related by Blood but without Special Reference to Successive Generations\", \"Groups and Members of Groups of Persons Regarded as Related by Blood but without Special Reference to Successive Generations\", \"Groups and Members of Groups of Persons Regarded as Related by Blood but without Special Reference to Successive Generations\", \"Groups and Members of Groups of Persons Regarded as Related by Blood but without Special Reference to Successive Generations\", \"Groups and Members of Groups of Persons Regarded as Related by Blood but without Special Reference to Successive Generations\", \"Groups and Members of Groups of Persons Regarded as Related by Blood but without Special Reference to Successive Generations\", \"Guard, Watch Over\", \"Guide, Lead\", \"Half, Third, Fourth [Fractional Part]\", \"Half, Third, Fourth [Fractional Part]\", \"Half, Third, Fourth [Fractional Part]\", \"Half, Third, Fourth [Fractional Part]\", \"Half, Third, Fourth [Fractional Part]\", \"Happen\", \"Happen\", \"Happen\", \"Happen\", \"Happen\", \"Happen\", \"Happen\", \"Happen\", \"Happen\", \"Happen\", \"Harm, Wound\", \"Harm, Wound\", \"Harm, Wound\", \"Harm, Wound\", \"Harm, Wound\", \"Hate, Hateful\", \"Hate, Hateful\", \"Hate, Hateful\", \"Have, Possess, Property, Owner\", \"Health, Vigor, Strength\", \"Health, Vigor, Strength\", \"Hear\", \"Hear\", \"Hear\", \"Hear\", \"Hear\", \"Hear\", \"Hear\", \"Hear\", \"Hear\", \"Hear\", \"Hear\", \"Hear\", \"Hear\", \"Hear\", \"Heavenly Bodies\", \"Heavenly Bodies\", \"Heavenly Bodies\", \"Heavenly Bodies\", \"Heavenly Bodies\", \"Heavenly Bodies\", \"Heavenly Bodies\", \"Heavenly Bodies\", \"Heavenly Bodies\", \"Heavenly Bodies\", \"Heavenly Bodies\", \"Help\", \"Here, There\", \"Here, There\", \"Here, There\", \"Here, There\", \"Here, There\", \"High Status or Rank [including persons of high status]\", \"High Status or Rank [including persons of high status]\", \"High Status or Rank [including persons of high status]\", \"High Status or Rank [including persons of high status]\", \"High Status or Rank [including persons of high status]\", \"High Status or Rank [including persons of high status]\", \"High Status or Rank [including persons of high status]\", \"High Status or Rank [including persons of high status]\", \"High, Low, Deep\", \"Hit, Strike\", \"Hit, Strike\", \"Hit, Strike\", \"Hit, Strike\", \"Hold a Wrong View, Be Mistaken\", \"Hold a Wrong View, Be Mistaken\", \"Hold a Wrong View, Be Mistaken\", \"Hold a Wrong View, Be Mistaken\", \"Hold a Wrong View, Be Mistaken\", \"Holy, Pure\", \"Holy, Pure\", \"Holy, Pure\", \"Holy, Pure\", \"Holy, Pure\", \"Holy, Pure\", \"Holy, Pure\", \"Holy, Pure\", \"Honor or Respect in Relation to Status\", \"Honor or Respect in Relation to Status\", \"Honor or Respect in Relation to Status\", \"Hot, Lukewarm, Cold\", \"Hot, Lukewarm, Cold\", \"Hot, Lukewarm, Cold\", \"Human Beings\", \"Human Beings\", \"Human Beings\", \"Human Beings\", \"Human Beings\", \"Human Beings\", \"Human Beings\", \"Human Beings\", \"Human Beings\", \"Human Beings\", \"Human Beings\", \"Images and Idols\", \"Images and Idols\", \"Images and Idols\", \"Images and Idols\", \"Images and Idols\", \"Images and Idols\", \"Imprison\", \"Imprison\", \"Impurity\", \"In Front Of, Face To Face, In Back Of, Behind\", \"Increase, Decrease\", \"Indefinite Units of Time: Age, Lifetime, Interval, Period\", \"Indefinite Units of Time: Age, Lifetime, Interval, Period\", \"Indefinite Units of Time: Age, Lifetime, Interval, Period\", \"Indefinite Units of Time: Age, Lifetime, Interval, Period\", \"Indefinite Units of Time: Age, Lifetime, Interval, Period\", \"Indefinite Units of Time: Age, Lifetime, Interval, Period\", \"Inform, Announce\", \"Inform, Announce\", \"Inform, Announce\", \"Inform, Announce\", \"Inform, Announce\", \"Insects\", \"Instruments Used in Agriculture and Husbandry\", \"Instruments Used in Binding and Fastening\", \"Instruments Used in Marking and Writing\", \"Instruments Used in Marking and Writing\", \"Instruments Used in Marking and Writing\", \"Instruments Used in Marking and Writing\", \"Instruments Used in Marking and Writing\", \"Instruments Used in Marking and Writing\", \"Instruments Used in Marking and Writing\", \"Instruments Used in Marking and Writing\", \"Instruments Used in Marking and Writing\", \"Instruments Used in Marking and Writing\", \"Instruments Used in Marking and Writing\", \"Instruments for Measuring\", \"Instruments for Measuring\", \"Instruments for Measuring\", \"Insult, Slander\", \"Insult, Slander\", \"Insult, Slander\", \"Insult, Slander\", \"Interpret, Mean, Explain\", \"Invite\", \"Judge, Condemn, Acquit\", \"Judge, Condemn, Acquit\", \"Judge, Condemn, Acquit\", \"Judge, Condemn, Acquit\", \"Judge, Condemn, Acquit\", \"Judge, Condemn, Acquit\", \"Judge, Condemn, Acquit\", \"Just, Righteous\", \"Just, Righteous\", \"Just, Righteous\", \"Just, Righteous\", \"Just, Righteous\", \"Keep Silent\", \"Kill\", \"Kill\", \"Kill\", \"Kill\", \"Kill\", \"Kill\", \"Kill\", \"Kill\", \"Kill\", \"Kill\", \"Kindness, Harshness\", \"Kinship Relations Based upon Marriage\", \"Kinship Relations Based upon Marriage\", \"Kinship Relations Based upon Marriage\", \"Kinship Relations Based upon Marriage\", \"Kinship Relations Involving Successive Generations\", \"Kinship Relations Involving Successive Generations\", \"Kinship Relations Involving Successive Generations\", \"Know\", \"Know\", \"Know\", \"Lack of Capacity for Understanding\", \"Land in Contrast With the Sea\", \"Land in Contrast With the Sea\", \"Land in Contrast With the Sea\", \"Land in Contrast With the Sea\", \"Land in Contrast With the Sea\", \"Land in Contrast With the Sea\", \"Language\", \"Language\", \"Language\", \"Language\", \"Language\", \"Language\", \"Language\", \"Language\", \"Language Levels\", \"Language Levels\", \"Large, Small\", \"Laugh, Cry, Groan\", \"Laugh, Cry, Groan\", \"Laugh, Cry, Groan\", \"Lead, Bring, Take\", \"Learn\", \"Learn\", \"Learn\", \"Learn\", \"Learn\", \"Learn the Location of Something\", \"Learn the Location of Something\", \"Learn the Location of Something\", \"Learn the Location of Something\", \"Leave, Depart, Flee, Escape, Send\", \"Leave, Depart, Flee, Escape, Send\", \"Leave, Depart, Flee, Escape, Send\", \"Leave, Depart, Flee, Escape, Send\", \"Leave, Depart, Flee, Escape, Send\", \"Leave, Depart, Flee, Escape, Send\", \"Leave, Depart, Flee, Escape, Send\", \"Leave, Depart, Flee, Escape, Send\", \"Leave, Depart, Flee, Escape, Send\", \"Leave, Depart, Flee, Escape, Send\", \"Leave, Depart, Flee, Escape, Send\", \"Leave, Depart, Flee, Escape, Send\", \"Leave, Depart, Flee, Escape, Send\", \"Leave, Depart, Flee, Escape, Send\", \"Left, Right, Straight Ahead, Opposite\", \"Left, Right, Straight Ahead, Opposite\", \"Left, Right, Straight Ahead, Opposite\", \"Licentiousness, Perversion\", \"Light\", \"Light\", \"Light\", \"Light\", \"Light\", \"Light\", \"Lights and Light Holders\", \"Lights and Light Holders\", \"Lights and Light Holders\", \"Lights and Light Holders\", \"Lights and Light Holders\", \"Lights and Light Holders\", \"Lights and Light Holders\", \"Live, Die\", \"Live, Die\", \"Live, Die\", \"Live, Die\", \"Live, Die\", \"Live, Die\", \"Live, Die\", \"Live, Die\", \"Live, Die\", \"Live, Die\", \"Live, Die\", \"Live, Die\", \"Live, Die\", \"Live, Die\", \"Live, Die\", \"Live, Die\", \"Live, Die\", \"Live, Die\", \"Long, Short, Far\", \"Love, Affection, Compassion\", \"Love, Affection, Compassion\", \"Love, Affection, Compassion\", \"Low Status or Rank [including persons of low status]\", \"Low Status or Rank [including persons of low status]\", \"Low Status or Rank [including persons of low status]\", \"Magic\", \"Magic\", \"Magic\", \"Make, Create\", \"Make, Create\", \"Make, Create\", \"Make, Create\", \"Make, Create\", \"Make, Create\", \"Male, Female\", \"Males\", \"Many, Few [Countables]\", \"Many, Few [Countables]\", \"Maritime Activities\", \"Markers of Emphasis\", \"Markers of Transition\", \"Markers of Transition\", \"Markers of Transition\", \"Marriage, Divorce\", \"Measure, To Measure\", \"Measure, To Measure\", \"Medicines\", \"Mercy, Merciless\", \"Metals\", \"Metals\", \"Metals\", \"Metals\", \"Metals\", \"Metals\", \"Metals\", \"Metals\", \"Metals\", \"Metals\", \"Metals\", \"Metals\", \"Metals\", \"Metals\", \"Miscellaneous\", \"Miscellaneous\", \"Miscellaneous\", \"Miscellaneous\", \"Miscellaneous\", \"Miscellaneous\", \"Miscellaneous Constructions\", \"Miscellaneous Constructions\", \"Miscellaneous Constructions\", \"Miscellaneous Constructions\", \"Miscellaneous Constructions\", \"Miscellaneous Constructions\", \"Mix\", \"Mix\", \"Mix\", \"Money and Monetary Units\", \"Move, Come/Go\", \"Move, Come/Go\", \"Move, Come/Go\", \"Move, Come/Go\", \"Move, Come/Go\", \"Movement of Liquids or Masses\", \"Movement of Liquids or Masses\", \"Movement of Liquids or Masses\", \"Movement of the Earth\", \"Movement of the Earth\", \"Movement of the Earth\", \"Movement of the Earth\", \"Much, Little [Masses, Collectives, Extensions]\", \"Much, Little [Positive-Negative Degree]\", \"Much, Little [Positive-Negative Degree]\", \"Much, Little [Positive-Negative Degree]\", \"Much, Little [Positive-Negative Degree]\", \"Much, Little [Positive-Negative Degree]\", \"Musical Instruments\", \"Musical Instruments\", \"Musical Instruments\", \"Musical Instruments\", \"Musical Instruments\", \"Musical Instruments\", \"Musical Instruments\", \"Musical Instruments\", \"Musical Instruments\", \"Musical Instruments\", \"Name\", \"Name\", \"Name\", \"Name\", \"Name\", \"Name\", \"Name\", \"Name\", \"Name\", \"Name\", \"Name\", \"Name\", \"Name\", \"Narrow, Wide\", \"Narrow, Wide\", \"Necessary, Unnecessary\", \"Necessary, Unnecessary\", \"Necessary, Unnecessary\", \"Necessary, Unnecessary\", \"Necessary, Unnecessary\", \"Need, Lack\", \"Need, Lack\", \"Need, Lack\", \"New, Old [primarily non-temporal]\", \"New, Old [primarily non-temporal]\", \"New, Old [primarily non-temporal]\", \"New, Old [primarily non-temporal]\", \"New, Old [primarily non-temporal]\", \"Non-Fruit Parts of Plants\", \"Non-Linear Movement\", \"Non-Verbal Communication\", \"Non-Verbal Communication\", \"Non-Verbal Communication\", \"Non-Verbal Communication\", \"Non-Verbal Communication\", \"Non-Verbal Communication\", \"Non-Verbal Communication\", \"Non-Verbal Communication\", \"North, South, East, West\", \"North, South, East, West\", \"North, South, East, West\", \"Not Able To Be Known, Secret\", \"Not Able To Be Known, Secret\", \"Not Able To Be Known, Secret\", \"Not Able To Be Known, Secret\", \"Number, Countless\", \"Number, Countless\", \"Number, Countless\", \"Number, Countless\", \"Number, Countless\", \"Obey, Disobey\", \"Obey, Disobey\", \"Obey, Disobey\", \"Obey, Disobey\", \"Obey, Disobey\", \"One, Two, Three, Etc. [Cardinals]\", \"One, Two, Three, Etc. [Cardinals]\", \"One, Two, Three, Etc. [Cardinals]\", \"One, Two, Three, Etc. [Cardinals]\", \"One, Two, Three, Etc. [Cardinals]\", \"One, Two, Three, Etc. [Cardinals]\", \"One, Two, Three, Etc. [Cardinals]\", \"One, Two, Three, Etc. [Cardinals]\", \"One, Two, Three, Etc. [Cardinals]\", \"One, Two, Three, Etc. [Cardinals]\", \"One, Two, Three, Etc. [Cardinals]\", \"One, Two, Three, Etc. [Cardinals]\", \"One, Two, Three, Etc. [Cardinals]\", \"One, Two, Three, Etc. [Cardinals]\", \"One, Two, Three, Etc. [Cardinals]\", \"One, Two, Three, Etc. [Cardinals]\", \"One, Two, Three, Etc. [Cardinals]\", \"One, Two, Three, Etc. [Cardinals]\", \"Open, Closed\", \"Open, Closed\", \"Open, Closed\", \"Open, Closed\", \"Open, Closed\", \"Open, Closed\", \"Open, Closed\", \"Open, Closed\", \"Open, Closed\", \"Open, Closed\", \"Open, Closed\", \"Open, Closed\", \"Opposition, Hostility\", \"Pain, Suffering\", \"Pain, Suffering\", \"Pain, Suffering\", \"Pain, Suffering\", \"Pain, Suffering\", \"Pain, Suffering\", \"Pair, Group [Numbered Collectives]\", \"Pair, Group [Numbered Collectives]\", \"Pair, Group [Numbered Collectives]\", \"Pair, Group [Numbered Collectives]\", \"Pair, Group [Numbered Collectives]\", \"Part\", \"Part\", \"Part\", \"Part\", \"Parts and Areas of Buildings\", \"Parts and Areas of Buildings\", \"Parts and Areas of Buildings\", \"Parts and Areas of Buildings\", \"Parts and Areas of Buildings\", \"Parts of the Body\", \"Parts of the Body\", \"Parts of the Body\", \"Parts of the Body\", \"Parts of the Body\", \"Parts of the Body\", \"Parts of the Body\", \"Parts of the Body\", \"Parts of the Body\", \"Parts of the Body\", \"Parts of the Body\", \"Parts of the Body\", \"Parts of the Body\", \"Parts of the Body\", \"Parts of the Body\", \"Parts of the Body\", \"Parts of the Body\", \"Parts of the Body\", \"Parts of the Body\", \"Patience, Endurance, Perseverance\", \"Patience, Endurance, Perseverance\", \"Patience, Endurance, Perseverance\", \"Patience, Endurance, Perseverance\", \"Patience, Endurance, Perseverance\", \"Perfumes and Incense\", \"Perfumes and Incense\", \"Perfumes and Incense\", \"Persons\", \"Persons\", \"Persons\", \"Persons\", \"Persons\", \"Persons\", \"Persons\", \"Persons\", \"Persons\", \"Persons\", \"Persons\", \"Persons\", \"Persons\", \"Physiological Products of the Body\", \"Physiological Products of the Body\", \"Pierce, Cut\", \"Pierce, Cut\", \"Places\", \"Places\", \"Places\", \"Places\", \"Places\", \"Places\", \"Places\", \"Places\", \"Places\", \"Places\", \"Plant Products\", \"Plant Products\", \"Plant Products\", \"Plant Products\", \"Plant Products\", \"Plants That Are Not Trees\", \"Plants That Are Not Trees\", \"Plants That Are Not Trees\", \"Population Centers\", \"Population Centers\", \"Population Centers\", \"Population Centers\", \"Population Centers\", \"Population Centers\", \"Population Centers\", \"Population Centers\", \"Population Centers\", \"Possible, Impossible\", \"Pound, Talent [Specific Units of Weight]\", \"Power, Force\", \"Power, Force\", \"Power, Force\", \"Power, Force\", \"Power, Force\", \"Power, Force\", \"Power, Force\", \"Power, Force\", \"Power, Force\", \"Power, Force\", \"Power, Force\", \"Power, Force\", \"Power, Force\", \"Power, Force\", \"Praise\", \"Praise\", \"Praise\", \"Praise\", \"Praise\", \"Praise\", \"Praise\", \"Pray\", \"Pray\", \"Precious and Semiprecious Stones and Substances\", \"Precious and Semiprecious Stones and Substances\", \"Precious and Semiprecious Stones and Substances\", \"Precious and Semiprecious Stones and Substances\", \"Press\", \"Press\", \"Prisoners of War\", \"Processes Involving the Mouth, Other Than Eating and Drinking\", \"Processes Involving the Mouth, Other Than Eating and Drinking\", \"Profess Allegiance\", \"Prompters of Attention\", \"Prompters of Attention\", \"Prompters of Attention\", \"Prompters of Attention\", \"Prompters of Attention\", \"Prompters of Attention\", \"Prompters of Attention\", \"Prompters of Attention\", \"Prompters of Attention\", \"Prompters of Attention\", \"Prompters of Attention\", \"Prompters of Attention\", \"Prompters of Attention\", \"Proper, Improper\", \"Prophesy\", \"Prophesy\", \"Prophesy\", \"Prophesy\", \"Prostrate as an Act of Reverence or Supplication\", \"Prostrate as an Act of Reverence or Supplication\", \"Prostrate as an Act of Reverence or Supplication\", \"Prostrate as an Act of Reverence or Supplication\", \"Prostrate as an Act of Reverence or Supplication\", \"Prostrate as an Act of Reverence or Supplication\", \"Prostrate as an Act of Reverence or Supplication\", \"Pull, Draw, Drag\", \"Pure, Unadulterated, Undiluted\", \"Pursue, Follow\", \"Put, Place\", \"Put, Place\", \"Put, Place\", \"Put, Place\", \"Rain\", \"Rapidity, Suddenness\", \"Ready, Prepared\", \"Ready, Prepared\", \"Ready, Prepared\", \"Ready, Prepared\", \"Ready, Prepared\", \"Ready, Prepared\", \"Real, Unreal\", \"Real, Unreal\", \"Real, Unreal\", \"Real, Unreal\", \"Rebuke\", \"Recalling and Responding with Appropriate Action\", \"Recalling and Responding with Appropriate Action\", \"Recalling and Responding with Appropriate Action\", \"Recalling and Responding with Appropriate Action\", \"Recalling from Memory\", \"Receive\", \"Receive\", \"Receive\", \"Receive\", \"Receive\", \"Receive\", \"Receive\", \"Receive\", \"Receive\", \"Regions Above the Earth\", \"Regions Above the Earth\", \"Regions Above the Earth\", \"Regions Above the Earth\", \"Regions Above the Earth\", \"Regions Above the Earth\", \"Regions Above the Earth\", \"Regions Above the Earth\", \"Regions Above the Earth\", \"Regions Above the Earth\", \"Regions Above the Earth\", \"Regions Above the Earth\", \"Regions Above the Earth\", \"Regions Above the Earth\", \"Regions Above the Earth\", \"Regions Above the Earth\", \"Regions Below the Surface of the Earth\", \"Regions Below the Surface of the Earth\", \"Regions Below the Surface of the Earth\", \"Regions Below the Surface of the Earth\", \"Regions Below the Surface of the Earth\", \"Regions Below the Surface of the Earth\", \"Regions Below the Surface of the Earth\", \"Relative Reference\", \"Release, Set Free\", \"Release, Set Free\", \"Release, Set Free\", \"Release, Set Free\", \"Release, Set Free\", \"Relief from Trouble\", \"Religious Practice\", \"Religious Practice\", \"Remain, Stay\", \"Remnant\", \"Remnant\", \"Remnant\", \"Remnant\", \"Remnant\", \"Remnant\", \"Remnant\", \"Remnant\", \"Reptiles and Other 'Creeping Things'\", \"Reptiles and Other 'Creeping Things'\", \"Reptiles and Other 'Creeping Things'\", \"Reptiles and Other 'Creeping Things'\", \"Return\", \"Return\", \"Reward, Recompense\", \"Reward, Recompense\", \"Reward, Recompense\", \"Ripen, Produce Fruit, Bear Seed\", \"Roles and Functions\", \"Roles and Functions\", \"Roles and Functions\", \"Roles and Functions\", \"Roles and Functions\", \"Roles and Functions\", \"Roles and Functions\", \"Roles and Functions\", \"Roles and Functions\", \"Roles and Functions\", \"Roles and Functions\", \"Roles and Functions\", \"Roles and Functions\", \"Roles and Functions\", \"Rolled Up\", \"Rule, Govern\", \"Rule, Govern\", \"Rule, Govern\", \"Rule, Govern\", \"Rule, Govern\", \"Rule, Govern\", \"Rule, Govern\", \"Rule, Govern\", \"Rule, Govern\", \"Rule, Govern\", \"Rule, Govern\", \"Rule, Govern\", \"Rule, Govern\", \"Rule, Govern\", \"Run\", \"Safe, Free from Danger\", \"Same or Equivalent Kind or Class\", \"Save in a Religious Sense\", \"Save in a Religious Sense\", \"Save in a Religious Sense\", \"See\", \"See\", \"See\", \"See\", \"See\", \"See\", \"See\", \"See\", \"See\", \"See\", \"See\", \"See\", \"See\", \"See\", \"See\", \"See\", \"See\", \"See\", \"See\", \"Seize, Take into Custody\", \"Sell, Buy, Price\", \"Sell, Buy, Price\", \"Sell, Buy, Price\", \"Sequence\", \"Sequence\", \"Sequence\", \"Sequence\", \"Sequence\", \"Serve\", \"Sexual Misbehavior\", \"Sexual Misbehavior\", \"Sexual Misbehavior\", \"Sexual Misbehavior\", \"Sexual Misbehavior\", \"Sexual Misbehavior\", \"Sexual Misbehavior\", \"Sexual Misbehavior\", \"Shame, Disgrace, Humiliation\", \"Shame, Disgrace, Humiliation\", \"Shapes\", \"Shapes\", \"Shapes\", \"Sharp\", \"Sharp\", \"Sharp\", \"Sharp\", \"Should, Ought\", \"Should, Ought\", \"Sickness, Disease, Weakness\", \"Sickness, Disease, Weakness\", \"Sickness, Disease, Weakness\", \"Sickness, Disease, Weakness\", \"Sin, Wrongdoing, Guilt\", \"Sin, Wrongdoing, Guilt\", \"Sin, Wrongdoing, Guilt\", \"Sing, Lament\", \"Sing, Lament\", \"Sing, Lament\", \"Sit\", \"Sit\", \"Sit\", \"Sit\", \"Sit\", \"Sit\", \"Sit\", \"Sit\", \"Sit\", \"Sit\", \"Sit\", \"Sit\", \"Slave, Free\", \"Slave, Free\", \"Slave, Free\", \"Slave, Free\", \"Slave, Free\", \"Slave, Free\", \"Slave, Free\", \"Slave, Free\", \"Slave, Free\", \"Sleep, Waking\", \"Sleep, Waking\", \"Socio-Political\", \"Socio-Political\", \"Socio-Political\", \"Socio-Political\", \"Socio-Political\", \"Socio-Political\", \"Socio-Political\", \"Socio-Political\", \"Socio-Political\", \"Socio-Political\", \"Socio-Political\", \"Socio-Political\", \"Socio-Political\", \"Socio-Political\", \"Socio-Political\", \"Socio-Political\", \"Socio-Religious\", \"Socio-Religious\", \"Socio-Religious\", \"Socio-Religious\", \"Socio-Religious\", \"Socio-Religious\", \"Socio-Religious\", \"Socio-Religious\", \"Socio-Religious\", \"Socio-Religious\", \"Socio-Religious\", \"Socio-Religious\", \"Socio-Religious\", \"Socio-Religious\", \"Socio-Religious\", \"Soldiers, Officers\", \"Soldiers, Officers\", \"Sound\", \"Sound\", \"Sound\", \"Sound\", \"Sound\", \"Sound\", \"Sound\", \"Sound\", \"Sound\", \"Sound\", \"Space, Place\", \"Space, Place\", \"Space, Place\", \"Space, Place\", \"Space, Place\", \"Speak Truth, Speak Falsehood\", \"Speak Truth, Speak Falsehood\", \"Speak Truth, Speak Falsehood\", \"Speak Truth, Speak Falsehood\", \"Speak Truth, Speak Falsehood\", \"Speak, Talk\", \"Speak, Talk\", \"Speak, Talk\", \"Speak, Talk\", \"Speak, Talk\", \"Speak, Talk\", \"Speak, Talk\", \"Speak, Talk\", \"Speak, Talk\", \"Speak, Talk\", \"Speak, Talk\", \"Speak, Talk\", \"Speak, Talk\", \"Speak, Talk\", \"Speak, Talk\", \"Speak, Talk\", \"Speak, Talk\", \"Speak, Talk\", \"Speak, Talk\", \"Specific Measures of Length\", \"Specific Measures of Length\", \"Specific Measures of Volume\", \"Stand\", \"Stand\", \"Stand\", \"Stand\", \"Stand\", \"Stand\", \"Stand\", \"Stand\", \"Stand\", \"Stand\", \"Stand\", \"Stand\", \"State\", \"State\", \"State\", \"State\", \"State\", \"State\", \"State\", \"State\", \"Steal, Rob\", \"Steal, Rob\", \"Steal, Rob\", \"Strong, Weak\", \"Strong, Weak\", \"Supernatural Beings\", \"Supernatural Beings\", \"Supernatural Beings\", \"Supernatural Beings\", \"Supernatural Beings\", \"Supernatural Beings\", \"Supernatural Beings\", \"Supernatural Beings\", \"Supernatural Beings\", \"Supernatural Beings\", \"Supernatural Beings\", \"Supernatural Beings\", \"Supernatural Beings\", \"Supernatural Beings\", \"Supernatural Beings\", \"Supernatural Beings\", \"Supernatural Beings\", \"Supernatural Beings\", \"Supernatural Beings\", \"Supernatural Powers\", \"Supernatural Powers\", \"Surprise, Astonish\", \"Surprise, Astonish\", \"Surprise, Astonish\", \"Swear, Put Under Oath, Vow\", \"Sweet, Bitter, Tasteless\", \"Sweet, Bitter, Tasteless\", \"Take, Obtain, Gain, Lose\", \"Take, Obtain, Gain, Lose\", \"Take, Obtain, Gain, Lose\", \"Take, Obtain, Gain, Lose\", \"Take, Obtain, Gain, Lose\", \"Take, Obtain, Gain, Lose\", \"Teach\", \"Thanks\", \"Thanks\", \"Thanks\", \"The Earth's Surface\", \"The Earth's Surface\", \"The Earth's Surface\", \"The Earth's Surface\", \"The Earth's Surface\", \"The Earth's Surface\", \"The Earth's Surface\", \"The Earth's Surface\", \"The Earth's Surface\", \"The Earth's Surface\", \"The Earth's Surface\", \"The Earth's Surface\", \"The Earth's Surface\", \"The Earth's Surface\", \"The Earth's Surface\", \"Thoroughfares: Roads, Streets, Paths, etc.\", \"Thoroughfares: Roads, Streets, Paths, etc.\", \"Thoroughfares: Roads, Streets, Paths, etc.\", \"Thoroughfares: Roads, Streets, Paths, etc.\", \"Throw, Hurl\", \"Throw, Hurl\", \"Throw, Hurl\", \"Throw, Hurl\", \"Throw, Hurl\", \"Throw, Hurl\", \"Throw, Hurl\", \"Throw, Hurl\", \"Thunder and Lightning\", \"Thunder and Lightning\", \"Thunder and Lightning\", \"Thunder and Lightning\", \"Thunder and Lightning\", \"Thunder and Lightning\", \"Thunder and Lightning\", \"Tire, Rest\", \"To Cause To Experience\", \"To Choose, To Select, To Prefer\", \"To Decide, To Conclude\", \"To Distinguish, To Evaluate, To Judge\", \"To Distinguish, To Evaluate, To Judge\", \"To Distinguish, To Evaluate, To Judge\", \"To Fight\", \"To Fight\", \"To Fight\", \"To Fight\", \"To Fight\", \"To Fight\", \"To Fight\", \"To Fight\", \"To Intend, To Purpose, To Plan\", \"To Intend, To Purpose, To Plan\", \"To Intend, To Purpose, To Plan\", \"Transparent\", \"Transparent\", \"Trees\", \"Trees\", \"Trees\", \"Trees\", \"Trees\", \"Trees\", \"Trees\", \"Trouble, Hardship, Distress\", \"Trouble, Hardship, Distress\", \"Trouble, Hardship, Distress\", \"Trouble, Hardship, Distress\", \"Trouble, Hardship, Distress\", \"Trouble, Hardship, Distress\", \"Trouble, Hardship, Distress\", \"Trouble, Hardship, Distress\", \"Trouble, Hardship, Distress\", \"Trouble, Hardship, Distress\", \"Trust, Rely\", \"Trust, Rely\", \"Trust, Rely\", \"Trust, Rely\", \"Trust, Rely\", \"Trust, Rely\", \"Try To Learn\", \"Try To Learn\", \"Two-Dimensional and Three-Dimensional Shapes\", \"Two-Dimensional and Three-Dimensional Shapes\", \"Two-Dimensional and Three-Dimensional Shapes\", \"Understand\", \"Understand\", \"Understand\", \"Universe, Creation\", \"Universe, Creation\", \"Universe, Creation\", \"Universe, Creation\", \"Universe, Creation\", \"Use of Liquids\", \"Use of Liquids\", \"Use of Liquids\", \"Valuable, Lacking in Value\", \"Valuable, Lacking in Value\", \"Valuable, Lacking in Value\", \"Vehicles\", \"Vehicles\", \"Walk, Step\", \"Walk, Step\", \"Walk, Step\", \"Walk, Step\", \"Walls and Fences\", \"Water\", \"Water\", \"Water\", \"Water\", \"Water\", \"Water\", \"Water\", \"Water\", \"Water\", \"Water\", \"Water\", \"Weapons and Armor\", \"Weapons and Armor\", \"Weapons and Armor\", \"Weapons and Armor\", \"Well Known, Clearly Shown, Revealed\", \"Well Known, Clearly Shown, Revealed\", \"Well Known, Clearly Shown, Revealed\", \"Well Known, Clearly Shown, Revealed\", \"Wet, Dry\", \"Where, Somewhere, Everywhere\", \"Where, Somewhere, Everywhere\", \"Where, Somewhere, Everywhere\", \"Where, Somewhere, Everywhere\", \"Where, Somewhere, Everywhere\", \"Whole\", \"Whole\", \"Whole\", \"Whole\", \"Whom or What Spoken or Written About\", \"Wind\", \"Wind\", \"Witness, Testify\", \"Witness, Testify\", \"Witness, Testify\", \"Witness, Testify\", \"Witness, Testify\", \"Witness, Testify\", \"Witness, Testify\", \"Witness, Testify\", \"Wood and Wood Products\", \"Wood and Wood Products\", \"Work, Toil\", \"Work, Toil\", \"Worry, Anxiety, Distress, Peace\", \"Worship, Reverence\", \"Worship, Reverence\", \"Worship, Reverence\", \"Worship, Reverence\", \"Worship, Reverence\", \"Worship, Reverence\", \"Worship, Reverence\", \"Worship, Reverence\", \"Worship, Reverence\", \"Worship, Reverence\", \"Worship, Reverence\", \"Worship, Reverence\", \"Worthy, Not Worthy\", \"Worthy, Not Worthy\", \"Worthy, Not Worthy\", \"Written Language\", \"Written Language\", \"Written Language\", \"Written Language\", \"Written Language\", \"Written Language\", \"Written Language\", \"Written Language\", \"Written Language\", \"Written Language\", \"Written Language\"]}, \"R\": 30, \"lambda.step\": 0.01, \"plot.opts\": {\"xlab\": \"PC1\", \"ylab\": \"PC2\"}, \"topic.order\": [17, 20, 6, 15, 13, 8, 10, 11, 18, 4, 7, 9, 5, 14, 16, 12, 3, 19, 2, 1]};\n",
              "\n",
              "function LDAvis_load_lib(url, callback){\n",
              "  var s = document.createElement('script');\n",
              "  s.src = url;\n",
              "  s.async = true;\n",
              "  s.onreadystatechange = s.onload = callback;\n",
              "  s.onerror = function(){console.warn(\"failed to load library \" + url);};\n",
              "  document.getElementsByTagName(\"head\")[0].appendChild(s);\n",
              "}\n",
              "\n",
              "if(typeof(LDAvis) !== \"undefined\"){\n",
              "   // already loaded: just create the visualization\n",
              "   !function(LDAvis){\n",
              "       new LDAvis(\"#\" + \"ldavis_el146139680528485728435754539\", ldavis_el146139680528485728435754539_data);\n",
              "   }(LDAvis);\n",
              "}else if(typeof define === \"function\" && define.amd){\n",
              "   // require.js is available: use it to load d3/LDAvis\n",
              "   require.config({paths: {d3: \"https://d3js.org/d3.v5\"}});\n",
              "   require([\"d3\"], function(d3){\n",
              "      window.d3 = d3;\n",
              "      LDAvis_load_lib(\"https://cdn.jsdelivr.net/gh/bmabey/pyLDAvis@3.4.0/pyLDAvis/js/ldavis.v3.0.0.js\", function(){\n",
              "        new LDAvis(\"#\" + \"ldavis_el146139680528485728435754539\", ldavis_el146139680528485728435754539_data);\n",
              "      });\n",
              "    });\n",
              "}else{\n",
              "    // require.js not available: dynamically load d3 & LDAvis\n",
              "    LDAvis_load_lib(\"https://d3js.org/d3.v5.js\", function(){\n",
              "         LDAvis_load_lib(\"https://cdn.jsdelivr.net/gh/bmabey/pyLDAvis@3.4.0/pyLDAvis/js/ldavis.v3.0.0.js\", function(){\n",
              "                 new LDAvis(\"#\" + \"ldavis_el146139680528485728435754539\", ldavis_el146139680528485728435754539_data);\n",
              "            })\n",
              "         });\n",
              "}\n",
              "</script>"
            ]
          },
          "metadata": {},
          "execution_count": 21
        }
      ],
      "source": [
        "# Visualize the topics using pyLDAvis\n",
        "vis = gensimvis.prepare(vis_model, vis_corpus, dictionary)\n",
        "pyLDAvis.display(vis)"
      ]
    },
    {
      "cell_type": "markdown",
      "metadata": {
        "id": "9yKEnKQqhUfJ"
      },
      "source": [
        "## Tuning the model ([source](https://radimrehurek.com/gensim/auto_examples/tutorials/run_ensemblelda.html#tuning))\n",
        "\n",
        "Different from `LdaModel`, the number of resulting topics varies greatly depending on the clustering parameters.\n",
        "\n",
        "You can provide those in the `recluster()` function or the `EnsembleLda` constructor.\n",
        "\n",
        "Play around until you get as many topics as you desire, which however may reduce their quality. If your ensemble doesn't have enough topics to begin with, you should make sure to make it large enough.\n",
        "\n",
        "Having an epsilon that is smaller than the smallest distance doesn't make sense. Make sure to chose one that is within the range of values in `asymmetric_distance_matrix`."
      ]
    },
    {
      "cell_type": "code",
      "execution_count": 22,
      "metadata": {
        "id": "Y0y0HHSchUfK",
        "colab": {
          "base_uri": "https://localhost:8080/"
        },
        "outputId": "931939bd-78c1-472e-e584-210421c6f282"
      },
      "outputs": [
        {
          "output_type": "stream",
          "name": "stderr",
          "text": [
            "/usr/local/lib/python3.9/dist-packages/ipykernel/ipkernel.py:283: DeprecationWarning: `should_run_async` will not call `transform_cell` automatically in the future. Please pass the result to `transformed_cell` argument and any exception that happen during thetransform in `preprocessing_exc_tuple` in IPython 7.17 and above.\n",
            "  and should_run_async(code)\n",
            "WARNING:gensim.models.ldamodel:too few updates, training might not converge; consider increasing the number of passes or iterations to improve accuracy\n"
          ]
        },
        {
          "output_type": "stream",
          "name": "stdout",
          "text": [
            "0.0 0.1790792123333801 0.8062827453350996\n",
            "19\n"
          ]
        }
      ],
      "source": [
        "import numpy as np\n",
        "shape = ensemble.asymmetric_distance_matrix.shape\n",
        "without_diagonal = ensemble.asymmetric_distance_matrix[~np.eye(shape[0], dtype=bool)].reshape(shape[0], -1)\n",
        "print(without_diagonal.min(), without_diagonal.mean(), without_diagonal.max())\n",
        "\n",
        "ensemble.recluster(eps=0.09, min_samples=2, min_cores=2)\n",
        "\n",
        "print(len(ensemble.get_topics()))"
      ]
    },
    {
      "cell_type": "code",
      "source": [],
      "metadata": {
        "id": "r1wtn7_2WfMZ"
      },
      "execution_count": null,
      "outputs": []
    }
  ],
  "metadata": {
    "colab": {
      "provenance": [],
      "include_colab_link": true
    },
    "kernelspec": {
      "display_name": "Python 3",
      "name": "python3"
    },
    "language_info": {
      "name": "python"
    }
  },
  "nbformat": 4,
  "nbformat_minor": 0
}