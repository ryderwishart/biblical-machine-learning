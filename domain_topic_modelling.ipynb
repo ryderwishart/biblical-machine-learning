{
  "cells": [
    {
      "cell_type": "markdown",
      "metadata": {
        "id": "view-in-github",
        "colab_type": "text"
      },
      "source": [
        "<a href=\"https://colab.research.google.com/github/ryderwishart/biblical-machine-learning/blob/main/domain_topic_modelling.ipynb\" target=\"_parent\"><img src=\"https://colab.research.google.com/assets/colab-badge.svg\" alt=\"Open In Colab\"/></a>"
      ]
    },
    {
      "cell_type": "code",
      "execution_count": 1,
      "metadata": {
        "colab": {
          "base_uri": "https://localhost:8080/"
        },
        "id": "BQyt8aMwcd3j",
        "outputId": "2caafbb2-84c0-4364-a90c-e133a2c76a6b"
      },
      "outputs": [
        {
          "output_type": "stream",
          "name": "stdout",
          "text": [
            "Looking in indexes: https://pypi.org/simple, https://us-python.pkg.dev/colab-wheels/public/simple/\n",
            "Collecting pyLDAvis\n",
            "  Downloading pyLDAvis-3.4.0-py3-none-any.whl (2.6 MB)\n",
            "\u001b[2K     \u001b[90m━━━━━━━━━━━━━━━━━━━━━━━━━━━━━━━━━━━━━━━━\u001b[0m \u001b[32m2.6/2.6 MB\u001b[0m \u001b[31m17.0 MB/s\u001b[0m eta \u001b[36m0:00:00\u001b[0m\n",
            "\u001b[?25hRequirement already satisfied: numpy>=1.22.0 in /usr/local/lib/python3.9/dist-packages (from pyLDAvis) (1.22.4)\n",
            "Requirement already satisfied: pandas>=1.3.4 in /usr/local/lib/python3.9/dist-packages (from pyLDAvis) (1.5.3)\n",
            "Requirement already satisfied: joblib>=1.2.0 in /usr/local/lib/python3.9/dist-packages (from pyLDAvis) (1.2.0)\n",
            "Requirement already satisfied: numexpr in /usr/local/lib/python3.9/dist-packages (from pyLDAvis) (2.8.4)\n",
            "Requirement already satisfied: jinja2 in /usr/local/lib/python3.9/dist-packages (from pyLDAvis) (3.1.2)\n",
            "Requirement already satisfied: scikit-learn>=1.0.0 in /usr/local/lib/python3.9/dist-packages (from pyLDAvis) (1.2.2)\n",
            "Requirement already satisfied: scipy in /usr/local/lib/python3.9/dist-packages (from pyLDAvis) (1.10.1)\n",
            "Requirement already satisfied: gensim in /usr/local/lib/python3.9/dist-packages (from pyLDAvis) (4.3.1)\n",
            "Collecting funcy\n",
            "  Downloading funcy-2.0-py2.py3-none-any.whl (30 kB)\n",
            "Requirement already satisfied: setuptools in /usr/local/lib/python3.9/dist-packages (from pyLDAvis) (67.6.1)\n",
            "Requirement already satisfied: pytz>=2020.1 in /usr/local/lib/python3.9/dist-packages (from pandas>=1.3.4->pyLDAvis) (2022.7.1)\n",
            "Requirement already satisfied: python-dateutil>=2.8.1 in /usr/local/lib/python3.9/dist-packages (from pandas>=1.3.4->pyLDAvis) (2.8.2)\n",
            "Requirement already satisfied: threadpoolctl>=2.0.0 in /usr/local/lib/python3.9/dist-packages (from scikit-learn>=1.0.0->pyLDAvis) (3.1.0)\n",
            "Requirement already satisfied: smart-open>=1.8.1 in /usr/local/lib/python3.9/dist-packages (from gensim->pyLDAvis) (6.3.0)\n",
            "Requirement already satisfied: MarkupSafe>=2.0 in /usr/local/lib/python3.9/dist-packages (from jinja2->pyLDAvis) (2.1.2)\n",
            "Requirement already satisfied: six>=1.5 in /usr/local/lib/python3.9/dist-packages (from python-dateutil>=2.8.1->pandas>=1.3.4->pyLDAvis) (1.16.0)\n",
            "Installing collected packages: funcy, pyLDAvis\n",
            "Successfully installed funcy-2.0 pyLDAvis-3.4.0\n",
            "Looking in indexes: https://pypi.org/simple, https://us-python.pkg.dev/colab-wheels/public/simple/\n",
            "Collecting gensim==4.3.0\n",
            "  Downloading gensim-4.3.0-cp39-cp39-manylinux_2_12_x86_64.manylinux2010_x86_64.whl (24.0 MB)\n",
            "\u001b[2K     \u001b[90m━━━━━━━━━━━━━━━━━━━━━━━━━━━━━━━━━━━━━━━━\u001b[0m \u001b[32m24.0/24.0 MB\u001b[0m \u001b[31m24.5 MB/s\u001b[0m eta \u001b[36m0:00:00\u001b[0m\n",
            "\u001b[?25hCollecting FuzzyTM>=0.4.0\n",
            "  Downloading FuzzyTM-2.0.5-py3-none-any.whl (29 kB)\n",
            "Requirement already satisfied: smart-open>=1.8.1 in /usr/local/lib/python3.9/dist-packages (from gensim==4.3.0) (6.3.0)\n",
            "Requirement already satisfied: scipy>=1.7.0 in /usr/local/lib/python3.9/dist-packages (from gensim==4.3.0) (1.10.1)\n",
            "Requirement already satisfied: numpy>=1.18.5 in /usr/local/lib/python3.9/dist-packages (from gensim==4.3.0) (1.22.4)\n",
            "Requirement already satisfied: pandas in /usr/local/lib/python3.9/dist-packages (from FuzzyTM>=0.4.0->gensim==4.3.0) (1.5.3)\n",
            "Collecting pyfume\n",
            "  Downloading pyFUME-0.2.25-py3-none-any.whl (67 kB)\n",
            "\u001b[2K     \u001b[90m━━━━━━━━━━━━━━━━━━━━━━━━━━━━━━━━━━━━━━━━\u001b[0m \u001b[32m67.1/67.1 kB\u001b[0m \u001b[31m3.0 MB/s\u001b[0m eta \u001b[36m0:00:00\u001b[0m\n",
            "\u001b[?25hRequirement already satisfied: python-dateutil>=2.8.1 in /usr/local/lib/python3.9/dist-packages (from pandas->FuzzyTM>=0.4.0->gensim==4.3.0) (2.8.2)\n",
            "Requirement already satisfied: pytz>=2020.1 in /usr/local/lib/python3.9/dist-packages (from pandas->FuzzyTM>=0.4.0->gensim==4.3.0) (2022.7.1)\n",
            "Collecting simpful\n",
            "  Downloading simpful-2.10.0-py3-none-any.whl (31 kB)\n",
            "Collecting fst-pso\n",
            "  Downloading fst-pso-1.8.1.tar.gz (18 kB)\n",
            "  Preparing metadata (setup.py) ... \u001b[?25l\u001b[?25hdone\n",
            "Requirement already satisfied: six>=1.5 in /usr/local/lib/python3.9/dist-packages (from python-dateutil>=2.8.1->pandas->FuzzyTM>=0.4.0->gensim==4.3.0) (1.16.0)\n",
            "Collecting miniful\n",
            "  Downloading miniful-0.0.6.tar.gz (2.8 kB)\n",
            "  Preparing metadata (setup.py) ... \u001b[?25l\u001b[?25hdone\n",
            "Requirement already satisfied: requests in /usr/local/lib/python3.9/dist-packages (from simpful->pyfume->FuzzyTM>=0.4.0->gensim==4.3.0) (2.27.1)\n",
            "Requirement already satisfied: urllib3<1.27,>=1.21.1 in /usr/local/lib/python3.9/dist-packages (from requests->simpful->pyfume->FuzzyTM>=0.4.0->gensim==4.3.0) (1.26.15)\n",
            "Requirement already satisfied: charset-normalizer~=2.0.0 in /usr/local/lib/python3.9/dist-packages (from requests->simpful->pyfume->FuzzyTM>=0.4.0->gensim==4.3.0) (2.0.12)\n",
            "Requirement already satisfied: idna<4,>=2.5 in /usr/local/lib/python3.9/dist-packages (from requests->simpful->pyfume->FuzzyTM>=0.4.0->gensim==4.3.0) (3.4)\n",
            "Requirement already satisfied: certifi>=2017.4.17 in /usr/local/lib/python3.9/dist-packages (from requests->simpful->pyfume->FuzzyTM>=0.4.0->gensim==4.3.0) (2022.12.7)\n",
            "Building wheels for collected packages: fst-pso, miniful\n",
            "  Building wheel for fst-pso (setup.py) ... \u001b[?25l\u001b[?25hdone\n",
            "  Created wheel for fst-pso: filename=fst_pso-1.8.1-py3-none-any.whl size=20444 sha256=792d9e1b6f2192b1bc9a7821536e021d377620251492f3acf75954134d04d44d\n",
            "  Stored in directory: /root/.cache/pip/wheels/99/66/48/d7ce0c6927f6abf167bbcdee537affc7b92c03632f78028411\n",
            "  Building wheel for miniful (setup.py) ... \u001b[?25l\u001b[?25hdone\n",
            "  Created wheel for miniful: filename=miniful-0.0.6-py3-none-any.whl size=3529 sha256=d819620b6e3457842b11bee0071bab65034b87589b175cf66ffdcb74a7a8ea0a\n",
            "  Stored in directory: /root/.cache/pip/wheels/d9/c7/71/db1d4646d963b34c530667501d3d6f34c0825eaffae2f0f2cb\n",
            "Successfully built fst-pso miniful\n",
            "Installing collected packages: simpful, miniful, fst-pso, pyfume, FuzzyTM, gensim\n",
            "  Attempting uninstall: gensim\n",
            "    Found existing installation: gensim 4.3.1\n",
            "    Uninstalling gensim-4.3.1:\n",
            "      Successfully uninstalled gensim-4.3.1\n",
            "Successfully installed FuzzyTM-2.0.5 fst-pso-1.8.1 gensim-4.3.0 miniful-0.0.6 pyfume-0.2.25 simpful-2.10.0\n",
            "Looking in indexes: https://pypi.org/simple, https://us-python.pkg.dev/colab-wheels/public/simple/\n",
            "Requirement already satisfied: pandas in /usr/local/lib/python3.9/dist-packages (1.5.3)\n",
            "Requirement already satisfied: python-dateutil>=2.8.1 in /usr/local/lib/python3.9/dist-packages (from pandas) (2.8.2)\n",
            "Requirement already satisfied: numpy>=1.20.3 in /usr/local/lib/python3.9/dist-packages (from pandas) (1.22.4)\n",
            "Requirement already satisfied: pytz>=2020.1 in /usr/local/lib/python3.9/dist-packages (from pandas) (2022.7.1)\n",
            "Requirement already satisfied: six>=1.5 in /usr/local/lib/python3.9/dist-packages (from python-dateutil>=2.8.1->pandas) (1.16.0)\n"
          ]
        }
      ],
      "source": [
        "!pip install pyLDAvis\n",
        "!pip install gensim==4.3.0\n",
        "!pip install pandas"
      ]
    },
    {
      "cell_type": "markdown",
      "metadata": {
        "id": "iAtVZHrlco6O"
      },
      "source": [
        "## Imports"
      ]
    },
    {
      "cell_type": "code",
      "execution_count": 2,
      "metadata": {
        "id": "0HMGZN75cr2M"
      },
      "outputs": [],
      "source": [
        "from gensim import corpora\n",
        "from gensim.models import CoherenceModel, LdaModel\n",
        "from gensim.models import EnsembleLda\n",
        "from gensim.corpora import Dictionary\n",
        "from collections import Counter\n",
        "import pyLDAvis.gensim_models as gensimvis\n",
        "import pyLDAvis\n",
        "import os\n",
        "import codecs\n",
        "import pandas as pd"
      ]
    },
    {
      "cell_type": "markdown",
      "metadata": {
        "id": "jf9ufdZ9eZ-k"
      },
      "source": [
        "## Build Corpus"
      ]
    },
    {
      "cell_type": "code",
      "source": [
        "if 'macula-greek.tsv' not in [path for path in os.listdir()]:\n",
        "    !wget -q 'https://raw.githubusercontent.com/Clear-Bible/macula-greek/main/Nestle1904/TSV/macula-greek.tsv'\n",
        "if 'marble-domain-label-mapping.json' not in [path for path in os.listdir()]:\n",
        "    !wget -q 'https://raw.githubusercontent.com/Clear-Bible/macula-greek/main/sources/MARBLE/SDBG/marble-domain-label-mapping.json'"
      ],
      "metadata": {
        "id": "zGHbSUYD_K8a",
        "outputId": "9e27f318-5594-40af-8085-6eb051d33aa3",
        "colab": {
          "base_uri": "https://localhost:8080/"
        }
      },
      "execution_count": 3,
      "outputs": [
        {
          "output_type": "stream",
          "name": "stderr",
          "text": [
            "/usr/local/lib/python3.9/dist-packages/ipykernel/ipkernel.py:283: DeprecationWarning: `should_run_async` will not call `transform_cell` automatically in the future. Please pass the result to `transformed_cell` argument and any exception that happen during thetransform in `preprocessing_exc_tuple` in IPython 7.17 and above.\n",
            "  and should_run_async(code)\n"
          ]
        }
      ]
    },
    {
      "cell_type": "code",
      "execution_count": 4,
      "metadata": {
        "id": "CtUz3kg5cuFe",
        "colab": {
          "base_uri": "https://localhost:8080/"
        },
        "outputId": "69fe3a19-4c72-450f-813c-06a216e07f34"
      },
      "outputs": [
        {
          "output_type": "stream",
          "name": "stderr",
          "text": [
            "/usr/local/lib/python3.9/dist-packages/ipykernel/ipkernel.py:283: DeprecationWarning: `should_run_async` will not call `transform_cell` automatically in the future. Please pass the result to `transformed_cell` argument and any exception that happen during thetransform in `preprocessing_exc_tuple` in IPython 7.17 and above.\n",
            "  and should_run_async(code)\n"
          ]
        },
        {
          "output_type": "execute_result",
          "data": {
            "text/plain": [
              "['.config',\n",
              " 'macula-greek.tsv',\n",
              " 'marble-domain-label-mapping.json',\n",
              " 'sample_data']"
            ]
          },
          "metadata": {},
          "execution_count": 4
        }
      ],
      "source": [
        "os.listdir()"
      ]
    },
    {
      "cell_type": "code",
      "source": [
        "# Import Macula Greek data\n",
        "mg = pd.read_csv('macula-greek.tsv', sep='\\t', header=0, dtype='str')\n",
        "mg['domain'] = mg['domain'].astype(str).fillna('missing')\n",
        "\n",
        "# Extract book, chapter, and verse into separate columns\n",
        "mg[['book', 'chapter', 'verse']] = mg['ref'].str.extract(r'(\\d?[A-Z]+)\\s(\\d+):(\\d+)')\n",
        "\n",
        "# Add columns for book + chapter, and book + chapter + verse for easier grouping\n",
        "mg['book_chapter'] = mg['book'] + ' ' + mg['chapter'].astype(str)\n",
        "mg['book_chapter_verse'] = mg['book_chapter'] + ':' + mg['verse'].astype(str)\n",
        "\n",
        "# Display the updated data frame\n",
        "mg.head()"
      ],
      "metadata": {
        "colab": {
          "base_uri": "https://localhost:8080/",
          "height": 422
        },
        "id": "zfcFUhrl87Xy",
        "outputId": "77d26c9f-434c-4049-edfe-769401343cec"
      },
      "execution_count": 5,
      "outputs": [
        {
          "output_type": "stream",
          "name": "stderr",
          "text": [
            "/usr/local/lib/python3.9/dist-packages/ipykernel/ipkernel.py:283: DeprecationWarning: `should_run_async` will not call `transform_cell` automatically in the future. Please pass the result to `transformed_cell` argument and any exception that happen during thetransform in `preprocessing_exc_tuple` in IPython 7.17 and above.\n",
            "  and should_run_async(code)\n"
          ]
        },
        {
          "output_type": "execute_result",
          "data": {
            "text/plain": [
              "         xml:id        ref role class    type               gloss      text  \\\n",
              "0  n40001001001  MAT 1:1!1  NaN  noun  common          [The] book    Βίβλος   \n",
              "1  n40001001002  MAT 1:1!2  NaN  noun  common  of [the] genealogy  γενέσεως   \n",
              "2  n40001001003  MAT 1:1!3  NaN  noun  proper            of Jesus     Ἰησοῦ   \n",
              "3  n40001001004  MAT 1:1!4  NaN  noun  proper              Christ   Χριστοῦ   \n",
              "4  n40001001005  MAT 1:1!5  NaN  noun  common                 son      υἱοῦ   \n",
              "\n",
              "  after    lemma normalized  ...         domain           ln frame subjref  \\\n",
              "0         βίβλος     Βίβλος  ...         033005        33.38   NaN     NaN   \n",
              "1        γένεσις   γενέσεως  ...  010002 033003  10.24 33.19   NaN     NaN   \n",
              "2         Ἰησοῦς      Ἰησοῦ  ...         093001      93.169a   NaN     NaN   \n",
              "3        Χριστός    Χριστοῦ  ...         093001       93.387   NaN     NaN   \n",
              "4           υἱός       υἱοῦ  ...         010002        10.30   NaN     NaN   \n",
              "\n",
              "  referent book chapter verse book_chapter book_chapter_verse  \n",
              "0      NaN  MAT       1     1        MAT 1            MAT 1:1  \n",
              "1      NaN  MAT       1     1        MAT 1            MAT 1:1  \n",
              "2      NaN  MAT       1     1        MAT 1            MAT 1:1  \n",
              "3      NaN  MAT       1     1        MAT 1            MAT 1:1  \n",
              "4      NaN  MAT       1     1        MAT 1            MAT 1:1  \n",
              "\n",
              "[5 rows x 30 columns]"
            ],
            "text/html": [
              "\n",
              "  <div id=\"df-e4a3608d-f56b-4065-b511-b6789d7bd6fd\">\n",
              "    <div class=\"colab-df-container\">\n",
              "      <div>\n",
              "<style scoped>\n",
              "    .dataframe tbody tr th:only-of-type {\n",
              "        vertical-align: middle;\n",
              "    }\n",
              "\n",
              "    .dataframe tbody tr th {\n",
              "        vertical-align: top;\n",
              "    }\n",
              "\n",
              "    .dataframe thead th {\n",
              "        text-align: right;\n",
              "    }\n",
              "</style>\n",
              "<table border=\"1\" class=\"dataframe\">\n",
              "  <thead>\n",
              "    <tr style=\"text-align: right;\">\n",
              "      <th></th>\n",
              "      <th>xml:id</th>\n",
              "      <th>ref</th>\n",
              "      <th>role</th>\n",
              "      <th>class</th>\n",
              "      <th>type</th>\n",
              "      <th>gloss</th>\n",
              "      <th>text</th>\n",
              "      <th>after</th>\n",
              "      <th>lemma</th>\n",
              "      <th>normalized</th>\n",
              "      <th>...</th>\n",
              "      <th>domain</th>\n",
              "      <th>ln</th>\n",
              "      <th>frame</th>\n",
              "      <th>subjref</th>\n",
              "      <th>referent</th>\n",
              "      <th>book</th>\n",
              "      <th>chapter</th>\n",
              "      <th>verse</th>\n",
              "      <th>book_chapter</th>\n",
              "      <th>book_chapter_verse</th>\n",
              "    </tr>\n",
              "  </thead>\n",
              "  <tbody>\n",
              "    <tr>\n",
              "      <th>0</th>\n",
              "      <td>n40001001001</td>\n",
              "      <td>MAT 1:1!1</td>\n",
              "      <td>NaN</td>\n",
              "      <td>noun</td>\n",
              "      <td>common</td>\n",
              "      <td>[The] book</td>\n",
              "      <td>Βίβλος</td>\n",
              "      <td></td>\n",
              "      <td>βίβλος</td>\n",
              "      <td>Βίβλος</td>\n",
              "      <td>...</td>\n",
              "      <td>033005</td>\n",
              "      <td>33.38</td>\n",
              "      <td>NaN</td>\n",
              "      <td>NaN</td>\n",
              "      <td>NaN</td>\n",
              "      <td>MAT</td>\n",
              "      <td>1</td>\n",
              "      <td>1</td>\n",
              "      <td>MAT 1</td>\n",
              "      <td>MAT 1:1</td>\n",
              "    </tr>\n",
              "    <tr>\n",
              "      <th>1</th>\n",
              "      <td>n40001001002</td>\n",
              "      <td>MAT 1:1!2</td>\n",
              "      <td>NaN</td>\n",
              "      <td>noun</td>\n",
              "      <td>common</td>\n",
              "      <td>of [the] genealogy</td>\n",
              "      <td>γενέσεως</td>\n",
              "      <td></td>\n",
              "      <td>γένεσις</td>\n",
              "      <td>γενέσεως</td>\n",
              "      <td>...</td>\n",
              "      <td>010002 033003</td>\n",
              "      <td>10.24 33.19</td>\n",
              "      <td>NaN</td>\n",
              "      <td>NaN</td>\n",
              "      <td>NaN</td>\n",
              "      <td>MAT</td>\n",
              "      <td>1</td>\n",
              "      <td>1</td>\n",
              "      <td>MAT 1</td>\n",
              "      <td>MAT 1:1</td>\n",
              "    </tr>\n",
              "    <tr>\n",
              "      <th>2</th>\n",
              "      <td>n40001001003</td>\n",
              "      <td>MAT 1:1!3</td>\n",
              "      <td>NaN</td>\n",
              "      <td>noun</td>\n",
              "      <td>proper</td>\n",
              "      <td>of Jesus</td>\n",
              "      <td>Ἰησοῦ</td>\n",
              "      <td></td>\n",
              "      <td>Ἰησοῦς</td>\n",
              "      <td>Ἰησοῦ</td>\n",
              "      <td>...</td>\n",
              "      <td>093001</td>\n",
              "      <td>93.169a</td>\n",
              "      <td>NaN</td>\n",
              "      <td>NaN</td>\n",
              "      <td>NaN</td>\n",
              "      <td>MAT</td>\n",
              "      <td>1</td>\n",
              "      <td>1</td>\n",
              "      <td>MAT 1</td>\n",
              "      <td>MAT 1:1</td>\n",
              "    </tr>\n",
              "    <tr>\n",
              "      <th>3</th>\n",
              "      <td>n40001001004</td>\n",
              "      <td>MAT 1:1!4</td>\n",
              "      <td>NaN</td>\n",
              "      <td>noun</td>\n",
              "      <td>proper</td>\n",
              "      <td>Christ</td>\n",
              "      <td>Χριστοῦ</td>\n",
              "      <td></td>\n",
              "      <td>Χριστός</td>\n",
              "      <td>Χριστοῦ</td>\n",
              "      <td>...</td>\n",
              "      <td>093001</td>\n",
              "      <td>93.387</td>\n",
              "      <td>NaN</td>\n",
              "      <td>NaN</td>\n",
              "      <td>NaN</td>\n",
              "      <td>MAT</td>\n",
              "      <td>1</td>\n",
              "      <td>1</td>\n",
              "      <td>MAT 1</td>\n",
              "      <td>MAT 1:1</td>\n",
              "    </tr>\n",
              "    <tr>\n",
              "      <th>4</th>\n",
              "      <td>n40001001005</td>\n",
              "      <td>MAT 1:1!5</td>\n",
              "      <td>NaN</td>\n",
              "      <td>noun</td>\n",
              "      <td>common</td>\n",
              "      <td>son</td>\n",
              "      <td>υἱοῦ</td>\n",
              "      <td></td>\n",
              "      <td>υἱός</td>\n",
              "      <td>υἱοῦ</td>\n",
              "      <td>...</td>\n",
              "      <td>010002</td>\n",
              "      <td>10.30</td>\n",
              "      <td>NaN</td>\n",
              "      <td>NaN</td>\n",
              "      <td>NaN</td>\n",
              "      <td>MAT</td>\n",
              "      <td>1</td>\n",
              "      <td>1</td>\n",
              "      <td>MAT 1</td>\n",
              "      <td>MAT 1:1</td>\n",
              "    </tr>\n",
              "  </tbody>\n",
              "</table>\n",
              "<p>5 rows × 30 columns</p>\n",
              "</div>\n",
              "      <button class=\"colab-df-convert\" onclick=\"convertToInteractive('df-e4a3608d-f56b-4065-b511-b6789d7bd6fd')\"\n",
              "              title=\"Convert this dataframe to an interactive table.\"\n",
              "              style=\"display:none;\">\n",
              "        \n",
              "  <svg xmlns=\"http://www.w3.org/2000/svg\" height=\"24px\"viewBox=\"0 0 24 24\"\n",
              "       width=\"24px\">\n",
              "    <path d=\"M0 0h24v24H0V0z\" fill=\"none\"/>\n",
              "    <path d=\"M18.56 5.44l.94 2.06.94-2.06 2.06-.94-2.06-.94-.94-2.06-.94 2.06-2.06.94zm-11 1L8.5 8.5l.94-2.06 2.06-.94-2.06-.94L8.5 2.5l-.94 2.06-2.06.94zm10 10l.94 2.06.94-2.06 2.06-.94-2.06-.94-.94-2.06-.94 2.06-2.06.94z\"/><path d=\"M17.41 7.96l-1.37-1.37c-.4-.4-.92-.59-1.43-.59-.52 0-1.04.2-1.43.59L10.3 9.45l-7.72 7.72c-.78.78-.78 2.05 0 2.83L4 21.41c.39.39.9.59 1.41.59.51 0 1.02-.2 1.41-.59l7.78-7.78 2.81-2.81c.8-.78.8-2.07 0-2.86zM5.41 20L4 18.59l7.72-7.72 1.47 1.35L5.41 20z\"/>\n",
              "  </svg>\n",
              "      </button>\n",
              "      \n",
              "  <style>\n",
              "    .colab-df-container {\n",
              "      display:flex;\n",
              "      flex-wrap:wrap;\n",
              "      gap: 12px;\n",
              "    }\n",
              "\n",
              "    .colab-df-convert {\n",
              "      background-color: #E8F0FE;\n",
              "      border: none;\n",
              "      border-radius: 50%;\n",
              "      cursor: pointer;\n",
              "      display: none;\n",
              "      fill: #1967D2;\n",
              "      height: 32px;\n",
              "      padding: 0 0 0 0;\n",
              "      width: 32px;\n",
              "    }\n",
              "\n",
              "    .colab-df-convert:hover {\n",
              "      background-color: #E2EBFA;\n",
              "      box-shadow: 0px 1px 2px rgba(60, 64, 67, 0.3), 0px 1px 3px 1px rgba(60, 64, 67, 0.15);\n",
              "      fill: #174EA6;\n",
              "    }\n",
              "\n",
              "    [theme=dark] .colab-df-convert {\n",
              "      background-color: #3B4455;\n",
              "      fill: #D2E3FC;\n",
              "    }\n",
              "\n",
              "    [theme=dark] .colab-df-convert:hover {\n",
              "      background-color: #434B5C;\n",
              "      box-shadow: 0px 1px 3px 1px rgba(0, 0, 0, 0.15);\n",
              "      filter: drop-shadow(0px 1px 2px rgba(0, 0, 0, 0.3));\n",
              "      fill: #FFFFFF;\n",
              "    }\n",
              "  </style>\n",
              "\n",
              "      <script>\n",
              "        const buttonEl =\n",
              "          document.querySelector('#df-e4a3608d-f56b-4065-b511-b6789d7bd6fd button.colab-df-convert');\n",
              "        buttonEl.style.display =\n",
              "          google.colab.kernel.accessAllowed ? 'block' : 'none';\n",
              "\n",
              "        async function convertToInteractive(key) {\n",
              "          const element = document.querySelector('#df-e4a3608d-f56b-4065-b511-b6789d7bd6fd');\n",
              "          const dataTable =\n",
              "            await google.colab.kernel.invokeFunction('convertToInteractive',\n",
              "                                                     [key], {});\n",
              "          if (!dataTable) return;\n",
              "\n",
              "          const docLinkHtml = 'Like what you see? Visit the ' +\n",
              "            '<a target=\"_blank\" href=https://colab.research.google.com/notebooks/data_table.ipynb>data table notebook</a>'\n",
              "            + ' to learn more about interactive tables.';\n",
              "          element.innerHTML = '';\n",
              "          dataTable['output_type'] = 'display_data';\n",
              "          await google.colab.output.renderOutput(dataTable, element);\n",
              "          const docLink = document.createElement('div');\n",
              "          docLink.innerHTML = docLinkHtml;\n",
              "          element.appendChild(docLink);\n",
              "        }\n",
              "      </script>\n",
              "    </div>\n",
              "  </div>\n",
              "  "
            ]
          },
          "metadata": {},
          "execution_count": 5
        }
      ]
    },
    {
      "cell_type": "code",
      "source": [
        "# Import domain-label mapping\n",
        "import json\n",
        "\n",
        "# Open the JSON file\n",
        "with open('marble-domain-label-mapping.json', 'r') as f:\n",
        "\n",
        "    # Load the contents of the file as a dictionary\n",
        "    domain_labels = json.load(f)\n",
        "\n",
        "domain_labels['missing'] = 'no domain'\n",
        "\n",
        "# Display the resulting dictionary\n",
        "count = 0\n",
        "for d, l in domain_labels.items():\n",
        "    print(d, l)\n",
        "    if count > 5:\n",
        "        break\n",
        "    count += 1"
      ],
      "metadata": {
        "colab": {
          "base_uri": "https://localhost:8080/"
        },
        "id": "Aqu1upkw_4UA",
        "outputId": "4bcb664a-26c6-44cc-fe46-009ca301ec40"
      },
      "execution_count": 6,
      "outputs": [
        {
          "output_type": "stream",
          "name": "stdout",
          "text": [
            "001 Geographical Objects and Features\n",
            "001001 Universe, Creation\n",
            "001002 Regions Above the Earth\n",
            "001003 Regions Below the Surface of the Earth\n",
            "001004 Heavenly Bodies\n",
            "001005 Atmospheric Objects\n",
            "001006 The Earth's Surface\n"
          ]
        },
        {
          "output_type": "stream",
          "name": "stderr",
          "text": [
            "/usr/local/lib/python3.9/dist-packages/ipykernel/ipkernel.py:283: DeprecationWarning: `should_run_async` will not call `transform_cell` automatically in the future. Please pass the result to `transformed_cell` argument and any exception that happen during thetransform in `preprocessing_exc_tuple` in IPython 7.17 and above.\n",
            "  and should_run_async(code)\n"
          ]
        }
      ]
    },
    {
      "cell_type": "markdown",
      "source": [
        "Let's filter out stopwords using a list from [Perseus](https://wiki.digitalclassicist.org/Stopwords_for_Greek_and_Latin)."
      ],
      "metadata": {
        "id": "HCU3A6Nuownp"
      }
    },
    {
      "cell_type": "code",
      "source": [
        "perseus_stopwords = \"μή, ἑαυτοῦ, ἄν, ἀλλ', ἀλλά, ἄλλος, ἀπό, ἄρα, αὐτός, δ', δέ, δή, διά, δαί, δαίς, ἔτι, ἐγώ, ἐκ, ἐμός, ἐν, ἐπί, εἰ, εἰμί, εἴμι, εἰς, γάρ, γε, γα, ἡ, ἤ, καί, κατά, μέν, μετά, μή, ὁ, ὅδε, ὅς, ὅστις, ὅτι, οὕτως, οὗτος, οὔτε, οὖν, οὐδείς, οἱ, οὐ, οὐδέ, οὐκ, περί, πρός, σύ, σύν, τά, τε, τήν, τῆς, τῇ, τι, τί, τις, τίς, τό, τοί, τοιοῦτος, τόν, τούς, τοῦ, τῶν, τῷ, ὑμός, ὑπέρ, ὑπό, ὡς, ὦ, ὥστε, ἐάν, παρά, σός\".split(', ')\n",
        "perseus_stopwords += \"συ\".split(' ')\n",
        "# filter the DataFrame to exclude rows with class values in the exclude_list\n",
        "filtered_mg = mg[~mg['normalized'].isin(perseus_stopwords)] # Check normalized forms\n",
        "filtered_mg = filtered_mg[~filtered_mg['lemma'].isin(perseus_stopwords)] # Check lemmas\n",
        "difference = len(mg) - len(filtered_mg)\n",
        "print(f'{difference} rows removed using stopwords')\n",
        "# Also exclude certain parts of speech\n",
        "pos_exclude_list = ['det', 'prep', 'pron', 'conj', 'ptcl']\n",
        "cur_len = len(filtered_mg)\n",
        "filtered_mg = filtered_mg[~filtered_mg['class'].isin(pos_exclude_list)]\n",
        "print(f'{cur_len - len(filtered_mg)} more rows removed using parts of speech')"
      ],
      "metadata": {
        "colab": {
          "base_uri": "https://localhost:8080/"
        },
        "id": "PEjtcEBpQgB_",
        "outputId": "c269b979-8d9f-407d-cb3a-1a762e5418d1"
      },
      "execution_count": 7,
      "outputs": [
        {
          "output_type": "stream",
          "name": "stderr",
          "text": [
            "/usr/local/lib/python3.9/dist-packages/ipykernel/ipkernel.py:283: DeprecationWarning: `should_run_async` will not call `transform_cell` automatically in the future. Please pass the result to `transformed_cell` argument and any exception that happen during thetransform in `preprocessing_exc_tuple` in IPython 7.17 and above.\n",
            "  and should_run_async(code)\n"
          ]
        },
        {
          "output_type": "stream",
          "name": "stdout",
          "text": [
            "69098 rows removed using stopwords\n",
            "3462 more rows removed using parts of speech\n"
          ]
        }
      ]
    },
    {
      "cell_type": "code",
      "source": [
        "assert filtered_mg['lemma'].isin(perseus_stopwords).unique() == [False]"
      ],
      "metadata": {
        "id": "6Zxv9mRi7M1y",
        "outputId": "45686f56-c59a-45d3-d60f-da68d42799f8",
        "colab": {
          "base_uri": "https://localhost:8080/"
        }
      },
      "execution_count": 8,
      "outputs": [
        {
          "output_type": "stream",
          "name": "stderr",
          "text": [
            "/usr/local/lib/python3.9/dist-packages/ipykernel/ipkernel.py:283: DeprecationWarning: `should_run_async` will not call `transform_cell` automatically in the future. Please pass the result to `transformed_cell` argument and any exception that happen during thetransform in `preprocessing_exc_tuple` in IPython 7.17 and above.\n",
            "  and should_run_async(code)\n"
          ]
        }
      ]
    },
    {
      "cell_type": "markdown",
      "source": [
        "Create an ensemble topic model for each book of the New Testament, using lemmas and ignoring stopwords."
      ],
      "metadata": {
        "id": "rG9wANH7RLzS"
      }
    },
    {
      "cell_type": "code",
      "source": [
        "book_domains = {}  # Initialize a dictionary to hold the corpora for each book\n",
        "\n",
        "def get_label(domainstr):\n",
        "    if type(domainstr) != float: \n",
        "        first_domain = ''.join(domainstr.split()[0])\n",
        "        try:\n",
        "            return domain_labels[first_domain]\n",
        "        except KeyError:\n",
        "            return 'missing'\n",
        "    else:\n",
        "        return 'missing'\n",
        "\n",
        "def get_domains(group):\n",
        "    return group['domain'].apply(get_label).values.tolist()\n",
        "\n",
        "all_domains = []\n",
        "\n",
        "for book in filtered_mg['book'].unique():  # Loop over unique books in the dataframe\n",
        "    print(f'Processing {book}...')\n",
        "    book_df = filtered_mg[filtered_mg['book'] == book]  # Filter the dataframe for the current book\n",
        "    corpus = []  # Initialize an empty list to hold the tokens for the current book\n",
        "    grouped = book_df.groupby('book_chapter').apply(get_domains)\n",
        "    # Loop over rows in the filtered dataframe\n",
        "    for chapter in grouped:  \n",
        "        corpus += [[str(value) for value in chapter if value != 'missing']]  # Add the tokens to the corpus for the current book\n",
        "        all_domains += [[str(value) for value in chapter if value != 'missing']]\n",
        "    book_domains[book] = corpus  # Add the corpus for the current book to the dictionary"
      ],
      "metadata": {
        "colab": {
          "base_uri": "https://localhost:8080/"
        },
        "id": "m7LNsRIpRLja",
        "outputId": "699df98c-1473-4adc-f6c5-527774956ee1"
      },
      "execution_count": 9,
      "outputs": [
        {
          "output_type": "stream",
          "name": "stdout",
          "text": [
            "Processing MAT...\n",
            "Processing MRK...\n"
          ]
        },
        {
          "output_type": "stream",
          "name": "stderr",
          "text": [
            "/usr/local/lib/python3.9/dist-packages/ipykernel/ipkernel.py:283: DeprecationWarning: `should_run_async` will not call `transform_cell` automatically in the future. Please pass the result to `transformed_cell` argument and any exception that happen during thetransform in `preprocessing_exc_tuple` in IPython 7.17 and above.\n",
            "  and should_run_async(code)\n"
          ]
        },
        {
          "output_type": "stream",
          "name": "stdout",
          "text": [
            "Processing LUK...\n",
            "Processing JHN...\n",
            "Processing ACT...\n",
            "Processing ROM...\n",
            "Processing 1CO...\n",
            "Processing 2CO...\n",
            "Processing GAL...\n",
            "Processing EPH...\n",
            "Processing PHP...\n",
            "Processing COL...\n",
            "Processing 1TH...\n",
            "Processing 2TH...\n",
            "Processing 1TI...\n",
            "Processing 2TI...\n",
            "Processing TIT...\n",
            "Processing PHM...\n",
            "Processing HEB...\n",
            "Processing JAS...\n",
            "Processing 1PE...\n",
            "Processing 2PE...\n",
            "Processing 1JN...\n",
            "Processing 2JN...\n",
            "Processing 3JN...\n",
            "Processing JUD...\n",
            "Processing REV...\n"
          ]
        }
      ]
    },
    {
      "cell_type": "code",
      "source": [
        "# Create a dictionary for all words in each corpus\n",
        "dictionary = corpora.Dictionary(all_domains)\n",
        "dictionary\n"
      ],
      "metadata": {
        "colab": {
          "base_uri": "https://localhost:8080/"
        },
        "id": "Qm8uZJBsg41p",
        "outputId": "59103f7b-26b4-4ed6-8f4c-62634d1e54f9"
      },
      "execution_count": 10,
      "outputs": [
        {
          "output_type": "stream",
          "name": "stderr",
          "text": [
            "/usr/local/lib/python3.9/dist-packages/ipykernel/ipkernel.py:283: DeprecationWarning: `should_run_async` will not call `transform_cell` automatically in the future. Please pass the result to `transformed_cell` argument and any exception that happen during thetransform in `preprocessing_exc_tuple` in IPython 7.17 and above.\n",
            "  and should_run_async(code)\n"
          ]
        },
        {
          "output_type": "execute_result",
          "data": {
            "text/plain": [
              "<gensim.corpora.dictionary.Dictionary at 0x7fa80317a760>"
            ]
          },
          "metadata": {},
          "execution_count": 10
        }
      ]
    },
    {
      "cell_type": "code",
      "source": [
        "models = dict()\n",
        "\n",
        "for book, domains in book_domains.items():\n",
        "    for d in domains:\n",
        "        for e in d:\n",
        "            if type(e) != str:\n",
        "                print(d)\n",
        "    models[book] = {\n",
        "        'corpus': [dictionary.doc2bow(chapter) for chapter in domains], \n",
        "        'model': None \n",
        "    }"
      ],
      "metadata": {
        "id": "-3pY5YzyVr_E",
        "outputId": "3b6b33f9-e859-4be5-e8c9-5d36773389b9",
        "colab": {
          "base_uri": "https://localhost:8080/"
        }
      },
      "execution_count": 11,
      "outputs": [
        {
          "output_type": "stream",
          "name": "stderr",
          "text": [
            "/usr/local/lib/python3.9/dist-packages/ipykernel/ipkernel.py:283: DeprecationWarning: `should_run_async` will not call `transform_cell` automatically in the future. Please pass the result to `transformed_cell` argument and any exception that happen during thetransform in `preprocessing_exc_tuple` in IPython 7.17 and above.\n",
            "  and should_run_async(code)\n"
          ]
        }
      ]
    },
    {
      "cell_type": "markdown",
      "metadata": {
        "id": "kicH2ZcghUfH"
      },
      "source": [
        "## Train LDA Model"
      ]
    },
    {
      "cell_type": "code",
      "execution_count": 12,
      "metadata": {
        "id": "j-pbQUqphUfI",
        "outputId": "6d7ab50f-3fee-43a7-f627-a7b6c7c94706",
        "colab": {
          "base_uri": "https://localhost:8080/"
        }
      },
      "outputs": [
        {
          "output_type": "stream",
          "name": "stderr",
          "text": [
            "/usr/local/lib/python3.9/dist-packages/ipykernel/ipkernel.py:283: DeprecationWarning: `should_run_async` will not call `transform_cell` automatically in the future. Please pass the result to `transformed_cell` argument and any exception that happen during thetransform in `preprocessing_exc_tuple` in IPython 7.17 and above.\n",
            "  and should_run_async(code)\n"
          ]
        }
      ],
      "source": [
        "ensemble_workers = 4\n",
        "num_models = 3\n",
        "distance_workers = 4 # Note from Gensim: After training all the models, some distance computations are required which can take quite some time as well. You can speed this up by using workers for that as well.\n",
        "num_topics = 100\n",
        "passes = 20\n",
        "\n",
        "synoptics = ['MAT', 'MRK', 'LUK']\n",
        "johannine = ['JHN', '1JN', '2JN', '3JN', 'REV']\n",
        "\n",
        "subcorpora = {\n",
        "    'synoptics': ['MAT', 'MRK', 'LUK'], \n",
        "    'johannine': ['JHN', '1JN', '2JN', '3JN', 'REV']\n",
        "}\n",
        "\n",
        "for subcorp in subcorpora.keys():\n",
        "    models[subcorp] = {\n",
        "        'corpus': [dictionary.doc2bow(chapter) for chapter in domains for book in subcorpora[subcorp]],\n",
        "        'model': None\n",
        "    }"
      ]
    },
    {
      "cell_type": "code",
      "source": [
        "# Select book or subcorpus\n",
        "selected_corpus = 'synoptics'"
      ],
      "metadata": {
        "id": "Ywl-siE_42uh",
        "outputId": "4499f292-0466-43c7-8f62-e17b8f40ae83",
        "colab": {
          "base_uri": "https://localhost:8080/"
        }
      },
      "execution_count": 31,
      "outputs": [
        {
          "output_type": "stream",
          "name": "stderr",
          "text": [
            "/usr/local/lib/python3.9/dist-packages/ipykernel/ipkernel.py:283: DeprecationWarning: `should_run_async` will not call `transform_cell` automatically in the future. Please pass the result to `transformed_cell` argument and any exception that happen during thetransform in `preprocessing_exc_tuple` in IPython 7.17 and above.\n",
            "  and should_run_async(code)\n"
          ]
        }
      ]
    },
    {
      "cell_type": "code",
      "source": [
        "import numpy as np\n",
        "\n",
        "for book, data in models.items():\n",
        "    if book == selected_corpus:\n",
        "        print(f'Generating ensemble models for {book}...')\n",
        "        ensemble = EnsembleLda(\n",
        "            corpus=data['corpus'],\n",
        "            id2word=dictionary,\n",
        "            num_topics=num_topics,\n",
        "            passes=passes,\n",
        "            num_models=num_models,\n",
        "            topic_model_class=LdaModel,\n",
        "            ensemble_workers=ensemble_workers,\n",
        "            distance_workers=distance_workers\n",
        "        )\n",
        "\n",
        "        # Clustering the topic models\n",
        "        shape = ensemble.asymmetric_distance_matrix.shape\n",
        "        without_diagonal = ensemble.asymmetric_distance_matrix[~np.eye(shape[0], dtype=bool)].reshape(shape[0], -1)\n",
        "        print(without_diagonal.min(), without_diagonal.mean(), without_diagonal.max())\n",
        "\n",
        "        ensemble.recluster(eps=0.2, min_samples=2, min_cores=2)\n",
        "\n",
        "        print(len(ensemble.get_topics()))\n",
        "\n",
        "        # Saving the updated model\n",
        "        data['ensemble'] = ensemble\n",
        "        data['model'] = ensemble.generate_gensim_representation()\n"
      ],
      "metadata": {
        "colab": {
          "base_uri": "https://localhost:8080/"
        },
        "id": "wpLLlNWXX1mM",
        "outputId": "1d3dd4da-2824-45b3-b8e1-f70c7f9c7c46"
      },
      "execution_count": 37,
      "outputs": [
        {
          "output_type": "stream",
          "name": "stdout",
          "text": [
            "Generating ensemble models for synoptics...\n"
          ]
        },
        {
          "output_type": "stream",
          "name": "stderr",
          "text": [
            "/usr/local/lib/python3.9/dist-packages/ipykernel/ipkernel.py:283: DeprecationWarning: `should_run_async` will not call `transform_cell` automatically in the future. Please pass the result to `transformed_cell` argument and any exception that happen during thetransform in `preprocessing_exc_tuple` in IPython 7.17 and above.\n",
            "  and should_run_async(code)\n",
            "WARNING:gensim.models.ldamodel:too few updates, training might not converge; consider increasing the number of passes or iterations to improve accuracy\n",
            "WARNING:gensim.models.ldamodel:too few updates, training might not converge; consider increasing the number of passes or iterations to improve accuracy\n",
            "WARNING:gensim.models.ldamodel:too few updates, training might not converge; consider increasing the number of passes or iterations to improve accuracy\n"
          ]
        },
        {
          "output_type": "stream",
          "name": "stdout",
          "text": [
            "0.0 0.18484321347244026 1.0\n",
            "9\n"
          ]
        }
      ]
    },
    {
      "cell_type": "code",
      "source": [
        "# Save model to disk\n",
        "models[selected_corpus]['model'].save(f'lda-model-{selected_corpus}')"
      ],
      "metadata": {
        "id": "0SBACR9RjluX",
        "outputId": "82db2507-c3b8-47f5-9177-853a33f2417c",
        "colab": {
          "base_uri": "https://localhost:8080/"
        }
      },
      "execution_count": 38,
      "outputs": [
        {
          "output_type": "stream",
          "name": "stderr",
          "text": [
            "/usr/local/lib/python3.9/dist-packages/ipykernel/ipkernel.py:283: DeprecationWarning: `should_run_async` will not call `transform_cell` automatically in the future. Please pass the result to `transformed_cell` argument and any exception that happen during thetransform in `preprocessing_exc_tuple` in IPython 7.17 and above.\n",
            "  and should_run_async(code)\n"
          ]
        }
      ]
    },
    {
      "cell_type": "code",
      "source": [
        "vis_model = models[selected_corpus]['model']\n",
        "vis_corpus = models[selected_corpus]['corpus']"
      ],
      "metadata": {
        "id": "MbGhFM7gXRCC",
        "outputId": "c85c5da5-3ac1-4c7d-b1b8-78ea887957db",
        "colab": {
          "base_uri": "https://localhost:8080/"
        }
      },
      "execution_count": 39,
      "outputs": [
        {
          "output_type": "stream",
          "name": "stderr",
          "text": [
            "/usr/local/lib/python3.9/dist-packages/ipykernel/ipkernel.py:283: DeprecationWarning: `should_run_async` will not call `transform_cell` automatically in the future. Please pass the result to `transformed_cell` argument and any exception that happen during thetransform in `preprocessing_exc_tuple` in IPython 7.17 and above.\n",
            "  and should_run_async(code)\n"
          ]
        }
      ]
    },
    {
      "cell_type": "markdown",
      "source": [
        "Since we trained an ensemble model, we need to use the `generate_gensim_representation()` method to return an `LdaModel` class as the visualization library is expecting."
      ],
      "metadata": {
        "id": "6SjaIHlD58X1"
      }
    },
    {
      "cell_type": "markdown",
      "metadata": {
        "id": "WjhI1pXjhUfI"
      },
      "source": [
        "## Evaluate Model"
      ]
    },
    {
      "cell_type": "code",
      "execution_count": 40,
      "metadata": {
        "id": "zyqK3xIRhUfJ",
        "colab": {
          "base_uri": "https://localhost:8080/"
        },
        "outputId": "9c1f611f-bed3-4bdf-c072-9dde1399c732"
      },
      "outputs": [
        {
          "output_type": "stream",
          "name": "stderr",
          "text": [
            "/usr/local/lib/python3.9/dist-packages/ipykernel/ipkernel.py:283: DeprecationWarning: `should_run_async` will not call `transform_cell` automatically in the future. Please pass the result to `transformed_cell` argument and any exception that happen during thetransform in `preprocessing_exc_tuple` in IPython 7.17 and above.\n",
            "  and should_run_async(code)\n"
          ]
        },
        {
          "output_type": "stream",
          "name": "stdout",
          "text": [
            "Coherence Score: -0.687\n"
          ]
        }
      ],
      "source": [
        "# Compute the coherence score\n",
        "coherence_model_lda = CoherenceModel(\n",
        "    model=vis_model,\n",
        "    corpus=vis_corpus,\n",
        "    dictionary=dictionary,\n",
        "    coherence='u_mass'\n",
        ")\n",
        "coherence_lda = coherence_model_lda.get_coherence()\n",
        "print(f'Coherence Score: {coherence_lda:.3f}')"
      ]
    },
    {
      "cell_type": "markdown",
      "metadata": {
        "id": "0DU7JzgwhUfJ"
      },
      "source": [
        "## Visualize Topics"
      ]
    },
    {
      "cell_type": "code",
      "execution_count": 41,
      "metadata": {
        "id": "v43G9rvLhUfJ",
        "colab": {
          "base_uri": "https://localhost:8080/",
          "height": 952
        },
        "outputId": "82637c99-c7df-48af-c507-39f345adcf70"
      },
      "outputs": [
        {
          "output_type": "stream",
          "name": "stderr",
          "text": [
            "/usr/local/lib/python3.9/dist-packages/ipykernel/ipkernel.py:283: DeprecationWarning: `should_run_async` will not call `transform_cell` automatically in the future. Please pass the result to `transformed_cell` argument and any exception that happen during thetransform in `preprocessing_exc_tuple` in IPython 7.17 and above.\n",
            "  and should_run_async(code)\n",
            "/usr/local/lib/python3.9/dist-packages/pyLDAvis/_prepare.py:243: FutureWarning: In a future version of pandas all arguments of DataFrame.drop except for the argument 'labels' will be keyword-only.\n",
            "  default_term_info = default_term_info.sort_values(\n"
          ]
        },
        {
          "output_type": "execute_result",
          "data": {
            "text/plain": [
              "<IPython.core.display.HTML object>"
            ],
            "text/html": [
              "\n",
              "<link rel=\"stylesheet\" type=\"text/css\" href=\"https://cdn.jsdelivr.net/gh/bmabey/pyLDAvis@3.4.0/pyLDAvis/js/ldavis.v1.0.0.css\">\n",
              "\n",
              "\n",
              "<div id=\"ldavis_el2041403591951371848605275795\" style=\"background-color:white;\"></div>\n",
              "<script type=\"text/javascript\">\n",
              "\n",
              "var ldavis_el2041403591951371848605275795_data = {\"mdsDat\": {\"x\": [0.01773488887418988, -0.022064524298364533, -0.09193177166902156, 0.16052288323590472, -0.11102825846785801, -0.1537116799318261, 0.24125947958121535, 0.040513671498093436, -0.08129468882233275], \"y\": [-0.04077823976825143, -0.034472440148525976, -0.06365745801247737, -0.22897125088545053, -0.0061208414412662355, 0.06552327337572007, 0.14989167776914228, 0.13945693704991644, 0.01912834206119257], \"topics\": [1, 2, 3, 4, 5, 6, 7, 8, 9], \"cluster\": [1, 1, 1, 1, 1, 1, 1, 1, 1], \"Freq\": [39.39763903923185, 14.90378484488169, 9.090367476045014, 8.806331787818936, 6.535251304184669, 6.047210274565543, 5.553210199512489, 5.469717081154686, 4.196487992605126]}, \"tinfo\": {\"Term\": [\"Supernatural Beings\", \"One, Two, Three, Etc. [Cardinals]\", \"Half, Third, Fourth [Fractional Part]\", \"Instruments Used in Marking and Writing\", \"Musical Instruments\", \"Persons\", \"Animals\", \"Reptiles and Other 'Creeping Things'\", \"Groups and Members of Groups of Persons Regarded as Related by Blood but without Special Reference to Successive Generations\", \"Pair, Group [Numbered Collectives]\", \"The Earth's Surface\", \"First, Second, Third, Etc. [Ordinals]\", \"Speak, Talk\", \"Parts of the Body\", \"Heavenly Bodies\", \"Furniture\", \"Females\", \"Buildings\", \"See\", \"Regions Above the Earth\", \"Burning\", \"Duration of Time without Reference to Points or Units of Time: Time, Spend Time, Always, Eternal, Old, Immediately, Young\", \"Bodies of Water\", \"All, Any, Each, Every [Totality]\", \"Open, Closed\", \"Throw, Hurl\", \"Laugh, Cry, Groan\", \"Water\", \"Trouble, Hardship, Distress\", \"Roles and Functions\", \"Agriculture\", \"Change Behavior\", \"Hot, Lukewarm, Cold\", \"Instruments Used in Agriculture and Husbandry\", \"Sharp\", \"Try To Learn\", \"A Point of Time without Reference to Other Points of Time: Time, Occasion, Ever, Often\", \"Teach\", \"Love, Affection, Compassion\", \"Walk, Step\", \"Sleep, Waking\", \"Army\", \"Follow, Accompany\", \"Whom or What Spoken or Written About\", \"Should, Ought\", \"Steal, Rob\", \"Many, Few [Countables]\", \"Processes Involving the Mouth, Other Than Eating and Drinking\", \"Establish or Confirm a Relation\", \"Shame, Disgrace, Humiliation\", \"Ripen, Produce Fruit, Bear Seed\", \"Come/Go Behind\", \"Depressions and Holes\", \"Work, Toil\", \"Press\", \"Marriage, Divorce\", \"Soldiers, Officers\", \"Mercy, Merciless\", \"Markers of Emphasis\", \"Advise\", \"Thunder and Lightning\", \"Grasp, Hold\", \"Accept As True\", \"Earth, Mud, Sand, Rock\", \"Know\", \"Places\", \"Movement of Liquids or Masses\", \"Atmospheric Objects\", \"Human Beings\", \"Gather, Cause To Come Together\", \"Do, Perform\", \"Speak, Talk\", \"Parts of the Body\", \"Supernatural Beings\", \"Leave, Depart, Flee, Escape, Send\", \"Written Language\", \"Name\", \"Socio-Religious\", \"Sound\", \"First, Second, Third, Etc. [Ordinals]\", \"Real, Unreal\", \"Regions Above the Earth\", \"Prompters of Attention\", \"Eat, Drink\", \"A Point of Time with Reference to Other Points of Time: Before, Long Ago, Now, At the Same Time, When, About, After\", \"Open, Closed\", \"Live, Die\", \"One, Two, Three, Etc. [Cardinals]\", \"Animals\", \"Fire\", \"Hear\", \"See\", \"Sit\", \"Rule, Govern\", \"Duration of Time without Reference to Points or Units of Time: Time, Spend Time, Always, Eternal, Old, Immediately, Young\", \"Persons\", \"The Earth's Surface\", \"Worship, Reverence\", \"Bodies of Water\", \"All, Any, Each, Every [Totality]\", \"Prisoners of War\", \"Abhor\", \"To Intend, To Purpose, To Plan\", \"Call\", \"Relative Reference\", \"Archetype, Corresponding Type [Antitype]\", \"To Decide, To Conclude\", \"Drunkenness\", \"To Choose, To Select, To Prefer\", \"Remain, Stay\", \"Go Around, Surround\", \"Large, Small\", \"Seize, Take into Custody\", \"Narrow, Wide\", \"Demonstrative or Deictic Reference\", \"Exercise Authority\", \"Surprise, Astonish\", \"Insult, Slander\", \"Health, Vigor, Strength\", \"Breathe, Breath\", \"Be a Believer, Christian Faith\", \"Move, Come/Go\", \"Language Levels\", \"Sell, Buy, Price\", \"Make, Create\", \"Low Status or Rank [including persons of low status]\", \"Images and Idols\", \"Regions Below the Surface of the Earth\", \"Universe, Creation\", \"Whole\", \"Animals\", \"Come/Go Up, Ascend\", \"Dwell, Reside\", \"Rule, Govern\", \"Weapons and Armor\", \"Sexual Misbehavior\", \"Harm, Wound\", \"Females\", \"Parts of the Body\", \"One, Two, Three, Etc. [Cardinals]\", \"See\", \"The Earth's Surface\", \"Number, Countless\", \"Name\", \"Live, Die\", \"Kill\", \"Worship, Reverence\", \"Non-Verbal Communication\", \"Speak, Talk\", \"Comparison\", \"Socio-Political\", \"Reptiles and Other 'Creeping Things'\", \"Supernatural Beings\", \"Sit\", \"First, Second, Third, Etc. [Ordinals]\", \"To Fight\", \"All, Any, Each, Every [Totality]\", \"Human Beings\", \"Impurity\", \"Agent of a Numerable Event\", \"Bless, Curse\", \"To Cause To Experience\", \"Non-Fruit Parts of Plants\", \"Add, Subtract\", \"Genuine, Phony\", \"Transparent\", \"Kindness, Harshness\", \"Dedicate, Consecrate\", \"Well Known, Clearly Shown, Revealed\", \"Prophesy\", \"Bad, Evil, Harmful, Damaging\", \"Cease, Stop\", \"Thoroughfares: Roads, Streets, Paths, etc.\", \"Extension From a Source\", \"Religious Practice\", \"Part\", \"Magic\", \"Need, Lack\", \"Enjoy, Take Pleasure In, Be Fond of Doing\", \"Sequence\", \"Trees\", \"Desire, Want, Wish\", \"Reward, Recompense\", \"To Distinguish, To Evaluate, To Judge\", \"Use of Liquids\", \"Light\", \"Just, Righteous\", \"A Point of Time with Reference to Duration of Time: Beginning, End\", \"Fruit Parts of Plants\", \"Instruments Used in Marking and Writing\", \"Witness, Testify\", \"A Point of Time with Reference to Other Points of Time: Before, Long Ago, Now, At the Same Time, When, About, After\", \"Supernatural Beings\", \"Speak, Talk\", \"All, Any, Each, Every [Totality]\", \"Hear\", \"Persons\", \"Slave, Free\", \"Kinship Relations Involving Successive Generations\", \"Live, Die\", \"Water\", \"Holy, Pure\", \"Obey, Disobey\", \"Leave, Depart, Flee, Escape, Send\", \"Heavenly Bodies\", \"Worship, Reverence\", \"Happy, Glad, Joyful\", \"Happen\", \"Duration of Time without Reference to Points or Units of Time: Time, Spend Time, Always, Eternal, Old, Immediately, Young\", \"See\", \"Parts of the Body\", \"Animals\", \"Socio-Religious\", \"Written Language\", \"Furniture\", \"Prompters of Attention\", \"Roles and Functions\", \"Earn, Gain, Do Business\", \"Class, Kind\", \"Extravagant Living, Intemperate Living\", \"At, Beside, Near, Far\", \"Glorious\", \"Maritime Activities\", \"Craft, Trade\", \"Condiments\", \"Double, Four Times As Much, Etc. [Multiples]\", \"Increase, Decrease\", \"Change an Opinion Concerning Truth\", \"Rapidity, Suddenness\", \"Associate\", \"Funerals and Burial\", \"Wood and Wood Products\", \"Laugh, Cry, Groan\", \"Precious and Semiprecious Stones and Substances\", \"Valuable, Lacking in Value\", \"Sin, Wrongdoing, Guilt\", \"Fear, Terror, Alarm\", \"Vehicles\", \"Learn the Location of Something\", \"Kinship Relations Based upon Marriage\", \"Experiencer\", \"Be Rich, Be Wealthy\", \"Desire Strongly\", \"Mix\", \"Boats and Parts of Boats\", \"Defile, Unclean, Common\", \"Population Centers\", \"Plant Products\", \"Carry, Bear\", \"Destroy\", \"Perfumes and Incense\", \"All, Any, Each, Every [Totality]\", \"Trouble, Hardship, Distress\", \"Speak, Talk\", \"Cloth, Leather, and Objects Made of Such Materials\", \"Judge, Condemn, Acquit\", \"The Earth's Surface\", \"Definite Units of Time: Year, Month, Week, Day, Hour\", \"Metals\", \"Supernatural Beings\", \"Hear\", \"Pain, Suffering\", \"Bodies of Water\", \"Regions Above the Earth\", \"Musical Instruments\", \"Sexual Misbehavior\", \"Sound\", \"Roles and Functions\", \"Places\", \"Burning\", \"Containers\", \"Stand\", \"Light\", \"Worthy, Not Worthy\", \"Honor or Respect in Relation to Status\", \"Strong, Weak\", \"Among, Between, In, Inside\", \"Around, About, Outside\", \"Take, Obtain, Gain, Lose\", \"Instruments Used in Marking and Writing\", \"State\", \"Pray\", \"High Status or Rank [including persons of high status]\", \"Roles and Functions\", \"Prostrate as an Act of Reverence or Supplication\", \"Open, Closed\", \"Praise\", \"Release, Set Free\", \"Capacity for Understanding\", \"Sing, Lament\", \"Number, Countless\", \"Inform, Announce\", \"Laugh, Cry, Groan\", \"Power, Force\", \"Kill\", \"Make, Create\", \"Furniture\", \"Perfumes and Incense\", \"Sit\", \"Kinship Relations Involving Successive Generations\", \"New, Old [primarily non-temporal]\", \"Receive\", \"The Earth's Surface\", \"See\", \"All, Any, Each, Every [Totality]\", \"One, Two, Three, Etc. [Cardinals]\", \"Speak, Talk\", \"Supernatural Beings\", \"Animals\", \"Hear\", \"Parts of the Body\", \"Socio-Political\", \"Rule, Govern\", \"Regions Above the Earth\", \"Wind\", \"Guide, Lead\", \"Lead, Bring, Take\", \"Physiological Products of the Body\", \"Thanks\", \"Pair, Group [Numbered Collectives]\", \"Groups and Members of Groups of Persons Regarded as Related by Blood but without Special Reference to Successive Generations\", \"North, South, East, West\", \"Shapes\", \"Application and Removal of Liquids or Masses\", \"Language Levels\", \"Strong, Weak\", \"Religious Practice\", \"Save in a Religious Sense\", \"Control, Restrain\", \"Persons\", \"Land in Contrast With the Sea\", \"Use of Liquids\", \"General\", \"Trees\", \"Honor or Respect in Relation to Status\", \"Non-Verbal Communication\", \"High Status or Rank [including persons of high status]\", \"Harm, Wound\", \"Desire Strongly\", \"Furniture\", \"Capacity for Understanding\", \"Extension From a Source\", \"Around, About, Outside\", \"Color\", \"One, Two, Three, Etc. [Cardinals]\", \"Stand\", \"All, Any, Each, Every [Totality]\", \"Duration of Time without Reference to Points or Units of Time: Time, Spend Time, Always, Eternal, Old, Immediately, Young\", \"Supernatural Beings\", \"Speak, Talk\", \"Cloth, Leather, and Objects Made of Such Materials\", \"Bodies of Water\", \"Socio-Political\", \"Parts of the Body\", \"Animals\", \"Number, Countless\", \"See\", \"Activities Involving Clothing and Adorning\", \"Sit\", \"Roles and Functions\", \"Heavenly Bodies\", \"Live, Die\", \"The Earth's Surface\", \"Half, Third, Fourth [Fractional Part]\", \"Markers of Transition\", \"Fall\", \"Keep Silent\", \"Musical Instruments\", \"Plants That Are Not Trees\", \"Pray\", \"Burning\", \"Boats and Parts of Boats\", \"Perfumes and Incense\", \"Change of State\", \"Hit, Strike\", \"Heavenly Bodies\", \"Water\", \"Sweet, Bitter, Tasteless\", \"Throw, Hurl\", \"First, Second, Third, Etc. [Ordinals]\", \"Definite Units of Time: Year, Month, Week, Day, Hour\", \"Mix\", \"Fire\", \"Bodies of Water\", \"Movement of the Earth\", \"Stand\", \"Furniture\", \"Metals\", \"Fly\", \"Containers\", \"The Earth's Surface\", \"Elevated Land Formations\", \"Darkness\", \"Live, Die\", \"Socio-Religious\", \"Supernatural Beings\", \"One, Two, Three, Etc. [Cardinals]\", \"Regions Above the Earth\", \"Speak, Talk\", \"Parts of the Body\", \"Dwell, Reside\", \"Birth, Procreation\", \"Male, Female\", \"Accuse, Blame\", \"Care For, Take Care Of\", \"Become Safe, Free from Danger\", \"Much, Little [Masses, Collectives, Extensions]\", \"Pull, Draw, Drag\", \"Pursue, Follow\", \"Help\", \"Here, There\", \"Areas Which Are Uninhabited or Only Sparsely Populated\", \"Space, Place\", \"Reptiles and Other 'Creeping Things'\", \"Be in a Place\", \"Command, Order\", \"Females\", \"Kinship Relations Involving Successive Generations\", \"Save in a Religious Sense\", \"Where, Somewhere, Everywhere\", \"Understand\", \"Enjoy, Take Pleasure In, Be Fond of Doing\", \"Throw, Hurl\", \"To Fight\", \"Fly\", \"Adornments\", \"Birds\", \"Ready, Prepared\", \"Hold a Wrong View, Be Mistaken\", \"Movement of Liquids or Masses\", \"Duration of Time without Reference to Points or Units of Time: Time, Spend Time, Always, Eternal, Old, Immediately, Young\", \"Land in Contrast With the Sea\", \"Regions Above the Earth\", \"Heavenly Bodies\", \"Parts of the Body\", \"The Earth's Surface\", \"Supernatural Beings\", \"One, Two, Three, Etc. [Cardinals]\", \"Bodies of Water\", \"A Point of Time with Reference to Other Points of Time: Before, Long Ago, Now, At the Same Time, When, About, After\", \"Rule, Govern\", \"Speak, Talk\", \"Anger, Be Indignant With\", \"See\", \"Half, Third, Fourth [Fractional Part]\", \"Non-Verbal Communication\", \"Live, Die\", \"Persons\", \"Witness, Testify\", \"Behavior, Conduct\", \"Miscellaneous\", \"Complete, Finish, Succeed\", \"Full, Empty\", \"Buildings\", \"Sing, Lament\", \"Clean, Dirty\", \"Come/Go Into\", \"Surprise, Astonish\", \"Mix\", \"Anger, Be Indignant With\", \"Real, Unreal\", \"Come, Come To, Arrive\", \"Light\", \"Just, Righteous\", \"Trouble, Hardship, Distress\", \"A Point of Time with Reference to Duration of Time: Beginning, End\", \"Able, Capable\", \"Sequence\", \"Holy, Pure\", \"Praise\", \"Conquer\", \"Activities Involving Clothing and Adorning\", \"Metals\", \"Images and Idols\", \"New, Old [primarily non-temporal]\", \"Cloth, Leather, and Objects Made of Such Materials\", \"Worship, Reverence\", \"One, Two, Three, Etc. [Cardinals]\", \"Socio-Political\", \"Supernatural Beings\", \"See\", \"Duration of Time without Reference to Points or Units of Time: Time, Spend Time, Always, Eternal, Old, Immediately, Young\", \"Bodies of Water\", \"Name\", \"Regions Above the Earth\", \"Animals\", \"Leave, Depart, Flee, Escape, Send\", \"Stand\", \"Live, Die\", \"Persons\", \"Containers\", \"Musical Instruments\"], \"Freq\": [760.0, 462.0, 94.0, 163.0, 107.0, 153.0, 328.0, 73.0, 72.0, 66.0, 218.0, 116.0, 589.0, 463.0, 103.0, 132.0, 62.0, 56.0, 228.0, 156.0, 69.0, 131.0, 152.0, 194.0, 87.0, 67.0, 52.0, 86.0, 79.0, 102.0, 35.34860921797844, 33.26472813093009, 28.86996626758209, 28.293451421763983, 19.87936918782652, 17.232864027536987, 15.356918058054736, 14.95991050773417, 14.256568894443134, 12.204725701249332, 11.23922024480483, 10.330732897673796, 9.847112892113149, 8.302290065558704, 8.196411749058349, 9.212028155628166, 7.165702805445447, 7.125870764215746, 7.169722026664495, 7.125842691188952, 7.129946131488381, 7.130827146690952, 8.473916605406947, 6.579642533219018, 6.319867883835233, 5.50988998232041, 4.896698921593133, 4.188798726589544, 4.188851288852478, 4.188830084757772, 28.587121563158252, 25.90529456217774, 32.55217737025381, 50.749357035738, 24.32321345338198, 55.73306710928153, 30.037008580677487, 45.486034836941016, 58.91632376348034, 11.385934661216595, 49.05757370581351, 287.68375837140184, 229.15294535782235, 337.6574540930374, 58.82474118790088, 54.93215679542109, 75.71352666929396, 75.24750964612988, 32.21807968108275, 62.048432557457794, 19.391442063197577, 72.31638461044565, 36.305058435438966, 40.57032121808264, 46.008260032730625, 45.13384378335215, 73.36344878000891, 113.99443640629133, 87.73257139834489, 40.79541194151195, 44.62792244584684, 61.30609571805489, 41.936228074597544, 50.32422867474828, 43.874184373775016, 45.327201235132534, 45.5191729545265, 39.50822663051431, 40.713319243585666, 40.84386001277357, 10.69167691001888, 8.303824725800771, 12.441863133909719, 4.165999617149874, 4.165895678854637, 4.165937254172732, 4.165863593554804, 4.165948099907887, 4.165920533664368, 4.165901101722215, 1.09999343945951, 1.0999677938149246, 1.0999726518004629, 1.1000003310203896, 14.82943423282506, 34.96310719966118, 21.91154835257775, 25.493410231446735, 10.691769098767699, 5.359838491472056, 5.359695689292515, 9.497247846942011, 5.360024224686586, 10.69147264867346, 14.829940367132293, 6.431649740036856, 22.4273642860608, 12.741990836175981, 11.641237291444357, 10.691910997135976, 159.6650417943654, 15.902089189203794, 34.96354825955749, 61.299429891131474, 16.02373133945754, 28.994297851648273, 16.02465322694572, 24.85674569399878, 116.88897066960604, 113.45972997583861, 57.55610393776453, 54.85550865367233, 22.429177331454216, 39.101521593255505, 46.90671635673763, 26.56660114790438, 27.75994111840943, 22.428584431265744, 63.25664402671781, 16.024452580845352, 21.112985911225632, 18.16902136836723, 37.700982890726266, 18.72527743299833, 19.11693319804914, 15.902588093020926, 17.09835389295565, 16.0242880871955, 12.148783289515176, 6.08453717713369, 6.084604431803864, 6.0844903193716835, 6.084530010652442, 6.0844390514673705, 6.084593957715886, 6.084437948931794, 6.084593406448098, 6.084423064701509, 18.213408122867232, 24.27991718951974, 6.084587342502426, 6.084506306137545, 6.084633097728856, 12.149060025944909, 6.084435743860641, 6.084522844171194, 6.084582381092332, 6.085037728285478, 6.084484255426012, 18.214409225170808, 24.27836922957016, 6.084676096616345, 12.149322429412145, 6.0853034393594445, 6.085120969721513, 24.27979591060631, 24.280203848769663, 12.150049000357141, 12.149486707213063, 48.542268782232696, 18.2171688717191, 24.282241334515266, 91.02544304956568, 72.82855201217187, 36.413998167120624, 24.28193923976727, 30.347790092680533, 18.218311098576482, 12.149198945427564, 30.346751504167354, 18.215625321911826, 12.150118460098469, 12.151216585532786, 18.218843623259993, 18.217710216687223, 18.217540426208423, 12.151399606438506, 12.150267302401312, 18.219303380595445, 18.223615397235626, 18.232522782159176, 12.159338965125782, 12.156240840155466, 12.154763442482789, 12.153509859532166, 12.153459142895642, 12.15188141448549, 20.48362270533668, 20.483731650107103, 12.295222679268203, 12.295442704981022, 12.295513198656002, 8.201526268775684, 8.201442958068888, 8.201534279420567, 8.201203706808348, 8.201505975141977, 4.107419713265095, 4.107409833469737, 4.107461368618493, 4.10724988759355, 12.29559010084689, 40.95393278696184, 24.577942344001187, 12.295335896382566, 8.201351102674217, 8.201565787957112, 4.107347350439642, 12.295582624244998, 12.295178887742836, 8.201596762450665, 20.48315701984741, 8.201591956063734, 8.201425334650143, 4.107493945241021, 8.20161919225634, 24.577963705720876, 12.295734292454807, 12.295500381624187, 16.389768752161437, 12.295490768850327, 36.858963752018724, 20.483673973463937, 57.33149758866374, 20.48361843299274, 12.29531773892083, 28.67082433893048, 16.389706803174334, 16.389616015865645, 32.76699176634827, 16.38923257299719, 12.295701181789285, 16.390114812020432, 16.389988777874255, 12.296305718456544, 12.2958314882794, 12.29579837761388, 12.295789832926003, 12.295748177572605, 12.295649913662025, 12.295631756200288, 12.295630688114304, 12.295585828502952, 16.998243714006556, 10.937797036746861, 5.559215359083161, 16.670956630786982, 10.927342968449695, 17.14405058119894, 68.38285001573992, 11.280374849477441, 5.725909754349465, 10.771349151090112, 33.63436084840006, 11.114013361079348, 28.169970443866955, 11.064239821105083, 5.730188400241352, 5.565843772619824, 10.575488150991688, 16.626259920552904, 5.548721262698269, 11.439802363391982, 16.62356020437881, 17.143773158808767, 5.311110174467121, 25.042259688376774, 5.725164677072997, 15.982104153817899, 5.719210796262157, 3.496376180839648, 5.56241403924187, 33.980251084469316, 32.32924227389788, 27.246927496737573, 49.89812323597247, 43.101325405368854, 48.889776867041505, 27.15993734680373, 11.27732954426873, 20.98775206450045, 10.379901402741835, 11.199582315740095, 10.578634913531664, 11.818020854178345, 3.9483854679111126, 3.948186704915521, 3.9477389380933485, 3.9481757032736984, 51.17312478592729, 55.10539321528996, 3.947394953425701, 3.9475742801874065, 3.9480748548903266, 3.948187438358309, 3.9477305035012846, 3.948137564248714, 3.9483352270801237, 3.9481016255520944, 51.171182629424244, 11.818850377971755, 3.9481419649054432, 3.947741505143107, 11.817860963650526, 3.9476028844561446, 19.68886238711071, 7.882867060887054, 7.882739441841914, 3.948018746517032, 27.556311013705038, 3.947181521574346, 3.9482904870700457, 3.9470480349869006, 11.818215216517208, 78.71220576165285, 11.818496125105074, 23.624639606771936, 15.754584324508482, 47.233894517619404, 39.36615398079539, 11.819088746877908, 15.752926743807238, 11.818490991005557, 19.68895333401644, 15.752361992860354, 7.883155303902801, 11.817145123489281, 7.883405407893564, 7.882301576497381, 7.882429195542522, 7.884565714384435, 7.884206327418236, 7.883469217416135, 81.25938129483656, 20.174752966112425, 13.501545603397991, 4.187592787351759, 59.9519855442196, 13.404824370884608, 8.3542644657906, 32.583880189953966, 4.1872085399551064, 13.582933310526288, 12.6543019834206, 4.08850073829812, 32.21477907806208, 25.314843524917606, 7.440821855673362, 19.598077436737043, 29.359292201904495, 19.814546457411055, 4.18492460845283, 17.042287365310177, 29.941416568157912, 1.6070627065053673, 10.745092179407969, 20.66330686115227, 12.00245809917054, 1.6074577303408393, 8.392114013033867, 25.241315882853172, 1.6074035113830294, 1.6072507890391363, 17.55545868777798, 11.993044879861836, 52.436976663131546, 24.232622350593967, 8.891492167340322, 6.367562637282867, 4.777677911019259, 4.213993715404317, 28.430333450340704, 7.116508094465338, 7.116547235116563, 7.116218188285926, 3.5641201694099034, 3.5639715676154218, 3.564017010574895, 3.5639480168846003, 3.56386409667477, 10.668656200106911, 7.116226149096344, 10.668863181177796, 43.35083991981804, 7.117113779458023, 3.5639281148585535, 29.561445198672935, 14.220996692000268, 3.5641357593303065, 7.116485538835819, 3.563576512398397, 3.5640070595618716, 21.327548466235363, 14.531482893146265, 3.5646349684836416, 7.2747696689887364, 3.5646041203432697, 3.6533674882115212, 3.564086667666058, 7.116879598951542, 24.880562973410832, 7.115673536173118, 25.200606127464404, 14.648967206502792, 40.18656372660031, 21.958843386036857, 39.73923252115966, 29.33871764478027, 15.314172525084212, 10.66813145002015, 10.71909722172114, 14.321773917891548, 7.11714827630317, 10.896161567052495, 7.503025342316276, 7.278563658554086, 7.37358123810748, 7.284176029899226, 7.117225894204752, 4.950364556496823, 9.88471978731433, 4.950727965237684, 11.339990599066827, 24.68778497079102, 15.724211672054642, 4.950505542801051, 4.951230324379462, 9.88457116637269, 4.9507366178267525, 9.885464927925842, 4.951027752000103, 4.9509575133359025, 9.884980382938028, 9.88494068282348, 14.821727291169125, 4.950857754073706, 6.469672161990762, 4.950853682267086, 4.950169618754877, 5.197241245739847, 7.286378846661637, 9.885569776946316, 10.612352648311441, 4.950453118290815, 2.3471852916275737, 9.886340366349204, 11.337514940641693, 46.82847574110064, 10.448513329427605, 72.93911892499501, 20.801939794754936, 10.965613429122728, 10.754360976000603, 9.886965388665418, 10.43601288310332, 10.383077361136268, 6.47367780175347, 5.725267020548857, 5.579638347798431, 5.396425373015265, 5.251109720398774, 5.239043939431205], \"Total\": [760.0, 462.0, 94.0, 163.0, 107.0, 153.0, 328.0, 73.0, 72.0, 66.0, 218.0, 116.0, 589.0, 463.0, 103.0, 132.0, 62.0, 56.0, 228.0, 156.0, 69.0, 131.0, 152.0, 194.0, 87.0, 67.0, 52.0, 86.0, 79.0, 102.0, 35.4986209425992, 33.42060887551019, 29.0183703217657, 28.442453162621653, 20.026994287945293, 17.379753923148648, 15.503936838684165, 15.106327898004695, 14.403246066604432, 12.354050817400378, 11.38552193610224, 10.478591781073066, 9.993760221847648, 8.448280453479331, 8.342511860235433, 9.387551328902134, 7.311564898875027, 7.271593305722952, 7.3163803563759595, 7.271727455033236, 7.275999644989264, 7.276905843653047, 8.650972763816693, 6.725429585571535, 6.466032087071464, 5.656265775327842, 5.043918953852793, 4.334279838203599, 4.3343640334949995, 4.334354924855168, 31.90905343343217, 29.60608724866655, 38.03300912741018, 61.240842536736245, 28.40726408776672, 72.31374073429512, 37.28912990449852, 60.37115751621718, 84.86676002817394, 12.604693970023185, 70.54046417640578, 589.4595276876933, 463.31403382685494, 760.3898712936248, 95.91396223547663, 88.6814795374187, 136.05323727632612, 136.92403611339898, 46.238464175299555, 116.7132411175221, 24.474451425455214, 156.69222750769313, 59.630823789873766, 70.73732902128206, 86.79707492126313, 87.03859145484783, 192.52430850967207, 462.576840526175, 328.81077314095705, 81.8291341188566, 101.88587788049847, 228.41892830818648, 88.72384158342605, 157.17284756016858, 131.30221579685954, 153.94630186510034, 218.16814638195467, 104.32208084487787, 152.02863463690076, 194.07335420651043, 10.886957092976624, 8.497750335638385, 12.847687407850904, 4.358989259854854, 4.358897437808639, 4.35894193243146, 4.358872533082808, 4.358963898723066, 4.35893535933679, 4.358944388954742, 1.2933770798225588, 1.2935712141303086, 1.2940529860924699, 1.2950245128406093, 18.552941439632143, 50.041875927434226, 31.976146825157414, 37.48133431043583, 16.95171876953245, 8.720673249669193, 9.081295195897923, 16.198326301456834, 9.490081102995065, 19.093947376930796, 26.827244060777794, 12.063662701147926, 43.4594687684902, 25.140364925251692, 23.289551238944146, 21.490110493819895, 328.81077314095705, 32.08883716745378, 74.65309012160725, 157.17284756016858, 33.928147599802934, 70.51455500923792, 35.46179642796218, 62.53106823032688, 463.31403382685494, 462.576840526175, 228.41892830818648, 218.16814638195467, 58.598021495272015, 136.05323727632612, 192.52430850967207, 83.08357722598755, 104.32208084487787, 78.06842143223129, 589.4595276876933, 43.81758880079151, 104.31699326485486, 73.43295726916729, 760.3898712936248, 88.72384158342605, 116.7132411175221, 49.15666666936225, 194.07335420651043, 84.86676002817394, 12.350255664948696, 6.285320343716574, 6.285408622151687, 6.285335917640889, 6.285392649063649, 6.2853163646760635, 6.285554787890411, 6.28548842788466, 6.286110300966417, 6.288390186811813, 22.555138000817216, 32.70483094584714, 9.262400574600383, 9.262827942322351, 9.285570064527905, 19.263580495763215, 10.221538182656229, 10.295924665987611, 10.379618888078658, 10.399325093461055, 10.911023183899903, 32.83404036532286, 44.439290375382534, 11.373825330503829, 23.703558489452718, 11.940447260236402, 12.939387418293636, 52.34575404190993, 52.471237008254974, 27.59466793252409, 27.596873294208333, 163.23354700634474, 53.57062615930822, 86.79707492126313, 760.3898712936248, 589.4595276876933, 194.07335420651043, 101.88587788049847, 153.94630186510034, 65.78989795559019, 32.26449172670931, 192.52430850967207, 86.28945884538955, 33.549737071690515, 34.749341950011065, 95.91396223547663, 103.23698837266784, 104.32208084487787, 39.935378182190604, 40.517886113768384, 131.30221579685954, 228.41892830818648, 463.31403382685494, 328.81077314095705, 136.92403611339898, 88.6814795374187, 132.12570292946833, 59.630823789873766, 102.80044480832949, 20.69327498048467, 20.693699985218075, 12.503765050844777, 12.50423893186541, 12.504449216590658, 8.409567384382964, 8.409490009135563, 8.409613995392784, 8.409281635580227, 8.409608016533285, 4.314896933564889, 4.314892610651053, 4.315000779103809, 4.315445826921764, 14.609497416695296, 52.58984551857638, 33.0696651185055, 16.642602581425386, 11.38692439411793, 11.408278541911429, 6.421690079358558, 20.066012544206302, 21.286972380954325, 15.437454421392784, 44.080107260225276, 17.980262627587756, 18.23757918339541, 9.210500576858081, 19.012787250145323, 57.07533301275762, 29.354659392916787, 30.94268701401308, 45.24168617867066, 31.777909498216978, 194.07335420651043, 79.53570663020429, 589.4595276876933, 88.74213757176483, 35.05063591324628, 218.16814638195467, 81.2657912381085, 84.0172998695861, 760.3898712936248, 101.88587788049847, 36.52219719340736, 152.02863463690076, 156.69222750769313, 107.2383214390594, 70.51455500923792, 46.238464175299555, 102.80044480832949, 72.31374073429512, 69.12415168556835, 71.14478165496422, 68.42570500322066, 52.34575404190993, 21.322122041763517, 15.08142420468379, 9.698812801744495, 29.860141594718826, 21.725203062183315, 39.81646066171803, 163.23354700634474, 30.27078711234021, 15.724443458602195, 32.9163284936599, 102.80044480832949, 34.03599333974668, 87.03859145484783, 36.37569995026087, 19.629663067932377, 19.175309269094996, 37.070579205446315, 58.598021495272015, 22.858596744998067, 52.58984551857638, 77.49519740447468, 83.08357722598755, 26.827244060777794, 132.12570292946833, 31.777909498216978, 88.72384158342605, 32.26449172670931, 20.76247165441074, 33.830610172266574, 218.16814638195467, 228.41892830818648, 194.07335420651043, 462.576840526175, 589.4595276876933, 760.3898712936248, 328.81077314095705, 101.88587788049847, 463.31403382685494, 104.31699326485486, 157.17284756016858, 156.69222750769313, 12.030592662235962, 4.156868312363669, 4.156869712621131, 4.156953031871112, 4.159890831375157, 66.91898759845121, 72.4347102465361, 7.094664880978073, 7.782530142702371, 8.270802045846445, 9.490081102995065, 9.698812801744495, 10.221538182656229, 10.426954427514005, 10.621662794337862, 153.94630186510034, 38.10486532767208, 12.939387418293636, 13.730667863162058, 44.439290375382534, 15.08142420468379, 78.06842143223129, 32.9163284936599, 35.46179642796218, 17.980262627587756, 132.12570292946833, 19.175309269094996, 19.263580495763215, 21.725203062183315, 66.15633852166737, 462.576840526175, 68.42570500322066, 194.07335420651043, 131.30221579685954, 760.3898712936248, 589.4595276876933, 88.74213757176483, 152.02863463690076, 104.31699326485486, 463.31403382685494, 328.81077314095705, 58.598021495272015, 228.41892830818648, 76.8369405076135, 88.72384158342605, 102.80044480832949, 103.23698837266784, 192.52430850967207, 218.16814638195467, 94.00575600954343, 23.42004989329546, 15.836697538642971, 5.116394533685895, 107.2383214390594, 24.921346728895244, 15.724443458602195, 69.12415168556835, 9.210500576858081, 31.777909498216978, 36.42680802972926, 11.878605987725459, 103.23698837266784, 86.28945884538955, 25.43234207502943, 67.17625030873215, 116.7132411175221, 81.2657912381085, 18.23757918339541, 81.8291341188566, 152.02863463690076, 9.859860203134923, 68.42570500322066, 132.12570292946833, 84.0172998695861, 12.447988548510077, 71.14478165496422, 218.16814638195467, 13.987585017593776, 14.451323899920965, 192.52430850967207, 136.92403611339898, 760.3898712936248, 462.576840526175, 156.69222750769313, 589.4595276876933, 463.31403382685494, 74.65309012160725, 28.641839596846413, 7.325946144289722, 7.32601056077601, 7.325802986454921, 3.7732283136827993, 3.7731044617164127, 3.7731603771592543, 3.773094713404547, 3.773017203104787, 13.866423686502886, 11.464125762180164, 17.868609824136943, 73.43295726916729, 14.275696675870698, 7.300644547818796, 62.53106823032688, 32.26449172670931, 10.426954427514005, 21.499760841140173, 10.863478592442377, 10.911023183899903, 67.17625030873215, 49.15666666936225, 12.447988548510077, 29.305378195925297, 15.834857816409187, 16.742556676010732, 18.01950442187436, 37.28912990449852, 131.30221579685954, 38.10486532767208, 156.69222750769313, 103.23698837266784, 463.31403382685494, 218.16814638195467, 760.3898712936248, 462.576840526175, 152.02863463690076, 86.79707492126313, 157.17284756016858, 589.4595276876933, 46.71069613494461, 228.41892830818648, 94.00575600954343, 78.06842143223129, 192.52430850967207, 153.94630186510034, 53.57062615930822, 5.154956992664604, 13.411291544009476, 9.178227212984254, 25.61149791072934, 56.78948651150995, 37.070579205446315, 14.704695087876477, 15.339695186628852, 31.976146825157414, 18.23757918339541, 46.71069613494461, 24.474451425455214, 24.612233520651323, 52.34575404190993, 52.471237008254974, 79.53570663020429, 27.59466793252409, 41.59750445458335, 32.83404036532286, 33.549737071690515, 36.37569995026087, 55.52536683872801, 76.8369405076135, 84.0172998695861, 43.4594687684902, 20.76247165441074, 88.74213757176483, 104.32208084487787, 462.576840526175, 104.31699326485486, 760.3898712936248, 228.41892830818648, 131.30221579685954, 152.02863463690076, 136.05323727632612, 156.69222750769313, 328.81077314095705, 95.91396223547663, 68.42570500322066, 192.52430850967207, 153.94630186510034, 71.14478165496422, 107.2383214390594], \"Category\": [\"Default\", \"Default\", \"Default\", \"Default\", \"Default\", \"Default\", \"Default\", \"Default\", \"Default\", \"Default\", \"Default\", \"Default\", \"Default\", \"Default\", \"Default\", \"Default\", \"Default\", \"Default\", \"Default\", \"Default\", \"Default\", \"Default\", \"Default\", \"Default\", \"Default\", \"Default\", \"Default\", \"Default\", \"Default\", \"Default\", \"Topic1\", \"Topic1\", \"Topic1\", \"Topic1\", \"Topic1\", \"Topic1\", \"Topic1\", \"Topic1\", \"Topic1\", \"Topic1\", \"Topic1\", \"Topic1\", \"Topic1\", \"Topic1\", \"Topic1\", \"Topic1\", \"Topic1\", \"Topic1\", \"Topic1\", \"Topic1\", \"Topic1\", \"Topic1\", \"Topic1\", \"Topic1\", \"Topic1\", \"Topic1\", \"Topic1\", \"Topic1\", \"Topic1\", \"Topic1\", \"Topic1\", \"Topic1\", \"Topic1\", \"Topic1\", \"Topic1\", \"Topic1\", \"Topic1\", \"Topic1\", \"Topic1\", \"Topic1\", \"Topic1\", \"Topic1\", \"Topic1\", \"Topic1\", \"Topic1\", \"Topic1\", \"Topic1\", \"Topic1\", \"Topic1\", \"Topic1\", \"Topic1\", \"Topic1\", \"Topic1\", \"Topic1\", \"Topic1\", \"Topic1\", \"Topic1\", \"Topic1\", \"Topic1\", \"Topic1\", \"Topic1\", \"Topic1\", \"Topic1\", \"Topic1\", \"Topic1\", \"Topic1\", \"Topic1\", \"Topic1\", \"Topic1\", \"Topic1\", \"Topic2\", \"Topic2\", \"Topic2\", \"Topic2\", \"Topic2\", \"Topic2\", \"Topic2\", \"Topic2\", \"Topic2\", \"Topic2\", \"Topic2\", \"Topic2\", \"Topic2\", \"Topic2\", \"Topic2\", \"Topic2\", \"Topic2\", \"Topic2\", \"Topic2\", \"Topic2\", \"Topic2\", \"Topic2\", \"Topic2\", \"Topic2\", \"Topic2\", \"Topic2\", \"Topic2\", \"Topic2\", \"Topic2\", \"Topic2\", \"Topic2\", \"Topic2\", \"Topic2\", \"Topic2\", \"Topic2\", \"Topic2\", \"Topic2\", \"Topic2\", \"Topic2\", \"Topic2\", \"Topic2\", \"Topic2\", \"Topic2\", \"Topic2\", \"Topic2\", \"Topic2\", \"Topic2\", \"Topic2\", \"Topic2\", \"Topic2\", \"Topic2\", \"Topic2\", \"Topic2\", \"Topic2\", \"Topic2\", \"Topic2\", \"Topic2\", \"Topic2\", \"Topic3\", \"Topic3\", \"Topic3\", \"Topic3\", \"Topic3\", \"Topic3\", \"Topic3\", \"Topic3\", \"Topic3\", \"Topic3\", \"Topic3\", \"Topic3\", \"Topic3\", \"Topic3\", \"Topic3\", \"Topic3\", \"Topic3\", \"Topic3\", \"Topic3\", \"Topic3\", \"Topic3\", \"Topic3\", \"Topic3\", \"Topic3\", \"Topic3\", \"Topic3\", \"Topic3\", \"Topic3\", \"Topic3\", \"Topic3\", \"Topic3\", \"Topic3\", \"Topic3\", \"Topic3\", \"Topic3\", \"Topic3\", \"Topic3\", \"Topic3\", \"Topic3\", \"Topic3\", \"Topic3\", \"Topic3\", \"Topic3\", \"Topic3\", \"Topic3\", \"Topic3\", \"Topic3\", \"Topic3\", \"Topic3\", \"Topic3\", \"Topic3\", \"Topic3\", \"Topic3\", \"Topic3\", \"Topic3\", \"Topic3\", \"Topic3\", \"Topic3\", \"Topic3\", \"Topic4\", \"Topic4\", \"Topic4\", \"Topic4\", \"Topic4\", \"Topic4\", \"Topic4\", \"Topic4\", \"Topic4\", \"Topic4\", \"Topic4\", \"Topic4\", \"Topic4\", \"Topic4\", \"Topic4\", \"Topic4\", \"Topic4\", \"Topic4\", \"Topic4\", \"Topic4\", \"Topic4\", \"Topic4\", \"Topic4\", \"Topic4\", \"Topic4\", \"Topic4\", \"Topic4\", \"Topic4\", \"Topic4\", \"Topic4\", \"Topic4\", \"Topic4\", \"Topic4\", \"Topic4\", \"Topic4\", \"Topic4\", \"Topic4\", \"Topic4\", \"Topic4\", \"Topic4\", \"Topic4\", \"Topic4\", \"Topic4\", \"Topic4\", \"Topic4\", \"Topic4\", \"Topic4\", \"Topic4\", \"Topic4\", \"Topic4\", \"Topic4\", \"Topic4\", \"Topic4\", \"Topic4\", \"Topic4\", \"Topic4\", \"Topic5\", \"Topic5\", \"Topic5\", \"Topic5\", \"Topic5\", \"Topic5\", \"Topic5\", \"Topic5\", \"Topic5\", \"Topic5\", \"Topic5\", \"Topic5\", \"Topic5\", \"Topic5\", \"Topic5\", \"Topic5\", \"Topic5\", \"Topic5\", \"Topic5\", \"Topic5\", \"Topic5\", \"Topic5\", \"Topic5\", \"Topic5\", \"Topic5\", \"Topic5\", \"Topic5\", \"Topic5\", \"Topic5\", \"Topic5\", \"Topic5\", \"Topic5\", \"Topic5\", \"Topic5\", \"Topic5\", \"Topic5\", \"Topic5\", \"Topic5\", \"Topic5\", \"Topic5\", \"Topic5\", \"Topic6\", \"Topic6\", \"Topic6\", \"Topic6\", \"Topic6\", \"Topic6\", \"Topic6\", \"Topic6\", \"Topic6\", \"Topic6\", \"Topic6\", \"Topic6\", \"Topic6\", \"Topic6\", \"Topic6\", \"Topic6\", \"Topic6\", \"Topic6\", \"Topic6\", \"Topic6\", \"Topic6\", \"Topic6\", \"Topic6\", \"Topic6\", \"Topic6\", \"Topic6\", \"Topic6\", \"Topic6\", \"Topic6\", \"Topic6\", \"Topic6\", \"Topic6\", \"Topic6\", \"Topic6\", \"Topic6\", \"Topic6\", \"Topic6\", \"Topic6\", \"Topic6\", \"Topic6\", \"Topic6\", \"Topic6\", \"Topic6\", \"Topic6\", \"Topic6\", \"Topic6\", \"Topic6\", \"Topic6\", \"Topic6\", \"Topic7\", \"Topic7\", \"Topic7\", \"Topic7\", \"Topic7\", \"Topic7\", \"Topic7\", \"Topic7\", \"Topic7\", \"Topic7\", \"Topic7\", \"Topic7\", \"Topic7\", \"Topic7\", \"Topic7\", \"Topic7\", \"Topic7\", \"Topic7\", \"Topic7\", \"Topic7\", \"Topic7\", \"Topic7\", \"Topic7\", \"Topic7\", \"Topic7\", \"Topic7\", \"Topic7\", \"Topic7\", \"Topic7\", \"Topic7\", \"Topic7\", \"Topic7\", \"Topic7\", \"Topic7\", \"Topic7\", \"Topic7\", \"Topic7\", \"Topic7\", \"Topic8\", \"Topic8\", \"Topic8\", \"Topic8\", \"Topic8\", \"Topic8\", \"Topic8\", \"Topic8\", \"Topic8\", \"Topic8\", \"Topic8\", \"Topic8\", \"Topic8\", \"Topic8\", \"Topic8\", \"Topic8\", \"Topic8\", \"Topic8\", \"Topic8\", \"Topic8\", \"Topic8\", \"Topic8\", \"Topic8\", \"Topic8\", \"Topic8\", \"Topic8\", \"Topic8\", \"Topic8\", \"Topic8\", \"Topic8\", \"Topic8\", \"Topic8\", \"Topic8\", \"Topic8\", \"Topic8\", \"Topic8\", \"Topic8\", \"Topic8\", \"Topic8\", \"Topic8\", \"Topic8\", \"Topic8\", \"Topic8\", \"Topic8\", \"Topic8\", \"Topic8\", \"Topic8\", \"Topic8\", \"Topic9\", \"Topic9\", \"Topic9\", \"Topic9\", \"Topic9\", \"Topic9\", \"Topic9\", \"Topic9\", \"Topic9\", \"Topic9\", \"Topic9\", \"Topic9\", \"Topic9\", \"Topic9\", \"Topic9\", \"Topic9\", \"Topic9\", \"Topic9\", \"Topic9\", \"Topic9\", \"Topic9\", \"Topic9\", \"Topic9\", \"Topic9\", \"Topic9\", \"Topic9\", \"Topic9\", \"Topic9\", \"Topic9\", \"Topic9\", \"Topic9\", \"Topic9\", \"Topic9\", \"Topic9\", \"Topic9\", \"Topic9\", \"Topic9\", \"Topic9\", \"Topic9\", \"Topic9\", \"Topic9\", \"Topic9\", \"Topic9\"], \"logprob\": [30.0, 29.0, 28.0, 27.0, 26.0, 25.0, 24.0, 23.0, 22.0, 21.0, 20.0, 19.0, 18.0, 17.0, 16.0, 15.0, 14.0, 13.0, 12.0, 11.0, 10.0, 9.0, 8.0, 7.0, 6.0, 5.0, 4.0, 3.0, 2.0, 1.0, -4.9777, -5.0385, -5.1802, -5.2004, -5.5533, -5.6962, -5.8114, -5.8376, -5.8858, -6.0412, -6.1236, -6.2079, -6.2558, -6.4265, -6.4393, -6.3225, -6.5737, -6.5793, -6.5731, -6.5793, -6.5787, -6.5786, -6.406, -6.659, -6.6993, -6.8365, -6.9544, -7.1106, -7.1106, -7.1106, -5.1901, -5.2886, -5.0602, -4.6161, -5.3516, -4.5224, -5.1406, -4.7256, -4.4669, -6.1106, -4.65, -2.8811, -3.1086, -2.721, -4.4684, -4.5369, -4.2161, -4.2222, -5.0705, -4.4151, -5.5782, -4.262, -4.9511, -4.84, -4.7142, -4.7334, -4.2476, -3.8069, -4.0687, -4.8344, -4.7446, -4.4271, -4.8069, -4.6245, -4.7617, -4.7291, -4.7249, -4.8665, -4.8365, -4.8333, -5.2015, -5.4542, -5.0499, -6.144, -6.144, -6.144, -6.144, -6.144, -6.144, -6.144, -7.4756, -7.4756, -7.4756, -7.4756, -4.8743, -4.0166, -4.4839, -4.3325, -5.2014, -5.892, -5.892, -5.3199, -5.8919, -5.2015, -4.8743, -5.7097, -4.4606, -5.026, -5.1164, -5.2014, -2.4978, -4.8045, -4.0166, -3.4551, -4.7968, -4.2038, -4.7968, -4.3578, -2.8097, -2.8395, -3.5182, -3.5662, -4.4606, -3.9048, -3.7228, -4.2913, -4.2473, -4.4606, -3.4237, -4.7968, -4.521, -4.6712, -3.9412, -4.641, -4.6203, -4.8044, -4.7319, -4.7968, -4.5793, -5.2708, -5.2708, -5.2708, -5.2708, -5.2708, -5.2708, -5.2708, -5.2708, -5.2708, -4.1744, -3.8869, -5.2708, -5.2708, -5.2708, -4.5793, -5.2708, -5.2708, -5.2708, -5.2707, -5.2708, -4.1743, -3.8869, -5.2707, -4.5792, -5.2706, -5.2707, -3.8869, -3.8869, -4.5792, -4.5792, -3.1941, -4.1742, -3.8868, -2.5654, -2.7884, -3.4816, -3.8868, -3.6638, -4.1741, -4.5793, -3.6638, -4.1742, -4.5792, -4.5791, -4.1741, -4.1741, -4.1741, -4.5791, -4.5792, -4.174, -4.1738, -4.1733, -4.5784, -4.5787, -4.5788, -4.5789, -4.5789, -4.579, -4.0251, -4.0251, -4.5356, -4.5355, -4.5355, -4.9405, -4.9405, -4.9405, -4.9405, -4.9405, -5.632, -5.632, -5.632, -5.632, -4.5355, -3.3323, -3.8429, -4.5356, -4.9405, -4.9404, -5.632, -4.5355, -4.5356, -4.9404, -4.0252, -4.9404, -4.9405, -5.632, -4.9404, -3.8429, -4.5355, -4.5355, -4.2481, -4.5355, -3.4377, -4.0251, -2.9959, -4.0251, -4.5356, -3.6889, -4.2481, -4.2481, -3.5554, -4.2481, -4.5355, -4.2481, -4.2481, -4.5355, -4.5355, -4.5355, -4.5355, -4.5355, -4.5355, -4.5355, -4.5355, -4.5355, -3.9134, -4.3543, -5.0311, -3.9328, -4.3552, -3.9049, -2.5214, -4.3234, -5.0015, -4.3696, -3.231, -4.3383, -3.4083, -4.3428, -5.0008, -5.0299, -4.388, -3.9355, -5.0329, -4.3094, -3.9357, -3.9049, -5.0767, -3.5259, -5.0016, -3.975, -5.0027, -5.4948, -5.0305, -3.2207, -3.2705, -3.4416, -2.8365, -2.983, -2.8569, -3.4448, -4.3237, -3.7026, -4.4066, -4.3306, -4.3877, -4.1993, -5.2956, -5.2956, -5.2958, -5.2956, -2.7337, -2.6597, -5.2958, -5.2958, -5.2957, -5.2956, -5.2958, -5.2957, -5.2956, -5.2957, -2.7337, -4.1992, -5.2957, -5.2958, -4.1993, -5.2958, -3.6888, -4.6042, -4.6042, -5.2957, -3.3527, -5.2959, -5.2956, -5.2959, -4.1993, -2.3031, -4.1992, -3.5066, -3.9118, -2.8138, -2.996, -4.1992, -3.9119, -4.1992, -3.6888, -3.9119, -4.6042, -4.1993, -4.6041, -4.6043, -4.6043, -4.604, -4.604, -4.6041, -2.186, -3.5792, -3.9809, -5.1516, -2.4901, -3.9881, -4.4609, -3.0999, -5.1516, -3.9749, -4.0457, -5.1755, -3.1113, -3.3523, -4.5767, -3.6082, -3.2041, -3.5973, -5.1522, -3.748, -3.1844, -6.1093, -4.2092, -3.5553, -4.0986, -6.109, -4.4564, -3.3552, -6.1091, -6.1092, -3.7183, -4.0994, -2.6241, -3.396, -4.3986, -4.7325, -5.0197, -5.1453, -3.2211, -4.6061, -4.6061, -4.6062, -5.2976, -5.2977, -5.2976, -5.2977, -5.2977, -4.2012, -4.6062, -4.2012, -2.7992, -4.606, -5.2977, -3.1821, -3.9138, -5.2976, -4.6061, -5.2978, -5.2976, -3.5085, -3.8922, -5.2975, -4.5841, -5.2975, -5.2729, -5.2976, -4.6061, -3.3544, -4.6062, -3.3417, -3.8842, -2.875, -3.4794, -2.8862, -3.1896, -3.8398, -4.2013, -4.1965, -3.9067, -4.606, -4.1801, -4.5532, -4.5836, -4.5706, -4.5828, -4.606, -4.7041, -4.0126, -4.704, -3.8752, -3.0972, -3.5483, -4.7041, -4.7039, -4.0126, -4.704, -4.0125, -4.704, -4.704, -4.0125, -4.0125, -3.6075, -4.704, -4.4364, -4.704, -4.7041, -4.6554, -4.3175, -4.0125, -3.9415, -4.7041, -5.4503, -4.0124, -3.8754, -2.4571, -3.9571, -2.0139, -3.2685, -3.9088, -3.9282, -4.0123, -3.9583, -3.9634, -4.4358, -4.5587, -4.5844, -4.6178, -4.6451, -4.6474], \"loglift\": [30.0, 29.0, 28.0, 27.0, 26.0, 25.0, 24.0, 23.0, 22.0, 21.0, 20.0, 19.0, 18.0, 17.0, 16.0, 15.0, 14.0, 13.0, 12.0, 11.0, 10.0, 9.0, 8.0, 7.0, 6.0, 5.0, 4.0, 3.0, 2.0, 1.0, 0.9272, 0.9268, 0.9263, 0.9262, 0.9241, 0.923, 0.9219, 0.9217, 0.9212, 0.9193, 0.9185, 0.9173, 0.9167, 0.914, 0.9138, 0.9126, 0.9113, 0.9112, 0.9112, 0.9112, 0.9112, 0.9112, 0.9108, 0.9095, 0.9086, 0.9052, 0.9018, 0.8973, 0.8973, 0.8973, 0.8215, 0.7979, 0.7759, 0.7435, 0.7763, 0.671, 0.7152, 0.6484, 0.5665, 0.8298, 0.5683, 0.2141, 0.2274, 0.1197, 0.4426, 0.4525, 0.3454, 0.3328, 0.5702, 0.2997, 0.6987, 0.1582, 0.4352, 0.3755, 0.2967, 0.2747, -0.0333, -0.4692, -0.3897, 0.2354, 0.106, -0.3838, 0.1821, -0.2074, -0.1647, -0.2912, -0.6357, -0.0395, -0.386, -0.627, 1.8855, 1.8805, 1.8715, 1.8583, 1.8583, 1.8583, 1.8583, 1.8583, 1.8583, 1.8583, 1.7416, 1.7414, 1.7411, 1.7403, 1.6795, 1.545, 1.5256, 1.5181, 1.4427, 1.4168, 1.3762, 1.3696, 1.3323, 1.3236, 1.3108, 1.2746, 1.242, 1.224, 1.2101, 1.2054, 1.1812, 1.2015, 1.145, 0.962, 1.1534, 1.0148, 1.1092, 0.981, 0.5264, 0.4982, 0.5251, 0.523, 0.9432, 0.6567, 0.4915, 0.7634, 0.5797, 0.6563, -0.3285, 0.8976, 0.306, 0.5069, -1.1006, 0.3479, 0.0944, 0.775, -0.5257, 0.2366, 2.3815, 2.3655, 2.3655, 2.3655, 2.3655, 2.3655, 2.3655, 2.3654, 2.3654, 2.365, 2.1842, 2.1001, 1.9778, 1.9777, 1.9753, 1.937, 1.8792, 1.872, 1.8639, 1.862, 1.8139, 1.8087, 1.7934, 1.7724, 1.7296, 1.7239, 1.6435, 1.6297, 1.6274, 1.5777, 1.5775, 1.1852, 1.3193, 1.1241, 0.2753, 0.3069, 0.7247, 0.9638, 0.7741, 1.1139, 1.4213, 0.5504, 0.8425, 1.3823, 1.3472, 0.737, 0.6633, 0.6529, 1.2081, 1.1936, 0.4229, -0.1305, -0.8372, -0.8994, -0.0236, 0.4106, 0.0118, 0.8074, 0.2626, 2.4195, 2.4195, 2.4129, 2.4129, 2.4128, 2.4046, 2.4046, 2.4046, 2.4046, 2.4046, 2.3804, 2.3804, 2.3804, 2.3803, 2.2573, 2.1796, 2.1329, 2.127, 2.1015, 2.0997, 1.9828, 1.9399, 1.8808, 1.7972, 1.6633, 1.6448, 1.6305, 1.6222, 1.5889, 1.5872, 1.5595, 1.5068, 1.4143, 1.4802, 0.7686, 1.0731, 0.0993, 0.9636, 1.3821, 0.4003, 0.8286, 0.7953, -0.7147, 0.6025, 1.341, 0.2023, 0.1721, 0.2639, 0.6831, 1.1051, 0.3062, 0.6579, 0.703, 0.6742, 0.7132, 0.9811, 2.5013, 2.4067, 2.1714, 2.1451, 2.0408, 1.8853, 1.8579, 1.7408, 1.7177, 1.6109, 1.6107, 1.6087, 1.5999, 1.5378, 1.4967, 1.491, 1.4737, 1.4682, 1.3122, 1.2025, 1.1886, 1.1497, 1.1083, 1.0648, 1.0141, 1.0139, 0.9978, 0.9465, 0.9226, 0.8685, 0.7728, 0.7647, 0.5011, 0.1123, -0.0163, 0.2342, 0.5269, -0.3665, 0.4204, 0.0865, 0.0325, 2.7877, 2.7541, 2.7541, 2.7539, 2.7533, 2.5373, 2.5321, 2.2193, 2.1268, 2.0661, 1.9286, 1.9067, 1.8543, 1.8345, 1.8159, 1.7041, 1.6349, 1.6185, 1.5591, 1.4811, 1.4652, 1.428, 1.3763, 1.3018, 1.2895, 1.2381, 1.225, 1.2206, 1.1001, 1.0832, 1.0346, 1.0495, 0.6996, 0.6852, 0.0269, 0.0993, 0.7896, 0.5385, 0.6278, -0.3528, -0.2329, 0.7996, -0.1561, 0.5286, 0.3847, 0.2374, 0.2335, -0.3898, -0.5149, 2.7451, 2.7416, 2.7313, 2.6905, 2.3093, 2.2707, 2.2583, 2.1387, 2.1025, 2.0408, 1.8335, 1.8242, 1.7262, 1.6645, 1.6618, 1.6589, 1.5107, 1.4795, 1.4188, 1.3219, 1.266, 1.0767, 1.0395, 1.0354, 0.9449, 0.8439, 0.7534, 0.734, 0.7272, 0.6945, 0.4959, 0.4557, 0.2166, -0.0583, 0.0216, -1.6372, -1.6837, 0.0164, 2.8985, 2.8769, 2.8769, 2.8769, 2.8489, 2.8489, 2.8489, 2.8489, 2.8489, 2.6438, 2.4291, 2.3902, 2.3789, 2.2099, 2.1888, 2.1568, 2.0867, 1.8325, 1.8003, 1.7913, 1.7871, 1.7586, 1.6872, 1.6554, 1.5126, 1.4148, 1.3836, 1.2854, 1.2497, 1.2425, 1.2279, 1.0785, 0.9533, 0.4611, 0.6098, -0.0455, 0.148, 0.6107, 0.8096, 0.2206, -0.8115, 1.0245, -0.1368, 0.3779, 0.5333, -0.3564, -0.145, 0.8875, 3.1304, 2.8658, 2.5536, 2.3562, 2.3379, 2.3133, 2.0822, 2.0401, 1.9969, 1.867, 1.618, 1.5729, 1.5673, 1.5041, 1.5017, 1.4908, 1.4529, 1.31, 1.279, 1.2573, 1.2251, 1.1401, 1.1203, 1.1019, 0.9986, 0.991, 0.9763, 0.9516, 0.8806, 0.8699, 0.8267, 0.7748, 0.6882, 0.5222, 0.5491, 0.4619, -0.2844, 0.4752, 0.6901, -0.3702, -0.1799, 0.5646, 0.152]}, \"token.table\": {\"Topic\": [1, 2, 3, 9, 1, 2, 3, 7, 8, 1, 2, 1, 2, 5, 6, 9, 1, 2, 8, 1, 2, 4, 6, 8, 9, 3, 1, 2, 4, 8, 1, 3, 1, 1, 2, 3, 4, 5, 6, 7, 8, 9, 1, 3, 5, 6, 1, 8, 9, 1, 2, 3, 4, 5, 6, 8, 9, 1, 6, 2, 2, 8, 1, 1, 3, 5, 6, 4, 4, 1, 4, 7, 9, 1, 3, 1, 2, 4, 5, 1, 2, 1, 2, 8, 8, 9, 1, 4, 7, 8, 8, 3, 1, 4, 7, 1, 2, 3, 4, 5, 6, 7, 8, 9, 1, 2, 1, 2, 6, 9, 1, 2, 4, 6, 7, 2, 2, 5, 6, 8, 1, 2, 4, 8, 1, 3, 1, 4, 1, 2, 4, 7, 4, 1, 9, 1, 2, 3, 4, 6, 9, 1, 2, 4, 6, 7, 8, 1, 2, 9, 1, 1, 3, 9, 1, 2, 6, 7, 1, 8, 1, 2, 4, 7, 1, 9, 4, 1, 2, 5, 8, 9, 1, 2, 4, 5, 7, 9, 1, 6, 4, 1, 3, 7, 3, 1, 2, 4, 1, 2, 3, 4, 7, 8, 1, 2, 1, 1, 4, 6, 1, 3, 1, 2, 4, 7, 1, 2, 3, 4, 9, 4, 2, 1, 2, 3, 5, 6, 8, 9, 1, 2, 4, 6, 7, 8, 4, 1, 2, 4, 1, 2, 3, 4, 6, 8, 1, 2, 7, 2, 3, 8, 1, 1, 2, 4, 8, 1, 2, 4, 1, 3, 6, 4, 1, 7, 1, 4, 1, 2, 8, 1, 2, 4, 7, 9, 1, 2, 3, 7, 1, 7, 8, 1, 1, 3, 4, 1, 2, 5, 7, 9, 4, 1, 2, 3, 5, 6, 7, 8, 1, 2, 1, 2, 6, 3, 4, 2, 1, 8, 1, 2, 5, 6, 6, 1, 7, 8, 1, 2, 3, 4, 8, 1, 2, 3, 4, 8, 1, 2, 6, 2, 3, 1, 3, 4, 5, 7, 8, 1, 3, 6, 7, 8, 8, 1, 8, 1, 4, 5, 6, 1, 7, 1, 2, 8, 1, 2, 3, 9, 5, 6, 1, 1, 2, 4, 7, 1, 2, 9, 3, 4, 1, 5, 6, 1, 1, 2, 3, 5, 6, 7, 1, 2, 1, 2, 4, 1, 3, 4, 9, 1, 7, 1, 2, 3, 4, 5, 3, 1, 3, 4, 3, 5, 8, 1, 6, 1, 6, 8, 2, 6, 2, 4, 5, 6, 1, 2, 4, 8, 1, 2, 3, 4, 5, 8, 9, 1, 3, 4, 7, 9, 1, 2, 3, 5, 6, 7, 8, 9, 1, 1, 2, 3, 4, 1, 2, 5, 7, 8, 1, 4, 1, 1, 7, 1, 1, 1, 2, 4, 5, 7, 8, 9, 1, 2, 9, 1, 4, 7, 9, 1, 2, 1, 8, 1, 7, 8, 1, 4, 5, 7, 9, 1, 2, 3, 7, 8, 9, 2, 1, 3, 1, 5, 9, 3, 1, 2, 6, 8, 9, 1, 6, 1, 2, 5, 6, 9, 1, 3, 8, 1, 2, 3, 5, 6, 7, 8, 9, 1, 2, 5, 7, 8, 9, 1, 4, 6, 1, 5, 6, 1, 2, 3, 1, 2, 3, 4, 5, 6, 7, 8, 9, 4, 5, 7, 1, 2, 3, 5, 6, 8, 9, 6, 1, 2, 4, 1, 2, 4, 1, 7, 1, 2, 3, 4, 1, 2, 4, 5, 6, 8, 9, 1, 4, 5, 6, 9, 1, 5, 7, 2, 4, 1, 2, 1, 1, 3, 5, 6, 8, 1, 3, 1, 3, 5, 6, 8, 8, 4, 1, 7, 8, 1, 9, 1, 2, 3, 5, 1, 2, 4, 5, 7, 8, 9, 1, 2, 2, 1, 2, 5, 3, 6, 2, 1, 2, 8, 1, 3, 4, 1, 1, 2, 3, 4, 5, 6, 8, 1, 2, 3, 4, 5, 8, 9, 1, 6, 8, 1, 2, 3, 4, 5, 6, 7, 8, 9, 2, 1, 2, 4, 1, 3, 9, 1, 2, 3, 4, 1, 1, 2, 6, 8, 1, 1, 1, 4, 1, 5, 9, 1, 2, 4, 5, 6, 1, 2, 3, 4, 6, 9, 1, 1, 2, 3, 4, 5, 6, 8, 9, 1, 2, 3, 4, 5, 7, 8, 1, 1, 4, 7, 1, 2, 8, 1, 2, 3, 4, 5, 6, 7, 8, 9, 1, 2, 4, 5, 6, 7, 8, 9, 1, 5, 8, 1, 5, 6, 1, 2, 3, 4, 5, 6, 7, 8, 9, 2, 9, 1, 7, 1, 5, 7, 1, 6, 1, 2, 4, 5, 6, 7, 8, 1, 3, 1, 2, 4, 7, 8, 1, 7, 3, 2, 2, 1, 3, 1, 2, 8, 2, 3, 1, 3, 6, 7, 1, 3, 4, 6, 9, 1, 1, 8, 1, 2, 1, 3, 6, 2, 4, 1, 4, 1, 1, 2, 3, 6, 7, 8, 1, 2, 2, 3, 1, 2, 8, 1, 2, 8, 1, 6, 1, 2, 3, 8, 9, 1, 4, 1, 1, 2, 3, 5, 6, 9, 1, 5, 1, 2, 3, 5], \"Freq\": [0.2536721955530236, 0.10871665523701012, 0.43486662094804046, 0.18119442539501684, 0.5299717766033972, 0.046084502313338896, 0.27650701388003335, 0.023042251156669448, 0.12673238136168197, 0.9674962015178762, 0.9414256343174865, 0.40867836238976313, 0.2644389403698467, 0.09615961467994426, 0.09615961467994426, 0.14423942201991638, 0.8676673436343242, 0.13146474903550368, 0.9554995781030546, 0.4555100680581103, 0.1561748804770664, 0.10411658698471092, 0.10411658698471092, 0.05205829349235546, 0.13014573373088867, 0.9546058864626827, 0.27298743413290405, 0.3071108633995171, 0.13649371706645202, 0.23886400486629106, 0.9228593572395689, 0.9546052821314337, 0.9859537939965198, 0.2112603256002498, 0.08759574476107918, 0.1854968712587559, 0.1906495621270547, 0.13912265344406693, 0.1236645808391706, 0.015458072604896326, 0.020610763473195102, 0.025763454341493876, 0.10046837823872178, 0.20093675647744355, 0.5693208100194235, 0.13395783765162905, 0.6422511861808196, 0.1498586101088579, 0.21408372872693984, 0.26763113373501146, 0.4866020613363845, 0.03649515460022884, 0.03649515460022884, 0.08211409785051489, 0.04866020613363845, 0.012165051533409613, 0.03041262883352403, 0.4836290335359652, 0.4836290335359652, 0.9176538852787061, 0.3489145254491093, 0.6106004195359412, 0.9543267081042778, 0.046029489212953904, 0.2761769352777234, 0.5063243813424929, 0.18411795685181562, 0.9269986738752727, 0.9596745603940418, 0.7453890541673297, 0.1325136096297475, 0.03312840240743688, 0.08282100601859219, 0.32389011637292875, 0.6477802327458575, 0.2722316424766947, 0.1134298510319561, 0.4537194041278244, 0.13611582123834734, 0.44046580512070843, 0.5505822564008855, 0.4202947243997849, 0.07004912073329748, 0.4903438451330823, 1.060100176152835, 0.9699401968076349, 0.37891088569057946, 0.25260725712705295, 0.12630362856352648, 0.25260725712705295, 0.977590838930713, 0.954591874719836, 0.10857173197649629, 0.43428692790598517, 0.43428692790598517, 0.26968603709375405, 0.052621665774391035, 0.07893249866158655, 0.10524333154878207, 0.026310832887195518, 0.10524333154878207, 0.19733124665396637, 0.09866562332698318, 0.07235479043978767, 0.3440101370744284, 0.5733502284573806, 0.3873956492904914, 0.10565335889740675, 0.07043557259827116, 0.44022232873919476, 0.23146757840560175, 0.05786689460140044, 0.1736006838042013, 0.05786689460140044, 0.4774018804615536, 0.9176439219153277, 0.46935357723306054, 0.31290238482204036, 0.20860158988136024, 0.9555266518827608, 0.2262246971903214, 0.25854251107465304, 0.3878137666119796, 0.12927125553732652, 0.32387517275289557, 0.6477503455057911, 0.9874146854392469, 0.9270209837191346, 0.41178463915251506, 0.10980923710733734, 0.10980923710733734, 0.3568800205988464, 0.9664777209627279, 0.6800549035691779, 0.34002745178458893, 0.3605953256886779, 0.09014883142216948, 0.06761162356662712, 0.2253720785554237, 0.13522324713325423, 0.11268603927771186, 0.5441655448964934, 0.07557854790229075, 0.1209256766436652, 0.18138851496549782, 0.0302314191609163, 0.0604628383218326, 0.6094530180454362, 0.1625208048121163, 0.2031510060151454, 0.9619473098041298, 0.26076137441679276, 0.39114206162518916, 0.325951718020991, 0.3427983364619018, 0.4986157621264026, 0.12465394053160064, 0.06232697026580032, 0.5478968293553033, 0.5478968293553033, 0.5020814837625798, 0.3651501700091489, 0.09128754250228722, 0.04564377125114361, 0.43581400930468145, 0.5447675116308518, 0.951292176357061, 0.5763131667899317, 0.1620880781596683, 0.0540293593865561, 0.07203914584874146, 0.12606850523529756, 0.4357311847598725, 0.11244675735738645, 0.16867013603607967, 0.07027922334836653, 0.11244675735738645, 0.07027922334836653, 0.6590305242726705, 0.3765888710129546, 0.9513062018397408, 0.4843846867232893, 0.415186874334248, 0.13839562477808265, 0.9541392664506358, 0.3681732671755687, 0.21038472410032497, 0.42076944820064993, 0.23380071381240922, 0.1968848116315025, 0.07383180436181344, 0.1968848116315025, 0.24610601453937814, 0.04922120290787563, 0.2155992360033725, 0.8084971350126469, 0.9247514953995194, 0.333699241455683, 0.4449323219409107, 0.22246616097045535, 0.43960583662124114, 0.5275270039454893, 0.30944912054582846, 0.30944912054582846, 0.3536561377666611, 0.04420701722083264, 0.6946367673093569, 0.028352521114667625, 0.08505756334400287, 0.1134100844586705, 0.07088130278666906, 0.9513297742522347, 0.9176492609107815, 0.33510477894808216, 0.08377619473702054, 0.13708831866057908, 0.053312123923558524, 0.12185628325384806, 0.1904004425841376, 0.08377619473702054, 0.2143246846706086, 0.46883524771695634, 0.16074351350295646, 0.05358117116765215, 0.05358117116765215, 0.05358117116765215, 0.9664975707741534, 0.8327775694693762, 0.03265794390075985, 0.1306317756030394, 0.5796091055072877, 0.11309445961117809, 0.08482084470838357, 0.11309445961117809, 0.056547229805589044, 0.056547229805589044, 0.571935755166992, 0.285967877583496, 0.142983938791748, 0.09165043306622067, 0.549902598397324, 0.3666017322648827, 0.956757256872212, 0.13988284552223235, 0.6994142276111618, 0.07993305458413277, 0.07993305458413277, 0.38866511512969204, 0.064777519188282, 0.518220153506256, 0.1557342883717704, 0.6229371534870816, 0.2076457178290272, 0.9597109311638304, 0.12628895608568766, 0.8840226925998136, 0.26296693133663246, 0.7012451502310199, 0.1279364038773943, 0.39980126211685724, 0.47976151454022864, 0.50104404062797, 0.18330879535169636, 0.048882345427119035, 0.2077499680652559, 0.06110293178389879, 0.5312165047114947, 0.1627921546696516, 0.05140804884304788, 0.2484722360747314, 0.5623398489419275, 0.16066852826912215, 0.3213370565382443, 1.0006243674066455, 0.25365192372967366, 0.43483186925086914, 0.28988791283391274, 0.039044963456864944, 0.31235970765491955, 0.11713489037059484, 0.07808992691372989, 0.4294945980255144, 0.9269030733849406, 0.30274200335836926, 0.022705650251877693, 0.09082260100751077, 0.18921375209898078, 0.2119194023508585, 0.15893955176314387, 0.030274200335836925, 0.8726907631522424, 0.07933552392293113, 0.4369780159126397, 0.29131867727509314, 0.29131867727509314, 0.95456967642052, 0.9596584217462881, 0.7731697241280882, 0.8781977767484636, 0.1351073502689944, 0.05522214400231254, 0.06902768000289067, 0.11044428800462508, 0.7593044800317974, 0.9622628621895238, 0.053188232425814455, 0.8616493652981941, 0.08510117188130313, 0.3948873333390174, 0.09872183333475434, 0.29616550000426306, 0.09872183333475434, 0.09872183333475434, 0.47576862583645574, 0.025040453991392406, 0.3004854478967089, 0.10016181596556963, 0.10016181596556963, 0.31019297125416717, 0.4511897763696977, 0.22559488818484885, 0.6489017514713874, 0.353946409893484, 0.4416706312604021, 0.2355576700055478, 0.1570384466703652, 0.10796393208587607, 0.01962980583379565, 0.0392596116675913, 0.29059352149740303, 0.17435611289844183, 0.07749160573264081, 0.30996642293056326, 0.14529676074870151, 1.0601594916419756, 0.2163499448614209, 0.7932831311585433, 0.18228035368998327, 0.24304047158664435, 0.334180648431636, 0.24304047158664435, 0.6734797002498992, 0.3367398501249496, 0.3329725312931714, 0.4994587969397571, 0.22198168752878092, 0.4470973935785952, 0.02980649290523968, 0.35767791486287615, 0.1490324645261984, 0.7293740863401856, 0.26522694048734025, 0.9993669416455161, 0.6952074048828218, 0.18853082166313812, 0.09426541083156906, 0.023566352707892264, 0.36815912512029186, 0.5062187970404013, 0.11504972660009122, 0.9716398045149173, 0.9512928526837403, 0.5687138254820768, 0.26248330406865084, 0.17498886937910055, 0.9844439169824102, 0.15928098406750546, 0.09189287542356084, 0.30018339305029873, 0.41658103525347584, 0.024504766779616226, 0.012252383389808113, 0.3201593598725986, 0.666998666401247, 0.42795229270950896, 0.19971106993110418, 0.3423618341676072, 0.2668128444884474, 0.45739344769448126, 0.07623224128241354, 0.19058060320603384, 0.1954501345461315, 0.781800538184526, 0.3490461167929725, 0.3249739708072502, 0.07221643795716672, 0.04814429197144448, 0.20461324087863902, 0.9544853196542812, 0.14093126755236132, 0.28186253510472264, 0.5637250702094453, 0.3719258961722963, 0.18596294808614816, 0.4339135455343457, 0.844854327606133, 0.14080905460102217, 0.4986239903123877, 0.3149204149341396, 0.18370357537824808, 0.5268658872074341, 0.4214927097659473, 0.7730536897207613, 0.7796181866614823, 0.20916585495795867, 0.9622625380475982, 0.1495065346635695, 0.04983551155452317, 0.598026138654278, 0.19934204621809268, 0.6151346334243827, 0.010426010736006486, 0.18766819324811673, 0.041704042944025944, 0.03127803220801946, 0.041704042944025944, 0.06255606441603892, 0.07641498481037169, 0.4584899088622302, 0.2292449544311151, 0.038207492405185846, 0.19103746202592925, 0.3791728980360556, 0.24412501654376184, 0.15582447864495436, 0.020776597152660583, 0.041553194305321166, 0.09349468718697261, 0.03635904501715602, 0.031164895728990873, 0.9720031120249064, 0.49736138589394296, 0.49736138589394296, 0.5780559059727329, 0.385370603981822, 0.1863776983081965, 0.5591330949245895, 0.1863776983081965, 0.0745510793232786, 0.955507979738046, 0.9573873851652518, 0.9512974490050995, 0.9228574178562048, 0.12809537185737682, 0.8539691457158454, 1.0607705221652592, 0.922875344767276, 0.380873939648992, 0.047609242456124, 0.190436969824496, 0.059511553070155, 0.14282772736837201, 0.047609242456124, 0.130925416754341, 0.14912806819812632, 0.07456403409906316, 0.7456403409906316, 0.05483183869657768, 0.4386547095726214, 0.2193273547863107, 0.27415919348288836, 0.43214341220984287, 0.5556129585555123, 0.8045240014136353, 0.1877222669965149, 0.8113705301274369, 0.20284263253185922, 1.0601349738884174, 0.22380059364915125, 0.11190029682457563, 0.046625123676906514, 0.5595014841228781, 0.046625123676906514, 0.5586048632245544, 0.286652495602074, 0.044100383938780616, 0.014700127979593537, 0.029400255959187074, 0.07350063989796769, 0.77218615561687, 0.38464034579658846, 0.5769605186948827, 0.7224573379159042, 0.14449146758318082, 0.09632764505545388, 0.954594300627159, 0.30742263721617114, 0.28180408411482355, 0.25618553101347596, 0.08966493585471659, 0.06404638275336899, 0.4228529536389348, 0.5638039381852464, 0.10239253556511478, 0.3754392970720875, 0.2901121841011585, 0.13652338075348638, 0.08532711297092899, 0.5467729439979784, 0.3453302804197758, 0.1151100934732586, 0.2464455416106144, 0.24428373861403008, 0.012970817979506022, 0.10809014982921684, 0.1707824367301626, 0.05188327191802409, 0.06269228690094578, 0.10160474083946383, 0.517012043138867, 0.034467469542591125, 0.3216963823975172, 0.022978313028394086, 0.04595662605678817, 0.05744578257098521, 0.547612179357331, 0.32856730761439856, 0.10952243587146619, 0.10460409296691167, 0.11954753481932763, 0.7621155344732137, 0.2913774233324028, 0.0971258077774676, 0.5827548466648056, 0.49426519224664706, 0.2525285043356232, 0.03885053912855741, 0.01726690627935885, 0.04532562898331698, 0.04316726569839712, 0.01079181642459928, 0.08633453139679424, 0.01079181642459928, 0.37762081236568773, 0.18881040618284387, 0.4405576144266357, 0.29230971744571355, 0.045470400491555436, 0.194873144963809, 0.045470400491555436, 0.3312843464384753, 0.045470400491555436, 0.03247885749396817, 0.9622432510861292, 0.7744033074677016, 0.05531452196197868, 0.16594356588593603, 0.44285984810768647, 0.1362645686485189, 0.40879370594555675, 0.44138866649794517, 0.5216411513157534, 0.24528985221813224, 0.10512422237919952, 0.21024844475839904, 0.4380175932466647, 0.3226006363919071, 0.14194428001243914, 0.1548483054681154, 0.21936843274649684, 0.05161610182270514, 0.05161610182270514, 0.06452012727838143, 0.329890559258199, 0.109963519752733, 0.3023996793200157, 0.109963519752733, 0.13745439969091625, 0.12719051108329577, 0.3815715332498873, 0.5087620443331831, 0.24191354739553347, 0.7559798356110421, 0.9279261097384168, 1.0103833335667596, 0.9626500968488982, 0.6037146179106343, 0.20123820597021141, 0.050309551492552854, 0.06707940199007047, 0.06707940199007047, 0.2446121801774927, 0.733836540532478, 0.381948599831779, 0.17628396915312877, 0.32318727678073605, 0.11752264610208583, 1.0601192634731125, 1.0601377128936982, 0.9270219124634158, 0.6570083776847027, 0.11945606866994594, 0.2389121373398919, 0.7763197495098343, 0.20429467092364062, 0.6207396169642614, 0.029559029379250545, 0.17735417627550326, 0.17735417627550326, 0.45949949876400226, 0.08296518727683375, 0.10211099972533383, 0.07020131231116701, 0.05743743734550028, 0.1595484370708341, 0.06381937482833365, 0.47732004032872494, 0.5170967103561187, 0.9176632524785744, 0.6113197133578706, 0.10188661889297844, 0.3056598566789353, 0.5869958016867481, 0.3913305344578321, 0.9176533681264019, 0.16341436388043312, 0.24512154582064968, 0.5855681372382187, 0.12656327535525513, 0.5062531014210205, 0.33750206761401375, 0.9620671167597794, 0.28209994668865723, 0.03891033747429755, 0.11673101242289266, 0.11673101242289266, 0.3307378685315292, 0.0778206749485951, 0.03891033747429755, 0.3181211053700551, 0.38810774855146724, 0.038174532644406615, 0.07634906528881323, 0.06998664318141212, 0.06998664318141212, 0.031812110537005514, 0.28771584462705474, 0.3836211261694063, 0.3836211261694063, 0.26705317484765456, 0.25391941215022895, 0.07880257618455382, 0.05253505078970254, 0.14009346877254011, 0.05253505078970254, 0.013133762697425635, 0.04815712989056066, 0.09193633888197944, 0.7727658842004653, 0.2094904694684965, 0.5760987910383654, 0.2094904694684965, 0.30456196949070385, 0.5482115450832669, 0.15228098474535193, 0.3261737948567758, 0.41126261090636945, 0.08508881604959367, 0.17017763209918735, 0.9626323378160775, 0.25698583408319814, 0.12849291704159907, 0.5139716681663963, 0.12849291704159907, 0.9986521048761899, 0.9589437970273659, 0.2634600789612418, 0.7025602105633114, 0.2967312687249275, 0.2967312687249275, 0.4316091181453491, 0.4733789616233858, 0.21414762549629357, 0.04508371063079865, 0.1803348425231946, 0.0901674212615973, 0.36479764744734205, 0.16719892174669843, 0.27359823558550656, 0.06079960790789034, 0.06079960790789034, 0.07599950988486293, 0.9661392830064477, 0.31634347355291287, 0.20130948317003544, 0.0575169951914387, 0.07668932692191827, 0.09586165865239783, 0.1150339903828774, 0.03834466346095913, 0.09586165865239783, 0.5477489718305253, 0.11685311399051206, 0.08763983549288404, 0.08763983549288404, 0.04381991774644202, 0.08763983549288404, 0.029213278497628014, 0.9912926923975959, 0.6920645088617433, 0.25952419082315376, 0.04325403180385896, 0.3357843760120159, 0.05596406266866931, 0.6156046893553624, 0.48858316215492203, 0.1068775667213892, 0.12384225985176844, 0.09669875084316165, 0.07294818046063073, 0.06616230320847903, 0.010178815878227544, 0.023750570382530933, 0.008482346565189619, 0.2922878178465043, 0.014614390892325217, 0.1753726907079026, 0.05845756356930087, 0.1753726907079026, 0.16075829981557738, 0.05845756356930087, 0.0876863453539513, 0.4955272535310154, 0.3633866525894113, 0.1321406009416041, 0.9587164623314547, 0.6186324164253174, 0.4124216109502116, 0.44450881417577587, 0.0499743637239038, 0.11967544997040121, 0.043398789549705934, 0.06444062690713911, 0.061810397237459964, 0.06838597141165784, 0.05260459339358295, 0.09600338294328888, 0.6880128528397729, 0.3127331149271695, 0.7077602191295302, 0.2752400852170395, 0.5274200582120218, 0.42695909474306526, 0.05023048173447826, 0.9929613670031127, 0.9615636953332496, 0.21084654548728748, 0.2520991304739307, 0.13292499606807254, 0.15584309883842987, 0.036668964432571734, 0.11459051385178667, 0.10083965218957228, 0.32308194102808974, 0.6461638820561795, 0.14886213437102358, 0.05954485374840943, 0.1786345612452283, 0.29772426874204716, 0.31261048217914955, 0.9088329762115644, 0.09401720443567908, 0.9546029167923954, 0.9176552690629021, 0.9176684956123285, 0.5024937399104772, 0.5024937399104772, 0.3865192920382065, 0.32548993013743704, 0.30514680950384726, 0.9340202340747408, 0.954579754435927, 0.15751826685058185, 0.540062629201995, 0.2700313146009975, 0.04500521910016624, 0.427480957176638, 0.07543781597234787, 0.2514593865744929, 0.050291877314898585, 0.1885945399308697, 0.9781496375134033, 0.6443608224045139, 0.36820618423115076, 0.5152525214798441, 0.5152525214798441, 0.23185023394218926, 0.4637004678843785, 0.30913364525625237, 0.24034702387620271, 0.7210410716286081, 0.31144449129188956, 0.6228889825837791, 0.9713413177075728, 0.3129003282820172, 0.09271120837985694, 0.2086002188546781, 0.04635560418992847, 0.28972252618705296, 0.04635560418992847, 0.5305329430983892, 0.4715848383096793, 0.17734318450434985, 0.7980443302695743, 0.41860930763370824, 0.23256072646317125, 0.32558501704843973, 0.32573122423046885, 0.5118633523621654, 0.1861321281316965, 0.9469382608747663, 0.9974570943348458, 0.41067281787180243, 0.01866694626690011, 0.336005032804202, 0.13066862386830078, 0.09333473133450056, 0.13689724861544245, 0.8213834916926547, 1.040825706512119, 0.38342793468123165, 0.26839955427686213, 0.17254257060655423, 0.028757095101092374, 0.038342793468123165, 0.1054426820373387, 0.18759858855348557, 0.7972940013523138, 0.6201971402246738, 0.1804209862471778, 0.13531573968538338, 0.06765786984269169], \"Term\": [\"A Point of Time with Reference to Duration of Time: Beginning, End\", \"A Point of Time with Reference to Duration of Time: Beginning, End\", \"A Point of Time with Reference to Duration of Time: Beginning, End\", \"A Point of Time with Reference to Duration of Time: Beginning, End\", \"A Point of Time with Reference to Other Points of Time: Before, Long Ago, Now, At the Same Time, When, About, After\", \"A Point of Time with Reference to Other Points of Time: Before, Long Ago, Now, At the Same Time, When, About, After\", \"A Point of Time with Reference to Other Points of Time: Before, Long Ago, Now, At the Same Time, When, About, After\", \"A Point of Time with Reference to Other Points of Time: Before, Long Ago, Now, At the Same Time, When, About, After\", \"A Point of Time with Reference to Other Points of Time: Before, Long Ago, Now, At the Same Time, When, About, After\", \"A Point of Time without Reference to Other Points of Time: Time, Occasion, Ever, Often\", \"Abhor\", \"Able, Capable\", \"Able, Capable\", \"Able, Capable\", \"Able, Capable\", \"Able, Capable\", \"Accept As True\", \"Accept As True\", \"Accuse, Blame\", \"Activities Involving Clothing and Adorning\", \"Activities Involving Clothing and Adorning\", \"Activities Involving Clothing and Adorning\", \"Activities Involving Clothing and Adorning\", \"Activities Involving Clothing and Adorning\", \"Activities Involving Clothing and Adorning\", \"Add, Subtract\", \"Adornments\", \"Adornments\", \"Adornments\", \"Adornments\", \"Advise\", \"Agent of a Numerable Event\", \"Agriculture\", \"All, Any, Each, Every [Totality]\", \"All, Any, Each, Every [Totality]\", \"All, Any, Each, Every [Totality]\", \"All, Any, Each, Every [Totality]\", \"All, Any, Each, Every [Totality]\", \"All, Any, Each, Every [Totality]\", \"All, Any, Each, Every [Totality]\", \"All, Any, Each, Every [Totality]\", \"All, Any, Each, Every [Totality]\", \"Among, Between, In, Inside\", \"Among, Between, In, Inside\", \"Among, Between, In, Inside\", \"Among, Between, In, Inside\", \"Anger, Be Indignant With\", \"Anger, Be Indignant With\", \"Anger, Be Indignant With\", \"Animals\", \"Animals\", \"Animals\", \"Animals\", \"Animals\", \"Animals\", \"Animals\", \"Animals\", \"Application and Removal of Liquids or Masses\", \"Application and Removal of Liquids or Masses\", \"Archetype, Corresponding Type [Antitype]\", \"Areas Which Are Uninhabited or Only Sparsely Populated\", \"Areas Which Are Uninhabited or Only Sparsely Populated\", \"Army\", \"Around, About, Outside\", \"Around, About, Outside\", \"Around, About, Outside\", \"Around, About, Outside\", \"Associate\", \"At, Beside, Near, Far\", \"Atmospheric Objects\", \"Atmospheric Objects\", \"Atmospheric Objects\", \"Atmospheric Objects\", \"Bad, Evil, Harmful, Damaging\", \"Bad, Evil, Harmful, Damaging\", \"Be Rich, Be Wealthy\", \"Be Rich, Be Wealthy\", \"Be Rich, Be Wealthy\", \"Be Rich, Be Wealthy\", \"Be a Believer, Christian Faith\", \"Be a Believer, Christian Faith\", \"Be in a Place\", \"Be in a Place\", \"Be in a Place\", \"Become Safe, Free from Danger\", \"Behavior, Conduct\", \"Birds\", \"Birds\", \"Birds\", \"Birds\", \"Birth, Procreation\", \"Bless, Curse\", \"Boats and Parts of Boats\", \"Boats and Parts of Boats\", \"Boats and Parts of Boats\", \"Bodies of Water\", \"Bodies of Water\", \"Bodies of Water\", \"Bodies of Water\", \"Bodies of Water\", \"Bodies of Water\", \"Bodies of Water\", \"Bodies of Water\", \"Bodies of Water\", \"Breathe, Breath\", \"Breathe, Breath\", \"Buildings\", \"Buildings\", \"Buildings\", \"Buildings\", \"Burning\", \"Burning\", \"Burning\", \"Burning\", \"Burning\", \"Call\", \"Capacity for Understanding\", \"Capacity for Understanding\", \"Capacity for Understanding\", \"Care For, Take Care Of\", \"Carry, Bear\", \"Carry, Bear\", \"Carry, Bear\", \"Carry, Bear\", \"Cease, Stop\", \"Cease, Stop\", \"Change Behavior\", \"Change an Opinion Concerning Truth\", \"Change of State\", \"Change of State\", \"Change of State\", \"Change of State\", \"Class, Kind\", \"Clean, Dirty\", \"Clean, Dirty\", \"Cloth, Leather, and Objects Made of Such Materials\", \"Cloth, Leather, and Objects Made of Such Materials\", \"Cloth, Leather, and Objects Made of Such Materials\", \"Cloth, Leather, and Objects Made of Such Materials\", \"Cloth, Leather, and Objects Made of Such Materials\", \"Cloth, Leather, and Objects Made of Such Materials\", \"Color\", \"Color\", \"Color\", \"Color\", \"Color\", \"Color\", \"Come, Come To, Arrive\", \"Come, Come To, Arrive\", \"Come, Come To, Arrive\", \"Come/Go Behind\", \"Come/Go Into\", \"Come/Go Into\", \"Come/Go Into\", \"Come/Go Up, Ascend\", \"Come/Go Up, Ascend\", \"Come/Go Up, Ascend\", \"Come/Go Up, Ascend\", \"Command, Order\", \"Command, Order\", \"Comparison\", \"Comparison\", \"Comparison\", \"Comparison\", \"Complete, Finish, Succeed\", \"Complete, Finish, Succeed\", \"Condiments\", \"Conquer\", \"Conquer\", \"Conquer\", \"Conquer\", \"Conquer\", \"Containers\", \"Containers\", \"Containers\", \"Containers\", \"Containers\", \"Containers\", \"Control, Restrain\", \"Control, Restrain\", \"Craft, Trade\", \"Darkness\", \"Darkness\", \"Darkness\", \"Dedicate, Consecrate\", \"Defile, Unclean, Common\", \"Defile, Unclean, Common\", \"Defile, Unclean, Common\", \"Definite Units of Time: Year, Month, Week, Day, Hour\", \"Definite Units of Time: Year, Month, Week, Day, Hour\", \"Definite Units of Time: Year, Month, Week, Day, Hour\", \"Definite Units of Time: Year, Month, Week, Day, Hour\", \"Definite Units of Time: Year, Month, Week, Day, Hour\", \"Definite Units of Time: Year, Month, Week, Day, Hour\", \"Demonstrative or Deictic Reference\", \"Demonstrative or Deictic Reference\", \"Depressions and Holes\", \"Desire Strongly\", \"Desire Strongly\", \"Desire Strongly\", \"Desire, Want, Wish\", \"Desire, Want, Wish\", \"Destroy\", \"Destroy\", \"Destroy\", \"Destroy\", \"Do, Perform\", \"Do, Perform\", \"Do, Perform\", \"Do, Perform\", \"Do, Perform\", \"Double, Four Times As Much, Etc. [Multiples]\", \"Drunkenness\", \"Duration of Time without Reference to Points or Units of Time: Time, Spend Time, Always, Eternal, Old, Immediately, Young\", \"Duration of Time without Reference to Points or Units of Time: Time, Spend Time, Always, Eternal, Old, Immediately, Young\", \"Duration of Time without Reference to Points or Units of Time: Time, Spend Time, Always, Eternal, Old, Immediately, Young\", \"Duration of Time without Reference to Points or Units of Time: Time, Spend Time, Always, Eternal, Old, Immediately, Young\", \"Duration of Time without Reference to Points or Units of Time: Time, Spend Time, Always, Eternal, Old, Immediately, Young\", \"Duration of Time without Reference to Points or Units of Time: Time, Spend Time, Always, Eternal, Old, Immediately, Young\", \"Duration of Time without Reference to Points or Units of Time: Time, Spend Time, Always, Eternal, Old, Immediately, Young\", \"Dwell, Reside\", \"Dwell, Reside\", \"Dwell, Reside\", \"Dwell, Reside\", \"Dwell, Reside\", \"Dwell, Reside\", \"Earn, Gain, Do Business\", \"Earth, Mud, Sand, Rock\", \"Earth, Mud, Sand, Rock\", \"Earth, Mud, Sand, Rock\", \"Eat, Drink\", \"Eat, Drink\", \"Eat, Drink\", \"Eat, Drink\", \"Eat, Drink\", \"Eat, Drink\", \"Elevated Land Formations\", \"Elevated Land Formations\", \"Elevated Land Formations\", \"Enjoy, Take Pleasure In, Be Fond of Doing\", \"Enjoy, Take Pleasure In, Be Fond of Doing\", \"Enjoy, Take Pleasure In, Be Fond of Doing\", \"Establish or Confirm a Relation\", \"Exercise Authority\", \"Exercise Authority\", \"Exercise Authority\", \"Exercise Authority\", \"Experiencer\", \"Experiencer\", \"Experiencer\", \"Extension From a Source\", \"Extension From a Source\", \"Extension From a Source\", \"Extravagant Living, Intemperate Living\", \"Fall\", \"Fall\", \"Fear, Terror, Alarm\", \"Fear, Terror, Alarm\", \"Females\", \"Females\", \"Females\", \"Fire\", \"Fire\", \"Fire\", \"Fire\", \"Fire\", \"First, Second, Third, Etc. [Ordinals]\", \"First, Second, Third, Etc. [Ordinals]\", \"First, Second, Third, Etc. [Ordinals]\", \"First, Second, Third, Etc. [Ordinals]\", \"Fly\", \"Fly\", \"Fly\", \"Follow, Accompany\", \"Fruit Parts of Plants\", \"Fruit Parts of Plants\", \"Fruit Parts of Plants\", \"Full, Empty\", \"Full, Empty\", \"Full, Empty\", \"Full, Empty\", \"Full, Empty\", \"Funerals and Burial\", \"Furniture\", \"Furniture\", \"Furniture\", \"Furniture\", \"Furniture\", \"Furniture\", \"Furniture\", \"Gather, Cause To Come Together\", \"Gather, Cause To Come Together\", \"General\", \"General\", \"General\", \"Genuine, Phony\", \"Glorious\", \"Go Around, Surround\", \"Grasp, Hold\", \"Grasp, Hold\", \"Groups and Members of Groups of Persons Regarded as Related by Blood but without Special Reference to Successive Generations\", \"Groups and Members of Groups of Persons Regarded as Related by Blood but without Special Reference to Successive Generations\", \"Groups and Members of Groups of Persons Regarded as Related by Blood but without Special Reference to Successive Generations\", \"Groups and Members of Groups of Persons Regarded as Related by Blood but without Special Reference to Successive Generations\", \"Guide, Lead\", \"Half, Third, Fourth [Fractional Part]\", \"Half, Third, Fourth [Fractional Part]\", \"Half, Third, Fourth [Fractional Part]\", \"Happen\", \"Happen\", \"Happen\", \"Happen\", \"Happen\", \"Happy, Glad, Joyful\", \"Happy, Glad, Joyful\", \"Happy, Glad, Joyful\", \"Happy, Glad, Joyful\", \"Happy, Glad, Joyful\", \"Harm, Wound\", \"Harm, Wound\", \"Harm, Wound\", \"Health, Vigor, Strength\", \"Health, Vigor, Strength\", \"Hear\", \"Hear\", \"Hear\", \"Hear\", \"Hear\", \"Hear\", \"Heavenly Bodies\", \"Heavenly Bodies\", \"Heavenly Bodies\", \"Heavenly Bodies\", \"Heavenly Bodies\", \"Help\", \"Here, There\", \"Here, There\", \"High Status or Rank [including persons of high status]\", \"High Status or Rank [including persons of high status]\", \"High Status or Rank [including persons of high status]\", \"High Status or Rank [including persons of high status]\", \"Hit, Strike\", \"Hit, Strike\", \"Hold a Wrong View, Be Mistaken\", \"Hold a Wrong View, Be Mistaken\", \"Hold a Wrong View, Be Mistaken\", \"Holy, Pure\", \"Holy, Pure\", \"Holy, Pure\", \"Holy, Pure\", \"Honor or Respect in Relation to Status\", \"Honor or Respect in Relation to Status\", \"Hot, Lukewarm, Cold\", \"Human Beings\", \"Human Beings\", \"Human Beings\", \"Human Beings\", \"Images and Idols\", \"Images and Idols\", \"Images and Idols\", \"Impurity\", \"Increase, Decrease\", \"Inform, Announce\", \"Inform, Announce\", \"Inform, Announce\", \"Instruments Used in Agriculture and Husbandry\", \"Instruments Used in Marking and Writing\", \"Instruments Used in Marking and Writing\", \"Instruments Used in Marking and Writing\", \"Instruments Used in Marking and Writing\", \"Instruments Used in Marking and Writing\", \"Instruments Used in Marking and Writing\", \"Insult, Slander\", \"Insult, Slander\", \"Judge, Condemn, Acquit\", \"Judge, Condemn, Acquit\", \"Judge, Condemn, Acquit\", \"Just, Righteous\", \"Just, Righteous\", \"Just, Righteous\", \"Just, Righteous\", \"Keep Silent\", \"Keep Silent\", \"Kill\", \"Kill\", \"Kill\", \"Kill\", \"Kill\", \"Kindness, Harshness\", \"Kinship Relations Based upon Marriage\", \"Kinship Relations Based upon Marriage\", \"Kinship Relations Based upon Marriage\", \"Kinship Relations Involving Successive Generations\", \"Kinship Relations Involving Successive Generations\", \"Kinship Relations Involving Successive Generations\", \"Know\", \"Know\", \"Land in Contrast With the Sea\", \"Land in Contrast With the Sea\", \"Land in Contrast With the Sea\", \"Language Levels\", \"Language Levels\", \"Large, Small\", \"Laugh, Cry, Groan\", \"Laugh, Cry, Groan\", \"Lead, Bring, Take\", \"Learn the Location of Something\", \"Learn the Location of Something\", \"Learn the Location of Something\", \"Learn the Location of Something\", \"Leave, Depart, Flee, Escape, Send\", \"Leave, Depart, Flee, Escape, Send\", \"Leave, Depart, Flee, Escape, Send\", \"Leave, Depart, Flee, Escape, Send\", \"Leave, Depart, Flee, Escape, Send\", \"Leave, Depart, Flee, Escape, Send\", \"Leave, Depart, Flee, Escape, Send\", \"Light\", \"Light\", \"Light\", \"Light\", \"Light\", \"Live, Die\", \"Live, Die\", \"Live, Die\", \"Live, Die\", \"Live, Die\", \"Live, Die\", \"Live, Die\", \"Live, Die\", \"Love, Affection, Compassion\", \"Low Status or Rank [including persons of low status]\", \"Low Status or Rank [including persons of low status]\", \"Magic\", \"Magic\", \"Make, Create\", \"Make, Create\", \"Make, Create\", \"Make, Create\", \"Male, Female\", \"Many, Few [Countables]\", \"Maritime Activities\", \"Markers of Emphasis\", \"Markers of Transition\", \"Markers of Transition\", \"Marriage, Divorce\", \"Mercy, Merciless\", \"Metals\", \"Metals\", \"Metals\", \"Metals\", \"Metals\", \"Metals\", \"Metals\", \"Miscellaneous\", \"Miscellaneous\", \"Miscellaneous\", \"Mix\", \"Mix\", \"Mix\", \"Mix\", \"Move, Come/Go\", \"Move, Come/Go\", \"Movement of Liquids or Masses\", \"Movement of Liquids or Masses\", \"Movement of the Earth\", \"Movement of the Earth\", \"Much, Little [Masses, Collectives, Extensions]\", \"Musical Instruments\", \"Musical Instruments\", \"Musical Instruments\", \"Musical Instruments\", \"Musical Instruments\", \"Name\", \"Name\", \"Name\", \"Name\", \"Name\", \"Name\", \"Narrow, Wide\", \"Need, Lack\", \"Need, Lack\", \"New, Old [primarily non-temporal]\", \"New, Old [primarily non-temporal]\", \"New, Old [primarily non-temporal]\", \"Non-Fruit Parts of Plants\", \"Non-Verbal Communication\", \"Non-Verbal Communication\", \"Non-Verbal Communication\", \"Non-Verbal Communication\", \"Non-Verbal Communication\", \"North, South, East, West\", \"North, South, East, West\", \"Number, Countless\", \"Number, Countless\", \"Number, Countless\", \"Number, Countless\", \"Number, Countless\", \"Obey, Disobey\", \"Obey, Disobey\", \"Obey, Disobey\", \"One, Two, Three, Etc. [Cardinals]\", \"One, Two, Three, Etc. [Cardinals]\", \"One, Two, Three, Etc. [Cardinals]\", \"One, Two, Three, Etc. [Cardinals]\", \"One, Two, Three, Etc. [Cardinals]\", \"One, Two, Three, Etc. [Cardinals]\", \"One, Two, Three, Etc. [Cardinals]\", \"One, Two, Three, Etc. [Cardinals]\", \"Open, Closed\", \"Open, Closed\", \"Open, Closed\", \"Open, Closed\", \"Open, Closed\", \"Open, Closed\", \"Pain, Suffering\", \"Pain, Suffering\", \"Pain, Suffering\", \"Pair, Group [Numbered Collectives]\", \"Pair, Group [Numbered Collectives]\", \"Pair, Group [Numbered Collectives]\", \"Part\", \"Part\", \"Part\", \"Parts of the Body\", \"Parts of the Body\", \"Parts of the Body\", \"Parts of the Body\", \"Parts of the Body\", \"Parts of the Body\", \"Parts of the Body\", \"Parts of the Body\", \"Parts of the Body\", \"Perfumes and Incense\", \"Perfumes and Incense\", \"Perfumes and Incense\", \"Persons\", \"Persons\", \"Persons\", \"Persons\", \"Persons\", \"Persons\", \"Persons\", \"Physiological Products of the Body\", \"Places\", \"Places\", \"Places\", \"Plant Products\", \"Plant Products\", \"Plant Products\", \"Plants That Are Not Trees\", \"Plants That Are Not Trees\", \"Population Centers\", \"Population Centers\", \"Population Centers\", \"Population Centers\", \"Power, Force\", \"Power, Force\", \"Power, Force\", \"Power, Force\", \"Power, Force\", \"Power, Force\", \"Power, Force\", \"Praise\", \"Praise\", \"Praise\", \"Praise\", \"Praise\", \"Pray\", \"Pray\", \"Pray\", \"Precious and Semiprecious Stones and Substances\", \"Precious and Semiprecious Stones and Substances\", \"Press\", \"Prisoners of War\", \"Processes Involving the Mouth, Other Than Eating and Drinking\", \"Prompters of Attention\", \"Prompters of Attention\", \"Prompters of Attention\", \"Prompters of Attention\", \"Prompters of Attention\", \"Prophesy\", \"Prophesy\", \"Prostrate as an Act of Reverence or Supplication\", \"Prostrate as an Act of Reverence or Supplication\", \"Prostrate as an Act of Reverence or Supplication\", \"Prostrate as an Act of Reverence or Supplication\", \"Pull, Draw, Drag\", \"Pursue, Follow\", \"Rapidity, Suddenness\", \"Ready, Prepared\", \"Ready, Prepared\", \"Ready, Prepared\", \"Real, Unreal\", \"Real, Unreal\", \"Receive\", \"Receive\", \"Receive\", \"Receive\", \"Regions Above the Earth\", \"Regions Above the Earth\", \"Regions Above the Earth\", \"Regions Above the Earth\", \"Regions Above the Earth\", \"Regions Above the Earth\", \"Regions Above the Earth\", \"Regions Below the Surface of the Earth\", \"Regions Below the Surface of the Earth\", \"Relative Reference\", \"Release, Set Free\", \"Release, Set Free\", \"Release, Set Free\", \"Religious Practice\", \"Religious Practice\", \"Remain, Stay\", \"Reptiles and Other 'Creeping Things'\", \"Reptiles and Other 'Creeping Things'\", \"Reptiles and Other 'Creeping Things'\", \"Reward, Recompense\", \"Reward, Recompense\", \"Reward, Recompense\", \"Ripen, Produce Fruit, Bear Seed\", \"Roles and Functions\", \"Roles and Functions\", \"Roles and Functions\", \"Roles and Functions\", \"Roles and Functions\", \"Roles and Functions\", \"Roles and Functions\", \"Rule, Govern\", \"Rule, Govern\", \"Rule, Govern\", \"Rule, Govern\", \"Rule, Govern\", \"Rule, Govern\", \"Rule, Govern\", \"Save in a Religious Sense\", \"Save in a Religious Sense\", \"Save in a Religious Sense\", \"See\", \"See\", \"See\", \"See\", \"See\", \"See\", \"See\", \"See\", \"See\", \"Seize, Take into Custody\", \"Sell, Buy, Price\", \"Sell, Buy, Price\", \"Sell, Buy, Price\", \"Sequence\", \"Sequence\", \"Sequence\", \"Sexual Misbehavior\", \"Sexual Misbehavior\", \"Sexual Misbehavior\", \"Sexual Misbehavior\", \"Shame, Disgrace, Humiliation\", \"Shapes\", \"Shapes\", \"Shapes\", \"Shapes\", \"Sharp\", \"Should, Ought\", \"Sin, Wrongdoing, Guilt\", \"Sin, Wrongdoing, Guilt\", \"Sing, Lament\", \"Sing, Lament\", \"Sing, Lament\", \"Sit\", \"Sit\", \"Sit\", \"Sit\", \"Sit\", \"Slave, Free\", \"Slave, Free\", \"Slave, Free\", \"Slave, Free\", \"Slave, Free\", \"Slave, Free\", \"Sleep, Waking\", \"Socio-Political\", \"Socio-Political\", \"Socio-Political\", \"Socio-Political\", \"Socio-Political\", \"Socio-Political\", \"Socio-Political\", \"Socio-Political\", \"Socio-Religious\", \"Socio-Religious\", \"Socio-Religious\", \"Socio-Religious\", \"Socio-Religious\", \"Socio-Religious\", \"Socio-Religious\", \"Soldiers, Officers\", \"Sound\", \"Sound\", \"Sound\", \"Space, Place\", \"Space, Place\", \"Space, Place\", \"Speak, Talk\", \"Speak, Talk\", \"Speak, Talk\", \"Speak, Talk\", \"Speak, Talk\", \"Speak, Talk\", \"Speak, Talk\", \"Speak, Talk\", \"Speak, Talk\", \"Stand\", \"Stand\", \"Stand\", \"Stand\", \"Stand\", \"Stand\", \"Stand\", \"Stand\", \"State\", \"State\", \"State\", \"Steal, Rob\", \"Strong, Weak\", \"Strong, Weak\", \"Supernatural Beings\", \"Supernatural Beings\", \"Supernatural Beings\", \"Supernatural Beings\", \"Supernatural Beings\", \"Supernatural Beings\", \"Supernatural Beings\", \"Supernatural Beings\", \"Supernatural Beings\", \"Surprise, Astonish\", \"Surprise, Astonish\", \"Sweet, Bitter, Tasteless\", \"Sweet, Bitter, Tasteless\", \"Take, Obtain, Gain, Lose\", \"Take, Obtain, Gain, Lose\", \"Take, Obtain, Gain, Lose\", \"Teach\", \"Thanks\", \"The Earth's Surface\", \"The Earth's Surface\", \"The Earth's Surface\", \"The Earth's Surface\", \"The Earth's Surface\", \"The Earth's Surface\", \"The Earth's Surface\", \"Thoroughfares: Roads, Streets, Paths, etc.\", \"Thoroughfares: Roads, Streets, Paths, etc.\", \"Throw, Hurl\", \"Throw, Hurl\", \"Throw, Hurl\", \"Throw, Hurl\", \"Throw, Hurl\", \"Thunder and Lightning\", \"Thunder and Lightning\", \"To Cause To Experience\", \"To Choose, To Select, To Prefer\", \"To Decide, To Conclude\", \"To Distinguish, To Evaluate, To Judge\", \"To Distinguish, To Evaluate, To Judge\", \"To Fight\", \"To Fight\", \"To Fight\", \"To Intend, To Purpose, To Plan\", \"Transparent\", \"Trees\", \"Trees\", \"Trees\", \"Trees\", \"Trouble, Hardship, Distress\", \"Trouble, Hardship, Distress\", \"Trouble, Hardship, Distress\", \"Trouble, Hardship, Distress\", \"Trouble, Hardship, Distress\", \"Try To Learn\", \"Understand\", \"Understand\", \"Universe, Creation\", \"Universe, Creation\", \"Use of Liquids\", \"Use of Liquids\", \"Use of Liquids\", \"Valuable, Lacking in Value\", \"Valuable, Lacking in Value\", \"Vehicles\", \"Vehicles\", \"Walk, Step\", \"Water\", \"Water\", \"Water\", \"Water\", \"Water\", \"Water\", \"Weapons and Armor\", \"Weapons and Armor\", \"Well Known, Clearly Shown, Revealed\", \"Well Known, Clearly Shown, Revealed\", \"Where, Somewhere, Everywhere\", \"Where, Somewhere, Everywhere\", \"Where, Somewhere, Everywhere\", \"Whole\", \"Whole\", \"Whole\", \"Whom or What Spoken or Written About\", \"Wind\", \"Witness, Testify\", \"Witness, Testify\", \"Witness, Testify\", \"Witness, Testify\", \"Witness, Testify\", \"Wood and Wood Products\", \"Wood and Wood Products\", \"Work, Toil\", \"Worship, Reverence\", \"Worship, Reverence\", \"Worship, Reverence\", \"Worship, Reverence\", \"Worship, Reverence\", \"Worship, Reverence\", \"Worthy, Not Worthy\", \"Worthy, Not Worthy\", \"Written Language\", \"Written Language\", \"Written Language\", \"Written Language\"]}, \"R\": 30, \"lambda.step\": 0.01, \"plot.opts\": {\"xlab\": \"PC1\", \"ylab\": \"PC2\"}, \"topic.order\": [2, 3, 6, 1, 7, 4, 9, 5, 8]};\n",
              "\n",
              "function LDAvis_load_lib(url, callback){\n",
              "  var s = document.createElement('script');\n",
              "  s.src = url;\n",
              "  s.async = true;\n",
              "  s.onreadystatechange = s.onload = callback;\n",
              "  s.onerror = function(){console.warn(\"failed to load library \" + url);};\n",
              "  document.getElementsByTagName(\"head\")[0].appendChild(s);\n",
              "}\n",
              "\n",
              "if(typeof(LDAvis) !== \"undefined\"){\n",
              "   // already loaded: just create the visualization\n",
              "   !function(LDAvis){\n",
              "       new LDAvis(\"#\" + \"ldavis_el2041403591951371848605275795\", ldavis_el2041403591951371848605275795_data);\n",
              "   }(LDAvis);\n",
              "}else if(typeof define === \"function\" && define.amd){\n",
              "   // require.js is available: use it to load d3/LDAvis\n",
              "   require.config({paths: {d3: \"https://d3js.org/d3.v5\"}});\n",
              "   require([\"d3\"], function(d3){\n",
              "      window.d3 = d3;\n",
              "      LDAvis_load_lib(\"https://cdn.jsdelivr.net/gh/bmabey/pyLDAvis@3.4.0/pyLDAvis/js/ldavis.v3.0.0.js\", function(){\n",
              "        new LDAvis(\"#\" + \"ldavis_el2041403591951371848605275795\", ldavis_el2041403591951371848605275795_data);\n",
              "      });\n",
              "    });\n",
              "}else{\n",
              "    // require.js not available: dynamically load d3 & LDAvis\n",
              "    LDAvis_load_lib(\"https://d3js.org/d3.v5.js\", function(){\n",
              "         LDAvis_load_lib(\"https://cdn.jsdelivr.net/gh/bmabey/pyLDAvis@3.4.0/pyLDAvis/js/ldavis.v3.0.0.js\", function(){\n",
              "                 new LDAvis(\"#\" + \"ldavis_el2041403591951371848605275795\", ldavis_el2041403591951371848605275795_data);\n",
              "            })\n",
              "         });\n",
              "}\n",
              "</script>"
            ]
          },
          "metadata": {},
          "execution_count": 41
        }
      ],
      "source": [
        "# Visualize the topics using pyLDAvis\n",
        "vis = gensimvis.prepare(vis_model, vis_corpus, dictionary)\n",
        "pyLDAvis.display(vis)"
      ]
    },
    {
      "cell_type": "markdown",
      "metadata": {
        "id": "9yKEnKQqhUfJ"
      },
      "source": [
        "## Tuning the model ([source](https://radimrehurek.com/gensim/auto_examples/tutorials/run_ensemblelda.html#tuning))\n",
        "\n",
        "Different from `LdaModel`, the number of resulting topics varies greatly depending on the clustering parameters.\n",
        "\n",
        "You can provide those in the `recluster()` function or the `EnsembleLda` constructor.\n",
        "\n",
        "Play around until you get as many topics as you desire, which however may reduce their quality. If your ensemble doesn't have enough topics to begin with, you should make sure to make it large enough.\n",
        "\n",
        "Having an epsilon that is smaller than the smallest distance doesn't make sense. Make sure to chose one that is within the range of values in `asymmetric_distance_matrix`."
      ]
    },
    {
      "cell_type": "code",
      "execution_count": 19,
      "metadata": {
        "id": "Y0y0HHSchUfK",
        "colab": {
          "base_uri": "https://localhost:8080/"
        },
        "outputId": "a4a3f906-9521-4054-9e12-acb1a38b017f"
      },
      "outputs": [
        {
          "output_type": "stream",
          "name": "stderr",
          "text": [
            "/usr/local/lib/python3.9/dist-packages/ipykernel/ipkernel.py:283: DeprecationWarning: `should_run_async` will not call `transform_cell` automatically in the future. Please pass the result to `transformed_cell` argument and any exception that happen during thetransform in `preprocessing_exc_tuple` in IPython 7.17 and above.\n",
            "  and should_run_async(code)\n",
            "WARNING:gensim.models.ldamodel:too few updates, training might not converge; consider increasing the number of passes or iterations to improve accuracy\n"
          ]
        },
        {
          "output_type": "stream",
          "name": "stdout",
          "text": [
            "0.0 0.19183585118320387 0.8053145305610997\n",
            "20\n"
          ]
        }
      ],
      "source": [
        "import numpy as np\n",
        "shape = ensemble.asymmetric_distance_matrix.shape\n",
        "without_diagonal = ensemble.asymmetric_distance_matrix[~np.eye(shape[0], dtype=bool)].reshape(shape[0], -1)\n",
        "print(without_diagonal.min(), without_diagonal.mean(), without_diagonal.max())\n",
        "\n",
        "ensemble.recluster(eps=0.09, min_samples=2, min_cores=2)\n",
        "\n",
        "print(len(ensemble.get_topics()))"
      ]
    }
  ],
  "metadata": {
    "colab": {
      "provenance": [],
      "include_colab_link": true
    },
    "kernelspec": {
      "display_name": "Python 3",
      "name": "python3"
    },
    "language_info": {
      "name": "python"
    }
  },
  "nbformat": 4,
  "nbformat_minor": 0
}