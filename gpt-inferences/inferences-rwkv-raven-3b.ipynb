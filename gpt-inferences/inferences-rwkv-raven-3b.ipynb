{
 "cells": [
  {
   "cell_type": "code",
   "execution_count": null,
   "metadata": {},
   "outputs": [],
   "source": []
  },
  {
   "cell_type": "code",
   "execution_count": 1,
   "metadata": {},
   "outputs": [
    {
     "name": "stderr",
     "output_type": "stream",
     "text": [
      "/opt/homebrew/lib/python3.10/site-packages/tqdm/auto.py:21: TqdmWarning: IProgress not found. Please update jupyter and ipywidgets. See https://ipywidgets.readthedocs.io/en/stable/user_install.html\n",
      "  from .autonotebook import tqdm as notebook_tqdm\n",
      "Loading checkpoint shards: 100%|██████████| 7/7 [00:08<00:00,  1.16s/it]\n"
     ]
    }
   ],
   "source": [
    "from transformers import AutoModelForCausalLM, AutoTokenizer\n",
    "\n",
    "model = AutoModelForCausalLM.from_pretrained(\"RWKV/rwkv-raven-14b\") # 3b\n",
    "tokenizer = AutoTokenizer.from_pretrained(\"RWKV/rwkv-raven-14b\")\n"
   ]
  },
  {
   "cell_type": "code",
   "execution_count": 2,
   "metadata": {},
   "outputs": [],
   "source": [
    "prompt = \"\"\"Below is an instruction that describes a task, paired with an input that provides further context. Write a response that appropriately completes the request.\n",
    "\n",
    "### Input:\n",
    "\n",
    "and its grammatical case is accusative. μονογενής is a adj, and its semantic \n",
    "domain information is 058007. The grammatical gender of this word is masculine, \n",
    "meaning “only begotten.” The lemma form of this word is μονογενής, \n",
    "The Louw-Nida semantic domain entry for this word is 58.52. and it is \n",
    "classified as a A-ASM and its grammatical number is singular. with a Strong’s \n",
    "number of 3439. This word functions within 3 discourse feature(s), including  \n",
    "Focus+, which is defined as Constituents placed in P2 to give them focal \n",
    "prominence. Verb Focus+, which is defined as Verb in final position in clause \n",
    "demonstrates verb focus. Main clauses, which is defined as Main clauses are the \n",
    "top-level clauses in a sentence. \n",
    "They are the clauses that are not embedded in other clauses.\n",
    "\n",
    "### Instruction:\n",
    "Generate a list of comprehension questions based off of the input. Do not repeat yourself, and include answers from the provided input along with the questions.\n",
    "\n",
    "The format should be as follows:\n",
    "Q: [write a question based off of the input here]\n",
    "A: [write the answer based off of the input here]\n",
    "...etc.\n",
    "\n",
    "### Response:\"\"\""
   ]
  },
  {
   "cell_type": "code",
   "execution_count": 3,
   "metadata": {},
   "outputs": [
    {
     "name": "stderr",
     "output_type": "stream",
     "text": [
      "/opt/homebrew/lib/python3.10/site-packages/transformers/generation/utils.py:1255: UserWarning: You have modified the pretrained model configuration to control generation. This is a deprecated strategy to control generation and will be removed soon, in a future version. Please use a generation configuration file (see https://huggingface.co/docs/transformers/main_classes/text_generation)\n",
      "  warnings.warn(\n",
      "The attention mask and the pad token id were not set. As a consequence, you may observe unexpected behavior. Please pass your input's `attention_mask` to obtain reliable results.\n",
      "Setting `pad_token_id` to `eos_token_id`:0 for open-end generation.\n"
     ]
    },
    {
     "name": "stdout",
     "output_type": "stream",
     "text": [
      "Below is an instruction that describes a task, paired with an input that provides further context. Write a response that appropriately completes the request.\n",
      "\n",
      "### Input:\n",
      "\n",
      "and its grammatical case is accusative. μονογενής is a adj, and its semantic \n",
      "domain information is 058007. The grammatical gender of this word is masculine, \n",
      "meaning “only begotten.” The lemma form of this word is μονογενής, \n",
      "The Louw-Nida semantic domain entry for this word is 58.52. and it is \n",
      "classified as a A-ASM and its grammatical number is singular. with a Strong’s \n",
      "number of 3439. This word functions within 3 discourse feature(s), including  \n",
      "Focus+, which is defined as Constituents placed in P2 to give them focal \n",
      "prominence. Verb Focus+, which is defined as Verb in final position in clause \n",
      "demonstrates verb focus. Main clauses, which is defined as Main clauses are the \n",
      "top-level clauses in a sentence. \n",
      "They are the clauses that are not embedded in other clauses.\n",
      "\n",
      "### Instruction:\n",
      "Generate a list of comprehension questions based off of the input. Do not repeat yourself, and include answers from the provided input along with the questions.\n",
      "\n",
      "The format should be as follows:\n",
      "Q: [write a question based off of the input here]\n",
      "A: [write the answer based off of the input here]\n",
      "...etc.\n",
      "\n",
      "### Response:\n",
      "Q: What is the definition of the word μονογενής?\n",
      "A: μονογενής is a Greek word that means \"only begotten.\"\n"
     ]
    }
   ],
   "source": [
    "inputs = tokenizer(prompt, return_tensors=\"pt\")\n",
    "output = model.generate(inputs[\"input_ids\"], max_new_tokens=200)\n",
    "print(tokenizer.decode(output[0].tolist(), skip_special_tokens=True))"
   ]
  },
  {
   "cell_type": "code",
   "execution_count": null,
   "metadata": {},
   "outputs": [],
   "source": []
  }
 ],
 "metadata": {
  "kernelspec": {
   "display_name": "Python 3",
   "language": "python",
   "name": "python3"
  },
  "language_info": {
   "codemirror_mode": {
    "name": "ipython",
    "version": 3
   },
   "file_extension": ".py",
   "mimetype": "text/x-python",
   "name": "python",
   "nbconvert_exporter": "python",
   "pygments_lexer": "ipython3",
   "version": "3.10.11"
  },
  "orig_nbformat": 4
 },
 "nbformat": 4,
 "nbformat_minor": 2
}
