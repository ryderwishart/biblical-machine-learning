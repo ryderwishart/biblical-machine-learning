{
 "cells": [
  {
   "cell_type": "code",
   "execution_count": null,
   "metadata": {},
   "outputs": [],
   "source": [
    "# !pip install langchain openai chromadb tiktoken"
   ]
  },
  {
   "cell_type": "code",
   "execution_count": 2,
   "metadata": {},
   "outputs": [],
   "source": [
    "import os\n",
    "import getpass\n",
    "secret_key = getpass.getpass('Enter OpenAI secret key: ')\n",
    "os.environ['OPENAI_API_KEY'] = secret_key"
   ]
  },
  {
   "attachments": {},
   "cell_type": "markdown",
   "metadata": {},
   "source": [
    "# Create Chroma Database for Prose Context"
   ]
  },
  {
   "cell_type": "code",
   "execution_count": 3,
   "metadata": {},
   "outputs": [],
   "source": [
    "context_documents_path = '/Users/ryderwishart/genesis/itemized_prose_contexts' # NOTE: this is the directory for the itemized prose contexts\n",
    "context_documents_path = '/Users/ryderwishart/genesis/prose_contexts' # NOTE: this is the directory for the full prose contexts \n"
   ]
  },
  {
   "cell_type": "code",
   "execution_count": 4,
   "metadata": {},
   "outputs": [],
   "source": [
    "from langchain.embeddings.openai import OpenAIEmbeddings\n",
    "from langchain.vectorstores import Chroma\n",
    "from langchain.text_splitter import CharacterTextSplitter\n",
    "from langchain.llms import OpenAI\n",
    "from langchain.chains import RetrievalQA\n",
    "from langchain.document_loaders import TextLoader\n",
    "from langchain.agents import initialize_agent, Tool\n",
    "from langchain.agents import AgentType\n",
    "from pathlib import Path\n",
    "\n",
    "# Load Language Model\n",
    "llm = OpenAI(temperature=0)"
   ]
  },
  {
   "attachments": {},
   "cell_type": "markdown",
   "metadata": {},
   "source": [
    "## Set up embeddings model"
   ]
  },
  {
   "cell_type": "code",
   "execution_count": 5,
   "metadata": {},
   "outputs": [],
   "source": [
    "persist_directory = '/Users/ryderwishart/genesis/databases/prose-contexts' # NOTE: this is the db for the itemized prose contexts\n",
    "# persist_directory = '/Users/ryderwishart/genesis/databases/itemized-prose-contexts' # NOTE: this is the db for the itemized prose contexts\n",
    "# persist_directory = '/Users/ryderwishart/biblical-machine-learning/gpt-inferences/db' # NOTE: this is the db for the full prose contexts "
   ]
  },
  {
   "cell_type": "code",
   "execution_count": 6,
   "metadata": {},
   "outputs": [],
   "source": [
    "# !pip install sentence_transformers > /dev/null"
   ]
  },
  {
   "cell_type": "code",
   "execution_count": 7,
   "metadata": {},
   "outputs": [
    {
     "name": "stderr",
     "output_type": "stream",
     "text": [
      "/opt/homebrew/lib/python3.10/site-packages/tqdm/auto.py:21: TqdmWarning: IProgress not found. Please update jupyter and ipywidgets. See https://ipywidgets.readthedocs.io/en/stable/user_install.html\n",
      "  from .autonotebook import tqdm as notebook_tqdm\n"
     ]
    }
   ],
   "source": [
    "from langchain.embeddings import HuggingFaceEmbeddings, SentenceTransformerEmbeddings\n",
    "embeddings = HuggingFaceEmbeddings()"
   ]
  },
  {
   "attachments": {},
   "cell_type": "markdown",
   "metadata": {},
   "source": [
    "Use following code if creating new chroma DB"
   ]
  },
  {
   "cell_type": "code",
   "execution_count": 8,
   "metadata": {},
   "outputs": [],
   "source": [
    "# !pip install unstructured > /dev/null"
   ]
  },
  {
   "attachments": {},
   "cell_type": "markdown",
   "metadata": {},
   "source": [
    "Use the following code to create a new database from the documents in `context_documents_path`"
   ]
  },
  {
   "cell_type": "code",
   "execution_count": 10,
   "metadata": {},
   "outputs": [],
   "source": [
    "# Long book names to USFM (3 uppercase letters) format\n",
    "book_name_mapping = {\n",
    "    \"Genesis\": \"GEN\",\n",
    "    \"Exodus\": \"EXO\",\n",
    "    \"Leviticus\": \"LEV\",\n",
    "    \"Numbers\": \"NUM\",\n",
    "    \"Deuteronomy\": \"DEU\",\n",
    "    \"Joshua\": \"JOS\",\n",
    "    \"Judges\": \"JDG\",\n",
    "    \"Ruth\": \"RUT\",\n",
    "    \"1 Samuel\": \"1SA\",\n",
    "    \"2 Samuel\": \"2SA\",\n",
    "    \"1 Kings\": \"1KI\",\n",
    "    \"2 Kings\": \"2KI\",\n",
    "    \"1 Chronicles\": \"1CH\",\n",
    "    \"2 Chronicles\": \"2CH\",\n",
    "    \"Ezra\": \"EZR\",\n",
    "    \"Nehemiah\": \"NEH\",\n",
    "    \"Esther\": \"EST\",\n",
    "    \"Job\": \"JOB\",\n",
    "    \"Psalms\": \"PSA\",\n",
    "    \"Psalm\": \"PSA\",\n",
    "    \"Proverbs\": \"PRO\",\n",
    "    \"Ecclesiastes\": \"ECC\",\n",
    "    \"Song of Solomon\": \"SNG\",\n",
    "    \"Isaiah\": \"ISA\",\n",
    "    \"Jeremiah\": \"JER\",\n",
    "    \"Lamentations\": \"LAM\",\n",
    "    \"Ezekiel\": \"EZK\",\n",
    "    \"Daniel\": \"DAN\",\n",
    "    \"Hosea\": \"HOS\",\n",
    "    \"Joel\": \"JOL\",\n",
    "    \"Amos\": \"AMO\",\n",
    "    \"Obadiah\": \"OBA\",\n",
    "    \"Jonah\": \"JON\",\n",
    "    \"Micah\": \"MIC\",\n",
    "    \"Nahum\": \"NAM\",\n",
    "    \"Habakkuk\": \"HAB\",\n",
    "    \"Zephaniah\": \"ZEP\",\n",
    "    \"Haggai\": \"HAG\",\n",
    "    \"Zechariah\": \"ZEC\",\n",
    "    \"Malachi\": \"MAL\",\n",
    "    \"Matthew\": \"MAT\",\n",
    "    \"Mark\": \"MRK\",\n",
    "    \"Luke\": \"LUK\",\n",
    "    \"John\": \"JHN\",\n",
    "    \"Acts\": \"ACT\",\n",
    "    \"Romans\": \"ROM\",\n",
    "    \"1 Corinthians\": \"1CO\",\n",
    "    \"2 Corinthians\": \"2CO\",\n",
    "    \"Galatians\": \"GAL\",\n",
    "    \"Ephesians\": \"EPH\",\n",
    "    \"Philippians\": \"PHP\",\n",
    "    \"Colossians\": \"COL\",\n",
    "    \"1 Thessalonians\": \"1TH\",\n",
    "    \"2 Thessalonians\": \"2TH\",\n",
    "    \"1 Timothy\": \"1TI\",\n",
    "    \"2 Timothy\": \"2TI\",\n",
    "    \"Titus\": \"TIT\",\n",
    "    \"Philemon\": \"PHM\",\n",
    "    \"Hebrews\": \"HEB\",\n",
    "    \"James\": \"JAS\",\n",
    "    \"1 Peter\": \"1PE\",\n",
    "    \"2 Peter\": \"2PE\",\n",
    "    \"1 John\": \"1JN\",\n",
    "    \"2 John\": \"2JN\",\n",
    "    \"3 John\": \"3JN\",\n",
    "    \"Jude\": \"JUD\",\n",
    "    \"Revelation\": \"REV\"\n",
    "}\n",
    "reverse_book_name_mapping = {v:k for k, v in book_name_mapping.items()}"
   ]
  },
  {
   "cell_type": "code",
   "execution_count": 11,
   "metadata": {},
   "outputs": [],
   "source": [
    "\n",
    "# data_scope = docs[0].metadata['source'].split('_')[-1].split('.')[0] # example data_scope\n",
    "# verse_ref = docs[0].metadata['source'].split('/')[-1].split('.')[0] # example verse ref\n",
    "# book = reverse_book_name_mapping[verse_ref.split(' ')[0]]\n",
    "# chapter = verse_ref.split(' ')[1].split(':')[0]\n",
    "# verse = verse_ref.split(' ')[1].split(':')[1]\n",
    "\n",
    "# example \n",
    "# docs[0].metadata['source'].split('_')[-1].split('.')[0]\n"
   ]
  },
  {
   "cell_type": "code",
   "execution_count": 23,
   "metadata": {},
   "outputs": [
    {
     "name": "stdout",
     "output_type": "stream",
     "text": [
      "20410  14436 of 14436 of 14436 137 of 14436 141 of 14436 143 of 14436 144 of 14436 145 of 14436 226 of 14436 229 of 14436 240 of 14436 250 of 14436 319 of 14436 363 of 14436 366 of 14436 368 of 14436 381 of 14436 383 of 14436 390 of 14436 392 of 14436 394 of 14436 395 of 14436 406 of 14436 416 of 14436 418 of 14436 425 of 14436 504 of 14436 515 of 14436 527 of 14436 528 of 14436 530 of 14436 542 of 14436 545 of 14436 561 of 14436 565 of 14436 576 of 14436 580 of 14436 582 of 14436 645 of 14436 683 of 14436 721 of 14436 727 of 14436 731 of 14436 741 of 14436 762 of 14436 770 of 14436 771 of 14436 775 of 14436 781 of 14436 782 of 14436 815 of 14436 830 of 14436 833 of 14436 841 of 14436 862 of 14436 873 of 14436 875 of 14436 882 of 14436 884 of 14436 893 of 14436 896 of 14436 904 of 14436 937 of 14436 939 of 14436 940 of 14436 941 of 14436 949 of 14436 992 of 14436 993 of 14436 1005 of 14436 1009 of 14436 1012 of 14436 1023 of 14436 1026 of 14436 1032 of 14436 1047 of 14436 1054 of 14436 1069 of 14436 1070 of 14436 1072 of 14436 1109 of 14436 1116 of 14436 1117 of 14436 1118 of 14436 1130 of 14436 1139 of 14436 1142 of 14436 1146 of 14436 1153 of 14436 1158 of 14436 1167 of 14436 1180 of 14436 1188 of 14436 1189 of 14436 1231 of 14436 1243 of 14436 1244 of 14436 1246 of 14436 1257 of 14436 1259 of 14436 1260 of 14436 1262 of 14436 1270 of 14436 1280 of 14436 1281 of 14436 1282 of 14436 1328 of 14436 1333 of 14436 1334 of 14436 1336 of 14436 1337 of 14436 1338 of 14436 1352 of 14436 1356 of 14436 1362 of 14436 1363 of 14436 1370 of 14436 1397 of 14436 1417 of 14436 1422 of 14436 1445 of 14436 1468 of 14436 1485 of 14436 1486 of 14436 1526 of 14436 1550 of 14436 1564 of 14436 1573 of 14436 1577 of 14436 1591 of 14436 1595 of 14436 1601 of 14436 1603 of 14436 1614 of 14436 1621 of 14436 1624 of 14436 1626 of 14436 1638 of 14436 1639 of 14436 1641 of 14436 1642 of 14436 1643 of 14436 1646 of 14436 1647 of 14436 1719 of 14436 1723 of 14436 1740 of 14436 1744 of 14436 1750 of 14436 1751 of 14436 1756 of 14436 1758 of 14436 1781 of 14436 1812 of 14436 1829 of 14436 1830 of 14436 1836 of 14436 1837 of 14436 1838 of 14436 1839 of 14436 1843 of 14436 1895 of 14436 1917 of 14436 1919 of 14436 1920 of 14436 1922 of 14436 1925 of 14436 1933 of 14436 1946 of 14436 1949 of 14436 1951 of 14436 1952 of 14436 1953 of 14436 1954 of 14436 1958 of 14436 2000 of 14436 2002 of 14436 2047 of 14436 2048 of 14436 2054 of 14436 2055 of 14436 2057 of 14436 2113 of 14436 2118 of 14436 2125 of 14436 2131 of 14436 2159 of 14436 2233 of 14436 2283 of 14436 2298 of 14436 2314 of 14436 2328 of 14436 2334 of 14436 2336 of 14436 2339 of 14436 2383 of 14436 2432 of 14436 2433 of 14436 2434 of 14436 2437 of 14436 2454 of 14436 2462 of 14436 2463 of 14436 2467 of 14436 2468 of 14436 2469 of 14436 2470 of 14436 2471 of 14436 2474 of 14436 2475 of 14436 2478 of 14436 2480 of 14436 2508 of 14436 2524 of 14436 2602 of 14436 2603 of 14436 2605 of 14436 2610 of 14436 2611 of 14436 2612 of 14436 2618 of 14436 2620 of 14436 2629 of 14436 2651 of 14436 2705 of 14436 2715 of 14436 2734 of 14436 2747 of 14436 2748 of 14436 2754 of 14436 2764 of 14436 2765 of 14436 2774 of 14436 2820 of 14436 2916 of 14436 2918 of 14436 2925 of 14436 2926 of 14436 2935 of 14436 2936 of 14436 2937 of 14436 2938 of 14436 2939 of 14436 2940 of 14436 2941 of 14436 2942 of 14436 2943 of 14436 2944 of 14436 2945 of 14436 2947 of 14436 2956 of 14436 2959 of 14436 3023 of 14436 3126 of 14436 3127 of 14436 3146 of 14436 3150 of 14436 3155 of 14436 3159 of 14436 3163 of 14436 3165 of 14436 3170 of 14436 3171 of 14436 3182 of 14436 3190 of 14436 3191 of 14436 3194 of 14436 3201 of 14436 3203 of 14436 3205 of 14436 3208 of 14436 3209 of 14436 3220 of 14436 3222 of 14436 3224 of 14436 3229 of 14436 3237 of 14436 3266 of 14436 3268 of 14436 3271 of 14436 3284 of 14436 3302 of 14436 3305 of 14436 3310 of 14436 3313 of 14436 3315 of 14436 3317 of 14436 3325 of 14436 3335 of 14436 3338 of 14436 3342 of 14436 3347 of 14436 3361 of 14436 3408 of 14436 3413 of 14436 3414 of 14436 3422 of 14436 3426 of 14436 3427 of 14436 3428 of 14436 3434 of 14436 3486 of 14436 3504 of 14436 3527 of 14436 3536 of 14436 3537 of 14436 3539 of 14436 3540 of 14436 3542 of 14436 3546 of 14436 3559 of 14436 3566 of 14436 3578 of 14436 3621 of 14436 3623 of 14436 3627 of 14436 3629 of 14436 3632 of 14436 3659 of 14436 3665 of 14436 3666 of 14436 3668 of 14436 3671 of 14436 3674 of 14436 3675 of 14436 3676 of 14436 3722 of 14436 3724 of 14436 3734 of 14436 3745 of 14436 3749 of 14436 3753 of 14436 3812 of 14436 3825 of 14436 3831 of 14436 3847 of 14436 3897 of 14436 3929 of 14436 3945 of 14436 3946 of 14436 3947 of 14436 3950 of 14436 3953 of 14436 3954 of 14436 3959 of 14436 3962 of 14436 3973 of 14436 3975 of 14436 3984 of 14436 4001 of 14436 4021 of 14436 4032 of 14436 4038 of 14436 4043 of 14436 4046 of 14436 4098 of 14436 4101 of 14436 4113 of 14436 4129 of 14436 4143 of 14436 4144 of 14436 4145 of 14436 4174 of 14436 4188 of 14436 4189 of 14436 4192 of 14436 4212 of 14436 4215 of 14436 4225 of 14436 4226 of 14436 4246 of 14436 4247 of 14436 4249 of 14436 4253 of 14436 4265 of 14436 4274 of 14436 4275 of 14436 4276 of 14436 4277 of 14436 4279 of 14436 4280 of 14436 4281 of 14436 4284 of 14436 4290 of 14436 4292 of 14436 4293 of 14436 4294 of 14436 4298 of 14436 4326 of 14436 4366 of 14436 4369 of 14436 4383 of 14436 4388 of 14436 4389 of 14436 4393 of 14436 4415 of 14436 4418 of 14436 4423 of 14436 4442 of 14436 4463 of 14436 4483 of 14436 4488 of 14436 4489 of 14436 4497 of 14436 4499 of 14436 4508 of 14436 4513 of 14436 4522 of 14436 4524 of 14436 4525 of 14436 4539 of 14436 4542 of 14436 4543 of 14436 4545 of 14436 4546 of 14436 4547 of 14436 4573 of 14436 4580 of 14436 4651 of 14436 4655 of 14436 4660 of 14436 4663 of 14436 4673 of 14436 4675 of 14436 4679 of 14436 4682 of 14436 4701 of 14436 4704 of 14436 4712 of 14436 4716 of 14436 4724 of 14436 4730 of 14436 4742 of 14436 4753 of 14436 4754 of 14436 4758 of 14436 4759 of 14436 4762 of 14436 4763 of 14436 4767 of 14436 4769 of 14436 4770 of 14436 4772 of 14436 4872 of 14436 4890 of 14436 4895 of 14436 4897 of 14436 4899 of 14436 4904 of 14436 4926 of 14436 4928 of 14436 4932 of 14436 4933 of 14436 4953 of 14436 4954 of 14436 4959 of 14436 4960 of 14436 4981 of 14436 4983 of 14436 4998 of 14436 5026 of 14436 5028 of 14436 5029 of 14436 5037 of 14436 5039 of 14436 5053 of 14436 5054 of 14436 5059 of 14436 5064 of 14436 5068 of 14436 5071 of 14436 5075 of 14436 5077 of 14436 5079 of 14436 5082 of 14436 5083 of 14436 5087 of 14436 5091 of 14436 5096 of 14436 5106 of 14436 5109 of 14436 5132 of 14436 5144 of 14436 5157 of 14436 5166 of 14436 5169 of 14436 5176 of 14436 5178 of 14436 5182 of 14436 5190 of 14436 5223 of 14436 5246 of 14436 5264 of 14436 5278 of 14436 5294 of 14436 5296 of 14436 5329 of 14436 5335 of 14436 5336 of 14436 5338 of 14436 5343 of 14436 5348 of 14436 5360 of 14436 5375 of 14436 5430 of 14436 5460 of 14436 5512 of 14436 5513 of 14436 5515 of 14436 5560 of 14436 5566 of 14436 5567 of 14436 5568 of 14436 5583 of 14436 5586 of 14436 5587 of 14436 5588 of 14436 5591 of 14436 5604 of 14436 5605 of 14436 5607 of 14436 5617 of 14436 5619 of 14436 5634 of 14436 5663 of 14436 5665 of 14436 5667 of 14436 5670 of 14436 5676 of 14436 5681 of 14436 5682 of 14436 5720 of 14436 5752 of 14436 5756 of 14436 5765 of 14436 5769 of 14436 5771 of 14436 5781 of 14436 5812 of 14436 5815 of 14436 5818 of 14436 5821 of 14436 5864 of 14436 5888 of 14436 5903 of 14436 5905 of 14436 5927 of 14436 5928 of 14436 5940 of 14436 5946 of 14436 6008 of 14436 6010 of 14436 6012 of 14436 6029 of 14436 6036 of 14436 6037 of 14436 6042 of 14436 6049 of 14436 6051 of 14436 6081 of 14436 6085 of 14436 6094 of 14436 6123 of 14436 6193 of 14436 6198 of 14436 6202 of 14436 6204 of 14436 6207 of 14436 6213 of 14436 6215 of 14436 6245 of 14436 6253 of 14436 6268 of 14436 6292 of 14436 6311 of 14436 6318 of 14436 6324 of 14436 6327 of 14436 6334 of 14436 6336 of 14436 6338 of 14436 6344 of 14436 6356 of 14436 6357 of 14436 6359 of 14436 6366 of 14436 6369 of 14436 6372 of 14436 6393 of 14436 6398 of 14436 6407 of 14436 6409 of 14436 6411 of 14436 6426 of 14436 6432 of 14436 6449 of 14436 6451 of 14436 6463 of 14436 6465 of 14436 6470 of 14436 6485 of 14436 6489 of 14436 6493 of 14436 6499 of 14436 6500 of 14436 6526 of 14436 6535 of 14436 6559 of 14436 6571 of 14436 6573 of 14436 6574 of 14436 6579 of 14436 6584 of 14436 6601 of 14436 6604 of 14436 6634 of 14436 6644 of 14436 6655 of 14436 6657 of 14436 6716 of 14436 6757 of 14436 6762 of 14436 6771 of 14436 6790 of 14436 6798 of 14436 6813 of 14436 6814 of 14436 6816 of 14436 6817 of 14436 6823 of 14436 6831 of 14436 6832 of 14436 6834 of 14436 6835 of 14436 6836 of 14436 6840 of 14436 6844 of 14436 6846 of 14436 6854 of 14436 6856 of 14436 6857 of 14436 6881 of 14436 6946 of 14436 6948 of 14436 6964 of 14436 6966 of 14436 6967 of 14436 6980 of 14436 6985 of 14436 6987 of 14436 7005 of 14436 7006 of 14436 7011 of 14436 7013 of 14436 7044 of 14436 7058 of 14436 7063 of 14436 7088 of 14436 7101 of 14436 7102 of 14436 7104 of 14436 7106 of 14436 7108 of 14436 7109 of 14436 7110 of 14436 7120 of 14436 7121 of 14436 7138 of 14436 7146 of 14436 7147 of 14436 7172 of 14436 7177 of 14436 7181 of 14436 7184 of 14436 7189 of 14436 7194 of 14436 7197 of 14436 7211 of 14436 7219 of 14436 7225 of 14436 7227 of 14436 7228 of 14436 7235 of 14436 7236 of 14436 7240 of 14436 7241 of 14436 7252 of 14436 7256 of 14436 7269 of 14436 7332 of 14436 7376 of 14436 7399 of 14436 7407 of 14436 7410 of 14436 7412 of 14436 7413 of 14436 7414 of 14436 7420 of 14436 7462 of 14436 7469 of 14436 7472 of 14436 7475 of 14436 7477 of 14436 7486 of 14436 7487 of 14436 7509 of 14436 7512 of 14436 7513 of 14436 7517 of 14436 7533 of 14436 7541 of 14436 7555 of 14436 7566 of 14436 7574 of 14436 7575 of 14436 7579 of 14436 7590 of 14436 7603 of 14436 7604 of 14436 7625 of 14436 7627 of 14436 7631 of 14436 7635 of 14436 7638 of 14436 7673 of 14436 7675 of 14436 7676 of 14436 7679 of 14436 7683 of 14436 7686 of 14436 7691 of 14436 7700 of 14436 7704 of 14436 7707 of 14436 7708 of 14436 7711 of 14436 7748 of 14436 7751 of 14436 7754 of 14436 7759 of 14436 7762 of 14436 7765 of 14436 7797 of 14436 7800 of 14436 7802 of 14436 7803 of 14436 7808 of 14436 7812 of 14436 7813 of 14436 7870 of 14436 7888 of 14436 7898 of 14436 7927 of 14436 7936 of 14436 7939 of 14436 7962 of 14436 7991 of 14436 7992 of 14436 7998 of 14436 8006 of 14436 8018 of 14436 8021 of 14436 8022 of 14436 8023 of 14436 8034 of 14436 8047 of 14436 8049 of 14436 8050 of 14436 8056 of 14436 8062 of 14436 8064 of 14436 8071 of 14436 8096 of 14436 8117 of 14436 8122 of 14436 8136 of 14436 8140 of 14436 8141 of 14436 8144 of 14436 8146 of 14436 8148 of 14436 8150 of 14436 8212 of 14436 8228 of 14436 8234 of 14436 8235 of 14436 8236 of 14436 8240 of 14436 8248 of 14436 8268 of 14436 8295 of 14436 8325 of 14436 8327 of 14436 8334 of 14436 8335 of 14436 8341 of 14436 8347 of 14436 8348 of 14436 8360 of 14436 8361 of 14436 8363 of 14436 8365 of 14436 8366 of 14436 8371 of 14436 8376 of 14436 8378 of 14436 8381 of 14436 8382 of 14436 8383 of 14436 8390 of 14436 8397 of 14436 8403 of 14436 8404 of 14436 8405 of 14436 8407 of 14436 8408 of 14436 8409 of 14436 8418 of 14436 8419 of 14436 8438 of 14436 8439 of 14436 8460 of 14436 8469 of 14436 8470 of 14436 8476 of 14436 8477 of 14436 8478 of 14436 8491 of 14436 8505 of 14436 8532 of 14436 8565 of 14436 8574 of 14436 8582 of 14436 8586 of 14436 8589 of 14436 8594 of 14436 8617 of 14436 8633 of 14436 8686 of 14436 8695 of 14436 8699 of 14436 8703 of 14436 8708 of 14436 8711 of 14436 8724 of 14436 8733 of 14436 8751 of 14436 8759 of 14436 8762 of 14436 8765 of 14436 8766 of 14436 8789 of 14436 8792 of 14436 8796 of 14436 8797 of 14436 8831 of 14436 8845 of 14436 8852 of 14436 8878 of 14436 8881 of 14436 8956 of 14436 8957 of 14436 8978 of 14436 8982 of 14436 8989 of 14436 8993 of 14436 8998 of 14436 9007 of 14436 9008 of 14436 9011 of 14436 9033 of 14436 9040 of 14436 9042 of 14436 9078 of 14436 9083 of 14436 9089 of 14436 9100 of 14436 9104 of 14436 9108 of 14436 9124 of 14436 9138 of 14436 9141 of 14436 9149 of 14436 9180 of 14436 9183 of 14436 9189 of 14436 9198 of 14436 9199 of 14436 9206 of 14436 9208 of 14436 9217 of 14436 9220 of 14436 9234 of 14436 9244 of 14436 9254 of 14436 9287 of 14436 9290 of 14436 9291 of 14436 9293 of 14436 9295 of 14436 9311 of 14436 9321 of 14436 9335 of 14436 9336 of 14436 9337 of 14436 9338 of 14436 9343 of 14436 9464 of 14436 9504 of 14436 9507 of 14436 9509 of 14436 9518 of 14436 9525 of 14436 9526 of 14436 9531 of 14436 9533 of 14436 9536 of 14436 9544 of 14436 9546 of 14436 9568 of 14436 9569 of 14436 9573 of 14436 9625 of 14436 9637 of 14436 9646 of 14436 9647 of 14436 9664 of 14436 9668 of 14436 9680 of 14436 9696 of 14436 9717 of 14436 9721 of 14436 9728 of 14436 9736 of 14436 9737 of 14436 9738 of 14436 9740 of 14436 9745 of 14436 9747 of 14436 9755 of 14436 9758 of 14436 9761 of 14436 9762 of 14436 9763 of 14436 9764 of 14436 9770 of 14436 9775 of 14436 9778 of 14436 9779 of 14436 9817 of 14436 9829 of 14436 9870 of 14436 9883 of 14436 9885 of 14436 9890 of 14436 9912 of 14436 9949 of 14436 9995 of 14436 10008 of 14436 10026 of 14436 10029 of 14436 10033 of 14436 10035 of 14436 10038 of 14436 10044 of 14436 10050 of 14436 10053 of 14436 10060 of 14436 10067 of 14436 10072 of 14436 10075 of 14436 10077 of 14436 10098 of 14436 10121 of 14436 10137 of 14436 10148 of 14436 10161 of 14436 10165 of 14436 10188 of 14436 10192 of 14436 10196 of 14436 10197 of 14436 10202 of 14436 10224 of 14436 10323 of 14436 10324 of 14436 10332 of 14436 10347 of 14436 10349 of 14436 10355 of 14436 10359 of 14436 10365 of 14436 10366 of 14436 10368 of 14436 10370 of 14436 10379 of 14436 10380 of 14436 10382 of 14436 10390 of 14436 10401 of 14436 10423 of 14436 10427 of 14436 10446 of 14436 10464 of 14436 10476 of 14436 10486 of 14436 10517 of 14436 10524 of 14436 10542 of 14436 10577 of 14436 10587 of 14436 10593 of 14436 10594 of 14436 10598 of 14436 10599 of 14436 10600 of 14436 10603 of 14436 10613 of 14436 10631 of 14436 10633 of 14436 10641 of 14436 10673 of 14436 10708 of 14436 10709 of 14436 10711 of 14436 10714 of 14436 10720 of 14436 10725 of 14436 10730 of 14436 10731 of 14436 10736 of 14436 10744 of 14436 10746 of 14436 10747 of 14436 10748 of 14436 10786 of 14436 10807 of 14436 10813 of 14436 10814 of 14436 10816 of 14436 10818 of 14436 10824 of 14436 10883 of 14436 10905 of 14436 10907 of 14436 10915 of 14436 10916 of 14436 10921 of 14436 10928 of 14436 10929 of 14436 10932 of 14436 10965 of 14436 10976 of 14436 10995 of 14436 10999 of 14436 11008 of 14436 11010 of 14436 11011 of 14436 11012 of 14436 11013 of 14436 11016 of 14436 11020 of 14436 11035 of 14436 11052 of 14436 11066 of 14436 11079 of 14436 11081 of 14436 11082 of 14436 11083 of 14436 11093 of 14436 11094 of 14436 11099 of 14436 11100 of 14436 11101 of 14436 11102 of 14436 11137 of 14436 11144 of 14436 11147 of 14436 11148 of 14436 11158 of 14436 11159 of 14436 11160 of 14436 11172 of 14436 11178 of 14436 11184 of 14436 11186 of 14436 11187 of 14436 11188 of 14436 11192 of 14436 11193 of 14436 11194 of 14436 11200 of 14436 11204 of 14436 11205 of 14436 11226 of 14436 11255 of 14436 11257 of 14436 11259 of 14436 11263 of 14436 11278 of 14436 11283 of 14436 11290 of 14436 11305 of 14436 11309 of 14436 11331 of 14436 11360 of 14436 11375 of 14436 11378 of 14436 11380 of 14436 11386 of 14436 11410 of 14436 11455 of 14436 11474 of 14436 11498 of 14436 11554 of 14436 11561 of 14436 11571 of 14436 11573 of 14436 11580 of 14436 11582 of 14436 11590 of 14436 11591 of 14436 11593 of 14436 11595 of 14436 11600 of 14436 11601 of 14436 11608 of 14436 11609 of 14436 11611 of 14436 11613 of 14436 11614 of 14436 11615 of 14436 11625 of 14436 11640 of 14436 11657 of 14436 11668 of 14436 11669 of 14436 11718 of 14436 11745 of 14436 11746 of 14436 11760 of 14436 11769 of 14436 11803 of 14436 11805 of 14436 11806 of 14436 11816 of 14436 11830 of 14436 11839 of 14436 11840 of 14436 11869 of 14436 11899 of 14436 11903 of 14436 11912 of 14436 11915 of 14436 11945 of 14436 11962 of 14436 11969 of 14436 11974 of 14436 11985 of 14436 11986 of 14436 11987 of 14436 11988 of 14436 11989 of 14436 11993 of 14436 11995 of 14436 11999 of 14436 12000 of 14436 12004 of 14436 12015 of 14436 12016 of 14436 12043 of 14436 12057 of 14436 12070 of 14436 12071 of 14436 12076 of 14436 12113 of 14436 12116 of 14436 12122 of 14436 12145 of 14436 12146 of 14436 12147 of 14436 12149 of 14436 12150 of 14436 12152 of 14436 12165 of 14436 12175 of 14436 12176 of 14436 12177 of 14436 12178 of 14436 12179 of 14436 12180 of 14436 12183 of 14436 12184 of 14436 12222 of 14436 12244 of 14436 12250 of 14436 12261 of 14436 12264 of 14436 12267 of 14436 12275 of 14436 12280 of 14436 12295 of 14436 12304 of 14436 12307 of 14436 12321 of 14436 12327 of 14436 12333 of 14436 12345 of 14436 12346 of 14436 12355 of 14436 12356 of 14436 12376 of 14436 12436 of 14436 12440 of 14436 12511 of 14436 12530 of 14436 12536 of 14436 12545 of 14436 12548 of 14436 12549 of 14436 12553 of 14436 12555 of 14436 12556 of 14436 12557 of 14436 12559 of 14436 12576 of 14436 12581 of 14436 12597 of 14436 12604 of 14436 12605 of 14436 12611 of 14436 12625 of 14436 12633 of 14436 12641 of 14436 12666 of 14436 12670 of 14436 12673 of 14436 12692 of 14436 12698 of 14436 12700 of 14436 12702 of 14436 12708 of 14436 12776 of 14436 12777 of 14436 12825 of 14436 12834 of 14436 12835 of 14436 12839 of 14436 12841 of 14436 12851 of 14436 12868 of 14436 12883 of 14436 12906 of 14436 12913 of 14436 12914 of 14436 12937 of 14436 12941 of 14436 12955 of 14436 12956 of 14436 12969 of 14436 12983 of 14436 12992 of 14436 13015 of 14436 13019 of 14436 13045 of 14436 13078 of 14436 13085 of 14436 13091 of 14436 13092 of 14436 13098 of 14436 13099 of 14436 13100 of 14436 13101 of 14436 13105 of 14436 13108 of 14436 13115 of 14436 13128 of 14436 13142 of 14436 13144 of 14436 13163 of 14436 13172 of 14436 13178 of 14436 13181 of 14436 13182 of 14436 13183 of 14436 13188 of 14436 13189 of 14436 13227 of 14436 13257 of 14436 13265 of 14436 13270 of 14436 13287 of 14436 13289 of 14436 13290 of 14436 13359 of 14436 13376 of 14436 13379 of 14436 13386 of 14436 13388 of 14436 13389 of 14436 13390 of 14436 13391 of 14436 13392 of 14436 13418 of 14436 13420 of 14436 13429 of 14436 13432 of 14436 13434 of 14436 13435 of 14436 13443 of 14436 13446 of 14436 13449 of 14436 13463 of 14436 13494 of 14436 13512 of 14436 13530 of 14436 13531 of 14436 13532 of 14436 13533 of 14436 13536 of 14436 13541 of 14436 13545 of 14436 13547 of 14436 13549 of 14436 13562 of 14436 13566 of 14436 13631 of 14436 13643 of 14436 13648 of 14436 13649 of 14436 13655 of 14436 13681 of 14436 13687 of 14436 13706 of 14436 13707 of 14436 13713 of 14436 13716 of 14436 13717 of 14436 13742 of 14436 13789 of 14436 13791 of 14436 13795 of 14436 13798 of 14436 13884 of 14436 13885 of 14436 13886 of 14436 13907 of 14436 13912 of 14436 13913 of 14436 13930 of 14436 13941 of 14436 13945 of 14436 13963 of 14436 13967 of 14436 13968 of 14436 13969 of 14436 13972 of 14436 13974 of 14436 13975 of 14436 13977 of 14436 13980 of 14436 13993 of 14436 13999 of 14436 14015 of 14436 14018 of 14436 14019 of 14436 14038 of 14436 14082 of 14436 14088 of 14436 14089 of 14436 14090 of 14436 14098 of 14436 14105 of 14436 14107 of 14436 14114 of 14436 14115 of 14436 14118 of 14436 14121 of 14436 14123 of 14436 14124 of 14436 14126 of 14436 14138 of 14436 14140 of 14436 14141 of 14436 14149 of 14436 14185 of 14436 14188 of 14436 14247 of 14436 14274 of 14436 14276 of 14436 14290 of 14436 14302 of 14436 14303 of 14436 14305 of 14436 14306 of 14436 14308 of 14436 14309 of 14436 14310 of 14436 14311 of 14436 14313 of 14436 14314 of 14436 14320 of 14436 14325 of 14436 14326 of 14436 14345 of 14436 14346 of 14436 14383 of 14436 14389 of 14436 14403 of 14436 14420 of 14436 14422 of 14436 14431 of 14436\n"
     ]
    }
   ],
   "source": [
    "# Create embeddings and store in a vectorstore\n",
    "\n",
    "# root_dir = context_documents_path\n",
    "root_dir = \"/Users/ryderwishart/genesis/prose_contexts_shorter_itemized\"\n",
    "persist_directory = \"/Users/ryderwishart/genesis/databases/prose-contexts-shorter-itemized\"\n",
    "\n",
    "docs = []\n",
    "for dirpath, dirnames, filenames in os.walk(root_dir):\n",
    "    for i, file in enumerate(filenames):\n",
    "        # report number of files done of total\n",
    "        print('file: ', i + 1, 'of', len(filenames), sep=\" \", flush=True, end='\\r')\n",
    "        # if file.endswith('.md') or file.endswith('.txt') and '/.venv/' not in dirpath:\n",
    "        if file.endswith('.txt'):\n",
    "            try: \n",
    "                # loader = TextLoader(os.path.join(dirpath, file), encoding='utf-8')\n",
    "                # loader = UnstructuredMarkdownLoader(os.path.join(dirpath, file)) #, mode=\"elements\")\n",
    "                # doc = loader.load()[0]\n",
    "                loader = TextLoader(os.path.join(dirpath, file), encoding='utf-8')\n",
    "                documents = loader.load_and_split()\n",
    "                for doc in documents:\n",
    "                    # add scope, book, chapter, verse to metadata\n",
    "                    doc.metadata['data_scope'] = doc.metadata['source'].split('_')[-1].split('.')[0]\n",
    "                    doc.metadata['verse_ref'] = doc.metadata['source'].split('/')[-1].split('.')[0]\n",
    "                    doc.metadata['book'] = reverse_book_name_mapping[doc.metadata['verse_ref'].split(' ')[0]]\n",
    "                    doc.metadata['chapter'] = doc.metadata['verse_ref'].split(' ')[1].split(':')[0]\n",
    "                    doc.metadata['verse'] = doc.metadata['verse_ref'].split(' ')[1].split(':')[1]\n",
    "                    docs.append(doc)\n",
    "            except Exception as e: \n",
    "                print(f'Error loading {os.path.join(dirpath, file)}', e)\n",
    "                pass\n",
    "print(f'{len(docs)}')"
   ]
  },
  {
   "attachments": {},
   "cell_type": "markdown",
   "metadata": {},
   "source": [
    "Use the following code to actually create the DB (took me 40 minutes on my laptop)"
   ]
  },
  {
   "cell_type": "code",
   "execution_count": 24,
   "metadata": {},
   "outputs": [
    {
     "name": "stderr",
     "output_type": "stream",
     "text": [
      "Using embedded DuckDB with persistence: data will be stored in: /Users/ryderwishart/genesis/databases/prose-contexts-shorter-itemized\n"
     ]
    }
   ],
   "source": [
    "context_chroma = Chroma.from_documents(docs, embeddings, collection_name=\"prosaic_contexts_shorter_itemized\", persist_directory=persist_directory)\n",
    "# # Save the database\n",
    "context_chroma.persist()"
   ]
  },
  {
   "attachments": {},
   "cell_type": "markdown",
   "metadata": {},
   "source": [
    "Use the following code if using existing chroma DB"
   ]
  },
  {
   "cell_type": "code",
   "execution_count": 17,
   "metadata": {},
   "outputs": [
    {
     "name": "stderr",
     "output_type": "stream",
     "text": [
      "Using embedded DuckDB with persistence: data will be stored in: /Users/ryderwishart/genesis/databases/prose-contexts\n"
     ]
    }
   ],
   "source": [
    "# Load the persisted database from disk and use it as normal\n",
    "context_chroma_2 = Chroma(persist_directory=persist_directory, embedding_function=embeddings, collection_name=\"prosaic_contexts\")"
   ]
  },
  {
   "cell_type": "code",
   "execution_count": 22,
   "metadata": {},
   "outputs": [
    {
     "ename": "NoIndexException",
     "evalue": "Index not found, please create an instance before querying",
     "output_type": "error",
     "traceback": [
      "\u001b[0;31m---------------------------------------------------------------------------\u001b[0m",
      "\u001b[0;31mNoIndexException\u001b[0m                          Traceback (most recent call last)",
      "Cell \u001b[0;32mIn[22], line 1\u001b[0m\n\u001b[0;32m----> 1\u001b[0m \u001b[39mprint\u001b[39m(context_chroma_2\u001b[39m.\u001b[39;49msimilarity_search(\u001b[39m\"\u001b[39;49m\u001b[39mthis is a query\u001b[39;49m\u001b[39m\"\u001b[39;49m))\n",
      "File \u001b[0;32m/opt/homebrew/lib/python3.10/site-packages/langchain/vectorstores/chroma.py:182\u001b[0m, in \u001b[0;36mChroma.similarity_search\u001b[0;34m(self, query, k, filter, **kwargs)\u001b[0m\n\u001b[1;32m    165\u001b[0m \u001b[39mdef\u001b[39;00m \u001b[39msimilarity_search\u001b[39m(\n\u001b[1;32m    166\u001b[0m     \u001b[39mself\u001b[39m,\n\u001b[1;32m    167\u001b[0m     query: \u001b[39mstr\u001b[39m,\n\u001b[0;32m   (...)\u001b[0m\n\u001b[1;32m    170\u001b[0m     \u001b[39m*\u001b[39m\u001b[39m*\u001b[39mkwargs: Any,\n\u001b[1;32m    171\u001b[0m ) \u001b[39m-\u001b[39m\u001b[39m>\u001b[39m List[Document]:\n\u001b[1;32m    172\u001b[0m \u001b[39m    \u001b[39m\u001b[39m\"\"\"Run similarity search with Chroma.\u001b[39;00m\n\u001b[1;32m    173\u001b[0m \n\u001b[1;32m    174\u001b[0m \u001b[39m    Args:\u001b[39;00m\n\u001b[0;32m   (...)\u001b[0m\n\u001b[1;32m    180\u001b[0m \u001b[39m        List[Document]: List of documents most similar to the query text.\u001b[39;00m\n\u001b[1;32m    181\u001b[0m \u001b[39m    \"\"\"\u001b[39;00m\n\u001b[0;32m--> 182\u001b[0m     docs_and_scores \u001b[39m=\u001b[39m \u001b[39mself\u001b[39;49m\u001b[39m.\u001b[39;49msimilarity_search_with_score(query, k, \u001b[39mfilter\u001b[39;49m\u001b[39m=\u001b[39;49m\u001b[39mfilter\u001b[39;49m)\n\u001b[1;32m    183\u001b[0m     \u001b[39mreturn\u001b[39;00m [doc \u001b[39mfor\u001b[39;00m doc, _ \u001b[39min\u001b[39;00m docs_and_scores]\n",
      "File \u001b[0;32m/opt/homebrew/lib/python3.10/site-packages/langchain/vectorstores/chroma.py:229\u001b[0m, in \u001b[0;36mChroma.similarity_search_with_score\u001b[0;34m(self, query, k, filter, **kwargs)\u001b[0m\n\u001b[1;32m    227\u001b[0m \u001b[39melse\u001b[39;00m:\n\u001b[1;32m    228\u001b[0m     query_embedding \u001b[39m=\u001b[39m \u001b[39mself\u001b[39m\u001b[39m.\u001b[39m_embedding_function\u001b[39m.\u001b[39membed_query(query)\n\u001b[0;32m--> 229\u001b[0m     results \u001b[39m=\u001b[39m \u001b[39mself\u001b[39;49m\u001b[39m.\u001b[39;49m__query_collection(\n\u001b[1;32m    230\u001b[0m         query_embeddings\u001b[39m=\u001b[39;49m[query_embedding], n_results\u001b[39m=\u001b[39;49mk, where\u001b[39m=\u001b[39;49m\u001b[39mfilter\u001b[39;49m\n\u001b[1;32m    231\u001b[0m     )\n\u001b[1;32m    233\u001b[0m \u001b[39mreturn\u001b[39;00m _results_to_docs_and_scores(results)\n",
      "File \u001b[0;32m/opt/homebrew/lib/python3.10/site-packages/langchain/utils.py:53\u001b[0m, in \u001b[0;36mxor_args.<locals>.decorator.<locals>.wrapper\u001b[0;34m(*args, **kwargs)\u001b[0m\n\u001b[1;32m     47\u001b[0m     invalid_group_names \u001b[39m=\u001b[39m [\u001b[39m\"\u001b[39m\u001b[39m, \u001b[39m\u001b[39m\"\u001b[39m\u001b[39m.\u001b[39mjoin(arg_groups[i]) \u001b[39mfor\u001b[39;00m i \u001b[39min\u001b[39;00m invalid_groups]\n\u001b[1;32m     48\u001b[0m     \u001b[39mraise\u001b[39;00m \u001b[39mValueError\u001b[39;00m(\n\u001b[1;32m     49\u001b[0m         \u001b[39m\"\u001b[39m\u001b[39mExactly one argument in each of the following\u001b[39m\u001b[39m\"\u001b[39m\n\u001b[1;32m     50\u001b[0m         \u001b[39m\"\u001b[39m\u001b[39m groups must be defined:\u001b[39m\u001b[39m\"\u001b[39m\n\u001b[1;32m     51\u001b[0m         \u001b[39mf\u001b[39m\u001b[39m\"\u001b[39m\u001b[39m \u001b[39m\u001b[39m{\u001b[39;00m\u001b[39m'\u001b[39m\u001b[39m, \u001b[39m\u001b[39m'\u001b[39m\u001b[39m.\u001b[39mjoin(invalid_group_names)\u001b[39m}\u001b[39;00m\u001b[39m\"\u001b[39m\n\u001b[1;32m     52\u001b[0m     )\n\u001b[0;32m---> 53\u001b[0m \u001b[39mreturn\u001b[39;00m func(\u001b[39m*\u001b[39;49margs, \u001b[39m*\u001b[39;49m\u001b[39m*\u001b[39;49mkwargs)\n",
      "File \u001b[0;32m/opt/homebrew/lib/python3.10/site-packages/langchain/vectorstores/chroma.py:121\u001b[0m, in \u001b[0;36mChroma.__query_collection\u001b[0;34m(self, query_texts, query_embeddings, n_results, where, **kwargs)\u001b[0m\n\u001b[1;32m    119\u001b[0m \u001b[39mfor\u001b[39;00m i \u001b[39min\u001b[39;00m \u001b[39mrange\u001b[39m(n_results, \u001b[39m0\u001b[39m, \u001b[39m-\u001b[39m\u001b[39m1\u001b[39m):\n\u001b[1;32m    120\u001b[0m     \u001b[39mtry\u001b[39;00m:\n\u001b[0;32m--> 121\u001b[0m         \u001b[39mreturn\u001b[39;00m \u001b[39mself\u001b[39;49m\u001b[39m.\u001b[39;49m_collection\u001b[39m.\u001b[39;49mquery(\n\u001b[1;32m    122\u001b[0m             query_texts\u001b[39m=\u001b[39;49mquery_texts,\n\u001b[1;32m    123\u001b[0m             query_embeddings\u001b[39m=\u001b[39;49mquery_embeddings,\n\u001b[1;32m    124\u001b[0m             n_results\u001b[39m=\u001b[39;49mi,\n\u001b[1;32m    125\u001b[0m             where\u001b[39m=\u001b[39;49mwhere,\n\u001b[1;32m    126\u001b[0m             \u001b[39m*\u001b[39;49m\u001b[39m*\u001b[39;49mkwargs,\n\u001b[1;32m    127\u001b[0m         )\n\u001b[1;32m    128\u001b[0m     \u001b[39mexcept\u001b[39;00m chromadb\u001b[39m.\u001b[39merrors\u001b[39m.\u001b[39mNotEnoughElementsException:\n\u001b[1;32m    129\u001b[0m         logger\u001b[39m.\u001b[39merror(\n\u001b[1;32m    130\u001b[0m             \u001b[39mf\u001b[39m\u001b[39m\"\u001b[39m\u001b[39mChroma collection \u001b[39m\u001b[39m{\u001b[39;00m\u001b[39mself\u001b[39m\u001b[39m.\u001b[39m_collection\u001b[39m.\u001b[39mname\u001b[39m}\u001b[39;00m\u001b[39m \u001b[39m\u001b[39m\"\u001b[39m\n\u001b[1;32m    131\u001b[0m             \u001b[39mf\u001b[39m\u001b[39m\"\u001b[39m\u001b[39mcontains fewer than \u001b[39m\u001b[39m{\u001b[39;00mi\u001b[39m}\u001b[39;00m\u001b[39m elements.\u001b[39m\u001b[39m\"\u001b[39m\n\u001b[1;32m    132\u001b[0m         )\n",
      "File \u001b[0;32m/opt/homebrew/lib/python3.10/site-packages/chromadb/api/models/Collection.py:227\u001b[0m, in \u001b[0;36mCollection.query\u001b[0;34m(self, query_embeddings, query_texts, n_results, where, where_document, include)\u001b[0m\n\u001b[1;32m    224\u001b[0m \u001b[39mif\u001b[39;00m where_document \u001b[39mis\u001b[39;00m \u001b[39mNone\u001b[39;00m:\n\u001b[1;32m    225\u001b[0m     where_document \u001b[39m=\u001b[39m {}\n\u001b[0;32m--> 227\u001b[0m \u001b[39mreturn\u001b[39;00m \u001b[39mself\u001b[39;49m\u001b[39m.\u001b[39;49m_client\u001b[39m.\u001b[39;49m_query(\n\u001b[1;32m    228\u001b[0m     collection_id\u001b[39m=\u001b[39;49m\u001b[39mself\u001b[39;49m\u001b[39m.\u001b[39;49mid,\n\u001b[1;32m    229\u001b[0m     query_embeddings\u001b[39m=\u001b[39;49mquery_embeddings,\n\u001b[1;32m    230\u001b[0m     n_results\u001b[39m=\u001b[39;49mn_results,\n\u001b[1;32m    231\u001b[0m     where\u001b[39m=\u001b[39;49mwhere,\n\u001b[1;32m    232\u001b[0m     where_document\u001b[39m=\u001b[39;49mwhere_document,\n\u001b[1;32m    233\u001b[0m     include\u001b[39m=\u001b[39;49minclude,\n\u001b[1;32m    234\u001b[0m )\n",
      "File \u001b[0;32m/opt/homebrew/lib/python3.10/site-packages/chromadb/api/local.py:437\u001b[0m, in \u001b[0;36mLocalAPI._query\u001b[0;34m(self, collection_id, query_embeddings, n_results, where, where_document, include)\u001b[0m\n\u001b[1;32m    428\u001b[0m \u001b[39mdef\u001b[39;00m \u001b[39m_query\u001b[39m(\n\u001b[1;32m    429\u001b[0m     \u001b[39mself\u001b[39m,\n\u001b[1;32m    430\u001b[0m     collection_id: UUID,\n\u001b[0;32m   (...)\u001b[0m\n\u001b[1;32m    435\u001b[0m     include: Include \u001b[39m=\u001b[39m [\u001b[39m\"\u001b[39m\u001b[39mdocuments\u001b[39m\u001b[39m\"\u001b[39m, \u001b[39m\"\u001b[39m\u001b[39mmetadatas\u001b[39m\u001b[39m\"\u001b[39m, \u001b[39m\"\u001b[39m\u001b[39mdistances\u001b[39m\u001b[39m\"\u001b[39m],\n\u001b[1;32m    436\u001b[0m ) \u001b[39m-\u001b[39m\u001b[39m>\u001b[39m QueryResult:\n\u001b[0;32m--> 437\u001b[0m     uuids, distances \u001b[39m=\u001b[39m \u001b[39mself\u001b[39;49m\u001b[39m.\u001b[39;49m_db\u001b[39m.\u001b[39;49mget_nearest_neighbors(\n\u001b[1;32m    438\u001b[0m         collection_uuid\u001b[39m=\u001b[39;49mcollection_id,\n\u001b[1;32m    439\u001b[0m         where\u001b[39m=\u001b[39;49mwhere,\n\u001b[1;32m    440\u001b[0m         where_document\u001b[39m=\u001b[39;49mwhere_document,\n\u001b[1;32m    441\u001b[0m         embeddings\u001b[39m=\u001b[39;49mquery_embeddings,\n\u001b[1;32m    442\u001b[0m         n_results\u001b[39m=\u001b[39;49mn_results,\n\u001b[1;32m    443\u001b[0m     )\n\u001b[1;32m    445\u001b[0m     include_embeddings \u001b[39m=\u001b[39m \u001b[39m\"\u001b[39m\u001b[39membeddings\u001b[39m\u001b[39m\"\u001b[39m \u001b[39min\u001b[39;00m include\n\u001b[1;32m    446\u001b[0m     include_documents \u001b[39m=\u001b[39m \u001b[39m\"\u001b[39m\u001b[39mdocuments\u001b[39m\u001b[39m\"\u001b[39m \u001b[39min\u001b[39;00m include\n",
      "File \u001b[0;32m/opt/homebrew/lib/python3.10/site-packages/chromadb/db/clickhouse.py:585\u001b[0m, in \u001b[0;36mClickhouse.get_nearest_neighbors\u001b[0;34m(self, collection_uuid, where, where_document, embeddings, n_results)\u001b[0m\n\u001b[1;32m    582\u001b[0m     ids \u001b[39m=\u001b[39m \u001b[39mNone\u001b[39;00m\n\u001b[1;32m    584\u001b[0m index \u001b[39m=\u001b[39m \u001b[39mself\u001b[39m\u001b[39m.\u001b[39m_index(collection_uuid)\n\u001b[0;32m--> 585\u001b[0m uuids, distances \u001b[39m=\u001b[39m index\u001b[39m.\u001b[39;49mget_nearest_neighbors(embeddings, n_results, ids)\n\u001b[1;32m    587\u001b[0m \u001b[39mreturn\u001b[39;00m uuids, distances\n",
      "File \u001b[0;32m/opt/homebrew/lib/python3.10/site-packages/chromadb/db/index/hnswlib.py:240\u001b[0m, in \u001b[0;36mHnswlib.get_nearest_neighbors\u001b[0;34m(self, query, k, ids)\u001b[0m\n\u001b[1;32m    236\u001b[0m \u001b[39mdef\u001b[39;00m \u001b[39mget_nearest_neighbors\u001b[39m(\n\u001b[1;32m    237\u001b[0m     \u001b[39mself\u001b[39m, query: Embeddings, k: \u001b[39mint\u001b[39m, ids: Optional[List[UUID]] \u001b[39m=\u001b[39m \u001b[39mNone\u001b[39;00m\n\u001b[1;32m    238\u001b[0m ) \u001b[39m-\u001b[39m\u001b[39m>\u001b[39m Tuple[List[List[UUID]], List[List[\u001b[39mfloat\u001b[39m]]]:\n\u001b[1;32m    239\u001b[0m     \u001b[39mif\u001b[39;00m \u001b[39mself\u001b[39m\u001b[39m.\u001b[39m_index \u001b[39mis\u001b[39;00m \u001b[39mNone\u001b[39;00m:\n\u001b[0;32m--> 240\u001b[0m         \u001b[39mraise\u001b[39;00m NoIndexException(\n\u001b[1;32m    241\u001b[0m             \u001b[39m\"\u001b[39m\u001b[39mIndex not found, please create an instance before querying\u001b[39m\u001b[39m\"\u001b[39m\n\u001b[1;32m    242\u001b[0m         )\n\u001b[1;32m    244\u001b[0m     \u001b[39m# Check dimensionality\u001b[39;00m\n\u001b[1;32m    245\u001b[0m     \u001b[39mself\u001b[39m\u001b[39m.\u001b[39m_check_dimensionality(query)\n",
      "\u001b[0;31mNoIndexException\u001b[0m: Index not found, please create an instance before querying"
     ]
    }
   ],
   "source": [
    "print(context_chroma_2.similarity_search(\"this is a query\"))"
   ]
  },
  {
   "attachments": {},
   "cell_type": "markdown",
   "metadata": {},
   "source": [
    "Make sure you can query the DB"
   ]
  },
  {
   "cell_type": "code",
   "execution_count": 16,
   "metadata": {},
   "outputs": [
    {
     "name": "stdout",
     "output_type": "stream",
     "text": [
      "[Document(page_content='This verse has 2 discourse features (these are useful heuristic interpretive annotations that tell you about the nature of the proposition a word is in):\\n- Main clauses is defined as Main clauses are the top-level clauses in a sentence. They are the clauses that are not embedded in other clauses.\\n  - Τότε (Then) προσελθὼν (having come) ὁ (-) Πέτρος (Peter)\\n  - εἶπεν (said) αὐτῷ (to Him)\\n  - Κύριε (Lord) ποσάκις (how often) ἁμαρτήσει (will sin) εἰς (against) ἐμὲ (me) ὁ (the) ἀδελφός (brother) μου (of me)\\n  - καὶ (and) ἀφήσω (I will forgive) αὐτῷ (him)\\n  - ἕως (Up to) ἑπτάκις (seven times)\\n- Reported Speech is defined as Reported speech.\\n  - Κύριε (Lord) ποσάκις (how often) ἁμαρτήσει (will sin) εἰς (against) ἐμὲ (me) ὁ (the) ἀδελφός (brother) μου (of me) καὶ (and) ἀφήσω (I will forgive) αὐτῷ (him) ἕως (Up to) ἑπτάκις (seven times)\\n\\nSpeaker data is critical to identifying quoted material and relating it to the proper speaker. In this verse, there are the following speeches:\\n  - Peter (Simon), says (in a asking question tone), \"κύριε ποσάκις ἁμαρτήσει εἰς ἐμὲ ὁ ἀδελφός μου καὶ ἀφήσω αὐτῷ ἕως ἑπτάκις\"\\n\\n\\n\\n## Lexical features\\n    - TF-IDF tokens: ἁμαρτήσει, ἀφήσω, ποσάκις, ἑπτάκις, Πέτρος, ἀδελφός, Κύριε, προσελθὼν, ἐμὲ, εἶπεν\\n- Lexical information for ἁμαρτάνω:\\n    - class: ἁμαρτήσει is a verb,\\n    - gloss: meaning \"will sin,\\n    - lemma: The lemma form of this word is ἁμαρτάνω\\n- Lexical information for ἀφίημι:\\n    - class: ἀφήσω is a verb,\\n    - gloss: meaning \"I will forgive,\\n    - lemma: The lemma form of this word is ἀφίημι\\n- Lexical information for ποσάκις:\\n    - class: ποσάκις is a adv,\\n    - gloss: meaning \"how often,\\n    - lemma: The lemma form of this word is ποσάκις\\n- Lexical information for ἑπτάκις:\\n    - class: ἑπτάκις is a adv,\\n    - gloss: meaning \"seven times,\\n    - lemma: The lemma form of this word is ἑπτάκις\\n- Lexical information for Πέτρος:\\n    - class: Πέτρος is a noun,\\n    - gloss: meaning \"Peter,\\n    - lemma: The lemma form of this word is Πέτρος\\n- Lexical information for ἀδελφός:\\n    - class: ἀδελφός is a noun,\\n    - gloss: meaning \"brother,\\n    - lemma: The lemma form of this word is ἀδελφός\\n- Lexical information for κύριος:\\n    - class: Κύριε is a noun,\\n    - gloss: meaning \"Lord,\\n    - lemma: The lemma form of this word is κύριος\\n- Lexical information for προσέρχομαι:\\n    - class: προσελθὼν is a verb,\\n    - gloss: meaning \"having come,\\n    - lemma: The lemma form of this word is προσέρχομαι\\n- Lexical information for ἐγώ:\\n    - class: ἐμὲ is a pron,\\n    - gloss: meaning \"Me,\\n    - lemma: The lemma form of this word is ἐγώ\\n- Lexical information for λέγω:\\n    - class: εἶπεν is a verb,\\n    - gloss: meaning \"he said,\\n    - lemma: The lemma form of this word is λέγω\\n## Cultural/encyclopedic knowledge    - Cultural information for ἁμαρτάνω:\\n- Domain label: Sin, Wrongdoing, Guilt\\n    - Cultural information for ἀφίημι:\\n- Domain label: Forgiveness\\n    - Cultural information for ποσάκις:\\n- Domain label: A Point of Time without Reference to Other Points of Time: Time, Occasion, Ever, Often\\n    - Cultural information for ἑπτάκις:\\n- Domain label: Once, Twice, Three Times, Etc. [Cardinals of Time]\\n    - Cultural information for Πέτρος:\\n- Domain label: Persons\\n    - Cultural information for ἀδελφός:\\n- Domain label: Socio-Religious\\n    - Cultural information for κύριος:\\n- Domain label: Supernatural Beings\\n    - Cultural information for προσέρχομαι:\\n- Domain label: Come Near, Approach\\n    - Cultural information for ἐγώ:\\n- Domain label: Speaker\\n    - Cultural information for λέγω:\\n- Domain label: Speak, Talk', metadata={'source': '/Users/ryderwishart/genesis/prose_contexts/MAT 18:21.txt', 'data_scope': 'contexts/MAT 18:21', 'verse_ref': 'MAT 18:21', 'book': 'Matthew', 'chapter': '18', 'verse': '21'})]\n",
      "[Document(page_content='This verse has 2 discourse features (these are useful heuristic interpretive annotations that tell you about the nature of the proposition a word is in):\\n- Main clauses is defined as Main clauses are the top-level clauses in a sentence. They are the clauses that are not embedded in other clauses.\\n  - καὶ (And) ἐγένετο (came) φωνὴ (a voice) πρὸς (to) αὐτόν (him)\\n  - Ἀναστάς (Having risen up) Πέτρε (Peter)\\n  - θῦσον (kill) καὶ (and) φάγε (eat)\\n- Reported Speech is defined as Reported speech.\\n  - Ἀναστάς (Having risen up) Πέτρε (Peter) θῦσον (kill) καὶ (and) φάγε (eat)\\n\\nSpeaker data is critical to identifying quoted material and relating it to the proper speaker. In this verse, there are the following speeches:\\n  - Holy Spirit, the, who is a divinity, says, \"ἀναστάς Πέτρε θῦσον καὶ φάγε\"\\n\\n\\n\\n## Lexical features\\n    - TF-IDF tokens: Πέτρε, θῦσον, Ἀναστάς, φάγε, Φωνὴ, ἐγένετο, αὐτόν\\n- Lexical information for Πέτρος:\\n    - class: Πέτρε is a noun,\\n    - gloss: meaning \"Peter,\\n    - lemma: The lemma form of this word is Πέτρος\\n- Lexical information for θύω:\\n    - class: θῦσον is a verb,\\n    - gloss: meaning \"kill,\\n    - lemma: The lemma form of this word is θύω\\n- Lexical information for ἀνίστημι:\\n    - class: Ἀναστάς is a verb,\\n    - gloss: meaning \"Having risen up,\\n    - lemma: The lemma form of this word is ἀνίστημι\\n- Lexical information for ἐσθίω:\\n    - class: φάγε is a verb,\\n    - gloss: meaning \"eat,\\n    - lemma: The lemma form of this word is ἐσθίω\\n- Lexical information for φωνή:\\n    - class: Φωνὴ is a noun,\\n    - gloss: meaning \"A voice,\\n    - lemma: The lemma form of this word is φωνή\\n- Lexical information for γίνομαι:\\n    - class: ἐγένετο is a verb,\\n    - gloss: meaning \"it came to pass,\\n    - lemma: The lemma form of this word is γίνομαι\\n- Lexical information for αὐτός:\\n    - class: αὐτόν is a pron,\\n    - gloss: meaning \"Him,\\n    - lemma: The lemma form of this word is αὐτός\\n## Cultural/encyclopedic knowledge    - Cultural information for Πέτρος:\\n- Domain label: Persons\\n    - Cultural information for θύω:\\n- Domain label: Kill\\n    - Cultural information for ἀνίστημι:\\n- Domain label: Stand\\n    - Cultural information for ἐσθίω:\\n- Domain label: Eat, Drink\\n    - Cultural information for φωνή:\\n- Domain label: Speak, Talk\\n    - Cultural information for γίνομαι:\\n- Domain label: Happen\\n    - Cultural information for αὐτός:\\n- Domain label: Whom or What Spoken or Written About', metadata={'source': '/Users/ryderwishart/genesis/prose_contexts/ACT 10:13.txt', 'data_scope': 'contexts/ACT 10:13', 'verse_ref': 'ACT 10:13', 'book': 'Acts', 'chapter': '10', 'verse': '13'})]\n",
      "[Document(page_content='This verse has 3 discourse features (these are useful heuristic interpretive annotations that tell you about the nature of the proposition a word is in):\\n- Main clauses is defined as Main clauses are the top-level clauses in a sentence. They are the clauses that are not embedded in other clauses.\\n  - λέγοντας (saying)\\n  - ὅτι (-) ὄντως (Indeed) ἠγέρθη (has risen) ὁ (the) Κύριος (Lord)\\n  - καὶ (and) ὤφθη (He has appeared) Σίμωνι (to Simon)\\n- Reported Speech is defined as Reported speech.\\n  - ὅτι (-) ὄντως (Indeed) ἠγέρθη (has risen) ὁ (the) Κύριος (Lord) καὶ (and) ὤφθη (He has appeared) Σίμωνι (to Simon)\\n- Focus+ is defined as Constituents placed in P2 to give them focal prominence.\\n  - ὄντως (Indeed)\\n\\nSpeaker data is critical to identifying quoted material and relating it to the proper speaker. In this verse, there are the following speeches:\\n  - John, says, \"ὄντως ἠγέρθη ὁ κύριος καὶ ὤφθη Σίμωνι\"\\n  - Eleven, age: Adult, (This should be spoken by one of the 11 disciples (excluding Judas Iscariot). The wording suggests that it was not Simon Peter.), says, \"ὄντως ἠγέρθη ὁ κύριος καὶ ὤφθη Σίμωνι\"\\n  - those with the Eleven, says, \"ὄντως ἠγέρθη ὁ κύριος καὶ ὤφθη Σίμωνι\"\\n\\n\\n\\n## Lexical features\\n    - TF-IDF tokens: Σίμωνι, ἠγέρθη, ὤφθη, λέγοντας, ὄντως, κύριος\\n- Lexical information for Σίμων:\\n    - class: Σίμωνι is a noun,\\n    - gloss: meaning \"Simon,\\n    - lemma: The lemma form of this word is Σίμων\\n- Lexical information for ἐγείρω:\\n    - class: ἠγέρθη is a verb,\\n    - gloss: meaning \"she arose,\\n    - lemma: The lemma form of this word is ἐγείρω\\n- Lexical information for ὁράω:\\n    - class: ὤφθη is a verb,\\n    - gloss: meaning \"appeared,\\n    - lemma: The lemma form of this word is ὁράω\\n- Lexical information for λέγω:\\n    - class: λέγοντας is a verb,\\n    - gloss: meaning \"saying,\\n    - lemma: The lemma form of this word is λέγω\\n- Lexical information for ὄντως:\\n    - class: ὄντως is a adv,\\n    - gloss: meaning \"truly,\\n    - lemma: The lemma form of this word is ὄντως\\n- Lexical information for κύριος:\\n    - class: κύριος is a noun,\\n    - gloss: meaning \"master,\\n    - lemma: The lemma form of this word is κύριος\\n## Cultural/encyclopedic knowledge    - Cultural information for Σίμων:\\n- Domain label: Persons\\n    - Cultural information for ἐγείρω:\\n- Domain label: Stand\\n    - Cultural information for ὁράω:\\n- Domain label: See\\n    - Cultural information for λέγω:\\n- Domain label: Speak, Talk\\n    - Cultural information for ὄντως:\\n- Domain label: Real, Unreal\\n    - Cultural information for κύριος:\\n- Domain label: Have, Possess, Property, Owner\\n\\n## Social/Situational Context:', metadata={'source': '/Users/ryderwishart/genesis/prose_contexts/LUK 24:34.txt', 'data_scope': 'contexts/LUK 24:34', 'verse_ref': 'LUK 24:34', 'book': 'Luke', 'chapter': '24', 'verse': '34'})]\n"
     ]
    }
   ],
   "source": [
    "print(context_chroma.search('jesus speaks to peter', search_type='similarity', k=1))\n",
    "print(context_chroma.search('peter is spoken to by jesus', search_type='similarity', k=1))\n",
    "print(context_chroma.search('jesus (subj) speaks to peter (obj)', search_type='similarity', k=1))"
   ]
  },
  {
   "attachments": {},
   "cell_type": "markdown",
   "metadata": {},
   "source": [
    "# Add plaintext English Bible in a second DB"
   ]
  },
  {
   "cell_type": "code",
   "execution_count": null,
   "metadata": {},
   "outputs": [],
   "source": [
    "import os\n",
    "\n",
    "english_bible_url = 'https://bereanbible.com/bsb.txt'\n",
    "\n",
    "if not os.path.exists('bsb.txt'):\n",
    "#     # import requests\n",
    "#     # r = requests.get(english_bible_url, allow_redirects=True)\n",
    "#     # with open('bsb.txt', 'w') as f:\n",
    "#     #     new_testament = r.split('\\nMatthew 1:1')[1]\n",
    "#     # #     f.write('Matthew 1:1' + new_testament)\n",
    "    # urllib.request.urlretrieve(english_bible_url, 'bsb.txt')\n",
    "    \n",
    "#     # with open('bsb.txt', 'r') as f:\n",
    "#     #     new_testament = f.read().split('\\nMatthew 1:1')[1]\n",
    "#     #     with open('bsb.txt', 'w') as f:\n",
    "#     #         f.write('Matthew 1:1' + new_testament)\n",
    "    !wget https://bereanbible.com/bsb.txt"
   ]
  },
  {
   "cell_type": "code",
   "execution_count": null,
   "metadata": {},
   "outputs": [],
   "source": [
    "# Turn the BSB bible into the proper encoding...\n",
    "import chardet\n",
    "\n",
    "def find_encoding(fname):\n",
    "    rawdata = open(fname, 'rb').read()\n",
    "    result = chardet.detect(rawdata)\n",
    "    charenc = result['encoding']\n",
    "    return charenc\n",
    "\n",
    "my_encoding = find_encoding('bsb.txt')\n",
    "\n",
    "with open('bsb.txt', 'r', encoding=my_encoding) as f:\n",
    "    text = f.read().replace('�', '')\n",
    "\n",
    "with open('bsb.txt', 'w', encoding='utf-8') as f:\n",
    "    f.write(text)\n"
   ]
  },
  {
   "cell_type": "code",
   "execution_count": null,
   "metadata": {},
   "outputs": [],
   "source": [
    "from langchain.vectorstores import Chroma\n",
    "from langchain.document_loaders import TextLoader\n",
    "from langchain.text_splitter import CharacterTextSplitter, TokenTextSplitter\n",
    "from langchain.embeddings import HuggingFaceEmbeddings, SentenceTransformerEmbeddings"
   ]
  },
  {
   "cell_type": "code",
   "execution_count": null,
   "metadata": {},
   "outputs": [],
   "source": [
    "bible_persist_directory = '/Users/ryderwishart/genesis/databases/berean-bible-database'"
   ]
  },
  {
   "cell_type": "code",
   "execution_count": null,
   "metadata": {},
   "outputs": [],
   "source": [
    "### SENTENCE-BASED TEXTS\n",
    "\n",
    "def get_usfm_verse(ref):\n",
    "    spaces_in_ref = len(ref.split(' '))\n",
    "    if spaces_in_ref > 1:\n",
    "        name = ' '.join(ref.split(' ')[0:-1])\n",
    "        ref_num = ref.split(' ')[-1]\n",
    "    else:\n",
    "        name = ref.split(' ')[0]\n",
    "        ref_num = ref.split(' ')[1]\n",
    "    return book_name_mapping[name] + ' ' + ref_num\n",
    "\n",
    "# Initialize lists\n",
    "text_list = []\n",
    "dict_list = []\n",
    "id_list = []\n",
    "\n",
    "# Group the DataFrame by 'sentence'\n",
    "# grouped = mg.groupby('sentence')\n",
    "# grouped = mg.groupby('book_chapter_verse')\n",
    "with open('bsb.txt', 'r', encoding='utf-8') as f:\n",
    "    # create a verses variable to store each line starting with the line that begins 'Genesis 1:1\\t'\n",
    "    verses = f.read().split('Genesis 1:1\\t')[1]\n",
    "    verses = verses.split('\\n')\n",
    "    # drop the final empty string\n",
    "    verses = verses[:-1]\n",
    "    # fix the first verse\n",
    "    verses[0] = 'Genesis 1:1\\t' + verses[0]\n",
    "    for verse in verses:\n",
    "        ref, text = verse.split('\\t')\n",
    "        text_list.append(text)\n",
    "        usfm_verse = get_usfm_verse(ref)\n",
    "        dict_entry = {'source': ref, 'usfm': usfm_verse}\n",
    "        dict_list.append(dict_entry)\n",
    "        id_list.append(ref)\n",
    "# Print the lists for testing\n",
    "print(len(text_list), text_list[:5])\n",
    "print(len(dict_list), dict_list[:5])\n",
    "print(len(id_list), id_list[:5])"
   ]
  },
  {
   "attachments": {},
   "cell_type": "markdown",
   "metadata": {},
   "source": [
    "Use this code if creating new chroma DB for the Berean bible texts"
   ]
  },
  {
   "cell_type": "code",
   "execution_count": null,
   "metadata": {},
   "outputs": [],
   "source": [
    "bible_chroma = Chroma(\"berean-bible\", embeddings, persist_directory=bible_persist_directory)"
   ]
  },
  {
   "cell_type": "code",
   "execution_count": null,
   "metadata": {},
   "outputs": [],
   "source": [
    "# Add greek texts with metadata\n",
    "bible_chroma.add_texts(\n",
    "    texts=text_list,\n",
    "    metadatas=dict_list,\n",
    "    ids=id_list    \n",
    "    )"
   ]
  },
  {
   "cell_type": "code",
   "execution_count": null,
   "metadata": {},
   "outputs": [],
   "source": [
    "bible_chroma.persist()"
   ]
  },
  {
   "attachments": {},
   "cell_type": "markdown",
   "metadata": {},
   "source": [
    "Use this code if loading the db from file"
   ]
  },
  {
   "cell_type": "code",
   "execution_count": null,
   "metadata": {},
   "outputs": [],
   "source": [
    "bible_chroma = Chroma(\"berean-bible\", embeddings, persist_directory=bible_persist_directory)"
   ]
  },
  {
   "cell_type": "code",
   "execution_count": null,
   "metadata": {},
   "outputs": [],
   "source": [
    "# test bible chroma\n",
    "print(bible_chroma.search('jesus speaks to peter', search_type='similarity', k=1))\n",
    "test_doc_usfm_source = bible_chroma.search('jesus speaks to peter', search_type='similarity', k=1)[0].metadata['usfm']\n",
    "print(test_doc_usfm_source)"
   ]
  },
  {
   "cell_type": "code",
   "execution_count": null,
   "metadata": {},
   "outputs": [],
   "source": [
    "print(context_chroma.similarity_search_with_score('jesus speaks to peter', search_type='similarity', k=1, kwargs={'where': {'usfm': 'MAT 9'}}))"
   ]
  },
  {
   "attachments": {},
   "cell_type": "markdown",
   "metadata": {},
   "source": [
    "## Add a third DB with some public domain theology texts"
   ]
  },
  {
   "cell_type": "code",
   "execution_count": null,
   "metadata": {},
   "outputs": [],
   "source": [
    "calvin_urls = [\n",
    "    \"https://www.gutenberg.org/cache/epub/45001/pg45001.txt\", # Calvin's Institutes vol 1\n",
    "    \"https://www.gutenberg.org/cache/epub/64392/pg64392.txt\", # Calvin's Institutes vol 2\n",
    "]\n",
    "\n",
    "other_theology_urls = [\n",
    "    \"https://www.gutenberg.org/cache/epub/35354/pg35354.txt\", # Moral Theology, by John A. McHugh and Charles J. Callan\n",
    "    \"https://www.gutenberg.org/files/52648/52648-0.txt\", # The Fundamental Doctrines of the Christian faith, by R. A. Torrey\n",
    "]\n",
    "\n",
    "strong_sys_theo_urls = [\n",
    "    \"https://www.gutenberg.org/files/44035/44035-0.txt\", # Systematic Theology (Volume 1 of 3) by Augustus Hopkins Strong\n",
    "    \"https://www.gutenberg.org/files/44555/44555-0.txt\", # Systematic Theology (Volume 2 of 3) by Augustus Hopkins Strong\n",
    "    \"https://www.gutenberg.org/files/45283/45283-0.txt\", # Systematic Theology (Volume 3 of 3) by Augustus Hopkins Strong\n",
    "]\n",
    "\n",
    "bible_encyclopedic_urls = [\n",
    "    \"https://www.gutenberg.org/files/43070/43070-0.txt\", # Archæology and the Bible, by George A. Barton\n",
    "    \"https://www.gutenberg.org/files/40747/40747-0.txt\", # Biblical Geography and History, by Charles Foster Kent\n",
    "]\n",
    "\n",
    "theology_urls = calvin_urls + other_theology_urls + strong_sys_theo_urls\n",
    "encyclopedic_urls = bible_encyclopedic_urls\n"
   ]
  },
  {
   "cell_type": "code",
   "execution_count": null,
   "metadata": {},
   "outputs": [],
   "source": [
    "!mkdir -p theology\n",
    "\n",
    "import os\n",
    "os.chdir('theology')\n",
    "\n",
    "for url in theology_urls:\n",
    "    !wget -nc {url}\n",
    "    \n",
    "os.chdir('..')\n",
    "\n",
    "!mkdir -p encyclopedic\n",
    "\n",
    "os.chdir('encyclopedic')\n",
    "\n",
    "for url in encyclopedic_urls:\n",
    "    !wget -nc {url}\n",
    "\n",
    "os.chdir('..')"
   ]
  },
  {
   "cell_type": "code",
   "execution_count": null,
   "metadata": {},
   "outputs": [],
   "source": [
    "# Chunk the theology texts\n",
    "from langchain.document_loaders import TextLoader\n",
    "\n",
    "root_dir = 'theology'\n",
    "\n",
    "theology_docs = []\n",
    "for dirpath, dirnames, filenames in os.walk(root_dir):\n",
    "    for file in filenames:\n",
    "        if file.endswith('.txt') and '/.venv/' not in dirpath:\n",
    "            try: \n",
    "                loader = TextLoader(os.path.join(dirpath, file), encoding='utf-8')\n",
    "                theology_docs.extend(loader.load_and_split())\n",
    "            except Exception as e: \n",
    "                pass\n",
    "print(f'Number of theology document chunks: {len(theology_docs)}')"
   ]
  },
  {
   "cell_type": "code",
   "execution_count": null,
   "metadata": {},
   "outputs": [],
   "source": [
    "# # !pip install PyPDF2\n",
    "# NOTE: PyPDF2 is not extracting text from high-res PDFs\n",
    "# from PyPDF2 import PdfReader\n",
    "\n",
    "# reader = PdfReader(\"/Users/ryderwishart/biblical-machine-learning/gpt-inferences/encyclopedic/brill_awdl000063_hi.pdf\")\n",
    "# number_of_pages = len(reader.pages)\n",
    "# page = reader.pages[0]\n",
    "# text = page.extract_text()\n",
    "# print('number_of_pages', number_of_pages, 'text', text)"
   ]
  },
  {
   "cell_type": "code",
   "execution_count": null,
   "metadata": {},
   "outputs": [],
   "source": [
    "!pip install pdf2image pytesseract\n",
    "# pytesseract, pytesseract, PIL"
   ]
  },
  {
   "cell_type": "code",
   "execution_count": null,
   "metadata": {},
   "outputs": [],
   "source": [
    "# # Use Google's Tesseract OCR to extract text from PDFs - NOTE: also does not work \n",
    "# from PIL import Image\n",
    "# from pdf2image import convert_from_path\n",
    "# import pytesseract\n",
    "# import os\n",
    "\n",
    "# filePath = '/Users/ryderwishart/biblical-machine-learning/gpt-inferences/encyclopedic/brill_awdl000063_hi.pdf'\n",
    "# doc = convert_from_path(filePath)\n",
    "# path, fileName = os.path.split(filePath)\n",
    "# fileBaseName, fileExtension = os.path.splitext(fileName)\n",
    "\n",
    "# for page_number, page_data in enumerate(doc):\n",
    "#     txt = pytesseract.image_to_string(page_data) #.encode(\"utf-8\") for bytes output\n",
    "#     print(\"Page # {} - {}\".format(str(page_number),txt))\n",
    "#     break\n"
   ]
  },
  {
   "cell_type": "code",
   "execution_count": null,
   "metadata": {},
   "outputs": [],
   "source": [
    "# Chunk the encyclopedic texts\n",
    "from langchain.document_loaders import PyPDFLoader\n",
    "\n",
    "root_dir = 'encyclopedic'\n",
    "\n",
    "encyclopedic_docs = []\n",
    "for dirpath, dirnames, filenames in os.walk(root_dir):\n",
    "    for file in filenames:\n",
    "        if file.endswith('.pdf'):\n",
    "            try:\n",
    "                loader = PyPDFLoader(os.path.join(dirpath, file))\n",
    "                print(loader.load_and_split())\n",
    "                docs.extend(loader.load_and_split())\n",
    "            except Exception as e:\n",
    "                print('Error loading PDF', e)\n",
    "                pass\n",
    "        if file.endswith('.txt') and '/.venv/' not in dirpath:\n",
    "            try: \n",
    "                loader = TextLoader(os.path.join(dirpath, file), encoding='utf-8')\n",
    "                encyclopedic_docs.extend(loader.load_and_split())\n",
    "            except Exception as e: \n",
    "                pass\n",
    "print(f'Number of encyclopedic document chunks: {len(encyclopedic_docs)}')\n",
    "    "
   ]
  },
  {
   "cell_type": "code",
   "execution_count": null,
   "metadata": {},
   "outputs": [],
   "source": [
    "unique_sources = []\n",
    "for doc in encyclopedic_docs:\n",
    "    if doc.metadata['source'] not in unique_sources:\n",
    "        unique_sources.append(doc.metadata['source'])\n",
    "print(unique_sources)"
   ]
  },
  {
   "cell_type": "code",
   "execution_count": null,
   "metadata": {},
   "outputs": [],
   "source": [
    "from langchain.text_splitter import CharacterTextSplitter\n",
    "\n",
    "text_splitter = CharacterTextSplitter(chunk_size=1000, chunk_overlap=0)\n",
    "\n",
    "theology_texts = text_splitter.split_documents(docs)\n",
    "encyclopedic_texts = text_splitter.split_documents(encyclopedic_docs)\n",
    "\n",
    "print(f\"Number of theology texts for db: {len(theology_texts)}\")\n",
    "print(f\"Number of encyclopedic texts for db: {len(encyclopedic_texts)}\")"
   ]
  },
  {
   "cell_type": "code",
   "execution_count": null,
   "metadata": {},
   "outputs": [],
   "source": [
    "!mkdir -p databases/theology\n",
    "!mkdir -p databases/encyclopedic"
   ]
  },
  {
   "cell_type": "code",
   "execution_count": null,
   "metadata": {},
   "outputs": [],
   "source": [
    "# secondary_sources_chroma = Chroma.from_documents(\n",
    "#     documents=texts,\n",
    "#     name='secondary-sources',\n",
    "#     embeddings=embeddings,\n",
    "#     persist_directory='databases/secondary-sources'\n",
    "# )\n",
    "# secondary_sources_chroma.persist()\n",
    "# print(secondary_sources_chroma.search('jesus speaks to peter', search_type='similarity', k=1))\n",
    "\n",
    "theology_persist_directory = 'databases/theology'\n",
    "theology_chroma = Chroma(\"theology\", embeddings, persist_directory=theology_persist_directory)\n",
    "theology_chroma.add_documents(theology_texts)\n",
    "theology_chroma.persist()"
   ]
  },
  {
   "cell_type": "code",
   "execution_count": null,
   "metadata": {},
   "outputs": [],
   "source": [
    "# encyclopedic_chroma = Chroma.from_documents(\n",
    "#     documents=encyclopedic_texts,\n",
    "#     name='encyclopedic',\n",
    "#     embeddings=embeddings,\n",
    "#     persist_directory='databases/encyclopedic'\n",
    "# )\n",
    "# encyclopedic_chroma.persist()\n",
    "\n",
    "encyclopedic_persist_directory = 'databases/encyclopedic'\n",
    "encyclopedic_chroma = Chroma(\"encyclopedic\", embeddings, persist_directory=encyclopedic_persist_directory)\n",
    "encyclopedic_chroma.add_documents(encyclopedic_texts)\n",
    "encyclopedic_chroma.persist()"
   ]
  },
  {
   "cell_type": "code",
   "execution_count": null,
   "metadata": {},
   "outputs": [],
   "source": [
    "# theology_chroma = Chroma(\"theology\", embeddings, persist_directory='databases/theology')\n"
   ]
  },
  {
   "cell_type": "code",
   "execution_count": null,
   "metadata": {},
   "outputs": [],
   "source": [
    "print(theology_chroma.search('jesus speaks to peter', search_type='similarity', k=1))"
   ]
  },
  {
   "cell_type": "code",
   "execution_count": null,
   "metadata": {},
   "outputs": [],
   "source": [
    "query = 'jesus speaks to peter'\n",
    "\n",
    "print('Theology context doc:', theology_chroma.search(query, search_type='similarity', k=1))\n",
    "print('Encyclopedic context doc:', encyclopedic_chroma.search(query, search_type='similarity', k=1))"
   ]
  },
  {
   "attachments": {},
   "cell_type": "markdown",
   "metadata": {},
   "source": [
    "# Create UI\n",
    "\n",
    "A simple Gradio frontend UI to query the databases and see the query results from each DB. "
   ]
  },
  {
   "cell_type": "code",
   "execution_count": null,
   "metadata": {},
   "outputs": [],
   "source": [
    "import gradio as gr\n",
    "\n",
    "def gradio_wrapper(user_input_string='', k=5, metric='similarity'):\n",
    "    \"\"\"Take user input and return hits from the database. \n",
    "    - inputs: [\n",
    "        user_input_string: str, # query to search for\n",
    "        k: int, # number of docs to return\n",
    "        metric: str, # metric to use for search ('similarity' | 'mmr')\n",
    "      ]\n",
    "    \"\"\"\n",
    "    bible_contexts = bible_chroma.search(user_input_string, search_type=metric, k=k)\n",
    "    # bible_context_usfm_sources = [context.metadata['usfm'] for context in bible_contexts]\n",
    "    \n",
    "    data_contexts = context_chroma.search(user_input_string, search_type=metric, k=k) #, kwargs={'where': {'usfm': bible_context_usfm_sources[0]}}) # FIXME: use the bible contexts as metadata filters - see https://python.langchain.com/en/latest/modules/indexes/retrievers/examples/chroma_self_query.html\n",
    "    # bible_contexts = bible_chroma.search(user_input_string, search_type=metric, k=k)\n",
    "    \n",
    "    theology_contexts = theology_chroma.search(user_input_string, search_type=metric, k=k)\n",
    "    encyclopedic_contexts = encyclopedic_chroma.search(user_input_string, search_type=metric, k=k)\n",
    "    \n",
    "    return [bible_contexts, data_contexts, theology_contexts, encyclopedic_contexts]\n",
    "\n",
    "app = gr.Blocks(theme='bethecloud/storj_theme')\n",
    "\n",
    "with app:\n",
    "    \n",
    "    gr.Markdown(\"## Find relevant New Testament contexts for a given query\")\n",
    "\n",
    "    with gr.Column(width=2):\n",
    "        question_input = gr.Textbox(label=\"Question\", value=\"Who is involved in Mat 3:14, and what are the participants trying to accomplish?\", type=\"text\")\n",
    "        # answer_temperature_slider = gr.Slider(minimum=0.1, maximum=1.0, default=0.7, step=0.1, label=\"Temperature\")\n",
    "        submit_button = gr.Button(\"Get contexts\")\n",
    "        bible_passage_output = gr.Textbox(label=\"Related Bible passages\")\n",
    "        contexts_output = gr.Textbox(label=\"Context documents\")\n",
    "        theology_output = gr.Textbox(label=\"Theology documents\")\n",
    "        encyclopedic_output = gr.Textbox(label=\"Encyclopedic documents\")\n",
    "    submit_button.click(\n",
    "        gradio_wrapper,\n",
    "        inputs=question_input,\n",
    "        outputs=[bible_passage_output, contexts_output, theology_output, encyclopedic_output]\n",
    "    )\n",
    "    \n",
    "app.launch()\n"
   ]
  },
  {
   "cell_type": "code",
   "execution_count": null,
   "metadata": {},
   "outputs": [],
   "source": []
  }
 ],
 "metadata": {
  "kernelspec": {
   "display_name": "Python 3",
   "language": "python",
   "name": "python3"
  },
  "language_info": {
   "codemirror_mode": {
    "name": "ipython",
    "version": 3
   },
   "file_extension": ".py",
   "mimetype": "text/x-python",
   "name": "python",
   "nbconvert_exporter": "python",
   "pygments_lexer": "ipython3",
   "version": "3.10.11"
  },
  "orig_nbformat": 4
 },
 "nbformat": 4,
 "nbformat_minor": 2
}
