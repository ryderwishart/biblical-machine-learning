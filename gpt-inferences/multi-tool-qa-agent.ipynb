{
  "cells": [
    {
      "attachments": {},
      "cell_type": "markdown",
      "metadata": {
        "colab_type": "text",
        "id": "view-in-github"
      },
      "source": [
        "<a href=\"https://colab.research.google.com/github/ryderwishart/biblical-machine-learning/blob/main/gpt-inferences/greek-hebrew-tsv-qa-agent.ipynb\" target=\"_parent\"><img src=\"https://colab.research.google.com/assets/colab-badge.svg\" alt=\"Open In Colab\"/></a>"
      ]
    },
    {
      "attachments": {},
      "cell_type": "markdown",
      "metadata": {
        "id": "a4PXB7yPjqhZ"
      },
      "source": [
        "# Question answer over MACULA Greek and Hebrew"
      ]
    },
    {
      "cell_type": "code",
      "execution_count": 1,
      "metadata": {
        "id": "0hFRcdEjjqhb",
        "outputId": "da15de6f-cf69-4000-98cb-fd0d51c77cf1"
      },
      "outputs": [],
      "source": [
        "# !pip install tabulate pandas langchain"
      ]
    },
    {
      "attachments": {},
      "cell_type": "markdown",
      "metadata": {
        "id": "1EUhwDp_jqhc"
      },
      "source": [
        "## Set up MACULA dataframes\n",
        "Let's load up the Greek and Hebrew data and populate the domain column with the domain labels instead of numbers."
      ]
    },
    {
      "cell_type": "code",
      "execution_count": 2,
      "metadata": {
        "id": "h5bneWcMjqhc"
      },
      "outputs": [
        {
          "name": "stderr",
          "output_type": "stream",
          "text": [
            "/var/folders/hz/6rspy0v17q7b21wllgrjbn040000gn/T/ipykernel_19226/2269468469.py:75: DtypeWarning: Columns (10) have mixed types. Specify dtype option on import or set low_memory=False.\n",
            "  mh = pd.read_csv(\n"
          ]
        },
        {
          "name": "stdout",
          "output_type": "stream",
          "text": [
            "Macula Greek column names:  Index(['ref', 'role', 'class', 'type', 'gloss', 'text', 'after', 'lemma',\n",
            "       'normalized', 'strong', 'morph', 'person', 'number', 'gender', 'case',\n",
            "       'tense', 'voice', 'mood', 'degree', 'domain', 'ln', 'frame', 'subjref',\n",
            "       'referent', 'id', 'book', 'chapter', 'verse', 'book_chapter',\n",
            "       'book_chapter_verse', 'domain_label'],\n",
            "      dtype='object')\n",
            "Macula Hebrew column names:  Index(['ref', 'class', 'text', 'transliteration', 'after', 'strongnumberx',\n",
            "       'stronglemma', 'sensenumber', 'greek', 'greekstrong', 'gloss',\n",
            "       'english', 'mandarin', 'stem', 'morph', 'lang', 'lemma', 'pos',\n",
            "       'person', 'gender', 'number', 'state', 'type', 'lexdomain',\n",
            "       'contextualdomain', 'coredomain', 'sdbh', 'extends', 'frame', 'subjref',\n",
            "       'participantref', 'id', 'book', 'chapter', 'verse', 'book_chapter',\n",
            "       'book_chapter_verse', 'domain_label'],\n",
            "      dtype='object')\n"
          ]
        }
      ],
      "source": [
        "import requests, json, re, os\n",
        "import pandas as pd\n",
        "\n",
        "def download_file(url, file_name):\n",
        "    response = requests.get(url)\n",
        "    with open(file_name, \"wb\") as file:\n",
        "        file.write(response.content)\n",
        "\n",
        "# file1_url = \"https://raw.githubusercontent.com/Clear-Bible/macula-greek/main/Nestle1904/TSV/macula-greek.tsv\"\n",
        "file1_url = \"https://github.com/Clear-Bible/macula-greek/raw/feature/add-sentence-id-to-tsv/Nestle1904/TSV/macula-greek.tsv\" # PR version with sentence IDs\n",
        "file1_name = \"macula-greek.tsv\"\n",
        "\n",
        "# file1_url = \"https://raw.githubusercontent.com/Clear-Bible/macula-greek/main/Nestle1904/TSV/macula-greek.tsv\"\n",
        "file2_url = \"https://raw.githubusercontent.com/Clear-Bible/macula-greek/main/sources/MARBLE/SDBG/marble-domain-label-mapping.json\"\n",
        "file2_name = \"marble-domain-label-mapping.json\"\n",
        "\n",
        "if file1_name not in os.listdir():\n",
        "    download_file(file1_url, file1_name)\n",
        "\n",
        "if file2_name not in os.listdir():\n",
        "    download_file(file2_url, file2_name)\n",
        "\n",
        "# Import Macula Greek data\n",
        "mg = pd.read_csv(\n",
        "    \"macula-greek.tsv\", index_col=\"xml:id\", sep=\"\\t\", header=0, converters={\"*\": str}\n",
        ").fillna(\"missing\")\n",
        "# add an 'id' column\n",
        "mg[\"id\"] = mg.index\n",
        "\n",
        "# mg['domain'] = mg['domain'].astype(str).fillna('missing')\n",
        "\n",
        "# Extract book, chapter, and verse into separate columns\n",
        "mg[[\"book\", \"chapter\", \"verse\"]] = mg[\"ref\"].str.extract(r\"(\\d?[A-Z]+)\\s(\\d+):(\\d+)\")\n",
        "\n",
        "# Add columns for book + chapter, and book + chapter + verse for easier grouping\n",
        "mg[\"book_chapter\"] = mg[\"book\"] + \" \" + mg[\"chapter\"].astype(str)\n",
        "mg[\"book_chapter_verse\"] = mg[\"book_chapter\"] + \":\" + mg[\"verse\"].astype(str)\n",
        "\n",
        "# Import domain-label mapping\n",
        "# Open the JSON file\n",
        "with open(\"marble-domain-label-mapping.json\", \"r\") as f:\n",
        "    # Load the contents of the file as a dictionary\n",
        "    domain_labels = json.load(f)\n",
        "\n",
        "domain_labels[\"missing\"] = \"no domain\"\n",
        "domain_labels[\"nan\"] = \"no domain\"\n",
        "\n",
        "# Use domain labels to create a new column\n",
        "\n",
        "\n",
        "def get_domain_label(domain_string_number):\n",
        "    labels = [domain_labels[label] for label in domain_string_number.split(\" \")]\n",
        "    return labels\n",
        "\n",
        "\n",
        "mg[\"domain_label\"] = mg[\"domain\"].apply(get_domain_label)\n",
        "mg.head()\n",
        "\n",
        "# MACULA Hebrew URL: https://media.githubusercontent.com/media/Clear-Bible/macula-hebrew/main/TSV/macula-hebrew.tsv\n",
        "\n",
        "file3_url = \"https://raw.githubusercontent.com/Clear-Bible/macula-hebrew/main/TSV/macula-hebrew.tsv\"\n",
        "file3_name = \"macula-hebrew.tsv\"\n",
        "\n",
        "file4_url = \"https://raw.githubusercontent.com/Clear-Bible/macula-hebrew/main/sources/MARBLE/SDBH/domain-label-mapping-1.json\"\n",
        "file4_name = \"domain-label-mapping-1.json\"\n",
        "\n",
        "if file3_name not in os.listdir():\n",
        "    # This is a GIT LFS file, so we need to ensure the LFS protocol is used (which wget seems to resolve automatically)\n",
        "    !wget https://media.githubusercontent.com/media/Clear-Bible/macula-hebrew/main/TSV/macula-hebrew.tsv\n",
        "    \n",
        "if file4_name not in os.listdir():\n",
        "    download_file(file4_url, file4_name)\n",
        "\n",
        "# Import Macula Hebrew data\n",
        "mh = pd.read_csv(\n",
        "    \"macula-hebrew.tsv\", index_col=\"xml:id\", sep=\"\\t\", header=0, converters={\"*\": str}\n",
        ").fillna(\"missing\")\n",
        "# add an 'id' column\n",
        "mh[\"id\"] = mh.index\n",
        "\n",
        "# mh['domain'] = mh['domain'].astype(str).fillna('missing')\n",
        "\n",
        "# Extract book, chapter, and verse into separate columns\n",
        "mh[[\"book\", \"chapter\", \"verse\"]] = mh[\"ref\"].str.extract(r\"(\\d?[A-Z]+)\\s(\\d+):(\\d+)\")\n",
        "# Add columns for book + chapter, and book + chapter + verse for easier grouping\n",
        "mh[\"book_chapter\"] = mh[\"book\"] + \" \" + mh[\"chapter\"].astype(str)\n",
        "mh[\"book_chapter_verse\"] = mh[\"book_chapter\"] + \":\" + mh[\"verse\"].astype(str)\n",
        "\n",
        "# Import domain-label mapping to Hebrew as well using SBDH domain mapping\n",
        "# Open the JSON file\n",
        "with open(\"domain-label-mapping-1.json\", \"r\") as f:\n",
        "    # Load the contents of the file as a dictionary\n",
        "    hebrew_domain_labels = json.load(f)\n",
        "\n",
        "def get_hebrew_domain_label(domain_string_number):\n",
        "    labels = [hebrew_domain_labels[label] for label in domain_string_number.split(\">\") if label in hebrew_domain_labels]\n",
        "    return labels\n",
        "\n",
        "mh[\"domain_label\"] = mh[\"lexdomain\"].apply(get_hebrew_domain_label)\n",
        "\n",
        "mh.head()\n",
        "print(\"Macula Greek column names: \", mg.columns)\n",
        "print(\"Macula Hebrew column names: \", mh.columns)"
      ]
    },
    {
      "attachments": {},
      "cell_type": "markdown",
      "metadata": {
        "id": "gN32oBCEjqhe"
      },
      "source": [
        "## Set up QA agent"
      ]
    },
    {
      "attachments": {},
      "cell_type": "markdown",
      "metadata": {},
      "source": [
        "Use OpenAI"
      ]
    },
    {
      "cell_type": "code",
      "execution_count": 3,
      "metadata": {
        "id": "DkMo0HMEjqhe"
      },
      "outputs": [],
      "source": [
        "import getpass\n",
        "secret_key = getpass.getpass('Enter OpenAI secret key: ')\n",
        "os.environ['OPENAI_API_KEY'] = secret_key"
      ]
    },
    {
      "attachments": {},
      "cell_type": "markdown",
      "metadata": {},
      "source": [
        "Or use Vicuna via Shale Protocol (free tier)"
      ]
    },
    {
      "cell_type": "code",
      "execution_count": 4,
      "metadata": {},
      "outputs": [],
      "source": [
        "# os.environ['OPENAI_API_BASE'] = \"https://shale.live/v1\"\n",
        "# shale_api = getpass.getpass('Enter Shale API key: ')\n",
        "# os.environ['OPENAI_API_KEY'] = shale_api"
      ]
    },
    {
      "cell_type": "code",
      "execution_count": 5,
      "metadata": {
        "id": "ZV32zh-6jqhe"
      },
      "outputs": [],
      "source": [
        "import pandas as pd\n",
        "from langchain.llms import OpenAI\n",
        "from langchain.agents import create_pandas_dataframe_agent"
      ]
    },
    {
      "cell_type": "code",
      "execution_count": 6,
      "metadata": {
        "id": "zRaadE6ijqhe"
      },
      "outputs": [],
      "source": [
        "multi_df_agent = create_pandas_dataframe_agent(\n",
        "    OpenAI(temperature=0), \n",
        "    [mg, mh], # list of dataframes, here mg = Macula Greek, mh = Macula Hebrew\n",
        "    verbose=True,\n",
        "    max_tokens_limit = 3000,\n",
        "    max_tokens_per_prompt = 1000,\n",
        ")"
      ]
    },
    {
      "cell_type": "code",
      "execution_count": 7,
      "metadata": {
        "id": "3fRtszxFjqhf",
        "outputId": "39e56c4b-7f33-42f5-ea20-0ac250de6bee"
      },
      "outputs": [],
      "source": [
        "# multi_df_agent.run(\"How many unique domain labels are there (each domain label is a list)?\")"
      ]
    },
    {
      "cell_type": "code",
      "execution_count": 8,
      "metadata": {
        "id": "lVJasWJNjqhf",
        "outputId": "abd698d6-07a7-46bd-b88e-7a14b3c65c44"
      },
      "outputs": [],
      "source": [
        "# multi_df_agent.run(\"If you group all the rows by book, which books do not have some form of 'lord' or 'Lord' in their aggregated gloss column?\")"
      ]
    },
    {
      "attachments": {},
      "cell_type": "markdown",
      "metadata": {
        "id": "dnxrjAQijqhf"
      },
      "source": [
        "This was a bit shocking to me, but neither First, Second, or Third John, or Titus contain the word 'Lord'! To double check this, look at the vocab list through [Scaife](https://vocab.perseus.org/word-list/urn:cts:greekLit:tlg0031.tlg017.perseus-grc2/?page=all)"
      ]
    },
    {
      "attachments": {},
      "cell_type": "markdown",
      "metadata": {},
      "source": [
        "## Additional functionality"
      ]
    },
    {
      "attachments": {},
      "cell_type": "markdown",
      "metadata": {},
      "source": [
        "### List building"
      ]
    },
    {
      "attachments": {},
      "cell_type": "markdown",
      "metadata": {},
      "source": [
        "Now let's try to generate a list of results and output as TSV or plaintext. \n",
        "\n",
        "First, let's create a new dataframe that contains the aggregate verses."
      ]
    },
    {
      "cell_type": "code",
      "execution_count": 9,
      "metadata": {},
      "outputs": [],
      "source": [
        "# Long book names to USFM (3 uppercase letters) format\n",
        "book_name_mapping = {\n",
        "    \"Genesis\": \"GEN\",\n",
        "    \"Exodus\": \"EXO\",\n",
        "    \"Leviticus\": \"LEV\",\n",
        "    \"Numbers\": \"NUM\",\n",
        "    \"Deuteronomy\": \"DEU\",\n",
        "    \"Joshua\": \"JOS\",\n",
        "    \"Judges\": \"JDG\",\n",
        "    \"Ruth\": \"RUT\",\n",
        "    \"1 Samuel\": \"1SA\",\n",
        "    \"2 Samuel\": \"2SA\",\n",
        "    \"1 Kings\": \"1KI\",\n",
        "    \"2 Kings\": \"2KI\",\n",
        "    \"1 Chronicles\": \"1CH\",\n",
        "    \"2 Chronicles\": \"2CH\",\n",
        "    \"Ezra\": \"EZR\",\n",
        "    \"Nehemiah\": \"NEH\",\n",
        "    \"Esther\": \"EST\",\n",
        "    \"Job\": \"JOB\",\n",
        "    \"Psalms\": \"PSA\",\n",
        "    \"Psalm\": \"PSA\",\n",
        "    \"Proverbs\": \"PRO\",\n",
        "    \"Ecclesiastes\": \"ECC\",\n",
        "    \"Song of Solomon\": \"SNG\",\n",
        "    \"Isaiah\": \"ISA\",\n",
        "    \"Jeremiah\": \"JER\",\n",
        "    \"Lamentations\": \"LAM\",\n",
        "    \"Ezekiel\": \"EZK\",\n",
        "    \"Daniel\": \"DAN\",\n",
        "    \"Hosea\": \"HOS\",\n",
        "    \"Joel\": \"JOL\",\n",
        "    \"Amos\": \"AMO\",\n",
        "    \"Obadiah\": \"OBA\",\n",
        "    \"Jonah\": \"JON\",\n",
        "    \"Micah\": \"MIC\",\n",
        "    \"Nahum\": \"NAM\",\n",
        "    \"Habakkuk\": \"HAB\",\n",
        "    \"Zephaniah\": \"ZEP\",\n",
        "    \"Haggai\": \"HAG\",\n",
        "    \"Zechariah\": \"ZEC\",\n",
        "    \"Malachi\": \"MAL\",\n",
        "    \"Matthew\": \"MAT\",\n",
        "    \"Mark\": \"MRK\",\n",
        "    \"Luke\": \"LUK\",\n",
        "    \"John\": \"JHN\",\n",
        "    \"Acts\": \"ACT\",\n",
        "    \"Romans\": \"ROM\",\n",
        "    \"1 Corinthians\": \"1CO\",\n",
        "    \"2 Corinthians\": \"2CO\",\n",
        "    \"Galatians\": \"GAL\",\n",
        "    \"Ephesians\": \"EPH\",\n",
        "    \"Philippians\": \"PHP\",\n",
        "    \"Colossians\": \"COL\",\n",
        "    \"1 Thessalonians\": \"1TH\",\n",
        "    \"2 Thessalonians\": \"2TH\",\n",
        "    \"1 Timothy\": \"1TI\",\n",
        "    \"2 Timothy\": \"2TI\",\n",
        "    \"Titus\": \"TIT\",\n",
        "    \"Philemon\": \"PHM\",\n",
        "    \"Hebrews\": \"HEB\",\n",
        "    \"James\": \"JAS\",\n",
        "    \"1 Peter\": \"1PE\",\n",
        "    \"2 Peter\": \"2PE\",\n",
        "    \"1 John\": \"1JN\",\n",
        "    \"2 John\": \"2JN\",\n",
        "    \"3 John\": \"3JN\",\n",
        "    \"Jude\": \"JUD\",\n",
        "    \"Revelation\": \"REV\"\n",
        "}\n",
        "reverse_book_name_mapping = {v:k for k, v in book_name_mapping.items()}"
      ]
    },
    {
      "cell_type": "code",
      "execution_count": 10,
      "metadata": {},
      "outputs": [
        {
          "data": {
            "text/html": [
              "<div>\n",
              "<style scoped>\n",
              "    .dataframe tbody tr th:only-of-type {\n",
              "        vertical-align: middle;\n",
              "    }\n",
              "\n",
              "    .dataframe tbody tr th {\n",
              "        vertical-align: top;\n",
              "    }\n",
              "\n",
              "    .dataframe thead th {\n",
              "        text-align: right;\n",
              "    }\n",
              "</style>\n",
              "<table border=\"1\" class=\"dataframe\">\n",
              "  <thead>\n",
              "    <tr style=\"text-align: right;\">\n",
              "      <th></th>\n",
              "      <th>book_chapter_verse</th>\n",
              "      <th>gloss</th>\n",
              "      <th>lemma</th>\n",
              "      <th>normalized</th>\n",
              "      <th>book</th>\n",
              "      <th>chapter</th>\n",
              "    </tr>\n",
              "  </thead>\n",
              "  <tbody>\n",
              "    <tr>\n",
              "      <th>0</th>\n",
              "      <td>1CO 10:1</td>\n",
              "      <td>Not I want for you to be ignorant brothers tha...</td>\n",
              "      <td>οὐ θέλω γάρ σύ ἀγνοέω ἀδελφός ὅτι ὁ πατήρ ἐγώ ...</td>\n",
              "      <td>Οὐ θέλω γάρ ὑμᾶς ἀγνοεῖν ἀδελφοί ὅτι οἱ πατέρε...</td>\n",
              "      <td>1 Corinthians</td>\n",
              "      <td>1 Corinthians 10</td>\n",
              "    </tr>\n",
              "    <tr>\n",
              "      <th>1</th>\n",
              "      <td>1CO 10:10</td>\n",
              "      <td>Neither are you to grumble as some of them gru...</td>\n",
              "      <td>μηδέ γογγύζω καθάπερ τὶς αὐτός γογγύζω καί ἀπό...</td>\n",
              "      <td>μηδέ γογγύζετε καθάπερ τινές αὐτῶν ἐγόγγυσαν κ...</td>\n",
              "      <td>1 Corinthians</td>\n",
              "      <td>1 Corinthians 10</td>\n",
              "    </tr>\n",
              "    <tr>\n",
              "      <th>2</th>\n",
              "      <td>1CO 10:11</td>\n",
              "      <td>These things now [as] types happened to them w...</td>\n",
              "      <td>οὗτος δέ τυπικώς συμβαίνω ἐκεῖνος γράφω δέ πρό...</td>\n",
              "      <td>ταῦτα δέ τυπικῶς συνέβαινεν ἐκείνοις ἐγράφη δέ...</td>\n",
              "      <td>1 Corinthians</td>\n",
              "      <td>1 Corinthians 10</td>\n",
              "    </tr>\n",
              "    <tr>\n",
              "      <th>3</th>\n",
              "      <td>1CO 10:12</td>\n",
              "      <td>Therefore the [one] thinking to stand let him ...</td>\n",
              "      <td>ὥστε ὁ δοκέω ἵστημι βλέπω μή πίπτω</td>\n",
              "      <td>Ὥστε ὁ δοκῶν ἑστάναι βλεπέτω μή πέσῃ</td>\n",
              "      <td>1 Corinthians</td>\n",
              "      <td>1 Corinthians 10</td>\n",
              "    </tr>\n",
              "    <tr>\n",
              "      <th>4</th>\n",
              "      <td>1CO 10:13</td>\n",
              "      <td>Temptation you not has seized if not what is c...</td>\n",
              "      <td>πειρασμός σύ οὐ λαμβάνω εἰ μή ἀνθρώπινος πιστό...</td>\n",
              "      <td>πειρασμός ὑμᾶς οὐκ εἴληφεν εἰ μή ἀνθρώπινος πι...</td>\n",
              "      <td>1 Corinthians</td>\n",
              "      <td>1 Corinthians 10</td>\n",
              "    </tr>\n",
              "  </tbody>\n",
              "</table>\n",
              "</div>"
            ],
            "text/plain": [
              "  book_chapter_verse                                              gloss  \\\n",
              "0           1CO 10:1  Not I want for you to be ignorant brothers tha...   \n",
              "1          1CO 10:10  Neither are you to grumble as some of them gru...   \n",
              "2          1CO 10:11  These things now [as] types happened to them w...   \n",
              "3          1CO 10:12  Therefore the [one] thinking to stand let him ...   \n",
              "4          1CO 10:13  Temptation you not has seized if not what is c...   \n",
              "\n",
              "                                               lemma  \\\n",
              "0  οὐ θέλω γάρ σύ ἀγνοέω ἀδελφός ὅτι ὁ πατήρ ἐγώ ...   \n",
              "1  μηδέ γογγύζω καθάπερ τὶς αὐτός γογγύζω καί ἀπό...   \n",
              "2  οὗτος δέ τυπικώς συμβαίνω ἐκεῖνος γράφω δέ πρό...   \n",
              "3                 ὥστε ὁ δοκέω ἵστημι βλέπω μή πίπτω   \n",
              "4  πειρασμός σύ οὐ λαμβάνω εἰ μή ἀνθρώπινος πιστό...   \n",
              "\n",
              "                                          normalized           book  \\\n",
              "0  Οὐ θέλω γάρ ὑμᾶς ἀγνοεῖν ἀδελφοί ὅτι οἱ πατέρε...  1 Corinthians   \n",
              "1  μηδέ γογγύζετε καθάπερ τινές αὐτῶν ἐγόγγυσαν κ...  1 Corinthians   \n",
              "2  ταῦτα δέ τυπικῶς συνέβαινεν ἐκείνοις ἐγράφη δέ...  1 Corinthians   \n",
              "3               Ὥστε ὁ δοκῶν ἑστάναι βλεπέτω μή πέσῃ  1 Corinthians   \n",
              "4  πειρασμός ὑμᾶς οὐκ εἴληφεν εἰ μή ἀνθρώπινος πι...  1 Corinthians   \n",
              "\n",
              "            chapter  \n",
              "0  1 Corinthians 10  \n",
              "1  1 Corinthians 10  \n",
              "2  1 Corinthians 10  \n",
              "3  1 Corinthians 10  \n",
              "4  1 Corinthians 10  "
            ]
          },
          "execution_count": 10,
          "metadata": {},
          "output_type": "execute_result"
        }
      ],
      "source": [
        "verse_df = mg.groupby(\"book_chapter_verse\").agg({\n",
        "    'gloss': lambda x: ' '.join(x),\n",
        "    'lemma': lambda x: ' '.join(x),\n",
        "    'normalized': lambda x: ' '.join(x)\n",
        "}).reset_index()\n",
        "\n",
        "\n",
        "# Add 'book' and 'book_chapter' columns to verse_df. use reverse_book_name_mapping for book, and then add new book value to chapter value\n",
        "verse_df[[\"book\",\"chapter\"]] = verse_df[\"book_chapter_verse\"].str.extract(r\"(\\d?[A-Z]+)\\s(\\d+)\")\n",
        "\n",
        "# Translate book abbreviation to full book name\n",
        "verse_df[\"book\"] = verse_df[\"book\"].map(reverse_book_name_mapping)\n",
        "\n",
        "# Combine book name and chapter number\n",
        "verse_df[\"chapter\"] = verse_df[\"book\"] + \" \" + verse_df[\"chapter\"]\n",
        "\n",
        "verse_df.head()"
      ]
    },
    {
      "cell_type": "code",
      "execution_count": 39,
      "metadata": {},
      "outputs": [
        {
          "name": "stdout",
          "output_type": "stream",
          "text": [
            "huggingface/tokenizers: The current process just got forked, after parallelism has already been used. Disabling parallelism to avoid deadlocks...\n",
            "To disable this warning, you can either:\n",
            "\t- Avoid using `tokenizers` before the fork if possible\n",
            "\t- Explicitly set the environment variable TOKENIZERS_PARALLELISM=(true | false)\n"
          ]
        }
      ],
      "source": [
        "# Save verse_df, mg, and mh so I can load them up later without preprocessing\n",
        "!mkdir -p preprocessed-macula-dataframes\n",
        "\n",
        "verse_df.to_csv(\"preprocessed-macula-dataframes/verse_df.csv\", index=False)\n",
        "mg.to_csv(\"preprocessed-macula-dataframes/mg.csv\", index=False)\n",
        "mh.to_csv(\"preprocessed-macula-dataframes/mh.csv\", index=False)\n",
        "\n",
        "# to load one of these use pd.read_csv(\"preprocessed-macula-dataframes/verse_df.csv\")"
      ]
    },
    {
      "cell_type": "code",
      "execution_count": 12,
      "metadata": {},
      "outputs": [],
      "source": [
        "macula_greek_agent = create_pandas_dataframe_agent(\n",
        "    OpenAI(temperature=0), \n",
        "    # mg, # verse_df (?) \n",
        "    verse_df,\n",
        "    verbose=True,\n",
        "    max_tokens_limit = 3000,\n",
        "    max_tokens_per_prompt = 1000,\n",
        ")"
      ]
    },
    {
      "attachments": {},
      "cell_type": "markdown",
      "metadata": {},
      "source": [
        "We have to be pretty specific in the instructions we give the model for now, since it has to be able to understand what we might want to do with a Pandas dataframe. Thus, the following prompt breaks down a couple of steps:\n",
        "1. Group the data in some way\n",
        "2. Filter by criterion A\n",
        "3. Filter again by criterion B"
      ]
    },
    {
      "cell_type": "code",
      "execution_count": 13,
      "metadata": {},
      "outputs": [],
      "source": [
        "list_building_prompt = \"\"\"List all the verses that mention 'Jesus' and 'Peter' in the gloss column.\"\"\"\n",
        "\n",
        "\n",
        "# list_building_prompt = \"\"\"Which verses mention 'Jesus' and 'Πέτρος'?\"\"\"\n",
        "\n",
        "# macula_greek_agent.run(list_building_prompt)"
      ]
    },
    {
      "attachments": {},
      "cell_type": "markdown",
      "metadata": {},
      "source": [
        "Great, so we were able to get the Agent to list out the findings, without actually having to write Python code to manipulate the Pandas dataframe ourselves!\n",
        "\n",
        "Now let's try adding an output formatting directive to the prompt, namely, \n",
        "- Output as CSV\n",
        "- Use a particular set of headings"
      ]
    },
    {
      "cell_type": "code",
      "execution_count": 14,
      "metadata": {},
      "outputs": [],
      "source": [
        "list_building_and_save_as_csv_prompt = list_building_prompt + \"\"\"\\\n",
        "Please return the results in a CSV with the following columns: \\\n",
        "'book_chapter_verse', 'gloss'. \\\n",
        "\"\"\"\n",
        "\n",
        "# macula_greek_agent.run(list_building_and_save_as_csv_prompt)"
      ]
    },
    {
      "attachments": {},
      "cell_type": "markdown",
      "metadata": {},
      "source": [
        "Check the folder where this notebook is stored, and you should actually see a file called `result.csv` or `results.csv`, which contains the data we just extracted from the original dataframes, but we only had to query in natural language!"
      ]
    },
    {
      "attachments": {},
      "cell_type": "markdown",
      "metadata": {},
      "source": [
        "# Expand functionality for more tools using DB lookups"
      ]
    },
    {
      "cell_type": "code",
      "execution_count": 15,
      "metadata": {},
      "outputs": [],
      "source": [
        "from langchain.chains.question_answering import load_qa_chain\n",
        "from langchain.llms import OpenAI\n",
        "from langchain.vectorstores import Chroma\n",
        "from langchain.prompts import PromptTemplate\n",
        "from langchain.embeddings import HuggingFaceEmbeddings\n",
        "\n",
        "embeddings = HuggingFaceEmbeddings()"
      ]
    },
    {
      "cell_type": "code",
      "execution_count": 16,
      "metadata": {},
      "outputs": [
        {
          "name": "stderr",
          "output_type": "stream",
          "text": [
            "Using embedded DuckDB with persistence: data will be stored in: /Users/ryderwishart/genesis/databases/berean-bible-database\n"
          ]
        },
        {
          "name": "stderr",
          "output_type": "stream",
          "text": [
            "Using embedded DuckDB with persistence: data will be stored in: /Users/ryderwishart/biblical-machine-learning/gpt-inferences/databases/encyclopedic\n",
            "Using embedded DuckDB with persistence: data will be stored in: /Users/ryderwishart/biblical-machine-learning/gpt-inferences/databases/theology\n"
          ]
        },
        {
          "name": "stdout",
          "output_type": "stream",
          "text": [
            "[Document(page_content='“But what about you?” Jesus asked. “Who do you say I am?” Peter answered, “The Christ of God.”', metadata={'source': 'Luke 9:20', 'usfm': 'LUK 9:20'})]\n",
            "[(Document(page_content='Sometimes numerous small tombs, each one resembling somewhat a _kôk_, were\\ncut in a hillside. Archæologists call such a group of tombs a\\n“columbarium”; (see Fig. 230).', metadata={'source': 'encyclopedic/43070-0.txt'}), 1.1794637441635132)]\n"
          ]
        },
        {
          "name": "stderr",
          "output_type": "stream",
          "text": [
            "Using embedded DuckDB with persistence: data will be stored in: /Users/ryderwishart/genesis/databases/prose-contexts-shorter-itemized\n"
          ]
        },
        {
          "name": "stdout",
          "output_type": "stream",
          "text": [
            "[Document(page_content='\\ufeffThe Project Gutenberg EBook of Archæology and the Bible, by George A. Barton\\n\\nThis eBook is for the use of anyone anywhere at no cost and with\\nalmost no restrictions whatsoever.  You may copy it, give it away or\\nre-use it under the terms of the Project Gutenberg License included\\nwith this eBook or online at www.gutenberg.org\\n\\n\\nTitle: Archæology and the Bible\\n\\nAuthor: George A. Barton\\n\\nRelease Date: July 1, 2013 [EBook #43070]\\n\\nLanguage: English\\n\\nCharacter set encoding: UTF-8\\n\\n*** START OF THIS PROJECT GUTENBERG EBOOK ARCHÆOLOGY AND THE BIBLE ***\\n\\n\\nProduced by The Online Distributed Proofreading Team at\\nhttp://www.pgdp.net (This file was produced from images\\ngenerously made available by The Internet Archive.)\\n\\nARCHÆOLOGY AND THE BIBLE\\n\\n\\n[Illustration: A HILLSIDE STREET IN ROMAN JERUSALEM ALONG WHICH JESUS AND\\nTHE DISCIPLES MAY WELL HAVE WALKED (_after Germer-Durand_).\\n\\n--_Frontispiece._]\\n\\n\\n  Green Fund Book, No. 17\\n\\n\\n  ARCHÆOLOGY AND THE BIBLE', metadata={'source': 'theology/43070-0.txt'})]\n",
            "[(Document(page_content=\"## Syntax data\\n\\n- Treedown syntax: This word is part of the following sentence:\\n        then (δὲ)] \\n[\\n[[+: [v: Answering (Ἀποκριθεὶς)] [s: - (ὁ)] Peter (Πέτρος)] [v: said (εἶπεν)] [io: to Him (αὐτῷ)] \\n[[o: [v: Explain (Φράσον)] [io: to us (ἡμῖν)] [o: the (τὴν)] parable.(παραβολήν)] \\n        \\n- Semantic configurations (useful for figuring out what is taking place in the sentence and how this word plays a role):\\n        ['[A0: Ἰησοῦς] [φράζω] [A2: ἐγώ] [A1: παραβολή] / [Relation: to Jesus] [Process: Explain] [Beneficiary: to us] [Goal: parable]', '[A0: Πέτρος] [λέγω] [A2: αὐτός] / [Source: Peter] [Process: said] [Beneficiary: to Him]', '[] [ἀποκρίνομαι] [A1: Πέτρος] / [: ] [Process: Answering] [Source: Peter]']\", metadata={'source': '/Users/ryderwishart/genesis/prose_contexts_shorter_itemized/MAT 15:15.txt_Syntax.txt', 'data_scope': 'Syntax', 'verse_ref': 'MAT 15:15', 'book': 'Matthew', 'chapter': '15', 'verse': '15'}), 0.7084473967552185)]\n"
          ]
        }
      ],
      "source": [
        "# bible_persist_directory = '/Users/ryderwishart/genesis/databases/berean-bible-database'\n",
        "bible_persist_directory = '/Users/ryderwishart/genesis/databases/berean-bible-database'\n",
        "bible_chroma = Chroma(\"berean-bible\", embeddings, persist_directory=bible_persist_directory)\n",
        "print(bible_chroma.search('jesus speaks to peter', search_type='similarity', k=1))\n",
        "\n",
        "encyclopedic_persist_directory = '/Users/ryderwishart/biblical-machine-learning/gpt-inferences/databases/encyclopedic'\n",
        "encyclopedic_chroma = Chroma(persist_directory=encyclopedic_persist_directory, embedding_function=embeddings, collection_name=\"encyclopedic\")\n",
        "print(encyclopedic_chroma.similarity_search_with_score('What is a sarcophagus?', search_type='similarity', k=1))\n",
        "\n",
        "theology_persist_directory = '/Users/ryderwishart/biblical-machine-learning/gpt-inferences/databases/theology'\n",
        "theology_chroma = Chroma(\"theology\", embeddings, persist_directory=theology_persist_directory)\n",
        "print(theology_chroma.search('jesus speaks to peter', search_type='similarity', k=1))\n",
        "\n",
        "# # persist_directory = '/Users/ryderwishart/genesis/databases/itemized-prose-contexts copy' # NOTE: Itemized prose contexts are in this db\n",
        "# persist_directory = '/Users/ryderwishart/genesis/databases/prose-contexts' # NOTE: Full prose contexts are in this db\n",
        "# context_chroma = Chroma(persist_directory=persist_directory, embedding_function=embeddings, collection_name=\"prosaic_contexts_itemized\")\n",
        "# print(context_chroma.similarity_search_with_score('jesus (s) speaks (v) to peter (o)', search_type='similarity', k=1))\n",
        "\n",
        "persist_directory = \"/Users/ryderwishart/genesis/databases/prose-contexts-shorter-itemized\"\n",
        "context_chroma = Chroma(persist_directory=persist_directory, embedding_function=embeddings, collection_name=\"prosaic_contexts_shorter_itemized\")\n",
        "print(context_chroma.similarity_search_with_score('jesus (s) speaks (v) to peter (o)', search_type='similarity', k=1))"
      ]
    },
    {
      "attachments": {},
      "cell_type": "markdown",
      "metadata": {},
      "source": [
        "## Get Syntax brackets"
      ]
    },
    {
      "cell_type": "code",
      "execution_count": 18,
      "metadata": {},
      "outputs": [
        {
          "name": "stdout",
          "output_type": "stream",
          "text": [
            "huggingface/tokenizers: The current process just got forked, after parallelism has already been used. Disabling parallelism to avoid deadlocks...\n",
            "To disable this warning, you can either:\n",
            "\t- Avoid using `tokenizers` before the fork if possible\n",
            "\t- Explicitly set the environment variable TOKENIZERS_PARALLELISM=(true | false)\n",
            "Requirement already satisfied: lxml in /opt/homebrew/lib/python3.10/site-packages (4.9.2)\n"
          ]
        }
      ],
      "source": [
        "!pip install lxml"
      ]
    },
    {
      "cell_type": "code",
      "execution_count": 27,
      "metadata": {},
      "outputs": [],
      "source": [
        "# Get the plain treedown representation for a token's sentence\n",
        "\n",
        "from lxml import etree\n",
        "\n",
        "# Get the plain treedown representation for a token's sentence\n",
        "\n",
        "# example endpoint: \"https://labs.clear.bible/symphony-dev/api/GNT/Nestle1904/lowfat?usfm-ref=JHN%2014:1\" - JHN 14:1\n",
        "\n",
        "def process_element(element, usfm_ref, indent=0, brackets=False):\n",
        "    if brackets:\n",
        "        indent = 0\n",
        "    treedown_str = \"\"\n",
        "    open_bracket = \"[\" if brackets else \"\"\n",
        "    close_bracket = \"] \" if brackets else \"\"\n",
        "\n",
        "    if element.get(\"class\") == \"cl\":\n",
        "        treedown_str += \"\\n\" + open_bracket + (\"  \" * indent)\n",
        "\n",
        "    if element.get(\"role\"):\n",
        "        role = element.attrib[\"role\"]\n",
        "        if role == \"adv\":\n",
        "            role = \"+\"\n",
        "        if not brackets:\n",
        "            treedown_str += \"\\n\"\n",
        "        treedown_str += open_bracket + (\"  \" * indent) + role + \": \"\n",
        "\n",
        "    # # bold the matching token using usfm ref # NOTE: not applicable, since I think you have to use a USFM ref without the word\n",
        "    # if element.tag == \"w\" and element.get(\"ref\") == usfm_ref:\n",
        "    #     treedown_str += \"**\" + element.text + \"**\"\n",
        "    #     treedown_str += element.attrib.get(\"after\", \"\") + close_bracket\n",
        "\n",
        "    if element.tag == \"w\" and element.text:\n",
        "        treedown_str += element.attrib.get(\"gloss\", \"\") + element.attrib.get(\"after\", \"\") + f\"({element.text})\"\n",
        "        treedown_str += close_bracket\n",
        "\n",
        "    for child in element:\n",
        "        treedown_str += process_element(child, usfm_ref, indent + 1, brackets)\n",
        "\n",
        "    return treedown_str\n",
        "\n",
        "def get_treedown_by_ref(usfm_ref, brackets=True):\n",
        "    usfm_passage = usfm_ref.split(\"!\")[0]\n",
        "    endpoint = (\n",
        "        \"https://labs.clear.bible/symphony-dev/api/GNT/Nestle1904/lowfat?usfm-ref=\"\n",
        "        # \"http://localhost:8984/symphony-dev/api/GNT/Nestle1904/lowfat?usfm-ref=\"\n",
        "        + usfm_passage\n",
        "    )\n",
        "    \n",
        "    # uri encode endpoint\n",
        "    endpoint = requests.utils.requote_uri(endpoint)\n",
        "    \n",
        "    # print(endpoint)\n",
        "\n",
        "    text_response = requests.get(endpoint).text\n",
        "    xml = etree.fromstring(text_response.encode(\"utf-8\"))\n",
        "\n",
        "    treedown = process_element(xml, usfm_passage, brackets=brackets)\n",
        "    return treedown\n",
        "\n",
        "def get_syntax_for_query(query):\n",
        "    # Get passage using bible passage lookup and grabbing first result metadata['usfm']\n",
        "    most_relevant_passage_usfm_ref = bible_chroma.search(query, search_type='similarity', k=1)[0].metadata['usfm']\n",
        "    return get_treedown_by_ref(most_relevant_passage_usfm_ref)"
      ]
    },
    {
      "cell_type": "code",
      "execution_count": 28,
      "metadata": {},
      "outputs": [
        {
          "name": "stdout",
          "output_type": "stream",
          "text": [
            "then (δὲ)] \n",
            "[[v: He said (εἶπεν)] [io: to them (αὐτοῖς)] [+: however (δὲ)] \n",
            "[[s: You (Ὑμεῖς)] \n",
            "[[o: [p: whom (τίνα)] [s: Me (με)] [vc: to be;(εἶναι)] [v: do pronounce (λέγετε)] then (δὲ)] \n",
            "[[s: Peter (Πέτρος)] \n",
            "[[+: [v: answering (ἀποκριθεὶς)] [v: said (εἶπεν)] \n",
            "[[o: [p: The (Τὸν)] Christ (Χριστὸν)] - (τοῦ)] of God.(Θεοῦ)] \n"
          ]
        }
      ],
      "source": [
        "print(get_syntax_for_query('jesus speaks to peter'))"
      ]
    },
    {
      "attachments": {},
      "cell_type": "markdown",
      "metadata": {},
      "source": [
        "## Use self-querying for more specific data results"
      ]
    },
    {
      "attachments": {},
      "cell_type": "markdown",
      "metadata": {},
      "source": [
        "If we want to use a self-query tool to filter results with metadata, use this code:"
      ]
    },
    {
      "cell_type": "code",
      "execution_count": 29,
      "metadata": {},
      "outputs": [],
      "source": [
        "from langchain.llms import OpenAI\n",
        "from langchain.retrievers.self_query.base import SelfQueryRetriever\n",
        "from langchain.chains.query_constructor.base import AttributeInfo\n",
        "from langchain.chains.llm import LLMChain\n",
        "from langchain.chains.query_constructor import ir\n",
        "from langchain.chains.query_constructor.parser import QueryTransformer\n",
        "from langchain.chains.query_constructor.prompt import DEFAULT_SCHEMA\n",
        "\n",
        "metadata_field_info=[\n",
        "    AttributeInfo(\n",
        "        name=\"source\",\n",
        "        description=\"File path to the source document\", \n",
        "        type=\"string\", \n",
        "    ),\n",
        "    # AttributeInfo(\n",
        "    #     name=\"data_scope\",\n",
        "    #     description=\"Type/scope of linguistic data in document, one of [Syntax, Lexical, Discourse, Social-Situational, Cultural-encyclopedic]. Always pick one of these as a filter.\",\n",
        "    #     type=\"string\", \n",
        "    # ),\n",
        "    AttributeInfo(\n",
        "        name=\"verse_ref\",\n",
        "        description=\"Complete BOK CH:VS reference for verse (in USFM format)\",\n",
        "        type=\"string\", \n",
        "    ),\n",
        "    AttributeInfo(\n",
        "        name=\"book\",\n",
        "        description=\"Book name\",\n",
        "        type=\"string\", \n",
        "    ),\n",
        "    AttributeInfo(\n",
        "        name=\"chapter\",\n",
        "        description=\"Chapter number\",\n",
        "        type=\"integer\", \n",
        "    ),\n",
        "    AttributeInfo(\n",
        "        name=\"verse\",\n",
        "        description=\"Verse number\",\n",
        "        type=\"integer\", \n",
        "    ),\n",
        "]\n",
        "document_content_description = \"Linguistic data about a bible verse\"\n",
        "# retriever = SelfQueryRetriever.from_llm(llm, context_chroma, document_content_description, metadata_field_info, verbose=True)"
      ]
    },
    {
      "attachments": {},
      "cell_type": "markdown",
      "metadata": {},
      "source": [
        "The downside of the self-query path is that it involves more LLM calls in theory. However, it might be worth exploring in the future whether a single massive Chroma DB with richer metadata isn't more efficient than a bunch of smaller ones, provided the tool associated with the DB is a self-querying one that can filter results based on metadata."
      ]
    },
    {
      "cell_type": "code",
      "execution_count": 30,
      "metadata": {},
      "outputs": [],
      "source": [
        "from langchain.tools import tool\n",
        "\n",
        "@tool\n",
        "def get_context_for_most_relevant_passage(query, k=3):\n",
        "    \"\"\"Finds relevant context for a bible passage\"\"\"\n",
        "    docs = bible_chroma.search(query, search_type='similarity', k=k)\n",
        "    print(docs)\n",
        "    most_relevant_doc = docs[0]\n",
        "    # print('most_relevant_doc', most_relevant_doc)\n",
        "    verse_ref = most_relevant_doc.metadata['source']\n",
        "        \n",
        "    # Input most relevant doc as metadata filter into context_chroma \n",
        "    # context_docs = retriever.get_relevant_documents(f\"{query} in {verse_ref}\")\n",
        "    # context_docs = context_chroma.search(f\"{query} in {verse_ref} ('{most_relevant_doc.page_content}')\", search_type='similarity', k=1)\n",
        "    context_docs = context_chroma.search(query, search_type='similarity', k=k)\n",
        "    \n",
        "    # return most_relevant_doc, context_docs\n",
        "    return docs, context_docs\n",
        "\n",
        "# tools = [\n",
        "#     Tool(\n",
        "#         name=\"Context for Most Relevant Passage\",\n",
        "#         func=get_context_for_most_relevant_passage.run,\n",
        "#         description=\"useful for when you need to find relevant linguistic context for a Bible passage. Input should be a full question\",\n",
        "#     ),\n",
        "# ]\n",
        "\n",
        "# self_ask_with_search = initialize_agent(tools, llm, agent=AgentType.ZERO_SHOT_REACT_DESCRIPTION, verbose=True)\n"
      ]
    },
    {
      "attachments": {},
      "cell_type": "markdown",
      "metadata": {},
      "source": [
        "## Define custom tools for an agent"
      ]
    },
    {
      "cell_type": "code",
      "execution_count": 31,
      "metadata": {},
      "outputs": [],
      "source": [
        "# Import things that are needed generically\n",
        "from langchain.agents import initialize_agent, Tool\n",
        "from langchain.agents import AgentType\n",
        "from langchain.llms import OpenAI\n",
        "from langchain import LLMMathChain, SerpAPIWrapper\n"
      ]
    },
    {
      "cell_type": "code",
      "execution_count": 32,
      "metadata": {},
      "outputs": [],
      "source": [
        "tools = [\n",
        "    Tool(\n",
        "        name=\"Bible Verse Reader Lookup\",\n",
        "        # Use the \n",
        "        func=lambda x: bible_chroma.search(x, search_type='similarity', k=5),\n",
        "        description=\"useful for finding verses that are similar to the user's query, not suitable for complex queries\",\n",
        "    ),\n",
        "    # Tool(\n",
        "    #     name=\"Bible Words Lookup\",\n",
        "    #     func=macula_greek_agent.run, # Note: using the NT-only agent here\n",
        "    #     description=\"useful for finding information about biblical words from the Macula TSV data, which includes glosses, lemmas, normalized forms, and more. This tool is not useful for grammar and syntax questions (about subjects, objects, verbs, etc.), but is useful for finding information about the words themselves\",\n",
        "    # ),\n",
        "    Tool(\n",
        "        name=\"Bible Verse Dataframe Tool\",\n",
        "        func=macula_greek_agent.run, # Note: using the NT-only agent here\n",
        "        description=\"useful for finding information about Bible verses in a dataframe in case counting, grouping, aggregating, or list building is required. This tool is not useful for grammar and syntax questions (about subjects, objects, verbs, etc.), but is useful for finding information about the words (English or Greek or Greek lemmas) themselves\",\n",
        "    ),\n",
        "    Tool(\n",
        "        name=\"Linguistic Data Lookup\",\n",
        "        func=lambda x: context_chroma.similarity_search_with_score(x, search_type='similarity', k=2),\n",
        "        description=\"useful for finding linguistic data about the user's query. Use this if the user is asking a question that relates to the linguistic discourse, situational context, participants, semantic roles (source, process, goal, etc.), or who the speakers are in a passage\",\n",
        "    ),\n",
        "    # Tool(\n",
        "    #     name=\"Context for Most Relevant Passage\", # NOTE: this tool isn't working quite right. Needs some work\n",
        "    #     func=get_context_for_most_relevant_passage.run,\n",
        "    #     description=\"useful for when you need to find relevant linguistic context for a Bible passage. Input should be 'situation for' and the original user query\",\n",
        "    # ),\n",
        "    Tool(\n",
        "        name=\"Syntax Data Lookup\",\n",
        "        func=lambda x: get_syntax_for_query(x),\n",
        "        description=\"useful for finding syntax data about the user's query. Use this if the user is asking a question that relates to a sentence's structure, such as 'who is the subject of this sentence?' or 'what are the circumstances of this verb?'\", \n",
        "    ),\n",
        "    Tool(\n",
        "        name=\"Theological Data Lookup\",\n",
        "        func=lambda x: theology_chroma.search(x, search_type='similarity', k=5),\n",
        "        description=\"useful for finding theological data about the user's query. Use this if the user is asking about theological concepts or value-oriented questions about 'why' the Bible says certain things. Always be sure to cite the source of the data\",\n",
        "    ),\n",
        "    Tool(\n",
        "        name=\"Encyclopedic Data Lookup\",\n",
        "        func=lambda x: encyclopedic_chroma.similarity_search_with_score(x, search_type='similarity', k=5),\n",
        "        description=\"useful for finding encyclopedic data about the user's query. Use this if the user is asking about historical, cultural, geographical, archaeological, or other types of information from secondary sources\",\n",
        "    ),\n",
        "    Tool(\n",
        "        name=\"Any Other Kind of Question Tool\",\n",
        "        func=lambda x: \"Sorry, I don't know!\",\n",
        "        description=\"This tool is for vague, broad, ambiguous questions\",\n",
        "    ),\n",
        "]"
      ]
    },
    {
      "cell_type": "code",
      "execution_count": 33,
      "metadata": {},
      "outputs": [],
      "source": [
        "from langchain.callbacks.streaming_stdout import StreamingStdOutCallbackHandler\n",
        "# from langchain.callbacks.streamlit import StreamlitCallbackHandler\n",
        "from langchain.llms.fake import FakeListLLM\n",
        "\n",
        "agent = initialize_agent(tools, OpenAI(temperature=0, streaming=True, callbacks=[StreamingStdOutCallbackHandler()]), agent=AgentType.ZERO_SHOT_REACT_DESCRIPTION, verbose=True)\n",
        "# agent = initialize_agent(tools, OpenAI(temperature=0, streaming=True, callbacks=[StreamlitCallbackHandler()]), agent=AgentType.ZERO_SHOT_REACT_DESCRIPTION, verbose=True)\n"
      ]
    },
    {
      "attachments": {},
      "cell_type": "markdown",
      "metadata": {},
      "source": [
        "## Test agent tools"
      ]
    },
    {
      "cell_type": "code",
      "execution_count": 25,
      "metadata": {},
      "outputs": [
        {
          "name": "stdout",
          "output_type": "stream",
          "text": [
            "\n",
            "\n",
            "\u001b[1m> Entering new AgentExecutor chain...\u001b[0m\n",
            " I need to find a Bible verse that answers this question.\n",
            "Action: Bible Verse Reader Lookup\n",
            "Action Input: Jesus heal man born blind\u001b[32;1m\u001b[1;3m I need to find a Bible verse that answers this question.\n",
            "Action: Bible Verse Reader Lookup\n",
            "Action Input: Jesus heal man born blind\u001b[0m\n",
            "Observation: \u001b[36;1m\u001b[1;3m[Document(page_content='Now as Jesus was passing by, He saw a man blind from birth,', metadata={'source': 'John 9:1', 'usfm': 'JHN 9:1'}), Document(page_content='“What do you want Me to do for you?” Jesus asked. “Rabboni,” said the blind man, “let me see again.”', metadata={'source': 'Mark 10:51', 'usfm': 'MRK 10:51'}), Document(page_content='Once again Jesus placed His hands on the man’s eyes, and when he opened them his sight was restored, and he could see everything clearly.', metadata={'source': 'Mark 8:25', 'usfm': 'MRK 8:25'}), Document(page_content='Never before has anyone heard of opening the eyes of a man born blind.', metadata={'source': 'John 9:32', 'usfm': 'JHN 9:32'}), Document(page_content='At that very hour Jesus healed many people of their diseases, afflictions, and evil spirits, and He gave sight to many who were blind.', metadata={'source': 'Luke 7:21', 'usfm': 'LUK 7:21'})]\u001b[0m\n",
            "Thought: I now know the source of the answer.\n",
            "Final Answer: Jesus healed the man born blind in John 9:1, Mark 10:51, Mark 8:25, and John 9:32.\u001b[32;1m\u001b[1;3m I now know the source of the answer.\n",
            "Final Answer: Jesus healed the man born blind in John 9:1, Mark 10:51, Mark 8:25, and John 9:32.\u001b[0m\n",
            "\n",
            "\u001b[1m> Finished chain.\u001b[0m\n"
          ]
        },
        {
          "data": {
            "text/plain": [
              "'Jesus healed the man born blind in John 9:1, Mark 10:51, Mark 8:25, and John 9:32.'"
            ]
          },
          "execution_count": 25,
          "metadata": {},
          "output_type": "execute_result"
        }
      ],
      "source": [
        "agent.run(\"Where did Jesus heal the man born blind?\")"
      ]
    },
    {
      "cell_type": "code",
      "execution_count": 41,
      "metadata": {},
      "outputs": [
        {
          "name": "stdout",
          "output_type": "stream",
          "text": [
            "\n",
            "\n",
            "\u001b[1m> Entering new AgentExecutor chain...\u001b[0m\n",
            "\u001b[32;1m\u001b[1;3m I need to find a Bible verse that mentions this event.\n",
            "Action: Bible Verse Lookup\n",
            "Action Input: Jesus healing man born blind\u001b[0m\n",
            "Observation: \u001b[36;1m\u001b[1;3m[Document(page_content='Now as Jesus was passing by, He saw a man blind from birth,', metadata={'source': 'John 9:1', 'usfm': 'JHN 9:1'}), Document(page_content='Once again Jesus placed His hands on the man’s eyes, and when he opened them his sight was restored, and he could see everything clearly.', metadata={'source': 'Mark 8:25', 'usfm': 'MRK 8:25'}), Document(page_content='Never before has anyone heard of opening the eyes of a man born blind.', metadata={'source': 'John 9:32', 'usfm': 'JHN 9:32'}), Document(page_content='At that very hour Jesus healed many people of their diseases, afflictions, and evil spirits, and He gave sight to many who were blind.', metadata={'source': 'Luke 7:21', 'usfm': 'LUK 7:21'}), Document(page_content='“What do you want Me to do for you?” Jesus asked. “Rabboni,” said the blind man, “let me see again.”', metadata={'source': 'Mark 10:51', 'usfm': 'MRK 10:51'})]\u001b[0m\n",
            "Thought:\u001b[32;1m\u001b[1;3m I need to find out what city this event took place in.\n",
            "Action: Encyclopedic Data Lookup\n",
            "Action Input: Jesus healing man born blind\u001b[0m\n",
            "Observation: \u001b[33;1m\u001b[1;3m[(Document(page_content=\"XXIV\\n\\nTHE SCENES OF JESUS' MINISTRY\", metadata={'source': 'encyclopedic/40747-0.txt'}), 1.042514443397522), (Document(page_content=\"XXIV\\n\\nTHE SCENES OF JESUS' MINISTRY\", metadata={'source': 'encyclopedic/40747-0.txt'}), 1.042514443397522), (Document(page_content=\"=Jesus' Appearance.= The gospels record the inner spiritual growth of\\nthe divine Son of God; but the environment amidst which he lived\\nsuggests the nature of his physical development. Nazareth is still\\nfamous for its attractive, wholesome type of men and women. Its\\nwholesome surroundings, soil, and air all make for perfect health. The\\nartists of the Middle Ages had no basis other than their morbid\\nreligious fancies in painting their grotesque pictures of the Christ.\\nConstant exposure to the hot oriental suns meant that his complexion\\nwas deeply browned. The out-door life among the Galilean hills meant\\nthat he was probably tall in stature; his labors and long journeys\\nreveal great strength of muscle. He probably had the thin nostrils and\\nlustrous eyes that still characterize the pure Semitic type. The\\nimpression which he made at first glance upon all whom he met\\nindicates that his was a perfect physical development. Had he\\npermitted the enthusiastic multitudes that followed him to proclaim\\nhim king he would indeed have graced a throne. Through his mien and\\nbearing was revealed the serene heart, in perfect harmony with the\\nDivine Father and throbbing in sympathy with the needs and aspirations\\nof all mankind. Thus there is every reason to believe that Jesus was\\nin body, as well as in mind and in soul, the supreme and culminating\\nproduct of God's creative work.\", metadata={'source': 'encyclopedic/40747-0.txt'}), 1.072327971458435), (Document(page_content='=Jesus\\' Educational Opportunities.= Along the central or the\\neast-Jordan route travelled the young boy of twelve to participate for\\nthe first time in the worship of the temple and to ask of the great\\nteachers of his race the eager questions which aroused their\\nwonderment. Luke has told in clear and graphic words the history of\\nthese earlier years: \"The child grew, and became strong, filled with\\nwisdom; and the grace of God was upon him.\" The light that comes from\\nthe study of Jesus\\' geographical environment richly supplements the\\nmeagre biblical narrative. Every year his parents made the journey to\\nJerusalem and Jesus doubtless went with them. The same highways\\nfrequently brought to Nazareth itinerant scribes and teachers of the\\nlaw. Ample opportunities were also offered to secure copies of the\\nscriptures of his race and thus to acquire that intimate knowledge of\\ntheir contents which Jesus showed throughout all his ministry. Above\\nall, Nazareth was in close touch with the outside world and revealed\\nto Jesus the crying needs of the \"lost sheep of the House of Israel,\"\\nwhich ultimately drew him from the seclusion of his home to undertake\\nhis great life work.', metadata={'source': 'encyclopedic/40747-0.txt'}), 1.1722602844238281), (Document(page_content=\"The Short Reign of Archelaus.--The Roman Province of Judea.--Territory\\n  and Character of Herod Antipas.--Philip's Territory.--The\\n  Decapolis.--Place of Jesus' Birth.--Situation of Nazareth.--Its\\n  Central Position.--View from the Heights above the City.--The Spring\\n  at Nazareth.--Roads to Jerusalem.--Jesus' Educational\\n  Opportunities.--Scene of John the Baptist's Early Life.--Field of His\\n  Activity.--The Baptism of Jesus.--Machærus, Where John the Baptist Was\\n  Beheaded.--Effect of John's Death Upon Jesus.--Jesus' Appearance.\\n\\n\\n  XXIV. THE SCENES OF JESUS' MINISTRY                                247\", metadata={'source': 'encyclopedic/40747-0.txt'}), 1.19789457321167)]\u001b[0m\n",
            "Thought:\u001b[32;1m\u001b[1;3m I now know the final answer.\n",
            "Final Answer: The city where Jesus healed the man born blind was Jerusalem.\u001b[0m\n",
            "\n",
            "\u001b[1m> Finished chain.\u001b[0m\n"
          ]
        },
        {
          "data": {
            "text/plain": [
              "'The city where Jesus healed the man born blind was Jerusalem.'"
            ]
          },
          "execution_count": 41,
          "metadata": {},
          "output_type": "execute_result"
        }
      ],
      "source": [
        "agent.run(\"In what city did Jesus heal the man born blind?\")"
      ]
    },
    {
      "cell_type": "code",
      "execution_count": 31,
      "metadata": {},
      "outputs": [
        {
          "name": "stdout",
          "output_type": "stream",
          "text": [
            "\n",
            "\n",
            "\u001b[1m> Entering new AgentExecutor chain...\u001b[0m\n",
            "\u001b[32;1m\u001b[1;3m I need to find out who is mentioned the most in the book of Luke.\n",
            "Action: Bible Verse Dataframe Tool\n",
            "Action Input: Book of Luke\u001b[0m\n",
            "\n",
            "\u001b[1m> Entering new AgentExecutor chain...\u001b[0m\n",
            "\u001b[32;1m\u001b[1;3mThought: I need to find the book in the dataframe\n",
            "Action: python_repl_ast\n",
            "Action Input: df[df['book'] == 'Luke']\u001b[0m\n",
            "Observation: \u001b[36;1m\u001b[1;3m     book_chapter_verse                                              gloss  \\\n",
            "4040           LUK 10:1  After now these things appointed the Lord othe...   \n",
            "4041          LUK 10:10  Into whatever now - city you might enter and n...   \n",
            "4042          LUK 10:11  Even the dust - having clung to us out of the ...   \n",
            "4043          LUK 10:12  I say to you that for Sodom in the day that mo...   \n",
            "4044          LUK 10:13  Woe to you Chorazin Woe to you Bethsaida For i...   \n",
            "...                 ...                                                ...   \n",
            "5184           LUK 9:61  Said then also another I will follow You Lord ...   \n",
            "5185           LUK 9:62  Said then to him - Jesus No one having laid th...   \n",
            "5186            LUK 9:7  Heard of now Herod the Tetrarch the things bei...   \n",
            "5187            LUK 9:8  by some also that Elijah had appeared by other...   \n",
            "5188            LUK 9:9  Said then Herod John I beheaded who however is...   \n",
            "\n",
            "                                                  lemma  \\\n",
            "4040  μετά δέ οὗτος ἀναδείκνυμι ὁ κύριος ἕτερος ἑβδο...   \n",
            "4041  εἰς ὅς δέ ἄν πόλις εἰσέρχομαι καί μή δέχομαι σ...   \n",
            "4042  καί ὁ κονιορτός ὁ κολλάω ἐγώ ἐκ ὁ πόλις σύ εἰς...   \n",
            "4043  λέγω σύ ὅτι Σόδομα ἐν ὁ ἡμέρα ἐκεῖνος ἀνεκτός ...   \n",
            "4044  οὐαί σύ Χοραζίν οὐαί σύ Βηθσαϊδά ὅτι εἰ ἐν Τύρ...   \n",
            "...                                                 ...   \n",
            "5184  λέγω δέ καί ἕτερος ἀκολουθέω σύ κύριος πρῶτος ...   \n",
            "5185  λέγω δέ πρός αὐτός ὁ Ἰησοῦς οὐδείς ἐπιβάλλω ὁ ...   \n",
            "5186  ἀκούω δέ Ἡρῴδης ὁ τετραάρχης ὁ γίνομαι πᾶς καί...   \n",
            "5187  ὑπό τὶς δέ ὅτι Ἠλίας φαίνω ἄλλος δέ ὅτι προφήτ...   \n",
            "5188  λέγω δέ Ἡρῴδης Ἰωάννης ἐγώ ἀποκεφαλίζω τίς δέ ...   \n",
            "\n",
            "                                             normalized  book  chapter  \n",
            "4040  Μετά δέ ταῦτα ἀνέδειξεν ὁ Κύριος ἑτέρους ἑβδομ...  Luke  Luke 10  \n",
            "4041  εἰς ἥν δ’ ἄν πόλιν εἰσέλθητε καί μή δέχωνται ὑ...  Luke  Luke 10  \n",
            "4042  Καί τόν κονιορτόν τόν κολληθέντα ἡμῖν ἐκ τῆς π...  Luke  Luke 10  \n",
            "4043  λέγω ὑμῖν ὅτι Σοδόμοις ἐν τῇ ἡμέρᾳ ἐκείνῃ ἀνεκ...  Luke  Luke 10  \n",
            "4044  Οὐαί σοι Χοραζείν οὐαί σοι Βηθσαϊδά ὅτι εἰ ἐν ...  Luke  Luke 10  \n",
            "...                                                 ...   ...      ...  \n",
            "5184  Εἶπεν δέ καί ἕτερος Ἀκολουθήσω σοι Κύριε πρῶτο...  Luke   Luke 9  \n",
            "5185  εἶπεν δέ πρός αὐτόν ὁ Ἰησοῦς Οὐδείς ἐπιβαλών τ...  Luke   Luke 9  \n",
            "5186  Ἤκουσεν δέ Ἠρῴδης ὁ τετραάρχης τά γινόμενα πάν...  Luke   Luke 9  \n",
            "5187  ὑπό τινων δέ ὅτι Ἠλείας ἐφάνη ἄλλων δέ ὅτι προ...  Luke   Luke 9  \n",
            "5188  εἶπεν δέ Ἠρῴδης Ἰωάνην ἐγώ ἀπεκεφάλισα τίς δέ ...  Luke   Luke 9  \n",
            "\n",
            "[1149 rows x 6 columns]\u001b[0m\n",
            "Thought:\u001b[32;1m\u001b[1;3m I now know the final answer\n",
            "Final Answer: The book of Luke is in the dataframe.\u001b[0m\n",
            "\n",
            "\u001b[1m> Finished chain.\u001b[0m\n",
            "\n",
            "Observation: \u001b[33;1m\u001b[1;3mThe book of Luke is in the dataframe.\u001b[0m\n",
            "Thought:\u001b[32;1m\u001b[1;3m I need to count the mentions of each person in the book of Luke.\n",
            "Action: Bible Verse Dataframe Tool\n",
            "Action Input: Count mentions of each person in the book of Luke\u001b[0m\n",
            "\n",
            "\u001b[1m> Entering new AgentExecutor chain...\u001b[0m\n",
            "\u001b[32;1m\u001b[1;3mThought: I need to count the number of times each person is mentioned in the book of Luke\n",
            "Action: python_repl_ast\n",
            "Action Input: df[df['book'] == 'Luke']['lemma'].value_counts()\u001b[0m\n",
            "Observation: \u001b[36;1m\u001b[1;3mμετά δέ οὗτος ἀναδείκνυμι ὁ κύριος ἕτερος ἑβδομήκοντα καί ἀποστέλλω αὐτός ἀνά δύο πρό πρόσωπον αὐτός εἰς πᾶς πόλις καί τόπος οὗ μέλλω αὐτός ἔρχομαι    1\n",
            "δόξα ἐν ὕψιστος θεός καί ἐπί γῆ εἰρήνη ἐν ἄνθρωπος εὐδοκία                                                                                             1\n",
            "οὗτος ἀπογραφή πρῶτος γίνομαι ἡγεμονεύω ὁ Συρία Κυρήνιος                                                                                               1\n",
            "ὁ δέ Μαρία πᾶς συντηρέω ὁ ῥῆμα οὗτος συμβάλλω ἐν ὁ καρδία αὐτός                                                                                        1\n",
            "καί πᾶς ὁ ἀκούω θαυμάζω περί ὁ λαλέω ὑπό ὁ ποιμήν πρός αὐτός                                                                                           1\n",
            "                                                                                                                                                      ..\n",
            "καί ζητέω ὁράω ὁ Ἰησοῦς τίς εἰμί καί οὐ δύναμαι ἀπό ὁ ὄχλος ὅτι ὁ ἡλικία μικρός εἰμί                                                                   1\n",
            "λέγω ὑπάγω εἰς ὁ κατέναντι κώμη ἐν ὅς εἰσπορεύομαι εὑρίσκω πῶλος δέω ἐπί ὅς οὐδείς πώποτε ἄνθρωπος καθίζω καί λύω αὐτός ἄγω                            1\n",
            "καί ἐάν τὶς σύ ἐρωτάω διά τίς λύω οὕτω εἶπον ὅτι ὁ κύριος αὐτός χρεία ἔχω                                                                              1\n",
            "ἀπέρχομαι δέ ὁ ἀποστέλλω εὑρίσκω καθώς λέγω αὐτός                                                                                                      1\n",
            "λέγω δέ Ἡρῴδης Ἰωάννης ἐγώ ἀποκεφαλίζω τίς δέ εἰμί οὗτος περί ὅς ἀκούω τοιοῦτος καί ζητέω ὁράω αὐτός                                                   1\n",
            "Name: lemma, Length: 1149, dtype: int64\u001b[0m\n",
            "Thought:\u001b[32;1m\u001b[1;3m I now know the final answer\n",
            "Final Answer: There are 1149 mentions of different people in the book of Luke.\u001b[0m\n",
            "\n",
            "\u001b[1m> Finished chain.\u001b[0m\n",
            "\n",
            "Observation: \u001b[33;1m\u001b[1;3mThere are 1149 mentions of different people in the book of Luke.\u001b[0m\n",
            "Thought:\u001b[32;1m\u001b[1;3m I need to find out which person is mentioned the most.\n",
            "Action: Bible Verse Dataframe Tool\n",
            "Action Input: Find the person mentioned the most in the book of Luke\u001b[0m\n",
            "\n",
            "\u001b[1m> Entering new AgentExecutor chain...\u001b[0m\n",
            "\u001b[32;1m\u001b[1;3mThought: I need to find a way to count the number of times a person is mentioned\n",
            "Action: python_repl_ast\n",
            "Action Input: df[df['book'] == 'Luke']['lemma'].value_counts()\u001b[0m\n",
            "Observation: \u001b[36;1m\u001b[1;3mμετά δέ οὗτος ἀναδείκνυμι ὁ κύριος ἕτερος ἑβδομήκοντα καί ἀποστέλλω αὐτός ἀνά δύο πρό πρόσωπον αὐτός εἰς πᾶς πόλις καί τόπος οὗ μέλλω αὐτός ἔρχομαι    1\n",
            "δόξα ἐν ὕψιστος θεός καί ἐπί γῆ εἰρήνη ἐν ἄνθρωπος εὐδοκία                                                                                             1\n",
            "οὗτος ἀπογραφή πρῶτος γίνομαι ἡγεμονεύω ὁ Συρία Κυρήνιος                                                                                               1\n",
            "ὁ δέ Μαρία πᾶς συντηρέω ὁ ῥῆμα οὗτος συμβάλλω ἐν ὁ καρδία αὐτός                                                                                        1\n",
            "καί πᾶς ὁ ἀκούω θαυμάζω περί ὁ λαλέω ὑπό ὁ ποιμήν πρός αὐτός                                                                                           1\n",
            "                                                                                                                                                      ..\n",
            "καί ζητέω ὁράω ὁ Ἰησοῦς τίς εἰμί καί οὐ δύναμαι ἀπό ὁ ὄχλος ὅτι ὁ ἡλικία μικρός εἰμί                                                                   1\n",
            "λέγω ὑπάγω εἰς ὁ κατέναντι κώμη ἐν ὅς εἰσπορεύομαι εὑρίσκω πῶλος δέω ἐπί ὅς οὐδείς πώποτε ἄνθρωπος καθίζω καί λύω αὐτός ἄγω                            1\n",
            "καί ἐάν τὶς σύ ἐρωτάω διά τίς λύω οὕτω εἶπον ὅτι ὁ κύριος αὐτός χρεία ἔχω                                                                              1\n",
            "ἀπέρχομαι δέ ὁ ἀποστέλλω εὑρίσκω καθώς λέγω αὐτός                                                                                                      1\n",
            "λέγω δέ Ἡρῴδης Ἰωάννης ἐγώ ἀποκεφαλίζω τίς δέ εἰμί οὗτος περί ὅς ἀκούω τοιοῦτος καί ζητέω ὁράω αὐτός                                                   1\n",
            "Name: lemma, Length: 1149, dtype: int64\u001b[0m\n",
            "Thought:\u001b[32;1m\u001b[1;3m I now know the final answer\n",
            "Final Answer: Jesus is mentioned the most in the book of Luke.\u001b[0m\n",
            "\n",
            "\u001b[1m> Finished chain.\u001b[0m\n",
            "\n",
            "Observation: \u001b[33;1m\u001b[1;3mJesus is mentioned the most in the book of Luke.\u001b[0m\n",
            "Thought:\u001b[32;1m\u001b[1;3m I now know the final answer.\n",
            "Final Answer: Jesus is mentioned the most in the book of Luke.\u001b[0m\n",
            "\n",
            "\u001b[1m> Finished chain.\u001b[0m\n"
          ]
        },
        {
          "data": {
            "text/plain": [
              "'Jesus is mentioned the most in the book of Luke.'"
            ]
          },
          "execution_count": 31,
          "metadata": {},
          "output_type": "execute_result"
        }
      ],
      "source": [
        "agent.run(\"Who is most often mentioned in the book of luke?\")"
      ]
    },
    {
      "cell_type": "code",
      "execution_count": 35,
      "metadata": {},
      "outputs": [
        {
          "name": "stdout",
          "output_type": "stream",
          "text": [
            "\n",
            "\n",
            "\u001b[1m> Entering new AgentExecutor chain...\u001b[0m\n",
            "\u001b[32;1m\u001b[1;3m I need to find out what the discourse structure is.\n",
            "Action: Linguistic Data Lookup\n",
            "Action Input: Account of the man born blind\u001b[0m\n",
            "Observation: \u001b[38;5;200m\u001b[1;3m[(Document(page_content='## Discourse features\\n\\nThis verse has 3 discourse features (these are useful heuristic interpretive annotations that tell you about the nature of the proposition a word is in):\\n- Main clauses is defined as Main clauses are the top-level clauses in a sentence. They are the clauses that are not embedded in other clauses.\\n  - καὶ (And) εἶπαν (they said) αὐτῷ (to him)\\n  - Ποῦ (Where) ἐστιν (is) ἐκεῖνος (He)\\n  - λέγει (He says)\\n  - Οὐκ (Not) οἶδα (I know)\\n- Reported Speech is defined as Reported speech.\\n  - Ποῦ (Where) ἐστιν (is) ἐκεῖνος (He)\\n  - Οὐκ (Not) οἶδα (I know)\\n- Historical Present is defined as Highlights not the speech or act to which it refers but the event(s) that follow (DFNTG §12.2).\\n  - λέγει (He says)\\n\\nSpeaker data is critical to identifying quoted material and relating it to the proper speaker. In this verse, there are the following speeches:\\n  - cured man, blind from birth, age: Adult, says, \"ποῦ ἐστιν ἐκεῖνος\"\\n  - cured man, blind from birth, age: Adult, says, \"οὐκ οἶδα\"', metadata={'source': '/Users/ryderwishart/genesis/prose_contexts_shorter_itemized/JHN 9:12.txt_Discourse.txt', 'data_scope': 'Discourse', 'verse_ref': 'JHN 9:12', 'book': 'John', 'chapter': '9', 'verse': '12'}), 1.1909005641937256), (Document(page_content=\"## Discourse features\\n\\nThis verse has 4 discourse features (these are useful heuristic interpretive annotations that tell you about the nature of the proposition a word is in):\\n- Main clauses is defined as Main clauses are the top-level clauses in a sentence. They are the clauses that are not embedded in other clauses.\\n  - ἐκ (Out of) τοῦ (the) αἰῶνος (age) οὐκ (never) ἠκούσθη (it has been heard)\\n  - ὅτι (that) ἠνέῳξέν (opened) τις (anyone) ὀφθαλμοὺς ([the] eyes) τυφλοῦ (of [one] blind) γεγεννημένου (having been born)\\n- Focus+ is defined as Constituents placed in P2 to give them focal prominence.\\n  - ἐκ (Out of) τοῦ (the) αἰῶνος (age)\\n- Ambiguous is defined as Marked but ambiguous constituent order.\\n  - τυφλοῦ (of [one] blind) γεγεννημένου (having been born)\\n- Embedded DFE is defined as 'Dominant focal elements' embedded within a constituent in P1.\\n  - γεγεννημένου (having been born)\", metadata={'source': '/Users/ryderwishart/genesis/prose_contexts_shorter_itemized/JHN 9:32.txt_Discourse.txt', 'data_scope': 'Discourse', 'verse_ref': 'JHN 9:32', 'book': 'John', 'chapter': '9', 'verse': '32'}), 1.2393584251403809), (Document(page_content='## Discourse features\\n\\nThis verse has 3 discourse features (these are useful heuristic interpretive annotations that tell you about the nature of the proposition a word is in):\\n- Main clauses is defined as Main clauses are the top-level clauses in a sentence. They are the clauses that are not embedded in other clauses.\\n  - ἀπεκρίθη (Answered) ἐκεῖνος (he) καὶ (and) εἶπεν (said)\\n  - Καὶ (And) τίς (who) ἐστιν (is He) Κύριε (Lord)\\n  - ἵνα (that) πιστεύσω (I may believe) εἰς (in) αὐτόν (Him)\\n- Over-encoding is defined as Any instance in which more encoding than the default is employed to refer to an active participant or prop. Over-encoding is used in Greek, as in other languages: to mark the beginning of a narrative unit (e.g. Mt 4:5); and to highlight the action or speech concerned (e.g. Mt 4:7).\\n  - ἐκεῖνος (he)\\n- Reported Speech is defined as Reported speech.\\n  - Καὶ (And) τίς (who) ἐστιν (is He) Κύριε (Lord) ἵνα (that) πιστεύσω (I may believe) εἰς (in) αὐτόν (Him)\\n\\nSpeaker data is critical to identifying quoted material and relating it to the proper speaker. In this verse, there are the following speeches:\\n  - cured man, blind from birth, age: Adult, says, \"τίς ἐστιν κύριε ἵνα πιστεύσω εἰς αὐτόν\"', metadata={'source': '/Users/ryderwishart/genesis/prose_contexts_shorter_itemized/JHN 9:36.txt_Discourse.txt', 'data_scope': 'Discourse', 'verse_ref': 'JHN 9:36', 'book': 'John', 'chapter': '9', 'verse': '36'}), 1.2659052610397339), (Document(page_content='## Discourse features\\n\\nThis verse has 3 discourse features (these are useful heuristic interpretive annotations that tell you about the nature of the proposition a word is in):\\n- Main clauses is defined as Main clauses are the top-level clauses in a sentence. They are the clauses that are not embedded in other clauses.\\n  - ὁ (-) δὲ (And) ἔφη (he was saying)\\n  - Πιστεύω (I believe) Κύριε (Lord)\\n  - καὶ (And) προσεκύνησεν (he worshiped) αὐτῷ (Him)\\n- Articular Pronoun is defined as Articular pronoun, which often introduces an ‘intermediate step’ in a reported conversation.\\n  - ὁ (-)\\n- Reported Speech is defined as Reported speech.\\n  - Πιστεύω (I believe) Κύριε (Lord)\\n\\nSpeaker data is critical to identifying quoted material and relating it to the proper speaker. In this verse, there are the following speeches:\\n  - cured man, blind from birth, age: Adult, says, \"πιστεύω κύριε\"', metadata={'source': '/Users/ryderwishart/genesis/prose_contexts_shorter_itemized/JHN 9:38.txt_Discourse.txt', 'data_scope': 'Discourse', 'verse_ref': 'JHN 9:38', 'book': 'John', 'chapter': '9', 'verse': '38'}), 1.2757548093795776), (Document(page_content='## Discourse features\\n\\nThis verse has 3 discourse features (these are useful heuristic interpretive annotations that tell you about the nature of the proposition a word is in):\\n- Main clauses is defined as Main clauses are the top-level clauses in a sentence. They are the clauses that are not embedded in other clauses.\\n  - ἔλεγον (They were saying) οὖν (therefore) αὐτῷ (to him)\\n  - Πῶς (How) οὖν (then) ἠνεῴχθησάν (were opened) σου (of you) οἱ (the) ὀφθαλμοί (eyes)\\n- Reported Speech is defined as Reported speech.\\n  - Πῶς (How) οὖν (then) ἠνεῴχθησάν (were opened) σου (of you) οἱ (the) ὀφθαλμοί (eyes)\\n- Topical Genitive is defined as A genitival constituent that is nominal is preposed within the noun phrase for two purposes: 1) to bring it into focus; 2) within a point of departure, to indicate that it is the genitive in particular which relates to a corresponding constituent of the context.(DFNTG §4.5)\\n  - σου (of you)\\n\\nSpeaker data is critical to identifying quoted material and relating it to the proper speaker. In this verse, there are the following speeches:\\n  - neighbors of man blind from birth, says, \"πῶς οὖν ἠνεῴχθησάν σου οἱ ὀφθαλμοί\"', metadata={'source': '/Users/ryderwishart/genesis/prose_contexts_shorter_itemized/JHN 9:10.txt_Discourse.txt', 'data_scope': 'Discourse', 'verse_ref': 'JHN 9:10', 'book': 'John', 'chapter': '9', 'verse': '10'}), 1.2892365455627441)]\u001b[0m\n",
            "Thought:\u001b[32;1m\u001b[1;3m The discourse structure in the account of the man born blind includes main clauses, reported speech, historical present, focus+, ambiguous, embedded DFE, over-encoding, articular pronoun, and topical genitive.\n",
            "Final Answer: The discourse structure in the account of the man born blind includes main clauses, reported speech, historical present, focus+, ambiguous, embedded DFE, over-encoding, articular pronoun, and topical genitive.\u001b[0m\n",
            "\n",
            "\u001b[1m> Finished chain.\u001b[0m\n"
          ]
        },
        {
          "data": {
            "text/plain": [
              "'The discourse structure in the account of the man born blind includes main clauses, reported speech, historical present, focus+, ambiguous, embedded DFE, over-encoding, articular pronoun, and topical genitive.'"
            ]
          },
          "execution_count": 35,
          "metadata": {},
          "output_type": "execute_result"
        }
      ],
      "source": [
        "agent.run(\"What can you tell me about the discourse structure in the account of the man born blind?\")"
      ]
    },
    {
      "cell_type": "code",
      "execution_count": 37,
      "metadata": {},
      "outputs": [
        {
          "name": "stdout",
          "output_type": "stream",
          "text": [
            "\n",
            "\n",
            "\u001b[1m> Entering new AgentExecutor chain...\u001b[0m\n",
            "\u001b[32;1m\u001b[1;3m I need to look up the syntax data of the passage.\n",
            "Action: Syntax Data Lookup\n",
            "Action Input: Account of the man born blind\u001b[0mhttps://labs.clear.bible/symphony-dev/api/GNT/Nestle1904/lowfat?usfm-ref=JHN%209:1\n",
            "\n",
            "Observation: \u001b[36;1m\u001b[1;3mAnd (Καὶ)] \n",
            "[\n",
            "[[+: [v: passing by (παράγων)] [v: He saw (εἶδεν)] [o: a man (ἄνθρωπον)] blind (τυφλὸν)] from (ἐκ)] birth.(γενετῆς)] \u001b[0m\n",
            "Thought:\u001b[32;1m\u001b[1;3m I now know the syntactic structure of the passage.\n",
            "Final Answer: The syntactic structure of the passage is that of a verb phrase with a subject, verb, and object. The subject is \"He\", the verb is \"saw\", and the object is \"a man blind from birth\".\u001b[0m\n",
            "\n",
            "\u001b[1m> Finished chain.\u001b[0m\n"
          ]
        },
        {
          "data": {
            "text/plain": [
              "'The syntactic structure of the passage is that of a verb phrase with a subject, verb, and object. The subject is \"He\", the verb is \"saw\", and the object is \"a man blind from birth\".'"
            ]
          },
          "execution_count": 37,
          "metadata": {},
          "output_type": "execute_result"
        }
      ],
      "source": [
        "agent.run(\"What can you tell me about the syntactic structure in the account of the man born blind?\")"
      ]
    },
    {
      "cell_type": "code",
      "execution_count": 46,
      "metadata": {},
      "outputs": [
        {
          "name": "stdout",
          "output_type": "stream",
          "text": [
            "\n",
            "\n",
            "\u001b[1m> Entering new AgentExecutor chain...\u001b[0m\n",
            "\u001b[32;1m\u001b[1;3m I need to find the passage in the Bible that describes the man born blind.\n",
            "Action: Bible Verse Lookup\n",
            "Action Input: man born blind\u001b[0m\n",
            "Observation: \u001b[36;1m\u001b[1;3m[Document(page_content='Now as Jesus was passing by, He saw a man blind from birth,', metadata={'source': 'John 9:1', 'usfm': 'JHN 9:1'}), Document(page_content='Never before has anyone heard of opening the eyes of a man born blind.', metadata={'source': 'John 9:32', 'usfm': 'JHN 9:32'}), Document(page_content='and His disciples asked Him, “Rabbi, who sinned, this man or his parents, that he was born blind?”', metadata={'source': 'John 9:2', 'usfm': 'JHN 9:2'}), Document(page_content='His parents answered, “We know he is our son, and we know he was born blind.', metadata={'source': 'John 9:20', 'usfm': 'JHN 9:20'}), Document(page_content='The Jews still did not believe that the man had been blind and had received his sight until they summoned his parents', metadata={'source': 'John 9:18', 'usfm': 'JHN 9:18'})]\u001b[0m\n",
            "Thought:\u001b[32;1m\u001b[1;3m I need to look at the context of the passage to understand the situation.\n",
            "Action: Context for Most Relevant Passage\n",
            "Action Input: John 9:1-32\u001b[0m[Document(page_content='“Let it be so now,” Jesus replied. “It is fitting for us to fulfill all righteousness in this way.” Then John permitted Him.', metadata={'source': 'Matthew 3:15', 'usfm': 'MAT 3:15'}), Document(page_content='There came a man who was sent from God. His name was John.', metadata={'source': 'John 1:6', 'usfm': 'JHN 1:6'}), Document(page_content='In those days John the Baptist came, preaching in the wilderness of Judea', metadata={'source': 'Matthew 3:1', 'usfm': 'MAT 3:1'})]\n",
            "\n",
            "Observation: \u001b[38;5;200m\u001b[1;3m([Document(page_content='“Let it be so now,” Jesus replied. “It is fitting for us to fulfill all righteousness in this way.” Then John permitted Him.', metadata={'source': 'Matthew 3:15', 'usfm': 'MAT 3:15'}), Document(page_content='There came a man who was sent from God. His name was John.', metadata={'source': 'John 1:6', 'usfm': 'JHN 1:6'}), Document(page_content='In those days John the Baptist came, preaching in the wilderness of Judea', metadata={'source': 'Matthew 3:1', 'usfm': 'MAT 3:1'})], [Document(page_content='## Discourse features\\n\\nThis verse has 4 discourse features (these are useful heuristic interpretive annotations that tell you about the nature of the proposition a word is in):\\n- Main clauses is defined as Main clauses are the top-level clauses in a sentence. They are the clauses that are not embedded in other clauses.\\n  - Ἐγένετο (It came to pass) δὲ (now)\\n  - μετὰ (after) τοὺς (the) λόγους (sayings) τούτους (these) ὡσεὶ (about) ἡμέραι (days) ὀκτὼ (eight)\\n  - καὶ (and) παραλαβὼν (having taken) Πέτρον (Peter) καὶ (and) Ἰωάνην (John) καὶ (and) Ἰάκωβον (James)\\n  - ἀνέβη (He went up) εἰς (on) τὸ (the) ὄρος (mountain)\\n  - προσεύξασθαι (to pray)\\n- Specific Circumstance is defined as The function of ἐγενετο ‘it came about’ and an immediately following temporal expression varies with the author (see DFNTG §10.3). In Matthew’s Gospel, it usually marks major divisions in the book (e.g. Mt 7:28). In Luke-Acts, in contrast, ‘it picks out from the general background the specific circumstance for the foreground events that are to follow’ (ibid.), as in Acts 9:37 (see also Mt 9:10).\\n  - Ἐγένετο (It came to pass)\\n- Situational PoD is defined as Situational point of departure (e.g. temporal, spatial, conditional―(NARR §3.1, NonNarr §4.3, DFNTG §§2.2, 2.8; as in 1 Th 3:4).\\n  - μετὰ (after) τοὺς (the) λόγους (sayings) τούτους (these) ὡσεὶ (about) ἡμέραι (days) ὀκτὼ (eight)\\n- Thematic Prominence is defined as Thematic prominence - In Greek, prominence is given to active participants and props who are the current centre of attention (NARR §4.6) by omitting the article (DFNTG §§9.2.3-9.4), by adding αυτος ‘-self’ (e.g. in 1 Th 3:11), by using the proximal demonstrative οὗτος (NARR chap. 9, Appendix 1; e.g. in 3:3), and by postposing the constituent concerned (e.g. Mt 14:29). If such constituents are NOT in postion P1, they are demonstrating topical prominence.\\n  - τοὺς (the) λόγους (sayings) τούτους (these)', metadata={'source': '/Users/ryderwishart/genesis/prose_contexts_shorter_itemized/LUK 9:28.txt_Discourse.txt', 'data_scope': 'Discourse', 'verse_ref': 'LUK 9:28', 'book': 'Luke', 'chapter': '9', 'verse': '28'}), Document(page_content='## Discourse features\\n\\nThis verse has 5 discourse features (these are useful heuristic interpretive annotations that tell you about the nature of the proposition a word is in):\\n- Main clauses is defined as Main clauses are the top-level clauses in a sentence. They are the clauses that are not embedded in other clauses.\\n  - Καὶ (And) ἐγένετο (it came to pass)\\n  - αὐτοῦ (of Him) ἀνακειμένου (reclining) ἐν (in) τῇ (the) οἰκίᾳ (house)\\n  - καὶ (that) ἰδοὺ (behold) πολλοὶ (many) τελῶναι (tax collectors) καὶ (and) ἁμαρτωλοὶ (sinners) ἐλθόντες (having come)\\n  - συνανέκειντο (were reclining with) τῷ (-) Ἰησοῦ (Jesus) καὶ (and) τοῖς (the) μαθηταῖς (disciples) αὐτοῦ (of Him)\\n- Specific Circumstance is defined as The function of ἐγενετο ‘it came about’ and an immediately following temporal expression varies with the author (see DFNTG §10.3). In Matthew’s Gospel, it usually marks major divisions in the book (e.g. Mt 7:28). In Luke-Acts, in contrast, ‘it picks out from the general background the specific circumstance for the foreground events that are to follow’ (ibid.), as in Acts 9:37 (see also Mt 9:10).\\n  - ἐγένετο (it came to pass)\\n- Highlighter is defined as Presentatives - Interjections such as ἰδού and ἴδε ‘look!, see!’ typically highlight what immediately follows (Narr §5.4.2, NonNarr §7.7.3).\\n  - ἰδοὺ (behold)\\n- Focus+ is defined as Constituents placed in P2 to give them focal prominence.\\n  - πολλοὶ (many) τελῶναι (tax collectors) καὶ (and) ἁμαρτωλοὶ (sinners)\\n- Over-encoding is defined as Any instance in which more encoding than the default is employed to refer to an active participant or prop. Over-encoding is used in Greek, as in other languages: to mark the beginning of a narrative unit (e.g. Mt 4:5); and to highlight the action or speech concerned (e.g. Mt 4:7).\\n  - τῷ (-) Ἰησοῦ (Jesus)', metadata={'source': '/Users/ryderwishart/genesis/prose_contexts_shorter_itemized/MAT 9:10.txt_Discourse.txt', 'data_scope': 'Discourse', 'verse_ref': 'MAT 9:10', 'book': 'Matthew', 'chapter': '9', 'verse': '10'}), Document(page_content='## Discourse features\\n\\nThis verse has 6 discourse features (these are useful heuristic interpretive annotations that tell you about the nature of the proposition a word is in):\\n- Main clauses is defined as Main clauses are the top-level clauses in a sentence. They are the clauses that are not embedded in other clauses.\\n  - Καὶ (And) ἐγένετο (it came to pass)\\n  - ὅτε (when) ἐτέλεσεν (had finished) ὁ (-) Ἰησοῦς (Jesus) πάντας (all) τοὺς (the) λόγους (words) τούτους (these)\\n  - εἶπεν (He said) τοῖς (to the) μαθηταῖς (disciples) αὐτοῦ (of Him)\\n- Specific Circumstance is defined as The function of ἐγενετο ‘it came about’ and an immediately following temporal expression varies with the author (see DFNTG §10.3). In Matthew’s Gospel, it usually marks major divisions in the book (e.g. Mt 7:28). In Luke-Acts, in contrast, ‘it picks out from the general background the specific circumstance for the foreground events that are to follow’ (ibid.), as in Acts 9:37 (see also Mt 9:10).\\n  - ἐγένετο (it came to pass)\\n- Situational PoD is defined as Situational point of departure (e.g. temporal, spatial, conditional―(NARR §3.1, NonNarr §4.3, DFNTG §§2.2, 2.8; as in 1 Th 3:4).\\n  - ὅτε (when) ἐτέλεσεν (had finished) ὁ (-) Ἰησοῦς (Jesus) πάντας (all) τοὺς (the) λόγους (words) τούτους (these)\\n- Tail-Head linkage is defined as Point of departure involving renewal - Tail-head linkage involves “the repetition in a subordinate clause, at the beginning (the ‘head’) of a new sentence, of at least the main verb of the previous sentence (the tail)” (Dooley & Levinsohn 2001:16).\\n  - ὅτε (when) ἐτέλεσεν (had finished) ὁ (-) Ἰησοῦς (Jesus) πάντας (all) τοὺς (the) λόγους (words) τούτους (these)\\n- Over-encoding is defined as Any instance in which more encoding than the default is employed to refer to an active participant or prop. Over-encoding is used in Greek, as in other languages: to mark the beginning of a narrative unit (e.g. Mt 4:5); and to highlight the action or speech concerned (e.g. Mt 4:7).\\n  - ὁ (-) Ἰησοῦς (Jesus)\\n- Thematic Prominence is defined as Thematic prominence - In Greek, prominence is given to active participants and props who are the current centre of attention (NARR §4.6) by omitting the article (DFNTG §§9.2.3-9.4), by adding αυτος ‘-self’ (e.g. in 1 Th 3:11), by using the proximal demonstrative οὗτος (NARR chap. 9, Appendix 1; e.g. in 3:3), and by postposing the constituent concerned (e.g. Mt 14:29). If such constituents are NOT in postion P1, they are demonstrating topical prominence.\\n  - πάντας (all) τοὺς (the) λόγους (words) τούτους (these)', metadata={'source': '/Users/ryderwishart/genesis/prose_contexts_shorter_itemized/MAT 26:1.txt_Discourse.txt', 'data_scope': 'Discourse', 'verse_ref': 'MAT 26:1', 'book': 'Matthew', 'chapter': '26', 'verse': '1'})])\u001b[0m\n",
            "Thought:\u001b[32;1m\u001b[1;3m I now know the context of the passage and can answer the question.\n",
            "Action: Bible Words Lookup\n",
            "Action Input: John 9:1-32\u001b[0m\n",
            "\n",
            "\u001b[1m> Entering new AgentExecutor chain...\u001b[0m\n",
            "\u001b[32;1m\u001b[1;3mThought: I need to find the book, chapter, and verse of this passage\n",
            "Action: python_repl_ast\n",
            "Action Input: df[(df['book'] == 'JHN') & (df['chapter'] == '9') & (df['verse'] >= '1') & (df['verse'] <= '32')]\u001b[0m\n",
            "Observation: \u001b[36;1m\u001b[1;3m                      ref     role class        type             gloss  \\\n",
            "xml:id                                                                   \n",
            "n43009001001    JHN 9:1!1  missing  conj     missing               And   \n",
            "n43009001002    JHN 9:1!2        v  verb     missing        passing by   \n",
            "n43009001003    JHN 9:1!3        v  verb     missing            He saw   \n",
            "n43009001004    JHN 9:1!4  missing  noun      common             a man   \n",
            "n43009001005    JHN 9:1!5  missing   adj     missing             blind   \n",
            "...                   ...      ...   ...         ...               ...   \n",
            "n43009032007   JHN 9:32!7        v  verb     missing            opened   \n",
            "n43009032008   JHN 9:32!8        s  pron  indefinite            anyone   \n",
            "n43009032009   JHN 9:32!9  missing  noun      common        [the] eyes   \n",
            "n43009032010  JHN 9:32!10  missing   adj     missing    of [one] blind   \n",
            "n43009032011  JHN 9:32!11        v  verb     missing  having been born   \n",
            "\n",
            "                      text after     lemma    normalized  strong  ...  \\\n",
            "xml:id                                                            ...   \n",
            "n43009001001           Καὶ             καί           Καί    2532  ...   \n",
            "n43009001002       παράγων          παράγω       παράγων    3855  ...   \n",
            "n43009001003         εἶδεν            ὁράω         εἶδεν    3708  ...   \n",
            "n43009001004      ἄνθρωπον        ἄνθρωπος      ἄνθρωπον     444  ...   \n",
            "n43009001005        τυφλὸν          τυφλός        τυφλόν    5185  ...   \n",
            "...                    ...   ...       ...           ...     ...  ...   \n",
            "n43009032007       ἠνέῳξέν          ἀνοίγω       ἠνέῳξεν     455  ...   \n",
            "n43009032008           τις             τὶς           τις    5100  ...   \n",
            "n43009032009     ὀφθαλμοὺς        ὀφθαλμός     ὀφθαλμούς    3788  ...   \n",
            "n43009032010        τυφλοῦ          τυφλός        τυφλοῦ    5185  ...   \n",
            "n43009032011  γεγεννημένου     ·    γεννάω  γεγεννημένου    1080  ...   \n",
            "\n",
            "                                        frame       subjref referent  \\\n",
            "xml:id                                                                 \n",
            "n43009001001                          missing       missing  missing   \n",
            "n43009001002                  A0:n43008059008  n43008059008  missing   \n",
            "n43009001003  A0:n43008059008 A1:n43009001004  n43008059008  missing   \n",
            "n43009001004                          missing       missing  missing   \n",
            "n43009001005                          missing       missing  missing   \n",
            "...                                       ...           ...      ...   \n",
            "n43009032007  A0:n43009032008 A1:n43009032009       missing  missing   \n",
            "n43009032008                          missing       missing  missing   \n",
            "n43009032009                          missing       missing  missing   \n",
            "n43009032010                          missing       missing  missing   \n",
            "n43009032011                  A1:n43009032010  n43009032010  missing   \n",
            "\n",
            "                        id book chapter verse book_chapter book_chapter_verse  \\\n",
            "xml:id                                                                          \n",
            "n43009001001  n43009001001  JHN       9     1        JHN 9            JHN 9:1   \n",
            "n43009001002  n43009001002  JHN       9     1        JHN 9            JHN 9:1   \n",
            "n43009001003  n43009001003  JHN       9     1        JHN 9            JHN 9:1   \n",
            "n43009001004  n43009001004  JHN       9     1        JHN 9            JHN 9:1   \n",
            "n43009001005  n43009001005  JHN       9     1        JHN 9            JHN 9:1   \n",
            "...                    ...  ...     ...   ...          ...                ...   \n",
            "n43009032007  n43009032007  JHN       9    32        JHN 9           JHN 9:32   \n",
            "n43009032008  n43009032008  JHN       9    32        JHN 9           JHN 9:32   \n",
            "n43009032009  n43009032009  JHN       9    32        JHN 9           JHN 9:32   \n",
            "n43009032010  n43009032010  JHN       9    32        JHN 9           JHN 9:32   \n",
            "n43009032011  n43009032011  JHN       9    32        JHN 9           JHN 9:32   \n",
            "\n",
            "                                        domain_label  \n",
            "xml:id                                                \n",
            "n43009001001                 [Markers of Transition]  \n",
            "n43009001002                         [Move, Come/Go]  \n",
            "n43009001003                                   [See]  \n",
            "n43009001004                                 [Males]  \n",
            "n43009001005                                   [See]  \n",
            "...                                              ...  \n",
            "n43009032007                                   [See]  \n",
            "n43009032008  [Whom or What Spoken or Written About]  \n",
            "n43009032009                     [Parts of the Body]  \n",
            "n43009032010                                   [See]  \n",
            "n43009032011                    [Birth, Procreation]  \n",
            "\n",
            "[453 rows x 31 columns]\u001b[0m\n",
            "Thought:\u001b[32;1m\u001b[1;3m I now know the book, chapter, and verse of this passage\n",
            "Final Answer: John 9:1-32\u001b[0m\n",
            "\n",
            "\u001b[1m> Finished chain.\u001b[0m\n",
            "\n",
            "Observation: \u001b[33;1m\u001b[1;3mJohn 9:1-32\u001b[0m\n",
            "Thought:\u001b[32;1m\u001b[1;3m I now know the words in the passage and can answer the question.\n",
            "Final Answer: The participants in the account of the man born blind are Jesus, the man born blind, his parents, the disciples, and the Jews. The situation is that Jesus is passing by and sees the man born blind, and the disciples ask Jesus who sinned to cause the man to be born blind. The Jews do not believe the man was born blind until they summon his parents.\u001b[0m\n",
            "\n",
            "\u001b[1m> Finished chain.\u001b[0m\n"
          ]
        },
        {
          "data": {
            "text/plain": [
              "'The participants in the account of the man born blind are Jesus, the man born blind, his parents, the disciples, and the Jews. The situation is that Jesus is passing by and sees the man born blind, and the disciples ask Jesus who sinned to cause the man to be born blind. The Jews do not believe the man was born blind until they summon his parents.'"
            ]
          },
          "execution_count": 46,
          "metadata": {},
          "output_type": "execute_result"
        }
      ],
      "source": [
        "agent.run(\"Who are the participants in the account of the man born blind? How would you describe the situation?\")"
      ]
    },
    {
      "cell_type": "code",
      "execution_count": 43,
      "metadata": {},
      "outputs": [
        {
          "name": "stdout",
          "output_type": "stream",
          "text": [
            "\n",
            "\n",
            "\u001b[1m> Entering new AgentExecutor chain...\u001b[0m\n",
            "\u001b[32;1m\u001b[1;3m I should look for a Bible verse that answers this question.\n",
            "Action: Bible Verse Lookup\n",
            "Action Input: Why did Jesus heal the man born blind?\u001b[0m\n",
            "Observation: \u001b[36;1m\u001b[1;3m[Document(page_content='Now as Jesus was passing by, He saw a man blind from birth,', metadata={'source': 'John 9:1', 'usfm': 'JHN 9:1'}), Document(page_content='The blind and the lame came to Him at the temple, and He healed them.', metadata={'source': 'Matthew 21:14', 'usfm': 'MAT 21:14'}), Document(page_content='Once again Jesus placed His hands on the man’s eyes, and when he opened them his sight was restored, and he could see everything clearly.', metadata={'source': 'Mark 8:25', 'usfm': 'MRK 8:25'}), Document(page_content='They brought to the Pharisees the man who had been blind.', metadata={'source': 'John 9:13', 'usfm': 'JHN 9:13'}), Document(page_content='At that very hour Jesus healed many people of their diseases, afflictions, and evil spirits, and He gave sight to many who were blind.', metadata={'source': 'Luke 7:21', 'usfm': 'LUK 7:21'})]\u001b[0m\n",
            "Thought:\u001b[32;1m\u001b[1;3m I should look for a theological explanation for why Jesus healed the man born blind.\n",
            "Action: Theological Data Lookup\n",
            "Action Input: Why did Jesus heal the man born blind?\u001b[0m\n",
            "Observation: \u001b[36;1m\u001b[1;3m[Document(page_content='BY   GEORGE A. BARTON, PH. D., LL. D.\\n  PROFESSOR OF BIBLICAL LITERATURE AND SEMITIC LANGUAGES\\n  IN BRYN MAWR COLLEGE; SOMETIME DIRECTOR OF THE\\n  AMERICAN SCHOOL OF ORIENTAL RESEARCH IN JERUSALEM\\n\\n\\n  PART I\\n\\n  THE BIBLE LANDS, THEIR EXPLORATION, AND THE RESULTANT\\n  LIGHT ON THE BIBLE AND HISTORY\\n\\n\\n  PART II\\n\\n  TRANSLATIONS OF ANCIENT DOCUMENTS WHICH CONFIRM OR\\n  ILLUMINATE THE BIBLE\\n\\n\\n  PHILADELPHIA\\n  AMERICAN SUNDAY-SCHOOL UNION\\n  1816 Chestnut Street\\n\\n\\n  Copyright, 1916, by\\n  AMERICAN SUNDAY-SCHOOL UNION\\n\\n  All rights vested in and reserved by\\n  AMERICAN SUNDAY-SCHOOL UNION\\n\\n  First Edition, May, 1916.\\n  Second Edition, June, 1917.\\n\\n\\n  To\\n  CAROLINE B. D. BARTON\\n  Faithful Comrade in\\n  the Campaign of Life\\n\\n\\nPREFACE', metadata={'source': 'theology/43070-0.txt'}), Document(page_content='\\ufeffThe Project Gutenberg EBook of Archæology and the Bible, by George A. Barton\\n\\nThis eBook is for the use of anyone anywhere at no cost and with\\nalmost no restrictions whatsoever.  You may copy it, give it away or\\nre-use it under the terms of the Project Gutenberg License included\\nwith this eBook or online at www.gutenberg.org\\n\\n\\nTitle: Archæology and the Bible\\n\\nAuthor: George A. Barton\\n\\nRelease Date: July 1, 2013 [EBook #43070]\\n\\nLanguage: English\\n\\nCharacter set encoding: UTF-8\\n\\n*** START OF THIS PROJECT GUTENBERG EBOOK ARCHÆOLOGY AND THE BIBLE ***\\n\\n\\nProduced by The Online Distributed Proofreading Team at\\nhttp://www.pgdp.net (This file was produced from images\\ngenerously made available by The Internet Archive.)\\n\\nARCHÆOLOGY AND THE BIBLE\\n\\n\\n[Illustration: A HILLSIDE STREET IN ROMAN JERUSALEM ALONG WHICH JESUS AND\\nTHE DISCIPLES MAY WELL HAVE WALKED (_after Germer-Durand_).\\n\\n--_Frontispiece._]\\n\\n\\n  Green Fund Book, No. 17\\n\\n\\n  ARCHÆOLOGY AND THE BIBLE', metadata={'source': 'theology/43070-0.txt'}), Document(page_content='In no part of the world have these labors been more fruitful than in the\\nlands of the Bible. In Egypt and Babylonia vistas of history have been\\nopened to view that were undreamed of before exploration began. The same\\nis true for that part of the history of Palestine which antedates the\\ncoming of Israel. Information has also been obtained which illumines later\\nportions of the history, and makes the Biblical narrative seem much more\\nvivid. It is now possible to make real to oneself the details of the life\\nof the Biblical heroes, and to understand the problems of their world as\\nformerly one could not do. Exploration has also brought to light many\\ninscriptions in the various countries that confirm or illuminate the\\ntraditions, history, poetry, and prophecy of the Bible. The sands of Egypt\\nhave even yielded us some reputed new sayings of our Lord.', metadata={'source': 'theology/43070-0.txt'}), Document(page_content='It is the purpose of this book to gather into one volume the most valuable\\ninformation of all sorts that the excavations in Bible lands have\\nafforded, and to put it in such form that it may be of service to the\\npastor and Sunday-school teacher. An attempt has been made so to present\\nthe material that one may not only have the wealth of illumination for\\nBiblical study that exploration has produced, but also that he may possess\\nan outline of the history of the exploration and of the countries\\nsufficient to enable him to place each item in its proper perspective.\\nWhether in handling so large a mass of data the writer has achieved his\\naim, the reader must judge. The preparation of the volume was undertaken\\nat the request of the Board of Managers of the American Sunday-School\\nUnion, for publication under the John C. Green Income Fund,--a fund\\nfounded in 1877 “for the purpose of aiding ... in securing a\\nSunday-school literature of the highest order of merit ... by procuring\\nworks ... germane to the objects of the Society.” The foundation requires\\nthat the manuscripts procured by the fund shall become the exclusive\\nproperty of the American Sunday-School Union, and, that the selling price\\nmay be reduced, the Society is prohibited from including the cost of the\\nmanuscript in the price of the book.', metadata={'source': 'theology/43070-0.txt'}), Document(page_content='For a hundred years or more the explorer and the excavator have been busy\\nin many parts of the world. They have brought to light monuments and texts\\nthat have in many cases revolutionized our conceptions of history and have\\nin other cases thrown much new light on what was previously known.', metadata={'source': 'theology/43070-0.txt'})]\u001b[0m\n",
            "Thought:\u001b[32;1m\u001b[1;3m I should look for a theological explanation for why Jesus healed the man born blind in the Bible.\n",
            "Action: Bible Verse Lookup\n",
            "Action Input: Why did Jesus heal the man born blind in the Bible?\u001b[0m\n",
            "Observation: \u001b[36;1m\u001b[1;3m[Document(page_content='Now as Jesus was passing by, He saw a man blind from birth,', metadata={'source': 'John 9:1', 'usfm': 'JHN 9:1'}), Document(page_content='The blind and the lame came to Him at the temple, and He healed them.', metadata={'source': 'Matthew 21:14', 'usfm': 'MAT 21:14'}), Document(page_content='They brought to the Pharisees the man who had been blind.', metadata={'source': 'John 9:13', 'usfm': 'JHN 9:13'}), Document(page_content='Once again Jesus placed His hands on the man’s eyes, and when he opened them his sight was restored, and he could see everything clearly.', metadata={'source': 'Mark 8:25', 'usfm': 'MRK 8:25'}), Document(page_content='The Jews still did not believe that the man had been blind and had received his sight until they summoned his parents', metadata={'source': 'John 9:18', 'usfm': 'JHN 9:18'})]\u001b[0m\n",
            "Thought:\u001b[32;1m\u001b[1;3m I now know the final answer\n",
            "Final Answer: Jesus healed the man born blind to demonstrate His power and authority over physical and spiritual blindness, and to show that He was the Messiah.\u001b[0m\n",
            "\n",
            "\u001b[1m> Finished chain.\u001b[0m\n"
          ]
        },
        {
          "data": {
            "text/plain": [
              "'Jesus healed the man born blind to demonstrate His power and authority over physical and spiritual blindness, and to show that He was the Messiah.'"
            ]
          },
          "execution_count": 43,
          "metadata": {},
          "output_type": "execute_result"
        }
      ],
      "source": [
        "agent.run(\"Why did Jesus heal the man born blind?\")"
      ]
    },
    {
      "attachments": {},
      "cell_type": "markdown",
      "metadata": {},
      "source": [
        "# Steamlit UI"
      ]
    },
    {
      "cell_type": "code",
      "execution_count": 38,
      "metadata": {},
      "outputs": [],
      "source": [
        "import streamlit as st\n",
        "import sys\n",
        "from io import StringIO\n",
        "\n",
        "# Create a text input for user input\n",
        "user_input = st.text_input(\"Enter your message:\")\n",
        "\n",
        "# Capture stdout\n",
        "class CapturedOutput:\n",
        "    def __enter__(self):\n",
        "        self._stdout = sys.stdout\n",
        "        sys.stdout = self._stringio = StringIO()\n",
        "        return self\n",
        "\n",
        "    def __exit__(self, type, value, traceback):\n",
        "        sys.stdout = self._stdout\n",
        "\n",
        "    @property\n",
        "    def getvalue(self):\n",
        "        return self._stringio.getvalue()\n",
        "\n",
        "if user_input:\n",
        "    with CapturedOutput() as output:\n",
        "        # Run the agent with the user's input\n",
        "        final_output = agent.run(user_input)\n",
        "\n",
        "    # Display the final output in the main app\n",
        "    st.write(f\"Chatbot: {final_output}\")\n",
        "\n",
        "    # Display the stdout in the sidebar\n",
        "    st.sidebar.write(output.getvalue)\n"
      ]
    },
    {
      "cell_type": "code",
      "execution_count": 37,
      "metadata": {},
      "outputs": [],
      "source": [
        "import streamlit as st\n",
        "\n",
        "st.title('My LangChain App')\n",
        "user_input = st.text_input(\"Enter some text\")\n",
        "\n",
        "if user_input:\n",
        "    # capture standard output before running agent\n",
        "    with Capturing() as output:\n",
        "        result = agent.run(user_input)\n",
        "        # print the standard output\n",
        "        for line in output:\n",
        "            st.write(line)\n",
        "            \n",
        "    st.write(result)"
      ]
    },
    {
      "attachments": {},
      "cell_type": "markdown",
      "metadata": {},
      "source": [
        "# Gradio UI"
      ]
    },
    {
      "attachments": {},
      "cell_type": "markdown",
      "metadata": {},
      "source": [
        "Create a fake agent for testing purposes"
      ]
    },
    {
      "cell_type": "code",
      "execution_count": 61,
      "metadata": {},
      "outputs": [],
      "source": [
        "# from langchain.llms.fake import FakeListLLM\n",
        "# from langchain.agents import load_tools\n",
        "# from langchain.agents import initialize_agent\n",
        "# from langchain.agents import AgentType\n",
        "# tools = load_tools([\"python_repl\"])\n",
        "# responses=[\n",
        "#     \"Action: Python REPL\\nAction Input: print(2 + 2)\",\n",
        "#     \"Final Answer: The final answer happens to be 4!\"\n",
        "# ]\n",
        "# llm = FakeListLLM(responses=responses)\n",
        "# # agent = initialize_agent(tools, OpenAI(temperature=0, streaming=True, callbacks=[StreamingStdOutCallbackHandler()]), agent=AgentType.ZERO_SHOT_REACT_DESCRIPTION, verbose=True)\n",
        "# fake_agent = initialize_agent(tools, llm, agent=AgentType.ZERO_SHOT_REACT_DESCRIPTION, verbose=True)\n",
        "# def fake_agent_run(inputs):\n",
        "#     fake_agent.run(inputs)"
      ]
    },
    {
      "cell_type": "code",
      "execution_count": 62,
      "metadata": {},
      "outputs": [
        {
          "name": "stdout",
          "output_type": "stream",
          "text": [
            "\n",
            "\n",
            "\u001b[1m> Entering new AgentExecutor chain...\u001b[0m\n",
            "\u001b[32;1m\u001b[1;3mAction: Python REPL\n",
            "Action Input: print(2 + 2)\u001b[0m\n",
            "Observation: \u001b[36;1m\u001b[1;3m4\n",
            "\u001b[0m\n",
            "Thought:\u001b[32;1m\u001b[1;3mFinal Answer: The final answer happens to be 4!\u001b[0m\n",
            "\n",
            "\u001b[1m> Finished chain.\u001b[0m\n"
          ]
        }
      ],
      "source": [
        "# fake_agent_run('')"
      ]
    },
    {
      "attachments": {},
      "cell_type": "markdown",
      "metadata": {},
      "source": [
        "Special callback manager for Gradio"
      ]
    },
    {
      "cell_type": "code",
      "execution_count": 34,
      "metadata": {},
      "outputs": [
        {
          "name": "stdout",
          "output_type": "stream",
          "text": [
            "Running on local URL:  http://127.0.0.1:7878\n",
            "\n",
            "To create a public link, set `share=True` in `launch()`.\n"
          ]
        },
        {
          "data": {
            "text/html": [
              "<div><iframe src=\"http://127.0.0.1:7878/\" width=\"100%\" height=\"500\" allow=\"autoplay; camera; microphone; clipboard-read; clipboard-write;\" frameborder=\"0\" allowfullscreen></iframe></div>"
            ],
            "text/plain": [
              "<IPython.core.display.HTML object>"
            ]
          },
          "metadata": {},
          "output_type": "display_data"
        },
        {
          "data": {
            "text/plain": []
          },
          "execution_count": 34,
          "metadata": {},
          "output_type": "execute_result"
        }
      ],
      "source": [
        "import gradio as gr\n",
        "import time\n",
        "from langchain.callbacks.base import BaseCallbackHandler\n",
        "from typing import Any\n",
        "from threading import Thread\n",
        "\n",
        "class StreamToGradio(BaseCallbackHandler):\n",
        "    \"\"\"Callback handler for streaming. Only works with LLMs that support streaming.\"\"\"\n",
        "    def __init__(self, chat_history):\n",
        "        self.chat_history = chat_history\n",
        "\n",
        "    def on_llm_new_token(self, token: str, **kwargs: Any) -> None:\n",
        "        \"\"\"Run on new LLM token. Only available when streaming is enabled.\"\"\"\n",
        "        self.chat_history[-1][1] += token\n",
        "        yield self.chat_history\n",
        "\n",
        "\n",
        "chat_history = [[\"\", \"\"]]\n",
        "# Instantiate agent with streaming to gradio enabled\n",
        "agent = initialize_agent(tools, OpenAI(streaming=True, callbacks=[StreamToGradio(chat_history=chat_history)], temperature=0), agent=AgentType.ZERO_SHOT_REACT_DESCRIPTION, verbose=True)\n",
        "\n",
        "with gr.Blocks() as demo:\n",
        "    chatbot = gr.Chatbot()\n",
        "    msg = gr.Textbox(value=\"Where is Barnabas mentioned?\")\n",
        "    clear = gr.Button(\"Clear\")\n",
        "\n",
        "    def user(user_message, history):\n",
        "        return gr.update(value=\"\", interactive=False), history + [[user_message, \"\"]]\n",
        "\n",
        "    def bot(history):\n",
        "        Thread(target=agent.run, args=(history[-1][0],)).start()  # Run the agent in a separate thread\n",
        "        while True:\n",
        "            yield history\n",
        "            time.sleep(0.1)  # Wait a bit before checking for new output\n",
        "\n",
        "    response = msg.submit(user, [msg, chatbot], [msg, chatbot], queue=False).then(\n",
        "        bot, chatbot, chatbot\n",
        "    )\n",
        "    response.then(lambda: gr.update(interactive=True), None, [msg], queue=False)\n",
        "    clear.click(lambda: None, None, chatbot, queue=False)\n",
        "\n",
        "demo.queue()\n",
        "demo.launch()\n"
      ]
    },
    {
      "attachments": {},
      "cell_type": "markdown",
      "metadata": {},
      "source": [
        "Non-streaming gradio app"
      ]
    },
    {
      "cell_type": "code",
      "execution_count": 36,
      "metadata": {},
      "outputs": [],
      "source": [
        "import gradio as gr\n",
        "\n",
        "def qa_run(inputs):\n",
        "    return multi_df_agent.run(inputs)\n",
        "\n",
        "def lb_run(inputs):\n",
        "    return macula_greek_agent.run(inputs)\n",
        "\n",
        "def csv_run(inputs):\n",
        "    return macula_greek_agent.run(inputs)\n",
        "\n",
        "def agent_run(inputs):\n",
        "    return agent.run(inputs)\n",
        "\n",
        "# TODO: for each function, aggregate a list of 'sources_consulted'\n",
        "\n",
        "app = gr.Blocks(theme='bethecloud/storj_theme')\n",
        "\n",
        "with app:\n",
        "    gr.Markdown(\"## Query Linguistic Data with Natural Language\")\n",
        "    gr.Markdown(\"This demo extracts answers and lists of results from linguistic data using natural language input only.\")\n",
        "    # gr.Markdown(\"[Read More](https://medium.com/@langchain/using-openai-gpt-3-to-query-and-manipulate-dataframes-1f4f8f211e4d)\")\n",
        "\n",
        "    with gr.Tab(\"Question Answering from Greek and Hebrew Spreadsheet Data\"):\n",
        "        qa_text = gr.Textbox(lines=5, label=\"Question\", value=\"How many unique domain labels are there (each domain label is a list)?\")\n",
        "        qa_button = gr.Button(\"Run\")\n",
        "        qa_output = gr.Textbox(label=\"Answer\", lines=5)\n",
        "        qa_button.click(\n",
        "            qa_run,\n",
        "            inputs=qa_text,\n",
        "            outputs=qa_output,\n",
        "        )\n",
        "    with gr.Tab(\"List Building\"):\n",
        "        lb_text = gr.Textbox(lines=5, label=\"Prompt\", value=list_building_prompt)\n",
        "        lb_button = gr.Button(\"Run\")\n",
        "        lb_output = gr.Textbox(label=\"List\", lines=5)\n",
        "        lb_button.click(\n",
        "            lb_run,\n",
        "            inputs=lb_text,\n",
        "            outputs=lb_output,\n",
        "        )\n",
        "    with gr.Tab(\"CSV Generation\"):\n",
        "        csv_text = gr.Textbox(lines=5, label=\"Prompt\", value=list_building_and_save_as_csv_prompt)\n",
        "        csv_button = gr.Button(\"Run\")\n",
        "        csv_output = gr.Textbox(label=\"CSV\", lines=5)\n",
        "        csv_button.click(\n",
        "            csv_run,\n",
        "            inputs=csv_text,\n",
        "            outputs=csv_output,\n",
        "        )\n",
        "    with gr.Tab(\"AI Agent with Access to Multiple Tools\"):\n",
        "        qa_text = gr.Textbox(lines=5, label=\"Question\", value=\"How many unique domain labels are there (each domain label is a list)?\")\n",
        "        qa_button = gr.Button(\"Run\")\n",
        "        qa_output = gr.Textbox(label=\"Answer\", lines=5)\n",
        "        qa_button.click(\n",
        "            agent_run,\n",
        "            inputs=qa_text,\n",
        "            outputs=qa_output,\n",
        "        )\n",
        "\n",
        "app.launch(debug=True)\n"
      ]
    },
    {
      "attachments": {},
      "cell_type": "markdown",
      "metadata": {},
      "source": [
        "Streaming gradio app"
      ]
    },
    {
      "cell_type": "code",
      "execution_count": 45,
      "metadata": {},
      "outputs": [
        {
          "name": "stdout",
          "output_type": "stream",
          "text": [
            "Running on local URL:  http://127.0.0.1:7860\n",
            "\n",
            "To create a public link, set `share=True` in `launch()`.\n"
          ]
        },
        {
          "data": {
            "text/html": [
              "<div><iframe src=\"http://127.0.0.1:7860/\" width=\"100%\" height=\"500\" allow=\"autoplay; camera; microphone; clipboard-read; clipboard-write;\" frameborder=\"0\" allowfullscreen></iframe></div>"
            ],
            "text/plain": [
              "<IPython.core.display.HTML object>"
            ]
          },
          "metadata": {},
          "output_type": "display_data"
        },
        {
          "name": "stdout",
          "output_type": "stream",
          "text": [
            "Keyboard interruption in main thread... closing server.\n"
          ]
        },
        {
          "data": {
            "text/plain": []
          },
          "execution_count": 45,
          "metadata": {},
          "output_type": "execute_result"
        }
      ],
      "source": [
        "import gradio as gr\n",
        "\n",
        "def add_one_word_to_string(inputs):\n",
        "    return inputs + \" \" + \"hello\" + str(len(inputs))\n",
        "\n",
        "def agent_run(inputs, state=\"\"):\n",
        "    # response = agent.run(inputs) for now just hard code 'streaming' input until we can get the streaming working\n",
        "    \n",
        "    response = add_one_word_to_string(inputs)\n",
        "    state += response + \" \"\n",
        "    return state, state\n",
        "\n",
        "app = gr.Interface(\n",
        "    fn=agent_run,\n",
        "    inputs=[\n",
        "        gr.Textbox(lines=2, placeholder='Enter here...'),\n",
        "        \"state\"\n",
        "    ],\n",
        "    outputs=[\n",
        "        \"text\",\n",
        "        \"state\"\n",
        "    ],\n",
        "    title=\"Query Linguistic Data with Natural Language\",\n",
        "    description=\"This demo extracts answers and lists of results from linguistic data using natural language input only.\",\n",
        "    live=True,\n",
        "    examples=[\n",
        "        [\"In what city did Jesus heal the man born blind?\"],\n",
        "        [\"Who is most often mentioned in the book of luke?\"],\n",
        "        [\"What can you tell me about the discourse structure in the account of the man born blind?\"],\n",
        "        [\"What can you tell me about the syntactic structure in the account of the man born blind?\"],\n",
        "        [\"Who are the participants in the account of the man born blind? How would you describe the situation?\"],\n",
        "        [\"Why did Jesus heal the man born blind?\"],\n",
        "        [\"How many unique domain labels are there (each domain label is a list)?\"],\n",
        "        [list_building_prompt],\n",
        "        [list_building_and_save_as_csv_prompt],\n",
        "    ],\n",
        ")\n",
        "\n",
        "app.launch(debug=True)\n",
        "    "
      ]
    },
    {
      "cell_type": "code",
      "execution_count": null,
      "metadata": {},
      "outputs": [
        {
          "name": "stdout",
          "output_type": "stream",
          "text": [
            "Running on local URL:  http://127.0.0.1:7861\n",
            "\n",
            "To create a public link, set `share=True` in `launch()`.\n"
          ]
        },
        {
          "data": {
            "text/html": [
              "<div><iframe src=\"http://127.0.0.1:7861/\" width=\"100%\" height=\"500\" allow=\"autoplay; camera; microphone; clipboard-read; clipboard-write;\" frameborder=\"0\" allowfullscreen></iframe></div>"
            ],
            "text/plain": [
              "<IPython.core.display.HTML object>"
            ]
          },
          "metadata": {},
          "output_type": "display_data"
        },
        {
          "data": {
            "text/plain": []
          },
          "execution_count": 47,
          "metadata": {},
          "output_type": "execute_result"
        },
        {
          "name": "stdout",
          "output_type": "stream",
          "text": [
            "\n",
            "\n",
            "\u001b[1m> Entering new AgentExecutor chain...\u001b[0m\n",
            " I need to find a Bible verse that mentions Silas.\n",
            "Action: Bible Verse Reader Lookup\n",
            "Action Input: Silas\u001b[32;1m\u001b[1;3m I need to find a Bible verse that mentions Silas.\n",
            "Action: Bible Verse Reader Lookup\n",
            "Action Input: Silas\u001b[0m\n",
            "Observation: \u001b[36;1m\u001b[1;3m[Document(page_content='Shallum, Amariah, and Joseph.', metadata={'source': 'Ezra 10:42', 'usfm': 'EZR 10:42'}), Document(page_content='Jehud, Bene-berak, Gath-rimmon,', metadata={'source': 'Joshua 19:45', 'usfm': 'JOS 19:45'}), Document(page_content='Shelemiah, Nathan, Adaiah,', metadata={'source': 'Ezra 10:39', 'usfm': 'EZR 10:39'}), Document(page_content='Adam, Seth, Enosh,', metadata={'source': '1 Chronicles 1:1', 'usfm': '1CH 1:1'}), Document(page_content='Vaniah, Meremoth, Eliashib,', metadata={'source': 'Ezra 10:36', 'usfm': 'EZR 10:36'})]\u001b[0m\n",
            "Thought: None of these verses mention Silas.\n",
            "Action: Bible Verse Dataframe Tool\n",
            "Action Input: Silas\u001b[32;1m\u001b[1;3m None of these verses mention Silas.\n",
            "Action: Bible Verse Dataframe Tool\n",
            "Action Input: Silas\u001b[0m\n",
            "\n",
            "\u001b[1m> Entering new AgentExecutor chain...\u001b[0m\n",
            "\u001b[32;1m\u001b[1;3mThought: I need to find the row in the dataframe that contains the word \"Silas\"\n",
            "Action: python_repl_ast\n",
            "Action Input: df[df['gloss'].str.contains('Silas')]\u001b[0m\n",
            "Observation: \u001b[36;1m\u001b[1;3m     book_chapter_verse                                              gloss  \\\n",
            "1521          ACT 15:22  Then it seemed good to the apostles and to the...   \n",
            "1526          ACT 15:27  We have sent therefore Judas and Silas and the...   \n",
            "1532          ACT 15:32  Judas both and Silas also themselves prophets ...   \n",
            "1540          ACT 15:40  Paul however having chosen Silas went forth ha...   \n",
            "1557          ACT 16:19  Having seen now the masters of her that was go...   \n",
            "1564          ACT 16:25  Toward now - midnight Paul and Silas praying w...   \n",
            "1568          ACT 16:29  Having called for now lights he rushed in and ...   \n",
            "1588          ACT 17:10  - And the brothers immediately by night sent a...   \n",
            "1592          ACT 17:14  Immediately also then - Paul sent away the bro...   \n",
            "1593          ACT 17:15  Those now escorting - Paul brought [him] unto ...   \n",
            "1615           ACT 17:4  And some of them were obedient and joined them...   \n",
            "1644           ACT 18:5  When now came down from - Macedonia - both Sil...   \n",
            "\n",
            "                                                  lemma  \\\n",
            "1521  τότε δοκέω ὁ ἀπόστολος καί ὁ πρεσβύτερος σύν ὅ...   \n",
            "1526  ἀποστέλλω οὖν Ἰούδας καί Σιλᾶς καί αὐτός διά λ...   \n",
            "1532  Ἰούδας τέ καί Σιλᾶς καί αὐτός προφήτης εἰμί δι...   \n",
            "1540  Παῦλος δέ ἐπιλέγω Σιλᾶς ἐξέρχομαι παραδίδωμι ὁ...   \n",
            "1557  ὁράω δέ ὁ κύριος αὐτός ὅτι ἐξέρχομαι ὁ ἐλπίς ὁ...   \n",
            "1564  κατά δέ ὁ μεσονύκτιον Παῦλος καί Σιλᾶς προσεύχ...   \n",
            "1568  αἰτέω δέ φῶς εἰσπηδάω καί ἔντρομος γίνομαι προ...   \n",
            "1588  ὁ δέ ἀδελφός εὐθέως διά νύξ ἐκπέμπω ὁ τέ Παῦλο...   \n",
            "1592  εὐθέως δέ τότε ὁ Παῦλος ἐξαποστέλλω ὁ ἀδελφός ...   \n",
            "1593  ὁ δέ καθίστημι ὁ Παῦλος ἄγω ἕως Ἀθῆναι καί λαμ...   \n",
            "1615  καί τὶς ἐκ αὐτός πείθω καί προσκληρόω ὁ Παῦλος...   \n",
            "1644  ὡς δέ κατέρχομαι ἀπό ὁ Μακεδονία ὁ τέ Σιλᾶς κα...   \n",
            "\n",
            "                                             normalized  book  chapter  \n",
            "1521  Τότε ἔδοξε τοῖς ἀποστόλοις καί τοῖς πρεσβυτέρο...  Acts  Acts 15  \n",
            "1526  ἀπεστάλκαμεν οὖν Ἰούδαν καί Σιλᾶν καί αὐτούς δ...  Acts  Acts 15  \n",
            "1532  Ἰούδας τε καί Σιλᾶς καί αὐτοί προφῆται ὄντες δ...  Acts  Acts 15  \n",
            "1540  Παῦλος δέ ἐπιλεξάμενος Σιλᾶν ἐξῆλθεν παραδοθεί...  Acts  Acts 15  \n",
            "1557  Ἰδόντες δέ οἱ κύριοι αὐτῆς ὅτι ἐξῆλθεν ἡ ἐλπίς...  Acts  Acts 16  \n",
            "1564  Κατά δέ τό μεσονύκτιον Παῦλος καί Σιλᾶς προσευ...  Acts  Acts 16  \n",
            "1568  αἰτήσας δέ φῶτα εἰσεπήδησεν καί ἔντρομος γενόμ...  Acts  Acts 16  \n",
            "1588  Οἱ δέ ἀδελφοί εὐθέως διά νυκτός ἐξέπεμψαν τόν ...  Acts  Acts 17  \n",
            "1592  εὐθέως δέ τότε τόν Παῦλον ἐξαπέστειλαν οἱ ἀδελ...  Acts  Acts 17  \n",
            "1593  οἱ δέ καθιστάνοντες τόν Παῦλον ἤγαγον ἕως Ἀθην...  Acts  Acts 17  \n",
            "1615  καί τινες ἐξ αὐτῶν ἐπείσθησαν καί προσεκληρώθη...  Acts  Acts 17  \n",
            "1644  Ὡς δέ κατῆλθον ἀπό τῆς Μακεδονίας ὅ τε Σιλᾶς κ...  Acts  Acts 18  \u001b[0m\n",
            "Thought:\u001b[32;1m\u001b[1;3m I have found the row that contains the word \"Silas\"\n",
            "Final Answer: The row that contains the word \"Silas\" is:\n",
            "\n",
            "|    | book_chapter_verse   | gloss                                                                                                                                                                                                                             | lemma                                                                                                                                                     | normalized                                                                                                                                                                     | book          | chapter          |\n",
            "|---:|:---------------------|:----------------------------------------------------------------------------------------------------------------------------------------------------------------------------------------------------------------------------------|:----------------------------------------------------------------------------------------------------------------------------------------------------------|:-------------------------------------------------------------------------------------------------------------------------------------------------------------------------------|:--------------|:-----------------|\n",
            "| 1521 | ACT 15:22            | Then it seemed good to the apostles and to the elders with the whole church to choose men from among them and to send [them] to Antioch with Paul and Silas - Barnabas and Judas called Barsabbas                                    | τότε δοκέω ὁ ἀπόστολος καί ὁ πρεσβύτερος σύν ὅλος ὁ ἐκκλησία ἐ\u001b[0m\n",
            "\n",
            "\u001b[1m> Finished chain.\u001b[0m\n",
            "\n",
            "Observation: \u001b[33;1m\u001b[1;3mThe row that contains the word \"Silas\" is:\n",
            "\n",
            "|    | book_chapter_verse   | gloss                                                                                                                                                                                                                             | lemma                                                                                                                                                     | normalized                                                                                                                                                                     | book          | chapter          |\n",
            "|---:|:---------------------|:----------------------------------------------------------------------------------------------------------------------------------------------------------------------------------------------------------------------------------|:----------------------------------------------------------------------------------------------------------------------------------------------------------|:-------------------------------------------------------------------------------------------------------------------------------------------------------------------------------|:--------------|:-----------------|\n",
            "| 1521 | ACT 15:22            | Then it seemed good to the apostles and to the elders with the whole church to choose men from among them and to send [them] to Antioch with Paul and Silas - Barnabas and Judas called Barsabbas                                    | τότε δοκέω ὁ ἀπόστολος καί ὁ πρεσβύτερος σύν ὅλος ὁ ἐκκλησία ἐ\u001b[0m\n",
            "Thought: This verse mentions Silas.\n",
            "Final Answer: Silas is mentioned in Acts 15:22.\u001b[32;1m\u001b[1;3m This verse mentions Silas.\n",
            "Final Answer: Silas is mentioned in Acts 15:22.\u001b[0m\n",
            "\n",
            "\u001b[1m> Finished chain.\u001b[0m\n"
          ]
        }
      ],
      "source": [
        "import gradio as gr\n",
        "\n",
        "with gr.Blocks() as demo:\n",
        "    chatbot = gr.Chatbot()\n",
        "    msg = gr.Textbox()\n",
        "    clear = gr.Button(\"Clear\")\n",
        "\n",
        "    def user(user_message, history):\n",
        "        return gr.update(value=\"\", interactive=False), history + [[user_message, None]]\n",
        "\n",
        "    def bot(history):\n",
        "        bot_message = agent.run(history[-1][0])  # Use your agent to generate the response\n",
        "        history[-1][1] = \"\"\n",
        "        for character in bot_message:\n",
        "            history[-1][1] += character\n",
        "            yield history\n",
        "\n",
        "    response = msg.submit(user, [msg, chatbot], [msg, chatbot], queue=False).then(\n",
        "        bot, chatbot, chatbot\n",
        "    )\n",
        "    response.then(lambda: gr.update(interactive=True), None, [msg], queue=False)\n",
        "    clear.click(lambda: None, None, chatbot, queue=False)\n",
        "\n",
        "demo.queue()\n",
        "demo.launch()\n"
      ]
    },
    {
      "attachments": {},
      "cell_type": "markdown",
      "metadata": {},
      "source": [
        "Streaming gradio app:"
      ]
    },
    {
      "cell_type": "code",
      "execution_count": 50,
      "metadata": {},
      "outputs": [
        {
          "name": "stdout",
          "output_type": "stream",
          "text": [
            "Running on local URL:  http://127.0.0.1:7863\n",
            "\n",
            "To create a public link, set `share=True` in `launch()`.\n"
          ]
        },
        {
          "data": {
            "text/html": [
              "<div><iframe src=\"http://127.0.0.1:7863/\" width=\"100%\" height=\"500\" allow=\"autoplay; camera; microphone; clipboard-read; clipboard-write;\" frameborder=\"0\" allowfullscreen></iframe></div>"
            ],
            "text/plain": [
              "<IPython.core.display.HTML object>"
            ]
          },
          "metadata": {},
          "output_type": "display_data"
        },
        {
          "data": {
            "text/plain": []
          },
          "execution_count": 50,
          "metadata": {},
          "output_type": "execute_result"
        }
      ],
      "source": [
        "import gradio as gr\n",
        "import sys\n",
        "import io\n",
        "\n",
        "class OutputCapture:\n",
        "    def __init__(self):\n",
        "        self.stream = io.StringIO()\n",
        "\n",
        "    def __enter__(self):\n",
        "        self.old_stdout = sys.stdout\n",
        "        sys.stdout = self.stream\n",
        "        return self\n",
        "\n",
        "    def __exit__(self, type, value, traceback):\n",
        "        sys.stdout = self.old_stdout\n",
        "\n",
        "    def getvalue(self):\n",
        "        return self.stream.getvalue()\n",
        "\n",
        "with gr.Blocks() as demo:\n",
        "    chatbot = gr.Chatbot()\n",
        "    msg = gr.Textbox()\n",
        "    clear = gr.Button(\"Clear\")\n",
        "\n",
        "    def user(user_message, history):\n",
        "        return gr.update(value=\"\", interactive=False), history + [[user_message, None]]\n",
        "\n",
        "    def bot(history):\n",
        "        with OutputCapture() as c:\n",
        "            agent.run(history[-1][0])  # Use your agent to generate the response\n",
        "            bot_message = c.getvalue()  # Get the output from the agent\n",
        "        history[-1][1] = \"\"\n",
        "        for character in bot_message:\n",
        "            history[-1][1] += character\n",
        "            yield history\n",
        "\n",
        "    response = msg.submit(user, [msg, chatbot], [msg, chatbot], queue=False).then(\n",
        "        bot, chatbot, chatbot\n",
        "    )\n",
        "    response.then(lambda: gr.update(interactive=True), None, [msg], queue=False)\n",
        "    clear.click(lambda: None, None, chatbot, queue=False)\n",
        "\n",
        "demo.queue()\n",
        "demo.launch()\n",
        "\n"
      ]
    },
    {
      "cell_type": "code",
      "execution_count": 37,
      "metadata": {},
      "outputs": [],
      "source": [
        "# import subprocess\n",
        "\n",
        "# def myrun(cmd):\n",
        "#     \"\"\"from http://blog.kagesenshi.org/2008/02/teeing-python-subprocesspopen-output.html\n",
        "#     \"\"\"\n",
        "#     p = subprocess.Popen(cmd, shell=True, stdout=subprocess.PIPE, stderr=subprocess.STDOUT)\n",
        "#     stdout = []\n",
        "#     while True:\n",
        "#         line = p.stdout.readline()\n",
        "#         stdout.append(line)\n",
        "#         print line,\n",
        "#         if line == '' and p.poll() != None:\n",
        "#             break\n",
        "#     return ''.join(stdout)"
      ]
    },
    {
      "attachments": {},
      "cell_type": "markdown",
      "metadata": {},
      "source": [
        "Stream with separate thread"
      ]
    },
    {
      "cell_type": "code",
      "execution_count": 32,
      "metadata": {},
      "outputs": [
        {
          "name": "stdout",
          "output_type": "stream",
          "text": [
            "Running on local URL:  http://127.0.0.1:7860\n",
            "\n",
            "To create a public link, set `share=True` in `launch()`.\n"
          ]
        },
        {
          "data": {
            "text/html": [
              "<div><iframe src=\"http://127.0.0.1:7860/\" width=\"100%\" height=\"500\" allow=\"autoplay; camera; microphone; clipboard-read; clipboard-write;\" frameborder=\"0\" allowfullscreen></iframe></div>"
            ],
            "text/plain": [
              "<IPython.core.display.HTML object>"
            ]
          },
          "metadata": {},
          "output_type": "display_data"
        },
        {
          "name": "stdout",
          "output_type": "stream",
          "text": [
            "Keyboard interruption in main thread... closing server.\n"
          ]
        },
        {
          "data": {
            "text/plain": []
          },
          "execution_count": 32,
          "metadata": {},
          "output_type": "execute_result"
        }
      ],
      "source": [
        "# import gradio as gr\n",
        "# from queue import SimpleQueue\n",
        "# from threading import Thread\n",
        "# from langchain.callbacks.base import BaseCallbackHandler\n",
        "# from langchain.schema import LLMResult\n",
        "# from typing import Any, Union, Dict, List\n",
        "\n",
        "# # Create a queue\n",
        "# q = SimpleQueue()\n",
        "\n",
        "# # Define a signal for job completion\n",
        "# job_done = object()\n",
        "\n",
        "# # Define a custom callback handler\n",
        "# class StreamingGradioCallbackHandler(BaseCallbackHandler):\n",
        "#     def __init__(self, q: SimpleQueue):\n",
        "#         self.q = q\n",
        "#     def on_llm_start(self, serialized: Dict[str, Any], prompts: List[str], **kwargs: Any) -> None:\n",
        "#         \"\"\"Run when LLM starts running. Clean the queue.\"\"\"\n",
        "#         while not self.q.empty():\n",
        "#             try:\n",
        "#                 self.q.get(block=False)\n",
        "#             except Empty:\n",
        "#                 continue\n",
        "#     def on_llm_new_token(self, token: str, **kwargs: Any) -> None:\n",
        "#         \"\"\"Run on new LLM token. Only available when streaming is enabled.\"\"\"\n",
        "#         self.q.put(token)\n",
        "#     def on_llm_end(self, response: LLMResult, **kwargs: Any) -> None:\n",
        "#         \"\"\"Run when LLM ends running.\"\"\"\n",
        "#         self.q.put(job_done)\n",
        "#     def on_llm_error(self, error: Union[Exception, KeyboardInterrupt], **kwargs: Any) -> None:\n",
        "#         \"\"\"Run when LLM errors.\"\"\"\n",
        "#         self.q.put(job_done)\n",
        "\n",
        "# # Define a function to run the agent in a separate thread and read from the queue\n",
        "# def run_agent_in_thread(agent, input):\n",
        "#     thread = Thread(target=agent.arun, kwargs={\"input\": input})\n",
        "#     thread.start()\n",
        "#     output = \"\"\n",
        "#     stdout = \"\"\n",
        "#     while True:\n",
        "#         next_token = q.get(block=True)  # Blocks until an input is available\n",
        "#         if next_token is job_done:\n",
        "#             break\n",
        "#         output += next_token\n",
        "#         stdout += next_token  # Capture the stdout\n",
        "#     thread.join()\n",
        "#     return output, stdout\n",
        "\n",
        "# # Modify your agent functions to use the new function\n",
        "# def qa_run(inputs):\n",
        "#     return run_agent_in_thread(multi_df_agent, inputs)\n",
        "\n",
        "# def lb_run(inputs):\n",
        "#     return run_agent_in_thread(macula_greek_agent, inputs)\n",
        "\n",
        "# def csv_run(inputs):\n",
        "#     return run_agent_in_thread(macula_greek_agent, inputs)\n",
        "\n",
        "# def agent_run(inputs):\n",
        "#     return run_agent_in_thread(agent, inputs)\n",
        "\n",
        "# app = gr.Blocks(theme='bethecloud/storj_theme')\n",
        "\n",
        "# with app:\n",
        "#     gr.Markdown(\"## Query Linguistic Data with Natural Language\")\n",
        "#     gr.Markdown(\"This demo extracts answers and lists of results from linguistic data using natural language input only.\")\n",
        "#     # gr.Markdown(\"[Read More](https://medium.com/@langchain/using-openai-gpt-3-to-query-and-manipulate-dataframes-1f4f8f211e4d)\")\n",
        "\n",
        "#     with gr.Tab(\"Question Answering from Greek and Hebrew Spreadsheet Data\"):\n",
        "#         qa_text = gr.Textbox(lines=5, label=\"Question\", value=\"How many unique domain labels are there (each domain label is a list)?\")\n",
        "#         qa_button = gr.Button(\"Run\")\n",
        "#         qa_output = gr.Textbox(label=\"Answer\", lines=5)\n",
        "#         stdout_output = gr.Textbox(label=\"Agent Output\", lines=5)\n",
        "#         qa_button.click(\n",
        "#             qa_run,\n",
        "#             inputs=qa_text,\n",
        "#             outputs=[qa_output,stdout_output]\n",
        "#         )\n",
        "#     with gr.Tab(\"List Building\"):\n",
        "#         lb_text = gr.Textbox(lines=5, label=\"Prompt\", value=list_building_prompt)\n",
        "#         lb_button = gr.Button(\"Run\")\n",
        "#         lb_output = gr.Textbox(label=\"List\", lines=5)\n",
        "#         stdout_output = gr.Textbox(label=\"Agent Output\", lines=5)\n",
        "#         lb_button.click(\n",
        "#             lb_run,\n",
        "#             inputs=lb_text,\n",
        "#             outputs=[lb_output,stdout_output]\n",
        "#         )\n",
        "#     with gr.Tab(\"CSV Generation\"):\n",
        "#         csv_text = gr.Textbox(lines=5, label=\"Prompt\", value=list_building_and_save_as_csv_prompt)\n",
        "#         csv_button = gr.Button(\"Run\")\n",
        "#         csv_output = gr.Textbox(label=\"CSV\", lines=5)\n",
        "#         stdout_output = gr.Textbox(label=\"Agent Output\", lines=5)\n",
        "#         csv_button.click(\n",
        "#             csv_run,\n",
        "#             inputs=csv_text,\n",
        "#             outputs=[csv_output,stdout_output]\n",
        "#         )\n",
        "#     with gr.Tab(\"AI Agent with Access to Multiple Tools\"):\n",
        "#         qa_text = gr.Textbox(lines=5, label=\"Question\", value=\"How many unique domain labels are there (each domain label is a list)?\")\n",
        "#         qa_button = gr.Button(\"Run\")\n",
        "#         qa_output = gr.Textbox(label=\"Answer\", lines=5)\n",
        "#         stdout_output = gr.Textbox(label=\"Agent Output\", lines=5)\n",
        "#         qa_button.click(\n",
        "#             agent_run,\n",
        "#             inputs=qa_text,\n",
        "#             outputs=[qa_output,stdout_output]\n",
        "#         )\n",
        "\n",
        "# app.launch(debug=True)"
      ]
    },
    {
      "attachments": {},
      "cell_type": "markdown",
      "metadata": {},
      "source": [
        "# Flask UI"
      ]
    },
    {
      "cell_type": "code",
      "execution_count": null,
      "metadata": {},
      "outputs": [],
      "source": [
        "from flask import Flask, render_template, request\n",
        "from flask_socketio import SocketIO, emit\n",
        "\n",
        "app = Flask(__name__)\n",
        "socketio = SocketIO(app)\n",
        "\n",
        "@app.route('/')\n",
        "def index():\n",
        "    return render_template('index.html')\n",
        "\n",
        "@socketio.on('run_agent')\n",
        "def handle_run_agent(message):\n",
        "    # Run your agent here\n",
        "    result = agent.run(message['data'])\n",
        "\n",
        "    # Emit the result to the client\n",
        "    emit('agent_result', {'result': result})\n",
        "\n",
        "if __name__ == '__main__':\n",
        "    socketio.run(app)"
      ]
    }
  ],
  "metadata": {
    "colab": {
      "include_colab_link": true,
      "provenance": []
    },
    "kernelspec": {
      "display_name": "Python 3",
      "language": "python",
      "name": "python3"
    },
    "language_info": {
      "codemirror_mode": {
        "name": "ipython",
        "version": 3
      },
      "file_extension": ".py",
      "mimetype": "text/x-python",
      "name": "python",
      "nbconvert_exporter": "python",
      "pygments_lexer": "ipython3",
      "version": "3.10.11"
    },
    "orig_nbformat": 4
  },
  "nbformat": 4,
  "nbformat_minor": 0
}
