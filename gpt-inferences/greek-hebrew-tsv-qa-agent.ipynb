{
  "cells": [
    {
      "attachments": {},
      "cell_type": "markdown",
      "metadata": {
        "colab_type": "text",
        "id": "view-in-github"
      },
      "source": [
        "<a href=\"https://colab.research.google.com/github/ryderwishart/biblical-machine-learning/blob/main/gpt-inferences/greek-hebrew-tsv-qa-agent.ipynb\" target=\"_parent\"><img src=\"https://colab.research.google.com/assets/colab-badge.svg\" alt=\"Open In Colab\"/></a>"
      ]
    },
    {
      "attachments": {},
      "cell_type": "markdown",
      "metadata": {
        "id": "a4PXB7yPjqhZ"
      },
      "source": [
        "# Question answer over MACULA Greek an Hebrew"
      ]
    },
    {
      "cell_type": "code",
      "execution_count": 1,
      "metadata": {
        "id": "0hFRcdEjjqhb",
        "outputId": "da15de6f-cf69-4000-98cb-fd0d51c77cf1"
      },
      "outputs": [],
      "source": [
        "# !pip install tabulate pandas langchain"
      ]
    },
    {
      "attachments": {},
      "cell_type": "markdown",
      "metadata": {
        "id": "1EUhwDp_jqhc"
      },
      "source": [
        "## Set up MACULA dataframes"
      ]
    },
    {
      "attachments": {},
      "cell_type": "markdown",
      "metadata": {
        "id": "NkpgF-p1jqhc"
      },
      "source": [
        "First, let's load up the Greek data and populate the domain column with the domain labels instead of numbers."
      ]
    },
    {
      "cell_type": "code",
      "execution_count": 2,
      "metadata": {
        "id": "h5bneWcMjqhc"
      },
      "outputs": [],
      "source": [
        "import requests, json, re, os\n",
        "import pandas as pd\n",
        "\n",
        "def download_file(url, file_name):\n",
        "    response = requests.get(url)\n",
        "    with open(file_name, \"wb\") as file:\n",
        "        file.write(response.content)\n",
        "\n",
        "# file1_url = \"https://raw.githubusercontent.com/Clear-Bible/macula-greek/main/Nestle1904/TSV/macula-greek.tsv\"\n",
        "file1_url = \"https://github.com/Clear-Bible/macula-greek/raw/feature/add-sentence-id-to-tsv/Nestle1904/TSV/macula-greek.tsv\" # PR version with sentence IDs\n",
        "file1_name = \"macula-greek.tsv\"\n",
        "\n",
        "# file1_url = \"https://raw.githubusercontent.com/Clear-Bible/macula-greek/main/Nestle1904/TSV/macula-greek.tsv\"\n",
        "file2_url = \"https://raw.githubusercontent.com/Clear-Bible/macula-greek/main/sources/MARBLE/SDBG/marble-domain-label-mapping.json\"\n",
        "file2_name = \"marble-domain-label-mapping.json\"\n",
        "\n",
        "if file1_name not in os.listdir():\n",
        "    download_file(file1_url, file1_name)\n",
        "\n",
        "if file2_name not in os.listdir():\n",
        "    download_file(file2_url, file2_name)\n"
      ]
    },
    {
      "cell_type": "code",
      "execution_count": 3,
      "metadata": {
        "id": "kMCBo-Z6jqhd",
        "outputId": "20b90d17-b2c6-433a-cd7b-1f350b36c0fb"
      },
      "outputs": [
        {
          "data": {
            "text/html": [
              "<div>\n",
              "<style scoped>\n",
              "    .dataframe tbody tr th:only-of-type {\n",
              "        vertical-align: middle;\n",
              "    }\n",
              "\n",
              "    .dataframe tbody tr th {\n",
              "        vertical-align: top;\n",
              "    }\n",
              "\n",
              "    .dataframe thead th {\n",
              "        text-align: right;\n",
              "    }\n",
              "</style>\n",
              "<table border=\"1\" class=\"dataframe\">\n",
              "  <thead>\n",
              "    <tr style=\"text-align: right;\">\n",
              "      <th></th>\n",
              "      <th>ref</th>\n",
              "      <th>role</th>\n",
              "      <th>class</th>\n",
              "      <th>type</th>\n",
              "      <th>gloss</th>\n",
              "      <th>text</th>\n",
              "      <th>after</th>\n",
              "      <th>lemma</th>\n",
              "      <th>normalized</th>\n",
              "      <th>strong</th>\n",
              "      <th>...</th>\n",
              "      <th>frame</th>\n",
              "      <th>subjref</th>\n",
              "      <th>referent</th>\n",
              "      <th>id</th>\n",
              "      <th>book</th>\n",
              "      <th>chapter</th>\n",
              "      <th>verse</th>\n",
              "      <th>book_chapter</th>\n",
              "      <th>book_chapter_verse</th>\n",
              "      <th>domain_label</th>\n",
              "    </tr>\n",
              "    <tr>\n",
              "      <th>xml:id</th>\n",
              "      <th></th>\n",
              "      <th></th>\n",
              "      <th></th>\n",
              "      <th></th>\n",
              "      <th></th>\n",
              "      <th></th>\n",
              "      <th></th>\n",
              "      <th></th>\n",
              "      <th></th>\n",
              "      <th></th>\n",
              "      <th></th>\n",
              "      <th></th>\n",
              "      <th></th>\n",
              "      <th></th>\n",
              "      <th></th>\n",
              "      <th></th>\n",
              "      <th></th>\n",
              "      <th></th>\n",
              "      <th></th>\n",
              "      <th></th>\n",
              "      <th></th>\n",
              "    </tr>\n",
              "  </thead>\n",
              "  <tbody>\n",
              "    <tr>\n",
              "      <th>n40001001001</th>\n",
              "      <td>MAT 1:1!1</td>\n",
              "      <td>missing</td>\n",
              "      <td>noun</td>\n",
              "      <td>common</td>\n",
              "      <td>[The] book</td>\n",
              "      <td>Βίβλος</td>\n",
              "      <td></td>\n",
              "      <td>βίβλος</td>\n",
              "      <td>Βίβλος</td>\n",
              "      <td>976</td>\n",
              "      <td>...</td>\n",
              "      <td>missing</td>\n",
              "      <td>missing</td>\n",
              "      <td>missing</td>\n",
              "      <td>n40001001001</td>\n",
              "      <td>MAT</td>\n",
              "      <td>1</td>\n",
              "      <td>1</td>\n",
              "      <td>MAT 1</td>\n",
              "      <td>MAT 1:1</td>\n",
              "      <td>[Written Language]</td>\n",
              "    </tr>\n",
              "    <tr>\n",
              "      <th>n40001001002</th>\n",
              "      <td>MAT 1:1!2</td>\n",
              "      <td>missing</td>\n",
              "      <td>noun</td>\n",
              "      <td>common</td>\n",
              "      <td>of [the] genealogy</td>\n",
              "      <td>γενέσεως</td>\n",
              "      <td></td>\n",
              "      <td>γένεσις</td>\n",
              "      <td>γενέσεως</td>\n",
              "      <td>1078</td>\n",
              "      <td>...</td>\n",
              "      <td>missing</td>\n",
              "      <td>missing</td>\n",
              "      <td>missing</td>\n",
              "      <td>n40001001002</td>\n",
              "      <td>MAT</td>\n",
              "      <td>1</td>\n",
              "      <td>1</td>\n",
              "      <td>MAT 1</td>\n",
              "      <td>MAT 1:1</td>\n",
              "      <td>[Kinship Relations Involving Successive Genera...</td>\n",
              "    </tr>\n",
              "    <tr>\n",
              "      <th>n40001001003</th>\n",
              "      <td>MAT 1:1!3</td>\n",
              "      <td>missing</td>\n",
              "      <td>noun</td>\n",
              "      <td>proper</td>\n",
              "      <td>of Jesus</td>\n",
              "      <td>Ἰησοῦ</td>\n",
              "      <td></td>\n",
              "      <td>Ἰησοῦς</td>\n",
              "      <td>Ἰησοῦ</td>\n",
              "      <td>2424</td>\n",
              "      <td>...</td>\n",
              "      <td>missing</td>\n",
              "      <td>missing</td>\n",
              "      <td>missing</td>\n",
              "      <td>n40001001003</td>\n",
              "      <td>MAT</td>\n",
              "      <td>1</td>\n",
              "      <td>1</td>\n",
              "      <td>MAT 1</td>\n",
              "      <td>MAT 1:1</td>\n",
              "      <td>[Persons]</td>\n",
              "    </tr>\n",
              "    <tr>\n",
              "      <th>n40001001004</th>\n",
              "      <td>MAT 1:1!4</td>\n",
              "      <td>missing</td>\n",
              "      <td>noun</td>\n",
              "      <td>proper</td>\n",
              "      <td>Christ</td>\n",
              "      <td>Χριστοῦ</td>\n",
              "      <td></td>\n",
              "      <td>Χριστός</td>\n",
              "      <td>Χριστοῦ</td>\n",
              "      <td>5547</td>\n",
              "      <td>...</td>\n",
              "      <td>missing</td>\n",
              "      <td>missing</td>\n",
              "      <td>missing</td>\n",
              "      <td>n40001001004</td>\n",
              "      <td>MAT</td>\n",
              "      <td>1</td>\n",
              "      <td>1</td>\n",
              "      <td>MAT 1</td>\n",
              "      <td>MAT 1:1</td>\n",
              "      <td>[Persons]</td>\n",
              "    </tr>\n",
              "    <tr>\n",
              "      <th>n40001001005</th>\n",
              "      <td>MAT 1:1!5</td>\n",
              "      <td>missing</td>\n",
              "      <td>noun</td>\n",
              "      <td>common</td>\n",
              "      <td>son</td>\n",
              "      <td>υἱοῦ</td>\n",
              "      <td></td>\n",
              "      <td>υἱός</td>\n",
              "      <td>υἱοῦ</td>\n",
              "      <td>5207</td>\n",
              "      <td>...</td>\n",
              "      <td>missing</td>\n",
              "      <td>missing</td>\n",
              "      <td>missing</td>\n",
              "      <td>n40001001005</td>\n",
              "      <td>MAT</td>\n",
              "      <td>1</td>\n",
              "      <td>1</td>\n",
              "      <td>MAT 1</td>\n",
              "      <td>MAT 1:1</td>\n",
              "      <td>[Kinship Relations Involving Successive Genera...</td>\n",
              "    </tr>\n",
              "  </tbody>\n",
              "</table>\n",
              "<p>5 rows × 31 columns</p>\n",
              "</div>"
            ],
            "text/plain": [
              "                    ref     role class    type               gloss      text  \\\n",
              "xml:id                                                                         \n",
              "n40001001001  MAT 1:1!1  missing  noun  common          [The] book    Βίβλος   \n",
              "n40001001002  MAT 1:1!2  missing  noun  common  of [the] genealogy  γενέσεως   \n",
              "n40001001003  MAT 1:1!3  missing  noun  proper            of Jesus     Ἰησοῦ   \n",
              "n40001001004  MAT 1:1!4  missing  noun  proper              Christ   Χριστοῦ   \n",
              "n40001001005  MAT 1:1!5  missing  noun  common                 son      υἱοῦ   \n",
              "\n",
              "             after    lemma normalized  strong  ...    frame  subjref  \\\n",
              "xml:id                                          ...                     \n",
              "n40001001001         βίβλος     Βίβλος     976  ...  missing  missing   \n",
              "n40001001002        γένεσις   γενέσεως    1078  ...  missing  missing   \n",
              "n40001001003         Ἰησοῦς      Ἰησοῦ    2424  ...  missing  missing   \n",
              "n40001001004        Χριστός    Χριστοῦ    5547  ...  missing  missing   \n",
              "n40001001005           υἱός       υἱοῦ    5207  ...  missing  missing   \n",
              "\n",
              "             referent            id book chapter verse book_chapter  \\\n",
              "xml:id                                                                \n",
              "n40001001001  missing  n40001001001  MAT       1     1        MAT 1   \n",
              "n40001001002  missing  n40001001002  MAT       1     1        MAT 1   \n",
              "n40001001003  missing  n40001001003  MAT       1     1        MAT 1   \n",
              "n40001001004  missing  n40001001004  MAT       1     1        MAT 1   \n",
              "n40001001005  missing  n40001001005  MAT       1     1        MAT 1   \n",
              "\n",
              "             book_chapter_verse  \\\n",
              "xml:id                            \n",
              "n40001001001            MAT 1:1   \n",
              "n40001001002            MAT 1:1   \n",
              "n40001001003            MAT 1:1   \n",
              "n40001001004            MAT 1:1   \n",
              "n40001001005            MAT 1:1   \n",
              "\n",
              "                                                   domain_label  \n",
              "xml:id                                                           \n",
              "n40001001001                                 [Written Language]  \n",
              "n40001001002  [Kinship Relations Involving Successive Genera...  \n",
              "n40001001003                                          [Persons]  \n",
              "n40001001004                                          [Persons]  \n",
              "n40001001005  [Kinship Relations Involving Successive Genera...  \n",
              "\n",
              "[5 rows x 31 columns]"
            ]
          },
          "execution_count": 3,
          "metadata": {},
          "output_type": "execute_result"
        }
      ],
      "source": [
        "# Import Macula Greek data\n",
        "mg = pd.read_csv(\n",
        "    \"macula-greek.tsv\", index_col=\"xml:id\", sep=\"\\t\", header=0, converters={\"*\": str}\n",
        ").fillna(\"missing\")\n",
        "# add an 'id' column\n",
        "mg[\"id\"] = mg.index\n",
        "\n",
        "# mg['domain'] = mg['domain'].astype(str).fillna('missing')\n",
        "\n",
        "# Extract book, chapter, and verse into separate columns\n",
        "mg[[\"book\", \"chapter\", \"verse\"]] = mg[\"ref\"].str.extract(r\"(\\d?[A-Z]+)\\s(\\d+):(\\d+)\")\n",
        "\n",
        "# Add columns for book + chapter, and book + chapter + verse for easier grouping\n",
        "mg[\"book_chapter\"] = mg[\"book\"] + \" \" + mg[\"chapter\"].astype(str)\n",
        "mg[\"book_chapter_verse\"] = mg[\"book_chapter\"] + \":\" + mg[\"verse\"].astype(str)\n",
        "\n",
        "# Import domain-label mapping\n",
        "# Open the JSON file\n",
        "with open(\"marble-domain-label-mapping.json\", \"r\") as f:\n",
        "    # Load the contents of the file as a dictionary\n",
        "    domain_labels = json.load(f)\n",
        "\n",
        "domain_labels[\"missing\"] = \"no domain\"\n",
        "domain_labels[\"nan\"] = \"no domain\"\n",
        "\n",
        "# Use domain labels to create a new column\n",
        "\n",
        "\n",
        "def get_domain_label(domain_string_number):\n",
        "    labels = [domain_labels[label] for label in domain_string_number.split(\" \")]\n",
        "    return labels\n",
        "\n",
        "\n",
        "mg[\"domain_label\"] = mg[\"domain\"].apply(get_domain_label)\n",
        "mg.head()"
      ]
    },
    {
      "attachments": {},
      "cell_type": "markdown",
      "metadata": {
        "id": "mIDd1_rjjqhd"
      },
      "source": [
        "Second, let's load up the Hebrew data and populate the domain column with the domain labels instead of numbers."
      ]
    },
    {
      "cell_type": "code",
      "execution_count": 4,
      "metadata": {
        "id": "zGAc_FBTjqhd",
        "outputId": "8ac43b09-70fe-49b0-b03d-32ff02a02fe3"
      },
      "outputs": [
        {
          "name": "stdout",
          "output_type": "stream",
          "text": [
            "--2023-06-05 11:57:53--  https://media.githubusercontent.com/media/Clear-Bible/macula-hebrew/main/TSV/macula-hebrew.tsv\n",
            "Resolving media.githubusercontent.com (media.githubusercontent.com)... 2606:50c0:8000::154, 2606:50c0:8001::154, 2606:50c0:8002::154, ...\n",
            "Connecting to media.githubusercontent.com (media.githubusercontent.com)|2606:50c0:8000::154|:443... connected.\n",
            "HTTP request sent, awaiting response... 200 OK\n",
            "Length: 75034943 (72M) [text/plain]\n",
            "Saving to: ‘macula-hebrew.tsv’\n",
            "\n",
            "macula-hebrew.tsv   100%[===================>]  71.56M  6.77MB/s    in 13s     \n",
            "\n",
            "2023-06-05 11:58:08 (5.61 MB/s) - ‘macula-hebrew.tsv’ saved [75034943/75034943]\n",
            "\n"
          ]
        },
        {
          "name": "stderr",
          "output_type": "stream",
          "text": [
            "/var/folders/hz/6rspy0v17q7b21wllgrjbn040000gn/T/ipykernel_10913/3928210015.py:17: DtypeWarning: Columns (10) have mixed types. Specify dtype option on import or set low_memory=False.\n",
            "  mh = pd.read_csv(\n"
          ]
        },
        {
          "data": {
            "text/html": [
              "<div>\n",
              "<style scoped>\n",
              "    .dataframe tbody tr th:only-of-type {\n",
              "        vertical-align: middle;\n",
              "    }\n",
              "\n",
              "    .dataframe tbody tr th {\n",
              "        vertical-align: top;\n",
              "    }\n",
              "\n",
              "    .dataframe thead th {\n",
              "        text-align: right;\n",
              "    }\n",
              "</style>\n",
              "<table border=\"1\" class=\"dataframe\">\n",
              "  <thead>\n",
              "    <tr style=\"text-align: right;\">\n",
              "      <th></th>\n",
              "      <th>ref</th>\n",
              "      <th>class</th>\n",
              "      <th>text</th>\n",
              "      <th>transliteration</th>\n",
              "      <th>after</th>\n",
              "      <th>strongnumberx</th>\n",
              "      <th>stronglemma</th>\n",
              "      <th>sensenumber</th>\n",
              "      <th>greek</th>\n",
              "      <th>greekstrong</th>\n",
              "      <th>...</th>\n",
              "      <th>frame</th>\n",
              "      <th>subjref</th>\n",
              "      <th>participantref</th>\n",
              "      <th>id</th>\n",
              "      <th>book</th>\n",
              "      <th>chapter</th>\n",
              "      <th>verse</th>\n",
              "      <th>book_chapter</th>\n",
              "      <th>book_chapter_verse</th>\n",
              "      <th>domain_label</th>\n",
              "    </tr>\n",
              "    <tr>\n",
              "      <th>xml:id</th>\n",
              "      <th></th>\n",
              "      <th></th>\n",
              "      <th></th>\n",
              "      <th></th>\n",
              "      <th></th>\n",
              "      <th></th>\n",
              "      <th></th>\n",
              "      <th></th>\n",
              "      <th></th>\n",
              "      <th></th>\n",
              "      <th></th>\n",
              "      <th></th>\n",
              "      <th></th>\n",
              "      <th></th>\n",
              "      <th></th>\n",
              "      <th></th>\n",
              "      <th></th>\n",
              "      <th></th>\n",
              "      <th></th>\n",
              "      <th></th>\n",
              "      <th></th>\n",
              "    </tr>\n",
              "  </thead>\n",
              "  <tbody>\n",
              "    <tr>\n",
              "      <th>o010010010011</th>\n",
              "      <td>GEN 1:1!1</td>\n",
              "      <td>prep</td>\n",
              "      <td>בְּ</td>\n",
              "      <td>bə</td>\n",
              "      <td>missing</td>\n",
              "      <td>0871a</td>\n",
              "      <td>b</td>\n",
              "      <td>missing</td>\n",
              "      <td>ἐν</td>\n",
              "      <td>1722.0</td>\n",
              "      <td>...</td>\n",
              "      <td>missing</td>\n",
              "      <td>missing</td>\n",
              "      <td>missing</td>\n",
              "      <td>o010010010011</td>\n",
              "      <td>GEN</td>\n",
              "      <td>1</td>\n",
              "      <td>1</td>\n",
              "      <td>GEN 1</td>\n",
              "      <td>GEN 1:1</td>\n",
              "      <td>[]</td>\n",
              "    </tr>\n",
              "    <tr>\n",
              "      <th>o010010010012</th>\n",
              "      <td>GEN 1:1!1</td>\n",
              "      <td>noun</td>\n",
              "      <td>רֵאשִׁ֖ית</td>\n",
              "      <td>rēʾšiyṯ</td>\n",
              "      <td></td>\n",
              "      <td>7225</td>\n",
              "      <td>7225</td>\n",
              "      <td>1.0</td>\n",
              "      <td>ἀρξῇ</td>\n",
              "      <td>746.0</td>\n",
              "      <td>...</td>\n",
              "      <td>missing</td>\n",
              "      <td>missing</td>\n",
              "      <td>missing</td>\n",
              "      <td>o010010010012</td>\n",
              "      <td>GEN</td>\n",
              "      <td>1</td>\n",
              "      <td>1</td>\n",
              "      <td>GEN 1</td>\n",
              "      <td>GEN 1:1</td>\n",
              "      <td>[Begin]</td>\n",
              "    </tr>\n",
              "    <tr>\n",
              "      <th>o010010010021</th>\n",
              "      <td>GEN 1:1!2</td>\n",
              "      <td>verb</td>\n",
              "      <td>בָּרָ֣א</td>\n",
              "      <td>bārāʾ</td>\n",
              "      <td></td>\n",
              "      <td>1254</td>\n",
              "      <td>1254 a</td>\n",
              "      <td>1.0</td>\n",
              "      <td>ἐποίησεν</td>\n",
              "      <td>4160.0</td>\n",
              "      <td>...</td>\n",
              "      <td>A0:010010010031; A1:010010010052;010010010072;</td>\n",
              "      <td>missing</td>\n",
              "      <td>missing</td>\n",
              "      <td>o010010010021</td>\n",
              "      <td>GEN</td>\n",
              "      <td>1</td>\n",
              "      <td>1</td>\n",
              "      <td>GEN 1</td>\n",
              "      <td>GEN 1:1</td>\n",
              "      <td>[Exist]</td>\n",
              "    </tr>\n",
              "    <tr>\n",
              "      <th>o010010010031</th>\n",
              "      <td>GEN 1:1!3</td>\n",
              "      <td>noun</td>\n",
              "      <td>אֱלֹהִ֑ים</td>\n",
              "      <td>ʾĕlōhiym</td>\n",
              "      <td></td>\n",
              "      <td>0430</td>\n",
              "      <td>430</td>\n",
              "      <td>1.0</td>\n",
              "      <td>θεὸς</td>\n",
              "      <td>2316.0</td>\n",
              "      <td>...</td>\n",
              "      <td>missing</td>\n",
              "      <td>missing</td>\n",
              "      <td>missing</td>\n",
              "      <td>o010010010031</td>\n",
              "      <td>GEN</td>\n",
              "      <td>1</td>\n",
              "      <td>1</td>\n",
              "      <td>GEN 1</td>\n",
              "      <td>GEN 1:1</td>\n",
              "      <td>[Deities]</td>\n",
              "    </tr>\n",
              "    <tr>\n",
              "      <th>o010010010041</th>\n",
              "      <td>GEN 1:1!4</td>\n",
              "      <td>om</td>\n",
              "      <td>אֵ֥ת</td>\n",
              "      <td>ʾēṯ</td>\n",
              "      <td></td>\n",
              "      <td>0853</td>\n",
              "      <td>853</td>\n",
              "      <td>missing</td>\n",
              "      <td>missing</td>\n",
              "      <td>missing</td>\n",
              "      <td>...</td>\n",
              "      <td>missing</td>\n",
              "      <td>missing</td>\n",
              "      <td>missing</td>\n",
              "      <td>o010010010041</td>\n",
              "      <td>GEN</td>\n",
              "      <td>1</td>\n",
              "      <td>1</td>\n",
              "      <td>GEN 1</td>\n",
              "      <td>GEN 1:1</td>\n",
              "      <td>[Identifiers]</td>\n",
              "    </tr>\n",
              "  </tbody>\n",
              "</table>\n",
              "<p>5 rows × 38 columns</p>\n",
              "</div>"
            ],
            "text/plain": [
              "                     ref class       text transliteration    after  \\\n",
              "xml:id                                                               \n",
              "o010010010011  GEN 1:1!1  prep        בְּ              bə  missing   \n",
              "o010010010012  GEN 1:1!1  noun  רֵאשִׁ֖ית         rēʾšiyṯ            \n",
              "o010010010021  GEN 1:1!2  verb    בָּרָ֣א           bārāʾ            \n",
              "o010010010031  GEN 1:1!3  noun  אֱלֹהִ֑ים        ʾĕlōhiym            \n",
              "o010010010041  GEN 1:1!4    om       אֵ֥ת             ʾēṯ            \n",
              "\n",
              "              strongnumberx stronglemma sensenumber     greek greekstrong  \\\n",
              "xml:id                                                                      \n",
              "o010010010011         0871a           b     missing        ἐν      1722.0   \n",
              "o010010010012          7225        7225         1.0      ἀρξῇ       746.0   \n",
              "o010010010021          1254      1254 a         1.0  ἐποίησεν      4160.0   \n",
              "o010010010031          0430         430         1.0      θεὸς      2316.0   \n",
              "o010010010041          0853         853     missing   missing     missing   \n",
              "\n",
              "               ...                                           frame  subjref  \\\n",
              "xml:id         ...                                                            \n",
              "o010010010011  ...                                         missing  missing   \n",
              "o010010010012  ...                                         missing  missing   \n",
              "o010010010021  ...  A0:010010010031; A1:010010010052;010010010072;  missing   \n",
              "o010010010031  ...                                         missing  missing   \n",
              "o010010010041  ...                                         missing  missing   \n",
              "\n",
              "              participantref             id book chapter verse book_chapter  \\\n",
              "xml:id                                                                        \n",
              "o010010010011        missing  o010010010011  GEN       1     1        GEN 1   \n",
              "o010010010012        missing  o010010010012  GEN       1     1        GEN 1   \n",
              "o010010010021        missing  o010010010021  GEN       1     1        GEN 1   \n",
              "o010010010031        missing  o010010010031  GEN       1     1        GEN 1   \n",
              "o010010010041        missing  o010010010041  GEN       1     1        GEN 1   \n",
              "\n",
              "              book_chapter_verse   domain_label  \n",
              "xml:id                                           \n",
              "o010010010011            GEN 1:1             []  \n",
              "o010010010012            GEN 1:1        [Begin]  \n",
              "o010010010021            GEN 1:1        [Exist]  \n",
              "o010010010031            GEN 1:1      [Deities]  \n",
              "o010010010041            GEN 1:1  [Identifiers]  \n",
              "\n",
              "[5 rows x 38 columns]"
            ]
          },
          "execution_count": 4,
          "metadata": {},
          "output_type": "execute_result"
        }
      ],
      "source": [
        "# MACULA Hebrew URL: https://media.githubusercontent.com/media/Clear-Bible/macula-hebrew/main/TSV/macula-hebrew.tsv\n",
        "\n",
        "file3_url = \"https://raw.githubusercontent.com/Clear-Bible/macula-hebrew/main/TSV/macula-hebrew.tsv\"\n",
        "file3_name = \"macula-hebrew.tsv\"\n",
        "\n",
        "file4_url = \"https://raw.githubusercontent.com/Clear-Bible/macula-hebrew/main/sources/MARBLE/SDBH/domain-label-mapping-1.json\"\n",
        "file4_name = \"domain-label-mapping-1.json\"\n",
        "\n",
        "if file3_name not in os.listdir():\n",
        "    # This is a GIT LFS file, so we need to ensure the LFS protocol is used (which wget seems to resolve automatically)\n",
        "    !wget https://media.githubusercontent.com/media/Clear-Bible/macula-hebrew/main/TSV/macula-hebrew.tsv\n",
        "    \n",
        "if file4_name not in os.listdir():\n",
        "    download_file(file4_url, file4_name)\n",
        "\n",
        "# Import Macula Hebrew data\n",
        "mh = pd.read_csv(\n",
        "    \"macula-hebrew.tsv\", index_col=\"xml:id\", sep=\"\\t\", header=0, converters={\"*\": str}\n",
        ").fillna(\"missing\")\n",
        "# add an 'id' column\n",
        "mh[\"id\"] = mh.index\n",
        "\n",
        "# mh['domain'] = mh['domain'].astype(str).fillna('missing')\n",
        "\n",
        "# Extract book, chapter, and verse into separate columns\n",
        "mh[[\"book\", \"chapter\", \"verse\"]] = mh[\"ref\"].str.extract(r\"(\\d?[A-Z]+)\\s(\\d+):(\\d+)\")\n",
        "# Add columns for book + chapter, and book + chapter + verse for easier grouping\n",
        "mh[\"book_chapter\"] = mh[\"book\"] + \" \" + mh[\"chapter\"].astype(str)\n",
        "mh[\"book_chapter_verse\"] = mh[\"book_chapter\"] + \":\" + mh[\"verse\"].astype(str)\n",
        "\n",
        "# Import domain-label mapping to Hebrew as well using SBDH domain mapping\n",
        "# Open the JSON file\n",
        "with open(\"domain-label-mapping-1.json\", \"r\") as f:\n",
        "    # Load the contents of the file as a dictionary\n",
        "    hebrew_domain_labels = json.load(f)\n",
        "\n",
        "def get_hebrew_domain_label(domain_string_number):\n",
        "    labels = [hebrew_domain_labels[label] for label in domain_string_number.split(\">\") if label in hebrew_domain_labels]\n",
        "    return labels\n",
        "\n",
        "mh[\"domain_label\"] = mh[\"lexdomain\"].apply(get_hebrew_domain_label)\n",
        "\n",
        "mh.head()"
      ]
    },
    {
      "cell_type": "code",
      "execution_count": 5,
      "metadata": {
        "id": "CH0i2S7mjqhe",
        "outputId": "477ec871-0804-4c51-9a9c-766809eeb3d8"
      },
      "outputs": [
        {
          "name": "stdout",
          "output_type": "stream",
          "text": [
            "Macula Greek column names:  Index(['ref', 'role', 'class', 'type', 'gloss', 'text', 'after', 'lemma',\n",
            "       'normalized', 'strong', 'morph', 'person', 'number', 'gender', 'case',\n",
            "       'tense', 'voice', 'mood', 'degree', 'domain', 'ln', 'frame', 'subjref',\n",
            "       'referent', 'id', 'book', 'chapter', 'verse', 'book_chapter',\n",
            "       'book_chapter_verse', 'domain_label'],\n",
            "      dtype='object')\n",
            "Macula Hebrew column names:  Index(['ref', 'class', 'text', 'transliteration', 'after', 'strongnumberx',\n",
            "       'stronglemma', 'sensenumber', 'greek', 'greekstrong', 'gloss',\n",
            "       'english', 'mandarin', 'stem', 'morph', 'lang', 'lemma', 'pos',\n",
            "       'person', 'gender', 'number', 'state', 'type', 'lexdomain',\n",
            "       'contextualdomain', 'coredomain', 'sdbh', 'extends', 'frame', 'subjref',\n",
            "       'participantref', 'id', 'book', 'chapter', 'verse', 'book_chapter',\n",
            "       'book_chapter_verse', 'domain_label'],\n",
            "      dtype='object')\n"
          ]
        }
      ],
      "source": [
        "print(\"Macula Greek column names: \", mg.columns)\n",
        "print(\"Macula Hebrew column names: \", mh.columns)"
      ]
    },
    {
      "attachments": {},
      "cell_type": "markdown",
      "metadata": {
        "id": "gN32oBCEjqhe"
      },
      "source": [
        "## Set up QA agent"
      ]
    },
    {
      "cell_type": "code",
      "execution_count": 6,
      "metadata": {
        "id": "DkMo0HMEjqhe"
      },
      "outputs": [],
      "source": [
        "import getpass\n",
        "secret_key = getpass.getpass('Enter OpenAI secret key: ')\n",
        "os.environ['OPENAI_API_KEY'] = secret_key"
      ]
    },
    {
      "cell_type": "code",
      "execution_count": 7,
      "metadata": {
        "id": "ZV32zh-6jqhe"
      },
      "outputs": [],
      "source": [
        "import pandas as pd\n",
        "from langchain.llms import OpenAI\n",
        "from langchain.agents import create_pandas_dataframe_agent"
      ]
    },
    {
      "cell_type": "code",
      "execution_count": 8,
      "metadata": {
        "id": "zRaadE6ijqhe"
      },
      "outputs": [],
      "source": [
        "multi_df_agent = create_pandas_dataframe_agent(\n",
        "    OpenAI(temperature=0), \n",
        "    [mg, mh], # list of dataframes, here mg = Macula Greek, mh = Macula Hebrew\n",
        "    verbose=True,\n",
        "    max_tokens_limit = 3000,\n",
        "    max_tokens_per_prompt = 1000,\n",
        ")"
      ]
    },
    {
      "cell_type": "code",
      "execution_count": 9,
      "metadata": {
        "id": "3fRtszxFjqhf",
        "outputId": "39e56c4b-7f33-42f5-ea20-0ac250de6bee"
      },
      "outputs": [],
      "source": [
        "# multi_df_agent.run(\"How many unique domain labels are there (each domain label is a list)?\")"
      ]
    },
    {
      "cell_type": "code",
      "execution_count": 10,
      "metadata": {
        "id": "lVJasWJNjqhf",
        "outputId": "abd698d6-07a7-46bd-b88e-7a14b3c65c44"
      },
      "outputs": [],
      "source": [
        "multi_df_agent.run(\"If you group all the rows by book, which books do not have some form of 'lord' or 'Lord' in their aggregated gloss column?\")"
      ]
    },
    {
      "attachments": {},
      "cell_type": "markdown",
      "metadata": {
        "id": "dnxrjAQijqhf"
      },
      "source": [
        "This was a bit shocking to me, but neither First, Second, or Third John, or Titus contain the word 'Lord'! To double check this, look at the vocab list through [Scaife](https://vocab.perseus.org/word-list/urn:cts:greekLit:tlg0031.tlg017.perseus-grc2/?page=all)"
      ]
    },
    {
      "attachments": {},
      "cell_type": "markdown",
      "metadata": {},
      "source": [
        "## Additional functionality"
      ]
    },
    {
      "attachments": {},
      "cell_type": "markdown",
      "metadata": {},
      "source": [
        "### List building"
      ]
    },
    {
      "attachments": {},
      "cell_type": "markdown",
      "metadata": {},
      "source": [
        "Now let's try to generate a list of results and output as TSV or plaintext."
      ]
    },
    {
      "cell_type": "code",
      "execution_count": 15,
      "metadata": {},
      "outputs": [],
      "source": [
        "macula_greek_agent = create_pandas_dataframe_agent(\n",
        "    OpenAI(temperature=0), \n",
        "    mg, # only one dataframe\n",
        "    verbose=True,\n",
        "    max_tokens_limit = 3000,\n",
        "    max_tokens_per_prompt = 1000,\n",
        ")"
      ]
    },
    {
      "attachments": {},
      "cell_type": "markdown",
      "metadata": {},
      "source": [
        "We have to be pretty specific in the instructions we give the model for now, since it has to be able to understand what we might want to do with a Pandas dataframe. Thus, the following prompt breaks down a couple of steps:\n",
        "1. Group the data in some way\n",
        "2. Filter by criterion A\n",
        "3. Filter again by criterion B"
      ]
    },
    {
      "cell_type": "code",
      "execution_count": 19,
      "metadata": {},
      "outputs": [
        {
          "name": "stdout",
          "output_type": "stream",
          "text": [
            "\n",
            "\n",
            "\u001b[1m> Entering new AgentExecutor chain...\u001b[0m\n",
            "\u001b[32;1m\u001b[1;3mThought: I need to group the dataframes by book_chapter_verse, then filter by the gloss column.\n",
            "Action: python_repl_ast\n",
            "Action Input: df1.groupby('book_chapter_verse')['gloss'].agg(lambda x: ' '.join(x)).reset_index().loc[df1.groupby('book_chapter_verse')['gloss'].agg(lambda x: ' '.join(x)).reset_index()['gloss'].str.contains('Jesus') & df1.groupby('book_chapter_verse')['gloss'].agg(lambda x: ' '.join(x)).reset_index()['gloss'].str.contains('Peter')]\u001b[0m\n",
            "Observation: \u001b[36;1m\u001b[1;3m     book_chapter_verse                                              gloss\n",
            "542             1PE 1:1  Peter an apostle of Jesus Christ To [the] elec...\n",
            "1118            2PE 1:1  Simon Peter a servant and apostle of Jesus Chr...\n",
            "2048           ACT 2:38  Peter then to them Repent and be baptized ever...\n",
            "2086            ACT 3:6  Said however Peter Silver and gold none there ...\n",
            "2094           ACT 4:13  Seeing now the - of Peter boldness and of John...\n",
            "2310           ACT 9:34  And said to him - Peter Aeneas heals you Jesus...\n",
            "3314          JHN 13:36  Says to Him Simon Peter Lord where go You Answ...\n",
            "3321           JHN 13:8  Says to Him Peter No not shall You wash of me ...\n",
            "3442          JHN 18:11  Said therefore - Jesus - to Peter Put the swor...\n",
            "3446          JHN 18:15  Were following now - Jesus Simon Peter and the...\n",
            "3558           JHN 1:42  He led him to - Jesus Having looked at him - J...\n",
            "3584           JHN 20:2  She runs therefore and comes to Simon Peter an...\n",
            "3610          JHN 21:15  When therefore they had dined says - to Simon ...\n",
            "3612          JHN 21:17  He says to him the third time Simon [son] of J...\n",
            "3616          JHN 21:20  Having turned - Peter sees the disciple whom l...\n",
            "3617          JHN 21:21  Him therefore having seen - Peter says - to Je...\n",
            "3626           JHN 21:7  Says therefore the disciple that whom loved - ...\n",
            "4970            LUK 5:8  Having seen now Simon Peter fell at the knees ...\n",
            "5110           LUK 8:45  And said - Jesus Who [is] the [one] having tou...\n",
            "5153           LUK 9:33  And it came to pass in the departing of them f...\n",
            "5390          MAT 14:29  - And He said Come And having descended from t...\n",
            "5472           MAT 17:1  And after days six takes with [Him] - Jesus - ...\n",
            "5492           MAT 17:4  Answering now - Peter said - to Jesus Lord goo...\n",
            "5913          MAT 26:69  - And Peter was sitting outside in the court a...\n",
            "5920          MAT 26:75  And remembered - Peter the word of Jesus He ha...\n",
            "6190           MAT 8:14  And having come - Jesus to the house of Peter ...\n",
            "6485          MRK 14:67  and having seen - Peter warming himself having...\n",
            "6491          MRK 14:72  And immediately for the second time a rooster ...\n",
            "6894            MRK 9:2  And after days six takes along - Jesus - Peter...\n",
            "6925            MRK 9:5  And answering - Peter says - to Jesus Rabbi go...\u001b[0m\n",
            "Thought:\u001b[32;1m\u001b[1;3m I now know the final answer\n",
            "Final Answer: The verses that mention both 'Jesus' and 'Peter' are 1PE 1:1, 2PE 1:1, ACT 2:38, ACT 3:6, ACT 4:13, ACT 9:34, JHN 13:36, JHN 13:8, JHN 18:11, JHN 18:15, JHN 1:42, JHN 20:2, JHN 21:15, JHN 21:17, JHN 21:20, JHN 21:21, JHN 21:7, LUK 5:8, LUK 8:45, LUK 9:33, MAT 14:29, MAT 17:1, MAT 17:4, MAT 26:69, MAT 26:75, MAT 8:14, MRK 14:67, MRK 14:72, MRK 9:2, MRK 9:5.\u001b[0m\n",
            "\n",
            "\u001b[1m> Finished chain.\u001b[0m\n"
          ]
        },
        {
          "data": {
            "text/plain": [
              "\"The verses that mention both 'Jesus' and 'Peter' are 1PE 1:1, 2PE 1:1, ACT 2:38, ACT 3:6, ACT 4:13, ACT 9:34, JHN 13:36, JHN 13:8, JHN 18:11, JHN 18:15, JHN 1:42, JHN 20:2, JHN 21:15, JHN 21:17, JHN 21:20, JHN 21:21, JHN 21:7, LUK 5:8, LUK 8:45, LUK 9:33, MAT 14:29, MAT 17:1, MAT 17:4, MAT 26:69, MAT 26:75, MAT 8:14, MRK 14:67, MRK 14:72, MRK 9:2, MRK 9:5.\""
            ]
          },
          "execution_count": 19,
          "metadata": {},
          "output_type": "execute_result"
        }
      ],
      "source": [
        "list_building_prompt = \"\"\"If you group the dataframe by book_chapter_verse, \\\n",
        "list all the verses that mention 'Jesus', and then filter by all the verses \\\n",
        "that also mention 'Peter' in their aggregated gloss column. \\\n",
        "\"\"\"\n",
        "\n",
        "macula_greek_agent.run(list_building_prompt)"
      ]
    },
    {
      "attachments": {},
      "cell_type": "markdown",
      "metadata": {},
      "source": [
        "Great, so we were able to get the Agent to list out the findings, without actually having to write Python code to manipulate the Pandas dataframe ourselves!\n",
        "\n",
        "Now let's try adding an output formatting directive to the prompt, namely, \n",
        "- Output as CSV\n",
        "- Use a particular set of headings"
      ]
    },
    {
      "cell_type": "code",
      "execution_count": 24,
      "metadata": {},
      "outputs": [
        {
          "name": "stdout",
          "output_type": "stream",
          "text": [
            "\n",
            "\n",
            "\u001b[1m> Entering new AgentExecutor chain...\u001b[0m\n",
            "\u001b[32;1m\u001b[1;3m\n",
            "Thought: I need to group the dataframes by book_chapter_verse, then filter by the words 'Jesus' and 'Peter' in the gloss column.\n",
            "Action: python_repl_ast\n",
            "Action Input: df1.groupby('book_chapter_verse')['gloss'].agg(lambda x: ' '.join(x)).reset_index().loc[(df1['gloss'].str.contains('Jesus')) & (df1['gloss'].str.contains('Peter'))].to_csv('results.csv', index=False)\u001b[0m\n",
            "Observation: \u001b[36;1m\u001b[1;3mIndexingError: Unalignable boolean Series provided as indexer (index of the boolean Series and of the indexed object do not match).\u001b[0m\n",
            "Thought:\u001b[32;1m\u001b[1;3m I need to make sure the dataframes are aligned before I can filter.\n",
            "Action: python_repl_ast\n",
            "Action Input: df1.set_index('book_chapter_verse', inplace=True)\n",
            "df2.set_index('book_chapter_verse', inplace=True)\u001b[0m\n",
            "Observation: \u001b[36;1m\u001b[1;3m\u001b[0m\n",
            "Thought:\u001b[32;1m\u001b[1;3m Now I can filter by the words 'Jesus' and 'Peter' in the gloss column.\n",
            "Action: python_repl_ast\n",
            "Action Input: df1.groupby('book_chapter_verse')['gloss'].agg(lambda x: ' '.join(x)).reset_index().loc[(df1['gloss'].str.contains('Jesus')) & (df1['gloss'].str.contains('Peter'))].to_csv('results.csv', index=False)\u001b[0m\n",
            "Observation: \u001b[36;1m\u001b[1;3mIndexingError: Unalignable boolean Series provided as indexer (index of the boolean Series and of the indexed object do not match).\u001b[0m\n",
            "Thought:\u001b[32;1m\u001b[1;3m I need to make sure the dataframes are aligned before I can filter.\n",
            "Action: python_repl_ast\n",
            "Action Input: df1.reset_index(inplace=True)\n",
            "df2.reset_index(inplace=True)\u001b[0m\n",
            "Observation: \u001b[36;1m\u001b[1;3m\u001b[0m\n",
            "Thought:\u001b[32;1m\u001b[1;3m Now I can filter by the words 'Jesus' and 'Peter' in the gloss column.\n",
            "Action: python_repl_ast\n",
            "Action Input: df1.groupby('book_chapter_verse')['gloss'].agg(lambda x: ' '.join(x)).reset_index().loc[(df1['gloss'].str.contains('Jesus')) & (df1['gloss'].str.contains('Peter'))].to_csv('results.csv', index=False)\u001b[0m\n",
            "Observation: \u001b[36;1m\u001b[1;3m\u001b[0m\n",
            "Thought:\u001b[32;1m\u001b[1;3m I now know the final answer.\n",
            "Final Answer: The final answer is a CSV file with the columns 'book_chapter_verse', 'gloss' containing all the verses that mention 'Jesus' and 'Peter' in their aggregated gloss column.\u001b[0m\n",
            "\n",
            "\u001b[1m> Finished chain.\u001b[0m\n"
          ]
        },
        {
          "data": {
            "text/plain": [
              "\"The final answer is a CSV file with the columns 'book_chapter_verse', 'gloss' containing all the verses that mention 'Jesus' and 'Peter' in their aggregated gloss column.\""
            ]
          },
          "execution_count": 24,
          "metadata": {},
          "output_type": "execute_result"
        }
      ],
      "source": [
        "list_building_and_save_as_csv_prompt = list_building_prompt + \"\"\"\\\n",
        "Please return the results in a CSV with the following columns: \\\n",
        "'book_chapter_verse', 'gloss'. \\\n",
        "\"\"\"\n",
        "\n",
        "macula_greek_agent.run(list_building_and_save_as_csv_prompt)"
      ]
    },
    {
      "attachments": {},
      "cell_type": "markdown",
      "metadata": {},
      "source": [
        "Check the folder where this notebook is stored, and you should actually see a file called `result.csv` or `results.csv`, which contains the data we just extracted from the original dataframes, but we only had to query in natural language!"
      ]
    },
    {
      "cell_type": "code",
      "execution_count": 36,
      "metadata": {},
      "outputs": [
        {
          "name": "stdout",
          "output_type": "stream",
          "text": [
            "\n",
            "Thanks for being a Gradio user! If you have questions or feedback, please join our Discord server and chat with us: https://discord.gg/feTf9x3ZSB\n",
            "Running on local URL:  http://127.0.0.1:7860\n",
            "\n",
            "To create a public link, set `share=True` in `launch()`.\n"
          ]
        },
        {
          "data": {
            "text/html": [
              "<div><iframe src=\"http://127.0.0.1:7860/\" width=\"100%\" height=\"500\" allow=\"autoplay; camera; microphone; clipboard-read; clipboard-write;\" frameborder=\"0\" allowfullscreen></iframe></div>"
            ],
            "text/plain": [
              "<IPython.core.display.HTML object>"
            ]
          },
          "metadata": {},
          "output_type": "display_data"
        },
        {
          "name": "stdout",
          "output_type": "stream",
          "text": [
            "Keyboard interruption in main thread... closing server.\n"
          ]
        },
        {
          "data": {
            "text/plain": []
          },
          "execution_count": 36,
          "metadata": {},
          "output_type": "execute_result"
        }
      ],
      "source": [
        "import gradio as gr\n",
        "\n",
        "def qa_run(inputs):\n",
        "    return multi_df_agent.run(inputs)\n",
        "\n",
        "def lb_run(inputs):\n",
        "    return macula_greek_agent.run(inputs)\n",
        "\n",
        "def csv_run(inputs):\n",
        "    return macula_greek_agent.run(inputs)\n",
        "\n",
        "app = gr.Blocks(theme='bethecloud/storj_theme')\n",
        "\n",
        "with app:\n",
        "    gr.Markdown(\"## LangChain\")\n",
        "    gr.Markdown(\"A tool for querying and manipulating dataframes with OpenAI's GPT-3.\")\n",
        "    gr.Markdown(\"[Read More](https://medium.com/@langchain/using-openai-gpt-3-to-query-and-manipulate-dataframes-1f4f8f211e4d)\")\n",
        "\n",
        "    with gr.Tab(\"Question Answering\"):\n",
        "        qa_text = gr.Textbox(lines=5, label=\"Question\", value=\"How many unique domain labels are there (each domain label is a list)?\")\n",
        "        qa_button = gr.Button(\"Run\")\n",
        "        qa_output = gr.Textbox(label=\"Answer\", lines=5)\n",
        "        qa_button.click(\n",
        "            qa_run,\n",
        "            inputs=qa_text,\n",
        "            outputs=qa_output,\n",
        "        )\n",
        "    with gr.Tab(\"List Building\"):\n",
        "        lb_text = gr.Textbox(lines=5, label=\"Prompt\", value=list_building_prompt)\n",
        "        lb_button = gr.Button(\"Run\")\n",
        "        lb_output = gr.Textbox(label=\"List\", lines=5)\n",
        "        lb_button.click(\n",
        "            lb_run,\n",
        "            inputs=lb_text,\n",
        "            outputs=lb_output,\n",
        "        )\n",
        "    with gr.Tab(\"CSV Generation\"):\n",
        "        csv_text = gr.Textbox(lines=5, label=\"Prompt\", value=list_building_and_save_as_csv_prompt)\n",
        "        csv_button = gr.Button(\"Run\")\n",
        "        csv_output = gr.Textbox(label=\"CSV\", lines=5)\n",
        "        csv_button.click(\n",
        "            csv_run,\n",
        "            inputs=csv_text,\n",
        "            outputs=csv_output,\n",
        "        )\n",
        "\n",
        "app.launch(debug=True)\n"
      ]
    },
    {
      "cell_type": "code",
      "execution_count": null,
      "metadata": {},
      "outputs": [],
      "source": []
    }
  ],
  "metadata": {
    "colab": {
      "include_colab_link": true,
      "provenance": []
    },
    "kernelspec": {
      "display_name": "Python 3",
      "language": "python",
      "name": "python3"
    },
    "language_info": {
      "codemirror_mode": {
        "name": "ipython",
        "version": 3
      },
      "file_extension": ".py",
      "mimetype": "text/x-python",
      "name": "python",
      "nbconvert_exporter": "python",
      "pygments_lexer": "ipython3",
      "version": "3.10.11"
    },
    "orig_nbformat": 4
  },
  "nbformat": 4,
  "nbformat_minor": 0
}
