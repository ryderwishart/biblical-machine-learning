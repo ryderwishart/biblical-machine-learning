{
 "cells": [
  {
   "attachments": {},
   "cell_type": "markdown",
   "metadata": {},
   "source": [
    "# Use an LLM agent to query the macula atlas api \n",
    "\n",
    "Using curl, this can be accomplished with\n",
    "```\n",
    "curl 'https://macula-atlas-api-qa-25c5xl4maa-uk.a.run.app/graphql/' \\\n",
    "-H 'Content-Type: application/json' \\\n",
    "-H 'Accept: application/json' \\\n",
    "--compressed \\\n",
    "--data-binary '{\n",
    "  \"query\": \"query IntrospectionQuery { __schema { types { name kind fields { name type { name kind ofType { name kind } } } } } }\"\n",
    "}'\n",
    "```\n",
    "\n",
    "The following code does this in a more pythonic way, and reformats the output as yaml for easier LLM processing."
   ]
  },
  {
   "cell_type": "code",
   "execution_count": 8,
   "metadata": {},
   "outputs": [],
   "source": [
    "import requests\n",
    "\n",
    "import requests\n",
    "# import yaml # NOTE: for testing whether YAML schema is more efficient token-wise\n",
    "\n",
    "def get_macula_atlas_schema():\n",
    "    \"\"\"Query the macula atlas api for its schema\"\"\" \n",
    "    query = \"\"\"\n",
    "    query IntrospectionQuery {\n",
    "        __schema {\n",
    "            types {\n",
    "                name\n",
    "                kind\n",
    "                fields {\n",
    "                    name\n",
    "                    type {\n",
    "                        name\n",
    "                        kind\n",
    "                        ofType {\n",
    "                            name\n",
    "                            kind\n",
    "                        }\n",
    "                    }\n",
    "                }\n",
    "            }\n",
    "        }\n",
    "    }\"\"\"\n",
    "    endpoint = \"https://macula-atlas-api-qa-25c5xl4maa-uk.a.run.app/graphql/\"\n",
    "    request = requests.post(endpoint, json={'query': query})\n",
    "    json_output = request.json()\n",
    "\n",
    "    # Simplify the schema\n",
    "    simplified_schema = {}\n",
    "    for type_info in json_output['data']['__schema']['types']:\n",
    "        \n",
    "         if not type_info['name'].startswith('__'):\n",
    "            \n",
    "            fields = type_info.get('fields')\n",
    "            if fields is not None and fields is not []:\n",
    "                simplified_schema[type_info['name']] = {\n",
    "                    'kind': type_info['kind'],\n",
    "                    'fields': ', '.join([field['name'] for field in fields if not field['name'].startswith('__')])\n",
    "                }\n",
    "            else:\n",
    "                simplified_schema[type_info['name']] = {\n",
    "                    'kind': type_info['kind'],\n",
    "                }\n",
    "                \n",
    "    return simplified_schema\n",
    "\n",
    "    # Convert the simplified schema to YAML\n",
    "    # yaml_output = yaml.dump(simplified_schema, default_flow_style=False)\n",
    "\n",
    "    # return yaml_output\n",
    "\n"
   ]
  },
  {
   "cell_type": "code",
   "execution_count": 9,
   "metadata": {},
   "outputs": [
    {
     "name": "stdout",
     "output_type": "stream",
     "text": [
      "{'SiteQuery': {'kind': 'OBJECT', 'fields': 'passage, wordTokens, annotationSets, annotationFeatures, annotations'}, 'Passage': {'kind': 'OBJECT', 'fields': 'id, textContent, depth, ref, usfmRef, tokens, textualEdition, xmlContent'}, 'ID': {'kind': 'SCALAR'}, 'String': {'kind': 'SCALAR'}, 'Int': {'kind': 'SCALAR'}, 'WordToken': {'kind': 'OBJECT', 'fields': 'id, value, verse, annotationInstances, data, lemma, maculaId, ref, textualEdition, wordValue, xmlId'}, 'OffsetPaginationInput': {'kind': 'INPUT_OBJECT'}, 'Annotation': {'kind': 'OBJECT', 'fields': 'id, label, depth, data, uri, annotationSet, feature, tokens'}, 'JSON': {'kind': 'SCALAR'}, 'AnnotationSet': {'kind': 'OBJECT', 'fields': 'id, label, data, uri, features'}, 'AnnotationFeature': {'kind': 'OBJECT', 'fields': 'id, label, data, uri, annotationSet, instances'}, 'AnnotationFilter': {'kind': 'INPUT_OBJECT'}, 'StrFilterLookup': {'kind': 'INPUT_OBJECT'}, 'Boolean': {'kind': 'SCALAR'}, 'AnnotationFeatureFilter': {'kind': 'INPUT_OBJECT'}, 'DjangoModelUriFilterInput': {'kind': 'INPUT_OBJECT'}, 'WordTokenFilter': {'kind': 'INPUT_OBJECT'}, 'PassageFilter': {'kind': 'INPUT_OBJECT'}, 'AnnotationSetFilter': {'kind': 'INPUT_OBJECT'}}\n"
     ]
    }
   ],
   "source": [
    "print(get_macula_atlas_schema())"
   ]
  },
  {
   "cell_type": "code",
   "execution_count": 10,
   "metadata": {},
   "outputs": [],
   "source": [
    "import os\n",
    "import getpass\n",
    "secret_key = getpass.getpass('Enter OpenAI secret key: ')\n",
    "os.environ['OPENAI_API_KEY'] = secret_key"
   ]
  },
  {
   "cell_type": "code",
   "execution_count": 5,
   "metadata": {},
   "outputs": [
    {
     "name": "stdout",
     "output_type": "stream",
     "text": [
      "Requirement already satisfied: httpx in /opt/homebrew/lib/python3.10/site-packages (0.23.3)\n",
      "Collecting gql\n",
      "  Using cached gql-3.4.1-py2.py3-none-any.whl (65 kB)\n",
      "Requirement already satisfied: certifi in /opt/homebrew/lib/python3.10/site-packages (from httpx) (2023.5.7)\n",
      "Requirement already satisfied: httpcore<0.17.0,>=0.15.0 in /opt/homebrew/lib/python3.10/site-packages (from httpx) (0.16.3)\n",
      "Requirement already satisfied: rfc3986[idna2008]<2,>=1.3 in /opt/homebrew/lib/python3.10/site-packages (from httpx) (1.5.0)\n",
      "Requirement already satisfied: sniffio in /opt/homebrew/lib/python3.10/site-packages (from httpx) (1.3.0)\n",
      "Collecting graphql-core<3.3,>=3.2 (from gql)\n",
      "  Using cached graphql_core-3.2.3-py3-none-any.whl (202 kB)\n",
      "Requirement already satisfied: yarl<2.0,>=1.6 in /opt/homebrew/lib/python3.10/site-packages (from gql) (1.9.2)\n",
      "Requirement already satisfied: backoff<3.0,>=1.11.1 in /opt/homebrew/lib/python3.10/site-packages (from gql) (2.2.1)\n",
      "Requirement already satisfied: h11<0.15,>=0.13 in /opt/homebrew/lib/python3.10/site-packages (from httpcore<0.17.0,>=0.15.0->httpx) (0.14.0)\n",
      "Requirement already satisfied: anyio<5.0,>=3.0 in /opt/homebrew/lib/python3.10/site-packages (from httpcore<0.17.0,>=0.15.0->httpx) (3.6.2)\n",
      "Requirement already satisfied: idna in /opt/homebrew/lib/python3.10/site-packages (from rfc3986[idna2008]<2,>=1.3->httpx) (3.4)\n",
      "Requirement already satisfied: multidict>=4.0 in /opt/homebrew/lib/python3.10/site-packages (from yarl<2.0,>=1.6->gql) (6.0.4)\n",
      "Installing collected packages: graphql-core, gql\n",
      "Successfully installed gql-3.4.1 graphql-core-3.2.3\n"
     ]
    }
   ],
   "source": [
    "!pip3.10 install httpx gql"
   ]
  },
  {
   "cell_type": "code",
   "execution_count": 13,
   "metadata": {},
   "outputs": [],
   "source": [
    "from langchain import OpenAI\n",
    "from langchain.agents import load_tools, initialize_agent, AgentType\n",
    "from langchain.utilities import GraphQLAPIWrapper\n",
    "\n",
    "llm = OpenAI(temperature=0)\n",
    "\n",
    "tools = load_tools(\n",
    "    [\"graphql\"],\n",
    "    graphql_endpoint=\"https://macula-atlas-api-qa-25c5xl4maa-uk.a.run.app/graphql/\",\n",
    "    llm=llm,\n",
    ")\n",
    "\n",
    "agent = initialize_agent(\n",
    "    tools, llm, agent=AgentType.ZERO_SHOT_REACT_DESCRIPTION, verbose=True\n",
    ")"
   ]
  },
  {
   "cell_type": "code",
   "execution_count": 17,
   "metadata": {},
   "outputs": [
    {
     "name": "stderr",
     "output_type": "stream",
     "text": [
      "Error in on_chain_start callback: 'name'\n"
     ]
    },
    {
     "name": "stdout",
     "output_type": "stream",
     "text": [
      "\u001b[32;1m\u001b[1;3m I need to query the graphql endpoint to get the discourse features of MAT 5:3\n",
      "Action: query_graphql\n",
      "Action Input: query {\n",
      "  annotationFeatures(filters: {reference: \"MAT 5:3\"}) {\n",
      "    label\n",
      "    uri\n",
      "    instances(filters: {reference: \"MAT 5:3\"}) {\n",
      "      uri\n",
      "      tokens {\n",
      "        ref\n",
      "      }\n",
      "    }\n",
      "  }\n",
      "}\u001b[0m\n",
      "Observation: \u001b[36;1m\u001b[1;3m\"{\\n  \\\"annotationFeatures\\\": [\\n    {\\n      \\\"label\\\": \\\"Main clauses\\\",\\n      \\\"uri\\\": \\\"https://github.com/biblicalhumanities/levinsohn:main-clauses\\\",\\n      \\\"instances\\\": [\\n        {\\n          \\\"uri\\\": \\\"https://github.com/biblicalhumanities/levinsohn:main-clauses.320\\\",\\n          \\\"tokens\\\": [\\n            {\\n              \\\"ref\\\": \\\"MAT 5:3!1\\\"\\n            },\\n            {\\n              \\\"ref\\\": \\\"MAT 5:3!2\\\"\\n            },\\n            {\\n              \\\"ref\\\": \\\"MAT 5:3!3\\\"\\n            },\\n            {\\n              \\\"ref\\\": \\\"MAT 5:3!4\\\"\\n            },\\n            {\\n              \\\"ref\\\": \\\"MAT 5:3!5\\\"\\n            }\\n          ]\\n        },\\n        {\\n          \\\"uri\\\": \\\"https://github.com/biblicalhumanities/levinsohn:main-clauses.321\\\",\\n          \\\"tokens\\\": [\\n            {\\n              \\\"ref\\\": \\\"MAT 5:3!6\\\"\\n            },\\n            {\\n              \\\"ref\\\": \\\"MAT 5:3!7\\\"\\n            },\\n            {\\n              \\\"ref\\\": \\\"MAT 5:3!8\\\"\\n            },\\n            {\\n              \\\"ref\\\": \\\"MAT 5:3!9\\\"\\n            },\\n            {\\n              \\\"ref\\\": \\\"MAT 5:3!10\\\"\\n            },\\n            {\\n              \\\"ref\\\": \\\"MAT 5:3!11\\\"\\n            },\\n            {\\n              \\\"ref\\\": \\\"MAT 5:3!12\\\"\\n            }\\n          ]\\n        }\\n      ]\\n    },\\n    {\\n      \\\"label\\\": \\\"annotations\\\",\\n      \\\"uri\\\": \\\"https://github.com/biblicalhumanities/levinsohn:annotations\\\",\\n      \\\"instances\\\": [\\n        {\\n          \\\"uri\\\": \\\"https://github.com/biblicalhumanities/levinsohn:annotations.11\\\",\\n          \\\"tokens\\\": [\\n            {\\n              \\\"ref\\\": \\\"MAT 5:3!1\\\"\\n            }\\n          ]\\n        }\\n      ]\\n    }\\n  ]\\n}\"\u001b[0m\n",
      "Thought:\u001b[32;1m\u001b[1;3m I now know the discourse features of MAT 5:3\n",
      "Final Answer: The discourse features of MAT 5:3 are Main clauses and annotations.\u001b[0m\n",
      "\n",
      "\u001b[1m> Finished chain.\u001b[0m\n"
     ]
    },
    {
     "data": {
      "text/plain": [
       "'The discourse features of MAT 5:3 are Main clauses and annotations.'"
      ]
     },
     "execution_count": 17,
     "metadata": {},
     "output_type": "execute_result"
    }
   ],
   "source": [
    "graphql_fields = get_macula_atlas_schema()\n",
    "\n",
    "query = \"What are the discourse features of MAT 5:3?\"\n",
    "\n",
    "examples = \"\"\"\n",
    "query = query AnnotationFeatures($filters1: AnnotationFeatureFilter, $filters2: AnnotationFilter) {\n",
    "  annotationFeatures(filters: $filters1) {\n",
    "   label\n",
    "    uri\n",
    "    instances(filters: $filters2) {\n",
    "      uri\n",
    "      tokens {\n",
    "        ref\n",
    "      }\n",
    "    }\n",
    "  }\n",
    "}\n",
    "\n",
    "variables = {\n",
    "  \"filters1\": {\n",
    "    \"reference\": \"2CO 8:2\"\n",
    "  },\n",
    "  \"filters2\": {\n",
    "    \"reference\": \"2CO 8:2\"\n",
    "  }\n",
    "}\n",
    "\"\"\"\n",
    "\n",
    "prompt = f\"\"\"Here is an example query for the graphql endpoint described below:\n",
    "{examples}\n",
    "\n",
    "Answer the following question: {query} in the graphql database that has this schema {graphql_fields}\"\"\"\n",
    "\n",
    "agent.run(prompt)"
   ]
  },
  {
   "cell_type": "code",
   "execution_count": null,
   "metadata": {},
   "outputs": [],
   "source": []
  }
 ],
 "metadata": {
  "kernelspec": {
   "display_name": "Python 3",
   "language": "python",
   "name": "python3"
  },
  "language_info": {
   "codemirror_mode": {
    "name": "ipython",
    "version": 3
   },
   "file_extension": ".py",
   "mimetype": "text/x-python",
   "name": "python",
   "nbconvert_exporter": "python",
   "pygments_lexer": "ipython3",
   "version": "3.10.11"
  },
  "orig_nbformat": 4
 },
 "nbformat": 4,
 "nbformat_minor": 2
}
