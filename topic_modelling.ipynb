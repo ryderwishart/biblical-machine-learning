{
  "cells": [
    {
      "cell_type": "markdown",
      "metadata": {
        "id": "view-in-github",
        "colab_type": "text"
      },
      "source": [
        "<a href=\"https://colab.research.google.com/github/ryderwishart/biblical-machine-learning/blob/main/topic_modelling.ipynb\" target=\"_parent\"><img src=\"https://colab.research.google.com/assets/colab-badge.svg\" alt=\"Open In Colab\"/></a>"
      ]
    },
    {
      "cell_type": "code",
      "execution_count": null,
      "metadata": {
        "colab": {
          "base_uri": "https://localhost:8080/"
        },
        "id": "BQyt8aMwcd3j",
        "outputId": "f25cee91-0ff8-484a-de3a-a452564b35ec"
      },
      "outputs": [
        {
          "output_type": "stream",
          "name": "stdout",
          "text": [
            "Looking in indexes: https://pypi.org/simple, https://us-python.pkg.dev/colab-wheels/public/simple/\n",
            "Requirement already satisfied: pyLDAvis in /usr/local/lib/python3.9/dist-packages (3.4.0)\n",
            "Requirement already satisfied: pandas>=1.3.4 in /usr/local/lib/python3.9/dist-packages (from pyLDAvis) (1.4.4)\n",
            "Requirement already satisfied: scipy in /usr/local/lib/python3.9/dist-packages (from pyLDAvis) (1.10.1)\n",
            "Requirement already satisfied: setuptools in /usr/local/lib/python3.9/dist-packages (from pyLDAvis) (63.4.3)\n",
            "Requirement already satisfied: gensim in /usr/local/lib/python3.9/dist-packages (from pyLDAvis) (4.3.0)\n",
            "Requirement already satisfied: funcy in /usr/local/lib/python3.9/dist-packages (from pyLDAvis) (1.18)\n",
            "Requirement already satisfied: joblib>=1.2.0 in /usr/local/lib/python3.9/dist-packages (from pyLDAvis) (1.2.0)\n",
            "Requirement already satisfied: numexpr in /usr/local/lib/python3.9/dist-packages (from pyLDAvis) (2.8.4)\n",
            "Requirement already satisfied: scikit-learn>=1.0.0 in /usr/local/lib/python3.9/dist-packages (from pyLDAvis) (1.2.2)\n",
            "Requirement already satisfied: jinja2 in /usr/local/lib/python3.9/dist-packages (from pyLDAvis) (3.1.2)\n",
            "Requirement already satisfied: numpy>=1.22.0 in /usr/local/lib/python3.9/dist-packages (from pyLDAvis) (1.22.4)\n",
            "Requirement already satisfied: pytz>=2020.1 in /usr/local/lib/python3.9/dist-packages (from pandas>=1.3.4->pyLDAvis) (2022.7.1)\n",
            "Requirement already satisfied: python-dateutil>=2.8.1 in /usr/local/lib/python3.9/dist-packages (from pandas>=1.3.4->pyLDAvis) (2.8.2)\n",
            "Requirement already satisfied: threadpoolctl>=2.0.0 in /usr/local/lib/python3.9/dist-packages (from scikit-learn>=1.0.0->pyLDAvis) (3.1.0)\n",
            "Requirement already satisfied: smart-open>=1.8.1 in /usr/local/lib/python3.9/dist-packages (from gensim->pyLDAvis) (6.3.0)\n",
            "Requirement already satisfied: FuzzyTM>=0.4.0 in /usr/local/lib/python3.9/dist-packages (from gensim->pyLDAvis) (2.0.5)\n",
            "Requirement already satisfied: MarkupSafe>=2.0 in /usr/local/lib/python3.9/dist-packages (from jinja2->pyLDAvis) (2.1.2)\n",
            "Requirement already satisfied: pyfume in /usr/local/lib/python3.9/dist-packages (from FuzzyTM>=0.4.0->gensim->pyLDAvis) (0.2.25)\n",
            "Requirement already satisfied: six>=1.5 in /usr/local/lib/python3.9/dist-packages (from python-dateutil>=2.8.1->pandas>=1.3.4->pyLDAvis) (1.15.0)\n",
            "Requirement already satisfied: fst-pso in /usr/local/lib/python3.9/dist-packages (from pyfume->FuzzyTM>=0.4.0->gensim->pyLDAvis) (1.8.1)\n",
            "Requirement already satisfied: simpful in /usr/local/lib/python3.9/dist-packages (from pyfume->FuzzyTM>=0.4.0->gensim->pyLDAvis) (2.10.0)\n",
            "Requirement already satisfied: miniful in /usr/local/lib/python3.9/dist-packages (from fst-pso->pyfume->FuzzyTM>=0.4.0->gensim->pyLDAvis) (0.0.6)\n",
            "Requirement already satisfied: requests in /usr/local/lib/python3.9/dist-packages (from simpful->pyfume->FuzzyTM>=0.4.0->gensim->pyLDAvis) (2.25.1)\n",
            "Requirement already satisfied: urllib3<1.27,>=1.21.1 in /usr/local/lib/python3.9/dist-packages (from requests->simpful->pyfume->FuzzyTM>=0.4.0->gensim->pyLDAvis) (1.26.15)\n",
            "Requirement already satisfied: chardet<5,>=3.0.2 in /usr/local/lib/python3.9/dist-packages (from requests->simpful->pyfume->FuzzyTM>=0.4.0->gensim->pyLDAvis) (4.0.0)\n",
            "Requirement already satisfied: certifi>=2017.4.17 in /usr/local/lib/python3.9/dist-packages (from requests->simpful->pyfume->FuzzyTM>=0.4.0->gensim->pyLDAvis) (2022.12.7)\n",
            "Requirement already satisfied: idna<3,>=2.5 in /usr/local/lib/python3.9/dist-packages (from requests->simpful->pyfume->FuzzyTM>=0.4.0->gensim->pyLDAvis) (2.10)\n",
            "Looking in indexes: https://pypi.org/simple, https://us-python.pkg.dev/colab-wheels/public/simple/\n",
            "Requirement already satisfied: gensim==4.3.0 in /usr/local/lib/python3.9/dist-packages (4.3.0)\n",
            "Requirement already satisfied: scipy>=1.7.0 in /usr/local/lib/python3.9/dist-packages (from gensim==4.3.0) (1.10.1)\n",
            "Requirement already satisfied: numpy>=1.18.5 in /usr/local/lib/python3.9/dist-packages (from gensim==4.3.0) (1.22.4)\n",
            "Requirement already satisfied: smart-open>=1.8.1 in /usr/local/lib/python3.9/dist-packages (from gensim==4.3.0) (6.3.0)\n",
            "Requirement already satisfied: FuzzyTM>=0.4.0 in /usr/local/lib/python3.9/dist-packages (from gensim==4.3.0) (2.0.5)\n",
            "Requirement already satisfied: pyfume in /usr/local/lib/python3.9/dist-packages (from FuzzyTM>=0.4.0->gensim==4.3.0) (0.2.25)\n",
            "Requirement already satisfied: pandas in /usr/local/lib/python3.9/dist-packages (from FuzzyTM>=0.4.0->gensim==4.3.0) (1.4.4)\n",
            "Requirement already satisfied: pytz>=2020.1 in /usr/local/lib/python3.9/dist-packages (from pandas->FuzzyTM>=0.4.0->gensim==4.3.0) (2022.7.1)\n",
            "Requirement already satisfied: python-dateutil>=2.8.1 in /usr/local/lib/python3.9/dist-packages (from pandas->FuzzyTM>=0.4.0->gensim==4.3.0) (2.8.2)\n",
            "Requirement already satisfied: fst-pso in /usr/local/lib/python3.9/dist-packages (from pyfume->FuzzyTM>=0.4.0->gensim==4.3.0) (1.8.1)\n",
            "Requirement already satisfied: simpful in /usr/local/lib/python3.9/dist-packages (from pyfume->FuzzyTM>=0.4.0->gensim==4.3.0) (2.10.0)\n",
            "Requirement already satisfied: six>=1.5 in /usr/local/lib/python3.9/dist-packages (from python-dateutil>=2.8.1->pandas->FuzzyTM>=0.4.0->gensim==4.3.0) (1.15.0)\n",
            "Requirement already satisfied: miniful in /usr/local/lib/python3.9/dist-packages (from fst-pso->pyfume->FuzzyTM>=0.4.0->gensim==4.3.0) (0.0.6)\n",
            "Requirement already satisfied: requests in /usr/local/lib/python3.9/dist-packages (from simpful->pyfume->FuzzyTM>=0.4.0->gensim==4.3.0) (2.25.1)\n",
            "Requirement already satisfied: chardet<5,>=3.0.2 in /usr/local/lib/python3.9/dist-packages (from requests->simpful->pyfume->FuzzyTM>=0.4.0->gensim==4.3.0) (4.0.0)\n",
            "Requirement already satisfied: idna<3,>=2.5 in /usr/local/lib/python3.9/dist-packages (from requests->simpful->pyfume->FuzzyTM>=0.4.0->gensim==4.3.0) (2.10)\n",
            "Requirement already satisfied: certifi>=2017.4.17 in /usr/local/lib/python3.9/dist-packages (from requests->simpful->pyfume->FuzzyTM>=0.4.0->gensim==4.3.0) (2022.12.7)\n",
            "Requirement already satisfied: urllib3<1.27,>=1.21.1 in /usr/local/lib/python3.9/dist-packages (from requests->simpful->pyfume->FuzzyTM>=0.4.0->gensim==4.3.0) (1.26.15)\n"
          ]
        }
      ],
      "source": [
        "# !pip install pyLDAvis\n",
        "# !pip install gensim==4.3.0"
      ]
    },
    {
      "cell_type": "markdown",
      "metadata": {
        "id": "iAtVZHrlco6O"
      },
      "source": [
        "## Imports"
      ]
    },
    {
      "cell_type": "code",
      "execution_count": null,
      "metadata": {
        "id": "0HMGZN75cr2M"
      },
      "outputs": [],
      "source": [
        "import gensim\n",
        "from gensim import corpora\n",
        "from gensim.models import CoherenceModel, LdaModel\n",
        "from gensim.models import EnsembleLda\n",
        "import pyLDAvis.gensim_models as gensimvis\n",
        "import pyLDAvis\n",
        "import os\n",
        "import codecs"
      ]
    },
    {
      "cell_type": "markdown",
      "metadata": {
        "id": "jf9ufdZ9eZ-k"
      },
      "source": [
        "## Build Corpus"
      ]
    },
    {
      "cell_type": "code",
      "source": [
        "import os\n",
        "os.listdir('ancient-greek-word2vec')"
      ],
      "metadata": {
        "colab": {
          "base_uri": "https://localhost:8080/"
        },
        "id": "o5HANV0s762_",
        "outputId": "1be09983-c0c2-46d3-b224-9b07d11c1a18"
      },
      "execution_count": null,
      "outputs": [
        {
          "output_type": "execute_result",
          "data": {
            "text/plain": [
              "['.git',\n",
              " 'query_vector_space_models.ipynb',\n",
              " 'data',\n",
              " 'build_greek_fasttext_model.ipynb',\n",
              " '.gitignore',\n",
              " 'build_greek_w2v_model.ipynb',\n",
              " 'README.md',\n",
              " 'LICENSE',\n",
              " 'models']"
            ]
          },
          "metadata": {},
          "execution_count": 31
        }
      ]
    },
    {
      "cell_type": "code",
      "execution_count": null,
      "metadata": {
        "id": "CtUz3kg5cuFe",
        "colab": {
          "base_uri": "https://localhost:8080/"
        },
        "outputId": "3c3b1606-6ce7-40fd-b6cf-69a597ab608a"
      },
      "outputs": [
        {
          "output_type": "stream",
          "name": "stdout",
          "text": [
            "Cloning into 'ancient-greek-word2vec'...\n",
            "remote: Enumerating objects: 32795, done.\u001b[K\n",
            "remote: Counting objects: 100% (914/914), done.\u001b[K\n",
            "remote: Compressing objects: 100% (885/885), done.\u001b[K\n",
            "remote: Total 32795 (delta 27), reused 910 (delta 26), pack-reused 31881\u001b[K\n",
            "Receiving objects: 100% (32795/32795), 308.04 MiB | 22.80 MiB/s, done.\n",
            "Resolving deltas: 100% (107/107), done.\n",
            "Updating files: 100% (35227/35227), done.\n"
          ]
        }
      ],
      "source": [
        "!git clone https://github.com/ryderwishart/ancient-greek-word2vec.git"
      ]
    },
    {
      "cell_type": "code",
      "source": [
        "corpus_directories = [path for path in os.listdir('ancient-greek-word2vec/data') if not(path.startswith('.'))]\n",
        "print('Directories found in data folder:', corpus_directories)"
      ],
      "metadata": {
        "colab": {
          "base_uri": "https://localhost:8080/"
        },
        "id": "zfcFUhrl87Xy",
        "outputId": "b4a34eff-9ebd-4d5b-c8bd-e94d292c0098"
      },
      "execution_count": null,
      "outputs": [
        {
          "output_type": "stream",
          "name": "stdout",
          "text": [
            "Directories found in data folder: ['papyri', 'corpus']\n"
          ]
        }
      ]
    },
    {
      "cell_type": "code",
      "source": [
        "force_lowercase = True\n",
        "use_lemma_disambiguation = False # Some lemmas are indicated with a numeric suffix (e.g., 'ὅτι2')\n",
        "\n",
        "def tokenize(string):\n",
        "    output = string\n",
        "    if use_lemma_disambiguation:\n",
        "        pass\n",
        "    else:\n",
        "        # Filter numeric digits from token\n",
        "        output = ''.join(filter(lambda x: not x.isdigit(), string))\n",
        "    if force_lowercase:\n",
        "        return [token.lower() for token in output.split()]\n",
        "    else:\n",
        "        return output.split()\n",
        "    \n",
        "class MySentences(object):\n",
        "    def __iter__(self):\n",
        "        for corpus_dir in corpus_directories: # the directories where the text files are.\n",
        "            for file in os.listdir(f'ancient-greek-word2vec/data/{corpus_dir}'): \n",
        "                if file.endswith(\".txt\"):\n",
        "                    for line in codecs.open(f'ancient-greek-word2vec/data/{corpus_dir}/{file}', 'r+'):\n",
        "                        tokens = tokenize(line)\n",
        "                        if len(tokens) > 0:\n",
        "                            yield tokens"
      ],
      "metadata": {
        "id": "OhdB7-b_8pyD"
      },
      "execution_count": null,
      "outputs": []
    },
    {
      "cell_type": "code",
      "execution_count": null,
      "metadata": {
        "id": "LvnfUg4khUfH"
      },
      "outputs": [],
      "source": [
        "# Instantiate corpus reader\n",
        "corpus = MySentences()\n",
        "\n",
        "# Build dictionary\n",
        "dictionary = corpora.Dictionary(corpus)\n",
        "# dictionary.filter_extremes(no_below=20, no_above=0.5)"
      ]
    },
    {
      "cell_type": "markdown",
      "metadata": {
        "id": "kicH2ZcghUfH"
      },
      "source": [
        "## Train LDA Model"
      ]
    },
    {
      "cell_type": "code",
      "execution_count": null,
      "metadata": {
        "colab": {
          "base_uri": "https://localhost:8080/"
        },
        "id": "j-pbQUqphUfI",
        "outputId": "16c1bdcd-dbbe-41f2-d176-8885cd8a53f8"
      },
      "outputs": [
        {
          "output_type": "stream",
          "name": "stderr",
          "text": [
            "WARNING:gensim.models.ldamodel:input corpus stream has no len(); counting documents\n",
            "WARNING:gensim.models.ldamodel:input corpus stream has no len(); counting documents\n",
            "WARNING:gensim.models.ldamodel:input corpus stream has no len(); counting documents\n",
            "WARNING:gensim.models.ldamodel:input corpus stream has no len(); counting documents\n",
            "Process Process-21:\n",
            "Traceback (most recent call last):\n",
            "  File \"/usr/lib/python3.9/multiprocessing/process.py\", line 315, in _bootstrap\n",
            "    self.run()\n",
            "  File \"/usr/lib/python3.9/multiprocessing/process.py\", line 108, in run\n",
            "    self._target(*self._args, **self._kwargs)\n",
            "  File \"/usr/local/lib/python3.9/dist-packages/gensim/models/ensemblelda.py\", line 437, in _generate_topic_models_worker\n",
            "    _generate_topic_models(ensemble=ensemble, num_models=num_models, random_states=random_states)\n",
            "  File \"/usr/local/lib/python3.9/dist-packages/gensim/models/ensemblelda.py\", line 412, in _generate_topic_models\n",
            "    tm = ensemble.get_topic_model_class()(**kwargs)\n",
            "  File \"/usr/local/lib/python3.9/dist-packages/gensim/models/ldamodel.py\", line 521, in __init__\n",
            "    self.update(corpus, chunks_as_numpy=use_numpy)\n",
            "  File \"/usr/local/lib/python3.9/dist-packages/gensim/models/ldamodel.py\", line 1006, in update\n",
            "    gammat = self.do_estep(chunk, other)\n",
            "  File \"/usr/local/lib/python3.9/dist-packages/gensim/models/ldamodel.py\", line 768, in do_estep\n",
            "    gamma, sstats = self.inference(chunk, collect_sstats=True)\n",
            "  File \"/usr/local/lib/python3.9/dist-packages/gensim/models/ldamodel.py\", line 699, in inference\n",
            "    ids = [int(idx) for idx, _ in doc]\n",
            "  File \"/usr/local/lib/python3.9/dist-packages/gensim/models/ldamodel.py\", line 699, in <listcomp>\n",
            "    ids = [int(idx) for idx, _ in doc]\n",
            "ValueError: too many values to unpack (expected 2)\n",
            "Process Process-20:\n",
            "Traceback (most recent call last):\n",
            "  File \"/usr/lib/python3.9/multiprocessing/process.py\", line 315, in _bootstrap\n",
            "    self.run()\n",
            "  File \"/usr/lib/python3.9/multiprocessing/process.py\", line 108, in run\n",
            "    self._target(*self._args, **self._kwargs)\n",
            "  File \"/usr/local/lib/python3.9/dist-packages/gensim/models/ensemblelda.py\", line 437, in _generate_topic_models_worker\n",
            "    _generate_topic_models(ensemble=ensemble, num_models=num_models, random_states=random_states)\n",
            "  File \"/usr/local/lib/python3.9/dist-packages/gensim/models/ensemblelda.py\", line 412, in _generate_topic_models\n",
            "    tm = ensemble.get_topic_model_class()(**kwargs)\n",
            "  File \"/usr/local/lib/python3.9/dist-packages/gensim/models/ldamodel.py\", line 521, in __init__\n",
            "    self.update(corpus, chunks_as_numpy=use_numpy)\n",
            "  File \"/usr/local/lib/python3.9/dist-packages/gensim/models/ldamodel.py\", line 1006, in update\n",
            "    gammat = self.do_estep(chunk, other)\n",
            "  File \"/usr/local/lib/python3.9/dist-packages/gensim/models/ldamodel.py\", line 768, in do_estep\n",
            "    gamma, sstats = self.inference(chunk, collect_sstats=True)\n",
            "  File \"/usr/local/lib/python3.9/dist-packages/gensim/models/ldamodel.py\", line 699, in inference\n",
            "    ids = [int(idx) for idx, _ in doc]\n",
            "  File \"/usr/local/lib/python3.9/dist-packages/gensim/models/ldamodel.py\", line 699, in <listcomp>\n",
            "    ids = [int(idx) for idx, _ in doc]\n",
            "ValueError: too many values to unpack (expected 2)\n",
            "Process Process-22:\n",
            "Traceback (most recent call last):\n",
            "  File \"/usr/lib/python3.9/multiprocessing/process.py\", line 315, in _bootstrap\n",
            "    self.run()\n",
            "  File \"/usr/lib/python3.9/multiprocessing/process.py\", line 108, in run\n",
            "    self._target(*self._args, **self._kwargs)\n",
            "  File \"/usr/local/lib/python3.9/dist-packages/gensim/models/ensemblelda.py\", line 437, in _generate_topic_models_worker\n",
            "    _generate_topic_models(ensemble=ensemble, num_models=num_models, random_states=random_states)\n",
            "  File \"/usr/local/lib/python3.9/dist-packages/gensim/models/ensemblelda.py\", line 412, in _generate_topic_models\n",
            "    tm = ensemble.get_topic_model_class()(**kwargs)\n",
            "  File \"/usr/local/lib/python3.9/dist-packages/gensim/models/ldamodel.py\", line 521, in __init__\n",
            "    self.update(corpus, chunks_as_numpy=use_numpy)\n",
            "  File \"/usr/local/lib/python3.9/dist-packages/gensim/models/ldamodel.py\", line 1006, in update\n",
            "    gammat = self.do_estep(chunk, other)\n",
            "  File \"/usr/local/lib/python3.9/dist-packages/gensim/models/ldamodel.py\", line 768, in do_estep\n",
            "    gamma, sstats = self.inference(chunk, collect_sstats=True)\n",
            "  File \"/usr/local/lib/python3.9/dist-packages/gensim/models/ldamodel.py\", line 699, in inference\n",
            "    ids = [int(idx) for idx, _ in doc]\n",
            "  File \"/usr/local/lib/python3.9/dist-packages/gensim/models/ldamodel.py\", line 699, in <listcomp>\n",
            "    ids = [int(idx) for idx, _ in doc]\n",
            "ValueError: too many values to unpack (expected 2)\n",
            "Process Process-19:\n",
            "Traceback (most recent call last):\n",
            "  File \"/usr/lib/python3.9/multiprocessing/process.py\", line 315, in _bootstrap\n",
            "    self.run()\n",
            "  File \"/usr/lib/python3.9/multiprocessing/process.py\", line 108, in run\n",
            "    self._target(*self._args, **self._kwargs)\n",
            "  File \"/usr/local/lib/python3.9/dist-packages/gensim/models/ensemblelda.py\", line 437, in _generate_topic_models_worker\n",
            "    _generate_topic_models(ensemble=ensemble, num_models=num_models, random_states=random_states)\n",
            "  File \"/usr/local/lib/python3.9/dist-packages/gensim/models/ensemblelda.py\", line 412, in _generate_topic_models\n",
            "    tm = ensemble.get_topic_model_class()(**kwargs)\n",
            "  File \"/usr/local/lib/python3.9/dist-packages/gensim/models/ldamodel.py\", line 521, in __init__\n",
            "    self.update(corpus, chunks_as_numpy=use_numpy)\n",
            "  File \"/usr/local/lib/python3.9/dist-packages/gensim/models/ldamodel.py\", line 1006, in update\n",
            "    gammat = self.do_estep(chunk, other)\n",
            "  File \"/usr/local/lib/python3.9/dist-packages/gensim/models/ldamodel.py\", line 768, in do_estep\n",
            "    gamma, sstats = self.inference(chunk, collect_sstats=True)\n",
            "  File \"/usr/local/lib/python3.9/dist-packages/gensim/models/ldamodel.py\", line 699, in inference\n",
            "    ids = [int(idx) for idx, _ in doc]\n",
            "  File \"/usr/local/lib/python3.9/dist-packages/gensim/models/ldamodel.py\", line 699, in <listcomp>\n",
            "    ids = [int(idx) for idx, _ in doc]\n",
            "ValueError: too many values to unpack (expected 2)\n"
          ]
        }
      ],
      "source": [
        "ensemble_workers = 4\n",
        "num_models = 8\n",
        "distance_workers = 4 # Note from Gensim: After training all the models, some distance computations are required which can take quite some time as well. You can speed this up by using workers for that as well.\n",
        "num_topics = 10\n",
        "passes = 20\n",
        "\n",
        "ensemble = EnsembleLda(\n",
        "    corpus=corpus,\n",
        "    id2word=dictionary,\n",
        "    num_topics=num_topics,\n",
        "    passes=passes,\n",
        "    num_models=num_models,\n",
        "    topic_model_class=LdaModel,\n",
        "    ensemble_workers=ensemble_workers,\n",
        "    distance_workers=distance_workers\n",
        ")\n",
        "\n",
        "print(len(ensemble.ttda))\n",
        "print(len(ensemble.get_topics()))"
      ]
    },
    {
      "cell_type": "markdown",
      "source": [
        "Since we trained an ensemble model, we need to use the `generate_gensim_representation()` method to return an `LdaModel` class as the visualization library is expecting."
      ],
      "metadata": {
        "id": "6SjaIHlD58X1"
      }
    },
    {
      "cell_type": "code",
      "source": [
        "vis_model = ensemble.generate_gensim_representation()"
      ],
      "metadata": {
        "id": "PxOS9Pz43VlX"
      },
      "execution_count": null,
      "outputs": []
    },
    {
      "cell_type": "markdown",
      "metadata": {
        "id": "WjhI1pXjhUfI"
      },
      "source": [
        "## Evaluate Model"
      ]
    },
    {
      "cell_type": "code",
      "execution_count": null,
      "metadata": {
        "id": "zyqK3xIRhUfJ"
      },
      "outputs": [],
      "source": [
        "# Compute the coherence score\n",
        "coherence_model_lda = CoherenceModel(\n",
        "    model=vis_model,\n",
        "    corpus=corpus,\n",
        "    dictionary=dictionary,\n",
        "    coherence='u_mass'\n",
        ")\n",
        "coherence_lda = coherence_model_lda.get_coherence()\n",
        "print(f'Coherence Score: {coherence_lda:.3f}')"
      ]
    },
    {
      "cell_type": "markdown",
      "metadata": {
        "id": "0DU7JzgwhUfJ"
      },
      "source": [
        "## Visualize Topics"
      ]
    },
    {
      "cell_type": "code",
      "execution_count": null,
      "metadata": {
        "id": "v43G9rvLhUfJ"
      },
      "outputs": [],
      "source": [
        "# Visualize the topics using pyLDAvis\n",
        "vis = gensimvis.prepare(vis_model, corpus, dictionary)\n",
        "pyLDAvis.display(vis)"
      ]
    },
    {
      "cell_type": "markdown",
      "metadata": {
        "id": "9yKEnKQqhUfJ"
      },
      "source": [
        "## Tuning the model ([source](https://radimrehurek.com/gensim/auto_examples/tutorials/run_ensemblelda.html#tuning))\n",
        "\n",
        "Different from `LdaModel`, the number of resulting topics varies greatly depending on the clustering parameters.\n",
        "\n",
        "You can provide those in the `recluster()` function or the `EnsembleLda` constructor.\n",
        "\n",
        "Play around until you get as many topics as you desire, which however may reduce their quality. If your ensemble doesn't have enough topics to begin with, you should make sure to make it large enough.\n",
        "\n",
        "Having an epsilon that is smaller than the smallest distance doesn't make sense. Make sure to chose one that is within the range of values in `asymmetric_distance_matrix`."
      ]
    },
    {
      "cell_type": "code",
      "execution_count": null,
      "metadata": {
        "id": "Y0y0HHSchUfK"
      },
      "outputs": [],
      "source": [
        "import numpy as np\n",
        "shape = ensemble.asymmetric_distance_matrix.shape\n",
        "without_diagonal = ensemble.asymmetric_distance_matrix[~np.eye(shape[0], dtype=bool)].reshape(shape[0], -1)\n",
        "print(without_diagonal.min(), without_diagonal.mean(), without_diagonal.max())\n",
        "\n",
        "ensemble.recluster(eps=0.09, min_samples=2, min_cores=2)\n",
        "\n",
        "print(len(ensemble.get_topics()))"
      ]
    }
  ],
  "metadata": {
    "colab": {
      "provenance": [],
      "include_colab_link": true
    },
    "kernelspec": {
      "display_name": "Python 3",
      "name": "python3"
    },
    "language_info": {
      "name": "python"
    }
  },
  "nbformat": 4,
  "nbformat_minor": 0
}