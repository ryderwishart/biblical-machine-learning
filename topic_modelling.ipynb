{
  "cells": [
    {
      "cell_type": "markdown",
      "metadata": {
        "id": "view-in-github",
        "colab_type": "text"
      },
      "source": [
        "<a href=\"https://colab.research.google.com/github/ryderwishart/biblical-machine-learning/blob/main/topic_modelling.ipynb\" target=\"_parent\"><img src=\"https://colab.research.google.com/assets/colab-badge.svg\" alt=\"Open In Colab\"/></a>"
      ]
    },
    {
      "cell_type": "code",
      "execution_count": 1,
      "metadata": {
        "colab": {
          "base_uri": "https://localhost:8080/"
        },
        "id": "BQyt8aMwcd3j",
        "outputId": "e4b29859-6952-4c23-e9dd-df43da5b8142"
      },
      "outputs": [
        {
          "output_type": "stream",
          "name": "stdout",
          "text": [
            "Looking in indexes: https://pypi.org/simple, https://us-python.pkg.dev/colab-wheels/public/simple/\n",
            "Requirement already satisfied: pyLDAvis in /usr/local/lib/python3.9/dist-packages (3.4.0)\n",
            "Requirement already satisfied: pandas>=1.3.4 in /usr/local/lib/python3.9/dist-packages (from pyLDAvis) (1.4.4)\n",
            "Requirement already satisfied: jinja2 in /usr/local/lib/python3.9/dist-packages (from pyLDAvis) (3.1.2)\n",
            "Requirement already satisfied: gensim in /usr/local/lib/python3.9/dist-packages (from pyLDAvis) (4.3.0)\n",
            "Requirement already satisfied: numpy>=1.22.0 in /usr/local/lib/python3.9/dist-packages (from pyLDAvis) (1.22.4)\n",
            "Requirement already satisfied: scipy in /usr/local/lib/python3.9/dist-packages (from pyLDAvis) (1.10.1)\n",
            "Requirement already satisfied: numexpr in /usr/local/lib/python3.9/dist-packages (from pyLDAvis) (2.8.4)\n",
            "Requirement already satisfied: funcy in /usr/local/lib/python3.9/dist-packages (from pyLDAvis) (1.18)\n",
            "Requirement already satisfied: setuptools in /usr/local/lib/python3.9/dist-packages (from pyLDAvis) (63.4.3)\n",
            "Requirement already satisfied: scikit-learn>=1.0.0 in /usr/local/lib/python3.9/dist-packages (from pyLDAvis) (1.2.2)\n",
            "Requirement already satisfied: joblib>=1.2.0 in /usr/local/lib/python3.9/dist-packages (from pyLDAvis) (1.2.0)\n",
            "Requirement already satisfied: python-dateutil>=2.8.1 in /usr/local/lib/python3.9/dist-packages (from pandas>=1.3.4->pyLDAvis) (2.8.2)\n",
            "Requirement already satisfied: pytz>=2020.1 in /usr/local/lib/python3.9/dist-packages (from pandas>=1.3.4->pyLDAvis) (2022.7.1)\n",
            "Requirement already satisfied: threadpoolctl>=2.0.0 in /usr/local/lib/python3.9/dist-packages (from scikit-learn>=1.0.0->pyLDAvis) (3.1.0)\n",
            "Requirement already satisfied: smart-open>=1.8.1 in /usr/local/lib/python3.9/dist-packages (from gensim->pyLDAvis) (6.3.0)\n",
            "Requirement already satisfied: FuzzyTM>=0.4.0 in /usr/local/lib/python3.9/dist-packages (from gensim->pyLDAvis) (2.0.5)\n",
            "Requirement already satisfied: MarkupSafe>=2.0 in /usr/local/lib/python3.9/dist-packages (from jinja2->pyLDAvis) (2.1.2)\n",
            "Requirement already satisfied: pyfume in /usr/local/lib/python3.9/dist-packages (from FuzzyTM>=0.4.0->gensim->pyLDAvis) (0.2.25)\n",
            "Requirement already satisfied: six>=1.5 in /usr/local/lib/python3.9/dist-packages (from python-dateutil>=2.8.1->pandas>=1.3.4->pyLDAvis) (1.15.0)\n",
            "Requirement already satisfied: fst-pso in /usr/local/lib/python3.9/dist-packages (from pyfume->FuzzyTM>=0.4.0->gensim->pyLDAvis) (1.8.1)\n",
            "Requirement already satisfied: simpful in /usr/local/lib/python3.9/dist-packages (from pyfume->FuzzyTM>=0.4.0->gensim->pyLDAvis) (2.10.0)\n",
            "Requirement already satisfied: miniful in /usr/local/lib/python3.9/dist-packages (from fst-pso->pyfume->FuzzyTM>=0.4.0->gensim->pyLDAvis) (0.0.6)\n",
            "Requirement already satisfied: requests in /usr/local/lib/python3.9/dist-packages (from simpful->pyfume->FuzzyTM>=0.4.0->gensim->pyLDAvis) (2.25.1)\n",
            "Requirement already satisfied: chardet<5,>=3.0.2 in /usr/local/lib/python3.9/dist-packages (from requests->simpful->pyfume->FuzzyTM>=0.4.0->gensim->pyLDAvis) (4.0.0)\n",
            "Requirement already satisfied: idna<3,>=2.5 in /usr/local/lib/python3.9/dist-packages (from requests->simpful->pyfume->FuzzyTM>=0.4.0->gensim->pyLDAvis) (2.10)\n",
            "Requirement already satisfied: urllib3<1.27,>=1.21.1 in /usr/local/lib/python3.9/dist-packages (from requests->simpful->pyfume->FuzzyTM>=0.4.0->gensim->pyLDAvis) (1.26.15)\n",
            "Requirement already satisfied: certifi>=2017.4.17 in /usr/local/lib/python3.9/dist-packages (from requests->simpful->pyfume->FuzzyTM>=0.4.0->gensim->pyLDAvis) (2022.12.7)\n",
            "Looking in indexes: https://pypi.org/simple, https://us-python.pkg.dev/colab-wheels/public/simple/\n",
            "Requirement already satisfied: gensim==4.3.0 in /usr/local/lib/python3.9/dist-packages (4.3.0)\n",
            "Requirement already satisfied: scipy>=1.7.0 in /usr/local/lib/python3.9/dist-packages (from gensim==4.3.0) (1.10.1)\n",
            "Requirement already satisfied: numpy>=1.18.5 in /usr/local/lib/python3.9/dist-packages (from gensim==4.3.0) (1.22.4)\n",
            "Requirement already satisfied: FuzzyTM>=0.4.0 in /usr/local/lib/python3.9/dist-packages (from gensim==4.3.0) (2.0.5)\n",
            "Requirement already satisfied: smart-open>=1.8.1 in /usr/local/lib/python3.9/dist-packages (from gensim==4.3.0) (6.3.0)\n",
            "Requirement already satisfied: pandas in /usr/local/lib/python3.9/dist-packages (from FuzzyTM>=0.4.0->gensim==4.3.0) (1.4.4)\n",
            "Requirement already satisfied: pyfume in /usr/local/lib/python3.9/dist-packages (from FuzzyTM>=0.4.0->gensim==4.3.0) (0.2.25)\n",
            "Requirement already satisfied: pytz>=2020.1 in /usr/local/lib/python3.9/dist-packages (from pandas->FuzzyTM>=0.4.0->gensim==4.3.0) (2022.7.1)\n",
            "Requirement already satisfied: python-dateutil>=2.8.1 in /usr/local/lib/python3.9/dist-packages (from pandas->FuzzyTM>=0.4.0->gensim==4.3.0) (2.8.2)\n",
            "Requirement already satisfied: simpful in /usr/local/lib/python3.9/dist-packages (from pyfume->FuzzyTM>=0.4.0->gensim==4.3.0) (2.10.0)\n",
            "Requirement already satisfied: fst-pso in /usr/local/lib/python3.9/dist-packages (from pyfume->FuzzyTM>=0.4.0->gensim==4.3.0) (1.8.1)\n",
            "Requirement already satisfied: six>=1.5 in /usr/local/lib/python3.9/dist-packages (from python-dateutil>=2.8.1->pandas->FuzzyTM>=0.4.0->gensim==4.3.0) (1.15.0)\n",
            "Requirement already satisfied: miniful in /usr/local/lib/python3.9/dist-packages (from fst-pso->pyfume->FuzzyTM>=0.4.0->gensim==4.3.0) (0.0.6)\n",
            "Requirement already satisfied: requests in /usr/local/lib/python3.9/dist-packages (from simpful->pyfume->FuzzyTM>=0.4.0->gensim==4.3.0) (2.25.1)\n",
            "Requirement already satisfied: certifi>=2017.4.17 in /usr/local/lib/python3.9/dist-packages (from requests->simpful->pyfume->FuzzyTM>=0.4.0->gensim==4.3.0) (2022.12.7)\n",
            "Requirement already satisfied: idna<3,>=2.5 in /usr/local/lib/python3.9/dist-packages (from requests->simpful->pyfume->FuzzyTM>=0.4.0->gensim==4.3.0) (2.10)\n",
            "Requirement already satisfied: chardet<5,>=3.0.2 in /usr/local/lib/python3.9/dist-packages (from requests->simpful->pyfume->FuzzyTM>=0.4.0->gensim==4.3.0) (4.0.0)\n",
            "Requirement already satisfied: urllib3<1.27,>=1.21.1 in /usr/local/lib/python3.9/dist-packages (from requests->simpful->pyfume->FuzzyTM>=0.4.0->gensim==4.3.0) (1.26.15)\n",
            "Looking in indexes: https://pypi.org/simple, https://us-python.pkg.dev/colab-wheels/public/simple/\n",
            "Requirement already satisfied: pandas in /usr/local/lib/python3.9/dist-packages (1.4.4)\n",
            "Requirement already satisfied: python-dateutil>=2.8.1 in /usr/local/lib/python3.9/dist-packages (from pandas) (2.8.2)\n",
            "Requirement already satisfied: pytz>=2020.1 in /usr/local/lib/python3.9/dist-packages (from pandas) (2022.7.1)\n",
            "Requirement already satisfied: numpy>=1.18.5 in /usr/local/lib/python3.9/dist-packages (from pandas) (1.22.4)\n",
            "Requirement already satisfied: six>=1.5 in /usr/local/lib/python3.9/dist-packages (from python-dateutil>=2.8.1->pandas) (1.15.0)\n"
          ]
        }
      ],
      "source": [
        "!pip install pyLDAvis\n",
        "!pip install gensim==4.3.0\n",
        "!pip install pandas"
      ]
    },
    {
      "cell_type": "markdown",
      "metadata": {
        "id": "iAtVZHrlco6O"
      },
      "source": [
        "## Imports"
      ]
    },
    {
      "cell_type": "code",
      "execution_count": 2,
      "metadata": {
        "id": "0HMGZN75cr2M"
      },
      "outputs": [],
      "source": [
        "from gensim import corpora\n",
        "from gensim.models import CoherenceModel, LdaModel\n",
        "from gensim.models import EnsembleLda\n",
        "from gensim.corpora import Dictionary\n",
        "from collections import Counter\n",
        "import pyLDAvis.gensim_models as gensimvis\n",
        "import pyLDAvis\n",
        "import os\n",
        "import codecs\n",
        "import pandas as pd"
      ]
    },
    {
      "cell_type": "markdown",
      "metadata": {
        "id": "jf9ufdZ9eZ-k"
      },
      "source": [
        "## Build Corpus"
      ]
    },
    {
      "cell_type": "code",
      "source": [
        "if 'macula-greek.tsv' not in [path for path in os.listdir()]:\n",
        "    !wget -q \"https://raw.githubusercontent.com/Clear-Bible/macula-greek/main/Nestle1904/TSV/macula-greek.tsv\""
      ],
      "metadata": {
        "id": "zGHbSUYD_K8a"
      },
      "execution_count": 3,
      "outputs": []
    },
    {
      "cell_type": "code",
      "execution_count": 4,
      "metadata": {
        "id": "CtUz3kg5cuFe",
        "colab": {
          "base_uri": "https://localhost:8080/"
        },
        "outputId": "9ce6b280-6cf2-49bc-c1a9-bcd534dd7182"
      },
      "outputs": [
        {
          "output_type": "execute_result",
          "data": {
            "text/plain": [
              "['.config', 'macula-greek.tsv.1', 'macula-greek.tsv', 'sample_data']"
            ]
          },
          "metadata": {},
          "execution_count": 4
        }
      ],
      "source": [
        "os.listdir()"
      ]
    },
    {
      "cell_type": "code",
      "source": [
        "# Import Macula Greek data\n",
        "mg = pd.read_csv('macula-greek.tsv', sep='\\t', header=0)\n",
        "\n",
        "# Extract book, chapter, and verse into separate columns\n",
        "mg[['book', 'chapter', 'verse']] = mg['ref'].str.extract(r'(\\d?[A-Z]+)\\s(\\d+):(\\d+)')\n",
        "\n",
        "# Add columns for book + chapter, and book + chapter + verse for easier grouping\n",
        "mg['book_chapter'] = mg['book'] + ' ' + mg['chapter'].astype(str)\n",
        "mg['book_chapter_verse'] = mg['book_chapter'] + ':' + mg['verse'].astype(str)\n",
        "\n",
        "# Display the updated data frame\n",
        "mg.head()"
      ],
      "metadata": {
        "colab": {
          "base_uri": "https://localhost:8080/",
          "height": 382
        },
        "id": "zfcFUhrl87Xy",
        "outputId": "999852bd-68ed-421e-dbb3-b6bf60334657"
      },
      "execution_count": 5,
      "outputs": [
        {
          "output_type": "execute_result",
          "data": {
            "text/plain": [
              "         xml:id        ref role class    type               gloss      text  \\\n",
              "0  n40001001001  MAT 1:1!1  NaN  noun  common          [The] book    Βίβλος   \n",
              "1  n40001001002  MAT 1:1!2  NaN  noun  common  of [the] genealogy  γενέσεως   \n",
              "2  n40001001003  MAT 1:1!3  NaN  noun  proper            of Jesus     Ἰησοῦ   \n",
              "3  n40001001004  MAT 1:1!4  NaN  noun  proper              Christ   Χριστοῦ   \n",
              "4  n40001001005  MAT 1:1!5  NaN  noun  common                 son      υἱοῦ   \n",
              "\n",
              "  after    lemma normalized  ...         domain           ln frame subjref  \\\n",
              "0         βίβλος     Βίβλος  ...         033005        33.38   NaN     NaN   \n",
              "1        γένεσις   γενέσεως  ...  010002 033003  10.24 33.19   NaN     NaN   \n",
              "2         Ἰησοῦς      Ἰησοῦ  ...         093001      93.169a   NaN     NaN   \n",
              "3        Χριστός    Χριστοῦ  ...         093001       93.387   NaN     NaN   \n",
              "4           υἱός       υἱοῦ  ...         010002        10.30   NaN     NaN   \n",
              "\n",
              "  referent book chapter verse book_chapter book_chapter_verse  \n",
              "0      NaN  MAT       1     1        MAT 1            MAT 1:1  \n",
              "1      NaN  MAT       1     1        MAT 1            MAT 1:1  \n",
              "2      NaN  MAT       1     1        MAT 1            MAT 1:1  \n",
              "3      NaN  MAT       1     1        MAT 1            MAT 1:1  \n",
              "4      NaN  MAT       1     1        MAT 1            MAT 1:1  \n",
              "\n",
              "[5 rows x 30 columns]"
            ],
            "text/html": [
              "\n",
              "  <div id=\"df-81a3924a-f7a1-4522-9bd0-d3a36e278a51\">\n",
              "    <div class=\"colab-df-container\">\n",
              "      <div>\n",
              "<style scoped>\n",
              "    .dataframe tbody tr th:only-of-type {\n",
              "        vertical-align: middle;\n",
              "    }\n",
              "\n",
              "    .dataframe tbody tr th {\n",
              "        vertical-align: top;\n",
              "    }\n",
              "\n",
              "    .dataframe thead th {\n",
              "        text-align: right;\n",
              "    }\n",
              "</style>\n",
              "<table border=\"1\" class=\"dataframe\">\n",
              "  <thead>\n",
              "    <tr style=\"text-align: right;\">\n",
              "      <th></th>\n",
              "      <th>xml:id</th>\n",
              "      <th>ref</th>\n",
              "      <th>role</th>\n",
              "      <th>class</th>\n",
              "      <th>type</th>\n",
              "      <th>gloss</th>\n",
              "      <th>text</th>\n",
              "      <th>after</th>\n",
              "      <th>lemma</th>\n",
              "      <th>normalized</th>\n",
              "      <th>...</th>\n",
              "      <th>domain</th>\n",
              "      <th>ln</th>\n",
              "      <th>frame</th>\n",
              "      <th>subjref</th>\n",
              "      <th>referent</th>\n",
              "      <th>book</th>\n",
              "      <th>chapter</th>\n",
              "      <th>verse</th>\n",
              "      <th>book_chapter</th>\n",
              "      <th>book_chapter_verse</th>\n",
              "    </tr>\n",
              "  </thead>\n",
              "  <tbody>\n",
              "    <tr>\n",
              "      <th>0</th>\n",
              "      <td>n40001001001</td>\n",
              "      <td>MAT 1:1!1</td>\n",
              "      <td>NaN</td>\n",
              "      <td>noun</td>\n",
              "      <td>common</td>\n",
              "      <td>[The] book</td>\n",
              "      <td>Βίβλος</td>\n",
              "      <td></td>\n",
              "      <td>βίβλος</td>\n",
              "      <td>Βίβλος</td>\n",
              "      <td>...</td>\n",
              "      <td>033005</td>\n",
              "      <td>33.38</td>\n",
              "      <td>NaN</td>\n",
              "      <td>NaN</td>\n",
              "      <td>NaN</td>\n",
              "      <td>MAT</td>\n",
              "      <td>1</td>\n",
              "      <td>1</td>\n",
              "      <td>MAT 1</td>\n",
              "      <td>MAT 1:1</td>\n",
              "    </tr>\n",
              "    <tr>\n",
              "      <th>1</th>\n",
              "      <td>n40001001002</td>\n",
              "      <td>MAT 1:1!2</td>\n",
              "      <td>NaN</td>\n",
              "      <td>noun</td>\n",
              "      <td>common</td>\n",
              "      <td>of [the] genealogy</td>\n",
              "      <td>γενέσεως</td>\n",
              "      <td></td>\n",
              "      <td>γένεσις</td>\n",
              "      <td>γενέσεως</td>\n",
              "      <td>...</td>\n",
              "      <td>010002 033003</td>\n",
              "      <td>10.24 33.19</td>\n",
              "      <td>NaN</td>\n",
              "      <td>NaN</td>\n",
              "      <td>NaN</td>\n",
              "      <td>MAT</td>\n",
              "      <td>1</td>\n",
              "      <td>1</td>\n",
              "      <td>MAT 1</td>\n",
              "      <td>MAT 1:1</td>\n",
              "    </tr>\n",
              "    <tr>\n",
              "      <th>2</th>\n",
              "      <td>n40001001003</td>\n",
              "      <td>MAT 1:1!3</td>\n",
              "      <td>NaN</td>\n",
              "      <td>noun</td>\n",
              "      <td>proper</td>\n",
              "      <td>of Jesus</td>\n",
              "      <td>Ἰησοῦ</td>\n",
              "      <td></td>\n",
              "      <td>Ἰησοῦς</td>\n",
              "      <td>Ἰησοῦ</td>\n",
              "      <td>...</td>\n",
              "      <td>093001</td>\n",
              "      <td>93.169a</td>\n",
              "      <td>NaN</td>\n",
              "      <td>NaN</td>\n",
              "      <td>NaN</td>\n",
              "      <td>MAT</td>\n",
              "      <td>1</td>\n",
              "      <td>1</td>\n",
              "      <td>MAT 1</td>\n",
              "      <td>MAT 1:1</td>\n",
              "    </tr>\n",
              "    <tr>\n",
              "      <th>3</th>\n",
              "      <td>n40001001004</td>\n",
              "      <td>MAT 1:1!4</td>\n",
              "      <td>NaN</td>\n",
              "      <td>noun</td>\n",
              "      <td>proper</td>\n",
              "      <td>Christ</td>\n",
              "      <td>Χριστοῦ</td>\n",
              "      <td></td>\n",
              "      <td>Χριστός</td>\n",
              "      <td>Χριστοῦ</td>\n",
              "      <td>...</td>\n",
              "      <td>093001</td>\n",
              "      <td>93.387</td>\n",
              "      <td>NaN</td>\n",
              "      <td>NaN</td>\n",
              "      <td>NaN</td>\n",
              "      <td>MAT</td>\n",
              "      <td>1</td>\n",
              "      <td>1</td>\n",
              "      <td>MAT 1</td>\n",
              "      <td>MAT 1:1</td>\n",
              "    </tr>\n",
              "    <tr>\n",
              "      <th>4</th>\n",
              "      <td>n40001001005</td>\n",
              "      <td>MAT 1:1!5</td>\n",
              "      <td>NaN</td>\n",
              "      <td>noun</td>\n",
              "      <td>common</td>\n",
              "      <td>son</td>\n",
              "      <td>υἱοῦ</td>\n",
              "      <td></td>\n",
              "      <td>υἱός</td>\n",
              "      <td>υἱοῦ</td>\n",
              "      <td>...</td>\n",
              "      <td>010002</td>\n",
              "      <td>10.30</td>\n",
              "      <td>NaN</td>\n",
              "      <td>NaN</td>\n",
              "      <td>NaN</td>\n",
              "      <td>MAT</td>\n",
              "      <td>1</td>\n",
              "      <td>1</td>\n",
              "      <td>MAT 1</td>\n",
              "      <td>MAT 1:1</td>\n",
              "    </tr>\n",
              "  </tbody>\n",
              "</table>\n",
              "<p>5 rows × 30 columns</p>\n",
              "</div>\n",
              "      <button class=\"colab-df-convert\" onclick=\"convertToInteractive('df-81a3924a-f7a1-4522-9bd0-d3a36e278a51')\"\n",
              "              title=\"Convert this dataframe to an interactive table.\"\n",
              "              style=\"display:none;\">\n",
              "        \n",
              "  <svg xmlns=\"http://www.w3.org/2000/svg\" height=\"24px\"viewBox=\"0 0 24 24\"\n",
              "       width=\"24px\">\n",
              "    <path d=\"M0 0h24v24H0V0z\" fill=\"none\"/>\n",
              "    <path d=\"M18.56 5.44l.94 2.06.94-2.06 2.06-.94-2.06-.94-.94-2.06-.94 2.06-2.06.94zm-11 1L8.5 8.5l.94-2.06 2.06-.94-2.06-.94L8.5 2.5l-.94 2.06-2.06.94zm10 10l.94 2.06.94-2.06 2.06-.94-2.06-.94-.94-2.06-.94 2.06-2.06.94z\"/><path d=\"M17.41 7.96l-1.37-1.37c-.4-.4-.92-.59-1.43-.59-.52 0-1.04.2-1.43.59L10.3 9.45l-7.72 7.72c-.78.78-.78 2.05 0 2.83L4 21.41c.39.39.9.59 1.41.59.51 0 1.02-.2 1.41-.59l7.78-7.78 2.81-2.81c.8-.78.8-2.07 0-2.86zM5.41 20L4 18.59l7.72-7.72 1.47 1.35L5.41 20z\"/>\n",
              "  </svg>\n",
              "      </button>\n",
              "      \n",
              "  <style>\n",
              "    .colab-df-container {\n",
              "      display:flex;\n",
              "      flex-wrap:wrap;\n",
              "      gap: 12px;\n",
              "    }\n",
              "\n",
              "    .colab-df-convert {\n",
              "      background-color: #E8F0FE;\n",
              "      border: none;\n",
              "      border-radius: 50%;\n",
              "      cursor: pointer;\n",
              "      display: none;\n",
              "      fill: #1967D2;\n",
              "      height: 32px;\n",
              "      padding: 0 0 0 0;\n",
              "      width: 32px;\n",
              "    }\n",
              "\n",
              "    .colab-df-convert:hover {\n",
              "      background-color: #E2EBFA;\n",
              "      box-shadow: 0px 1px 2px rgba(60, 64, 67, 0.3), 0px 1px 3px 1px rgba(60, 64, 67, 0.15);\n",
              "      fill: #174EA6;\n",
              "    }\n",
              "\n",
              "    [theme=dark] .colab-df-convert {\n",
              "      background-color: #3B4455;\n",
              "      fill: #D2E3FC;\n",
              "    }\n",
              "\n",
              "    [theme=dark] .colab-df-convert:hover {\n",
              "      background-color: #434B5C;\n",
              "      box-shadow: 0px 1px 3px 1px rgba(0, 0, 0, 0.15);\n",
              "      filter: drop-shadow(0px 1px 2px rgba(0, 0, 0, 0.3));\n",
              "      fill: #FFFFFF;\n",
              "    }\n",
              "  </style>\n",
              "\n",
              "      <script>\n",
              "        const buttonEl =\n",
              "          document.querySelector('#df-81a3924a-f7a1-4522-9bd0-d3a36e278a51 button.colab-df-convert');\n",
              "        buttonEl.style.display =\n",
              "          google.colab.kernel.accessAllowed ? 'block' : 'none';\n",
              "\n",
              "        async function convertToInteractive(key) {\n",
              "          const element = document.querySelector('#df-81a3924a-f7a1-4522-9bd0-d3a36e278a51');\n",
              "          const dataTable =\n",
              "            await google.colab.kernel.invokeFunction('convertToInteractive',\n",
              "                                                     [key], {});\n",
              "          if (!dataTable) return;\n",
              "\n",
              "          const docLinkHtml = 'Like what you see? Visit the ' +\n",
              "            '<a target=\"_blank\" href=https://colab.research.google.com/notebooks/data_table.ipynb>data table notebook</a>'\n",
              "            + ' to learn more about interactive tables.';\n",
              "          element.innerHTML = '';\n",
              "          dataTable['output_type'] = 'display_data';\n",
              "          await google.colab.output.renderOutput(dataTable, element);\n",
              "          const docLink = document.createElement('div');\n",
              "          docLink.innerHTML = docLinkHtml;\n",
              "          element.appendChild(docLink);\n",
              "        }\n",
              "      </script>\n",
              "    </div>\n",
              "  </div>\n",
              "  "
            ]
          },
          "metadata": {},
          "execution_count": 5
        }
      ]
    },
    {
      "cell_type": "markdown",
      "source": [
        "Let's filter out stopwords using a list from [Perseus](https://wiki.digitalclassicist.org/Stopwords_for_Greek_and_Latin)."
      ],
      "metadata": {
        "id": "HCU3A6Nuownp"
      }
    },
    {
      "cell_type": "code",
      "source": [
        "perseus_stopwords = \"μή, ἑαυτοῦ, ἄν, ἀλλ', ἀλλά, ἄλλος, ἀπό, ἄρα, αὐτός, δ', δέ, δή, διά, δαί, δαίς, ἔτι, ἐγώ, ἐκ, ἐμός, ἐν, ἐπί, εἰ, εἰμί, εἴμι, εἰς, γάρ, γε, γα, ἡ, ἤ, καί, κατά, μέν, μετά, μή, ὁ, ὅδε, ὅς, ὅστις, ὅτι, οὕτως, οὗτος, οὔτε, οὖν, οὐδείς, οἱ, οὐ, οὐδέ, οὐκ, περί, πρός, σύ, σύν, τά, τε, τήν, τῆς, τῇ, τι, τί, τις, τίς, τό, τοί, τοιοῦτος, τόν, τούς, τοῦ, τῶν, τῷ, ὑμός, ὑπέρ, ὑπό, ὡς, ὦ, ὥστε, ἐάν, παρά, σός\".split(', ')\n",
        "perseus_stopwords += \"συ\".split(' ')\n",
        "# filter the DataFrame to exclude rows with class values in the exclude_list\n",
        "filtered_mg = mg[~mg['normalized'].isin(perseus_stopwords)]\n",
        "difference = len(mg) - len(filtered_mg)\n",
        "print(f'{difference} rows removed using stopwords')\n",
        "# Also exclude certain parts of speech\n",
        "pos_exclude_list = ['det', 'prep', 'pron', 'conj', 'ptcl']\n",
        "cur_len = len(filtered_mg)\n",
        "filtered_mg = filtered_mg[~filtered_mg['class'].isin(pos_exclude_list)]\n",
        "print(f'{cur_len - len(filtered_mg)} more rows removed using parts of speech')"
      ],
      "metadata": {
        "colab": {
          "base_uri": "https://localhost:8080/"
        },
        "id": "PEjtcEBpQgB_",
        "outputId": "c1bea6ab-4bc2-45e8-c3c5-2930c9f44b77"
      },
      "execution_count": 6,
      "outputs": [
        {
          "output_type": "stream",
          "name": "stdout",
          "text": [
            "48538 rows removed using stopwords\n",
            "20951 more rows removed using parts of speech\n"
          ]
        }
      ]
    },
    {
      "cell_type": "markdown",
      "source": [
        "Create an ensemble topic model for each book of the New Testament, using lemmas and ignoring stopwords."
      ],
      "metadata": {
        "id": "rG9wANH7RLzS"
      }
    },
    {
      "cell_type": "code",
      "source": [
        "book_lemmas = {}  # Initialize a dictionary to hold the corpora for each book\n",
        "\n",
        "def get_lemmas(group):\n",
        "    return group['lemma'].values.tolist()\n",
        "\n",
        "all_lemmas = []\n",
        "\n",
        "for book in filtered_mg['book'].unique():  # Loop over unique books in the dataframe\n",
        "    print(f'Processing {book}...')\n",
        "    book_df = filtered_mg[filtered_mg['book'] == book]  # Filter the dataframe for the current book\n",
        "    corpus = []  # Initialize an empty list to hold the tokens for the current book\n",
        "    grouped = book_df.groupby('book_chapter').apply(get_lemmas)\n",
        "    # Loop over rows in the filtered dataframe\n",
        "    for chapter in grouped:  \n",
        "        corpus += [chapter]  # Add the tokens to the corpus for the current book\n",
        "        all_lemmas += [chapter]\n",
        "    book_lemmas[book] = corpus  # Add the corpus for the current book to the dictionary"
      ],
      "metadata": {
        "colab": {
          "base_uri": "https://localhost:8080/"
        },
        "id": "m7LNsRIpRLja",
        "outputId": "36835d76-400d-4326-f1aa-693a28189ef6"
      },
      "execution_count": 7,
      "outputs": [
        {
          "output_type": "stream",
          "name": "stdout",
          "text": [
            "Processing MAT...\n",
            "Processing MRK...\n",
            "Processing LUK...\n",
            "Processing JHN...\n",
            "Processing ACT...\n",
            "Processing ROM...\n",
            "Processing 1CO...\n",
            "Processing 2CO...\n",
            "Processing GAL...\n",
            "Processing EPH...\n",
            "Processing PHP...\n",
            "Processing COL...\n",
            "Processing 1TH...\n",
            "Processing 2TH...\n",
            "Processing 1TI...\n",
            "Processing 2TI...\n",
            "Processing TIT...\n",
            "Processing PHM...\n",
            "Processing HEB...\n",
            "Processing JAS...\n",
            "Processing 1PE...\n",
            "Processing 2PE...\n",
            "Processing 1JN...\n",
            "Processing 2JN...\n",
            "Processing 3JN...\n",
            "Processing JUD...\n",
            "Processing REV...\n"
          ]
        }
      ]
    },
    {
      "cell_type": "code",
      "source": [
        "# Create a dictionary for all words in each corpus\n",
        "dictionary = corpora.Dictionary(all_lemmas)\n",
        "dictionary"
      ],
      "metadata": {
        "colab": {
          "base_uri": "https://localhost:8080/"
        },
        "id": "Qm8uZJBsg41p",
        "outputId": "9cb53359-9336-48ff-ce13-1da7cd5cc4f6"
      },
      "execution_count": 8,
      "outputs": [
        {
          "output_type": "execute_result",
          "data": {
            "text/plain": [
              "<gensim.corpora.dictionary.Dictionary at 0x7f799134a760>"
            ]
          },
          "metadata": {},
          "execution_count": 8
        }
      ]
    },
    {
      "cell_type": "code",
      "source": [
        "models = dict()\n",
        "\n",
        "for book, lemmas in book_lemmas.items():\n",
        "    models[book] = {\n",
        "        'book': book, \n",
        "        'corpus': [dictionary.doc2bow(chapter) for chapter in lemmas], \n",
        "        'model': None \n",
        "    }"
      ],
      "metadata": {
        "id": "-3pY5YzyVr_E"
      },
      "execution_count": 9,
      "outputs": []
    },
    {
      "cell_type": "markdown",
      "metadata": {
        "id": "kicH2ZcghUfH"
      },
      "source": [
        "## Train LDA Model"
      ]
    },
    {
      "cell_type": "code",
      "execution_count": 10,
      "metadata": {
        "id": "j-pbQUqphUfI"
      },
      "outputs": [],
      "source": [
        "ensemble_workers = 4\n",
        "num_models = 3\n",
        "distance_workers = 4 # Note from Gensim: After training all the models, some distance computations are required which can take quite some time as well. You can speed this up by using workers for that as well.\n",
        "num_topics = 100\n",
        "passes = 20"
      ]
    },
    {
      "cell_type": "code",
      "source": [
        "for book, data in models.items():\n",
        "    print(f'Generating ensemble models for {book}...')\n",
        "    ensemble = EnsembleLda(\n",
        "        corpus=data['corpus'],\n",
        "        id2word=dictionary,\n",
        "        num_topics=num_topics,\n",
        "        passes=passes,\n",
        "        num_models=num_models,\n",
        "        topic_model_class=LdaModel,\n",
        "        ensemble_workers=ensemble_workers,\n",
        "        distance_workers=distance_workers\n",
        "    )\n",
        "    data['ensemble'] = ensemble\n",
        "    data['model'] = ensemble.generate_gensim_representation()\n",
        "    break"
      ],
      "metadata": {
        "colab": {
          "base_uri": "https://localhost:8080/"
        },
        "id": "wpLLlNWXX1mM",
        "outputId": "82536a6d-0a26-4ab2-abe6-82ab8ed206b7"
      },
      "execution_count": 11,
      "outputs": [
        {
          "output_type": "stream",
          "name": "stdout",
          "text": [
            "Generating ensemble models for MAT...\n"
          ]
        },
        {
          "output_type": "stream",
          "name": "stderr",
          "text": [
            "WARNING:gensim.models.ldamodel:too few updates, training might not converge; consider increasing the number of passes or iterations to improve accuracy\n",
            "WARNING:gensim.models.ldamodel:too few updates, training might not converge; consider increasing the number of passes or iterations to improve accuracy\n"
          ]
        }
      ]
    },
    {
      "cell_type": "code",
      "source": [
        "vis_model = models['MAT']['model']\n",
        "vis_corpus = models['MAT']['corpus']"
      ],
      "metadata": {
        "id": "MbGhFM7gXRCC"
      },
      "execution_count": 12,
      "outputs": []
    },
    {
      "cell_type": "markdown",
      "source": [
        "Since we trained an ensemble model, we need to use the `generate_gensim_representation()` method to return an `LdaModel` class as the visualization library is expecting."
      ],
      "metadata": {
        "id": "6SjaIHlD58X1"
      }
    },
    {
      "cell_type": "markdown",
      "metadata": {
        "id": "WjhI1pXjhUfI"
      },
      "source": [
        "## Evaluate Model"
      ]
    },
    {
      "cell_type": "code",
      "execution_count": 13,
      "metadata": {
        "id": "zyqK3xIRhUfJ",
        "colab": {
          "base_uri": "https://localhost:8080/"
        },
        "outputId": "75c18b4a-419d-4b9f-9073-13a7d29f66e0"
      },
      "outputs": [
        {
          "output_type": "stream",
          "name": "stdout",
          "text": [
            "Coherence Score: -0.711\n"
          ]
        }
      ],
      "source": [
        "# Compute the coherence score\n",
        "coherence_model_lda = CoherenceModel(\n",
        "    model=vis_model,\n",
        "    corpus=vis_corpus,\n",
        "    dictionary=dictionary,\n",
        "    coherence='u_mass'\n",
        ")\n",
        "coherence_lda = coherence_model_lda.get_coherence()\n",
        "print(f'Coherence Score: {coherence_lda:.3f}')"
      ]
    },
    {
      "cell_type": "markdown",
      "metadata": {
        "id": "0DU7JzgwhUfJ"
      },
      "source": [
        "## Visualize Topics"
      ]
    },
    {
      "cell_type": "code",
      "execution_count": 17,
      "metadata": {
        "id": "v43G9rvLhUfJ",
        "colab": {
          "base_uri": "https://localhost:8080/",
          "height": 915
        },
        "outputId": "2bd51430-d5d5-46f0-f116-a865f155e721"
      },
      "outputs": [
        {
          "output_type": "stream",
          "name": "stderr",
          "text": [
            "/usr/local/lib/python3.9/dist-packages/pyLDAvis/_prepare.py:243: FutureWarning: In a future version of pandas all arguments of DataFrame.drop except for the argument 'labels' will be keyword-only.\n",
            "  default_term_info = default_term_info.sort_values(\n"
          ]
        },
        {
          "output_type": "execute_result",
          "data": {
            "text/plain": [
              "<IPython.core.display.HTML object>"
            ],
            "text/html": [
              "\n",
              "<link rel=\"stylesheet\" type=\"text/css\" href=\"https://cdn.jsdelivr.net/gh/bmabey/pyLDAvis@3.4.0/pyLDAvis/js/ldavis.v1.0.0.css\">\n",
              "\n",
              "\n",
              "<div id=\"ldavis_el582351401599519167204242610408\" style=\"background-color:white;\"></div>\n",
              "<script type=\"text/javascript\">\n",
              "\n",
              "var ldavis_el582351401599519167204242610408_data = {\"mdsDat\": {\"x\": [0.1331760197625615, 0.18002996606142543, 0.08149883171066097, 0.05939389900945403, -0.18454099102147092, 0.0048308516831259375, -0.2743885772057568], \"y\": [0.10664977476889348, 0.09644474316239982, -0.15162844145400953, 0.08615601931085215, -0.1026877745506905, -0.18931855859651384, 0.15438423735906862], \"topics\": [1, 2, 3, 4, 5, 6, 7], \"cluster\": [1, 1, 1, 1, 1, 1, 1], \"Freq\": [59.80595503714853, 20.322020446386084, 4.9299521131832105, 4.064388517838201, 3.9983743406777834, 3.9812518261745797, 2.898057718591609]}, \"tinfo\": {\"Term\": [\"\\u03bb\\u03ad\\u03b3\\u03c9\", \"\\u03b5\\u1f30\\u03bc\\u03af\", \"\\u03b3\\u03b5\\u03bd\\u03bd\\u03ac\\u03c9\", \"\\u1f38\\u03b7\\u03c3\\u03bf\\u1fe6\\u03c2\", \"\\u1f04\\u03bd\\u03b8\\u03c1\\u03c9\\u03c0\\u03bf\\u03c2\", \"\\u03bf\\u1f50\\u03c1\\u03b1\\u03bd\\u03cc\\u03c2\", \"\\u03c5\\u1f31\\u03cc\\u03c2\", \"\\u03c0\\u03b1\\u03c4\\u03ae\\u03c1\", \"\\u03bc\\u03b1\\u03b8\\u03b7\\u03c4\\u03ae\\u03c2\", \"\\u03c4\\u03cc\\u03c4\\u03b5\", \"\\u03b5\\u1f37\\u03c2\", \"\\u1f00\\u03ba\\u03bf\\u03cd\\u03c9\", \"\\u1f14\\u03c1\\u03c7\\u03bf\\u03bc\\u03b1\\u03b9\", \"\\u03c0\\u03bf\\u03b9\\u03ad\\u03c9\", \"\\u03bb\\u03b1\\u03bc\\u03b2\\u03ac\\u03bd\\u03c9\", \"\\u1f00\\u03c6\\u03af\\u03b7\\u03bc\\u03b9\", \"\\u03c0\\u1fb6\\u03c2\", \"\\u03b2\\u03b1\\u03c3\\u03b9\\u03bb\\u03b5\\u03af\\u03b1\", \"\\u03b5\\u1f36\\u03c0\\u03bf\\u03bd\", \"\\u1f04\\u03c1\\u03c4\\u03bf\\u03c2\", \"\\u03a0\\u03ad\\u03c4\\u03c1\\u03bf\\u03c2\", \"\\u1f00\\u03b4\\u03b5\\u03bb\\u03c6\\u03cc\\u03c2\", \"\\u03ba\\u03cd\\u03c1\\u03b9\\u03bf\\u03c2\", \"\\u03bc\\u03b1\\u03ba\\u03ac\\u03c1\\u03b9\\u03bf\\u03c2\", \"\\u03b2\\u03ac\\u03bb\\u03bb\\u03c9\", \"\\u1f00\\u03c0\\u03bf\\u03ba\\u03c1\\u03af\\u03bd\\u03bf\\u03bc\\u03b1\\u03b9\", \"\\u03b8\\u03b5\\u03cc\\u03c2\", \"\\u03a7\\u03c1\\u03b9\\u03c3\\u03c4\\u03cc\\u03c2\", \"\\u03b3\\u03c5\\u03bd\\u03ae\", \"\\u03b3\\u1fc6\", \"\\u03a0\\u03b9\\u03bb\\u1fb6\\u03c4\\u03bf\\u03c2\", \"\\u03c3\\u03c4\\u03b1\\u03c5\\u03c1\\u03cc\\u03c9\", \"\\u1f00\\u03c1\\u03b3\\u03cd\\u03c1\\u03b9\\u03bf\\u03bd\", \"\\u1f31\\u03bc\\u03ac\\u03c4\\u03b9\\u03bf\\u03bd\", \"\\u03ba\\u03c1\\u03ac\\u03b6\\u03c9\", \"\\u03bc\\u03bd\\u03b7\\u03bc\\u03b5\\u1fd6\\u03bf\\u03bd\", \"\\u0393\\u03b1\\u03bb\\u03b9\\u03bb\\u03b1\\u03af\\u03b1\", \"\\u0392\\u03b1\\u03c1\\u03b1\\u03b2\\u03b2\\u1fb6\\u03c2\", \"\\u1f38\\u03bf\\u03c5\\u03b4\\u03b1\\u1fd6\\u03bf\\u03c2\", \"\\u03ba\\u03b1\\u03c4\\u03b1\\u03b2\\u03b1\\u03af\\u03bd\\u03c9\", \"\\u1f10\\u03bc\\u03c0\\u03b1\\u03af\\u03b6\\u03c9\", \"\\u1f05\\u03c0\\u03c4\\u03c9\", \"\\u03bd\\u03b1\\u03cc\\u03c2\", \"\\u03bb\\u03af\\u03b8\\u03bf\\u03c2\", \"\\u03c4\\u03ac\\u03c6\\u03bf\\u03c2\", \"\\u03b3\\u03c1\\u03ac\\u03c6\\u03c9\", \"\\u03c4\\u03b9\\u03bc\\u03ac\\u03c9\", \"\\u03c0\\u03c1\\u03bf\\u03c3\\u03ba\\u03c5\\u03bd\\u03ad\\u03c9\", \"\\u03c4\\u03b7\\u03c1\\u03ad\\u03c9\", \"\\u03c0\\u03b1\\u03c1\\u03b1\\u03ba\\u03b1\\u03bb\\u03ad\\u03c9\", \"\\u03c6\\u03c9\\u03bd\\u03ad\\u03c9\", \"\\u03c0\\u03b9\\u03c3\\u03c4\\u03b5\\u03cd\\u03c9\", \"\\u1f00\\u03c1\\u03c7\\u03b9\\u03b5\\u03c1\\u03b5\\u03cd\\u03c2\", \"\\u03c0\\u03af\\u03c3\\u03c4\\u03b9\\u03c2\", \"\\u1f04\\u03c1\\u03c4\\u03b9\", \"\\u03ba\\u03b5\\u03bb\\u03b5\\u03cd\\u03c9\", \"\\u03c3\\u03c6\\u03cc\\u03b4\\u03c1\\u03b1\", \"\\u1f00\\u03c3\\u03c6\\u03b1\\u03bb\\u03af\\u03b6\\u03c9\", \"\\u1f10\\u03c0\\u03b9\\u03c4\\u03af\\u03b8\\u03b7\\u03bc\\u03b9\", \"\\u03bb\\u1fc3\\u03c3\\u03c4\\u03ae\\u03c2\", \"\\u1f21\\u03b3\\u03b5\\u03bc\\u03ce\\u03bd\", \"\\u1f65\\u03c1\\u03b1\", \"\\u1f38\\u03b7\\u03c3\\u03bf\\u1fe6\\u03c2\", \"\\u03c0\\u03b1\\u03c1\\u03b1\\u03b4\\u03af\\u03b4\\u03c9\\u03bc\\u03b9\", \"\\u1f10\\u03b3\\u03b5\\u03af\\u03c1\\u03c9\", \"\\u03c0\\u03c1\\u03b5\\u03c3\\u03b2\\u03cd\\u03c4\\u03b5\\u03c1\\u03bf\\u03c2\", \"\\u03c0\\u03c1\\u03bf\\u03c3\\u03ad\\u03c1\\u03c7\\u03bf\\u03bc\\u03b1\\u03b9\", \"\\u03bb\\u03ad\\u03b3\\u03c9\", \"\\u03b4\\u03cd\\u03bf\", \"\\u1f41\\u03c1\\u03ac\\u03c9\", \"\\u03ba\\u03cd\\u03c1\\u03b9\\u03bf\\u03c2\", \"\\u1f00\\u03ba\\u03bf\\u03bb\\u03bf\\u03c5\\u03b8\\u03ad\\u03c9\", \"\\u03b3\\u03af\\u03bd\\u03bf\\u03bc\\u03b1\\u03b9\", \"\\u03c4\\u03cc\\u03c4\\u03b5\", \"\\u1f38\\u03c9\\u03ac\\u03bd\\u03bd\\u03b7\\u03c2\", \"\\u1f14\\u03c1\\u03c7\\u03bf\\u03bc\\u03b1\\u03b9\", \"\\u03b8\\u03ad\\u03bb\\u03c9\", \"\\u03bc\\u03b1\\u03b8\\u03b7\\u03c4\\u03ae\\u03c2\", \"\\u1f00\\u03c0\\u03bf\\u03ba\\u03c1\\u03af\\u03bd\\u03bf\\u03bc\\u03b1\\u03b9\", \"\\u03c7\\u03b5\\u03af\\u03c1\", \"\\u1f44\\u03c7\\u03bb\\u03bf\\u03c2\", \"\\u03bb\\u03b1\\u03bc\\u03b2\\u03ac\\u03bd\\u03c9\", \"\\u03b8\\u03b5\\u03cc\\u03c2\", \"\\u03c5\\u1f31\\u03cc\\u03c2\", \"\\u03b5\\u1f37\\u03c2\", \"\\u03b5\\u1f30\\u03bc\\u03af\", \"\\u03c0\\u1fb6\\u03c2\", \"\\u1f10\\u03be\\u03ad\\u03c1\\u03c7\\u03bf\\u03bc\\u03b1\\u03b9\", \"\\u03c0\\u03bf\\u03bb\\u03cd\\u03c2\", \"\\u1f14\\u03c7\\u03c9\", \"\\u1f21\\u03bc\\u03ad\\u03c1\\u03b1\", \"\\u1f00\\u03c0\\u03ad\\u03c1\\u03c7\\u03bf\\u03bc\\u03b1\\u03b9\", \"\\u03bf\\u1f50\", \"\\u1f04\\u03bd\\u03b8\\u03c1\\u03c9\\u03c0\\u03bf\\u03c2\", \"\\u03c0\\u03bf\\u03b9\\u03ad\\u03c9\", \"\\u03b4\\u03af\\u03b4\\u03c9\\u03bc\\u03b9\", \"\\u03c0\\u03b1\\u03c4\\u03ae\\u03c1\", \"\\u1f00\\u03ba\\u03bf\\u03cd\\u03c9\", \"\\u03b6\\u03b9\\u03b6\\u03ac\\u03bd\\u03b9\\u03bf\\u03bd\", \"\\u03bc\\u03b5\\u03c1\\u03af\\u03b6\\u03c9\", \"\\u0392\\u03b5\\u03b5\\u03bb\\u03b6\\u03b5\\u03b2\\u03bf\\u03cd\\u03bb\", \"\\u1f10\\u03c0\\u03b9\\u03c3\\u03c4\\u03c1\\u03ad\\u03c6\\u03c9\", \"\\u03c3\\u03c5\\u03bb\\u03bb\\u03ad\\u03b3\\u03c9\", \"\\u03b8\\u03b5\\u03c1\\u03b9\\u03c3\\u03c4\\u03ae\\u03c2\", \"\\u03c0\\u03b1\\u03c4\\u03c1\\u03af\\u03c2\", \"\\u03b1\\u1f30\\u03b3\\u03b9\\u03b1\\u03bb\\u03cc\\u03c2\", \"\\u03c0\\u03b5\\u03c4\\u03c1\\u03ce\\u03b4\\u03b7\\u03c2\", \"\\u03ba\\u03b1\\u03c4\\u03b1\\u03b4\\u03b9\\u03ba\\u03ac\\u03b6\\u03c9\", \"\\u1f11\\u03be\\u03ae\\u03ba\\u03bf\\u03bd\\u03c4\\u03b1\", \"\\u03ba\\u03ac\\u03bc\\u03b9\\u03bd\\u03bf\\u03c2\", \"\\u03c0\\u03b1\\u03c1\\u03b1\\u03c4\\u03af\\u03b8\\u03b7\\u03bc\\u03b9\", \"\\u1f00\\u03bd\\u03b1\\u03af\\u03c4\\u03b9\\u03bf\\u03c2\", \"\\u03b5\\u1f30\\u03c1\\u03ae\\u03bd\\u03b7\", \"\\u1f00\\u03ba\\u03ac\\u03b8\\u03b1\\u03c1\\u03c4\\u03bf\\u03c2\", \"\\u03c3\\u03c0\\u03ad\\u03c1\\u03bc\\u03b1\", \"\\u03c3\\u03c0\\u03b5\\u03af\\u03c1\\u03c9\", \"\\u03c0\\u03bb\\u03bf\\u1fe6\\u03c4\\u03bf\\u03c2\", \"\\u03bb\\u03af\\u03bd\\u03bf\\u03bd\", \"\\u03c6\\u03b1\\u03bd\\u03b5\\u03c1\\u03cc\\u03c2\", \"\\u03ba\\u03b1\\u03c4\\u03b1\\u03c3\\u03ba\\u03b7\\u03bd\\u03cc\\u03c9\", \"\\u03c3\\u03c5\\u03bc\\u03c0\\u03bd\\u03af\\u03b3\\u03c9\", \"\\u1f10\\u03b3\\u03ba\\u03c1\\u03cd\\u03c0\\u03c4\\u03c9\", \"\\u1f10\\u03c0\\u03b9\\u03c3\\u03c0\\u03b5\\u03af\\u03c1\\u03c9\", \"\\u1f14\\u03bc\\u03c0\\u03bf\\u03c1\\u03bf\\u03c2\", \"\\u1f00\\u03bd\\u03b1\\u03c0\\u03bb\\u03b7\\u03c1\\u03cc\\u03c9\", \"\\u03ba\\u03b1\\u03c1\\u03c0\\u03bf\\u03c6\\u03bf\\u03c1\\u03ad\\u03c9\", \"\\u03ba\\u03b1\\u03bc\\u03bc\\u03cd\\u03c9\", \"\\u1f10\\u03be\\u03af\\u03c3\\u03c4\\u03b7\\u03bc\\u03b9\", \"\\u03c0\\u03b1\\u03c1\\u03b1\\u03b2\\u03bf\\u03bb\\u03ae\", \"\\u03bf\\u1f56\\u03c2\", \"\\u1f00\\u03bd\\u03b1\\u03b2\\u03b9\\u03b2\\u03ac\\u03b6\\u03c9\", \"\\u1f45\\u03bc\\u03bf\\u03b9\\u03bf\\u03c2\", \"\\u03c3\\u03ac\\u03b2\\u03b2\\u03b1\\u03c4\\u03bf\\u03bd\", \"\\u03c3\\u03b1\\u03c0\\u03c1\\u03cc\\u03c2\", \"\\u03bc\\u03b1\\u03c1\\u03b3\\u03b1\\u03c1\\u03af\\u03c4\\u03b7\\u03c2\", \"\\u1f00\\u03b4\\u03b5\\u03bb\\u03c6\\u03ae\", \"\\u03bb\\u03b1\\u03bb\\u03ad\\u03c9\", \"\\u03c0\\u03cc\\u03b8\\u03b5\\u03bd\", \"\\u03b1\\u1f30\\u03ce\\u03bd\", \"\\u03c3\\u03c5\\u03bd\\u03af\\u03b7\\u03bc\\u03b9\", \"\\u03c3\\u1fd6\\u03c4\\u03bf\\u03c2\", \"\\u03ba\\u03b1\\u03bb\\u03cc\\u03c2\", \"\\u03ba\\u03c1\\u03af\\u03c3\\u03b9\\u03c2\", \"\\u1f00\\u03ba\\u03bf\\u03cd\\u03c9\", \"\\u1f38\\u03c9\\u03bd\\u1fb6\\u03c2\", \"\\u03c0\\u03bf\\u03bd\\u03b7\\u03c1\\u03cc\\u03c2\", \"\\u03b2\\u03bb\\u03ad\\u03c0\\u03c9\", \"\\u03b2\\u03b1\\u03c3\\u03b9\\u03bb\\u03b5\\u03af\\u03b1\", \"\\u03bb\\u03cc\\u03b3\\u03bf\\u03c2\", \"\\u03b5\\u1f30\\u03bc\\u03af\", \"\\u1f10\\u03ba\\u03b2\\u03ac\\u03bb\\u03bb\\u03c9\", \"\\u03ba\\u03c1\\u03cd\\u03c0\\u03c4\\u03c9\", \"\\u1f04\\u03bd\\u03b8\\u03c1\\u03c9\\u03c0\\u03bf\\u03c2\", \"\\u03bf\\u1f30\\u03ba\\u03af\\u03b1\", \"\\u03c0\\u1fb6\\u03c2\", \"\\u1f14\\u03c7\\u03c9\", \"\\u03c0\\u03bd\\u03b5\\u1fe6\\u03bc\\u03b1\", \"\\u1f00\\u03b3\\u03c1\\u03cc\\u03c2\", \"\\u03bb\\u03ad\\u03b3\\u03c9\", \"\\u03c0\\u03bf\\u03b9\\u03ad\\u03c9\", \"\\u03bc\\u03ae\\u03c4\\u03b7\\u03c1\", \"\\u03bf\\u1f50\\u03c1\\u03b1\\u03bd\\u03cc\\u03c2\", \"\\u1f41\\u03c1\\u03ac\\u03c9\", \"\\u03c5\\u1f31\\u03cc\\u03c2\", \"\\u1f14\\u03c1\\u03c7\\u03bf\\u03bc\\u03b1\\u03b9\", \"\\u1f00\\u03b4\\u03b5\\u03bb\\u03c6\\u03cc\\u03c2\", \"\\u03c0\\u03bf\\u03bb\\u03cd\\u03c2\", \"\\u1f04\\u03bb\\u03bb\\u03bf\\u03c2\", \"\\u03c4\\u03cc\\u03c4\\u03b5\", \"\\u03c0\\u03c1\\u03bf\\u03c6\\u03ae\\u03c4\\u03b7\\u03c2\", \"\\u03b3\\u1fc6\", \"\\u1f10\\u03be\\u03ad\\u03c1\\u03c7\\u03bf\\u03bc\\u03b1\\u03b9\", \"\\u03b1\\u1f54\\u03c1\\u03b9\\u03bf\\u03bd\", \"\\u1f10\\u03bb\\u03b5\\u03b7\\u03bc\\u03bf\\u03c3\\u03cd\\u03bd\\u03b7\", \"\\u1f00\\u03c6\\u03b1\\u03bd\\u03af\\u03b6\\u03c9\", \"\\u03b4\\u03bf\\u03c5\\u03bb\\u03b5\\u03cd\\u03c9\", \"\\u03c0\\u03c1\\u03bf\\u03c3\\u03c4\\u03af\\u03b8\\u03b7\\u03bc\\u03b9\", \"\\u03b8\\u03b7\\u03c3\\u03b1\\u03c5\\u03c1\\u03af\\u03b6\\u03c9\", \"\\u03ba\\u03c1\\u03c5\\u03c6\\u03b1\\u1fd6\\u03bf\\u03c2\", \"\\u03c3\\u03ae\\u03c2\", \"\\u03b2\\u03c1\\u1ff6\\u03c3\\u03b9\\u03c2\", \"\\u03c0\\u03b1\\u03c1\\u03ac\\u03c0\\u03c4\\u03c9\\u03bc\\u03b1\", \"\\u03ba\\u03bb\\u03ad\\u03c0\\u03c4\\u03b7\\u03c2\", \"\\u03b4\\u03b9\\u03bf\\u03c1\\u03cd\\u03c3\\u03c3\\u03c9\", \"\\u03bc\\u03b5\\u03c1\\u03b9\\u03bc\\u03bd\\u03ac\\u03c9\", \"\\u03bd\\u03ae\\u03b8\\u03c9\", \"\\u1fe5\\u03cd\\u03bc\\u03b7\", \"\\u03c3\\u03ba\\u03bf\\u03c4\\u03b5\\u03b9\\u03bd\\u03cc\\u03c2\", \"\\u03c7\\u03c1\\u1fc4\\u03b6\\u03c9\", \"\\u1f00\\u03c1\\u03b9\\u03c3\\u03c4\\u03b5\\u03c1\\u03cc\\u03c2\", \"\\u03bc\\u03b1\\u03bc\\u03c9\\u03bd\\u1fb6\\u03c2\", \"\\u03c3\\u03ba\\u03c5\\u03b8\\u03c1\\u03c9\\u03c0\\u03cc\\u03c2\", \"\\u1f00\\u03bd\\u03c4\\u03ad\\u03c7\\u03c9\", \"\\u03b2\\u03b1\\u03c4\\u03c4\\u03b1\\u03bb\\u03bf\\u03b3\\u03ad\\u03c9\", \"\\u1f21\\u03bb\\u03b9\\u03ba\\u03af\\u03b1\", \"\\u03ba\\u03c1\\u03af\\u03bd\\u03bf\\u03bd\", \"\\u1f01\\u03c0\\u03bb\\u03bf\\u1fe6\\u03c2\", \"\\u03c3\\u03b1\\u03bb\\u03c0\\u03af\\u03b6\\u03c9\", \"\\u03c0\\u03bf\\u03bb\\u03c5\\u03bb\\u03bf\\u03b3\\u03af\\u03b1\", \"\\u03ba\\u03b1\\u03c4\\u03b1\\u03bc\\u03b1\\u03bd\\u03b8\\u03ac\\u03bd\\u03c9\", \"\\u1f40\\u03c6\\u03b5\\u03af\\u03bb\\u03b7\\u03bc\\u03b1\", \"\\u03b5\\u1f30\\u03c3\\u03c6\\u03ad\\u03c1\\u03c9\", \"\\u03ba\\u03c1\\u03c5\\u03c0\\u03c4\\u03cc\\u03c2\", \"\\u03bf\\u1f50\\u03c1\\u03ac\\u03bd\\u03b9\\u03bf\\u03c2\", \"\\u1f00\\u03c0\\u03ad\\u03c7\\u03c9\", \"\\u1f51\\u03c0\\u03bf\\u03ba\\u03c1\\u03b9\\u03c4\\u03ae\\u03c2\", \"\\u03bd\\u03b7\\u03c3\\u03c4\\u03b5\\u03cd\\u03c9\", \"\\u03c0\\u03b5\\u03c1\\u03b9\\u03b2\\u03ac\\u03bb\\u03bb\\u03c9\", \"\\u03c6\\u03c9\\u03c4\\u03b5\\u03b9\\u03bd\\u03cc\\u03c2\", \"\\u1f45\\u03c0\\u03bf\\u03c5\", \"\\u03c0\\u03c1\\u03bf\\u03c3\\u03b5\\u03cd\\u03c7\\u03bf\\u03bc\\u03b1\\u03b9\", \"\\u03c0\\u03b1\\u03c4\\u03ae\\u03c1\", \"\\u03bc\\u03b9\\u03c3\\u03b8\\u03cc\\u03c2\", \"\\u03c6\\u03b1\\u03af\\u03bd\\u03c9\", \"\\u03c3\\u1ff6\\u03bc\\u03b1\", \"\\u03b8\\u03b7\\u03c3\\u03b1\\u03c5\\u03c1\\u03cc\\u03c2\", \"\\u1f00\\u03c6\\u03af\\u03b7\\u03bc\\u03b9\", \"\\u1f14\\u03bd\\u03b4\\u03c5\\u03bc\\u03b1\", \"\\u03b5\\u1f30\\u03bc\\u03af\", \"\\u1f04\\u03bd\\u03b8\\u03c1\\u03c9\\u03c0\\u03bf\\u03c2\", \"\\u1f00\\u03c0\\u03bf\\u03b4\\u03af\\u03b4\\u03c9\\u03bc\\u03b9\", \"\\u03c0\\u03bf\\u03b9\\u03ad\\u03c9\", \"\\u03bf\\u1f50\\u03c1\\u03b1\\u03bd\\u03cc\\u03c2\", \"\\u03b5\\u1f37\\u03c2\", \"\\u03bb\\u03ad\\u03b3\\u03c9\", \"\\u1f40\\u03c6\\u03b8\\u03b1\\u03bb\\u03bc\\u03cc\\u03c2\", \"\\u03b4\\u03cd\\u03bd\\u03b1\\u03bc\\u03b1\\u03b9\", \"\\u03b2\\u03bb\\u03ad\\u03c0\\u03c9\", \"\\u03c0\\u03c1\\u03cc\\u03c3\\u03c9\\u03c0\\u03bf\\u03bd\", \"\\u03c0\\u1fb6\\u03c2\", \"\\u03b3\\u1fc6\", \"\\u03c0\\u03c5\\u03c1\\u03c1\\u03ac\\u03b6\\u03c9\", \"\\u03ba\\u03cc\\u03c6\\u03b9\\u03bd\\u03bf\\u03c2\", \"\\u03c0\\u03b5\\u03bd\\u03c4\\u03b1\\u03ba\\u03b9\\u03c3\\u03c7\\u03af\\u03bb\\u03b9\\u03bf\\u03b9\", \"\\u03ba\\u03b1\\u03c4\\u03b9\\u03c3\\u03c7\\u03cd\\u03c9\", \"\\u03ba\\u03bb\\u03b5\\u03af\\u03c2\", \"\\u03b5\\u1f50\\u03b4\\u03af\\u03b1\", \"\\u03bc\\u03bd\\u03b7\\u03bc\\u03bf\\u03bd\\u03b5\\u03cd\\u03c9\", \"\\u1f35\\u03bb\\u03b5\\u03c9\\u03c2\", \"\\u03c0\\u03c1\\u03bf\\u03c3\\u03bb\\u03b1\\u03bc\\u03b2\\u03ac\\u03bd\\u03c9\", \"\\u1f00\\u03bd\\u03c4\\u03ac\\u03bb\\u03bb\\u03b1\\u03b3\\u03bc\\u03b1\", \"\\u1f10\\u03c0\\u03b9\\u03bb\\u03b1\\u03bd\\u03b8\\u03ac\\u03bd\\u03bf\\u03bc\\u03b1\\u03b9\", \"\\u0392\\u03b1\\u03c1\\u03b9\\u03c9\\u03bd\\u1fb6\", \"\\u03c0\\u03c1\\u1fb6\\u03be\\u03b9\\u03c2\", \"\\u03c6\\u03c1\\u03bf\\u03bd\\u03ad\\u03c9\", \"\\u03b4\\u03b9\\u03b1\\u03bb\\u03bf\\u03b3\\u03af\\u03b6\\u03bf\\u03bc\\u03b1\\u03b9\", \"\\u03a3\\u03b1\\u03b4\\u03b4\\u03bf\\u03c5\\u03ba\\u03b1\\u1fd6\\u03bf\\u03c2\", \"\\u03b4\\u03b9\\u03b1\\u03ba\\u03c1\\u03af\\u03bd\\u03c9\", \"\\u03a6\\u03af\\u03bb\\u03b9\\u03c0\\u03c0\\u03bf\\u03c2\", \"\\u03b6\\u03cd\\u03bc\\u03b7\", \"\\u03bd\\u03bf\\u03ad\\u03c9\", \"\\u1f10\\u03ba\\u03ba\\u03bb\\u03b7\\u03c3\\u03af\\u03b1\", \"\\u03c3\\u03c4\\u03c5\\u03b3\\u03bd\\u03ac\\u03b6\\u03c9\", \"\\u039a\\u03b1\\u03b9\\u03c3\\u03ac\\u03c1\\u03b5\\u03b9\\u03b1\", \"\\u03b6\\u03b7\\u03bc\\u03b9\\u03cc\\u03c9\", \"\\u03bf\\u1f54\\u03c0\\u03c9\", \"\\u03c7\\u03b5\\u03b9\\u03bc\\u03ce\\u03bd\", \"\\u03c0\\u03c1\\u03bf\\u03c3\\u03ad\\u03c7\\u03c9\", \"\\u1f85\\u03b4\\u03b7\\u03c2\", \"\\u1f04\\u03c1\\u03c4\\u03bf\\u03c2\", \"\\u1f10\\u03c0\\u03b9\\u03b4\\u03b5\\u03af\\u03ba\\u03bd\\u03c5\\u03bc\\u03b9\", \"\\u03c3\\u03b7\\u03bc\\u03b5\\u1fd6\\u03bf\\u03bd\", \"\\u03c8\\u03c5\\u03c7\\u03ae\", \"\\u03bb\\u03cd\\u03c9\", \"\\u03a6\\u03b1\\u03c1\\u03b9\\u03c3\\u03b1\\u1fd6\\u03bf\\u03c2\", \"\\u03bf\\u1f50\\u03c1\\u03b1\\u03bd\\u03cc\\u03c2\", \"\\u03a0\\u03ad\\u03c4\\u03c1\\u03bf\\u03c2\", \"\\u03c3\\u03ac\\u03c1\\u03be\", \"\\u03bb\\u03ad\\u03b3\\u03c9\", \"\\u03b5\\u1f30\\u03bc\\u03af\", \"\\u03a7\\u03c1\\u03b9\\u03c3\\u03c4\\u03cc\\u03c2\", \"\\u1f04\\u03bd\\u03b8\\u03c1\\u03c9\\u03c0\\u03bf\\u03c2\", \"\\u03bc\\u03b1\\u03b8\\u03b7\\u03c4\\u03ae\\u03c2\", \"\\u03c4\\u03cc\\u03c4\\u03b5\", \"\\u1f10\\u03c0\\u03b9\\u03c4\\u03b9\\u03bc\\u03ac\\u03c9\", \"\\u03bb\\u03b1\\u03bc\\u03b2\\u03ac\\u03bd\\u03c9\", \"\\u1f14\\u03c1\\u03c7\\u03bf\\u03bc\\u03b1\\u03b9\", \"\\u1f38\\u03b7\\u03c3\\u03bf\\u1fe6\\u03c2\", \"\\u03a3\\u03af\\u03bc\\u03c9\\u03bd\", \"\\u03b4\\u03ad\\u03c9\", \"\\u1f04\\u03c1\\u03c7\\u03c9\", \"\\u03c5\\u1f31\\u03cc\\u03c2\", \"\\u03b4\\u03af\\u03b4\\u03c9\\u03bc\\u03b9\", \"\\u1f00\\u03c0\\u03bf\\u03ba\\u03c1\\u03af\\u03bd\\u03bf\\u03bc\\u03b1\\u03b9\", \"\\u03b3\\u03b9\\u03bd\\u03ce\\u03c3\\u03ba\\u03c9\", \"\\u1f00\\u03c0\\u03cc\\u03bb\\u03bb\\u03c5\\u03bc\\u03b9\", \"\\u039d\\u03b1\\u03b6\\u03b1\\u03c1\\u03b7\\u03bd\\u03cc\\u03c2\", \"\\u03b4\\u03cd\\u03bd\\u03c9\", \"\\u03b8\\u03b1\\u03bc\\u03b2\\u03ad\\u03c9\", \"\\u03b8\\u03b7\\u03c1\\u03af\\u03bf\\u03bd\", \"\\u03ba\\u03b1\\u03b8\\u03b1\\u03c1\\u03b9\\u03c3\\u03bc\\u03cc\\u03c2\", \"\\u03ba\\u03b1\\u03c4\\u03ac\\u03ba\\u03b5\\u03b9\\u03bc\\u03b1\\u03b9\", \"\\u03ba\\u03b1\\u03c4\\u03b1\\u03b4\\u03b9\\u03ce\\u03ba\\u03c9\", \"\\u03ba\\u03c9\\u03bc\\u03cc\\u03c0\\u03bf\\u03bb\\u03b9\\u03c2\", \"\\u03ba\\u03cd\\u03c0\\u03c4\\u03c9\", \"\\u03bc\\u03b9\\u03c3\\u03b8\\u03c9\\u03c4\\u03cc\\u03c2\", \"\\u03c0\\u03ac\\u03bd\\u03c4\\u03bf\\u03b8\\u03b5\\u03bd\", \"\\u03c0\\u03b1\\u03bd\\u03c4\\u03b1\\u03c7\\u03bf\\u1fe6\", \"\\u03c3\\u03c0\\u03b1\\u03c1\\u03ac\\u03c3\\u03c3\\u03c9\", \"\\u03c3\\u03c5\\u03b6\\u03b7\\u03c4\\u03ad\\u03c9\", \"\\u03c6\\u03b1\\u03bd\\u03b5\\u03c1\\u1ff6\\u03c2\", \"\\u1f00\\u03bb\\u03bb\\u03b1\\u03c7\\u03bf\\u1fe6\", \"\\u1f00\\u03bc\\u03c6\\u03b9\\u03b2\\u03ac\\u03bb\\u03bb\\u03c9\", \"\\u1f00\\u03bd\\u03b1\\u03ba\\u03c1\\u03ac\\u03b6\\u03c9\", \"\\u1f10\\u03c0\\u03b9\\u03c4\\u03ac\\u03c3\\u03c3\\u03c9\", \"\\u1f14\\u03bd\\u03bd\\u03c5\\u03c7\\u03bf\\u03c2\", \"\\u1f31\\u03bc\\u03ac\\u03c2\", \"\\u1f39\\u03b5\\u03c1\\u03bf\\u03c3\\u03bf\\u03bb\\u03c5\\u03bc\\u03af\\u03c4\\u03b7\\u03c2\", \"\\u1f45\\u03c4\\u03b5\", \"\\u0392\\u03b1\\u03c1\\u03c4\\u03b9\\u03bc\\u03b1\\u1fd6\\u03bf\\u03c2\", \"\\u03a4\\u03b9\\u03bc\\u03b1\\u1fd6\\u03bf\\u03c2\", \"\\u03b4\\u03cd\\u03c3\\u03ba\\u03bf\\u03bb\\u03bf\\u03c2\", \"\\u03ba\\u03b1\\u03c4\\u03b5\\u03c5\\u03bb\\u03bf\\u03b3\\u03ad\\u03c9\", \"\\u03ba\\u03c4\\u03af\\u03c3\\u03b9\\u03c2\", \"\\u03bd\\u03b5\\u03cc\\u03c4\\u03b7\\u03c2\", \"\\u03c0\\u03b5\\u03c1\\u03b9\\u03b2\\u03bb\\u03ad\\u03c0\\u03c9\", \"\\u03b4\\u03af\\u03ba\\u03c4\\u03c5\\u03bf\\u03bd\", \"\\u03b2\\u03ac\\u03c3\\u03b1\\u03bd\\u03bf\\u03c2\", \"\\u03c3\\u03c5\\u03bd\\u03ad\\u03c7\\u03c9\", \"\\u0396\\u03b1\\u03b2\\u03bf\\u03c5\\u03bb\\u03ce\\u03bd\", \"\\u1f10\\u03ba\\u03c0\\u03b5\\u03b9\\u03c1\\u03ac\\u03b6\\u03c9\", \"\\u1f00\\u03bd\\u03ac\\u03b3\\u03c9\", \"\\u1f01\\u03bb\\u03b9\\u03b5\\u03cd\\u03c2\", \"\\u03c0\\u03bf\\u03b9\\u03ba\\u03af\\u03bb\\u03bf\\u03c2\", \"\\u03c0\\u03c1\\u03bf\\u03b2\\u03b1\\u03af\\u03bd\\u03c9\", \"\\u03c0\\u03b1\\u03c1\\u03b1\\u03b8\\u03b1\\u03bb\\u03ac\\u03c3\\u03c3\\u03b9\\u03bf\\u03c2\", \"\\u03a3\\u03c5\\u03c1\\u03af\\u03b1\", \"\\u039d\\u03b5\\u03c6\\u03b8\\u03b1\\u03bb\\u03af\\u03bc\", \"\\u03bb\\u03b1\\u03c4\\u03c1\\u03b5\\u03cd\\u03c9\", \"\\u03c4\\u03b5\\u03c3\\u03c3\\u03b5\\u03c1\\u03ac\\u03ba\\u03bf\\u03bd\\u03c4\\u03b1\", \"\\u0394\\u03b5\\u03ba\\u03ac\\u03c0\\u03bf\\u03bb\\u03b9\\u03c2\", \"\\u03c3\\u03ba\\u03b9\\u03ac\", \"\\u03c0\\u03c4\\u03b5\\u03c1\\u03cd\\u03b3\\u03b9\\u03bf\\u03bd\", \"\\u1f00\\u03bc\\u03c6\\u03af\\u03b2\\u03bb\\u03b7\\u03c3\\u03c4\\u03c1\\u03bf\\u03bd\", \"\\u1f00\\u03bb\\u03ae\\u03b8\\u03c9\", \"\\u03b4\\u03b9\\u03c7\\u03bf\\u03c4\\u03bf\\u03bc\\u03ad\\u03c9\", \"\\u03c0\\u03cc\\u03bb\\u03b5\\u03bc\\u03bf\\u03c2\", \"\\u1f10\\u03ac\\u03c9\", \"\\u03c0\\u03b1\\u03c1\\u03bf\\u03c5\\u03c3\\u03af\\u03b1\", \"\\u1f00\\u03ba\\u03c1\\u03b1\\u03c3\\u03af\\u03b1\", \"\\u1f60\\u03b4\\u03af\\u03bd\", \"\\u03b2\\u03b4\\u03ad\\u03bb\\u03c5\\u03b3\\u03bc\\u03b1\", \"\\u03c6\\u03c5\\u03b3\\u03ae\", \"\\u03ba\\u03b1\\u03c4\\u03b1\\u03c0\\u03af\\u03bd\\u03c9\", \"\\u1f40\\u03c3\\u03c4\\u03ad\\u03bf\\u03bd\", \"\\u039d\\u1ff6\\u03b5\", \"\\u1f04\\u03ba\\u03c1\\u03bf\\u03bd\", \"\\u03ba\\u03b1\\u03c4\\u03b1\\u03ba\\u03bb\\u03c5\\u03c3\\u03bc\\u03cc\\u03c2\", \"\\u03b2\\u03b1\\u03c1\\u03cd\\u03c2\", \"\\u03c4\\u03ad\\u03c1\\u03b1\\u03c2\", \"\\u1f14\\u03be\\u03c9\\u03b8\\u03b5\\u03bd\", \"\\u03ba\\u03b1\\u03b8\\u03b7\\u03b3\\u03b7\\u03c4\\u03ae\\u03c2\", \"\\u03ba\\u03bf\\u03bb\\u03bf\\u03b2\\u03cc\\u03c9\", \"\\u03bb\\u03b9\\u03bc\\u03cc\\u03c2\", \"\\u03bc\\u03b5\\u03b8\\u03cd\\u03c9\", \"\\u03b3\\u03ad\\u03bc\\u03c9\", \"\\u03c4\\u03c1\\u03ce\\u03b3\\u03c9\", \"\\u1f00\\u03b5\\u03c4\\u03cc\\u03c2\", \"\\u1f01\\u03c0\\u03b1\\u03bb\\u03cc\\u03c2\", \"\\u03c0\\u03bb\\u03b7\\u03b8\\u03cd\\u03bd\\u03c9\", \"\\u1f10\\u03ba\\u03c6\\u03cd\\u03c9\", \"\\u03bf\\u1f30\\u03ba\\u03b5\\u03c4\\u03b5\\u03af\\u03b1\", \"\\u03bc\\u03ac\\u03b3\\u03bf\\u03c2\", \"\\u1f10\\u03c0\\u03b9\\u03c3\\u03c5\\u03bd\\u03ac\\u03b3\\u03c9\", \"\\u03c4\\u03ad\\u03c3\\u03c3\\u03b1\\u03c1\\u03b5\\u03c2\", \"\\u0392\\u03b7\\u03b8\\u03bb\\u03ad\\u03b5\\u03bc\", \"\\u0391\\u1f34\\u03b3\\u03c5\\u03c0\\u03c4\\u03bf\\u03c2\", \"\\u1f00\\u03ba\\u03c1\\u03b9\\u03b2\\u03cc\\u03c9\", \"\\u03c8\\u03b5\\u03c5\\u03b4\\u03cc\\u03c7\\u03c1\\u03b9\\u03c3\\u03c4\\u03bf\\u03c2\", \"\\u03bb\\u03ad\\u03b3\\u03c9\", \"\\u03b5\\u1f30\\u03bc\\u03af\", \"\\u1f38\\u03b7\\u03c3\\u03bf\\u1fe6\\u03c2\", \"\\u1f41\\u03c1\\u03ac\\u03c9\", \"\\u03c0\\u1fb6\\u03c2\", \"\\u1f14\\u03c1\\u03c7\\u03bf\\u03bc\\u03b1\\u03b9\", \"\\u1f04\\u03bd\\u03b8\\u03c1\\u03c9\\u03c0\\u03bf\\u03c2\", \"\\u03c4\\u03cc\\u03c4\\u03b5\", \"\\u03c5\\u1f31\\u03cc\\u03c2\", \"\\u03c0\\u03bf\\u03b9\\u03ad\\u03c9\", \"\\u03ba\\u03cd\\u03c1\\u03b9\\u03bf\\u03c2\", \"\\u03bf\\u1f50\\u03c1\\u03b1\\u03bd\\u03cc\\u03c2\", \"\\u03b3\\u03af\\u03bd\\u03bf\\u03bc\\u03b1\\u03b9\", \"\\u1f14\\u03c7\\u03c9\", \"\\u03bc\\u03b1\\u03b8\\u03b7\\u03c4\\u03ae\\u03c2\", \"\\u03b5\\u1f37\\u03c2\", \"\\u03c0\\u03bf\\u03bb\\u03cd\\u03c2\", \"\\u1f00\\u03ba\\u03bf\\u03cd\\u03c9\", \"\\u03c0\\u03b1\\u03c4\\u03ae\\u03c1\", \"\\u03b4\\u03af\\u03b4\\u03c9\\u03bc\\u03b9\", \"\\u1f00\\u03c0\\u03bf\\u03ba\\u03c1\\u03af\\u03bd\\u03bf\\u03bc\\u03b1\\u03b9\", \"\\u03b8\\u03b5\\u03cc\\u03c2\", \"\\u1f21\\u03bc\\u03ad\\u03c1\\u03b1\", \"\\u03b2\\u03b1\\u03c3\\u03b9\\u03bb\\u03b5\\u03af\\u03b1\", \"\\u03bb\\u03b1\\u03bc\\u03b2\\u03ac\\u03bd\\u03c9\", \"\\u03b3\\u03b5\\u03bd\\u03bd\\u03ac\\u03c9\", \"\\u1f00\\u03c6\\u03af\\u03b7\\u03bc\\u03b9\", \"\\u03c0\\u03c1\\u03bf\\u03c3\\u03ad\\u03c1\\u03c7\\u03bf\\u03bc\\u03b1\\u03b9\", \"\\u1f44\\u03c7\\u03bb\\u03bf\\u03c2\", \"\\u03b3\\u1fc6\", \"\\u03bc\\u03ad\\u03bb\\u03bf\\u03c2\", \"\\u1f00\\u03c1\\u03c7\\u03b1\\u1fd6\\u03bf\\u03c2\", \"\\u1f05\\u03bb\\u03b1\\u03c2\", \"\\u1f00\\u03bd\\u03c4\\u03af\\u03b4\\u03b9\\u03ba\\u03bf\\u03c2\", \"\\u03b3\\u03ad\\u03b5\\u03bd\\u03bd\\u03b1\", \"\\u03b8\\u03c5\\u03c3\\u03b9\\u03b1\\u03c3\\u03c4\\u03ae\\u03c1\\u03b9\\u03bf\\u03bd\", \"\\u03bb\\u03c5\\u03c7\\u03bd\\u03af\\u03b1\", \"\\u03bc\\u03cc\\u03b4\\u03b9\\u03bf\\u03c2\", \"\\u1f01\\u03bb\\u03af\\u03b6\\u03c9\", \"\\u03b2\\u03c1\\u03ad\\u03c7\\u03c9\", \"\\u1f00\\u03b3\\u03b1\\u03bb\\u03bb\\u03b9\\u03ac\\u03c9\", \"\\u1f00\\u03bd\\u03b8\\u03af\\u03c3\\u03c4\\u03b7\\u03bc\\u03b9\", \"\\u03c3\\u03b9\\u03b1\\u03b3\\u03ce\\u03bd\", \"\\u03ba\\u03bf\\u03b4\\u03c1\\u03ac\\u03bd\\u03c4\\u03b7\\u03c2\", \"\\u03b4\\u03b1\\u03bd\\u03af\\u03b6\\u03c9\", \"\\u1f10\\u03c0\\u03b9\\u03bf\\u03c1\\u03ba\\u03ad\\u03c9\", \"\\u03ba\\u03b5\\u03c1\\u03b1\\u03af\\u03b1\", \"\\u1f10\\u03bb\\u03b5\\u03ae\\u03bc\\u03c9\\u03bd\", \"\\u1f30\\u1ff6\\u03c4\\u03b1\", \"\\u1f04\\u03b4\\u03b9\\u03ba\\u03bf\\u03c2\", \"\\u1f45\\u03bb\\u03c9\\u03c2\", \"\\u03ba\\u03b1\\u03af\\u03c9\", \"\\u03bc\\u03af\\u03bb\\u03b9\\u03bf\\u03bd\", \"\\u03b5\\u1f50\\u03bd\\u03bf\\u03ad\\u03c9\", \"\\u1fe5\\u03b1\\u03ba\\u03ac\", \"\\u03b5\\u1f30\\u03c1\\u03b7\\u03bd\\u03bf\\u03c0\\u03bf\\u03b9\\u03cc\\u03c2\", \"\\u03bc\\u03c9\\u03c1\\u03b1\\u03af\\u03bd\\u03c9\", \"\\u03bc\\u03bf\\u03b9\\u03c7\\u03b5\\u03cd\\u03c9\", \"\\u03b4\\u03b9\\u03ce\\u03ba\\u03c9\", \"\\u03c4\\u03ad\\u03bb\\u03b5\\u03b9\\u03bf\\u03c2\", \"\\u03bc\\u03b1\\u03ba\\u03ac\\u03c1\\u03b9\\u03bf\\u03c2\", \"\\u03c6\\u03bf\\u03bd\\u03b5\\u03cd\\u03c9\", \"\\u1f14\\u03bd\\u03bf\\u03c7\\u03bf\\u03c2\", \"\\u03c3\\u03c5\\u03bc\\u03c6\\u03ad\\u03c1\\u03c9\", \"\\u1f00\\u03b3\\u03b1\\u03c0\\u03ac\\u03c9\", \"\\u1f10\\u03bb\\u03ac\\u03c7\\u03b9\\u03c3\\u03c4\\u03bf\\u03c2\", \"\\u03c0\\u03b5\\u03c1\\u03b9\\u03c3\\u03c3\\u03cc\\u03c2\", \"\\u03b4\\u1ff6\\u03c1\\u03bf\\u03bd\", \"\\u03ba\\u03c1\\u03b9\\u03c4\\u03ae\\u03c2\", \"\\u03b4\\u03b9\\u03ba\\u03b1\\u03b9\\u03bf\\u03c3\\u03cd\\u03bd\\u03b7\", \"\\u03b5\\u1f36\\u03c0\\u03bf\\u03bd\", \"\\u03bf\\u1f50\\u03c1\\u03b1\\u03bd\\u03cc\\u03c2\", \"\\u03bd\\u03cc\\u03bc\\u03bf\\u03c2\", \"\\u03c6\\u1ff6\\u03c2\", \"\\u03b5\\u1f30\\u03bc\\u03af\", \"\\u1f00\\u03b4\\u03b5\\u03bb\\u03c6\\u03cc\\u03c2\", \"\\u03ba\\u03b1\\u03c4\\u03b1\\u03bb\\u03cd\\u03c9\", \"\\u03b4\\u03b5\\u03be\\u03b9\\u03cc\\u03c2\", \"\\u03b4\\u03b9\\u03b4\\u03ac\\u03c3\\u03ba\\u03c9\", \"\\u03ba\\u03b1\\u03bb\\u03ad\\u03c9\", \"\\u03b2\\u03ac\\u03bb\\u03bb\\u03c9\", \"\\u03b5\\u1f37\\u03c2\", \"\\u03c0\\u03bf\\u03bd\\u03b7\\u03c1\\u03cc\\u03c2\", \"\\u03b2\\u03b1\\u03c3\\u03b9\\u03bb\\u03b5\\u03af\\u03b1\", \"\\u1f00\\u03ba\\u03bf\\u03cd\\u03c9\", \"\\u1f00\\u03c0\\u03bf\\u03bb\\u03cd\\u03c9\", \"\\u03b3\\u1fc6\", \"\\u03c0\\u03bf\\u03b9\\u03ad\\u03c9\", \"\\u03c0\\u1fb6\\u03c2\", \"\\u03b3\\u03c5\\u03bd\\u03ae\", \"\\u03b8\\u03b5\\u03cc\\u03c2\", \"\\u03bb\\u03ad\\u03b3\\u03c9\", \"\\u03b3\\u03b5\\u03bd\\u03bd\\u03ac\\u03c9\", \"\\u03bc\\u03b5\\u03c4\\u03bf\\u03b9\\u03ba\\u03b5\\u03c3\\u03af\\u03b1\", \"\\u0392\\u03b1\\u03b2\\u03c5\\u03bb\\u03ce\\u03bd\", \"\\u03b4\\u03b5\\u03ba\\u03b1\\u03c4\\u03ad\\u03c3\\u03c3\\u03b1\\u03c1\\u03b5\\u03c2\", \"\\u03c4\\u03af\\u03ba\\u03c4\\u03c9\", \"\\u1f08\\u03b6\\u03ce\\u03c1\", \"\\u1f19\\u03b6\\u03b5\\u03ba\\u03af\\u03b1\\u03c2\", \"\\u1f38\\u03c9\\u03c3\\u03b1\\u03c6\\u03ac\\u03c4\", \"\\u1f08\\u03b2\\u03b9\\u03ac\", \"\\u1f38\\u03c9\\u03b1\\u03b8\\u03ac\\u03bc\", \"\\u1f18\\u03bb\\u03b9\\u03bf\\u03cd\\u03b4\", \"\\u1f08\\u03c1\\u03ac\\u03bc\", \"\\u1f18\\u03bb\\u03b9\\u03b1\\u03ba\\u03af\\u03bc\", \"\\u03b3\\u03ad\\u03bd\\u03b5\\u03c3\\u03b9\\u03c2\", \"\\u0392\\u03cc\\u03b5\\u03c2\", \"\\u1f38\\u03b5\\u03c7\\u03bf\\u03bd\\u03af\\u03b1\\u03c2\", \"\\u1f08\\u03c3\\u03ac\\u03c6\", \"\\u03a3\\u03b1\\u03bb\\u03bc\\u03ce\\u03bd\", \"\\u1f19\\u03c3\\u03c1\\u03ce\\u03bc\", \"\\u1f38\\u03c9\\u03c3\\u03af\\u03b1\\u03c2\", \"\\u1f08\\u03bc\\u03b9\\u03bd\\u03b1\\u03b4\\u03ac\\u03b2\", \"\\u039d\\u03b1\\u03b1\\u03c3\\u03c3\\u03ce\\u03bd\", \"\\u1f38\\u03c9\\u03c1\\u03ac\\u03bc\", \"\\u039c\\u03b1\\u03bd\\u03b1\\u03c3\\u03c3\\u1fc6\", \"\\u03a6\\u03ac\\u03c1\\u03b5\\u03c2\", \"\\u1f08\\u03b2\\u03b9\\u03bf\\u03cd\\u03b4\", \"\\u1f08\\u03c7\\u03ac\\u03b6\", \"\\u1f08\\u03c7\\u03af\\u03bc\", \"\\u1f48\\u03b6\\u03af\\u03b1\\u03c2\", \"\\u03a3\\u03b1\\u03bb\\u03b1\\u03b8\\u03b9\\u03ae\\u03bb\", \"\\u1f38\\u03b1\\u03ba\\u03ce\\u03b2\", \"\\u0394\\u03b1\\u03c5\\u03af\\u03b4\", \"\\u1f38\\u03c9\\u03c3\\u03ae\\u03c6\", \"\\u03b3\\u03b5\\u03bd\\u03b5\\u03ac\", \"\\u03a7\\u03c1\\u03b9\\u03c3\\u03c4\\u03cc\\u03c2\", \"\\u1f08\\u03b2\\u03c1\\u03b1\\u03ac\\u03bc\", \"\\u03c5\\u1f31\\u03cc\\u03c2\", \"\\u1f44\\u03bd\\u03bf\\u03bc\\u03b1\", \"\\u03ba\\u03b1\\u03bb\\u03ad\\u03c9\", \"\\u039c\\u03b1\\u03c1\\u03af\\u03b1\", \"\\u1f38\\u03b7\\u03c3\\u03bf\\u1fe6\\u03c2\", \"\\u03b5\\u1f30\\u03bc\\u03af\", \"\\u03ba\\u03cd\\u03c1\\u03b9\\u03bf\\u03c2\", \"\\u1f38\\u03bf\\u03cd\\u03b4\\u03b1\\u03c2\", \"\\u1f04\\u03b3\\u03b3\\u03b5\\u03bb\\u03bf\\u03c2\"], \"Freq\": [469.0, 274.0, 40.0, 162.0, 109.0, 73.0, 86.0, 54.0, 69.0, 85.0, 59.0, 67.0, 100.0, 72.0, 57.0, 40.0, 103.0, 55.0, 27.0, 19.0, 24.0, 31.0, 54.0, 18.0, 35.0, 53.0, 46.0, 18.0, 25.0, 37.0, 18.809660761403855, 16.047737896747687, 13.340568609123677, 12.53883121707205, 12.001305498541557, 11.208174449868961, 11.229939600794095, 10.462812314376574, 8.956420969994591, 10.67643039918334, 8.134646215650742, 8.1742549550656, 7.987949737626823, 7.797069683619143, 7.684673293661088, 7.666905771337593, 7.436269320062964, 7.418557409138309, 7.056469673659568, 7.104620835305365, 6.9615058592090096, 6.817585476646702, 36.2536666486016, 6.760211771754273, 6.751045479117961, 6.688412342160569, 6.683069812603087, 6.289485570613773, 6.227401516318486, 6.205897163677566, 17.305744443875973, 19.429573169286435, 141.301185393956, 31.436446199826758, 31.21957452858214, 18.361081320442597, 45.026680586011885, 371.21958228676846, 26.0258968702376, 101.75160628008014, 45.38414810090657, 20.106972422493566, 56.281982819945696, 66.74667249844171, 14.569080660099614, 75.68835644774383, 36.025350535002694, 54.17364346714075, 42.58365777233796, 21.266966116407332, 36.20260387866024, 42.879973203276535, 35.12246943190303, 58.26089463209511, 42.28185023635536, 141.2518280402457, 65.15503079727314, 32.833176979389, 39.00113054955949, 43.68210690644633, 27.592468697124705, 26.62600394959553, 24.102238498498426, 51.74239492894527, 40.0414267799802, 30.630888879965187, 26.92449525641514, 26.74419926610844, 12.259482962113808, 4.605889236884586, 3.6520339765783048, 3.652143881600321, 10.147283070656352, 3.0762011663653652, 3.076180097616086, 3.076185744909707, 3.07619443305374, 3.075793692410222, 3.0762452586963325, 3.076190306185324, 3.0762300544442747, 3.0757059421554898, 2.31944557599679, 2.121535085017213, 8.819531359857955, 21.427887614427505, 1.5455488204602925, 1.5454115477845727, 1.5453911306460952, 1.545530140950622, 1.5455097238121445, 1.545504076518523, 1.5455067915635334, 1.5454609616037598, 1.5455054883419284, 1.5455189549651793, 1.5454746454306116, 1.545368107064408, 19.518205753933874, 8.243801938559008, 1.5455158055129674, 10.350798500555156, 12.174650186147709, 4.742051133389893, 3.199157083940655, 3.0448004762016367, 22.46732674075153, 5.1589152346039455, 7.6514303773650285, 9.772005639670207, 4.60685926816586, 16.761886846608046, 10.225066286554151, 35.4987973473524, 6.1047700174775255, 17.80388028727775, 13.1464625369484, 26.282556642807933, 18.242824437737028, 83.64813015092531, 15.467867723831812, 5.964555101780868, 39.01426369109907, 11.405775503667632, 30.317723435799735, 24.041460315292685, 11.133274472518746, 11.304854891395799, 61.27506108478678, 21.050836064429838, 10.49146129007671, 19.64357914758632, 22.691892674827663, 18.164188046095198, 17.24450977237836, 12.144170439251468, 13.852923330324888, 11.818335498327782, 12.766513490915761, 11.042974247512738, 11.242810248413608, 11.14769939805658, 3.789170579974844, 3.7890415905069985, 3.788881829041922, 2.530306509989516, 2.530257822788417, 2.5302898593882746, 2.5302337953385248, 2.530236535310881, 2.5302200954767438, 2.5301570761125514, 2.527849597854429, 2.5277473758088327, 7.5656141991222805, 1.2714168318010126, 1.271400075816219, 1.2713728868597614, 1.2713807906261734, 1.2713605569841584, 1.271372043791344, 1.2713512832315683, 1.2713456979033038, 1.2713723599420006, 1.2713744676130438, 1.2713391641230698, 1.2713542339710289, 1.2713531801355071, 1.2713118697830599, 1.2713157689744898, 1.2712986968390398, 1.2713324195757314, 5.047923997230403, 3.785998535054791, 3.7890795285857766, 3.764638132100128, 5.047885637617416, 2.5302114540254665, 1.850057577692739, 5.047883529946373, 7.565382355307526, 15.10558394312744, 5.0479821689511954, 3.77591079990771, 6.307001995826618, 3.7890774209147335, 7.5440223738870715, 2.5301690898374978, 15.739503947455994, 9.771518731260999, 3.7895368932021563, 6.6685396620893025, 6.279819362382152, 5.532964442078706, 8.257091327367627, 4.082415067560759, 4.189026548871768, 3.7839325958982224, 3.3067592439858586, 3.819230184393312, 2.7217262479706887, 2.543383778204887, 1.8414667931278819, 1.8409017184048895, 1.2779733062915002, 1.2779768684169066, 1.27797400134036, 1.2779902481074572, 1.2779864253387283, 1.2779447224071423, 1.2779865991009434, 1.2779735669348227, 1.2779953740927978, 1.2779474157214739, 1.2779837320243967, 2.5332979242007765, 5.074229570028398, 1.2638253261075758, 1.842697724658533, 3.8088051971378154, 2.5433398163645067, 1.2778475893289896, 1.2779402045895538, 1.2779942446384007, 1.2779585365032302, 1.2779867728631582, 1.2779969379527325, 3.799658354143253, 1.2780005000781387, 10.868242008549739, 1.2780041490846525, 6.895207191581359, 5.534224721254268, 2.480080118154828, 5.006627032780667, 10.124525132570644, 5.244534611942205, 1.8411223964178662, 23.36870756732935, 13.502436179192266, 3.832051106252796, 8.5817210082478, 6.2503498951226755, 5.979380926848496, 2.522678098910148, 4.88474569740255, 5.9346461921360305, 6.773793971610296, 2.5241072931280484, 2.5410280838569146, 2.5608849347316607, 4.6143372860337735, 3.6410509845393615, 3.6127319137969254, 2.6898734922253476, 2.508523602643163, 0.06952748608126125, 0.06952748608126125, 0.06952748608126125, 0.06952748608126125, 0.06952748608126125, 0.06952748608126125, 0.06952748608126125, 0.06952748608126125, 0.06952748608126125, 0.06952748608126125, 0.06952748608126125, 0.06952748608126125, 0.06952748608126125, 0.06952748608126125, 0.06952748608126125, 0.06952748608126125, 0.06952748608126125, 0.06952748608126125, 0.06952748608126125, 0.06952748608126125, 0.06952748608126125, 0.06952748608126125, 0.06952748608126125, 0.06952748608126125, 0.06952748608126125, 0.06952748608126125, 0.06952748608126125, 0.06952748608126125, 0.06952748608126125, 0.06952748608126125, 0.06955528519109352, 0.06954110251688048, 0.0695396815785224, 0.06955426489324995, 0.06954089418381294, 0.0695400822190369, 0.06955533860982879, 0.06954034931271323, 0.06954074995322772, 0.06954017303088686, 0.06954151384114202, 0.06955502878116425, 0.06953981512536057, 0.06955493262744077, 0.0695404027314485, 0.0695412894824539, 0.06953960145041951, 0.06953955337355777, 0.06955366126154144, 0.0695534315609798, 0.0695786612296458, 0.06955245399812444, 0.06962683958698196, 0.06954524781073709, 0.06955272109180077, 0.06955196788763353, 0.06954929160899671, 0.06954604909176608, 0.06954475101649912, 0.06957549884051807, 0.06958460673488089, 0.06957853302468117, 0.0695631003520629, 0.06955932898935314, 0.06957848494781943, 0.06956199992611643, 0.06957493794379778, 0.06955366126154144, 0.06955131617906328, 0.06956167407183131, 0.06955159395648666, 0.06955134288843091, 0.06955078199171062, 0.06955169011021015, 0.06955023177873738, 0.06954997536880811, 0.06958546677651865, 0.06958415267563112, 0.069552064041357, 0.06959414732099933, 0.06957708003508194, 0.06955570719910213, 0.06955213348571285, 0.07520070533893984, 0.07315133829545856, 0.07147394727312663, 0.07139579566343288, 0.07120560894026631, 0.07108976507096908, 0.07099067865892468, 0.07083836581906153, 0.07077474410536004, 0.07072773561832621, 0.07064342482845631, 0.0705773244854385, 0.07053356919938236, 0.0704707167154687, 0.07045691865614957, 0.07041585033247728, 0.07034256516956623, 0.07029530027260313, 0.07027661439900718, 0.07024333452693662, 0.07023366039398, 0.07022750655567739, 0.0702166305011773, 0.07021354824015245, 0.0702089916220343, 0.07019296600145458, 0.07019117113194964, 0.07018664122319912, 0.07017280577076529, 0.07009163066065549, 2.636683815704547, 2.6359556662018773, 2.635617463055125, 2.6355951658169645, 3.890312159890693, 2.589173677630607, 1.324938571293189, 1.3249349118228038, 1.324950656055856, 1.3248302339489977, 1.3247780652200196, 1.3246956845843738, 1.32483448914712, 1.3249392521248884, 1.3247796821953062, 1.3246709193313027, 1.3246270056866818, 1.324828957389561, 1.3245229235406129, 1.3246311757808413, 1.3248668286528487, 1.324517391783054, 1.3248806154947645, 1.3237803063643272, 1.3238568148265641, 1.3249169548867281, 1.3211642956627636, 3.9197434930147472, 5.24519583692921, 2.605675846572257, 11.803229227627746, 2.57362331140493, 5.232011531067399, 2.568335972426214, 5.231634690721697, 2.550549244275436, 2.635479594635966, 3.907802726252166, 2.624533863402279, 3.8839014486077175, 6.9869250219101415, 11.24655535847, 2.562759790598964, 2.570339830325919, 16.765669872663846, 5.52875781438629, 2.581996009438087, 3.6607884752587014, 3.560992845570168, 3.55173353445627, 5.322604699088947, 6.7413483470502795, 4.618998157940081, 4.951276707242706, 4.866862427310436, 3.607851768123487, 4.1014537290506485, 4.349825558453019, 3.9514876114221775, 3.206795260116338, 3.144565200282248, 3.458542993500933, 39.67681390681136, 3.7026908635141336, 3.70255333582753, 2.779210289400535, 3.347227140610747, 1.8559498834843189, 1.8559428212517637, 1.8559290684831034, 1.855943688543481, 1.8559438124422978, 1.8559486444961513, 1.8558978459812798, 1.855915315714443, 1.8559029258327668, 1.855922997441082, 1.8558845888078865, 1.855904412618568, 1.8559046604162015, 1.855881739135101, 1.8559036692256674, 1.8558705882415925, 1.8558394896385857, 1.8558401091326695, 1.855841967614921, 1.8558407286267533, 1.8558358965728998, 1.8558346575847322, 1.8558585700563668, 1.8558335424953813, 1.8557696107059332, 3.6898844340161863, 5.549186152190313, 4.776341511695896, 3.6953476284424016, 3.8798877298750574, 2.7494304653993673, 5.501707134417345, 2.763656527539751, 2.7913605507649217, 2.8716829146822653, 4.341844220367103, 3.3689877375959405, 2.7088057779671963, 1.8724584096270556, 1.8654437542173712], \"Total\": [469.0, 274.0, 40.0, 162.0, 109.0, 73.0, 86.0, 54.0, 69.0, 85.0, 59.0, 67.0, 100.0, 72.0, 57.0, 40.0, 103.0, 55.0, 27.0, 19.0, 24.0, 31.0, 54.0, 18.0, 35.0, 53.0, 46.0, 18.0, 25.0, 37.0, 18.94263743261173, 16.18085626625814, 13.473471623783636, 12.672911079275444, 12.136819761525198, 11.341080703766634, 11.363348072273043, 10.59558411859376, 9.089075567373506, 10.83845554499434, 8.267615347805547, 8.307961148498057, 8.120935365028846, 7.930203583515539, 7.817368509958223, 7.800030148118909, 7.56922399569201, 7.552704119253909, 7.189121534735069, 7.2404937988826985, 7.094886276449843, 6.951293881077517, 36.96751867229875, 6.893485351494108, 6.884177343529436, 6.822039772203131, 6.820187986236732, 6.422110969707222, 6.360157160438192, 6.338707558250597, 18.014775851390073, 20.274993233158156, 162.7560918327128, 34.06459549199593, 34.36158609649787, 19.669347612772537, 50.62624264820467, 469.45652991041584, 28.821001424688287, 126.95646998705465, 54.39265354689684, 22.443245312366354, 69.94720890365696, 85.60227624297806, 15.90574679745284, 100.41297362173519, 43.773207720623596, 69.62955794455502, 53.38638290168741, 24.44785110963952, 46.88671547924323, 57.807596138284296, 46.00732424082764, 86.66429784094238, 59.31572279102924, 274.34970726637454, 103.93303745460197, 44.104006054053094, 56.16642132028353, 72.86786419754111, 36.77228006897944, 35.01688406993392, 29.977337099625704, 109.95223166254164, 72.79697239346712, 46.454163053812856, 54.12467027240669, 67.21648061018593, 12.40795423788752, 4.753417469772175, 3.7995201059201387, 3.800320243513695, 10.625318899678968, 3.2235389201537092, 3.2235295806170043, 3.223540436760895, 3.2235554279355734, 3.2231531137613962, 3.2236274877627, 3.2235730678546903, 3.2236332240189682, 3.2231116089453873, 2.4672141217915877, 2.2688855068322957, 9.553209292874921, 23.4130772949584, 1.6927208666667097, 1.6925763527095377, 1.6925572118818812, 1.692712644469039, 1.6926924190036945, 1.6926872445439518, 1.6926944851438785, 1.6926454214841833, 1.6926946218083379, 1.6927097140181382, 1.6926617330715155, 1.6925454334769885, 21.578032644055927, 9.07929275117234, 1.6927073435408335, 12.058074251280955, 14.413448520982492, 5.5497050865830735, 3.676552815591107, 3.494813053440544, 30.072829530072354, 6.250257471441261, 9.657594671520199, 12.679347831784593, 5.626490240842449, 24.610124012860794, 14.250591215260448, 67.21648061018593, 8.12150984829675, 31.649702300166485, 21.93228760871745, 55.241582055121434, 33.98243166791375, 274.34970726637454, 28.45164915303348, 7.919686893021904, 109.95223166254164, 22.792502877238437, 103.93303745460197, 72.86786419754111, 22.136922144750766, 23.014571681591924, 469.45652991041584, 72.79697239346712, 22.201156461396828, 73.88912321230728, 126.95646998705465, 86.66429784094238, 100.41297362173519, 31.704659603306293, 56.16642132028353, 29.090460966402354, 85.60227624297806, 28.348401138964576, 37.7158435066293, 44.104006054053094, 3.9389987910323736, 3.9388791877759366, 3.938714273912228, 2.6801075001712866, 2.680058032970491, 2.680092970162929, 2.6800353469109175, 2.68003828448112, 2.680023775737741, 2.679959584880651, 2.677819704606401, 2.6778547590162676, 8.291524230613854, 1.4211882605249126, 1.4211720076993366, 1.4211438577959177, 1.4211549028697228, 1.4211340630723222, 1.4211472993167078, 1.421124817630527, 1.42111860001755, 1.4211495213266456, 1.4211520995540265, 1.4211126425459661, 1.4211296677496548, 1.421129545501176, 1.4210834073638483, 1.4210913231213826, 1.4210723472919564, 1.4211115196828106, 5.773814119104698, 4.959477066229829, 5.180840294848966, 5.529770075655276, 8.335993314951027, 3.5144714238114165, 2.3299284171681593, 9.411847483363328, 16.996346813849986, 54.12467027240669, 11.259269832220912, 7.332739070367103, 19.919937640797833, 10.37339089032007, 40.79198790711089, 5.633786619326912, 274.34970726637454, 109.95223166254164, 15.164160496549393, 72.79697239346712, 73.88912321230728, 59.31572279102924, 469.45652991041584, 21.770263282278535, 28.047022111355055, 21.93228760871745, 10.969076454739744, 103.93303745460197, 37.7158435066293, 2.694924384775445, 1.9924209013666994, 1.992149527627481, 1.4277844749768973, 1.4279018324938102, 1.4279162630586872, 1.4279354903064512, 1.4279643829881528, 1.428025070320383, 1.4280769863174538, 1.4284151665861193, 1.4285824261246884, 1.4292095341946491, 1.43538957884334, 3.019434173665527, 6.868364797513261, 1.7504566521541038, 2.568845708302487, 5.49075088297714, 3.683966857416293, 1.9862854540756496, 2.0072425953307205, 2.0125449804059974, 2.0125382921908583, 2.012801341586123, 2.0130362690254286, 6.119793017402305, 2.11737808757619, 19.38009397738527, 2.306763306218725, 13.777729871102716, 15.53937779054187, 5.212753423357939, 21.4774452729089, 73.88912321230728, 24.431747243924967, 3.853147973317979, 469.45652991041584, 274.34970726637454, 18.582533320880337, 109.95223166254164, 69.62955794455502, 85.60227624297806, 8.794391479063092, 57.807596138284296, 100.41297362173519, 162.7560918327128, 10.18920209735762, 11.185191297210086, 12.463980376925257, 86.66429784094238, 46.454163053812856, 53.38638290168741, 16.53054589599275, 19.94111984010807, 0.16233959489607142, 0.16233959489607142, 0.16233959489607142, 0.16233959489607142, 0.16233959489607142, 0.16233959489607142, 0.16233959489607142, 0.16233959489607142, 0.16233959489607142, 0.16233959489607142, 0.16233959489607142, 0.16233959489607142, 0.16233959489607142, 0.16233959489607142, 0.16233959489607142, 0.16233959489607142, 0.16233959489607142, 0.16233959489607142, 0.16233959489607142, 0.16233959489607142, 0.16233959489607142, 0.16233959489607142, 0.16233959489607142, 0.16233959489607142, 0.16233959489607142, 0.16233959489607142, 0.16233959489607142, 0.16233959489607142, 0.16233959489607142, 0.16233959489607142, 0.162413253773669, 0.16237914249983473, 0.16237506607875846, 0.16241846838416346, 0.16237997366680365, 0.16237787254638597, 0.1624282914900642, 0.16238068043931272, 0.16238248066523286, 0.16238090980621375, 0.16238532651848833, 0.16243085066587584, 0.1623808331645091, 0.1624331944398863, 0.1623865072268693, 0.1623901605602708, 0.16238576337259944, 0.1623875344803575, 0.16252281100376265, 0.1625234148723345, 0.16272538325704525, 0.16253090205761284, 0.1631254324633917, 0.162477960565005, 0.16253832664725576, 0.16253303858943108, 0.16251186603742318, 0.16248770140038063, 0.16247745046437181, 0.16272676348919418, 0.1628040347737758, 0.16276463915842654, 0.16263143005169123, 0.16260108919311494, 0.16280079213573004, 0.16263765557272095, 0.16279871347003227, 0.16255536266666817, 0.1625374781705248, 0.16269161216418082, 0.16254642133407093, 0.16254295657619117, 0.1625343965803744, 0.1625486541924393, 0.16252721293807698, 0.16252701876504191, 0.16321037778499525, 0.16328142131285003, 0.1625724135524477, 0.16370215067727514, 0.16338609563546005, 0.1627296397016167, 0.16257856056144468, 469.45652991041584, 274.34970726637454, 162.7560918327128, 126.95646998705465, 103.93303745460197, 100.41297362173519, 109.95223166254164, 85.60227624297806, 86.66429784094238, 72.79697239346712, 54.39265354689684, 73.88912321230728, 69.94720890365696, 72.86786419754111, 69.62955794455502, 59.31572279102924, 56.16642132028353, 67.21648061018593, 54.12467027240669, 46.454163053812856, 53.38638290168741, 46.00732424082764, 36.77228006897944, 55.241582055121434, 57.807596138284296, 40.48097407927638, 40.79198790711089, 50.62624264820467, 46.88671547924323, 37.7158435066293, 3.3718572144250873, 3.371166422226736, 3.370819878772378, 3.370917414439328, 4.990222528454697, 3.3251662060719545, 1.7669019541762458, 1.766899275202054, 1.766932755619612, 1.766795945486991, 1.7667551685676155, 1.7666656207628457, 1.76685726103255, 1.7670069266373911, 1.7668048617286407, 1.766666445899356, 1.766618852575224, 1.7668997948371796, 1.7665091071284846, 1.7666537149155879, 1.7669847097554234, 1.7665339644908833, 1.7671468112644593, 1.7657754314823182, 1.7658961092947891, 1.7675452620033314, 1.763145690920552, 5.240831743235511, 7.150229326860567, 3.6338646164269357, 18.479174747275852, 3.6023345741542285, 8.001968645812303, 3.724186686293698, 8.694211992304572, 3.867298613546143, 4.058068903655527, 7.849552978246787, 4.922072350107649, 8.93811262648478, 27.790161845854986, 73.88912321230728, 6.072743426585416, 6.310299426871938, 274.34970726637454, 31.704659603306293, 6.831111497213851, 14.535531231811223, 13.798426990659225, 14.522519971431272, 35.15888926380286, 59.31572279102924, 31.649702300166485, 55.241582055121434, 67.21648061018593, 19.438603264594242, 37.7158435066293, 72.79697239346712, 103.93303745460197, 25.698606147421184, 46.00732424082764, 469.45652991041584, 40.48097407927638, 3.8564607187663498, 3.8566193991499014, 2.933026646574167, 3.599197215148503, 2.0093344937602597, 2.0093307580442614, 2.009327376598956, 2.0093545141058393, 2.0093682884869866, 2.009389360195196, 2.009340331311112, 2.0093722901954076, 2.0093659064464915, 2.0093891016801297, 2.0093628705428612, 2.0093903448053116, 2.0093923786413224, 2.009383916942736, 2.009432536834451, 2.0094080504805, 2.0093773745708465, 2.0093976424682136, 2.009400745007315, 2.009426503630356, 2.0094221171169555, 2.0094209032925257, 2.0094473308692367, 2.009442436981379, 2.0094165403614417, 6.294001638595072, 13.913639446798545, 14.121654209740758, 13.963228298250934, 18.582533320880337, 6.820927581860033, 86.66429784094238, 13.677002115925962, 14.522519971431272, 16.745304429058955, 162.7560918327128, 274.34970726637454, 54.39265354689684, 10.39928643962265, 15.651236904510654], \"Category\": [\"Default\", \"Default\", \"Default\", \"Default\", \"Default\", \"Default\", \"Default\", \"Default\", \"Default\", \"Default\", \"Default\", \"Default\", \"Default\", \"Default\", \"Default\", \"Default\", \"Default\", \"Default\", \"Default\", \"Default\", \"Default\", \"Default\", \"Default\", \"Default\", \"Default\", \"Default\", \"Default\", \"Default\", \"Default\", \"Default\", \"Topic1\", \"Topic1\", \"Topic1\", \"Topic1\", \"Topic1\", \"Topic1\", \"Topic1\", \"Topic1\", \"Topic1\", \"Topic1\", \"Topic1\", \"Topic1\", \"Topic1\", \"Topic1\", \"Topic1\", \"Topic1\", \"Topic1\", \"Topic1\", \"Topic1\", \"Topic1\", \"Topic1\", \"Topic1\", \"Topic1\", \"Topic1\", \"Topic1\", \"Topic1\", \"Topic1\", \"Topic1\", \"Topic1\", \"Topic1\", \"Topic1\", \"Topic1\", \"Topic1\", \"Topic1\", \"Topic1\", \"Topic1\", \"Topic1\", \"Topic1\", \"Topic1\", \"Topic1\", \"Topic1\", \"Topic1\", \"Topic1\", \"Topic1\", \"Topic1\", \"Topic1\", \"Topic1\", \"Topic1\", \"Topic1\", \"Topic1\", \"Topic1\", \"Topic1\", \"Topic1\", \"Topic1\", \"Topic1\", \"Topic1\", \"Topic1\", \"Topic1\", \"Topic1\", \"Topic1\", \"Topic1\", \"Topic1\", \"Topic1\", \"Topic1\", \"Topic1\", \"Topic1\", \"Topic1\", \"Topic1\", \"Topic2\", \"Topic2\", \"Topic2\", \"Topic2\", \"Topic2\", \"Topic2\", \"Topic2\", \"Topic2\", \"Topic2\", \"Topic2\", \"Topic2\", \"Topic2\", \"Topic2\", \"Topic2\", \"Topic2\", \"Topic2\", \"Topic2\", \"Topic2\", \"Topic2\", \"Topic2\", \"Topic2\", \"Topic2\", \"Topic2\", \"Topic2\", \"Topic2\", \"Topic2\", \"Topic2\", \"Topic2\", \"Topic2\", \"Topic2\", \"Topic2\", \"Topic2\", \"Topic2\", \"Topic2\", \"Topic2\", \"Topic2\", \"Topic2\", \"Topic2\", \"Topic2\", \"Topic2\", \"Topic2\", \"Topic2\", \"Topic2\", \"Topic2\", \"Topic2\", \"Topic2\", \"Topic2\", \"Topic2\", \"Topic2\", \"Topic2\", \"Topic2\", \"Topic2\", \"Topic2\", \"Topic2\", \"Topic2\", \"Topic2\", \"Topic2\", \"Topic2\", \"Topic2\", \"Topic2\", \"Topic2\", \"Topic2\", \"Topic2\", \"Topic2\", \"Topic2\", \"Topic2\", \"Topic2\", \"Topic2\", \"Topic2\", \"Topic2\", \"Topic2\", \"Topic2\", \"Topic2\", \"Topic2\", \"Topic3\", \"Topic3\", \"Topic3\", \"Topic3\", \"Topic3\", \"Topic3\", \"Topic3\", \"Topic3\", \"Topic3\", \"Topic3\", \"Topic3\", \"Topic3\", \"Topic3\", \"Topic3\", \"Topic3\", \"Topic3\", \"Topic3\", \"Topic3\", \"Topic3\", \"Topic3\", \"Topic3\", \"Topic3\", \"Topic3\", \"Topic3\", \"Topic3\", \"Topic3\", \"Topic3\", \"Topic3\", \"Topic3\", \"Topic3\", \"Topic3\", \"Topic3\", \"Topic3\", \"Topic3\", \"Topic3\", \"Topic3\", \"Topic3\", \"Topic3\", \"Topic3\", \"Topic3\", \"Topic3\", \"Topic3\", \"Topic3\", \"Topic3\", \"Topic3\", \"Topic3\", \"Topic3\", \"Topic3\", \"Topic3\", \"Topic3\", \"Topic3\", \"Topic3\", \"Topic3\", \"Topic3\", \"Topic3\", \"Topic3\", \"Topic3\", \"Topic3\", \"Topic3\", \"Topic4\", \"Topic4\", \"Topic4\", \"Topic4\", \"Topic4\", \"Topic4\", \"Topic4\", \"Topic4\", \"Topic4\", \"Topic4\", \"Topic4\", \"Topic4\", \"Topic4\", \"Topic4\", \"Topic4\", \"Topic4\", \"Topic4\", \"Topic4\", \"Topic4\", \"Topic4\", \"Topic4\", \"Topic4\", \"Topic4\", \"Topic4\", \"Topic4\", \"Topic4\", \"Topic4\", \"Topic4\", \"Topic4\", \"Topic4\", \"Topic4\", \"Topic4\", \"Topic4\", \"Topic4\", \"Topic4\", \"Topic4\", \"Topic4\", \"Topic4\", \"Topic4\", \"Topic4\", \"Topic4\", \"Topic4\", \"Topic4\", \"Topic4\", \"Topic4\", \"Topic4\", \"Topic4\", \"Topic4\", \"Topic4\", \"Topic4\", \"Topic4\", \"Topic4\", \"Topic4\", \"Topic4\", \"Topic4\", \"Topic5\", \"Topic5\", \"Topic5\", \"Topic5\", \"Topic5\", \"Topic5\", \"Topic5\", \"Topic5\", \"Topic5\", \"Topic5\", \"Topic5\", \"Topic5\", \"Topic5\", \"Topic5\", \"Topic5\", \"Topic5\", \"Topic5\", \"Topic5\", \"Topic5\", \"Topic5\", \"Topic5\", \"Topic5\", \"Topic5\", \"Topic5\", \"Topic5\", \"Topic5\", \"Topic5\", \"Topic5\", \"Topic5\", \"Topic5\", \"Topic5\", \"Topic5\", \"Topic5\", \"Topic5\", \"Topic5\", \"Topic5\", \"Topic5\", \"Topic5\", \"Topic5\", \"Topic5\", \"Topic5\", \"Topic5\", \"Topic5\", \"Topic5\", \"Topic5\", \"Topic5\", \"Topic5\", \"Topic5\", \"Topic5\", \"Topic5\", \"Topic5\", \"Topic5\", \"Topic5\", \"Topic5\", \"Topic5\", \"Topic5\", \"Topic5\", \"Topic5\", \"Topic5\", \"Topic5\", \"Topic5\", \"Topic5\", \"Topic5\", \"Topic5\", \"Topic5\", \"Topic5\", \"Topic5\", \"Topic5\", \"Topic5\", \"Topic5\", \"Topic5\", \"Topic5\", \"Topic5\", \"Topic5\", \"Topic5\", \"Topic5\", \"Topic5\", \"Topic5\", \"Topic5\", \"Topic5\", \"Topic5\", \"Topic5\", \"Topic5\", \"Topic5\", \"Topic5\", \"Topic5\", \"Topic5\", \"Topic5\", \"Topic5\", \"Topic5\", \"Topic5\", \"Topic5\", \"Topic5\", \"Topic5\", \"Topic5\", \"Topic5\", \"Topic5\", \"Topic5\", \"Topic5\", \"Topic5\", \"Topic5\", \"Topic5\", \"Topic5\", \"Topic5\", \"Topic5\", \"Topic5\", \"Topic5\", \"Topic5\", \"Topic5\", \"Topic5\", \"Topic5\", \"Topic5\", \"Topic5\", \"Topic6\", \"Topic6\", \"Topic6\", \"Topic6\", \"Topic6\", \"Topic6\", \"Topic6\", \"Topic6\", \"Topic6\", \"Topic6\", \"Topic6\", \"Topic6\", \"Topic6\", \"Topic6\", \"Topic6\", \"Topic6\", \"Topic6\", \"Topic6\", \"Topic6\", \"Topic6\", \"Topic6\", \"Topic6\", \"Topic6\", \"Topic6\", \"Topic6\", \"Topic6\", \"Topic6\", \"Topic6\", \"Topic6\", \"Topic6\", \"Topic6\", \"Topic6\", \"Topic6\", \"Topic6\", \"Topic6\", \"Topic6\", \"Topic6\", \"Topic6\", \"Topic6\", \"Topic6\", \"Topic6\", \"Topic6\", \"Topic6\", \"Topic6\", \"Topic6\", \"Topic6\", \"Topic6\", \"Topic6\", \"Topic6\", \"Topic6\", \"Topic6\", \"Topic6\", \"Topic6\", \"Topic6\", \"Topic6\", \"Topic6\", \"Topic6\", \"Topic6\", \"Topic6\", \"Topic6\", \"Topic6\", \"Topic6\", \"Topic7\", \"Topic7\", \"Topic7\", \"Topic7\", \"Topic7\", \"Topic7\", \"Topic7\", \"Topic7\", \"Topic7\", \"Topic7\", \"Topic7\", \"Topic7\", \"Topic7\", \"Topic7\", \"Topic7\", \"Topic7\", \"Topic7\", \"Topic7\", \"Topic7\", \"Topic7\", \"Topic7\", \"Topic7\", \"Topic7\", \"Topic7\", \"Topic7\", \"Topic7\", \"Topic7\", \"Topic7\", \"Topic7\", \"Topic7\", \"Topic7\", \"Topic7\", \"Topic7\", \"Topic7\", \"Topic7\", \"Topic7\", \"Topic7\", \"Topic7\", \"Topic7\", \"Topic7\", \"Topic7\", \"Topic7\", \"Topic7\", \"Topic7\", \"Topic7\"], \"logprob\": [30.0, 29.0, 28.0, 27.0, 26.0, 25.0, 24.0, 23.0, 22.0, 21.0, 20.0, 19.0, 18.0, 17.0, 16.0, 15.0, 14.0, 13.0, 12.0, 11.0, 10.0, 9.0, 8.0, 7.0, 6.0, 5.0, 4.0, 3.0, 2.0, 1.0, -5.6765, -5.8353, -6.02, -6.082, -6.1258, -6.1942, -6.1922, -6.263, -6.4185, -6.2428, -6.5147, -6.5098, -6.5329, -6.5571, -6.5716, -6.5739, -6.6045, -6.6068, -6.6569, -6.6501, -6.6704, -6.6913, -5.0203, -6.6998, -6.7011, -6.7104, -6.7112, -6.7719, -6.7819, -6.7853, -5.7598, -5.644, -3.6599, -5.1629, -5.1698, -5.7006, -4.8036, -2.694, -5.3517, -3.9883, -4.7957, -5.6098, -4.5805, -4.4099, -5.9319, -4.2842, -5.0266, -4.6186, -4.8594, -5.5537, -5.0217, -4.8524, -5.052, -4.5459, -4.8665, -3.6603, -4.4341, -5.1194, -4.9472, -4.8339, -5.2933, -5.3289, -5.4285, -4.6645, -4.9209, -5.1888, -5.3178, -5.3245, -5.0251, -6.0041, -6.2361, -6.2361, -5.2142, -6.4077, -6.4077, -6.4077, -6.4077, -6.4079, -6.4077, -6.4077, -6.4077, -6.4079, -6.6901, -6.7793, -5.3545, -4.4667, -7.096, -7.0961, -7.0961, -7.0961, -7.0961, -7.0961, -7.0961, -7.0961, -7.0961, -7.0961, -7.0961, -7.0962, -4.5601, -5.422, -7.0961, -5.1944, -5.0321, -5.975, -6.3685, -6.418, -4.4194, -5.8907, -5.4965, -5.2519, -6.0039, -4.7123, -5.2066, -3.9619, -5.7224, -4.652, -4.9553, -4.2625, -4.6277, -3.1048, -4.7927, -5.7456, -3.8675, -5.0973, -4.1197, -4.3516, -5.1215, -5.1062, -3.4161, -4.4845, -5.1809, -4.5537, -4.4094, -4.632, -4.6839, -5.0346, -4.9029, -5.0618, -4.9846, -5.1296, -5.1117, -5.1202, -4.7829, -4.7829, -4.783, -5.1867, -5.1867, -5.1867, -5.1867, -5.1867, -5.1867, -5.1868, -5.1877, -5.1877, -4.0914, -5.8749, -5.8749, -5.875, -5.8749, -5.875, -5.875, -5.875, -5.875, -5.875, -5.875, -5.875, -5.875, -5.875, -5.875, -5.875, -5.875, -5.875, -4.4961, -4.7837, -4.7829, -4.7894, -4.4961, -5.1867, -5.4998, -4.4961, -4.0915, -3.4, -4.4961, -4.7864, -4.2734, -4.7829, -4.0943, -5.1868, -3.3589, -3.8356, -4.7828, -4.2176, -4.2777, -4.4043, -4.004, -4.7084, -4.6826, -4.7843, -4.9191, -4.775, -5.1138, -4.9885, -5.3114, -5.3117, -5.6767, -5.6767, -5.6767, -5.6767, -5.6767, -5.6767, -5.6767, -5.6767, -5.6767, -5.6767, -5.6767, -4.9925, -4.2978, -5.6878, -5.3108, -4.5847, -4.9885, -5.6768, -5.6767, -5.6767, -5.6767, -5.6767, -5.6767, -4.5871, -5.6767, -3.5361, -5.6767, -3.9912, -4.211, -5.0137, -4.3112, -3.607, -4.2648, -5.3116, -2.7706, -3.3191, -4.5786, -3.7724, -4.0893, -4.1337, -4.9967, -4.3359, -4.1412, -4.0089, -4.9961, -4.9894, -4.9816, -4.3928, -4.6297, -4.6375, -4.9325, -5.0023, -8.5716, -8.5716, -8.5716, -8.5716, -8.5716, -8.5716, -8.5716, -8.5716, -8.5716, -8.5716, -8.5716, -8.5716, -8.5716, -8.5716, -8.5716, -8.5716, -8.5716, -8.5716, -8.5716, -8.5716, -8.5716, -8.5716, -8.5716, -8.5716, -8.5716, -8.5716, -8.5716, -8.5716, -8.5716, -8.5716, -8.5712, -8.5714, -8.5715, -8.5713, -8.5714, -8.5715, -8.5712, -8.5715, -8.5715, -8.5715, -8.5714, -8.5712, -8.5715, -8.5712, -8.5715, -8.5714, -8.5715, -8.5715, -8.5713, -8.5713, -8.5709, -8.5713, -8.5702, -8.5714, -8.5713, -8.5713, -8.5713, -8.5714, -8.5714, -8.571, -8.5708, -8.5709, -8.5711, -8.5712, -8.5709, -8.5711, -8.571, -8.5713, -8.5713, -8.5712, -8.5713, -8.5713, -8.5713, -8.5713, -8.5713, -8.5713, -8.5708, -8.5708, -8.5713, -8.5707, -8.5709, -8.5712, -8.5713, -8.4932, -8.5208, -8.544, -8.5451, -8.5478, -8.5494, -8.5508, -8.553, -8.5539, -8.5545, -8.5557, -8.5567, -8.5573, -8.5582, -8.5584, -8.5589, -8.56, -8.5607, -8.5609, -8.5614, -8.5615, -8.5616, -8.5618, -8.5618, -8.5619, -8.5621, -8.5621, -8.5622, -8.5624, -8.5636, -4.9318, -4.9321, -4.9322, -4.9322, -4.5428, -4.95, -5.62, -5.62, -5.6199, -5.62, -5.6201, -5.6201, -5.62, -5.62, -5.6201, -5.6202, -5.6202, -5.62, -5.6203, -5.6202, -5.62, -5.6203, -5.62, -5.6208, -5.6208, -5.62, -5.6228, -4.5353, -4.244, -4.9436, -3.4329, -4.956, -4.2465, -4.9581, -4.2466, -4.965, -4.9323, -4.5383, -4.9364, -4.5445, -3.9573, -3.4813, -4.9602, -4.9573, -3.082, -4.1914, -4.9528, -4.6036, -4.6313, -4.6339, -4.2294, -3.9931, -4.3711, -4.3017, -4.3189, -4.6182, -4.49, -4.4312, -4.5272, -4.736, -4.7556, -4.6605, -1.903, -4.2747, -4.2747, -4.5616, -4.3756, -4.9654, -4.9654, -4.9654, -4.9654, -4.9654, -4.9654, -4.9654, -4.9654, -4.9654, -4.9654, -4.9654, -4.9654, -4.9654, -4.9654, -4.9654, -4.9654, -4.9654, -4.9654, -4.9654, -4.9654, -4.9654, -4.9654, -4.9654, -4.9654, -4.9655, -4.2782, -3.8701, -4.0201, -4.2767, -4.228, -4.5724, -3.8787, -4.5672, -4.5572, -4.5289, -4.1155, -4.3691, -4.5873, -4.9565, -4.9603], \"loglift\": [30.0, 29.0, 28.0, 27.0, 26.0, 25.0, 24.0, 23.0, 22.0, 21.0, 20.0, 19.0, 18.0, 17.0, 16.0, 15.0, 14.0, 13.0, 12.0, 11.0, 10.0, 9.0, 8.0, 7.0, 6.0, 5.0, 4.0, 3.0, 2.0, 1.0, 0.507, 0.5058, 0.5042, 0.5034, 0.5028, 0.5023, 0.5023, 0.5015, 0.4994, 0.499, 0.4979, 0.4978, 0.4976, 0.4971, 0.4969, 0.4969, 0.4963, 0.4961, 0.4954, 0.4951, 0.4951, 0.4946, 0.4946, 0.4945, 0.4945, 0.4943, 0.4938, 0.4932, 0.493, 0.4929, 0.4739, 0.4715, 0.3727, 0.4338, 0.4182, 0.4452, 0.3969, 0.2793, 0.4121, 0.2928, 0.333, 0.4041, 0.2967, 0.2653, 0.4263, 0.2314, 0.3193, 0.2631, 0.288, 0.3747, 0.2555, 0.2153, 0.2441, 0.117, 0.1755, -0.1498, 0.0471, 0.219, 0.1493, 0.0024, 0.2269, 0.2401, 0.2959, -0.2397, -0.0837, 0.0976, -0.1842, -0.4075, 1.5814, 1.5619, 1.5539, 1.5537, 1.5474, 1.5467, 1.5467, 1.5467, 1.5467, 1.5467, 1.5467, 1.5467, 1.5467, 1.5467, 1.5317, 1.5263, 1.5136, 1.5049, 1.5025, 1.5025, 1.5025, 1.5025, 1.5025, 1.5025, 1.5025, 1.5025, 1.5025, 1.5025, 1.5025, 1.5025, 1.4931, 1.4969, 1.5025, 1.4408, 1.4247, 1.4362, 1.4544, 1.4556, 1.3019, 1.4016, 1.3606, 1.333, 1.3935, 1.2094, 1.2615, 0.955, 1.308, 1.0182, 1.0817, 0.8507, 0.9714, 0.4057, 0.984, 1.3099, 0.5573, 0.9012, 0.3615, 0.4846, 0.9062, 0.8826, -0.4427, 0.3527, 0.8439, 0.2687, -0.1284, 0.0309, -0.1683, 0.6339, 0.1936, 0.6927, -0.3094, 0.6507, 0.3831, 0.2181, 2.9711, 2.9711, 2.9711, 2.9523, 2.9523, 2.9523, 2.9523, 2.9523, 2.9523, 2.9523, 2.9522, 2.9522, 2.9182, 2.8985, 2.8985, 2.8985, 2.8985, 2.8985, 2.8985, 2.8985, 2.8985, 2.8985, 2.8985, 2.8985, 2.8985, 2.8985, 2.8985, 2.8985, 2.8985, 2.8985, 2.8755, 2.7399, 2.697, 2.6253, 2.5082, 2.6813, 2.7792, 2.3868, 2.2004, 1.7336, 2.2076, 2.3461, 1.8598, 2.0027, 1.3221, 2.2093, 0.1516, 0.5893, 1.6232, 0.6196, 0.5446, 0.6377, -1.0307, 1.336, 1.1084, 1.2526, 1.8107, -0.2939, 0.381, 3.145, 3.1241, 3.1239, 3.0921, 3.092, 3.092, 3.092, 3.0919, 3.0919, 3.0919, 3.0916, 3.0915, 3.091, 3.0868, 3.0274, 2.9002, 2.8772, 2.8707, 2.8372, 2.8324, 2.7618, 2.7514, 2.7488, 2.7488, 2.7487, 2.7486, 2.7263, 2.698, 2.6245, 2.6124, 2.5107, 2.1705, 2.4601, 1.7467, 1.2153, 1.6642, 2.4644, 0.2027, 0.1914, 1.6241, 0.6525, 0.7924, 0.5415, 1.9541, 0.7319, 0.3744, 0.0237, 1.8075, 1.7209, 1.6204, 0.27, 0.6567, 0.5098, 1.3872, 1.1298, 2.3713, 2.3713, 2.3713, 2.3713, 2.3713, 2.3713, 2.3713, 2.3713, 2.3713, 2.3713, 2.3713, 2.3713, 2.3713, 2.3713, 2.3713, 2.3713, 2.3713, 2.3713, 2.3713, 2.3713, 2.3713, 2.3713, 2.3713, 2.3713, 2.3713, 2.3713, 2.3713, 2.3713, 2.3713, 2.3713, 2.3713, 2.3713, 2.3713, 2.3712, 2.3713, 2.3713, 2.3712, 2.3712, 2.3712, 2.3712, 2.3712, 2.3711, 2.3712, 2.3711, 2.3712, 2.3712, 2.3712, 2.3712, 2.3706, 2.3706, 2.3697, 2.3705, 2.3679, 2.3707, 2.3705, 2.3705, 2.3706, 2.3707, 2.3707, 2.3696, 2.3693, 2.3694, 2.37, 2.3702, 2.3692, 2.37, 2.3692, 2.3704, 2.3704, 2.3696, 2.3704, 2.3704, 2.3704, 2.3704, 2.3705, 2.3705, 2.3668, 2.3663, 2.3702, 2.3639, 2.3656, 2.3693, 2.3702, -5.5199, -5.0103, -4.5114, -4.2641, -4.0666, -4.0338, -4.126, -3.8778, -3.891, -3.7173, -3.4271, -3.7343, -3.6801, -3.7219, -3.6767, -3.5169, -3.4634, -3.6437, -3.4273, -3.275, -3.4142, -3.2655, -3.0416, -3.4486, -3.4941, -3.1381, -3.1457, -3.3618, -3.2852, -3.0687, 2.9776, 2.9776, 2.9775, 2.9775, 2.9746, 2.9734, 2.9357, 2.9357, 2.9357, 2.9357, 2.9357, 2.9357, 2.9357, 2.9357, 2.9356, 2.9356, 2.9356, 2.9356, 2.9356, 2.9356, 2.9356, 2.9356, 2.9355, 2.9355, 2.9355, 2.9353, 2.935, 2.9331, 2.9137, 2.891, 2.7753, 2.8873, 2.7987, 2.852, 2.7156, 2.8073, 2.7919, 2.5261, 2.5947, 2.3901, 1.8429, 1.3411, 2.3608, 2.3254, 0.4285, 1.4771, 2.2506, 1.8447, 1.8691, 1.8153, 1.3357, 1.049, 1.299, 0.8115, 0.5981, 1.5394, 1.0048, 0.406, -0.0461, 1.1424, 0.5404, -1.6872, 3.5211, 3.5004, 3.5004, 3.4873, 3.4686, 3.4617, 3.4617, 3.4617, 3.4617, 3.4617, 3.4617, 3.4617, 3.4617, 3.4617, 3.4617, 3.4617, 3.4617, 3.4617, 3.4617, 3.4616, 3.4616, 3.4616, 3.4616, 3.4616, 3.4616, 3.4616, 3.4616, 3.4616, 3.4616, 3.4616, 3.0071, 2.6219, 2.4571, 2.2118, 1.9747, 2.6325, 0.7841, 1.942, 1.892, 1.7779, -0.0828, -0.8587, 0.5414, 1.8266, 1.4141]}, \"token.table\": {\"Topic\": [7, 1, 4, 2, 7, 1, 1, 2, 7, 1, 4, 7, 1, 2, 7, 7, 1, 2, 4, 1, 1, 2, 4, 1, 4, 7, 7, 7, 2, 4, 1, 2, 4, 1, 4, 7, 2, 1, 2, 3, 1, 2, 3, 6, 1, 2, 3, 4, 6, 3, 1, 2, 3, 6, 3, 2, 6, 7, 1, 2, 3, 4, 7, 1, 2, 4, 7, 1, 7, 1, 2, 3, 4, 7, 1, 1, 2, 6, 7, 1, 2, 3, 4, 6, 1, 2, 4, 1, 2, 3, 4, 6, 7, 1, 3, 6, 4, 4, 1, 2, 6, 1, 3, 6, 3, 1, 2, 6, 3, 1, 2, 3, 4, 6, 1, 2, 3, 1, 6, 1, 2, 3, 4, 6, 7, 2, 6, 3, 1, 2, 6, 7, 1, 2, 3, 4, 6, 4, 6, 1, 4, 2, 2, 4, 1, 2, 4, 7, 2, 1, 2, 3, 4, 6, 7, 3, 2, 3, 1, 6, 2, 6, 1, 6, 7, 1, 2, 2, 2, 1, 2, 1, 6, 3, 2, 4, 1, 6, 3, 4, 6, 1, 3, 1, 2, 6, 1, 2, 6, 2, 3, 3, 1, 2, 6, 4, 1, 2, 3, 4, 7, 1, 2, 3, 4, 6, 7, 1, 2, 1, 2, 1, 2, 4, 6, 1, 2, 6, 1, 4, 1, 1, 6, 1, 2, 7, 6, 1, 2, 4, 1, 2, 4, 6, 3, 2, 2, 2, 3, 7, 1, 2, 3, 6, 1, 4, 1, 6, 6, 6, 3, 1, 1, 3, 1, 4, 1, 2, 6, 1, 2, 1, 2, 6, 1, 3, 1, 2, 3, 4, 6, 1, 4, 1, 2, 1, 3, 1, 2, 1, 2, 1, 2, 1, 2, 3, 4, 6, 2, 4, 1, 3, 1, 6, 2, 1, 2, 1, 2, 7, 1, 2, 3, 6, 7, 3, 1, 2, 3, 4, 1, 2, 3, 4, 6, 1, 4, 1, 2, 4, 2, 3, 4, 1, 3, 6, 1, 4, 3, 1, 2, 4, 6, 7, 1, 3, 4, 4, 4, 1, 2, 1, 2, 3, 6, 7, 1, 2, 1, 4, 3, 3, 1, 2, 1, 2, 4, 6, 3, 3, 1, 2, 1, 2, 3, 1, 1, 4, 2, 2, 1, 6, 1, 2, 4, 1, 1, 2, 1, 2, 3, 6, 1, 1, 6, 7, 1, 1, 1, 2, 4, 1, 2, 4, 7, 1, 2, 3, 7, 2, 1, 6, 4, 1, 3, 1, 2, 3, 6, 1, 2, 1, 4, 3, 1, 2, 3, 4, 6, 1, 3, 6, 1, 2, 3, 2, 1, 2, 6, 7, 2, 1, 2, 4, 1, 2, 6, 2, 2, 2, 6, 4, 3, 1, 6, 1, 2, 4, 1, 3, 1, 2, 3, 4, 1, 2, 4, 1, 6, 7, 1, 2, 4, 6, 1, 3, 1, 6, 1, 4, 1, 1, 2, 3, 3, 6, 3, 1, 2, 4, 7, 6, 1, 2, 4, 1, 2, 3, 4, 6, 1, 1, 2, 3, 4, 1, 2, 4, 1, 6, 1, 7, 7, 1, 7, 7, 7, 7, 7, 7, 7, 1, 2, 4, 7, 2, 1, 2, 1, 4, 1, 6, 6, 3, 1, 1, 2, 2, 1, 4, 4, 6, 2, 2, 1, 1, 2, 4, 2, 2, 1, 3, 1, 6, 1, 2, 3, 4, 1, 2, 3, 4, 7, 7, 7, 7, 7, 1, 2, 3, 1, 2, 3, 4, 6, 1, 4, 1, 2, 7, 7, 1, 2, 4, 7, 1, 1, 2, 7, 1, 2, 4, 7, 1, 2, 4, 7, 1, 2, 7, 7, 7, 3, 1, 2, 3, 6, 1, 2, 4, 7, 1, 2, 3, 7, 1, 2, 6, 1, 2, 1, 2, 3, 7, 1, 3, 1, 2, 1, 4, 6, 3], \"Freq\": [1.0371777938164455, 0.94378940208227, 0.6999946112403869, 1.0527645303856894, 0.9953273849886619, 0.9680245584345317, 0.43123152809458265, 0.21561576404729133, 0.43123152809458265, 0.4968833043414844, 0.4968833043414844, 0.9953216176361671, 0.7166188020550888, 0.11943646700918147, 0.1791547005137722, 0.9953331939089594, 0.7367463251927575, 0.040930351399597636, 0.20465175699798818, 1.0030282249550697, 0.49071555870863104, 0.2944293352251786, 0.2944293352251786, 0.2911901244273038, 0.7279753110682595, 0.9953137937444528, 0.9953257617869173, 0.9953088587149987, 0.38927989982738503, 0.7785597996547701, 0.5121651975002408, 0.27936283500013137, 0.23280236250010947, 0.5919537347278591, 0.2152559035374033, 0.2152559035374033, 0.9306537513189955, 0.20709090286196288, 0.8283636114478515, 1.0154864756766373, 0.5688461842448078, 0.22753847369792315, 0.028442309212240394, 0.14221154606120195, 0.34394380633489685, 0.4706599455109115, 0.054306916789720557, 0.03620461119314704, 0.09051152798286759, 0.7036557272780828, 0.18237951605240285, 0.5927334271703093, 0.18237951605240285, 0.5659963181115207, 1.1193930543299668, 0.20039186515188656, 0.8015674606075462, 0.9953388746089283, 0.8006037821628109, 0.14296496110050194, 0.042889488330150584, 0.014296496110050193, 0.014296496110050193, 0.14323335243688057, 0.42970005731064165, 0.07161667621844028, 0.28646670487376114, 0.02470296287934274, 0.9881185151737095, 0.3024703498274715, 0.4234584897584601, 0.0604940699654943, 0.1814822098964829, 0.0604940699654943, 1.025637061406656, 0.7393397093603312, 0.0778252325642454, 0.11673784884636809, 0.0778252325642454, 0.4507389579398355, 0.29165461984342295, 0.07954216904820625, 0.053028112698804176, 0.10605622539760835, 0.4470196232805734, 0.268211773968344, 0.268211773968344, 0.667324475614583, 0.23679255586323913, 0.021526595987567194, 0.08610638395026878, 0.5659934617915873, 1.0228342124010565, 0.6191724166436634, 0.06879693518262926, 0.27518774073051705, 0.5712794994205681, 0.9935636372420287, 0.5797762314077944, 0.1449440578519486, 0.2898881157038972, 0.22376088594741378, 0.33564132892112064, 0.44752177189482756, 1.1202997436283944, 0.13985565417369172, 0.13985565417369172, 0.6992782708684586, 1.119358085378392, 0.6774337726324144, 0.10696322725774965, 0.1426176363436662, 0.03565440908591655, 0.03565440908591655, 0.902119937363738, 0.03469692066783608, 0.03469692066783608, 0.5095831585677645, 0.5095831585677645, 0.5139425932140644, 0.306178566170081, 0.05831972688953923, 0.05102976102834683, 0.06196470982013543, 0.010934948791788607, 0.8106308983622725, 0.5657563749550619, 0.7036745435876828, 0.5397593609998105, 0.17991978699993683, 0.25188770179991155, 0.03598395739998737, 0.70807533017792, 0.06743574573123047, 0.10115361859684571, 0.016858936432807618, 0.11801255502965333, 0.7003211783987504, 0.5663234305851274, 0.49688495562059365, 0.49688495562059365, 0.9671215552486616, 0.36424890559150264, 0.7284978111830053, 0.8224208796797573, 0.11422512217774407, 0.04569004887109763, 0.022845024435548814, 0.9306541891719893, 0.7607484368530268, 0.04347133924874439, 0.06520700887311659, 0.04347133924874439, 0.06520700887311659, 0.021735669624372195, 1.1193641539299375, 0.5784029603664989, 0.3856019735776659, 0.3007368468300741, 0.9022105404902223, 0.930644330639144, 0.5660802566500333, 0.5508685831203961, 0.27543429156019805, 0.20657571867014854, 0.32506947123953334, 0.6907726263840083, 1.1815709901887996, 1.1815374977983786, 1.0149047485903349, 0.930765587024509, 0.5855562453681874, 0.4391671840261406, 0.7036845442160123, 1.181535452301976, 0.7003858197969135, 1.0260860730425496, 0.5660530558373056, 1.120314409084145, 0.7003282559372547, 0.5659287379834991, 0.9887268852785531, 0.7036739875936012, 0.07017252722323097, 0.7017252722323097, 0.21051758166969295, 0.20316645690470791, 0.40633291380941583, 0.6094993707141237, 0.17319573844456607, 0.8659786922228304, 1.119388221300097, 0.12626761808994086, 0.757605708539645, 0.12626761808994086, 1.0038039646282078, 0.8273176075368601, 0.07353934289216535, 0.018384835723041337, 0.018384835723041337, 0.055154507169124005, 0.7902755129868918, 0.12993748326738652, 0.017040981412116265, 0.04899282155983426, 0.0063903680295436, 0.004260245353029066, 1.0088013398079145, 1.1816305933840605, 0.23276825325000133, 0.731557367357147, 0.7438468795197375, 0.17298764639993894, 0.08649382319996947, 0.565962360071198, 0.4414045512276573, 0.5296854614731888, 0.029426970081843824, 0.5755115878984867, 0.38367439193232444, 0.9465652019535546, 0.296572463306547, 0.889717389919641, 0.49546968506468125, 0.4504269864224375, 0.04504269864224375, 0.5658839399339225, 0.7755327133198145, 0.1292554522199691, 0.0861703014799794, 0.21645988279804912, 0.10822994139902456, 0.05411497069951228, 0.6493796483941474, 0.7036568274666555, 0.8159817498821018, 1.0518747894111735, 0.1206050868557814, 0.9648406948462512, 1.037220470193086, 0.08881570607165634, 0.17763141214331268, 0.4440785303582817, 0.266447118214969, 0.9699252026613872, 0.700311748526811, 0.19080940755076292, 0.7632376302030517, 0.5671681047967694, 0.5659632181838123, 0.7036365468081281, 0.9851081975667939, 0.35988512546181484, 0.5998085424363581, 0.27144652454917534, 0.814339573647526, 0.32934044129780743, 0.16467022064890371, 0.4940106619467111, 0.4826148343271711, 0.4826148343271711, 0.8006048008947287, 0.13343413348245478, 0.06671706674122739, 0.2016341615548986, 0.8065366462195944, 0.3654123750043737, 0.2706758333365731, 0.08120275000097192, 0.13533791666828654, 0.1488717083351152, 0.49682001861742714, 0.49682001861742714, 0.11014073754487955, 0.8811259003590364, 1.0154514941389998, 1.1194198662266774, 0.09268685579410027, 0.9268685579410028, 0.9100357586011549, 0.08806797663882145, 0.9667848898759074, 0.9306269639012591, 0.49884830455521273, 0.12933104192172182, 0.2771379469751182, 0.03695172626334909, 0.03695172626334909, 0.9306568855576566, 1.003940704381698, 0.2845378093629533, 0.85361342808886, 0.24642262705278253, 0.7392678811583476, 0.9306494233050174, 1.0070067702151204, 1.1815297131288878, 0.40656058421988583, 0.4969073807131938, 0.09034679649330797, 0.5494734009513512, 0.28847353549945937, 0.09615784516648646, 0.05494734009513512, 0.01373683502378378, 0.7036884638988429, 0.6943650509190591, 0.24925924904786737, 0.053412696224543005, 0.01780423207484767, 0.18957524285997593, 0.5687257285799278, 0.09478762142998796, 0.03159587380999599, 0.15797936904997995, 0.9151294874829237, 0.05084052708238465, 0.8888670706356638, 0.0987630078484071, 0.019752601569681418, 0.16340421925323126, 0.16340421925323126, 0.653616877012925, 0.5295255562016468, 0.47068938329035265, 0.05883617291129408, 0.9268203665168194, 0.7002678179702028, 1.1193787459426374, 0.5291303705796183, 0.3880289384250534, 0.03527535803864122, 0.03527535803864122, 0.03527535803864122, 0.5469922672849451, 0.27349613364247255, 0.09116537788082418, 0.69968746784459, 1.1132037755671484, 0.1599934090026227, 0.7999670450131136, 0.6254026784158218, 0.2886473900380716, 0.03848631867174288, 0.03848631867174288, 0.00962157966793572, 0.13875929810194168, 0.8325557886116501, 0.5190561104451389, 0.5190561104451389, 1.1193869943469212, 0.7036656180751908, 0.18018975502276557, 0.9009487751138279, 0.07258089753213923, 0.43548538519283536, 0.5080662827249746, 0.5659766762458224, 0.7036585314810573, 0.7036679590659196, 0.10467686505579134, 0.9420917855021221, 0.042711173221784596, 0.8969346376574765, 0.042711173221784596, 0.988822824745358, 0.4981958844069052, 0.4981958844069052, 0.941148222883187, 1.1815495701086582, 0.2685150032033431, 0.8055450096100293, 0.1577368194747682, 0.788684097373841, 0.0788684097373841, 1.0263646711976462, 0.17773069128264782, 0.8886534564132391, 0.5020096036605605, 0.05020096036605604, 0.30120576219633627, 0.15060288109816813, 1.023362272075204, 0.27518911835060833, 0.825567355051825, 0.833519204608581, 0.9736933735476154, 0.924797575548566, 0.7826894673901384, 0.15186512053838508, 0.07009159409463926, 0.669249061550688, 0.20769798461917902, 0.057693884616438616, 0.06923266153972633, 0.13637468760359645, 0.2727493752071929, 0.5454987504143858, 0.13637468760359645, 1.1816439562337078, 0.27759775762493805, 0.8327932728748142, 0.6966749757273674, 0.9866261032590754, 0.8583954705487644, 0.15847108549898198, 0.15847108549898198, 0.31694217099796396, 0.475413256496946, 0.8589711997926857, 0.1227101713989551, 0.4967620382141103, 0.4967620382141103, 0.7036530627173089, 0.19305792293858554, 0.25741056391811407, 0.19305792293858554, 0.38611584587717107, 0.5660093813738454, 0.23003809911355297, 0.11501904955677648, 0.5750952477838824, 0.39105659338420795, 0.4779580585806986, 0.13035219779473597, 0.8584150150883136, 0.3784932609321751, 0.3784932609321751, 0.18924663046608756, 0.06308221015536251, 0.8814900505016227, 0.8911367193843347, 0.04455683596921673, 0.04455683596921673, 0.4016872016341249, 0.5207056317479397, 0.07438651882113424, 0.9307775727262544, 1.1815391524304293, 1.1815480324876095, 0.5660380709554989, 0.7002423605877683, 0.7036710377217289, 0.29665514667208964, 0.8899654400162689, 0.7710566121781991, 0.1713459138173776, 0.057115304605792526, 0.19301888170423762, 0.7720755268169505, 0.5935046652960414, 0.06594496281067126, 0.26377985124268505, 0.06594496281067126, 0.8054488366291037, 0.1311195780559006, 0.07492547317480035, 0.771660380934942, 0.2057761015826512, 0.0514440253956628, 0.5516239854230968, 0.20059054015385339, 0.15044290511539005, 0.10029527007692669, 0.9648589734699218, 0.7036633812281717, 0.29663323454066565, 0.8898997036219969, 0.9738278708702255, 0.027050774190839597, 0.9342722398136223, 0.5638362134342225, 0.24514617975400982, 0.19611694380320785, 1.015559830397877, 0.5659524941283512, 0.703665557544436, 0.5111417103203145, 0.31946356895019656, 0.06389271379003932, 0.12778542758007863, 0.566041885603926, 0.5843840020147473, 0.41250635436335104, 0.03437552953027925, 0.47293264732993395, 0.35469948549745045, 0.0909485860249873, 0.08185372742248857, 0.00909485860249873, 1.016824473091099, 0.36119535891664595, 0.05159933698809228, 0.05159933698809228, 0.567592706869015, 0.7220807260465387, 0.08023119178294874, 0.24069357534884622, 0.296663730476216, 0.8899911914286481, 0.9629318020398143, 0.9953445178338766, 0.9953110314469545, 0.5864305040619152, 0.43982287804643644, 0.9953544351180718, 0.9953179990105792, 0.9953515434067771, 0.9953267692215265, 0.9953116326812919, 0.9952985426768315, 0.9021702290733175, 0.058204530907955965, 0.029102265453977982, 0.029102265453977982, 1.181553182046247, 0.45691551762348215, 0.5272102126424795, 0.5034523099125077, 0.5034523099125077, 0.2585784290091434, 0.7757352870274301, 0.5659630517372664, 1.0155173107146185, 0.967630890341726, 0.7482313502214692, 0.24941045007382306, 1.1816521792808887, 0.4335078494200657, 0.4335078494200657, 0.7000765767490259, 0.5660378065826288, 1.1815481278832196, 1.0525428763081517, 0.9433729149527214, 0.5685441695316336, 0.1137088339063267, 0.3411265017189801, 0.9306286198974235, 1.181582376683662, 0.5325015309788961, 0.5325015309788961, 0.37490774243035807, 0.6248462373839301, 0.7568743087551507, 0.16930083222154685, 0.009958872483620403, 0.05975323490172242, 0.6038327112308138, 0.3293632970349894, 0.041170412129373675, 0.013723470709791224, 0.027446941419582448, 0.9953357124306237, 0.9953272569362646, 0.9953562856653111, 0.9953299531943036, 0.9436698041784534, 0.05550998848108549, 0.703654450719111, 0.761443129103664, 0.190360782275916, 0.027194397467987998, 0.027194397467987998, 0.5660882222257722, 1.0258100856763257, 0.7002975787865268, 0.31776286611301774, 0.15888143305650887, 0.6355257322260355, 0.9953403784452672, 0.8663270198508172, 0.06144163261353313, 0.04300914282947319, 0.024576653045413253, 0.9901997109922537, 0.576962663239971, 0.192320887746657, 0.192320887746657, 0.9430553743255936, 0.06287035828837291, 0.06287035828837291, 0.9953376946671928, 0.12312981436693338, 0.7387788862016003, 0.12312981436693338, 0.9953231544271794, 0.5665058697218208, 0.1416264674304552, 0.354066168576138, 0.9953058703581508, 0.9953579607247757, 0.7036939406397105, 0.5052763881341866, 0.22967108551553936, 0.1837368684124315, 0.045934217103107876, 0.8034249850393652, 0.18116445741083725, 0.00787671553960162, 0.00787671553960162, 0.4386926278978489, 0.29246175193189927, 0.07311543798297482, 0.21934631394892445, 0.7678081015493017, 0.23460803102895328, 0.5659358535923125, 0.16586396453708482, 0.8293198226854241, 0.3187471965841874, 0.21249813105612492, 0.5312453276403123, 0.9953009666723454, 0.3616786905489919, 0.7233573810979838, 0.9371149860078373, 0.04932184136883354, 0.4722822087692059, 0.4722822087692059, 0.5662847291731959, 0.7036445937454463], \"Term\": [\"\\u0392\\u03b1\\u03b2\\u03c5\\u03bb\\u03ce\\u03bd\", \"\\u0392\\u03b1\\u03c1\\u03b1\\u03b2\\u03b2\\u1fb6\\u03c2\", \"\\u0392\\u03b1\\u03c1\\u03b9\\u03c9\\u03bd\\u1fb6\", \"\\u0392\\u03b5\\u03b5\\u03bb\\u03b6\\u03b5\\u03b2\\u03bf\\u03cd\\u03bb\", \"\\u0392\\u03cc\\u03b5\\u03c2\", \"\\u0393\\u03b1\\u03bb\\u03b9\\u03bb\\u03b1\\u03af\\u03b1\", \"\\u0394\\u03b1\\u03c5\\u03af\\u03b4\", \"\\u0394\\u03b1\\u03c5\\u03af\\u03b4\", \"\\u0394\\u03b1\\u03c5\\u03af\\u03b4\", \"\\u039a\\u03b1\\u03b9\\u03c3\\u03ac\\u03c1\\u03b5\\u03b9\\u03b1\", \"\\u039a\\u03b1\\u03b9\\u03c3\\u03ac\\u03c1\\u03b5\\u03b9\\u03b1\", \"\\u039c\\u03b1\\u03bd\\u03b1\\u03c3\\u03c3\\u1fc6\", \"\\u039c\\u03b1\\u03c1\\u03af\\u03b1\", \"\\u039c\\u03b1\\u03c1\\u03af\\u03b1\", \"\\u039c\\u03b1\\u03c1\\u03af\\u03b1\", \"\\u039d\\u03b1\\u03b1\\u03c3\\u03c3\\u03ce\\u03bd\", \"\\u03a0\\u03ad\\u03c4\\u03c1\\u03bf\\u03c2\", \"\\u03a0\\u03ad\\u03c4\\u03c1\\u03bf\\u03c2\", \"\\u03a0\\u03ad\\u03c4\\u03c1\\u03bf\\u03c2\", \"\\u03a0\\u03b9\\u03bb\\u1fb6\\u03c4\\u03bf\\u03c2\", \"\\u03a3\\u03af\\u03bc\\u03c9\\u03bd\", \"\\u03a3\\u03af\\u03bc\\u03c9\\u03bd\", \"\\u03a3\\u03af\\u03bc\\u03c9\\u03bd\", \"\\u03a3\\u03b1\\u03b4\\u03b4\\u03bf\\u03c5\\u03ba\\u03b1\\u1fd6\\u03bf\\u03c2\", \"\\u03a3\\u03b1\\u03b4\\u03b4\\u03bf\\u03c5\\u03ba\\u03b1\\u1fd6\\u03bf\\u03c2\", \"\\u03a3\\u03b1\\u03bb\\u03b1\\u03b8\\u03b9\\u03ae\\u03bb\", \"\\u03a3\\u03b1\\u03bb\\u03bc\\u03ce\\u03bd\", \"\\u03a6\\u03ac\\u03c1\\u03b5\\u03c2\", \"\\u03a6\\u03af\\u03bb\\u03b9\\u03c0\\u03c0\\u03bf\\u03c2\", \"\\u03a6\\u03af\\u03bb\\u03b9\\u03c0\\u03c0\\u03bf\\u03c2\", \"\\u03a6\\u03b1\\u03c1\\u03b9\\u03c3\\u03b1\\u1fd6\\u03bf\\u03c2\", \"\\u03a6\\u03b1\\u03c1\\u03b9\\u03c3\\u03b1\\u1fd6\\u03bf\\u03c2\", \"\\u03a6\\u03b1\\u03c1\\u03b9\\u03c3\\u03b1\\u1fd6\\u03bf\\u03c2\", \"\\u03a7\\u03c1\\u03b9\\u03c3\\u03c4\\u03cc\\u03c2\", \"\\u03a7\\u03c1\\u03b9\\u03c3\\u03c4\\u03cc\\u03c2\", \"\\u03a7\\u03c1\\u03b9\\u03c3\\u03c4\\u03cc\\u03c2\", \"\\u03b1\\u1f30\\u03b3\\u03b9\\u03b1\\u03bb\\u03cc\\u03c2\", \"\\u03b1\\u1f30\\u03ce\\u03bd\", \"\\u03b1\\u1f30\\u03ce\\u03bd\", \"\\u03b1\\u1f54\\u03c1\\u03b9\\u03bf\\u03bd\", \"\\u03b2\\u03ac\\u03bb\\u03bb\\u03c9\", \"\\u03b2\\u03ac\\u03bb\\u03bb\\u03c9\", \"\\u03b2\\u03ac\\u03bb\\u03bb\\u03c9\", \"\\u03b2\\u03ac\\u03bb\\u03bb\\u03c9\", \"\\u03b2\\u03b1\\u03c3\\u03b9\\u03bb\\u03b5\\u03af\\u03b1\", \"\\u03b2\\u03b1\\u03c3\\u03b9\\u03bb\\u03b5\\u03af\\u03b1\", \"\\u03b2\\u03b1\\u03c3\\u03b9\\u03bb\\u03b5\\u03af\\u03b1\", \"\\u03b2\\u03b1\\u03c3\\u03b9\\u03bb\\u03b5\\u03af\\u03b1\", \"\\u03b2\\u03b1\\u03c3\\u03b9\\u03bb\\u03b5\\u03af\\u03b1\", \"\\u03b2\\u03b1\\u03c4\\u03c4\\u03b1\\u03bb\\u03bf\\u03b3\\u03ad\\u03c9\", \"\\u03b2\\u03bb\\u03ad\\u03c0\\u03c9\", \"\\u03b2\\u03bb\\u03ad\\u03c0\\u03c9\", \"\\u03b2\\u03bb\\u03ad\\u03c0\\u03c9\", \"\\u03b2\\u03c1\\u03ad\\u03c7\\u03c9\", \"\\u03b2\\u03c1\\u1ff6\\u03c3\\u03b9\\u03c2\", \"\\u03b3\\u03ad\\u03b5\\u03bd\\u03bd\\u03b1\", \"\\u03b3\\u03ad\\u03b5\\u03bd\\u03bd\\u03b1\", \"\\u03b3\\u03ad\\u03bd\\u03b5\\u03c3\\u03b9\\u03c2\", \"\\u03b3\\u03af\\u03bd\\u03bf\\u03bc\\u03b1\\u03b9\", \"\\u03b3\\u03af\\u03bd\\u03bf\\u03bc\\u03b1\\u03b9\", \"\\u03b3\\u03af\\u03bd\\u03bf\\u03bc\\u03b1\\u03b9\", \"\\u03b3\\u03af\\u03bd\\u03bf\\u03bc\\u03b1\\u03b9\", \"\\u03b3\\u03af\\u03bd\\u03bf\\u03bc\\u03b1\\u03b9\", \"\\u03b3\\u03b5\\u03bd\\u03b5\\u03ac\", \"\\u03b3\\u03b5\\u03bd\\u03b5\\u03ac\", \"\\u03b3\\u03b5\\u03bd\\u03b5\\u03ac\", \"\\u03b3\\u03b5\\u03bd\\u03b5\\u03ac\", \"\\u03b3\\u03b5\\u03bd\\u03bd\\u03ac\\u03c9\", \"\\u03b3\\u03b5\\u03bd\\u03bd\\u03ac\\u03c9\", \"\\u03b3\\u03b9\\u03bd\\u03ce\\u03c3\\u03ba\\u03c9\", \"\\u03b3\\u03b9\\u03bd\\u03ce\\u03c3\\u03ba\\u03c9\", \"\\u03b3\\u03b9\\u03bd\\u03ce\\u03c3\\u03ba\\u03c9\", \"\\u03b3\\u03b9\\u03bd\\u03ce\\u03c3\\u03ba\\u03c9\", \"\\u03b3\\u03b9\\u03bd\\u03ce\\u03c3\\u03ba\\u03c9\", \"\\u03b3\\u03c1\\u03ac\\u03c6\\u03c9\", \"\\u03b3\\u03c5\\u03bd\\u03ae\", \"\\u03b3\\u03c5\\u03bd\\u03ae\", \"\\u03b3\\u03c5\\u03bd\\u03ae\", \"\\u03b3\\u03c5\\u03bd\\u03ae\", \"\\u03b3\\u1fc6\", \"\\u03b3\\u1fc6\", \"\\u03b3\\u1fc6\", \"\\u03b3\\u1fc6\", \"\\u03b3\\u1fc6\", \"\\u03b4\\u03ad\\u03c9\", \"\\u03b4\\u03ad\\u03c9\", \"\\u03b4\\u03ad\\u03c9\", \"\\u03b4\\u03af\\u03b4\\u03c9\\u03bc\\u03b9\", \"\\u03b4\\u03af\\u03b4\\u03c9\\u03bc\\u03b9\", \"\\u03b4\\u03af\\u03b4\\u03c9\\u03bc\\u03b9\", \"\\u03b4\\u03af\\u03b4\\u03c9\\u03bc\\u03b9\", \"\\u03b4\\u03b1\\u03bd\\u03af\\u03b6\\u03c9\", \"\\u03b4\\u03b5\\u03ba\\u03b1\\u03c4\\u03ad\\u03c3\\u03c3\\u03b1\\u03c1\\u03b5\\u03c2\", \"\\u03b4\\u03b5\\u03be\\u03b9\\u03cc\\u03c2\", \"\\u03b4\\u03b5\\u03be\\u03b9\\u03cc\\u03c2\", \"\\u03b4\\u03b5\\u03be\\u03b9\\u03cc\\u03c2\", \"\\u03b4\\u03b9\\u03b1\\u03ba\\u03c1\\u03af\\u03bd\\u03c9\", \"\\u03b4\\u03b9\\u03b1\\u03bb\\u03bf\\u03b3\\u03af\\u03b6\\u03bf\\u03bc\\u03b1\\u03b9\", \"\\u03b4\\u03b9\\u03b4\\u03ac\\u03c3\\u03ba\\u03c9\", \"\\u03b4\\u03b9\\u03b4\\u03ac\\u03c3\\u03ba\\u03c9\", \"\\u03b4\\u03b9\\u03b4\\u03ac\\u03c3\\u03ba\\u03c9\", \"\\u03b4\\u03b9\\u03ba\\u03b1\\u03b9\\u03bf\\u03c3\\u03cd\\u03bd\\u03b7\", \"\\u03b4\\u03b9\\u03ba\\u03b1\\u03b9\\u03bf\\u03c3\\u03cd\\u03bd\\u03b7\", \"\\u03b4\\u03b9\\u03ba\\u03b1\\u03b9\\u03bf\\u03c3\\u03cd\\u03bd\\u03b7\", \"\\u03b4\\u03b9\\u03bf\\u03c1\\u03cd\\u03c3\\u03c3\\u03c9\", \"\\u03b4\\u03b9\\u03ce\\u03ba\\u03c9\", \"\\u03b4\\u03b9\\u03ce\\u03ba\\u03c9\", \"\\u03b4\\u03b9\\u03ce\\u03ba\\u03c9\", \"\\u03b4\\u03bf\\u03c5\\u03bb\\u03b5\\u03cd\\u03c9\", \"\\u03b4\\u03cd\\u03bd\\u03b1\\u03bc\\u03b1\\u03b9\", \"\\u03b4\\u03cd\\u03bd\\u03b1\\u03bc\\u03b1\\u03b9\", \"\\u03b4\\u03cd\\u03bd\\u03b1\\u03bc\\u03b1\\u03b9\", \"\\u03b4\\u03cd\\u03bd\\u03b1\\u03bc\\u03b1\\u03b9\", \"\\u03b4\\u03cd\\u03bd\\u03b1\\u03bc\\u03b1\\u03b9\", \"\\u03b4\\u03cd\\u03bf\", \"\\u03b4\\u03cd\\u03bf\", \"\\u03b4\\u03cd\\u03bf\", \"\\u03b4\\u1ff6\\u03c1\\u03bf\\u03bd\", \"\\u03b4\\u1ff6\\u03c1\\u03bf\\u03bd\", \"\\u03b5\\u1f30\\u03bc\\u03af\", \"\\u03b5\\u1f30\\u03bc\\u03af\", \"\\u03b5\\u1f30\\u03bc\\u03af\", \"\\u03b5\\u1f30\\u03bc\\u03af\", \"\\u03b5\\u1f30\\u03bc\\u03af\", \"\\u03b5\\u1f30\\u03bc\\u03af\", \"\\u03b5\\u1f30\\u03c1\\u03ae\\u03bd\\u03b7\", \"\\u03b5\\u1f30\\u03c1\\u03b7\\u03bd\\u03bf\\u03c0\\u03bf\\u03b9\\u03cc\\u03c2\", \"\\u03b5\\u1f30\\u03c3\\u03c6\\u03ad\\u03c1\\u03c9\", \"\\u03b5\\u1f36\\u03c0\\u03bf\\u03bd\", \"\\u03b5\\u1f36\\u03c0\\u03bf\\u03bd\", \"\\u03b5\\u1f36\\u03c0\\u03bf\\u03bd\", \"\\u03b5\\u1f36\\u03c0\\u03bf\\u03bd\", \"\\u03b5\\u1f37\\u03c2\", \"\\u03b5\\u1f37\\u03c2\", \"\\u03b5\\u1f37\\u03c2\", \"\\u03b5\\u1f37\\u03c2\", \"\\u03b5\\u1f37\\u03c2\", \"\\u03b5\\u1f50\\u03b4\\u03af\\u03b1\", \"\\u03b5\\u1f50\\u03bd\\u03bf\\u03ad\\u03c9\", \"\\u03b6\\u03b7\\u03bc\\u03b9\\u03cc\\u03c9\", \"\\u03b6\\u03b7\\u03bc\\u03b9\\u03cc\\u03c9\", \"\\u03b6\\u03b9\\u03b6\\u03ac\\u03bd\\u03b9\\u03bf\\u03bd\", \"\\u03b6\\u03cd\\u03bc\\u03b7\", \"\\u03b6\\u03cd\\u03bc\\u03b7\", \"\\u03b8\\u03ad\\u03bb\\u03c9\", \"\\u03b8\\u03ad\\u03bb\\u03c9\", \"\\u03b8\\u03ad\\u03bb\\u03c9\", \"\\u03b8\\u03ad\\u03bb\\u03c9\", \"\\u03b8\\u03b5\\u03c1\\u03b9\\u03c3\\u03c4\\u03ae\\u03c2\", \"\\u03b8\\u03b5\\u03cc\\u03c2\", \"\\u03b8\\u03b5\\u03cc\\u03c2\", \"\\u03b8\\u03b5\\u03cc\\u03c2\", \"\\u03b8\\u03b5\\u03cc\\u03c2\", \"\\u03b8\\u03b5\\u03cc\\u03c2\", \"\\u03b8\\u03b5\\u03cc\\u03c2\", \"\\u03b8\\u03b7\\u03c3\\u03b1\\u03c5\\u03c1\\u03af\\u03b6\\u03c9\", \"\\u03b8\\u03b7\\u03c3\\u03b1\\u03c5\\u03c1\\u03cc\\u03c2\", \"\\u03b8\\u03b7\\u03c3\\u03b1\\u03c5\\u03c1\\u03cc\\u03c2\", \"\\u03b8\\u03c5\\u03c3\\u03b9\\u03b1\\u03c3\\u03c4\\u03ae\\u03c1\\u03b9\\u03bf\\u03bd\", \"\\u03b8\\u03c5\\u03c3\\u03b9\\u03b1\\u03c3\\u03c4\\u03ae\\u03c1\\u03b9\\u03bf\\u03bd\", \"\\u03ba\\u03ac\\u03bc\\u03b9\\u03bd\\u03bf\\u03c2\", \"\\u03ba\\u03b1\\u03af\\u03c9\", \"\\u03ba\\u03b1\\u03bb\\u03ad\\u03c9\", \"\\u03ba\\u03b1\\u03bb\\u03ad\\u03c9\", \"\\u03ba\\u03b1\\u03bb\\u03ad\\u03c9\", \"\\u03ba\\u03b1\\u03bb\\u03cc\\u03c2\", \"\\u03ba\\u03b1\\u03bb\\u03cc\\u03c2\", \"\\u03ba\\u03b1\\u03bc\\u03bc\\u03cd\\u03c9\", \"\\u03ba\\u03b1\\u03c1\\u03c0\\u03bf\\u03c6\\u03bf\\u03c1\\u03ad\\u03c9\", \"\\u03ba\\u03b1\\u03c4\\u03b1\\u03b2\\u03b1\\u03af\\u03bd\\u03c9\", \"\\u03ba\\u03b1\\u03c4\\u03b1\\u03b4\\u03b9\\u03ba\\u03ac\\u03b6\\u03c9\", \"\\u03ba\\u03b1\\u03c4\\u03b1\\u03bb\\u03cd\\u03c9\", \"\\u03ba\\u03b1\\u03c4\\u03b1\\u03bb\\u03cd\\u03c9\", \"\\u03ba\\u03b1\\u03c4\\u03b1\\u03bc\\u03b1\\u03bd\\u03b8\\u03ac\\u03bd\\u03c9\", \"\\u03ba\\u03b1\\u03c4\\u03b1\\u03c3\\u03ba\\u03b7\\u03bd\\u03cc\\u03c9\", \"\\u03ba\\u03b1\\u03c4\\u03b9\\u03c3\\u03c7\\u03cd\\u03c9\", \"\\u03ba\\u03b5\\u03bb\\u03b5\\u03cd\\u03c9\", \"\\u03ba\\u03b5\\u03c1\\u03b1\\u03af\\u03b1\", \"\\u03ba\\u03bb\\u03ad\\u03c0\\u03c4\\u03b7\\u03c2\", \"\\u03ba\\u03bb\\u03b5\\u03af\\u03c2\", \"\\u03ba\\u03bf\\u03b4\\u03c1\\u03ac\\u03bd\\u03c4\\u03b7\\u03c2\", \"\\u03ba\\u03c1\\u03ac\\u03b6\\u03c9\", \"\\u03ba\\u03c1\\u03af\\u03bd\\u03bf\\u03bd\", \"\\u03ba\\u03c1\\u03af\\u03c3\\u03b9\\u03c2\", \"\\u03ba\\u03c1\\u03af\\u03c3\\u03b9\\u03c2\", \"\\u03ba\\u03c1\\u03af\\u03c3\\u03b9\\u03c2\", \"\\u03ba\\u03c1\\u03b9\\u03c4\\u03ae\\u03c2\", \"\\u03ba\\u03c1\\u03b9\\u03c4\\u03ae\\u03c2\", \"\\u03ba\\u03c1\\u03b9\\u03c4\\u03ae\\u03c2\", \"\\u03ba\\u03c1\\u03c5\\u03c0\\u03c4\\u03cc\\u03c2\", \"\\u03ba\\u03c1\\u03c5\\u03c0\\u03c4\\u03cc\\u03c2\", \"\\u03ba\\u03c1\\u03c5\\u03c6\\u03b1\\u1fd6\\u03bf\\u03c2\", \"\\u03ba\\u03c1\\u03cd\\u03c0\\u03c4\\u03c9\", \"\\u03ba\\u03c1\\u03cd\\u03c0\\u03c4\\u03c9\", \"\\u03ba\\u03c1\\u03cd\\u03c0\\u03c4\\u03c9\", \"\\u03ba\\u03cc\\u03c6\\u03b9\\u03bd\\u03bf\\u03c2\", \"\\u03ba\\u03cd\\u03c1\\u03b9\\u03bf\\u03c2\", \"\\u03ba\\u03cd\\u03c1\\u03b9\\u03bf\\u03c2\", \"\\u03ba\\u03cd\\u03c1\\u03b9\\u03bf\\u03c2\", \"\\u03ba\\u03cd\\u03c1\\u03b9\\u03bf\\u03c2\", \"\\u03ba\\u03cd\\u03c1\\u03b9\\u03bf\\u03c2\", \"\\u03bb\\u03ad\\u03b3\\u03c9\", \"\\u03bb\\u03ad\\u03b3\\u03c9\", \"\\u03bb\\u03ad\\u03b3\\u03c9\", \"\\u03bb\\u03ad\\u03b3\\u03c9\", \"\\u03bb\\u03ad\\u03b3\\u03c9\", \"\\u03bb\\u03ad\\u03b3\\u03c9\", \"\\u03bb\\u03af\\u03b8\\u03bf\\u03c2\", \"\\u03bb\\u03af\\u03bd\\u03bf\\u03bd\", \"\\u03bb\\u03b1\\u03bb\\u03ad\\u03c9\", \"\\u03bb\\u03b1\\u03bb\\u03ad\\u03c9\", \"\\u03bb\\u03b1\\u03bc\\u03b2\\u03ac\\u03bd\\u03c9\", \"\\u03bb\\u03b1\\u03bc\\u03b2\\u03ac\\u03bd\\u03c9\", \"\\u03bb\\u03b1\\u03bc\\u03b2\\u03ac\\u03bd\\u03c9\", \"\\u03bb\\u03c5\\u03c7\\u03bd\\u03af\\u03b1\", \"\\u03bb\\u03cc\\u03b3\\u03bf\\u03c2\", \"\\u03bb\\u03cc\\u03b3\\u03bf\\u03c2\", \"\\u03bb\\u03cc\\u03b3\\u03bf\\u03c2\", \"\\u03bb\\u03cd\\u03c9\", \"\\u03bb\\u03cd\\u03c9\", \"\\u03bb\\u1fc3\\u03c3\\u03c4\\u03ae\\u03c2\", \"\\u03bc\\u03ad\\u03bb\\u03bf\\u03c2\", \"\\u03bc\\u03ad\\u03bb\\u03bf\\u03c2\", \"\\u03bc\\u03ae\\u03c4\\u03b7\\u03c1\", \"\\u03bc\\u03ae\\u03c4\\u03b7\\u03c1\", \"\\u03bc\\u03ae\\u03c4\\u03b7\\u03c1\", \"\\u03bc\\u03af\\u03bb\\u03b9\\u03bf\\u03bd\", \"\\u03bc\\u03b1\\u03b8\\u03b7\\u03c4\\u03ae\\u03c2\", \"\\u03bc\\u03b1\\u03b8\\u03b7\\u03c4\\u03ae\\u03c2\", \"\\u03bc\\u03b1\\u03b8\\u03b7\\u03c4\\u03ae\\u03c2\", \"\\u03bc\\u03b1\\u03ba\\u03ac\\u03c1\\u03b9\\u03bf\\u03c2\", \"\\u03bc\\u03b1\\u03ba\\u03ac\\u03c1\\u03b9\\u03bf\\u03c2\", \"\\u03bc\\u03b1\\u03ba\\u03ac\\u03c1\\u03b9\\u03bf\\u03c2\", \"\\u03bc\\u03b1\\u03ba\\u03ac\\u03c1\\u03b9\\u03bf\\u03c2\", \"\\u03bc\\u03b1\\u03bc\\u03c9\\u03bd\\u1fb6\\u03c2\", \"\\u03bc\\u03b1\\u03c1\\u03b3\\u03b1\\u03c1\\u03af\\u03c4\\u03b7\\u03c2\", \"\\u03bc\\u03b5\\u03c1\\u03af\\u03b6\\u03c9\", \"\\u03bc\\u03b5\\u03c1\\u03b9\\u03bc\\u03bd\\u03ac\\u03c9\", \"\\u03bc\\u03b5\\u03c1\\u03b9\\u03bc\\u03bd\\u03ac\\u03c9\", \"\\u03bc\\u03b5\\u03c4\\u03bf\\u03b9\\u03ba\\u03b5\\u03c3\\u03af\\u03b1\", \"\\u03bc\\u03b9\\u03c3\\u03b8\\u03cc\\u03c2\", \"\\u03bc\\u03b9\\u03c3\\u03b8\\u03cc\\u03c2\", \"\\u03bc\\u03b9\\u03c3\\u03b8\\u03cc\\u03c2\", \"\\u03bc\\u03b9\\u03c3\\u03b8\\u03cc\\u03c2\", \"\\u03bc\\u03bd\\u03b7\\u03bc\\u03b5\\u1fd6\\u03bf\\u03bd\", \"\\u03bc\\u03bd\\u03b7\\u03bc\\u03bf\\u03bd\\u03b5\\u03cd\\u03c9\", \"\\u03bc\\u03bf\\u03b9\\u03c7\\u03b5\\u03cd\\u03c9\", \"\\u03bc\\u03bf\\u03b9\\u03c7\\u03b5\\u03cd\\u03c9\", \"\\u03bc\\u03c9\\u03c1\\u03b1\\u03af\\u03bd\\u03c9\", \"\\u03bc\\u03cc\\u03b4\\u03b9\\u03bf\\u03c2\", \"\\u03bd\\u03ae\\u03b8\\u03c9\", \"\\u03bd\\u03b1\\u03cc\\u03c2\", \"\\u03bd\\u03b7\\u03c3\\u03c4\\u03b5\\u03cd\\u03c9\", \"\\u03bd\\u03b7\\u03c3\\u03c4\\u03b5\\u03cd\\u03c9\", \"\\u03bd\\u03bf\\u03ad\\u03c9\", \"\\u03bd\\u03bf\\u03ad\\u03c9\", \"\\u03bd\\u03cc\\u03bc\\u03bf\\u03c2\", \"\\u03bd\\u03cc\\u03bc\\u03bf\\u03c2\", \"\\u03bd\\u03cc\\u03bc\\u03bf\\u03c2\", \"\\u03bf\\u1f30\\u03ba\\u03af\\u03b1\", \"\\u03bf\\u1f30\\u03ba\\u03af\\u03b1\", \"\\u03bf\\u1f50\", \"\\u03bf\\u1f50\", \"\\u03bf\\u1f50\", \"\\u03bf\\u1f50\\u03c1\\u03ac\\u03bd\\u03b9\\u03bf\\u03c2\", \"\\u03bf\\u1f50\\u03c1\\u03ac\\u03bd\\u03b9\\u03bf\\u03c2\", \"\\u03bf\\u1f50\\u03c1\\u03b1\\u03bd\\u03cc\\u03c2\", \"\\u03bf\\u1f50\\u03c1\\u03b1\\u03bd\\u03cc\\u03c2\", \"\\u03bf\\u1f50\\u03c1\\u03b1\\u03bd\\u03cc\\u03c2\", \"\\u03bf\\u1f50\\u03c1\\u03b1\\u03bd\\u03cc\\u03c2\", \"\\u03bf\\u1f50\\u03c1\\u03b1\\u03bd\\u03cc\\u03c2\", \"\\u03bf\\u1f54\\u03c0\\u03c9\", \"\\u03bf\\u1f54\\u03c0\\u03c9\", \"\\u03bf\\u1f56\\u03c2\", \"\\u03bf\\u1f56\\u03c2\", \"\\u03c0\\u03af\\u03c3\\u03c4\\u03b9\\u03c2\", \"\\u03c0\\u03b1\\u03c1\\u03ac\\u03c0\\u03c4\\u03c9\\u03bc\\u03b1\", \"\\u03c0\\u03b1\\u03c1\\u03b1\\u03b2\\u03bf\\u03bb\\u03ae\", \"\\u03c0\\u03b1\\u03c1\\u03b1\\u03b2\\u03bf\\u03bb\\u03ae\", \"\\u03c0\\u03b1\\u03c1\\u03b1\\u03b4\\u03af\\u03b4\\u03c9\\u03bc\\u03b9\", \"\\u03c0\\u03b1\\u03c1\\u03b1\\u03b4\\u03af\\u03b4\\u03c9\\u03bc\\u03b9\", \"\\u03c0\\u03b1\\u03c1\\u03b1\\u03ba\\u03b1\\u03bb\\u03ad\\u03c9\", \"\\u03c0\\u03b1\\u03c1\\u03b1\\u03c4\\u03af\\u03b8\\u03b7\\u03bc\\u03b9\", \"\\u03c0\\u03b1\\u03c4\\u03ae\\u03c1\", \"\\u03c0\\u03b1\\u03c4\\u03ae\\u03c1\", \"\\u03c0\\u03b1\\u03c4\\u03ae\\u03c1\", \"\\u03c0\\u03b1\\u03c4\\u03ae\\u03c1\", \"\\u03c0\\u03b1\\u03c4\\u03ae\\u03c1\", \"\\u03c0\\u03b1\\u03c4\\u03c1\\u03af\\u03c2\", \"\\u03c0\\u03b5\\u03bd\\u03c4\\u03b1\\u03ba\\u03b9\\u03c3\\u03c7\\u03af\\u03bb\\u03b9\\u03bf\\u03b9\", \"\\u03c0\\u03b5\\u03c1\\u03b9\\u03b2\\u03ac\\u03bb\\u03bb\\u03c9\", \"\\u03c0\\u03b5\\u03c1\\u03b9\\u03b2\\u03ac\\u03bb\\u03bb\\u03c9\", \"\\u03c0\\u03b5\\u03c1\\u03b9\\u03c3\\u03c3\\u03cc\\u03c2\", \"\\u03c0\\u03b5\\u03c1\\u03b9\\u03c3\\u03c3\\u03cc\\u03c2\", \"\\u03c0\\u03b5\\u03c4\\u03c1\\u03ce\\u03b4\\u03b7\\u03c2\", \"\\u03c0\\u03b9\\u03c3\\u03c4\\u03b5\\u03cd\\u03c9\", \"\\u03c0\\u03bb\\u03bf\\u1fe6\\u03c4\\u03bf\\u03c2\", \"\\u03c0\\u03bd\\u03b5\\u1fe6\\u03bc\\u03b1\", \"\\u03c0\\u03bd\\u03b5\\u1fe6\\u03bc\\u03b1\", \"\\u03c0\\u03bd\\u03b5\\u1fe6\\u03bc\\u03b1\", \"\\u03c0\\u03bf\\u03b9\\u03ad\\u03c9\", \"\\u03c0\\u03bf\\u03b9\\u03ad\\u03c9\", \"\\u03c0\\u03bf\\u03b9\\u03ad\\u03c9\", \"\\u03c0\\u03bf\\u03b9\\u03ad\\u03c9\", \"\\u03c0\\u03bf\\u03b9\\u03ad\\u03c9\", \"\\u03c0\\u03bf\\u03bb\\u03c5\\u03bb\\u03bf\\u03b3\\u03af\\u03b1\", \"\\u03c0\\u03bf\\u03bb\\u03cd\\u03c2\", \"\\u03c0\\u03bf\\u03bb\\u03cd\\u03c2\", \"\\u03c0\\u03bf\\u03bb\\u03cd\\u03c2\", \"\\u03c0\\u03bf\\u03bb\\u03cd\\u03c2\", \"\\u03c0\\u03bf\\u03bd\\u03b7\\u03c1\\u03cc\\u03c2\", \"\\u03c0\\u03bf\\u03bd\\u03b7\\u03c1\\u03cc\\u03c2\", \"\\u03c0\\u03bf\\u03bd\\u03b7\\u03c1\\u03cc\\u03c2\", \"\\u03c0\\u03bf\\u03bd\\u03b7\\u03c1\\u03cc\\u03c2\", \"\\u03c0\\u03bf\\u03bd\\u03b7\\u03c1\\u03cc\\u03c2\", \"\\u03c0\\u03c1\\u03b5\\u03c3\\u03b2\\u03cd\\u03c4\\u03b5\\u03c1\\u03bf\\u03c2\", \"\\u03c0\\u03c1\\u03b5\\u03c3\\u03b2\\u03cd\\u03c4\\u03b5\\u03c1\\u03bf\\u03c2\", \"\\u03c0\\u03c1\\u03bf\\u03c3\\u03ad\\u03c1\\u03c7\\u03bf\\u03bc\\u03b1\\u03b9\", \"\\u03c0\\u03c1\\u03bf\\u03c3\\u03ad\\u03c1\\u03c7\\u03bf\\u03bc\\u03b1\\u03b9\", \"\\u03c0\\u03c1\\u03bf\\u03c3\\u03ad\\u03c1\\u03c7\\u03bf\\u03bc\\u03b1\\u03b9\", \"\\u03c0\\u03c1\\u03bf\\u03c3\\u03ad\\u03c7\\u03c9\", \"\\u03c0\\u03c1\\u03bf\\u03c3\\u03ad\\u03c7\\u03c9\", \"\\u03c0\\u03c1\\u03bf\\u03c3\\u03ad\\u03c7\\u03c9\", \"\\u03c0\\u03c1\\u03bf\\u03c3\\u03b5\\u03cd\\u03c7\\u03bf\\u03bc\\u03b1\\u03b9\", \"\\u03c0\\u03c1\\u03bf\\u03c3\\u03b5\\u03cd\\u03c7\\u03bf\\u03bc\\u03b1\\u03b9\", \"\\u03c0\\u03c1\\u03bf\\u03c3\\u03b5\\u03cd\\u03c7\\u03bf\\u03bc\\u03b1\\u03b9\", \"\\u03c0\\u03c1\\u03bf\\u03c3\\u03ba\\u03c5\\u03bd\\u03ad\\u03c9\", \"\\u03c0\\u03c1\\u03bf\\u03c3\\u03bb\\u03b1\\u03bc\\u03b2\\u03ac\\u03bd\\u03c9\", \"\\u03c0\\u03c1\\u03bf\\u03c3\\u03c4\\u03af\\u03b8\\u03b7\\u03bc\\u03b9\", \"\\u03c0\\u03c1\\u03bf\\u03c6\\u03ae\\u03c4\\u03b7\\u03c2\", \"\\u03c0\\u03c1\\u03bf\\u03c6\\u03ae\\u03c4\\u03b7\\u03c2\", \"\\u03c0\\u03c1\\u03bf\\u03c6\\u03ae\\u03c4\\u03b7\\u03c2\", \"\\u03c0\\u03c1\\u03bf\\u03c6\\u03ae\\u03c4\\u03b7\\u03c2\", \"\\u03c0\\u03c1\\u03bf\\u03c6\\u03ae\\u03c4\\u03b7\\u03c2\", \"\\u03c0\\u03c1\\u03cc\\u03c3\\u03c9\\u03c0\\u03bf\\u03bd\", \"\\u03c0\\u03c1\\u03cc\\u03c3\\u03c9\\u03c0\\u03bf\\u03bd\", \"\\u03c0\\u03c1\\u03cc\\u03c3\\u03c9\\u03c0\\u03bf\\u03bd\", \"\\u03c0\\u03c1\\u1fb6\\u03be\\u03b9\\u03c2\", \"\\u03c0\\u03c5\\u03c1\\u03c1\\u03ac\\u03b6\\u03c9\", \"\\u03c0\\u03cc\\u03b8\\u03b5\\u03bd\", \"\\u03c0\\u03cc\\u03b8\\u03b5\\u03bd\", \"\\u03c0\\u1fb6\\u03c2\", \"\\u03c0\\u1fb6\\u03c2\", \"\\u03c0\\u1fb6\\u03c2\", \"\\u03c0\\u1fb6\\u03c2\", \"\\u03c0\\u1fb6\\u03c2\", \"\\u03c3\\u03ac\\u03b2\\u03b2\\u03b1\\u03c4\\u03bf\\u03bd\", \"\\u03c3\\u03ac\\u03b2\\u03b2\\u03b1\\u03c4\\u03bf\\u03bd\", \"\\u03c3\\u03ac\\u03c1\\u03be\", \"\\u03c3\\u03ac\\u03c1\\u03be\", \"\\u03c3\\u03ae\\u03c2\", \"\\u03c3\\u03b1\\u03bb\\u03c0\\u03af\\u03b6\\u03c9\", \"\\u03c3\\u03b1\\u03c0\\u03c1\\u03cc\\u03c2\", \"\\u03c3\\u03b1\\u03c0\\u03c1\\u03cc\\u03c2\", \"\\u03c3\\u03b7\\u03bc\\u03b5\\u1fd6\\u03bf\\u03bd\", \"\\u03c3\\u03b7\\u03bc\\u03b5\\u1fd6\\u03bf\\u03bd\", \"\\u03c3\\u03b7\\u03bc\\u03b5\\u1fd6\\u03bf\\u03bd\", \"\\u03c3\\u03b9\\u03b1\\u03b3\\u03ce\\u03bd\", \"\\u03c3\\u03ba\\u03bf\\u03c4\\u03b5\\u03b9\\u03bd\\u03cc\\u03c2\", \"\\u03c3\\u03ba\\u03c5\\u03b8\\u03c1\\u03c9\\u03c0\\u03cc\\u03c2\", \"\\u03c3\\u03c0\\u03ad\\u03c1\\u03bc\\u03b1\", \"\\u03c3\\u03c0\\u03ad\\u03c1\\u03bc\\u03b1\", \"\\u03c3\\u03c0\\u03b5\\u03af\\u03c1\\u03c9\", \"\\u03c3\\u03c0\\u03b5\\u03af\\u03c1\\u03c9\", \"\\u03c3\\u03c0\\u03b5\\u03af\\u03c1\\u03c9\", \"\\u03c3\\u03c4\\u03b1\\u03c5\\u03c1\\u03cc\\u03c9\", \"\\u03c3\\u03c4\\u03c5\\u03b3\\u03bd\\u03ac\\u03b6\\u03c9\", \"\\u03c3\\u03c4\\u03c5\\u03b3\\u03bd\\u03ac\\u03b6\\u03c9\", \"\\u03c3\\u03c5\\u03bb\\u03bb\\u03ad\\u03b3\\u03c9\", \"\\u03c3\\u03c5\\u03bc\\u03c0\\u03bd\\u03af\\u03b3\\u03c9\", \"\\u03c3\\u03c5\\u03bc\\u03c6\\u03ad\\u03c1\\u03c9\", \"\\u03c3\\u03c5\\u03bc\\u03c6\\u03ad\\u03c1\\u03c9\", \"\\u03c3\\u03c5\\u03bd\\u03af\\u03b7\\u03bc\\u03b9\", \"\\u03c3\\u03c5\\u03bd\\u03af\\u03b7\\u03bc\\u03b9\", \"\\u03c3\\u03c5\\u03bd\\u03af\\u03b7\\u03bc\\u03b9\", \"\\u03c3\\u03c6\\u03cc\\u03b4\\u03c1\\u03b1\", \"\\u03c3\\u1fd6\\u03c4\\u03bf\\u03c2\", \"\\u03c3\\u1fd6\\u03c4\\u03bf\\u03c2\", \"\\u03c3\\u1ff6\\u03bc\\u03b1\", \"\\u03c3\\u1ff6\\u03bc\\u03b1\", \"\\u03c3\\u1ff6\\u03bc\\u03b1\", \"\\u03c3\\u1ff6\\u03bc\\u03b1\", \"\\u03c4\\u03ac\\u03c6\\u03bf\\u03c2\", \"\\u03c4\\u03ad\\u03bb\\u03b5\\u03b9\\u03bf\\u03c2\", \"\\u03c4\\u03ad\\u03bb\\u03b5\\u03b9\\u03bf\\u03c2\", \"\\u03c4\\u03af\\u03ba\\u03c4\\u03c9\", \"\\u03c4\\u03b7\\u03c1\\u03ad\\u03c9\", \"\\u03c4\\u03b9\\u03bc\\u03ac\\u03c9\", \"\\u03c4\\u03cc\\u03c4\\u03b5\", \"\\u03c4\\u03cc\\u03c4\\u03b5\", \"\\u03c4\\u03cc\\u03c4\\u03b5\", \"\\u03c5\\u1f31\\u03cc\\u03c2\", \"\\u03c5\\u1f31\\u03cc\\u03c2\", \"\\u03c5\\u1f31\\u03cc\\u03c2\", \"\\u03c5\\u1f31\\u03cc\\u03c2\", \"\\u03c6\\u03b1\\u03af\\u03bd\\u03c9\", \"\\u03c6\\u03b1\\u03af\\u03bd\\u03c9\", \"\\u03c6\\u03b1\\u03af\\u03bd\\u03c9\", \"\\u03c6\\u03b1\\u03af\\u03bd\\u03c9\", \"\\u03c6\\u03b1\\u03bd\\u03b5\\u03c1\\u03cc\\u03c2\", \"\\u03c6\\u03bf\\u03bd\\u03b5\\u03cd\\u03c9\", \"\\u03c6\\u03bf\\u03bd\\u03b5\\u03cd\\u03c9\", \"\\u03c6\\u03c1\\u03bf\\u03bd\\u03ad\\u03c9\", \"\\u03c6\\u03c9\\u03bd\\u03ad\\u03c9\", \"\\u03c6\\u03c9\\u03c4\\u03b5\\u03b9\\u03bd\\u03cc\\u03c2\", \"\\u03c6\\u1ff6\\u03c2\", \"\\u03c6\\u1ff6\\u03c2\", \"\\u03c6\\u1ff6\\u03c2\", \"\\u03c6\\u1ff6\\u03c2\", \"\\u03c7\\u03b5\\u03af\\u03c1\", \"\\u03c7\\u03b5\\u03af\\u03c1\", \"\\u03c7\\u03b5\\u03b9\\u03bc\\u03ce\\u03bd\", \"\\u03c7\\u03b5\\u03b9\\u03bc\\u03ce\\u03bd\", \"\\u03c7\\u03c1\\u1fc4\\u03b6\\u03c9\", \"\\u03c8\\u03c5\\u03c7\\u03ae\", \"\\u03c8\\u03c5\\u03c7\\u03ae\", \"\\u03c8\\u03c5\\u03c7\\u03ae\", \"\\u03c8\\u03c5\\u03c7\\u03ae\", \"\\u1f00\\u03b3\\u03b1\\u03bb\\u03bb\\u03b9\\u03ac\\u03c9\", \"\\u1f00\\u03b3\\u03b1\\u03c0\\u03ac\\u03c9\", \"\\u1f00\\u03b3\\u03b1\\u03c0\\u03ac\\u03c9\", \"\\u1f00\\u03b3\\u03b1\\u03c0\\u03ac\\u03c9\", \"\\u1f00\\u03b3\\u03c1\\u03cc\\u03c2\", \"\\u1f00\\u03b3\\u03c1\\u03cc\\u03c2\", \"\\u1f00\\u03b3\\u03c1\\u03cc\\u03c2\", \"\\u1f00\\u03b4\\u03b5\\u03bb\\u03c6\\u03ae\", \"\\u1f00\\u03b4\\u03b5\\u03bb\\u03c6\\u03cc\\u03c2\", \"\\u1f00\\u03b4\\u03b5\\u03bb\\u03c6\\u03cc\\u03c2\", \"\\u1f00\\u03b4\\u03b5\\u03bb\\u03c6\\u03cc\\u03c2\", \"\\u1f00\\u03b4\\u03b5\\u03bb\\u03c6\\u03cc\\u03c2\", \"\\u1f00\\u03ba\\u03ac\\u03b8\\u03b1\\u03c1\\u03c4\\u03bf\\u03c2\", \"\\u1f00\\u03ba\\u03bf\\u03bb\\u03bf\\u03c5\\u03b8\\u03ad\\u03c9\", \"\\u1f00\\u03ba\\u03bf\\u03bb\\u03bf\\u03c5\\u03b8\\u03ad\\u03c9\", \"\\u1f00\\u03ba\\u03bf\\u03bb\\u03bf\\u03c5\\u03b8\\u03ad\\u03c9\", \"\\u1f00\\u03ba\\u03bf\\u03cd\\u03c9\", \"\\u1f00\\u03ba\\u03bf\\u03cd\\u03c9\", \"\\u1f00\\u03ba\\u03bf\\u03cd\\u03c9\", \"\\u1f00\\u03bd\\u03b1\\u03af\\u03c4\\u03b9\\u03bf\\u03c2\", \"\\u1f00\\u03bd\\u03b1\\u03b2\\u03b9\\u03b2\\u03ac\\u03b6\\u03c9\", \"\\u1f00\\u03bd\\u03b1\\u03c0\\u03bb\\u03b7\\u03c1\\u03cc\\u03c9\", \"\\u1f00\\u03bd\\u03b8\\u03af\\u03c3\\u03c4\\u03b7\\u03bc\\u03b9\", \"\\u1f00\\u03bd\\u03c4\\u03ac\\u03bb\\u03bb\\u03b1\\u03b3\\u03bc\\u03b1\", \"\\u1f00\\u03bd\\u03c4\\u03ad\\u03c7\\u03c9\", \"\\u1f00\\u03bd\\u03c4\\u03af\\u03b4\\u03b9\\u03ba\\u03bf\\u03c2\", \"\\u1f00\\u03bd\\u03c4\\u03af\\u03b4\\u03b9\\u03ba\\u03bf\\u03c2\", \"\\u1f00\\u03c0\\u03ad\\u03c1\\u03c7\\u03bf\\u03bc\\u03b1\\u03b9\", \"\\u1f00\\u03c0\\u03ad\\u03c1\\u03c7\\u03bf\\u03bc\\u03b1\\u03b9\", \"\\u1f00\\u03c0\\u03ad\\u03c1\\u03c7\\u03bf\\u03bc\\u03b1\\u03b9\", \"\\u1f00\\u03c0\\u03ad\\u03c7\\u03c9\", \"\\u1f00\\u03c0\\u03ad\\u03c7\\u03c9\", \"\\u1f00\\u03c0\\u03bf\\u03b4\\u03af\\u03b4\\u03c9\\u03bc\\u03b9\", \"\\u1f00\\u03c0\\u03bf\\u03b4\\u03af\\u03b4\\u03c9\\u03bc\\u03b9\", \"\\u1f00\\u03c0\\u03bf\\u03b4\\u03af\\u03b4\\u03c9\\u03bc\\u03b9\", \"\\u1f00\\u03c0\\u03bf\\u03b4\\u03af\\u03b4\\u03c9\\u03bc\\u03b9\", \"\\u1f00\\u03c0\\u03bf\\u03ba\\u03c1\\u03af\\u03bd\\u03bf\\u03bc\\u03b1\\u03b9\", \"\\u1f00\\u03c0\\u03bf\\u03ba\\u03c1\\u03af\\u03bd\\u03bf\\u03bc\\u03b1\\u03b9\", \"\\u1f00\\u03c0\\u03bf\\u03ba\\u03c1\\u03af\\u03bd\\u03bf\\u03bc\\u03b1\\u03b9\", \"\\u1f00\\u03c0\\u03bf\\u03bb\\u03cd\\u03c9\", \"\\u1f00\\u03c0\\u03bf\\u03bb\\u03cd\\u03c9\", \"\\u1f00\\u03c0\\u03bf\\u03bb\\u03cd\\u03c9\", \"\\u1f00\\u03c0\\u03cc\\u03bb\\u03bb\\u03c5\\u03bc\\u03b9\", \"\\u1f00\\u03c0\\u03cc\\u03bb\\u03bb\\u03c5\\u03bc\\u03b9\", \"\\u1f00\\u03c0\\u03cc\\u03bb\\u03bb\\u03c5\\u03bc\\u03b9\", \"\\u1f00\\u03c0\\u03cc\\u03bb\\u03bb\\u03c5\\u03bc\\u03b9\", \"\\u1f00\\u03c1\\u03b3\\u03cd\\u03c1\\u03b9\\u03bf\\u03bd\", \"\\u1f00\\u03c1\\u03b9\\u03c3\\u03c4\\u03b5\\u03c1\\u03cc\\u03c2\", \"\\u1f00\\u03c1\\u03c7\\u03b1\\u1fd6\\u03bf\\u03c2\", \"\\u1f00\\u03c1\\u03c7\\u03b1\\u1fd6\\u03bf\\u03c2\", \"\\u1f00\\u03c1\\u03c7\\u03b9\\u03b5\\u03c1\\u03b5\\u03cd\\u03c2\", \"\\u1f00\\u03c1\\u03c7\\u03b9\\u03b5\\u03c1\\u03b5\\u03cd\\u03c2\", \"\\u1f00\\u03c3\\u03c6\\u03b1\\u03bb\\u03af\\u03b6\\u03c9\", \"\\u1f00\\u03c6\\u03af\\u03b7\\u03bc\\u03b9\", \"\\u1f00\\u03c6\\u03af\\u03b7\\u03bc\\u03b9\", \"\\u1f00\\u03c6\\u03af\\u03b7\\u03bc\\u03b9\", \"\\u1f00\\u03c6\\u03b1\\u03bd\\u03af\\u03b6\\u03c9\", \"\\u1f01\\u03bb\\u03af\\u03b6\\u03c9\", \"\\u1f01\\u03c0\\u03bb\\u03bf\\u1fe6\\u03c2\", \"\\u1f04\\u03b3\\u03b3\\u03b5\\u03bb\\u03bf\\u03c2\", \"\\u1f04\\u03b3\\u03b3\\u03b5\\u03bb\\u03bf\\u03c2\", \"\\u1f04\\u03b3\\u03b3\\u03b5\\u03bb\\u03bf\\u03c2\", \"\\u1f04\\u03b3\\u03b3\\u03b5\\u03bb\\u03bf\\u03c2\", \"\\u1f04\\u03b4\\u03b9\\u03ba\\u03bf\\u03c2\", \"\\u1f04\\u03bb\\u03bb\\u03bf\\u03c2\", \"\\u1f04\\u03bb\\u03bb\\u03bf\\u03c2\", \"\\u1f04\\u03bb\\u03bb\\u03bf\\u03c2\", \"\\u1f04\\u03bd\\u03b8\\u03c1\\u03c9\\u03c0\\u03bf\\u03c2\", \"\\u1f04\\u03bd\\u03b8\\u03c1\\u03c9\\u03c0\\u03bf\\u03c2\", \"\\u1f04\\u03bd\\u03b8\\u03c1\\u03c9\\u03c0\\u03bf\\u03c2\", \"\\u1f04\\u03bd\\u03b8\\u03c1\\u03c9\\u03c0\\u03bf\\u03c2\", \"\\u1f04\\u03bd\\u03b8\\u03c1\\u03c9\\u03c0\\u03bf\\u03c2\", \"\\u1f04\\u03c1\\u03c4\\u03b9\", \"\\u1f04\\u03c1\\u03c4\\u03bf\\u03c2\", \"\\u1f04\\u03c1\\u03c4\\u03bf\\u03c2\", \"\\u1f04\\u03c1\\u03c4\\u03bf\\u03c2\", \"\\u1f04\\u03c1\\u03c4\\u03bf\\u03c2\", \"\\u1f04\\u03c1\\u03c7\\u03c9\", \"\\u1f04\\u03c1\\u03c7\\u03c9\", \"\\u1f04\\u03c1\\u03c7\\u03c9\", \"\\u1f05\\u03bb\\u03b1\\u03c2\", \"\\u1f05\\u03bb\\u03b1\\u03c2\", \"\\u1f05\\u03c0\\u03c4\\u03c9\", \"\\u1f08\\u03b2\\u03b9\\u03ac\", \"\\u1f08\\u03b2\\u03b9\\u03bf\\u03cd\\u03b4\", \"\\u1f08\\u03b2\\u03c1\\u03b1\\u03ac\\u03bc\", \"\\u1f08\\u03b2\\u03c1\\u03b1\\u03ac\\u03bc\", \"\\u1f08\\u03b6\\u03ce\\u03c1\", \"\\u1f08\\u03bc\\u03b9\\u03bd\\u03b1\\u03b4\\u03ac\\u03b2\", \"\\u1f08\\u03c1\\u03ac\\u03bc\", \"\\u1f08\\u03c3\\u03ac\\u03c6\", \"\\u1f08\\u03c7\\u03ac\\u03b6\", \"\\u1f08\\u03c7\\u03af\\u03bc\", \"\\u1f10\\u03b3\\u03b5\\u03af\\u03c1\\u03c9\", \"\\u1f10\\u03b3\\u03b5\\u03af\\u03c1\\u03c9\", \"\\u1f10\\u03b3\\u03b5\\u03af\\u03c1\\u03c9\", \"\\u1f10\\u03b3\\u03b5\\u03af\\u03c1\\u03c9\", \"\\u1f10\\u03b3\\u03ba\\u03c1\\u03cd\\u03c0\\u03c4\\u03c9\", \"\\u1f10\\u03ba\\u03b2\\u03ac\\u03bb\\u03bb\\u03c9\", \"\\u1f10\\u03ba\\u03b2\\u03ac\\u03bb\\u03bb\\u03c9\", \"\\u1f10\\u03ba\\u03ba\\u03bb\\u03b7\\u03c3\\u03af\\u03b1\", \"\\u1f10\\u03ba\\u03ba\\u03bb\\u03b7\\u03c3\\u03af\\u03b1\", \"\\u1f10\\u03bb\\u03ac\\u03c7\\u03b9\\u03c3\\u03c4\\u03bf\\u03c2\", \"\\u1f10\\u03bb\\u03ac\\u03c7\\u03b9\\u03c3\\u03c4\\u03bf\\u03c2\", \"\\u1f10\\u03bb\\u03b5\\u03ae\\u03bc\\u03c9\\u03bd\", \"\\u1f10\\u03bb\\u03b5\\u03b7\\u03bc\\u03bf\\u03c3\\u03cd\\u03bd\\u03b7\", \"\\u1f10\\u03bc\\u03c0\\u03b1\\u03af\\u03b6\\u03c9\", \"\\u1f10\\u03be\\u03ad\\u03c1\\u03c7\\u03bf\\u03bc\\u03b1\\u03b9\", \"\\u1f10\\u03be\\u03ad\\u03c1\\u03c7\\u03bf\\u03bc\\u03b1\\u03b9\", \"\\u1f10\\u03be\\u03af\\u03c3\\u03c4\\u03b7\\u03bc\\u03b9\", \"\\u1f10\\u03c0\\u03b9\\u03b4\\u03b5\\u03af\\u03ba\\u03bd\\u03c5\\u03bc\\u03b9\", \"\\u1f10\\u03c0\\u03b9\\u03b4\\u03b5\\u03af\\u03ba\\u03bd\\u03c5\\u03bc\\u03b9\", \"\\u1f10\\u03c0\\u03b9\\u03bb\\u03b1\\u03bd\\u03b8\\u03ac\\u03bd\\u03bf\\u03bc\\u03b1\\u03b9\", \"\\u1f10\\u03c0\\u03b9\\u03bf\\u03c1\\u03ba\\u03ad\\u03c9\", \"\\u1f10\\u03c0\\u03b9\\u03c3\\u03c0\\u03b5\\u03af\\u03c1\\u03c9\", \"\\u1f10\\u03c0\\u03b9\\u03c3\\u03c4\\u03c1\\u03ad\\u03c6\\u03c9\", \"\\u1f10\\u03c0\\u03b9\\u03c4\\u03af\\u03b8\\u03b7\\u03bc\\u03b9\", \"\\u1f10\\u03c0\\u03b9\\u03c4\\u03b9\\u03bc\\u03ac\\u03c9\", \"\\u1f10\\u03c0\\u03b9\\u03c4\\u03b9\\u03bc\\u03ac\\u03c9\", \"\\u1f10\\u03c0\\u03b9\\u03c4\\u03b9\\u03bc\\u03ac\\u03c9\", \"\\u1f11\\u03be\\u03ae\\u03ba\\u03bf\\u03bd\\u03c4\\u03b1\", \"\\u1f14\\u03bc\\u03c0\\u03bf\\u03c1\\u03bf\\u03c2\", \"\\u1f14\\u03bd\\u03b4\\u03c5\\u03bc\\u03b1\", \"\\u1f14\\u03bd\\u03b4\\u03c5\\u03bc\\u03b1\", \"\\u1f14\\u03bd\\u03bf\\u03c7\\u03bf\\u03c2\", \"\\u1f14\\u03bd\\u03bf\\u03c7\\u03bf\\u03c2\", \"\\u1f14\\u03c1\\u03c7\\u03bf\\u03bc\\u03b1\\u03b9\", \"\\u1f14\\u03c1\\u03c7\\u03bf\\u03bc\\u03b1\\u03b9\", \"\\u1f14\\u03c1\\u03c7\\u03bf\\u03bc\\u03b1\\u03b9\", \"\\u1f14\\u03c1\\u03c7\\u03bf\\u03bc\\u03b1\\u03b9\", \"\\u1f14\\u03c7\\u03c9\", \"\\u1f14\\u03c7\\u03c9\", \"\\u1f14\\u03c7\\u03c9\", \"\\u1f14\\u03c7\\u03c9\", \"\\u1f14\\u03c7\\u03c9\", \"\\u1f18\\u03bb\\u03b9\\u03b1\\u03ba\\u03af\\u03bc\", \"\\u1f18\\u03bb\\u03b9\\u03bf\\u03cd\\u03b4\", \"\\u1f19\\u03b6\\u03b5\\u03ba\\u03af\\u03b1\\u03c2\", \"\\u1f19\\u03c3\\u03c1\\u03ce\\u03bc\", \"\\u1f21\\u03b3\\u03b5\\u03bc\\u03ce\\u03bd\", \"\\u1f21\\u03b3\\u03b5\\u03bc\\u03ce\\u03bd\", \"\\u1f21\\u03bb\\u03b9\\u03ba\\u03af\\u03b1\", \"\\u1f21\\u03bc\\u03ad\\u03c1\\u03b1\", \"\\u1f21\\u03bc\\u03ad\\u03c1\\u03b1\", \"\\u1f21\\u03bc\\u03ad\\u03c1\\u03b1\", \"\\u1f21\\u03bc\\u03ad\\u03c1\\u03b1\", \"\\u1f30\\u1ff6\\u03c4\\u03b1\", \"\\u1f31\\u03bc\\u03ac\\u03c4\\u03b9\\u03bf\\u03bd\", \"\\u1f35\\u03bb\\u03b5\\u03c9\\u03c2\", \"\\u1f38\\u03b1\\u03ba\\u03ce\\u03b2\", \"\\u1f38\\u03b1\\u03ba\\u03ce\\u03b2\", \"\\u1f38\\u03b1\\u03ba\\u03ce\\u03b2\", \"\\u1f38\\u03b5\\u03c7\\u03bf\\u03bd\\u03af\\u03b1\\u03c2\", \"\\u1f38\\u03b7\\u03c3\\u03bf\\u1fe6\\u03c2\", \"\\u1f38\\u03b7\\u03c3\\u03bf\\u1fe6\\u03c2\", \"\\u1f38\\u03b7\\u03c3\\u03bf\\u1fe6\\u03c2\", \"\\u1f38\\u03b7\\u03c3\\u03bf\\u1fe6\\u03c2\", \"\\u1f38\\u03bf\\u03c5\\u03b4\\u03b1\\u1fd6\\u03bf\\u03c2\", \"\\u1f38\\u03bf\\u03cd\\u03b4\\u03b1\\u03c2\", \"\\u1f38\\u03bf\\u03cd\\u03b4\\u03b1\\u03c2\", \"\\u1f38\\u03bf\\u03cd\\u03b4\\u03b1\\u03c2\", \"\\u1f38\\u03c9\\u03ac\\u03bd\\u03bd\\u03b7\\u03c2\", \"\\u1f38\\u03c9\\u03ac\\u03bd\\u03bd\\u03b7\\u03c2\", \"\\u1f38\\u03c9\\u03ac\\u03bd\\u03bd\\u03b7\\u03c2\", \"\\u1f38\\u03c9\\u03b1\\u03b8\\u03ac\\u03bc\", \"\\u1f38\\u03c9\\u03bd\\u1fb6\\u03c2\", \"\\u1f38\\u03c9\\u03bd\\u1fb6\\u03c2\", \"\\u1f38\\u03c9\\u03bd\\u1fb6\\u03c2\", \"\\u1f38\\u03c9\\u03c1\\u03ac\\u03bc\", \"\\u1f38\\u03c9\\u03c3\\u03ae\\u03c6\", \"\\u1f38\\u03c9\\u03c3\\u03ae\\u03c6\", \"\\u1f38\\u03c9\\u03c3\\u03ae\\u03c6\", \"\\u1f38\\u03c9\\u03c3\\u03af\\u03b1\\u03c2\", \"\\u1f38\\u03c9\\u03c3\\u03b1\\u03c6\\u03ac\\u03c4\", \"\\u1f40\\u03c6\\u03b5\\u03af\\u03bb\\u03b7\\u03bc\\u03b1\", \"\\u1f40\\u03c6\\u03b8\\u03b1\\u03bb\\u03bc\\u03cc\\u03c2\", \"\\u1f40\\u03c6\\u03b8\\u03b1\\u03bb\\u03bc\\u03cc\\u03c2\", \"\\u1f40\\u03c6\\u03b8\\u03b1\\u03bb\\u03bc\\u03cc\\u03c2\", \"\\u1f40\\u03c6\\u03b8\\u03b1\\u03bb\\u03bc\\u03cc\\u03c2\", \"\\u1f41\\u03c1\\u03ac\\u03c9\", \"\\u1f41\\u03c1\\u03ac\\u03c9\", \"\\u1f41\\u03c1\\u03ac\\u03c9\", \"\\u1f41\\u03c1\\u03ac\\u03c9\", \"\\u1f44\\u03bd\\u03bf\\u03bc\\u03b1\", \"\\u1f44\\u03bd\\u03bf\\u03bc\\u03b1\", \"\\u1f44\\u03bd\\u03bf\\u03bc\\u03b1\", \"\\u1f44\\u03bd\\u03bf\\u03bc\\u03b1\", \"\\u1f44\\u03c7\\u03bb\\u03bf\\u03c2\", \"\\u1f44\\u03c7\\u03bb\\u03bf\\u03c2\", \"\\u1f45\\u03bb\\u03c9\\u03c2\", \"\\u1f45\\u03bc\\u03bf\\u03b9\\u03bf\\u03c2\", \"\\u1f45\\u03bc\\u03bf\\u03b9\\u03bf\\u03c2\", \"\\u1f45\\u03c0\\u03bf\\u03c5\", \"\\u1f45\\u03c0\\u03bf\\u03c5\", \"\\u1f45\\u03c0\\u03bf\\u03c5\", \"\\u1f48\\u03b6\\u03af\\u03b1\\u03c2\", \"\\u1f51\\u03c0\\u03bf\\u03ba\\u03c1\\u03b9\\u03c4\\u03ae\\u03c2\", \"\\u1f51\\u03c0\\u03bf\\u03ba\\u03c1\\u03b9\\u03c4\\u03ae\\u03c2\", \"\\u1f65\\u03c1\\u03b1\", \"\\u1f65\\u03c1\\u03b1\", \"\\u1f85\\u03b4\\u03b7\\u03c2\", \"\\u1f85\\u03b4\\u03b7\\u03c2\", \"\\u1fe5\\u03b1\\u03ba\\u03ac\", \"\\u1fe5\\u03cd\\u03bc\\u03b7\"]}, \"R\": 30, \"lambda.step\": 0.01, \"plot.opts\": {\"xlab\": \"PC1\", \"ylab\": \"PC2\"}, \"topic.order\": [4, 6, 5, 3, 1, 7, 2]};\n",
              "\n",
              "function LDAvis_load_lib(url, callback){\n",
              "  var s = document.createElement('script');\n",
              "  s.src = url;\n",
              "  s.async = true;\n",
              "  s.onreadystatechange = s.onload = callback;\n",
              "  s.onerror = function(){console.warn(\"failed to load library \" + url);};\n",
              "  document.getElementsByTagName(\"head\")[0].appendChild(s);\n",
              "}\n",
              "\n",
              "if(typeof(LDAvis) !== \"undefined\"){\n",
              "   // already loaded: just create the visualization\n",
              "   !function(LDAvis){\n",
              "       new LDAvis(\"#\" + \"ldavis_el582351401599519167204242610408\", ldavis_el582351401599519167204242610408_data);\n",
              "   }(LDAvis);\n",
              "}else if(typeof define === \"function\" && define.amd){\n",
              "   // require.js is available: use it to load d3/LDAvis\n",
              "   require.config({paths: {d3: \"https://d3js.org/d3.v5\"}});\n",
              "   require([\"d3\"], function(d3){\n",
              "      window.d3 = d3;\n",
              "      LDAvis_load_lib(\"https://cdn.jsdelivr.net/gh/bmabey/pyLDAvis@3.4.0/pyLDAvis/js/ldavis.v3.0.0.js\", function(){\n",
              "        new LDAvis(\"#\" + \"ldavis_el582351401599519167204242610408\", ldavis_el582351401599519167204242610408_data);\n",
              "      });\n",
              "    });\n",
              "}else{\n",
              "    // require.js not available: dynamically load d3 & LDAvis\n",
              "    LDAvis_load_lib(\"https://d3js.org/d3.v5.js\", function(){\n",
              "         LDAvis_load_lib(\"https://cdn.jsdelivr.net/gh/bmabey/pyLDAvis@3.4.0/pyLDAvis/js/ldavis.v3.0.0.js\", function(){\n",
              "                 new LDAvis(\"#\" + \"ldavis_el582351401599519167204242610408\", ldavis_el582351401599519167204242610408_data);\n",
              "            })\n",
              "         });\n",
              "}\n",
              "</script>"
            ]
          },
          "metadata": {},
          "execution_count": 17
        }
      ],
      "source": [
        "# Visualize the topics using pyLDAvis\n",
        "vis = gensimvis.prepare(vis_model, vis_corpus, dictionary)\n",
        "pyLDAvis.display(vis)"
      ]
    },
    {
      "cell_type": "markdown",
      "metadata": {
        "id": "9yKEnKQqhUfJ"
      },
      "source": [
        "## Tuning the model ([source](https://radimrehurek.com/gensim/auto_examples/tutorials/run_ensemblelda.html#tuning))\n",
        "\n",
        "Different from `LdaModel`, the number of resulting topics varies greatly depending on the clustering parameters.\n",
        "\n",
        "You can provide those in the `recluster()` function or the `EnsembleLda` constructor.\n",
        "\n",
        "Play around until you get as many topics as you desire, which however may reduce their quality. If your ensemble doesn't have enough topics to begin with, you should make sure to make it large enough.\n",
        "\n",
        "Having an epsilon that is smaller than the smallest distance doesn't make sense. Make sure to chose one that is within the range of values in `asymmetric_distance_matrix`."
      ]
    },
    {
      "cell_type": "code",
      "execution_count": 15,
      "metadata": {
        "id": "Y0y0HHSchUfK",
        "colab": {
          "base_uri": "https://localhost:8080/"
        },
        "outputId": "0389b817-d555-4dfa-9a2c-55ec656fdfc7"
      },
      "outputs": [
        {
          "output_type": "stream",
          "name": "stderr",
          "text": [
            "WARNING:gensim.models.ldamodel:too few updates, training might not converge; consider increasing the number of passes or iterations to improve accuracy\n"
          ]
        },
        {
          "output_type": "stream",
          "name": "stdout",
          "text": [
            "0.0 0.24615761657260232 0.995612651369295\n",
            "3\n"
          ]
        }
      ],
      "source": [
        "import numpy as np\n",
        "shape = ensemble.asymmetric_distance_matrix.shape\n",
        "without_diagonal = ensemble.asymmetric_distance_matrix[~np.eye(shape[0], dtype=bool)].reshape(shape[0], -1)\n",
        "print(without_diagonal.min(), without_diagonal.mean(), without_diagonal.max())\n",
        "\n",
        "ensemble.recluster(eps=0.09, min_samples=2, min_cores=2)\n",
        "\n",
        "print(len(ensemble.get_topics()))"
      ]
    }
  ],
  "metadata": {
    "colab": {
      "provenance": [],
      "include_colab_link": true
    },
    "kernelspec": {
      "display_name": "Python 3",
      "name": "python3"
    },
    "language_info": {
      "name": "python"
    }
  },
  "nbformat": 4,
  "nbformat_minor": 0
}