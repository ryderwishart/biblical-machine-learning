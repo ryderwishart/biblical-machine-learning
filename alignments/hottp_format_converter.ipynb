{
 "cells": [
  {
   "cell_type": "code",
   "execution_count": 37,
   "metadata": {},
   "outputs": [],
   "source": [
    "import json"
   ]
  },
  {
   "cell_type": "code",
   "execution_count": 38,
   "metadata": {},
   "outputs": [],
   "source": [
    "input_file = './hottp.json'\n",
    "output_file = 'hottp_updated_format.json'"
   ]
  },
  {
   "cell_type": "code",
   "execution_count": 39,
   "metadata": {},
   "outputs": [],
   "source": [
    "with open(input_file, 'r', encoding='utf-8') as file:\n",
    "    data = json.load(file)"
   ]
  },
  {
   "cell_type": "code",
   "execution_count": 47,
   "metadata": {},
   "outputs": [],
   "source": [
    "def find_value(data, text):\n",
    "    if isinstance(data, dict):\n",
    "        if \"Text\" in data and data[\"Text\"] == text:\n",
    "            return data.get(\"Content\")\n",
    "        for key, val in data.items():\n",
    "            if key == \"Versions\" and isinstance(val, dict):\n",
    "                val = [val]  # Convert the dictionary to a list with a single element\n",
    "            result = find_value(val, text)\n",
    "            if result:\n",
    "                return result\n",
    "    elif isinstance(data, list):\n",
    "        for val in data:\n",
    "            result = find_value(val, text)\n",
    "            if result:\n",
    "                return result\n",
    "    return None"
   ]
  },
  {
   "cell_type": "code",
   "execution_count": 50,
   "metadata": {},
   "outputs": [],
   "source": [
    "def find_source(data, key):\n",
    "    if isinstance(data, dict):\n",
    "        if key in data:\n",
    "            return data.get(key)\n",
    "        for val in data.values():\n",
    "            result = find_value(val, key)\n",
    "            if result:\n",
    "                return result\n",
    "    return None"
   ]
  },
  {
   "cell_type": "code",
   "execution_count": 51,
   "metadata": {},
   "outputs": [],
   "source": [
    "def get_records(versions): \n",
    "    roles = []\n",
    "    \n",
    "    for version in versions:\n",
    "        source = find_source(version, 'Source')\n",
    "        roles.append(source)\n",
    "        rsv = find_value(version, 'RSV')\n",
    "        roles.append(rsv)\n",
    "        neb = find_value(version, 'NEB')\n",
    "        roles.append(neb)\n",
    "        bj = find_value(version, 'BJ')\n",
    "        roles.append(bj)\n",
    "        lut = find_value(version, 'LUT')\n",
    "        roles.append(lut)\n",
    "        \n",
    "    return roles[:5]"
   ]
  },
  {
   "cell_type": "code",
   "execution_count": 44,
   "metadata": {},
   "outputs": [],
   "source": [
    "def convert_format(alignment):\n",
    "    records = get_records(alignment['Alternatives']['Alternative'])\n",
    "    \n",
    "    new_format = {  \n",
    "        \"format\": \"alignment\", \n",
    "        \"version\": \"[add timestamp from filename or git commit if you have it]\", \n",
    "        \"groups\": [\n",
    "            {\n",
    "                \"type\": \"translation\", \n",
    "                \"documents\": [\n",
    "                    {\"scheme\": \"ws-token\", \n",
    "                     \"docid\": alignment['Id'],\n",
    "                     \"meta\": {\"Ids\": alignment['References']['Reference'],\n",
    "                              \"Remark\": alignment['Remark'], \n",
    "                              \"Remark-FR\": alignment['Remark-FR'] if 'Remark-FR' in alignment else '',\n",
    "                              \"Suggestion\": alignment['Suggestion'], \n",
    "                              \"SuggestionFR\": alignment['SuggestionFR'] if 'SuggestionFR' in alignment else '',\n",
    "                              \"Factors\": alignment['Alternatives']['Alternative'][0]['Factors'],\n",
    "                              \"Literal\": alignment['Alternatives']['Alternative'][0]['Literal'],\n",
    "                              \"LiteralFR\": alignment['Alternatives']['Alternative'][0]['LiteralFR'] if 'LiteralFR' in alignment else '',\n",
    "                              \"Misc\": alignment['Alternatives']['Alternative'][1],\n",
    "                              }\n",
    "                    }, \n",
    "                ], \n",
    "                \"roles\": [\"source\", \"RSV\", \"NEB\", \"BJ\", \"LUT\"], \n",
    "                \"records\": records\n",
    "            }\n",
    "        ]\n",
    "    }\n",
    "    \n",
    "    return new_format"
   ]
  },
  {
   "cell_type": "code",
   "execution_count": 45,
   "metadata": {},
   "outputs": [],
   "source": [
    "import re"
   ]
  },
  {
   "cell_type": "code",
   "execution_count": 52,
   "metadata": {},
   "outputs": [],
   "source": [
    "with open(output_file, mode='a') as file:\n",
    "    file.write('[\\n')\n",
    "\n",
    "for i in data['HOTTP_Entries']['HOTTP_Entry']:\n",
    "    try:\n",
    "        new_format = convert_format(i)\n",
    "\n",
    "        with open(output_file, mode='a', encoding='utf-8') as file:\n",
    "            json.dump(new_format, file,ensure_ascii=False)\n",
    "            file.write(',')\n",
    "            file.write('\\n')\n",
    "    except Exception as e:\n",
    "        pass\n",
    "        \n",
    "with open(output_file, mode='a') as file:\n",
    "    file.write(']')"
   ]
  },
  {
   "cell_type": "code",
   "execution_count": null,
   "metadata": {},
   "outputs": [],
   "source": []
  }
 ],
 "metadata": {
  "kernelspec": {
   "display_name": "Python 3",
   "language": "python",
   "name": "python3"
  },
  "language_info": {
   "codemirror_mode": {
    "name": "ipython",
    "version": 3
   },
   "file_extension": ".py",
   "mimetype": "text/x-python",
   "name": "python",
   "nbconvert_exporter": "python",
   "pygments_lexer": "ipython3",
   "version": "3.10.11"
  },
  "orig_nbformat": 4
 },
 "nbformat": 4,
 "nbformat_minor": 2
}
