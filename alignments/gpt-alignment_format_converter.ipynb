{
 "cells": [
  {
   "cell_type": "code",
   "execution_count": null,
   "metadata": {},
   "outputs": [],
   "source": [
    "! pip install jsonlines"
   ]
  },
  {
   "cell_type": "code",
   "execution_count": null,
   "metadata": {},
   "outputs": [],
   "source": [
    "import jsonlines\n",
    "import json"
   ]
  },
  {
   "cell_type": "code",
   "execution_count": null,
   "metadata": {},
   "outputs": [],
   "source": [
    "input_file = './data-chunk-aa.jsonl'\n",
    "output_file = 'tok_pisin_updated_format.jsonl'"
   ]
  },
  {
   "cell_type": "code",
   "execution_count": null,
   "metadata": {},
   "outputs": [],
   "source": [
    "def get_records(alignment):\n",
    "    records = []\n",
    "    \n",
    "    print(alignment)\n",
    "    for i in alignment['alignments']:\n",
    "        eng_start = i[\"English phrase\"][\"ranges\"][0][\"startPosition\"]\n",
    "        mac_start = i[\"Macula phrase\"][\"ranges\"][0][\"startPosition\"]\n",
    "        trg_start = i[\"Target phrase\"][\"ranges\"][0][\"startPosition\"]\n",
    "        eng_end = i[\"English phrase\"][\"ranges\"][0][\"endPosition\"]\n",
    "        mac_end = i[\"Macula phrase\"][\"ranges\"][0][\"endPosition\"]\n",
    "        trg_end = i[\"Target phrase\"][\"ranges\"][0][\"endPosition\"]\n",
    "        \n",
    "        alignment_position = {\n",
    "            \"references\": \n",
    "            [\n",
    "                [{\"range\": {\"startPosition\": eng_start, \"endPosition\": eng_end}}],\n",
    "                [{\"range\": {\"startPosition\": mac_start, \"endPosition\": mac_end}}],\n",
    "                [{\"range\": {\"startPosition\": trg_start, \"endPosition\": trg_end}}]\n",
    "                ]\n",
    "            }\n",
    "        \n",
    "        records.append(alignment_position)\n",
    "\n",
    "    return records\n",
    "    "
   ]
  },
  {
   "cell_type": "code",
   "execution_count": null,
   "metadata": {},
   "outputs": [],
   "source": [
    "def get_ids(alignment):\n",
    "    ids = []\n",
    "    for i in alignment['macula']['token_ids']:\n",
    "        ids.append({\"id\": i['id'], \"startPosition\": i['range']['startPosition'], \"endPosition\": i['range']['endPosition']})\n",
    "        \n",
    "    return ids"
   ]
  },
  {
   "cell_type": "code",
   "execution_count": null,
   "metadata": {},
   "outputs": [],
   "source": [
    "def convert_format(alignment):\n",
    "    records = get_records(alignment)\n",
    "    ids = get_ids(alignment)\n",
    "    \n",
    "    new_format = {\n",
    "        \"format\": \"alignment\", \n",
    "        \"version\": \"[add timestamp from filename or git commit if you have it]\", \n",
    "        \"groups\": [\n",
    "            {\n",
    "                \"type\": \"translation\", \n",
    "                \"documents\": [\n",
    "                    {\"scheme\": \"ws-token\", \"docid\": f\"{alignment['vref']} (English)\"}, \n",
    "                    {\"scheme\": \"ws-token\", \"docid\": f\"{alignment['vref']} (Macula)\", \"meta\": {\"ids\": ids}}, \n",
    "                    {\"scheme\": \"ws-token\", \"docid\": f\"{alignment['vref']} (Target)\"}\n",
    "                ], \n",
    "                \"roles\": [\"source\", \"target\", \"macula\"], \n",
    "                \"records\": records\n",
    "            }\n",
    "        ]\n",
    "    }\n",
    "    \n",
    "    return new_format"
   ]
  },
  {
   "cell_type": "code",
   "execution_count": null,
   "metadata": {},
   "outputs": [],
   "source": [
    "with jsonlines.open(input_file) as file:\n",
    "    for line in file:\n",
    "        try:\n",
    "            new_format = str(convert_format(line))\n",
    "            new_format = new_format.replace('\\'','\"')\n",
    "            \n",
    "            with open(output_file, mode='a') as file:\n",
    "                json.dump(json.loads(new_format), file)\n",
    "                file.write('\\n')\n",
    "        except:\n",
    "            pass\n",
    "        "
   ]
  },
  {
   "cell_type": "code",
   "execution_count": null,
   "metadata": {},
   "outputs": [],
   "source": []
  }
 ],
 "metadata": {
  "kernelspec": {
   "display_name": "Python 3",
   "language": "python",
   "name": "python3"
  },
  "language_info": {
   "codemirror_mode": {
    "name": "ipython",
    "version": 3
   },
   "file_extension": ".py",
   "mimetype": "text/x-python",
   "name": "python",
   "nbconvert_exporter": "python",
   "pygments_lexer": "ipython3",
   "version": "3.10.11"
  },
  "orig_nbformat": 4
 },
 "nbformat": 4,
 "nbformat_minor": 2
}
