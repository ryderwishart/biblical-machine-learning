{
 "cells": [
  {
   "cell_type": "code",
   "execution_count": 4,
   "metadata": {},
   "outputs": [],
   "source": [
    "!pip3 install fake_useragent -qq"
   ]
  },
  {
   "cell_type": "code",
   "execution_count": 8,
   "metadata": {},
   "outputs": [
    {
     "name": "stdout",
     "output_type": "stream",
     "text": [
      "Processing https://commons.wikimedia.org/wiki/File:37.Escopallos.JPG ...\n",
      "Updated URL: https://upload.wikimedia.org/wikipedia/commons/e/e1/37.Escopallos.JPG\n",
      "Processing https://commons.wikimedia.org/wiki/File:Urtica_membranacea_kz08.jpg ...\n",
      "Updated URL: https://upload.wikimedia.org/wikipedia/commons/b/bb/Urtica_membranacea_kz08.jpg\n",
      "Processing https://commons.wikimedia.org/wiki/File:Tulipa-Sharonensis-ZE-5487.jpg ...\n",
      "Updated URL: https://upload.wikimedia.org/wikipedia/commons/8/8f/Tulipa-Sharonensis-ZE-5487.jpg\n",
      "Processing https://commons.wikimedia.org/wiki/File:Pulex_irritans_female_ZSM.jpg ...\n",
      "Updated URL: https://upload.wikimedia.org/wikipedia/commons/3/32/Pulex_irritans_female_ZSM.jpg\n",
      "Processing https://commons.wikimedia.org/wiki/File:BMVB_benes_1380.JPG ...\n",
      "Updated URL: https://upload.wikimedia.org/wikipedia/commons/9/90/BMVB_benes_1380.JPG\n",
      "Processing https://commons.wikimedia.org/wiki/File:Leather_Waterskin,_Cave_of_the_Letters,_Judean_Desert,_132-135_AD_(28349539727).jpg ...\n",
      "Updated URL: https://upload.wikimedia.org/wikipedia/commons/a/ae/Leather_Waterskin%2C_Cave_of_the_Letters%2C_Judean_Desert%2C_132-135_AD_%2828349539727%29.jpg\n",
      "Processing https://upload.wikimedia.org/wikipedia/commons/c/cb/Foster_Bible_Pictures_0078-1_Aaron%27s_Rod_Budded_and_Blossomed.jpg ...\n"
     ]
    },
    {
     "name": "stderr",
     "output_type": "stream",
     "text": [
      "Some characters could not be decoded, and were replaced with REPLACEMENT CHARACTER.\n"
     ]
    },
    {
     "name": "stdout",
     "output_type": "stream",
     "text": [
      "Failed to find updated URL on page https://upload.wikimedia.org/wikipedia/commons/c/cb/Foster_Bible_Pictures_0078-1_Aaron%27s_Rod_Budded_and_Blossomed.jpg\n",
      "No updated URL found for https://upload.wikimedia.org/wikipedia/commons/c/cb/Foster_Bible_Pictures_0078-1_Aaron%27s_Rod_Budded_and_Blossomed.jpg\n",
      "Processing https://commons.wikimedia.org/wiki/File:Acacia_tortilis_subsp_heteracantha,_blomtyd,_Lekkerbreek-plaas,_b.jpg ...\n",
      "Updated URL: https://upload.wikimedia.org/wikipedia/commons/c/ce/Acacia_tortilis_subsp_heteracantha%2C_blomtyd%2C_Lekkerbreek-plaas%2C_b.jpg\n",
      "Processing https://commons.wikimedia.org/wiki/File:Acacia_tortilis_05.jpg ...\n",
      "Updated URL: https://upload.wikimedia.org/wikipedia/commons/3/3e/Acacia_tortilis_05.jpg\n",
      "Processing https://commons.wikimedia.org/wiki/File:Quercus_coccifera_g3.jpg ...\n",
      "Updated URL: https://upload.wikimedia.org/wikipedia/commons/7/7a/Quercus_coccifera_g3.jpg\n",
      "Processing https://commons.wikimedia.org/wiki/File:Erechtheum_Acropolis_Athens_evening_moon.jpg ...\n",
      "Updated URL: https://upload.wikimedia.org/wikipedia/commons/9/9f/Erechtheum_Acropolis_Athens_evening_moon.jpg\n",
      "Processing https://commons.wikimedia.org/wiki/File:Addax_at_the_Louisville_Zoo.jpg ...\n",
      "Updated URL: https://upload.wikimedia.org/wikipedia/commons/b/b2/Addax_at_the_Louisville_Zoo.jpg\n",
      "Processing https://upload.wikimedia.org/wikipedia/commons/3/31/Addax-1-Zachi-Evenor.jpg ...\n"
     ]
    },
    {
     "name": "stderr",
     "output_type": "stream",
     "text": [
      "Some characters could not be decoded, and were replaced with REPLACEMENT CHARACTER.\n"
     ]
    },
    {
     "name": "stdout",
     "output_type": "stream",
     "text": [
      "Failed to find updated URL on page https://upload.wikimedia.org/wikipedia/commons/3/31/Addax-1-Zachi-Evenor.jpg\n",
      "No updated URL found for https://upload.wikimedia.org/wikipedia/commons/3/31/Addax-1-Zachi-Evenor.jpg\n",
      "Processing https://commons.wikimedia.org/wiki/File:Stone_Axe_%26_Adze_(41406270810).jpg ...\n",
      "Updated URL: https://upload.wikimedia.org/wikipedia/commons/9/9f/Stone_Axe_%26_Adze_%2841406270810%29.jpg\n",
      "Processing https://commons.wikimedia.org/wiki/File:COLLECTIE_TROPENMUSEUM_Dissel_met_houten_steel_TMnr_15-236.jpg ...\n",
      "Updated URL: https://upload.wikimedia.org/wikipedia/commons/d/de/COLLECTIE_TROPENMUSEUM_Dissel_met_houten_steel_TMnr_15-236.jpg\n",
      "Processing https://commons.wikimedia.org/wiki/File:Objecto_no_Museu_da_Sociedade_Martins_Sarmento_em_Guimar%C3%A3es.jpg ...\n",
      "Updated URL: https://upload.wikimedia.org/wikipedia/commons/3/32/Objecto_no_Museu_da_Sociedade_Martins_Sarmento_em_Guimar%C3%A3es.jpg\n",
      "Processing https://pixabay.com/images/id-2923912/ ...\n",
      "Failed to retrieve https://pixabay.com/images/id-2923912/: 403 Client Error: Forbidden for url: https://pixabay.com/images/id-2923912/\n",
      "No updated URL found for https://pixabay.com/images/id-2923912/\n",
      "Processing https://commons.wikimedia.org/wiki/File:Agama_WEB-0012_agama_female.jpg ...\n",
      "Failed to retrieve https://commons.wikimedia.org/wiki/File:Agama_WEB-0012_agama_female.jpg: 404 Client Error: Not Found for url: https://commons.wikimedia.org/wiki/File:Agama_WEB-0012_agama_female.jpg\n",
      "No updated URL found for https://commons.wikimedia.org/wiki/File:Agama_WEB-0012_agama_female.jpg\n",
      "Processing https://commons.wikimedia.org/wiki/File:Agama_lizard_on_hot_rock.jpg ...\n",
      "Updated URL: https://upload.wikimedia.org/wikipedia/commons/f/fd/Agama_lizard_on_hot_rock.jpg\n",
      "Processing https://commons.wikimedia.org/wiki/File:Red-headed_rock_agama_1.jpg ...\n",
      "Updated URL: https://upload.wikimedia.org/wikipedia/commons/4/4d/Red-headed_rock_agama_1.jpg\n",
      "Processing https://upload.wikimedia.org/wikipedia/commons/2/2c/Aquilaria_malaccensis_-_Agar_Wood,_Eaglewood_-_Indian_Aloewood_at_Munnar_(4).jpg ...\n"
     ]
    },
    {
     "name": "stderr",
     "output_type": "stream",
     "text": [
      "Some characters could not be decoded, and were replaced with REPLACEMENT CHARACTER.\n"
     ]
    },
    {
     "name": "stdout",
     "output_type": "stream",
     "text": [
      "Failed to find updated URL on page https://upload.wikimedia.org/wikipedia/commons/2/2c/Aquilaria_malaccensis_-_Agar_Wood,_Eaglewood_-_Indian_Aloewood_at_Munnar_(4).jpg\n",
      "No updated URL found for https://upload.wikimedia.org/wikipedia/commons/2/2c/Aquilaria_malaccensis_-_Agar_Wood,_Eaglewood_-_Indian_Aloewood_at_Munnar_(4).jpg\n",
      "Processing https://commons.wikimedia.org/wiki/File:The_Aquilaria_tree_see_under_to_above.jpg ...\n",
      "Updated URL: https://upload.wikimedia.org/wikipedia/commons/3/32/The_Aquilaria_tree_see_under_to_above.jpg\n",
      "Processing https://commons.wikimedia.org/wiki/File:AquilariaAstragalusRoyle.jpg ...\n",
      "Updated URL: https://upload.wikimedia.org/wikipedia/commons/e/e6/AquilariaAstragalusRoyle.jpg\n",
      "Processing  ...\n",
      "Failed to retrieve : Invalid URL '': No scheme supplied. Perhaps you meant https://?\n",
      "No updated URL found for \n",
      "Processing https://commons.wikimedia.org/wiki/File:WEB-0019_alabaster_flacon.jpg ...\n",
      "Failed to retrieve https://commons.wikimedia.org/wiki/File:WEB-0019_alabaster_flacon.jpg: 404 Client Error: Not Found for url: https://commons.wikimedia.org/wiki/File:WEB-0019_alabaster_flacon.jpg\n",
      "No updated URL found for https://commons.wikimedia.org/wiki/File:WEB-0019_alabaster_flacon.jpg\n",
      "Processing https://commons.wikimedia.org/wiki/File:WEB-0020_alabastron.jpg ...\n",
      "Failed to retrieve https://commons.wikimedia.org/wiki/File:WEB-0020_alabastron.jpg: 404 Client Error: Not Found for url: https://commons.wikimedia.org/wiki/File:WEB-0020_alabastron.jpg\n",
      "No updated URL found for https://commons.wikimedia.org/wiki/File:WEB-0020_alabastron.jpg\n",
      "Processing https://commons.wikimedia.org/wiki/File:Madrigueras_(20578932389).jpg ...\n",
      "Updated URL: https://upload.wikimedia.org/wikipedia/commons/0/09/Madrigueras_%2820578932389%29.jpg\n",
      "Processing https://commons.wikimedia.org/wiki/File:PikiWiki_Israel_4042_almond_tree.jpg ...\n",
      "Updated URL: https://upload.wikimedia.org/wikipedia/commons/4/47/PikiWiki_Israel_4042_almond_tree.jpg\n",
      "Processing https://commons.wikimedia.org/wiki/File:Aloe_vera_-_Agri-Horticultural_Society_of_India_-_Alipore_-_Kolkata_2013-01-05_2326.JPG ...\n",
      "Updated URL: https://upload.wikimedia.org/wikipedia/commons/a/a1/Aloe_vera_-_Agri-Horticultural_Society_of_India_-_Alipore_-_Kolkata_2013-01-05_2326.JPG\n",
      "Processing https://commons.wikimedia.org/wiki/File:Aloe_barbadensis.JPG ...\n",
      "Updated URL: https://upload.wikimedia.org/wikipedia/commons/6/6a/Aloe_barbadensis.JPG\n",
      "Processing https://commons.wikimedia.org/wiki/File:WEB-0025_altocumulus_cloud.jpg ...\n",
      "Failed to retrieve https://commons.wikimedia.org/wiki/File:WEB-0025_altocumulus_cloud.jpg: 404 Client Error: Not Found for url: https://commons.wikimedia.org/wiki/File:WEB-0025_altocumulus_cloud.jpg\n",
      "No updated URL found for https://commons.wikimedia.org/wiki/File:WEB-0025_altocumulus_cloud.jpg\n",
      "Processing https://upload.wikimedia.org/wikipedia/commons/9/99/Josua_Defeating_Amalek_(Pauwel_Casteels)_-_Nationalmuseum_-_17384.tif ...\n"
     ]
    },
    {
     "name": "stderr",
     "output_type": "stream",
     "text": [
      "Some characters could not be decoded, and were replaced with REPLACEMENT CHARACTER.\n"
     ]
    },
    {
     "name": "stdout",
     "output_type": "stream",
     "text": [
      "Failed to find updated URL on page https://upload.wikimedia.org/wikipedia/commons/9/99/Josua_Defeating_Amalek_(Pauwel_Casteels)_-_Nationalmuseum_-_17384.tif\n",
      "No updated URL found for https://upload.wikimedia.org/wikipedia/commons/9/99/Josua_Defeating_Amalek_(Pauwel_Casteels)_-_Nationalmuseum_-_17384.tif\n",
      "Processing https://commons.wikimedia.org/wiki/File:Ancient_Egypt_map-en.svg ...\n",
      "Updated URL: https://upload.wikimedia.org/wikipedia/commons/1/17/Ancient_Egypt_map-en.svg\n",
      "Processing https://upload.wikimedia.org/wikipedia/commons/b/bf/WEB-0028_ancient_worshipers.jpg ...\n",
      "Failed to retrieve https://upload.wikimedia.org/wikipedia/commons/b/bf/WEB-0028_ancient_worshipers.jpg: 404 Client Error: Not Found for url: https://upload.wikimedia.org/wikipedia/commons/b/bf/WEB-0028_ancient_worshipers.jpg\n",
      "No updated URL found for https://upload.wikimedia.org/wikipedia/commons/b/bf/WEB-0028_ancient_worshipers.jpg\n",
      "Processing https://upload.wikimedia.org/wikipedia/commons/9/9f/Milano_-_San_Maurizio_-_Affreschi_-_Foto_Giovanni_Dall%27Orto_14-Aug-2004_-_04.jpg ...\n"
     ]
    },
    {
     "name": "stderr",
     "output_type": "stream",
     "text": [
      "Some characters could not be decoded, and were replaced with REPLACEMENT CHARACTER.\n"
     ]
    },
    {
     "name": "stdout",
     "output_type": "stream",
     "text": [
      "Failed to find updated URL on page https://upload.wikimedia.org/wikipedia/commons/9/9f/Milano_-_San_Maurizio_-_Affreschi_-_Foto_Giovanni_Dall%27Orto_14-Aug-2004_-_04.jpg\n",
      "No updated URL found for https://upload.wikimedia.org/wikipedia/commons/9/9f/Milano_-_San_Maurizio_-_Affreschi_-_Foto_Giovanni_Dall%27Orto_14-Aug-2004_-_04.jpg\n",
      "Processing https://upload.wikimedia.org/wikipedia/commons/b/bb/WEB-0030_annunciation_zechariah.jpg ...\n",
      "Failed to retrieve https://upload.wikimedia.org/wikipedia/commons/b/bb/WEB-0030_annunciation_zechariah.jpg: 404 Client Error: Not Found for url: https://upload.wikimedia.org/wikipedia/commons/b/bb/WEB-0030_annunciation_zechariah.jpg\n",
      "No updated URL found for https://upload.wikimedia.org/wikipedia/commons/b/bb/WEB-0030_annunciation_zechariah.jpg\n",
      "Processing https://commons.wikimedia.org/wiki/File:Cornelis_de_Vos_-_The_Anointing_of_Solomon.jpg ...\n",
      "Updated URL: https://upload.wikimedia.org/wikipedia/commons/2/29/Cornelis_de_Vos_-_The_Anointing_of_Solomon.jpg\n",
      "Processing https://pixabay.com/images/id-2510373/ ...\n",
      "Failed to retrieve https://pixabay.com/images/id-2510373/: 403 Client Error: Forbidden for url: https://pixabay.com/images/id-2510373/\n",
      "No updated URL found for https://pixabay.com/images/id-2510373/\n",
      "Processing https://upload.wikimedia.org/wikipedia/commons/3/38/Amboss_1736.jpg ...\n"
     ]
    },
    {
     "name": "stderr",
     "output_type": "stream",
     "text": [
      "Some characters could not be decoded, and were replaced with REPLACEMENT CHARACTER.\n"
     ]
    },
    {
     "name": "stdout",
     "output_type": "stream",
     "text": [
      "Failed to find updated URL on page https://upload.wikimedia.org/wikipedia/commons/3/38/Amboss_1736.jpg\n",
      "No updated URL found for https://upload.wikimedia.org/wikipedia/commons/3/38/Amboss_1736.jpg\n",
      "Processing https://upload.wikimedia.org/wikipedia/commons/1/1c/MANA_-_Schmiede_2.jpg ...\n"
     ]
    },
    {
     "name": "stderr",
     "output_type": "stream",
     "text": [
      "Some characters could not be decoded, and were replaced with REPLACEMENT CHARACTER.\n"
     ]
    },
    {
     "name": "stdout",
     "output_type": "stream",
     "text": [
      "Failed to find updated URL on page https://upload.wikimedia.org/wikipedia/commons/1/1c/MANA_-_Schmiede_2.jpg\n",
      "No updated URL found for https://upload.wikimedia.org/wikipedia/commons/1/1c/MANA_-_Schmiede_2.jpg\n",
      "Processing https://upload.wikimedia.org/wikipedia/commons/d/d2/Oak_Glen,_CA_Apples_10-19-14_(15582097321).jpg ...\n"
     ]
    },
    {
     "name": "stderr",
     "output_type": "stream",
     "text": [
      "Some characters could not be decoded, and were replaced with REPLACEMENT CHARACTER.\n"
     ]
    },
    {
     "name": "stdout",
     "output_type": "stream",
     "text": [
      "Failed to find updated URL on page https://upload.wikimedia.org/wikipedia/commons/d/d2/Oak_Glen,_CA_Apples_10-19-14_(15582097321).jpg\n",
      "No updated URL found for https://upload.wikimedia.org/wikipedia/commons/d/d2/Oak_Glen,_CA_Apples_10-19-14_(15582097321).jpg\n",
      "Processing https://upload.wikimedia.org/wikipedia/commons/a/a3/Macieiras.Bom.Jardim.da.Serra.SC.01.JPG ...\n"
     ]
    },
    {
     "name": "stderr",
     "output_type": "stream",
     "text": [
      "Some characters could not be decoded, and were replaced with REPLACEMENT CHARACTER.\n"
     ]
    },
    {
     "name": "stdout",
     "output_type": "stream",
     "text": [
      "Failed to find updated URL on page https://upload.wikimedia.org/wikipedia/commons/a/a3/Macieiras.Bom.Jardim.da.Serra.SC.01.JPG\n",
      "No updated URL found for https://upload.wikimedia.org/wikipedia/commons/a/a3/Macieiras.Bom.Jardim.da.Serra.SC.01.JPG\n",
      "Processing https://commons.wikimedia.org/wiki/File:Archangel_Michael_church_Vienna.jpg ...\n",
      "Updated URL: https://upload.wikimedia.org/wikipedia/commons/a/a8/Archangel_Michael_church_Vienna.jpg\n",
      "Processing https://upload.wikimedia.org/wikipedia/commons/4/41/Arm_flex_supinate.jpg ...\n"
     ]
    },
    {
     "name": "stderr",
     "output_type": "stream",
     "text": [
      "Some characters could not be decoded, and were replaced with REPLACEMENT CHARACTER.\n"
     ]
    },
    {
     "name": "stdout",
     "output_type": "stream",
     "text": [
      "Failed to find updated URL on page https://upload.wikimedia.org/wikipedia/commons/4/41/Arm_flex_supinate.jpg\n",
      "No updated URL found for https://upload.wikimedia.org/wikipedia/commons/4/41/Arm_flex_supinate.jpg\n",
      "Processing https://commons.wikimedia.org/wiki/File:Cavalier_d'Arpino_-_Christ_Taken_Prisoner_-_WGA04690.jpg ...\n",
      "Updated URL: https://upload.wikimedia.org/wikipedia/commons/8/8e/Cavalier_d%27Arpino_-_Christ_Taken_Prisoner_-_WGA04690.jpg\n",
      "Processing https://upload.wikimedia.org/wikipedia/commons/6/63/WEB-0040_WEB-0754_reed_cluster.jpg ...\n",
      "Failed to retrieve https://upload.wikimedia.org/wikipedia/commons/6/63/WEB-0040_WEB-0754_reed_cluster.jpg: 404 Client Error: Not Found for url: https://upload.wikimedia.org/wikipedia/commons/6/63/WEB-0040_WEB-0754_reed_cluster.jpg\n",
      "No updated URL found for https://upload.wikimedia.org/wikipedia/commons/6/63/WEB-0040_WEB-0754_reed_cluster.jpg\n",
      "Processing https://commons.wikimedia.org/wiki/File:Ash_pile_near_Arreton_Down.JPG ...\n",
      "Updated URL: https://upload.wikimedia.org/wikipedia/commons/3/30/Ash_pile_near_Arreton_Down.JPG\n",
      "Processing https://commons.wikimedia.org/wiki/File:Ashur-nasir-pal_II_throne.png ...\n",
      "Updated URL: https://upload.wikimedia.org/wikipedia/commons/f/fc/Ashur-nasir-pal_II_throne.png\n",
      "Processing https://commons.wikimedia.org/wiki/File:%CE%91%CE%B8%CE%AE%CE%BD%CE%B1_6875_hdr.JPG ...\n",
      "Updated URL: https://upload.wikimedia.org/wikipedia/commons/7/72/%CE%91%CE%B8%CE%AE%CE%BD%CE%B1_6875_hdr.JPG\n",
      "Processing https://commons.wikimedia.org/wiki/File:Attica_06-13_Athens_50_View_from_Philopappos_-_Acropolis_Hill.jpg ...\n",
      "Updated URL: https://upload.wikimedia.org/wikipedia/commons/c/c6/Attica_06-13_Athens_50_View_from_Philopappos_-_Acropolis_Hill.jpg\n",
      "Processing https://commons.wikimedia.org/wiki/File:Athens7_tango7174.jpg ...\n",
      "Updated URL: https://upload.wikimedia.org/wikipedia/commons/0/00/Athens7_tango7174.jpg\n",
      "Processing https://commons.wikimedia.org/wiki/File:WEB-0046_athos.jpg ...\n",
      "Failed to retrieve https://commons.wikimedia.org/wiki/File:WEB-0046_athos.jpg: 404 Client Error: Not Found for url: https://commons.wikimedia.org/wiki/File:WEB-0046_athos.jpg\n",
      "No updated URL found for https://commons.wikimedia.org/wiki/File:WEB-0046_athos.jpg\n",
      "Processing  ...\n",
      "Failed to retrieve : Invalid URL '': No scheme supplied. Perhaps you meant https://?\n",
      "No updated URL found for \n",
      "Processing https://commons.wikimedia.org/wiki/File:Mantelpavian_male_2_db.jpg ...\n",
      "Updated URL: https://upload.wikimedia.org/wikipedia/commons/8/80/Mantelpavian_male_2_db.jpg\n",
      "Processing https://commons.wikimedia.org/wiki/File:WEB-0049_baby_boy.jpg ...\n",
      "Failed to retrieve https://commons.wikimedia.org/wiki/File:WEB-0049_baby_boy.jpg: 404 Client Error: Not Found for url: https://commons.wikimedia.org/wiki/File:WEB-0049_baby_boy.jpg\n",
      "No updated URL found for https://commons.wikimedia.org/wiki/File:WEB-0049_baby_boy.jpg\n",
      "Processing https://upload.wikimedia.org/wikipedia/commons/8/8a/Gebhard_Fugel_An_den_Wassern_Babylons.jpg ...\n"
     ]
    },
    {
     "name": "stderr",
     "output_type": "stream",
     "text": [
      "Some characters could not be decoded, and were replaced with REPLACEMENT CHARACTER.\n"
     ]
    },
    {
     "name": "stdout",
     "output_type": "stream",
     "text": [
      "Failed to find updated URL on page https://upload.wikimedia.org/wikipedia/commons/8/8a/Gebhard_Fugel_An_den_Wassern_Babylons.jpg\n",
      "No updated URL found for https://upload.wikimedia.org/wikipedia/commons/8/8a/Gebhard_Fugel_An_den_Wassern_Babylons.jpg\n",
      "Processing https://commons.wikimedia.org/wiki/File:Lion_in_relief,_from_the_procession_street_in_Babylon,_Nebuchadnezzar_II_period,_604-562_BC,_Istanbul_Archaeology_Museum_(12252049776).jpg ...\n",
      "Updated URL: https://upload.wikimedia.org/wikipedia/commons/e/e0/Lion_in_relief%2C_from_the_procession_street_in_Babylon%2C_Nebuchadnezzar_II_period%2C_604-562_BC%2C_Istanbul_Archaeology_Museum_%2812252049776%29.jpg\n",
      "Processing https://pixabay.com/images/id-2694771/ ...\n",
      "Failed to retrieve https://pixabay.com/images/id-2694771/: 403 Client Error: Forbidden for url: https://pixabay.com/images/id-2694771/\n",
      "No updated URL found for https://pixabay.com/images/id-2694771/\n",
      "Processing https://commons.wikimedia.org/wiki/File:Commiphora_madagascariensis_03.jpg ...\n",
      "Updated URL: https://upload.wikimedia.org/wikipedia/commons/d/d2/Commiphora_madagascariensis_03.jpg\n",
      "Processing https://commons.wikimedia.org/wiki/File:Arch-Museum-Istanbul-62.jpg ...\n",
      "Updated URL: https://upload.wikimedia.org/wikipedia/commons/2/20/Arch-Museum-Istanbul-62.jpg\n",
      "Processing https://commons.wikimedia.org/wiki/File:A_lady_beetle_perches_on_barley.JPG ...\n",
      "Updated URL: https://upload.wikimedia.org/wikipedia/commons/6/6e/A_lady_beetle_perches_on_barley.JPG\n",
      "Processing https://commons.wikimedia.org/wiki/File:CSIRO_ScienceImage_10909_WEB-0056_barley_grain.jpg ...\n",
      "Failed to retrieve https://commons.wikimedia.org/wiki/File:CSIRO_ScienceImage_10909_WEB-0056_barley_grain.jpg: 404 Client Error: Not Found for url: https://commons.wikimedia.org/wiki/File:CSIRO_ScienceImage_10909_WEB-0056_barley_grain.jpg\n",
      "No updated URL found for https://commons.wikimedia.org/wiki/File:CSIRO_ScienceImage_10909_WEB-0056_barley_grain.jpg\n",
      "Processing https://commons.wikimedia.org/wiki/File:Gerstenkorrels_Hordeum_vulgare.jpg ...\n",
      "Updated URL: https://upload.wikimedia.org/wikipedia/commons/1/1d/Gerstenkorrels_Hordeum_vulgare.jpg\n",
      "Processing https://pixabay.com/images/id-3155878/ ...\n",
      "Failed to retrieve https://pixabay.com/images/id-3155878/: 403 Client Error: Forbidden for url: https://pixabay.com/images/id-3155878/\n",
      "No updated URL found for https://pixabay.com/images/id-3155878/\n",
      "Processing https://commons.wikimedia.org/wiki/File:Close-up_of_Eric_Gill_relief,_Moorfields_Eye_Hospital_-_geograph.org.uk_-_865416.jpg ...\n",
      "Updated URL: https://upload.wikimedia.org/wikipedia/commons/1/1a/Close-up_of_Eric_Gill_relief%2C_Moorfields_Eye_Hospital_-_geograph.org.uk_-_865416.jpg\n",
      "Processing https://commons.wikimedia.org/wiki/File:Couffins_en_bambous,_Lamta,_Tunisie_mai_2013.jpg ...\n",
      "Updated URL: https://upload.wikimedia.org/wikipedia/commons/f/f7/Couffins_en_bambous%2C_Lamta%2C_Tunisie_mai_2013.jpg\n",
      "Processing https://commons.wikimedia.org/wiki/File:PikiWiki_Israel_11327_Wildlife_and_Plants_of_Israel-Bat-003.jpg ...\n",
      "Updated URL: https://upload.wikimedia.org/wikipedia/commons/1/15/PikiWiki_Israel_11327_Wildlife_and_Plants_of_Israel-Bat-003.jpg\n",
      "Processing https://commons.wikimedia.org/wiki/File:Portes_de_Balawat_-_siege_et_repression_Syrie_Nord_858.jpg ...\n",
      "Updated URL: https://upload.wikimedia.org/wikipedia/commons/9/93/Portes_de_Balawat_-_siege_et_repression_Syrie_Nord_858.jpg\n",
      "Processing https://commons.wikimedia.org/wiki/File:Cavalier_d'Arpino_and_workshop_-_Battle_against_the_inhabitants_of_Veii_and_Fidenae_-_Google_Art_Project.jpg ...\n",
      "Updated URL: https://upload.wikimedia.org/wikipedia/commons/0/06/Cavalier_d%27Arpino_and_workshop_-_Battle_against_the_inhabitants_of_Veii_and_Fidenae_-_Google_Art_Project.jpg\n",
      "Processing https://gpophotoeng.gov.il/fotoweb/cmdrequest/rest/Download.fwx/D1067-079.JPG?D=C81D6356E1BFEA156E1871B36C2AB119898895604DC1D2ADB599A2E66BBB14531CC84BC505428176FD39000DC9A02C4F4625D291663D8FC24862086D6FB61F3F8E994C660459D190EB4CDC42315744F2943A594F15C0DAF50BFE0D1DEDBA2FDEF7A419E4B9A00401E05A5B36E8395F2E4E8F58F31E22F552&ForceSaveDialog=yes ...\n"
     ]
    },
    {
     "name": "stderr",
     "output_type": "stream",
     "text": [
      "Some characters could not be decoded, and were replaced with REPLACEMENT CHARACTER.\n"
     ]
    },
    {
     "name": "stdout",
     "output_type": "stream",
     "text": [
      "Failed to find updated URL on page https://gpophotoeng.gov.il/fotoweb/cmdrequest/rest/Download.fwx/D1067-079.JPG?D=C81D6356E1BFEA156E1871B36C2AB119898895604DC1D2ADB599A2E66BBB14531CC84BC505428176FD39000DC9A02C4F4625D291663D8FC24862086D6FB61F3F8E994C660459D190EB4CDC42315744F2943A594F15C0DAF50BFE0D1DEDBA2FDEF7A419E4B9A00401E05A5B36E8395F2E4E8F58F31E22F552&ForceSaveDialog=yes\n",
      "No updated URL found for https://gpophotoeng.gov.il/fotoweb/cmdrequest/rest/Download.fwx/D1067-079.JPG?D=C81D6356E1BFEA156E1871B36C2AB119898895604DC1D2ADB599A2E66BBB14531CC84BC505428176FD39000DC9A02C4F4625D291663D8FC24862086D6FB61F3F8E994C660459D190EB4CDC42315744F2943A594F15C0DAF50BFE0D1DEDBA2FDEF7A419E4B9A00401E05A5B36E8395F2E4E8F58F31E22F552&ForceSaveDialog=yes\n",
      "Processing https://commons.wikimedia.org/wiki/File:Gaensegeier2.jpg ...\n",
      "Updated URL: https://upload.wikimedia.org/wikipedia/commons/9/9e/Bartgeier_Alpenzoo_2.jpg\n",
      "Processing https://commons.wikimedia.org/wiki/File:Syrian_brown_bears_01.jpg ...\n",
      "Updated URL: https://upload.wikimedia.org/wikipedia/commons/4/47/Syrian_brown_bears_01.jpg\n",
      "Processing https://pixabay.com/images/id-326334/ ...\n",
      "Failed to retrieve https://pixabay.com/images/id-326334/: 403 Client Error: Forbidden for url: https://pixabay.com/images/id-326334/\n",
      "No updated URL found for https://pixabay.com/images/id-326334/\n",
      "Processing https://pixabay.com/photos/gold-poppy-poppy-flower-honey-bees-5278111/ ...\n",
      "Failed to retrieve https://pixabay.com/photos/gold-poppy-poppy-flower-honey-bees-5278111/: 403 Client Error: Forbidden for url: https://pixabay.com/photos/gold-poppy-poppy-flower-honey-bees-5278111/\n",
      "No updated URL found for https://pixabay.com/photos/gold-poppy-poppy-flower-honey-bees-5278111/\n",
      "Processing https://upload.wikimedia.org/wikipedia/commons/4/48/Korinth_BW_2017-10-10_11-13-45.jpg ...\n"
     ]
    },
    {
     "name": "stderr",
     "output_type": "stream",
     "text": [
      "Some characters could not be decoded, and were replaced with REPLACEMENT CHARACTER.\n"
     ]
    },
    {
     "name": "stdout",
     "output_type": "stream",
     "text": [
      "Failed to find updated URL on page https://upload.wikimedia.org/wikipedia/commons/4/48/Korinth_BW_2017-10-10_11-13-45.jpg\n",
      "No updated URL found for https://upload.wikimedia.org/wikipedia/commons/4/48/Korinth_BW_2017-10-10_11-13-45.jpg\n",
      "Processing https://commons.wikimedia.org/wiki/File:Berillo.jpg ...\n",
      "Updated URL: https://upload.wikimedia.org/wikipedia/commons/7/78/Berillo.jpg\n",
      "Processing https://upload.wikimedia.org/wikipedia/commons/e/ec/PikiWiki_Israel_31440_Birds_nest_on_a_Carob_tree.JPG ...\n"
     ]
    },
    {
     "name": "stderr",
     "output_type": "stream",
     "text": [
      "Some characters could not be decoded, and were replaced with REPLACEMENT CHARACTER.\n"
     ]
    },
    {
     "name": "stdout",
     "output_type": "stream",
     "text": [
      "Failed to find updated URL on page https://upload.wikimedia.org/wikipedia/commons/e/ec/PikiWiki_Israel_31440_Birds_nest_on_a_Carob_tree.JPG\n",
      "No updated URL found for https://upload.wikimedia.org/wikipedia/commons/e/ec/PikiWiki_Israel_31440_Birds_nest_on_a_Carob_tree.JPG\n",
      "Processing https://commons.wikimedia.org/wiki/File:Edfu49.JPG ...\n",
      "Updated URL: https://upload.wikimedia.org/wikipedia/commons/e/e6/Edfu49.JPG\n",
      "Processing https://upload.wikimedia.org/wikipedia/commons/a/a0/Bison_bison_Wichita_Mountain_Oklahoma.jpg ...\n"
     ]
    },
    {
     "name": "stderr",
     "output_type": "stream",
     "text": [
      "Some characters could not be decoded, and were replaced with REPLACEMENT CHARACTER.\n"
     ]
    },
    {
     "name": "stdout",
     "output_type": "stream",
     "text": [
      "Failed to find updated URL on page https://upload.wikimedia.org/wikipedia/commons/a/a0/Bison_bison_Wichita_Mountain_Oklahoma.jpg\n",
      "No updated URL found for https://upload.wikimedia.org/wikipedia/commons/a/a0/Bison_bison_Wichita_Mountain_Oklahoma.jpg\n",
      "Processing https://commons.wikimedia.org/wiki/File:Black_pigs_at_Wherstead,_Suffolk.jpg ...\n",
      "Updated URL: https://upload.wikimedia.org/wikipedia/commons/9/9e/Black_pigs_at_Wherstead%2C_Suffolk.jpg\n",
      "Processing https://commons.wikimedia.org/wiki/File:Ciconia_nigra_-Kruger_National_Park-8.jpg ...\n",
      "Updated URL: https://upload.wikimedia.org/wikipedia/commons/b/ba/Ciconia_nigra_-Kruger_National_Park-8.jpg\n",
      "Processing https://commons.wikimedia.org/wiki/File:Black_stork_arp.jpg ...\n",
      "Updated URL: https://upload.wikimedia.org/wikipedia/commons/c/c8/Black_stork_arp.jpg\n",
      "Processing https://pixabay.com/images/id-2392122/ ...\n",
      "Failed to retrieve https://pixabay.com/images/id-2392122/: 403 Client Error: Forbidden for url: https://pixabay.com/images/id-2392122/\n",
      "No updated URL found for https://pixabay.com/images/id-2392122/\n",
      "Processing https://commons.wikimedia.org/wiki/File:A_Kenya_(13).jpg ...\n",
      "Updated URL: https://upload.wikimedia.org/wikipedia/commons/8/86/A_Kenya_%2813%29.jpg\n",
      "Processing https://commons.wikimedia.org/wiki/File:Locha_i_pasiaki.jpg ...\n",
      "Updated URL: https://upload.wikimedia.org/wikipedia/commons/f/f4/Locha_i_pasiaki.jpg\n",
      "Processing https://pixabay.com/images/id-659637/ ...\n",
      "Failed to retrieve https://pixabay.com/images/id-659637/: 403 Client Error: Forbidden for url: https://pixabay.com/images/id-659637/\n",
      "No updated URL found for https://pixabay.com/images/id-659637/\n",
      "Processing https://commons.wikimedia.org/wiki/File:Sus_scrofa_PO.jpg ...\n",
      "Updated URL: https://upload.wikimedia.org/wikipedia/commons/7/79/Sus_scrofa_PO.jpg\n",
      "Processing https://commons.wikimedia.org/wiki/File:Cucurbita_longa_flore_albo,_protuberante_ventre_-_Calebasse_-_Cucuzza_a_fiafca._(Bottle_gourd)_(NYPL_b14444147-1124997).tiff ...\n",
      "Updated URL: https://upload.wikimedia.org/wikipedia/commons/8/86/Cucurbita_longa_flore_albo%2C_protuberante_ventre_-_Calebasse_-_Cucuzza_a_fiafca._%28Bottle_gourd%29_%28NYPL_b14444147-1124997%29.tiff\n",
      "Processing https://commons.wikimedia.org/wiki/File:Calabash_(Lagenaria_siceraria)_in_Seoul.jpg ...\n",
      "Updated URL: https://upload.wikimedia.org/wikipedia/commons/e/e3/Calabash_%28Lagenaria_siceraria%29_in_Seoul.jpg\n",
      "Processing https://upload.wikimedia.org/wikipedia/commons/0/0c/Lagenaria_siceraria_4.JPG ...\n"
     ]
    },
    {
     "name": "stderr",
     "output_type": "stream",
     "text": [
      "Some characters could not be decoded, and were replaced with REPLACEMENT CHARACTER.\n"
     ]
    },
    {
     "name": "stdout",
     "output_type": "stream",
     "text": [
      "Failed to find updated URL on page https://upload.wikimedia.org/wikipedia/commons/0/0c/Lagenaria_siceraria_4.JPG\n",
      "No updated URL found for https://upload.wikimedia.org/wikipedia/commons/0/0c/Lagenaria_siceraria_4.JPG\n",
      "Processing https://commons.wikimedia.org/wiki/File:WEB-0085_boxing.jpg ...\n",
      "Failed to retrieve https://commons.wikimedia.org/wiki/File:WEB-0085_boxing.jpg: 404 Client Error: Not Found for url: https://commons.wikimedia.org/wiki/File:WEB-0085_boxing.jpg\n",
      "No updated URL found for https://commons.wikimedia.org/wiki/File:WEB-0085_boxing.jpg\n",
      "Processing https://commons.wikimedia.org/wiki/File:Georgian_National_Museum,_pre_Christian_Art_10.jpg ...\n",
      "Updated URL: https://upload.wikimedia.org/wikipedia/commons/b/bf/Georgian_National_Museum%2C_pre_Christian_Art_10.jpg\n",
      "Processing https://commons.wikimedia.org/wiki/File:Brassica_nigra_001.JPG ...\n",
      "Updated URL: https://upload.wikimedia.org/wikipedia/commons/0/03/Brassica_nigra_001.JPG\n",
      "Processing https://commons.wikimedia.org/wiki/File:Breaking_waves,_S%C3%A8te_cf03.jpg ...\n",
      "Updated URL: https://upload.wikimedia.org/wikipedia/commons/7/76/Breaking_waves%2C_S%C3%A8te_cf03.jpg\n",
      "Processing https://commons.wikimedia.org/wiki/File:Vicia_faba_plant_(05).jpg ...\n",
      "Updated URL: https://upload.wikimedia.org/wikipedia/commons/7/71/Vicia_faba_plant_%2805%29.jpg\n",
      "Processing https://commons.wikimedia.org/wiki/File:Figures_Moses_fixes_the_brazen_Serpent_on_a_pole.jpg ...\n",
      "Updated URL: https://upload.wikimedia.org/wikipedia/commons/5/5a/Figures_Moses_fixes_the_brazen_Serpent_on_a_pole.jpg\n",
      "Processing https://commons.wikimedia.org/wiki/File:Retama_raetam2.jpg ...\n",
      "Updated URL: https://upload.wikimedia.org/wikipedia/commons/9/96/Retama_raetam2.jpg\n",
      "Processing https://commons.wikimedia.org/wiki/File:PikiWiki_Israel_44199_KISARIA.JPG ...\n",
      "Updated URL: https://upload.wikimedia.org/wikipedia/commons/7/76/PikiWiki_Israel_44199_KISARIA.JPG\n",
      "Processing https://commons.wikimedia.org/wiki/File:Brown-necked_Raven,_Israel_(15191409604).jpg ...\n",
      "Updated URL: https://upload.wikimedia.org/wikipedia/commons/7/71/Brown-necked_Raven%2C_Israel_%2815191409604%29.jpg\n",
      "Processing https://commons.wikimedia.org/wiki/File:Buring_mountain_(Unsplash).jpg ...\n",
      "Updated URL: https://upload.wikimedia.org/wikipedia/commons/6/64/Buring_mountain_%28Unsplash%29.jpg\n",
      "Processing https://upload.wikimedia.org/wikipedia/commons/4/45/S%C3%BCsi,_coal.jpg ...\n"
     ]
    },
    {
     "name": "stderr",
     "output_type": "stream",
     "text": [
      "Some characters could not be decoded, and were replaced with REPLACEMENT CHARACTER.\n"
     ]
    },
    {
     "name": "stdout",
     "output_type": "stream",
     "text": [
      "Failed to find updated URL on page https://upload.wikimedia.org/wikipedia/commons/4/45/S%C3%BCsi,_coal.jpg\n",
      "No updated URL found for https://upload.wikimedia.org/wikipedia/commons/4/45/S%C3%BCsi,_coal.jpg\n",
      "Processing https://commons.wikimedia.org/wiki/File:Common_Buzzard_(Steppe_Buzzard),_Buteo_buteo_vulpinus,_on_a_fence_along_the_R42,_Gauteng,_South_Africa_(32884487095).jpg ...\n",
      "Updated URL: https://upload.wikimedia.org/wikipedia/commons/7/75/Common_Buzzard_%28Steppe_Buzzard%29%2C_Buteo_buteo_vulpinus%2C_on_a_fence_along_the_R42%2C_Gauteng%2C_South_Africa_%2832884487095%29.jpg\n",
      "Processing https://upload.wikimedia.org/wikipedia/commons/a/a7/Caesarea-phil-palast-des-agrippa-durchgang.JPG ...\n"
     ]
    },
    {
     "name": "stderr",
     "output_type": "stream",
     "text": [
      "Some characters could not be decoded, and were replaced with REPLACEMENT CHARACTER.\n"
     ]
    },
    {
     "name": "stdout",
     "output_type": "stream",
     "text": [
      "Failed to find updated URL on page https://upload.wikimedia.org/wikipedia/commons/a/a7/Caesarea-phil-palast-des-agrippa-durchgang.JPG\n",
      "No updated URL found for https://upload.wikimedia.org/wikipedia/commons/a/a7/Caesarea-phil-palast-des-agrippa-durchgang.JPG\n",
      "Processing https://upload.wikimedia.org/wikipedia/commons/5/54/Flickr_-_Government_Press_Office_(GPO)_-_Antiquities_in_the_Banyas_Nature_Reserve.jpg ...\n"
     ]
    },
    {
     "name": "stderr",
     "output_type": "stream",
     "text": [
      "Some characters could not be decoded, and were replaced with REPLACEMENT CHARACTER.\n"
     ]
    },
    {
     "name": "stdout",
     "output_type": "stream",
     "text": [
      "Failed to find updated URL on page https://upload.wikimedia.org/wikipedia/commons/5/54/Flickr_-_Government_Press_Office_(GPO)_-_Antiquities_in_the_Banyas_Nature_Reserve.jpg\n",
      "No updated URL found for https://upload.wikimedia.org/wikipedia/commons/5/54/Flickr_-_Government_Press_Office_(GPO)_-_Antiquities_in_the_Banyas_Nature_Reserve.jpg\n",
      "Processing https://commons.wikimedia.org/wiki/File:CapimSantoDSC_6770.jpg ...\n",
      "Updated URL: https://upload.wikimedia.org/wikipedia/commons/2/2d/CapimSantoDSC_6770.jpg\n",
      "Processing https://upload.wikimedia.org/wikipedia/commons/8/88/Camelus_dromedarius_at_Tierpark_Berlin_(1).JPG ...\n"
     ]
    },
    {
     "name": "stderr",
     "output_type": "stream",
     "text": [
      "Some characters could not be decoded, and were replaced with REPLACEMENT CHARACTER.\n"
     ]
    },
    {
     "name": "stdout",
     "output_type": "stream",
     "text": [
      "Failed to find updated URL on page https://upload.wikimedia.org/wikipedia/commons/8/88/Camelus_dromedarius_at_Tierpark_Berlin_(1).JPG\n",
      "No updated URL found for https://upload.wikimedia.org/wikipedia/commons/8/88/Camelus_dromedarius_at_Tierpark_Berlin_(1).JPG\n",
      "Processing https://upload.wikimedia.org/wikipedia/commons/0/06/PikiWiki_Israel_18473_Wildlife_and_Plants_of_Israel.jpg ...\n"
     ]
    },
    {
     "name": "stderr",
     "output_type": "stream",
     "text": [
      "Some characters could not be decoded, and were replaced with REPLACEMENT CHARACTER.\n"
     ]
    },
    {
     "name": "stdout",
     "output_type": "stream",
     "text": [
      "Failed to find updated URL on page https://upload.wikimedia.org/wikipedia/commons/0/06/PikiWiki_Israel_18473_Wildlife_and_Plants_of_Israel.jpg\n",
      "No updated URL found for https://upload.wikimedia.org/wikipedia/commons/0/06/PikiWiki_Israel_18473_Wildlife_and_Plants_of_Israel.jpg\n",
      "Processing https://commons.wikimedia.org/wiki/File:Camels_in_Ethiopia_02.jpg ...\n",
      "Updated URL: https://upload.wikimedia.org/wikipedia/commons/6/62/Camels_in_Ethiopia_02.jpg\n",
      "Processing https://upload.wikimedia.org/wikipedia/commons/6/66/Serengeti_Bueffel1.jpg ...\n"
     ]
    },
    {
     "name": "stderr",
     "output_type": "stream",
     "text": [
      "Some characters could not be decoded, and were replaced with REPLACEMENT CHARACTER.\n"
     ]
    },
    {
     "name": "stdout",
     "output_type": "stream",
     "text": [
      "Failed to find updated URL on page https://upload.wikimedia.org/wikipedia/commons/6/66/Serengeti_Bueffel1.jpg\n",
      "No updated URL found for https://upload.wikimedia.org/wikipedia/commons/6/66/Serengeti_Bueffel1.jpg\n",
      "Processing https://pixabay.com/images/id-2800389/ ...\n",
      "Failed to retrieve https://pixabay.com/images/id-2800389/: 403 Client Error: Forbidden for url: https://pixabay.com/images/id-2800389/\n",
      "No updated URL found for https://pixabay.com/images/id-2800389/\n",
      "Processing https://commons.wikimedia.org/wiki/File:Capparis_zoharyi_4.jpg ...\n",
      "Updated URL: https://upload.wikimedia.org/wikipedia/commons/1/10/Capparis_zoharyi_4.jpg\n",
      "Processing https://commons.wikimedia.org/wiki/File:Capparis_aegyptia_-_fruits.jpg ...\n",
      "Updated URL: https://upload.wikimedia.org/wikipedia/commons/f/fd/Capparis_aegyptia_-_fruits.jpg\n",
      "Processing https://commons.wikimedia.org/wiki/File:Caper_Flower_(754665081).jpg ...\n",
      "Updated URL: https://upload.wikimedia.org/wikipedia/commons/1/1e/Caper_Flower_%28754665081%29.jpg\n",
      "Processing https://commons.wikimedia.org/wiki/File:WEB-0108_caravan_desert.jpg ...\n",
      "Failed to retrieve https://commons.wikimedia.org/wiki/File:WEB-0108_caravan_desert.jpg: 404 Client Error: Not Found for url: https://commons.wikimedia.org/wiki/File:WEB-0108_caravan_desert.jpg\n",
      "No updated URL found for https://commons.wikimedia.org/wiki/File:WEB-0108_caravan_desert.jpg\n",
      "Processing https://commons.wikimedia.org/wiki/File:WEB-0109_pavement_roman_petra.jpg ...\n",
      "Failed to retrieve https://commons.wikimedia.org/wiki/File:WEB-0109_pavement_roman_petra.jpg: 404 Client Error: Not Found for url: https://commons.wikimedia.org/wiki/File:WEB-0109_pavement_roman_petra.jpg\n",
      "No updated URL found for https://commons.wikimedia.org/wiki/File:WEB-0109_pavement_roman_petra.jpg\n",
      "Processing https://commons.wikimedia.org/wiki/File:Ceratonia_siliqua_Negev_041214.jpg ...\n",
      "Updated URL: https://upload.wikimedia.org/wikipedia/commons/2/25/Ceratonia_siliqua_Negev_041214.jpg\n",
      "Processing https://commons.wikimedia.org/wiki/File:Ceratonia_siliqua_Carob_Tree_%E1%83%99%E1%83%94%E1%83%A0%E1%83%90%E1%83%A2%E1%83%98_(3).JPG ...\n",
      "Updated URL: https://upload.wikimedia.org/wikipedia/commons/b/bd/Ceratonia_siliqua_Carob_Tree_%E1%83%99%E1%83%94%E1%83%A0%E1%83%90%E1%83%A2%E1%83%98_%283%29.JPG\n",
      "Processing https://commons.wikimedia.org/wiki/File:Cinnamomum_tamala_W_IMG_2434.jpg ...\n",
      "Updated URL: https://upload.wikimedia.org/wikipedia/commons/9/9d/Cinnamomum_tamala_W_IMG_2434.jpg\n",
      "Processing https://commons.wikimedia.org/wiki/File:Cassia_senna_Ypey80-cropped.jpg ...\n",
      "Updated URL: https://upload.wikimedia.org/wikipedia/commons/9/99/Cassia_senna_Ypey80-cropped.jpg\n",
      "Processing https://upload.wikimedia.org/wikipedia/commons/3/36/Ricinus_communis_005.JPG ...\n"
     ]
    },
    {
     "name": "stderr",
     "output_type": "stream",
     "text": [
      "Some characters could not be decoded, and were replaced with REPLACEMENT CHARACTER.\n"
     ]
    },
    {
     "name": "stdout",
     "output_type": "stream",
     "text": [
      "Failed to find updated URL on page https://upload.wikimedia.org/wikipedia/commons/3/36/Ricinus_communis_005.JPG\n",
      "No updated URL found for https://upload.wikimedia.org/wikipedia/commons/3/36/Ricinus_communis_005.JPG\n",
      "Processing https://commons.wikimedia.org/wiki/File:Ricinus_communis_01.jpg ...\n",
      "Updated URL: https://upload.wikimedia.org/wikipedia/commons/3/31/Ricinus_communis_01.jpg\n",
      "Processing https://commons.wikimedia.org/wiki/File:A_view_of_Castor_oil_plant_1.jpg ...\n",
      "Updated URL: https://upload.wikimedia.org/wikipedia/commons/9/93/A_view_of_Castor_oil_plant_1.jpg\n",
      "Processing https://pixabay.com/zh/photos/cat-kitten-cat-eyes-animal-2799386/ ...\n",
      "Failed to retrieve https://pixabay.com/zh/photos/cat-kitten-cat-eyes-animal-2799386/: 403 Client Error: Forbidden for url: https://pixabay.com/zh/photos/cat-kitten-cat-eyes-animal-2799386/\n",
      "No updated URL found for https://pixabay.com/zh/photos/cat-kitten-cat-eyes-animal-2799386/\n",
      "Processing https://upload.wikimedia.org/wikipedia/commons/1/16/Typha_latifolia_02_bgiu.jpg ...\n"
     ]
    },
    {
     "name": "stderr",
     "output_type": "stream",
     "text": [
      "Some characters could not be decoded, and were replaced with REPLACEMENT CHARACTER.\n"
     ]
    },
    {
     "name": "stdout",
     "output_type": "stream",
     "text": [
      "Failed to find updated URL on page https://upload.wikimedia.org/wikipedia/commons/1/16/Typha_latifolia_02_bgiu.jpg\n",
      "No updated URL found for https://upload.wikimedia.org/wikipedia/commons/1/16/Typha_latifolia_02_bgiu.jpg\n",
      "Processing https://upload.wikimedia.org/wikipedia/commons/8/8f/Gavdos,_potamos_beach_from_Ambellos_path.jpg ...\n"
     ]
    },
    {
     "name": "stderr",
     "output_type": "stream",
     "text": [
      "Some characters could not be decoded, and were replaced with REPLACEMENT CHARACTER.\n"
     ]
    },
    {
     "name": "stdout",
     "output_type": "stream",
     "text": [
      "Failed to find updated URL on page https://upload.wikimedia.org/wikipedia/commons/8/8f/Gavdos,_potamos_beach_from_Ambellos_path.jpg\n",
      "No updated URL found for https://upload.wikimedia.org/wikipedia/commons/8/8f/Gavdos,_potamos_beach_from_Ambellos_path.jpg\n",
      "Processing https://upload.wikimedia.org/wikipedia/commons/b/bf/C%C3%A8dre_du_Liban_Barouk_2005.jpg ...\n"
     ]
    },
    {
     "name": "stderr",
     "output_type": "stream",
     "text": [
      "Some characters could not be decoded, and were replaced with REPLACEMENT CHARACTER.\n"
     ]
    },
    {
     "name": "stdout",
     "output_type": "stream",
     "text": [
      "Failed to find updated URL on page https://upload.wikimedia.org/wikipedia/commons/b/bf/C%C3%A8dre_du_Liban_Barouk_2005.jpg\n",
      "No updated URL found for https://upload.wikimedia.org/wikipedia/commons/b/bf/C%C3%A8dre_du_Liban_Barouk_2005.jpg\n",
      "Processing https://commons.wikimedia.org/wiki/File:Atlas_Cedar_Cedrus_atlantica_Cone_Closeup_3008px.jpg ...\n",
      "Updated URL: https://upload.wikimedia.org/wikipedia/commons/4/4f/Atlas_Cedar_Cedrus_atlantica_Cone_Closeup_3008px.jpg\n",
      "Processing https://commons.wikimedia.org/wiki/File:WEB-0122_cedars_of_lebanon.jpg ...\n",
      "Failed to retrieve https://commons.wikimedia.org/wiki/File:WEB-0122_cedars_of_lebanon.jpg: 404 Client Error: Not Found for url: https://commons.wikimedia.org/wiki/File:WEB-0122_cedars_of_lebanon.jpg\n",
      "No updated URL found for https://commons.wikimedia.org/wiki/File:WEB-0122_cedars_of_lebanon.jpg\n",
      "Processing https://pixabay.com/images/id-827517/ ...\n",
      "Failed to retrieve https://pixabay.com/images/id-827517/: 403 Client Error: Forbidden for url: https://pixabay.com/images/id-827517/\n",
      "No updated URL found for https://pixabay.com/images/id-827517/\n",
      "Processing https://pixabay.com/images/id-2342563/ ...\n",
      "Failed to retrieve https://pixabay.com/images/id-2342563/: 403 Client Error: Forbidden for url: https://pixabay.com/images/id-2342563/\n",
      "No updated URL found for https://pixabay.com/images/id-2342563/\n",
      "Processing https://commons.wikimedia.org/wiki/File:Cicer_arietinum_001.JPG ...\n",
      "Updated URL: https://upload.wikimedia.org/wikipedia/commons/4/4d/Cicer_arietinum_001.JPG\n",
      "Processing https://upload.wikimedia.org/wikipedia/commons/4/4b/Light_Brown_Garbanzo.jpg ...\n"
     ]
    },
    {
     "name": "stderr",
     "output_type": "stream",
     "text": [
      "Some characters could not be decoded, and were replaced with REPLACEMENT CHARACTER.\n"
     ]
    },
    {
     "name": "stdout",
     "output_type": "stream",
     "text": [
      "Failed to find updated URL on page https://upload.wikimedia.org/wikipedia/commons/4/4b/Light_Brown_Garbanzo.jpg\n",
      "No updated URL found for https://upload.wikimedia.org/wikipedia/commons/4/4b/Light_Brown_Garbanzo.jpg\n",
      "Processing https://commons.wikimedia.org/wiki/File:Cichorium_pumilum.jpg ...\n",
      "Updated URL: https://upload.wikimedia.org/wikipedia/commons/a/a2/Cichorium_pumilum.jpg\n",
      "Processing https://upload.wikimedia.org/wikipedia/commons/f/fa/Cichorium_intybus_var_intybus_clean.jpg ...\n"
     ]
    },
    {
     "name": "stderr",
     "output_type": "stream",
     "text": [
      "Some characters could not be decoded, and were replaced with REPLACEMENT CHARACTER.\n"
     ]
    },
    {
     "name": "stdout",
     "output_type": "stream",
     "text": [
      "Failed to find updated URL on page https://upload.wikimedia.org/wikipedia/commons/f/fa/Cichorium_intybus_var_intybus_clean.jpg\n",
      "No updated URL found for https://upload.wikimedia.org/wikipedia/commons/f/fa/Cichorium_intybus_var_intybus_clean.jpg\n",
      "Processing https://commons.wikimedia.org/wiki/File:WEB-0129_children_of_kabul.jpg ...\n",
      "Failed to retrieve https://commons.wikimedia.org/wiki/File:WEB-0129_children_of_kabul.jpg: 404 Client Error: Not Found for url: https://commons.wikimedia.org/wiki/File:WEB-0129_children_of_kabul.jpg\n",
      "No updated URL found for https://commons.wikimedia.org/wiki/File:WEB-0129_children_of_kabul.jpg\n",
      "Processing https://commons.wikimedia.org/wiki/File:WEB-0130_cinnamomum_verum_spices.jpg ...\n",
      "Failed to retrieve https://commons.wikimedia.org/wiki/File:WEB-0130_cinnamomum_verum_spices.jpg: 404 Client Error: Not Found for url: https://commons.wikimedia.org/wiki/File:WEB-0130_cinnamomum_verum_spices.jpg\n",
      "No updated URL found for https://commons.wikimedia.org/wiki/File:WEB-0130_cinnamomum_verum_spices.jpg\n",
      "Processing https://commons.wikimedia.org/wiki/File:Cinnamomum_Verum_vs_Cinnamomum_Burmannii.jpg ...\n",
      "Updated URL: https://upload.wikimedia.org/wikipedia/commons/3/3f/Cinnamomum_verum_vs_Cinnamomum_burmanni.jpg\n",
      "Processing https://commons.wikimedia.org/wiki/File:Cinnamomum_verum_002.JPG ...\n",
      "Updated URL: https://upload.wikimedia.org/wikipedia/commons/c/ca/Cinnamomum_verum_002.JPG\n",
      "Processing https://commons.wikimedia.org/wiki/File:Cinnamomum_verum_sey_2.jpg ...\n",
      "Updated URL: https://upload.wikimedia.org/wikipedia/commons/2/21/Cinnamomum_verum_sey_2.jpg\n",
      "Processing https://commons.wikimedia.org/wiki/File:WEB-0134_circumcision_huntingtonlibrary.jpg ...\n",
      "Failed to retrieve https://commons.wikimedia.org/wiki/File:WEB-0134_circumcision_huntingtonlibrary.jpg: 404 Client Error: Not Found for url: https://commons.wikimedia.org/wiki/File:WEB-0134_circumcision_huntingtonlibrary.jpg\n",
      "No updated URL found for https://commons.wikimedia.org/wiki/File:WEB-0134_circumcision_huntingtonlibrary.jpg\n",
      "Processing https://commons.wikimedia.org/wiki/File:Etrog_temani_33.JPG ...\n",
      "Updated URL: https://upload.wikimedia.org/wikipedia/commons/2/28/Etrog_temani_33.JPG\n",
      "Processing https://commons.wikimedia.org/wiki/File:Tel_arad_fortress.JPG ...\n",
      "Updated URL: https://upload.wikimedia.org/wikipedia/commons/8/8f/Tel_arad_fortress.JPG\n",
      "Processing https://pixabay.com/images/id-405623/ ...\n",
      "Failed to retrieve https://pixabay.com/images/id-405623/: 403 Client Error: Forbidden for url: https://pixabay.com/images/id-405623/\n",
      "No updated URL found for https://pixabay.com/images/id-405623/\n",
      "Processing https://commons.wikimedia.org/wiki/File:Naja_naja_Hardwicke.jpg ...\n",
      "Updated URL: https://upload.wikimedia.org/wikipedia/commons/b/b0/Naja_naja_Hardwicke.jpg\n",
      "Processing https://commons.wikimedia.org/wiki/File:T%C3%BCrkentaube_im_Flug_beim_Nestbau.jpg ...\n",
      "Updated URL: https://upload.wikimedia.org/wikipedia/commons/d/dc/T%C3%BCrkentaube_im_Flug_beim_Nestbau.jpg\n",
      "Processing https://commons.wikimedia.org/wiki/File:Adrar-Coloquintes.jpg ...\n",
      "Updated URL: https://upload.wikimedia.org/wikipedia/commons/8/86/Adrar-Coloquintes.jpg\n",
      "Processing https://commons.wikimedia.org/wiki/File:Citrullus_colocynthis_005.JPG ...\n",
      "Updated URL: https://upload.wikimedia.org/wikipedia/commons/1/1a/Citrullus_colocynthis_005.JPG\n",
      "Processing  ...\n",
      "Failed to retrieve : Invalid URL '': No scheme supplied. Perhaps you meant https://?\n",
      "No updated URL found for \n",
      "Processing https://commons.wikimedia.org/wiki/File:Citrullus_colocynthis_-_K%C3%B6hler%E2%80%93s_Medizinal-Pflanzen-040.jpg ...\n",
      "Updated URL: https://upload.wikimedia.org/wikipedia/commons/8/8b/Citrullus_colocynthis_-_K%C3%B6hler%E2%80%93s_Medizinal-Pflanzen-040.jpg\n",
      "Processing https://commons.wikimedia.org/wiki/File:Colosseum_in_Rome-April_2007-1-_copie_2B.jpg ...\n",
      "Updated URL: https://upload.wikimedia.org/wikipedia/commons/d/d8/Colosseum_in_Rome-April_2007-1-_copie_2B.jpg\n",
      "Processing https://upload.wikimedia.org/wikipedia/commons/8/82/WEB-0145_columba_livia.jpg ...\n",
      "Failed to retrieve https://upload.wikimedia.org/wikipedia/commons/8/82/WEB-0145_columba_livia.jpg: 404 Client Error: Not Found for url: https://upload.wikimedia.org/wikipedia/commons/8/82/WEB-0145_columba_livia.jpg\n",
      "No updated URL found for https://upload.wikimedia.org/wikipedia/commons/8/82/WEB-0145_columba_livia.jpg\n",
      "Processing https://commons.wikimedia.org/wiki/File:Coriandrum_sativum_-_coriander_flower.JPG ...\n",
      "Updated URL: https://upload.wikimedia.org/wikipedia/commons/5/5b/Coriandrum_sativum_-_coriander_flower.JPG\n",
      "Processing https://upload.wikimedia.org/wikipedia/commons/2/2c/Coriander_flower.jpg ...\n"
     ]
    },
    {
     "name": "stderr",
     "output_type": "stream",
     "text": [
      "Some characters could not be decoded, and were replaced with REPLACEMENT CHARACTER.\n"
     ]
    },
    {
     "name": "stdout",
     "output_type": "stream",
     "text": [
      "Failed to find updated URL on page https://upload.wikimedia.org/wikipedia/commons/2/2c/Coriander_flower.jpg\n",
      "No updated URL found for https://upload.wikimedia.org/wikipedia/commons/2/2c/Coriander_flower.jpg\n",
      "Processing https://commons.wikimedia.org/wiki/File:Kolendra_siewna._(Coriandrum_sativum_L.)_02.jpg ...\n",
      "Updated URL: https://upload.wikimedia.org/wikipedia/commons/c/c4/Kolendra_siewna._%28Coriandrum_sativum_L.%29_02.jpg\n",
      "Processing https://commons.wikimedia.org/wiki/File:Sa-cilantro_seeds.jpg ...\n",
      "Updated URL: https://upload.wikimedia.org/wikipedia/commons/e/e5/Sa-cilantro_seeds.jpg\n",
      "Processing https://commons.wikimedia.org/wiki/File:CanaleCorinto.jpg ...\n",
      "Updated URL: https://upload.wikimedia.org/wikipedia/commons/b/b1/CanaleCorinto.jpg\n",
      "Processing https://commons.wikimedia.org/wiki/File:20100409_korinthos03.JPG ...\n",
      "Updated URL: https://upload.wikimedia.org/wikipedia/commons/5/52/20100409_korinthos03.JPG\n",
      "Processing https://upload.wikimedia.org/wikipedia/commons/8/80/Phalacrocorax_aristotelis_desmarestii.jpg ...\n"
     ]
    },
    {
     "name": "stderr",
     "output_type": "stream",
     "text": [
      "Some characters could not be decoded, and were replaced with REPLACEMENT CHARACTER.\n"
     ]
    },
    {
     "name": "stdout",
     "output_type": "stream",
     "text": [
      "Failed to find updated URL on page https://upload.wikimedia.org/wikipedia/commons/8/80/Phalacrocorax_aristotelis_desmarestii.jpg\n",
      "No updated URL found for https://upload.wikimedia.org/wikipedia/commons/8/80/Phalacrocorax_aristotelis_desmarestii.jpg\n",
      "Processing https://pixabay.com/images/id-944921/ ...\n",
      "Failed to retrieve https://pixabay.com/images/id-944921/: 403 Client Error: Forbidden for url: https://pixabay.com/images/id-944921/\n",
      "No updated URL found for https://pixabay.com/images/id-944921/\n",
      "Processing https://upload.wikimedia.org/wikipedia/commons/b/ba/PikiWiki_Israel_7817_Fields_of_Bethlehem_of_Galilee.JPG ...\n"
     ]
    },
    {
     "name": "stderr",
     "output_type": "stream",
     "text": [
      "Some characters could not be decoded, and were replaced with REPLACEMENT CHARACTER.\n"
     ]
    },
    {
     "name": "stdout",
     "output_type": "stream",
     "text": [
      "Failed to find updated URL on page https://upload.wikimedia.org/wikipedia/commons/b/ba/PikiWiki_Israel_7817_Fields_of_Bethlehem_of_Galilee.JPG\n",
      "No updated URL found for https://upload.wikimedia.org/wikipedia/commons/b/ba/PikiWiki_Israel_7817_Fields_of_Bethlehem_of_Galilee.JPG\n",
      "Processing https://commons.wikimedia.org/wiki/File:Feld_mit_reifer_Baumwolle.jpeg ...\n",
      "Updated URL: https://upload.wikimedia.org/wikipedia/commons/d/d7/Feld_mit_reifer_Baumwolle.jpeg\n",
      "Processing https://commons.wikimedia.org/wiki/File:Gossypium_herbaceum_002.JPG ...\n",
      "Updated URL: https://upload.wikimedia.org/wikipedia/commons/c/c3/Gossypium_herbaceum_002.JPG\n",
      "Processing https://commons.wikimedia.org/wiki/File:Gossypium_barbadense_-_K%C3%B6hler%E2%80%93s_Medizinal-Pflanzen-068.jpg ...\n",
      "Updated URL: https://upload.wikimedia.org/wikipedia/commons/7/7e/Gossypium_barbadense_-_K%C3%B6hler%E2%80%93s_Medizinal-Pflanzen-068.jpg\n",
      "Processing https://commons.wikimedia.org/wiki/File:Cotton_boll_nearly_ready_for_harvest.jpg ...\n",
      "Updated URL: https://upload.wikimedia.org/wikipedia/commons/c/c5/Cotton_boll_nearly_ready_for_harvest.jpg\n",
      "Processing https://gpophotoeng.gov.il/fotoweb/cmdrequest/rest/Download.fwx/D483-132.jpg?D=C81D6356E1BFEA156E1871B36C2AB119898895604DC1D2ADB599A2E66BBB14531CC84BC505428176FD39000DC9A02C4F4625D291663D8FC24862086D6FB61F3F923164D001A60424D0E0F83E9BD97529D8CCD4DD3A8D90CF7F2E606E996FFE4FD5BB9672D746BA0A38F2B96F6AF166E1&ForceSaveDialog=yes ...\n"
     ]
    },
    {
     "name": "stderr",
     "output_type": "stream",
     "text": [
      "Some characters could not be decoded, and were replaced with REPLACEMENT CHARACTER.\n"
     ]
    },
    {
     "name": "stdout",
     "output_type": "stream",
     "text": [
      "Failed to find updated URL on page https://gpophotoeng.gov.il/fotoweb/cmdrequest/rest/Download.fwx/D483-132.jpg?D=C81D6356E1BFEA156E1871B36C2AB119898895604DC1D2ADB599A2E66BBB14531CC84BC505428176FD39000DC9A02C4F4625D291663D8FC24862086D6FB61F3F923164D001A60424D0E0F83E9BD97529D8CCD4DD3A8D90CF7F2E606E996FFE4FD5BB9672D746BA0A38F2B96F6AF166E1&ForceSaveDialog=yes\n",
      "No updated URL found for https://gpophotoeng.gov.il/fotoweb/cmdrequest/rest/Download.fwx/D483-132.jpg?D=C81D6356E1BFEA156E1871B36C2AB119898895604DC1D2ADB599A2E66BBB14531CC84BC505428176FD39000DC9A02C4F4625D291663D8FC24862086D6FB61F3F923164D001A60424D0E0F83E9BD97529D8CCD4DD3A8D90CF7F2E606E996FFE4FD5BB9672D746BA0A38F2B96F6AF166E1&ForceSaveDialog=yes\n",
      "Processing https://commons.wikimedia.org/wiki/File:Grus_grus_-_Common_Crane_04.jpg ...\n",
      "Updated URL: https://upload.wikimedia.org/wikipedia/commons/4/41/Grus_grus_-_Common_Crane_04.jpg\n",
      "Processing https://upload.wikimedia.org/wikipedia/commons/5/5b/WEB-0161_crescent.jpg ...\n",
      "Failed to retrieve https://upload.wikimedia.org/wikipedia/commons/5/5b/WEB-0161_crescent.jpg: 404 Client Error: Not Found for url: https://upload.wikimedia.org/wikipedia/commons/5/5b/WEB-0161_crescent.jpg\n",
      "No updated URL found for https://upload.wikimedia.org/wikipedia/commons/5/5b/WEB-0161_crescent.jpg\n",
      "Processing https://en.wikipedia.org/wiki/File:NileWEB-0162_crocodile.jpg ...\n",
      "Failed to retrieve https://en.wikipedia.org/wiki/File:NileWEB-0162_crocodile.jpg: 404 Client Error: Not Found for url: https://en.wikipedia.org/wiki/File:NileWEB-0162_crocodile.jpg\n",
      "No updated URL found for https://en.wikipedia.org/wiki/File:NileWEB-0162_crocodile.jpg\n",
      "Processing https://commons.wikimedia.org/wiki/File:Saffron_Crocus_vernus_cultivar_two_flowers.jpg ...\n",
      "Updated URL: https://upload.wikimedia.org/wikipedia/commons/3/3a/Saffron_Crocus_vernus_cultivar_two_flowers.jpg\n",
      "Processing https://commons.wikimedia.org/wiki/File:Gr%C3%A1kr%C3%A1ka2.jpg ...\n",
      "Updated URL: https://upload.wikimedia.org/wikipedia/commons/0/05/Gr%C3%A1kr%C3%A1ka2.jpg\n",
      "Processing https://commons.wikimedia.org/wiki/File:Hooded_crow_(Corvus_cornix)_at_Gulf_of_Trieste.jpg ...\n",
      "Updated URL: https://upload.wikimedia.org/wikipedia/commons/8/84/Hooded_crow_%28Corvus_cornix%29_at_Gulf_of_Trieste.jpg\n",
      "Processing https://commons.wikimedia.org/wiki/File:Peter_Gertner_-_Crucifixion_-_Walters_37246.jpg ...\n",
      "Updated URL: https://upload.wikimedia.org/wikipedia/commons/f/f9/Peter_Gertner_-_Crucifixion_-_Walters_37246.jpg\n",
      "Processing https://commons.wikimedia.org/wiki/File:Fragment_of_a_Cubit_Measuring_Rod_MET_102082.jpg ...\n",
      "Updated URL: https://upload.wikimedia.org/wikipedia/commons/c/c6/Fragment_of_a_Cubit_Measuring_Rod_MET_102082.jpg\n",
      "Processing https://commons.wikimedia.org/wiki/File:Cuminum_cyminum_-_K%C3%B6hler%E2%80%93s_Medizinal-Pflanzen-198.jpg ...\n",
      "Updated URL: https://upload.wikimedia.org/wikipedia/commons/5/58/Cuminum_cyminum_-_K%C3%B6hler%E2%80%93s_Medizinal-Pflanzen-198.jpg\n",
      "Processing cypress-357840_1920.jpg at https://pixabay.com/photos/cypress-cypress-cone-cupressus-357840/ ...\n",
      "Failed to retrieve cypress-357840_1920.jpg at https://pixabay.com/photos/cypress-cypress-cone-cupressus-357840/: No connection adapters were found for 'cypress-357840_1920.jpg at https://pixabay.com/photos/cypress-cypress-cone-cupressus-357840/'\n",
      "No updated URL found for cypress-357840_1920.jpg at https://pixabay.com/photos/cypress-cypress-cone-cupressus-357840/\n",
      "Processing https://commons.wikimedia.org/wiki/File:Uromastyx_ocellata_qtl1.jpg ...\n",
      "Updated URL: https://upload.wikimedia.org/wikipedia/commons/6/64/Uromastyx_ocellata_qtl1.jpg\n",
      "Processing https://commons.wikimedia.org/wiki/File:Yellow_daffodils_-_floriade_canberra.jpg ...\n",
      "Updated URL: https://upload.wikimedia.org/wikipedia/commons/7/71/Yellow_daffodils_-_floriade_canberra.jpg\n",
      "Processing https://commons.wikimedia.org/wiki/File:Zadar_Forum.jpg ...\n",
      "Updated URL: https://upload.wikimedia.org/wikipedia/commons/7/72/Zadar_Forum.jpg\n",
      "Processing https://commons.wikimedia.org/wiki/File:WEB-0173_dalmatia_landscape.jpg ...\n",
      "Failed to retrieve https://commons.wikimedia.org/wiki/File:WEB-0173_dalmatia_landscape.jpg: 404 Client Error: Not Found for url: https://commons.wikimedia.org/wiki/File:WEB-0173_dalmatia_landscape.jpg\n",
      "No updated URL found for https://commons.wikimedia.org/wiki/File:WEB-0173_dalmatia_landscape.jpg\n",
      "Processing https://commons.wikimedia.org/wiki/File:Illustration_Leymus_arenarius_and_Lolium_temulentum0.jpg ...\n",
      "Updated URL: https://upload.wikimedia.org/wikipedia/commons/1/16/Illustration_Leymus_arenarius_and_Lolium_temulentum0.jpg\n",
      "Processing https://upload.wikimedia.org/wikipedia/commons/7/76/Lolium_temulentum_001.JPG ...\n"
     ]
    },
    {
     "name": "stderr",
     "output_type": "stream",
     "text": [
      "Some characters could not be decoded, and were replaced with REPLACEMENT CHARACTER.\n"
     ]
    },
    {
     "name": "stdout",
     "output_type": "stream",
     "text": [
      "Failed to find updated URL on page https://upload.wikimedia.org/wikipedia/commons/7/76/Lolium_temulentum_001.JPG\n",
      "No updated URL found for https://upload.wikimedia.org/wikipedia/commons/7/76/Lolium_temulentum_001.JPG\n",
      "Processing https://commons.wikimedia.org/wiki/File:Majmaah_palm_trees.JPG ...\n",
      "Updated URL: https://upload.wikimedia.org/wikipedia/commons/9/93/Majmaah_palm_trees.JPG\n",
      "Processing https://commons.wikimedia.org/wiki/File:Hurma.JPG ...\n",
      "Updated URL: https://upload.wikimedia.org/wikipedia/commons/f/fc/Hurma.JPG\n",
      "Processing https://commons.wikimedia.org/wiki/File:Aurora_amaz%C3%B4nica_no_Lago_do_Cuni%C3%A3.jpg ...\n",
      "Updated URL: https://upload.wikimedia.org/wikipedia/commons/a/a0/Aurora_amaz%C3%B4nica_no_Lago_do_Cuni%C3%A3.jpg\n",
      "Processing https://commons.wikimedia.org/wiki/File:WEB-0179_dead_sea.jpg ...\n",
      "Failed to retrieve https://commons.wikimedia.org/wiki/File:WEB-0179_dead_sea.jpg: 404 Client Error: Not Found for url: https://commons.wikimedia.org/wiki/File:WEB-0179_dead_sea.jpg\n",
      "No updated URL found for https://commons.wikimedia.org/wiki/File:WEB-0179_dead_sea.jpg\n",
      "Processing https://archive.org/details/surveyofwesternp00trisuoft/page/184/mode/2up ...\n",
      "Failed to find updated URL on page https://archive.org/details/surveyofwesternp00trisuoft/page/184/mode/2up\n",
      "No updated URL found for https://archive.org/details/surveyofwesternp00trisuoft/page/184/mode/2up\n",
      "Processing https://commons.wikimedia.org/wiki/File:Pusteblume_im_Morgentau1.JPG ...\n",
      "Updated URL: https://upload.wikimedia.org/wikipedia/commons/0/09/Pusteblume_im_Morgentau1.JPG\n",
      "Processing https://commons.wikimedia.org/wiki/File:Anethum_graveolens_Ven.JPG ...\n",
      "Updated URL: https://upload.wikimedia.org/wikipedia/commons/1/1a/Anethum_graveolens_Ven.JPG\n",
      "Processing https://upload.wikimedia.org/wikipedia/commons/4/4b/Illustration_Anethum_graveolens_clean.jpg ...\n"
     ]
    },
    {
     "name": "stderr",
     "output_type": "stream",
     "text": [
      "Some characters could not be decoded, and were replaced with REPLACEMENT CHARACTER.\n"
     ]
    },
    {
     "name": "stdout",
     "output_type": "stream",
     "text": [
      "Failed to find updated URL on page https://upload.wikimedia.org/wikipedia/commons/4/4b/Illustration_Anethum_graveolens_clean.jpg\n",
      "No updated URL found for https://upload.wikimedia.org/wikipedia/commons/4/4b/Illustration_Anethum_graveolens_clean.jpg\n",
      "Processing https://commons.wikimedia.org/wiki/File:Feral_dogs_in_palestine.JPG ...\n",
      "Updated URL: https://upload.wikimedia.org/wikipedia/commons/d/d6/Feral_dogs_in_palestine.JPG\n",
      "Processing https://pixabay.com/images/id-2830991/ ...\n",
      "Failed to retrieve https://pixabay.com/images/id-2830991/: 403 Client Error: Forbidden for url: https://pixabay.com/images/id-2830991/\n",
      "No updated URL found for https://pixabay.com/images/id-2830991/\n",
      "Processing https://pixabay.com/images/id-2629538/ ...\n",
      "Failed to retrieve https://pixabay.com/images/id-2629538/: 403 Client Error: Forbidden for url: https://pixabay.com/images/id-2629538/\n",
      "No updated URL found for https://pixabay.com/images/id-2629538/\n",
      "Processing https://commons.wikimedia.org/wiki/File:Sketch_of_decoration_shown_on_Assyro-Babylonian_oil_beaker._Wellcome_M0011150.jpg ...\n",
      "Updated URL: https://upload.wikimedia.org/wikipedia/commons/a/ab/Sketch_of_decoration_shown_on_Assyro-Babylonian_oil_beaker._Wellcome_M0011150.jpg\n",
      "Processing https://upload.wikimedia.org/wikipedia/commons/c/c4/William_Blake_-_John_Bunyan_Plate_1_Dreamen_Dreams_a_Dream.jpg ...\n"
     ]
    },
    {
     "name": "stderr",
     "output_type": "stream",
     "text": [
      "Some characters could not be decoded, and were replaced with REPLACEMENT CHARACTER.\n"
     ]
    },
    {
     "name": "stdout",
     "output_type": "stream",
     "text": [
      "Failed to find updated URL on page https://upload.wikimedia.org/wikipedia/commons/c/c4/William_Blake_-_John_Bunyan_Plate_1_Dreamen_Dreams_a_Dream.jpg\n",
      "No updated URL found for https://upload.wikimedia.org/wikipedia/commons/c/c4/William_Blake_-_John_Bunyan_Plate_1_Dreamen_Dreams_a_Dream.jpg\n",
      "Processing https://pixabay.com/images/id-409386/ ...\n",
      "Failed to retrieve https://pixabay.com/images/id-409386/: 403 Client Error: Forbidden for url: https://pixabay.com/images/id-409386/\n",
      "No updated URL found for https://pixabay.com/images/id-409386/\n",
      "Processing https://commons.wikimedia.org/wiki/File:Dynasty_18_stone_seat_REM.JPG ...\n",
      "Updated URL: https://upload.wikimedia.org/wikipedia/commons/2/27/Dynasty_18_stone_seat_REM.JPG\n",
      "Processing https://commons.wikimedia.org/wiki/File:Bengalese_Eagle_Owl.jpg ...\n",
      "Updated URL: https://upload.wikimedia.org/wikipedia/commons/b/b2/Bengalese_Eagle_Owl.jpg\n",
      "Processing https://commons.wikimedia.org/wiki/File:WEB-0192_wingspread_eagle.jpg ...\n",
      "Failed to retrieve https://commons.wikimedia.org/wiki/File:WEB-0192_wingspread_eagle.jpg: 404 Client Error: Not Found for url: https://commons.wikimedia.org/wiki/File:WEB-0192_wingspread_eagle.jpg\n",
      "No updated URL found for https://commons.wikimedia.org/wiki/File:WEB-0192_wingspread_eagle.jpg\n",
      "Processing https://pixabay.com/photos/eagle-owl-bubo-bubo-owl-bird-1728203/ ...\n",
      "Failed to retrieve https://pixabay.com/photos/eagle-owl-bubo-bubo-owl-bird-1728203/: 403 Client Error: Forbidden for url: https://pixabay.com/photos/eagle-owl-bubo-bubo-owl-bird-1728203/\n",
      "No updated URL found for https://pixabay.com/photos/eagle-owl-bubo-bubo-owl-bird-1728203/\n",
      "Processing https://pixabay.com/images/id-2984478/ ...\n",
      "Failed to retrieve https://pixabay.com/images/id-2984478/: 403 Client Error: Forbidden for url: https://pixabay.com/images/id-2984478/\n",
      "No updated URL found for https://pixabay.com/images/id-2984478/\n",
      "Processing https://commons.wikimedia.org/wiki/File:The_Earth_seen_from_Apollo_17.jpg ...\n",
      "Updated URL: https://upload.wikimedia.org/wikipedia/commons/9/97/The_Earth_seen_from_Apollo_17.jpg\n",
      "Processing https://commons.wikimedia.org/wiki/File:Dalbergia_melanoxylon.jpg ...\n",
      "Updated URL: https://upload.wikimedia.org/wikipedia/commons/3/33/Dalbergia_melanoxylon.jpg\n",
      "Processing https://commons.wikimedia.org/wiki/File:Ecce_homo_by_Antonio_Ciseri_(1).jpg ...\n",
      "Updated URL: https://upload.wikimedia.org/wikipedia/commons/d/de/Ecce_homo_by_Antonio_Ciseri_%281%29.jpg\n",
      "Processing https://commons.wikimedia.org/wiki/File:Coturnix_coturnix_WEB-0198_eggs.jpg ...\n",
      "Failed to retrieve https://commons.wikimedia.org/wiki/File:Coturnix_coturnix_WEB-0198_eggs.jpg: 404 Client Error: Not Found for url: https://commons.wikimedia.org/wiki/File:Coturnix_coturnix_WEB-0198_eggs.jpg\n",
      "No updated URL found for https://commons.wikimedia.org/wiki/File:Coturnix_coturnix_WEB-0198_eggs.jpg\n",
      "Processing https://pixabay.com/images/id-1693766/ ...\n",
      "Failed to retrieve https://pixabay.com/images/id-1693766/: 403 Client Error: Forbidden for url: https://pixabay.com/images/id-1693766/\n",
      "No updated URL found for https://pixabay.com/images/id-1693766/\n",
      "Processing https://commons.wikimedia.org/wiki/File:Egypt._Pyramids._The_land_of_Goshen_with_pyramids_in_the_distance_LOC_matpc.23065.png ...\n",
      "Failed to retrieve https://commons.wikimedia.org/wiki/File:Egypt._Pyramids._The_land_of_Goshen_with_pyramids_in_the_distance_LOC_matpc.23065.png: 404 Client Error: Not Found for url: https://commons.wikimedia.org/wiki/File:Egypt._Pyramids._The_land_of_Goshen_with_pyramids_in_the_distance_LOC_matpc.23065.png\n",
      "No updated URL found for https://commons.wikimedia.org/wiki/File:Egypt._Pyramids._The_land_of_Goshen_with_pyramids_in_the_distance_LOC_matpc.23065.png\n",
      "Processing https://commons.wikimedia.org/wiki/File:Columns_of_the_Temple_of_Karnak_civilization_of_the_Pharaohs.jpg ...\n",
      "Updated URL: https://upload.wikimedia.org/wikipedia/commons/d/d5/Columns_of_the_Temple_of_Karnak_civilization_of_the_Pharaohs.jpg\n",
      "Processing https://pixabay.com/photos/egyptian-goose-goose-geese-bird-1374377/ ...\n",
      "Failed to retrieve https://pixabay.com/photos/egyptian-goose-goose-geese-bird-1374377/: 403 Client Error: Forbidden for url: https://pixabay.com/photos/egyptian-goose-goose-geese-bird-1374377/\n",
      "No updated URL found for https://pixabay.com/photos/egyptian-goose-goose-geese-bird-1374377/\n",
      "Processing https://upload.wikimedia.org/wikipedia/commons/7/79/Egyptian_Vulture_01.jpg ...\n"
     ]
    },
    {
     "name": "stderr",
     "output_type": "stream",
     "text": [
      "Some characters could not be decoded, and were replaced with REPLACEMENT CHARACTER.\n"
     ]
    },
    {
     "name": "stdout",
     "output_type": "stream",
     "text": [
      "Failed to find updated URL on page https://upload.wikimedia.org/wikipedia/commons/7/79/Egyptian_Vulture_01.jpg\n",
      "No updated URL found for https://upload.wikimedia.org/wikipedia/commons/7/79/Egyptian_Vulture_01.jpg\n",
      "Processing https://commons.wikimedia.org/wiki/File:U._canescens_bark.jpg ...\n",
      "Updated URL: https://upload.wikimedia.org/wikipedia/commons/0/06/U._canescens_bark.jpg\n",
      "Processing https://commons.wikimedia.org/wiki/File:WEB-0205_kourion.jpg ...\n",
      "Failed to retrieve https://commons.wikimedia.org/wiki/File:WEB-0205_kourion.jpg: 404 Client Error: Not Found for url: https://commons.wikimedia.org/wiki/File:WEB-0205_kourion.jpg\n",
      "No updated URL found for https://commons.wikimedia.org/wiki/File:WEB-0205_kourion.jpg\n",
      "Processing https://upload.wikimedia.org/wikipedia/commons/3/3c/Judaean_people_are_being_deported_into_exile_after_the_capture_of_Lachish.jpg ...\n"
     ]
    },
    {
     "name": "stderr",
     "output_type": "stream",
     "text": [
      "Some characters could not be decoded, and were replaced with REPLACEMENT CHARACTER.\n"
     ]
    },
    {
     "name": "stdout",
     "output_type": "stream",
     "text": [
      "Failed to find updated URL on page https://upload.wikimedia.org/wikipedia/commons/3/3c/Judaean_people_are_being_deported_into_exile_after_the_capture_of_Lachish.jpg\n",
      "No updated URL found for https://upload.wikimedia.org/wikipedia/commons/3/3c/Judaean_people_are_being_deported_into_exile_after_the_capture_of_Lachish.jpg\n",
      "Processing https://upload.wikimedia.org/wikipedia/commons/a/a3/Lachish_Relief,_British_Museum_13.jpg ...\n"
     ]
    },
    {
     "name": "stderr",
     "output_type": "stream",
     "text": [
      "Some characters could not be decoded, and were replaced with REPLACEMENT CHARACTER.\n"
     ]
    },
    {
     "name": "stdout",
     "output_type": "stream",
     "text": [
      "Failed to find updated URL on page https://upload.wikimedia.org/wikipedia/commons/a/a3/Lachish_Relief,_British_Museum_13.jpg\n",
      "No updated URL found for https://upload.wikimedia.org/wikipedia/commons/a/a3/Lachish_Relief,_British_Museum_13.jpg\n",
      "Processing https://commons.wikimedia.org/wiki/File:Ezekiel-Vision-Merkaba.jpg ...\n",
      "Updated URL: https://upload.wikimedia.org/wikipedia/commons/e/eb/Ezekiel-Vision-Merkaba.jpg\n",
      "Processing http://www.freebibleimages.org/illustrations/ezekiel-calling/ ...\n",
      "Failed to find updated URL on page http://www.freebibleimages.org/illustrations/ezekiel-calling/\n",
      "No updated URL found for http://www.freebibleimages.org/illustrations/ezekiel-calling/\n",
      "Processing https://upload.wikimedia.org/wikipedia/commons/5/5d/Alexey_Akindinov._The_Vision_of_Ezekiel._2006.jpg ...\n"
     ]
    },
    {
     "name": "stderr",
     "output_type": "stream",
     "text": [
      "Some characters could not be decoded, and were replaced with REPLACEMENT CHARACTER.\n"
     ]
    },
    {
     "name": "stdout",
     "output_type": "stream",
     "text": [
      "Failed to find updated URL on page https://upload.wikimedia.org/wikipedia/commons/5/5d/Alexey_Akindinov._The_Vision_of_Ezekiel._2006.jpg\n",
      "No updated URL found for https://upload.wikimedia.org/wikipedia/commons/5/5d/Alexey_Akindinov._The_Vision_of_Ezekiel._2006.jpg\n",
      "Processing https://commons.wikimedia.org/wiki/File:FlyingPeregrine.jpg ...\n",
      "Updated URL: https://upload.wikimedia.org/wikipedia/commons/6/60/FlyingPeregrine.jpg\n",
      "Processing https://commons.wikimedia.org/wiki/File:Persian_Fallow_Deer_1.jpg ...\n",
      "Updated URL: https://upload.wikimedia.org/wikipedia/commons/1/1d/Persian_Fallow_Deer_1.jpg\n",
      "Processing https://commons.wikimedia.org/wiki/File:Marten_van_Valckenborch_-_Feeding_the_Five_Thousand_(July).jpg ...\n",
      "Updated URL: https://upload.wikimedia.org/wikipedia/commons/5/5c/Marten_van_Valckenborch_-_Feeding_the_Five_Thousand_%28July%29.jpg\n",
      "Processing https://commons.wikimedia.org/wiki/File:TA_ZOO_orna_Pict0224.jpg ...\n",
      "Updated URL: https://upload.wikimedia.org/wikipedia/commons/d/d0/TA_ZOO_orna_Pict0224.jpg\n",
      "Processing https://gpophotoeng.gov.il/fotoweb/cmdrequest/rest/Download.fwx/D433-013.jpg?D=C81D6356E1BFEA156E1871B36C2AB119898895604DC1D2ADB599A2E66BBB14531CC84BC505428176FD39000DC9A02C4F4625D291663D8FC24862086D6FB61F3F923164D001A60424324872ED23801767D8CCD4DD3A8D90CF7F2E606E996FFE4FD5BB9672D746BA0A38F2B96F6AF166E1&ForceSaveDialog=yes ...\n"
     ]
    },
    {
     "name": "stderr",
     "output_type": "stream",
     "text": [
      "Some characters could not be decoded, and were replaced with REPLACEMENT CHARACTER.\n"
     ]
    },
    {
     "name": "stdout",
     "output_type": "stream",
     "text": [
      "Failed to find updated URL on page https://gpophotoeng.gov.il/fotoweb/cmdrequest/rest/Download.fwx/D433-013.jpg?D=C81D6356E1BFEA156E1871B36C2AB119898895604DC1D2ADB599A2E66BBB14531CC84BC505428176FD39000DC9A02C4F4625D291663D8FC24862086D6FB61F3F923164D001A60424324872ED23801767D8CCD4DD3A8D90CF7F2E606E996FFE4FD5BB9672D746BA0A38F2B96F6AF166E1&ForceSaveDialog=yes\n",
      "No updated URL found for https://gpophotoeng.gov.il/fotoweb/cmdrequest/rest/Download.fwx/D433-013.jpg?D=C81D6356E1BFEA156E1871B36C2AB119898895604DC1D2ADB599A2E66BBB14531CC84BC505428176FD39000DC9A02C4F4625D291663D8FC24862086D6FB61F3F923164D001A60424324872ED23801767D8CCD4DD3A8D90CF7F2E606E996FFE4FD5BB9672D746BA0A38F2B96F6AF166E1&ForceSaveDialog=yes\n",
      "Processing https://commons.wikimedia.org/wiki/File:Ferula_gummosa_-_K%C3%B6hler%E2%80%93s_Medizinal-Pflanzen-205.jpg ...\n",
      "Updated URL: https://upload.wikimedia.org/wikipedia/commons/e/e9/Ferula_gummosa_-_K%C3%B6hler%E2%80%93s_Medizinal-Pflanzen-205.jpg\n",
      "Processing https://commons.wikimedia.org/wiki/File:Ferula_communis03.jpg ...\n",
      "Updated URL: https://upload.wikimedia.org/wikipedia/commons/5/58/Ferula_communis03.jpg\n",
      "Processing figfresh: https://commons.wikimedia.org/wiki/File:Figs.jpg ...\n",
      "Failed to retrieve figfresh: https://commons.wikimedia.org/wiki/File:Figs.jpg: No connection adapters were found for 'figfresh: https://commons.wikimedia.org/wiki/File:Figs.jpg'\n",
      "No updated URL found for figfresh: https://commons.wikimedia.org/wiki/File:Figs.jpg\n",
      "Processing https://commons.wikimedia.org/wiki/File:Ficus_carica_005.jpg ...\n",
      "Updated URL: https://upload.wikimedia.org/wikipedia/commons/1/1e/Ficus_carica_005.jpg\n",
      "Processing https://commons.wikimedia.org/wiki/File:Abies_firma.JPG ...\n",
      "Updated URL: https://upload.wikimedia.org/wikipedia/commons/2/2f/Abies_firma.JPG\n",
      "Processing https://commons.wikimedia.org/wiki/File:WEB-0221_fire.jpg ...\n",
      "Failed to retrieve https://commons.wikimedia.org/wiki/File:WEB-0221_fire.jpg: 404 Client Error: Not Found for url: https://commons.wikimedia.org/wiki/File:WEB-0221_fire.jpg\n",
      "No updated URL found for https://commons.wikimedia.org/wiki/File:WEB-0221_fire.jpg\n",
      "Processing https://upload.wikimedia.org/wikipedia/commons/4/47/FireAltarWorship.JPG ...\n"
     ]
    },
    {
     "name": "stderr",
     "output_type": "stream",
     "text": [
      "Some characters could not be decoded, and were replaced with REPLACEMENT CHARACTER.\n"
     ]
    },
    {
     "name": "stdout",
     "output_type": "stream",
     "text": [
      "Failed to find updated URL on page https://upload.wikimedia.org/wikipedia/commons/4/47/FireAltarWorship.JPG\n",
      "No updated URL found for https://upload.wikimedia.org/wikipedia/commons/4/47/FireAltarWorship.JPG\n",
      "Processing https://pixabay.com/images/id-537832/ ...\n",
      "Failed to retrieve https://pixabay.com/images/id-537832/: 403 Client Error: Forbidden for url: https://pixabay.com/images/id-537832/\n",
      "No updated URL found for https://pixabay.com/images/id-537832/\n",
      "Processing https://archive.org/details/surveyofwesternp00trisuoft/page/198/mode/2up ...\n",
      "Failed to find updated URL on page https://archive.org/details/surveyofwesternp00trisuoft/page/198/mode/2up\n",
      "No updated URL found for https://archive.org/details/surveyofwesternp00trisuoft/page/198/mode/2up\n",
      "Processing https://pixabay.com/images/id-1868779/ ...\n",
      "Failed to retrieve https://pixabay.com/images/id-1868779/: 403 Client Error: Forbidden for url: https://pixabay.com/images/id-1868779/\n",
      "No updated URL found for https://pixabay.com/images/id-1868779/\n",
      "Processing https://commons.wikimedia.org/wiki/File:Brotvermehrungskirche_BW_3-2.JPG ...\n",
      "Updated URL: https://upload.wikimedia.org/wikipedia/commons/d/db/Brotvermehrungskirche_BW_3-2.JPG\n",
      "Processing https://upload.wikimedia.org/wikipedia/commons/b/be/WEB-0228_flacon_nards_perfume.jpg ...\n",
      "Failed to retrieve https://upload.wikimedia.org/wikipedia/commons/b/be/WEB-0228_flacon_nards_perfume.jpg: 404 Client Error: Not Found for url: https://upload.wikimedia.org/wikipedia/commons/b/be/WEB-0228_flacon_nards_perfume.jpg\n",
      "No updated URL found for https://upload.wikimedia.org/wikipedia/commons/b/be/WEB-0228_flacon_nards_perfume.jpg\n",
      "Processing https://commons.wikimedia.org/wiki/File:Australia_Cairns_WEB-0229_flame.jpg ...\n",
      "Failed to retrieve https://commons.wikimedia.org/wiki/File:Australia_Cairns_WEB-0229_flame.jpg: 404 Client Error: Not Found for url: https://commons.wikimedia.org/wiki/File:Australia_Cairns_WEB-0229_flame.jpg\n",
      "No updated URL found for https://commons.wikimedia.org/wiki/File:Australia_Cairns_WEB-0229_flame.jpg\n",
      "Processing https://commons.wikimedia.org/wiki/File:Illustration_Linum_usitatissimum0.jpg ...\n",
      "Updated URL: https://upload.wikimedia.org/wikipedia/commons/e/ef/Illustration_Linum_usitatissimum0.jpg\n",
      "Processing https://commons.wikimedia.org/wiki/File:K%C3%B6hler%27s_Medizinal-Pflanzen_in_naturgetreuen_Abbildungen_mit_kurz_erl%C3%A4uterndem_Texte_(Plate_16)_BHL303594.jpg ...\n",
      "Updated URL: https://upload.wikimedia.org/wikipedia/commons/a/a8/K%C3%B6hler%27s_Medizinal-Pflanzen_in_naturgetreuen_Abbildungen_mit_kurz_erl%C3%A4uterndem_Texte_%28Plate_16%29_BHL303594.jpg\n",
      "Processing https://commons.wikimedia.org/wiki/File:BreakingFlax.jpeg ...\n",
      "Updated URL: https://upload.wikimedia.org/wikipedia/commons/e/e7/BreakingFlax.jpeg\n",
      "Processing https://upload.wikimedia.org/wikipedia/commons/d/d7/Linum-pubescens-Zachi-Evenor-004.jpg ...\n"
     ]
    },
    {
     "name": "stderr",
     "output_type": "stream",
     "text": [
      "Some characters could not be decoded, and were replaced with REPLACEMENT CHARACTER.\n"
     ]
    },
    {
     "name": "stdout",
     "output_type": "stream",
     "text": [
      "Failed to find updated URL on page https://upload.wikimedia.org/wikipedia/commons/d/d7/Linum-pubescens-Zachi-Evenor-004.jpg\n",
      "No updated URL found for https://upload.wikimedia.org/wikipedia/commons/d/d7/Linum-pubescens-Zachi-Evenor-004.jpg\n",
      "Processing https://commons.wikimedia.org/wiki/File:Linum-pubescens-Zachi-Evenor-003.jpg ...\n",
      "Updated URL: https://upload.wikimedia.org/wikipedia/commons/b/bf/Linum-pubescens-Zachi-Evenor-003.jpg\n",
      "Processing https://commons.wikimedia.org/wiki/File:Flachsstroh_Garn_Vlies_und_Seil.jpg ...\n",
      "Updated URL: https://upload.wikimedia.org/wikipedia/commons/b/bf/Flachsstroh_Garn_Vlies_und_Seil.jpg\n",
      "Processing https://upload.wikimedia.org/wikipedia/commons/f/f8/PikiWiki_Israel_16912_A_flock_of_birds.JPG ...\n"
     ]
    },
    {
     "name": "stderr",
     "output_type": "stream",
     "text": [
      "Some characters could not be decoded, and were replaced with REPLACEMENT CHARACTER.\n"
     ]
    },
    {
     "name": "stdout",
     "output_type": "stream",
     "text": [
      "Failed to find updated URL on page https://upload.wikimedia.org/wikipedia/commons/f/f8/PikiWiki_Israel_16912_A_flock_of_birds.JPG\n",
      "No updated URL found for https://upload.wikimedia.org/wikipedia/commons/f/f8/PikiWiki_Israel_16912_A_flock_of_birds.JPG\n",
      "Processing https://commons.wikimedia.org/wiki/File:Flooded_Albizia_Saman_(rain_tree)_in_the_Mekong.jpg ...\n",
      "Updated URL: https://upload.wikimedia.org/wikipedia/commons/7/7b/Flooded_Albizia_Saman_%28rain_tree%29_in_the_Mekong.jpg\n",
      "Processing https://upload.wikimedia.org/wikipedia/commons/4/4b/Granite_Falls_26428.JPG ...\n"
     ]
    },
    {
     "name": "stderr",
     "output_type": "stream",
     "text": [
      "Some characters could not be decoded, and were replaced with REPLACEMENT CHARACTER.\n"
     ]
    },
    {
     "name": "stdout",
     "output_type": "stream",
     "text": [
      "Failed to find updated URL on page https://upload.wikimedia.org/wikipedia/commons/4/4b/Granite_Falls_26428.JPG\n",
      "No updated URL found for https://upload.wikimedia.org/wikipedia/commons/4/4b/Granite_Falls_26428.JPG\n",
      "Processing https://pixabay.com/photos/fly-bug-insect-2629848/ ...\n",
      "Failed to retrieve https://pixabay.com/photos/fly-bug-insect-2629848/: 403 Client Error: Forbidden for url: https://pixabay.com/photos/fly-bug-insect-2629848/\n",
      "No updated URL found for https://pixabay.com/photos/fly-bug-insect-2629848/\n",
      "Processing https://commons.wikimedia.org/wiki/File:WEB-0241_forum_romanum.jpg ...\n",
      "Failed to retrieve https://commons.wikimedia.org/wiki/File:WEB-0241_forum_romanum.jpg: 404 Client Error: Not Found for url: https://commons.wikimedia.org/wiki/File:WEB-0241_forum_romanum.jpg\n",
      "No updated URL found for https://commons.wikimedia.org/wiki/File:WEB-0241_forum_romanum.jpg\n",
      "Processing https://commons.wikimedia.org/wiki/File:Foundation_slab_of_Xerxes_in_Babylonian_language,_Iran,_Persepolis,_Garrison_quarters,_Achaemenid_Period,_reign_of_Xerxes,_486-465_BC,_limestone_-_Oriental_Institute_Museum,_University_of_Chicago_-_DSC07978.JPG ...\n",
      "Updated URL: https://upload.wikimedia.org/wikipedia/commons/c/c8/Foundation_slab_of_Xerxes_in_Babylonian_language%2C_Iran%2C_Persepolis%2C_Garrison_quarters%2C_Achaemenid_Period%2C_reign_of_Xerxes%2C_486-465_BC%2C_limestone_-_Oriental_Institute_Museum%2C_University_of_Chicago_-_DSC07978.JPG\n",
      "Processing https://gpophotoeng.gov.il/fotoweb/cmdrequest/rest/Download.fwx/D426-071.jpg?D=C81D6356E1BFEA156E1871B36C2AB119898895604DC1D2ADB599A2E66BBB14531CC84BC505428176FD39000DC9A02C4F4625D291663D8FC24862086D6FB61F3F923164D001A6042484CEFB6F26C1A140D8CCD4DD3A8D90CF7F2E606E996FFE4FD5BB9672D746BA0A38F2B96F6AF166E1&ForceSaveDialog=yes ...\n"
     ]
    },
    {
     "name": "stderr",
     "output_type": "stream",
     "text": [
      "Some characters could not be decoded, and were replaced with REPLACEMENT CHARACTER.\n"
     ]
    },
    {
     "name": "stdout",
     "output_type": "stream",
     "text": [
      "Failed to find updated URL on page https://gpophotoeng.gov.il/fotoweb/cmdrequest/rest/Download.fwx/D426-071.jpg?D=C81D6356E1BFEA156E1871B36C2AB119898895604DC1D2ADB599A2E66BBB14531CC84BC505428176FD39000DC9A02C4F4625D291663D8FC24862086D6FB61F3F923164D001A6042484CEFB6F26C1A140D8CCD4DD3A8D90CF7F2E606E996FFE4FD5BB9672D746BA0A38F2B96F6AF166E1&ForceSaveDialog=yes\n",
      "No updated URL found for https://gpophotoeng.gov.il/fotoweb/cmdrequest/rest/Download.fwx/D426-071.jpg?D=C81D6356E1BFEA156E1871B36C2AB119898895604DC1D2ADB599A2E66BBB14531CC84BC505428176FD39000DC9A02C4F4625D291663D8FC24862086D6FB61F3F923164D001A6042484CEFB6F26C1A140D8CCD4DD3A8D90CF7F2E606E996FFE4FD5BB9672D746BA0A38F2B96F6AF166E1&ForceSaveDialog=yes\n",
      "Processing https://commons.wikimedia.org/wiki/File:Boswellia_sacra_-_K%C3%B6hler%E2%80%93s_Medizinal-Pflanzen-022.jpg ...\n",
      "Updated URL: https://upload.wikimedia.org/wikipedia/commons/d/da/Boswellia_sacra_-_K%C3%B6hler%E2%80%93s_Medizinal-Pflanzen-022.jpg\n",
      "Processing https://commons.wikimedia.org/wiki/File:Frankincense_2005-12-31.jpg ...\n",
      "Updated URL: https://upload.wikimedia.org/wikipedia/commons/1/14/Frankincense_2005-12-31.jpg\n",
      "Processing https://commons.wikimedia.org/wiki/File:Oman_Dhofar_Frankincense.jpg ...\n",
      "Updated URL: https://upload.wikimedia.org/wikipedia/commons/8/87/Oman_Dhofar_Frankincense.jpg\n",
      "Processing https://pixabay.com/images/id-2097029/ ...\n",
      "Failed to retrieve https://pixabay.com/images/id-2097029/: 403 Client Error: Forbidden for url: https://pixabay.com/images/id-2097029/\n",
      "No updated URL found for https://pixabay.com/images/id-2097029/\n",
      "Processing https://pixabay.com/images/id-1406238/ ...\n",
      "Failed to retrieve https://pixabay.com/images/id-1406238/: 403 Client Error: Forbidden for url: https://pixabay.com/images/id-1406238/\n",
      "No updated URL found for https://pixabay.com/images/id-1406238/\n",
      "Processing https://commons.wikimedia.org/wiki/File:Ammophila_arenaria_(frosted_leaves).jpg ...\n",
      "Updated URL: https://upload.wikimedia.org/wikipedia/commons/e/e6/Ammophila_arenaria_%28frosted_leaves%29.jpg\n",
      "Processing https://commons.wikimedia.org/wiki/File:Funkenburg_(Westgreu%C3%9Fen),_the_herb_garden.jpg ...\n",
      "Updated URL: https://upload.wikimedia.org/wikipedia/commons/e/e3/Funkenburg_%28Westgreu%C3%9Fen%29%2C_the_herb_garden.jpg\n",
      "Processing https://commons.wikimedia.org/wiki/File:WEB-0251_gale_force_winds.jpg ...\n",
      "Failed to retrieve https://commons.wikimedia.org/wiki/File:WEB-0251_gale_force_winds.jpg: 404 Client Error: Not Found for url: https://commons.wikimedia.org/wiki/File:WEB-0251_gale_force_winds.jpg\n",
      "No updated URL found for https://commons.wikimedia.org/wiki/File:WEB-0251_gale_force_winds.jpg\n",
      "Processing https://upload.wikimedia.org/wikipedia/commons/9/99/2,000_year-old_Galilee_Boat_(25590631200).jpg ...\n"
     ]
    },
    {
     "name": "stderr",
     "output_type": "stream",
     "text": [
      "Some characters could not be decoded, and were replaced with REPLACEMENT CHARACTER.\n"
     ]
    },
    {
     "name": "stdout",
     "output_type": "stream",
     "text": [
      "Failed to find updated URL on page https://upload.wikimedia.org/wikipedia/commons/9/99/2,000_year-old_Galilee_Boat_(25590631200).jpg\n",
      "No updated URL found for https://upload.wikimedia.org/wikipedia/commons/9/99/2,000_year-old_Galilee_Boat_(25590631200).jpg\n",
      "Processing https://commons.wikimedia.org/wiki/File:Nekrose_fuss_gipsverband01.jpg ...\n",
      "Updated URL: https://upload.wikimedia.org/wikipedia/commons/c/ce/Nekrose_fuss_gipsverband01.jpg\n",
      "Processing https://upload.wikimedia.org/wikipedia/commons/2/22/Garlic.jpg ...\n"
     ]
    },
    {
     "name": "stderr",
     "output_type": "stream",
     "text": [
      "Some characters could not be decoded, and were replaced with REPLACEMENT CHARACTER.\n"
     ]
    },
    {
     "name": "stdout",
     "output_type": "stream",
     "text": [
      "Failed to find updated URL on page https://upload.wikimedia.org/wikipedia/commons/2/22/Garlic.jpg\n",
      "No updated URL found for https://upload.wikimedia.org/wikipedia/commons/2/22/Garlic.jpg\n",
      "Processing https://upload.wikimedia.org/wikipedia/commons/4/4d/Gaur_(Bos_gaurus)_MH_India.jpg ...\n"
     ]
    },
    {
     "name": "stderr",
     "output_type": "stream",
     "text": [
      "Some characters could not be decoded, and were replaced with REPLACEMENT CHARACTER.\n"
     ]
    },
    {
     "name": "stdout",
     "output_type": "stream",
     "text": [
      "Failed to find updated URL on page https://upload.wikimedia.org/wikipedia/commons/4/4d/Gaur_(Bos_gaurus)_MH_India.jpg\n",
      "No updated URL found for https://upload.wikimedia.org/wikipedia/commons/4/4d/Gaur_(Bos_gaurus)_MH_India.jpg\n",
      "Processing https://commons.wikimedia.org/wiki/File:Serengeti_Thomson-Gazelle3.jpg ...\n",
      "Updated URL: https://upload.wikimedia.org/wikipedia/commons/4/41/Serengeti_Thomson-Gazelle3.jpg\n",
      "Processing https://commons.wikimedia.org/wiki/File:Gazella_dorcas,_Israel.jpg ...\n",
      "Updated URL: https://upload.wikimedia.org/wikipedia/commons/c/c5/Gazella_dorcas%2C_Israel.jpg\n",
      "Processing https://pixabay.com/photos/gecko-rocks-texture-dragon-2126152/ ...\n",
      "Failed to retrieve https://pixabay.com/photos/gecko-rocks-texture-dragon-2126152/: 403 Client Error: Forbidden for url: https://pixabay.com/photos/gecko-rocks-texture-dragon-2126152/\n",
      "No updated URL found for https://pixabay.com/photos/gecko-rocks-texture-dragon-2126152/\n",
      "Processing https://commons.wikimedia.org/wiki/File:Karoo_National_Park_2014_06.jpg ...\n",
      "Updated URL: https://upload.wikimedia.org/wikipedia/commons/c/c0/Karoo_National_Park_2014_06.jpg\n",
      "Processing https://upload.wikimedia.org/wikipedia/commons/0/0b/Eglise_Notre-Dame_du_Taur_-_La_g%C3%A9n%C3%A9alogie_de_Jacob_XIVe_si%C3%A9cle.jpg ...\n"
     ]
    },
    {
     "name": "stderr",
     "output_type": "stream",
     "text": [
      "Some characters could not be decoded, and were replaced with REPLACEMENT CHARACTER.\n"
     ]
    },
    {
     "name": "stdout",
     "output_type": "stream",
     "text": [
      "Failed to find updated URL on page https://upload.wikimedia.org/wikipedia/commons/0/0b/Eglise_Notre-Dame_du_Taur_-_La_g%C3%A9n%C3%A9alogie_de_Jacob_XIVe_si%C3%A9cle.jpg\n",
      "No updated URL found for https://upload.wikimedia.org/wikipedia/commons/0/0b/Eglise_Notre-Dame_du_Taur_-_La_g%C3%A9n%C3%A9alogie_de_Jacob_XIVe_si%C3%A9cle.jpg\n",
      "Processing https://upload.wikimedia.org/wikipedia/commons/6/63/Hortus_Deliciarum,_Der_Stammbaum_Christi.JPG ...\n"
     ]
    },
    {
     "name": "stderr",
     "output_type": "stream",
     "text": [
      "Some characters could not be decoded, and were replaced with REPLACEMENT CHARACTER.\n"
     ]
    },
    {
     "name": "stdout",
     "output_type": "stream",
     "text": [
      "Failed to find updated URL on page https://upload.wikimedia.org/wikipedia/commons/6/63/Hortus_Deliciarum,_Der_Stammbaum_Christi.JPG\n",
      "No updated URL found for https://upload.wikimedia.org/wikipedia/commons/6/63/Hortus_Deliciarum,_Der_Stammbaum_Christi.JPG\n",
      "Processing https://pixabay.com/images/id-1238228/ ...\n",
      "Failed to retrieve https://pixabay.com/images/id-1238228/: 403 Client Error: Forbidden for url: https://pixabay.com/images/id-1238228/\n",
      "No updated URL found for https://pixabay.com/images/id-1238228/\n",
      "Processing https://commons.wikimedia.org/wiki/File:Gethsemane_Carl_Bloch.jpg ...\n",
      "Updated URL: https://upload.wikimedia.org/wikipedia/commons/5/53/Gethsemane_Carl_Bloch.jpg\n",
      "Processing https://commons.wikimedia.org/wiki/File:Goat-kids.jpg ...\n",
      "Updated URL: https://upload.wikimedia.org/wikipedia/commons/e/e1/Goat-kids.jpg\n",
      "Processing https://commons.wikimedia.org/wiki/File:Negev_Bedouin_Goat_Herd,_Negev_Desert,_Israel_(469302457).jpg ...\n",
      "Updated URL: https://upload.wikimedia.org/wikipedia/commons/c/c1/Negev_Bedouin_Goat_Herd%2C_Negev_Desert%2C_Israel_%28469302457%29.jpg\n",
      "Processing https://commons.wikimedia.org/wiki/File:Goat_family.jpg ...\n",
      "Updated URL: https://upload.wikimedia.org/wikipedia/commons/8/86/Goat_family.jpg\n",
      "Processing https://pixabay.com/photos/animal-farming-field-flock-goat-21540/ ...\n",
      "Failed to retrieve https://pixabay.com/photos/animal-farming-field-flock-goat-21540/: 403 Client Error: Forbidden for url: https://pixabay.com/photos/animal-farming-field-flock-goat-21540/\n",
      "No updated URL found for https://pixabay.com/photos/animal-farming-field-flock-goat-21540/\n",
      "Processing https://commons.wikimedia.org/wiki/File:New_community_on_the_WEB-0268_golan.jpg ...\n",
      "Failed to retrieve https://commons.wikimedia.org/wiki/File:New_community_on_the_WEB-0268_golan.jpg: 404 Client Error: Not Found for url: https://commons.wikimedia.org/wiki/File:New_community_on_the_WEB-0268_golan.jpg\n",
      "No updated URL found for https://commons.wikimedia.org/wiki/File:New_community_on_the_WEB-0268_golan.jpg\n",
      "Processing https://commons.wikimedia.org/wiki/File:Gold_chain_recovered_from_the_royal_cemetery_of_Ur,_Iraq_2550-2450_BCE.jpg ...\n",
      "Updated URL: https://upload.wikimedia.org/wikipedia/commons/0/0d/Gold_chain_recovered_from_the_royal_cemetery_of_Ur%2C_Iraq_2550-2450_BCE.jpg\n",
      "Processing https://commons.wikimedia.org/wiki/File:StJohnsAshfield_StainedGlass_GoodShepherd_Portrait.jpg ...\n",
      "Updated URL: https://upload.wikimedia.org/wikipedia/commons/7/76/StJohnsAshfield_StainedGlass_GoodShepherd_Portrait.jpg\n",
      "Processing https://commons.wikimedia.org/wiki/File:WEB-0271_göreme_valley_in_cappadocia.jpg ...\n",
      "Failed to retrieve https://commons.wikimedia.org/wiki/File:WEB-0271_göreme_valley_in_cappadocia.jpg: 404 Client Error: Not Found for url: https://commons.wikimedia.org/wiki/File:WEB-0271_g%C3%B6reme_valley_in_cappadocia.jpg\n",
      "No updated URL found for https://commons.wikimedia.org/wiki/File:WEB-0271_göreme_valley_in_cappadocia.jpg\n",
      "Processing https://upload.wikimedia.org/wikipedia/commons/f/ff/Gortys_ruins.jpg ...\n"
     ]
    },
    {
     "name": "stderr",
     "output_type": "stream",
     "text": [
      "Some characters could not be decoded, and were replaced with REPLACEMENT CHARACTER.\n"
     ]
    },
    {
     "name": "stdout",
     "output_type": "stream",
     "text": [
      "Failed to find updated URL on page https://upload.wikimedia.org/wikipedia/commons/f/ff/Gortys_ruins.jpg\n",
      "No updated URL found for https://upload.wikimedia.org/wikipedia/commons/f/ff/Gortys_ruins.jpg\n",
      "Processing https://commons.wikimedia.org/wiki/File:Vitis_vinifera_a1.jpg ...\n",
      "Updated URL: https://upload.wikimedia.org/wikipedia/commons/d/d8/Vitis_vinifera_a1.jpg\n",
      "Processing https://commons.wikimedia.org/wiki/File:Acrididae_grasshopper-2.jpg ...\n",
      "Updated URL: https://upload.wikimedia.org/wikipedia/commons/e/e9/Acrididae_grasshopper-2.jpg\n",
      "Processing https://pixabay.com/images/id-168860/ ...\n",
      "Failed to retrieve https://pixabay.com/images/id-168860/: 403 Client Error: Forbidden for url: https://pixabay.com/images/id-168860/\n",
      "No updated URL found for https://pixabay.com/images/id-168860/\n",
      "Processing https://commons.wikimedia.org/wiki/File:WEB-0276_grey_heron.jpg ...\n",
      "Failed to retrieve https://commons.wikimedia.org/wiki/File:WEB-0276_grey_heron.jpg: 404 Client Error: Not Found for url: https://commons.wikimedia.org/wiki/File:WEB-0276_grey_heron.jpg\n",
      "No updated URL found for https://commons.wikimedia.org/wiki/File:WEB-0276_grey_heron.jpg\n",
      "Processing https://pixabay.com/images/id-2112219/ ...\n",
      "Failed to retrieve https://pixabay.com/images/id-2112219/: 403 Client Error: Forbidden for url: https://pixabay.com/images/id-2112219/\n",
      "No updated URL found for https://pixabay.com/images/id-2112219/\n",
      "Processing https://commons.wikimedia.org/wiki/File:Gyps_Fulvus_in_flight.jpg ...\n",
      "Updated URL: https://upload.wikimedia.org/wikipedia/commons/d/dc/Gyps_Fulvus_in_flight.jpg\n",
      "Processing https://commons.wikimedia.org/wiki/File:WEB-0279_vulture_takeoff.jpg ...\n",
      "Failed to retrieve https://commons.wikimedia.org/wiki/File:WEB-0279_vulture_takeoff.jpg: 404 Client Error: Not Found for url: https://commons.wikimedia.org/wiki/File:WEB-0279_vulture_takeoff.jpg\n",
      "No updated URL found for https://commons.wikimedia.org/wiki/File:WEB-0279_vulture_takeoff.jpg\n",
      "Processing https://pixabay.com/images/id-546927/ ...\n",
      "Failed to retrieve https://pixabay.com/images/id-546927/: 403 Client Error: Forbidden for url: https://pixabay.com/images/id-546927/\n",
      "No updated URL found for https://pixabay.com/images/id-546927/\n",
      "Processing https://commons.wikimedia.org/wiki/File:WEB-0281_hail_on_ground.jpg ...\n",
      "Failed to retrieve https://commons.wikimedia.org/wiki/File:WEB-0281_hail_on_ground.jpg: 404 Client Error: Not Found for url: https://commons.wikimedia.org/wiki/File:WEB-0281_hail_on_ground.jpg\n",
      "No updated URL found for https://commons.wikimedia.org/wiki/File:WEB-0281_hail_on_ground.jpg\n",
      "Processing https://commons.wikimedia.org/wiki/File:Illustration_Salicornia_europaea0.jpg ...\n",
      "Updated URL: https://upload.wikimedia.org/wikipedia/commons/1/1d/Illustration_Salicornia_europaea0.jpg\n",
      "Processing https://upload.wikimedia.org/wikipedia/commons/7/71/WEB-0283_unleavened_bread.jpg ...\n",
      "Failed to retrieve https://upload.wikimedia.org/wikipedia/commons/7/71/WEB-0283_unleavened_bread.jpg: 404 Client Error: Not Found for url: https://upload.wikimedia.org/wikipedia/commons/7/71/WEB-0283_unleavened_bread.jpg\n",
      "No updated URL found for https://upload.wikimedia.org/wikipedia/commons/7/71/WEB-0283_unleavened_bread.jpg\n",
      "Processing https://commons.wikimedia.org/wiki/File:Feldhase_Schiermonnikoog.JPG ...\n",
      "Updated URL: https://upload.wikimedia.org/wikipedia/commons/4/46/Feldhase_Schiermonnikoog.JPG\n",
      "Processing https://commons.wikimedia.org/wiki/File:01-sfel-08-009a.jpg ...\n",
      "Updated URL: https://upload.wikimedia.org/wikipedia/commons/e/ea/01-sfel-08-009a.jpg\n",
      "Processing https://pixabay.com/images/id-3173993/ ...\n",
      "Failed to retrieve https://pixabay.com/images/id-3173993/: 403 Client Error: Forbidden for url: https://pixabay.com/images/id-3173993/\n",
      "No updated URL found for https://pixabay.com/images/id-3173993/\n",
      "Processing https://commons.wikimedia.org/wiki/File:Buteo_jamaicensis_7.jpg ...\n",
      "Updated URL: https://upload.wikimedia.org/wikipedia/commons/5/57/Buteo_jamaicensis_7.jpg\n",
      "Processing https://commons.wikimedia.org/wiki/File:Early_Hebrew_Conception_of_the_Universe.svg ...\n",
      "Updated URL: https://upload.wikimedia.org/wikipedia/commons/a/a7/Early_Hebrew_Conception_of_the_Universe.svg\n",
      "Processing https://commons.wikimedia.org/wiki/File:WEB-0289_heliopolis.jpg ...\n",
      "Failed to retrieve https://commons.wikimedia.org/wiki/File:WEB-0289_heliopolis.jpg: 404 Client Error: Not Found for url: https://commons.wikimedia.org/wiki/File:WEB-0289_heliopolis.jpg\n",
      "No updated URL found for https://commons.wikimedia.org/wiki/File:WEB-0289_heliopolis.jpg\n",
      "Processing https://commons.wikimedia.org/wiki/File:Hyoscyamus_niger_-_K%C3%B6hler%E2%80%93s_Medizinal-Pflanzen-073.jpg ...\n",
      "Updated URL: https://upload.wikimedia.org/wikipedia/commons/4/4f/Hyoscyamus_niger_-_K%C3%B6hler%E2%80%93s_Medizinal-Pflanzen-073.jpg\n",
      "Processing https://commons.wikimedia.org/wiki/File:Conium_maculatum_-_K%C3%B6hler%E2%80%93s_Medizinal-Pflanzen-191.jpg ...\n",
      "Updated URL: https://upload.wikimedia.org/wikipedia/commons/c/c2/Conium_maculatum_-_K%C3%B6hler%E2%80%93s_Medizinal-Pflanzen-191.jpg\n",
      "Processing https://commons.wikimedia.org/wiki/File:Lawsonia_inermis_Ypey36.jpg ...\n",
      "Updated URL: https://upload.wikimedia.org/wikipedia/commons/1/15/Lawsonia_inermis_Ypey36.jpg\n",
      "Processing https://commons.wikimedia.org/wiki/File:Lawsonia_inermis_0001.jpg ...\n",
      "Updated URL: https://upload.wikimedia.org/wikipedia/commons/4/45/Lawsonia_inermis_0001.jpg\n",
      "Processing https://upload.wikimedia.org/wikipedia/commons/b/b8/Gotland-Bunge_Museum_Hof_17.Jhdt._29.jpg ...\n"
     ]
    },
    {
     "name": "stderr",
     "output_type": "stream",
     "text": [
      "Some characters could not be decoded, and were replaced with REPLACEMENT CHARACTER.\n"
     ]
    },
    {
     "name": "stdout",
     "output_type": "stream",
     "text": [
      "Failed to find updated URL on page https://upload.wikimedia.org/wikipedia/commons/b/b8/Gotland-Bunge_Museum_Hof_17.Jhdt._29.jpg\n",
      "No updated URL found for https://upload.wikimedia.org/wikipedia/commons/b/b8/Gotland-Bunge_Museum_Hof_17.Jhdt._29.jpg\n",
      "Processing https://commons.wikimedia.org/wiki/File:WEB-0295_herring_gull_in_flight.jpg ...\n",
      "Failed to retrieve https://commons.wikimedia.org/wiki/File:WEB-0295_herring_gull_in_flight.jpg: 404 Client Error: Not Found for url: https://commons.wikimedia.org/wiki/File:WEB-0295_herring_gull_in_flight.jpg\n",
      "No updated URL found for https://commons.wikimedia.org/wiki/File:WEB-0295_herring_gull_in_flight.jpg\n",
      "Processing https://pixabay.com/images/id-79296/ ...\n",
      "Failed to retrieve https://pixabay.com/images/id-79296/: 403 Client Error: Forbidden for url: https://pixabay.com/images/id-79296/\n",
      "No updated URL found for https://pixabay.com/images/id-79296/\n",
      "Processing https://commons.wikimedia.org/wiki/File:PSM_V18_D467_Ancient_egyptian_hoe_and_plough.jpg ...\n",
      "Updated URL: https://upload.wikimedia.org/wikipedia/commons/9/9e/PSM_V18_D467_Ancient_egyptian_hoe_and_plough.jpg\n",
      "Processing https://commons.wikimedia.org/wiki/File:Iglesia_de_San_Bartolom%C3%A9_de_Tirajana_-_Gran_Canaria_-_WEB-0298_holy_spirit.jpg ...\n",
      "Failed to retrieve https://commons.wikimedia.org/wiki/File:Iglesia_de_San_Bartolom%C3%A9_de_Tirajana_-_Gran_Canaria_-_WEB-0298_holy_spirit.jpg: 404 Client Error: Not Found for url: https://commons.wikimedia.org/wiki/File:Iglesia_de_San_Bartolom%C3%A9_de_Tirajana_-_Gran_Canaria_-_WEB-0298_holy_spirit.jpg\n",
      "No updated URL found for https://commons.wikimedia.org/wiki/File:Iglesia_de_San_Bartolom%C3%A9_de_Tirajana_-_Gran_Canaria_-_WEB-0298_holy_spirit.jpg\n",
      "Processing https://commons.wikimedia.org/wiki/File:WEB-0299_honeycomb.jpg ...\n",
      "Failed to retrieve https://commons.wikimedia.org/wiki/File:WEB-0299_honeycomb.jpg: 404 Client Error: Not Found for url: https://commons.wikimedia.org/wiki/File:WEB-0299_honeycomb.jpg\n",
      "No updated URL found for https://commons.wikimedia.org/wiki/File:WEB-0299_honeycomb.jpg\n",
      "Processing https://commons.wikimedia.org/wiki/File:Common_Hoopoe_Upupa_epops_by_Dr._Raju_Kasambe_DSCN1570_(1).jpg ...\n",
      "Updated URL: https://upload.wikimedia.org/wikipedia/commons/c/c3/Common_Hoopoe_Upupa_epops_by_Dr._Raju_Kasambe_DSCN1570_%281%29.jpg\n",
      "Processing https://gpophotoeng.gov.il/fotoweb/cmdrequest/rest/Download.fwx/D433-016.jpg?D=C81D6356E1BFEA156E1871B36C2AB119898895604DC1D2ADB599A2E66BBB14531CC84BC505428176FD39000DC9A02C4F4625D291663D8FC24862086D6FB61F3F923164D001A604243B0079AC4D8275D2D8CCD4DD3A8D90CF7F2E606E996FFE4FD5BB9672D746BA0A38F2B96F6AF166E1&ForceSaveDialog=yes ...\n"
     ]
    },
    {
     "name": "stderr",
     "output_type": "stream",
     "text": [
      "Some characters could not be decoded, and were replaced with REPLACEMENT CHARACTER.\n"
     ]
    },
    {
     "name": "stdout",
     "output_type": "stream",
     "text": [
      "Failed to find updated URL on page https://gpophotoeng.gov.il/fotoweb/cmdrequest/rest/Download.fwx/D433-016.jpg?D=C81D6356E1BFEA156E1871B36C2AB119898895604DC1D2ADB599A2E66BBB14531CC84BC505428176FD39000DC9A02C4F4625D291663D8FC24862086D6FB61F3F923164D001A604243B0079AC4D8275D2D8CCD4DD3A8D90CF7F2E606E996FFE4FD5BB9672D746BA0A38F2B96F6AF166E1&ForceSaveDialog=yes\n",
      "No updated URL found for https://gpophotoeng.gov.il/fotoweb/cmdrequest/rest/Download.fwx/D433-016.jpg?D=C81D6356E1BFEA156E1871B36C2AB119898895604DC1D2ADB599A2E66BBB14531CC84BC505428176FD39000DC9A02C4F4625D291663D8FC24862086D6FB61F3F923164D001A604243B0079AC4D8275D2D8CCD4DD3A8D90CF7F2E606E996FFE4FD5BB9672D746BA0A38F2B96F6AF166E1&ForceSaveDialog=yes\n",
      "Processing https://commons.wikimedia.org/wiki/File:Mount_Sinai_Egypt_2.jpg ...\n",
      "Updated URL: https://upload.wikimedia.org/wikipedia/commons/e/e5/Mount_Sinai_Egypt_2.jpg\n",
      "Processing https://commons.wikimedia.org/wiki/File:Mount_Sinai_look_like_south_carolina_map.jpg ...\n",
      "Updated URL: https://upload.wikimedia.org/wikipedia/commons/2/22/Mount_Sinai_look_like_south_carolina_map.jpg\n",
      "Processing https://commons.wikimedia.org/wiki/File:Vespa_orientalis_(Oriental_Hornet)_-_Flickr_-_S._Rae_(2).jpg ...\n",
      "Updated URL: https://upload.wikimedia.org/wikipedia/commons/8/8c/Vespa_orientalis_%28Oriental_Hornet%29_-_Flickr_-_S._Rae_%282%29.jpg\n",
      "Processing https://pixabay.com/images/id-2478302/ ...\n",
      "Failed to retrieve https://pixabay.com/images/id-2478302/: 403 Client Error: Forbidden for url: https://pixabay.com/images/id-2478302/\n",
      "No updated URL found for https://pixabay.com/images/id-2478302/\n",
      "Processing https://commons.wikimedia.org/wiki/File:MENTHA_LONGIFOLIA_-_LLANERA_-_IB-021_(Menta_boscana).JPG ...\n",
      "Updated URL: https://upload.wikimedia.org/wikipedia/commons/f/f6/MENTHA_LONGIFOLIA_-_LLANERA_-_IB-021_%28Menta_boscana%29.JPG\n",
      "Processing https://commons.wikimedia.org/wiki/File:Horseshoe_falls_fw.jpg ...\n",
      "Updated URL: https://upload.wikimedia.org/wikipedia/commons/c/cf/Horseshoe_falls_fw.jpg\n",
      "Processing https://commons.wikimedia.org/wiki/File:Striped_Hyena_5.jpg ...\n",
      "Updated URL: https://upload.wikimedia.org/wikipedia/commons/2/2a/Striped_Hyena_5.jpg\n",
      "Processing https://commons.wikimedia.org/wiki/File:Striped_Hyena_Adult.jpg ...\n",
      "Updated URL: https://upload.wikimedia.org/wikipedia/commons/d/d5/Striped_Hyena_Adult.jpg\n",
      "Processing https://commons.wikimedia.org/wiki/File:Cape_Hyrax_Mt_Kenya_2.JPG ...\n",
      "Updated URL: https://upload.wikimedia.org/wikipedia/commons/8/8a/Cape_Hyrax_Mt_Kenya_2.JPG\n",
      "Processing https://gpophotoeng.gov.il/fotoweb/cmdrequest/rest/Download.fwx/D81-120.jpg?D=C81D6356E1BFEA156E1871B36C2AB119898895604DC1D2ADB599A2E66BBB14531CC84BC505428176FD39000DC9A02C4F4625D291663D8FC24862086D6FB61F3F0567195D5D15248E83E074CF1E4A75938624FC705AB9604F0EEE434B62BA99ECDF47264E570A629CFEAC94E6D4B9CF01&ForceSaveDialog=yes ...\n"
     ]
    },
    {
     "name": "stderr",
     "output_type": "stream",
     "text": [
      "Some characters could not be decoded, and were replaced with REPLACEMENT CHARACTER.\n"
     ]
    },
    {
     "name": "stdout",
     "output_type": "stream",
     "text": [
      "Failed to find updated URL on page https://gpophotoeng.gov.il/fotoweb/cmdrequest/rest/Download.fwx/D81-120.jpg?D=C81D6356E1BFEA156E1871B36C2AB119898895604DC1D2ADB599A2E66BBB14531CC84BC505428176FD39000DC9A02C4F4625D291663D8FC24862086D6FB61F3F0567195D5D15248E83E074CF1E4A75938624FC705AB9604F0EEE434B62BA99ECDF47264E570A629CFEAC94E6D4B9CF01&ForceSaveDialog=yes\n",
      "No updated URL found for https://gpophotoeng.gov.il/fotoweb/cmdrequest/rest/Download.fwx/D81-120.jpg?D=C81D6356E1BFEA156E1871B36C2AB119898895604DC1D2ADB599A2E66BBB14531CC84BC505428176FD39000DC9A02C4F4625D291663D8FC24862086D6FB61F3F0567195D5D15248E83E074CF1E4A75938624FC705AB9604F0EEE434B62BA99ECDF47264E570A629CFEAC94E6D4B9CF01&ForceSaveDialog=yes\n",
      "Processing https://commons.wikimedia.org/wiki/File:Juvenile_Nubian_ibex_in_Mitzpe_Ramon_(40409).jpg ...\n",
      "Updated URL: https://upload.wikimedia.org/wikipedia/commons/6/64/Juvenile_Nubian_ibex_in_Mitzpe_Ramon_%2840409%29.jpg\n",
      "Processing https://pixabay.com/images/id-940896/ ...\n",
      "Failed to retrieve https://pixabay.com/images/id-940896/: 403 Client Error: Forbidden for url: https://pixabay.com/images/id-940896/\n",
      "No updated URL found for https://pixabay.com/images/id-940896/\n",
      "Processing https://commons.wikimedia.org/wiki/File:Iguana-in-Isla-Iguana-Wildlife-Refuge-Panama.jpg ...\n",
      "Updated URL: https://upload.wikimedia.org/wikipedia/commons/8/84/Iguana-in-Isla-Iguana-Wildlife-Refuge-Panama.jpg\n",
      "Processing https://pixabay.com/images/id-1309264/ ...\n",
      "Failed to retrieve https://pixabay.com/images/id-1309264/: 403 Client Error: Forbidden for url: https://pixabay.com/images/id-1309264/\n",
      "No updated URL found for https://pixabay.com/images/id-1309264/\n",
      "Processing https://commons.wikimedia.org/wiki/File:Balawat_gate,_of_Shalmaneser_III,_9th_century_BCE,_British_Museum.jpg ...\n",
      "Updated URL: https://upload.wikimedia.org/wikipedia/commons/9/9d/Balawat_gate%2C_of_Shalmaneser_III%2C_9th_century_BCE%2C_British_Museum.jpg\n",
      "Processing https://commons.wikimedia.org/wiki/File:Lion_Hunt_of_Ashurbanipal_DSCF3552_07.jpg ...\n",
      "Updated URL: https://upload.wikimedia.org/wikipedia/commons/9/9f/Lion_Hunt_of_Ashurbanipal_DSCF3552_07.jpg\n",
      "Processing https://www.loc.gov/resource/matpc.05240/ ...\n",
      "Failed to find updated URL on page https://www.loc.gov/resource/matpc.05240/\n",
      "No updated URL found for https://www.loc.gov/resource/matpc.05240/\n",
      "Processing  ...\n",
      "Failed to retrieve : Invalid URL '': No scheme supplied. Perhaps you meant https://?\n",
      "No updated URL found for \n",
      "Processing  ...\n",
      "Failed to retrieve : Invalid URL '': No scheme supplied. Perhaps you meant https://?\n",
      "No updated URL found for \n",
      "Processing https://commons.wikimedia.org/wiki/File:20.Falz.JPG ...\n",
      "Updated URL: https://upload.wikimedia.org/wikipedia/commons/2/20/20.Falz.JPG\n",
      "Processing https://commons.wikimedia.org/wiki/File:Threshing_of_Fava_(3607973549).jpg ...\n",
      "Updated URL: https://upload.wikimedia.org/wikipedia/commons/b/b0/Threshing_of_Fava_%283607973549%29.jpg\n",
      "Processing https://commons.wikimedia.org/wiki/File:Dreschschlitten_2.jpg ...\n",
      "Updated URL: https://upload.wikimedia.org/wikipedia/commons/c/c4/Dreschschlitten_2.jpg\n",
      "Processing https://commons.wikimedia.org/wiki/File:Dreschschlitten_2.jpg ...\n",
      "Updated URL: https://upload.wikimedia.org/wikipedia/commons/c/c4/Dreschschlitten_2.jpg\n",
      "Processing https://commons.wikimedia.org/wiki/File:Trillo_(Museo_de_Artes_y_Costumbres)_01.jpg ...\n",
      "Updated URL: https://upload.wikimedia.org/wikipedia/commons/0/00/Trillo_%28Museo_de_Artes_y_Costumbres%29_01.jpg\n",
      "Processing https://commons.wikimedia.org/wiki/File:Archie_Thompson,_Wooden_Spade,_1938,_NGA_25899.jpg ...\n",
      "Updated URL: https://upload.wikimedia.org/wikipedia/commons/d/d5/Archie_Thompson%2C_Wooden_Spade%2C_1938%2C_NGA_25899.jpg\n",
      "Processing  ...\n",
      "Failed to retrieve : Invalid URL '': No scheme supplied. Perhaps you meant https://?\n",
      "No updated URL found for \n",
      "Processing  ...\n",
      "Failed to retrieve : Invalid URL '': No scheme supplied. Perhaps you meant https://?\n",
      "No updated URL found for \n",
      "Processing https://commons.wikimedia.org/wiki/File:1257_-_Keramikos_Museum,_Athens_-_Iron_tool_-_Photo_by_Giovanni_Dall%27Orto,_Nov_12_2009.jpg ...\n",
      "Updated URL: https://upload.wikimedia.org/wikipedia/commons/7/75/1257_-_Keramikos_Museum%2C_Athens_-_Iron_tool_-_Photo_by_Giovanni_Dall%27Orto%2C_Nov_12_2009.jpg\n",
      "Processing https://commons.wikimedia.org/wiki/File:Model_adze_MET_17.9.23_0031.jpg ...\n",
      "Updated URL: https://upload.wikimedia.org/wikipedia/commons/2/23/Model_adze_MET_17.9.23_0031.jpg\n",
      "Processing https://commons.wikimedia.org/wiki/File:SAMA_(5).JPG ...\n",
      "Updated URL: https://upload.wikimedia.org/wikipedia/commons/2/2b/SAMA_%285%29.JPG\n",
      "Processing https://commons.wikimedia.org/wiki/File:Croissant_outil.jpg ...\n",
      "Updated URL: https://upload.wikimedia.org/wikipedia/commons/f/f7/Croissant_outil.jpg\n",
      "Processing https://commons.wikimedia.org/wiki/File:Wadi-Kelt-Dok-084312.jpg ...\n",
      "Updated URL: https://upload.wikimedia.org/wikipedia/commons/7/79/Wadi-Kelt-Dok-084312.jpg\n",
      "Processing https://commons.wikimedia.org/wiki/File:Tel_Megiddo_19.jpg ...\n",
      "Updated URL: https://upload.wikimedia.org/wikipedia/commons/6/6c/Tel_Megiddo_19.jpg\n",
      "Processing https://commons.wikimedia.org/wiki/File:The_fisheries_of_the_Adriatic_and_the_fish_thereof_-_a_report_of_the_Austro-Hungarian_sea-fisheries_-_with_a_detailed_description_of_the_marine_fauna_of_the_Adriatic_Gulf_(1883)_(14777932324).jpg (cropped and enhanced) ...\n",
      "Failed to retrieve https://commons.wikimedia.org/wiki/File:The_fisheries_of_the_Adriatic_and_the_fish_thereof_-_a_report_of_the_Austro-Hungarian_sea-fisheries_-_with_a_detailed_description_of_the_marine_fauna_of_the_Adriatic_Gulf_(1883)_(14777932324).jpg (cropped and enhanced): 404 Client Error: Not Found for url: https://commons.wikimedia.org/wiki/File:The_fisheries_of_the_Adriatic_and_the_fish_thereof_-_a_report_of_the_Austro-Hungarian_sea-fisheries_-_with_a_detailed_description_of_the_marine_fauna_of_the_Adriatic_Gulf_(1883)_(14777932324).jpg_(cropped_and_enhanced)\n",
      "No updated URL found for https://commons.wikimedia.org/wiki/File:The_fisheries_of_the_Adriatic_and_the_fish_thereof_-_a_report_of_the_Austro-Hungarian_sea-fisheries_-_with_a_detailed_description_of_the_marine_fauna_of_the_Adriatic_Gulf_(1883)_(14777932324).jpg (cropped and enhanced)\n",
      "Processing https://commons.wikimedia.org/wiki/File:FMIB_36608_Trammel_Net.jpeg ...\n",
      "Updated URL: https://upload.wikimedia.org/wikipedia/commons/6/63/FMIB_36608_Trammel_Net.jpeg\n",
      "Processing https://commons.wikimedia.org/wiki/File:Minoische_Angelhaken_01.jpg ...\n",
      "Updated URL: https://upload.wikimedia.org/wikipedia/commons/4/45/Minoische_Angelhaken_01.jpg\n",
      "Processing https://images.metmuseum.org/CRDImages/eg/original/LC-17_6_131_EGDP024525.jpg ...\n"
     ]
    },
    {
     "name": "stderr",
     "output_type": "stream",
     "text": [
      "Some characters could not be decoded, and were replaced with REPLACEMENT CHARACTER.\n"
     ]
    },
    {
     "name": "stdout",
     "output_type": "stream",
     "text": [
      "Failed to find updated URL on page https://images.metmuseum.org/CRDImages/eg/original/LC-17_6_131_EGDP024525.jpg\n",
      "No updated URL found for https://images.metmuseum.org/CRDImages/eg/original/LC-17_6_131_EGDP024525.jpg\n",
      "Processing https://commons.wikimedia.org/wiki/File:Hunt_of_Ashurbanipal_-_netting_deer.jpg ...\n",
      "Updated URL: https://upload.wikimedia.org/wikipedia/commons/1/19/Hunt_of_Ashurbanipal_-_netting_deer.jpg\n",
      "Processing  ...\n",
      "Failed to retrieve : Invalid URL '': No scheme supplied. Perhaps you meant https://?\n",
      "No updated URL found for \n",
      "Processing https://commons.wikimedia.org/wiki/File:Roman_engraved_finger_ring_(FindID_134803).jpg ...\n",
      "Updated URL: https://upload.wikimedia.org/wikipedia/commons/3/3b/Roman_engraved_finger_ring_%28FindID_134803%29.jpg\n",
      "Processing  ...\n",
      "Failed to retrieve : Invalid URL '': No scheme supplied. Perhaps you meant https://?\n",
      "No updated URL found for \n",
      "Processing  ...\n",
      "Failed to retrieve : Invalid URL '': No scheme supplied. Perhaps you meant https://?\n",
      "No updated URL found for \n",
      "Processing 22.1.629.jpg ...\n",
      "Failed to retrieve 22.1.629.jpg: Invalid URL '22.1.629.jpg': No scheme supplied. Perhaps you meant https://22.1.629.jpg?\n",
      "No updated URL found for 22.1.629.jpg\n",
      "Processing https://commons.wikimedia.org/wiki/File:Noraduz_-_Armenia_(2921901759).jpg ...\n",
      "Updated URL: https://upload.wikimedia.org/wikipedia/commons/9/98/Noraduz_-_Armenia_%282921901759%29.jpg\n",
      "Processing https://commons.wikimedia.org/wiki/File:VerticalLoom.JPG ...\n",
      "Updated URL: https://upload.wikimedia.org/wikipedia/commons/2/2e/VerticalLoom.JPG\n",
      "Processing  ...\n",
      "Failed to retrieve : Invalid URL '': No scheme supplied. Perhaps you meant https://?\n",
      "No updated URL found for \n",
      "Processing http://commons.wikimedia.org/wiki/File:Coptic_Museum_019.jpg ...\n",
      "Updated URL: https://upload.wikimedia.org/wikipedia/commons/5/5c/Coptic_Museum_019.jpg\n",
      "Processing https://commons.wikimedia.org/wiki/File:Bronze_Scale_(Original_Pans),_7th-6th_Century_BC_(43218460111).jpg ...\n",
      "Updated URL: https://upload.wikimedia.org/wikipedia/commons/7/76/Bronze_Scale_%28Original_Pans%29%2C_7th-6th_Century_BC_%2843218460111%29.jpg\n",
      "Processing https://commons.wikimedia.org/wiki/File:Judaean_weights._Israel_Museum,_Jerusalem.JPG ...\n",
      "Updated URL: https://upload.wikimedia.org/wikipedia/commons/6/67/Judaean_weights._Israel_Museum%2C_Jerusalem.JPG\n",
      "Processing https://commons.wikimedia.org/wiki/File:Trier1039.jpg ...\n",
      "Updated URL: https://upload.wikimedia.org/wikipedia/commons/f/fa/Trier1039.jpg\n",
      "Processing https://commons.wikimedia.org/wiki/File:Scribal_Palette_MET_16.10.298a_c_15.3.1112e_i_k_EGDP020550.jpg ...\n",
      "Updated URL: https://upload.wikimedia.org/wikipedia/commons/b/b5/Scribal_Palette_MET_16.10.298a_c_15.3.1112e_i_k_EGDP020550.jpg\n",
      "Processing sf14-2-4a-ds2.jpg ...\n",
      "Failed to retrieve sf14-2-4a-ds2.jpg: Invalid URL 'sf14-2-4a-ds2.jpg': No scheme supplied. Perhaps you meant https://sf14-2-4a-ds2.jpg?\n",
      "No updated URL found for sf14-2-4a-ds2.jpg\n",
      "Processing https://commons.wikimedia.org/wiki/File:Brick_Mold_from_a_Foundation_Deposit_for_Hatshepsut%27s_Temple_MET_22.3.252.front.jpg ...\n",
      "Updated URL: https://upload.wikimedia.org/wikipedia/commons/0/07/Brick_Mold_from_a_Foundation_Deposit_for_Hatshepsut%27s_Temple_MET_22.3.252.front.jpg\n",
      "Processing https://commons.wikimedia.org/wiki/File:Mud_Brick_Wall_at_Ashkelon_(5758799883).jpg ...\n",
      "Updated URL: https://upload.wikimedia.org/wikipedia/commons/3/3f/Mud_Brick_Wall_at_Ashkelon_%285758799883%29.jpg\n",
      "Processing https://commons.wikimedia.org/wiki/File:Le_Jardin_de_N%C3%A9bamoun.jpg ...\n",
      "Updated URL: https://upload.wikimedia.org/wikipedia/commons/4/4b/Le_Jardin_de_N%C3%A9bamoun.jpg\n",
      "Processing https://commons.wikimedia.org/wiki/File:Jerusalem_Western_Wall_stones.jpg ...\n",
      "Updated URL: https://upload.wikimedia.org/wikipedia/commons/0/0c/Jerusalem_Western_Wall_stones.jpg\n",
      "Processing https://images.metmuseum.org/CRDImages/eg/original/DT207673.jpg ...\n"
     ]
    },
    {
     "name": "stderr",
     "output_type": "stream",
     "text": [
      "Some characters could not be decoded, and were replaced with REPLACEMENT CHARACTER.\n"
     ]
    },
    {
     "name": "stdout",
     "output_type": "stream",
     "text": [
      "Failed to find updated URL on page https://images.metmuseum.org/CRDImages/eg/original/DT207673.jpg\n",
      "No updated URL found for https://images.metmuseum.org/CRDImages/eg/original/DT207673.jpg\n",
      "Processing https://upload.wikimedia.org/wikipedia/commons/e/e3/Razor_MET_26.7.837b.front.jpg ...\n"
     ]
    },
    {
     "name": "stderr",
     "output_type": "stream",
     "text": [
      "Some characters could not be decoded, and were replaced with REPLACEMENT CHARACTER.\n"
     ]
    },
    {
     "name": "stdout",
     "output_type": "stream",
     "text": [
      "Failed to find updated URL on page https://upload.wikimedia.org/wikipedia/commons/e/e3/Razor_MET_26.7.837b.front.jpg\n",
      "No updated URL found for https://upload.wikimedia.org/wikipedia/commons/e/e3/Razor_MET_26.7.837b.front.jpg\n",
      "Processing https://commons.wikimedia.org/wiki/File:Darius_In_Parse.JPG ...\n",
      "Updated URL: https://upload.wikimedia.org/wikipedia/commons/a/af/Darius_In_Parse.JPG\n",
      "Processing http://commons.wikimedia.org/wiki/File:British_Museum_Egypt_074.jpg ...\n",
      "Updated URL: https://upload.wikimedia.org/wikipedia/commons/b/bf/British_Museum_Egypt_074.jpg\n",
      "Processing https://commons.wikimedia.org/wiki/File:Bronze_Scepter_Heads,_Possibly_Belonging_to_a_King,_Iron_Age_II,_10th-8th_C._BC_(43217957601).jpg ...\n",
      "Updated URL: https://upload.wikimedia.org/wikipedia/commons/b/b0/Bronze_Scepter_Heads%2C_Possibly_Belonging_to_a_King%2C_Iron_Age_II%2C_10th-8th_C._BC_%2843217957601%29.jpg\n",
      "Processing https://commons.wikimedia.org/wiki/File:Liten_askenasisk_sjofar_5380.jpg ...\n",
      "Updated URL: https://upload.wikimedia.org/wikipedia/commons/1/1b/Liten_askenasisk_sjofar_5380.jpg\n",
      "Processing https://commons.wikimedia.org/wiki/File:PikiWiki_Israel_68854_a_philistine_street_in_revadim.jpg ...\n",
      "Updated URL: https://upload.wikimedia.org/wikipedia/commons/6/61/PikiWiki_Israel_68854_a_philistine_street_in_revadim.jpg\n",
      "Processing https://commons.wikimedia.org/wiki/File:C%2BB-Pottery-Fig9-EarlyGreekPottersKiln.PNG ...\n",
      "Updated URL: https://upload.wikimedia.org/wikipedia/commons/3/37/C%2BB-Pottery-Fig9-EarlyGreekPottersKiln.PNG\n",
      "Processing https://commons.wikimedia.org/wiki/File:La_fonte_du_minerai_de_cuivre_en_%C3%89gypte.jpg ...\n",
      "Updated URL: https://upload.wikimedia.org/wikipedia/commons/7/7c/La_fonte_du_minerai_de_cuivre_en_%C3%89gypte.jpg\n",
      "Processing https://commons.wikimedia.org/wiki/File:Kovac6.JPG ...\n",
      "Updated URL: https://upload.wikimedia.org/wikipedia/commons/1/1e/Kovac6.JPG\n",
      "Processing https://commons.wikimedia.org/wiki/File:2464_-_Museo_archeologico_di_Milano_-_Martello,_da_Tebtynis,_sec._IV-V_d.C._-_Foto_Giovanni_Dall%27Orto,_1_feb_2014.jpg ...\n",
      "Updated URL: https://upload.wikimedia.org/wikipedia/commons/5/5b/2464_-_Museo_archeologico_di_Milano_-_Martello%2C_da_Tebtynis%2C_sec._IV-V_d.C._-_Foto_Giovanni_Dall%27Orto%2C_1_feb_2014.jpg\n",
      "Processing https://commons.wikimedia.org/wiki/File:Nail_%26_Heel_Bone_Only_Known_Evidence_of_Crucifixion,_Jerusalem,_1st_C._AD_(29347803498).jpg ...\n",
      "Updated URL: https://upload.wikimedia.org/wikipedia/commons/9/91/Nail_%26_Heel_Bone_Only_Known_Evidence_of_Crucifixion%2C_Jerusalem%2C_1st_C._AD_%2829347803498%29.jpg\n",
      "Processing https://commons.wikimedia.org/wiki/File:Roman_era_wrought_iron_nail_-_Province_of_Pannonia_II._century_-_Hungary.jpg ...\n",
      "Updated URL: https://upload.wikimedia.org/wikipedia/commons/5/56/Roman_era_wrought_iron_nail_-_Province_of_Pannonia_II._century_-_Hungary.jpg\n",
      "Processing https://commons.wikimedia.org/wiki/File:Al%C3%A8ne_IMG_4295.JPG ...\n",
      "Updated URL: https://upload.wikimedia.org/wikipedia/commons/3/3e/Al%C3%A8ne_IMG_4295.JPG\n",
      "Processing https://commons.wikimedia.org/wiki/File:Maler_der_Grabkammer_der_Bildhauer_Nebamun_und_Ipuki_004.jpg ...\n",
      "Updated URL: https://upload.wikimedia.org/wikipedia/commons/7/74/Maler_der_Grabkammer_der_Bildhauer_Nebamun_und_Ipuki_004.jpg\n",
      "Processing  ...\n",
      "Failed to retrieve : Invalid URL '': No scheme supplied. Perhaps you meant https://?\n",
      "No updated URL found for \n",
      "Processing https://upload.wikimedia.org/wikipedia/commons/2/20/Roman_compasses_from_Cambodunum.jpg ...\n"
     ]
    },
    {
     "name": "stderr",
     "output_type": "stream",
     "text": [
      "Some characters could not be decoded, and were replaced with REPLACEMENT CHARACTER.\n"
     ]
    },
    {
     "name": "stdout",
     "output_type": "stream",
     "text": [
      "Failed to find updated URL on page https://upload.wikimedia.org/wikipedia/commons/2/20/Roman_compasses_from_Cambodunum.jpg\n",
      "No updated URL found for https://upload.wikimedia.org/wikipedia/commons/2/20/Roman_compasses_from_Cambodunum.jpg\n",
      "Processing https://upload.wikimedia.org/wikipedia/commons/0/0f/Fotothek_df_tg_0007184_St%C3%A4ndebuch_%5E_Beruf_%5E_Handwerk_%5E_Papiermacher.jpg ...\n"
     ]
    },
    {
     "name": "stderr",
     "output_type": "stream",
     "text": [
      "Some characters could not be decoded, and were replaced with REPLACEMENT CHARACTER.\n"
     ]
    },
    {
     "name": "stdout",
     "output_type": "stream",
     "text": [
      "Failed to find updated URL on page https://upload.wikimedia.org/wikipedia/commons/0/0f/Fotothek_df_tg_0007184_St%C3%A4ndebuch_%5E_Beruf_%5E_Handwerk_%5E_Papiermacher.jpg\n",
      "No updated URL found for https://upload.wikimedia.org/wikipedia/commons/0/0f/Fotothek_df_tg_0007184_St%C3%A4ndebuch_%5E_Beruf_%5E_Handwerk_%5E_Papiermacher.jpg\n",
      "Processing  ...\n",
      "Failed to retrieve : Invalid URL '': No scheme supplied. Perhaps you meant https://?\n",
      "No updated URL found for \n",
      "Processing 36469964886_f2d0911897_k.jpg; cropped ...\n",
      "Failed to retrieve 36469964886_f2d0911897_k.jpg; cropped: Invalid URL '36469964886_f2d0911897_k.jpg; cropped': No scheme supplied. Perhaps you meant https://36469964886_f2d0911897_k.jpg; cropped?\n",
      "No updated URL found for 36469964886_f2d0911897_k.jpg; cropped\n",
      "Processing https://commons.wikimedia.org/wiki/File:Lachish_Relief,_British_Museum_12.jpg ...\n",
      "Updated URL: https://upload.wikimedia.org/wikipedia/commons/a/a0/Lachish_Relief%2C_British_Museum_12.jpg\n",
      "Processing http://commons.wikimedia.org/wiki/File:Uncrossed_gladius.jpg ...\n",
      "Updated URL: https://upload.wikimedia.org/wikipedia/commons/7/71/Uncrossed_gladius.jpg\n",
      "Processing https://images.metmuseum.org/CRDImages/an/original/DP239582.jpg ...\n"
     ]
    },
    {
     "name": "stderr",
     "output_type": "stream",
     "text": [
      "Some characters could not be decoded, and were replaced with REPLACEMENT CHARACTER.\n"
     ]
    },
    {
     "name": "stdout",
     "output_type": "stream",
     "text": [
      "Failed to parse HTML for https://images.metmuseum.org/CRDImages/an/original/DP239582.jpg\n",
      "No updated URL found for https://images.metmuseum.org/CRDImages/an/original/DP239582.jpg\n",
      "Processing http://commons.wikimedia.org/wiki/File:Spearhead_LACMA_M.84.218.9.jpg ...\n",
      "Updated URL: https://upload.wikimedia.org/wikipedia/commons/0/09/Spearhead_LACMA_M.84.218.9.jpg\n",
      "Processing http://commons.wikimedia.org/wiki/File:Ägyptisches_Museum_Leipzig_305.jpg ...\n",
      "Updated URL: https://upload.wikimedia.org/wikipedia/commons/8/80/%C3%84gyptisches_Museum_Leipzig_305.jpg\n",
      "Processing https://upload.wikimedia.org/wikipedia/commons/d/d1/Small_golden_double_head_minoan_axe_archmus_Heraklion.jpg ...\n"
     ]
    },
    {
     "name": "stderr",
     "output_type": "stream",
     "text": [
      "Some characters could not be decoded, and were replaced with REPLACEMENT CHARACTER.\n"
     ]
    },
    {
     "name": "stdout",
     "output_type": "stream",
     "text": [
      "Failed to find updated URL on page https://upload.wikimedia.org/wikipedia/commons/d/d1/Small_golden_double_head_minoan_axe_archmus_Heraklion.jpg\n",
      "No updated URL found for https://upload.wikimedia.org/wikipedia/commons/d/d1/Small_golden_double_head_minoan_axe_archmus_Heraklion.jpg\n",
      "Processing https://commons.wikimedia.org/wiki/File:Lion_Hunt_of_AshurbanipalDSCF3679_07.jpg ...\n",
      "Updated URL: https://upload.wikimedia.org/wikipedia/commons/d/db/Lion_Hunt_of_AshurbanipalDSCF3679_07.jpg\n",
      "Processing https://www.flickr.com/photos/101561334@N08/36119868110/in/album-72157686962575866/ ...\n",
      "Failed to find updated URL on page https://www.flickr.com/photos/101561334@N08/36119868110/in/album-72157686962575866/\n",
      "No updated URL found for https://www.flickr.com/photos/101561334@N08/36119868110/in/album-72157686962575866/\n",
      "Processing https://upload.wikimedia.org/wikipedia/commons/9/93/Roman_legion_at_attack.jpg ...\n"
     ]
    },
    {
     "name": "stderr",
     "output_type": "stream",
     "text": [
      "Some characters could not be decoded, and were replaced with REPLACEMENT CHARACTER.\n"
     ]
    },
    {
     "name": "stdout",
     "output_type": "stream",
     "text": [
      "Failed to find updated URL on page https://upload.wikimedia.org/wikipedia/commons/9/93/Roman_legion_at_attack.jpg\n",
      "No updated URL found for https://upload.wikimedia.org/wikipedia/commons/9/93/Roman_legion_at_attack.jpg\n",
      "Processing https://upload.wikimedia.org/wikipedia/commons/5/53/Scale_mail.jpg ...\n"
     ]
    },
    {
     "name": "stderr",
     "output_type": "stream",
     "text": [
      "Some characters could not be decoded, and were replaced with REPLACEMENT CHARACTER.\n"
     ]
    },
    {
     "name": "stdout",
     "output_type": "stream",
     "text": [
      "Failed to find updated URL on page https://upload.wikimedia.org/wikipedia/commons/5/53/Scale_mail.jpg\n",
      "No updated URL found for https://upload.wikimedia.org/wikipedia/commons/5/53/Scale_mail.jpg\n",
      "Processing https://upload.wikimedia.org/wikipedia/commons/8/89/Assyrian_king_hunting_lions.png ...\n"
     ]
    },
    {
     "name": "stderr",
     "output_type": "stream",
     "text": [
      "Some characters could not be decoded, and were replaced with REPLACEMENT CHARACTER.\n"
     ]
    },
    {
     "name": "stdout",
     "output_type": "stream",
     "text": [
      "Failed to find updated URL on page https://upload.wikimedia.org/wikipedia/commons/8/89/Assyrian_king_hunting_lions.png\n",
      "No updated URL found for https://upload.wikimedia.org/wikipedia/commons/8/89/Assyrian_king_hunting_lions.png\n",
      "Processing https://commons.wikimedia.org/wiki/File:Capture_of_Astartu-1.jpg ...\n",
      "Updated URL: https://upload.wikimedia.org/wikipedia/commons/3/3a/Capture_of_Astartu-1.jpg\n",
      "Processing https://upload.wikimedia.org/wikipedia/commons/8/87/The_charge_of_the_Persian_scythed_chariots_at_the_battle_of_Gaugamela_by_Andre_Castaigne_(1898-1899).jpg ...\n"
     ]
    },
    {
     "name": "stderr",
     "output_type": "stream",
     "text": [
      "Some characters could not be decoded, and were replaced with REPLACEMENT CHARACTER.\n"
     ]
    },
    {
     "name": "stdout",
     "output_type": "stream",
     "text": [
      "Failed to find updated URL on page https://upload.wikimedia.org/wikipedia/commons/8/87/The_charge_of_the_Persian_scythed_chariots_at_the_battle_of_Gaugamela_by_Andre_Castaigne_(1898-1899).jpg\n",
      "No updated URL found for https://upload.wikimedia.org/wikipedia/commons/8/87/The_charge_of_the_Persian_scythed_chariots_at_the_battle_of_Gaugamela_by_Andre_Castaigne_(1898-1899).jpg\n",
      "Processing https://upload.wikimedia.org/wikipedia/commons/8/89/Eleazars_exploit.jpg ...\n"
     ]
    },
    {
     "name": "stderr",
     "output_type": "stream",
     "text": [
      "Some characters could not be decoded, and were replaced with REPLACEMENT CHARACTER.\n"
     ]
    },
    {
     "name": "stdout",
     "output_type": "stream",
     "text": [
      "Failed to find updated URL on page https://upload.wikimedia.org/wikipedia/commons/8/89/Eleazars_exploit.jpg\n",
      "No updated URL found for https://upload.wikimedia.org/wikipedia/commons/8/89/Eleazars_exploit.jpg\n",
      "Processing  ...\n",
      "Failed to retrieve : Invalid URL '': No scheme supplied. Perhaps you meant https://?\n",
      "No updated URL found for \n",
      "Processing https://upload.wikimedia.org/wikipedia/commons/0/05/Arch_of_Titus_Menorah_22.jpg ...\n"
     ]
    },
    {
     "name": "stderr",
     "output_type": "stream",
     "text": [
      "Some characters could not be decoded, and were replaced with REPLACEMENT CHARACTER.\n"
     ]
    },
    {
     "name": "stdout",
     "output_type": "stream",
     "text": [
      "Failed to find updated URL on page https://upload.wikimedia.org/wikipedia/commons/0/05/Arch_of_Titus_Menorah_22.jpg\n",
      "No updated URL found for https://upload.wikimedia.org/wikipedia/commons/0/05/Arch_of_Titus_Menorah_22.jpg\n",
      "Processing https://upload.wikimedia.org/wikipedia/commons/c/c0/Assyrian_siege.jpg ...\n"
     ]
    },
    {
     "name": "stderr",
     "output_type": "stream",
     "text": [
      "Some characters could not be decoded, and were replaced with REPLACEMENT CHARACTER.\n"
     ]
    },
    {
     "name": "stdout",
     "output_type": "stream",
     "text": [
      "Failed to find updated URL on page https://upload.wikimedia.org/wikipedia/commons/c/c0/Assyrian_siege.jpg\n",
      "No updated URL found for https://upload.wikimedia.org/wikipedia/commons/c/c0/Assyrian_siege.jpg\n",
      "Processing https://commons.wikimedia.org/wiki/File:Aerial_view_of_Masada_(Israel)_01.jpg ...\n",
      "Updated URL: https://upload.wikimedia.org/wikipedia/commons/b/b6/Aerial_view_of_Masada_%28Israel%29_01.jpg\n",
      "Processing http://commons.wikimedia.org/wiki/File:Assyrian_Attack_on_a_Town.jpg ...\n",
      "Updated URL: https://upload.wikimedia.org/wikipedia/commons/7/72/Assyrian_Attack_on_a_Town.jpg\n",
      "Processing https://gpophotoeng.gov.il/fotoweb/cmdrequest/rest/Download.fwx/D518-031.jpg?D=C81D6356E1BFEA156E1871B36C2AB119898895604DC1D2ADB599A2E66BBB14531CC84BC505428176FD39000DC9A02C4F4625D291663D8FC24862086D6FB61F3FAC1F9601A6D73FFB5B01A46E311D3E10D8CCD4DD3A8D90CF7F2E606E996FFE4FD5BB9672D746BA0A38F2B96F6AF166E1&ForceSaveDialog=yes ...\n"
     ]
    },
    {
     "name": "stderr",
     "output_type": "stream",
     "text": [
      "Some characters could not be decoded, and were replaced with REPLACEMENT CHARACTER.\n"
     ]
    },
    {
     "name": "stdout",
     "output_type": "stream",
     "text": [
      "Failed to find updated URL on page https://gpophotoeng.gov.il/fotoweb/cmdrequest/rest/Download.fwx/D518-031.jpg?D=C81D6356E1BFEA156E1871B36C2AB119898895604DC1D2ADB599A2E66BBB14531CC84BC505428176FD39000DC9A02C4F4625D291663D8FC24862086D6FB61F3FAC1F9601A6D73FFB5B01A46E311D3E10D8CCD4DD3A8D90CF7F2E606E996FFE4FD5BB9672D746BA0A38F2B96F6AF166E1&ForceSaveDialog=yes\n",
      "No updated URL found for https://gpophotoeng.gov.il/fotoweb/cmdrequest/rest/Download.fwx/D518-031.jpg?D=C81D6356E1BFEA156E1871B36C2AB119898895604DC1D2ADB599A2E66BBB14531CC84BC505428176FD39000DC9A02C4F4625D291663D8FC24862086D6FB61F3FAC1F9601A6D73FFB5B01A46E311D3E10D8CCD4DD3A8D90CF7F2E606E996FFE4FD5BB9672D746BA0A38F2B96F6AF166E1&ForceSaveDialog=yes\n",
      "Processing https://commons.wikimedia.org/wiki/File:Replica_catapult.jpg ...\n",
      "Updated URL: https://upload.wikimedia.org/wikipedia/commons/c/cb/Replica_catapult.jpg\n",
      "Processing https://commons.wikimedia.org/wiki/File:Assyrian_battering_ram.jpg ...\n",
      "Updated URL: https://upload.wikimedia.org/wikipedia/commons/8/88/Assyrian_battering_ram.jpg\n",
      "Processing https://upload.wikimedia.org/wikipedia/commons/6/6e/2008-08_archeon_testudo.JPG ...\n"
     ]
    },
    {
     "name": "stderr",
     "output_type": "stream",
     "text": [
      "Some characters could not be decoded, and were replaced with REPLACEMENT CHARACTER.\n"
     ]
    },
    {
     "name": "stdout",
     "output_type": "stream",
     "text": [
      "Failed to find updated URL on page https://upload.wikimedia.org/wikipedia/commons/6/6e/2008-08_archeon_testudo.JPG\n",
      "No updated URL found for https://upload.wikimedia.org/wikipedia/commons/6/6e/2008-08_archeon_testudo.JPG\n",
      "Processing https://commons.wikimedia.org/wiki/File:Egyptian_Lock_Mechanism_Locked.png; https://commons.wikimedia.org/wiki/File:Egyptian_Lock_Mechanism_Unlocked.png ...\n",
      "Failed to retrieve https://commons.wikimedia.org/wiki/File:Egyptian_Lock_Mechanism_Locked.png; https://commons.wikimedia.org/wiki/File:Egyptian_Lock_Mechanism_Unlocked.png: 404 Client Error: Not Found for url: https://commons.wikimedia.org/wiki/File:Egyptian_Lock_Mechanism_Locked.png;_https://commons.wikimedia.org/wiki/File:Egyptian_Lock_Mechanism_Unlocked.png\n",
      "No updated URL found for https://commons.wikimedia.org/wiki/File:Egyptian_Lock_Mechanism_Locked.png; https://commons.wikimedia.org/wiki/File:Egyptian_Lock_Mechanism_Unlocked.png\n",
      "Processing https://commons.wikimedia.org/wiki/File:R%C3%B6mischer_Schl%C3%BCssel.JPG ...\n",
      "Updated URL: https://upload.wikimedia.org/wikipedia/commons/d/df/R%C3%B6mischer_Schl%C3%BCssel.JPG\n",
      "Processing https://commons.wikimedia.org/wiki/File:Limeseum_-_Schl%C3%BCssel_1.jpg ...\n",
      "Updated URL: https://upload.wikimedia.org/wikipedia/commons/c/cb/Limeseum_-_Schl%C3%BCssel_1.jpg\n",
      "Processing https://commons.wikimedia.org/wiki/File:Santorin_(GR),_Akrotiri_--_2017_--_2976.jpg ...\n",
      "Updated URL: https://upload.wikimedia.org/wikipedia/commons/8/8a/Santorin_%28GR%29%2C_Akrotiri_--_2017_--_2976.jpg\n",
      "Processing https://upload.wikimedia.org/wikipedia/commons/b/ba/%22Clay_tile_roof_close_up_shot.jpg ...\n"
     ]
    },
    {
     "name": "stderr",
     "output_type": "stream",
     "text": [
      "Some characters could not be decoded, and were replaced with REPLACEMENT CHARACTER.\n"
     ]
    },
    {
     "name": "stdout",
     "output_type": "stream",
     "text": [
      "Failed to find updated URL on page https://upload.wikimedia.org/wikipedia/commons/b/ba/%22Clay_tile_roof_close_up_shot.jpg\n",
      "No updated URL found for https://upload.wikimedia.org/wikipedia/commons/b/ba/%22Clay_tile_roof_close_up_shot.jpg\n",
      "Processing https://commons.wikimedia.org/wiki/File:KacrinVillage_(10).JPG ...\n",
      "Updated URL: https://upload.wikimedia.org/wikipedia/commons/0/0a/KacrinVillage_%2810%29.JPG\n",
      "Processing https://upload.wikimedia.org/wikipedia/commons/b/bb/MiceneTesoroAtreoMuraDromos.jpg ...\n"
     ]
    },
    {
     "name": "stderr",
     "output_type": "stream",
     "text": [
      "Some characters could not be decoded, and were replaced with REPLACEMENT CHARACTER.\n"
     ]
    },
    {
     "name": "stdout",
     "output_type": "stream",
     "text": [
      "Failed to find updated URL on page https://upload.wikimedia.org/wikipedia/commons/b/bb/MiceneTesoroAtreoMuraDromos.jpg\n",
      "No updated URL found for https://upload.wikimedia.org/wikipedia/commons/b/bb/MiceneTesoroAtreoMuraDromos.jpg\n",
      "Processing https://commons.wikimedia.org/wiki/File:Bedouin_Tent,_Syrian_Desert_(5079932783).jpg ...\n",
      "Updated URL: https://upload.wikimedia.org/wikipedia/commons/4/49/Bedouin_Tent%2C_Syrian_Desert_%285079932783%29.jpg\n",
      "Processing  ...\n",
      "Failed to retrieve : Invalid URL '': No scheme supplied. Perhaps you meant https://?\n",
      "No updated URL found for \n",
      "Processing  ...\n",
      "Failed to retrieve : Invalid URL '': No scheme supplied. Perhaps you meant https://?\n",
      "No updated URL found for \n",
      "Processing https://upload.wikimedia.org/wikipedia/commons/5/54/Temple_of_Hephaestus_in_Athens_03.JPG ...\n"
     ]
    },
    {
     "name": "stderr",
     "output_type": "stream",
     "text": [
      "Some characters could not be decoded, and were replaced with REPLACEMENT CHARACTER.\n"
     ]
    },
    {
     "name": "stdout",
     "output_type": "stream",
     "text": [
      "Failed to find updated URL on page https://upload.wikimedia.org/wikipedia/commons/5/54/Temple_of_Hephaestus_in_Athens_03.JPG\n",
      "No updated URL found for https://upload.wikimedia.org/wikipedia/commons/5/54/Temple_of_Hephaestus_in_Athens_03.JPG\n",
      "Processing https://upload.wikimedia.org/wikipedia/commons/e/ee/Temple_of_Bel,_Palmyra,_Syria_-_3.jpg ...\n"
     ]
    },
    {
     "name": "stderr",
     "output_type": "stream",
     "text": [
      "Some characters could not be decoded, and were replaced with REPLACEMENT CHARACTER.\n",
      "/opt/homebrew/lib/python3.11/site-packages/bs4/builder/__init__.py:545: XMLParsedAsHTMLWarning: It looks like you're parsing an XML document using an HTML parser. If this really is an HTML document (maybe it's XHTML?), you can ignore or filter this warning. If it's XML, you should know that using an XML parser will be more reliable. To parse this document as XML, make sure you have the lxml package installed, and pass the keyword argument `features=\"xml\"` into the BeautifulSoup constructor.\n",
      "  warnings.warn(\n"
     ]
    },
    {
     "name": "stdout",
     "output_type": "stream",
     "text": [
      "Failed to find updated URL on page https://upload.wikimedia.org/wikipedia/commons/e/ee/Temple_of_Bel,_Palmyra,_Syria_-_3.jpg\n",
      "No updated URL found for https://upload.wikimedia.org/wikipedia/commons/e/ee/Temple_of_Bel,_Palmyra,_Syria_-_3.jpg\n",
      "Processing https://commons.wikimedia.org/wiki/File:Olive_fields_in_as-Samu_IMG_3361.jpg ...\n",
      "Updated URL: https://upload.wikimedia.org/wikipedia/commons/0/04/Olive_fields_in_as-Samu_IMG_3361.jpg\n",
      "Processing https://commons.wikimedia.org/wiki/File:Gezer_261215_boundary_stone_5_03.jpg ...\n",
      "Updated URL: https://upload.wikimedia.org/wikipedia/commons/1/17/Gezer_261215_boundary_stone_5_03.jpg\n",
      "Processing https://upload.wikimedia.org/wikipedia/commons/1/19/PikiWiki_Israel_14994_Qumran_plastered_water_cistern.JPG ...\n"
     ]
    },
    {
     "name": "stderr",
     "output_type": "stream",
     "text": [
      "Some characters could not be decoded, and were replaced with REPLACEMENT CHARACTER.\n"
     ]
    },
    {
     "name": "stdout",
     "output_type": "stream",
     "text": [
      "Failed to find updated URL on page https://upload.wikimedia.org/wikipedia/commons/1/19/PikiWiki_Israel_14994_Qumran_plastered_water_cistern.JPG\n",
      "No updated URL found for https://upload.wikimedia.org/wikipedia/commons/1/19/PikiWiki_Israel_14994_Qumran_plastered_water_cistern.JPG\n",
      "Processing https://commons.wikimedia.org/wiki/File:3306_%D7%91%D7%A8%D7%99%D7%9B%D7%AA_%D7%A9%D7%9C%D7%9E%D7%94_%D7%94%D7%AA%D7%97%D7%AA%D7%95%D7%A0%D7%94.JPG ...\n",
      "Updated URL: https://upload.wikimedia.org/wikipedia/commons/d/d9/3306_%D7%91%D7%A8%D7%99%D7%9B%D7%AA_%D7%A9%D7%9C%D7%9E%D7%94_%D7%94%D7%AA%D7%97%D7%AA%D7%95%D7%A0%D7%94.JPG\n",
      "Processing https://commons.wikimedia.org/wiki/File:Shaft_of_the_Water_System_at_Megiddo_(20098471033).jpg ...\n",
      "Updated URL: https://upload.wikimedia.org/wikipedia/commons/c/ca/Shaft_of_the_Water_System_at_Megiddo_%2820098471033%29.jpg\n",
      "Processing https://upload.wikimedia.org/wikipedia/commons/2/22/Ancient_Roman_road_of_Tall_Aqibrin.jpg ...\n"
     ]
    },
    {
     "name": "stderr",
     "output_type": "stream",
     "text": [
      "Some characters could not be decoded, and were replaced with REPLACEMENT CHARACTER.\n"
     ]
    },
    {
     "name": "stdout",
     "output_type": "stream",
     "text": [
      "Failed to find updated URL on page https://upload.wikimedia.org/wikipedia/commons/2/22/Ancient_Roman_road_of_Tall_Aqibrin.jpg\n",
      "No updated URL found for https://upload.wikimedia.org/wikipedia/commons/2/22/Ancient_Roman_road_of_Tall_Aqibrin.jpg\n",
      "Processing https://gpophotoeng.gov.il/fotoweb/cmdrequest/rest/Download.fwx/D515-025.jpg?D=C81D6356E1BFEA156E1871B36C2AB119898895604DC1D2ADB599A2E66BBB14531CC84BC505428176FD39000DC9A02C4F4625D291663D8FC24862086D6FB61F3FAC1F9601A6D73FFBF2E31DCAAE1CBB05D8CCD4DD3A8D90CF7F2E606E996FFE4FD5BB9672D746BA0A38F2B96F6AF166E1&ForceSaveDialog=yes ...\n"
     ]
    },
    {
     "name": "stderr",
     "output_type": "stream",
     "text": [
      "Some characters could not be decoded, and were replaced with REPLACEMENT CHARACTER.\n"
     ]
    },
    {
     "name": "stdout",
     "output_type": "stream",
     "text": [
      "Failed to find updated URL on page https://gpophotoeng.gov.il/fotoweb/cmdrequest/rest/Download.fwx/D515-025.jpg?D=C81D6356E1BFEA156E1871B36C2AB119898895604DC1D2ADB599A2E66BBB14531CC84BC505428176FD39000DC9A02C4F4625D291663D8FC24862086D6FB61F3FAC1F9601A6D73FFBF2E31DCAAE1CBB05D8CCD4DD3A8D90CF7F2E606E996FFE4FD5BB9672D746BA0A38F2B96F6AF166E1&ForceSaveDialog=yes\n",
      "No updated URL found for https://gpophotoeng.gov.il/fotoweb/cmdrequest/rest/Download.fwx/D515-025.jpg?D=C81D6356E1BFEA156E1871B36C2AB119898895604DC1D2ADB599A2E66BBB14531CC84BC505428176FD39000DC9A02C4F4625D291663D8FC24862086D6FB61F3FAC1F9601A6D73FFBF2E31DCAAE1CBB05D8CCD4DD3A8D90CF7F2E606E996FFE4FD5BB9672D746BA0A38F2B96F6AF166E1&ForceSaveDialog=yes\n",
      "Processing https://upload.wikimedia.org/wikipedia/commons/4/40/Tel_Arad.JPG ...\n"
     ]
    },
    {
     "name": "stderr",
     "output_type": "stream",
     "text": [
      "Some characters could not be decoded, and were replaced with REPLACEMENT CHARACTER.\n"
     ]
    },
    {
     "name": "stdout",
     "output_type": "stream",
     "text": [
      "Failed to find updated URL on page https://upload.wikimedia.org/wikipedia/commons/4/40/Tel_Arad.JPG\n",
      "No updated URL found for https://upload.wikimedia.org/wikipedia/commons/4/40/Tel_Arad.JPG\n",
      "Processing https://gpophotoeng.gov.il/fotoweb/cmdrequest/rest/Download.fwx/D187-061.jpg?D=C81D6356E1BFEA156E1871B36C2AB119898895604DC1D2ADB599A2E66BBB14531CC84BC505428176FD39000DC9A02C4F4625D291663D8FC24862086D6FB61F3F8E994C660459D190296E47EC06CCF967D8CCD4DD3A8D90CF7F2E606E996FFE4FD5BB9672D746BA0A38F2B96F6AF166E1&ForceSaveDialog=yes ...\n"
     ]
    },
    {
     "name": "stderr",
     "output_type": "stream",
     "text": [
      "Some characters could not be decoded, and were replaced with REPLACEMENT CHARACTER.\n"
     ]
    },
    {
     "name": "stdout",
     "output_type": "stream",
     "text": [
      "Failed to find updated URL on page https://gpophotoeng.gov.il/fotoweb/cmdrequest/rest/Download.fwx/D187-061.jpg?D=C81D6356E1BFEA156E1871B36C2AB119898895604DC1D2ADB599A2E66BBB14531CC84BC505428176FD39000DC9A02C4F4625D291663D8FC24862086D6FB61F3F8E994C660459D190296E47EC06CCF967D8CCD4DD3A8D90CF7F2E606E996FFE4FD5BB9672D746BA0A38F2B96F6AF166E1&ForceSaveDialog=yes\n",
      "No updated URL found for https://gpophotoeng.gov.il/fotoweb/cmdrequest/rest/Download.fwx/D187-061.jpg?D=C81D6356E1BFEA156E1871B36C2AB119898895604DC1D2ADB599A2E66BBB14531CC84BC505428176FD39000DC9A02C4F4625D291663D8FC24862086D6FB61F3F8E994C660459D190296E47EC06CCF967D8CCD4DD3A8D90CF7F2E606E996FFE4FD5BB9672D746BA0A38F2B96F6AF166E1&ForceSaveDialog=yes\n",
      "Processing https://commons.wikimedia.org/wiki/File:Tel_Bet_She%27an_IL_WV.JPG ...\n",
      "Updated URL: https://upload.wikimedia.org/wikipedia/commons/a/ac/Tel_Bet_She%27an_IL_WV.JPG\n",
      "Processing https://commons.wikimedia.org/wiki/File:Etemenanki_Berlin.jpg ...\n",
      "Updated URL: https://upload.wikimedia.org/wikipedia/commons/5/5c/Etemenanki_Berlin.jpg\n",
      "Processing  ...\n",
      "Failed to retrieve : Invalid URL '': No scheme supplied. Perhaps you meant https://?\n",
      "No updated URL found for \n",
      "Processing https://commons.wikimedia.org/wiki/File:Stiftshuette_Modell_Timnapark.jpg ...\n",
      "Updated URL: https://upload.wikimedia.org/wikipedia/commons/1/18/Stiftshuette_Modell_Timnapark.jpg\n",
      "Processing https://commons.wikimedia.org/wiki/File:Timna-park-tabernacle-c-vorhof.jpg ...\n",
      "Updated URL: https://upload.wikimedia.org/wikipedia/commons/8/84/Timna-park-tabernacle-c-vorhof.jpg\n",
      "Processing https://commons.wikimedia.org/wiki/File:Timna-park-tabernacle-wand-heiligtum.jpg ...\n",
      "Updated URL: https://upload.wikimedia.org/wikipedia/commons/d/db/Timna-park-tabernacle-wand-heiligtum.jpg\n",
      "Processing https://commons.wikimedia.org/wiki/File:Timna_Tabernacle_1.jpg ...\n",
      "Updated URL: https://upload.wikimedia.org/wikipedia/commons/4/4a/Timna_Tabernacle_1.jpg\n",
      "Processing  ...\n",
      "Failed to retrieve : Invalid URL '': No scheme supplied. Perhaps you meant https://?\n",
      "No updated URL found for \n",
      "Processing https://upload.wikimedia.org/wikipedia/commons/9/91/Dugong_Marsa_Alam.jpg ...\n"
     ]
    },
    {
     "name": "stderr",
     "output_type": "stream",
     "text": [
      "Some characters could not be decoded, and were replaced with REPLACEMENT CHARACTER.\n"
     ]
    },
    {
     "name": "stdout",
     "output_type": "stream",
     "text": [
      "Failed to find updated URL on page https://upload.wikimedia.org/wikipedia/commons/9/91/Dugong_Marsa_Alam.jpg\n",
      "No updated URL found for https://upload.wikimedia.org/wikipedia/commons/9/91/Dugong_Marsa_Alam.jpg\n",
      "Processing https://commons.wikimedia.org/wiki/File:Timna-park-tabernacle-wand-heiligtum.jpg; cropped ...\n",
      "Failed to retrieve https://commons.wikimedia.org/wiki/File:Timna-park-tabernacle-wand-heiligtum.jpg; cropped: 404 Client Error: Not Found for url: https://commons.wikimedia.org/wiki/File:Timna-park-tabernacle-wand-heiligtum.jpg;_cropped\n",
      "No updated URL found for https://commons.wikimedia.org/wiki/File:Timna-park-tabernacle-wand-heiligtum.jpg; cropped\n",
      "Processing https://commons.wikimedia.org/wiki/File:Sukkah_on_bed.JPG ...\n",
      "Updated URL: https://upload.wikimedia.org/wikipedia/commons/2/21/Sukkah_on_bed.JPG\n",
      "Processing https://commons.wikimedia.org/wiki/File:Israelite_house_mockup,_Iron_Age,_1200-586_BC_-_Harvard_Semitic_Museum_-_Cambridge,_MA_-_DSC06022.jpg ...\n",
      "Updated URL: https://upload.wikimedia.org/wikipedia/commons/3/38/Israelite_house_mockup%2C_Iron_Age%2C_1200-586_BC_-_Harvard_Semitic_Museum_-_Cambridge%2C_MA_-_DSC06022.jpg\n",
      "Processing https://commons.wikimedia.org/wiki/File:Second_Temple.jpg ...\n",
      "Updated URL: https://upload.wikimedia.org/wikipedia/commons/c/cd/Second_Temple.jpg\n",
      "Processing https://commons.wikimedia.org/wiki/File:Cardo_maximus_in_Petra.JPG; cropped ...\n",
      "Failed to retrieve https://commons.wikimedia.org/wiki/File:Cardo_maximus_in_Petra.JPG; cropped: 404 Client Error: Not Found for url: https://commons.wikimedia.org/wiki/File:Cardo_maximus_in_Petra.JPG;_cropped\n",
      "No updated URL found for https://commons.wikimedia.org/wiki/File:Cardo_maximus_in_Petra.JPG; cropped\n",
      "Processing https://commons.wikimedia.org/wiki/File:Aaron_Burden_2016-03-21_(Unsplash).jpg ...\n",
      "Updated URL: https://upload.wikimedia.org/wikipedia/commons/0/0e/Aaron_Burden_2016-03-21_%28Unsplash%29.jpg\n",
      "Processing https://upload.wikimedia.org/wikipedia/commons/8/8d/Ankle_manacle_for_slave,_Roman,_2nd_to_3rd_century_AD_-_Landesmuseum_W%C3%BCrttemberg_-_Stuttgart,_Germany_-_DSC02770.jpg ...\n"
     ]
    },
    {
     "name": "stderr",
     "output_type": "stream",
     "text": [
      "Some characters could not be decoded, and were replaced with REPLACEMENT CHARACTER.\n"
     ]
    },
    {
     "name": "stdout",
     "output_type": "stream",
     "text": [
      "Failed to find updated URL on page https://upload.wikimedia.org/wikipedia/commons/8/8d/Ankle_manacle_for_slave,_Roman,_2nd_to_3rd_century_AD_-_Landesmuseum_W%C3%BCrttemberg_-_Stuttgart,_Germany_-_DSC02770.jpg\n",
      "No updated URL found for https://upload.wikimedia.org/wikipedia/commons/8/8d/Ankle_manacle_for_slave,_Roman,_2nd_to_3rd_century_AD_-_Landesmuseum_W%C3%BCrttemberg_-_Stuttgart,_Germany_-_DSC02770.jpg\n",
      "Processing https://commons.wikimedia.org/wiki/File:Arca_da_Alian%C3%A7a_de_Deus_(3815219934).jpg ...\n",
      "Updated URL: https://upload.wikimedia.org/wikipedia/commons/c/c6/Arca_da_Alian%C3%A7a_de_Deus_%283815219934%29.jpg\n",
      "Processing https://commons.wikimedia.org/wiki/File:Arca_da_Alian%C3%A7a_de_Deus_(3815219934).jpg ...\n",
      "Updated URL: https://upload.wikimedia.org/wikipedia/commons/c/c6/Arca_da_Alian%C3%A7a_de_Deus_%283815219934%29.jpg\n",
      "Processing https://commons.wikimedia.org/wiki/File:Placchetta_d%27avorio_da_nimrud,_sfinge,_VIII-VII_secolo_ac.jpg ...\n",
      "Updated URL: https://upload.wikimedia.org/wikipedia/commons/f/fe/Placchetta_d%27avorio_da_nimrud%2C_sfinge%2C_VIII-VII_secolo_ac.jpg\n",
      "Processing https://commons.wikimedia.org/wiki/File:Limestone_Incense_Altar,_Megiddo,_8th_Century_BC_(42500035834).jpg ...\n",
      "Updated URL: https://upload.wikimedia.org/wikipedia/commons/a/af/Limestone_Incense_Altar%2C_Megiddo%2C_8th_Century_BC_%2842500035834%29.jpg\n",
      "Processing https://commons.wikimedia.org/wiki/File:Timna_Tabernacle_Altar_of_Burnt_Offerings.jpg ...\n",
      "Updated URL: https://upload.wikimedia.org/wikipedia/commons/6/60/Timna_Tabernacle_Altar_of_Burnt_Offerings.jpg\n",
      "Processing  ...\n",
      "Failed to retrieve : Invalid URL '': No scheme supplied. Perhaps you meant https://?\n",
      "No updated URL found for \n",
      "Processing https://commons.wikimedia.org/wiki/File:Horned_Altar_(28047304039).jpg; cropped ...\n",
      "Failed to retrieve https://commons.wikimedia.org/wiki/File:Horned_Altar_(28047304039).jpg; cropped: 404 Client Error: Not Found for url: https://commons.wikimedia.org/wiki/File:Horned_Altar_(28047304039).jpg;_cropped\n",
      "No updated URL found for https://commons.wikimedia.org/wiki/File:Horned_Altar_(28047304039).jpg; cropped\n",
      "Processing https://commons.wikimedia.org/wiki/File:Timna_Tabernacle_Incense_altar.jpg ...\n",
      "Updated URL: https://upload.wikimedia.org/wikipedia/commons/2/25/Timna_Tabernacle_Incense_altar.jpg\n",
      "Processing https://commons.wikimedia.org/wiki/File:Timna-park-tabernacle-schaubrote-tisch.jpg ...\n",
      "Updated URL: https://upload.wikimedia.org/wikipedia/commons/1/1c/Timna-park-tabernacle-schaubrote-tisch.jpg\n",
      "Processing https://commons.wikimedia.org/wiki/File:Stone_Tables_and_Storage_Jars_(43218116011).jpg ...\n",
      "Updated URL: https://upload.wikimedia.org/wikipedia/commons/e/e0/Stone_Tables_and_Storage_Jars_%2843218116011%29.jpg\n",
      "Processing https://images.metmuseum.org/CRDImages/gr/original/DP260761.jpg ...\n"
     ]
    },
    {
     "name": "stderr",
     "output_type": "stream",
     "text": [
      "Some characters could not be decoded, and were replaced with REPLACEMENT CHARACTER.\n"
     ]
    },
    {
     "name": "stdout",
     "output_type": "stream",
     "text": [
      "Failed to find updated URL on page https://images.metmuseum.org/CRDImages/gr/original/DP260761.jpg\n",
      "No updated URL found for https://images.metmuseum.org/CRDImages/gr/original/DP260761.jpg\n",
      "Processing https://upload.wikimedia.org/wikipedia/commons/b/b6/Fork_MET_ME1981_448_22.jpg ...\n"
     ]
    },
    {
     "name": "stderr",
     "output_type": "stream",
     "text": [
      "Some characters could not be decoded, and were replaced with REPLACEMENT CHARACTER.\n"
     ]
    },
    {
     "name": "stdout",
     "output_type": "stream",
     "text": [
      "Failed to find updated URL on page https://upload.wikimedia.org/wikipedia/commons/b/b6/Fork_MET_ME1981_448_22.jpg\n",
      "No updated URL found for https://upload.wikimedia.org/wikipedia/commons/b/b6/Fork_MET_ME1981_448_22.jpg\n",
      "Processing https://commons.wikimedia.org/wiki/File:Bronze_Trident_%26_Tongs_for_Sacrificial_Offerings,_14th-13th_C._BC_(41407159740).jpg ...\n",
      "Updated URL: https://upload.wikimedia.org/wikipedia/commons/0/0f/Bronze_Trident_%26_Tongs_for_Sacrificial_Offerings%2C_14th-13th_C._BC_%2841407159740%29.jpg\n",
      "Processing https://commons.wikimedia.org/wiki/File:Bronze_bowl_MET_DP20994.jpg ...\n",
      "Updated URL: https://upload.wikimedia.org/wikipedia/commons/4/48/Bronze_bowl_MET_DP20994.jpg\n",
      "Processing  ...\n",
      "Failed to retrieve : Invalid URL '': No scheme supplied. Perhaps you meant https://?\n",
      "No updated URL found for \n",
      "Processing https://commons.wikimedia.org/wiki/File:Iron_Incense_Shovels,_Tel_Dan,_8th_Century_BC_(42500029834).jpg ...\n",
      "Updated URL: https://upload.wikimedia.org/wikipedia/commons/4/47/Iron_Incense_Shovels%2C_Tel_Dan%2C_8th_Century_BC_%2842500029834%29.jpg\n",
      "Processing  ...\n",
      "Failed to retrieve : Invalid URL '': No scheme supplied. Perhaps you meant https://?\n",
      "No updated URL found for \n",
      "Processing https://commons.wikimedia.org/wiki/File:Ceramic_vessel_of_a_man_pouring_a_libation_Luristan_style_western_Iran_800_BCE_(42874104510).jpg ...\n",
      "Updated URL: https://upload.wikimedia.org/wikipedia/commons/8/8a/Ceramic_vessel_of_a_man_pouring_a_libation_Luristan_style_western_Iran_800_BCE_%2842874104510%29.jpg\n",
      "Processing https://commons.wikimedia.org/wiki/File:Priestly_undergarments_(39825730021).jpg ...\n",
      "Updated URL: https://upload.wikimedia.org/wikipedia/commons/f/f1/Priestly_undergarments_%2839825730021%29.jpg\n",
      "Processing  ...\n",
      "Failed to retrieve : Invalid URL '': No scheme supplied. Perhaps you meant https://?\n",
      "No updated URL found for \n",
      "Processing https://commons.wikimedia.org/wiki/File:High_Priest_clothing_(25952789678).jpg ...\n",
      "Updated URL: https://upload.wikimedia.org/wikipedia/commons/0/0d/High_Priest_clothing_%2825952789678%29.jpg\n",
      "Processing https://commons.wikimedia.org/wiki/File:Clay_Goddess_Idols_(43166716382).jpg ...\n",
      "Updated URL: https://upload.wikimedia.org/wikipedia/commons/9/9b/Clay_Goddess_Idols_%2843166716382%29.jpg\n",
      "Processing https://commons.wikimedia.org/wiki/File:Modern_Bronze_Cast_of_Goddess_Figure_Using_Ancient_Stone_Mould,_Nahariya,_19th-17th_C._BC_(29345740718).jpg ...\n",
      "Updated URL: https://upload.wikimedia.org/wikipedia/commons/d/df/Modern_Bronze_Cast_of_Goddess_Figure_Using_Ancient_Stone_Mould%2C_Nahariya%2C_19th-17th_C._BC_%2829345740718%29.jpg\n",
      "Processing https://commons.wikimedia.org/wiki/File:Edomite_Head,_c._600_BC_(42499764924).jpg ...\n",
      "Updated URL: https://upload.wikimedia.org/wikipedia/commons/4/4e/Ammonite_Head%2C_c._600_BC_%2842499764924%29.jpg\n",
      "Processing https://commons.wikimedia.org/wiki/File:Sit-Shamski_bronze_model_from_Susa_0137.jpg; cropped; modified ...\n",
      "Failed to retrieve https://commons.wikimedia.org/wiki/File:Sit-Shamski_bronze_model_from_Susa_0137.jpg; cropped; modified: 404 Client Error: Not Found for url: https://commons.wikimedia.org/wiki/File:Sit-Shamski_bronze_model_from_Susa_0137.jpg;_cropped;_modified\n",
      "No updated URL found for https://commons.wikimedia.org/wiki/File:Sit-Shamski_bronze_model_from_Susa_0137.jpg; cropped; modified\n",
      "Processing https://commons.wikimedia.org/wiki/File:Orthostat_Temple,_Hazor,_15th-13th_C._BC_(43167753242).jpg ...\n",
      "Updated URL: https://upload.wikimedia.org/wikipedia/commons/f/f3/Orthostat_Temple%2C_Hazor%2C_15th-13th_C._BC_%2843167753242%29.jpg\n",
      "Processing https://commons.wikimedia.org/wiki/File:Tel_Rehov_Exhibition_090316_05.jpg ...\n",
      "Updated URL: https://upload.wikimedia.org/wikipedia/commons/d/db/Tel_Rehov_Exhibition_090316_05.jpg\n",
      "Processing https://commons.wikimedia.org/wiki/File:Sidonian_burial_caves,_Beit_Guvrin,_Israel_(15092272543).jpg ...\n",
      "Updated URL: https://upload.wikimedia.org/wikipedia/commons/9/9c/Sidonian_burial_caves%2C_Beit_Guvrin%2C_Israel_%2815092272543%29.jpg\n",
      "Processing https://commons.wikimedia.org/wiki/File:A_reconstructed_tomb_with_rolling_stone_at_Nazareth_Village_(5803250852).jpg ...\n",
      "Updated URL: https://upload.wikimedia.org/wikipedia/commons/1/1c/A_reconstructed_tomb_with_rolling_stone_at_Nazareth_Village_%285803250852%29.jpg\n",
      "Processing https://commons.wikimedia.org/wiki/File:PikiWiki_Israel_32492_Cities_in_Israel.jpg ...\n",
      "Updated URL: https://upload.wikimedia.org/wikipedia/commons/3/38/PikiWiki_Israel_32492_Cities_in_Israel.jpg\n",
      "Processing https://commons.wikimedia.org/wiki/File:Bechi_Haadon_IMG_3410.JPG ...\n",
      "Updated URL: https://upload.wikimedia.org/wikipedia/commons/7/78/Bechi_Haadon_IMG_3410.JPG\n",
      "Processing https://commons.wikimedia.org/wiki/File:Masada_ostraka_-_heatkernel.jpg ...\n",
      "Updated URL: https://upload.wikimedia.org/wikipedia/commons/7/7f/Masada_ostraka_-_heatkernel.jpg\n",
      "Processing https://commons.wikimedia.org/wiki/File:Ner_005.jpg ...\n",
      "Updated URL: https://upload.wikimedia.org/wikipedia/commons/0/02/Ner_005.jpg\n",
      "Processing https://commons.wikimedia.org/wiki/File:Bethlehem_light_in_T%C5%99eb%C3%AD%C4%8D,_T%C5%99eb%C3%AD%C4%8D_District.jpg ...\n",
      "Updated URL: https://upload.wikimedia.org/wikipedia/commons/5/58/Bethlehem_light_in_T%C5%99eb%C3%AD%C4%8D%2C_T%C5%99eb%C3%AD%C4%8D_District.jpg\n",
      "Processing  ...\n",
      "Failed to retrieve : Invalid URL '': No scheme supplied. Perhaps you meant https://?\n",
      "No updated URL found for \n",
      "Processing https://commons.wikimedia.org/wiki/File:Lewes_Bonfire,_fox_figures.jpg ...\n",
      "Updated URL: https://upload.wikimedia.org/wikipedia/commons/6/63/Lewes_Bonfire%2C_fox_figures.jpg\n",
      "Processing https://hdl.loc.gov/loc.pnp/matpc.22386 ...\n",
      "Failed to find updated URL on page https://hdl.loc.gov/loc.pnp/matpc.22386\n",
      "No updated URL found for https://hdl.loc.gov/loc.pnp/matpc.22386\n",
      "Processing https://commons.wikimedia.org/wiki/File:Capture_of_Lachish_-_Sennacherib.jpg ...\n",
      "Updated URL: https://upload.wikimedia.org/wikipedia/commons/7/7a/Capture_of_Lachish_-_Sennacherib.jpg\n",
      "Processing https://commons.wikimedia.org/wiki/File:Middle_East-_G9_Assyria_Nineveh_-_44841858665.jpg ...\n",
      "Updated URL: https://upload.wikimedia.org/wikipedia/commons/2/2c/Middle_East-_G9_Assyria_Nineveh_-_44841858665.jpg\n",
      "Processing https://commons.wikimedia.org/wiki/File:Chair-N_2950-IMG_8158-gradient.jpg ...\n",
      "Updated URL: https://upload.wikimedia.org/wikipedia/commons/f/f6/Chair-N_2950-IMG_8158-gradient.jpg\n",
      "Processing  ...\n",
      "Failed to retrieve : Invalid URL '': No scheme supplied. Perhaps you meant https://?\n",
      "No updated URL found for \n",
      "Processing https://commons.wikimedia.org/wiki/File:Agriculture,_etc._Primitive_methods_of_rubbing_and_grinding_wheat._Three_types_of_%27rubbers%27_or_grinders._Including_a_present-day_stone_hand_mill_LOC_matpc.02972_(cropped).jpg ...\n",
      "Updated URL: https://upload.wikimedia.org/wikipedia/commons/c/ce/Agriculture%2C_etc._Primitive_methods_of_rubbing_and_grinding_wheat._Three_types_of_%27rubbers%27_or_grinders._Including_a_present-day_stone_hand_mill_LOC_matpc.02972_%28cropped%29.jpg\n",
      "Processing https://commons.wikimedia.org/wiki/File:Stone_Mortar_%26_Grinding_Bowl_(41406255930).jpg ...\n",
      "Updated URL: https://upload.wikimedia.org/wikipedia/commons/d/d4/Stone_Mortar_%26_Grinding_Bowl_%2841406255930%29.jpg\n",
      "Processing https://commons.wikimedia.org/wiki/File:Ancient_egyptian_statuette_of_a_woman_grinding_grain_2.jpg ...\n",
      "Updated URL: https://upload.wikimedia.org/wikipedia/commons/4/4f/Ancient_egyptian_statuette_of_a_woman_grinding_grain_2.jpg\n",
      "Processing https://commons.wikimedia.org/wiki/File:Agriculture,_etc._Primitive_methods_of_rubbing_and_grinding_wheat._Three_types_of_%27rubbers%27_or_grinders._Including_a_present-day_stone_hand_mill_LOC_matpc.02972_(cropped).jpg; cropped ...\n",
      "Failed to retrieve https://commons.wikimedia.org/wiki/File:Agriculture,_etc._Primitive_methods_of_rubbing_and_grinding_wheat._Three_types_of_%27rubbers%27_or_grinders._Including_a_present-day_stone_hand_mill_LOC_matpc.02972_(cropped).jpg; cropped: 404 Client Error: Not Found for url: https://commons.wikimedia.org/wiki/File:Agriculture,_etc._Primitive_methods_of_rubbing_and_grinding_wheat._Three_types_of_%27rubbers%27_or_grinders._Including_a_present-day_stone_hand_mill_LOC_matpc.02972_(cropped).jpg;_cropped\n",
      "No updated URL found for https://commons.wikimedia.org/wiki/File:Agriculture,_etc._Primitive_methods_of_rubbing_and_grinding_wheat._Three_types_of_%27rubbers%27_or_grinders._Including_a_present-day_stone_hand_mill_LOC_matpc.02972_(cropped).jpg; cropped\n",
      "Processing https://commons.wikimedia.org/wiki/File:Eretz-Israel-Museum-ceramics-pavilion-35325.jpg ...\n",
      "Updated URL: https://upload.wikimedia.org/wikipedia/commons/9/98/Eretz-Israel-Museum-ceramics-pavilion-35325.jpg\n",
      "Processing https://commons.wikimedia.org/wiki/File:Bronze_%26_Pottery_Cooking_Pots_from_a_Foreign_Officer%27s_Tomb,_1st_Century_AD_(42316875015).jpg ...\n",
      "Updated URL: https://upload.wikimedia.org/wikipedia/commons/b/b2/Bronze_%26_Pottery_Cooking_Pots_from_a_Foreign_Officer%27s_Tomb%2C_1st_Century_AD_%2842316875015%29.jpg\n",
      "Processing https://commons.wikimedia.org/wiki/File:Mirror-AO_20181-IMG_0330-black.jpg ...\n",
      "Updated URL: https://upload.wikimedia.org/wikipedia/commons/d/d6/Mirror-AO_20181-IMG_0330-black.jpg\n",
      "Processing https://commons.wikimedia.org/wiki/File:Leather_Waterskin,_Cave_of_the_Letters,_Judean_Desert,_132-135_AD_(28349539727).jpg ...\n",
      "Updated URL: https://upload.wikimedia.org/wikipedia/commons/a/ae/Leather_Waterskin%2C_Cave_of_the_Letters%2C_Judean_Desert%2C_132-135_AD_%2828349539727%29.jpg\n",
      "Processing https://commons.wikimedia.org/wiki/File:A%C3%AFt-ben-Haddou_-_Maroc_-_Morocco_-_Tapis_-_Carpet_-_Marrakech_-_Morocco_-_Maroc_-_Maroko_-_%CE%9C%CE%B1%CF%81%CF%8C%CE%BA%CE%BF_-_Fas_-_Marruecos_-_Marokko_-_%D0%9C%D0%B0%D1%80%D0%BE%D0%BA%D0%BA%D0%BE_-_Photo_Image_Photography_(9123957353).jpg ...\n",
      "Updated URL: https://upload.wikimedia.org/wikipedia/commons/8/8c/A%C3%AFt-ben-Haddou_-_Maroc_-_Morocco_-_Tapis_-_Carpet_-_Marrakech_-_Morocco_-_Maroc_-_Maroko_-_%CE%9C%CE%B1%CF%81%CF%8C%CE%BA%CE%BF_-_Fas_-_Marruecos_-_Marokko_-_%D0%9C%D0%B0%D1%80%D0%BE%D0%BA%D0%BA%D0%BE_-_Photo_Image_Photography_%289123957353%29.jpg\n",
      "Processing https://images.metmuseum.org/CRDImages/gr/original/DP119915.jpg ...\n"
     ]
    },
    {
     "name": "stderr",
     "output_type": "stream",
     "text": [
      "Some characters could not be decoded, and were replaced with REPLACEMENT CHARACTER.\n"
     ]
    },
    {
     "name": "stdout",
     "output_type": "stream",
     "text": [
      "Failed to find updated URL on page https://images.metmuseum.org/CRDImages/gr/original/DP119915.jpg\n",
      "No updated URL found for https://images.metmuseum.org/CRDImages/gr/original/DP119915.jpg\n",
      "Processing https://upload.wikimedia.org/wikipedia/commons/3/35/Stone_vessel_Mycenaean_NAMA_080886.jpg ...\n"
     ]
    },
    {
     "name": "stderr",
     "output_type": "stream",
     "text": [
      "Some characters could not be decoded, and were replaced with REPLACEMENT CHARACTER.\n"
     ]
    },
    {
     "name": "stdout",
     "output_type": "stream",
     "text": [
      "Failed to find updated URL on page https://upload.wikimedia.org/wikipedia/commons/3/35/Stone_vessel_Mycenaean_NAMA_080886.jpg\n",
      "No updated URL found for https://upload.wikimedia.org/wikipedia/commons/3/35/Stone_vessel_Mycenaean_NAMA_080886.jpg\n",
      "Processing https://images.metmuseum.org/CRDImages/an/original/DP-15732-019.jpg ...\n"
     ]
    },
    {
     "name": "stderr",
     "output_type": "stream",
     "text": [
      "Some characters could not be decoded, and were replaced with REPLACEMENT CHARACTER.\n"
     ]
    },
    {
     "name": "stdout",
     "output_type": "stream",
     "text": [
      "Failed to find updated URL on page https://images.metmuseum.org/CRDImages/an/original/DP-15732-019.jpg\n",
      "No updated URL found for https://images.metmuseum.org/CRDImages/an/original/DP-15732-019.jpg\n",
      "Processing https://commons.wikimedia.org/wiki/File:Potsherds_discovered_in_Israel.jpg ...\n",
      "Updated URL: https://upload.wikimedia.org/wikipedia/commons/4/49/Potsherds_discovered_in_Israel.jpg\n",
      "Processing https://commons.wikimedia.org/wiki/File:Ointment_pot,_Egypt,_2000-100_BCE_Wellcome_L0065469.jpg ...\n",
      "Updated URL: https://upload.wikimedia.org/wikipedia/commons/d/d3/Ointment_pot%2C_Egypt%2C_2000-100_BCE_Wellcome_L0065469.jpg\n",
      "Processing https://commons.wikimedia.org/wiki/File:Dar_Longo,_Gafsa_juin_2013_08.jpg ...\n",
      "Updated URL: https://upload.wikimedia.org/wikipedia/commons/f/f0/Dar_Longo%2C_Gafsa_juin_2013_08.jpg\n",
      "Processing https://commons.wikimedia.org/wiki/File:Elegant_Tableware,_1st_Century_(42500921824).jpg ...\n",
      "Updated URL: https://upload.wikimedia.org/wikipedia/commons/1/1c/Elegant_Tableware%2C_1st_Century_%2842500921824%29.jpg\n",
      "Processing https://upload.wikimedia.org/wikipedia/commons/e/eb/Philistine_pottery_Drinking_bowl.JPG ...\n"
     ]
    },
    {
     "name": "stderr",
     "output_type": "stream",
     "text": [
      "Some characters could not be decoded, and were replaced with REPLACEMENT CHARACTER.\n"
     ]
    },
    {
     "name": "stdout",
     "output_type": "stream",
     "text": [
      "Failed to find updated URL on page https://upload.wikimedia.org/wikipedia/commons/e/eb/Philistine_pottery_Drinking_bowl.JPG\n",
      "No updated URL found for https://upload.wikimedia.org/wikipedia/commons/e/eb/Philistine_pottery_Drinking_bowl.JPG\n",
      "Processing https://commons.wikimedia.org/wiki/File:Sickle_knife_key_jars._Cave_of_Letters,_Nahal_Hever._Israel_Museum,_Jerusalem.JPG ...\n",
      "Updated URL: https://upload.wikimedia.org/wikipedia/commons/e/eb/Sickle_knife_key_jars._Cave_of_Letters%2C_Nahal_Hever._Israel_Museum%2C_Jerusalem.JPG\n",
      "Processing https://commons.wikimedia.org/wiki/File:Roman_needle_(FindID_650682).jpg; cropped ...\n",
      "Failed to retrieve https://commons.wikimedia.org/wiki/File:Roman_needle_(FindID_650682).jpg; cropped: 404 Client Error: Not Found for url: https://commons.wikimedia.org/wiki/File:Roman_needle_(FindID_650682).jpg;_cropped\n",
      "No updated URL found for https://commons.wikimedia.org/wiki/File:Roman_needle_(FindID_650682).jpg; cropped\n",
      "Processing https://commons.wikimedia.org/wiki/File:Prayer_Shawl.JPG ...\n",
      "Updated URL: https://upload.wikimedia.org/wikipedia/commons/7/76/Prayer_Shawl.JPG\n",
      "Processing https://commons.wikimedia.org/wiki/File:Antikensammlung-Kykladenmuseum_0070.JPG ...\n",
      "Updated URL: https://upload.wikimedia.org/wikipedia/commons/4/49/Antikensammlung-Kykladenmuseum_0070.JPG\n",
      "Processing https://commons.wikimedia.org/wiki/File:Maler_der_Grabkammer_des_Rechmir%C3%AA_002.jpg ...\n",
      "Updated URL: https://upload.wikimedia.org/wikipedia/commons/4/41/Maler_der_Grabkammer_des_Rechmir%C3%AA_002.jpg\n",
      "Processing https://images.metmuseum.org/CRDImages/gr/original/DP141474.jpg ...\n"
     ]
    },
    {
     "name": "stderr",
     "output_type": "stream",
     "text": [
      "Some characters could not be decoded, and were replaced with REPLACEMENT CHARACTER.\n"
     ]
    },
    {
     "name": "stdout",
     "output_type": "stream",
     "text": [
      "Failed to find updated URL on page https://images.metmuseum.org/CRDImages/gr/original/DP141474.jpg\n",
      "No updated URL found for https://images.metmuseum.org/CRDImages/gr/original/DP141474.jpg\n",
      "Processing https://commons.wikimedia.org/wiki/File:Kovac8.JPG; cropped ...\n",
      "Failed to retrieve https://commons.wikimedia.org/wiki/File:Kovac8.JPG; cropped: 404 Client Error: Not Found for url: https://commons.wikimedia.org/wiki/File:Kovac8.JPG;_cropped\n",
      "No updated URL found for https://commons.wikimedia.org/wiki/File:Kovac8.JPG; cropped\n",
      "Processing https://commons.wikimedia.org/wiki/File:OIMPalcost3.jpg ...\n",
      "Updated URL: https://upload.wikimedia.org/wikipedia/commons/7/78/OIMPalcost3.jpg\n",
      "Processing https://commons.wikimedia.org/wiki/File:Sandals,_Braids_of_Hair,_%26_Comb,_Northern_Palace,_Masada,_73_AD_(42500848064).jpg ...\n",
      "Updated URL: https://upload.wikimedia.org/wikipedia/commons/b/b5/Sandals%2C_Braids_of_Hair%2C_%26_Comb%2C_Northern_Palace%2C_Masada%2C_73_AD_%2842500848064%29.jpg\n",
      "Processing https://commons.wikimedia.org/wiki/File:Ashurnasirpal_II_performs_a_religious_ritual._From_Nimrud,_Iraq._865-860_BCE._British_Museum.jpg ...\n",
      "Updated URL: https://upload.wikimedia.org/wikipedia/commons/8/82/Ashurnasirpal_II_performs_a_religious_ritual._From_Nimrud%2C_Iraq._865-860_BCE._British_Museum.jpg\n",
      "Processing https://archive.org/details/encyclopaediabiblicavol4qtoz/Encyclopaedia%20Biblica%20Vol%203%20L%20to%20P/page/n301/ ...\n",
      "Failed to find updated URL on page https://archive.org/details/encyclopaediabiblicavol4qtoz/Encyclopaedia%20Biblica%20Vol%203%20L%20to%20P/page/n301/\n",
      "No updated URL found for https://archive.org/details/encyclopaediabiblicavol4qtoz/Encyclopaedia%20Biblica%20Vol%203%20L%20to%20P/page/n301/\n",
      "Processing https://commons.wikimedia.org/wiki/File:Fresco_of_a_woman_playing_the_lyre,_AD_50-79,_from_Pompeii,_British_Museum_(14812207287).jpg ...\n",
      "Updated URL: https://upload.wikimedia.org/wikipedia/commons/8/8c/Fresco_of_a_woman_playing_the_lyre%2C_AD_50-79%2C_from_Pompeii%2C_British_Museum_%2814812207287%29.jpg\n",
      "Processing https://commons.wikimedia.org/wiki/File:Liten_askenasisk_sjofar_5380.jpg ...\n",
      "Updated URL: https://upload.wikimedia.org/wikipedia/commons/1/1b/Liten_askenasisk_sjofar_5380.jpg\n",
      "Processing https://commons.wikimedia.org/wiki/File:Mus%C3%A9e_de_la_musique_Paris_10022019_Flute_en_os_de_vautour_2500_av_JC_Aveyron_0805.jpg ...\n",
      "Updated URL: https://upload.wikimedia.org/wikipedia/commons/1/19/Mus%C3%A9e_de_la_musique_Paris_10022019_Flute_en_os_de_vautour_2500_av_JC_Aveyron_0805.jpg\n",
      "Processing https://archive.org/details/McClintock.JStrongJCyclopaediaOfBiblicalTheologicalAndEcclesiasticalLiteratureVol061882/page/n785/mode/2up ...\n",
      "Failed to find updated URL on page https://archive.org/details/McClintock.JStrongJCyclopaediaOfBiblicalTheologicalAndEcclesiasticalLiteratureVol061882/page/n785/mode/2up\n",
      "No updated URL found for https://archive.org/details/McClintock.JStrongJCyclopaediaOfBiblicalTheologicalAndEcclesiasticalLiteratureVol061882/page/n785/mode/2up\n",
      "Processing https://commons.wikimedia.org/wiki/File:Pomp%C3%A9i_(N%C3%AEmes)_44_paire_de_cymbalettes.jpg ...\n",
      "Updated URL: https://upload.wikimedia.org/wikipedia/commons/d/de/Pomp%C3%A9i_%28N%C3%AEmes%29_44_paire_de_cymbalettes.jpg\n",
      "Processing https://commons.wikimedia.org/wiki/File:Openwork_rattle_MET_me34_126_54.jpg ...\n",
      "Updated URL: https://upload.wikimedia.org/wikipedia/commons/4/48/Openwork_rattle_MET_me34_126_54.jpg\n",
      "Processing https://commons.wikimedia.org/wiki/File:Pottery_Drummer_Figurines,_8th-7th_Century_BC_(29346960908).jpg ...\n",
      "Updated URL: https://upload.wikimedia.org/wikipedia/commons/4/4b/Pottery_Drummer_Figurines%2C_8th-7th_Century_BC_%2829346960908%29.jpg\n",
      "Processing  ...\n",
      "Failed to retrieve : Invalid URL '': No scheme supplied. Perhaps you meant https://?\n",
      "No updated URL found for \n",
      "Processing https://archive.org/details/tabernacleofisra00strorich/page/90/mode/2up?q=ark ...\n",
      "Failed to find updated URL on page https://archive.org/details/tabernacleofisra00strorich/page/90/mode/2up?q=ark\n",
      "No updated URL found for https://archive.org/details/tabernacleofisra00strorich/page/90/mode/2up?q=ark\n",
      "Processing  ...\n",
      "Failed to retrieve : Invalid URL '': No scheme supplied. Perhaps you meant https://?\n",
      "No updated URL found for \n",
      "Processing https://archive.org/details/tabernacleofisra00strorich/page/88/mode/2up?q=ark ...\n",
      "Failed to find updated URL on page https://archive.org/details/tabernacleofisra00strorich/page/88/mode/2up?q=ark\n",
      "No updated URL found for https://archive.org/details/tabernacleofisra00strorich/page/88/mode/2up?q=ark\n",
      "Processing https://commons.wikimedia.org/wiki/File:Nahsholim-Tel-Dor-3208.jpg ...\n",
      "Updated URL: https://upload.wikimedia.org/wikipedia/commons/1/1e/Nahsholim-Tel-Dor-3208.jpg\n",
      "Processing https://commons.wikimediaCC BY-SA 3.0.org/wiki/File:NMMI_IMG_8676.JPG ...\n",
      "Failed to retrieve https://commons.wikimediaCC BY-SA 3.0.org/wiki/File:NMMI_IMG_8676.JPG: HTTPSConnectionPool(host='commons.wikimediacc%20by-sa%203.0.org', port=443): Max retries exceeded with url: /wiki/File:NMMI_IMG_8676.JPG (Caused by SSLError(SSLCertVerificationError(1, '[SSL: CERTIFICATE_VERIFY_FAILED] certificate verify failed: self-signed certificate (_ssl.c:1006)')))\n",
      "No updated URL found for https://commons.wikimediaCC BY-SA 3.0.org/wiki/File:NMMI_IMG_8676.JPG\n",
      "Processing https://images.metmuseum.org/CRDImages/eg/original/DP249000.jpg ...\n"
     ]
    },
    {
     "name": "stderr",
     "output_type": "stream",
     "text": [
      "Some characters could not be decoded, and were replaced with REPLACEMENT CHARACTER.\n"
     ]
    },
    {
     "name": "stdout",
     "output_type": "stream",
     "text": [
      "Failed to find updated URL on page https://images.metmuseum.org/CRDImages/eg/original/DP249000.jpg\n",
      "No updated URL found for https://images.metmuseum.org/CRDImages/eg/original/DP249000.jpg\n",
      "Processing https://www.flickr.com/photos/101561334@N08/27978964007/in/album-72157698062304795/ ...\n",
      "Failed to find updated URL on page https://www.flickr.com/photos/101561334@N08/27978964007/in/album-72157698062304795/\n",
      "No updated URL found for https://www.flickr.com/photos/101561334@N08/27978964007/in/album-72157698062304795/\n",
      "Processing https://archive.org/details/McClintock.JStrongJCyclopaediaOfBiblicalTheologicalAndEcclesiasticalLiteratureVol011880/page/n585/mode/2up ...\n",
      "Failed to find updated URL on page https://archive.org/details/McClintock.JStrongJCyclopaediaOfBiblicalTheologicalAndEcclesiasticalLiteratureVol011880/page/n585/mode/2up\n",
      "No updated URL found for https://archive.org/details/McClintock.JStrongJCyclopaediaOfBiblicalTheologicalAndEcclesiasticalLiteratureVol011880/page/n585/mode/2up\n",
      "Processing https://commons.wikimedia.org/wiki/File:Saddle_for_camels.jpg ...\n",
      "Updated URL: https://upload.wikimedia.org/wikipedia/commons/d/db/Saddle_for_camels.jpg\n",
      "Processing https://commons.wikimedia.org/wiki/File:Tand%C4%B1r_bread.jpg ...\n",
      "Updated URL: https://upload.wikimedia.org/wikipedia/commons/e/ed/Tand%C4%B1r_bread.jpg\n",
      "Processing https://commons.wikimedia.org/wiki/File:Three_matzos_stacked.jpg ...\n",
      "Updated URL: https://upload.wikimedia.org/wikipedia/commons/7/70/Three_matzos_stacked.jpg\n",
      "Processing  ...\n",
      "Failed to retrieve : Invalid URL '': No scheme supplied. Perhaps you meant https://?\n",
      "No updated URL found for \n",
      "Processing https://images.metmuseum.org/CRDImages/gr/original/DT283.jpg ...\n"
     ]
    },
    {
     "name": "stderr",
     "output_type": "stream",
     "text": [
      "Some characters could not be decoded, and were replaced with REPLACEMENT CHARACTER.\n"
     ]
    },
    {
     "name": "stdout",
     "output_type": "stream",
     "text": [
      "Failed to find updated URL on page https://images.metmuseum.org/CRDImages/gr/original/DT283.jpg\n",
      "No updated URL found for https://images.metmuseum.org/CRDImages/gr/original/DT283.jpg\n",
      "Processing https://images.metmuseum.org/CRDImages/gr/original/DT333007.jpg ...\n"
     ]
    },
    {
     "name": "stderr",
     "output_type": "stream",
     "text": [
      "Some characters could not be decoded, and were replaced with REPLACEMENT CHARACTER.\n"
     ]
    },
    {
     "name": "stdout",
     "output_type": "stream",
     "text": [
      "Failed to find updated URL on page https://images.metmuseum.org/CRDImages/gr/original/DT333007.jpg\n",
      "No updated URL found for https://images.metmuseum.org/CRDImages/gr/original/DT333007.jpg\n",
      "Processing https://commons.wikimedia.org/wiki/File:Greek_-_Pair_of_Bracelets_with_Antelope-Heads_-_Walters_572021,_572022_-_Group.jpg ...\n",
      "Updated URL: https://upload.wikimedia.org/wikipedia/commons/d/d7/Greek_-_Pair_of_Bracelets_with_Antelope-Heads_-_Walters_572021%2C_572022_-_Group.jpg\n",
      "Processing https://commons.wikimedia.org/wiki/File:AMI_-_Schmuck_2.jpg ...\n",
      "Updated URL: https://upload.wikimedia.org/wikipedia/commons/e/e8/AMI_-_Schmuck_2.jpg\n",
      "Processing https://pixabay.com/images/id-1029784/ cropped ...\n",
      "Failed to retrieve https://pixabay.com/images/id-1029784/ cropped: 403 Client Error: Forbidden for url: https://pixabay.com/images/id-1029784/%20cropped\n",
      "No updated URL found for https://pixabay.com/images/id-1029784/ cropped\n",
      "Processing https://upload.wikimedia.org/wikipedia/commons/7/7f/Altar_for_burning_incense,_Roman,_Smyrna,_modern_Izmir,_Turkey,_1st_or_2nd_century_AD,_terracotta_-_Spurlock_Museum,_UIUC_-_DSC05772.jpg ...\n"
     ]
    },
    {
     "name": "stderr",
     "output_type": "stream",
     "text": [
      "Some characters could not be decoded, and were replaced with REPLACEMENT CHARACTER.\n"
     ]
    },
    {
     "name": "stdout",
     "output_type": "stream",
     "text": [
      "Failed to find updated URL on page https://upload.wikimedia.org/wikipedia/commons/7/7f/Altar_for_burning_incense,_Roman,_Smyrna,_modern_Izmir,_Turkey,_1st_or_2nd_century_AD,_terracotta_-_Spurlock_Museum,_UIUC_-_DSC05772.jpg\n",
      "No updated URL found for https://upload.wikimedia.org/wikipedia/commons/7/7f/Altar_for_burning_incense,_Roman,_Smyrna,_modern_Izmir,_Turkey,_1st_or_2nd_century_AD,_terracotta_-_Spurlock_Museum,_UIUC_-_DSC05772.jpg\n",
      "Processing https://commons.wikimedia.org/wiki/File:WEB-0536_indian_elephant.jpg ...\n",
      "Failed to retrieve https://commons.wikimedia.org/wiki/File:WEB-0536_indian_elephant.jpg: 404 Client Error: Not Found for url: https://commons.wikimedia.org/wiki/File:WEB-0536_indian_elephant.jpg\n",
      "No updated URL found for https://commons.wikimedia.org/wiki/File:WEB-0536_indian_elephant.jpg\n",
      "Processing https://commons.wikimedia.org/wiki/File:WEB-0537_ishtar_gate.jpg.jpg ...\n",
      "Failed to retrieve https://commons.wikimedia.org/wiki/File:WEB-0537_ishtar_gate.jpg.jpg: 404 Client Error: Not Found for url: https://commons.wikimedia.org/wiki/File:WEB-0537_ishtar_gate.jpg.jpg\n",
      "No updated URL found for https://commons.wikimedia.org/wiki/File:WEB-0537_ishtar_gate.jpg.jpg\n",
      "Processing https://commons.wikimedia.org/wiki/File:WEB-0538_mount_of_olives.jpg ...\n",
      "Failed to retrieve https://commons.wikimedia.org/wiki/File:WEB-0538_mount_of_olives.jpg: 404 Client Error: Not Found for url: https://commons.wikimedia.org/wiki/File:WEB-0538_mount_of_olives.jpg\n",
      "No updated URL found for https://commons.wikimedia.org/wiki/File:WEB-0538_mount_of_olives.jpg\n",
      "Processing https://upload.wikimedia.org/wikipedia/commons/e/e9/WEB-0539_olive_oil.jpg ...\n",
      "Failed to retrieve https://upload.wikimedia.org/wikipedia/commons/e/e9/WEB-0539_olive_oil.jpg: 404 Client Error: Not Found for url: https://upload.wikimedia.org/wikipedia/commons/e/e9/WEB-0539_olive_oil.jpg\n",
      "No updated URL found for https://upload.wikimedia.org/wikipedia/commons/e/e9/WEB-0539_olive_oil.jpg\n",
      "Processing https://commons.wikimedia.org/wiki/File:Puszcza_Notecka22.JPG ...\n",
      "Updated URL: https://upload.wikimedia.org/wikipedia/commons/4/4e/Puszcza_Notecka22.JPG\n",
      "Processing https://commons.wikimedia.org/wiki/File:2012-bb-jackal-1.jpg ...\n",
      "Updated URL: https://upload.wikimedia.org/wikipedia/commons/d/df/2012-bb-jackal-1.jpg\n",
      "Processing https://pixabay.com/images/id-164958/ ...\n",
      "Failed to retrieve https://pixabay.com/images/id-164958/: 403 Client Error: Forbidden for url: https://pixabay.com/images/id-164958/\n",
      "No updated URL found for https://pixabay.com/images/id-164958/\n",
      "Processing https://commons.wikimedia.org/wiki/File:Hebron_and_surroundings._Machpelah._Tombs_of_Jacob_%26_Leah._Domes_over_cenotaphs_LOC_matpc.23168.png ...\n",
      "Failed to retrieve https://commons.wikimedia.org/wiki/File:Hebron_and_surroundings._Machpelah._Tombs_of_Jacob_%26_Leah._Domes_over_cenotaphs_LOC_matpc.23168.png: 404 Client Error: Not Found for url: https://commons.wikimedia.org/wiki/File:Hebron_and_surroundings._Machpelah._Tombs_of_Jacob_%26_Leah._Domes_over_cenotaphs_LOC_matpc.23168.png\n",
      "No updated URL found for https://commons.wikimedia.org/wiki/File:Hebron_and_surroundings._Machpelah._Tombs_of_Jacob_%26_Leah._Domes_over_cenotaphs_LOC_matpc.23168.png\n",
      "Processing https://upload.wikimedia.org/wikipedia/commons/3/35/WEB-0544_jehu_obelisk.jpg ...\n",
      "Failed to retrieve https://upload.wikimedia.org/wikipedia/commons/3/35/WEB-0544_jehu_obelisk.jpg: 404 Client Error: Not Found for url: https://upload.wikimedia.org/wikipedia/commons/3/35/WEB-0544_jehu_obelisk.jpg\n",
      "No updated URL found for https://upload.wikimedia.org/wikipedia/commons/3/35/WEB-0544_jehu_obelisk.jpg\n",
      "Processing https://commons.wikimedia.org/wiki/File:Jaculus_jaculus.jpg ...\n",
      "Updated URL: https://upload.wikimedia.org/wikipedia/commons/6/66/Jaculus_jaculus.jpg\n",
      "Processing https://upload.wikimedia.org/wikipedia/commons/f/fb/Jericho_P1190715.JPG ...\n"
     ]
    },
    {
     "name": "stderr",
     "output_type": "stream",
     "text": [
      "Some characters could not be decoded, and were replaced with REPLACEMENT CHARACTER.\n"
     ]
    },
    {
     "name": "stdout",
     "output_type": "stream",
     "text": [
      "Failed to find updated URL on page https://upload.wikimedia.org/wikipedia/commons/f/fb/Jericho_P1190715.JPG\n",
      "No updated URL found for https://upload.wikimedia.org/wikipedia/commons/f/fb/Jericho_P1190715.JPG\n",
      "Processing https://commons.wikimedia.org/wiki/File:Jerusalem_Bethesda_BW_1.JPG ...\n",
      "Updated URL: https://upload.wikimedia.org/wikipedia/commons/0/07/Jerusalem_Bethesda_BW_1.JPG\n",
      "Processing https://commons.wikimedia.org/wiki/File:Jerusalem_Holy_Sepulchre_BW_22.JPG ...\n",
      "Updated URL: https://upload.wikimedia.org/wikipedia/commons/d/d5/Jerusalem_Holy_Sepulchre_BW_22.JPG\n",
      "Processing https://commons.wikimedia.org/wiki/File:Jerusalem_Tomb_of_David_BW_1.JPG ...\n",
      "Updated URL: https://upload.wikimedia.org/wikipedia/commons/7/77/Jerusalem_Tomb_of_David_BW_1.JPG\n",
      "Processing jesus - https://upload.wikimedia.org/wikipedia/commons/8/87/WEB-0550_jesse_tree.jpg ...\n",
      "Failed to retrieve jesus - https://upload.wikimedia.org/wikipedia/commons/8/87/WEB-0550_jesse_tree.jpg: No connection adapters were found for 'jesus - https://upload.wikimedia.org/wikipedia/commons/8/87/WEB-0550_jesse_tree.jpg'\n",
      "No updated URL found for jesus - https://upload.wikimedia.org/wikipedia/commons/8/87/WEB-0550_jesse_tree.jpg\n",
      "Processing https://commons.wikimedia.org/wiki/File:Palma_il_Giovane_001.jpg ...\n",
      "Updated URL: https://upload.wikimedia.org/wikipedia/commons/5/53/Palma_il_Giovane_001.jpg\n",
      "Processing https://commons.wikimedia.org/wiki/File:Brooklyn_Museum_-_Jesus_Speaks_Near_the_Treasury_(J%C3%A9sus_parle_pr%C3%A8s_du_tr%C3%A9sor)_-_James_Tissot.jpg ...\n",
      "Updated URL: https://upload.wikimedia.org/wikipedia/commons/1/17/Brooklyn_Museum_-_Jesus_Speaks_Near_the_Treasury_%28J%C3%A9sus_parle_pr%C3%A8s_du_tr%C3%A9sor%29_-_James_Tissot.jpg\n",
      "Processing https://commons.wikimedia.org/wiki/File:Christ_preaching_before_a_crowd._Woodcut._Wellcome_V0034716.jpg ...\n",
      "Updated URL: https://upload.wikimedia.org/wikipedia/commons/5/5c/Christ_preaching_before_a_crowd._Woodcut._Wellcome_V0034716.jpg\n",
      "Processing https://commons.wikimedia.org/wiki/File:Brooklyn_Museum_-_Jesus_Teaches_the_People_by_the_Sea_(J%C3%A9sus_enseigne_le_peuple_pr%C3%A8s_de_la_mer)_-_James_Tissot_-_overall.jpg ...\n",
      "Updated URL: https://upload.wikimedia.org/wikipedia/commons/9/91/Brooklyn_Museum_-_Jesus_Teaches_the_People_by_the_Sea_%28J%C3%A9sus_enseigne_le_peuple_pr%C3%A8s_de_la_mer%29_-_James_Tissot_-_overall.jpg\n",
      "Processing https://commons.wikimedia.org/wiki/File:Jesus_walks_on_Water,_St_Botolph_without_Aldersgate.jpg ...\n",
      "Updated URL: https://upload.wikimedia.org/wikipedia/commons/7/7e/Jesus_walks_on_Water%2C_St_Botolph_without_Aldersgate.jpg\n",
      "Processing https://commons.wikimedia.org/wiki/File:WEB-0556_prayer_shawl.jpg ...\n",
      "Failed to retrieve https://commons.wikimedia.org/wiki/File:WEB-0556_prayer_shawl.jpg: 404 Client Error: Not Found for url: https://commons.wikimedia.org/wiki/File:WEB-0556_prayer_shawl.jpg\n",
      "No updated URL found for https://commons.wikimedia.org/wiki/File:WEB-0556_prayer_shawl.jpg\n",
      "Processing https://upload.wikimedia.org/wikipedia/commons/8/83/Job%27s_Evil_Dreams-butts.jpg ...\n"
     ]
    },
    {
     "name": "stderr",
     "output_type": "stream",
     "text": [
      "Some characters could not be decoded, and were replaced with REPLACEMENT CHARACTER.\n"
     ]
    },
    {
     "name": "stdout",
     "output_type": "stream",
     "text": [
      "Failed to find updated URL on page https://upload.wikimedia.org/wikipedia/commons/8/83/Job%27s_Evil_Dreams-butts.jpg\n",
      "No updated URL found for https://upload.wikimedia.org/wikipedia/commons/8/83/Job%27s_Evil_Dreams-butts.jpg\n",
      "Processing https://commons.wikimedia.org/wiki/File:Fragment_of_the_Gospel_of_St._John_2-11-22_MET_sf09-182-43s2.jpg ...\n",
      "Updated URL: https://upload.wikimedia.org/wikipedia/commons/0/0f/Fragment_of_the_Gospel_of_St._John_2-11-22_MET_sf09-182-43s2.jpg\n",
      "Processing https://commons.wikimedia.org/wiki/File:Brueghel_l'Ancien_-_La_Pr%C3%A9dication_de_Saint_Jean-Baptiste.jpg ...\n",
      "Updated URL: https://upload.wikimedia.org/wikipedia/commons/c/ce/Brueghel_l%27Ancien_-_La_Pr%C3%A9dication_de_Saint_Jean-Baptiste.jpg\n",
      "Processing https://commons.wikimedia.org/wiki/File:Joseph%27s_Tomb_LOC_matpc.17199.png ...\n",
      "Failed to retrieve https://commons.wikimedia.org/wiki/File:Joseph%27s_Tomb_LOC_matpc.17199.png: 404 Client Error: Not Found for url: https://commons.wikimedia.org/wiki/File:Joseph%27s_Tomb_LOC_matpc.17199.png\n",
      "No updated URL found for https://commons.wikimedia.org/wiki/File:Joseph%27s_Tomb_LOC_matpc.17199.png\n",
      "Processing https://upload.wikimedia.org/wikipedia/commons/0/08/PikiWiki_Israel_32657_Judaean_Desert.JPG ...\n"
     ]
    },
    {
     "name": "stderr",
     "output_type": "stream",
     "text": [
      "Some characters could not be decoded, and were replaced with REPLACEMENT CHARACTER.\n"
     ]
    },
    {
     "name": "stdout",
     "output_type": "stream",
     "text": [
      "Failed to find updated URL on page https://upload.wikimedia.org/wikipedia/commons/0/08/PikiWiki_Israel_32657_Judaean_Desert.JPG\n",
      "No updated URL found for https://upload.wikimedia.org/wikipedia/commons/0/08/PikiWiki_Israel_32657_Judaean_Desert.JPG\n",
      "Processing https://upload.wikimedia.org/wikipedia/commons/1/1f/Juniperus_excelsa_foliage_Bulgaria_2.jpg ...\n"
     ]
    },
    {
     "name": "stderr",
     "output_type": "stream",
     "text": [
      "Some characters could not be decoded, and were replaced with REPLACEMENT CHARACTER.\n"
     ]
    },
    {
     "name": "stdout",
     "output_type": "stream",
     "text": [
      "Failed to find updated URL on page https://upload.wikimedia.org/wikipedia/commons/1/1f/Juniperus_excelsa_foliage_Bulgaria_2.jpg\n",
      "No updated URL found for https://upload.wikimedia.org/wikipedia/commons/1/1f/Juniperus_excelsa_foliage_Bulgaria_2.jpg\n",
      "Processing https://upload.wikimedia.org/wikipedia/commons/5/51/Juniperus_excelsa_Antalya_3.jpg ...\n"
     ]
    },
    {
     "name": "stderr",
     "output_type": "stream",
     "text": [
      "Some characters could not be decoded, and were replaced with REPLACEMENT CHARACTER.\n"
     ]
    },
    {
     "name": "stdout",
     "output_type": "stream",
     "text": [
      "Failed to find updated URL on page https://upload.wikimedia.org/wikipedia/commons/5/51/Juniperus_excelsa_Antalya_3.jpg\n",
      "No updated URL found for https://upload.wikimedia.org/wikipedia/commons/5/51/Juniperus_excelsa_Antalya_3.jpg\n",
      "Processing https://commons.wikimedia.org/wiki/File:Leaf_Katydid_(Tettigoniidae)_(13908990358).jpg ...\n",
      "Updated URL: https://upload.wikimedia.org/wikipedia/commons/a/a6/Leaf_Katydid_%28Tettigoniidae%29_%2813908990358%29.jpg\n",
      "Processing https://commons.wikimedia.org/wiki/File:Tropenmuseum_Royal_Tropical_Institute_Objectnumber_3537-18_Kerffluit_van_bamboe_met_drie_vingerga.jpg ...\n",
      "Updated URL: https://upload.wikimedia.org/wikipedia/commons/5/58/Tropenmuseum_Royal_Tropical_Institute_Objectnumber_3537-18_Kerffluit_van_bamboe_met_drie_vingerga.jpg\n",
      "Processing https://pixabay.com/images/id-3107057/ ...\n",
      "Failed to retrieve https://pixabay.com/images/id-3107057/: 403 Client Error: Forbidden for url: https://pixabay.com/images/id-3107057/\n",
      "No updated URL found for https://pixabay.com/images/id-3107057/\n",
      "Processing https://commons.wikimedia.org/wiki/File:Black_Kite_2364818940.jpg ...\n",
      "Updated URL: https://upload.wikimedia.org/wikipedia/commons/8/8d/Black_Kite_2364818940.jpg\n",
      "Processing https://commons.wikimedia.org/wiki/File:2016_Anio%C5%82_przed_mauzoleum_von_Magnis%C3%B3w_w_O%C5%82drzychowicach_K%C5%82odzkich.jpg ...\n",
      "Updated URL: https://upload.wikimedia.org/wikipedia/commons/7/79/2016_Anio%C5%82_przed_mauzoleum_von_Magnis%C3%B3w_w_O%C5%82drzychowicach_K%C5%82odzkich.jpg\n",
      "Processing https://commons.wikimedia.org/wiki/File:TeposcolulaKneelingSaint.jpg ...\n",
      "Updated URL: https://upload.wikimedia.org/wikipedia/commons/9/93/TeposcolulaKneelingSaint.jpg\n",
      "Processing https://commons.wikimedia.org/wiki/File:Komos_site_baie_Cr%C3%A8te.jpg ...\n",
      "Updated URL: https://upload.wikimedia.org/wikipedia/commons/3/3f/Komos_site_baie_Cr%C3%A8te.jpg\n",
      "Processing https://commons.wikimedia.org/wiki/File:WEB-0571_eat_with_hands.jpg ...\n",
      "Failed to retrieve https://commons.wikimedia.org/wiki/File:WEB-0571_eat_with_hands.jpg: 404 Client Error: Not Found for url: https://commons.wikimedia.org/wiki/File:WEB-0571_eat_with_hands.jpg\n",
      "No updated URL found for https://commons.wikimedia.org/wiki/File:WEB-0571_eat_with_hands.jpg\n",
      "Processing https://commons.wikimedia.org/wiki/File:Kyrenia_01-2017_img04_view_from_castle_bastion.jpg ...\n",
      "Updated URL: https://upload.wikimedia.org/wikipedia/commons/c/c4/Kyrenia_01-2017_img04_view_from_castle_bastion.jpg\n",
      "Processing https://commons.wikimedia.org/wiki/File:Lachish_III_obv.JPG ...\n",
      "Updated URL: https://upload.wikimedia.org/wikipedia/commons/8/88/Lachish_III_obv.JPG\n",
      "Processing https://upload.wikimedia.org/wikipedia/commons/7/7c/Lachish_Relief,_British_Museum_5.jpg ...\n"
     ]
    },
    {
     "name": "stderr",
     "output_type": "stream",
     "text": [
      "Some characters could not be decoded, and were replaced with REPLACEMENT CHARACTER.\n"
     ]
    },
    {
     "name": "stdout",
     "output_type": "stream",
     "text": [
      "Failed to find updated URL on page https://upload.wikimedia.org/wikipedia/commons/7/7c/Lachish_Relief,_British_Museum_5.jpg\n",
      "No updated URL found for https://upload.wikimedia.org/wikipedia/commons/7/7c/Lachish_Relief,_British_Museum_5.jpg\n",
      "Processing https://upload.wikimedia.org/wikipedia/commons/7/7c/Lachish_Relief,_British_Museum_5.jpg ...\n"
     ]
    },
    {
     "name": "stderr",
     "output_type": "stream",
     "text": [
      "Some characters could not be decoded, and were replaced with REPLACEMENT CHARACTER.\n"
     ]
    },
    {
     "name": "stdout",
     "output_type": "stream",
     "text": [
      "Failed to find updated URL on page https://upload.wikimedia.org/wikipedia/commons/7/7c/Lachish_Relief,_British_Museum_5.jpg\n",
      "No updated URL found for https://upload.wikimedia.org/wikipedia/commons/7/7c/Lachish_Relief,_British_Museum_5.jpg\n",
      "Processing https://commons.wikimedia.org/wiki/File:Ottavio_vannini,_san_giovanni_che_indica_il_Cristo_a_Sant'Andrea.jpg ...\n",
      "Updated URL: https://upload.wikimedia.org/wikipedia/commons/e/e6/Ottavio_vannini%2C_san_giovanni_che_indica_il_Cristo_a_Sant%27Andrea.jpg\n",
      "Processing https://commons.wikimedia.org/wiki/File:2012-lappet-faced-vulture.jpg ...\n",
      "Updated URL: https://upload.wikimedia.org/wikipedia/commons/b/b4/2012-lappet-faced-vulture.jpg\n",
      "Processing https://commons.wikimedia.org/wiki/File:Vitrail_Chartres_210209_07.jpg ...\n",
      "Updated URL: https://upload.wikimedia.org/wikipedia/commons/c/cc/Vitrail_Chartres_210209_07.jpg\n",
      "Processing https://upload.wikimedia.org/wikipedia/commons/e/ea/Illustration_Laurus_nobilis0.jpg ...\n"
     ]
    },
    {
     "name": "stderr",
     "output_type": "stream",
     "text": [
      "Some characters could not be decoded, and were replaced with REPLACEMENT CHARACTER.\n"
     ]
    },
    {
     "name": "stdout",
     "output_type": "stream",
     "text": [
      "Failed to find updated URL on page https://upload.wikimedia.org/wikipedia/commons/e/ea/Illustration_Laurus_nobilis0.jpg\n",
      "No updated URL found for https://upload.wikimedia.org/wikipedia/commons/e/ea/Illustration_Laurus_nobilis0.jpg\n",
      "Processing https://commons.wikimedia.org/wiki/File:Viburnum_tinus.JPG ...\n",
      "Updated URL: https://upload.wikimedia.org/wikipedia/commons/c/c8/Viburnum_tinus.JPG\n",
      "Processing https://commons.wikimedia.org/wiki/File:Lebanon_mountains_from_near_Maqial_el_Qalaa.jpg ...\n",
      "Updated URL: https://upload.wikimedia.org/wikipedia/commons/f/f4/Lebanon_mountains_from_near_Maqial_el_Qalaa.jpg\n",
      "Processing https://pixabay.com/images/id-1055446/ ...\n",
      "Failed to retrieve https://pixabay.com/images/id-1055446/: 403 Client Error: Forbidden for url: https://pixabay.com/images/id-1055446/\n",
      "No updated URL found for https://pixabay.com/images/id-1055446/\n",
      "Processing https://commons.wikimedia.org/wiki/File:Limnatis_nilotica_movement.png ...\n",
      "Updated URL: https://upload.wikimedia.org/wikipedia/commons/8/80/Limnatis_nilotica_movement.png\n",
      "Processing https://commons.wikimedia.org/wiki/File:Purjol%C3%B6k,_Iduns_kokbok.jpg ...\n",
      "Updated URL: https://upload.wikimedia.org/wikipedia/commons/9/9f/Purjol%C3%B6k%2C_Iduns_kokbok.jpg\n",
      "Processing https://commons.wikimedia.org/wiki/File:Herfstprei_Tara.jpg ...\n",
      "Updated URL: https://upload.wikimedia.org/wikipedia/commons/d/d7/Herfstprei_Tara.jpg\n",
      "Processing https://commons.wikimedia.org/wiki/File:Illustration_Lens_culinaris0.jpg ...\n",
      "Updated URL: https://upload.wikimedia.org/wikipedia/commons/d/da/Illustration_Lens_culinaris0.jpg\n",
      "Processing https://pixabay.com/images/id-2833274/ ...\n",
      "Failed to retrieve https://pixabay.com/images/id-2833274/: 403 Client Error: Forbidden for url: https://pixabay.com/images/id-2833274/\n",
      "No updated URL found for https://pixabay.com/images/id-2833274/\n",
      "Processing https://commons.wikimedia.org/wiki/File:Destruction_of_Leviathan.png ...\n",
      "Updated URL: https://upload.wikimedia.org/wikipedia/commons/9/9d/Destruction_of_Leviathan.png\n",
      "Processing https://commons.wikimedia.org/wiki/File:Libya_BMNG.png ...\n",
      "Updated URL: https://upload.wikimedia.org/wikipedia/commons/9/9d/Libya_BMNG.png\n",
      "Processing https://commons.wikimedia.org/wiki/File:Lightning_14.07.2009_20-42-33.JPG ...\n",
      "Updated URL: https://upload.wikimedia.org/wikipedia/commons/2/22/Lightning_14.07.2009_20-42-33.JPG\n",
      "Processing https://commons.wikimedia.org/wiki/File:Lil_candidum_01Hab_Griechenland_Konitsa_04_06_00.jpg ...\n",
      "Updated URL: https://upload.wikimedia.org/wikipedia/commons/e/e6/Lil_candidum_01Hab_Griechenland_Konitsa_04_06_00.jpg\n",
      "Processing https://commons.wikimedia.org/wiki/File:Lilium_candidum_(14434339854).jpg ...\n",
      "Updated URL: https://upload.wikimedia.org/wikipedia/commons/2/20/Lilium_candidum_%2814434339854%29.jpg\n",
      "Processing https://pixabay.com/images/id-2400962/ ...\n",
      "Failed to retrieve https://pixabay.com/images/id-2400962/: 403 Client Error: Forbidden for url: https://pixabay.com/images/id-2400962/\n",
      "No updated URL found for https://pixabay.com/images/id-2400962/\n",
      "Processing https://commons.wikimedia.org/wiki/File:ISR-2015-Jerusalem-Lions'_Gate.jpg ...\n",
      "Updated URL: https://upload.wikimedia.org/wikipedia/commons/0/02/ISR-2015-Jerusalem-Lions%27_Gate.jpg\n",
      "Processing https://pixabay.com/images/id-1686104/ ...\n",
      "Failed to retrieve https://pixabay.com/images/id-1686104/: 403 Client Error: Forbidden for url: https://pixabay.com/images/id-1686104/\n",
      "No updated URL found for https://pixabay.com/images/id-1686104/\n",
      "Processing https://pixabay.com/images/id-2845896/ ...\n",
      "Failed to retrieve https://pixabay.com/images/id-2845896/: 403 Client Error: Forbidden for url: https://pixabay.com/images/id-2845896/\n",
      "No updated URL found for https://pixabay.com/images/id-2845896/\n",
      "Processing https://upload.wikimedia.org/wikipedia/commons/3/3c/Liquidambar_orientalis_-_Köhler%E2%80%93s_Medizinal-Pflanzen-089.jpg ...\n"
     ]
    },
    {
     "name": "stderr",
     "output_type": "stream",
     "text": [
      "Some characters could not be decoded, and were replaced with REPLACEMENT CHARACTER.\n"
     ]
    },
    {
     "name": "stdout",
     "output_type": "stream",
     "text": [
      "Failed to find updated URL on page https://upload.wikimedia.org/wikipedia/commons/3/3c/Liquidambar_orientalis_-_Köhler%E2%80%93s_Medizinal-Pflanzen-089.jpg\n",
      "No updated URL found for https://upload.wikimedia.org/wikipedia/commons/3/3c/Liquidambar_orientalis_-_Köhler%E2%80%93s_Medizinal-Pflanzen-089.jpg\n",
      "Processing https://commons.wikimedia.org/wiki/File:Liquidambar_orientalis_-_Turkish_sweetgum_03.jpg ...\n",
      "Updated URL: https://upload.wikimedia.org/wikipedia/commons/b/b7/Liquidambar_orientalis_-_Turkish_sweetgum_03.jpg\n",
      "Processing https://commons.wikimedia.org/wiki/File:Liquidambar_orientalis_-_Turkish_sweetgum_01.jpg ...\n",
      "Updated URL: https://upload.wikimedia.org/wikipedia/commons/7/75/Liquidambar_orientalis_-_Turkish_sweetgum_01.jpg\n",
      "Processing https://commons.wikimedia.org/wiki/File:Athene_noctua_(portrait).jpg ...\n",
      "Updated URL: https://upload.wikimedia.org/wikipedia/commons/0/0a/Athene_noctua_%28portrait%29.jpg\n",
      "Processing https://pixabay.com/images/id-77894/ ...\n",
      "Failed to retrieve https://pixabay.com/images/id-77894/: 403 Client Error: Forbidden for url: https://pixabay.com/images/id-77894/\n",
      "No updated URL found for https://pixabay.com/images/id-77894/\n",
      "Processing https://upload.wikimedia.org/wikipedia/commons/0/09/B_Facundus_117v.jpg ...\n"
     ]
    },
    {
     "name": "stderr",
     "output_type": "stream",
     "text": [
      "Some characters could not be decoded, and were replaced with REPLACEMENT CHARACTER.\n"
     ]
    },
    {
     "name": "stdout",
     "output_type": "stream",
     "text": [
      "Failed to find updated URL on page https://upload.wikimedia.org/wikipedia/commons/0/09/B_Facundus_117v.jpg\n",
      "No updated URL found for https://upload.wikimedia.org/wikipedia/commons/0/09/B_Facundus_117v.jpg\n",
      "Processing https://upload.wikimedia.org/wikipedia/commons/8/8a/The_Vision_of_the_Lamb_in_the_Midst_of_the_Four_Living_Creatures_and_the_Twenty-Four_Elders_-_Google_Art_Project.jpg ...\n"
     ]
    },
    {
     "name": "stderr",
     "output_type": "stream",
     "text": [
      "Some characters could not be decoded, and were replaced with REPLACEMENT CHARACTER.\n"
     ]
    },
    {
     "name": "stdout",
     "output_type": "stream",
     "text": [
      "Failed to find updated URL on page https://upload.wikimedia.org/wikipedia/commons/8/8a/The_Vision_of_the_Lamb_in_the_Midst_of_the_Four_Living_Creatures_and_the_Twenty-Four_Elders_-_Google_Art_Project.jpg\n",
      "No updated URL found for https://upload.wikimedia.org/wikipedia/commons/8/8a/The_Vision_of_the_Lamb_in_the_Midst_of_the_Four_Living_Creatures_and_the_Twenty-Four_Elders_-_Google_Art_Project.jpg\n",
      "Processing https://upload.wikimedia.org/wikipedia/commons/1/1b/Fl-_90_Apocalypse_do_Lorv%C3%A3o,_Vis%C3%A3o_do_Cordeiro_e_dos_Quatro_Seres.jpg ...\n"
     ]
    },
    {
     "name": "stderr",
     "output_type": "stream",
     "text": [
      "Some characters could not be decoded, and were replaced with REPLACEMENT CHARACTER.\n"
     ]
    },
    {
     "name": "stdout",
     "output_type": "stream",
     "text": [
      "Failed to find updated URL on page https://upload.wikimedia.org/wikipedia/commons/1/1b/Fl-_90_Apocalypse_do_Lorv%C3%A3o,_Vis%C3%A3o_do_Cordeiro_e_dos_Quatro_Seres.jpg\n",
      "No updated URL found for https://upload.wikimedia.org/wikipedia/commons/1/1b/Fl-_90_Apocalypse_do_Lorv%C3%A3o,_Vis%C3%A3o_do_Cordeiro_e_dos_Quatro_Seres.jpg\n",
      "Processing https://upload.wikimedia.org/wikipedia/commons/4/44/Beato_De_Manchester.jpg ...\n"
     ]
    },
    {
     "name": "stderr",
     "output_type": "stream",
     "text": [
      "Some characters could not be decoded, and were replaced with REPLACEMENT CHARACTER.\n"
     ]
    },
    {
     "name": "stdout",
     "output_type": "stream",
     "text": [
      "Failed to find updated URL on page https://upload.wikimedia.org/wikipedia/commons/4/44/Beato_De_Manchester.jpg\n",
      "No updated URL found for https://upload.wikimedia.org/wikipedia/commons/4/44/Beato_De_Manchester.jpg\n",
      "Processing https://upload.wikimedia.org/wikipedia/commons/5/50/Locusta_migratoria_(gregarious_phase)_(5012171245).jpg ...\n"
     ]
    },
    {
     "name": "stderr",
     "output_type": "stream",
     "text": [
      "Some characters could not be decoded, and were replaced with REPLACEMENT CHARACTER.\n"
     ]
    },
    {
     "ename": "ParserRejectedMarkup",
     "evalue": "The markup you provided was rejected by the parser. Trying a different parser or a different encoding may help.\n\nOriginal exception(s) from parser:\n AssertionError: unknown status keyword 'X' in marked section",
     "output_type": "error",
     "traceback": [
      "\u001b[0;31m---------------------------------------------------------------------------\u001b[0m",
      "\u001b[0;31mParserRejectedMarkup\u001b[0m                      Traceback (most recent call last)",
      "Cell \u001b[0;32mIn[8], line 54\u001b[0m\n\u001b[1;32m     52\u001b[0m \u001b[39m# Specify the path to your TSV file\u001b[39;00m\n\u001b[1;32m     53\u001b[0m file_path \u001b[39m=\u001b[39m \u001b[39m'\u001b[39m\u001b[39m/Users/ryderwishart/alignments-1/alignments/public/UBS-images-metadata.tsv\u001b[39m\u001b[39m'\u001b[39m\n\u001b[0;32m---> 54\u001b[0m process_tsv(file_path)\n",
      "Cell \u001b[0;32mIn[8], line 43\u001b[0m, in \u001b[0;36mprocess_tsv\u001b[0;34m(file_path)\u001b[0m\n\u001b[1;32m     41\u001b[0m original_url \u001b[39m=\u001b[39m row[\u001b[39m'\u001b[39m\u001b[39mURL\u001b[39m\u001b[39m'\u001b[39m]\n\u001b[1;32m     42\u001b[0m \u001b[39mprint\u001b[39m(\u001b[39mf\u001b[39m\u001b[39m\"\u001b[39m\u001b[39mProcessing \u001b[39m\u001b[39m{\u001b[39;00moriginal_url\u001b[39m}\u001b[39;00m\u001b[39m ...\u001b[39m\u001b[39m\"\u001b[39m)\n\u001b[0;32m---> 43\u001b[0m updated_url \u001b[39m=\u001b[39m extract_updated_url(original_url)\n\u001b[1;32m     44\u001b[0m \u001b[39mif\u001b[39;00m updated_url:\n\u001b[1;32m     45\u001b[0m     \u001b[39mprint\u001b[39m(\u001b[39mf\u001b[39m\u001b[39m\"\u001b[39m\u001b[39mUpdated URL: \u001b[39m\u001b[39m{\u001b[39;00mupdated_url\u001b[39m}\u001b[39;00m\u001b[39m\"\u001b[39m)\n",
      "Cell \u001b[0;32mIn[8], line 19\u001b[0m, in \u001b[0;36mextract_updated_url\u001b[0;34m(url)\u001b[0m\n\u001b[1;32m     16\u001b[0m     \u001b[39mreturn\u001b[39;00m \u001b[39mNone\u001b[39;00m\n\u001b[1;32m     18\u001b[0m \u001b[39mtry\u001b[39;00m:\n\u001b[0;32m---> 19\u001b[0m     soup \u001b[39m=\u001b[39m BeautifulSoup(response\u001b[39m.\u001b[39;49mcontent, \u001b[39m'\u001b[39;49m\u001b[39mhtml.parser\u001b[39;49m\u001b[39m'\u001b[39;49m)\n\u001b[1;32m     20\u001b[0m \u001b[39mexcept\u001b[39;00m \u001b[39mAssertionError\u001b[39;00m:\n\u001b[1;32m     21\u001b[0m     \u001b[39mprint\u001b[39m(\u001b[39mf\u001b[39m\u001b[39m\"\u001b[39m\u001b[39mFailed to parse HTML for \u001b[39m\u001b[39m{\u001b[39;00murl\u001b[39m}\u001b[39;00m\u001b[39m\"\u001b[39m)\n",
      "File \u001b[0;32m/opt/homebrew/lib/python3.11/site-packages/bs4/__init__.py:344\u001b[0m, in \u001b[0;36mBeautifulSoup.__init__\u001b[0;34m(self, markup, features, builder, parse_only, from_encoding, exclude_encodings, element_classes, **kwargs)\u001b[0m\n\u001b[1;32m    342\u001b[0m \u001b[39mif\u001b[39;00m \u001b[39mnot\u001b[39;00m success:\n\u001b[1;32m    343\u001b[0m     other_exceptions \u001b[39m=\u001b[39m [\u001b[39mstr\u001b[39m(e) \u001b[39mfor\u001b[39;00m e \u001b[39min\u001b[39;00m rejections]\n\u001b[0;32m--> 344\u001b[0m     \u001b[39mraise\u001b[39;00m ParserRejectedMarkup(\n\u001b[1;32m    345\u001b[0m         \u001b[39m\"\u001b[39m\u001b[39mThe markup you provided was rejected by the parser. Trying a different parser or a different encoding may help.\u001b[39m\u001b[39m\\n\u001b[39;00m\u001b[39m\\n\u001b[39;00m\u001b[39mOriginal exception(s) from parser:\u001b[39m\u001b[39m\\n\u001b[39;00m\u001b[39m \u001b[39m\u001b[39m\"\u001b[39m \u001b[39m+\u001b[39m \u001b[39m\"\u001b[39m\u001b[39m\\n\u001b[39;00m\u001b[39m \u001b[39m\u001b[39m\"\u001b[39m\u001b[39m.\u001b[39mjoin(other_exceptions)\n\u001b[1;32m    346\u001b[0m     )\n\u001b[1;32m    348\u001b[0m \u001b[39m# Clear out the markup and remove the builder's circular\u001b[39;00m\n\u001b[1;32m    349\u001b[0m \u001b[39m# reference to this object.\u001b[39;00m\n\u001b[1;32m    350\u001b[0m \u001b[39mself\u001b[39m\u001b[39m.\u001b[39mmarkup \u001b[39m=\u001b[39m \u001b[39mNone\u001b[39;00m\n",
      "\u001b[0;31mParserRejectedMarkup\u001b[0m: The markup you provided was rejected by the parser. Trying a different parser or a different encoding may help.\n\nOriginal exception(s) from parser:\n AssertionError: unknown status keyword 'X' in marked section"
     ]
    }
   ],
   "source": [
    "import csv\n",
    "from bs4 import BeautifulSoup\n",
    "import requests\n",
    "import time\n",
    "from fake_useragent import UserAgent\n",
    "\n",
    "def extract_updated_url(url):\n",
    "    try:\n",
    "        ua = UserAgent()\n",
    "        headers = {'User-Agent': ua.random}\n",
    "        response = requests.get(url, headers=headers)\n",
    "        response.raise_for_status()  # Raise an exception for HTTP errors\n",
    "        time.sleep(1)  # Add a delay to comply with the User-Agent policy\n",
    "    except requests.RequestException as e:\n",
    "        print(f\"Failed to retrieve {url}: {e}\")\n",
    "        return None\n",
    "\n",
    "    try:\n",
    "        soup = BeautifulSoup(response.content, 'html.parser')\n",
    "    except AssertionError:\n",
    "        print(f\"Failed to parse HTML for {url}\")\n",
    "        return None\n",
    "    file_element = soup.find(id='file')\n",
    "    if file_element and file_element.a:\n",
    "        return file_element.a['href']\n",
    "    else:\n",
    "        print(f\"Failed to find updated URL on page {url}\")\n",
    "        return None\n",
    "\n",
    "def process_tsv(file_path):\n",
    "    with open(file_path, newline='', encoding='utf-8') as tsvfile:\n",
    "        reader = csv.DictReader(tsvfile, delimiter='\\t')\n",
    "        fieldnames = reader.fieldnames\n",
    "        fieldnames.append('updatedURL')\n",
    "        \n",
    "        with open(file_path + '_updated.tsv', 'w', newline='', encoding='utf-8') as tsvfile_out:\n",
    "            writer = csv.DictWriter(tsvfile_out, fieldnames=fieldnames, delimiter='\\t')\n",
    "            writer.writeheader()\n",
    "            \n",
    "            for row in reader:\n",
    "                original_url = row['URL']\n",
    "                print(f\"Processing {original_url} ...\")\n",
    "                updated_url = extract_updated_url(original_url)\n",
    "                if updated_url:\n",
    "                    print(f\"Updated URL: {updated_url}\")\n",
    "                    row['updatedURL'] = updated_url\n",
    "                else:\n",
    "                    print(f\"No updated URL found for {original_url}\")\n",
    "                    row['updatedURL'] = ''\n",
    "                writer.writerow(row)\n",
    "\n",
    "# Specify the path to your TSV file\n",
    "file_path = '/Users/ryderwishart/alignments-1/alignments/public/UBS-images-metadata.tsv'\n",
    "process_tsv(file_path)\n",
    "\n",
    "\n"
   ]
  }
 ],
 "metadata": {
  "kernelspec": {
   "display_name": "Python 3",
   "language": "python",
   "name": "python3"
  },
  "language_info": {
   "codemirror_mode": {
    "name": "ipython",
    "version": 3
   },
   "file_extension": ".py",
   "mimetype": "text/x-python",
   "name": "python",
   "nbconvert_exporter": "python",
   "pygments_lexer": "ipython3",
   "version": "3.11.5"
  },
  "orig_nbformat": 4
 },
 "nbformat": 4,
 "nbformat_minor": 2
}
