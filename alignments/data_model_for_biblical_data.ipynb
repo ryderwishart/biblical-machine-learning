{
  "cells": [
    {
      "cell_type": "code",
      "execution_count": 1,
      "metadata": {
        "id": "NXFVZO7sBCWU"
      },
      "outputs": [],
      "source": [
        "from pydantic import BaseModel\n",
        "from typing import List\n",
        "import xml.etree.ElementTree as ET\n",
        "import re\n",
        "import os\n",
        "import json\n",
        "from typing import Union"
      ]
    },
    {
      "cell_type": "code",
      "execution_count": 2,
      "metadata": {
        "id": "6ZowSnHgBOA0"
      },
      "outputs": [],
      "source": [
        "class Clause(BaseModel):\n",
        "    AlternativeAnalysis: str\n",
        "    DiscourseGenre: str\n",
        "    IllocutionaryForce: str\n",
        "    ImplicitInformation: str\n",
        "    Listener: str\n",
        "    Location: str\n",
        "    NotionalStructureSchema: str\n",
        "    RhetoricalQuestion: str\n",
        "    SalienceBand: str\n",
        "    Sequence: str\n",
        "    Speaker: str\n",
        "    SpeakerListenerAge: str\n",
        "    SpeakersAge: str\n",
        "    SpeakersAttitude: str\n",
        "    SpeechStyle: str\n",
        "    TopicNP: str\n",
        "    Type: str\n",
        "    VocabularyAlternate: str\n",
        "\n",
        "class NP(BaseModel):\n",
        "    Implicit: str\n",
        "    Relativized: str\n",
        "    SemanticRole: str\n",
        "    Sequence: str\n",
        "    ThingThingRelationship: str\n",
        "\n",
        "class Noun(BaseModel):\n",
        "    FutureExpansion: str\n",
        "    LexicalSense: str\n",
        "    NounListIndex: Union[str, int]\n",
        "    Number: str\n",
        "    ParticipantStatus: str\n",
        "    ParticipantTracking: str\n",
        "    Person: str\n",
        "    Polarity: str\n",
        "    Proximity: str\n",
        "    SemanticComplexityLevel: int\n",
        "    SurfaceRealization: str\n",
        "\n",
        "class VP(BaseModel):\n",
        "    Implicit: str\n",
        "    Sequence: str\n",
        "\n",
        "class Verb(BaseModel):\n",
        "    AdjectiveDegree: str\n",
        "    Aspect: str\n",
        "    LexicalSense: str\n",
        "    Mood: str\n",
        "    Polarity: str\n",
        "    Reflexivity: str\n",
        "    SemanticComplexityLevel: Union[str, int]\n",
        "    TargetAspect: str\n",
        "    TargetMood: str\n",
        "    TargetTenseForm: str\n",
        "    Time: str\n",
        "\n",
        "class AdjP(BaseModel):\n",
        "    Implicit: str\n",
        "    Sequence: str\n",
        "    Usage: str\n",
        "    \n",
        "class Adjective(BaseModel):\n",
        "    Degree: str\n",
        "    LexicalSense: str\n",
        "    SemanticComplexityLevel: Union[str, int]\n",
        "    \n",
        "class AdvP(BaseModel):\n",
        "    Implicit: str\n",
        "    Sequence: str\n",
        "    \n",
        "class Adverb(BaseModel):\n",
        "    Degree: str\n",
        "    LexicalSense: str\n",
        "    SemanticComplexityLevel: int\n",
        "    \n",
        "class Adposition(BaseModel):\n",
        "    LexicalSense: str\n",
        "    SemanticComplexityLevel: int\n",
        "\n",
        "class Conjunction(BaseModel):\n",
        "    Implicit: str\n",
        "    LexicalSense: str\n",
        "    SemanticComplexityLevel: int"
      ]
    },
    {
      "cell_type": "code",
      "execution_count": 3,
      "metadata": {},
      "outputs": [],
      "source": [
        "class ClauseXMLData(BaseModel):\n",
        "    Clause: List[Clause]\n",
        "\n",
        "class NPXMLData(BaseModel):\n",
        "    NP: List[NP]\n",
        "\n",
        "class NounXMLData(BaseModel):\n",
        "    Noun: List[Noun]\n",
        "\n",
        "class VPXMLData(BaseModel):\n",
        "    VP: List[VP]\n",
        "\n",
        "class VerbXMLData(BaseModel):\n",
        "    Verb: List[Verb]\n",
        "###    \n",
        "class AdjPXMLData(BaseModel):\n",
        "    AdjP: List[AdjP]\n",
        "\n",
        "class AdjectiveXMLData(BaseModel):\n",
        "    Adjective: List[Adjective]\n",
        "\n",
        "class AdvPXMLData(BaseModel):\n",
        "    AdvP: List[AdvP]\n",
        "\n",
        "class AdverbXMLData(BaseModel):\n",
        "    Adverb: List[Adverb]\n",
        "\n",
        "class AdpositionXMLData(BaseModel):\n",
        "    Adposition: List[Adposition]\n",
        "\n",
        "class ConjXMLData(BaseModel):\n",
        "    Conjunction: List[Conjunction]"
      ]
    },
    {
      "cell_type": "code",
      "execution_count": 4,
      "metadata": {},
      "outputs": [],
      "source": [
        "folder_path = 'xml'\n",
        "file_list = os.listdir(folder_path)"
      ]
    },
    {
      "cell_type": "code",
      "execution_count": 5,
      "metadata": {},
      "outputs": [],
      "source": [
        "xml_files = []\n",
        "\n",
        "for file_name in file_list:\n",
        "    if file_name.endswith('.xml'):\n",
        "        file_path = os.path.join(folder_path, file_name)\n",
        "        \n",
        "        with open(file_path, 'r') as file:\n",
        "            text_file = file.read()\n",
        "            \n",
        "        xml_files.append(text_file)"
      ]
    },
    {
      "cell_type": "code",
      "execution_count": 7,
      "metadata": {},
      "outputs": [],
      "source": [
        "def clean_text(xml_data):\n",
        "    xml_data = xml_data.replace(\"<!DOCTYPE  SYSTEM \\\"TBTA\\\">\", \"\")\n",
        "    xml_data = xml_data.replace(\"Speaker`sAge\", \"SpeakersAge\")\n",
        "    xml_data = xml_data.replace(\"Speaker`sAttitude\", \"SpeakersAttitude\")\n",
        "    xml_data = xml_data.replace(\"TargetTense&Form\", \"TargetTenseForm\")\n",
        "    xml_data = xml_data.replace(\"Speaker-ListenerAge\", \"SpeakerListenerAge\")\n",
        "    xml_data = xml_data.replace(\"Thing-ThingRelationship\", \"ThingThingRelationship\")\n",
        "    xml_data = re.sub(r\"(<\\?xml[^>]+\\?>)\", r\"\\1<root>\", xml_data) + \"</root>\"\n",
        "    return xml_data"
      ]
    },
    {
      "cell_type": "code",
      "execution_count": 8,
      "metadata": {},
      "outputs": [],
      "source": [
        "def parse_xml_data(root, tag, model):\n",
        "    parsed_data = []\n",
        "    for element in root.findall(f'.//{tag}'):\n",
        "        try:\n",
        "            parsed_element = model.parse_obj(element.attrib)\n",
        "            parsed_data.append(parsed_element)\n",
        "        except Exception as e:\n",
        "            print(f\"Error parsing {tag}: {e}\")\n",
        "    return parsed_data"
      ]
    },
    {
      "attachments": {},
      "cell_type": "markdown",
      "metadata": {},
      "source": [
        "adverbial phrases and adverbs were not being parsed correctly for some reason, so they are done separately"
      ]
    },
    {
      "cell_type": "code",
      "execution_count": 9,
      "metadata": {},
      "outputs": [],
      "source": [
        "parsed_advps = []\n",
        "parsed_advs = []\n",
        "\n",
        "for xml_data in xml_files:\n",
        "    xml_data = clean_text(xml_data)\n",
        "    root = ET.fromstring(xml_data.strip())\n",
        "\n",
        "    for element in root.findall('.//AdvP'):\n",
        "        parsed_element = AdvP.parse_obj(element.attrib)\n",
        "        parsed_advps.append(parsed_element)\n",
        "    \n",
        "    for element in root.findall('.//Adverb'):\n",
        "        parsed_element = Adverb.parse_obj(element.attrib)\n",
        "        parsed_advs.append(parsed_element)\n"
      ]
    },
    {
      "cell_type": "code",
      "execution_count": 10,
      "metadata": {},
      "outputs": [],
      "source": [
        "for xml_data in xml_files:\n",
        "    xml_data = clean_text(xml_data)\n",
        "    \n",
        "    root = ET.fromstring(xml_data.strip())\n",
        "    \n",
        "    parsed_clauses = parse_xml_data(root, 'Clause', Clause)\n",
        "    parsed_nps = parse_xml_data(root, 'NP', NP)\n",
        "    parsed_vps = parse_xml_data(root, 'VP', VP)\n",
        "    parsed_conjs = parse_xml_data(root, 'Conjunction', Conjunction)\n",
        "    parsed_verbs = parse_xml_data(root, 'Verb', Verb)\n",
        "    parsed_nouns = parse_xml_data(root, 'Noun', Noun)\n",
        "    parsed_adjps = parse_xml_data(root, 'AdjP', AdjP)\n",
        "    parsed_adjs = parse_xml_data(root, 'Adjective', Adjective)\n",
        "    parsed_adpos = parse_xml_data(root, 'Adposition', Adposition)"
      ]
    },
    {
      "cell_type": "code",
      "execution_count": 11,
      "metadata": {
        "id": "1Jb_tnUiGmFw"
      },
      "outputs": [],
      "source": [
        "clauses = ClauseXMLData(Clause=parsed_clauses)\n",
        "nps = NPXMLData(NP=parsed_nps)\n",
        "vps = VPXMLData(VP=parsed_vps)\n",
        "conjs = ConjXMLData(Conjunction=parsed_conjs)\n",
        "verbs = VerbXMLData(Verb=parsed_verbs)\n",
        "nouns = NounXMLData(Noun=parsed_nouns)\n",
        "advps = AdvPXMLData(AdvP=parsed_advps)\n",
        "advs = AdverbXMLData(Adverb=parsed_advs)\n",
        "adjps = AdjPXMLData(AdjP=parsed_adjps)\n",
        "adjs = AdjectiveXMLData(Adjective=parsed_adjs)\n",
        "adpos = AdpositionXMLData(Adposition=parsed_adpos)"
      ]
    },
    {
      "cell_type": "code",
      "execution_count": 12,
      "metadata": {},
      "outputs": [],
      "source": [
        "def store_unique_values(data):\n",
        "    unique_values = {label: set() for label in data[0].dict().keys()}\n",
        "    for item in data:\n",
        "        for label, value in item.dict().items():\n",
        "            unique_values[label].add(value)\n",
        "    \n",
        "    return unique_values"
      ]
    },
    {
      "cell_type": "code",
      "execution_count": 13,
      "metadata": {},
      "outputs": [],
      "source": [
        "def write_unique_values_to_file(data, filename):\n",
        "    with open(filename, 'w') as file:\n",
        "        json.dump({k: list(v) for k, v in data.items()}, file)"
      ]
    },
    {
      "cell_type": "code",
      "execution_count": 14,
      "metadata": {},
      "outputs": [],
      "source": [
        "write_unique_values_to_file(store_unique_values(clauses.Clause), 'unique_clause_values.txt')\n",
        "write_unique_values_to_file(store_unique_values(nps.NP), 'unique_np_values.txt')\n",
        "write_unique_values_to_file(store_unique_values(vps.VP), 'unique_vp_values.txt')\n",
        "write_unique_values_to_file(store_unique_values(conjs.Conjunction), 'unique_conj_values.txt')\n",
        "write_unique_values_to_file(store_unique_values(verbs.Verb), 'unique_verb_values.txt')\n",
        "write_unique_values_to_file(store_unique_values(nouns.Noun), 'unique_noun_values.txt')\n",
        "write_unique_values_to_file(store_unique_values(advps.AdvP), 'unique_advp_values.txt')\n",
        "write_unique_values_to_file(store_unique_values(advs.Adverb), 'unique_adv_values.txt')\n",
        "write_unique_values_to_file(store_unique_values(adjps.AdjP), 'unique_adjp_values.txt')\n",
        "write_unique_values_to_file(store_unique_values(adjs.Adjective), 'unique_adj_values.txt')\n",
        "write_unique_values_to_file(store_unique_values(adpos.Adposition), 'unique_adpos_values.txt')"
      ]
    },
    {
      "cell_type": "code",
      "execution_count": null,
      "metadata": {},
      "outputs": [],
      "source": []
    }
  ],
  "metadata": {
    "colab": {
      "provenance": []
    },
    "kernelspec": {
      "display_name": "Python 3",
      "name": "python3"
    },
    "language_info": {
      "codemirror_mode": {
        "name": "ipython",
        "version": 3
      },
      "file_extension": ".py",
      "mimetype": "text/x-python",
      "name": "python",
      "nbconvert_exporter": "python",
      "pygments_lexer": "ipython3",
      "version": "3.10.11"
    }
  },
  "nbformat": 4,
  "nbformat_minor": 0
}
