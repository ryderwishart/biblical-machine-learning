{
 "cells": [
  {
   "attachments": {},
   "cell_type": "markdown",
   "metadata": {},
   "source": [
    "# Word Alignment Tutorial\n",
    "\n",
    "In this notebook, we will demonstrate how to use machine to train statistical word alignment models and then use them to predict alignments between sentences. Machine uses the [Thot](https://github.com/sillsdev/thot) library to implement word alignment models. The classes can be enabled by installing the `sil-machine` package with the `thot` optional dependency. Machine has implementations of all common statistical models, including the famous IBM models (1-4), HMM, and FastAlign."
   ]
  },
  {
   "attachments": {},
   "cell_type": "markdown",
   "metadata": {},
   "source": [
    "In order to get this to work with custom data, the following tags were edited in the Settings.xml files for each translation: Naming, FileNameBookNameForm, FileNamePostPart, BooksPresent. It is unclear to me which ones were absolutely necessary, but the rest can be left as is. It is also unclear if the biblical data needs to be in .SFM format, or if other formats are also acceptable."
   ]
  },
  {
   "attachments": {},
   "cell_type": "markdown",
   "metadata": {},
   "source": [
    "## Setting up a parallel text corpus\n",
    "\n",
    "The first step in word alignment is setting up a parallel text corpus. Word alignment models are unsupervised, so they only require a parallel text corpus to train. Manually created alignments are not necessary. So let's create a parallel corpus from the source and target monolingual corpora."
   ]
  },
  {
   "cell_type": "code",
   "execution_count": 1,
   "metadata": {},
   "outputs": [
    {
     "name": "stdout",
     "output_type": "stream",
     "text": [
      "Requirement already satisfied: sil-machine[thot] in c:\\users\\natha\\appdata\\local\\packages\\pythonsoftwarefoundation.python.3.10_qbz5n2kfra8p0\\localcache\\local-packages\\python310\\site-packages (0.9.3)\n",
      "Requirement already satisfied: regex<2022.0.0,>=2021.7.6 in c:\\users\\natha\\appdata\\local\\packages\\pythonsoftwarefoundation.python.3.10_qbz5n2kfra8p0\\localcache\\local-packages\\python310\\site-packages (from sil-machine[thot]) (2021.11.10)\n",
      "Requirement already satisfied: charset-normalizer<3.0.0,>=2.1.1 in c:\\users\\natha\\appdata\\local\\packages\\pythonsoftwarefoundation.python.3.10_qbz5n2kfra8p0\\localcache\\local-packages\\python310\\site-packages (from sil-machine[thot]) (2.1.1)\n",
      "Requirement already satisfied: sortedcontainers<3.0.0,>=2.4.0 in c:\\users\\natha\\appdata\\local\\packages\\pythonsoftwarefoundation.python.3.10_qbz5n2kfra8p0\\localcache\\local-packages\\python310\\site-packages (from sil-machine[thot]) (2.4.0)\n",
      "Requirement already satisfied: networkx<3.0.0,>=2.6.3 in c:\\users\\natha\\appdata\\local\\packages\\pythonsoftwarefoundation.python.3.10_qbz5n2kfra8p0\\localcache\\local-packages\\python310\\site-packages (from sil-machine[thot]) (2.8.8)\n",
      "Requirement already satisfied: numpy<2.0.0,>=1.19.0 in c:\\users\\natha\\appdata\\local\\packages\\pythonsoftwarefoundation.python.3.10_qbz5n2kfra8p0\\localcache\\local-packages\\python310\\site-packages (from sil-machine[thot]) (1.23.4)\n",
      "Requirement already satisfied: sil-thot<4.0.0,>=3.4.0 in c:\\users\\natha\\appdata\\local\\packages\\pythonsoftwarefoundation.python.3.10_qbz5n2kfra8p0\\localcache\\local-packages\\python310\\site-packages (from sil-machine[thot]) (3.4.1)\n"
     ]
    },
    {
     "name": "stderr",
     "output_type": "stream",
     "text": [
      "\n",
      "[notice] A new release of pip is available: 23.0.1 -> 23.2.1\n",
      "[notice] To update, run: C:\\Users\\natha\\AppData\\Local\\Microsoft\\WindowsApps\\PythonSoftwareFoundation.Python.3.10_qbz5n2kfra8p0\\python.exe -m pip install --upgrade pip\n"
     ]
    }
   ],
   "source": [
    "!pip install sil-machine[thot]"
   ]
  },
  {
   "cell_type": "code",
   "execution_count": 5,
   "metadata": {},
   "outputs": [],
   "source": [
    "from machine.corpora import ParatextTextCorpus\n",
    "from machine.tokenization import LatinWordTokenizer\n",
    "\n",
    "source_corpus = ParatextTextCorpus(\"data/VBL-PT\")\n",
    "target_corpus = ParatextTextCorpus(\"data/WEB-PT\")\n",
    "parallel_corpus = source_corpus.align_rows(target_corpus).tokenize(LatinWordTokenizer())"
   ]
  },
  {
   "attachments": {},
   "cell_type": "markdown",
   "metadata": {},
   "source": [
    "## Simple word alignment\n",
    "\n",
    "The easiest way to align a parallel corpus is to use the `word_align_corpus` function. The function will train the model and align the corpus. The alignment will be stored in the `aligned_word_pairs` property as a collection of `AlignedWordPair` instances. By default, the `word_align_corpus` function uses FastAlign. "
   ]
  },
  {
   "cell_type": "code",
   "execution_count": 6,
   "metadata": {},
   "outputs": [
    {
     "name": "stdout",
     "output_type": "stream",
     "text": [
      "Source: en un principio ʼelohim creó los cielos y la tierra .\n",
      "Target: in the beginning god created the heavens and the earth .\n",
      "Alignment: 0-0 1-1 2-2 3-3 4-4 5-4 5-5 6-6 7-7 8-8 9-9 10-10\n",
      "Source: pero la tierra estaba desolada y vacía , y había oscuridad sobre la superficie del abismo . el espíritu de ʼelohim se movía sobre la superficie de las aguas .\n",
      "Target: now the earth was formless and void , and darkness was over the surface of the deep . and the spirit of god was hovering over the surface of the waters .\n",
      "Alignment: 0-0 1-1 2-2 3-3 4-4 5-5 6-5 6-6 7-7 8-8 10-9 11-11 12-12 13-13 14-15 15-15 15-16 16-17 17-19 18-19 18-20 19-21 20-22 22-24 23-25 24-26 25-27 26-28 27-29 28-30 29-31\n",
      "Source: entonces ʼelohim dijo : haya luz . y hubo luz .\n",
      "Target: and god said , “ let there be light , ” and there was light .\n",
      "Alignment: 0-0 0-2 1-1 2-3 2-4 3-4 3-5 4-6 4-7 5-8 6-10 7-9 7-11 8-12 9-14 10-13 10-15\n",
      "Source: ʼelohim vio que la luz era buena e hizo separación entre la luz y la oscuridad .\n",
      "Target: and god saw that the light was good , and he separated the light from the darkness .\n",
      "Alignment: 0-0 0-1 1-2 2-3 3-4 3-6 4-5 5-5 6-5 7-7 8-12 9-11 10-11 11-10 11-12 12-13 14-14 14-15 15-16 16-17\n",
      "Source: ʼelohim llamó a la luz día y a la oscuridad llamó noche . y fue la tarde y fue la mañana : día primero .\n",
      "Target: god called the light “ day , ” and the darkness he called “ night . ” and there was evening , and there was morning — the first day .\n",
      "Alignment: 0-0 1-1 2-1 3-2 4-3 5-5 6-6 6-7 6-8 7-12 8-9 8-11 9-10 10-12 10-13 11-14 12-15 12-16 13-17 14-18 14-19 15-19 16-20 17-21 17-22 18-23 18-24 19-24 20-25 20-26 21-26 22-27 22-29 23-28 24-30\n"
     ]
    }
   ],
   "source": [
    "from machine.translation import word_align_corpus\n",
    "from machine.corpora import AlignedWordPair\n",
    "\n",
    "aligned_corpus = word_align_corpus(parallel_corpus.lowercase())\n",
    "for row in aligned_corpus.take(5):\n",
    "    print(\"Source:\", row.source_text)\n",
    "    print(\"Target:\", row.target_text)\n",
    "    print(\"Alignment:\", AlignedWordPair.to_string(row.aligned_word_pairs, include_scores=False))"
   ]
  },
  {
   "attachments": {},
   "cell_type": "markdown",
   "metadata": {},
   "source": [
    "You can specify a different word alignment model by specifying the `aligner` parameter. Let's align the same corpus using IBM-1."
   ]
  },
  {
   "cell_type": "code",
   "execution_count": 7,
   "metadata": {},
   "outputs": [
    {
     "name": "stdout",
     "output_type": "stream",
     "text": [
      "Source: en un principio ʼelohim creó los cielos y la tierra .\n",
      "Target: in the beginning god created the heavens and the earth .\n",
      "Alignment: 0-2 1-2 2-2 3-3 4-4 5-0 6-0 7-7 8-1 8-8 9-9 10-10\n",
      "Source: pero la tierra estaba desolada y vacía , y había oscuridad sobre la superficie del abismo . el espíritu de ʼelohim se movía sobre la superficie de las aguas .\n",
      "Target: now the earth was formless and void , and darkness was over the surface of the deep . and the spirit of god was hovering over the surface of the waters .\n",
      "Alignment: 0-0 0-4 1-3 2-2 3-3 5-5 7-7 10-9 14-11 16-17 17-1 19-14 20-22 21-21 27-30 28-30\n",
      "Source: entonces ʼelohim dijo : haya luz . y hubo luz .\n",
      "Target: and god said , “ let there be light , ” and there was light .\n",
      "Alignment: 0-5 1-1 2-2 2-4 3-2 3-3 4-7 5-8 5-14 6-15 7-0 8-6\n",
      "Source: ʼelohim vio que la luz era buena e hizo separación entre la luz y la oscuridad .\n",
      "Target: and god saw that the light was good , and he separated the light from the darkness .\n",
      "Alignment: 0-1 1-2 1-3 1-7 2-3 3-4 3-6 4-5 5-10 6-11 7-11 8-11 9-11 10-11 13-0 15-16 16-17\n",
      "Source: ʼelohim llamó a la luz día y a la oscuridad llamó noche . y fue la tarde y fue la mañana : día primero .\n",
      "Target: god called the light “ day , ” and the darkness he called “ night . ” and there was evening , and there was morning — the first day .\n",
      "Alignment: 0-0 1-1 2-1 3-2 4-3 5-5 6-8 9-10 11-14 12-15 14-19 15-19 16-18 16-20 18-26 21-6 23-28\n"
     ]
    }
   ],
   "source": [
    "aligned_corpus = word_align_corpus(parallel_corpus.lowercase(), aligner=\"ibm1\")\n",
    "for row in aligned_corpus.take(5):\n",
    "    print(\"Source:\", row.source_text)\n",
    "    print(\"Target:\", row.target_text)\n",
    "    print(\"Alignment:\", AlignedWordPair.to_string(row.aligned_word_pairs, include_scores=False))"
   ]
  },
  {
   "attachments": {},
   "cell_type": "markdown",
   "metadata": {},
   "source": [
    "## Training models\n",
    "\n",
    "Now, let's get into more advanced scenarios.\n",
    "\n",
    "In this tutorial, we are going to start by training an IBM-1 model. There are two possible ways to train a model. First, we will demonstrate training a model from a class that inherits from `WordAlignmentModel`. All alignment models implement the `WordAlignmentModel` abstract base class. This makes it easier to swap out different models in your code. We use the `create_trainer` method to create a trainer object that is used to train the model. If we do not specify a file path when creating the model object, then the model will only exist in memory. When we call the `save` method, the model instance is updated with the trained model parameters, but the model is not written to disk. We need to preprocess the corpus before training. First, we need to tokenize the corpus. We will also lowercase the data, since that generally gives better results."
   ]
  },
  {
   "cell_type": "code",
   "execution_count": 8,
   "metadata": {},
   "outputs": [
    {
     "name": "stdout",
     "output_type": "stream",
     "text": [
      "Training IBM-1 model: 0.00%\n",
      "Training IBM-1 model: 16.67%\n",
      "Training IBM-1 model: 33.33%\n",
      "Training IBM-1 model: 50.00%\n",
      "Training IBM-1 model: 66.67%\n",
      "Training IBM-1 model: 83.33%\n",
      "Training IBM-1 model: 100.00%\n"
     ]
    }
   ],
   "source": [
    "from machine.translation.thot import ThotIbm1WordAlignmentModel\n",
    "from machine.translation import SymmetrizationHeuristic\n",
    "\n",
    "model = ThotIbm1WordAlignmentModel()\n",
    "trainer = model.create_trainer(parallel_corpus.lowercase())\n",
    "trainer.train(lambda status: print(f\"Training IBM-1 model: {status.percent_completed:.2%}\"))\n",
    "trainer.save()"
   ]
  },
  {
   "attachments": {},
   "cell_type": "markdown",
   "metadata": {},
   "source": [
    "The other option for training a model is to construct a trainer object directly. This method is useful for when you are only interested in training the model and saving it to disk for later use. We need to specify where the model will be saved after it is trained and we call the `save` method."
   ]
  },
  {
   "cell_type": "code",
   "execution_count": 9,
   "metadata": {},
   "outputs": [
    {
     "name": "stdout",
     "output_type": "stream",
     "text": [
      "Training IBM-1 model: 0.00%\n",
      "Training IBM-1 model: 16.67%\n",
      "Training IBM-1 model: 33.33%\n",
      "Training IBM-1 model: 50.00%\n",
      "Training IBM-1 model: 66.67%\n",
      "Training IBM-1 model: 83.33%\n",
      "Training IBM-1 model: 100.00%\n",
      "IBM-1 model saved\n"
     ]
    }
   ],
   "source": [
    "import os\n",
    "from machine.translation.thot import ThotWordAlignmentModelTrainer, ThotWordAlignmentModelType\n",
    "\n",
    "os.makedirs(\"out/VBL-WEB-IBM1\", exist_ok=True)\n",
    "trainer = ThotWordAlignmentModelTrainer(\n",
    "    ThotWordAlignmentModelType.IBM1, parallel_corpus.lowercase(), \"out/VBL-WEB-IBM1/src_trg\"\n",
    ")\n",
    "\n",
    "trainer.train(lambda status: print(f\"Training IBM-1 model: {status.percent_completed:.2%}\"))\n",
    "trainer.save()\n",
    "print(\"IBM-1 model saved\")"
   ]
  },
  {
   "attachments": {},
   "cell_type": "markdown",
   "metadata": {},
   "source": [
    "## Aligning parallel sentences\n",
    "\n",
    "Now that we have a trained alignment model, we can find the best alignment for a parallel sentence. We call `align` method to find the best alignment. The results are returned as a `WordAlignmentMatrix` object."
   ]
  },
  {
   "cell_type": "code",
   "execution_count": 10,
   "metadata": {},
   "outputs": [
    {
     "name": "stdout",
     "output_type": "stream",
     "text": [
      "Source: en un principio ʼelohim creó los cielos y la tierra .\n",
      "Target: in the beginning god created the heavens and the earth .\n",
      "Alignment: 2-2 2-6 3-3 4-4 6-0 7-7 8-1 8-5 8-8 9-9 10-10\n",
      "Source: pero la tierra estaba desolada y vacía , y había oscuridad sobre la superficie del abismo . el espíritu de ʼelohim se movía sobre la superficie de las aguas .\n",
      "Target: now the earth was formless and void , and darkness was over the surface of the deep . and the spirit of god was hovering over the surface of the waters .\n",
      "Alignment: 0-0 0-4 0-6 0-13 0-16 0-20 0-24 0-27 2-2 3-3 3-10 3-23 5-5 5-8 5-18 7-7 10-9 14-11 14-25 16-17 16-31 17-1 17-12 17-15 17-19 17-26 17-29 20-22 21-14 21-21 21-28 28-30\n",
      "Source: entonces ʼelohim dijo : haya luz . y hubo luz .\n",
      "Target: and god said , “ let there be light , ” and there was light .\n",
      "Alignment: 0-5 0-10 1-1 2-2 2-4 3-3 3-9 4-7 5-8 5-14 6-15 7-0 7-11 7-13 8-6 8-12\n",
      "Source: ʼelohim vio que la luz era buena e hizo separación entre la luz y la oscuridad .\n",
      "Target: and god saw that the light was good , and he separated the light from the darkness .\n",
      "Alignment: 0-1 1-2 1-3 1-7 3-4 3-6 3-12 3-15 4-5 4-13 5-10 9-11 9-14 13-0 13-8 13-9 15-16 16-17\n",
      "Source: ʼelohim llamó a la luz día y a la oscuridad llamó noche . y fue la tarde y fue la mañana : día primero .\n",
      "Target: god called the light “ day , ” and the darkness he called “ night . ” and there was evening , and there was morning — the first day .\n",
      "Alignment: 0-0 1-1 1-4 1-7 1-12 1-13 1-16 2-11 3-2 3-9 3-27 4-3 5-5 5-29 6-8 6-17 6-22 9-10 11-14 12-15 12-30 14-19 14-24 16-18 16-20 16-23 16-25 16-26 21-6 21-21 23-28\n"
     ]
    }
   ],
   "source": [
    "model = ThotIbm1WordAlignmentModel(\"out/VBL-WEB-IBM1/src_trg\")\n",
    "for row in parallel_corpus.lowercase().take(5):\n",
    "    alignment = model.align(row.source_segment, row.target_segment)\n",
    "\n",
    "    print(\"Source:\", row.source_text)\n",
    "    print(\"Target:\", row.target_text)\n",
    "    print(\"Alignment:\", str(alignment))"
   ]
  },
  {
   "attachments": {},
   "cell_type": "markdown",
   "metadata": {},
   "source": [
    "Word alignment models also provide the `align_batch` method which aligns a batch of parallel sentences. This can be faster than aligning one parallel sentence at a time."
   ]
  },
  {
   "cell_type": "code",
   "execution_count": 11,
   "metadata": {},
   "outputs": [
    {
     "name": "stdout",
     "output_type": "stream",
     "text": [
      "Source: en un principio ʼelohim creó los cielos y la tierra .\n",
      "Target: in the beginning god created the heavens and the earth .\n",
      "Alignment: 2-2 2-6 3-3 4-4 6-0 7-7 8-1 8-5 8-8 9-9 10-10\n",
      "Source: pero la tierra estaba desolada y vacía , y había oscuridad sobre la superficie del abismo . el espíritu de ʼelohim se movía sobre la superficie de las aguas .\n",
      "Target: now the earth was formless and void , and darkness was over the surface of the deep . and the spirit of god was hovering over the surface of the waters .\n",
      "Alignment: 0-0 0-4 0-6 0-13 0-16 0-20 0-24 0-27 2-2 3-3 3-10 3-23 5-5 5-8 5-18 7-7 10-9 14-11 14-25 16-17 16-31 17-1 17-12 17-15 17-19 17-26 17-29 20-22 21-14 21-21 21-28 28-30\n",
      "Source: entonces ʼelohim dijo : haya luz . y hubo luz .\n",
      "Target: and god said , “ let there be light , ” and there was light .\n",
      "Alignment: 0-5 0-10 1-1 2-2 2-4 3-3 3-9 4-7 5-8 5-14 6-15 7-0 7-11 7-13 8-6 8-12\n",
      "Source: ʼelohim vio que la luz era buena e hizo separación entre la luz y la oscuridad .\n",
      "Target: and god saw that the light was good , and he separated the light from the darkness .\n",
      "Alignment: 0-1 1-2 1-3 1-7 3-4 3-6 3-12 3-15 4-5 4-13 5-10 9-11 9-14 13-0 13-8 13-9 15-16 16-17\n",
      "Source: ʼelohim llamó a la luz día y a la oscuridad llamó noche . y fue la tarde y fue la mañana : día primero .\n",
      "Target: god called the light “ day , ” and the darkness he called “ night . ” and there was evening , and there was morning — the first day .\n",
      "Alignment: 0-0 1-1 1-4 1-7 1-12 1-13 1-16 2-11 3-2 3-9 3-27 4-3 5-5 5-29 6-8 6-17 6-22 9-10 11-14 12-15 12-30 14-19 14-24 16-18 16-20 16-23 16-25 16-26 21-6 21-21 23-28\n"
     ]
    }
   ],
   "source": [
    "segment_batch = list(parallel_corpus.lowercase().take(5))\n",
    "alignments = model.align_batch(segment_batch)\n",
    "\n",
    "for (source_segment, target_segment), alignment in zip(segment_batch, alignments):\n",
    "    print(\"Source:\", \" \".join(source_segment))\n",
    "    print(\"Target:\", \" \".join(target_segment))\n",
    "    print(\"Alignment:\", str(alignment))"
   ]
  },
  {
   "attachments": {},
   "cell_type": "markdown",
   "metadata": {},
   "source": [
    "## Getting model probabilities\n",
    "\n",
    "A statistical word alignment model consists of one or more conditional probability distributions that are estimated from the training data. For example, most models estimate a word translation probability distribution that can be queried to obtain the probability that a source word is a translation of a target word. Each model class has methods to obtain these probabilities. Let's try getting some translation probabilities from the IBM-1 model that we trained by calling the `get_translation_probability` method. In order to get the probability that a word does not translate to anything, you can pass `None` instead of the word string."
   ]
  },
  {
   "cell_type": "code",
   "execution_count": 12,
   "metadata": {},
   "outputs": [
    {
     "name": "stdout",
     "output_type": "stream",
     "text": [
      "es -> is: 0.0056\n",
      "NULL -> that: 0.0071\n"
     ]
    }
   ],
   "source": [
    "model = ThotIbm1WordAlignmentModel(\"out/VBL-WEB-IBM1/src_trg\")\n",
    "prob = model.get_translation_probability(\"es\", \"is\")\n",
    "print(f\"es -> is: {prob:.4f}\")\n",
    "prob = model.get_translation_probability(None, \"that\")\n",
    "print(f\"NULL -> that: {prob:.4f}\")"
   ]
  },
  {
   "attachments": {},
   "cell_type": "markdown",
   "metadata": {},
   "source": [
    "It can also be useful to obtain a score for an entire alignment. The `get_avg_translation_score` method can be used to compute the average translation probability for an alignment."
   ]
  },
  {
   "cell_type": "code",
   "execution_count": 13,
   "metadata": {},
   "outputs": [
    {
     "name": "stdout",
     "output_type": "stream",
     "text": [
      "Source: en un principio ʼelohim creó los cielos y la tierra .\n",
      "Target: in the beginning god created the heavens and the earth .\n",
      "Score: 0.1898\n",
      "Source: pero la tierra estaba desolada y vacía , y había oscuridad sobre la superficie del abismo . el espíritu de ʼelohim se movía sobre la superficie de las aguas .\n",
      "Target: now the earth was formless and void , and darkness was over the surface of the deep . and the spirit of god was hovering over the surface of the waters .\n",
      "Score: 0.1209\n",
      "Source: entonces ʼelohim dijo : haya luz . y hubo luz .\n",
      "Target: and god said , “ let there be light , ” and there was light .\n",
      "Score: 0.1965\n",
      "Source: ʼelohim vio que la luz era buena e hizo separación entre la luz y la oscuridad .\n",
      "Target: and god saw that the light was good , and he separated the light from the darkness .\n",
      "Score: 0.158\n",
      "Source: ʼelohim llamó a la luz día y a la oscuridad llamó noche . y fue la tarde y fue la mañana : día primero .\n",
      "Target: god called the light “ day , ” and the darkness he called “ night . ” and there was evening , and there was morning — the first day .\n",
      "Score: 0.1623\n"
     ]
    }
   ],
   "source": [
    "segment_batch = list(parallel_corpus.lowercase().take(5))\n",
    "alignments = model.align_batch(segment_batch)\n",
    "\n",
    "for (source_segment, target_segment), alignment in zip(segment_batch, alignments):\n",
    "    print(\"Source:\", \" \".join(source_segment))\n",
    "    print(\"Target:\", \" \".join(target_segment))\n",
    "    print(\"Score:\", round(model.get_avg_translation_score(source_segment, target_segment, alignment), 4))"
   ]
  },
  {
   "attachments": {},
   "cell_type": "markdown",
   "metadata": {},
   "source": [
    "## Symmetrized alignment models\n",
    "\n",
    "Most statistical word alignment models are directional and asymmetric. This means that it can only model one-to-one and one-to-many alignments in one direction. They are not capable of modeling many-to-many alignments, which can occur in some language pairs. One way to get around this limitation is to train models in both directions (source-to-target and target-to-source), and then merge the resulting alignments from the two models into a single alignment. This is called symmetrization and is a common practice when using statistical word alignment models. In addition, researchers have found that symmetrized alignments are better quality."
   ]
  },
  {
   "attachments": {},
   "cell_type": "markdown",
   "metadata": {},
   "source": [
    "Machine provides a special word alignment model class to support symmetrization called `ThotSymmetrizedWordAlignmentModel`. Let's demonstrate how to use this class. First, we will train the symmetrized model using the `SymmetrizedWordAlignmentModelTrainer` class."
   ]
  },
  {
   "cell_type": "code",
   "execution_count": 14,
   "metadata": {},
   "outputs": [
    {
     "name": "stdout",
     "output_type": "stream",
     "text": [
      "Training direct alignment model: 0.00%\n",
      "Training direct alignment model: 0.00%\n",
      "Training direct alignment model: 8.33%\n",
      "Training direct alignment model: 16.67%\n",
      "Training direct alignment model: 25.00%\n",
      "Training direct alignment model: 33.33%\n",
      "Training direct alignment model: 41.67%\n",
      "Training direct alignment model: 50.00%\n",
      "Training inverse alignment model: 50.00%\n",
      "Training inverse alignment model: 50.00%\n",
      "Training inverse alignment model: 58.33%\n",
      "Training inverse alignment model: 66.67%\n",
      "Training inverse alignment model: 75.00%\n",
      "Training inverse alignment model: 83.33%\n",
      "Training inverse alignment model: 91.67%\n",
      "Training inverse alignment model: 100.00%\n",
      "Symmetrized IBM-1 model saved\n"
     ]
    }
   ],
   "source": [
    "from machine.translation import SymmetrizedWordAlignmentModelTrainer\n",
    "\n",
    "src_trg_trainer = ThotWordAlignmentModelTrainer(\n",
    "    ThotWordAlignmentModelType.IBM1, parallel_corpus.lowercase(), \"out/VBL-WEB-IBM1/src_trg\"\n",
    ")\n",
    "trg_src_trainer = ThotWordAlignmentModelTrainer(\n",
    "    ThotWordAlignmentModelType.IBM1, parallel_corpus.invert().lowercase(), \"out/VBL-WEB-IBM1/trg_src\"\n",
    ")\n",
    "symmetrized_trainer = SymmetrizedWordAlignmentModelTrainer(src_trg_trainer, trg_src_trainer)\n",
    "symmetrized_trainer.train(lambda status: print(f\"{status.message}: {status.percent_completed:.2%}\"))\n",
    "symmetrized_trainer.save()\n",
    "print(\"Symmetrized IBM-1 model saved\")"
   ]
  },
  {
   "attachments": {},
   "cell_type": "markdown",
   "metadata": {},
   "source": [
    "The model can also be trained using the `create_trainer` method on `ThotSymmetrizedWordAlignmentModel`. Now that we've trained the symmetrized model, let's obtain some alignments. Machine supports many different symmetrization heuristics. The symmetrization heuristic to use when merging alignments can be specified using the `heuristic` property. In this case, we will use the `GROW_DIAG_FINAL_AND` heuristic."
   ]
  },
  {
   "cell_type": "code",
   "execution_count": 15,
   "metadata": {},
   "outputs": [
    {
     "name": "stdout",
     "output_type": "stream",
     "text": [
      "Source: en un principio ʼelohim creó los cielos y la tierra .\n",
      "Target: in the beginning god created the heavens and the earth .\n",
      "Alignment: 0-2 1-2 2-2 3-3 4-4 5-0 6-0 7-7 8-1 8-8 9-9 10-10\n",
      "Source: pero la tierra estaba desolada y vacía , y había oscuridad sobre la superficie del abismo . el espíritu de ʼelohim se movía sobre la superficie de las aguas .\n",
      "Target: now the earth was formless and void , and darkness was over the surface of the deep . and the spirit of god was hovering over the surface of the waters .\n",
      "Alignment: 0-0 0-4 1-3 2-2 3-3 5-5 7-7 10-9 14-11 16-17 17-1 19-14 20-22 21-21 27-30 28-30\n",
      "Source: entonces ʼelohim dijo : haya luz . y hubo luz .\n",
      "Target: and god said , “ let there be light , ” and there was light .\n",
      "Alignment: 0-5 1-1 2-2 2-4 3-2 3-3 4-7 5-8 5-14 6-15 7-0 8-6\n",
      "Source: ʼelohim vio que la luz era buena e hizo separación entre la luz y la oscuridad .\n",
      "Target: and god saw that the light was good , and he separated the light from the darkness .\n",
      "Alignment: 0-1 1-2 1-3 1-7 2-3 3-4 3-6 4-5 5-10 6-11 7-11 8-11 9-11 10-11 13-0 15-16 16-17\n",
      "Source: ʼelohim llamó a la luz día y a la oscuridad llamó noche . y fue la tarde y fue la mañana : día primero .\n",
      "Target: god called the light “ day , ” and the darkness he called “ night . ” and there was evening , and there was morning — the first day .\n",
      "Alignment: 0-0 1-1 2-1 3-2 4-3 5-5 6-8 9-10 11-14 12-15 14-19 15-19 16-18 16-20 18-26 21-6 23-28\n"
     ]
    }
   ],
   "source": [
    "from machine.translation import SymmetrizationHeuristic\n",
    "from machine.translation.thot import ThotSymmetrizedWordAlignmentModel\n",
    "\n",
    "src_trg_model = ThotIbm1WordAlignmentModel(\"out/VBL-WEB-IBM1/src_trg\")\n",
    "trg_src_model = ThotIbm1WordAlignmentModel(\"out/VBL-WEB-IBM1/trg_src\")\n",
    "symmetrized_model = ThotSymmetrizedWordAlignmentModel(src_trg_model, trg_src_model)\n",
    "symmetrized_model.heuristic = SymmetrizationHeuristic.GROW_DIAG_FINAL_AND\n",
    "\n",
    "segment_batch = list(parallel_corpus.lowercase().take(5))\n",
    "alignments = symmetrized_model.align_batch(segment_batch)\n",
    "\n",
    "for (source_segment, target_segment), alignment in zip(segment_batch, alignments):\n",
    "    print(\"Source:\", \" \".join(source_segment))\n",
    "    print(\"Target:\", \" \".join(target_segment))\n",
    "    print(\"Alignment:\", alignment)"
   ]
  },
  {
   "cell_type": "code",
   "execution_count": 25,
   "metadata": {},
   "outputs": [],
   "source": [
    "import numpy as np"
   ]
  },
  {
   "cell_type": "code",
   "execution_count": 30,
   "metadata": {},
   "outputs": [
    {
     "name": "stdout",
     "output_type": "stream",
     "text": [
      "0-2 1-2 2-2 3-3 4-4 5-0 6-0 7-7 8-1 8-8 9-9 10-10\n"
     ]
    },
    {
     "ename": "ValueError",
     "evalue": "not enough values to unpack (expected 2, got 1)",
     "output_type": "error",
     "traceback": [
      "\u001b[1;31m---------------------------------------------------------------------------\u001b[0m",
      "\u001b[1;31mValueError\u001b[0m                                Traceback (most recent call last)",
      "\u001b[1;32mc:\\Users\\natha\\Downloads\\test-if-notebook-works\\machine.py-main\\samples\\word_alignment.ipynb Cell 27\u001b[0m in \u001b[0;36m7\n\u001b[0;32m      <a href='vscode-notebook-cell:/c%3A/Users/natha/Downloads/test-if-notebook-works/machine.py-main/samples/word_alignment.ipynb#X34sZmlsZQ%3D%3D?line=3'>4</a>\u001b[0m \u001b[39mprint\u001b[39m(alignment)\n\u001b[0;32m      <a href='vscode-notebook-cell:/c%3A/Users/natha/Downloads/test-if-notebook-works/machine.py-main/samples/word_alignment.ipynb#X34sZmlsZQ%3D%3D?line=5'>6</a>\u001b[0m \u001b[39mfor\u001b[39;00m i \u001b[39min\u001b[39;00m alignment:\n\u001b[1;32m----> <a href='vscode-notebook-cell:/c%3A/Users/natha/Downloads/test-if-notebook-works/machine.py-main/samples/word_alignment.ipynb#X34sZmlsZQ%3D%3D?line=6'>7</a>\u001b[0m     key1, key2 \u001b[39m=\u001b[39m \u001b[39mstr\u001b[39m(i)\u001b[39m.\u001b[39msplit(\u001b[39m'\u001b[39m\u001b[39m-\u001b[39m\u001b[39m'\u001b[39m)\n\u001b[0;32m      <a href='vscode-notebook-cell:/c%3A/Users/natha/Downloads/test-if-notebook-works/machine.py-main/samples/word_alignment.ipynb#X34sZmlsZQ%3D%3D?line=7'>8</a>\u001b[0m     value1 \u001b[39m=\u001b[39m source_segment[\u001b[39mint\u001b[39m(key1)]\n\u001b[0;32m      <a href='vscode-notebook-cell:/c%3A/Users/natha/Downloads/test-if-notebook-works/machine.py-main/samples/word_alignment.ipynb#X34sZmlsZQ%3D%3D?line=8'>9</a>\u001b[0m     value2 \u001b[39m=\u001b[39m target_segment[\u001b[39mint\u001b[39m(key2)]\n",
      "\u001b[1;31mValueError\u001b[0m: not enough values to unpack (expected 2, got 1)"
     ]
    }
   ],
   "source": [
    "for (source_segment, target_segment), alignment in zip(segment_batch, alignments):\n",
    "    word_pairs = []\n",
    "    \n",
    "    print(alignment)\n",
    "    \n",
    "    source = 0\n",
    "    \n",
    "    for i in alignment:\n",
    "        key1, key2 = str(i).split('-')\n",
    "        value1 = source_segment[int(key1)]\n",
    "        value2 = target_segment[int(key2)]\n",
    "        word_pairs.append(f'{source}-{value2}')\n",
    "        source += 1\n",
    "        \n",
    "    print(' '.join(word_pairs))"
   ]
  },
  {
   "cell_type": "code",
   "execution_count": 32,
   "metadata": {},
   "outputs": [
    {
     "name": "stdout",
     "output_type": "stream",
     "text": [
      "[False False  True False False False False False False False False]\n"
     ]
    }
   ],
   "source": [
    "print(alignment[0])"
   ]
  },
  {
   "cell_type": "code",
   "execution_count": 42,
   "metadata": {},
   "outputs": [
    {
     "data": {
      "text/html": [
       "<div>\n",
       "<style scoped>\n",
       "    .dataframe tbody tr th:only-of-type {\n",
       "        vertical-align: middle;\n",
       "    }\n",
       "\n",
       "    .dataframe tbody tr th {\n",
       "        vertical-align: top;\n",
       "    }\n",
       "\n",
       "    .dataframe thead th {\n",
       "        text-align: right;\n",
       "    }\n",
       "</style>\n",
       "<table border=\"1\" class=\"dataframe\">\n",
       "  <thead>\n",
       "    <tr style=\"text-align: right;\">\n",
       "      <th></th>\n",
       "      <th>English</th>\n",
       "      <th>Spanish</th>\n",
       "    </tr>\n",
       "  </thead>\n",
       "  <tbody>\n",
       "    <tr>\n",
       "      <th>0</th>\n",
       "      <td>beginning</td>\n",
       "      <td>en</td>\n",
       "    </tr>\n",
       "    <tr>\n",
       "      <th>1</th>\n",
       "      <td>beginning</td>\n",
       "      <td>un</td>\n",
       "    </tr>\n",
       "    <tr>\n",
       "      <th>2</th>\n",
       "      <td>beginning</td>\n",
       "      <td>principio</td>\n",
       "    </tr>\n",
       "    <tr>\n",
       "      <th>3</th>\n",
       "      <td>god</td>\n",
       "      <td>ʼelohim</td>\n",
       "    </tr>\n",
       "    <tr>\n",
       "      <th>4</th>\n",
       "      <td>created</td>\n",
       "      <td>creó</td>\n",
       "    </tr>\n",
       "    <tr>\n",
       "      <th>5</th>\n",
       "      <td>in</td>\n",
       "      <td>los</td>\n",
       "    </tr>\n",
       "    <tr>\n",
       "      <th>6</th>\n",
       "      <td>in</td>\n",
       "      <td>cielos</td>\n",
       "    </tr>\n",
       "    <tr>\n",
       "      <th>7</th>\n",
       "      <td>and</td>\n",
       "      <td>y</td>\n",
       "    </tr>\n",
       "    <tr>\n",
       "      <th>8</th>\n",
       "      <td>the</td>\n",
       "      <td>la</td>\n",
       "    </tr>\n",
       "    <tr>\n",
       "      <th>9</th>\n",
       "      <td>earth</td>\n",
       "      <td>tierra</td>\n",
       "    </tr>\n",
       "    <tr>\n",
       "      <th>10</th>\n",
       "      <td>.</td>\n",
       "      <td>.</td>\n",
       "    </tr>\n",
       "  </tbody>\n",
       "</table>\n",
       "</div>"
      ],
      "text/plain": [
       "      English    Spanish\n",
       "0   beginning         en\n",
       "1   beginning         un\n",
       "2   beginning  principio\n",
       "3         god    ʼelohim\n",
       "4     created       creó\n",
       "5          in        los\n",
       "6          in     cielos\n",
       "7         and          y\n",
       "8         the         la\n",
       "9       earth     tierra\n",
       "10          .          ."
      ]
     },
     "metadata": {},
     "output_type": "display_data"
    },
    {
     "data": {
      "text/html": [
       "<div>\n",
       "<style scoped>\n",
       "    .dataframe tbody tr th:only-of-type {\n",
       "        vertical-align: middle;\n",
       "    }\n",
       "\n",
       "    .dataframe tbody tr th {\n",
       "        vertical-align: top;\n",
       "    }\n",
       "\n",
       "    .dataframe thead th {\n",
       "        text-align: right;\n",
       "    }\n",
       "</style>\n",
       "<table border=\"1\" class=\"dataframe\">\n",
       "  <thead>\n",
       "    <tr style=\"text-align: right;\">\n",
       "      <th></th>\n",
       "      <th>English</th>\n",
       "      <th>Spanish</th>\n",
       "    </tr>\n",
       "  </thead>\n",
       "  <tbody>\n",
       "    <tr>\n",
       "      <th>0</th>\n",
       "      <td>now</td>\n",
       "      <td>pero</td>\n",
       "    </tr>\n",
       "    <tr>\n",
       "      <th>1</th>\n",
       "      <td>was</td>\n",
       "      <td>la</td>\n",
       "    </tr>\n",
       "    <tr>\n",
       "      <th>2</th>\n",
       "      <td>earth</td>\n",
       "      <td>tierra</td>\n",
       "    </tr>\n",
       "    <tr>\n",
       "      <th>3</th>\n",
       "      <td>was</td>\n",
       "      <td>estaba</td>\n",
       "    </tr>\n",
       "    <tr>\n",
       "      <th>4</th>\n",
       "      <td>and</td>\n",
       "      <td>y</td>\n",
       "    </tr>\n",
       "    <tr>\n",
       "      <th>5</th>\n",
       "      <td>,</td>\n",
       "      <td>,</td>\n",
       "    </tr>\n",
       "    <tr>\n",
       "      <th>6</th>\n",
       "      <td>darkness</td>\n",
       "      <td>oscuridad</td>\n",
       "    </tr>\n",
       "    <tr>\n",
       "      <th>7</th>\n",
       "      <td>over</td>\n",
       "      <td>del</td>\n",
       "    </tr>\n",
       "    <tr>\n",
       "      <th>8</th>\n",
       "      <td>.</td>\n",
       "      <td>.</td>\n",
       "    </tr>\n",
       "    <tr>\n",
       "      <th>9</th>\n",
       "      <td>the</td>\n",
       "      <td>el</td>\n",
       "    </tr>\n",
       "    <tr>\n",
       "      <th>10</th>\n",
       "      <td>of</td>\n",
       "      <td>de</td>\n",
       "    </tr>\n",
       "    <tr>\n",
       "      <th>11</th>\n",
       "      <td>god</td>\n",
       "      <td>ʼelohim</td>\n",
       "    </tr>\n",
       "    <tr>\n",
       "      <th>12</th>\n",
       "      <td>of</td>\n",
       "      <td>se</td>\n",
       "    </tr>\n",
       "    <tr>\n",
       "      <th>13</th>\n",
       "      <td>waters</td>\n",
       "      <td>las</td>\n",
       "    </tr>\n",
       "    <tr>\n",
       "      <th>14</th>\n",
       "      <td>waters</td>\n",
       "      <td>aguas</td>\n",
       "    </tr>\n",
       "  </tbody>\n",
       "</table>\n",
       "</div>"
      ],
      "text/plain": [
       "     English    Spanish\n",
       "0        now       pero\n",
       "1        was         la\n",
       "2      earth     tierra\n",
       "3        was     estaba\n",
       "4        and          y\n",
       "5          ,          ,\n",
       "6   darkness  oscuridad\n",
       "7       over        del\n",
       "8          .          .\n",
       "9        the         el\n",
       "10        of         de\n",
       "11       god    ʼelohim\n",
       "12        of         se\n",
       "13    waters        las\n",
       "14    waters      aguas"
      ]
     },
     "metadata": {},
     "output_type": "display_data"
    },
    {
     "data": {
      "text/html": [
       "<div>\n",
       "<style scoped>\n",
       "    .dataframe tbody tr th:only-of-type {\n",
       "        vertical-align: middle;\n",
       "    }\n",
       "\n",
       "    .dataframe tbody tr th {\n",
       "        vertical-align: top;\n",
       "    }\n",
       "\n",
       "    .dataframe thead th {\n",
       "        text-align: right;\n",
       "    }\n",
       "</style>\n",
       "<table border=\"1\" class=\"dataframe\">\n",
       "  <thead>\n",
       "    <tr style=\"text-align: right;\">\n",
       "      <th></th>\n",
       "      <th>English</th>\n",
       "      <th>Spanish</th>\n",
       "    </tr>\n",
       "  </thead>\n",
       "  <tbody>\n",
       "    <tr>\n",
       "      <th>0</th>\n",
       "      <td>let</td>\n",
       "      <td>entonces</td>\n",
       "    </tr>\n",
       "    <tr>\n",
       "      <th>1</th>\n",
       "      <td>god</td>\n",
       "      <td>ʼelohim</td>\n",
       "    </tr>\n",
       "    <tr>\n",
       "      <th>2</th>\n",
       "      <td>said</td>\n",
       "      <td>dijo</td>\n",
       "    </tr>\n",
       "    <tr>\n",
       "      <th>3</th>\n",
       "      <td>said</td>\n",
       "      <td>:</td>\n",
       "    </tr>\n",
       "    <tr>\n",
       "      <th>4</th>\n",
       "      <td>be</td>\n",
       "      <td>haya</td>\n",
       "    </tr>\n",
       "    <tr>\n",
       "      <th>5</th>\n",
       "      <td>light</td>\n",
       "      <td>luz</td>\n",
       "    </tr>\n",
       "    <tr>\n",
       "      <th>6</th>\n",
       "      <td>.</td>\n",
       "      <td>.</td>\n",
       "    </tr>\n",
       "    <tr>\n",
       "      <th>7</th>\n",
       "      <td>and</td>\n",
       "      <td>y</td>\n",
       "    </tr>\n",
       "    <tr>\n",
       "      <th>8</th>\n",
       "      <td>there</td>\n",
       "      <td>hubo</td>\n",
       "    </tr>\n",
       "  </tbody>\n",
       "</table>\n",
       "</div>"
      ],
      "text/plain": [
       "  English   Spanish\n",
       "0     let  entonces\n",
       "1     god   ʼelohim\n",
       "2    said      dijo\n",
       "3    said         :\n",
       "4      be      haya\n",
       "5   light       luz\n",
       "6       .         .\n",
       "7     and         y\n",
       "8   there      hubo"
      ]
     },
     "metadata": {},
     "output_type": "display_data"
    },
    {
     "data": {
      "text/html": [
       "<div>\n",
       "<style scoped>\n",
       "    .dataframe tbody tr th:only-of-type {\n",
       "        vertical-align: middle;\n",
       "    }\n",
       "\n",
       "    .dataframe tbody tr th {\n",
       "        vertical-align: top;\n",
       "    }\n",
       "\n",
       "    .dataframe thead th {\n",
       "        text-align: right;\n",
       "    }\n",
       "</style>\n",
       "<table border=\"1\" class=\"dataframe\">\n",
       "  <thead>\n",
       "    <tr style=\"text-align: right;\">\n",
       "      <th></th>\n",
       "      <th>English</th>\n",
       "      <th>Spanish</th>\n",
       "    </tr>\n",
       "  </thead>\n",
       "  <tbody>\n",
       "    <tr>\n",
       "      <th>0</th>\n",
       "      <td>god</td>\n",
       "      <td>ʼelohim</td>\n",
       "    </tr>\n",
       "    <tr>\n",
       "      <th>1</th>\n",
       "      <td>saw</td>\n",
       "      <td>vio</td>\n",
       "    </tr>\n",
       "    <tr>\n",
       "      <th>2</th>\n",
       "      <td>that</td>\n",
       "      <td>que</td>\n",
       "    </tr>\n",
       "    <tr>\n",
       "      <th>3</th>\n",
       "      <td>the</td>\n",
       "      <td>la</td>\n",
       "    </tr>\n",
       "    <tr>\n",
       "      <th>4</th>\n",
       "      <td>light</td>\n",
       "      <td>luz</td>\n",
       "    </tr>\n",
       "    <tr>\n",
       "      <th>5</th>\n",
       "      <td>he</td>\n",
       "      <td>era</td>\n",
       "    </tr>\n",
       "    <tr>\n",
       "      <th>6</th>\n",
       "      <td>separated</td>\n",
       "      <td>buena</td>\n",
       "    </tr>\n",
       "    <tr>\n",
       "      <th>7</th>\n",
       "      <td>separated</td>\n",
       "      <td>e</td>\n",
       "    </tr>\n",
       "    <tr>\n",
       "      <th>8</th>\n",
       "      <td>separated</td>\n",
       "      <td>hizo</td>\n",
       "    </tr>\n",
       "    <tr>\n",
       "      <th>9</th>\n",
       "      <td>separated</td>\n",
       "      <td>separación</td>\n",
       "    </tr>\n",
       "    <tr>\n",
       "      <th>10</th>\n",
       "      <td>separated</td>\n",
       "      <td>entre</td>\n",
       "    </tr>\n",
       "    <tr>\n",
       "      <th>11</th>\n",
       "      <td>and</td>\n",
       "      <td>y</td>\n",
       "    </tr>\n",
       "    <tr>\n",
       "      <th>12</th>\n",
       "      <td>darkness</td>\n",
       "      <td>oscuridad</td>\n",
       "    </tr>\n",
       "    <tr>\n",
       "      <th>13</th>\n",
       "      <td>.</td>\n",
       "      <td>.</td>\n",
       "    </tr>\n",
       "  </tbody>\n",
       "</table>\n",
       "</div>"
      ],
      "text/plain": [
       "      English     Spanish\n",
       "0         god     ʼelohim\n",
       "1         saw         vio\n",
       "2        that         que\n",
       "3         the          la\n",
       "4       light         luz\n",
       "5          he         era\n",
       "6   separated       buena\n",
       "7   separated           e\n",
       "8   separated        hizo\n",
       "9   separated  separación\n",
       "10  separated       entre\n",
       "11        and           y\n",
       "12   darkness   oscuridad\n",
       "13          .           ."
      ]
     },
     "metadata": {},
     "output_type": "display_data"
    },
    {
     "data": {
      "text/html": [
       "<div>\n",
       "<style scoped>\n",
       "    .dataframe tbody tr th:only-of-type {\n",
       "        vertical-align: middle;\n",
       "    }\n",
       "\n",
       "    .dataframe tbody tr th {\n",
       "        vertical-align: top;\n",
       "    }\n",
       "\n",
       "    .dataframe thead th {\n",
       "        text-align: right;\n",
       "    }\n",
       "</style>\n",
       "<table border=\"1\" class=\"dataframe\">\n",
       "  <thead>\n",
       "    <tr style=\"text-align: right;\">\n",
       "      <th></th>\n",
       "      <th>English</th>\n",
       "      <th>Spanish</th>\n",
       "    </tr>\n",
       "  </thead>\n",
       "  <tbody>\n",
       "    <tr>\n",
       "      <th>0</th>\n",
       "      <td>god</td>\n",
       "      <td>ʼelohim</td>\n",
       "    </tr>\n",
       "    <tr>\n",
       "      <th>1</th>\n",
       "      <td>called</td>\n",
       "      <td>llamó</td>\n",
       "    </tr>\n",
       "    <tr>\n",
       "      <th>2</th>\n",
       "      <td>called</td>\n",
       "      <td>a</td>\n",
       "    </tr>\n",
       "    <tr>\n",
       "      <th>3</th>\n",
       "      <td>the</td>\n",
       "      <td>la</td>\n",
       "    </tr>\n",
       "    <tr>\n",
       "      <th>4</th>\n",
       "      <td>light</td>\n",
       "      <td>luz</td>\n",
       "    </tr>\n",
       "    <tr>\n",
       "      <th>5</th>\n",
       "      <td>day</td>\n",
       "      <td>día</td>\n",
       "    </tr>\n",
       "    <tr>\n",
       "      <th>6</th>\n",
       "      <td>and</td>\n",
       "      <td>y</td>\n",
       "    </tr>\n",
       "    <tr>\n",
       "      <th>7</th>\n",
       "      <td>darkness</td>\n",
       "      <td>oscuridad</td>\n",
       "    </tr>\n",
       "    <tr>\n",
       "      <th>8</th>\n",
       "      <td>night</td>\n",
       "      <td>noche</td>\n",
       "    </tr>\n",
       "    <tr>\n",
       "      <th>9</th>\n",
       "      <td>.</td>\n",
       "      <td>.</td>\n",
       "    </tr>\n",
       "    <tr>\n",
       "      <th>10</th>\n",
       "      <td>was</td>\n",
       "      <td>fue</td>\n",
       "    </tr>\n",
       "    <tr>\n",
       "      <th>11</th>\n",
       "      <td>was</td>\n",
       "      <td>la</td>\n",
       "    </tr>\n",
       "    <tr>\n",
       "      <th>12</th>\n",
       "      <td>there</td>\n",
       "      <td>tarde</td>\n",
       "    </tr>\n",
       "    <tr>\n",
       "      <th>13</th>\n",
       "      <td>—</td>\n",
       "      <td>fue</td>\n",
       "    </tr>\n",
       "    <tr>\n",
       "      <th>14</th>\n",
       "      <td>,</td>\n",
       "      <td>:</td>\n",
       "    </tr>\n",
       "    <tr>\n",
       "      <th>15</th>\n",
       "      <td>first</td>\n",
       "      <td>primero</td>\n",
       "    </tr>\n",
       "  </tbody>\n",
       "</table>\n",
       "</div>"
      ],
      "text/plain": [
       "     English    Spanish\n",
       "0        god    ʼelohim\n",
       "1     called      llamó\n",
       "2     called          a\n",
       "3        the         la\n",
       "4      light        luz\n",
       "5        day        día\n",
       "6        and          y\n",
       "7   darkness  oscuridad\n",
       "8      night      noche\n",
       "9          .          .\n",
       "10       was        fue\n",
       "11       was         la\n",
       "12     there      tarde\n",
       "13         —        fue\n",
       "14         ,          :\n",
       "15     first    primero"
      ]
     },
     "metadata": {},
     "output_type": "display_data"
    }
   ],
   "source": [
    "import numpy as np\n",
    "import pandas as pd\n",
    "\n",
    "for (source_segment, target_segment), alignment in zip(segment_batch, alignments):\n",
    "    word_pairs = []\n",
    "    spa = []\n",
    "    eng = []\n",
    "    \n",
    "    source = 0\n",
    "    \n",
    "    for i in alignment:\n",
    "        true_indices = np.where(i)[0]  # Find the indices where the value is True\n",
    "        if len(true_indices) > 0:\n",
    "            key1 = source_segment[source]\n",
    "            key2 = str(true_indices[0])  # Get the first index where the value is True\n",
    "            value2 = target_segment[int(key2)]\n",
    "            \n",
    "            word_pairs.append(f'{key1}-{value2}')\n",
    "            spa.append(key1)\n",
    "            eng.append(value2)\n",
    "            \n",
    "        source += 1\n",
    "        \n",
    "    table = pd.DataFrame(\n",
    "    {'English': eng,\n",
    "     'Spanish': spa,\n",
    "    })\n",
    "    display(table)"
   ]
  },
  {
   "cell_type": "code",
   "execution_count": null,
   "metadata": {},
   "outputs": [],
   "source": [
    "\n",
    "\n"
   ]
  }
 ],
 "metadata": {
  "kernelspec": {
   "display_name": "Python 3.7.9 ('sil-machine-7etMAqKM-py3.7')",
   "language": "python",
   "name": "python3"
  },
  "language_info": {
   "codemirror_mode": {
    "name": "ipython",
    "version": 3
   },
   "file_extension": ".py",
   "mimetype": "text/x-python",
   "name": "python",
   "nbconvert_exporter": "python",
   "pygments_lexer": "ipython3",
   "version": "3.10.11"
  },
  "orig_nbformat": 4,
  "vscode": {
   "interpreter": {
    "hash": "66ad53a2fda857959ef6e2525c8531f1eed3c45b82035e48d4b59bbb4a12b875"
   }
  }
 },
 "nbformat": 4,
 "nbformat_minor": 2
}
