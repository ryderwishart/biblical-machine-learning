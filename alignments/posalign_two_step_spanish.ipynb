{
  "cells": [
    {
      "cell_type": "code",
      "source": [
        "!pip install openai"
      ],
      "metadata": {
        "colab": {
          "base_uri": "https://localhost:8080/"
        },
        "id": "jp-5KCKPAmqI",
        "outputId": "e38e29a1-8861-4eaf-dcf4-24b90b270811"
      },
      "execution_count": 1,
      "outputs": [
        {
          "output_type": "stream",
          "name": "stdout",
          "text": [
            "Collecting openai\n",
            "  Downloading openai-0.28.0-py3-none-any.whl (76 kB)\n",
            "\u001b[?25l     \u001b[90m━━━━━━━━━━━━━━━━━━━━━━━━━━━━━━━━━━━━━━━━\u001b[0m \u001b[32m0.0/76.5 kB\u001b[0m \u001b[31m?\u001b[0m eta \u001b[36m-:--:--\u001b[0m\r\u001b[2K     \u001b[91m━━━━━━━━━━━━━━━━━━━━━━━━━━━━━━━━\u001b[0m\u001b[90m╺\u001b[0m\u001b[90m━━━━━━━\u001b[0m \u001b[32m61.4/76.5 kB\u001b[0m \u001b[31m1.7 MB/s\u001b[0m eta \u001b[36m0:00:01\u001b[0m\r\u001b[2K     \u001b[90m━━━━━━━━━━━━━━━━━━━━━━━━━━━━━━━━━━━━━━━━\u001b[0m \u001b[32m76.5/76.5 kB\u001b[0m \u001b[31m1.5 MB/s\u001b[0m eta \u001b[36m0:00:00\u001b[0m\n",
            "\u001b[?25hRequirement already satisfied: requests>=2.20 in /usr/local/lib/python3.10/dist-packages (from openai) (2.31.0)\n",
            "Requirement already satisfied: tqdm in /usr/local/lib/python3.10/dist-packages (from openai) (4.66.1)\n",
            "Requirement already satisfied: aiohttp in /usr/local/lib/python3.10/dist-packages (from openai) (3.8.5)\n",
            "Requirement already satisfied: charset-normalizer<4,>=2 in /usr/local/lib/python3.10/dist-packages (from requests>=2.20->openai) (3.2.0)\n",
            "Requirement already satisfied: idna<4,>=2.5 in /usr/local/lib/python3.10/dist-packages (from requests>=2.20->openai) (3.4)\n",
            "Requirement already satisfied: urllib3<3,>=1.21.1 in /usr/local/lib/python3.10/dist-packages (from requests>=2.20->openai) (2.0.4)\n",
            "Requirement already satisfied: certifi>=2017.4.17 in /usr/local/lib/python3.10/dist-packages (from requests>=2.20->openai) (2023.7.22)\n",
            "Requirement already satisfied: attrs>=17.3.0 in /usr/local/lib/python3.10/dist-packages (from aiohttp->openai) (23.1.0)\n",
            "Requirement already satisfied: multidict<7.0,>=4.5 in /usr/local/lib/python3.10/dist-packages (from aiohttp->openai) (6.0.4)\n",
            "Requirement already satisfied: async-timeout<5.0,>=4.0.0a3 in /usr/local/lib/python3.10/dist-packages (from aiohttp->openai) (4.0.3)\n",
            "Requirement already satisfied: yarl<2.0,>=1.0 in /usr/local/lib/python3.10/dist-packages (from aiohttp->openai) (1.9.2)\n",
            "Requirement already satisfied: frozenlist>=1.1.1 in /usr/local/lib/python3.10/dist-packages (from aiohttp->openai) (1.4.0)\n",
            "Requirement already satisfied: aiosignal>=1.1.2 in /usr/local/lib/python3.10/dist-packages (from aiohttp->openai) (1.3.1)\n",
            "Installing collected packages: openai\n",
            "Successfully installed openai-0.28.0\n"
          ]
        }
      ]
    },
    {
      "cell_type": "code",
      "execution_count": 2,
      "metadata": {
        "id": "Ct3L_5rEXmAP",
        "colab": {
          "base_uri": "https://localhost:8080/"
        },
        "outputId": "d38b1e2a-1f1c-47f8-cb22-2612ee6b030e"
      },
      "outputs": [
        {
          "name": "stdout",
          "output_type": "stream",
          "text": [
            "Enter OpenAI secret key:··········\n"
          ]
        }
      ],
      "source": [
        "import getpass, os\n",
        "secret_key = getpass.getpass('Enter OpenAI secret key:')\n",
        "os.environ['OPENAI_API_KEY'] = secret_key"
      ]
    },
    {
      "cell_type": "code",
      "execution_count": 3,
      "metadata": {
        "id": "GzyNIXwJXmAR"
      },
      "outputs": [],
      "source": [
        "import openai"
      ]
    },
    {
      "cell_type": "markdown",
      "metadata": {
        "id": "OsECKdtzXmAV"
      },
      "source": [
        "## New Spanish alignment\n",
        "\n",
        "\n",
        "- [ ] Fix the output parsing part of the notebook. Perhaps make a function called `get_alignments_from_prompt_output()` instead of just splitting on highly specific string values\n",
        "- [ ] (TODO LATER) Programmatically load a Spanish translation from eBible corpus\n",
        "\n",
        "\n",
        "Some ideas for improving the initial prompt.\n",
        "\n",
        "- [x] Add language typology information about Spanish\n",
        "- [x] Add information about translation style of specific Spanish translation we are using (more literal vs. more dynamic)\n",
        "- [x] Add more examples?\n",
        "- [x] Replace current examples with examples from the language (e.g., Spanish)\n",
        "- [x] Move the rationale of each alignment before the alignment itself\n",
        "- [x] Experiment with tweaking the system prompt to see if it helps\n",
        "- [x] SIMPLIFY the prompt down to just the most relevant content (do we need a rationale? Does it work without? We can probably drop out relevant grammatical patterns)"
      ]
    },
    {
      "cell_type": "code",
      "execution_count": 4,
      "metadata": {
        "id": "MBs-SZB4XmAW",
        "outputId": "eddc1ad4-3e2c-415e-ef1d-9c0e635bc438",
        "colab": {
          "base_uri": "https://localhost:8080/"
        }
      },
      "outputs": [
        {
          "output_type": "stream",
          "name": "stdout",
          "text": [
            "Here is a phonological, semantic, orthographic alignment of the sentence:\n",
            "\n",
            "```\n",
            "[\n",
            "    {\n",
            "        \"Spanish phrase\": \"Después de esto\",\n",
            "        \"Target phrase\": \"After now these things\",\n",
            "        \"Greek phrase\": \"Μετὰ δὲ ταῦτα\"\n",
            "    },\n",
            "    {\n",
            "        \"Spanish phrase\": \", el Señor designó a otros setenta\",\n",
            "        \"Target phrase\": \"appointed the Lord others seventy\",\n",
            "        \"Greek phrase\": \"ἀνέδειξεν ὁ Κύριος ἑτέρους ἑβδομήκοντα\"\n",
            "    },\n",
            "    {\n",
            "        \"Spanish phrase\": \", y los envió de dos en dos delante de Él\",\n",
            "        \"Target phrase\": \", and sent them in two [by] before [the] face of Himself\",\n",
            "        \"Greek phrase\": \",καὶ ἀπέστειλεν αὐτοὺς ἀνὰ δύο πρὸ προσώπου αὐτοῦ\"\n",
            "    },\n",
            "    {\n",
            "        \"Spanish phrase\": \", a toda ciudad y lugar adonde Él había de ir.\",\n",
            "        \"Target phrase\": \", into every city and place where was about He Himself to go.\",\n",
            "        \"Greek phrase\": \t\"εἰς πᾶσαν πόλιν καὶ τόπον οὗ ἤμελλεν αὐτὸς ἔρχεσθαι.\"\n",
            "    }\n",
            "]\n",
            "```\n"
          ]
        }
      ],
      "source": [
        "prompt = '''\n",
        "Here are some general facts to note about Spanish:\n",
        "Spanish is a fusional language, ensure correct affix attachment; follow SVO order; mark verbs for tense, aspect, mood.\n",
        "For translating from Greek: replace Greek's three-gender system with Spanish's two-gender system, ensuring agreement; shift to SVO order; adapt Greek Voice/Aspect/Mood markings to Spanish system.\n",
        "\n",
        "Translation style:\n",
        "The Spanish translation is a balanced approach between a literal translation and a more dynamic translation. This means that there may be slight differences in phrase order and other adaptations to produce a more natural translation.\n",
        "\n",
        "Here is a sentence:\n",
        "English: And He said to them What things; - And they said to Him The things concerning Jesus of Nazareth, who was a man a prophet mighty in deed and word before - God and all the people,\n",
        "Greek: καὶ εἶπεν αὐτοῖς Ποῖα;οἱ δὲ εἶπαν αὐτῷ Τὰ περὶ Ἰησοῦ τοῦ Ναζαρηνοῦ,ὃς ἐγένετο ἀνὴρ προφήτης δυνατὸς ἐν ἔργῳ καὶ λόγῳ ἐναντίον τοῦ Θεοῦ καὶ παντὸς τοῦ λαοῦ,\n",
        "Spanish: —¿Qué es lo que ha pasado? —preguntó. Ellos respondieron: —Lo de Jesús de Nazaret. Era un profeta poderoso en obras y en palabras delante de Dios y de todo el pueblo.\n",
        "\n",
        "Here is a phonological, semantic, orthographic alignment of that sentence:\n",
        "```\n",
        "[\n",
        "    {\n",
        "        \"Spanish phrase\": \"—preguntó.\",\n",
        "        \"Target phrase\": \"And He said to them\",\n",
        "        \"Greek phrase\": \"καὶ εἶπεν αὐτοῖς\"\n",
        "    },\n",
        "    {\n",
        "        \"Spanish phrase\": \"¿Qué es lo que ha pasado?\",\n",
        "        \"Target phrase\": \"What things;\",\n",
        "        \"Greek phrase\": \"Ποῖα;\"\n",
        "    },\n",
        "    {\n",
        "        \"Spanish phrase\": \"Ellos respondieron\",\n",
        "        \"Target phrase\": \"And they said to Him\",\n",
        "        \"Greek phrase\": \"οἱ δὲ εἶπαν αὐτοῖς\"\n",
        "    },\n",
        "    {\n",
        "        \"Spanish phrase\": \"—Lo de Jesús de Nazaret.\",\n",
        "        \"Target phrase\": \"The things concerning Jesus of Nazareth,\",\n",
        "        \"Greek phrase\": \"Τὰ περὶ Ἰησοῦ τοῦ Ναζαρηνοῦ\"\n",
        "    },\n",
        "    {\n",
        "        \"Spanish phrase\": \"Era un profeta poderoso en obras y en palabras\",\n",
        "        \"Target phrase\": \"who was a man a prophet mighty in deed and word\",\n",
        "        \"Greek phrase\": \"ὃς ἐγένετο ἀνὴρ προφήτης δυνατὸς ἐν ἔργῳ καὶ λόγῳ\"\n",
        "    },\n",
        "    {\n",
        "        \"Spanish phrase\": \"delante de Dios y de todo el pueblo.\",\n",
        "        \"Target phrase\": \"before - God and all the people\",\n",
        "        \"Greek phrase\": \"ἐναντίον τοῦ Θεοῦ καὶ παντὸς τοῦ λαοῦ\"\n",
        "    }\n",
        "]\n",
        "\n",
        "```\n",
        "\n",
        "Please also align the following sentence. Avoid including multiple phrases in a single alignment unit. You may need to break phrases  on commas or other major punctuation, including enclosing quotation marks. But you may also need to break a phrase along conjunctions or other words that typically mark the start of a new phrase:\n",
        "\n",
        "English: After  now  these things  appointed  the  Lord  others  seventy, and  sent  them  in  two [by]  before  [the] face  of Himself  into  every  city  and  place  where  was about  He Himself  to go.\n",
        "Greek: Μετὰ δὲ ταῦτα ἀνέδειξεν ὁ Κύριος ἑτέρους ἑβδομήκοντα,καὶ ἀπέστειλεν αὐτοὺς ἀνὰ δύο πρὸ προσώπου αὐτοῦ εἰς πᾶσαν πόλιν καὶ τόπον οὗ ἤμελλεν αὐτὸς ἔρχεσθαι.\n",
        "Spanish: Después de esto, el Señor designó a otros setenta, y los envió de dos en dos delante de Él, a toda ciudad y lugar adonde Él había de ir.\n",
        "'''\n",
        "\n",
        "messages = [\n",
        "    {\"role\": \"system\", \"content\": f\"You are LangAlignerGPT. Analyze the user-supplied alignment examples below and follow any instructions the user gives.\"},\n",
        "    {\"role\": \"user\", \"content\": prompt},\n",
        "]\n",
        "\n",
        "response = openai.ChatCompletion.create(\n",
        "    model=\"gpt-4\",\n",
        "    messages=messages,\n",
        "    temperature=0.3,\n",
        "    n=1,\n",
        "    presence_penalty=0.5,\n",
        "    frequency_penalty=0.5,\n",
        ")\n",
        "\n",
        "generated_texts = [\n",
        "    choice.message[\"content\"].strip() for choice in response[\"choices\"]\n",
        "]\n",
        "print(generated_texts[0])"
      ]
    },
    {
      "cell_type": "markdown",
      "metadata": {
        "id": "U_G9SPqYXmAW"
      },
      "source": [
        "## Align individual chunks from output"
      ]
    },
    {
      "cell_type": "code",
      "source": [
        "import json\n",
        "\n",
        "def get_alignments_from_prompt_output(generated_texts):\n",
        "  start_index = generated_texts.find('```')\n",
        "  end_index = generated_texts.rfind('```')\n",
        "  json_data = generated_texts[start_index + 3:end_index]\n",
        "  json_data = json_data.strip()\n",
        "  data = json.loads(json_data)\n",
        "  # json.dumps(data, indent=4, ensure_ascii=False)\n",
        "  return data\n"
      ],
      "metadata": {
        "id": "z8RlMQeTnCjj"
      },
      "execution_count": 5,
      "outputs": []
    },
    {
      "cell_type": "code",
      "source": [
        "output = get_alignments_from_prompt_output(generated_texts[0])"
      ],
      "metadata": {
        "id": "j5smIo3Yq3bD"
      },
      "execution_count": 6,
      "outputs": []
    },
    {
      "cell_type": "code",
      "source": [
        "output"
      ],
      "metadata": {
        "colab": {
          "base_uri": "https://localhost:8080/"
        },
        "id": "ZllYJSI1OTX0",
        "outputId": "7b3bdfa6-a1e0-42ff-bdf2-a6fe387ba3a3"
      },
      "execution_count": 7,
      "outputs": [
        {
          "output_type": "execute_result",
          "data": {
            "text/plain": [
              "[{'Spanish phrase': 'Después de esto',\n",
              "  'Target phrase': 'After now these things',\n",
              "  'Greek phrase': 'Μετὰ δὲ ταῦτα'},\n",
              " {'Spanish phrase': ', el Señor designó a otros setenta',\n",
              "  'Target phrase': 'appointed the Lord others seventy',\n",
              "  'Greek phrase': 'ἀνέδειξεν ὁ Κύριος ἑτέρους ἑβδομήκοντα'},\n",
              " {'Spanish phrase': ', y los envió de dos en dos delante de Él',\n",
              "  'Target phrase': ', and sent them in two [by] before [the] face of Himself',\n",
              "  'Greek phrase': ',καὶ ἀπέστειλεν αὐτοὺς ἀνὰ δύο πρὸ προσώπου αὐτοῦ'},\n",
              " {'Spanish phrase': ', a toda ciudad y lugar adonde Él había de ir.',\n",
              "  'Target phrase': ', into every city and place where was about He Himself to go.',\n",
              "  'Greek phrase': 'εἰς πᾶσαν πόλιν καὶ τόπον οὗ ἤμελλεν αὐτὸς ἔρχεσθαι.'}]"
            ]
          },
          "metadata": {},
          "execution_count": 7
        }
      ]
    },
    {
      "cell_type": "code",
      "execution_count": 8,
      "metadata": {
        "id": "rkOBxZqlXmAX",
        "outputId": "666f2227-aace-49d1-9999-4dfb58762c6c",
        "colab": {
          "base_uri": "https://localhost:8080/"
        }
      },
      "outputs": [
        {
          "output_type": "stream",
          "name": "stdout",
          "text": [
            "- Source token(s)\t\t-->\tTarget token(s)\t\t-->\tGreek token(s)\n",
            "- Después de\t\t-->\tAfter now\t\t-->\tΜετὰ δὲ\n",
            "- esto\t\t        -->\tthese things\t        -->\tταῦτα\n",
            "- Source token(s)\t\t-->\tTarget token(s)\t\t-->\tGreek token(s)\n",
            "- , el Señor\t\t-->\tthe Lord\t\t-->\tὁ Κύριος\n",
            "- designó a \t        -->\tappointed\t        -->\tἀνέδειξεν\n",
            "- otros setenta\t        -->\tothers seventy\t        -->\tἑτέρους ἑβδομήκοντα\n",
            "- Source token(s)\t\t-->\tTarget token(s)\t\t-->\tGreek token(s)\n",
            "- , y los envió\t\t-->\t, and sent them\t\t-->\t,καὶ ἀπέστειλεν αὐτοὺς\n",
            "- de dos en dos \t        -->\tin two [by] \t                -->\tἀνὰ δύο\n",
            "- delante de Él\t\t        -->\tbefore [the] face of Himself  -->  πρὸ προσώπου αὐτοῦ\n",
            "- Source token(s)\t\t-->\tTarget token(s)\t\t-->\tGreek token(s)\n",
            "- , a toda ciudad y lugar  -->  , into every city and place  --> εἰς πᾶσαν πόλιν καὶ τόπον\n",
            "- adonde Él había de ir.   --> where was about He Himself to go.   --> οὗ ἤμελλεν αὐτὸς ἔρχεσθαι.\n"
          ]
        }
      ],
      "source": [
        "final_alignments = []\n",
        "\n",
        "for chunk in output:\n",
        "\n",
        "    prompt = '''Here is a phrase:\n",
        "      {POS_aligned_chunks}\n",
        "\n",
        "      Please further align and break down the provided chunk into a mapping of the fewest possible tokens (sometimes multiple tokens will align to one token; that's expected) in a format similar to the following:\n",
        "\n",
        "      E.g.: \"Rationale\": \"Semantic alignment; Orthographic (comma)\",\"Source phrase\": \"Después de esto,\",\\n\\t\"Spanish phrase\": \"After now these things\",\\n\\t\"Greek phrase\": \"Μετὰ δὲ ταῦτα\"\n",
        "\n",
        "      - Source token(s)\\t\\t-->\\tTarget token(s)\\t\\t-->\\tGreek token(s)\n",
        "      - Después de\\t\\t-->\\tAfter now\\t\\t-->\\tΜετὰ δὲ\n",
        "      - esto\\t\\t-->\\tthese things\\t\\t-->\\tταῦτα\n",
        "\n",
        "      Do not include any other information or commentary. Only tell me what the alignment is.\n",
        "\n",
        "      The chunk I want you to align is:\n",
        "        ```\n",
        "        {current_chunk}\n",
        "        ```\n",
        "      '''.format(POS_aligned_chunks=json.dumps(output, ensure_ascii = False), current_chunk=json.dumps(chunk, ensure_ascii = False))\n",
        "\n",
        "    messages = [\n",
        "        {\"role\": \"system\", \"content\": f\"You are LangAlignerGPT. Analyze the user-supplied alignment examples below and follow any instructions the user gives.\"},\n",
        "        {\"role\": \"user\", \"content\": prompt},\n",
        "    ]\n",
        "\n",
        "    response = openai.ChatCompletion.create(\n",
        "        model=\"gpt-4\",\n",
        "        messages=messages,\n",
        "        temperature=0.3,\n",
        "        n=1,\n",
        "        presence_penalty=0.5,\n",
        "        frequency_penalty=0.5,\n",
        "    )\n",
        "\n",
        "    generated_texts_for_chunk = [\n",
        "        choice.message[\"content\"].strip() for choice in response[\"choices\"]\n",
        "    ]\n",
        "    print(generated_texts_for_chunk[0])\n",
        "    final_alignments.append(generated_texts_for_chunk[0])"
      ]
    },
    {
      "cell_type": "code",
      "execution_count": 9,
      "metadata": {
        "id": "qdveDvS9XmAX",
        "colab": {
          "base_uri": "https://localhost:8080/"
        },
        "outputId": "bc5d8e83-a0bc-42ab-b038-a41e3f918f9e"
      },
      "outputs": [
        {
          "output_type": "stream",
          "name": "stdout",
          "text": [
            "- Source token(s)\t\t-->\tTarget token(s)\t\t-->\tGreek token(s)\n",
            "- Después de\t\t-->\tAfter now\t\t-->\tΜετὰ δὲ\n",
            "- esto\t\t        -->\tthese things\t        -->\tταῦτα\n",
            "-----\n",
            "- Source token(s)\t\t-->\tTarget token(s)\t\t-->\tGreek token(s)\n",
            "- , el Señor\t\t-->\tthe Lord\t\t-->\tὁ Κύριος\n",
            "- designó a \t        -->\tappointed\t        -->\tἀνέδειξεν\n",
            "- otros setenta\t        -->\tothers seventy\t        -->\tἑτέρους ἑβδομήκοντα\n",
            "-----\n",
            "- Source token(s)\t\t-->\tTarget token(s)\t\t-->\tGreek token(s)\n",
            "- , y los envió\t\t-->\t, and sent them\t\t-->\t,καὶ ἀπέστειλεν αὐτοὺς\n",
            "- de dos en dos \t        -->\tin two [by] \t                -->\tἀνὰ δύο\n",
            "- delante de Él\t\t        -->\tbefore [the] face of Himself  -->  πρὸ προσώπου αὐτοῦ\n",
            "-----\n",
            "- Source token(s)\t\t-->\tTarget token(s)\t\t-->\tGreek token(s)\n",
            "- , a toda ciudad y lugar  -->  , into every city and place  --> εἰς πᾶσαν πόλιν καὶ τόπον\n",
            "- adonde Él había de ir.   --> where was about He Himself to go.   --> οὗ ἤμελλεν αὐτὸς ἔρχεσθαι.\n",
            "-----\n"
          ]
        }
      ],
      "source": [
        "for i in final_alignments:\n",
        "  print(i)\n",
        "  print('-----')"
      ]
    }
  ],
  "metadata": {
    "kernelspec": {
      "display_name": "Python 3",
      "language": "python",
      "name": "python3"
    },
    "language_info": {
      "codemirror_mode": {
        "name": "ipython",
        "version": 3
      },
      "file_extension": ".py",
      "mimetype": "text/x-python",
      "name": "python",
      "nbconvert_exporter": "python",
      "pygments_lexer": "ipython3",
      "version": "3.11.4"
    },
    "orig_nbformat": 4,
    "colab": {
      "provenance": []
    }
  },
  "nbformat": 4,
  "nbformat_minor": 0
}