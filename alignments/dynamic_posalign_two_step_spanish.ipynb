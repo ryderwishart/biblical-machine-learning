{
  "cells": [
    {
      "cell_type": "code",
      "execution_count": null,
      "metadata": {
        "colab": {
          "base_uri": "https://localhost:8080/"
        },
        "id": "jp-5KCKPAmqI",
        "outputId": "e38e29a1-8861-4eaf-dcf4-24b90b270811"
      },
      "outputs": [],
      "source": [
        "!pip install openai"
      ]
    },
    {
      "attachments": {},
      "cell_type": "markdown",
      "metadata": {},
      "source": [
        "Change the following cell if you are not using a local model."
      ]
    },
    {
      "cell_type": "code",
      "execution_count": null,
      "metadata": {
        "id": "GzyNIXwJXmAR"
      },
      "outputs": [],
      "source": [
        "import openai\n",
        "import json\n",
        "import os"
      ]
    },
    {
      "cell_type": "code",
      "execution_count": null,
      "metadata": {
        "colab": {
          "base_uri": "https://localhost:8080/"
        },
        "id": "Ct3L_5rEXmAP",
        "outputId": "d38b1e2a-1f1c-47f8-cb22-2612ee6b030e"
      },
      "outputs": [],
      "source": [
        "os.environ['OPENAI_API_KEY'] = 'EMPTY'\n",
        "openai.api_key = os.environ[\"OPENAI_API_KEY\"]\n",
        "openai.base_path = \"http://localhost:1234/v1\"\n",
        "openai.api_base = \"http://localhost:1234/v1\""
      ]
    },
    {
      "attachments": {},
      "cell_type": "markdown",
      "metadata": {
        "id": "OsECKdtzXmAV"
      },
      "source": [
        "## New Spanish alignment\n",
        "\n",
        "\n",
        "- [ ] Fix the output parsing part of the notebook. Perhaps make a function called `get_alignments_from_prompt_output()` instead of just splitting on highly specific string values\n",
        "- [ ] (TODO LATER) Programmatically load a Spanish translation from eBible corpus\n",
        "\n",
        "\n",
        "Some ideas for improving the initial prompt.\n",
        "\n",
        "- [x] Add language typology information about Spanish\n",
        "- [x] Add information about translation style of specific Spanish translation we are using (more literal vs. more dynamic)\n",
        "- [x] Add more examples?\n",
        "- [x] Replace current examples with examples from the language (e.g., Spanish)\n",
        "- [x] Move the rationale of each alignment before the alignment itself\n",
        "- [x] Experiment with tweaking the system prompt to see if it helps\n",
        "- [x] SIMPLIFY the prompt down to just the most relevant content (do we need a rationale? Does it work without? We can probably drop out relevant grammatical patterns)"
      ]
    },
    {
      "cell_type": "code",
      "execution_count": null,
      "metadata": {},
      "outputs": [],
      "source": [
        "data = 'C:/Users/natha/Downloads/spapddpt.json'"
      ]
    },
    {
      "cell_type": "code",
      "execution_count": null,
      "metadata": {},
      "outputs": [],
      "source": [
        "def generate_broad_greek_alignment_prompt(file_path, verse):\n",
        "    with open(file_path, 'r') as f:\n",
        "        data = json.load(f)\n",
        "    \n",
        "    for element in data:\n",
        "        if element['vref'] == verse:\n",
        "            return f'''\n",
        "Here are some general facts to note about Spanish:\n",
        "Spanish is a fusional language, ensure correct affix attachment; follow SVO order; mark verbs for tense, aspect, mood.\n",
        "For translating from Greek: replace Greeks's three-gender system with Spanish's two-gender system, ensuring agreement; shift to SVO order; adapt Greek Voice/Aspect/Mood markings to Spanish system.\n",
        "\n",
        "Translation style:\n",
        "The Spanish translation is  a literal translation trying to stick closely to the Greek word order, but there may occasionally be instances where Spanish phrases differ to produce a more natural translation.\n",
        "\n",
        "Here is a sentence:\n",
        "Spanish: —¿Qué es lo que ha pasado? —preguntó. Ellos respondieron: —Lo de Jesús de Nazaret. Era un profeta poderoso en obras y en palabras delante de Dios y de todo el pueblo.\n",
        "English: And He said to them What things; - And they said to Him The things concerning Jesus of Nazareth, who was a man a prophet mighty in deed and word before - God and all the people,\n",
        "Greek: καὶ εἶπεν αὐτοῖς Ποῖα;οἱ δὲ εἶπαν αὐτῷ Τὰ περὶ Ἰησοῦ τοῦ Ναζαρηνοῦ,ὃς ἐγένετο ἀνὴρ προφήτης δυνατὸς ἐν ἔργῳ καὶ λόγῳ ἐναντίον τοῦ Θεοῦ καὶ παντὸς τοῦ λαοῦ,\n",
        "\n",
        "Here is a phonological, semantic, orthographic alignment of that sentence:\n",
        "```\n",
        "[\n",
        "    {{\n",
        "        \"Spanish phrase\": \"—preguntó.\",\n",
        "        \"English phrase\": \"And He said to them\",\n",
        "        \"Greek phrase\": \"καὶ εἶπεν αὐτοῖς\"\n",
        "    }},\n",
        "    {{\n",
        "        \"Spanish phrase\": \"¿Qué es lo que ha pasado?\",\n",
        "        \"English phrase\": \"What things;\",\n",
        "        \"Greek phrase\": \"Ποῖα;\"\n",
        "    }},\n",
        "    {{\n",
        "        \"Spanish phrase\": \"Ellos respondieron\",\n",
        "        \"English phrase\": \"And they said to Him\",\n",
        "        \"Greek phrase\": \"οἱ δὲ εἶπαν αὐτοῖς\"\n",
        "    }},\n",
        "    {{\n",
        "        \"Spanish phrase\": \"—Lo de Jesús de Nazaret.\",\n",
        "        \"English phrase\": \"The things concerning Jesus of Nazareth,\",\n",
        "        \"Greek phrase\": \"Τὰ περὶ Ἰησοῦ τοῦ Ναζαρηνοῦ\"\n",
        "    }},\n",
        "    {{\n",
        "        \"Spanish phrase\": \"Era un profeta poderoso en obras y en palabras\",\n",
        "        \"English phrase\": \"who was a man a prophet mighty in deed and word\",\n",
        "        \"Greek phrase\": \"ὃς ἐγένετο ἀνὴρ προφήτης δυνατὸς ἐν ἔργῳ καὶ λόγῳ\"\n",
        "    }},\n",
        "    {{\n",
        "        \"Spanish phrase\": \"delante de Dios y de todo el pueblo.\",\n",
        "        \"English phrase\": \"before - God and all the people\",\n",
        "        \"Greek phrase\": \"ἐναντίον τοῦ Θεοῦ καὶ παντὸς τοῦ λαοῦ\"\n",
        "    }}\n",
        "]\n",
        "\n",
        "```\n",
        "\n",
        "Please also align the following sentence. Avoid including multiple phrases in a single alignment unit. You may need to break phrases  on commas or other major punctuation, including enclosing quotation marks. But you may also need to break a phrase along conjunctions or other words that typically mark the start of a new phrase:\n",
        "\n",
        "Spanish Phrase: {element['target']['content']}\n",
        "English Phrase: {element['bsb']['content']}\n",
        "Greek Phrase: {element['macula']['content']}\n",
        "'''\n",
        "    else:\n",
        "        return 'Please enter a valid Bible reference in the format of: BOOK(3 letter code) CH:VERSE'"
      ]
    },
    {
      "cell_type": "code",
      "execution_count": null,
      "metadata": {},
      "outputs": [],
      "source": [
        "def generate_broad_hebrew_alignment_prompt(file_path, verse):\n",
        "    with open(file_path, 'r') as f:\n",
        "        data = json.load(f)\n",
        "    \n",
        "    for element in data:\n",
        "        if element['vref'] == verse:\n",
        "            return f'''\n",
        "Here are some general facts to note about Spanish:\n",
        "Spanish is a fusional language, ensure correct affix attachment; follow SVO order; mark verbs for tense, aspect, mood.\n",
        "For translating from Hebrew: shift to SVO order; adapt Hebrew Voice/Aspect/Mood markings to Spanish system.\n",
        "\n",
        "Translation style:\n",
        "The Spanish translation is  a literal translation trying to stick closely to the Hebrew word order, but there may occasionally be instances where Spanish phrases differ to produce a more natural translation.\n",
        "\n",
        "Here is a sentence:\n",
        "Spanish: Pero la tierra estaba desolada y vacía, y había oscuridad sobre la superficie del abismo. El Espíritu de ʼElohim se movía sobre la superficie de las aguas.\n",
        "English: Now the earth was formless and void, and darkness was over the surface of the deep. And the Spirit of God was hovering over the surface of the waters.\n",
        "Hebrew: וְהָאָ֗רֶץ הָיְתָ֥ה תֹ֨הוּ֙ וָבֹ֔הוּ וְחֹ֖שֶׁךְ עַל־פְּנֵ֣י תְה֑וֹם וְר֣וּחַ אֱלֹהִ֔ים מְרַחֶ֖פֶת עַל־פְּנֵ֥י הַמָּֽיִם׃\n",
        "\n",
        "Here is a phonological, semantic, orthographic alignment of that sentence:\n",
        "```\n",
        "[\n",
        "    {{\n",
        "        \"Spanish phrase\": \"Pero la tierra estaba desolada y vacía,\",\n",
        "        \"English phrase\": \"Now the earth was formless and void,\",\n",
        "        \"Hebrew phrase\": \"וְהָאָ֗רֶץ הָיְתָ֥ה תֹ֨הוּ֙ וָבֹ֔הוּ\"\n",
        "    }},\n",
        "    {{\n",
        "        \"Spanish phrase\": \"y había oscuridad sobre la superficie del abismo.\",\n",
        "        \"English phrase\": \"and darkness was over the surface of the deep.\",\n",
        "        \"Hebrew phrase\": \"וְחֹ֖שֶׁךְ עַל־פְּנֵ֣י תְה֑וֹם\"\n",
        "    }},\n",
        "    {{\n",
        "        \"Spanish phrase\": \"El Espíritu de ʼElohim se movía sobre la superficie de las aguas.\",\n",
        "        \"English phrase\": \"And the Spirit of God was hovering over the surface of the waters.\",\n",
        "        \"Hebrew phrase\": \"וְר֣וּחַ אֱלֹהִ֔ים מְרַחֶ֖פֶת עַל־פְּנֵ֥י הַמָּֽיִם׃\"\n",
        "    }}\n",
        "]\n",
        "\n",
        "```\n",
        "\n",
        "Please also align the following sentence. Avoid including multiple phrases in a single alignment unit. You may need to break phrases  on commas or other major punctuation, including enclosing quotation marks. But you may also need to break a phrase along conjunctions or other words that typically mark the start of a new phrase:\n",
        "\n",
        "Spanish Phrase: {element['target']['content']}\n",
        "English Phrase: {element['bsb']['content']}\n",
        "Hebrew Phrase: {element['macula']['content']}\n",
        "'''\n",
        "    else:\n",
        "        return 'Please enter a valid Bible reference in the format of: BOOK(3 letter code) CH:VERSE'"
      ]
    },
    {
      "cell_type": "code",
      "execution_count": null,
      "metadata": {},
      "outputs": [],
      "source": [
        "book_idx = {'GEN': 1, 'EXO': 2, 'LEV': 3, 'NUM': 4, 'DEU': 5, 'JOS': 6, 'JDG': 7, 'RUT': 8, '1SA': 9, '2SA': 10,\n",
        " '1KI': 11, '2KI': 12, '1CH': 13, '2CH': 14, 'EZR': 15, 'NEH': 16, 'EST': 17, 'JOB': 18, 'PSA': 19, 'PRO': 20,\n",
        " 'ECC': 21, 'SNG': 22, 'ISA': 23, 'JER': 24, 'LAM': 25, 'EZK': 26, 'DAN': 27, 'HOS': 28, 'JOL': 29, 'AMO': 30,\n",
        " 'OBA': 31, 'JON': 32, 'MIC': 33, 'NAH': 34, 'HAB': 35, 'ZEP': 36, 'HAG': 37, 'ZEC': 38, 'MAL': 39, 'MAT': 40,\n",
        " 'MRK': 41, 'LUK': 42, 'JHN': 43, 'ACT': 44, 'ROM': 45, '1CO': 46, '2CO': 47, 'GAL': 48, 'EPH': 49, 'PHP': 50,\n",
        " 'COL': 51, '1TH': 52, '2TH': 53, '1TI': 54, '2TI': 55, 'TIT': 56, 'PHM': 57, 'HEB': 58, 'JAS': 59, '1PE': 60,\n",
        " '2PE': 61, '1JN': 62, '2JN': 63, '3JN': 64, 'JUD': 65, 'REV': 66}\n"
      ]
    },
    {
      "cell_type": "code",
      "execution_count": null,
      "metadata": {},
      "outputs": [],
      "source": [
        "def generate_broad_alignment_prompt(data, reference):\n",
        "    if book_idx[reference[:3]] < 40:\n",
        "        return generate_broad_hebrew_alignment_prompt(data, reference)\n",
        "    else:\n",
        "        return generate_broad_greek_alignment_prompt(data, reference)"
      ]
    },
    {
      "cell_type": "code",
      "execution_count": null,
      "metadata": {},
      "outputs": [],
      "source": [
        "prompt = generate_broad_alignment_prompt(data, 'GEN 1:1')"
      ]
    },
    {
      "cell_type": "code",
      "execution_count": null,
      "metadata": {
        "colab": {
          "base_uri": "https://localhost:8080/"
        },
        "id": "MBs-SZB4XmAW",
        "outputId": "eddc1ad4-3e2c-415e-ef1d-9c0e635bc438"
      },
      "outputs": [],
      "source": [
        "messages = [\n",
        "    {\"role\": \"system\", \"content\": f\"You are LangAlignerGPT. Analyze the user-supplied alignment examples below and follow any instructions the user gives.\"},\n",
        "    {\"role\": \"user\", \"content\": prompt},\n",
        "]\n",
        "\n",
        "response = openai.ChatCompletion.create(\n",
        "    model=\"gpt-4\",\n",
        "    messages=messages,\n",
        "    temperature=0.3,\n",
        "    n=1,\n",
        "    presence_penalty=0.5,\n",
        "    frequency_penalty=0.5,\n",
        ")\n",
        "\n",
        "generated_texts = [\n",
        "    choice.message[\"content\"].strip() for choice in response[\"choices\"]\n",
        "]\n",
        "print(generated_texts[0])"
      ]
    },
    {
      "attachments": {},
      "cell_type": "markdown",
      "metadata": {
        "id": "U_G9SPqYXmAW"
      },
      "source": [
        "## Align individual chunks from output"
      ]
    },
    {
      "cell_type": "code",
      "execution_count": null,
      "metadata": {
        "id": "z8RlMQeTnCjj"
      },
      "outputs": [],
      "source": [
        "def get_alignments_from_prompt_output(generated_texts):\n",
        "  \n",
        "  if generated_texts.rfind('```') != generated_texts.find('```'):\n",
        "    start_index = generated_texts.find('```')\n",
        "    end_index = generated_texts.rfind('```')\n",
        "    json_data = generated_texts[start_index + 3:end_index]\n",
        "  else:\n",
        "    start_index = generated_texts.find('```')\n",
        "    json_data = generated_texts[start_index + 3:]\n",
        "  json_data = json_data.strip()\n",
        "  print(json_data)\n",
        "  \n",
        "  try:\n",
        "    data = json.loads(json_data)\n",
        "  except json.JSONDecodeError:\n",
        "    print(\"Invalid JSON data in the generated_texts string.\")\n",
        "    return None\n",
        "  return data\n"
      ]
    },
    {
      "cell_type": "code",
      "execution_count": null,
      "metadata": {
        "id": "j5smIo3Yq3bD"
      },
      "outputs": [],
      "source": [
        "output = get_alignments_from_prompt_output(generated_texts[0])"
      ]
    },
    {
      "cell_type": "code",
      "execution_count": null,
      "metadata": {},
      "outputs": [],
      "source": [
        "with open('C:/Users/natha/Downloads/dynamic_posalign.txt', 'w') as file:\n",
        "    file.write('[\\n')\n",
        "    for i in output:\n",
        "        file.write(json.dumps(i, ensure_ascii = False) + ',')\n",
        "    file.write(']')"
      ]
    },
    {
      "cell_type": "code",
      "execution_count": null,
      "metadata": {},
      "outputs": [],
      "source": [
        "def refined_greek_alignments_from_prompt_output(output, chunk):\n",
        "    return '''Here is a phrase:\n",
        "        {POS_aligned_chunks}\n",
        "\n",
        "        Please further align and break down the provided chunk into a mapping of the fewest possible tokens (sometimes multiple tokens will align to one token; that's expected) in a format similar to the following:\n",
        "\n",
        "        E.g.: \"Spanish phrase\": \"Después de esto,\",\\n\\t\"English phrase\": \"After now these things\",\\n\\t\"Greek phrase\": \"Μετὰ δὲ ταῦτα\"\n",
        "\n",
        "        - Spanish token(s)\\t\\t-->\\tEnglish token(s)\\t\\t-->\\tGreek token(s)\n",
        "        - Después de\\t\\t-->\\tAfter now\\t\\t-->\\tΜετὰ δὲ\n",
        "        - esto\\t\\t-->\\tthese things\\t\\t-->\\tταῦτα\n",
        "\n",
        "        Do not include any other information or commentary. Only tell me what the alignment is.\n",
        "\n",
        "        The chunk I want you to align is:\n",
        "            ```\n",
        "            {current_chunk}\n",
        "            ```\n",
        "        '''.format(POS_aligned_chunks=json.dumps(output, ensure_ascii = False), current_chunk=json.dumps(chunk, ensure_ascii = False))"
      ]
    },
    {
      "cell_type": "code",
      "execution_count": null,
      "metadata": {},
      "outputs": [],
      "source": [
        "def refined_hebrew_alignments_from_prompt_output(output, chunk):\n",
        "    return '''Here is a phrase:\n",
        "        {POS_aligned_chunks}\n",
        "\n",
        "        Please further align and break down the provided chunk into a mapping of the fewest possible tokens (sometimes multiple tokens will align to one token; that's expected) in a format similar to the following:\n",
        "\n",
        "        E.g.: \"Spanish phrase\": \"El Espíritu de ʼElohim se movía sobre la superficie de las aguas.\",\\n\\t\"English phrase\": \"And the Spirit of God was hovering over the surface of the waters.\",\\n\\t\"Hebrew phrase\":  \"וְר֣וּחַ אֱלֹהִ֔ים מְרַחֶ֖פֶת עַל־פְּנֵ֥י הַמָּֽיִם׃\"\n",
        "\n",
        "        - Spanish token(s)\\t\\t-->\\tEnglish token(s)\\t\\t-->\\tHebrew token(s)\n",
        "        - El Espíritu de ʼElohim\\t\\t-->\\tAnd the Spirit of God\\t\\t-->\\tוְר֣וּחַ אֱלֹהִ֔ים\n",
        "        - se movía sobre la superficie de las aguas.\\t\\t-->\\twas hovering over the surface of the waters.\\t\\t-->\\tמְרַחֶ֖פֶת עַל־פְּנֵ֥י הַמָּֽיִם׃\n",
        "\n",
        "        Do not include any other information or commentary. Only tell me what the alignment is.\n",
        "\n",
        "        The chunk I want you to align is:\n",
        "            ```\n",
        "            {current_chunk}\n",
        "            ```\n",
        "        '''.format(POS_aligned_chunks=json.dumps(output, ensure_ascii = False), current_chunk=json.dumps(chunk, ensure_ascii = False))"
      ]
    },
    {
      "cell_type": "code",
      "execution_count": null,
      "metadata": {},
      "outputs": [],
      "source": [
        "def generate_texts(prompt):\n",
        "    messages = [\n",
        "        {\"role\": \"system\", \"content\": f\"You are LangAlignerGPT. Analyze the user-supplied alignment examples below and follow any instructions the user gives.\"},\n",
        "        {\"role\": \"user\", \"content\": prompt},\n",
        "    ]\n",
        "\n",
        "    response = openai.ChatCompletion.create(\n",
        "        model=\"gpt-4\",\n",
        "        messages=messages,\n",
        "        temperature=0.3,\n",
        "        n=1,\n",
        "        presence_penalty=0.5,\n",
        "        frequency_penalty=0.5,\n",
        "    )\n",
        "\n",
        "    generated_texts_for_chunk = [\n",
        "        choice.message[\"content\"].strip() for choice in response[\"choices\"]\n",
        "\n",
        "    ]\n",
        "    \n",
        "    return generated_texts_for_chunk"
      ]
    },
    {
      "cell_type": "code",
      "execution_count": null,
      "metadata": {
        "colab": {
          "base_uri": "https://localhost:8080/"
        },
        "id": "rkOBxZqlXmAX",
        "outputId": "666f2227-aace-49d1-9999-4dfb58762c6c"
      },
      "outputs": [],
      "source": [
        "final_alignments = []\n",
        "\n",
        "for chunk in output:\n",
        "  if 'Hebrew' in json.dumps(chunk, ensure_ascii = False):\n",
        "    prompt = refined_hebrew_alignments_from_prompt_output(output=output, chunk=chunk)\n",
        "  else:\n",
        "    prompt = refined_greek_alignments_from_prompt_output(output=output, chunk=chunk)\n",
        "\n",
        "  generated_texts = generate_texts(prompt)\n",
        "  \n",
        "  # Count the occurrences of 'phrase' in each element to improve odds of correct output\n",
        "  phrase_count = sum(element.count('phrase\":') for element in generated_texts)\n",
        "  \n",
        "  # Repeat until 'phrase' is found exactly three times in each element\n",
        "  while phrase_count != 3 and colon_count != 3:\n",
        "    generated_texts = generate_texts(prompt)\n",
        "    phrase_count = sum(element.count('phrase\":') for element in generated_texts)\n",
        "\n",
        "  print(generated_texts[0])\n",
        "  final_alignments.append(generated_texts[0])"
      ]
    },
    {
      "cell_type": "code",
      "execution_count": null,
      "metadata": {
        "colab": {
          "base_uri": "https://localhost:8080/"
        },
        "id": "qdveDvS9XmAX",
        "outputId": "bc5d8e83-a0bc-42ab-b038-a41e3f918f9e"
      },
      "outputs": [],
      "source": [
        "with open('C:/Users/natha/Downloads/refined_dynamic_posalign.txt', 'w') as file:\n",
        "    file.write('[\\n')\n",
        "    for i in final_alignments:\n",
        "        print(i)\n",
        "        print('-----')\n",
        "        file.write(json.dumps(i, ensure_ascii = False) + ',')\n",
        "    file.write(']')\n"
      ]
    }
  ],
  "metadata": {
    "colab": {
      "provenance": []
    },
    "kernelspec": {
      "display_name": "Python 3",
      "language": "python",
      "name": "python3"
    },
    "language_info": {
      "codemirror_mode": {
        "name": "ipython",
        "version": 3
      },
      "file_extension": ".py",
      "mimetype": "text/x-python",
      "name": "python",
      "nbconvert_exporter": "python",
      "pygments_lexer": "ipython3",
      "version": "3.10.11"
    },
    "orig_nbformat": 4
  },
  "nbformat": 4,
  "nbformat_minor": 0
}
