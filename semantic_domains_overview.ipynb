{
  "cells": [
    {
      "cell_type": "markdown",
      "metadata": {
        "id": "view-in-github",
        "colab_type": "text"
      },
      "source": [
        "<a href=\"https://colab.research.google.com/github/ryderwishart/biblical-machine-learning/blob/main/semantic_domains_overview.ipynb\" target=\"_parent\"><img src=\"https://colab.research.google.com/assets/colab-badge.svg\" alt=\"Open In Colab\"/></a>"
      ]
    },
    {
      "cell_type": "markdown",
      "metadata": {
        "id": "r7U1Y1KmCbhX"
      },
      "source": [
        "# Simple TSV Exploring Semantic Domains in Greek\n",
        "This notebook is designed to load and explore the MACULA Greek semantic domains."
      ]
    },
    {
      "cell_type": "markdown",
      "metadata": {
        "id": "eAUCmr4eCbhY"
      },
      "source": [
        "## Setup\n",
        "Import the necessary libraries."
      ]
    },
    {
      "cell_type": "code",
      "execution_count": 1,
      "metadata": {
        "id": "VimAfDy7CbhZ"
      },
      "outputs": [],
      "source": [
        "import pandas as pd\n",
        "import os"
      ]
    },
    {
      "cell_type": "markdown",
      "metadata": {
        "id": "xoV1THaMCbha"
      },
      "source": [
        "## Download and Load Data\n",
        "Here, download the TSV files using the `!wget` command and load them using pandas.\n",
        "\n",
        "We need two files, namely the TSV data and also the dictionary of semantic domain labels, since semantic domains are encoded as numbers."
      ]
    },
    {
      "cell_type": "code",
      "execution_count": 3,
      "metadata": {
        "id": "uBDr_E58Cbha"
      },
      "outputs": [],
      "source": [
        "if 'macula-greek.tsv' not in [path for path in os.listdir()]:\n",
        "    !wget -q 'https://raw.githubusercontent.com/Clear-Bible/macula-greek/main/Nestle1904/TSV/macula-greek.tsv'\n",
        "if 'marble-domain-label-mapping.json' not in [path for path in os.listdir()]:\n",
        "    !wget -q 'https://raw.githubusercontent.com/Clear-Bible/macula-greek/main/sources/MARBLE/SDBG/marble-domain-label-mapping.json'"
      ]
    },
    {
      "cell_type": "markdown",
      "metadata": {
        "id": "GfqI9RRnCbhb"
      },
      "source": [
        "Load the chosen TSV file"
      ]
    },
    {
      "cell_type": "code",
      "execution_count": 4,
      "metadata": {
        "id": "I_20dSk0Cbhb"
      },
      "outputs": [],
      "source": [
        "data = pd.read_csv('macula-greek.tsv', sep=\"\\t\")"
      ]
    },
    {
      "cell_type": "markdown",
      "metadata": {
        "id": "Rzz8ou68Cbhb"
      },
      "source": [
        "## Create Semantic Domain Lookup Dictionary"
      ]
    },
    {
      "cell_type": "code",
      "execution_count": 5,
      "metadata": {
        "colab": {
          "base_uri": "https://localhost:8080/"
        },
        "id": "rNQwNfwhCbhb",
        "outputId": "243497f8-339a-4c8e-c889-13675b974898"
      },
      "outputs": [
        {
          "output_type": "stream",
          "name": "stdout",
          "text": [
            "001 Geographical Objects and Features\n",
            "001001 Universe, Creation\n",
            "001002 Regions Above the Earth\n",
            "001003 Regions Below the Surface of the Earth\n",
            "001004 Heavenly Bodies\n",
            "001005 Atmospheric Objects\n",
            "001006 The Earth's Surface\n"
          ]
        }
      ],
      "source": [
        "# Import domain-label mapping\n",
        "import json\n",
        "\n",
        "# Open the JSON file\n",
        "with open('marble-domain-label-mapping.json', 'r') as f:\n",
        "\n",
        "    # Load the contents of the file as a dictionary\n",
        "    domain_labels = json.load(f)\n",
        "\n",
        "domain_labels['missing'] = 'no domain'\n",
        "\n",
        "# Display the resulting dictionary\n",
        "count = 0\n",
        "for d, l in domain_labels.items():\n",
        "    print(d, l)\n",
        "    if count > 5:\n",
        "        break\n",
        "    count += 1"
      ]
    },
    {
      "cell_type": "markdown",
      "source": [
        "## Search Domains by English Word\n",
        "\n",
        "Here let's define a function to search through semantic domain labels and return several words for each matching domain."
      ],
      "metadata": {
        "id": "eyi4VYmtUPM2"
      }
    },
    {
      "cell_type": "code",
      "source": [
        "def search_domains(data, domain_labels, label_substring, top_n):\n",
        "    \"\"\"\n",
        "    Searches the values in domain_labels for matching substrings, and returns the top_n rows in data that match each domain label.\n",
        "\n",
        "    Parameters:\n",
        "    data (pandas.DataFrame): The DataFrame to search\n",
        "    domain_labels (dict): A dictionary where the keys are numeric strings and the values are human readable labels\n",
        "    label_substring (str): The substring to search for in the domain labels\n",
        "    top_n (int): The number of matching rows to return for each domain label\n",
        "\n",
        "    Returns:\n",
        "    pandas.DataFrame: The top_n rows in data that match each unique domain label\n",
        "    \"\"\"\n",
        "\n",
        "    label_substring_clean = ''.join([c for c in label_substring.lower() if c.isalpha()])\n",
        "    # Find all the matching domain labels\n",
        "    matching_domains = []\n",
        "    for label in domain_labels.values():\n",
        "        label_clean = ''.join([c for c in label.lower() if c.isalpha()])\n",
        "        if label_substring in label_clean:\n",
        "            matching_domains.append(label)\n",
        "\n",
        "    # Initialize an empty DataFrame to store the results\n",
        "    result = pd.DataFrame(columns=['text', 'gloss', 'domain', 'ref'])\n",
        "\n",
        "    # Filter the data for rows where the domain label matches\n",
        "    for domain in matching_domains:\n",
        "        matching_rows = data[data['domain'].isin([k for k, v in domain_labels.items() if v == domain])].copy()\n",
        "\n",
        "        # Replace the 'domain' column with its corresponding label from domain_labels\n",
        "        matching_rows['domain'] = matching_rows['domain'].apply(lambda domain: domain_labels[domain])\n",
        "\n",
        "        # Append the top_n matching rows with only the desired columns to the result DataFrame\n",
        "        result = pd.concat([result, matching_rows[['text', 'gloss', 'domain', 'ref']].head(top_n)], ignore_index=True)\n",
        "\n",
        "    return result\n"
      ],
      "metadata": {
        "id": "IhfTPpWIPBsw"
      },
      "execution_count": 57,
      "outputs": []
    },
    {
      "cell_type": "code",
      "source": [
        "# Search for an english word (e.g., 'earth', 'save')\n",
        "\n",
        "search_string = 'earth' # Change this string value to search for a different string\n",
        "\n",
        "search_domains(data, domain_labels, search_string, 3)"
      ],
      "metadata": {
        "colab": {
          "base_uri": "https://localhost:8080/",
          "height": 520
        },
        "id": "4vf0lRm1Smhv",
        "outputId": "c24536c2-5bf6-40bc-afe3-bfee5f025918"
      },
      "execution_count": 59,
      "outputs": [
        {
          "output_type": "execute_result",
          "data": {
            "text/plain": [
              "        text          gloss                                  domain  \\\n",
              "0    οὐρανοί        heavens                 Regions Above the Earth   \n",
              "1    οὐρανῶν        heavens                 Regions Above the Earth   \n",
              "2   οὐρανοῖς        heavens                 Regions Above the Earth   \n",
              "3    γέενναν           hell  Regions Below the Surface of the Earth   \n",
              "4    γέενναν           hell  Regions Below the Surface of the Earth   \n",
              "5    γέενναν           hell  Regions Below the Surface of the Earth   \n",
              "6     κόσμου          world                     The Earth's Surface   \n",
              "7        γῆν          earth                     The Earth's Surface   \n",
              "8         γῇ          earth                     The Earth's Surface   \n",
              "9      λίθων         stones                  Earth, Mud, Sand, Rock   \n",
              "10     λίθοι         stones                  Earth, Mud, Sand, Rock   \n",
              "11     λίθον        a stone                  Earth, Mud, Sand, Rock   \n",
              "12   σεισμοὶ    earthquakes                   Movement of the Earth   \n",
              "13   σεισμὸν     earthquake                   Movement of the Earth   \n",
              "14   σεισμὸς  an earthquake                   Movement of the Earth   \n",
              "\n",
              "             ref  \n",
              "0    MAT 3:16!14  \n",
              "1     MAT 3:17!6  \n",
              "2    MAT 5:12!11  \n",
              "3    MAT 5:22!37  \n",
              "4    MAT 5:29!33  \n",
              "5    MAT 5:30!31  \n",
              "6     MAT 4:8!17  \n",
              "7      MAT 5:5!8  \n",
              "8     MAT 5:35!4  \n",
              "9     MAT 3:9!20  \n",
              "10    MAT 4:3!15  \n",
              "11    MAT 4:6!30  \n",
              "12   MAT 24:7!14  \n",
              "13  MAT 27:54!13  \n",
              "14    MAT 28:2!3  "
            ],
            "text/html": [
              "\n",
              "  <div id=\"df-6c90132f-2629-4331-bb07-c183b249ca58\">\n",
              "    <div class=\"colab-df-container\">\n",
              "      <div>\n",
              "<style scoped>\n",
              "    .dataframe tbody tr th:only-of-type {\n",
              "        vertical-align: middle;\n",
              "    }\n",
              "\n",
              "    .dataframe tbody tr th {\n",
              "        vertical-align: top;\n",
              "    }\n",
              "\n",
              "    .dataframe thead th {\n",
              "        text-align: right;\n",
              "    }\n",
              "</style>\n",
              "<table border=\"1\" class=\"dataframe\">\n",
              "  <thead>\n",
              "    <tr style=\"text-align: right;\">\n",
              "      <th></th>\n",
              "      <th>text</th>\n",
              "      <th>gloss</th>\n",
              "      <th>domain</th>\n",
              "      <th>ref</th>\n",
              "    </tr>\n",
              "  </thead>\n",
              "  <tbody>\n",
              "    <tr>\n",
              "      <th>0</th>\n",
              "      <td>οὐρανοί</td>\n",
              "      <td>heavens</td>\n",
              "      <td>Regions Above the Earth</td>\n",
              "      <td>MAT 3:16!14</td>\n",
              "    </tr>\n",
              "    <tr>\n",
              "      <th>1</th>\n",
              "      <td>οὐρανῶν</td>\n",
              "      <td>heavens</td>\n",
              "      <td>Regions Above the Earth</td>\n",
              "      <td>MAT 3:17!6</td>\n",
              "    </tr>\n",
              "    <tr>\n",
              "      <th>2</th>\n",
              "      <td>οὐρανοῖς</td>\n",
              "      <td>heavens</td>\n",
              "      <td>Regions Above the Earth</td>\n",
              "      <td>MAT 5:12!11</td>\n",
              "    </tr>\n",
              "    <tr>\n",
              "      <th>3</th>\n",
              "      <td>γέενναν</td>\n",
              "      <td>hell</td>\n",
              "      <td>Regions Below the Surface of the Earth</td>\n",
              "      <td>MAT 5:22!37</td>\n",
              "    </tr>\n",
              "    <tr>\n",
              "      <th>4</th>\n",
              "      <td>γέενναν</td>\n",
              "      <td>hell</td>\n",
              "      <td>Regions Below the Surface of the Earth</td>\n",
              "      <td>MAT 5:29!33</td>\n",
              "    </tr>\n",
              "    <tr>\n",
              "      <th>5</th>\n",
              "      <td>γέενναν</td>\n",
              "      <td>hell</td>\n",
              "      <td>Regions Below the Surface of the Earth</td>\n",
              "      <td>MAT 5:30!31</td>\n",
              "    </tr>\n",
              "    <tr>\n",
              "      <th>6</th>\n",
              "      <td>κόσμου</td>\n",
              "      <td>world</td>\n",
              "      <td>The Earth's Surface</td>\n",
              "      <td>MAT 4:8!17</td>\n",
              "    </tr>\n",
              "    <tr>\n",
              "      <th>7</th>\n",
              "      <td>γῆν</td>\n",
              "      <td>earth</td>\n",
              "      <td>The Earth's Surface</td>\n",
              "      <td>MAT 5:5!8</td>\n",
              "    </tr>\n",
              "    <tr>\n",
              "      <th>8</th>\n",
              "      <td>γῇ</td>\n",
              "      <td>earth</td>\n",
              "      <td>The Earth's Surface</td>\n",
              "      <td>MAT 5:35!4</td>\n",
              "    </tr>\n",
              "    <tr>\n",
              "      <th>9</th>\n",
              "      <td>λίθων</td>\n",
              "      <td>stones</td>\n",
              "      <td>Earth, Mud, Sand, Rock</td>\n",
              "      <td>MAT 3:9!20</td>\n",
              "    </tr>\n",
              "    <tr>\n",
              "      <th>10</th>\n",
              "      <td>λίθοι</td>\n",
              "      <td>stones</td>\n",
              "      <td>Earth, Mud, Sand, Rock</td>\n",
              "      <td>MAT 4:3!15</td>\n",
              "    </tr>\n",
              "    <tr>\n",
              "      <th>11</th>\n",
              "      <td>λίθον</td>\n",
              "      <td>a stone</td>\n",
              "      <td>Earth, Mud, Sand, Rock</td>\n",
              "      <td>MAT 4:6!30</td>\n",
              "    </tr>\n",
              "    <tr>\n",
              "      <th>12</th>\n",
              "      <td>σεισμοὶ</td>\n",
              "      <td>earthquakes</td>\n",
              "      <td>Movement of the Earth</td>\n",
              "      <td>MAT 24:7!14</td>\n",
              "    </tr>\n",
              "    <tr>\n",
              "      <th>13</th>\n",
              "      <td>σεισμὸν</td>\n",
              "      <td>earthquake</td>\n",
              "      <td>Movement of the Earth</td>\n",
              "      <td>MAT 27:54!13</td>\n",
              "    </tr>\n",
              "    <tr>\n",
              "      <th>14</th>\n",
              "      <td>σεισμὸς</td>\n",
              "      <td>an earthquake</td>\n",
              "      <td>Movement of the Earth</td>\n",
              "      <td>MAT 28:2!3</td>\n",
              "    </tr>\n",
              "  </tbody>\n",
              "</table>\n",
              "</div>\n",
              "      <button class=\"colab-df-convert\" onclick=\"convertToInteractive('df-6c90132f-2629-4331-bb07-c183b249ca58')\"\n",
              "              title=\"Convert this dataframe to an interactive table.\"\n",
              "              style=\"display:none;\">\n",
              "        \n",
              "  <svg xmlns=\"http://www.w3.org/2000/svg\" height=\"24px\"viewBox=\"0 0 24 24\"\n",
              "       width=\"24px\">\n",
              "    <path d=\"M0 0h24v24H0V0z\" fill=\"none\"/>\n",
              "    <path d=\"M18.56 5.44l.94 2.06.94-2.06 2.06-.94-2.06-.94-.94-2.06-.94 2.06-2.06.94zm-11 1L8.5 8.5l.94-2.06 2.06-.94-2.06-.94L8.5 2.5l-.94 2.06-2.06.94zm10 10l.94 2.06.94-2.06 2.06-.94-2.06-.94-.94-2.06-.94 2.06-2.06.94z\"/><path d=\"M17.41 7.96l-1.37-1.37c-.4-.4-.92-.59-1.43-.59-.52 0-1.04.2-1.43.59L10.3 9.45l-7.72 7.72c-.78.78-.78 2.05 0 2.83L4 21.41c.39.39.9.59 1.41.59.51 0 1.02-.2 1.41-.59l7.78-7.78 2.81-2.81c.8-.78.8-2.07 0-2.86zM5.41 20L4 18.59l7.72-7.72 1.47 1.35L5.41 20z\"/>\n",
              "  </svg>\n",
              "      </button>\n",
              "      \n",
              "  <style>\n",
              "    .colab-df-container {\n",
              "      display:flex;\n",
              "      flex-wrap:wrap;\n",
              "      gap: 12px;\n",
              "    }\n",
              "\n",
              "    .colab-df-convert {\n",
              "      background-color: #E8F0FE;\n",
              "      border: none;\n",
              "      border-radius: 50%;\n",
              "      cursor: pointer;\n",
              "      display: none;\n",
              "      fill: #1967D2;\n",
              "      height: 32px;\n",
              "      padding: 0 0 0 0;\n",
              "      width: 32px;\n",
              "    }\n",
              "\n",
              "    .colab-df-convert:hover {\n",
              "      background-color: #E2EBFA;\n",
              "      box-shadow: 0px 1px 2px rgba(60, 64, 67, 0.3), 0px 1px 3px 1px rgba(60, 64, 67, 0.15);\n",
              "      fill: #174EA6;\n",
              "    }\n",
              "\n",
              "    [theme=dark] .colab-df-convert {\n",
              "      background-color: #3B4455;\n",
              "      fill: #D2E3FC;\n",
              "    }\n",
              "\n",
              "    [theme=dark] .colab-df-convert:hover {\n",
              "      background-color: #434B5C;\n",
              "      box-shadow: 0px 1px 3px 1px rgba(0, 0, 0, 0.15);\n",
              "      filter: drop-shadow(0px 1px 2px rgba(0, 0, 0, 0.3));\n",
              "      fill: #FFFFFF;\n",
              "    }\n",
              "  </style>\n",
              "\n",
              "      <script>\n",
              "        const buttonEl =\n",
              "          document.querySelector('#df-6c90132f-2629-4331-bb07-c183b249ca58 button.colab-df-convert');\n",
              "        buttonEl.style.display =\n",
              "          google.colab.kernel.accessAllowed ? 'block' : 'none';\n",
              "\n",
              "        async function convertToInteractive(key) {\n",
              "          const element = document.querySelector('#df-6c90132f-2629-4331-bb07-c183b249ca58');\n",
              "          const dataTable =\n",
              "            await google.colab.kernel.invokeFunction('convertToInteractive',\n",
              "                                                     [key], {});\n",
              "          if (!dataTable) return;\n",
              "\n",
              "          const docLinkHtml = 'Like what you see? Visit the ' +\n",
              "            '<a target=\"_blank\" href=https://colab.research.google.com/notebooks/data_table.ipynb>data table notebook</a>'\n",
              "            + ' to learn more about interactive tables.';\n",
              "          element.innerHTML = '';\n",
              "          dataTable['output_type'] = 'display_data';\n",
              "          await google.colab.output.renderOutput(dataTable, element);\n",
              "          const docLink = document.createElement('div');\n",
              "          docLink.innerHTML = docLinkHtml;\n",
              "          element.appendChild(docLink);\n",
              "        }\n",
              "      </script>\n",
              "    </div>\n",
              "  </div>\n",
              "  "
            ]
          },
          "metadata": {},
          "execution_count": 59
        }
      ]
    }
  ],
  "metadata": {
    "kernelspec": {
      "display_name": "Python 3",
      "language": "python",
      "name": "python3"
    },
    "language_info": {
      "codemirror_mode": {
        "name": "ipython",
        "version": 3
      },
      "file_extension": ".py",
      "mimetype": "text/x-python",
      "name": "python",
      "nbconvert_exporter": "python",
      "pygments_lexer": "ipython3",
      "version": "3.6.4"
    },
    "colab": {
      "provenance": [],
      "toc_visible": true,
      "include_colab_link": true
    }
  },
  "nbformat": 4,
  "nbformat_minor": 0
}