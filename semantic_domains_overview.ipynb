{
  "cells": [
    {
      "cell_type": "markdown",
      "metadata": {
        "id": "view-in-github",
        "colab_type": "text"
      },
      "source": [
        "<a href=\"https://colab.research.google.com/github/ryderwishart/biblical-machine-learning/blob/main/semantic_domains_overview.ipynb\" target=\"_parent\"><img src=\"https://colab.research.google.com/assets/colab-badge.svg\" alt=\"Open In Colab\"/></a>"
      ]
    },
    {
      "cell_type": "markdown",
      "metadata": {
        "id": "r7U1Y1KmCbhX"
      },
      "source": [
        "# Simple TSV Exploring Semantic Domains in Greek\n",
        "This notebook is designed to load and explore the MACULA Greek semantic domains."
      ]
    },
    {
      "cell_type": "markdown",
      "metadata": {
        "id": "eAUCmr4eCbhY"
      },
      "source": [
        "## Setup\n",
        "Import the necessary libraries."
      ]
    },
    {
      "cell_type": "code",
      "execution_count": 1,
      "metadata": {
        "id": "VimAfDy7CbhZ"
      },
      "outputs": [],
      "source": [
        "import pandas as pd\n",
        "import os"
      ]
    },
    {
      "cell_type": "markdown",
      "metadata": {
        "id": "xoV1THaMCbha"
      },
      "source": [
        "## Download and Load Data\n",
        "Here, download the TSV files using the `!wget` command and load them using pandas.\n",
        "\n",
        "We need two files, namely the TSV data and also the dictionary of semantic domain labels, since semantic domains are encoded as numbers."
      ]
    },
    {
      "cell_type": "code",
      "execution_count": 3,
      "metadata": {
        "id": "uBDr_E58Cbha"
      },
      "outputs": [],
      "source": [
        "if 'macula-greek.tsv' not in [path for path in os.listdir()]:\n",
        "    !wget -q 'https://raw.githubusercontent.com/Clear-Bible/macula-greek/main/Nestle1904/TSV/macula-greek.tsv'\n",
        "if 'marble-domain-label-mapping.json' not in [path for path in os.listdir()]:\n",
        "    !wget -q 'https://raw.githubusercontent.com/Clear-Bible/macula-greek/main/sources/MARBLE/SDBG/marble-domain-label-mapping.json'"
      ]
    },
    {
      "cell_type": "markdown",
      "metadata": {
        "id": "GfqI9RRnCbhb"
      },
      "source": [
        "Load the chosen TSV file"
      ]
    },
    {
      "cell_type": "code",
      "execution_count": 4,
      "metadata": {
        "id": "I_20dSk0Cbhb"
      },
      "outputs": [],
      "source": [
        "data = pd.read_csv('macula-greek.tsv', sep=\"\\t\")"
      ]
    },
    {
      "cell_type": "markdown",
      "metadata": {
        "id": "Rzz8ou68Cbhb"
      },
      "source": [
        "## Create Semantic Domain Lookup Dictionary"
      ]
    },
    {
      "cell_type": "code",
      "execution_count": 5,
      "metadata": {
        "colab": {
          "base_uri": "https://localhost:8080/"
        },
        "id": "rNQwNfwhCbhb",
        "outputId": "243497f8-339a-4c8e-c889-13675b974898"
      },
      "outputs": [
        {
          "output_type": "stream",
          "name": "stdout",
          "text": [
            "001 Geographical Objects and Features\n",
            "001001 Universe, Creation\n",
            "001002 Regions Above the Earth\n",
            "001003 Regions Below the Surface of the Earth\n",
            "001004 Heavenly Bodies\n",
            "001005 Atmospheric Objects\n",
            "001006 The Earth's Surface\n"
          ]
        }
      ],
      "source": [
        "# Import domain-label mapping\n",
        "import json\n",
        "\n",
        "# Open the JSON file\n",
        "with open('marble-domain-label-mapping.json', 'r') as f:\n",
        "\n",
        "    # Load the contents of the file as a dictionary\n",
        "    domain_labels = json.load(f)\n",
        "\n",
        "domain_labels['missing'] = 'no domain'\n",
        "\n",
        "# Display the resulting dictionary\n",
        "count = 0\n",
        "for d, l in domain_labels.items():\n",
        "    print(d, l)\n",
        "    if count > 5:\n",
        "        break\n",
        "    count += 1"
      ]
    },
    {
      "cell_type": "markdown",
      "source": [
        "## Inspect a column\n",
        "\n",
        "Specify which column name you would like to look at some examples of, and then view five random rows from the dataset as examples."
      ],
      "metadata": {
        "id": "eyi4VYmtUPM2"
      }
    },
    {
      "cell_type": "code",
      "source": [
        "def search_domains(data, domain_labels, label_substring, top_n):\n",
        "    \"\"\"\n",
        "    Searches the values in domain_labels for matching substrings, and returns the top_n rows in data that match the domain label.\n",
        "\n",
        "    Parameters:\n",
        "    data (pandas.DataFrame): The MACULA Greek DataFrame to search\n",
        "    domain_labels (dict): A dictionary where the keys are numeric strings and the values are human readable labels\n",
        "    label_substring (str): The substring to search for in the domain labels\n",
        "    top_n (int): The number of matching rows to return\n",
        "\n",
        "    Returns:\n",
        "    pandas.DataFrame: The top_n rows in data that match the domain label\n",
        "    \"\"\"\n",
        "\n",
        "    label_substring_clean = ''.join([c for c in label_substring.lower() if c.isalpha()])\n",
        "    # Find all the matching domain labels\n",
        "    matching_domains = []\n",
        "    for label in domain_labels.values():\n",
        "        label_clean = ''.join([c for c in label.lower() if c.isalpha()])\n",
        "        if label_substring in label_clean:\n",
        "            matching_domains.append(label)\n",
        "\n",
        "    # Filter the data for rows where the domain label matches\n",
        "    matching_rows = data[data['domain'].isin([k for k, v in domain_labels.items() if v in matching_domains])].copy()\n",
        "\n",
        "    # Replace the 'domain' column with its corresponding label from domain_labels\n",
        "    matching_rows['domain'] = matching_rows['domain'].apply(lambda domain: domain_labels[domain])\n",
        "\n",
        "    # Return the top_n matching rows with only the desired columns\n",
        "    return matching_rows[['text', 'gloss', 'domain', 'ref']].head(top_n)\n"
      ],
      "metadata": {
        "id": "IhfTPpWIPBsw"
      },
      "execution_count": 17,
      "outputs": []
    },
    {
      "cell_type": "code",
      "source": [
        "# Search for an english word (e.g., 'earth', 'save')\n",
        "search_string = 'save'\n",
        "search_domains(data, domain_labels, search_string, 10)"
      ],
      "metadata": {
        "colab": {
          "base_uri": "https://localhost:8080/",
          "height": 363
        },
        "id": "4vf0lRm1Smhv",
        "outputId": "36fa419f-5c0e-4405-eddc-871eac559bd7"
      },
      "execution_count": 29,
      "outputs": [
        {
          "output_type": "execute_result",
          "data": {
            "text/plain": [
              "            text          gloss                     domain           ref\n",
              "359        σώσει      will save  Save in a Religious Sense   MAT 1:21!12\n",
              "10532   ἀπόληται  should perish  Save in a Religious Sense  MAT 18:14!13\n",
              "11334    σωθῆναι    to be saved  Save in a Religious Sense  MAT 19:25!11\n",
              "24935    σωθῆναι    to be saved  Save in a Religious Sense  MRK 10:26!11\n",
              "29471  σωθήσεται  will be saved  Save in a Religious Sense   MRK 16:16!5\n",
              "29575   σωτηρίας            NaN  Save in a Religious Sense  MRK 16:99!33\n",
              "30706   σωτηρίας   of salvation  Save in a Religious Sense    LUK 1:77!4\n",
              "30919      Σωτήρ       a Savior  Save in a Religious Sense    LUK 2:11!5\n",
              "31250   σωτήριόν      salvation  Save in a Religious Sense    LUK 2:30!7\n",
              "31721   σωτήριον      salvation  Save in a Religious Sense     LUK 3:6!6"
            ],
            "text/html": [
              "\n",
              "  <div id=\"df-081f49d7-7855-4602-87f6-62c7e19a2842\">\n",
              "    <div class=\"colab-df-container\">\n",
              "      <div>\n",
              "<style scoped>\n",
              "    .dataframe tbody tr th:only-of-type {\n",
              "        vertical-align: middle;\n",
              "    }\n",
              "\n",
              "    .dataframe tbody tr th {\n",
              "        vertical-align: top;\n",
              "    }\n",
              "\n",
              "    .dataframe thead th {\n",
              "        text-align: right;\n",
              "    }\n",
              "</style>\n",
              "<table border=\"1\" class=\"dataframe\">\n",
              "  <thead>\n",
              "    <tr style=\"text-align: right;\">\n",
              "      <th></th>\n",
              "      <th>text</th>\n",
              "      <th>gloss</th>\n",
              "      <th>domain</th>\n",
              "      <th>ref</th>\n",
              "    </tr>\n",
              "  </thead>\n",
              "  <tbody>\n",
              "    <tr>\n",
              "      <th>359</th>\n",
              "      <td>σώσει</td>\n",
              "      <td>will save</td>\n",
              "      <td>Save in a Religious Sense</td>\n",
              "      <td>MAT 1:21!12</td>\n",
              "    </tr>\n",
              "    <tr>\n",
              "      <th>10532</th>\n",
              "      <td>ἀπόληται</td>\n",
              "      <td>should perish</td>\n",
              "      <td>Save in a Religious Sense</td>\n",
              "      <td>MAT 18:14!13</td>\n",
              "    </tr>\n",
              "    <tr>\n",
              "      <th>11334</th>\n",
              "      <td>σωθῆναι</td>\n",
              "      <td>to be saved</td>\n",
              "      <td>Save in a Religious Sense</td>\n",
              "      <td>MAT 19:25!11</td>\n",
              "    </tr>\n",
              "    <tr>\n",
              "      <th>24935</th>\n",
              "      <td>σωθῆναι</td>\n",
              "      <td>to be saved</td>\n",
              "      <td>Save in a Religious Sense</td>\n",
              "      <td>MRK 10:26!11</td>\n",
              "    </tr>\n",
              "    <tr>\n",
              "      <th>29471</th>\n",
              "      <td>σωθήσεται</td>\n",
              "      <td>will be saved</td>\n",
              "      <td>Save in a Religious Sense</td>\n",
              "      <td>MRK 16:16!5</td>\n",
              "    </tr>\n",
              "    <tr>\n",
              "      <th>29575</th>\n",
              "      <td>σωτηρίας</td>\n",
              "      <td>NaN</td>\n",
              "      <td>Save in a Religious Sense</td>\n",
              "      <td>MRK 16:99!33</td>\n",
              "    </tr>\n",
              "    <tr>\n",
              "      <th>30706</th>\n",
              "      <td>σωτηρίας</td>\n",
              "      <td>of salvation</td>\n",
              "      <td>Save in a Religious Sense</td>\n",
              "      <td>LUK 1:77!4</td>\n",
              "    </tr>\n",
              "    <tr>\n",
              "      <th>30919</th>\n",
              "      <td>Σωτήρ</td>\n",
              "      <td>a Savior</td>\n",
              "      <td>Save in a Religious Sense</td>\n",
              "      <td>LUK 2:11!5</td>\n",
              "    </tr>\n",
              "    <tr>\n",
              "      <th>31250</th>\n",
              "      <td>σωτήριόν</td>\n",
              "      <td>salvation</td>\n",
              "      <td>Save in a Religious Sense</td>\n",
              "      <td>LUK 2:30!7</td>\n",
              "    </tr>\n",
              "    <tr>\n",
              "      <th>31721</th>\n",
              "      <td>σωτήριον</td>\n",
              "      <td>salvation</td>\n",
              "      <td>Save in a Religious Sense</td>\n",
              "      <td>LUK 3:6!6</td>\n",
              "    </tr>\n",
              "  </tbody>\n",
              "</table>\n",
              "</div>\n",
              "      <button class=\"colab-df-convert\" onclick=\"convertToInteractive('df-081f49d7-7855-4602-87f6-62c7e19a2842')\"\n",
              "              title=\"Convert this dataframe to an interactive table.\"\n",
              "              style=\"display:none;\">\n",
              "        \n",
              "  <svg xmlns=\"http://www.w3.org/2000/svg\" height=\"24px\"viewBox=\"0 0 24 24\"\n",
              "       width=\"24px\">\n",
              "    <path d=\"M0 0h24v24H0V0z\" fill=\"none\"/>\n",
              "    <path d=\"M18.56 5.44l.94 2.06.94-2.06 2.06-.94-2.06-.94-.94-2.06-.94 2.06-2.06.94zm-11 1L8.5 8.5l.94-2.06 2.06-.94-2.06-.94L8.5 2.5l-.94 2.06-2.06.94zm10 10l.94 2.06.94-2.06 2.06-.94-2.06-.94-.94-2.06-.94 2.06-2.06.94z\"/><path d=\"M17.41 7.96l-1.37-1.37c-.4-.4-.92-.59-1.43-.59-.52 0-1.04.2-1.43.59L10.3 9.45l-7.72 7.72c-.78.78-.78 2.05 0 2.83L4 21.41c.39.39.9.59 1.41.59.51 0 1.02-.2 1.41-.59l7.78-7.78 2.81-2.81c.8-.78.8-2.07 0-2.86zM5.41 20L4 18.59l7.72-7.72 1.47 1.35L5.41 20z\"/>\n",
              "  </svg>\n",
              "      </button>\n",
              "      \n",
              "  <style>\n",
              "    .colab-df-container {\n",
              "      display:flex;\n",
              "      flex-wrap:wrap;\n",
              "      gap: 12px;\n",
              "    }\n",
              "\n",
              "    .colab-df-convert {\n",
              "      background-color: #E8F0FE;\n",
              "      border: none;\n",
              "      border-radius: 50%;\n",
              "      cursor: pointer;\n",
              "      display: none;\n",
              "      fill: #1967D2;\n",
              "      height: 32px;\n",
              "      padding: 0 0 0 0;\n",
              "      width: 32px;\n",
              "    }\n",
              "\n",
              "    .colab-df-convert:hover {\n",
              "      background-color: #E2EBFA;\n",
              "      box-shadow: 0px 1px 2px rgba(60, 64, 67, 0.3), 0px 1px 3px 1px rgba(60, 64, 67, 0.15);\n",
              "      fill: #174EA6;\n",
              "    }\n",
              "\n",
              "    [theme=dark] .colab-df-convert {\n",
              "      background-color: #3B4455;\n",
              "      fill: #D2E3FC;\n",
              "    }\n",
              "\n",
              "    [theme=dark] .colab-df-convert:hover {\n",
              "      background-color: #434B5C;\n",
              "      box-shadow: 0px 1px 3px 1px rgba(0, 0, 0, 0.15);\n",
              "      filter: drop-shadow(0px 1px 2px rgba(0, 0, 0, 0.3));\n",
              "      fill: #FFFFFF;\n",
              "    }\n",
              "  </style>\n",
              "\n",
              "      <script>\n",
              "        const buttonEl =\n",
              "          document.querySelector('#df-081f49d7-7855-4602-87f6-62c7e19a2842 button.colab-df-convert');\n",
              "        buttonEl.style.display =\n",
              "          google.colab.kernel.accessAllowed ? 'block' : 'none';\n",
              "\n",
              "        async function convertToInteractive(key) {\n",
              "          const element = document.querySelector('#df-081f49d7-7855-4602-87f6-62c7e19a2842');\n",
              "          const dataTable =\n",
              "            await google.colab.kernel.invokeFunction('convertToInteractive',\n",
              "                                                     [key], {});\n",
              "          if (!dataTable) return;\n",
              "\n",
              "          const docLinkHtml = 'Like what you see? Visit the ' +\n",
              "            '<a target=\"_blank\" href=https://colab.research.google.com/notebooks/data_table.ipynb>data table notebook</a>'\n",
              "            + ' to learn more about interactive tables.';\n",
              "          element.innerHTML = '';\n",
              "          dataTable['output_type'] = 'display_data';\n",
              "          await google.colab.output.renderOutput(dataTable, element);\n",
              "          const docLink = document.createElement('div');\n",
              "          docLink.innerHTML = docLinkHtml;\n",
              "          element.appendChild(docLink);\n",
              "        }\n",
              "      </script>\n",
              "    </div>\n",
              "  </div>\n",
              "  "
            ]
          },
          "metadata": {},
          "execution_count": 29
        }
      ]
    },
    {
      "cell_type": "code",
      "source": [
        "# Search loop\n",
        "search_string = ''\n",
        "number_of_results = 5\n",
        "while search_string != 'q':\n",
        "    search_string = input('Enter an english word to search for: (\"q\" to stop this loop): ')\n",
        "    if search_string != 'q':\n",
        "        print(search_domains(data, domain_labels, search_string, number_of_results))\n"
      ],
      "metadata": {
        "colab": {
          "base_uri": "https://localhost:8080/"
        },
        "id": "FwpRZ70kUYKW",
        "outputId": "30951e07-00ec-4140-c616-346fab686739"
      },
      "execution_count": 27,
      "outputs": [
        {
          "name": "stdout",
          "output_type": "stream",
          "text": [
            "Enter an english word to search for: (\"q\" to stop this loop): building\n",
            "            text       gloss                        domain          ref\n",
            "614       οἰκίαν       house                     Buildings   MAT 2:11!5\n",
            "1120    ἀποθήκην        barn                     Buildings  MAT 3:12!20\n",
            "1295   πτερύγιον    pinnacle  Parts and Areas of Buildings   MAT 4:5!15\n",
            "1297       ἱεροῦ      temple                     Buildings   MAT 4:5!17\n",
            "1584  συναγωγαῖς  synagogues                     Buildings  MAT 4:23!10\n",
            "Enter an english word to search for: (\"q\" to stop this loop): q\n"
          ]
        }
      ]
    }
  ],
  "metadata": {
    "kernelspec": {
      "display_name": "Python 3",
      "language": "python",
      "name": "python3"
    },
    "language_info": {
      "codemirror_mode": {
        "name": "ipython",
        "version": 3
      },
      "file_extension": ".py",
      "mimetype": "text/x-python",
      "name": "python",
      "nbconvert_exporter": "python",
      "pygments_lexer": "ipython3",
      "version": "3.6.4"
    },
    "colab": {
      "provenance": [],
      "toc_visible": true,
      "include_colab_link": true
    }
  },
  "nbformat": 4,
  "nbformat_minor": 0
}