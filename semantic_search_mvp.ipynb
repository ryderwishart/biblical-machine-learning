{
  "nbformat": 4,
  "nbformat_minor": 0,
  "metadata": {
    "colab": {
      "provenance": [],
      "authorship_tag": "ABX9TyMdJLvJSXkMQprvIKzYuCk7",
      "include_colab_link": true
    },
    "kernelspec": {
      "name": "python3",
      "display_name": "Python 3"
    },
    "language_info": {
      "name": "python"
    }
  },
  "cells": [
    {
      "cell_type": "markdown",
      "metadata": {
        "id": "view-in-github",
        "colab_type": "text"
      },
      "source": [
        "<a href=\"https://colab.research.google.com/github/ryderwishart/biblical-machine-learning/blob/main/semantic_search_mvp.ipynb\" target=\"_parent\"><img src=\"https://colab.research.google.com/assets/colab-badge.svg\" alt=\"Open In Colab\"/></a>"
      ]
    },
    {
      "cell_type": "code",
      "source": [
        "!pip install gensim"
      ],
      "metadata": {
        "colab": {
          "base_uri": "https://localhost:8080/"
        },
        "id": "KKKv_sTLfl34",
        "outputId": "354bd1b9-efad-421a-ae45-0c6c9daa1a32"
      },
      "execution_count": 1,
      "outputs": [
        {
          "output_type": "stream",
          "name": "stdout",
          "text": [
            "Looking in indexes: https://pypi.org/simple, https://us-python.pkg.dev/colab-wheels/public/simple/\n",
            "Requirement already satisfied: gensim in /usr/local/lib/python3.9/dist-packages (3.6.0)\n",
            "Requirement already satisfied: numpy>=1.11.3 in /usr/local/lib/python3.9/dist-packages (from gensim) (1.22.4)\n",
            "Requirement already satisfied: scipy>=0.18.1 in /usr/local/lib/python3.9/dist-packages (from gensim) (1.10.1)\n",
            "Requirement already satisfied: smart-open>=1.2.1 in /usr/local/lib/python3.9/dist-packages (from gensim) (6.3.0)\n",
            "Requirement already satisfied: six>=1.5.0 in /usr/local/lib/python3.9/dist-packages (from gensim) (1.15.0)\n"
          ]
        }
      ]
    },
    {
      "cell_type": "code",
      "execution_count": 30,
      "metadata": {
        "id": "0xWPCjQBfU9E"
      },
      "outputs": [],
      "source": [
        "from gensim.models.doc2vec import Doc2Vec, TaggedDocument\n",
        "from gensim.corpora.dictionary import Dictionary\n",
        "import os\n",
        "import re"
      ]
    },
    {
      "cell_type": "code",
      "source": [
        "# Download the KJV text file\n",
        "filename = 'pg10.txt'\n",
        "if filename not in [path for path in os.listdir()]:\n",
        "    !wget -q 'https://www.gutenberg.org/cache/epub/10/pg10.txt'\n",
        "os.listdir()"
      ],
      "metadata": {
        "colab": {
          "base_uri": "https://localhost:8080/"
        },
        "id": "X09xIFirffK8",
        "outputId": "f263aa20-4626-4566-8c2e-2e17c3852476"
      },
      "execution_count": 9,
      "outputs": [
        {
          "output_type": "execute_result",
          "data": {
            "text/plain": [
              "['.config', 'pg10.txt', 'sample_data']"
            ]
          },
          "metadata": {},
          "execution_count": 9
        }
      ]
    },
    {
      "cell_type": "code",
      "source": [
        "# stop_words = ['the', 'and', 'of', 'to', 'And', 'that', 'in', 'shall', 'he', 'unto', 'I', 'his', 'a', 'for', 'they', 'be', 'is', 'him', 'not', 'them', 'with', 'it', 'all', 'thou', 'was', 'thy', 'which', 'my', 'me', 'said', 'their', 'have', 'thee', 'will', 'ye', 'from', 'as', 'are', 'were', 'out', 'upon', 'you', 'by', 'when', 'this', 'but']"
      ],
      "metadata": {
        "id": "sCVKnLFnpsgb"
      },
      "execution_count": 72,
      "outputs": []
    },
    {
      "cell_type": "code",
      "source": [
        "# Load the KJV text file and extract the sentences\n",
        "sentences = []\n",
        "with open(filename, 'r') as f:\n",
        "    # open the whole text so the verses can be properly split\n",
        "    text = f.read()\n",
        "    paragraphs = text.split('\\n\\n') # blank line for paragraph\n",
        "    for paragraph in paragraphs:\n",
        "        # Extract paragraphs that begin with a verse reference\n",
        "        if re.match(r'\\d+:\\d+', paragraph):\n",
        "            # Clean the sentence by removing the verse reference number and punctuation\n",
        "            sentence = paragraph.replace('\\n', ' ').strip().split(' ')[1:]\n",
        "            sentence = [word.strip('.,!?;:-') for word in sentence]\n",
        "            sentences.append(sentence)\n",
        "\n",
        "print('Sentences in corpus: ', len(sentences))"
      ],
      "metadata": {
        "colab": {
          "base_uri": "https://localhost:8080/"
        },
        "id": "CRHwPOatfgh-",
        "outputId": "31604ed3-05c8-403d-de5f-bebb2bb2bd6b"
      },
      "execution_count": 53,
      "outputs": [
        {
          "output_type": "stream",
          "name": "stdout",
          "text": [
            "Sentences in corpus:  24337\n"
          ]
        }
      ]
    },
    {
      "cell_type": "code",
      "source": [
        "# Count the frequency of each word in the corpus\n",
        "word_counts = {}\n",
        "for sentence in sentences:\n",
        "    for word in sentence:\n",
        "        if word not in word_counts:\n",
        "            word_counts[word] = 1\n",
        "        else:\n",
        "            word_counts[word] += 1\n",
        "\n",
        "stop_words = [word for word, count in sorted(word_counts.items(), key=lambda item: item[1], reverse=True)[:50]]\n",
        "exceptions = ['LORD', 'Israel', 'man', 'God']\n",
        "stop_words = [word for word in stop_words if word not in exceptions]\n",
        "print(stop_words)"
      ],
      "metadata": {
        "colab": {
          "base_uri": "https://localhost:8080/"
        },
        "id": "JedlEit_nxcv",
        "outputId": "c55d642a-8ba0-4101-ef48-02b9a71fdbd2"
      },
      "execution_count": 73,
      "outputs": [
        {
          "output_type": "stream",
          "name": "stdout",
          "text": [
            "['the', 'and', 'of', 'to', 'And', 'that', 'in', 'shall', 'he', 'unto', 'I', 'his', 'a', 'for', 'they', 'be', 'is', 'him', 'not', 'them', 'with', 'it', 'all', 'thou', 'was', 'thy', 'which', 'my', 'me', 'said', 'their', 'have', 'thee', 'will', 'ye', 'from', 'as', 'are', 'were', 'out', 'upon', 'you', 'by', 'when', 'this', 'but']\n"
          ]
        }
      ]
    },
    {
      "cell_type": "code",
      "source": [
        "# Build the vocabulary of words that appear in the corpus\n",
        "dictionary = Dictionary(sentences)"
      ],
      "metadata": {
        "id": "X6RolMX5gwMn"
      },
      "execution_count": 74,
      "outputs": []
    },
    {
      "cell_type": "code",
      "source": [
        "# Train the Doc2Vec model on the sentences\n",
        "documents = [TaggedDocument(\n",
        "    words=[word for word in sentence if word not in stop_words], \n",
        "    tags=[str(i)]) for i, sentence in enumerate(sentences)\n",
        "]\n",
        "model = Doc2Vec(\n",
        "    corpus=documents, \n",
        "    dictionary=dictionary,\n",
        "    vector_size=100, \n",
        "    window=5, \n",
        "    min_count=5, \n",
        "    workers=4, \n",
        "    epochs=2\n",
        ")\n",
        "model.build_vocab(documents)"
      ],
      "metadata": {
        "id": "UjpKHr4vfh2S"
      },
      "execution_count": 88,
      "outputs": []
    },
    {
      "cell_type": "code",
      "source": [
        "model.train(documents, total_examples=model.corpus_count, epochs=model.epochs)"
      ],
      "metadata": {
        "id": "q77rgvxniURS"
      },
      "execution_count": 89,
      "outputs": []
    },
    {
      "cell_type": "code",
      "source": [
        "# Get the five most similar sentences to an input sentence\n",
        "input_sentence = \"Love your neighbor\"\n",
        "vector = model.infer_vector(input_sentence.split())\n",
        "similar_sentences = model.docvecs.most_similar(positive=[vector], topn=10)"
      ],
      "metadata": {
        "id": "u6Rm9XdbfjGz"
      },
      "execution_count": 105,
      "outputs": []
    },
    {
      "cell_type": "code",
      "source": [
        "# Print the similar sentences\n",
        "print('*NOTE: this model is trained on a tiny, toy corpus (the KJV). The results cannot be good, and this should serve as a proof of concept only.\\n')\n",
        "for index, similarity in similar_sentences:\n",
        "    print(\"{:.2f}\".format(similarity), ' '.join(sentences[int(index)]))"
      ],
      "metadata": {
        "colab": {
          "base_uri": "https://localhost:8080/"
        },
        "id": "4EXSgDNGfkOk",
        "outputId": "f0b0b2b6-e5b7-45a2-d762-81b678ba9773"
      },
      "execution_count": 106,
      "outputs": [
        {
          "output_type": "stream",
          "name": "stdout",
          "text": [
            "*NOTE: this model is trained on a tiny, toy corpus (the KJV). The results cannot be good, and this should serve as a proof of concept only.\n",
            "\n",
            "0.83 Remember I beseech thee that thou hast made me as the clay and wilt thou bring me into dust again  10:10 Hast thou not poured me out as milk and curdled me like cheese  10:11 Thou hast clothed me with skin and flesh and hast fenced me with bones and sinews\n",
            "0.83 And the people answered and said God forbid that we should forsake the LORD to serve other gods 24:17 For the LORD our God he it is that brought us up and our fathers out of the land of Egypt from the house of bondage and which did those great signs in our sight and preserved us in all the way wherein we went and among all the people through whom we passed 24:18 And the LORD drave out from before us all the people even the Amorites which dwelt in the land therefore will we also serve the LORD for he is our God\n",
            "0.83 This is the inheritance of the tribe of the children of Naphtali according to their families the cities and their villages\n",
            "0.83 And Samuel called the people together unto the LORD to Mizpeh 10:18 And said unto the children of Israel Thus saith the LORD God of Israel I brought up Israel out of Egypt and delivered you out of the hand of the Egyptians and out of the hand of all kingdoms and of them that oppressed you 10:19 And ye have this day rejected your God who himself saved you out of all your adversities and your tribulations and ye have said unto him Nay but set a king over us Now therefore present yourselves before the LORD by your tribes and by your thousands\n",
            "0.82 And now O Lord GOD thou art that God and thy words be true and thou hast promised this goodness unto thy servant 7:29 Therefore now let it please thee to bless the house of thy servant that it may continue for ever before thee for thou O Lord GOD hast spoken it and with thy blessing let the house of thy servant be blessed for ever\n",
            "0.82 For thus saith the Lord GOD Because thou hast clapped thine hands and stamped with the feet and rejoiced in heart with all thy despite against the land of Israel 25:7 Behold therefore I will stretch out mine hand upon thee and will deliver thee for a spoil to the heathen and I will cut thee off from the people and I will cause thee to perish out of the countries I will destroy thee and thou shalt know that I am the LORD\n",
            "0.82 O sing unto the LORD a new song for he hath done marvellous things his right hand and his holy arm hath gotten him the victory\n",
            "0.82 Let my prayer come before thee incline thine ear unto my cry\n",
            "0.82 How much more abominable and filthy is man which drinketh iniquity like water  15:17 I will shew thee hear me and that which I have seen I will declare 15:18 Which wise men have told from their fathers and have not hid it 15:19 Unto whom alone the earth was given and no stranger passed among them\n",
            "0.82 Let them shout for joy and be glad that favour my righteous cause yea let them say continually Let the LORD be magnified which hath pleasure in the prosperity of his servant\n"
          ]
        }
      ]
    }
  ]
}