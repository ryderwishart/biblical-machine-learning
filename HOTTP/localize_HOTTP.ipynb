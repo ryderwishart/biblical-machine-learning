{
 "cells": [
  {
   "cell_type": "code",
   "execution_count": 2,
   "metadata": {},
   "outputs": [
    {
     "name": "stderr",
     "output_type": "stream",
     "text": [
      "Downloading (…)okenizer_config.json: 100%|██████████| 564/564 [00:00<00:00, 2.36MB/s]\n",
      "Downloading (…)tencepiece.bpe.model: 100%|██████████| 4.85M/4.85M [00:00<00:00, 49.9MB/s]\n",
      "Downloading tokenizer.json: 100%|██████████| 17.3M/17.3M [00:00<00:00, 59.5MB/s]\n",
      "Downloading (…)cial_tokens_map.json: 100%|██████████| 3.55k/3.55k [00:00<00:00, 18.5MB/s]\n",
      "Downloading (…)lve/main/config.json: 100%|██████████| 846/846 [00:00<00:00, 4.47MB/s]\n",
      "Downloading pytorch_model.bin: 100%|██████████| 2.46G/2.46G [00:43<00:00, 57.1MB/s]\n",
      "Downloading (…)neration_config.json: 100%|██████████| 189/189 [00:00<00:00, 267kB/s]\n"
     ]
    }
   ],
   "source": [
    "import re\n",
    "from transformers import AutoTokenizer, AutoModelForSeq2SeqLM\n",
    "\n",
    "# Load the NLLB model and tokenizer\n",
    "tokenizer = AutoTokenizer.from_pretrained(\"facebook/nllb-200-distilled-600M\")\n",
    "model = AutoModelForSeq2SeqLM.from_pretrained(\"facebook/nllb-200-distilled-600M\")"
   ]
  },
  {
   "cell_type": "code",
   "execution_count": null,
   "metadata": {},
   "outputs": [],
   "source": [
    "# Read the contents of the file\n",
    "with open(\"to_be_localized.txt\", \"r\", encoding=\"utf-8\") as file:\n",
    "    contents = file.read()\n",
    "\n",
    "# Split the contents by localization unit\n",
    "localization_units = contents.split(\"--\")\n",
    "\n",
    "# Process each localization unit\n",
    "for unit in localization_units:\n",
    "    # Find the text enclosed in <Literal> tags\n",
    "    match = re.search(r\"<Literal>(.*?)<\\/Literal>\", unit, re.DOTALL)\n",
    "    if match:\n",
    "        english_text = match.group(1)\n",
    "        \n",
    "        # Tokenize the English text and translate to Spanish\n",
    "        inputs = tokenizer(english_text, return_tensors=\"pt\", src_lang=\"en_XX\", tgt_lang=\"es_XX\")\n",
    "        translation_outputs = model.generate(**inputs)\n",
    "        spanish_translation = tokenizer.decode(translation_outputs[0], skip_special_tokens=True)\n",
    "        \n",
    "        # Replace the English text with the Spanish translation in the localization unit\n",
    "        translated_unit = unit.replace(english_text, spanish_translation)\n",
    "        \n",
    "        # Print or save the translated unit\n",
    "        print(translated_unit)\n",
    "\n",
    "# Note:\n",
    "# The script assumes that the NLLB model supports Spanish translation.\n",
    "# The model and tokenizer names (\"facebook/nllb-200-distilled-600M\") are placeholders and should be replaced with the correct names of the NLLB model and tokenizer you intend to use.\n"
   ]
  }
 ],
 "metadata": {
  "kernelspec": {
   "display_name": "Python 3",
   "language": "python",
   "name": "python3"
  },
  "language_info": {
   "codemirror_mode": {
    "name": "ipython",
    "version": 3
   },
   "file_extension": ".py",
   "mimetype": "text/x-python",
   "name": "python",
   "nbconvert_exporter": "python",
   "pygments_lexer": "ipython3",
   "version": "3.11.5"
  },
  "orig_nbformat": 4
 },
 "nbformat": 4,
 "nbformat_minor": 2
}
