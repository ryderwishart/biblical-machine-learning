{
  "nbformat": 4,
  "nbformat_minor": 0,
  "metadata": {
    "colab": {
      "provenance": [],
      "gpuType": "T4"
    },
    "kernelspec": {
      "name": "python3",
      "display_name": "Python 3"
    },
    "language_info": {
      "name": "python"
    },
    "accelerator": "GPU",
    "gpuClass": "standard"
  },
  "cells": [
    {
      "cell_type": "code",
      "execution_count": null,
      "metadata": {
        "id": "pljlHLZ2UpSW"
      },
      "outputs": [],
      "source": [
        "!pip install chromadb"
      ]
    },
    {
      "cell_type": "code",
      "source": [
        "import os\n",
        "from google.colab import drive\n",
        "import chromadb\n",
        "from chromadb.config import Settings"
      ],
      "metadata": {
        "id": "S2xy1cERbXLV"
      },
      "execution_count": null,
      "outputs": []
    },
    {
      "cell_type": "code",
      "source": [
        "drive.mount('/content/drive')"
      ],
      "metadata": {
        "id": "-ZM9mDrqE5Cs"
      },
      "execution_count": null,
      "outputs": []
    },
    {
      "cell_type": "code",
      "source": [
        "!git clone https://git.door43.org/Door43-Catalog/en_tq.git"
      ],
      "metadata": {
        "id": "hasYAvMqVRyg"
      },
      "execution_count": null,
      "outputs": []
    },
    {
      "cell_type": "code",
      "source": [
        "chroma_client = chromadb.Client(Settings(\n",
        "    chroma_db_impl=\"duckdb+parquet\",\n",
        "    persist_directory='/content/drive/MyDrive/chromadb'\n",
        "))"
      ],
      "metadata": {
        "id": "-93M_mXpUuSs"
      },
      "execution_count": null,
      "outputs": []
    },
    {
      "cell_type": "code",
      "source": [
        "chroma_client.persist()"
      ],
      "metadata": {
        "id": "K37DzvLxdB2R"
      },
      "execution_count": null,
      "outputs": []
    },
    {
      "cell_type": "code",
      "source": [
        "collection = chroma_client.create_collection(name='bible-qa')"
      ],
      "metadata": {
        "id": "5ISB6NplVJeB"
      },
      "execution_count": null,
      "outputs": []
    },
    {
      "cell_type": "code",
      "source": [
        "# Initialize lists\n",
        "text_list = []\n",
        "dict_list = []\n",
        "id_list = []\n",
        "\n",
        "# Loop through each book folder\n",
        "for book in os.listdir('en_tq'):\n",
        "    book_path = os.path.join('en_tq', book)\n",
        "    if os.path.isdir(book_path):\n",
        "        # Loop through each chapter folder\n",
        "        for chapter in os.listdir(book_path):\n",
        "            chapter_path = os.path.join(book_path, chapter)\n",
        "            if os.path.isdir(chapter_path):\n",
        "                # Loop through each verse file\n",
        "                for verse_file in os.listdir(chapter_path):\n",
        "                    verse_file_path = os.path.join(chapter_path, verse_file)\n",
        "                    if os.path.isfile(verse_file_path):\n",
        "                        # Read the text from the verse file\n",
        "                        with open(verse_file_path, 'r') as f:\n",
        "                            text = f.read()\n",
        "                        text_list.append(text)\n",
        "\n",
        "                        # Create a dictionary entry for the verse\n",
        "                        dict_entry = {'book': book, 'chapter': chapter, 'verse': verse_file.split('.')[0]}\n",
        "                        dict_list.append(dict_entry)\n",
        "\n",
        "                        # Create an ID for the verse\n",
        "                        id_entry = book[:3].lower() + chapter + ':' + verse_file.split('.')[0]\n",
        "                        id_list.append(id_entry)\n",
        "\n",
        "# Print the lists for testing\n",
        "print(text_list[:5])\n",
        "print(dict_list[:5])\n",
        "print(id_list[:5])"
      ],
      "metadata": {
        "id": "lJg9NPCjXENd"
      },
      "execution_count": null,
      "outputs": []
    },
    {
      "cell_type": "code",
      "source": [
        "collection.add(\n",
        "    documents=text_list,\n",
        "    metadatas=dict_list,\n",
        "    ids=id_list\n",
        "    )"
      ],
      "metadata": {
        "id": "yHKlWQj3cx-6"
      },
      "execution_count": null,
      "outputs": []
    },
    {
      "cell_type": "code",
      "source": [
        "collection.peek()"
      ],
      "metadata": {
        "id": "ib8f1vQ0J1EP"
      },
      "execution_count": null,
      "outputs": []
    }
  ]
}