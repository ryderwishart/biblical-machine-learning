{
  "nbformat": 4,
  "nbformat_minor": 0,
  "metadata": {
    "colab": {
      "provenance": [],
      "authorship_tag": "ABX9TyPa5OpadiENoFjWsGWxD9uq",
      "include_colab_link": true
    },
    "kernelspec": {
      "name": "python3",
      "display_name": "Python 3"
    },
    "language_info": {
      "name": "python"
    }
  },
  "cells": [
    {
      "cell_type": "markdown",
      "metadata": {
        "id": "view-in-github",
        "colab_type": "text"
      },
      "source": [
        "<a href=\"https://colab.research.google.com/github/ryderwishart/biblical-machine-learning/blob/main/00_getting_started.ipynb\" target=\"_parent\"><img src=\"https://colab.research.google.com/assets/colab-badge.svg\" alt=\"Open In Colab\"/></a>"
      ]
    },
    {
      "cell_type": "markdown",
      "source": [
        "# Welcome to this short intro to Google Colab!\n",
        "\n",
        "This is a super simple Colab notebook to introduce you to running code on Google Colab. In this notebook, you'll learn how to:\n",
        "\n",
        "1. Run individual code cells.\n",
        "2. Create a \"Hello, World!\" example.\n",
        "3. Input your name and print it forwards and backwards.\n",
        "4. Download a file using `!wget`.\n",
        "5. Clone a repository using `!git clone ...`.\n",
        "6. Run all cells.\n",
        "\n",
        "Let's get started!\n"
      ],
      "metadata": {
        "id": "MpvQfWrzz4ME"
      }
    },
    {
      "cell_type": "markdown",
      "source": [
        "# Running individual cells\n",
        "\n",
        "To run a single code cell, click on the cell (the slightly darker box below this text block) and press the \"Play\" button on the left side of the cell or use the keyboard shortcut `Shift + Enter`.\n",
        "\n",
        "Let's try it with a simple \"Hello, World!\" example. Click on the code cell below and run it."
      ],
      "metadata": {
        "id": "HEqJbv4n05J5"
      }
    },
    {
      "cell_type": "code",
      "source": [
        "print(\"Hello, World!\")"
      ],
      "metadata": {
        "colab": {
          "base_uri": "https://localhost:8080/"
        },
        "id": "XgKYdFAJ0-rJ",
        "outputId": "26333b37-8204-43a5-aa19-fbf81fefbd6b"
      },
      "execution_count": 1,
      "outputs": [
        {
          "output_type": "stream",
          "name": "stdout",
          "text": [
            "Hello, World!\n"
          ]
        }
      ]
    },
    {
      "cell_type": "markdown",
      "source": [
        "# Input your name and print it forwards and backwards\n",
        "\n",
        "In the code cell below, replace `your_name` with your actual name and run the cell. It will print your name forwards and backwards."
      ],
      "metadata": {
        "id": "NzbYgJ2R1KyB"
      }
    },
    {
      "cell_type": "code",
      "source": [
        "your_name = \"Ryder Wishart\"\n",
        "print(\"Your name forwards:\", your_name)\n",
        "print(\"Your name backwards:\", your_name[::-1])\n"
      ],
      "metadata": {
        "colab": {
          "base_uri": "https://localhost:8080/"
        },
        "id": "pkAivUNk1dBN",
        "outputId": "a8167bc7-8f03-4b22-ff19-bfe0a853407a"
      },
      "execution_count": 2,
      "outputs": [
        {
          "output_type": "stream",
          "name": "stdout",
          "text": [
            "Your name forwards: Ryder Wishart\n",
            "Your name backwards: trahsiW redyR\n"
          ]
        }
      ]
    },
    {
      "cell_type": "markdown",
      "source": [
        "# Downloading a file using !wget\n",
        "\n",
        "To download a file directly, you can use the `!wget` command followed by the file URL. For example, let's download the macula-greek TSV file directly:"
      ],
      "metadata": {
        "id": "LbuwT4A20VSa"
      }
    },
    {
      "cell_type": "code",
      "source": [
        "!wget https://raw.githubusercontent.com/Clear-Bible/macula-greek/main/Nestle1904/TSV/macula-greek.tsv"
      ],
      "metadata": {
        "colab": {
          "base_uri": "https://localhost:8080/"
        },
        "id": "7GxXthMW0Qs8",
        "outputId": "3d977d38-1bd5-42bb-9327-ebd2e7c1aca2"
      },
      "execution_count": 3,
      "outputs": [
        {
          "output_type": "stream",
          "name": "stdout",
          "text": [
            "--2023-04-11 19:42:47--  https://raw.githubusercontent.com/Clear-Bible/macula-greek/main/Nestle1904/TSV/macula-greek.tsv\n",
            "Resolving raw.githubusercontent.com (raw.githubusercontent.com)... 185.199.108.133, 185.199.109.133, 185.199.110.133, ...\n",
            "Connecting to raw.githubusercontent.com (raw.githubusercontent.com)|185.199.108.133|:443... connected.\n",
            "HTTP request sent, awaiting response... 200 OK\n",
            "Length: 19290305 (18M) [text/plain]\n",
            "Saving to: ‘macula-greek.tsv’\n",
            "\n",
            "macula-greek.tsv    100%[===================>]  18.40M   115MB/s    in 0.2s    \n",
            "\n",
            "2023-04-11 19:42:49 (115 MB/s) - ‘macula-greek.tsv’ saved [19290305/19290305]\n",
            "\n"
          ]
        }
      ]
    },
    {
      "cell_type": "markdown",
      "source": [
        "# Cloning a repository using !git clone\n",
        "\n",
        "To clone a repository, you can use the `!git clone` command followed by the repository URL. For example, let's clone the 'macula-greek' repository from GitHub:"
      ],
      "metadata": {
        "id": "-JROcv0c0AL_"
      }
    },
    {
      "cell_type": "code",
      "execution_count": 4,
      "metadata": {
        "colab": {
          "base_uri": "https://localhost:8080/"
        },
        "id": "9aELzqtvzyYC",
        "outputId": "9d3d5bcd-9084-4c5b-968d-a86f6e12f2ac"
      },
      "outputs": [
        {
          "output_type": "stream",
          "name": "stdout",
          "text": [
            "Cloning into 'macula-greek'...\n",
            "remote: Enumerating objects: 4868, done.\u001b[K\n",
            "remote: Counting objects: 100% (708/708), done.\u001b[K\n",
            "remote: Compressing objects: 100% (164/164), done.\u001b[K\n",
            "remote: Total 4868 (delta 575), reused 668 (delta 544), pack-reused 4160\u001b[K\n",
            "Receiving objects: 100% (4868/4868), 618.02 MiB | 20.42 MiB/s, done.\n",
            "Resolving deltas: 100% (3595/3595), done.\n",
            "Updating files: 100% (134/134), done.\n"
          ]
        }
      ],
      "source": [
        "!git clone https://github.com/Clear-Bible/macula-greek.git"
      ]
    },
    {
      "cell_type": "markdown",
      "source": [
        "Once you've downloaded, cloned, or saved any files, you can click on the \"Files\" icon on the far left hand side of this page to view the files in the current Colab environment. \n",
        "\n",
        "*Warning: Colab environments don't last forever. If you stop using this tab for long enough, the runtime will disconnect and all files will be lost. If you want to save something more permanently, download it from the files tab.*"
      ],
      "metadata": {
        "id": "TMA4uKAm19tC"
      }
    },
    {
      "cell_type": "markdown",
      "source": [
        "# Running all cells\n",
        "\n",
        "To run all cells in the notebook, click on the \"Runtime\" menu in the toolbar and select \"Run all.\" This will execute all the code cells in the order they appear in the notebook."
      ],
      "metadata": {
        "id": "2A1Vwukd1Jgf"
      }
    },
    {
      "cell_type": "markdown",
      "source": [
        "That's it! You've completed this short introduction to Google Colab. Now you know how to clone repositories, download files, run individual cells, and run all cells in a notebook. Happy coding!"
      ],
      "metadata": {
        "id": "hjkd3c-L1h75"
      }
    }
  ]
}