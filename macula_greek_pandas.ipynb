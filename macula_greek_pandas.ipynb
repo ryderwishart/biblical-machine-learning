{
  "cells": [
    {
      "cell_type": "markdown",
      "metadata": {
        "id": "view-in-github",
        "colab_type": "text"
      },
      "source": [
        "<a href=\"https://colab.research.google.com/github/ryderwishart/biblical-machine-learning/blob/main/structured-data-insights/macula_greek_pandas.ipynb\" target=\"_parent\"><img src=\"https://colab.research.google.com/assets/colab-badge.svg\" alt=\"Open In Colab\"/></a>"
      ]
    },
    {
      "cell_type": "markdown",
      "metadata": {
        "id": "QUY1ikEdAtFA"
      },
      "source": [
        "## Load MACULA data"
      ]
    },
    {
      "cell_type": "markdown",
      "source": [
        "If this notebook is being run in Colab (or anywhere on a hosted cloud environment), then you will need to clone the `macula-greek` repository before proceeding.\n",
        "\n",
        "Set the `local_or_cloud` value in the next cell to `local` if you are running this notebook locally."
      ],
      "metadata": {
        "id": "Q7SwEe8zyUz-"
      }
    },
    {
      "cell_type": "code",
      "source": [
        "local_or_cloud = 'cloud'\n",
        "\n",
        "import os\n",
        "os.getcwd()"
      ],
      "metadata": {
        "id": "U5N-CNGUyTnq",
        "colab": {
          "base_uri": "https://localhost:8080/",
          "height": 37
        },
        "outputId": "04e3af73-31a5-4888-82db-75a31b42ac8b"
      },
      "execution_count": null,
      "outputs": [
        {
          "output_type": "execute_result",
          "data": {
            "text/plain": [
              "'/content'"
            ],
            "application/vnd.google.colaboratory.intrinsic+json": {
              "type": "string"
            }
          },
          "metadata": {},
          "execution_count": 1
        }
      ]
    },
    {
      "cell_type": "code",
      "source": [
        "if local_or_cloud == 'cloud':\n",
        "  !git clone https://github.com/Clear-Bible/macula-greek.git"
      ],
      "metadata": {
        "id": "-xcZGRcWyrOh",
        "colab": {
          "base_uri": "https://localhost:8080/"
        },
        "outputId": "0b40b3e8-42ed-4bf4-a4f4-7f54ee9c2981"
      },
      "execution_count": null,
      "outputs": [
        {
          "output_type": "stream",
          "name": "stdout",
          "text": [
            "Cloning into 'macula-greek'...\n",
            "remote: Enumerating objects: 4575, done.\u001b[K\n",
            "remote: Counting objects: 100% (415/415), done.\u001b[K\n",
            "remote: Compressing objects: 100% (86/86), done.\u001b[K\n",
            "remote: Total 4575 (delta 330), reused 409 (delta 329), pack-reused 4160\u001b[K\n",
            "Receiving objects: 100% (4575/4575), 565.87 MiB | 12.86 MiB/s, done.\n",
            "Resolving deltas: 100% (3352/3352), done.\n",
            "Updating files: 100% (133/133), done.\n"
          ]
        }
      ]
    },
    {
      "cell_type": "code",
      "source": [
        "os.listdir()"
      ],
      "metadata": {
        "id": "ntmeg8OWzfDU",
        "colab": {
          "base_uri": "https://localhost:8080/"
        },
        "outputId": "1103cf83-8d84-47f0-8a98-d90476121359"
      },
      "execution_count": null,
      "outputs": [
        {
          "output_type": "execute_result",
          "data": {
            "text/plain": [
              "['.config', 'macula-greek', 'sample_data']"
            ]
          },
          "metadata": {},
          "execution_count": 3
        }
      ]
    },
    {
      "cell_type": "markdown",
      "metadata": {
        "id": "lnhQglp0wlfk"
      },
      "source": [
        "## Repository structure\n",
        "\n",
        "```bash\n",
        "macula-greek/\n",
        "- Nestle1904/\n",
        "  - nodes/ # contains the nodes trees\n",
        "  - lowfat/ # contains the lowfat trees\n",
        "  - TSV/ # contains the TSV files\n",
        "    - macula-greek.tsv\n",
        "- examples/\n",
        "  - macula.ipynb # this notebook\n",
        "```"
      ]
    },
    {
      "cell_type": "code",
      "execution_count": null,
      "metadata": {
        "id": "33gdrOHfwlfl",
        "colab": {
          "base_uri": "https://localhost:8080/"
        },
        "outputId": "b1a06492-fa38-48c1-ba04-2562ef7b82f7"
      },
      "outputs": [
        {
          "output_type": "stream",
          "name": "stdout",
          "text": [
            "Looking in indexes: https://pypi.org/simple, https://us-python.pkg.dev/colab-wheels/public/simple/\n",
            "Requirement already satisfied: pandas in /usr/local/lib/python3.9/dist-packages (1.4.4)\n",
            "Requirement already satisfied: pytz>=2020.1 in /usr/local/lib/python3.9/dist-packages (from pandas) (2022.7.1)\n",
            "Requirement already satisfied: numpy>=1.18.5 in /usr/local/lib/python3.9/dist-packages (from pandas) (1.22.4)\n",
            "Requirement already satisfied: python-dateutil>=2.8.1 in /usr/local/lib/python3.9/dist-packages (from pandas) (2.8.2)\n",
            "Requirement already satisfied: six>=1.5 in /usr/local/lib/python3.9/dist-packages (from python-dateutil>=2.8.1->pandas) (1.15.0)\n"
          ]
        }
      ],
      "source": [
        "!pip install pandas\n",
        "import pandas as pd\n",
        "# Load ../Nestle1904/TSV/macula-greek.tsv\n",
        "if local_or_cloud == 'local':\n",
        "  mg = pd.read_csv('../Nestle1904/TSV/macula-greek.tsv', sep='\\t', header=0)\n",
        "elif local_or_cloud == 'cloud':\n",
        "  mg = pd.read_csv('macula-greek/Nestle1904/TSV/macula-greek.tsv', sep='\\t', header=0)"
      ]
    },
    {
      "cell_type": "code",
      "execution_count": null,
      "metadata": {
        "id": "YWblkKdHwlfm",
        "colab": {
          "base_uri": "https://localhost:8080/"
        },
        "outputId": "7ca421ef-fe72-456b-fea8-983a2e476f9e"
      },
      "outputs": [
        {
          "output_type": "stream",
          "name": "stdout",
          "text": [
            "xml:id\n",
            "ref\n",
            "role\n",
            "class\n",
            "type\n",
            "gloss\n",
            "text\n",
            "after\n",
            "lemma\n",
            "normalized\n",
            "strong\n",
            "morph\n",
            "person\n",
            "number\n",
            "gender\n",
            "case\n",
            "tense\n",
            "voice\n",
            "mood\n",
            "degree\n",
            "domain\n",
            "ln\n",
            "frame\n",
            "subjref\n",
            "referent\n"
          ]
        }
      ],
      "source": [
        "# Inspect the column headers to see what data is available for each word\n",
        "for column in mg.columns:\n",
        "    print(column)"
      ]
    },
    {
      "cell_type": "markdown",
      "metadata": {
        "id": "bxM7K5REwlfm"
      },
      "source": [
        "## Preprocess the data"
      ]
    },
    {
      "cell_type": "code",
      "execution_count": null,
      "metadata": {
        "id": "SmEtrWnQwlfn",
        "colab": {
          "base_uri": "https://localhost:8080/",
          "height": 382
        },
        "outputId": "8142f9a4-d5ee-4482-d734-e6022114814d"
      },
      "outputs": [
        {
          "output_type": "execute_result",
          "data": {
            "text/plain": [
              "         xml:id        ref role class    type               gloss      text  \\\n",
              "0  n40001001001  MAT 1:1!1  NaN  noun  common          [The] book    Βίβλος   \n",
              "1  n40001001002  MAT 1:1!2  NaN  noun  common  of [the] genealogy  γενέσεως   \n",
              "2  n40001001003  MAT 1:1!3  NaN  noun  proper            of Jesus     Ἰησοῦ   \n",
              "3  n40001001004  MAT 1:1!4  NaN  noun  proper              Christ   Χριστοῦ   \n",
              "4  n40001001005  MAT 1:1!5  NaN  noun  common                 son      υἱοῦ   \n",
              "\n",
              "  after    lemma normalized  ...         domain           ln frame subjref  \\\n",
              "0         βίβλος     Βίβλος  ...         033005        33.38   NaN     NaN   \n",
              "1        γένεσις   γενέσεως  ...  010002 033003  10.24 33.19   NaN     NaN   \n",
              "2         Ἰησοῦς      Ἰησοῦ  ...         093001      93.169a   NaN     NaN   \n",
              "3        Χριστός    Χριστοῦ  ...         093001       93.387   NaN     NaN   \n",
              "4           υἱός       υἱοῦ  ...         010002        10.30   NaN     NaN   \n",
              "\n",
              "  referent book chapter verse book_chapter book_chapter_verse  \n",
              "0      NaN  MAT       1     1        MAT 1            MAT 1:1  \n",
              "1      NaN  MAT       1     1        MAT 1            MAT 1:1  \n",
              "2      NaN  MAT       1     1        MAT 1            MAT 1:1  \n",
              "3      NaN  MAT       1     1        MAT 1            MAT 1:1  \n",
              "4      NaN  MAT       1     1        MAT 1            MAT 1:1  \n",
              "\n",
              "[5 rows x 30 columns]"
            ],
            "text/html": [
              "\n",
              "  <div id=\"df-4a473c5e-d70a-4541-ba58-f0b1f704a49e\">\n",
              "    <div class=\"colab-df-container\">\n",
              "      <div>\n",
              "<style scoped>\n",
              "    .dataframe tbody tr th:only-of-type {\n",
              "        vertical-align: middle;\n",
              "    }\n",
              "\n",
              "    .dataframe tbody tr th {\n",
              "        vertical-align: top;\n",
              "    }\n",
              "\n",
              "    .dataframe thead th {\n",
              "        text-align: right;\n",
              "    }\n",
              "</style>\n",
              "<table border=\"1\" class=\"dataframe\">\n",
              "  <thead>\n",
              "    <tr style=\"text-align: right;\">\n",
              "      <th></th>\n",
              "      <th>xml:id</th>\n",
              "      <th>ref</th>\n",
              "      <th>role</th>\n",
              "      <th>class</th>\n",
              "      <th>type</th>\n",
              "      <th>gloss</th>\n",
              "      <th>text</th>\n",
              "      <th>after</th>\n",
              "      <th>lemma</th>\n",
              "      <th>normalized</th>\n",
              "      <th>...</th>\n",
              "      <th>domain</th>\n",
              "      <th>ln</th>\n",
              "      <th>frame</th>\n",
              "      <th>subjref</th>\n",
              "      <th>referent</th>\n",
              "      <th>book</th>\n",
              "      <th>chapter</th>\n",
              "      <th>verse</th>\n",
              "      <th>book_chapter</th>\n",
              "      <th>book_chapter_verse</th>\n",
              "    </tr>\n",
              "  </thead>\n",
              "  <tbody>\n",
              "    <tr>\n",
              "      <th>0</th>\n",
              "      <td>n40001001001</td>\n",
              "      <td>MAT 1:1!1</td>\n",
              "      <td>NaN</td>\n",
              "      <td>noun</td>\n",
              "      <td>common</td>\n",
              "      <td>[The] book</td>\n",
              "      <td>Βίβλος</td>\n",
              "      <td></td>\n",
              "      <td>βίβλος</td>\n",
              "      <td>Βίβλος</td>\n",
              "      <td>...</td>\n",
              "      <td>033005</td>\n",
              "      <td>33.38</td>\n",
              "      <td>NaN</td>\n",
              "      <td>NaN</td>\n",
              "      <td>NaN</td>\n",
              "      <td>MAT</td>\n",
              "      <td>1</td>\n",
              "      <td>1</td>\n",
              "      <td>MAT 1</td>\n",
              "      <td>MAT 1:1</td>\n",
              "    </tr>\n",
              "    <tr>\n",
              "      <th>1</th>\n",
              "      <td>n40001001002</td>\n",
              "      <td>MAT 1:1!2</td>\n",
              "      <td>NaN</td>\n",
              "      <td>noun</td>\n",
              "      <td>common</td>\n",
              "      <td>of [the] genealogy</td>\n",
              "      <td>γενέσεως</td>\n",
              "      <td></td>\n",
              "      <td>γένεσις</td>\n",
              "      <td>γενέσεως</td>\n",
              "      <td>...</td>\n",
              "      <td>010002 033003</td>\n",
              "      <td>10.24 33.19</td>\n",
              "      <td>NaN</td>\n",
              "      <td>NaN</td>\n",
              "      <td>NaN</td>\n",
              "      <td>MAT</td>\n",
              "      <td>1</td>\n",
              "      <td>1</td>\n",
              "      <td>MAT 1</td>\n",
              "      <td>MAT 1:1</td>\n",
              "    </tr>\n",
              "    <tr>\n",
              "      <th>2</th>\n",
              "      <td>n40001001003</td>\n",
              "      <td>MAT 1:1!3</td>\n",
              "      <td>NaN</td>\n",
              "      <td>noun</td>\n",
              "      <td>proper</td>\n",
              "      <td>of Jesus</td>\n",
              "      <td>Ἰησοῦ</td>\n",
              "      <td></td>\n",
              "      <td>Ἰησοῦς</td>\n",
              "      <td>Ἰησοῦ</td>\n",
              "      <td>...</td>\n",
              "      <td>093001</td>\n",
              "      <td>93.169a</td>\n",
              "      <td>NaN</td>\n",
              "      <td>NaN</td>\n",
              "      <td>NaN</td>\n",
              "      <td>MAT</td>\n",
              "      <td>1</td>\n",
              "      <td>1</td>\n",
              "      <td>MAT 1</td>\n",
              "      <td>MAT 1:1</td>\n",
              "    </tr>\n",
              "    <tr>\n",
              "      <th>3</th>\n",
              "      <td>n40001001004</td>\n",
              "      <td>MAT 1:1!4</td>\n",
              "      <td>NaN</td>\n",
              "      <td>noun</td>\n",
              "      <td>proper</td>\n",
              "      <td>Christ</td>\n",
              "      <td>Χριστοῦ</td>\n",
              "      <td></td>\n",
              "      <td>Χριστός</td>\n",
              "      <td>Χριστοῦ</td>\n",
              "      <td>...</td>\n",
              "      <td>093001</td>\n",
              "      <td>93.387</td>\n",
              "      <td>NaN</td>\n",
              "      <td>NaN</td>\n",
              "      <td>NaN</td>\n",
              "      <td>MAT</td>\n",
              "      <td>1</td>\n",
              "      <td>1</td>\n",
              "      <td>MAT 1</td>\n",
              "      <td>MAT 1:1</td>\n",
              "    </tr>\n",
              "    <tr>\n",
              "      <th>4</th>\n",
              "      <td>n40001001005</td>\n",
              "      <td>MAT 1:1!5</td>\n",
              "      <td>NaN</td>\n",
              "      <td>noun</td>\n",
              "      <td>common</td>\n",
              "      <td>son</td>\n",
              "      <td>υἱοῦ</td>\n",
              "      <td></td>\n",
              "      <td>υἱός</td>\n",
              "      <td>υἱοῦ</td>\n",
              "      <td>...</td>\n",
              "      <td>010002</td>\n",
              "      <td>10.30</td>\n",
              "      <td>NaN</td>\n",
              "      <td>NaN</td>\n",
              "      <td>NaN</td>\n",
              "      <td>MAT</td>\n",
              "      <td>1</td>\n",
              "      <td>1</td>\n",
              "      <td>MAT 1</td>\n",
              "      <td>MAT 1:1</td>\n",
              "    </tr>\n",
              "  </tbody>\n",
              "</table>\n",
              "<p>5 rows × 30 columns</p>\n",
              "</div>\n",
              "      <button class=\"colab-df-convert\" onclick=\"convertToInteractive('df-4a473c5e-d70a-4541-ba58-f0b1f704a49e')\"\n",
              "              title=\"Convert this dataframe to an interactive table.\"\n",
              "              style=\"display:none;\">\n",
              "        \n",
              "  <svg xmlns=\"http://www.w3.org/2000/svg\" height=\"24px\"viewBox=\"0 0 24 24\"\n",
              "       width=\"24px\">\n",
              "    <path d=\"M0 0h24v24H0V0z\" fill=\"none\"/>\n",
              "    <path d=\"M18.56 5.44l.94 2.06.94-2.06 2.06-.94-2.06-.94-.94-2.06-.94 2.06-2.06.94zm-11 1L8.5 8.5l.94-2.06 2.06-.94-2.06-.94L8.5 2.5l-.94 2.06-2.06.94zm10 10l.94 2.06.94-2.06 2.06-.94-2.06-.94-.94-2.06-.94 2.06-2.06.94z\"/><path d=\"M17.41 7.96l-1.37-1.37c-.4-.4-.92-.59-1.43-.59-.52 0-1.04.2-1.43.59L10.3 9.45l-7.72 7.72c-.78.78-.78 2.05 0 2.83L4 21.41c.39.39.9.59 1.41.59.51 0 1.02-.2 1.41-.59l7.78-7.78 2.81-2.81c.8-.78.8-2.07 0-2.86zM5.41 20L4 18.59l7.72-7.72 1.47 1.35L5.41 20z\"/>\n",
              "  </svg>\n",
              "      </button>\n",
              "      \n",
              "  <style>\n",
              "    .colab-df-container {\n",
              "      display:flex;\n",
              "      flex-wrap:wrap;\n",
              "      gap: 12px;\n",
              "    }\n",
              "\n",
              "    .colab-df-convert {\n",
              "      background-color: #E8F0FE;\n",
              "      border: none;\n",
              "      border-radius: 50%;\n",
              "      cursor: pointer;\n",
              "      display: none;\n",
              "      fill: #1967D2;\n",
              "      height: 32px;\n",
              "      padding: 0 0 0 0;\n",
              "      width: 32px;\n",
              "    }\n",
              "\n",
              "    .colab-df-convert:hover {\n",
              "      background-color: #E2EBFA;\n",
              "      box-shadow: 0px 1px 2px rgba(60, 64, 67, 0.3), 0px 1px 3px 1px rgba(60, 64, 67, 0.15);\n",
              "      fill: #174EA6;\n",
              "    }\n",
              "\n",
              "    [theme=dark] .colab-df-convert {\n",
              "      background-color: #3B4455;\n",
              "      fill: #D2E3FC;\n",
              "    }\n",
              "\n",
              "    [theme=dark] .colab-df-convert:hover {\n",
              "      background-color: #434B5C;\n",
              "      box-shadow: 0px 1px 3px 1px rgba(0, 0, 0, 0.15);\n",
              "      filter: drop-shadow(0px 1px 2px rgba(0, 0, 0, 0.3));\n",
              "      fill: #FFFFFF;\n",
              "    }\n",
              "  </style>\n",
              "\n",
              "      <script>\n",
              "        const buttonEl =\n",
              "          document.querySelector('#df-4a473c5e-d70a-4541-ba58-f0b1f704a49e button.colab-df-convert');\n",
              "        buttonEl.style.display =\n",
              "          google.colab.kernel.accessAllowed ? 'block' : 'none';\n",
              "\n",
              "        async function convertToInteractive(key) {\n",
              "          const element = document.querySelector('#df-4a473c5e-d70a-4541-ba58-f0b1f704a49e');\n",
              "          const dataTable =\n",
              "            await google.colab.kernel.invokeFunction('convertToInteractive',\n",
              "                                                     [key], {});\n",
              "          if (!dataTable) return;\n",
              "\n",
              "          const docLinkHtml = 'Like what you see? Visit the ' +\n",
              "            '<a target=\"_blank\" href=https://colab.research.google.com/notebooks/data_table.ipynb>data table notebook</a>'\n",
              "            + ' to learn more about interactive tables.';\n",
              "          element.innerHTML = '';\n",
              "          dataTable['output_type'] = 'display_data';\n",
              "          await google.colab.output.renderOutput(dataTable, element);\n",
              "          const docLink = document.createElement('div');\n",
              "          docLink.innerHTML = docLinkHtml;\n",
              "          element.appendChild(docLink);\n",
              "        }\n",
              "      </script>\n",
              "    </div>\n",
              "  </div>\n",
              "  "
            ]
          },
          "metadata": {},
          "execution_count": 6
        }
      ],
      "source": [
        "# Extract book, chapter, and verse into separate columns\n",
        "mg[['book', 'chapter', 'verse']] = mg['ref'].str.extract(r'(\\d?[A-Z]+)\\s(\\d+):(\\d+)')\n",
        "\n",
        "# Add columns for book + chapter, and book + chapter + verse for easier grouping\n",
        "mg['book_chapter'] = mg['book'] + ' ' + mg['chapter'].astype(str)\n",
        "mg['book_chapter_verse'] = mg['book_chapter'] + ':' + mg['verse'].astype(str)\n",
        "\n",
        "# Display the updated data frame\n",
        "mg.head()\n"
      ]
    },
    {
      "cell_type": "markdown",
      "metadata": {
        "id": "Iuj2e9mywlfn"
      },
      "source": [
        "Now that we have the book, chapter, and verse, let's group the data by book, and generate a list of unique Louw-Nida values for each book."
      ]
    },
    {
      "cell_type": "code",
      "execution_count": null,
      "metadata": {
        "id": "3vToNRJjwlfn",
        "colab": {
          "base_uri": "https://localhost:8080/"
        },
        "outputId": "6423e2a6-bd4d-434d-b579-5deefd2e663d"
      },
      "outputs": [
        {
          "output_type": "stream",
          "name": "stdout",
          "text": [
            "Word counts:\n",
            " book\n",
            "1CO    6820\n",
            "1JN    2136\n",
            "1PE    1676\n",
            "1TH    1473\n",
            "1TI    1588\n",
            "dtype: int64\n",
            "\n",
            "Unique Louw-Nida domains:\n",
            " book\n",
            "1CO    [93.294a, 33.314, 53.74, 93.387, 93.169a, 89.7...\n",
            "1JN    [92.27, 13.69, 67.131, 67.65, nan, 24.52, 24.1...\n",
            "1PE    [93.296, 53.74, 93.169a, 93.387, 30.93, 11.77,...\n",
            "1TH    [93.294a, nan, 93.340, 93.361, 92.24, 11.32, 9...\n",
            "1TI    [93.294a, 53.74, 93.387, 93.169a, nan, 33.326,...\n",
            "Name: ln, dtype: object\n"
          ]
        }
      ],
      "source": [
        "import numpy as np\n",
        "\n",
        "mg_word_count = mg.groupby('book').size()\n",
        "\n",
        "# Create an array of the unique Louw-Nida domain values for each book\n",
        "mg_unique_ln = mg.groupby('book')['ln'].unique()\n",
        "\n",
        "# Print some example results\n",
        "print('Word counts:\\n', mg_word_count[0:5])\n",
        "print('\\nUnique Louw-Nida domains:\\n', mg_unique_ln[0:5])"
      ]
    },
    {
      "cell_type": "markdown",
      "metadata": {
        "id": "jRVj-XuEwlfn"
      },
      "source": [
        "Let's combine these two data sets into a single data frame so we can plot the data."
      ]
    },
    {
      "cell_type": "code",
      "execution_count": null,
      "metadata": {
        "id": "Vom8qxtzwlfo",
        "colab": {
          "base_uri": "https://localhost:8080/",
          "height": 235
        },
        "outputId": "aa919821-027a-4f34-9f37-51d4415ab4a3"
      },
      "outputs": [
        {
          "output_type": "execute_result",
          "data": {
            "text/plain": [
              "      word_count                                                 ln  ln_count\n",
              "book                                                                         \n",
              "1CO         6820  [93.294a, 33.314, 53.74, 93.387, 93.169a, 89.7...      1308\n",
              "1JN         2136  [92.27, 13.69, 67.131, 67.65, nan, 24.52, 24.1...       327\n",
              "1PE         1676  [93.296, 53.74, 93.169a, 93.387, 30.93, 11.77,...       619\n",
              "1TH         1473  [93.294a, nan, 93.340, 93.361, 92.24, 11.32, 9...       468\n",
              "1TI         1588  [93.294a, 53.74, 93.387, 93.169a, nan, 33.326,...       537"
            ],
            "text/html": [
              "\n",
              "  <div id=\"df-b2aad194-fb28-4e13-ac79-471b8bff4fc7\">\n",
              "    <div class=\"colab-df-container\">\n",
              "      <div>\n",
              "<style scoped>\n",
              "    .dataframe tbody tr th:only-of-type {\n",
              "        vertical-align: middle;\n",
              "    }\n",
              "\n",
              "    .dataframe tbody tr th {\n",
              "        vertical-align: top;\n",
              "    }\n",
              "\n",
              "    .dataframe thead th {\n",
              "        text-align: right;\n",
              "    }\n",
              "</style>\n",
              "<table border=\"1\" class=\"dataframe\">\n",
              "  <thead>\n",
              "    <tr style=\"text-align: right;\">\n",
              "      <th></th>\n",
              "      <th>word_count</th>\n",
              "      <th>ln</th>\n",
              "      <th>ln_count</th>\n",
              "    </tr>\n",
              "    <tr>\n",
              "      <th>book</th>\n",
              "      <th></th>\n",
              "      <th></th>\n",
              "      <th></th>\n",
              "    </tr>\n",
              "  </thead>\n",
              "  <tbody>\n",
              "    <tr>\n",
              "      <th>1CO</th>\n",
              "      <td>6820</td>\n",
              "      <td>[93.294a, 33.314, 53.74, 93.387, 93.169a, 89.7...</td>\n",
              "      <td>1308</td>\n",
              "    </tr>\n",
              "    <tr>\n",
              "      <th>1JN</th>\n",
              "      <td>2136</td>\n",
              "      <td>[92.27, 13.69, 67.131, 67.65, nan, 24.52, 24.1...</td>\n",
              "      <td>327</td>\n",
              "    </tr>\n",
              "    <tr>\n",
              "      <th>1PE</th>\n",
              "      <td>1676</td>\n",
              "      <td>[93.296, 53.74, 93.169a, 93.387, 30.93, 11.77,...</td>\n",
              "      <td>619</td>\n",
              "    </tr>\n",
              "    <tr>\n",
              "      <th>1TH</th>\n",
              "      <td>1473</td>\n",
              "      <td>[93.294a, nan, 93.340, 93.361, 92.24, 11.32, 9...</td>\n",
              "      <td>468</td>\n",
              "    </tr>\n",
              "    <tr>\n",
              "      <th>1TI</th>\n",
              "      <td>1588</td>\n",
              "      <td>[93.294a, 53.74, 93.387, 93.169a, nan, 33.326,...</td>\n",
              "      <td>537</td>\n",
              "    </tr>\n",
              "  </tbody>\n",
              "</table>\n",
              "</div>\n",
              "      <button class=\"colab-df-convert\" onclick=\"convertToInteractive('df-b2aad194-fb28-4e13-ac79-471b8bff4fc7')\"\n",
              "              title=\"Convert this dataframe to an interactive table.\"\n",
              "              style=\"display:none;\">\n",
              "        \n",
              "  <svg xmlns=\"http://www.w3.org/2000/svg\" height=\"24px\"viewBox=\"0 0 24 24\"\n",
              "       width=\"24px\">\n",
              "    <path d=\"M0 0h24v24H0V0z\" fill=\"none\"/>\n",
              "    <path d=\"M18.56 5.44l.94 2.06.94-2.06 2.06-.94-2.06-.94-.94-2.06-.94 2.06-2.06.94zm-11 1L8.5 8.5l.94-2.06 2.06-.94-2.06-.94L8.5 2.5l-.94 2.06-2.06.94zm10 10l.94 2.06.94-2.06 2.06-.94-2.06-.94-.94-2.06-.94 2.06-2.06.94z\"/><path d=\"M17.41 7.96l-1.37-1.37c-.4-.4-.92-.59-1.43-.59-.52 0-1.04.2-1.43.59L10.3 9.45l-7.72 7.72c-.78.78-.78 2.05 0 2.83L4 21.41c.39.39.9.59 1.41.59.51 0 1.02-.2 1.41-.59l7.78-7.78 2.81-2.81c.8-.78.8-2.07 0-2.86zM5.41 20L4 18.59l7.72-7.72 1.47 1.35L5.41 20z\"/>\n",
              "  </svg>\n",
              "      </button>\n",
              "      \n",
              "  <style>\n",
              "    .colab-df-container {\n",
              "      display:flex;\n",
              "      flex-wrap:wrap;\n",
              "      gap: 12px;\n",
              "    }\n",
              "\n",
              "    .colab-df-convert {\n",
              "      background-color: #E8F0FE;\n",
              "      border: none;\n",
              "      border-radius: 50%;\n",
              "      cursor: pointer;\n",
              "      display: none;\n",
              "      fill: #1967D2;\n",
              "      height: 32px;\n",
              "      padding: 0 0 0 0;\n",
              "      width: 32px;\n",
              "    }\n",
              "\n",
              "    .colab-df-convert:hover {\n",
              "      background-color: #E2EBFA;\n",
              "      box-shadow: 0px 1px 2px rgba(60, 64, 67, 0.3), 0px 1px 3px 1px rgba(60, 64, 67, 0.15);\n",
              "      fill: #174EA6;\n",
              "    }\n",
              "\n",
              "    [theme=dark] .colab-df-convert {\n",
              "      background-color: #3B4455;\n",
              "      fill: #D2E3FC;\n",
              "    }\n",
              "\n",
              "    [theme=dark] .colab-df-convert:hover {\n",
              "      background-color: #434B5C;\n",
              "      box-shadow: 0px 1px 3px 1px rgba(0, 0, 0, 0.15);\n",
              "      filter: drop-shadow(0px 1px 2px rgba(0, 0, 0, 0.3));\n",
              "      fill: #FFFFFF;\n",
              "    }\n",
              "  </style>\n",
              "\n",
              "      <script>\n",
              "        const buttonEl =\n",
              "          document.querySelector('#df-b2aad194-fb28-4e13-ac79-471b8bff4fc7 button.colab-df-convert');\n",
              "        buttonEl.style.display =\n",
              "          google.colab.kernel.accessAllowed ? 'block' : 'none';\n",
              "\n",
              "        async function convertToInteractive(key) {\n",
              "          const element = document.querySelector('#df-b2aad194-fb28-4e13-ac79-471b8bff4fc7');\n",
              "          const dataTable =\n",
              "            await google.colab.kernel.invokeFunction('convertToInteractive',\n",
              "                                                     [key], {});\n",
              "          if (!dataTable) return;\n",
              "\n",
              "          const docLinkHtml = 'Like what you see? Visit the ' +\n",
              "            '<a target=\"_blank\" href=https://colab.research.google.com/notebooks/data_table.ipynb>data table notebook</a>'\n",
              "            + ' to learn more about interactive tables.';\n",
              "          element.innerHTML = '';\n",
              "          dataTable['output_type'] = 'display_data';\n",
              "          await google.colab.output.renderOutput(dataTable, element);\n",
              "          const docLink = document.createElement('div');\n",
              "          docLink.innerHTML = docLinkHtml;\n",
              "          element.appendChild(docLink);\n",
              "        }\n",
              "      </script>\n",
              "    </div>\n",
              "  </div>\n",
              "  "
            ]
          },
          "metadata": {},
          "execution_count": 8
        }
      ],
      "source": [
        "# Turn both of the series into data frames\n",
        "words = mg_word_count.to_frame().rename(columns={0: 'word_count'})\n",
        "domains = mg_unique_ln.to_frame().rename(columns={0: 'ln'})\n",
        "\n",
        "# Merge the two data frames, and add a column for the number of unique ln values\n",
        "mg_books = pd.merge(words, domains, on='book')\n",
        "\n",
        "mg_books['ln_count'] = mg_books['ln'].apply(lambda x: len(x))\n",
        "\n",
        "mg_books.head()"
      ]
    },
    {
      "cell_type": "code",
      "execution_count": null,
      "metadata": {
        "id": "C32KUJwBwlfo"
      },
      "outputs": [],
      "source": [
        "# group by verse\n",
        "# group by domain\n",
        "# find books with the most proper nouns"
      ]
    },
    {
      "cell_type": "code",
      "execution_count": null,
      "metadata": {
        "id": "HOGRvfHYwlfo",
        "colab": {
          "base_uri": "https://localhost:8080/"
        },
        "outputId": "630dbb21-dc78-4376-eb2c-4bedebbb080d"
      },
      "outputs": [
        {
          "output_type": "stream",
          "name": "stdout",
          "text": [
            "Looking in indexes: https://pypi.org/simple, https://us-python.pkg.dev/colab-wheels/public/simple/\n",
            "Requirement already satisfied: matplotlib in /usr/local/lib/python3.9/dist-packages (3.5.3)\n",
            "Requirement already satisfied: kiwisolver>=1.0.1 in /usr/local/lib/python3.9/dist-packages (from matplotlib) (1.4.4)\n",
            "Requirement already satisfied: packaging>=20.0 in /usr/local/lib/python3.9/dist-packages (from matplotlib) (23.0)\n",
            "Requirement already satisfied: python-dateutil>=2.7 in /usr/local/lib/python3.9/dist-packages (from matplotlib) (2.8.2)\n",
            "Requirement already satisfied: fonttools>=4.22.0 in /usr/local/lib/python3.9/dist-packages (from matplotlib) (4.39.0)\n",
            "Requirement already satisfied: cycler>=0.10 in /usr/local/lib/python3.9/dist-packages (from matplotlib) (0.11.0)\n",
            "Requirement already satisfied: pyparsing>=2.2.1 in /usr/local/lib/python3.9/dist-packages (from matplotlib) (3.0.9)\n",
            "Requirement already satisfied: pillow>=6.2.0 in /usr/local/lib/python3.9/dist-packages (from matplotlib) (8.4.0)\n",
            "Requirement already satisfied: numpy>=1.17 in /usr/local/lib/python3.9/dist-packages (from matplotlib) (1.22.4)\n",
            "Requirement already satisfied: six>=1.5 in /usr/local/lib/python3.9/dist-packages (from python-dateutil>=2.7->matplotlib) (1.15.0)\n"
          ]
        }
      ],
      "source": [
        "!pip install matplotlib \n",
        "from matplotlib import pyplot as plt\n"
      ]
    },
    {
      "cell_type": "code",
      "execution_count": null,
      "metadata": {
        "id": "EP678hT_wlfo",
        "colab": {
          "base_uri": "https://localhost:8080/",
          "height": 309
        },
        "outputId": "db250d6b-f952-47c6-e41e-74529edc1dbf"
      },
      "outputs": [
        {
          "output_type": "display_data",
          "data": {
            "text/plain": [
              "<Figure size 432x288 with 2 Axes>"
            ],
            "image/png": "[encoded data removed]"
          },
          "metadata": {
            "needs_background": "light"
          }
        }
      ],
      "source": [
        "# plot data\n",
        "ax = mg_books.sort_values('word_count').plot(kind='bar', legend=False)\n",
        "ax2 = ax.twinx() # create a second y-axis\n",
        "mg_books.sort_values('word_count')['ln_count'].plot(kind='line', color='C2', ax=ax2, legend=False)\n",
        "\n",
        "# format plot\n",
        "ax.set_ylabel('Word Count')\n",
        "ax2.set_ylabel('Unique ln values')\n",
        "ax.set_xlabel('Book')\n",
        "ax.set_title('Word Count and Unique ln values per Book')\n",
        "\n",
        "plt.show()"
      ]
    },
    {
      "cell_type": "code",
      "execution_count": null,
      "metadata": {
        "id": "JavgiBwewlfp",
        "colab": {
          "base_uri": "https://localhost:8080/",
          "height": 326
        },
        "outputId": "7e028ee6-7e6f-408a-f3c8-596937833cfd"
      },
      "outputs": [
        {
          "output_type": "execute_result",
          "data": {
            "text/plain": [
              "Text(0.5, 1.0, 'Rate of unique domains per word')"
            ]
          },
          "metadata": {},
          "execution_count": 12
        },
        {
          "output_type": "display_data",
          "data": {
            "text/plain": [
              "<Figure size 432x288 with 1 Axes>"
            ],
            "image/png": "[encoded data removed]"
          },
          "metadata": {
            "needs_background": "light"
          }
        }
      ],
      "source": [
        "# Find the books with the most unique ln values per word\n",
        "mg_books['ln_rate'] = mg_books['ln_count'] / mg_books['word_count']\n",
        "\n",
        "# Plot the ln_rate ('Semantic Density') for each book\n",
        "ax = mg_books.sort_values('ln_rate').plot(kind='bar', y='ln_rate', legend=False)\n",
        "ax.set_ylabel('Rate of unique domains')\n",
        "ax.set_xlabel('Book')\n",
        "ax.set_title('Rate of unique domains per word')"
      ]
    },
    {
      "cell_type": "code",
      "execution_count": null,
      "metadata": {
        "id": "OQV95VG9wlfp",
        "colab": {
          "base_uri": "https://localhost:8080/",
          "height": 235
        },
        "outputId": "10cb0794-ff06-4093-bf45-51f92d42712a"
      },
      "outputs": [
        {
          "output_type": "execute_result",
          "data": {
            "text/plain": [
              "      word_count                                                 ln  ln_count  \\\n",
              "book                                                                            \n",
              "JHN        15643  [67.33, 67.65, 13.69, 92.24, 33.100, 89.93, 85...      1383   \n",
              "REV         9832  [28.38, 93.169a, 93.387, nan, 92.24, 12.1, 28....      1063   \n",
              "MAT        18299  [33.38, 10.24 33.19, 93.169a, 93.387, 10.30, 9...      2192   \n",
              "LUK        19456  [89.32, 59.1, 68.59, 62.3, 33.11, 90.24, 92.24...      2560   \n",
              "ACT        18393  [92.24, 91.6, 60.46, 33.51, 90.45, 90.24, 59.2...      2618   \n",
              "\n",
              "       ln_rate  \n",
              "book            \n",
              "JHN   0.088410  \n",
              "REV   0.108116  \n",
              "MAT   0.119788  \n",
              "LUK   0.131579  \n",
              "ACT   0.142337  "
            ],
            "text/html": [
              "\n",
              "  <div id=\"df-ef362ead-0b7d-4365-af08-6623dca3181b\">\n",
              "    <div class=\"colab-df-container\">\n",
              "      <div>\n",
              "<style scoped>\n",
              "    .dataframe tbody tr th:only-of-type {\n",
              "        vertical-align: middle;\n",
              "    }\n",
              "\n",
              "    .dataframe tbody tr th {\n",
              "        vertical-align: top;\n",
              "    }\n",
              "\n",
              "    .dataframe thead th {\n",
              "        text-align: right;\n",
              "    }\n",
              "</style>\n",
              "<table border=\"1\" class=\"dataframe\">\n",
              "  <thead>\n",
              "    <tr style=\"text-align: right;\">\n",
              "      <th></th>\n",
              "      <th>word_count</th>\n",
              "      <th>ln</th>\n",
              "      <th>ln_count</th>\n",
              "      <th>ln_rate</th>\n",
              "    </tr>\n",
              "    <tr>\n",
              "      <th>book</th>\n",
              "      <th></th>\n",
              "      <th></th>\n",
              "      <th></th>\n",
              "      <th></th>\n",
              "    </tr>\n",
              "  </thead>\n",
              "  <tbody>\n",
              "    <tr>\n",
              "      <th>JHN</th>\n",
              "      <td>15643</td>\n",
              "      <td>[67.33, 67.65, 13.69, 92.24, 33.100, 89.93, 85...</td>\n",
              "      <td>1383</td>\n",
              "      <td>0.088410</td>\n",
              "    </tr>\n",
              "    <tr>\n",
              "      <th>REV</th>\n",
              "      <td>9832</td>\n",
              "      <td>[28.38, 93.169a, 93.387, nan, 92.24, 12.1, 28....</td>\n",
              "      <td>1063</td>\n",
              "      <td>0.108116</td>\n",
              "    </tr>\n",
              "    <tr>\n",
              "      <th>MAT</th>\n",
              "      <td>18299</td>\n",
              "      <td>[33.38, 10.24 33.19, 93.169a, 93.387, 10.30, 9...</td>\n",
              "      <td>2192</td>\n",
              "      <td>0.119788</td>\n",
              "    </tr>\n",
              "    <tr>\n",
              "      <th>LUK</th>\n",
              "      <td>19456</td>\n",
              "      <td>[89.32, 59.1, 68.59, 62.3, 33.11, 90.24, 92.24...</td>\n",
              "      <td>2560</td>\n",
              "      <td>0.131579</td>\n",
              "    </tr>\n",
              "    <tr>\n",
              "      <th>ACT</th>\n",
              "      <td>18393</td>\n",
              "      <td>[92.24, 91.6, 60.46, 33.51, 90.45, 90.24, 59.2...</td>\n",
              "      <td>2618</td>\n",
              "      <td>0.142337</td>\n",
              "    </tr>\n",
              "  </tbody>\n",
              "</table>\n",
              "</div>\n",
              "      <button class=\"colab-df-convert\" onclick=\"convertToInteractive('df-ef362ead-0b7d-4365-af08-6623dca3181b')\"\n",
              "              title=\"Convert this dataframe to an interactive table.\"\n",
              "              style=\"display:none;\">\n",
              "        \n",
              "  <svg xmlns=\"http://www.w3.org/2000/svg\" height=\"24px\"viewBox=\"0 0 24 24\"\n",
              "       width=\"24px\">\n",
              "    <path d=\"M0 0h24v24H0V0z\" fill=\"none\"/>\n",
              "    <path d=\"M18.56 5.44l.94 2.06.94-2.06 2.06-.94-2.06-.94-.94-2.06-.94 2.06-2.06.94zm-11 1L8.5 8.5l.94-2.06 2.06-.94-2.06-.94L8.5 2.5l-.94 2.06-2.06.94zm10 10l.94 2.06.94-2.06 2.06-.94-2.06-.94-.94-2.06-.94 2.06-2.06.94z\"/><path d=\"M17.41 7.96l-1.37-1.37c-.4-.4-.92-.59-1.43-.59-.52 0-1.04.2-1.43.59L10.3 9.45l-7.72 7.72c-.78.78-.78 2.05 0 2.83L4 21.41c.39.39.9.59 1.41.59.51 0 1.02-.2 1.41-.59l7.78-7.78 2.81-2.81c.8-.78.8-2.07 0-2.86zM5.41 20L4 18.59l7.72-7.72 1.47 1.35L5.41 20z\"/>\n",
              "  </svg>\n",
              "      </button>\n",
              "      \n",
              "  <style>\n",
              "    .colab-df-container {\n",
              "      display:flex;\n",
              "      flex-wrap:wrap;\n",
              "      gap: 12px;\n",
              "    }\n",
              "\n",
              "    .colab-df-convert {\n",
              "      background-color: #E8F0FE;\n",
              "      border: none;\n",
              "      border-radius: 50%;\n",
              "      cursor: pointer;\n",
              "      display: none;\n",
              "      fill: #1967D2;\n",
              "      height: 32px;\n",
              "      padding: 0 0 0 0;\n",
              "      width: 32px;\n",
              "    }\n",
              "\n",
              "    .colab-df-convert:hover {\n",
              "      background-color: #E2EBFA;\n",
              "      box-shadow: 0px 1px 2px rgba(60, 64, 67, 0.3), 0px 1px 3px 1px rgba(60, 64, 67, 0.15);\n",
              "      fill: #174EA6;\n",
              "    }\n",
              "\n",
              "    [theme=dark] .colab-df-convert {\n",
              "      background-color: #3B4455;\n",
              "      fill: #D2E3FC;\n",
              "    }\n",
              "\n",
              "    [theme=dark] .colab-df-convert:hover {\n",
              "      background-color: #434B5C;\n",
              "      box-shadow: 0px 1px 3px 1px rgba(0, 0, 0, 0.15);\n",
              "      filter: drop-shadow(0px 1px 2px rgba(0, 0, 0, 0.3));\n",
              "      fill: #FFFFFF;\n",
              "    }\n",
              "  </style>\n",
              "\n",
              "      <script>\n",
              "        const buttonEl =\n",
              "          document.querySelector('#df-ef362ead-0b7d-4365-af08-6623dca3181b button.colab-df-convert');\n",
              "        buttonEl.style.display =\n",
              "          google.colab.kernel.accessAllowed ? 'block' : 'none';\n",
              "\n",
              "        async function convertToInteractive(key) {\n",
              "          const element = document.querySelector('#df-ef362ead-0b7d-4365-af08-6623dca3181b');\n",
              "          const dataTable =\n",
              "            await google.colab.kernel.invokeFunction('convertToInteractive',\n",
              "                                                     [key], {});\n",
              "          if (!dataTable) return;\n",
              "\n",
              "          const docLinkHtml = 'Like what you see? Visit the ' +\n",
              "            '<a target=\"_blank\" href=https://colab.research.google.com/notebooks/data_table.ipynb>data table notebook</a>'\n",
              "            + ' to learn more about interactive tables.';\n",
              "          element.innerHTML = '';\n",
              "          dataTable['output_type'] = 'display_data';\n",
              "          await google.colab.output.renderOutput(dataTable, element);\n",
              "          const docLink = document.createElement('div');\n",
              "          docLink.innerHTML = docLinkHtml;\n",
              "          element.appendChild(docLink);\n",
              "        }\n",
              "      </script>\n",
              "    </div>\n",
              "  </div>\n",
              "  "
            ]
          },
          "metadata": {},
          "execution_count": 13
        }
      ],
      "source": [
        "mg_books.sort_values('ln_rate').head()"
      ]
    },
    {
      "cell_type": "markdown",
      "metadata": {
        "id": "5-lOmE85wlfp"
      },
      "source": [
        "While that is interesting data, it is overly sensitive to the length of each book. Let's do the same breakdown, finding the rate of unique Louw-Nida domains per word, but let's group the data by book *and* chapter instead."
      ]
    },
    {
      "cell_type": "code",
      "execution_count": null,
      "metadata": {
        "id": "J9wP7vBtwlfq",
        "colab": {
          "base_uri": "https://localhost:8080/",
          "height": 235
        },
        "outputId": "aba2ceee-fc8e-4a3b-a4f3-84996060bce6"
      },
      "outputs": [
        {
          "output_type": "execute_result",
          "data": {
            "text/plain": [
              "              word_count                                                 ln  \\\n",
              "book_chapter                                                                  \n",
              "1CO 1                496  [93.294a, 33.314, 53.74, 93.387, 93.169a, 89.7...   \n",
              "1CO 10               463  [69.3, 25.1, 91.1, 92.7, 28.13 32.7, 11.23, 90...   \n",
              "1CO 11               531  [41.45, 92.1, 13.3, 64.14, 89.92 92.1, 93.387,...   \n",
              "1CO 12               470  [89.6, nan, 92.24, 12.21, 11.23, 69.3, 25.1, 9...   \n",
              "1CO 13               197  [89.67, 92.24, 33.2, 9.1, 33.70, 89.92, 12.28,...   \n",
              "\n",
              "              ln_count  \n",
              "book_chapter            \n",
              "1CO 1              192  \n",
              "1CO 10             204  \n",
              "1CO 11             204  \n",
              "1CO 12             173  \n",
              "1CO 13              93  "
            ],
            "text/html": [
              "\n",
              "  <div id=\"df-c6787736-c534-4275-a7d9-55547bcf3693\">\n",
              "    <div class=\"colab-df-container\">\n",
              "      <div>\n",
              "<style scoped>\n",
              "    .dataframe tbody tr th:only-of-type {\n",
              "        vertical-align: middle;\n",
              "    }\n",
              "\n",
              "    .dataframe tbody tr th {\n",
              "        vertical-align: top;\n",
              "    }\n",
              "\n",
              "    .dataframe thead th {\n",
              "        text-align: right;\n",
              "    }\n",
              "</style>\n",
              "<table border=\"1\" class=\"dataframe\">\n",
              "  <thead>\n",
              "    <tr style=\"text-align: right;\">\n",
              "      <th></th>\n",
              "      <th>word_count</th>\n",
              "      <th>ln</th>\n",
              "      <th>ln_count</th>\n",
              "    </tr>\n",
              "    <tr>\n",
              "      <th>book_chapter</th>\n",
              "      <th></th>\n",
              "      <th></th>\n",
              "      <th></th>\n",
              "    </tr>\n",
              "  </thead>\n",
              "  <tbody>\n",
              "    <tr>\n",
              "      <th>1CO 1</th>\n",
              "      <td>496</td>\n",
              "      <td>[93.294a, 33.314, 53.74, 93.387, 93.169a, 89.7...</td>\n",
              "      <td>192</td>\n",
              "    </tr>\n",
              "    <tr>\n",
              "      <th>1CO 10</th>\n",
              "      <td>463</td>\n",
              "      <td>[69.3, 25.1, 91.1, 92.7, 28.13 32.7, 11.23, 90...</td>\n",
              "      <td>204</td>\n",
              "    </tr>\n",
              "    <tr>\n",
              "      <th>1CO 11</th>\n",
              "      <td>531</td>\n",
              "      <td>[41.45, 92.1, 13.3, 64.14, 89.92 92.1, 93.387,...</td>\n",
              "      <td>204</td>\n",
              "    </tr>\n",
              "    <tr>\n",
              "      <th>1CO 12</th>\n",
              "      <td>470</td>\n",
              "      <td>[89.6, nan, 92.24, 12.21, 11.23, 69.3, 25.1, 9...</td>\n",
              "      <td>173</td>\n",
              "    </tr>\n",
              "    <tr>\n",
              "      <th>1CO 13</th>\n",
              "      <td>197</td>\n",
              "      <td>[89.67, 92.24, 33.2, 9.1, 33.70, 89.92, 12.28,...</td>\n",
              "      <td>93</td>\n",
              "    </tr>\n",
              "  </tbody>\n",
              "</table>\n",
              "</div>\n",
              "      <button class=\"colab-df-convert\" onclick=\"convertToInteractive('df-c6787736-c534-4275-a7d9-55547bcf3693')\"\n",
              "              title=\"Convert this dataframe to an interactive table.\"\n",
              "              style=\"display:none;\">\n",
              "        \n",
              "  <svg xmlns=\"http://www.w3.org/2000/svg\" height=\"24px\"viewBox=\"0 0 24 24\"\n",
              "       width=\"24px\">\n",
              "    <path d=\"M0 0h24v24H0V0z\" fill=\"none\"/>\n",
              "    <path d=\"M18.56 5.44l.94 2.06.94-2.06 2.06-.94-2.06-.94-.94-2.06-.94 2.06-2.06.94zm-11 1L8.5 8.5l.94-2.06 2.06-.94-2.06-.94L8.5 2.5l-.94 2.06-2.06.94zm10 10l.94 2.06.94-2.06 2.06-.94-2.06-.94-.94-2.06-.94 2.06-2.06.94z\"/><path d=\"M17.41 7.96l-1.37-1.37c-.4-.4-.92-.59-1.43-.59-.52 0-1.04.2-1.43.59L10.3 9.45l-7.72 7.72c-.78.78-.78 2.05 0 2.83L4 21.41c.39.39.9.59 1.41.59.51 0 1.02-.2 1.41-.59l7.78-7.78 2.81-2.81c.8-.78.8-2.07 0-2.86zM5.41 20L4 18.59l7.72-7.72 1.47 1.35L5.41 20z\"/>\n",
              "  </svg>\n",
              "      </button>\n",
              "      \n",
              "  <style>\n",
              "    .colab-df-container {\n",
              "      display:flex;\n",
              "      flex-wrap:wrap;\n",
              "      gap: 12px;\n",
              "    }\n",
              "\n",
              "    .colab-df-convert {\n",
              "      background-color: #E8F0FE;\n",
              "      border: none;\n",
              "      border-radius: 50%;\n",
              "      cursor: pointer;\n",
              "      display: none;\n",
              "      fill: #1967D2;\n",
              "      height: 32px;\n",
              "      padding: 0 0 0 0;\n",
              "      width: 32px;\n",
              "    }\n",
              "\n",
              "    .colab-df-convert:hover {\n",
              "      background-color: #E2EBFA;\n",
              "      box-shadow: 0px 1px 2px rgba(60, 64, 67, 0.3), 0px 1px 3px 1px rgba(60, 64, 67, 0.15);\n",
              "      fill: #174EA6;\n",
              "    }\n",
              "\n",
              "    [theme=dark] .colab-df-convert {\n",
              "      background-color: #3B4455;\n",
              "      fill: #D2E3FC;\n",
              "    }\n",
              "\n",
              "    [theme=dark] .colab-df-convert:hover {\n",
              "      background-color: #434B5C;\n",
              "      box-shadow: 0px 1px 3px 1px rgba(0, 0, 0, 0.15);\n",
              "      filter: drop-shadow(0px 1px 2px rgba(0, 0, 0, 0.3));\n",
              "      fill: #FFFFFF;\n",
              "    }\n",
              "  </style>\n",
              "\n",
              "      <script>\n",
              "        const buttonEl =\n",
              "          document.querySelector('#df-c6787736-c534-4275-a7d9-55547bcf3693 button.colab-df-convert');\n",
              "        buttonEl.style.display =\n",
              "          google.colab.kernel.accessAllowed ? 'block' : 'none';\n",
              "\n",
              "        async function convertToInteractive(key) {\n",
              "          const element = document.querySelector('#df-c6787736-c534-4275-a7d9-55547bcf3693');\n",
              "          const dataTable =\n",
              "            await google.colab.kernel.invokeFunction('convertToInteractive',\n",
              "                                                     [key], {});\n",
              "          if (!dataTable) return;\n",
              "\n",
              "          const docLinkHtml = 'Like what you see? Visit the ' +\n",
              "            '<a target=\"_blank\" href=https://colab.research.google.com/notebooks/data_table.ipynb>data table notebook</a>'\n",
              "            + ' to learn more about interactive tables.';\n",
              "          element.innerHTML = '';\n",
              "          dataTable['output_type'] = 'display_data';\n",
              "          await google.colab.output.renderOutput(dataTable, element);\n",
              "          const docLink = document.createElement('div');\n",
              "          docLink.innerHTML = docLinkHtml;\n",
              "          element.appendChild(docLink);\n",
              "        }\n",
              "      </script>\n",
              "    </div>\n",
              "  </div>\n",
              "  "
            ]
          },
          "metadata": {},
          "execution_count": 14
        }
      ],
      "source": [
        "# Group by book_chapter column\n",
        "mg_word_count = mg.groupby('book_chapter').size()\n",
        "\n",
        "# Create an array of the unique Louw-Nida domain values for each book\n",
        "mg_unique_ln = mg.groupby('book_chapter')['ln'].unique()\n",
        "\n",
        "# Turn both of the series into data frames\n",
        "words = mg_word_count.to_frame().rename(columns={0: 'word_count'})\n",
        "domains = mg_unique_ln.to_frame().rename(columns={0: 'ln'})\n",
        "\n",
        "# Merge the two data frames, and add a column for the number of unique ln values\n",
        "mg_chapters = pd.merge(words, domains, on='book_chapter')\n",
        "\n",
        "mg_chapters['ln_count'] = mg_chapters['ln'].apply(lambda x: len(x))\n",
        "\n",
        "mg_chapters.head()"
      ]
    },
    {
      "cell_type": "code",
      "execution_count": null,
      "metadata": {
        "id": "2vNTbEFEwlfq",
        "colab": {
          "base_uri": "https://localhost:8080/",
          "height": 340
        },
        "outputId": "b3108c08-d74b-4752-ee28-3d99ae8934a4"
      },
      "outputs": [
        {
          "output_type": "execute_result",
          "data": {
            "text/plain": [
              "Text(0.5, 1.0, 'Rate of unique domains per word')"
            ]
          },
          "metadata": {},
          "execution_count": 15
        },
        {
          "output_type": "display_data",
          "data": {
            "text/plain": [
              "<Figure size 432x288 with 1 Axes>"
            ],
            "image/png": "[encoded data removed]"
          },
          "metadata": {
            "needs_background": "light"
          }
        }
      ],
      "source": [
        "# Find the chapters with the most unique ln values per word\n",
        "mg_chapters['ln_rate'] = mg_chapters['ln_count'] / mg_chapters['word_count']\n",
        "\n",
        "# Let's get the top and bottom 10 chapters based on ln_rate\n",
        "sorted_chs = mg_chapters.sort_values('ln_rate', ascending=False)\n",
        "top_chapters = sorted_chs.head(10)\n",
        "bottom_chapters = sorted_chs.tail(10)\n",
        "# Merge the top and bottom chapters into a single data frame\n",
        "top_bottom_chapters = pd.concat([top_chapters, bottom_chapters])\n",
        "\n",
        "# Plot the ln_rate ('Semantic Density') for each chapter\n",
        "ax = top_bottom_chapters.sort_values('ln_rate').plot(kind='bar', y='ln_rate', legend=False)\n",
        "ax.set_ylabel('Rate of unique domains')\n",
        "ax.set_xlabel('Chapters: Least semantically dense (left) to most (right)')\n",
        "ax.set_title('Rate of unique domains per word')"
      ]
    },
    {
      "cell_type": "markdown",
      "metadata": {
        "id": "YKOVodekwlfq"
      },
      "source": [
        "Looks like the age-old advice to \"start with John\" (or perhaps Johannine writings) is still good advice."
      ]
    },
    {
      "cell_type": "markdown",
      "metadata": {
        "id": "7FmOcV62wlfq"
      },
      "source": [
        "Now let's imagine we have begun a new alignment task. We want to build up a tiny corpus of paired sentences for downstream NLP tasks, and we started with the chapters that had the most bang for our buck. Now we have several chapters complete. (e.g., Revelation 13, 1 John 4-5, John 6, 8)\n",
        "\n",
        "As we move forward with alignment, we could move on to the next chapters that give us the most bang for our buck, but we could also move on to the chapters that are most similar to the chapters we have already aligned, since this would allow us to leverage the work we have already done and get more examples for less work.\n",
        "\n",
        "One way to assess similarity between chapters would be to use the lemmas of the words in the chapter. One problem with this approach, however, is that it does not capture contextually sensitive information. For example, the word \"beast\" in the book of Revelation is very different from the word \"beast\" in Jesus's temptation in Mark 1:13. We would probably not consider those chapters to be particularly similar despite the presence of the same lemma.\n",
        "\n",
        "Let's compare the number of unique lemmas with the number of unique semantic domains in each chapter."
      ]
    },
    {
      "cell_type": "code",
      "execution_count": null,
      "metadata": {
        "id": "mlo_avwkwlfq",
        "colab": {
          "base_uri": "https://localhost:8080/",
          "height": 235
        },
        "outputId": "9fdabe3f-c2d3-4c6b-e78a-9fc789f0736f"
      },
      "outputs": [
        {
          "output_type": "execute_result",
          "data": {
            "text/plain": [
              "              word_count                                                 ln  \\\n",
              "book_chapter                                                                  \n",
              "1CO 1                496  [93.294a, 33.314, 53.74, 93.387, 93.169a, 89.7...   \n",
              "1CO 10               463  [69.3, 25.1, 91.1, 92.7, 28.13 32.7, 11.23, 90...   \n",
              "1CO 11               531  [41.45, 92.1, 13.3, 64.14, 89.92 92.1, 93.387,...   \n",
              "1CO 12               470  [89.6, nan, 92.24, 12.21, 11.23, 69.3, 25.1, 9...   \n",
              "1CO 13               197  [89.67, 92.24, 33.2, 9.1, 33.70, 89.92, 12.28,...   \n",
              "\n",
              "              ln_count   ln_rate  \n",
              "book_chapter                      \n",
              "1CO 1              192  0.387097  \n",
              "1CO 10             204  0.440605  \n",
              "1CO 11             204  0.384181  \n",
              "1CO 12             173  0.368085  \n",
              "1CO 13              93  0.472081  "
            ],
            "text/html": [
              "\n",
              "  <div id=\"df-9bb8f09c-1fba-4886-a3e3-01b064202c5c\">\n",
              "    <div class=\"colab-df-container\">\n",
              "      <div>\n",
              "<style scoped>\n",
              "    .dataframe tbody tr th:only-of-type {\n",
              "        vertical-align: middle;\n",
              "    }\n",
              "\n",
              "    .dataframe tbody tr th {\n",
              "        vertical-align: top;\n",
              "    }\n",
              "\n",
              "    .dataframe thead th {\n",
              "        text-align: right;\n",
              "    }\n",
              "</style>\n",
              "<table border=\"1\" class=\"dataframe\">\n",
              "  <thead>\n",
              "    <tr style=\"text-align: right;\">\n",
              "      <th></th>\n",
              "      <th>word_count</th>\n",
              "      <th>ln</th>\n",
              "      <th>ln_count</th>\n",
              "      <th>ln_rate</th>\n",
              "    </tr>\n",
              "    <tr>\n",
              "      <th>book_chapter</th>\n",
              "      <th></th>\n",
              "      <th></th>\n",
              "      <th></th>\n",
              "      <th></th>\n",
              "    </tr>\n",
              "  </thead>\n",
              "  <tbody>\n",
              "    <tr>\n",
              "      <th>1CO 1</th>\n",
              "      <td>496</td>\n",
              "      <td>[93.294a, 33.314, 53.74, 93.387, 93.169a, 89.7...</td>\n",
              "      <td>192</td>\n",
              "      <td>0.387097</td>\n",
              "    </tr>\n",
              "    <tr>\n",
              "      <th>1CO 10</th>\n",
              "      <td>463</td>\n",
              "      <td>[69.3, 25.1, 91.1, 92.7, 28.13 32.7, 11.23, 90...</td>\n",
              "      <td>204</td>\n",
              "      <td>0.440605</td>\n",
              "    </tr>\n",
              "    <tr>\n",
              "      <th>1CO 11</th>\n",
              "      <td>531</td>\n",
              "      <td>[41.45, 92.1, 13.3, 64.14, 89.92 92.1, 93.387,...</td>\n",
              "      <td>204</td>\n",
              "      <td>0.384181</td>\n",
              "    </tr>\n",
              "    <tr>\n",
              "      <th>1CO 12</th>\n",
              "      <td>470</td>\n",
              "      <td>[89.6, nan, 92.24, 12.21, 11.23, 69.3, 25.1, 9...</td>\n",
              "      <td>173</td>\n",
              "      <td>0.368085</td>\n",
              "    </tr>\n",
              "    <tr>\n",
              "      <th>1CO 13</th>\n",
              "      <td>197</td>\n",
              "      <td>[89.67, 92.24, 33.2, 9.1, 33.70, 89.92, 12.28,...</td>\n",
              "      <td>93</td>\n",
              "      <td>0.472081</td>\n",
              "    </tr>\n",
              "  </tbody>\n",
              "</table>\n",
              "</div>\n",
              "      <button class=\"colab-df-convert\" onclick=\"convertToInteractive('df-9bb8f09c-1fba-4886-a3e3-01b064202c5c')\"\n",
              "              title=\"Convert this dataframe to an interactive table.\"\n",
              "              style=\"display:none;\">\n",
              "        \n",
              "  <svg xmlns=\"http://www.w3.org/2000/svg\" height=\"24px\"viewBox=\"0 0 24 24\"\n",
              "       width=\"24px\">\n",
              "    <path d=\"M0 0h24v24H0V0z\" fill=\"none\"/>\n",
              "    <path d=\"M18.56 5.44l.94 2.06.94-2.06 2.06-.94-2.06-.94-.94-2.06-.94 2.06-2.06.94zm-11 1L8.5 8.5l.94-2.06 2.06-.94-2.06-.94L8.5 2.5l-.94 2.06-2.06.94zm10 10l.94 2.06.94-2.06 2.06-.94-2.06-.94-.94-2.06-.94 2.06-2.06.94z\"/><path d=\"M17.41 7.96l-1.37-1.37c-.4-.4-.92-.59-1.43-.59-.52 0-1.04.2-1.43.59L10.3 9.45l-7.72 7.72c-.78.78-.78 2.05 0 2.83L4 21.41c.39.39.9.59 1.41.59.51 0 1.02-.2 1.41-.59l7.78-7.78 2.81-2.81c.8-.78.8-2.07 0-2.86zM5.41 20L4 18.59l7.72-7.72 1.47 1.35L5.41 20z\"/>\n",
              "  </svg>\n",
              "      </button>\n",
              "      \n",
              "  <style>\n",
              "    .colab-df-container {\n",
              "      display:flex;\n",
              "      flex-wrap:wrap;\n",
              "      gap: 12px;\n",
              "    }\n",
              "\n",
              "    .colab-df-convert {\n",
              "      background-color: #E8F0FE;\n",
              "      border: none;\n",
              "      border-radius: 50%;\n",
              "      cursor: pointer;\n",
              "      display: none;\n",
              "      fill: #1967D2;\n",
              "      height: 32px;\n",
              "      padding: 0 0 0 0;\n",
              "      width: 32px;\n",
              "    }\n",
              "\n",
              "    .colab-df-convert:hover {\n",
              "      background-color: #E2EBFA;\n",
              "      box-shadow: 0px 1px 2px rgba(60, 64, 67, 0.3), 0px 1px 3px 1px rgba(60, 64, 67, 0.15);\n",
              "      fill: #174EA6;\n",
              "    }\n",
              "\n",
              "    [theme=dark] .colab-df-convert {\n",
              "      background-color: #3B4455;\n",
              "      fill: #D2E3FC;\n",
              "    }\n",
              "\n",
              "    [theme=dark] .colab-df-convert:hover {\n",
              "      background-color: #434B5C;\n",
              "      box-shadow: 0px 1px 3px 1px rgba(0, 0, 0, 0.15);\n",
              "      filter: drop-shadow(0px 1px 2px rgba(0, 0, 0, 0.3));\n",
              "      fill: #FFFFFF;\n",
              "    }\n",
              "  </style>\n",
              "\n",
              "      <script>\n",
              "        const buttonEl =\n",
              "          document.querySelector('#df-9bb8f09c-1fba-4886-a3e3-01b064202c5c button.colab-df-convert');\n",
              "        buttonEl.style.display =\n",
              "          google.colab.kernel.accessAllowed ? 'block' : 'none';\n",
              "\n",
              "        async function convertToInteractive(key) {\n",
              "          const element = document.querySelector('#df-9bb8f09c-1fba-4886-a3e3-01b064202c5c');\n",
              "          const dataTable =\n",
              "            await google.colab.kernel.invokeFunction('convertToInteractive',\n",
              "                                                     [key], {});\n",
              "          if (!dataTable) return;\n",
              "\n",
              "          const docLinkHtml = 'Like what you see? Visit the ' +\n",
              "            '<a target=\"_blank\" href=https://colab.research.google.com/notebooks/data_table.ipynb>data table notebook</a>'\n",
              "            + ' to learn more about interactive tables.';\n",
              "          element.innerHTML = '';\n",
              "          dataTable['output_type'] = 'display_data';\n",
              "          await google.colab.output.renderOutput(dataTable, element);\n",
              "          const docLink = document.createElement('div');\n",
              "          docLink.innerHTML = docLinkHtml;\n",
              "          element.appendChild(docLink);\n",
              "        }\n",
              "      </script>\n",
              "    </div>\n",
              "  </div>\n",
              "  "
            ]
          },
          "metadata": {},
          "execution_count": 16
        }
      ],
      "source": [
        "mg_chapters.head()"
      ]
    },
    {
      "cell_type": "code",
      "execution_count": null,
      "metadata": {
        "id": "nFnx1ZmWwlfr"
      },
      "outputs": [],
      "source": [
        "# Find the number of unique lemmas in each chapter by adding a new column \n",
        "# based on the unique lemmas in the original mg data frame\n",
        "mg_chapters['lemma_count'] = mg.groupby('book_chapter')['lemma'].unique().apply(lambda x: len(x))\n",
        "mg_chapters['lemmas'] = mg.groupby('book_chapter')['lemma'].unique()\n",
        "mg_chapters['lemma_rate'] = mg_chapters['lemma_count'] / mg_chapters['word_count']"
      ]
    },
    {
      "cell_type": "markdown",
      "metadata": {
        "id": "H0GMhM6Wwlfr"
      },
      "source": [
        "Now let's check if unique lemmas correlate with unique semantic domains."
      ]
    },
    {
      "cell_type": "code",
      "execution_count": null,
      "metadata": {
        "id": "6wG-MtYZwlfr",
        "colab": {
          "base_uri": "https://localhost:8080/",
          "height": 312
        },
        "outputId": "64b40d94-9344-41b0-ed49-de723680933b"
      },
      "outputs": [
        {
          "output_type": "execute_result",
          "data": {
            "text/plain": [
              "Text(0.5, 1.0, 'Correlation between Unique Lemma Rate and Unique Domain Rate')"
            ]
          },
          "metadata": {},
          "execution_count": 18
        },
        {
          "output_type": "display_data",
          "data": {
            "text/plain": [
              "<Figure size 432x288 with 1 Axes>"
            ],
            "image/png": "[encoded data removed]"
          },
          "metadata": {
            "needs_background": "light"
          }
        }
      ],
      "source": [
        "# Check the correlation between lemma_rate and ln_rate, and plot the results\n",
        "ax = mg_chapters.plot(kind='scatter', x='lemma_rate', y='ln_rate')\n",
        "ax.set_xlabel('Unique Lemma Rate')\n",
        "ax.set_ylabel('Unique Domain Rate')\n",
        "ax.set_title('Correlation between Unique Lemma Rate and Unique Domain Rate')\n"
      ]
    },
    {
      "cell_type": "markdown",
      "metadata": {
        "id": "7WcJftBvwlfr"
      },
      "source": [
        "Unique lemmas and unique semantic domains are definitely correlated. But we can also see that there is a significant amount of variation here."
      ]
    },
    {
      "cell_type": "code",
      "execution_count": null,
      "metadata": {
        "id": "4GpCQAi-wlfr",
        "colab": {
          "base_uri": "https://localhost:8080/",
          "height": 432
        },
        "outputId": "4c3fa360-46ec-4e28-c941-0079ac00c048"
      },
      "outputs": [
        {
          "output_type": "execute_result",
          "data": {
            "text/plain": [
              "              word_count                                                 ln  \\\n",
              "book_chapter                                                                  \n",
              "JHN 6               1238  [67.48, 92.29, 15.37, 92.24, 93.169a, 83.43, 1...   \n",
              "JHN 17               498  [92.29, 33.70, 93.169a, 89.87, 24.34, 92.24, 8...   \n",
              "JHN 8               1087  [93.169a, 89.124, 15.34, 84.16, 92.24, 1.46, 3...   \n",
              "1JN 4                449  [25.45, nan, 59.23, 12.18 12.33, 31.35, 89.125...   \n",
              "JHN 9                691  [91.1, 15.15, 24.1, 9.24, 24.38, 67.131, 23.46...   \n",
              "\n",
              "              ln_count   ln_rate  lemma_count  \\\n",
              "book_chapter                                    \n",
              "JHN 6              296  0.239095          240   \n",
              "JHN 17             139  0.279116          101   \n",
              "JHN 8              262  0.241030          222   \n",
              "1JN 4              108  0.240535           94   \n",
              "JHN 9              186  0.269175          147   \n",
              "\n",
              "                                                         lemmas  lemma_rate  \n",
              "book_chapter                                                                 \n",
              "JHN 6         [μετά, οὗτος, ἀπέρχομαι, ὁ, Ἰησοῦς, πέραν, θάλ...    0.193861  \n",
              "JHN 17        [οὗτος, λαλέω, Ἰησοῦς, καί, ἐπαίρω, ὁ, ὀφθαλμό...    0.202811  \n",
              "JHN 8         [Ἰησοῦς, δέ, πορεύομαι, εἰς, ὁ, ὄρος, ἐλαία, ὄ...    0.204232  \n",
              "1JN 4         [ἀγαπητός, μή, πᾶς, πνεῦμα, πιστεύω, ἀλλά, δοκ...    0.209354  \n",
              "JHN 9         [καί, παράγω, ὁράω, ἄνθρωπος, τυφλός, ἐκ, γενε...    0.212735  "
            ],
            "text/html": [
              "\n",
              "  <div id=\"df-0d889619-770f-4789-8e72-5c1dd718fdfa\">\n",
              "    <div class=\"colab-df-container\">\n",
              "      <div>\n",
              "<style scoped>\n",
              "    .dataframe tbody tr th:only-of-type {\n",
              "        vertical-align: middle;\n",
              "    }\n",
              "\n",
              "    .dataframe tbody tr th {\n",
              "        vertical-align: top;\n",
              "    }\n",
              "\n",
              "    .dataframe thead th {\n",
              "        text-align: right;\n",
              "    }\n",
              "</style>\n",
              "<table border=\"1\" class=\"dataframe\">\n",
              "  <thead>\n",
              "    <tr style=\"text-align: right;\">\n",
              "      <th></th>\n",
              "      <th>word_count</th>\n",
              "      <th>ln</th>\n",
              "      <th>ln_count</th>\n",
              "      <th>ln_rate</th>\n",
              "      <th>lemma_count</th>\n",
              "      <th>lemmas</th>\n",
              "      <th>lemma_rate</th>\n",
              "    </tr>\n",
              "    <tr>\n",
              "      <th>book_chapter</th>\n",
              "      <th></th>\n",
              "      <th></th>\n",
              "      <th></th>\n",
              "      <th></th>\n",
              "      <th></th>\n",
              "      <th></th>\n",
              "      <th></th>\n",
              "    </tr>\n",
              "  </thead>\n",
              "  <tbody>\n",
              "    <tr>\n",
              "      <th>JHN 6</th>\n",
              "      <td>1238</td>\n",
              "      <td>[67.48, 92.29, 15.37, 92.24, 93.169a, 83.43, 1...</td>\n",
              "      <td>296</td>\n",
              "      <td>0.239095</td>\n",
              "      <td>240</td>\n",
              "      <td>[μετά, οὗτος, ἀπέρχομαι, ὁ, Ἰησοῦς, πέραν, θάλ...</td>\n",
              "      <td>0.193861</td>\n",
              "    </tr>\n",
              "    <tr>\n",
              "      <th>JHN 17</th>\n",
              "      <td>498</td>\n",
              "      <td>[92.29, 33.70, 93.169a, 89.87, 24.34, 92.24, 8...</td>\n",
              "      <td>139</td>\n",
              "      <td>0.279116</td>\n",
              "      <td>101</td>\n",
              "      <td>[οὗτος, λαλέω, Ἰησοῦς, καί, ἐπαίρω, ὁ, ὀφθαλμό...</td>\n",
              "      <td>0.202811</td>\n",
              "    </tr>\n",
              "    <tr>\n",
              "      <th>JHN 8</th>\n",
              "      <td>1087</td>\n",
              "      <td>[93.169a, 89.124, 15.34, 84.16, 92.24, 1.46, 3...</td>\n",
              "      <td>262</td>\n",
              "      <td>0.241030</td>\n",
              "      <td>222</td>\n",
              "      <td>[Ἰησοῦς, δέ, πορεύομαι, εἰς, ὁ, ὄρος, ἐλαία, ὄ...</td>\n",
              "      <td>0.204232</td>\n",
              "    </tr>\n",
              "    <tr>\n",
              "      <th>1JN 4</th>\n",
              "      <td>449</td>\n",
              "      <td>[25.45, nan, 59.23, 12.18 12.33, 31.35, 89.125...</td>\n",
              "      <td>108</td>\n",
              "      <td>0.240535</td>\n",
              "      <td>94</td>\n",
              "      <td>[ἀγαπητός, μή, πᾶς, πνεῦμα, πιστεύω, ἀλλά, δοκ...</td>\n",
              "      <td>0.209354</td>\n",
              "    </tr>\n",
              "    <tr>\n",
              "      <th>JHN 9</th>\n",
              "      <td>691</td>\n",
              "      <td>[91.1, 15.15, 24.1, 9.24, 24.38, 67.131, 23.46...</td>\n",
              "      <td>186</td>\n",
              "      <td>0.269175</td>\n",
              "      <td>147</td>\n",
              "      <td>[καί, παράγω, ὁράω, ἄνθρωπος, τυφλός, ἐκ, γενε...</td>\n",
              "      <td>0.212735</td>\n",
              "    </tr>\n",
              "  </tbody>\n",
              "</table>\n",
              "</div>\n",
              "      <button class=\"colab-df-convert\" onclick=\"convertToInteractive('df-0d889619-770f-4789-8e72-5c1dd718fdfa')\"\n",
              "              title=\"Convert this dataframe to an interactive table.\"\n",
              "              style=\"display:none;\">\n",
              "        \n",
              "  <svg xmlns=\"http://www.w3.org/2000/svg\" height=\"24px\"viewBox=\"0 0 24 24\"\n",
              "       width=\"24px\">\n",
              "    <path d=\"M0 0h24v24H0V0z\" fill=\"none\"/>\n",
              "    <path d=\"M18.56 5.44l.94 2.06.94-2.06 2.06-.94-2.06-.94-.94-2.06-.94 2.06-2.06.94zm-11 1L8.5 8.5l.94-2.06 2.06-.94-2.06-.94L8.5 2.5l-.94 2.06-2.06.94zm10 10l.94 2.06.94-2.06 2.06-.94-2.06-.94-.94-2.06-.94 2.06-2.06.94z\"/><path d=\"M17.41 7.96l-1.37-1.37c-.4-.4-.92-.59-1.43-.59-.52 0-1.04.2-1.43.59L10.3 9.45l-7.72 7.72c-.78.78-.78 2.05 0 2.83L4 21.41c.39.39.9.59 1.41.59.51 0 1.02-.2 1.41-.59l7.78-7.78 2.81-2.81c.8-.78.8-2.07 0-2.86zM5.41 20L4 18.59l7.72-7.72 1.47 1.35L5.41 20z\"/>\n",
              "  </svg>\n",
              "      </button>\n",
              "      \n",
              "  <style>\n",
              "    .colab-df-container {\n",
              "      display:flex;\n",
              "      flex-wrap:wrap;\n",
              "      gap: 12px;\n",
              "    }\n",
              "\n",
              "    .colab-df-convert {\n",
              "      background-color: #E8F0FE;\n",
              "      border: none;\n",
              "      border-radius: 50%;\n",
              "      cursor: pointer;\n",
              "      display: none;\n",
              "      fill: #1967D2;\n",
              "      height: 32px;\n",
              "      padding: 0 0 0 0;\n",
              "      width: 32px;\n",
              "    }\n",
              "\n",
              "    .colab-df-convert:hover {\n",
              "      background-color: #E2EBFA;\n",
              "      box-shadow: 0px 1px 2px rgba(60, 64, 67, 0.3), 0px 1px 3px 1px rgba(60, 64, 67, 0.15);\n",
              "      fill: #174EA6;\n",
              "    }\n",
              "\n",
              "    [theme=dark] .colab-df-convert {\n",
              "      background-color: #3B4455;\n",
              "      fill: #D2E3FC;\n",
              "    }\n",
              "\n",
              "    [theme=dark] .colab-df-convert:hover {\n",
              "      background-color: #434B5C;\n",
              "      box-shadow: 0px 1px 3px 1px rgba(0, 0, 0, 0.15);\n",
              "      filter: drop-shadow(0px 1px 2px rgba(0, 0, 0, 0.3));\n",
              "      fill: #FFFFFF;\n",
              "    }\n",
              "  </style>\n",
              "\n",
              "      <script>\n",
              "        const buttonEl =\n",
              "          document.querySelector('#df-0d889619-770f-4789-8e72-5c1dd718fdfa button.colab-df-convert');\n",
              "        buttonEl.style.display =\n",
              "          google.colab.kernel.accessAllowed ? 'block' : 'none';\n",
              "\n",
              "        async function convertToInteractive(key) {\n",
              "          const element = document.querySelector('#df-0d889619-770f-4789-8e72-5c1dd718fdfa');\n",
              "          const dataTable =\n",
              "            await google.colab.kernel.invokeFunction('convertToInteractive',\n",
              "                                                     [key], {});\n",
              "          if (!dataTable) return;\n",
              "\n",
              "          const docLinkHtml = 'Like what you see? Visit the ' +\n",
              "            '<a target=\"_blank\" href=https://colab.research.google.com/notebooks/data_table.ipynb>data table notebook</a>'\n",
              "            + ' to learn more about interactive tables.';\n",
              "          element.innerHTML = '';\n",
              "          dataTable['output_type'] = 'display_data';\n",
              "          await google.colab.output.renderOutput(dataTable, element);\n",
              "          const docLink = document.createElement('div');\n",
              "          docLink.innerHTML = docLinkHtml;\n",
              "          element.appendChild(docLink);\n",
              "        }\n",
              "      </script>\n",
              "    </div>\n",
              "  </div>\n",
              "  "
            ]
          },
          "metadata": {},
          "execution_count": 19
        }
      ],
      "source": [
        "# What are the bottom 5 chapters with the lowest lemma_rate?\n",
        "mg_chapters.sort_values('lemma_rate', ascending=True).head()"
      ]
    },
    {
      "cell_type": "markdown",
      "metadata": {
        "id": "b77P9KQKwlfr"
      },
      "source": [
        "Now let's one-hot encode the semantic domains by chapter, and then do a simple cosine similarity between the chapters based on semantic domains. This next block can take around 30 seconds on Colab to run. "
      ]
    },
    {
      "cell_type": "code",
      "execution_count": null,
      "metadata": {
        "id": "zHD-e1e8wlfr"
      },
      "outputs": [],
      "source": [
        "# Get all the unique domains in the MACULA Greek data set\n",
        "all_unique_domains = mg['ln'].unique()\n",
        "\n",
        "# Create a one-hot encoding for each chapter's domains\n",
        "mg_chapters['one_hot_domains'] = mg_chapters['ln'].apply(lambda x: [1 if domain in x else 0 for domain in all_unique_domains])"
      ]
    },
    {
      "cell_type": "markdown",
      "metadata": {
        "id": "h2ZW7fNVwlfs"
      },
      "source": [
        "## Cluster the chapters based on semantic domain similarity."
      ]
    },
    {
      "cell_type": "code",
      "execution_count": null,
      "metadata": {
        "id": "bEDhoO47wlfs",
        "colab": {
          "base_uri": "https://localhost:8080/"
        },
        "outputId": "2914e0dc-704f-40ef-d84a-967e8186fede"
      },
      "outputs": [
        {
          "output_type": "stream",
          "name": "stdout",
          "text": [
            "Looking in indexes: https://pypi.org/simple, https://us-python.pkg.dev/colab-wheels/public/simple/\n",
            "Collecting sklearn\n",
            "  Downloading sklearn-0.0.post1.tar.gz (3.6 kB)\n",
            "  Preparing metadata (setup.py) ... \u001b[?25l\u001b[?25hdone\n",
            "Building wheels for collected packages: sklearn\n",
            "  Building wheel for sklearn (setup.py) ... \u001b[?25l\u001b[?25hdone\n",
            "  Created wheel for sklearn: filename=sklearn-0.0.post1-py3-none-any.whl size=2955 sha256=d8cb4f1a97d6679ad77373a66bf44758dec27c69067262d7c0571c9ae4e6a8bc\n",
            "  Stored in directory: /root/.cache/pip/wheels/f8/e0/3d/9d0c2020c44a519b9f02ab4fa6d2a4a996c98d79ab2f569fa1\n",
            "Successfully built sklearn\n",
            "Installing collected packages: sklearn\n",
            "Successfully installed sklearn-0.0.post1\n"
          ]
        }
      ],
      "source": [
        "# Identify every chapter's similarity to every other chapter by comparing\n",
        "# the one-hot encodings of their domains using the cosine similarity metric\n",
        "\n",
        "!pip install sklearn\n",
        "from sklearn.metrics.pairwise import cosine_similarity"
      ]
    },
    {
      "cell_type": "code",
      "execution_count": null,
      "metadata": {
        "id": "XmQUn46Uwlfs",
        "colab": {
          "base_uri": "https://localhost:8080/",
          "height": 345
        },
        "outputId": "ffd766d0-6f95-49ce-96f7-aefa4ecfe0fa"
      },
      "outputs": [
        {
          "output_type": "stream",
          "name": "stdout",
          "text": [
            "0.013565948792607994 1.0000000000000036\n"
          ]
        },
        {
          "output_type": "execute_result",
          "data": {
            "text/plain": [
              "book_chapter       1CO 1      1CO 10      1CO 11      1CO 12      1CO 13  \\\n",
              "book_chapter                                                               \n",
              "1CO 1         100.000000   28.485122   27.455454   26.030841   12.390308   \n",
              "1CO 10         28.485122  100.000000   29.586648   25.750995   14.944468   \n",
              "1CO 11         27.455454   29.586648  100.000000   26.836045   15.686274   \n",
              "1CO 12         26.030841   25.750995   26.836045  100.000000   16.354249   \n",
              "1CO 13         12.390308   14.944468   15.686274   16.354249  100.000000   \n",
              "\n",
              "book_chapter     1CO 14     1CO 15     1CO 16      1CO 2      1CO 3  ...  \\\n",
              "book_chapter                                                         ...   \n",
              "1CO 1         22.045578  27.037540  24.061111  29.953573  30.521803  ...   \n",
              "1CO 10        27.968889  24.031820  21.054837  24.389119  25.399683  ...   \n",
              "1CO 11        28.442182  31.352502  26.101606  27.692244  27.184679  ...   \n",
              "1CO 12        28.961251  26.226612  23.601655  26.614777  26.419843  ...   \n",
              "1CO 13        21.825270  16.535538  16.116947  21.195025  20.720563  ...   \n",
              "\n",
              "book_chapter      ROM 3      ROM 4      ROM 5      ROM 6      ROM 7  \\\n",
              "book_chapter                                                          \n",
              "1CO 1         23.299472  22.794547  22.991142  21.436854  23.075601   \n",
              "1CO 10        25.160617  24.537134  21.669102  25.054920  27.085340   \n",
              "1CO 11        23.079372  23.920172  25.214387  24.440265  25.306553   \n",
              "1CO 12        25.191887  22.754031  24.301715  21.328323  25.034866   \n",
              "1CO 13        16.401200  16.037436  15.301353  16.885373  17.120675   \n",
              "\n",
              "book_chapter      ROM 8      ROM 9      TIT 1      TIT 2      TIT 3  \n",
              "book_chapter                                                         \n",
              "1CO 1         24.167412  21.210532  14.795619  11.100846  15.161979  \n",
              "1CO 10        22.448025  23.795705  11.986584  10.054159  11.580941  \n",
              "1CO 11        26.259750  23.795705  14.891331  12.071114  10.963980  \n",
              "1CO 12        22.435501  24.450914  15.034252  13.232679  17.391968  \n",
              "1CO 13        16.318732  14.550059   7.254383   9.610296  11.455150  \n",
              "\n",
              "[5 rows x 260 columns]"
            ],
            "text/html": [
              "\n",
              "  <div id=\"df-2e938ca7-0165-41ec-9f69-652f4f97ad7b\">\n",
              "    <div class=\"colab-df-container\">\n",
              "      <div>\n",
              "<style scoped>\n",
              "    .dataframe tbody tr th:only-of-type {\n",
              "        vertical-align: middle;\n",
              "    }\n",
              "\n",
              "    .dataframe tbody tr th {\n",
              "        vertical-align: top;\n",
              "    }\n",
              "\n",
              "    .dataframe thead th {\n",
              "        text-align: right;\n",
              "    }\n",
              "</style>\n",
              "<table border=\"1\" class=\"dataframe\">\n",
              "  <thead>\n",
              "    <tr style=\"text-align: right;\">\n",
              "      <th>book_chapter</th>\n",
              "      <th>1CO 1</th>\n",
              "      <th>1CO 10</th>\n",
              "      <th>1CO 11</th>\n",
              "      <th>1CO 12</th>\n",
              "      <th>1CO 13</th>\n",
              "      <th>1CO 14</th>\n",
              "      <th>1CO 15</th>\n",
              "      <th>1CO 16</th>\n",
              "      <th>1CO 2</th>\n",
              "      <th>1CO 3</th>\n",
              "      <th>...</th>\n",
              "      <th>ROM 3</th>\n",
              "      <th>ROM 4</th>\n",
              "      <th>ROM 5</th>\n",
              "      <th>ROM 6</th>\n",
              "      <th>ROM 7</th>\n",
              "      <th>ROM 8</th>\n",
              "      <th>ROM 9</th>\n",
              "      <th>TIT 1</th>\n",
              "      <th>TIT 2</th>\n",
              "      <th>TIT 3</th>\n",
              "    </tr>\n",
              "    <tr>\n",
              "      <th>book_chapter</th>\n",
              "      <th></th>\n",
              "      <th></th>\n",
              "      <th></th>\n",
              "      <th></th>\n",
              "      <th></th>\n",
              "      <th></th>\n",
              "      <th></th>\n",
              "      <th></th>\n",
              "      <th></th>\n",
              "      <th></th>\n",
              "      <th></th>\n",
              "      <th></th>\n",
              "      <th></th>\n",
              "      <th></th>\n",
              "      <th></th>\n",
              "      <th></th>\n",
              "      <th></th>\n",
              "      <th></th>\n",
              "      <th></th>\n",
              "      <th></th>\n",
              "      <th></th>\n",
              "    </tr>\n",
              "  </thead>\n",
              "  <tbody>\n",
              "    <tr>\n",
              "      <th>1CO 1</th>\n",
              "      <td>100.000000</td>\n",
              "      <td>28.485122</td>\n",
              "      <td>27.455454</td>\n",
              "      <td>26.030841</td>\n",
              "      <td>12.390308</td>\n",
              "      <td>22.045578</td>\n",
              "      <td>27.037540</td>\n",
              "      <td>24.061111</td>\n",
              "      <td>29.953573</td>\n",
              "      <td>30.521803</td>\n",
              "      <td>...</td>\n",
              "      <td>23.299472</td>\n",
              "      <td>22.794547</td>\n",
              "      <td>22.991142</td>\n",
              "      <td>21.436854</td>\n",
              "      <td>23.075601</td>\n",
              "      <td>24.167412</td>\n",
              "      <td>21.210532</td>\n",
              "      <td>14.795619</td>\n",
              "      <td>11.100846</td>\n",
              "      <td>15.161979</td>\n",
              "    </tr>\n",
              "    <tr>\n",
              "      <th>1CO 10</th>\n",
              "      <td>28.485122</td>\n",
              "      <td>100.000000</td>\n",
              "      <td>29.586648</td>\n",
              "      <td>25.750995</td>\n",
              "      <td>14.944468</td>\n",
              "      <td>27.968889</td>\n",
              "      <td>24.031820</td>\n",
              "      <td>21.054837</td>\n",
              "      <td>24.389119</td>\n",
              "      <td>25.399683</td>\n",
              "      <td>...</td>\n",
              "      <td>25.160617</td>\n",
              "      <td>24.537134</td>\n",
              "      <td>21.669102</td>\n",
              "      <td>25.054920</td>\n",
              "      <td>27.085340</td>\n",
              "      <td>22.448025</td>\n",
              "      <td>23.795705</td>\n",
              "      <td>11.986584</td>\n",
              "      <td>10.054159</td>\n",
              "      <td>11.580941</td>\n",
              "    </tr>\n",
              "    <tr>\n",
              "      <th>1CO 11</th>\n",
              "      <td>27.455454</td>\n",
              "      <td>29.586648</td>\n",
              "      <td>100.000000</td>\n",
              "      <td>26.836045</td>\n",
              "      <td>15.686274</td>\n",
              "      <td>28.442182</td>\n",
              "      <td>31.352502</td>\n",
              "      <td>26.101606</td>\n",
              "      <td>27.692244</td>\n",
              "      <td>27.184679</td>\n",
              "      <td>...</td>\n",
              "      <td>23.079372</td>\n",
              "      <td>23.920172</td>\n",
              "      <td>25.214387</td>\n",
              "      <td>24.440265</td>\n",
              "      <td>25.306553</td>\n",
              "      <td>26.259750</td>\n",
              "      <td>23.795705</td>\n",
              "      <td>14.891331</td>\n",
              "      <td>12.071114</td>\n",
              "      <td>10.963980</td>\n",
              "    </tr>\n",
              "    <tr>\n",
              "      <th>1CO 12</th>\n",
              "      <td>26.030841</td>\n",
              "      <td>25.750995</td>\n",
              "      <td>26.836045</td>\n",
              "      <td>100.000000</td>\n",
              "      <td>16.354249</td>\n",
              "      <td>28.961251</td>\n",
              "      <td>26.226612</td>\n",
              "      <td>23.601655</td>\n",
              "      <td>26.614777</td>\n",
              "      <td>26.419843</td>\n",
              "      <td>...</td>\n",
              "      <td>25.191887</td>\n",
              "      <td>22.754031</td>\n",
              "      <td>24.301715</td>\n",
              "      <td>21.328323</td>\n",
              "      <td>25.034866</td>\n",
              "      <td>22.435501</td>\n",
              "      <td>24.450914</td>\n",
              "      <td>15.034252</td>\n",
              "      <td>13.232679</td>\n",
              "      <td>17.391968</td>\n",
              "    </tr>\n",
              "    <tr>\n",
              "      <th>1CO 13</th>\n",
              "      <td>12.390308</td>\n",
              "      <td>14.944468</td>\n",
              "      <td>15.686274</td>\n",
              "      <td>16.354249</td>\n",
              "      <td>100.000000</td>\n",
              "      <td>21.825270</td>\n",
              "      <td>16.535538</td>\n",
              "      <td>16.116947</td>\n",
              "      <td>21.195025</td>\n",
              "      <td>20.720563</td>\n",
              "      <td>...</td>\n",
              "      <td>16.401200</td>\n",
              "      <td>16.037436</td>\n",
              "      <td>15.301353</td>\n",
              "      <td>16.885373</td>\n",
              "      <td>17.120675</td>\n",
              "      <td>16.318732</td>\n",
              "      <td>14.550059</td>\n",
              "      <td>7.254383</td>\n",
              "      <td>9.610296</td>\n",
              "      <td>11.455150</td>\n",
              "    </tr>\n",
              "  </tbody>\n",
              "</table>\n",
              "<p>5 rows × 260 columns</p>\n",
              "</div>\n",
              "      <button class=\"colab-df-convert\" onclick=\"convertToInteractive('df-2e938ca7-0165-41ec-9f69-652f4f97ad7b')\"\n",
              "              title=\"Convert this dataframe to an interactive table.\"\n",
              "              style=\"display:none;\">\n",
              "        \n",
              "  <svg xmlns=\"http://www.w3.org/2000/svg\" height=\"24px\"viewBox=\"0 0 24 24\"\n",
              "       width=\"24px\">\n",
              "    <path d=\"M0 0h24v24H0V0z\" fill=\"none\"/>\n",
              "    <path d=\"M18.56 5.44l.94 2.06.94-2.06 2.06-.94-2.06-.94-.94-2.06-.94 2.06-2.06.94zm-11 1L8.5 8.5l.94-2.06 2.06-.94-2.06-.94L8.5 2.5l-.94 2.06-2.06.94zm10 10l.94 2.06.94-2.06 2.06-.94-2.06-.94-.94-2.06-.94 2.06-2.06.94z\"/><path d=\"M17.41 7.96l-1.37-1.37c-.4-.4-.92-.59-1.43-.59-.52 0-1.04.2-1.43.59L10.3 9.45l-7.72 7.72c-.78.78-.78 2.05 0 2.83L4 21.41c.39.39.9.59 1.41.59.51 0 1.02-.2 1.41-.59l7.78-7.78 2.81-2.81c.8-.78.8-2.07 0-2.86zM5.41 20L4 18.59l7.72-7.72 1.47 1.35L5.41 20z\"/>\n",
              "  </svg>\n",
              "      </button>\n",
              "      \n",
              "  <style>\n",
              "    .colab-df-container {\n",
              "      display:flex;\n",
              "      flex-wrap:wrap;\n",
              "      gap: 12px;\n",
              "    }\n",
              "\n",
              "    .colab-df-convert {\n",
              "      background-color: #E8F0FE;\n",
              "      border: none;\n",
              "      border-radius: 50%;\n",
              "      cursor: pointer;\n",
              "      display: none;\n",
              "      fill: #1967D2;\n",
              "      height: 32px;\n",
              "      padding: 0 0 0 0;\n",
              "      width: 32px;\n",
              "    }\n",
              "\n",
              "    .colab-df-convert:hover {\n",
              "      background-color: #E2EBFA;\n",
              "      box-shadow: 0px 1px 2px rgba(60, 64, 67, 0.3), 0px 1px 3px 1px rgba(60, 64, 67, 0.15);\n",
              "      fill: #174EA6;\n",
              "    }\n",
              "\n",
              "    [theme=dark] .colab-df-convert {\n",
              "      background-color: #3B4455;\n",
              "      fill: #D2E3FC;\n",
              "    }\n",
              "\n",
              "    [theme=dark] .colab-df-convert:hover {\n",
              "      background-color: #434B5C;\n",
              "      box-shadow: 0px 1px 3px 1px rgba(0, 0, 0, 0.15);\n",
              "      filter: drop-shadow(0px 1px 2px rgba(0, 0, 0, 0.3));\n",
              "      fill: #FFFFFF;\n",
              "    }\n",
              "  </style>\n",
              "\n",
              "      <script>\n",
              "        const buttonEl =\n",
              "          document.querySelector('#df-2e938ca7-0165-41ec-9f69-652f4f97ad7b button.colab-df-convert');\n",
              "        buttonEl.style.display =\n",
              "          google.colab.kernel.accessAllowed ? 'block' : 'none';\n",
              "\n",
              "        async function convertToInteractive(key) {\n",
              "          const element = document.querySelector('#df-2e938ca7-0165-41ec-9f69-652f4f97ad7b');\n",
              "          const dataTable =\n",
              "            await google.colab.kernel.invokeFunction('convertToInteractive',\n",
              "                                                     [key], {});\n",
              "          if (!dataTable) return;\n",
              "\n",
              "          const docLinkHtml = 'Like what you see? Visit the ' +\n",
              "            '<a target=\"_blank\" href=https://colab.research.google.com/notebooks/data_table.ipynb>data table notebook</a>'\n",
              "            + ' to learn more about interactive tables.';\n",
              "          element.innerHTML = '';\n",
              "          dataTable['output_type'] = 'display_data';\n",
              "          await google.colab.output.renderOutput(dataTable, element);\n",
              "          const docLink = document.createElement('div');\n",
              "          docLink.innerHTML = docLinkHtml;\n",
              "          element.appendChild(docLink);\n",
              "        }\n",
              "      </script>\n",
              "    </div>\n",
              "  </div>\n",
              "  "
            ]
          },
          "metadata": {},
          "execution_count": 22
        }
      ],
      "source": [
        "# Create a new data frame with the cosine similarity values\n",
        "chapter_sims = pd.DataFrame(cosine_similarity(mg_chapters['one_hot_domains'].tolist()), index=mg_chapters.index, columns=mg_chapters.index)\n",
        "\n",
        "# Let's also normalize these similarities on a 0–100 scale:\n",
        "\n",
        "# Find the minimum and maximum values\n",
        "min_val = chapter_sims.min().min() # the minimum value of all the minimum column values\n",
        "max_val = chapter_sims.max().max() # same for maximum\n",
        "print(min_val, max_val)\n",
        "\n",
        "# Normalize the data frame\n",
        "chapter_sims_norm = chapter_sims.applymap(lambda x: ((x - min_val) / (max_val - min_val)) * 100)\n",
        "\n",
        "chapter_sims_norm.head()\n"
      ]
    },
    {
      "cell_type": "markdown",
      "source": [
        "Now, let's return to our imagined scenario, where we have Revelation 13, 1 John 4-5, and John 6 and 8 aligned, and we want to move on to the next-most-similar chapters."
      ],
      "metadata": {
        "id": "MkrA9Gho7cVO"
      }
    },
    {
      "cell_type": "code",
      "source": [
        "!pip install plotly\n",
        "!pip install networkx\n",
        "import plotly.graph_objects as go\n",
        "import networkx as nx"
      ],
      "metadata": {
        "id": "aN6Pg5MPBtqy",
        "colab": {
          "base_uri": "https://localhost:8080/"
        },
        "outputId": "761bcf26-748a-4319-ef05-999b1ac970f5"
      },
      "execution_count": null,
      "outputs": [
        {
          "output_type": "stream",
          "name": "stdout",
          "text": [
            "Looking in indexes: https://pypi.org/simple, https://us-python.pkg.dev/colab-wheels/public/simple/\n",
            "Requirement already satisfied: plotly in /usr/local/lib/python3.9/dist-packages (5.5.0)\n",
            "Requirement already satisfied: tenacity>=6.2.0 in /usr/local/lib/python3.9/dist-packages (from plotly) (8.2.2)\n",
            "Requirement already satisfied: six in /usr/local/lib/python3.9/dist-packages (from plotly) (1.15.0)\n",
            "Looking in indexes: https://pypi.org/simple, https://us-python.pkg.dev/colab-wheels/public/simple/\n",
            "Requirement already satisfied: networkx in /usr/local/lib/python3.9/dist-packages (3.0)\n"
          ]
        }
      ]
    },
    {
      "cell_type": "code",
      "source": [
        "# Let's set the threshold for what counts as \"similar\" chapters in semantic domains\n",
        "threshold = 0 # percentage value\n",
        "\n",
        "# Create a new data frame subset based on your selected book\n",
        "\n",
        "# Instantiate a graph\n",
        "graph = nx.Graph()"
      ],
      "metadata": {
        "id": "rsWAGodVDfuA"
      },
      "execution_count": null,
      "outputs": []
    },
    {
      "cell_type": "code",
      "source": [
        "### Populate graph nodes\n",
        "\n",
        "# Let's decide which chapter we want to query\n",
        "ch_query = 'REV 13'\n",
        "\n",
        "# Add nodes for each book in the query\n",
        "for ch in chapter_sims_norm.index:\n",
        "    if ch in ch_query:\n",
        "        graph.add_node(ch)\n",
        "\n",
        "# ### Populate graph edges\n",
        "\n",
        "n = 3  # number of top-n values to keep\n",
        "\n",
        "# Create a dictionary to store the top-n values for each node\n",
        "top_n = {ch: [] for ch in chapter_sims_norm.index}\n",
        "\n",
        "# Loop through the matrix and keep track of the top-n values for each node\n",
        "for i, ch1 in enumerate(chapter_sims_norm.index):\n",
        "    for j, ch2 in enumerate(chapter_sims_norm.columns):\n",
        "        if not i == j:\n",
        "            similarity = chapter_sims_norm.loc[ch1, ch2]\n",
        "            if similarity >= threshold:\n",
        "                top_n[ch1].append((similarity, ch2))\n",
        "                top_n[ch2].append((similarity, ch1))\n",
        "\n",
        "# Sort the top-n values for each node and keep only the top-n values\n",
        "for ch in top_n:\n",
        "    top_n[ch] = sorted(top_n[ch], reverse=True)[:n]\n",
        "\n",
        "# Add edges for the top-n values for each node\n",
        "for ch in top_n:\n",
        "    for similarity, ch2 in top_n[ch]:\n",
        "        graph.add_edge(ch, ch2, weight=similarity)\n"
      ],
      "metadata": {
        "id": "_YqnIvA1F-Lz"
      },
      "execution_count": null,
      "outputs": []
    },
    {
      "cell_type": "code",
      "source": [
        "for ch, sim_list in top_n.items():\n",
        "    print(sorted(sim_list, key=lambda x: x[1]))\n",
        "    break\n",
        "    top_n[ch] = sim_list[:n]"
      ],
      "metadata": {
        "id": "40kFHkyTnpfA",
        "colab": {
          "base_uri": "https://localhost:8080/"
        },
        "outputId": "1fcc1cb6-d315-4ef6-9500-7e0fa42cf632"
      },
      "execution_count": null,
      "outputs": [
        {
          "output_type": "stream",
          "name": "stdout",
          "text": [
            "[(30.521803423673443, '1CO 3'), (30.521803423673443, '1CO 3'), (30.38733767338671, '2CO 1')]\n"
          ]
        }
      ]
    },
    {
      "cell_type": "code",
      "source": [
        "# Draw edges on graph\n",
        "positions = nx.spring_layout(graph)\n",
        "\n",
        "edge_x = []\n",
        "edge_y = []\n",
        "for edge in graph.edges():\n",
        "    x0, y0 = positions[edge[0]]\n",
        "    x1, y1 = positions[edge[1]]\n",
        "    edge_x.append(x0)\n",
        "    edge_x.append(x1)\n",
        "    edge_x.append(None)\n",
        "    edge_y.append(y0)\n",
        "    edge_y.append(y1)\n",
        "    edge_y.append(None)\n",
        "\n",
        "edge_trace = go.Scatter(\n",
        "    x=edge_x, y=edge_y,\n",
        "    line=dict(width=0.5, color='#888'),\n",
        "    hoverinfo='none',\n",
        "    mode='lines')\n",
        "\n",
        "# Draw nodes on graph\n",
        "\n",
        "node_x = []\n",
        "node_y = []\n",
        "for node in graph.nodes():\n",
        "    x, y = positions[node]\n",
        "    node_x.append(x)\n",
        "    node_y.append(y)\n",
        "\n",
        "node_trace = go.Scatter(\n",
        "    x=node_x, y=node_y,\n",
        "    mode='markers+text',\n",
        "    hoverinfo='text',\n",
        "    marker=dict(\n",
        "        showscale=True,\n",
        "        # colorscale options\n",
        "        #'Greys' | 'YlGnBu' | 'Greens' | 'YlOrRd' | 'Bluered' | 'RdBu' |\n",
        "        #'Reds' | 'Blues' | 'Picnic' | 'Rainbow' | 'Portland' | 'Jet' |\n",
        "        #'Hot' | 'Blackbody' | 'Earth' | 'Electric' | 'Viridis' |\n",
        "        colorscale='YlGnBu',\n",
        "        reversescale=True,\n",
        "        color=[],\n",
        "        size=20,\n",
        "        colorbar=dict(\n",
        "            thickness=15,\n",
        "            title='Node Connections',\n",
        "            xanchor='left',\n",
        "            titleside='right'\n",
        "        ),\n",
        "        line_width=2))"
      ],
      "metadata": {
        "id": "tO8pqPU5E536"
      },
      "execution_count": null,
      "outputs": []
    },
    {
      "cell_type": "code",
      "source": [
        "# Color nodes\n",
        "\n",
        "node_adjacencies = []\n",
        "node_text = []\n",
        "for node, adjacencies in enumerate(graph.adjacency()):\n",
        "    node_adjacencies.append(len(adjacencies[1]))\n",
        "    node_text.append(adjacencies[0] + ': # of connections: '+str(len(adjacencies[1])))\n",
        "\n",
        "node_trace.marker.color = node_adjacencies\n",
        "node_trace.text = node_text"
      ],
      "metadata": {
        "id": "eoqlevwEIgsz"
      },
      "execution_count": null,
      "outputs": []
    },
    {
      "cell_type": "code",
      "source": [
        "# Display the graph\n",
        "\n",
        "fig = go.Figure(data=[edge_trace, node_trace],\n",
        "             layout=go.Layout(\n",
        "                title='<br>Network graph made with Python',\n",
        "                titlefont_size=16,\n",
        "                showlegend=False,\n",
        "                hovermode='closest',\n",
        "                margin=dict(b=20,l=5,r=5,t=40),\n",
        "                annotations=[ dict(\n",
        "                    text=\"Python code: <a href='https://plotly.com/ipython-notebooks/network-graphs/'> https://plotly.com/ipython-notebooks/network-graphs/</a>\",\n",
        "                    showarrow=False,\n",
        "                    xref=\"paper\", yref=\"paper\",\n",
        "                    x=0.005, y=-0.002 ) ],\n",
        "                xaxis=dict(showgrid=False, zeroline=False, showticklabels=False),\n",
        "                yaxis=dict(showgrid=False, zeroline=False, showticklabels=False))\n",
        "                )\n",
        "fig.show()"
      ],
      "metadata": {
        "id": "zTBGT7vsIuAX",
        "colab": {
          "base_uri": "https://localhost:8080/",
          "height": 542
        },
        "outputId": "6de2739a-9c0e-4bc5-af85-f4eeb2aab9bd"
      },
      "execution_count": null,
      "outputs": [
        {
          "output_type": "display_data",
          "data": {
            "text/html": [
              "<html>\n",
              "<head><meta charset=\"utf-8\" /></head>\n",
              "<body>\n",
              "    <div>            <script src=\"https://cdnjs.cloudflare.com/ajax/libs/mathjax/2.7.5/MathJax.js?config=TeX-AMS-MML_SVG\"></script><script type=\"text/javascript\">if (window.MathJax) {MathJax.Hub.Config({SVG: {font: \"STIX-Web\"}});}</script>                <script type=\"text/javascript\">window.PlotlyConfig = {MathJaxConfig: 'local'};</script>\n",
              "        <script src=\"https://cdn.plot.ly/plotly-2.8.3.min.js\"></script>                <div id=\"e3e08f62-b980-44ec-9a0a-cee60888231e\" class=\"plotly-graph-div\" style=\"height:525px; width:100%;\"></div>            <script type=\"text/javascript\">                                    window.PLOTLYENV=window.PLOTLYENV || {};                                    if (document.getElementById(\"e3e08f62-b980-44ec-9a0a-cee60888231e\")) {                    Plotly.newPlot(                        \"e3e08f62-b980-44ec-9a0a-cee60888231e\",                        [{\"hoverinfo\":\"none\",\"line\":{\"color\":\"#888\",\"width\":0.5},\"mode\":\"lines\",\"x\":[0.9552999802323117,0.9687466482896196,null,0.9552999802323117,0.9019020025281921,null,0.9552999802323117,0.9999999999999999,null,0.9552999802323117,0.9897316438689584,null,0.9157723778263235,0.8774440364769983,null,0.9157723778263235,0.8772425926199103,null,0.1362827305267113,0.08843201384345266,null,0.1362827305267113,0.11657913399672568,null,0.08843201384345266,0.04646281556179068,null,0.08843201384345266,0.09086121049295609,null,0.08843201384345266,0.055916745448746134,null,0.08843201384345266,0.098293990608412,null,0.11657913399672568,0.08558660118454715,null,0.11657913399672568,0.14405952587408888,null,0.11657913399672568,-0.01545479724369979,null,0.11657913399672568,0.25115457327171004,null,0.11657913399672568,0.1437616817767355,null,0.11657913399672568,0.17728485977279207,null,0.11657913399672568,0.12873710791691628,null,0.11657913399672568,0.21479260882833923,null,0.11657913399672568,0.1382792557050979,null,0.11657913399672568,0.03744848231977054,null,0.11657913399672568,0.05214494723784596,null,0.11657913399672568,-0.06614385195519047,null,0.11657913399672568,0.08230114187805664,null,0.11657913399672568,0.17245653998737137,null,0.11657913399672568,0.10547843381540101,null,0.11657913399672568,0.21494076647196722,null,0.11657913399672568,0.15766904852565972,null,0.08405154737440483,0.09086121049295609,null,0.08405154737440483,0.036521934922920815,null,0.09086121049295609,0.15854281022239686,null,0.09086121049295609,0.015056261434569061,null,0.036521934922920815,0.10151200763657674,null,0.036521934922920815,0.10596668827851721,null,0.036521934922920815,-0.03918437248433018,null,0.036521934922920815,0.016416541423770546,null,0.15700203933746726,0.10151200763657674,null,0.15700203933746726,0.1437616817767355,null,0.1437616817767355,0.14405952587408888,null,0.1437616817767355,0.24249786461605227,null,0.1437616817767355,0.12873710791691628,null,0.1437616817767355,0.21479260882833923,null,0.1437616817767355,0.1681476128214417,null,0.1437616817767355,0.20227613698054844,null,0.1437616817767355,0.28179952635148503,null,0.1437616817767355,0.07204811645444513,null,0.1437616817767355,0.010941292598778686,null,0.1437616817767355,0.16195735289797145,null,0.1437616817767355,0.07118812986484449,null,0.1437616817767355,0.17245653998737137,null,0.03919967837906931,-0.031159923214225452,null,0.03919967837906931,-0.024960570512592824,null,0.03919967837906931,0.16229607947025895,null,-0.031159923214225452,-0.03330657748978564,null,-0.031159923214225452,-0.00756256189953802,null,-0.031159923214225452,-0.10059796534263028,null,-0.031159923214225452,-0.008338563108177276,null,-0.031159923214225452,-0.005173496920277382,null,-0.031159923214225452,-0.04788051929924048,null,-0.031159923214225452,-0.07032819863473151,null,-0.024960570512592824,0.04646281556179068,null,-0.024960570512592824,0.03051645494810054,null,-0.024960570512592824,-0.12409862104416185,null,-0.024960570512592824,-0.10807652955097384,null,-0.024960570512592824,0.05214494723784596,null,-0.024960570512592824,-0.03330657748978564,null,-0.024960570512592824,-0.03199530674634295,null,-0.024960570512592824,0.016416541423770546,null,-0.024960570512592824,-0.00948382045736814,null,-0.024960570512592824,-0.0025999085136414303,null,-0.024960570512592824,-0.04788051929924048,null,-0.024960570512592824,-0.11269947208860413,null,0.15854281022239686,0.12873710791691628,null,0.12873710791691628,0.005088121675163547,null,0.12873710791691628,0.2230563641954201,null,0.12873710791691628,0.1983111752609072,null,0.08558660118454715,0.04646281556179068,null,0.04646281556179068,0.03051645494810054,null,0.14405952587408888,0.15766904852565972,null,0.29550405105573213,0.34972586672700856,null,0.29550405105573213,0.21479260882833923,null,0.34972586672700856,0.30311070347417596,null,0.21479260882833923,0.2664820253751229,null,0.21479260882833923,0.2547984592527346,null,0.21479260882833923,0.2927189840298951,null,0.21479260882833923,0.23982324994979562,null,0.21479260882833923,0.17728485977279207,null,0.30311070347417596,0.2927189840298951,null,0.30311070347417596,0.21494076647196722,null,0.005088121675163547,-0.11690668753625967,null,-0.11690668753625967,-0.10807652955097384,null,-0.11690668753625967,-0.20504263506687528,null,-0.11690668753625967,-0.1476074104300688,null,0.055916745448746134,0.015056261434569061,null,0.015056261434569061,-0.06995219615067527,null,0.09943059551277142,0.10429715424756447,null,0.09943059551277142,0.09540048970293202,null,0.10429715424756447,0.09540048970293202,null,0.10429715424756447,0.11124151114737141,null,0.10429715424756447,0.12122913840024231,null,0.10429715424756447,0.11996471876359412,null,0.09540048970293202,0.11124151114737141,null,0.11124151114737141,0.12122913840024231,null,0.11124151114737141,0.11996471876359412,null,-0.01545479724369979,-0.13971339962658247,null,-0.01545479724369979,-0.061245293517503,null,-0.13971339962658247,-0.20953797536789293,null,-0.13971339962658247,-0.17830522022597906,null,-0.16451615590653815,-0.19364043622910368,null,-0.16451615590653815,-0.11269947208860413,null,-0.16451615590653815,-0.15026821247719294,null,-0.19364043622910368,-0.2552303690963533,null,-0.19364043622910368,-0.10325047033394677,null,-0.11269947208860413,-0.14343593162301038,null,-0.15026821247719294,-0.06995219615067527,null,-0.06995219615067527,-0.11523200476392337,null,-0.06995219615067527,-0.04915617422031615,null,-0.06995219615067527,-0.09098880990819883,null,-0.061245293517503,-0.10883021228553322,null,-0.10883021228553322,-0.17830522022597906,null,-0.10883021228553322,-0.04915617422031615,null,0.32458678172171196,0.34778363793176753,null,0.32458678172171196,0.2230563641954201,null,0.34778363793176753,0.28179952635148503,null,0.34778363793176753,0.3446010770094448,null,0.2230563641954201,0.16229607947025895,null,0.2230563641954201,0.21572944936034746,null,0.2230563641954201,0.3041890520717568,null,0.25115457327171004,0.2958858316243668,null,0.25115457327171004,0.24139143496891624,null,0.25115457327171004,0.35383295197368664,null,0.25115457327171004,0.28179952635148503,null,0.2958858316243668,0.24249786461605227,null,0.2958858316243668,0.3041890520717568,null,0.24139143496891624,0.16229607947025895,null,0.21572944936034746,0.16195735289797145,null,0.28179952635148503,0.3948449136360835,null,0.3446010770094448,0.41235588183383404,null,0.3446010770094448,0.39464773467609904,null,0.3446010770094448,0.2266193464455241,null,0.41235588183383404,0.39464773467609904,null,0.41235588183383404,0.4416228558869236,null,0.4698202380737744,0.3948449136360835,null,0.4698202380737744,0.4416228558869236,null,0.3948449136360835,0.4416228558869236,null,0.2266193464455241,0.098293990608412,null,0.098293990608412,0.016416541423770546,null,0.098293990608412,0.08700903798677691,null,0.098293990608412,0.04133891614368571,null,0.17728485977279207,0.23982324994979562,null,0.17728485977279207,0.20227613698054844,null,0.17728485977279207,0.10596668827851721,null,0.17728485977279207,0.21494076647196722,null,0.1983111752609072,0.21494076647196722,null,0.2664820253751229,0.2547984592527346,null,0.1382792557050979,0.1681476128214417,null,0.03744848231977054,-0.04915617422031615,null,-0.04915617422031615,-0.09098880990819883,null,0.11996471876359412,0.14301340214197944,null,0.35383295197368664,0.4329364387144856,null,0.4329364387144856,0.4913380023721494,null,0.4329364387144856,0.48752940585278487,null,0.4913380023721494,0.48752940585278487,null,0.16195735289797145,0.14301340214197944,null,0.16195735289797145,0.11727948210599927,null,-0.12409862104416185,-0.19116976932142196,null,-0.19116976932142196,-0.1476074104300688,null,-0.1476074104300688,-0.10059796534263028,null,-0.36995288105576685,-0.4732301001546511,null,-0.36995288105576685,-0.2595616044030423,null,-0.4732301001546511,-0.5273211800608226,null,-0.4732301001546511,-0.47255790415160287,null,-0.4732301001546511,-0.503348941965345,null,-0.4732301001546511,-0.38246410282582144,null,-0.4732301001546511,-0.5846402383896447,null,-0.2595616044030423,-0.11936881258240646,null,-0.2595616044030423,-0.36772032987561826,null,-0.5273211800608226,-0.47255790415160287,null,-0.5273211800608226,-0.6097234688369254,null,-0.5273211800608226,-0.584279458592185,null,-0.5273211800608226,-0.4395967292874797,null,-0.5273211800608226,-0.5874096045185813,null,-0.47255790415160287,-0.503348941965345,null,-0.47255790415160287,-0.3894814301910162,null,-0.47255790415160287,-0.45199425959403966,null,-0.47255790415160287,-0.5058189948340637,null,-0.3894814301910162,-0.45199425959403966,null,-0.3894814301910162,-0.44280310260858674,null,-0.3894814301910162,-0.2749791996828912,null,-0.45199425959403966,-0.44280310260858674,null,-0.45199425959403966,-0.5058189948340637,null,-0.6097234688369254,-0.5846402383896447,null,-0.6097234688369254,-0.6896729331269446,null,-0.5846402383896447,-0.6562984490030181,null,-0.5846402383896447,-0.6438054157770697,null,-0.5846402383896447,-0.6686901191638355,null,-0.5846402383896447,-0.584279458592185,null,-0.7628284586718217,-0.6896729331269446,null,-0.7628284586718217,-0.7902416025033387,null,-0.6896729331269446,-0.6562984490030181,null,-0.7902416025033387,-0.7410947933510762,null,-0.7902416025033387,-0.7627670198119602,null,-0.6562984490030181,-0.6438054157770697,null,-0.38246410282582144,-0.343370286921526,null,-0.38246410282582144,-0.312903483514654,null,-0.343370286921526,-0.22630936760624226,null,-0.343370286921526,-0.4395967292874797,null,-0.6522564652300094,-0.5874096045185813,null,-0.6522564652300094,-0.7064668184286323,null,-0.7064668184286323,-0.7627670198119602,null,-0.7410947933510762,-0.7627670198119602,null,-0.7410947933510762,-0.6686901191638355,null,-0.22630936760624226,-0.10053704970413707,null,-0.10053704970413707,-0.17069203777532974,null,-0.10053704970413707,-0.04813009450192303,null,-0.10053704970413707,-0.05678601993290698,null,-0.10053704970413707,-0.027622303475060214,null,-0.10053704970413707,-0.021992456604187294,null,-0.10053704970413707,-0.11549655869766236,null,-0.2749791996828912,-0.18311957915908092,null,-0.2749791996828912,-0.33428811941750863,null,-0.2749791996828912,-0.27980984541817655,null,-0.2749791996828912,-0.2656962605186722,null,-0.18311957915908092,-0.15657870783661268,null,-0.18311957915908092,-0.1561758624155468,null,-0.18311957915908092,-0.10913215710589227,null,-0.20953797536789293,-0.17830522022597906,null,-0.20953797536789293,-0.16700929992612243,null,-0.20953797536789293,-0.13485044966656792,null,-0.20953797536789293,-0.312903483514654,null,-0.16700929992612243,-0.09098880990819883,null,-0.09098880990819883,-0.03918437248433018,null,-0.036079635509313084,-0.13485044966656792,null,-0.036079635509313084,0.07204811645444513,null,0.07204811645444513,0.11727948210599927,null,0.07204811645444513,0.10547843381540101,null,0.010941292598778686,-0.10325047033394677,null,-0.10325047033394677,-0.11523200476392337,null,-0.10325047033394677,-0.08461527994328112,null,-0.11523200476392337,-0.10910602694455512,null,-0.11523200476392337,-0.14343593162301038,null,-0.08461527994328112,-0.04788051929924048,null,-0.04788051929924048,-0.03367817436785675,null,-0.04788051929924048,-0.008338563108177276,null,-0.04788051929924048,-0.07032819863473151,null,-0.20504263506687528,-0.2613408648289707,null,-0.2613408648289707,-0.2552303690963533,null,-0.32073406682235833,-0.38648987603733675,null,-0.32073406682235833,-0.24157916332922472,null,-0.38648987603733675,-0.42885016741964493,null,-0.38648987603733675,-0.44587583888897614,null,-0.38648987603733675,-0.33161636516287424,null,-0.24157916332922472,-0.2359926756504242,null,-0.24157916332922472,-0.12617245341876002,null,-0.24157916332922472,-0.29137260806083043,null,-0.24157916332922472,-0.2739201107305846,null,-0.2327032990263254,-0.31566133899371634,null,-0.2327032990263254,-0.06614385195519047,null,-0.2327032990263254,-0.27980984541817655,null,-0.2327032990263254,-0.33161636516287424,null,-0.2327032990263254,-0.2656962605186722,null,-0.31566133899371634,-0.38911656094940905,null,-0.33428811941750863,-0.388383664866293,null,-0.388383664866293,-0.42885016741964493,null,-0.388383664866293,-0.38911656094940905,null,-0.42885016741964493,-0.44587583888897614,null,0.016416541423770546,0.04133891614368571,null,0.016416541423770546,-0.0025999085136414303,null,0.016416541423770546,-0.00948382045736814,null,0.016416541423770546,0.07118812986484449,null,-0.10910602694455512,-0.03918437248433018,null,0.08700903798677691,0.10596668827851721,null,-0.10953494457505011,-0.10059796534263028,null,-0.10953494457505011,-0.07032819863473151,null,-0.03330657748978564,-0.035790186182617444,null,-0.034639870844783975,0.009568704389344847,null,-0.034639870844783975,-0.005173496920277382,null,-0.034639870844783975,-0.035790186182617444,null,-0.034639870844783975,-0.03367817436785675,null,-0.034639870844783975,-0.07379293146820669,null,0.009568704389344847,-0.005173496920277382,null,-0.005173496920277382,0.026701091321770117,null,-0.03199530674634295,-0.0025999085136414303,null,-0.5128387442306164,-0.4376569905055443,null,-0.5128387442306164,-0.5827651775803566,null,-0.4376569905055443,-0.40416425497901093,null,-0.4376569905055443,-0.36772032987561826,null,-0.5827651775803566,-0.6195336549027654,null,-0.5827651775803566,-0.6121198792205849,null,-0.6195336549027654,-0.6350532601135453,null,-0.6195336549027654,-0.6121198792205849,null,-0.6121198792205849,-0.6350532601135453,null,-0.00756256189953802,-0.03367817436785675,null,-0.035790186182617444,-0.017657584284185967,null,-0.035790186182617444,-0.03759813326525296,null,0.026701091321770117,-0.008338563108177276,null,-0.15657870783661268,-0.14481707208165262,null,-0.15657870783661268,-0.165805070991341,null,-0.14481707208165262,-0.18979722670740465,null,-0.14481707208165262,-0.11936881258240646,null,-0.18979722670740465,-0.22579637465455496,null,-0.11936881258240646,-0.0888755110850219,null,-0.11936881258240646,-0.08687290737941705,null,-0.11936881258240646,-0.10427390424191392,null,-0.11936881258240646,-0.07159213372108957,null,-0.11936881258240646,-0.06285709010184719,null,-0.08842777050800435,-0.10425046039208771,null,-0.08842777050800435,-0.078451131552667,null,-0.10425046039208771,-0.12310270788241509,null,-0.10425046039208771,-0.12444780050433346,null,-0.078451131552667,-0.07379293146820669,null,-0.2359926756504242,-0.17344760492518468,null,-0.2359926756504242,-0.28600283041455377,null,-0.17344760492518468,-0.07379293146820669,null,0.08757895851482117,0.038943579006180326,null,0.08757895851482117,0.06776095593734784,null,0.038943579006180326,0.06776095593734784,null,0.038943579006180326,-0.021992456604187294,null,0.038943579006180326,0.06913076752645556,null,0.038943579006180326,-0.027622303475060214,null,0.06776095593734784,0.06828958289153332,null,0.06776095593734784,0.06913076752645556,null,-0.17069203777532974,-0.22579637465455496,null,-0.22579637465455496,-0.30709074727781144,null,-0.04813009450192303,-0.018807750215435872,null,-0.018807750215435872,-0.12617245341876002,null,-0.018807750215435872,-0.07379293146820669,null,-0.018807750215435872,0.0915132383073119,null,0.06828958289153332,0.020544974980620075,null,0.020544974980620075,-0.01563296064924459,null,0.020544974980620075,-0.0016567939810350693,null,-0.01563296064924459,-0.0016567939810350693,null,-0.01563296064924459,-0.05678601993290698,null,-0.1561758624155468,-0.15466079868328123,null,-0.1561758624155468,-0.11354210330586192,null,-0.021992456604187294,-0.027622303475060214,null,-0.29137260806083043,-0.2739201107305846,null,-0.2739201107305846,-0.28600283041455377,null,-0.40416425497901093,-0.36772032987561826,null,-0.16263896627384483,-0.15121293169187147,null,-0.16263896627384483,-0.11354210330586192,null,-0.16263896627384483,-0.165805070991341,null,-0.15121293169187147,-0.11354210330586192,null,-0.11354210330586192,-0.15466079868328123,null,-0.11354210330586192,-0.025885273301385906,null,-0.35199669228264374,-0.34861957157495566,null,-0.35199669228264374,-0.30709074727781144,null,-0.34861957157495566,-0.30709074727781144,null,-0.12310270788241509,-0.12444780050433346,null,-0.12310270788241509,-0.11549655869766236,null,0.1472000825180689,0.07544011143994238,null,0.1472000825180689,0.19469699083959677,null,0.1472000825180689,0.16176645171036833,null,0.07544011143994238,-0.025885273301385906,null,0.19469699083959677,0.16176645171036833,null,-0.0888755110850219,-0.05441803414478577,null,-0.0888755110850219,-0.08759696003720249,null,-0.0888755110850219,-0.10427390424191392,null,-0.0888755110850219,-0.08175167085432135,null,-0.08687290737941705,-0.07159213372108957,null,0.16176645171036833,0.0915132383073119,null,-0.05441803414478577,-0.06285709010184719,null,-0.08759696003720249,-0.08175167085432135,null,-0.10913215710589227,-0.025885273301385906,null,-0.017657584284185967,-0.03759813326525296,null,0.07118812986484449,0.08230114187805664,null,0.9687466482896196,0.9415910018695208,null,0.9019020025281921,0.9138225100381723,null,0.9019020025281921,0.8533076788080826,null,0.820691168093154,0.8093131349532543,null,0.820691168093154,0.8147608364678747,null,0.8093131349532543,0.8533076788080826,null,0.8093131349532543,0.8147608364678747,null,0.8093131349532543,0.7894655211187835,null,0.8147608364678747,0.8722282938405187,null,0.8147608364678747,0.8239429869740492,null,0.8147608364678747,0.7894655211187835,null,0.8533076788080826,0.9045942651064433,null,0.8533076788080826,0.8772425926199103,null,0.8533076788080826,0.8793490621737636,null,0.8533076788080826,0.8774440364769983,null,0.8533076788080826,0.8239429869740492,null,0.8533076788080826,0.89700582754049,null,0.9045942651064433,0.9314560402543443,null,0.9314560402543443,0.8772425926199103,null,0.8774440364769983,0.9025075431639317,null,0.8772425926199103,0.8722282938405187,null,0.8772425926199103,0.9025075431639317,null,0.8722282938405187,0.9415910018695208,null,0.8793490621737636,0.9138225100381723,null,0.9138225100381723,0.89700582754049,null,0.9999999999999999,0.9897316438689584,null],\"y\":[-0.37240492946532905,-0.3374293987939815,null,-0.37240492946532905,-0.3321485172574282,null,-0.37240492946532905,-0.3983847630219399,null,-0.37240492946532905,-0.4156200668093289,null,-0.19775257174585548,-0.2063358111729551,null,-0.19775257174585548,-0.22682629473750976,null,0.19217163889604522,0.15075583527966213,null,0.19217163889604522,0.2454886627763174,null,0.15075583527966213,0.08566567921692263,null,0.15075583527966213,0.1830964742681806,null,0.15075583527966213,0.19401895442915182,null,0.15075583527966213,0.23041742666531898,null,0.2454886627763174,0.1550169829954827,null,0.2454886627763174,0.29503112351354943,null,0.2454886627763174,0.3516145699150102,null,0.2454886627763174,0.13154649239383534,null,0.2454886627763174,0.2654036719786655,null,0.2454886627763174,0.29007712253287554,null,0.2454886627763174,0.17506689132945674,null,0.2454886627763174,0.30543403943722586,null,0.2454886627763174,0.3186419315988115,null,0.2454886627763174,0.32013704421228933,null,0.2454886627763174,0.14108455802716335,null,0.2454886627763174,0.21563241045367157,null,0.2454886627763174,0.2653030092467741,null,0.2454886627763174,0.2504609035075665,null,0.2454886627763174,0.3298363992762925,null,0.2454886627763174,0.26215663829991787,null,0.2454886627763174,0.30744507720316483,null,0.2181013486456451,0.1830964742681806,null,0.2181013486456451,0.2483228368145617,null,0.1830964742681806,0.14424970007537646,null,0.1830964742681806,0.2392034271076642,null,0.2483228368145617,0.271260060467474,null,0.2483228368145617,0.29598111932934784,null,0.2483228368145617,0.31312525443376327,null,0.2483228368145617,0.1377875159793443,null,0.2846247910773329,0.271260060467474,null,0.2846247910773329,0.2654036719786655,null,0.2654036719786655,0.29503112351354943,null,0.2654036719786655,0.2081621616018118,null,0.2654036719786655,0.17506689132945674,null,0.2654036719786655,0.30543403943722586,null,0.2654036719786655,0.33864524890790293,null,0.2654036719786655,0.2991909876884884,null,0.2654036719786655,0.2411534275196166,null,0.2654036719786655,0.36193468815947716,null,0.2654036719786655,0.21566804491061756,null,0.2654036719786655,0.3607657934915629,null,0.2654036719786655,0.2134996906353854,null,0.2654036719786655,0.2504609035075665,null,-0.030368016512711055,-0.11983746333406903,null,-0.030368016512711055,0.03626196322979892,null,-0.030368016512711055,0.0366056490882638,null,-0.11983746333406903,-0.08571366148529053,null,-0.11983746333406903,-0.16158369535996817,null,-0.11983746333406903,-0.11363140836135341,null,-0.11983746333406903,-0.12933072726070455,null,-0.11983746333406903,-0.19842470252249572,null,-0.11983746333406903,-0.0702983948515315,null,-0.11983746333406903,-0.12378694802268922,null,0.03626196322979892,0.08566567921692263,null,0.03626196322979892,0.03684804866049509,null,0.03626196322979892,-0.007682993946868869,null,0.03626196322979892,0.025113190781107096,null,0.03626196322979892,0.14108455802716335,null,0.03626196322979892,-0.08571366148529053,null,0.03626196322979892,0.04261646806613268,null,0.03626196322979892,0.1377875159793443,null,0.03626196322979892,0.0860057201114828,null,0.03626196322979892,0.07350777654618794,null,0.03626196322979892,-0.0702983948515315,null,0.03626196322979892,0.14298047086348784,null,0.14424970007537646,0.17506689132945674,null,0.17506689132945674,0.11166443763779435,null,0.17506689132945674,0.13819890704551469,null,0.17506689132945674,0.20263586684673746,null,0.1550169829954827,0.08566567921692263,null,0.08566567921692263,0.03684804866049509,null,0.29503112351354943,0.30744507720316483,null,0.34851680904682253,0.3529438119542119,null,0.34851680904682253,0.30543403943722586,null,0.3529438119542119,0.30706425822851685,null,0.30543403943722586,0.3632425442321436,null,0.30543403943722586,0.37662676296045994,null,0.30543403943722586,0.3328627332186449,null,0.30543403943722586,0.3305203472323494,null,0.30543403943722586,0.29007712253287554,null,0.30706425822851685,0.3328627332186449,null,0.30706425822851685,0.26215663829991787,null,0.11166443763779435,0.06365781540764814,null,0.06365781540764814,0.025113190781107096,null,0.06365781540764814,0.10073898266664141,null,0.06365781540764814,-0.03739883140009328,null,0.19401895442915182,0.2392034271076642,null,0.2392034271076642,0.30055361993148366,null,0.7653507456655524,0.7046352399474886,null,0.7653507456655524,0.7338604404036875,null,0.7046352399474886,0.7338604404036875,null,0.7046352399474886,0.6917712524150075,null,0.7046352399474886,0.7375601774308901,null,0.7046352399474886,0.6219018978059887,null,0.7338604404036875,0.6917712524150075,null,0.6917712524150075,0.7375601774308901,null,0.6917712524150075,0.6219018978059887,null,0.3516145699150102,0.389571647866414,null,0.3516145699150102,0.4399550767201524,null,0.389571647866414,0.3618863295267559,null,0.389571647866414,0.4203679715114439,null,0.23108495875707386,0.20279460222162488,null,0.23108495875707386,0.14298047086348784,null,0.23108495875707386,0.3082183797623673,null,0.20279460222162488,0.20645165438202456,null,0.20279460222162488,0.169993850352805,null,0.14298047086348784,0.20701348015454596,null,0.3082183797623673,0.30055361993148366,null,0.30055361993148366,0.2504817006580823,null,0.30055361993148366,0.36198181909010485,null,0.30055361993148366,0.3539759783324054,null,0.4399550767201524,0.4212983778982788,null,0.4212983778982788,0.4203679715114439,null,0.4212983778982788,0.36198181909010485,null,0.18590656428104443,0.2757720911099285,null,0.18590656428104443,0.13819890704551469,null,0.2757720911099285,0.2411534275196166,null,0.2757720911099285,0.3766648961343273,null,0.13819890704551469,0.0366056490882638,null,0.13819890704551469,0.24735077082932477,null,0.13819890704551469,0.11950898580112584,null,0.13154649239383534,0.1543753346157171,null,0.13154649239383534,0.054752682912606494,null,0.13154649239383534,-0.014857067497180139,null,0.13154649239383534,0.2411534275196166,null,0.1543753346157171,0.2081621616018118,null,0.1543753346157171,0.11950898580112584,null,0.054752682912606494,0.0366056490882638,null,0.24735077082932477,0.3607657934915629,null,0.2411534275196166,0.31505135206092616,null,0.3766648961343273,0.42520879053337635,null,0.3766648961343273,0.4483247146873722,null,0.3766648961343273,0.3221746426727045,null,0.42520879053337635,0.4483247146873722,null,0.42520879053337635,0.38443169116237164,null,0.36037711884171436,0.31505135206092616,null,0.36037711884171436,0.38443169116237164,null,0.31505135206092616,0.38443169116237164,null,0.3221746426727045,0.23041742666531898,null,0.23041742666531898,0.1377875159793443,null,0.23041742666531898,0.3243067640455657,null,0.23041742666531898,0.19206031109554633,null,0.29007712253287554,0.3305203472323494,null,0.29007712253287554,0.2991909876884884,null,0.29007712253287554,0.29598111932934784,null,0.29007712253287554,0.26215663829991787,null,0.20263586684673746,0.26215663829991787,null,0.3632425442321436,0.37662676296045994,null,0.3186419315988115,0.33864524890790293,null,0.32013704421228933,0.36198181909010485,null,0.36198181909010485,0.3539759783324054,null,0.6219018978059887,0.5003839520670941,null,-0.014857067497180139,-0.12443081088360805,null,-0.12443081088360805,-0.19428771751509255,null,-0.12443081088360805,-0.1751118087341746,null,-0.19428771751509255,-0.1751118087341746,null,0.3607657934915629,0.5003839520670941,null,0.3607657934915629,0.408109777502545,null,-0.007682993946868869,-0.03725334796971406,null,-0.03725334796971406,-0.03739883140009328,null,-0.03739883140009328,-0.11363140836135341,null,-0.005873460859353229,-0.03920725461121444,null,-0.005873460859353229,0.027453988336491368,null,-0.03920725461121444,-0.09135608055886298,null,-0.03920725461121444,-0.08921568200355183,null,-0.03920725461121444,-0.05493224572130224,null,-0.03920725461121444,0.009371385112070151,null,-0.03920725461121444,-0.05720981324274344,null,0.027453988336491368,0.013989398574171455,null,0.027453988336491368,0.06936843455429295,null,-0.09135608055886298,-0.08921568200355183,null,-0.09135608055886298,-0.08522008845803193,null,-0.09135608055886298,-0.08867614744685523,null,-0.09135608055886298,-0.10521813183536624,null,-0.09135608055886298,-0.13624362425295938,null,-0.08921568200355183,-0.05493224572130224,null,-0.08921568200355183,-0.10311929524942626,null,-0.08921568200355183,-0.12104500517361247,null,-0.08921568200355183,-0.13255737729097572,null,-0.10311929524942626,-0.12104500517361247,null,-0.10311929524942626,-0.14504163472104564,null,-0.10311929524942626,-0.07679217867681357,null,-0.12104500517361247,-0.14504163472104564,null,-0.12104500517361247,-0.13255737729097572,null,-0.08522008845803193,-0.05720981324274344,null,-0.08522008845803193,-0.0913900622305909,null,-0.05720981324274344,-0.062478564046614816,null,-0.05720981324274344,-0.040947299621655595,null,-0.05720981324274344,-0.09121607128788516,null,-0.05720981324274344,-0.08867614744685523,null,-0.11177937613392876,-0.0913900622305909,null,-0.11177937613392876,-0.14326324060206508,null,-0.0913900622305909,-0.062478564046614816,null,-0.14326324060206508,-0.1314827821483172,null,-0.14326324060206508,-0.17091549820691795,null,-0.062478564046614816,-0.040947299621655595,null,0.009371385112070151,-0.11348188076753256,null,0.009371385112070151,0.19964088956349696,null,-0.11348188076753256,-0.2322213467952002,null,-0.11348188076753256,-0.10521813183536624,null,-0.17156141351637322,-0.13624362425295938,null,-0.17156141351637322,-0.187211842429619,null,-0.187211842429619,-0.17091549820691795,null,-0.1314827821483172,-0.17091549820691795,null,-0.1314827821483172,-0.09121607128788516,null,-0.2322213467952002,-0.35292483650127376,null,-0.35292483650127376,-0.3162744324463791,null,-0.35292483650127376,-0.3691916700399427,null,-0.35292483650127376,-0.4383935453070841,null,-0.35292483650127376,-0.3826601033148906,null,-0.35292483650127376,-0.39008793280443504,null,-0.35292483650127376,-0.4712391971075695,null,-0.07679217867681357,-0.2414869429811536,null,-0.07679217867681357,0.0420687819793774,null,-0.07679217867681357,0.05454727126026576,null,-0.07679217867681357,0.04684022327834231,null,-0.2414869429811536,-0.21879583024800317,null,-0.2414869429811536,-0.354563051271868,null,-0.2414869429811536,-0.34975711119667247,null,0.3618863295267559,0.4203679715114439,null,0.3618863295267559,0.38611930136567774,null,0.3618863295267559,0.42252117064244427,null,0.3618863295267559,0.19964088956349696,null,0.38611930136567774,0.3539759783324054,null,0.3539759783324054,0.31312525443376327,null,0.41920139009169416,0.42252117064244427,null,0.41920139009169416,0.36193468815947716,null,0.36193468815947716,0.408109777502545,null,0.36193468815947716,0.3298363992762925,null,0.21566804491061756,0.169993850352805,null,0.169993850352805,0.2504817006580823,null,0.169993850352805,0.046298283075200536,null,0.2504817006580823,0.3210170344956606,null,0.2504817006580823,0.20701348015454596,null,0.046298283075200536,-0.0702983948515315,null,-0.0702983948515315,-0.17015232928217444,null,-0.0702983948515315,-0.12933072726070455,null,-0.0702983948515315,-0.12378694802268922,null,0.10073898266664141,0.15150164321386023,null,0.15150164321386023,0.20645165438202456,null,-0.059309807949645646,0.1128430894564842,null,-0.059309807949645646,-0.24180296252474442,null,0.1128430894564842,0.18352172290457647,null,0.1128430894564842,0.17755442106912744,null,0.1128430894564842,0.1726741121951856,null,-0.24180296252474442,-0.3191779293147338,null,-0.24180296252474442,-0.3037039171532386,null,-0.24180296252474442,-0.2707465657900469,null,-0.24180296252474442,-0.28072985305676573,null,0.1652135527723422,0.23284861834382736,null,0.1652135527723422,0.21563241045367157,null,0.1652135527723422,0.05454727126026576,null,0.1652135527723422,0.1726741121951856,null,0.1652135527723422,0.04684022327834231,null,0.23284861834382736,0.2430606819993742,null,0.0420687819793774,0.1666196689465796,null,0.1666196689465796,0.18352172290457647,null,0.1666196689465796,0.2430606819993742,null,0.18352172290457647,0.17755442106912744,null,0.1377875159793443,0.19206031109554633,null,0.1377875159793443,0.07350777654618794,null,0.1377875159793443,0.0860057201114828,null,0.1377875159793443,0.2134996906353854,null,0.3210170344956606,0.31312525443376327,null,0.3243067640455657,0.29598111932934784,null,-0.14980911090206858,-0.11363140836135341,null,-0.14980911090206858,-0.12378694802268922,null,-0.08571366148529053,-0.2031396428008066,null,-0.24867846705319904,-0.2480612724540569,null,-0.24867846705319904,-0.19842470252249572,null,-0.24867846705319904,-0.2031396428008066,null,-0.24867846705319904,-0.17015232928217444,null,-0.24867846705319904,-0.3652673119457543,null,-0.2480612724540569,-0.19842470252249572,null,-0.19842470252249572,-0.18141973896785582,null,0.04261646806613268,0.07350777654618794,null,0.12752417526391777,0.09596598456977655,null,0.12752417526391777,0.1562395031855529,null,0.09596598456977655,0.08230624180813509,null,0.09596598456977655,0.06936843455429295,null,0.1562395031855529,0.1619339074015076,null,0.1562395031855529,0.17737191098393437,null,0.1619339074015076,0.18029750840950184,null,0.1619339074015076,0.17737191098393437,null,0.17737191098393437,0.18029750840950184,null,-0.16158369535996817,-0.17015232928217444,null,-0.2031396428008066,-0.26074754051428856,null,-0.2031396428008066,-0.26283540565248553,null,-0.18141973896785582,-0.12933072726070455,null,-0.21879583024800317,-0.1138249568080285,null,-0.21879583024800317,-0.3290209806050995,null,-0.1138249568080285,-0.19309297479094437,null,-0.1138249568080285,0.013989398574171455,null,-0.19309297479094437,-0.26695681691941986,null,0.013989398574171455,0.09825456749487667,null,0.013989398574171455,-0.016011643997270016,null,0.013989398574171455,0.06932685080214793,null,0.013989398574171455,-0.009755489983887169,null,0.013989398574171455,0.05131293399620939,null,-0.5511808844811344,-0.595737355025823,null,-0.5511808844811344,-0.47171022462219114,null,-0.595737355025823,-0.5639728244127816,null,-0.595737355025823,-0.6215193746338189,null,-0.47171022462219114,-0.3652673119457543,null,-0.3191779293147338,-0.3604044706645263,null,-0.3191779293147338,-0.3323781239801865,null,-0.3604044706645263,-0.3652673119457543,null,-0.4662556388281956,-0.42216923115335353,null,-0.4662556388281956,-0.48453662264928055,null,-0.42216923115335353,-0.48453662264928055,null,-0.42216923115335353,-0.39008793280443504,null,-0.42216923115335353,-0.4557874808906719,null,-0.42216923115335353,-0.3826601033148906,null,-0.48453662264928055,-0.5521194603477158,null,-0.48453662264928055,-0.4557874808906719,null,-0.3162744324463791,-0.26695681691941986,null,-0.26695681691941986,-0.3097609475979624,null,-0.3691916700399427,-0.36336879435120817,null,-0.36336879435120817,-0.3037039171532386,null,-0.36336879435120817,-0.3652673119457543,null,-0.36336879435120817,-0.4222661087486999,null,-0.5521194603477158,-0.5388454882808523,null,-0.5388454882808523,-0.5044773680339041,null,-0.5388454882808523,-0.5544296521807888,null,-0.5044773680339041,-0.5544296521807888,null,-0.5044773680339041,-0.4383935453070841,null,-0.354563051271868,-0.4175467714161522,null,-0.354563051271868,-0.4273217904057072,null,-0.39008793280443504,-0.3826601033148906,null,-0.2707465657900469,-0.28072985305676573,null,-0.28072985305676573,-0.3323781239801865,null,0.08230624180813509,0.06936843455429295,null,-0.427557818357066,-0.46852751187381964,null,-0.427557818357066,-0.4273217904057072,null,-0.427557818357066,-0.3290209806050995,null,-0.46852751187381964,-0.4273217904057072,null,-0.4273217904057072,-0.4175467714161522,null,-0.4273217904057072,-0.4403005485227828,null,-0.3512456445820385,-0.3323889182263431,null,-0.3512456445820385,-0.3097609475979624,null,-0.3323889182263431,-0.3097609475979624,null,-0.5639728244127816,-0.6215193746338189,null,-0.5639728244127816,-0.4712391971075695,null,-0.5172504500745676,-0.4950586446677678,null,-0.5172504500745676,-0.5243632789018423,null,-0.5172504500745676,-0.48480001450796517,null,-0.4950586446677678,-0.4403005485227828,null,-0.5243632789018423,-0.48480001450796517,null,0.09825456749487667,0.08739204106296261,null,0.09825456749487667,0.14967602342127242,null,0.09825456749487667,0.06932685080214793,null,0.09825456749487667,0.1635276234475943,null,-0.016011643997270016,-0.009755489983887169,null,-0.48480001450796517,-0.4222661087486999,null,0.08739204106296261,0.05131293399620939,null,0.14967602342127242,0.1635276234475943,null,-0.34975711119667247,-0.4403005485227828,null,-0.26074754051428856,-0.26283540565248553,null,0.2134996906353854,0.2653030092467741,null,-0.3374293987939815,-0.30312345066441543,null,-0.3321485172574282,-0.31991745649674624,null,-0.3321485172574282,-0.2695408079517971,null,-0.3421740373459021,-0.30919791525780227,null,-0.3421740373459021,-0.29678359597451404,null,-0.30919791525780227,-0.2695408079517971,null,-0.30919791525780227,-0.29678359597451404,null,-0.30919791525780227,-0.33159618749323755,null,-0.29678359597451404,-0.2761333921677379,null,-0.29678359597451404,-0.2689383885532357,null,-0.29678359597451404,-0.33159618749323755,null,-0.2695408079517971,-0.2479823009665101,null,-0.2695408079517971,-0.22682629473750976,null,-0.2695408079517971,-0.30975998686046147,null,-0.2695408079517971,-0.2063358111729551,null,-0.2695408079517971,-0.2689383885532357,null,-0.2695408079517971,-0.2925476591575128,null,-0.2479823009665101,-0.2277503307314646,null,-0.2277503307314646,-0.22682629473750976,null,-0.2063358111729551,-0.1797625041116096,null,-0.22682629473750976,-0.2761333921677379,null,-0.22682629473750976,-0.1797625041116096,null,-0.2761333921677379,-0.30312345066441543,null,-0.30975998686046147,-0.31991745649674624,null,-0.31991745649674624,-0.2925476591575128,null,-0.3983847630219399,-0.4156200668093289,null],\"type\":\"scatter\"},{\"hoverinfo\":\"text\",\"marker\":{\"color\":[4,2,2,5,18,2,4,5,2,2,14,3,8,13,2,6,2,4,3,2,2,2,8,3,2,4,2,3,2,5,3,4,2,3,3,3,3,3,2,5,2,3,2,3,5,5,3,2,3,2,2,4,4,3,2,2,3,3,2,5,6,2,4,2,2,2,2,2,4,2,2,2,3,2,3,2,2,2,4,2,2,3,2,2,2,6,3,6,6,2,4,4,2,3,6,2,3,3,3,3,3,2,2,2,2,3,3,2,2,2,7,2,2,5,4,5,3,2,4,2,2,4,2,2,2,4,4,2,6,2,2,2,4,5,5,2,2,2,3,2,3,2,2,2,2,7,2,3,2,3,2,2,2,3,3,3,5,2,4,2,3,2,2,3,3,3,3,2,3,4,2,3,3,3,2,7,2,3,2,3,2,2,5,4,2,3,2,4,2,3,2,3,2,2,3,3,3,2,3,2,3,2,3,2,5,2,2,2,3,3,2,3,2,2,5,2,2,2,3,2,2,2,2,2,2,4,2,3,2,2,2,2,2,3,2,2,3,2,4,5,8,2,2,3,5,3,2,3,2,2,2,2,2,2,2,2,2,2,2,2],\"colorbar\":{\"thickness\":15,\"title\":{\"side\":\"right\",\"text\":\"Node Connections\"},\"xanchor\":\"left\"},\"colorscale\":[[0.0,\"rgb(255,255,217)\"],[0.125,\"rgb(237,248,177)\"],[0.25,\"rgb(199,233,180)\"],[0.375,\"rgb(127,205,187)\"],[0.5,\"rgb(65,182,196)\"],[0.625,\"rgb(29,145,192)\"],[0.75,\"rgb(34,94,168)\"],[0.875,\"rgb(37,52,148)\"],[1.0,\"rgb(8,29,88)\"]],\"line\":{\"width\":2},\"reversescale\":true,\"showscale\":true,\"size\":20},\"mode\":\"markers+text\",\"text\":[\"REV 1: # of connections: 4\",\"REV 13: # of connections: 2\",\"1CO 1: # of connections: 2\",\"1CO 3: # of connections: 5\",\"2CO 1: # of connections: 18\",\"1CO 10: # of connections: 2\",\"1CO 8: # of connections: 4\",\"ROM 14: # of connections: 5\",\"1CO 11: # of connections: 2\",\"1CO 15: # of connections: 2\",\"PHP 1: # of connections: 14\",\"1CO 12: # of connections: 3\",\"JHN 7: # of connections: 8\",\"JHN 14: # of connections: 13\",\"1CO 13: # of connections: 2\",\"2CO 13: # of connections: 6\",\"1CO 14: # of connections: 2\",\"1CO 2: # of connections: 4\",\"1CO 16: # of connections: 3\",\"1CO 4: # of connections: 2\",\"1CO 5: # of connections: 2\",\"1CO 6: # of connections: 2\",\"2CO 2: # of connections: 8\",\"EPH 5: # of connections: 3\",\"1CO 7: # of connections: 2\",\"GAL 6: # of connections: 4\",\"1CO 9: # of connections: 2\",\"PHP 3: # of connections: 3\",\"1JN 1: # of connections: 2\",\"1JN 2: # of connections: 5\",\"1JN 3: # of connections: 3\",\"1JN 4: # of connections: 4\",\"1JN 5: # of connections: 2\",\"1PE 1: # of connections: 3\",\"EPH 1: # of connections: 3\",\"1PE 2: # of connections: 3\",\"ROM 3: # of connections: 3\",\"ROM 9: # of connections: 3\",\"1PE 3: # of connections: 2\",\"ROM 8: # of connections: 5\",\"1PE 4: # of connections: 2\",\"EPH 2: # of connections: 3\",\"1PE 5: # of connections: 2\",\"1TI 1: # of connections: 3\",\"1TH 5: # of connections: 5\",\"1TH 1: # of connections: 5\",\"2TH 1: # of connections: 3\",\"1TH 2: # of connections: 2\",\"1TH 4: # of connections: 3\",\"1TH 3: # of connections: 2\",\"2TH 3: # of connections: 2\",\"2TI 1: # of connections: 4\",\"1TI 4: # of connections: 4\",\"1TI 2: # of connections: 3\",\"1TI 5: # of connections: 2\",\"1TI 3: # of connections: 2\",\"TIT 1: # of connections: 3\",\"TIT 2: # of connections: 3\",\"1TI 6: # of connections: 2\",\"JAS 1: # of connections: 5\",\"2CO 8: # of connections: 6\",\"2CO 10: # of connections: 2\",\"ROM 15: # of connections: 4\",\"2CO 11: # of connections: 2\",\"2CO 12: # of connections: 2\",\"2CO 3: # of connections: 2\",\"2CO 4: # of connections: 2\",\"2CO 5: # of connections: 2\",\"ROM 5: # of connections: 4\",\"2CO 6: # of connections: 2\",\"2CO 7: # of connections: 2\",\"2CO 9: # of connections: 2\",\"2JN 1: # of connections: 3\",\"2PE 1: # of connections: 2\",\"2PE 3: # of connections: 3\",\"2PE 2: # of connections: 2\",\"JUD 1: # of connections: 2\",\"2TH 2: # of connections: 2\",\"PHM 1: # of connections: 4\",\"2TI 2: # of connections: 2\",\"2TI 3: # of connections: 2\",\"TIT 3: # of connections: 3\",\"2TI 4: # of connections: 2\",\"3JN 1: # of connections: 2\",\"ACT 1: # of connections: 2\",\"ACT 8: # of connections: 6\",\"LUK 24: # of connections: 3\",\"ACT 10: # of connections: 6\",\"ACT 11: # of connections: 6\",\"ACT 12: # of connections: 2\",\"ACT 13: # of connections: 4\",\"ACT 15: # of connections: 4\",\"ACT 14: # of connections: 2\",\"ACT 16: # of connections: 3\",\"ACT 21: # of connections: 6\",\"ACT 17: # of connections: 2\",\"ACT 19: # of connections: 3\",\"ACT 25: # of connections: 3\",\"ACT 18: # of connections: 3\",\"ACT 2: # of connections: 3\",\"ACT 4: # of connections: 3\",\"ACT 20: # of connections: 2\",\"ACT 22: # of connections: 2\",\"ACT 9: # of connections: 2\",\"ACT 26: # of connections: 2\",\"ACT 23: # of connections: 3\",\"ACT 24: # of connections: 3\",\"ACT 27: # of connections: 2\",\"ACT 28: # of connections: 2\",\"ACT 3: # of connections: 2\",\"MAT 22: # of connections: 7\",\"ACT 5: # of connections: 2\",\"ACT 6: # of connections: 2\",\"ACT 7: # of connections: 5\",\"LUK 2: # of connections: 4\",\"COL 1: # of connections: 5\",\"EPH 3: # of connections: 3\",\"COL 2: # of connections: 2\",\"ROM 6: # of connections: 4\",\"COL 3: # of connections: 2\",\"EPH 4: # of connections: 2\",\"EPH 6: # of connections: 4\",\"COL 4: # of connections: 2\",\"GAL 1: # of connections: 2\",\"GAL 2: # of connections: 2\",\"GAL 3: # of connections: 4\",\"ROM 4: # of connections: 4\",\"GAL 4: # of connections: 2\",\"JHN 8: # of connections: 6\",\"GAL 5: # of connections: 2\",\"ROM 13: # of connections: 2\",\"HEB 1: # of connections: 2\",\"HEB 3: # of connections: 4\",\"MAT 24: # of connections: 5\",\"HEB 10: # of connections: 5\",\"HEB 9: # of connections: 2\",\"HEB 13: # of connections: 2\",\"HEB 11: # of connections: 2\",\"HEB 5: # of connections: 3\",\"HEB 12: # of connections: 2\",\"HEB 2: # of connections: 3\",\"HEB 4: # of connections: 2\",\"HEB 7: # of connections: 2\",\"HEB 6: # of connections: 2\",\"HEB 8: # of connections: 2\",\"JHN 16: # of connections: 7\",\"JAS 2: # of connections: 2\",\"ROM 7: # of connections: 3\",\"JAS 3: # of connections: 2\",\"ROM 12: # of connections: 3\",\"JAS 4: # of connections: 2\",\"JAS 5: # of connections: 2\",\"JHN 1: # of connections: 2\",\"JHN 3: # of connections: 3\",\"JHN 9: # of connections: 3\",\"JHN 10: # of connections: 3\",\"JHN 11: # of connections: 5\",\"JHN 12: # of connections: 2\",\"JHN 6: # of connections: 4\",\"JHN 13: # of connections: 2\",\"JHN 15: # of connections: 3\",\"JHN 17: # of connections: 2\",\"JHN 18: # of connections: 2\",\"LUK 22: # of connections: 3\",\"JHN 19: # of connections: 3\",\"MRK 15: # of connections: 3\",\"MAT 27: # of connections: 3\",\"JHN 2: # of connections: 2\",\"JHN 4: # of connections: 3\",\"JHN 20: # of connections: 4\",\"JHN 21: # of connections: 2\",\"JHN 5: # of connections: 3\",\"LUK 1: # of connections: 3\",\"LUK 10: # of connections: 3\",\"MAT 11: # of connections: 2\",\"LUK 9: # of connections: 7\",\"LUK 11: # of connections: 2\",\"MAT 12: # of connections: 3\",\"MAT 23: # of connections: 2\",\"LUK 12: # of connections: 3\",\"MAT 6: # of connections: 2\",\"LUK 13: # of connections: 2\",\"MAT 21: # of connections: 5\",\"LUK 19: # of connections: 4\",\"LUK 14: # of connections: 2\",\"LUK 7: # of connections: 3\",\"LUK 15: # of connections: 2\",\"MAT 18: # of connections: 4\",\"LUK 16: # of connections: 2\",\"LUK 18: # of connections: 3\",\"LUK 17: # of connections: 2\",\"MRK 10: # of connections: 3\",\"MAT 19: # of connections: 2\",\"MRK 11: # of connections: 2\",\"LUK 4: # of connections: 3\",\"LUK 20: # of connections: 3\",\"MRK 12: # of connections: 3\",\"LUK 21: # of connections: 2\",\"MRK 13: # of connections: 3\",\"MRK 14: # of connections: 2\",\"MAT 26: # of connections: 3\",\"LUK 23: # of connections: 2\",\"LUK 3: # of connections: 3\",\"MAT 3: # of connections: 2\",\"MRK 1: # of connections: 5\",\"MAT 4: # of connections: 2\",\"LUK 5: # of connections: 2\",\"MRK 2: # of connections: 2\",\"MAT 9: # of connections: 3\",\"LUK 6: # of connections: 3\",\"MRK 3: # of connections: 2\",\"LUK 8: # of connections: 3\",\"MRK 5: # of connections: 2\",\"MRK 4: # of connections: 2\",\"MRK 8: # of connections: 5\",\"MRK 9: # of connections: 2\",\"MAT 1: # of connections: 2\",\"MAT 10: # of connections: 2\",\"MAT 13: # of connections: 3\",\"MAT 14: # of connections: 2\",\"MRK 6: # of connections: 2\",\"MAT 15: # of connections: 2\",\"MRK 7: # of connections: 2\",\"MAT 16: # of connections: 2\",\"MAT 17: # of connections: 2\",\"MAT 5: # of connections: 4\",\"MAT 2: # of connections: 2\",\"MAT 8: # of connections: 3\",\"MAT 20: # of connections: 2\",\"MAT 25: # of connections: 2\",\"MAT 28: # of connections: 2\",\"MRK 16: # of connections: 2\",\"MAT 7: # of connections: 2\",\"PHP 2: # of connections: 3\",\"PHP 4: # of connections: 2\",\"REV 22: # of connections: 2\",\"REV 4: # of connections: 3\",\"REV 10: # of connections: 2\",\"REV 11: # of connections: 4\",\"REV 8: # of connections: 5\",\"REV 19: # of connections: 8\",\"REV 12: # of connections: 2\",\"REV 20: # of connections: 2\",\"REV 17: # of connections: 3\",\"REV 14: # of connections: 5\",\"REV 16: # of connections: 3\",\"REV 15: # of connections: 2\",\"REV 5: # of connections: 3\",\"REV 18: # of connections: 2\",\"REV 2: # of connections: 2\",\"REV 3: # of connections: 2\",\"REV 21: # of connections: 2\",\"REV 7: # of connections: 2\",\"REV 6: # of connections: 2\",\"REV 9: # of connections: 2\",\"ROM 1: # of connections: 2\",\"ROM 10: # of connections: 2\",\"ROM 11: # of connections: 2\",\"ROM 2: # of connections: 2\",\"ROM 16: # of connections: 2\"],\"x\":[0.9552999802323117,0.9157723778263235,0.1362827305267113,0.08843201384345266,0.11657913399672568,0.08405154737440483,0.09086121049295609,0.036521934922920815,0.15700203933746726,0.10151200763657674,0.1437616817767355,0.03919967837906931,-0.031159923214225452,-0.024960570512592824,0.15854281022239686,0.12873710791691628,0.08558660118454715,0.04646281556179068,0.14405952587408888,0.03051645494810054,0.29550405105573213,0.34972586672700856,0.21479260882833923,0.30311070347417596,0.005088121675163547,-0.11690668753625967,0.055916745448746134,0.015056261434569061,0.09943059551277142,0.10429715424756447,0.09540048970293202,0.11124151114737141,0.12122913840024231,-0.01545479724369979,-0.13971339962658247,-0.16451615590653815,-0.19364043622910368,-0.11269947208860413,-0.15026821247719294,-0.06995219615067527,-0.061245293517503,-0.10883021228553322,0.32458678172171196,0.34778363793176753,0.2230563641954201,0.25115457327171004,0.2958858316243668,0.24139143496891624,0.16229607947025895,0.24249786461605227,0.21572944936034746,0.28179952635148503,0.3446010770094448,0.41235588183383404,0.39464773467609904,0.4698202380737744,0.3948449136360835,0.4416228558869236,0.2266193464455241,0.098293990608412,0.17728485977279207,0.1983111752609072,0.21494076647196722,0.2664820253751229,0.2547984592527346,0.1382792557050979,0.1681476128214417,0.03744848231977054,-0.04915617422031615,0.2927189840298951,0.23982324994979562,0.20227613698054844,0.11996471876359412,0.35383295197368664,0.4329364387144856,0.4913380023721494,0.48752940585278487,0.3041890520717568,0.16195735289797145,-0.12409862104416185,-0.19116976932142196,-0.1476074104300688,-0.10807652955097384,0.14301340214197944,-0.36995288105576685,-0.4732301001546511,-0.2595616044030423,-0.5273211800608226,-0.47255790415160287,-0.503348941965345,-0.3894814301910162,-0.45199425959403966,-0.44280310260858674,-0.6097234688369254,-0.5846402383896447,-0.7628284586718217,-0.6896729331269446,-0.7902416025033387,-0.6562984490030181,-0.38246410282582144,-0.343370286921526,-0.6438054157770697,-0.6522564652300094,-0.5874096045185813,-0.7064668184286323,-0.7410947933510762,-0.7627670198119602,-0.6686901191638355,-0.584279458592185,-0.22630936760624226,-0.10053704970413707,-0.4395967292874797,-0.5058189948340637,-0.2749791996828912,-0.18311957915908092,-0.20953797536789293,-0.17830522022597906,-0.16700929992612243,-0.09098880990819883,-0.036079635509313084,-0.13485044966656792,0.07204811645444513,0.11727948210599927,0.05214494723784596,0.010941292598778686,-0.10325047033394677,-0.11523200476392337,-0.08461527994328112,-0.04788051929924048,-0.20504263506687528,-0.2613408648289707,-0.32073406682235833,-0.38648987603733675,-0.24157916332922472,-0.2327032990263254,-0.31566133899371634,-0.06614385195519047,-0.33428811941750863,-0.388383664866293,-0.27980984541817655,-0.42885016741964493,-0.44587583888897614,-0.38911656094940905,-0.33161636516287424,-0.2656962605186722,0.016416541423770546,-0.10910602694455512,-0.03918437248433018,0.08700903798677691,0.10596668827851721,0.04133891614368571,-0.312903483514654,-0.10953494457505011,-0.10059796534263028,-0.07032819863473151,-0.03330657748978564,-0.034639870844783975,0.009568704389344847,-0.005173496920277382,-0.03199530674634295,-0.0025999085136414303,-0.00948382045736814,-0.5128387442306164,-0.4376569905055443,-0.5827651775803566,-0.6195336549027654,-0.6121198792205849,-0.00756256189953802,-0.03367817436785675,-0.035790186182617444,0.026701091321770117,-0.008338563108177276,-0.15657870783661268,-0.14481707208165262,-0.18979722670740465,-0.11936881258240646,-0.08842777050800435,-0.10425046039208771,-0.078451131552667,-0.2359926756504242,-0.17344760492518468,0.08757895851482117,0.038943579006180326,0.06776095593734784,-0.17069203777532974,-0.22579637465455496,-0.04813009450192303,-0.018807750215435872,0.06828958289153332,0.020544974980620075,-0.12617245341876002,-0.01563296064924459,-0.0016567939810350693,0.06913076752645556,-0.1561758624155468,-0.021992456604187294,-0.027622303475060214,-0.29137260806083043,-0.2739201107305846,-0.40416425497901093,-0.36772032987561826,-0.6350532601135453,-0.16263896627384483,-0.15121293169187147,-0.11354210330586192,-0.15466079868328123,-0.35199669228264374,-0.34861957157495566,-0.30709074727781144,-0.12310270788241509,-0.12444780050433346,0.1472000825180689,0.07544011143994238,0.19469699083959677,-0.0888755110850219,-0.08687290737941705,-0.165805070991341,-0.28600283041455377,0.16176645171036833,-0.05441803414478577,-0.06285709010184719,-0.08759696003720249,-0.08175167085432135,-0.10427390424191392,-0.07159213372108957,-0.07379293146820669,-0.10913215710589227,-0.025885273301385906,-0.05678601993290698,0.0915132383073119,-0.017657584284185967,-0.03759813326525296,-0.11549655869766236,0.07118812986484449,0.08230114187805664,0.9687466482896196,0.9019020025281921,0.820691168093154,0.8093131349532543,0.8147608364678747,0.8533076788080826,0.9045942651064433,0.9314560402543443,0.8774440364769983,0.8772425926199103,0.8722282938405187,0.8793490621737636,0.9138225100381723,0.9025075431639317,0.9999999999999999,0.9897316438689584,0.9415910018695208,0.89700582754049,0.8239429869740492,0.7894655211187835,0.17245653998737137,0.10547843381540101,-0.14343593162301038,-0.2552303690963533,0.15766904852565972],\"y\":[-0.37240492946532905,-0.19775257174585548,0.19217163889604522,0.15075583527966213,0.2454886627763174,0.2181013486456451,0.1830964742681806,0.2483228368145617,0.2846247910773329,0.271260060467474,0.2654036719786655,-0.030368016512711055,-0.11983746333406903,0.03626196322979892,0.14424970007537646,0.17506689132945674,0.1550169829954827,0.08566567921692263,0.29503112351354943,0.03684804866049509,0.34851680904682253,0.3529438119542119,0.30543403943722586,0.30706425822851685,0.11166443763779435,0.06365781540764814,0.19401895442915182,0.2392034271076642,0.7653507456655524,0.7046352399474886,0.7338604404036875,0.6917712524150075,0.7375601774308901,0.3516145699150102,0.389571647866414,0.23108495875707386,0.20279460222162488,0.14298047086348784,0.3082183797623673,0.30055361993148366,0.4399550767201524,0.4212983778982788,0.18590656428104443,0.2757720911099285,0.13819890704551469,0.13154649239383534,0.1543753346157171,0.054752682912606494,0.0366056490882638,0.2081621616018118,0.24735077082932477,0.2411534275196166,0.3766648961343273,0.42520879053337635,0.4483247146873722,0.36037711884171436,0.31505135206092616,0.38443169116237164,0.3221746426727045,0.23041742666531898,0.29007712253287554,0.20263586684673746,0.26215663829991787,0.3632425442321436,0.37662676296045994,0.3186419315988115,0.33864524890790293,0.32013704421228933,0.36198181909010485,0.3328627332186449,0.3305203472323494,0.2991909876884884,0.6219018978059887,-0.014857067497180139,-0.12443081088360805,-0.19428771751509255,-0.1751118087341746,0.11950898580112584,0.3607657934915629,-0.007682993946868869,-0.03725334796971406,-0.03739883140009328,0.025113190781107096,0.5003839520670941,-0.005873460859353229,-0.03920725461121444,0.027453988336491368,-0.09135608055886298,-0.08921568200355183,-0.05493224572130224,-0.10311929524942626,-0.12104500517361247,-0.14504163472104564,-0.08522008845803193,-0.05720981324274344,-0.11177937613392876,-0.0913900622305909,-0.14326324060206508,-0.062478564046614816,0.009371385112070151,-0.11348188076753256,-0.040947299621655595,-0.17156141351637322,-0.13624362425295938,-0.187211842429619,-0.1314827821483172,-0.17091549820691795,-0.09121607128788516,-0.08867614744685523,-0.2322213467952002,-0.35292483650127376,-0.10521813183536624,-0.13255737729097572,-0.07679217867681357,-0.2414869429811536,0.3618863295267559,0.4203679715114439,0.38611930136567774,0.3539759783324054,0.41920139009169416,0.42252117064244427,0.36193468815947716,0.408109777502545,0.14108455802716335,0.21566804491061756,0.169993850352805,0.2504817006580823,0.046298283075200536,-0.0702983948515315,0.10073898266664141,0.15150164321386023,-0.059309807949645646,0.1128430894564842,-0.24180296252474442,0.1652135527723422,0.23284861834382736,0.21563241045367157,0.0420687819793774,0.1666196689465796,0.05454727126026576,0.18352172290457647,0.17755442106912744,0.2430606819993742,0.1726741121951856,0.04684022327834231,0.1377875159793443,0.3210170344956606,0.31312525443376327,0.3243067640455657,0.29598111932934784,0.19206031109554633,0.19964088956349696,-0.14980911090206858,-0.11363140836135341,-0.12378694802268922,-0.08571366148529053,-0.24867846705319904,-0.2480612724540569,-0.19842470252249572,0.04261646806613268,0.07350777654618794,0.0860057201114828,0.12752417526391777,0.09596598456977655,0.1562395031855529,0.1619339074015076,0.17737191098393437,-0.16158369535996817,-0.17015232928217444,-0.2031396428008066,-0.18141973896785582,-0.12933072726070455,-0.21879583024800317,-0.1138249568080285,-0.19309297479094437,0.013989398574171455,-0.5511808844811344,-0.595737355025823,-0.47171022462219114,-0.3191779293147338,-0.3604044706645263,-0.4662556388281956,-0.42216923115335353,-0.48453662264928055,-0.3162744324463791,-0.26695681691941986,-0.3691916700399427,-0.36336879435120817,-0.5521194603477158,-0.5388454882808523,-0.3037039171532386,-0.5044773680339041,-0.5544296521807888,-0.4557874808906719,-0.354563051271868,-0.39008793280443504,-0.3826601033148906,-0.2707465657900469,-0.28072985305676573,0.08230624180813509,0.06936843455429295,0.18029750840950184,-0.427557818357066,-0.46852751187381964,-0.4273217904057072,-0.4175467714161522,-0.3512456445820385,-0.3323889182263431,-0.3097609475979624,-0.5639728244127816,-0.6215193746338189,-0.5172504500745676,-0.4950586446677678,-0.5243632789018423,0.09825456749487667,-0.016011643997270016,-0.3290209806050995,-0.3323781239801865,-0.48480001450796517,0.08739204106296261,0.05131293399620939,0.14967602342127242,0.1635276234475943,0.06932685080214793,-0.009755489983887169,-0.3652673119457543,-0.34975711119667247,-0.4403005485227828,-0.4383935453070841,-0.4222661087486999,-0.26074754051428856,-0.26283540565248553,-0.4712391971075695,0.2134996906353854,0.2653030092467741,-0.3374293987939815,-0.3321485172574282,-0.3421740373459021,-0.30919791525780227,-0.29678359597451404,-0.2695408079517971,-0.2479823009665101,-0.2277503307314646,-0.2063358111729551,-0.22682629473750976,-0.2761333921677379,-0.30975998686046147,-0.31991745649674624,-0.1797625041116096,-0.3983847630219399,-0.4156200668093289,-0.30312345066441543,-0.2925476591575128,-0.2689383885532357,-0.33159618749323755,0.2504609035075665,0.3298363992762925,0.20701348015454596,0.20645165438202456,0.30744507720316483],\"type\":\"scatter\"}],                        {\"annotations\":[{\"showarrow\":false,\"text\":\"Python code: <a href='https://plotly.com/ipython-notebooks/network-graphs/'> https://plotly.com/ipython-notebooks/network-graphs/</a>\",\"x\":0.005,\"xref\":\"paper\",\"y\":-0.002,\"yref\":\"paper\"}],\"hovermode\":\"closest\",\"margin\":{\"b\":20,\"l\":5,\"r\":5,\"t\":40},\"showlegend\":false,\"title\":{\"font\":{\"size\":16},\"text\":\"<br>Network graph made with Python\"},\"xaxis\":{\"showgrid\":false,\"showticklabels\":false,\"zeroline\":false},\"yaxis\":{\"showgrid\":false,\"showticklabels\":false,\"zeroline\":false},\"template\":{\"data\":{\"bar\":[{\"error_x\":{\"color\":\"#2a3f5f\"},\"error_y\":{\"color\":\"#2a3f5f\"},\"marker\":{\"line\":{\"color\":\"#E5ECF6\",\"width\":0.5},\"pattern\":{\"fillmode\":\"overlay\",\"size\":10,\"solidity\":0.2}},\"type\":\"bar\"}],\"barpolar\":[{\"marker\":{\"line\":{\"color\":\"#E5ECF6\",\"width\":0.5},\"pattern\":{\"fillmode\":\"overlay\",\"size\":10,\"solidity\":0.2}},\"type\":\"barpolar\"}],\"carpet\":[{\"aaxis\":{\"endlinecolor\":\"#2a3f5f\",\"gridcolor\":\"white\",\"linecolor\":\"white\",\"minorgridcolor\":\"white\",\"startlinecolor\":\"#2a3f5f\"},\"baxis\":{\"endlinecolor\":\"#2a3f5f\",\"gridcolor\":\"white\",\"linecolor\":\"white\",\"minorgridcolor\":\"white\",\"startlinecolor\":\"#2a3f5f\"},\"type\":\"carpet\"}],\"choropleth\":[{\"colorbar\":{\"outlinewidth\":0,\"ticks\":\"\"},\"type\":\"choropleth\"}],\"contour\":[{\"colorbar\":{\"outlinewidth\":0,\"ticks\":\"\"},\"colorscale\":[[0.0,\"#0d0887\"],[0.1111111111111111,\"#46039f\"],[0.2222222222222222,\"#7201a8\"],[0.3333333333333333,\"#9c179e\"],[0.4444444444444444,\"#bd3786\"],[0.5555555555555556,\"#d8576b\"],[0.6666666666666666,\"#ed7953\"],[0.7777777777777778,\"#fb9f3a\"],[0.8888888888888888,\"#fdca26\"],[1.0,\"#f0f921\"]],\"type\":\"contour\"}],\"contourcarpet\":[{\"colorbar\":{\"outlinewidth\":0,\"ticks\":\"\"},\"type\":\"contourcarpet\"}],\"heatmap\":[{\"colorbar\":{\"outlinewidth\":0,\"ticks\":\"\"},\"colorscale\":[[0.0,\"#0d0887\"],[0.1111111111111111,\"#46039f\"],[0.2222222222222222,\"#7201a8\"],[0.3333333333333333,\"#9c179e\"],[0.4444444444444444,\"#bd3786\"],[0.5555555555555556,\"#d8576b\"],[0.6666666666666666,\"#ed7953\"],[0.7777777777777778,\"#fb9f3a\"],[0.8888888888888888,\"#fdca26\"],[1.0,\"#f0f921\"]],\"type\":\"heatmap\"}],\"heatmapgl\":[{\"colorbar\":{\"outlinewidth\":0,\"ticks\":\"\"},\"colorscale\":[[0.0,\"#0d0887\"],[0.1111111111111111,\"#46039f\"],[0.2222222222222222,\"#7201a8\"],[0.3333333333333333,\"#9c179e\"],[0.4444444444444444,\"#bd3786\"],[0.5555555555555556,\"#d8576b\"],[0.6666666666666666,\"#ed7953\"],[0.7777777777777778,\"#fb9f3a\"],[0.8888888888888888,\"#fdca26\"],[1.0,\"#f0f921\"]],\"type\":\"heatmapgl\"}],\"histogram\":[{\"marker\":{\"pattern\":{\"fillmode\":\"overlay\",\"size\":10,\"solidity\":0.2}},\"type\":\"histogram\"}],\"histogram2d\":[{\"colorbar\":{\"outlinewidth\":0,\"ticks\":\"\"},\"colorscale\":[[0.0,\"#0d0887\"],[0.1111111111111111,\"#46039f\"],[0.2222222222222222,\"#7201a8\"],[0.3333333333333333,\"#9c179e\"],[0.4444444444444444,\"#bd3786\"],[0.5555555555555556,\"#d8576b\"],[0.6666666666666666,\"#ed7953\"],[0.7777777777777778,\"#fb9f3a\"],[0.8888888888888888,\"#fdca26\"],[1.0,\"#f0f921\"]],\"type\":\"histogram2d\"}],\"histogram2dcontour\":[{\"colorbar\":{\"outlinewidth\":0,\"ticks\":\"\"},\"colorscale\":[[0.0,\"#0d0887\"],[0.1111111111111111,\"#46039f\"],[0.2222222222222222,\"#7201a8\"],[0.3333333333333333,\"#9c179e\"],[0.4444444444444444,\"#bd3786\"],[0.5555555555555556,\"#d8576b\"],[0.6666666666666666,\"#ed7953\"],[0.7777777777777778,\"#fb9f3a\"],[0.8888888888888888,\"#fdca26\"],[1.0,\"#f0f921\"]],\"type\":\"histogram2dcontour\"}],\"mesh3d\":[{\"colorbar\":{\"outlinewidth\":0,\"ticks\":\"\"},\"type\":\"mesh3d\"}],\"parcoords\":[{\"line\":{\"colorbar\":{\"outlinewidth\":0,\"ticks\":\"\"}},\"type\":\"parcoords\"}],\"pie\":[{\"automargin\":true,\"type\":\"pie\"}],\"scatter\":[{\"marker\":{\"colorbar\":{\"outlinewidth\":0,\"ticks\":\"\"}},\"type\":\"scatter\"}],\"scatter3d\":[{\"line\":{\"colorbar\":{\"outlinewidth\":0,\"ticks\":\"\"}},\"marker\":{\"colorbar\":{\"outlinewidth\":0,\"ticks\":\"\"}},\"type\":\"scatter3d\"}],\"scattercarpet\":[{\"marker\":{\"colorbar\":{\"outlinewidth\":0,\"ticks\":\"\"}},\"type\":\"scattercarpet\"}],\"scattergeo\":[{\"marker\":{\"colorbar\":{\"outlinewidth\":0,\"ticks\":\"\"}},\"type\":\"scattergeo\"}],\"scattergl\":[{\"marker\":{\"colorbar\":{\"outlinewidth\":0,\"ticks\":\"\"}},\"type\":\"scattergl\"}],\"scattermapbox\":[{\"marker\":{\"colorbar\":{\"outlinewidth\":0,\"ticks\":\"\"}},\"type\":\"scattermapbox\"}],\"scatterpolar\":[{\"marker\":{\"colorbar\":{\"outlinewidth\":0,\"ticks\":\"\"}},\"type\":\"scatterpolar\"}],\"scatterpolargl\":[{\"marker\":{\"colorbar\":{\"outlinewidth\":0,\"ticks\":\"\"}},\"type\":\"scatterpolargl\"}],\"scatterternary\":[{\"marker\":{\"colorbar\":{\"outlinewidth\":0,\"ticks\":\"\"}},\"type\":\"scatterternary\"}],\"surface\":[{\"colorbar\":{\"outlinewidth\":0,\"ticks\":\"\"},\"colorscale\":[[0.0,\"#0d0887\"],[0.1111111111111111,\"#46039f\"],[0.2222222222222222,\"#7201a8\"],[0.3333333333333333,\"#9c179e\"],[0.4444444444444444,\"#bd3786\"],[0.5555555555555556,\"#d8576b\"],[0.6666666666666666,\"#ed7953\"],[0.7777777777777778,\"#fb9f3a\"],[0.8888888888888888,\"#fdca26\"],[1.0,\"#f0f921\"]],\"type\":\"surface\"}],\"table\":[{\"cells\":{\"fill\":{\"color\":\"#EBF0F8\"},\"line\":{\"color\":\"white\"}},\"header\":{\"fill\":{\"color\":\"#C8D4E3\"},\"line\":{\"color\":\"white\"}},\"type\":\"table\"}]},\"layout\":{\"annotationdefaults\":{\"arrowcolor\":\"#2a3f5f\",\"arrowhead\":0,\"arrowwidth\":1},\"autotypenumbers\":\"strict\",\"coloraxis\":{\"colorbar\":{\"outlinewidth\":0,\"ticks\":\"\"}},\"colorscale\":{\"diverging\":[[0,\"#8e0152\"],[0.1,\"#c51b7d\"],[0.2,\"#de77ae\"],[0.3,\"#f1b6da\"],[0.4,\"#fde0ef\"],[0.5,\"#f7f7f7\"],[0.6,\"#e6f5d0\"],[0.7,\"#b8e186\"],[0.8,\"#7fbc41\"],[0.9,\"#4d9221\"],[1,\"#276419\"]],\"sequential\":[[0.0,\"#0d0887\"],[0.1111111111111111,\"#46039f\"],[0.2222222222222222,\"#7201a8\"],[0.3333333333333333,\"#9c179e\"],[0.4444444444444444,\"#bd3786\"],[0.5555555555555556,\"#d8576b\"],[0.6666666666666666,\"#ed7953\"],[0.7777777777777778,\"#fb9f3a\"],[0.8888888888888888,\"#fdca26\"],[1.0,\"#f0f921\"]],\"sequentialminus\":[[0.0,\"#0d0887\"],[0.1111111111111111,\"#46039f\"],[0.2222222222222222,\"#7201a8\"],[0.3333333333333333,\"#9c179e\"],[0.4444444444444444,\"#bd3786\"],[0.5555555555555556,\"#d8576b\"],[0.6666666666666666,\"#ed7953\"],[0.7777777777777778,\"#fb9f3a\"],[0.8888888888888888,\"#fdca26\"],[1.0,\"#f0f921\"]]},\"colorway\":[\"#636efa\",\"#EF553B\",\"#00cc96\",\"#ab63fa\",\"#FFA15A\",\"#19d3f3\",\"#FF6692\",\"#B6E880\",\"#FF97FF\",\"#FECB52\"],\"font\":{\"color\":\"#2a3f5f\"},\"geo\":{\"bgcolor\":\"white\",\"lakecolor\":\"white\",\"landcolor\":\"#E5ECF6\",\"showlakes\":true,\"showland\":true,\"subunitcolor\":\"white\"},\"hoverlabel\":{\"align\":\"left\"},\"hovermode\":\"closest\",\"mapbox\":{\"style\":\"light\"},\"paper_bgcolor\":\"white\",\"plot_bgcolor\":\"#E5ECF6\",\"polar\":{\"angularaxis\":{\"gridcolor\":\"white\",\"linecolor\":\"white\",\"ticks\":\"\"},\"bgcolor\":\"#E5ECF6\",\"radialaxis\":{\"gridcolor\":\"white\",\"linecolor\":\"white\",\"ticks\":\"\"}},\"scene\":{\"xaxis\":{\"backgroundcolor\":\"#E5ECF6\",\"gridcolor\":\"white\",\"gridwidth\":2,\"linecolor\":\"white\",\"showbackground\":true,\"ticks\":\"\",\"zerolinecolor\":\"white\"},\"yaxis\":{\"backgroundcolor\":\"#E5ECF6\",\"gridcolor\":\"white\",\"gridwidth\":2,\"linecolor\":\"white\",\"showbackground\":true,\"ticks\":\"\",\"zerolinecolor\":\"white\"},\"zaxis\":{\"backgroundcolor\":\"#E5ECF6\",\"gridcolor\":\"white\",\"gridwidth\":2,\"linecolor\":\"white\",\"showbackground\":true,\"ticks\":\"\",\"zerolinecolor\":\"white\"}},\"shapedefaults\":{\"line\":{\"color\":\"#2a3f5f\"}},\"ternary\":{\"aaxis\":{\"gridcolor\":\"white\",\"linecolor\":\"white\",\"ticks\":\"\"},\"baxis\":{\"gridcolor\":\"white\",\"linecolor\":\"white\",\"ticks\":\"\"},\"bgcolor\":\"#E5ECF6\",\"caxis\":{\"gridcolor\":\"white\",\"linecolor\":\"white\",\"ticks\":\"\"}},\"title\":{\"x\":0.05},\"xaxis\":{\"automargin\":true,\"gridcolor\":\"white\",\"linecolor\":\"white\",\"ticks\":\"\",\"title\":{\"standoff\":15},\"zerolinecolor\":\"white\",\"zerolinewidth\":2},\"yaxis\":{\"automargin\":true,\"gridcolor\":\"white\",\"linecolor\":\"white\",\"ticks\":\"\",\"title\":{\"standoff\":15},\"zerolinecolor\":\"white\",\"zerolinewidth\":2}}}},                        {\"responsive\": true}                    ).then(function(){\n",
              "                            \n",
              "var gd = document.getElementById('e3e08f62-b980-44ec-9a0a-cee60888231e');\n",
              "var x = new MutationObserver(function (mutations, observer) {{\n",
              "        var display = window.getComputedStyle(gd).display;\n",
              "        if (!display || display === 'none') {{\n",
              "            console.log([gd, 'removed!']);\n",
              "            Plotly.purge(gd);\n",
              "            observer.disconnect();\n",
              "        }}\n",
              "}});\n",
              "\n",
              "// Listen for the removal of the full notebook cells\n",
              "var notebookContainer = gd.closest('#notebook-container');\n",
              "if (notebookContainer) {{\n",
              "    x.observe(notebookContainer, {childList: true});\n",
              "}}\n",
              "\n",
              "// Listen for the clearing of the current output cell\n",
              "var outputEl = gd.closest('.output');\n",
              "if (outputEl) {{\n",
              "    x.observe(outputEl, {childList: true});\n",
              "}}\n",
              "\n",
              "                        })                };                            </script>        </div>\n",
              "</body>\n",
              "</html>"
            ]
          },
          "metadata": {}
        }
      ]
    },
    {
      "cell_type": "code",
      "source": [
        "# pos = nx.spring_layout(graph)\n",
        "# nx.draw_networkx_nodes(graph, pos)\n",
        "# nx.draw_networkx_edges(graph, pos)\n",
        "# nx.draw_networkx_labels(graph, pos)"
      ],
      "metadata": {
        "id": "WX4TAS7-C515"
      },
      "execution_count": null,
      "outputs": []
    },
    {
      "cell_type": "code",
      "source": [
        "del graph"
      ],
      "metadata": {
        "id": "0UoKLEKWFD8w"
      },
      "execution_count": null,
      "outputs": []
    }
  ],
  "metadata": {
    "colab": {
      "provenance": [],
      "toc_visible": true,
      "include_colab_link": true
    },
    "kernelspec": {
      "display_name": "base",
      "language": "python",
      "name": "python3"
    },
    "language_info": {
      "codemirror_mode": {
        "name": "ipython",
        "version": 3
      },
      "file_extension": ".py",
      "mimetype": "text/x-python",
      "name": "python",
      "nbconvert_exporter": "python",
      "pygments_lexer": "ipython3",
      "version": "3.10.6"
    },
    "vscode": {
      "interpreter": {
        "hash": "261c81d9770836645c1875bc212c956f9f8ac154131031456fd81a36e7fefac3"
      }
    }
  },
  "nbformat": 4,
  "nbformat_minor": 0
}